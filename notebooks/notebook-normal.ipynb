{
 "cells": [
  {
   "cell_type": "code",
   "execution_count": 1,
   "metadata": {
    "colab": {
     "base_uri": "https://localhost:8080/"
    },
    "id": "i6_LijgtVYO_",
    "outputId": "3eedbe1a-8140-4461-a8a1-ba96861c0da3"
   },
   "outputs": [],
   "source": [
    "# !git clone https://github.com/khalooei/robustness-framework.git\n",
    "# %cd robustness-framework/"
   ]
  },
  {
   "cell_type": "code",
   "execution_count": 2,
   "metadata": {
    "colab": {
     "base_uri": "https://localhost:8080/",
     "height": 1000
    },
    "id": "b_B3Eq2CVujD",
    "outputId": "7f9991fd-f292-48a0-8aeb-d3fe5d438064",
    "scrolled": true
   },
   "outputs": [],
   "source": [
    "# !pip install lightning pytorch_lightning hydra-core lightning-bolts torchattacks torchmetrics mlxtend\n",
    "# !pip install git+https://github.com/fra31/auto-attack"
   ]
  },
  {
   "cell_type": "code",
   "execution_count": 1,
   "metadata": {
    "colab": {
     "base_uri": "https://localhost:8080/"
    },
    "id": "uGgpUzhuVZcp",
    "outputId": "599fc34a-0554-4e1c-abda-147a6665e560"
   },
   "outputs": [
    {
     "name": "stderr",
     "output_type": "stream",
     "text": [
      "/home/vru/workspace/ev/khpy3/lib/python3.10/site-packages/pl_bolts/models/self_supervised/amdim/amdim_module.py:34: UnderReviewWarning: The feature generate_power_seq is currently marked under review. The compatibility with other Lightning projects is not guaranteed and API may change at any time. The API and functionality may change without warning in future releases. More details: https://lightning-bolts.readthedocs.io/en/latest/stability.html\n",
      "  \"lr_options\": generate_power_seq(LEARNING_RATE_CIFAR, 11),\n",
      "/home/vru/workspace/ev/khpy3/lib/python3.10/site-packages/pl_bolts/models/self_supervised/amdim/amdim_module.py:92: UnderReviewWarning: The feature FeatureMapContrastiveTask is currently marked under review. The compatibility with other Lightning projects is not guaranteed and API may change at any time. The API and functionality may change without warning in future releases. More details: https://lightning-bolts.readthedocs.io/en/latest/stability.html\n",
      "  contrastive_task: Union[FeatureMapContrastiveTask] = FeatureMapContrastiveTask(\"01, 02, 11\"),\n",
      "/home/vru/workspace/ev/khpy3/lib/python3.10/site-packages/pl_bolts/losses/self_supervised_learning.py:228: UnderReviewWarning: The feature AmdimNCELoss is currently marked under review. The compatibility with other Lightning projects is not guaranteed and API may change at any time. The API and functionality may change without warning in future releases. More details: https://lightning-bolts.readthedocs.io/en/latest/stability.html\n",
      "  self.nce_loss = AmdimNCELoss(tclip)\n"
     ]
    }
   ],
   "source": [
    "from plmodel import *\n",
    "import omegaconf"
   ]
  },
  {
   "cell_type": "code",
   "execution_count": 2,
   "metadata": {
    "colab": {
     "base_uri": "https://localhost:8080/"
    },
    "id": "k3mg45SVXEYe",
    "outputId": "1d27aa56-928d-412a-dd20-b5715cb5ba34"
   },
   "outputs": [
    {
     "data": {
      "text/plain": [
       "{'dataset': 'CIFAR10', 'architecture': 'ResNet', 'devices': 'auto'}"
      ]
     },
     "execution_count": 2,
     "metadata": {},
     "output_type": "execute_result"
    }
   ],
   "source": [
    "cfg = omegaconf.OmegaConf.load('configs/training_cifar10.yaml')\n",
    "# cfg = omegaconf.OmegaConf.load('configs/training_mnist.yaml')\n",
    "\n",
    "cfg.global_params.devices='auto'  # you can modify it manually here\n",
    "cfg.training_params.epoch=200\n",
    "cfg.training_params.dataloader_workers=32\n",
    "cfg.training_params.type=\"normal\"\n",
    "cfg.global_params"
   ]
  },
  {
   "cell_type": "code",
   "execution_count": 3,
   "metadata": {
    "colab": {
     "base_uri": "https://localhost:8080/"
    },
    "id": "zt3iCdz9XQKn",
    "outputId": "3c0a1212-c7fe-45af-f4fa-051fbf275264"
   },
   "outputs": [
    {
     "name": "stdout",
     "output_type": "stream",
     "text": [
      "defaults:\n",
      "- _self_\n",
      "- override hydra/hydra_logging: disabled\n",
      "- override hydra/job_logging: disabled\n",
      "hydra:\n",
      "  output_subdir: null\n",
      "  run:\n",
      "    dir: .\n",
      "global_params:\n",
      "  dataset: CIFAR10\n",
      "  architecture: ResNet\n",
      "  devices: auto\n",
      "training_params:\n",
      "  epoch: 200\n",
      "  batch_size: 1024\n",
      "  dataloader_workers: 32\n",
      "  type: normal\n",
      "  note: ''\n",
      "  lr: 0.05\n",
      "adversarial_training_params:\n",
      "  eps: 0.03\n",
      "  name: PGD\n",
      "\n"
     ]
    }
   ],
   "source": [
    "print(OmegaConf.to_yaml(cfg))"
   ]
  },
  {
   "cell_type": "code",
   "execution_count": 4,
   "metadata": {
    "id": "MShdfUbkXak1"
   },
   "outputs": [],
   "source": [
    "# prepare name of current execution\n",
    "s_dir_name = f\"{cfg.global_params.dataset}-{cfg.global_params.architecture}-{cfg.training_params.type}_e{cfg.training_params.epoch}_note-{cfg.training_params.note}_\"\n",
    "if cfg.training_params.type == \"AT\":\n",
    "    s_dir_name+=f\"{cfg.adversarial_training_params.name}_eps{cfg.adversarial_training_params.eps}\"\n",
    "\n",
    "\n",
    "# configure logging on module level, redirect to file\n",
    "p = pathlib.Path(f'logs/{s_dir_name}')\n",
    "p.mkdir(parents=True, exist_ok=True)\n",
    "consolelogger = logging.getLogger(\"lightning.pytorch.core\")\n",
    "# consolelogger.addHandler(logging.FileHandler(f\"logs/{s_dir_name}/core.log\"))\n",
    "\n",
    "s_experiment_starting_time = f\"{time.strftime('%Y%m%d%H%M%S')}\""
   ]
  },
  {
   "cell_type": "code",
   "execution_count": 5,
   "metadata": {
    "id": "pwvCIEyHXk4-"
   },
   "outputs": [],
   "source": [
    "callbacks = [\n",
    "    # save_top_k -> save the best model   >>>  best model is max in val_acc\n",
    "    LearningRateMonitor(logging_interval=\"step\"),\n",
    "    ModelCheckpoint(save_top_k=2, mode=\"max\", monitor=\"clean_val_acc\"),  # saved best model based on Maximize the validation accuracy\n",
    "    CustomTimeCallback(),\n",
    "]"
   ]
  },
  {
   "cell_type": "code",
   "execution_count": 6,
   "metadata": {
    "colab": {
     "base_uri": "https://localhost:8080/"
    },
    "id": "XzC-jnhGVtUv",
    "outputId": "34cc1223-b4d8-47e8-9aaa-f84d07faf50c"
   },
   "outputs": [
    {
     "name": "stderr",
     "output_type": "stream",
     "text": [
      "/home/vru/workspace/ev/khpy3/lib/python3.10/site-packages/torchvision/models/_utils.py:208: UserWarning: The parameter 'pretrained' is deprecated since 0.13 and may be removed in the future, please use 'weights' instead.\n",
      "  warnings.warn(\n",
      "/home/vru/workspace/ev/khpy3/lib/python3.10/site-packages/torchvision/models/_utils.py:223: UserWarning: Arguments other than a weight enum or `None` for 'weights' are deprecated since 0.13 and may be removed in the future. The current behavior is equivalent to passing `weights=None`.\n",
      "  warnings.warn(msg)\n"
     ]
    }
   ],
   "source": [
    "# load model\n",
    "model = PLModel(cfg)"
   ]
  },
  {
   "cell_type": "code",
   "execution_count": 7,
   "metadata": {
    "id": "CNdQOMjkXUSz"
   },
   "outputs": [
    {
     "name": "stderr",
     "output_type": "stream",
     "text": [
      "/home/vru/workspace/ev/khpy3/lib/python3.10/site-packages/pytorch_lightning/trainer/connectors/accelerator_connector.py:478: Setting `Trainer(gpus=1)` is deprecated in v1.7 and will be removed in v2.0. Please use `Trainer(accelerator='gpu', devices=1)` instead.\n",
      "/home/vru/workspace/ev/khpy3/lib/python3.10/site-packages/pytorch_lightning/trainer/connectors/accelerator_connector.py:498: The flag `devices=auto` will be ignored, instead the device specific number 1 will be used\n"
     ]
    }
   ],
   "source": [
    "# Initiate our train/inference handler\n",
    "trainer = pl.Trainer(max_epochs=cfg.training_params.epoch,\n",
    "                    devices=cfg.global_params.devices,\n",
    "                    num_nodes=1,\n",
    "                    gpus=1,\n",
    "                    # strategy= \"ddp_notebook\", #ddp_notebook for jupyter and \"ddp\" for PC/server\n",
    "                    callbacks=callbacks,\n",
    "                    logger=[CSVLogger(save_dir=f'logs/{s_dir_name}/',version=s_experiment_starting_time),\n",
    "                            TensorBoardLogger(f'logs/{s_dir_name}/',version=s_experiment_starting_time),\n",
    "                            KhalooeiLoggingLogger(save_dir=f'logs/{s_dir_name}',version=s_experiment_starting_time),],\n",
    "                    accelerator='gpu', #reproducibility,\n",
    "                    deterministic=True, #reproducibility,\n",
    "                    inference_mode=False,\n",
    "                    # auto_lr_find = True # to find better lr\n",
    "                    )"
   ]
  },
  {
   "cell_type": "code",
   "execution_count": 8,
   "metadata": {
    "id": "nexca_sPY24c"
   },
   "outputs": [],
   "source": [
    "# tuning\n",
    "# from pytorch_lightning.tuner.tuning import Tuner\n",
    "# tuner = Tuner(trainer)\n",
    "# # lr_finder= tuner.lr_find(model, datamodule=model.train_dataloader())"
   ]
  },
  {
   "cell_type": "code",
   "execution_count": 9,
   "metadata": {
    "colab": {
     "base_uri": "https://localhost:8080/",
     "height": 1000,
     "referenced_widgets": [
      "d651a429c6544dc18278364150157687",
      "0a2313c4b0c44e4a9845f2b6e5421564",
      "e5e366ab572c45229af71307c34e871d",
      "f257d917d1534976bd61eeb01620285a",
      "d8ebb2910ad8477ba4e30538cf5d2946",
      "160b0054af4441e786f83c7fd1f72908",
      "af311951ba2f401a93c3e3dbcd1ae246",
      "5f6a338373124c2ea5030f3ad260554f",
      "3f5a7b101980496e8c885c6bb9452db6",
      "583f637b81624117bcc4c1d423f70180",
      "a442a78280c74a4bb83ace986075192f",
      "2c9e24827b464e4883dce5e0a2c50953",
      "e8ae08bc35c046a2a7292a5c12487932",
      "7466b26378f6410bb0a23de5a3b815d9",
      "11023a329fd04648b20e2d74bd6494a0",
      "8d9c8168dd6849a9a69c117be6b79fc7",
      "56d1301230e74eab85a0d0871ce81513",
      "8d1a6fce1d7e46b7a95f484e85327fd3",
      "60398f6c25514bb2b14e964ad96b51e7",
      "b72703a21af84b1cab0b93b52ef5fbdf",
      "f300f0b26c164085a4f08ac676b7733d",
      "63025e6b35f74b60a142fb50355d1755",
      "a7034cdf101343ae9a71cccc1ce7bb2f",
      "2cf095c88254427ebe89c4bdeeff0aec",
      "21ef7cf7ecba4a68bd2d2eaf57605e75",
      "d1e3fceb1f524d75ae1105276796145f",
      "2775dacbcc5047699a456895d0247133",
      "8a8c62bc988d4b6aa49cb990838b3042",
      "e3e444211223414881d96f08b5a6d9b3",
      "8463b8d1a4364eee809f2434d0bbad0c",
      "ab2ac2734dbe4d5b84b5be8254669e83",
      "5c6cd76c7034426d8cc9537c1123f419",
      "f1a24453e219448bac5850cd17271f6c",
      "d4697f438c9f4a51bd41e716f5b0e50b",
      "98d12d98b5aa40adbb2f186207f437cf",
      "851401d9f6124311ae66b45559d2cf82",
      "08ce38df82f24627a520f26e52e0aa9a",
      "c5405cd5460c4ebd8300dfc5ad8d0e1b",
      "262a3f60a5254adebfed0c6cf6692638",
      "8271afe90f2b4018a4cdd5af4e4f3b32",
      "87f53ead0f344265b25d212ccb5bcc79",
      "dfb6b0cd7d384c2aa28dc3b2a133e2be",
      "3adeeb29bc484a45ba2d21e71c4ed8b0",
      "b6dce6b5ebdc4328a38affb285913904",
      "485ed2d693744f44a85883bb3a757295",
      "d3fea870e89a4c688064425bfed95079",
      "7185a448c0e94a02a1614b7c0d19a393",
      "60b194bbb0c74909a7d562c936e8e0f7",
      "92b7dc5621a24349876f1c2e53a2cda4",
      "dacdb6a6508c40beaddd33e3a44e6921",
      "c3c4cf8304bd4a3a9221e32eb9742179",
      "bb90bd571a4747aa9066215717c9b5df",
      "5c79d12a7f714252a58b426d2ba25ff5",
      "31bfcb8929394ad0897b92662d0b16d1",
      "f3a3691ad6dd419e971616b875107033",
      "36b820e9364c4b878ab4323963483dfc",
      "74ddef69bd2040208e1fa8adccb0d127",
      "b14c1d34676642e0a4e16a16155dc1cb",
      "b813ab4dad184a85be0b140c5201ea7e",
      "b7974f4a6663428d9f32983445757424",
      "68c61ca00cfa4a7b95b43d14abeebde0",
      "e0ae429db29c46eaa80a08281a8feae8",
      "ea97d3e5c34946caaa6fe7ff899e8c02",
      "90818edd06ea411883188ab51a6a73c3",
      "81e4a458744048848b57c5d4f5b650e9",
      "caeffeb004584087b864db288f546085",
      "68dda685f65a4ebcbc3655b5810d4acf",
      "ebca2d4ab8fb46729b718f78edc3cf62",
      "aef049213f944298b42e450d3e6c66e2",
      "b6b8b25ebc2b4f8dabb56914d74a67c5",
      "8740560e1e0f4e5487fe7b11cb488f57",
      "18515b3ea04f474abc1786a7481d2c06",
      "d4ae996c7ee240fc8f2449e859443cab",
      "e888ce31da1647abbfe61d4855d5d725",
      "15d539ce0ead4c5d8b25af072575f878",
      "d9cdaf093b2b4f268b49b46efc18b47c",
      "8be474dd03d4433186637812a1030291",
      "bb30180f88bd45d2930691fe952b53a6",
      "8fe8f2a8fa9b482e84e459379f07e0cc",
      "4ead11aa65484f99931f89fa11385023",
      "d6e5492a6fca4d51986cd8d254bb4f39",
      "0c18ad7b0c9c4027aaaa28cc3ac5f485",
      "3efe612df81c4faf8cdb7d30a53af7d8",
      "4dec577cdc25459ab92cf86e44498418",
      "21954171ea5a4a168f0caede02d5fff6",
      "cb4eea16301346dd8575b38a11c9ad58",
      "0984213b9c6640bcba1a06cceed06906",
      "6e6018bfdc2d4c7dbfa974719e2e0095",
      "6f9d66a94f82442995b76d314d807657",
      "c6b820fbf04d4a3198652a47d389fdec",
      "3a6b03a974fd47e2a2c3a724f425154c",
      "cc84247d3d744f2e94d5008196c71d8c",
      "fc836cff85604fac876b151df28943e9",
      "2beedea1ab4d43829db9aa35bf48fc95",
      "520bbbdadc4245e2ab5e4ff08aca94ba",
      "604c9a89b8ba41fab6d0025e92d2a4d3",
      "a6bbfdfac328424b90c7da5fd2a9c69f",
      "840fe65eab434d3ba124dae1eee2a2da",
      "81220a5f37544e5082af0cbf9bf7c20c",
      "efcfeabb4dad487eb1c6b35b911b8a41",
      "1fd8a23bc21c4e68b8ba7863b393d8ce",
      "c2b353191a90442a9bdc629fc3869739",
      "ad7d33ad6bab4723b64094248756582c",
      "fa7e8af79c0e42fca678487abb38b44b",
      "4a47fb4e036d42dea8723210038f5eea",
      "f2acb4589d4840e8ba71664e09591848",
      "35e20acdb70c4dc1940dfd1f21b81e7f",
      "b07774513ad3419f9635021e8defa6df",
      "2f59ebe7b846449787eb095b4d89dba6",
      "5c0654bdb08d4e61ad46c20184737417",
      "2847f48470cf45eba8223dcabe8f0251",
      "181090bd44064a4194903ac1f91ebde5",
      "d8479f44c01b4b7b96ae82fec443df77",
      "ed6b162990ea4937a5e013cd2ee4641f",
      "142bd771699f40ce82e76a71f0031e21",
      "8cb77b0f6d6944dfad76c65bbe29cd9c",
      "e76f11b3e7ea4ec0b48e418ce5f18521",
      "9165c1d7946c4abf8dbc0682a644edca",
      "369ac5264c1844e681dc4e2f99c91d6f",
      "09aee179224b421a82efa9e442aec8e5",
      "cca3361430d74b5c88dc75ccda81b1c7",
      "a67d297f05024d95b8e904fe643ea570",
      "94345e776b5845a7a73429ac05050cd8",
      "1e4958b407e947c0ae64c0e18a92cb9f",
      "bb5b122185544003a6765ff89a4e29d9",
      "0fbc9ba286f44f6facb2ebc36801416e",
      "fcb8995b63e045a39f70b49eb56ee8fe",
      "ebf8df869acc4ac5822b77234bf1f441",
      "410cd921f20a4ebf82b094319b849103",
      "97dea354c886408496cba61f679046c2",
      "435da79a1a584acea6830b4babb665b5",
      "188df5f6e2ee4fedade20644d903b55f",
      "ba907a3b8fcf433e8f21021a1d450ff7",
      "0a508efaca8148ac820c44544ca19f4c",
      "4331232c250c44929a253fd43124e2a0",
      "70412a4ce3f446b38e7f3408b85d1b02",
      "e7ee4c62e32c48bcac40de4b37f9bc5b",
      "c07b0bb493054088876820432902df1c",
      "51761f927a0843cea9e8d07bf0cc48cf",
      "5d39732b9cf443c5ac841040016944e8",
      "1a2f585628f7451198dc18b9bde7c65d",
      "42fccd221eb7493f91f211a1b55347fc",
      "3269cbc45fd54206ac2a3506999d5845",
      "b871a5ac74884f219b9abf2038594341",
      "488d422f35e24f2fbb2db8f2c95131fb",
      "de97f0ea10e94cb88f1ffa6e6ce87193",
      "fac39d94dcf84d4fbfe62754e59f9964",
      "afb99fbd76a94fe5b7c3daf735c6a719",
      "7a9de47127b541aa936c3d17f098f626",
      "54cf1553d06f4593a43ee901c0d7e093",
      "054d2e354d5a439da77b3508d52c466a",
      "becd3594726149be975ce7d91df16d6f",
      "aa40217f94dd49ea9c7ea95770b15c7b",
      "7541addcbfa549ebaa7db0580b0fd32a",
      "36e90cd10ea74bc0ae94094206a710c6",
      "8bd93a2f76134f9eb0d250dafe74df26",
      "9002d0eaca914fa8995cbd25749b1637",
      "78aface7d9644dbca023155422e11158",
      "a54977aa433f4e648da842134961ad0d",
      "9abe613cd57045b18782cccbfe64db7e",
      "ed53c23815874fcdbe92a669ef33b451",
      "df97b6cafb904cf0a1e304d874b89fd9",
      "05bc55504fd04279bd443494f0eff031",
      "b97c7e209b4742888e8ec75e2455a738",
      "ee1aca3a2a0c481bb530c03c6fedb6f4",
      "9db930f240124c45af811c88577e8256",
      "b597bcca357f44859c2246b7671a6a04",
      "be8353ec9005403f8742915614bae9ff",
      "f5e0845a75914cb89d95b5ab6035b319",
      "3dc82a058ead468ebdd07434cd88b925",
      "2744923e6a6d405fa43cbd41fe97885c",
      "445832e3ff014572b85803a2733fd881",
      "9aa8a28ef53e404182fef0544659e59a",
      "bb9172cc2df94e7aad119aa54545b995",
      "7b153e8f11f848959a85045a5d20cdb8",
      "f6bf393447dc4037a27e2072c7a6663b",
      "89ea0c0995da40cd9977bb00776cbfca",
      "7a5dd8fc8c9e4149ad1d7e3236a31f54",
      "47d6882af5e2453193b78f8db7d5ff47",
      "44b01ff2dbfc4691bd98dc3a9fc12926",
      "4c101adde46c47abac317f30860a3d77",
      "0bf422696c7749e3936af5d7c80391d4",
      "1d59c2bcb89b4af38e49e4d85723f4ac",
      "cca5cca3c5db4dc98cf0e53c8310b7c9",
      "d9f7da1ab6464937a72ab924f003c38f",
      "6f4727c4dc5c496492b0e4fd78cd3335",
      "37ae61c001ab4ad68bf855a42367dbac",
      "1d44bb29153c4bec8f9c62935e248f8c",
      "9d8fa59c84cf4673accf7e69b22618a2",
      "2f7104dc1f2f4ac092ce798bc7037f14",
      "c40e792f6d984b1faf64d5f7b8ce9867",
      "fae811e58a094e0d97a7117eca6e9ef9",
      "d08f9eb285034206b6980e106461c8dc",
      "b3778578536d47398eec333301a1656d",
      "ed2a9fc7126140cabd1cbd63f1a2a4aa",
      "64c29f538a314c90ac37a29c2e3cc6e8",
      "61203387f9e944029934dd106381e8fa",
      "21942ec409ba40ff91141a24a880ac12",
      "ac42a0b1a5e94339a1c4ca35842162c1",
      "8e1bcc23177c4f4585949ba840ccf267",
      "c6bb6f0afa1d438b9ec265da6071cf87",
      "307182085a1844a4b76fd24caec8311c",
      "b01dfc83a2cd4d7e85eddb534c750358",
      "037cedb4fcb64c8ca8cf5e312acf1573",
      "8144f52a8763445ea97d36636e1a9688",
      "00eb0b62b54d40998f9ca67be99face9",
      "dcb19b4ae8e74aaaa67222183f3dde74",
      "25f3646687fe4d908b2fe116caf8ade9",
      "f59f7cc379aa49519e0f5c5a30e694f6",
      "9d050693aefd465a8523d5820463ff8d",
      "d9c03f7b0f8546e4a5ba31462ae8f058",
      "0d484fa1b9674d40ac601d1456f36c43",
      "b32ec35b4cb44ccc9fed7d1f0bb7f310",
      "10b919d8fd3f4b1b85e922301711ce14",
      "278a561711a04d508baac180aea024d7",
      "78dda0bb6fdc4dbc968a3da00ad19931",
      "5973b91452c5418aa8de813354eefac8",
      "3b7d2de2abf04e41b30e534fc4412ca4",
      "e1cb56d74633446a84d046b4da6e55be",
      "d0e5790f12d24e08acd5f2f23319c754",
      "e2b5cc3a954942f38f5f2cbeed498f4b",
      "1d5d2a96e2a34e38a2fa3783a9a7a293",
      "f89c03fb1a7145cbb20dbf9d453577a4",
      "fc8dc3ef34354edf959d9e43b54f1aab",
      "0b609d01881248e5a716fb1ebeb66bb2",
      "e6ca10a80e0847f9a9d2492a661549be",
      "11a9154c1d25432d96a56d3592d279b6",
      "a371022b96974e55a50d01c658daf414",
      "2d9a20b13db74414bc4dd71da45926cd",
      "6dda69ffd1374f5a93201337c8688cdd",
      "9061bf230c0843c8943271e5e9290075",
      "fc61f7d5541f4a5c8ec1a36820e18155",
      "eb3ee1bdf8fc47f6a161dd3c42d83d47",
      "2d02af2f77004d85b1a1610c3f155a55",
      "cacc9f6639cf4f88bd752c688e443ca0",
      "a6f32727bec14b29966e1961c3701653",
      "136f167903664cc1a305d6152567b3db",
      "9862f7a4450c4e1ba5fdf1099e9a912d",
      "2837a28759a146ffa10dbfc5e09b1542",
      "1d239b20a2e64e448520dbfd5d74b9de",
      "7cabd2a7872e4dc78ffb18cf031eabf2",
      "c40f78bf576c4357b7f83177d07993dc",
      "9c0c4cf101d24abf9a1ccd4a1b9b934d",
      "e488a559d63a4129b5fe907c946daf7d",
      "f9e9fd00891146e68a950c02a5207dde",
      "1fe29e4fbbbe4d839f6ed1f1a92ffd7e",
      "e5d32a28f44343cebdbfe27e74483c44",
      "1b2dc79d7d894e70b50fccd09f470324",
      "db63f3e56d8b45f7937b7f8a46f86666",
      "e5c70b4231754277839b684ddfbd4199",
      "80ae35e65d5b4625affa6a65ee75c18d",
      "68b259acfdac4dd89d68e000c80d396a",
      "9785b7feb6704d3e8cc948ab27ac5bbd",
      "d3b6b5df07c0407b8a576f70751cfb2a",
      "105f11418ff94cfda81a9cc08e1f6b94",
      "b17e497194a54cf4b0aa34c2d0a3df58",
      "dc15cf3a75be48fa936eae6acbab7223",
      "0735efb868c14ef7bfaa4a5eddb257b4",
      "97ee019aabc14c46aff31793386da94a",
      "7339266c19ef4dbf97479a72d9c3faf5",
      "e715f30a031e4bc992b4629bfa82067d",
      "d85cc207423c449ca34e40bdfba4247b",
      "5729f934cca3430da20bfdee16ffa94f",
      "59f5e01eb5b04fdb85c349de0c712d70",
      "4514e06938e14fbebd16774f678ca54f",
      "a8e1077232e94744b98f2fd7b40cbeb4",
      "e3e212dbea104caaa321f10edacde3e5",
      "32128e779857430fa70b233e71295001",
      "007f26abf1354f87930bf722aff8bf87",
      "058c247b8f58484fbdbdb802db506d91",
      "35b66df854204bee8a8c75a36a12472b",
      "902cd7a7fd834c28a33fab347a34cc53",
      "396f886ed69b47208fccad9250d6681b",
      "7072d8e7f6b04dfdb2b006a12c97f94f",
      "c90b1c4de8834f7a82e9a722da205028",
      "712ba0f8249c47d3a5eb5448a6781d07",
      "9e6157427ee6402597cc70beff7f9f90",
      "2d98f43066834e23b6256bfc87f74c93",
      "45051b0d7cb54d41900049d873dc2ca9",
      "d261940076e34b0c92ac370a0eeadee4",
      "eadd25346f584741a23cba5d2513aa39",
      "3361520d307c42b6b24dfca31d3d8652",
      "84332c7d4fdf46a3b6fb37e8e7e00c10",
      "ebcc8461d22343c3aeb2ca69bb81bef9",
      "1ab2ca7ae26c4448b8bf7721730f28b3",
      "ac17ce2c53c243c092e1a97f000d6af3",
      "6aee4639683d4a579c4f2ba03991ec4e",
      "0a8860818e0447a28d2bcd64dae62ad3",
      "5ca4caec5f1a4428862231e2f6eec8fe",
      "dc91e8e8fb824f1599f0347e8e7f9b9d",
      "b65aa2174ade49ad8dc45ba1bba6d6f3",
      "c8fce0d2ea164f4489364cfe6eccbdab",
      "2396ce11f45546c3b5266f42536218a6",
      "7f7bf836e30542fdb315458bc52f2d10",
      "4984f4df68c64b198b31337079c3ab77",
      "4e092e00349b4191be0557c623e9a0b7",
      "a8b53cbf045248b293ae9d12b08c4e67",
      "f28f148c85a2404bbc187b6a653cf65c",
      "7753d5ec99014c39817137f21035c35c",
      "9f41f7d773714bb89c61c6ab63e6d151",
      "3f066440360a4d3eb597a0c087063a58",
      "d6027b7003f94360969e9400527c0655",
      "432092c38d43424583880e68adf832d8",
      "ab10f338efc0445cbaed3d48be57d491",
      "bbce6064c48f43348db59440a007d158",
      "0f44254a8f54452ea7dd816f4114ad3d",
      "4dc435d24d964f17bada936961d5a8e7",
      "c86cc5bc4c954618aceb6926709f186c",
      "02872e0113a44679a5f25bbe766582fc",
      "78ea893118b345c8b2e527d26ede1b47",
      "dd45daf6d0b34921a9745de16c4e5067",
      "3ec7db261b9443b9a944ecf748c4d00d",
      "cfc41089669d4ddf9d6d199e23825b84",
      "41636b513d794b66b97953d870f7aa3b",
      "9e4adf54330b42d9b7d8ab86855a5816",
      "ce66eff2940442a389ebaea26f96ff2a",
      "0d69fdba92144c698aed1dca10ca08b5",
      "504782d3e66248298365e98c96779552",
      "5e7cd093b48d48b093f2593cf9951fc9",
      "080fe54ee021457a9e07c59c44799dda",
      "2c5446c18af14103836cf63e884a12c3",
      "b7e663349e9f4b0d8b54de3d77806560",
      "4e64be8a20a7410fbbea478c3054b073",
      "a105e07425c547ebba946df44f82b38c",
      "5430fd7786294b2bae6780f59de97c55",
      "f325755de3ef4efb8153bf254cf6bec4",
      "bd2eb0458d0c4e3db8b1d7be5190c519",
      "dad2db5397d14edb95fb72b317b99d4a",
      "ebec3ad832a74ba793d5396114414562",
      "513478c0ef7848e19831549c916d7f6a",
      "42c8b11940b54caa92d9902bf1dc779f",
      "7fabbff5bcc7417c80845b9e415ea8f9",
      "3924d096251042cd80400c0cfb8aaed3",
      "c20ce437955e44ddba6f9cbfd0f9aac5",
      "f8a0869905c74c9198274545c38ecf93",
      "699d689b31af4e73bfd1b146ccb0bada",
      "9b44d1d0e69f4a82b30d6935b058c218",
      "b8da8869c9e34c509132dbf5dd647016",
      "8b0705893062482ca766dc526da92ffb",
      "9b4d4d48f7c04d21a0a84838a45820a8",
      "86d41d7fe5724ba892008f61f53c6e13",
      "9c7d6c2429324a88afdc3e488468653d",
      "264265be1229421bbbb5ba6c7f2bffd1",
      "cb5bedd005704beaa9bd77e34af15251",
      "bfbce7155be8403db997b2add318172b",
      "079b5610cf60418d81fa1eab5dc7b45e",
      "4fa82e0b2d654278a5304c75e1eca148",
      "1d63d9388c5f441f9b91df610afe13d9",
      "a613e3362ed04989bf0f740f698c6891",
      "807f89e007ca47dcb02fa0a94cf7ea27",
      "dd976c23758d4bc5b5da65ed23abe9cc",
      "7a58d70f17cf42458869826bdafca282",
      "ad5efa0e2cd24c60a4d6744efa4a46c5",
      "5db005f71c964dafb6ecf7df649eaf88",
      "4e6dda7579504a4ea3b19b64030b8e47",
      "2161d6e0489c4c80a968935ef6b9ddaf",
      "69f02855c4bb44fd9bb0f78e0c02d532",
      "9a0f7629b33a4f35aa508b67a8fbcfad",
      "09033db4eb6540c6a73c50b736ce8436",
      "866291b404004bc79f515b9a1eb989ee",
      "0483e15cde6c4cc0901d012c6d0f52e8",
      "c571891a213244fca42e501fe02f1436",
      "5f1c39cff1364af28459fb3cf9c00db5",
      "0f9cc4f5e33c49f8b8d41d3b1465fa14",
      "0c4ac60c42ea4fdcb7b18df286ff924d",
      "56cd3bd243864e459dba83a9d6214ab8",
      "705336f7fd584aa6a3df900e4029934f",
      "7d46ef0c5a76417fbec2b29bba3fa631",
      "9c58f53da6ff4f54ac926dd8689c70ea",
      "27295385e2b34b77844a98c05e4d8c37",
      "69e868c6533946cfbbf15dccdbc44001",
      "d3626bfed1ac400b87d9e5e364fdc877",
      "e2d9d2dabe034061a80258e22039b099",
      "2f6adff66e7f4b3b9d162ab0a7ada470",
      "cf6d3f9e43954d93be86186b5bc7249d",
      "e4e2612bf85b42e6b2bb4ae0f3dcb8a8",
      "ecfa73ff58cf4b698dbad2c5376b07cc",
      "be9e26dcd2334ca1ada77ef2e23446b7",
      "ea60e48df6f54f1b94b1ececab0c2231",
      "a4c412113bf44b70a8328c25d454d492",
      "02cd023a22fa4921bcc76e73d25c412d",
      "7aff097a34044f05b59e50d629f8dce7",
      "243888612949479fbc6c3e82ec29a788",
      "af11ec99c3904b8ba12f451a7c44a6ce",
      "702ee5578b4b4d258c3a23a1b79fb52f",
      "56f01e9f72e1403c99cdd583e29867b4",
      "ffd642d9e6574d08b7b8730f7a679b4a",
      "56dacccf505d485698f343d9084709cf",
      "93ca0d69b1cc414f8b4701c55d5e8dc8",
      "4dddc35188764ae2bfd3778513eae444",
      "f5c7a06d3de84d79964dbd879322eec1",
      "8a40a94723414315a15614275eeba7f1",
      "a3a407591b7a4c2e9b29642e7d4a709a",
      "46eab2d398774620ae15262cb56778d8",
      "ba749fd3c2964638a216ed346fe49933",
      "06567b661bcc4c3e835092934132b30c",
      "a5b8b3595db34b5a82141c7c8b88db97",
      "7ae0e06033ba4914aed751589cca5c2b",
      "6c7e526bd68147279f4c21a75b399a27",
      "ec4e2e08514f4996a23677f88c7613e8",
      "24efeee2a24d4eccb5113e9355742d99",
      "8027525695e44dfbb657fa9412c05f3f",
      "da7ce98946334e5b8b4925ec1af1e53f",
      "7265cc93aefb4097af73177224f6d5f0",
      "232e3e5ae07d4e13b407b3ded4e2e987",
      "664d0b33100240048f3f5b7afaa8bf66",
      "b1ea99cfe60a4b4ebf463c573f44ef49",
      "5d8da6bebd154986b5345cbbfe497445",
      "d727063354404501a8e015c1f62aeab9",
      "b10448565e254741a676ad57f506bfae",
      "8ab2bae0518746b98f78b5592a492c71",
      "c90fc737e8bf442d84af58e92c43f23a",
      "0b8212def8d5439f91ff11cd4e063521",
      "304bdca2fcfa4dabbee323cfdf99aab5",
      "bc98826c8c8e4934871ef2f100eb5223",
      "de01e95e347a4b3096279fe6082ede2f",
      "8057ddac383445068fcf6290dd1e600a",
      "d4203403e1c94de2b71cc55f5ce24364",
      "979665aa10584ea485badcc4f6af4ef2",
      "fd2667a33b17440b85425ce823dffbf6",
      "9cd72cd676e64573beb7fb22fcb93a96",
      "900ba8049d8043eda8f572fc1ef728ec",
      "5bb6debaee234438b7dc6b7c02dd22d2",
      "29b52eb7f7064e43a6b75a68defc56d9",
      "b20f01117b0d4d178482e950b43f95e5",
      "1e93f3363ea446a7b7beb06f622da049",
      "f49ef09e48524f1c9454c7d1e30b325d",
      "664a5cdb43294addb053d5298b4f5dee",
      "977fa88c9feb42b8ae011a01b8f5d21e",
      "87e5eae2a9254fe4b09ff34259f25e5c",
      "ba9193183be041088b2f47784b5c6052",
      "a30270af9fda48f7a4353fcf5954160e",
      "06e612df7c9b4719a3425bd086f7d2de",
      "96438d1cc2844f9eb504fe172ed2ec96",
      "7c771cee2d6049d0bb7bbe0ff5c15a10",
      "46c84c6d971f46e68ba045bf8ace9033",
      "7cb2fb428f704c9ebf93b09dce8db5fb",
      "a4700e9444bd477d9e876b0fcc8890b1",
      "8a3d5e3ccac14401a7ea4ca101194e10",
      "0026e52d954344a4a7a607efce4c022c",
      "3a22dbf653514109835557f332c195f7",
      "9564e6c9866c445fa0af0cee834a518f",
      "e9a2d4d0c6d64a0c8112449522d4ceec",
      "61d541e877b2491e9ce2557877c38860",
      "250b4fa1927d44cb81fb805a5204b1b0",
      "84462449f80e4fa6a1079fccf9517651",
      "3b9c243ad89945af8241f6efe1c3f380",
      "84470516a4854c26bf716769ed416ec7",
      "f7addeb82ddc44fc96259286bcead7fc",
      "5c021060089045659f248646796fc038",
      "616ef236701842c8aa0d5ce2a801d413",
      "139fd700e5dc40e88b8ba521c05d036c",
      "efb25c55e9264aa9abcfe476a1590df1",
      "9c6e2a4202f84e92aceb77c3aea142bc",
      "43b96daf9dfa4299b6497fac08963fc2",
      "586038ca3d9d403e869452e5cf0bc9f7",
      "8b87b87273da4372a4f5f932c1f71b2b",
      "b388d5f4aa5e46cfbe1c318567070537",
      "24dc63d967df42f595083d1eadcef28b",
      "bb0a19cf4f6a40638d7380c4f6d2e549",
      "81f40352c0c6495f83ec023a98de7b33",
      "788a9771aaf74b958656b18c6dc94dfc",
      "fdff95febae14c56a5e6fce8ee2953a8",
      "37e47d9a4f4e4320823c3a05d7d5cf38",
      "367440c48a1b4ef6a38739d142170aa2",
      "d1a75db46ebd4e809bb1ddffca3e172f",
      "a5ac1afaec944e2a9aa925e27d2ea68b",
      "6023cb32bfba4047a90c897efb4a6b7c",
      "bb0cfebe559e48f5bcfc294a3b1d3fdf",
      "bfde4ea9c007493ca59caae5382f36bb",
      "976f94973aaa4be1ac50ca874db77306",
      "e135349c78f045938b297b03d76390b2",
      "d32d2b49193f407d88b59765ab577366",
      "5322e7357e054d778852908172f22940",
      "6331216d53ba4a2d82531f77de1c9d9d",
      "9f3e88c495d9415d852e74da0f8ee9fb",
      "ef7acba7ba8c46d59da947c182d91488",
      "8c6f46e2352a48468670989d9e574cdc",
      "44a26326a0e34ddea68ecb1f559a1824",
      "047e167fcc9a4240bd08e326128f89ed",
      "b66d3347ec12413985a16258457169e1",
      "6a0b929ceb804a648c418c22174ba2a0",
      "315d7c310a5f4f20b312c494240242b4",
      "73b8913d973d4984b8b6b7683ffdd745",
      "bf087adcd65e4e7e87d2ab938c359c50",
      "4c5a911ef7924db7a628ddf10a3543a6",
      "ab8f2de5f56342a79d08aecd5f26800e",
      "757af59d66dc4c06b8a105b262b903ba",
      "444d55e5b9754e7ab37bacc414d11a11",
      "cfd173b23e9d4a3b9e5cd91e7de132d7",
      "9500732d231d4403a90176e3160080fd",
      "0de62ef4c4954cceb3e1830289abc7d3",
      "9b0bad44b7a24852be8c4f040a405e4e",
      "8e612bcacfc0473f9b32bf2193fdb548",
      "cb6670d6ab34428d9d3c41103934271a",
      "5138cff406aa42ea809b299c3587e47d",
      "47964b01bc4644d9845295aa43e0f4b2",
      "5fb974108d3844869f5769fbc60ea809",
      "0ed40799f744427c9dd4bee3ef5e9c20",
      "426f819681c04d0b82bb2343113291d5",
      "fe967ffeedd24e1f89083bdd6bfb6ee7",
      "ede39778212a4305bcf11fac1f52a897",
      "c4b97e0f183647069cf520b1b2c13c11",
      "dbc7ee46311947c5b3539dc70867f657",
      "0c32b23f28694408af4783fa173045bf",
      "3e079da9e954457687bae442ff5d1034"
     ]
    },
    "id": "7qEKEUJTXsoe",
    "outputId": "d26abcce-32a2-45e1-c281-51aade06a6d3",
    "scrolled": true
   },
   "outputs": [
    {
     "name": "stdout",
     "output_type": "stream",
     "text": [
      "Files already downloaded and verified\n",
      "Files already downloaded and verified\n",
      "Files already downloaded and verified\n",
      "Files already downloaded and verified\n"
     ]
    },
    {
     "name": "stderr",
     "output_type": "stream",
     "text": [
      "LOCAL_RANK: 0 - CUDA_VISIBLE_DEVICES: [2]\n",
      "\n",
      "  | Name       | Type                | Params\n",
      "---------------------------------------------------\n",
      "0 | model      | _ResNet18_benchmark | 11.2 M\n",
      "1 | loss       | NLLLoss             | 0     \n",
      "2 | metric_acc | MulticlassAccuracy  | 0     \n",
      "3 | swa_model  | AveragedModel       | 11.2 M\n",
      "---------------------------------------------------\n",
      "22.3 M    Trainable params\n",
      "0         Non-trainable params\n",
      "22.3 M    Total params\n",
      "89.392    Total estimated model params size (MB)\n",
      "/home/vru/workspace/ev/khpy3/lib/python3.10/site-packages/lightning_fabric/loggers/csv_logs.py:183: Experiment logs directory logs/CIFAR10-ResNet-normal_e200_note-_/lightning_logs/20231125060956 exists and is not empty. Previous log files in this directory will be deleted when the new ones are saved!\n",
      "2023-11-25 06:10:11,609 [INFO]: Hyperparameters:\n",
      "2023-11-25 06:10:11,610 [INFO]: cfg: {'defaults': ['_self_', {'override hydra/hydra_logging': 'disabled'}, {'override hydra/job_logging': 'disabled'}], 'hydra': {'output_subdir': None, 'run': {'dir': '.'}}, 'global_params': {'dataset': 'CIFAR10', 'architecture': 'ResNet', 'devices': 'auto'}, 'training_params': {'epoch': 200, 'batch_size': 1024, 'dataloader_workers': 32, 'type': 'normal', 'note': '', 'lr': 0.05}, 'adversarial_training_params': {'eps': 0.03, 'name': 'PGD'}}\n"
     ]
    },
    {
     "data": {
      "application/vnd.jupyter.widget-view+json": {
       "model_id": "",
       "version_major": 2,
       "version_minor": 0
      },
      "text/plain": [
       "Sanity Checking: 0it [00:00, ?it/s]"
      ]
     },
     "metadata": {},
     "output_type": "display_data"
    },
    {
     "name": "stdout",
     "output_type": "stream",
     "text": [
      "Training is starting ...\n"
     ]
    },
    {
     "name": "stderr",
     "output_type": "stream",
     "text": [
      "/home/vru/workspace/ev/khpy3/lib/python3.10/site-packages/pytorch_lightning/trainer/trainer.py:1609: The number of training batches (44) is smaller than the logging interval Trainer(log_every_n_steps=50). Set a lower value for log_every_n_steps if you want to see logs for the training epoch.\n"
     ]
    },
    {
     "data": {
      "application/vnd.jupyter.widget-view+json": {
       "model_id": "209e825960964491baf761e9634fcd4c",
       "version_major": 2,
       "version_minor": 0
      },
      "text/plain": [
       "Training: 0it [00:00, ?it/s]"
      ]
     },
     "metadata": {},
     "output_type": "display_data"
    },
    {
     "data": {
      "application/vnd.jupyter.widget-view+json": {
       "model_id": "",
       "version_major": 2,
       "version_minor": 0
      },
      "text/plain": [
       "Validation: 0it [00:00, ?it/s]"
      ]
     },
     "metadata": {},
     "output_type": "display_data"
    },
    {
     "name": "stderr",
     "output_type": "stream",
     "text": [
      "2023-11-25 06:10:36,768 [INFO]: clean_val_acc: 0.22538025677204132\n",
      "2023-11-25 06:10:36,769 [INFO]: clean_val_loss: 2.071415901184082\n",
      "2023-11-25 06:10:36,772 [INFO]: epoch: 0\n",
      "2023-11-25 06:10:37,198 [INFO]: clean_train_acc_epoch: 0.20340000092983246\n",
      "2023-11-25 06:10:37,202 [INFO]: clean_train_loss_epoch: 2.124547243118286\n",
      "2023-11-25 06:10:37,204 [INFO]: epoch: 0\n",
      "2023-11-25 06:10:40,889 [INFO]: lr-SGD: 0.004000000078014612\n",
      "2023-11-25 06:10:41,318 [INFO]: clean_train_acc_step: 0.29296875\n",
      "2023-11-25 06:10:41,319 [INFO]: clean_train_loss_step: 1.8453006744384766\n",
      "2023-11-25 06:10:41,322 [INFO]: epoch: 1\n"
     ]
    },
    {
     "data": {
      "application/vnd.jupyter.widget-view+json": {
       "model_id": "",
       "version_major": 2,
       "version_minor": 0
      },
      "text/plain": [
       "Validation: 0it [00:00, ?it/s]"
      ]
     },
     "metadata": {},
     "output_type": "display_data"
    },
    {
     "name": "stderr",
     "output_type": "stream",
     "text": [
      "2023-11-25 06:11:00,175 [INFO]: clean_val_acc: 0.36444100737571716\n",
      "2023-11-25 06:11:00,177 [INFO]: clean_val_loss: 1.6926538944244385\n",
      "2023-11-25 06:11:00,178 [INFO]: epoch: 1\n",
      "2023-11-25 06:11:00,664 [INFO]: clean_train_acc_epoch: 0.34102222323417664\n",
      "2023-11-25 06:11:00,666 [INFO]: clean_train_loss_epoch: 1.7572407722473145\n",
      "2023-11-25 06:11:00,667 [INFO]: epoch: 1\n",
      "2023-11-25 06:11:07,053 [INFO]: lr-SGD: 0.0040000003184594846\n",
      "2023-11-25 06:11:07,504 [INFO]: clean_train_acc_step: 0.4091796875\n",
      "2023-11-25 06:11:07,506 [INFO]: clean_train_loss_step: 1.6097092628479004\n",
      "2023-11-25 06:11:07,507 [INFO]: epoch: 2\n"
     ]
    },
    {
     "data": {
      "application/vnd.jupyter.widget-view+json": {
       "model_id": "",
       "version_major": 2,
       "version_minor": 0
      },
      "text/plain": [
       "Validation: 0it [00:00, ?it/s]"
      ]
     },
     "metadata": {},
     "output_type": "display_data"
    },
    {
     "name": "stderr",
     "output_type": "stream",
     "text": [
      "2023-11-25 06:11:23,694 [INFO]: clean_val_acc: 0.37136682868003845\n",
      "2023-11-25 06:11:23,696 [INFO]: clean_val_loss: 1.7718191146850586\n",
      "2023-11-25 06:11:23,698 [INFO]: epoch: 2\n",
      "2023-11-25 06:11:24,141 [INFO]: clean_train_acc_epoch: 0.4135555624961853\n",
      "2023-11-25 06:11:24,143 [INFO]: clean_train_loss_epoch: 1.5716168880462646\n",
      "2023-11-25 06:11:24,145 [INFO]: epoch: 2\n",
      "2023-11-25 06:11:33,229 [INFO]: lr-SGD: 0.004000000721367081\n",
      "2023-11-25 06:11:33,683 [INFO]: clean_train_acc_step: 0.462890625\n",
      "2023-11-25 06:11:33,685 [INFO]: clean_train_loss_step: 1.4790565967559814\n",
      "2023-11-25 06:11:33,687 [INFO]: epoch: 3\n"
     ]
    },
    {
     "data": {
      "application/vnd.jupyter.widget-view+json": {
       "model_id": "",
       "version_major": 2,
       "version_minor": 0
      },
      "text/plain": [
       "Validation: 0it [00:00, ?it/s]"
      ]
     },
     "metadata": {},
     "output_type": "display_data"
    },
    {
     "name": "stderr",
     "output_type": "stream",
     "text": [
      "2023-11-25 06:11:47,275 [INFO]: clean_val_acc: 0.47027620673179626\n",
      "2023-11-25 06:11:47,277 [INFO]: clean_val_loss: 1.4494755268096924\n",
      "2023-11-25 06:11:47,278 [INFO]: epoch: 3\n",
      "2023-11-25 06:11:47,779 [INFO]: clean_train_acc_epoch: 0.46506667137145996\n",
      "2023-11-25 06:11:47,781 [INFO]: clean_train_loss_epoch: 1.4482483863830566\n",
      "2023-11-25 06:11:47,782 [INFO]: epoch: 3\n",
      "2023-11-25 06:11:59,393 [INFO]: lr-SGD: 0.004000001286737415\n",
      "2023-11-25 06:11:59,845 [INFO]: clean_train_acc_step: 0.48046875\n",
      "2023-11-25 06:11:59,846 [INFO]: clean_train_loss_step: 1.4055922031402588\n",
      "2023-11-25 06:11:59,847 [INFO]: epoch: 4\n"
     ]
    },
    {
     "data": {
      "application/vnd.jupyter.widget-view+json": {
       "model_id": "",
       "version_major": 2,
       "version_minor": 0
      },
      "text/plain": [
       "Validation: 0it [00:00, ?it/s]"
      ]
     },
     "metadata": {},
     "output_type": "display_data"
    },
    {
     "name": "stderr",
     "output_type": "stream",
     "text": [
      "2023-11-25 06:12:10,883 [INFO]: clean_val_acc: 0.48023539781570435\n",
      "2023-11-25 06:12:10,885 [INFO]: clean_val_loss: 1.4133449792861938\n",
      "2023-11-25 06:12:10,887 [INFO]: epoch: 4\n",
      "2023-11-25 06:12:11,390 [INFO]: clean_train_acc_epoch: 0.5038889050483704\n",
      "2023-11-25 06:12:11,392 [INFO]: clean_train_loss_epoch: 1.3497424125671387\n",
      "2023-11-25 06:12:11,393 [INFO]: epoch: 4\n",
      "2023-11-25 06:12:26,011 [INFO]: lr-SGD: 0.004000002014570514\n",
      "2023-11-25 06:12:26,462 [INFO]: clean_train_acc_step: 0.564453125\n",
      "2023-11-25 06:12:26,463 [INFO]: clean_train_loss_step: 1.2191864252090454\n",
      "2023-11-25 06:12:26,465 [INFO]: epoch: 5\n"
     ]
    },
    {
     "data": {
      "application/vnd.jupyter.widget-view+json": {
       "model_id": "",
       "version_major": 2,
       "version_minor": 0
      },
      "text/plain": [
       "Validation: 0it [00:00, ?it/s]"
      ]
     },
     "metadata": {},
     "output_type": "display_data"
    },
    {
     "name": "stderr",
     "output_type": "stream",
     "text": [
      "2023-11-25 06:12:35,040 [INFO]: clean_val_acc: 0.5329006910324097\n",
      "2023-11-25 06:12:35,043 [INFO]: clean_val_loss: 1.3073787689208984\n",
      "2023-11-25 06:12:35,044 [INFO]: epoch: 5\n",
      "2023-11-25 06:12:35,592 [INFO]: clean_train_acc_epoch: 0.540066659450531\n",
      "2023-11-25 06:12:35,594 [INFO]: clean_train_loss_epoch: 1.2603249549865723\n",
      "2023-11-25 06:12:35,595 [INFO]: epoch: 5\n",
      "2023-11-25 06:12:52,812 [INFO]: lr-SGD: 0.004000002904866337\n",
      "2023-11-25 06:12:53,263 [INFO]: clean_train_acc_step: 0.5859375\n",
      "2023-11-25 06:12:53,265 [INFO]: clean_train_loss_step: 1.1170272827148438\n",
      "2023-11-25 06:12:53,265 [INFO]: epoch: 6\n"
     ]
    },
    {
     "data": {
      "application/vnd.jupyter.widget-view+json": {
       "model_id": "",
       "version_major": 2,
       "version_minor": 0
      },
      "text/plain": [
       "Validation: 0it [00:00, ?it/s]"
      ]
     },
     "metadata": {},
     "output_type": "display_data"
    },
    {
     "name": "stderr",
     "output_type": "stream",
     "text": [
      "2023-11-25 06:12:59,285 [INFO]: clean_val_acc: 0.5461145043373108\n",
      "2023-11-25 06:12:59,287 [INFO]: clean_val_loss: 1.2355860471725464\n",
      "2023-11-25 06:12:59,289 [INFO]: epoch: 6\n",
      "2023-11-25 06:12:59,806 [INFO]: clean_train_acc_epoch: 0.5733333230018616\n",
      "2023-11-25 06:12:59,808 [INFO]: clean_train_loss_epoch: 1.1792033910751343\n",
      "2023-11-25 06:12:59,809 [INFO]: epoch: 6\n",
      "2023-11-25 06:13:19,342 [INFO]: lr-SGD: 0.004000003957624884\n",
      "2023-11-25 06:13:19,791 [INFO]: clean_train_acc_step: 0.61328125\n",
      "2023-11-25 06:13:19,793 [INFO]: clean_train_loss_step: 1.0661286115646362\n",
      "2023-11-25 06:13:19,794 [INFO]: epoch: 7\n"
     ]
    },
    {
     "data": {
      "application/vnd.jupyter.widget-view+json": {
       "model_id": "",
       "version_major": 2,
       "version_minor": 0
      },
      "text/plain": [
       "Validation: 0it [00:00, ?it/s]"
      ]
     },
     "metadata": {},
     "output_type": "display_data"
    },
    {
     "name": "stderr",
     "output_type": "stream",
     "text": [
      "2023-11-25 06:13:23,117 [INFO]: clean_val_acc: 0.5219234228134155\n",
      "2023-11-25 06:13:23,119 [INFO]: clean_val_loss: 1.3554092645645142\n",
      "2023-11-25 06:13:23,120 [INFO]: epoch: 7\n",
      "2023-11-25 06:13:23,304 [INFO]: clean_train_acc_epoch: 0.6021333336830139\n",
      "2023-11-25 06:13:23,307 [INFO]: clean_train_loss_epoch: 1.1099008321762085\n",
      "2023-11-25 06:13:23,310 [INFO]: epoch: 7\n"
     ]
    },
    {
     "data": {
      "application/vnd.jupyter.widget-view+json": {
       "model_id": "",
       "version_major": 2,
       "version_minor": 0
      },
      "text/plain": [
       "Validation: 0it [00:00, ?it/s]"
      ]
     },
     "metadata": {},
     "output_type": "display_data"
    },
    {
     "name": "stderr",
     "output_type": "stream",
     "text": [
      "2023-11-25 06:13:47,149 [INFO]: clean_val_acc: 0.596747100353241\n",
      "2023-11-25 06:13:47,151 [INFO]: clean_val_loss: 1.1372356414794922\n",
      "2023-11-25 06:13:47,153 [INFO]: epoch: 8\n",
      "2023-11-25 06:13:47,750 [INFO]: clean_train_acc_epoch: 0.6275555491447449\n",
      "2023-11-25 06:13:47,751 [INFO]: clean_train_loss_epoch: 1.0367001295089722\n",
      "2023-11-25 06:13:47,753 [INFO]: epoch: 8\n",
      "2023-11-25 06:13:50,857 [INFO]: lr-SGD: 0.004000005172846183\n",
      "2023-11-25 06:13:51,310 [INFO]: clean_train_acc_step: 0.6552734375\n",
      "2023-11-25 06:13:51,313 [INFO]: clean_train_loss_step: 0.9539291262626648\n",
      "2023-11-25 06:13:51,314 [INFO]: epoch: 9\n"
     ]
    },
    {
     "data": {
      "application/vnd.jupyter.widget-view+json": {
       "model_id": "",
       "version_major": 2,
       "version_minor": 0
      },
      "text/plain": [
       "Validation: 0it [00:00, ?it/s]"
      ]
     },
     "metadata": {},
     "output_type": "display_data"
    },
    {
     "name": "stderr",
     "output_type": "stream",
     "text": [
      "2023-11-25 06:14:11,039 [INFO]: clean_val_acc: 0.5952364206314087\n",
      "2023-11-25 06:14:11,041 [INFO]: clean_val_loss: 1.1449609994888306\n",
      "2023-11-25 06:14:11,042 [INFO]: epoch: 9\n",
      "2023-11-25 06:14:11,545 [INFO]: clean_train_acc_epoch: 0.646399974822998\n",
      "2023-11-25 06:14:11,547 [INFO]: clean_train_loss_epoch: 0.9859433770179749\n",
      "2023-11-25 06:14:11,548 [INFO]: epoch: 9\n",
      "2023-11-25 06:14:17,066 [INFO]: lr-SGD: 0.004000006550530191\n",
      "2023-11-25 06:14:17,516 [INFO]: clean_train_acc_step: 0.6767578125\n",
      "2023-11-25 06:14:17,517 [INFO]: clean_train_loss_step: 0.9112483263015747\n",
      "2023-11-25 06:14:17,518 [INFO]: epoch: 10\n"
     ]
    },
    {
     "data": {
      "application/vnd.jupyter.widget-view+json": {
       "model_id": "",
       "version_major": 2,
       "version_minor": 0
      },
      "text/plain": [
       "Validation: 0it [00:00, ?it/s]"
      ]
     },
     "metadata": {},
     "output_type": "display_data"
    },
    {
     "name": "stderr",
     "output_type": "stream",
     "text": [
      "2023-11-25 06:14:34,804 [INFO]: clean_val_acc: 0.6290358304977417\n",
      "2023-11-25 06:14:34,807 [INFO]: clean_val_loss: 1.0239629745483398\n",
      "2023-11-25 06:14:34,809 [INFO]: epoch: 10\n",
      "2023-11-25 06:14:35,342 [INFO]: clean_train_acc_epoch: 0.664555549621582\n",
      "2023-11-25 06:14:35,344 [INFO]: clean_train_loss_epoch: 0.9366099238395691\n",
      "2023-11-25 06:14:35,345 [INFO]: epoch: 10\n",
      "2023-11-25 06:14:43,889 [INFO]: lr-SGD: 0.0040000080906769375\n",
      "2023-11-25 06:14:44,361 [INFO]: clean_train_acc_step: 0.6611328125\n",
      "2023-11-25 06:14:44,363 [INFO]: clean_train_loss_step: 0.9264945983886719\n",
      "2023-11-25 06:14:44,365 [INFO]: epoch: 11\n"
     ]
    },
    {
     "data": {
      "application/vnd.jupyter.widget-view+json": {
       "model_id": "",
       "version_major": 2,
       "version_minor": 0
      },
      "text/plain": [
       "Validation: 0it [00:00, ?it/s]"
      ]
     },
     "metadata": {},
     "output_type": "display_data"
    },
    {
     "name": "stderr",
     "output_type": "stream",
     "text": [
      "2023-11-25 06:14:58,848 [INFO]: clean_val_acc: 0.6250120997428894\n",
      "2023-11-25 06:14:58,850 [INFO]: clean_val_loss: 1.0483481884002686\n",
      "2023-11-25 06:14:58,851 [INFO]: epoch: 11\n",
      "2023-11-25 06:14:59,346 [INFO]: clean_train_acc_epoch: 0.6779999732971191\n",
      "2023-11-25 06:14:59,348 [INFO]: clean_train_loss_epoch: 0.9011642336845398\n",
      "2023-11-25 06:14:59,349 [INFO]: epoch: 11\n",
      "2023-11-25 06:15:10,492 [INFO]: lr-SGD: 0.00400000979328638\n",
      "2023-11-25 06:15:10,942 [INFO]: clean_train_acc_step: 0.68359375\n",
      "2023-11-25 06:15:10,944 [INFO]: clean_train_loss_step: 0.8918535709381104\n",
      "2023-11-25 06:15:10,945 [INFO]: epoch: 12\n"
     ]
    },
    {
     "data": {
      "application/vnd.jupyter.widget-view+json": {
       "model_id": "",
       "version_major": 2,
       "version_minor": 0
      },
      "text/plain": [
       "Validation: 0it [00:00, ?it/s]"
      ]
     },
     "metadata": {},
     "output_type": "display_data"
    },
    {
     "name": "stderr",
     "output_type": "stream",
     "text": [
      "2023-11-25 06:15:23,117 [INFO]: clean_val_acc: 0.6508175134658813\n",
      "2023-11-25 06:15:23,119 [INFO]: clean_val_loss: 0.9811019897460938\n",
      "2023-11-25 06:15:23,121 [INFO]: epoch: 12\n",
      "2023-11-25 06:15:23,573 [INFO]: clean_train_acc_epoch: 0.692288875579834\n",
      "2023-11-25 06:15:23,574 [INFO]: clean_train_loss_epoch: 0.8598220348358154\n",
      "2023-11-25 06:15:23,576 [INFO]: epoch: 12\n",
      "2023-11-25 06:15:37,178 [INFO]: lr-SGD: 0.004000011658358546\n",
      "2023-11-25 06:15:37,609 [INFO]: clean_train_acc_step: 0.693359375\n",
      "2023-11-25 06:15:37,611 [INFO]: clean_train_loss_step: 0.8827579021453857\n",
      "2023-11-25 06:15:37,613 [INFO]: epoch: 13\n"
     ]
    },
    {
     "data": {
      "application/vnd.jupyter.widget-view+json": {
       "model_id": "",
       "version_major": 2,
       "version_minor": 0
      },
      "text/plain": [
       "Validation: 0it [00:00, ?it/s]"
      ]
     },
     "metadata": {},
     "output_type": "display_data"
    },
    {
     "name": "stderr",
     "output_type": "stream",
     "text": [
      "2023-11-25 06:15:46,837 [INFO]: clean_val_acc: 0.6528363227844238\n",
      "2023-11-25 06:15:46,838 [INFO]: clean_val_loss: 0.9792987704277039\n",
      "2023-11-25 06:15:46,839 [INFO]: epoch: 13\n",
      "2023-11-25 06:15:47,303 [INFO]: clean_train_acc_epoch: 0.7090666890144348\n",
      "2023-11-25 06:15:47,305 [INFO]: clean_train_loss_epoch: 0.8206659555435181\n",
      "2023-11-25 06:15:47,306 [INFO]: epoch: 13\n",
      "2023-11-25 06:16:03,390 [INFO]: lr-SGD: 0.004000013685893422\n",
      "2023-11-25 06:16:03,844 [INFO]: clean_train_acc_step: 0.728515625\n",
      "2023-11-25 06:16:03,846 [INFO]: clean_train_loss_step: 0.7637490630149841\n",
      "2023-11-25 06:16:03,847 [INFO]: epoch: 14\n"
     ]
    },
    {
     "data": {
      "application/vnd.jupyter.widget-view+json": {
       "model_id": "",
       "version_major": 2,
       "version_minor": 0
      },
      "text/plain": [
       "Validation: 0it [00:00, ?it/s]"
      ]
     },
     "metadata": {},
     "output_type": "display_data"
    },
    {
     "name": "stderr",
     "output_type": "stream",
     "text": [
      "2023-11-25 06:16:10,521 [INFO]: clean_val_acc: 0.6428235769271851\n",
      "2023-11-25 06:16:10,523 [INFO]: clean_val_loss: 1.0008156299591064\n",
      "2023-11-25 06:16:10,524 [INFO]: epoch: 14\n",
      "2023-11-25 06:16:10,699 [INFO]: clean_train_acc_epoch: 0.7235555648803711\n",
      "2023-11-25 06:16:10,701 [INFO]: clean_train_loss_epoch: 0.7851172089576721\n",
      "2023-11-25 06:16:10,702 [INFO]: epoch: 14\n",
      "2023-11-25 06:16:29,598 [INFO]: lr-SGD: 0.00400001587589098\n",
      "2023-11-25 06:16:30,056 [INFO]: clean_train_acc_step: 0.72265625\n",
      "2023-11-25 06:16:30,057 [INFO]: clean_train_loss_step: 0.758026123046875\n",
      "2023-11-25 06:16:30,059 [INFO]: epoch: 15\n"
     ]
    },
    {
     "data": {
      "application/vnd.jupyter.widget-view+json": {
       "model_id": "",
       "version_major": 2,
       "version_minor": 0
      },
      "text/plain": [
       "Validation: 0it [00:00, ?it/s]"
      ]
     },
     "metadata": {},
     "output_type": "display_data"
    },
    {
     "name": "stderr",
     "output_type": "stream",
     "text": [
      "2023-11-25 06:16:34,001 [INFO]: clean_val_acc: 0.5776220560073853\n",
      "2023-11-25 06:16:34,002 [INFO]: clean_val_loss: 1.312018632888794\n",
      "2023-11-25 06:16:34,003 [INFO]: epoch: 15\n",
      "2023-11-25 06:16:34,182 [INFO]: clean_train_acc_epoch: 0.7308222055435181\n",
      "2023-11-25 06:16:34,185 [INFO]: clean_train_loss_epoch: 0.7578657269477844\n",
      "2023-11-25 06:16:34,186 [INFO]: epoch: 15\n"
     ]
    },
    {
     "data": {
      "application/vnd.jupyter.widget-view+json": {
       "model_id": "",
       "version_major": 2,
       "version_minor": 0
      },
      "text/plain": [
       "Validation: 0it [00:00, ?it/s]"
      ]
     },
     "metadata": {},
     "output_type": "display_data"
    },
    {
     "name": "stderr",
     "output_type": "stream",
     "text": [
      "2023-11-25 06:16:57,773 [INFO]: clean_val_acc: 0.6638516187667847\n",
      "2023-11-25 06:16:57,776 [INFO]: clean_val_loss: 0.9662631750106812\n",
      "2023-11-25 06:16:57,778 [INFO]: epoch: 16\n",
      "2023-11-25 06:16:58,228 [INFO]: clean_train_acc_epoch: 0.7430444359779358\n",
      "2023-11-25 06:16:58,230 [INFO]: clean_train_loss_epoch: 0.7247639298439026\n",
      "2023-11-25 06:16:58,230 [INFO]: epoch: 16\n",
      "2023-11-25 06:17:00,419 [INFO]: lr-SGD: 0.004000018228351249\n",
      "2023-11-25 06:17:00,869 [INFO]: clean_train_acc_step: 0.7431640625\n",
      "2023-11-25 06:17:00,872 [INFO]: clean_train_loss_step: 0.6991393566131592\n",
      "2023-11-25 06:17:00,874 [INFO]: epoch: 17\n"
     ]
    },
    {
     "data": {
      "application/vnd.jupyter.widget-view+json": {
       "model_id": "",
       "version_major": 2,
       "version_minor": 0
      },
      "text/plain": [
       "Validation: 0it [00:00, ?it/s]"
      ]
     },
     "metadata": {},
     "output_type": "display_data"
    },
    {
     "name": "stderr",
     "output_type": "stream",
     "text": [
      "2023-11-25 06:17:22,266 [INFO]: clean_val_acc: 0.6367308497428894\n",
      "2023-11-25 06:17:22,270 [INFO]: clean_val_loss: 1.101690649986267\n",
      "2023-11-25 06:17:22,271 [INFO]: epoch: 17\n",
      "2023-11-25 06:17:22,446 [INFO]: clean_train_acc_epoch: 0.7547777891159058\n",
      "2023-11-25 06:17:22,447 [INFO]: clean_train_loss_epoch: 0.693923830986023\n",
      "2023-11-25 06:17:22,448 [INFO]: epoch: 17\n",
      "2023-11-25 06:17:27,943 [INFO]: lr-SGD: 0.004000020743274185\n",
      "2023-11-25 06:17:28,394 [INFO]: clean_train_acc_step: 0.7685546875\n",
      "2023-11-25 06:17:28,396 [INFO]: clean_train_loss_step: 0.646141767501831\n",
      "2023-11-25 06:17:28,397 [INFO]: epoch: 18\n"
     ]
    },
    {
     "data": {
      "application/vnd.jupyter.widget-view+json": {
       "model_id": "",
       "version_major": 2,
       "version_minor": 0
      },
      "text/plain": [
       "Validation: 0it [00:00, ?it/s]"
      ]
     },
     "metadata": {},
     "output_type": "display_data"
    },
    {
     "name": "stderr",
     "output_type": "stream",
     "text": [
      "2023-11-25 06:17:46,529 [INFO]: clean_val_acc: 0.6261459589004517\n",
      "2023-11-25 06:17:46,532 [INFO]: clean_val_loss: 1.1589726209640503\n",
      "2023-11-25 06:17:46,534 [INFO]: epoch: 18\n",
      "2023-11-25 06:17:46,711 [INFO]: clean_train_acc_epoch: 0.7641777992248535\n",
      "2023-11-25 06:17:46,712 [INFO]: clean_train_loss_epoch: 0.6697044372558594\n",
      "2023-11-25 06:17:46,714 [INFO]: epoch: 18\n",
      "2023-11-25 06:17:54,207 [INFO]: lr-SGD: 0.004000023420659804\n",
      "2023-11-25 06:17:54,660 [INFO]: clean_train_acc_step: 0.7744140625\n",
      "2023-11-25 06:17:54,662 [INFO]: clean_train_loss_step: 0.6271058917045593\n",
      "2023-11-25 06:17:54,664 [INFO]: epoch: 19\n"
     ]
    },
    {
     "data": {
      "application/vnd.jupyter.widget-view+json": {
       "model_id": "",
       "version_major": 2,
       "version_minor": 0
      },
      "text/plain": [
       "Validation: 0it [00:00, ?it/s]"
      ]
     },
     "metadata": {},
     "output_type": "display_data"
    },
    {
     "name": "stderr",
     "output_type": "stream",
     "text": [
      "2023-11-25 06:18:10,628 [INFO]: clean_val_acc: 0.6551144123077393\n",
      "2023-11-25 06:18:10,630 [INFO]: clean_val_loss: 1.0416702032089233\n",
      "2023-11-25 06:18:10,631 [INFO]: epoch: 19\n",
      "2023-11-25 06:18:11,271 [INFO]: clean_train_acc_epoch: 0.7744666934013367\n",
      "2023-11-25 06:18:11,278 [INFO]: clean_train_loss_epoch: 0.6424445509910583\n",
      "2023-11-25 06:18:11,281 [INFO]: epoch: 19\n",
      "2023-11-25 06:18:22,347 [INFO]: lr-SGD: 0.004000026260508077\n",
      "2023-11-25 06:18:22,818 [INFO]: clean_train_acc_step: 0.77734375\n",
      "2023-11-25 06:18:22,820 [INFO]: clean_train_loss_step: 0.6264248490333557\n",
      "2023-11-25 06:18:22,822 [INFO]: epoch: 20\n"
     ]
    },
    {
     "data": {
      "application/vnd.jupyter.widget-view+json": {
       "model_id": "",
       "version_major": 2,
       "version_minor": 0
      },
      "text/plain": [
       "Validation: 0it [00:00, ?it/s]"
      ]
     },
     "metadata": {},
     "output_type": "display_data"
    },
    {
     "name": "stderr",
     "output_type": "stream",
     "text": [
      "2023-11-25 06:18:35,709 [INFO]: clean_val_acc: 0.6653087139129639\n",
      "2023-11-25 06:18:35,710 [INFO]: clean_val_loss: 1.0043612718582153\n",
      "2023-11-25 06:18:35,711 [INFO]: epoch: 20\n",
      "2023-11-25 06:18:36,209 [INFO]: clean_train_acc_epoch: 0.7815777659416199\n",
      "2023-11-25 06:18:36,211 [INFO]: clean_train_loss_epoch: 0.6229827404022217\n",
      "2023-11-25 06:18:36,213 [INFO]: epoch: 20\n",
      "2023-11-25 06:18:48,907 [INFO]: lr-SGD: 0.004000029262819005\n",
      "2023-11-25 06:18:49,355 [INFO]: clean_train_acc_step: 0.8115234375\n",
      "2023-11-25 06:18:49,356 [INFO]: clean_train_loss_step: 0.5734837651252747\n",
      "2023-11-25 06:18:49,357 [INFO]: epoch: 21\n"
     ]
    },
    {
     "data": {
      "application/vnd.jupyter.widget-view+json": {
       "model_id": "",
       "version_major": 2,
       "version_minor": 0
      },
      "text/plain": [
       "Validation: 0it [00:00, ?it/s]"
      ]
     },
     "metadata": {},
     "output_type": "display_data"
    },
    {
     "name": "stderr",
     "output_type": "stream",
     "text": [
      "2023-11-25 06:18:59,538 [INFO]: clean_val_acc: 0.6791239976882935\n",
      "2023-11-25 06:18:59,540 [INFO]: clean_val_loss: 0.9280573129653931\n",
      "2023-11-25 06:18:59,541 [INFO]: epoch: 21\n",
      "2023-11-25 06:19:00,069 [INFO]: clean_train_acc_epoch: 0.7860222458839417\n",
      "2023-11-25 06:19:00,071 [INFO]: clean_train_loss_epoch: 0.6088009476661682\n",
      "2023-11-25 06:19:00,073 [INFO]: epoch: 21\n",
      "2023-11-25 06:19:08,477 [INFO]: lr-SGD: 0.004000032427592587\n",
      "2023-11-25 06:19:08,721 [INFO]: clean_train_acc_step: 0.794921875\n",
      "2023-11-25 06:19:08,722 [INFO]: clean_train_loss_step: 0.6121028661727905\n",
      "2023-11-25 06:19:08,723 [INFO]: epoch: 22\n"
     ]
    },
    {
     "data": {
      "application/vnd.jupyter.widget-view+json": {
       "model_id": "53f111046b28444c9283bc0cc51ac088",
       "version_major": 2,
       "version_minor": 0
      },
      "text/plain": [
       "Validation: 0it [00:00, ?it/s]"
      ]
     },
     "metadata": {},
     "output_type": "display_data"
    },
    {
     "name": "stderr",
     "output_type": "stream",
     "text": [
      "2023-11-25 06:19:13,573 [INFO]: clean_val_acc: 0.7094562649726868\n",
      "2023-11-25 06:19:13,575 [INFO]: clean_val_loss: 0.8658677935600281\n",
      "2023-11-25 06:19:13,576 [INFO]: epoch: 22\n",
      "2023-11-25 06:19:13,979 [INFO]: clean_train_acc_epoch: 0.793666660785675\n",
      "2023-11-25 06:19:13,981 [INFO]: clean_train_loss_epoch: 0.5854381322860718\n",
      "2023-11-25 06:19:13,982 [INFO]: epoch: 22\n",
      "2023-11-25 06:19:23,471 [INFO]: lr-SGD: 0.00400003575482881\n",
      "2023-11-25 06:19:23,685 [INFO]: clean_train_acc_step: 0.787109375\n",
      "2023-11-25 06:19:23,686 [INFO]: clean_train_loss_step: 0.6212036609649658\n",
      "2023-11-25 06:19:23,686 [INFO]: epoch: 23\n"
     ]
    },
    {
     "data": {
      "application/vnd.jupyter.widget-view+json": {
       "model_id": "991f784d2cd64b5bb7e79266be71e703",
       "version_major": 2,
       "version_minor": 0
      },
      "text/plain": [
       "Validation: 0it [00:00, ?it/s]"
      ]
     },
     "metadata": {},
     "output_type": "display_data"
    },
    {
     "name": "stderr",
     "output_type": "stream",
     "text": [
      "2023-11-25 06:19:27,143 [INFO]: clean_val_acc: 0.7144185304641724\n",
      "2023-11-25 06:19:27,145 [INFO]: clean_val_loss: 0.8431081771850586\n",
      "2023-11-25 06:19:27,146 [INFO]: epoch: 23\n",
      "2023-11-25 06:19:27,609 [INFO]: clean_train_acc_epoch: 0.7987111210823059\n",
      "2023-11-25 06:19:27,611 [INFO]: clean_train_loss_epoch: 0.5689708590507507\n",
      "2023-11-25 06:19:27,612 [INFO]: epoch: 23\n",
      "2023-11-25 06:19:38,671 [INFO]: lr-SGD: 0.004000039244527645\n",
      "2023-11-25 06:19:38,883 [INFO]: clean_train_acc_step: 0.807851254940033\n",
      "2023-11-25 06:19:38,885 [INFO]: clean_train_loss_step: 0.5016549825668335\n",
      "2023-11-25 06:19:38,886 [INFO]: epoch: 24\n"
     ]
    },
    {
     "data": {
      "application/vnd.jupyter.widget-view+json": {
       "model_id": "dc21d15bd4bf4f4fabcfccc059005ebd",
       "version_major": 2,
       "version_minor": 0
      },
      "text/plain": [
       "Validation: 0it [00:00, ?it/s]"
      ]
     },
     "metadata": {},
     "output_type": "display_data"
    },
    {
     "name": "stderr",
     "output_type": "stream",
     "text": [
      "2023-11-25 06:19:41,039 [INFO]: clean_val_acc: 0.7541275024414062\n",
      "2023-11-25 06:19:41,041 [INFO]: clean_val_loss: 0.7303472757339478\n",
      "2023-11-25 06:19:41,042 [INFO]: epoch: 24\n",
      "2023-11-25 06:19:41,458 [INFO]: clean_train_acc_epoch: 0.8050666451454163\n",
      "2023-11-25 06:19:41,459 [INFO]: clean_train_loss_epoch: 0.5530494451522827\n",
      "2023-11-25 06:19:41,460 [INFO]: epoch: 24\n"
     ]
    },
    {
     "data": {
      "application/vnd.jupyter.widget-view+json": {
       "model_id": "68d694ff82a1463a8d2d543456022cfa",
       "version_major": 2,
       "version_minor": 0
      },
      "text/plain": [
       "Validation: 0it [00:00, ?it/s]"
      ]
     },
     "metadata": {},
     "output_type": "display_data"
    },
    {
     "name": "stderr",
     "output_type": "stream",
     "text": [
      "2023-11-25 06:19:54,581 [INFO]: clean_val_acc: 0.7392854690551758\n",
      "2023-11-25 06:19:54,583 [INFO]: clean_val_loss: 0.7539884448051453\n",
      "2023-11-25 06:19:54,583 [INFO]: epoch: 25\n",
      "2023-11-25 06:19:54,998 [INFO]: clean_train_acc_epoch: 0.8122000098228455\n",
      "2023-11-25 06:19:55,000 [INFO]: clean_train_loss_epoch: 0.5324851274490356\n",
      "2023-11-25 06:19:55,001 [INFO]: epoch: 25\n",
      "2023-11-25 06:19:58,305 [INFO]: lr-SGD: 0.004000042896689093\n",
      "2023-11-25 06:19:58,531 [INFO]: clean_train_acc_step: 0.8017578125\n",
      "2023-11-25 06:19:58,532 [INFO]: clean_train_loss_step: 0.5475903749465942\n",
      "2023-11-25 06:19:58,533 [INFO]: epoch: 26\n"
     ]
    },
    {
     "data": {
      "application/vnd.jupyter.widget-view+json": {
       "model_id": "6cac9c3f4b1b4be3941d12b184809c89",
       "version_major": 2,
       "version_minor": 0
      },
      "text/plain": [
       "Validation: 0it [00:00, ?it/s]"
      ]
     },
     "metadata": {},
     "output_type": "display_data"
    },
    {
     "name": "stderr",
     "output_type": "stream",
     "text": [
      "2023-11-25 06:20:08,866 [INFO]: clean_val_acc: 0.7636200189590454\n",
      "2023-11-25 06:20:08,869 [INFO]: clean_val_loss: 0.6958205699920654\n",
      "2023-11-25 06:20:08,871 [INFO]: epoch: 26\n",
      "2023-11-25 06:20:09,443 [INFO]: clean_train_acc_epoch: 0.8225555419921875\n",
      "2023-11-25 06:20:09,445 [INFO]: clean_train_loss_epoch: 0.5081027150154114\n",
      "2023-11-25 06:20:09,448 [INFO]: epoch: 26\n",
      "2023-11-25 06:20:14,187 [INFO]: lr-SGD: 0.0040000467113131405\n",
      "2023-11-25 06:20:14,418 [INFO]: clean_train_acc_step: 0.8310546875\n",
      "2023-11-25 06:20:14,421 [INFO]: clean_train_loss_step: 0.49292173981666565\n",
      "2023-11-25 06:20:14,422 [INFO]: epoch: 27\n"
     ]
    },
    {
     "data": {
      "application/vnd.jupyter.widget-view+json": {
       "model_id": "091b632ba0d04ed68677f9bce3d3b27f",
       "version_major": 2,
       "version_minor": 0
      },
      "text/plain": [
       "Validation: 0it [00:00, ?it/s]"
      ]
     },
     "metadata": {},
     "output_type": "display_data"
    },
    {
     "name": "stderr",
     "output_type": "stream",
     "text": [
      "2023-11-25 06:20:23,278 [INFO]: clean_val_acc: 0.7512755990028381\n",
      "2023-11-25 06:20:23,281 [INFO]: clean_val_loss: 0.7575796842575073\n",
      "2023-11-25 06:20:23,283 [INFO]: epoch: 27\n",
      "2023-11-25 06:20:23,331 [INFO]: clean_train_acc_epoch: 0.8260444402694702\n",
      "2023-11-25 06:20:23,334 [INFO]: clean_train_loss_epoch: 0.49927806854248047\n",
      "2023-11-25 06:20:23,337 [INFO]: epoch: 27\n",
      "2023-11-25 06:20:28,543 [INFO]: lr-SGD: 0.004000050688399773\n",
      "2023-11-25 06:20:28,757 [INFO]: clean_train_acc_step: 0.8291015625\n",
      "2023-11-25 06:20:28,759 [INFO]: clean_train_loss_step: 0.4899149537086487\n",
      "2023-11-25 06:20:28,761 [INFO]: epoch: 28\n"
     ]
    },
    {
     "data": {
      "application/vnd.jupyter.widget-view+json": {
       "model_id": "c24d1478b61f479298c3f5aadde4b2d9",
       "version_major": 2,
       "version_minor": 0
      },
      "text/plain": [
       "Validation: 0it [00:00, ?it/s]"
      ]
     },
     "metadata": {},
     "output_type": "display_data"
    },
    {
     "name": "stderr",
     "output_type": "stream",
     "text": [
      "2023-11-25 06:20:35,819 [INFO]: clean_val_acc: 0.7449356913566589\n",
      "2023-11-25 06:20:35,821 [INFO]: clean_val_loss: 0.7496752142906189\n",
      "2023-11-25 06:20:35,822 [INFO]: epoch: 28\n",
      "2023-11-25 06:20:35,848 [INFO]: clean_train_acc_epoch: 0.8298444151878357\n",
      "2023-11-25 06:20:35,850 [INFO]: clean_train_loss_epoch: 0.4819647967815399\n",
      "2023-11-25 06:20:35,851 [INFO]: epoch: 28\n",
      "2023-11-25 06:20:42,244 [INFO]: lr-SGD: 0.004000054827948976\n",
      "2023-11-25 06:20:42,462 [INFO]: clean_train_acc_step: 0.8056640625\n",
      "2023-11-25 06:20:42,464 [INFO]: clean_train_loss_step: 0.5092586278915405\n",
      "2023-11-25 06:20:42,465 [INFO]: epoch: 29\n"
     ]
    },
    {
     "data": {
      "application/vnd.jupyter.widget-view+json": {
       "model_id": "d5f9b512c78c427e8c01f00bd7d4af3f",
       "version_major": 2,
       "version_minor": 0
      },
      "text/plain": [
       "Validation: 0it [00:00, ?it/s]"
      ]
     },
     "metadata": {},
     "output_type": "display_data"
    },
    {
     "name": "stderr",
     "output_type": "stream",
     "text": [
      "2023-11-25 06:20:48,256 [INFO]: clean_val_acc: 0.7149526476860046\n",
      "2023-11-25 06:20:48,258 [INFO]: clean_val_loss: 0.8400923013687134\n",
      "2023-11-25 06:20:48,259 [INFO]: epoch: 29\n",
      "2023-11-25 06:20:48,283 [INFO]: clean_train_acc_epoch: 0.8367999792098999\n",
      "2023-11-25 06:20:48,284 [INFO]: clean_train_loss_epoch: 0.46832484006881714\n",
      "2023-11-25 06:20:48,284 [INFO]: epoch: 29\n",
      "2023-11-25 06:20:55,824 [INFO]: lr-SGD: 0.004000059129960751\n",
      "2023-11-25 06:20:56,039 [INFO]: clean_train_acc_step: 0.8583984375\n",
      "2023-11-25 06:20:56,041 [INFO]: clean_train_loss_step: 0.4017726480960846\n",
      "2023-11-25 06:20:56,042 [INFO]: epoch: 30\n"
     ]
    },
    {
     "data": {
      "application/vnd.jupyter.widget-view+json": {
       "model_id": "ea100fca8af647618b9c31ffd47f5951",
       "version_major": 2,
       "version_minor": 0
      },
      "text/plain": [
       "Validation: 0it [00:00, ?it/s]"
      ]
     },
     "metadata": {},
     "output_type": "display_data"
    },
    {
     "name": "stderr",
     "output_type": "stream",
     "text": [
      "2023-11-25 06:21:00,724 [INFO]: clean_val_acc: 0.735795795917511\n",
      "2023-11-25 06:21:00,725 [INFO]: clean_val_loss: 0.7992520332336426\n",
      "2023-11-25 06:21:00,726 [INFO]: epoch: 30\n",
      "2023-11-25 06:21:00,750 [INFO]: clean_train_acc_epoch: 0.8433111310005188\n",
      "2023-11-25 06:21:00,752 [INFO]: clean_train_loss_epoch: 0.4486822783946991\n",
      "2023-11-25 06:21:00,754 [INFO]: epoch: 30\n",
      "2023-11-25 06:21:09,740 [INFO]: lr-SGD: 0.004000063594435055\n",
      "2023-11-25 06:21:09,957 [INFO]: clean_train_acc_step: 0.8505859375\n",
      "2023-11-25 06:21:09,959 [INFO]: clean_train_loss_step: 0.4265267550945282\n",
      "2023-11-25 06:21:09,960 [INFO]: epoch: 31\n"
     ]
    },
    {
     "data": {
      "application/vnd.jupyter.widget-view+json": {
       "model_id": "ff0458b8bf1a4541860f0c0566e9ed70",
       "version_major": 2,
       "version_minor": 0
      },
      "text/plain": [
       "Validation: 0it [00:00, ?it/s]"
      ]
     },
     "metadata": {},
     "output_type": "display_data"
    },
    {
     "name": "stderr",
     "output_type": "stream",
     "text": [
      "2023-11-25 06:21:13,351 [INFO]: clean_val_acc: 0.7638792991638184\n",
      "2023-11-25 06:21:13,353 [INFO]: clean_val_loss: 0.6886721849441528\n",
      "2023-11-25 06:21:13,354 [INFO]: epoch: 31\n",
      "2023-11-25 06:21:13,688 [INFO]: clean_train_acc_epoch: 0.845466673374176\n",
      "2023-11-25 06:21:13,690 [INFO]: clean_train_loss_epoch: 0.4445458650588989\n",
      "2023-11-25 06:21:13,691 [INFO]: epoch: 31\n",
      "2023-11-25 06:21:23,511 [INFO]: lr-SGD: 0.0040000682213718886\n",
      "2023-11-25 06:21:23,730 [INFO]: clean_train_acc_step: 0.85546875\n",
      "2023-11-25 06:21:23,732 [INFO]: clean_train_loss_step: 0.4017721712589264\n",
      "2023-11-25 06:21:23,733 [INFO]: epoch: 32\n"
     ]
    },
    {
     "data": {
      "application/vnd.jupyter.widget-view+json": {
       "model_id": "29d29969c2044022814e54ce09a4606b",
       "version_major": 2,
       "version_minor": 0
      },
      "text/plain": [
       "Validation: 0it [00:00, ?it/s]"
      ]
     },
     "metadata": {},
     "output_type": "display_data"
    },
    {
     "name": "stderr",
     "output_type": "stream",
     "text": [
      "2023-11-25 06:21:26,011 [INFO]: clean_val_acc: 0.748672604560852\n",
      "2023-11-25 06:21:26,013 [INFO]: clean_val_loss: 0.7316322326660156\n",
      "2023-11-25 06:21:26,015 [INFO]: epoch: 32\n",
      "2023-11-25 06:21:26,042 [INFO]: clean_train_acc_epoch: 0.84897780418396\n",
      "2023-11-25 06:21:26,044 [INFO]: clean_train_loss_epoch: 0.4295491874217987\n",
      "2023-11-25 06:21:26,046 [INFO]: epoch: 32\n"
     ]
    },
    {
     "data": {
      "application/vnd.jupyter.widget-view+json": {
       "model_id": "47c79a0821b8477c9ac516dd83aca33a",
       "version_major": 2,
       "version_minor": 0
      },
      "text/plain": [
       "Validation: 0it [00:00, ?it/s]"
      ]
     },
     "metadata": {},
     "output_type": "display_data"
    },
    {
     "name": "stderr",
     "output_type": "stream",
     "text": [
      "2023-11-25 06:21:38,407 [INFO]: clean_val_acc: 0.7979258894920349\n",
      "2023-11-25 06:21:38,409 [INFO]: clean_val_loss: 0.5970332026481628\n",
      "2023-11-25 06:21:38,411 [INFO]: epoch: 33\n",
      "2023-11-25 06:21:38,757 [INFO]: clean_train_acc_epoch: 0.8529333472251892\n",
      "2023-11-25 06:21:38,758 [INFO]: clean_train_loss_epoch: 0.41905781626701355\n",
      "2023-11-25 06:21:38,760 [INFO]: epoch: 33\n",
      "2023-11-25 06:21:41,079 [INFO]: lr-SGD: 0.004000073010771252\n",
      "2023-11-25 06:21:41,305 [INFO]: clean_train_acc_step: 0.8671875\n",
      "2023-11-25 06:21:41,306 [INFO]: clean_train_loss_step: 0.4002251625061035\n",
      "2023-11-25 06:21:41,309 [INFO]: epoch: 34\n"
     ]
    },
    {
     "data": {
      "application/vnd.jupyter.widget-view+json": {
       "model_id": "0cb193848d1740bd90ba41cd46377179",
       "version_major": 2,
       "version_minor": 0
      },
      "text/plain": [
       "Validation: 0it [00:00, ?it/s]"
      ]
     },
     "metadata": {},
     "output_type": "display_data"
    },
    {
     "name": "stderr",
     "output_type": "stream",
     "text": [
      "2023-11-25 06:21:51,263 [INFO]: clean_val_acc: 0.6995764970779419\n",
      "2023-11-25 06:21:51,265 [INFO]: clean_val_loss: 0.9215294122695923\n",
      "2023-11-25 06:21:51,266 [INFO]: epoch: 34\n",
      "2023-11-25 06:21:51,295 [INFO]: clean_train_acc_epoch: 0.8578444719314575\n",
      "2023-11-25 06:21:51,296 [INFO]: clean_train_loss_epoch: 0.4073464870452881\n",
      "2023-11-25 06:21:51,298 [INFO]: epoch: 34\n",
      "2023-11-25 06:21:54,826 [INFO]: lr-SGD: 0.004000077962633089\n",
      "2023-11-25 06:21:55,040 [INFO]: clean_train_acc_step: 0.85546875\n",
      "2023-11-25 06:21:55,042 [INFO]: clean_train_loss_step: 0.3891737461090088\n",
      "2023-11-25 06:21:55,044 [INFO]: epoch: 35\n"
     ]
    },
    {
     "data": {
      "application/vnd.jupyter.widget-view+json": {
       "model_id": "e04697d12a704e2a9ba699277b9fa875",
       "version_major": 2,
       "version_minor": 0
      },
      "text/plain": [
       "Validation: 0it [00:00, ?it/s]"
      ]
     },
     "metadata": {},
     "output_type": "display_data"
    },
    {
     "name": "stderr",
     "output_type": "stream",
     "text": [
      "2023-11-25 06:22:03,727 [INFO]: clean_val_acc: 0.7924709916114807\n",
      "2023-11-25 06:22:03,729 [INFO]: clean_val_loss: 0.6117914915084839\n",
      "2023-11-25 06:22:03,730 [INFO]: epoch: 35\n",
      "2023-11-25 06:22:04,072 [INFO]: clean_train_acc_epoch: 0.8594889044761658\n",
      "2023-11-25 06:22:04,074 [INFO]: clean_train_loss_epoch: 0.399646133184433\n",
      "2023-11-25 06:22:04,076 [INFO]: epoch: 35\n",
      "2023-11-25 06:22:08,846 [INFO]: lr-SGD: 0.004000083076957414\n",
      "2023-11-25 06:22:09,063 [INFO]: clean_train_acc_step: 0.8642578125\n",
      "2023-11-25 06:22:09,065 [INFO]: clean_train_loss_step: 0.3686448931694031\n",
      "2023-11-25 06:22:09,066 [INFO]: epoch: 36\n"
     ]
    },
    {
     "data": {
      "application/vnd.jupyter.widget-view+json": {
       "model_id": "5bffee2411e94b31aed6b3ee4fcc79cd",
       "version_major": 2,
       "version_minor": 0
      },
      "text/plain": [
       "Validation: 0it [00:00, ?it/s]"
      ]
     },
     "metadata": {},
     "output_type": "display_data"
    },
    {
     "name": "stderr",
     "output_type": "stream",
     "text": [
      "2023-11-25 06:22:16,463 [INFO]: clean_val_acc: 0.7306796312332153\n",
      "2023-11-25 06:22:16,466 [INFO]: clean_val_loss: 0.8264800310134888\n",
      "2023-11-25 06:22:16,468 [INFO]: epoch: 36\n",
      "2023-11-25 06:22:16,493 [INFO]: clean_train_acc_epoch: 0.8676444292068481\n",
      "2023-11-25 06:22:16,495 [INFO]: clean_train_loss_epoch: 0.3784361481666565\n",
      "2023-11-25 06:22:16,497 [INFO]: epoch: 36\n",
      "2023-11-25 06:22:22,525 [INFO]: lr-SGD: 0.004000088353744213\n",
      "2023-11-25 06:22:22,744 [INFO]: clean_train_acc_step: 0.8662109375\n",
      "2023-11-25 06:22:22,746 [INFO]: clean_train_loss_step: 0.37577423453330994\n",
      "2023-11-25 06:22:22,748 [INFO]: epoch: 37\n"
     ]
    },
    {
     "data": {
      "application/vnd.jupyter.widget-view+json": {
       "model_id": "92b8be76947c4a0fb6b1b3c2acdd68b2",
       "version_major": 2,
       "version_minor": 0
      },
      "text/plain": [
       "Validation: 0it [00:00, ?it/s]"
      ]
     },
     "metadata": {},
     "output_type": "display_data"
    },
    {
     "name": "stderr",
     "output_type": "stream",
     "text": [
      "2023-11-25 06:22:28,916 [INFO]: clean_val_acc: 0.6726009249687195\n",
      "2023-11-25 06:22:28,918 [INFO]: clean_val_loss: 1.073794960975647\n",
      "2023-11-25 06:22:28,920 [INFO]: epoch: 37\n",
      "2023-11-25 06:22:28,947 [INFO]: clean_train_acc_epoch: 0.8680889010429382\n",
      "2023-11-25 06:22:28,949 [INFO]: clean_train_loss_epoch: 0.37543442845344543\n",
      "2023-11-25 06:22:28,950 [INFO]: epoch: 37\n",
      "2023-11-25 06:22:36,234 [INFO]: lr-SGD: 0.004000093792993445\n",
      "2023-11-25 06:22:36,455 [INFO]: clean_train_acc_step: 0.8623046875\n",
      "2023-11-25 06:22:36,458 [INFO]: clean_train_loss_step: 0.3819144666194916\n",
      "2023-11-25 06:22:36,460 [INFO]: epoch: 38\n"
     ]
    },
    {
     "data": {
      "application/vnd.jupyter.widget-view+json": {
       "model_id": "2d35c36adaaf43f191be355c0ed5406e",
       "version_major": 2,
       "version_minor": 0
      },
      "text/plain": [
       "Validation: 0it [00:00, ?it/s]"
      ]
     },
     "metadata": {},
     "output_type": "display_data"
    },
    {
     "name": "stderr",
     "output_type": "stream",
     "text": [
      "2023-11-25 06:22:41,617 [INFO]: clean_val_acc: 0.7557021379470825\n",
      "2023-11-25 06:22:41,619 [INFO]: clean_val_loss: 0.7332711219787598\n",
      "2023-11-25 06:22:41,621 [INFO]: epoch: 38\n",
      "2023-11-25 06:22:41,649 [INFO]: clean_train_acc_epoch: 0.871399998664856\n",
      "2023-11-25 06:22:41,650 [INFO]: clean_train_loss_epoch: 0.36720749735832214\n",
      "2023-11-25 06:22:41,653 [INFO]: epoch: 38\n",
      "2023-11-25 06:22:50,233 [INFO]: lr-SGD: 0.004000099394705109\n",
      "2023-11-25 06:22:50,445 [INFO]: clean_train_acc_step: 0.8798828125\n",
      "2023-11-25 06:22:50,448 [INFO]: clean_train_loss_step: 0.3409884572029114\n",
      "2023-11-25 06:22:50,449 [INFO]: epoch: 39\n"
     ]
    },
    {
     "data": {
      "application/vnd.jupyter.widget-view+json": {
       "model_id": "15b350ade14f4d1382fef271bcc7a86e",
       "version_major": 2,
       "version_minor": 0
      },
      "text/plain": [
       "Validation: 0it [00:00, ?it/s]"
      ]
     },
     "metadata": {},
     "output_type": "display_data"
    },
    {
     "name": "stderr",
     "output_type": "stream",
     "text": [
      "2023-11-25 06:22:54,328 [INFO]: clean_val_acc: 0.7862209677696228\n",
      "2023-11-25 06:22:54,330 [INFO]: clean_val_loss: 0.6308816075325012\n",
      "2023-11-25 06:22:54,331 [INFO]: epoch: 39\n",
      "2023-11-25 06:22:54,359 [INFO]: clean_train_acc_epoch: 0.8748666644096375\n",
      "2023-11-25 06:22:54,360 [INFO]: clean_train_loss_epoch: 0.35765209794044495\n",
      "2023-11-25 06:22:54,362 [INFO]: epoch: 39\n",
      "2023-11-25 06:23:03,826 [INFO]: lr-SGD: 0.0040001051588791775\n",
      "2023-11-25 06:23:04,042 [INFO]: clean_train_acc_step: 0.88671875\n",
      "2023-11-25 06:23:04,044 [INFO]: clean_train_loss_step: 0.34223708510398865\n",
      "2023-11-25 06:23:04,046 [INFO]: epoch: 40\n"
     ]
    },
    {
     "data": {
      "application/vnd.jupyter.widget-view+json": {
       "model_id": "81decd2e0df7408b85e151a30d59b1bd",
       "version_major": 2,
       "version_minor": 0
      },
      "text/plain": [
       "Validation: 0it [00:00, ?it/s]"
      ]
     },
     "metadata": {},
     "output_type": "display_data"
    },
    {
     "name": "stderr",
     "output_type": "stream",
     "text": [
      "2023-11-25 06:23:06,739 [INFO]: clean_val_acc: 0.7517318725585938\n",
      "2023-11-25 06:23:06,740 [INFO]: clean_val_loss: 0.7949771881103516\n",
      "2023-11-25 06:23:06,742 [INFO]: epoch: 40\n",
      "2023-11-25 06:23:06,771 [INFO]: clean_train_acc_epoch: 0.8765777945518494\n",
      "2023-11-25 06:23:06,772 [INFO]: clean_train_loss_epoch: 0.3511441946029663\n",
      "2023-11-25 06:23:06,773 [INFO]: epoch: 40\n"
     ]
    },
    {
     "data": {
      "application/vnd.jupyter.widget-view+json": {
       "model_id": "b4ce73d92737402687a2ed311fb5e88c",
       "version_major": 2,
       "version_minor": 0
      },
      "text/plain": [
       "Validation: 0it [00:00, ?it/s]"
      ]
     },
     "metadata": {},
     "output_type": "display_data"
    },
    {
     "name": "stderr",
     "output_type": "stream",
     "text": [
      "2023-11-25 06:23:19,260 [INFO]: clean_val_acc: 0.8136528134346008\n",
      "2023-11-25 06:23:19,262 [INFO]: clean_val_loss: 0.5811967849731445\n",
      "2023-11-25 06:23:19,263 [INFO]: epoch: 41\n",
      "2023-11-25 06:23:19,606 [INFO]: clean_train_acc_epoch: 0.8802222013473511\n",
      "2023-11-25 06:23:19,608 [INFO]: clean_train_loss_epoch: 0.3412676751613617\n",
      "2023-11-25 06:23:19,610 [INFO]: epoch: 41\n",
      "2023-11-25 06:23:21,495 [INFO]: lr-SGD: 0.004000111085515637\n",
      "2023-11-25 06:23:21,715 [INFO]: clean_train_acc_step: 0.8955078125\n",
      "2023-11-25 06:23:21,716 [INFO]: clean_train_loss_step: 0.33141398429870605\n",
      "2023-11-25 06:23:21,719 [INFO]: epoch: 42\n"
     ]
    },
    {
     "data": {
      "application/vnd.jupyter.widget-view+json": {
       "model_id": "007d5252f4824d49976dcf9a9f39b560",
       "version_major": 2,
       "version_minor": 0
      },
      "text/plain": [
       "Validation: 0it [00:00, ?it/s]"
      ]
     },
     "metadata": {},
     "output_type": "display_data"
    },
    {
     "name": "stderr",
     "output_type": "stream",
     "text": [
      "2023-11-25 06:23:31,959 [INFO]: clean_val_acc: 0.7997735738754272\n",
      "2023-11-25 06:23:31,962 [INFO]: clean_val_loss: 0.616087794303894\n",
      "2023-11-25 06:23:31,963 [INFO]: epoch: 42\n",
      "2023-11-25 06:23:32,311 [INFO]: clean_train_acc_epoch: 0.884244441986084\n",
      "2023-11-25 06:23:32,313 [INFO]: clean_train_loss_epoch: 0.33260729908943176\n",
      "2023-11-25 06:23:32,314 [INFO]: epoch: 42\n",
      "2023-11-25 06:23:35,390 [INFO]: lr-SGD: 0.004000117174614459\n",
      "2023-11-25 06:23:35,610 [INFO]: clean_train_acc_step: 0.9052734375\n",
      "2023-11-25 06:23:35,612 [INFO]: clean_train_loss_step: 0.3006930649280548\n",
      "2023-11-25 06:23:35,614 [INFO]: epoch: 43\n"
     ]
    },
    {
     "data": {
      "application/vnd.jupyter.widget-view+json": {
       "model_id": "e75f35f1c30d4c728899328ec62db543",
       "version_major": 2,
       "version_minor": 0
      },
      "text/plain": [
       "Validation: 0it [00:00, ?it/s]"
      ]
     },
     "metadata": {},
     "output_type": "display_data"
    },
    {
     "name": "stderr",
     "output_type": "stream",
     "text": [
      "2023-11-25 06:23:44,702 [INFO]: clean_val_acc: 0.690968930721283\n",
      "2023-11-25 06:23:44,705 [INFO]: clean_val_loss: 1.0768558979034424\n",
      "2023-11-25 06:23:44,706 [INFO]: epoch: 43\n",
      "2023-11-25 06:23:44,736 [INFO]: clean_train_acc_epoch: 0.8846444487571716\n",
      "2023-11-25 06:23:44,738 [INFO]: clean_train_loss_epoch: 0.32630354166030884\n",
      "2023-11-25 06:23:44,739 [INFO]: epoch: 43\n",
      "2023-11-25 06:23:49,015 [INFO]: lr-SGD: 0.004000123426175645\n",
      "2023-11-25 06:23:49,228 [INFO]: clean_train_acc_step: 0.8984375\n",
      "2023-11-25 06:23:49,230 [INFO]: clean_train_loss_step: 0.31573423743247986\n",
      "2023-11-25 06:23:49,232 [INFO]: epoch: 44\n"
     ]
    },
    {
     "data": {
      "application/vnd.jupyter.widget-view+json": {
       "model_id": "1e746fdbf48b4d918e6bb5bde56f1fde",
       "version_major": 2,
       "version_minor": 0
      },
      "text/plain": [
       "Validation: 0it [00:00, ?it/s]"
      ]
     },
     "metadata": {},
     "output_type": "display_data"
    },
    {
     "name": "stderr",
     "output_type": "stream",
     "text": [
      "2023-11-25 06:23:57,087 [INFO]: clean_val_acc: 0.7682400941848755\n",
      "2023-11-25 06:23:57,090 [INFO]: clean_val_loss: 0.7542727589607239\n",
      "2023-11-25 06:23:57,091 [INFO]: epoch: 44\n",
      "2023-11-25 06:23:57,120 [INFO]: clean_train_acc_epoch: 0.8901333212852478\n",
      "2023-11-25 06:23:57,122 [INFO]: clean_train_loss_epoch: 0.3140280246734619\n",
      "2023-11-25 06:23:57,123 [INFO]: epoch: 44\n",
      "2023-11-25 06:24:02,749 [INFO]: lr-SGD: 0.0040001298401991375\n",
      "2023-11-25 06:24:02,965 [INFO]: clean_train_acc_step: 0.900390625\n",
      "2023-11-25 06:24:02,968 [INFO]: clean_train_loss_step: 0.29813992977142334\n",
      "2023-11-25 06:24:02,970 [INFO]: epoch: 45\n"
     ]
    },
    {
     "data": {
      "application/vnd.jupyter.widget-view+json": {
       "model_id": "bbd734791a8043f08a1a95e13d2a48fc",
       "version_major": 2,
       "version_minor": 0
      },
      "text/plain": [
       "Validation: 0it [00:00, ?it/s]"
      ]
     },
     "metadata": {},
     "output_type": "display_data"
    },
    {
     "name": "stderr",
     "output_type": "stream",
     "text": [
      "2023-11-25 06:24:09,680 [INFO]: clean_val_acc: 0.7152377963066101\n",
      "2023-11-25 06:24:09,681 [INFO]: clean_val_loss: 0.9988105893135071\n",
      "2023-11-25 06:24:09,683 [INFO]: epoch: 45\n",
      "2023-11-25 06:24:09,712 [INFO]: clean_train_acc_epoch: 0.8920888900756836\n",
      "2023-11-25 06:24:09,714 [INFO]: clean_train_loss_epoch: 0.30938297510147095\n",
      "2023-11-25 06:24:09,715 [INFO]: epoch: 45\n",
      "2023-11-25 06:24:16,320 [INFO]: lr-SGD: 0.004000136416684952\n",
      "2023-11-25 06:24:16,538 [INFO]: clean_train_acc_step: 0.8974609375\n",
      "2023-11-25 06:24:16,540 [INFO]: clean_train_loss_step: 0.2858086824417114\n",
      "2023-11-25 06:24:16,541 [INFO]: epoch: 46\n"
     ]
    },
    {
     "data": {
      "application/vnd.jupyter.widget-view+json": {
       "model_id": "6e1d6cac352747328f62240e06b732c9",
       "version_major": 2,
       "version_minor": 0
      },
      "text/plain": [
       "Validation: 0it [00:00, ?it/s]"
      ]
     },
     "metadata": {},
     "output_type": "display_data"
    },
    {
     "name": "stderr",
     "output_type": "stream",
     "text": [
      "2023-11-25 06:24:22,006 [INFO]: clean_val_acc: 0.7613142728805542\n",
      "2023-11-25 06:24:22,007 [INFO]: clean_val_loss: 0.758106529712677\n",
      "2023-11-25 06:24:22,009 [INFO]: epoch: 46\n",
      "2023-11-25 06:24:22,038 [INFO]: clean_train_acc_epoch: 0.8935555815696716\n",
      "2023-11-25 06:24:22,039 [INFO]: clean_train_loss_epoch: 0.30373793840408325\n",
      "2023-11-25 06:24:22,041 [INFO]: epoch: 46\n",
      "2023-11-25 06:24:30,546 [INFO]: lr-SGD: 0.004000143155633032\n",
      "2023-11-25 06:24:30,765 [INFO]: clean_train_acc_step: 0.8955078125\n",
      "2023-11-25 06:24:30,766 [INFO]: clean_train_loss_step: 0.2847347557544708\n",
      "2023-11-25 06:24:30,767 [INFO]: epoch: 47\n"
     ]
    },
    {
     "data": {
      "application/vnd.jupyter.widget-view+json": {
       "model_id": "7a2e762a5ec34086b5bf41d763f87a6b",
       "version_major": 2,
       "version_minor": 0
      },
      "text/plain": [
       "Validation: 0it [00:00, ?it/s]"
      ]
     },
     "metadata": {},
     "output_type": "display_data"
    },
    {
     "name": "stderr",
     "output_type": "stream",
     "text": [
      "2023-11-25 06:24:34,995 [INFO]: clean_val_acc: 0.7851406931877136\n",
      "2023-11-25 06:24:34,997 [INFO]: clean_val_loss: 0.7002781629562378\n",
      "2023-11-25 06:24:34,999 [INFO]: epoch: 47\n",
      "2023-11-25 06:24:35,027 [INFO]: clean_train_acc_epoch: 0.8962222337722778\n",
      "2023-11-25 06:24:35,029 [INFO]: clean_train_loss_epoch: 0.2947643995285034\n",
      "2023-11-25 06:24:35,030 [INFO]: epoch: 47\n",
      "2023-11-25 06:24:44,249 [INFO]: lr-SGD: 0.004000150057043392\n",
      "2023-11-25 06:24:44,470 [INFO]: clean_train_acc_step: 0.8935546875\n",
      "2023-11-25 06:24:44,472 [INFO]: clean_train_loss_step: 0.30405107140541077\n",
      "2023-11-25 06:24:44,474 [INFO]: epoch: 48\n"
     ]
    },
    {
     "data": {
      "application/vnd.jupyter.widget-view+json": {
       "model_id": "870ec6993cfd4b49b1cca32b4f9a489e",
       "version_major": 2,
       "version_minor": 0
      },
      "text/plain": [
       "Validation: 0it [00:00, ?it/s]"
      ]
     },
     "metadata": {},
     "output_type": "display_data"
    },
    {
     "name": "stderr",
     "output_type": "stream",
     "text": [
      "2023-11-25 06:24:47,520 [INFO]: clean_val_acc: 0.7746577858924866\n",
      "2023-11-25 06:24:47,522 [INFO]: clean_val_loss: 0.7339357137680054\n",
      "2023-11-25 06:24:47,524 [INFO]: epoch: 48\n",
      "2023-11-25 06:24:47,552 [INFO]: clean_train_acc_epoch: 0.8980666399002075\n",
      "2023-11-25 06:24:47,553 [INFO]: clean_train_loss_epoch: 0.2895052134990692\n",
      "2023-11-25 06:24:47,556 [INFO]: epoch: 48\n",
      "2023-11-25 06:24:57,874 [INFO]: lr-SGD: 0.004000157120915976\n",
      "2023-11-25 06:24:58,080 [INFO]: clean_train_acc_step: 0.8977272510528564\n",
      "2023-11-25 06:24:58,081 [INFO]: clean_train_loss_step: 0.2833936810493469\n",
      "2023-11-25 06:24:58,084 [INFO]: epoch: 49\n"
     ]
    },
    {
     "data": {
      "application/vnd.jupyter.widget-view+json": {
       "model_id": "b887a5105908417fa439936d0967edeb",
       "version_major": 2,
       "version_minor": 0
      },
      "text/plain": [
       "Validation: 0it [00:00, ?it/s]"
      ]
     },
     "metadata": {},
     "output_type": "display_data"
    },
    {
     "name": "stderr",
     "output_type": "stream",
     "text": [
      "2023-11-25 06:25:00,022 [INFO]: clean_val_acc: 0.7844613790512085\n",
      "2023-11-25 06:25:00,023 [INFO]: clean_val_loss: 0.7041778564453125\n",
      "2023-11-25 06:25:00,024 [INFO]: epoch: 49\n",
      "2023-11-25 06:25:00,062 [INFO]: clean_train_acc_epoch: 0.8966222405433655\n",
      "2023-11-25 06:25:00,063 [INFO]: clean_train_loss_epoch: 0.2912890315055847\n",
      "2023-11-25 06:25:00,065 [INFO]: epoch: 49\n"
     ]
    },
    {
     "data": {
      "application/vnd.jupyter.widget-view+json": {
       "model_id": "3fedfe4a543f4a54a8daac4d2eac62e0",
       "version_major": 2,
       "version_minor": 0
      },
      "text/plain": [
       "Validation: 0it [00:00, ?it/s]"
      ]
     },
     "metadata": {},
     "output_type": "display_data"
    },
    {
     "name": "stderr",
     "output_type": "stream",
     "text": [
      "2023-11-25 06:25:12,502 [INFO]: clean_val_acc: 0.7733839154243469\n",
      "2023-11-25 06:25:12,503 [INFO]: clean_val_loss: 0.7522972822189331\n",
      "2023-11-25 06:25:12,505 [INFO]: epoch: 50\n",
      "2023-11-25 06:25:12,530 [INFO]: clean_train_acc_epoch: 0.904711127281189\n",
      "2023-11-25 06:25:12,531 [INFO]: clean_train_loss_epoch: 0.2753807306289673\n",
      "2023-11-25 06:25:12,532 [INFO]: epoch: 50\n",
      "2023-11-25 06:25:15,314 [INFO]: lr-SGD: 0.004000164347250784\n",
      "2023-11-25 06:25:15,527 [INFO]: clean_train_acc_step: 0.896484375\n",
      "2023-11-25 06:25:15,529 [INFO]: clean_train_loss_step: 0.2845873534679413\n",
      "2023-11-25 06:25:15,530 [INFO]: epoch: 51\n"
     ]
    },
    {
     "data": {
      "application/vnd.jupyter.widget-view+json": {
       "model_id": "392373b9098d44319316993dd11ef5c0",
       "version_major": 2,
       "version_minor": 0
      },
      "text/plain": [
       "Validation: 0it [00:00, ?it/s]"
      ]
     },
     "metadata": {},
     "output_type": "display_data"
    },
    {
     "name": "stderr",
     "output_type": "stream",
     "text": [
      "2023-11-25 06:25:25,135 [INFO]: clean_val_acc: 0.7197818756103516\n",
      "2023-11-25 06:25:25,138 [INFO]: clean_val_loss: 1.0122931003570557\n",
      "2023-11-25 06:25:25,139 [INFO]: epoch: 51\n",
      "2023-11-25 06:25:25,169 [INFO]: clean_train_acc_epoch: 0.9051555395126343\n",
      "2023-11-25 06:25:25,171 [INFO]: clean_train_loss_epoch: 0.268876314163208\n",
      "2023-11-25 06:25:25,172 [INFO]: epoch: 51\n",
      "2023-11-25 06:25:29,034 [INFO]: lr-SGD: 0.004000171736047761\n",
      "2023-11-25 06:25:29,254 [INFO]: clean_train_acc_step: 0.9287109375\n",
      "2023-11-25 06:25:29,256 [INFO]: clean_train_loss_step: 0.2141440510749817\n",
      "2023-11-25 06:25:29,258 [INFO]: epoch: 52\n"
     ]
    },
    {
     "data": {
      "application/vnd.jupyter.widget-view+json": {
       "model_id": "f34f38b0b84b4f39b64762688323cc3e",
       "version_major": 2,
       "version_minor": 0
      },
      "text/plain": [
       "Validation: 0it [00:00, ?it/s]"
      ]
     },
     "metadata": {},
     "output_type": "display_data"
    },
    {
     "name": "stderr",
     "output_type": "stream",
     "text": [
      "2023-11-25 06:25:37,559 [INFO]: clean_val_acc: 0.7704542279243469\n",
      "2023-11-25 06:25:37,561 [INFO]: clean_val_loss: 0.783753514289856\n",
      "2023-11-25 06:25:37,562 [INFO]: epoch: 52\n",
      "2023-11-25 06:25:37,591 [INFO]: clean_train_acc_epoch: 0.909155547618866\n",
      "2023-11-25 06:25:37,593 [INFO]: clean_train_loss_epoch: 0.2605837285518646\n",
      "2023-11-25 06:25:37,594 [INFO]: epoch: 52\n",
      "2023-11-25 06:25:42,818 [INFO]: lr-SGD: 0.004000179287306907\n",
      "2023-11-25 06:25:43,031 [INFO]: clean_train_acc_step: 0.8994140625\n",
      "2023-11-25 06:25:43,033 [INFO]: clean_train_loss_step: 0.3058128356933594\n",
      "2023-11-25 06:25:43,034 [INFO]: epoch: 53\n"
     ]
    },
    {
     "data": {
      "application/vnd.jupyter.widget-view+json": {
       "model_id": "20082db67c2f46ce992d0a763fc8192a",
       "version_major": 2,
       "version_minor": 0
      },
      "text/plain": [
       "Validation: 0it [00:00, ?it/s]"
      ]
     },
     "metadata": {},
     "output_type": "display_data"
    },
    {
     "name": "stderr",
     "output_type": "stream",
     "text": [
      "2023-11-25 06:25:50,114 [INFO]: clean_val_acc: 0.7807522416114807\n",
      "2023-11-25 06:25:50,117 [INFO]: clean_val_loss: 0.7401480674743652\n",
      "2023-11-25 06:25:50,118 [INFO]: epoch: 53\n",
      "2023-11-25 06:25:50,148 [INFO]: clean_train_acc_epoch: 0.9082444310188293\n",
      "2023-11-25 06:25:50,150 [INFO]: clean_train_loss_epoch: 0.2631917893886566\n",
      "2023-11-25 06:25:50,151 [INFO]: epoch: 53\n",
      "2023-11-25 06:25:56,486 [INFO]: lr-SGD: 0.004000187001028194\n",
      "2023-11-25 06:25:56,704 [INFO]: clean_train_acc_step: 0.9033203125\n",
      "2023-11-25 06:25:56,705 [INFO]: clean_train_loss_step: 0.2924235761165619\n",
      "2023-11-25 06:25:56,706 [INFO]: epoch: 54\n"
     ]
    },
    {
     "data": {
      "application/vnd.jupyter.widget-view+json": {
       "model_id": "9bb23e3ae3d84ad5870761c999f0524c",
       "version_major": 2,
       "version_minor": 0
      },
      "text/plain": [
       "Validation: 0it [00:00, ?it/s]"
      ]
     },
     "metadata": {},
     "output_type": "display_data"
    },
    {
     "name": "stderr",
     "output_type": "stream",
     "text": [
      "2023-11-25 06:26:02,618 [INFO]: clean_val_acc: 0.7868708372116089\n",
      "2023-11-25 06:26:02,620 [INFO]: clean_val_loss: 0.7222525477409363\n",
      "2023-11-25 06:26:02,621 [INFO]: epoch: 54\n",
      "2023-11-25 06:26:02,646 [INFO]: clean_train_acc_epoch: 0.9098222255706787\n",
      "2023-11-25 06:26:02,647 [INFO]: clean_train_loss_epoch: 0.2552947402000427\n",
      "2023-11-25 06:26:02,649 [INFO]: epoch: 54\n",
      "2023-11-25 06:26:10,001 [INFO]: lr-SGD: 0.004000194877211594\n",
      "2023-11-25 06:26:10,218 [INFO]: clean_train_acc_step: 0.92578125\n",
      "2023-11-25 06:26:10,219 [INFO]: clean_train_loss_step: 0.20715487003326416\n",
      "2023-11-25 06:26:10,221 [INFO]: epoch: 55\n"
     ]
    },
    {
     "data": {
      "application/vnd.jupyter.widget-view+json": {
       "model_id": "42d00d3a71f942c8991b39213a04532b",
       "version_major": 2,
       "version_minor": 0
      },
      "text/plain": [
       "Validation: 0it [00:00, ?it/s]"
      ]
     },
     "metadata": {},
     "output_type": "display_data"
    },
    {
     "name": "stderr",
     "output_type": "stream",
     "text": [
      "2023-11-25 06:26:14,832 [INFO]: clean_val_acc: 0.7398316264152527\n",
      "2023-11-25 06:26:14,834 [INFO]: clean_val_loss: 0.8970500826835632\n",
      "2023-11-25 06:26:14,836 [INFO]: epoch: 55\n",
      "2023-11-25 06:26:14,864 [INFO]: clean_train_acc_epoch: 0.9139999747276306\n",
      "2023-11-25 06:26:14,865 [INFO]: clean_train_loss_epoch: 0.2452172040939331\n",
      "2023-11-25 06:26:14,866 [INFO]: epoch: 55\n",
      "2023-11-25 06:26:23,697 [INFO]: lr-SGD: 0.004000202915857065\n",
      "2023-11-25 06:26:23,913 [INFO]: clean_train_acc_step: 0.90625\n",
      "2023-11-25 06:26:23,914 [INFO]: clean_train_loss_step: 0.2541028559207916\n",
      "2023-11-25 06:26:23,915 [INFO]: epoch: 56\n"
     ]
    },
    {
     "data": {
      "application/vnd.jupyter.widget-view+json": {
       "model_id": "338ac4a4475244c79277b14c2f0e0981",
       "version_major": 2,
       "version_minor": 0
      },
      "text/plain": [
       "Validation: 0it [00:00, ?it/s]"
      ]
     },
     "metadata": {},
     "output_type": "display_data"
    },
    {
     "name": "stderr",
     "output_type": "stream",
     "text": [
      "2023-11-25 06:26:27,408 [INFO]: clean_val_acc: 0.7746716141700745\n",
      "2023-11-25 06:26:27,409 [INFO]: clean_val_loss: 0.7945168614387512\n",
      "2023-11-25 06:26:27,411 [INFO]: epoch: 56\n",
      "2023-11-25 06:26:27,439 [INFO]: clean_train_acc_epoch: 0.9153110980987549\n",
      "2023-11-25 06:26:27,441 [INFO]: clean_train_loss_epoch: 0.2387232482433319\n",
      "2023-11-25 06:26:27,442 [INFO]: epoch: 56\n",
      "2023-11-25 06:26:37,274 [INFO]: lr-SGD: 0.004000211116964608\n",
      "2023-11-25 06:26:37,489 [INFO]: clean_train_acc_step: 0.9296875\n",
      "2023-11-25 06:26:37,492 [INFO]: clean_train_loss_step: 0.19164986908435822\n",
      "2023-11-25 06:26:37,493 [INFO]: epoch: 57\n"
     ]
    },
    {
     "data": {
      "application/vnd.jupyter.widget-view+json": {
       "model_id": "26feeafd9c2a4c9a856d630f7ba0d7c8",
       "version_major": 2,
       "version_minor": 0
      },
      "text/plain": [
       "Validation: 0it [00:00, ?it/s]"
      ]
     },
     "metadata": {},
     "output_type": "display_data"
    },
    {
     "name": "stderr",
     "output_type": "stream",
     "text": [
      "2023-11-25 06:26:39,805 [INFO]: clean_val_acc: 0.7103826403617859\n",
      "2023-11-25 06:26:39,807 [INFO]: clean_val_loss: 1.0972572565078735\n",
      "2023-11-25 06:26:39,808 [INFO]: epoch: 57\n",
      "2023-11-25 06:26:39,836 [INFO]: clean_train_acc_epoch: 0.9182888865470886\n",
      "2023-11-25 06:26:39,837 [INFO]: clean_train_loss_epoch: 0.23073604702949524\n",
      "2023-11-25 06:26:39,838 [INFO]: epoch: 57\n"
     ]
    },
    {
     "data": {
      "application/vnd.jupyter.widget-view+json": {
       "model_id": "1eaf51fe47c0480e81ff2179d394d6e9",
       "version_major": 2,
       "version_minor": 0
      },
      "text/plain": [
       "Validation: 0it [00:00, ?it/s]"
      ]
     },
     "metadata": {},
     "output_type": "display_data"
    },
    {
     "name": "stderr",
     "output_type": "stream",
     "text": [
      "2023-11-25 06:26:52,443 [INFO]: clean_val_acc: 0.6225508451461792\n",
      "2023-11-25 06:26:52,445 [INFO]: clean_val_loss: 1.7135261297225952\n",
      "2023-11-25 06:26:52,446 [INFO]: epoch: 58\n",
      "2023-11-25 06:26:52,476 [INFO]: clean_train_acc_epoch: 0.9205333590507507\n",
      "2023-11-25 06:26:52,478 [INFO]: clean_train_loss_epoch: 0.22797124087810516\n",
      "2023-11-25 06:26:52,479 [INFO]: epoch: 58\n",
      "2023-11-25 06:26:54,663 [INFO]: lr-SGD: 0.004000219480534181\n",
      "2023-11-25 06:26:54,882 [INFO]: clean_train_acc_step: 0.9208984375\n",
      "2023-11-25 06:26:54,883 [INFO]: clean_train_loss_step: 0.2316412627696991\n",
      "2023-11-25 06:26:54,886 [INFO]: epoch: 59\n"
     ]
    },
    {
     "data": {
      "application/vnd.jupyter.widget-view+json": {
       "model_id": "a29f42c89da74862962a13e6780791ca",
       "version_major": 2,
       "version_minor": 0
      },
      "text/plain": [
       "Validation: 0it [00:00, ?it/s]"
      ]
     },
     "metadata": {},
     "output_type": "display_data"
    },
    {
     "name": "stderr",
     "output_type": "stream",
     "text": [
      "2023-11-25 06:27:04,707 [INFO]: clean_val_acc: 0.807651698589325\n",
      "2023-11-25 06:27:04,709 [INFO]: clean_val_loss: 0.6491941213607788\n",
      "2023-11-25 06:27:04,711 [INFO]: epoch: 59\n",
      "2023-11-25 06:27:05,049 [INFO]: clean_train_acc_epoch: 0.9210000038146973\n",
      "2023-11-25 06:27:05,051 [INFO]: clean_train_loss_epoch: 0.22633898258209229\n",
      "2023-11-25 06:27:05,053 [INFO]: epoch: 59\n",
      "2023-11-25 06:27:08,711 [INFO]: lr-SGD: 0.0040002280065657425\n",
      "2023-11-25 06:27:08,925 [INFO]: clean_train_acc_step: 0.9169921875\n",
      "2023-11-25 06:27:08,927 [INFO]: clean_train_loss_step: 0.2140779197216034\n",
      "2023-11-25 06:27:08,928 [INFO]: epoch: 60\n"
     ]
    },
    {
     "data": {
      "application/vnd.jupyter.widget-view+json": {
       "model_id": "73808e9e381348d781e7bcf0043be060",
       "version_major": 2,
       "version_minor": 0
      },
      "text/plain": [
       "Validation: 0it [00:00, ?it/s]"
      ]
     },
     "metadata": {},
     "output_type": "display_data"
    },
    {
     "name": "stderr",
     "output_type": "stream",
     "text": [
      "2023-11-25 06:27:17,592 [INFO]: clean_val_acc: 0.7721585035324097\n",
      "2023-11-25 06:27:17,594 [INFO]: clean_val_loss: 0.8069254755973816\n",
      "2023-11-25 06:27:17,595 [INFO]: epoch: 60\n",
      "2023-11-25 06:27:17,620 [INFO]: clean_train_acc_epoch: 0.9251777529716492\n",
      "2023-11-25 06:27:17,621 [INFO]: clean_train_loss_epoch: 0.2165175974369049\n",
      "2023-11-25 06:27:17,622 [INFO]: epoch: 60\n",
      "2023-11-25 06:27:22,494 [INFO]: lr-SGD: 0.004000236695059292\n",
      "2023-11-25 06:27:22,714 [INFO]: clean_train_acc_step: 0.921875\n",
      "2023-11-25 06:27:22,715 [INFO]: clean_train_loss_step: 0.22562763094902039\n",
      "2023-11-25 06:27:22,717 [INFO]: epoch: 61\n"
     ]
    },
    {
     "data": {
      "application/vnd.jupyter.widget-view+json": {
       "model_id": "12ce36a3b96c48b1a497e79bd1708efa",
       "version_major": 2,
       "version_minor": 0
      },
      "text/plain": [
       "Validation: 0it [00:00, ?it/s]"
      ]
     },
     "metadata": {},
     "output_type": "display_data"
    },
    {
     "name": "stderr",
     "output_type": "stream",
     "text": [
      "2023-11-25 06:27:30,231 [INFO]: clean_val_acc: 0.8060874938964844\n",
      "2023-11-25 06:27:30,233 [INFO]: clean_val_loss: 0.6491662859916687\n",
      "2023-11-25 06:27:30,234 [INFO]: epoch: 61\n",
      "2023-11-25 06:27:30,267 [INFO]: clean_train_acc_epoch: 0.9260222315788269\n",
      "2023-11-25 06:27:30,268 [INFO]: clean_train_loss_epoch: 0.21039730310440063\n",
      "2023-11-25 06:27:30,270 [INFO]: epoch: 61\n",
      "2023-11-25 06:27:36,154 [INFO]: lr-SGD: 0.0040002455460147746\n",
      "2023-11-25 06:27:36,368 [INFO]: clean_train_acc_step: 0.943359375\n",
      "2023-11-25 06:27:36,370 [INFO]: clean_train_loss_step: 0.1860886663198471\n",
      "2023-11-25 06:27:36,371 [INFO]: epoch: 62\n"
     ]
    },
    {
     "data": {
      "application/vnd.jupyter.widget-view+json": {
       "model_id": "af365912865c49feaef6002f77faee65",
       "version_major": 2,
       "version_minor": 0
      },
      "text/plain": [
       "Validation: 0it [00:00, ?it/s]"
      ]
     },
     "metadata": {},
     "output_type": "display_data"
    },
    {
     "name": "stderr",
     "output_type": "stream",
     "text": [
      "2023-11-25 06:27:42,636 [INFO]: clean_val_acc: 0.8073233366012573\n",
      "2023-11-25 06:27:42,637 [INFO]: clean_val_loss: 0.6432970762252808\n",
      "2023-11-25 06:27:42,638 [INFO]: epoch: 62\n",
      "2023-11-25 06:27:42,663 [INFO]: clean_train_acc_epoch: 0.9281111359596252\n",
      "2023-11-25 06:27:42,663 [INFO]: clean_train_loss_epoch: 0.20416605472564697\n",
      "2023-11-25 06:27:42,665 [INFO]: epoch: 62\n",
      "2023-11-25 06:27:49,686 [INFO]: lr-SGD: 0.004000254559432176\n",
      "2023-11-25 06:27:49,905 [INFO]: clean_train_acc_step: 0.91015625\n",
      "2023-11-25 06:27:49,906 [INFO]: clean_train_loss_step: 0.25549745559692383\n",
      "2023-11-25 06:27:49,908 [INFO]: epoch: 63\n"
     ]
    },
    {
     "data": {
      "application/vnd.jupyter.widget-view+json": {
       "model_id": "1ba94d0f9fcf40228f6eda27d255b9f0",
       "version_major": 2,
       "version_minor": 0
      },
      "text/plain": [
       "Validation: 0it [00:00, ?it/s]"
      ]
     },
     "metadata": {},
     "output_type": "display_data"
    },
    {
     "name": "stderr",
     "output_type": "stream",
     "text": [
      "2023-11-25 06:27:54,907 [INFO]: clean_val_acc: 0.8010352849960327\n",
      "2023-11-25 06:27:54,908 [INFO]: clean_val_loss: 0.6699913740158081\n",
      "2023-11-25 06:27:54,910 [INFO]: epoch: 63\n",
      "2023-11-25 06:27:54,934 [INFO]: clean_train_acc_epoch: 0.9285777807235718\n",
      "2023-11-25 06:27:54,935 [INFO]: clean_train_loss_epoch: 0.2011619210243225\n",
      "2023-11-25 06:27:54,936 [INFO]: epoch: 63\n",
      "2023-11-25 06:28:03,382 [INFO]: lr-SGD: 0.0040002637353114545\n",
      "2023-11-25 06:28:03,595 [INFO]: clean_train_acc_step: 0.939453125\n",
      "2023-11-25 06:28:03,596 [INFO]: clean_train_loss_step: 0.15751191973686218\n",
      "2023-11-25 06:28:03,597 [INFO]: epoch: 64\n"
     ]
    },
    {
     "data": {
      "application/vnd.jupyter.widget-view+json": {
       "model_id": "a1ddd92922074793ac53b911c19e7415",
       "version_major": 2,
       "version_minor": 0
      },
      "text/plain": [
       "Validation: 0it [00:00, ?it/s]"
      ]
     },
     "metadata": {},
     "output_type": "display_data"
    },
    {
     "name": "stderr",
     "output_type": "stream",
     "text": [
      "2023-11-25 06:28:07,371 [INFO]: clean_val_acc: 0.7269030213356018\n",
      "2023-11-25 06:28:07,373 [INFO]: clean_val_loss: 1.0900907516479492\n",
      "2023-11-25 06:28:07,374 [INFO]: epoch: 64\n",
      "2023-11-25 06:28:07,402 [INFO]: clean_train_acc_epoch: 0.9302666783332825\n",
      "2023-11-25 06:28:07,403 [INFO]: clean_train_loss_epoch: 0.19793450832366943\n",
      "2023-11-25 06:28:07,405 [INFO]: epoch: 64\n",
      "2023-11-25 06:28:17,061 [INFO]: lr-SGD: 0.0040002730736525965\n",
      "2023-11-25 06:28:17,282 [INFO]: clean_train_acc_step: 0.931640625\n",
      "2023-11-25 06:28:17,283 [INFO]: clean_train_loss_step: 0.18631359934806824\n",
      "2023-11-25 06:28:17,285 [INFO]: epoch: 65\n"
     ]
    },
    {
     "data": {
      "application/vnd.jupyter.widget-view+json": {
       "model_id": "983f5e0c2a304979a2a2478bd15d7aea",
       "version_major": 2,
       "version_minor": 0
      },
      "text/plain": [
       "Validation: 0it [00:00, ?it/s]"
      ]
     },
     "metadata": {},
     "output_type": "display_data"
    },
    {
     "name": "stderr",
     "output_type": "stream",
     "text": [
      "2023-11-25 06:28:19,949 [INFO]: clean_val_acc: 0.7955423593521118\n",
      "2023-11-25 06:28:19,950 [INFO]: clean_val_loss: 0.7178966403007507\n",
      "2023-11-25 06:28:19,953 [INFO]: epoch: 65\n",
      "2023-11-25 06:28:19,978 [INFO]: clean_train_acc_epoch: 0.9333333373069763\n",
      "2023-11-25 06:28:19,979 [INFO]: clean_train_loss_epoch: 0.19086499512195587\n",
      "2023-11-25 06:28:19,980 [INFO]: epoch: 65\n"
     ]
    },
    {
     "data": {
      "application/vnd.jupyter.widget-view+json": {
       "model_id": "18cbdf14f03848759ff0fb241f5367ce",
       "version_major": 2,
       "version_minor": 0
      },
      "text/plain": [
       "Validation: 0it [00:00, ?it/s]"
      ]
     },
     "metadata": {},
     "output_type": "display_data"
    },
    {
     "name": "stderr",
     "output_type": "stream",
     "text": [
      "2023-11-25 06:28:32,285 [INFO]: clean_val_acc: 0.7978844046592712\n",
      "2023-11-25 06:28:32,287 [INFO]: clean_val_loss: 0.6672992706298828\n",
      "2023-11-25 06:28:32,288 [INFO]: epoch: 66\n",
      "2023-11-25 06:28:32,317 [INFO]: clean_train_acc_epoch: 0.9344221949577332\n",
      "2023-11-25 06:28:32,318 [INFO]: clean_train_loss_epoch: 0.18312491476535797\n",
      "2023-11-25 06:28:32,319 [INFO]: epoch: 66\n",
      "2023-11-25 06:28:34,152 [INFO]: lr-SGD: 0.004000282574455533\n",
      "2023-11-25 06:28:34,374 [INFO]: clean_train_acc_step: 0.9365234375\n",
      "2023-11-25 06:28:34,375 [INFO]: clean_train_loss_step: 0.16873428225517273\n",
      "2023-11-25 06:28:34,377 [INFO]: epoch: 67\n"
     ]
    },
    {
     "data": {
      "application/vnd.jupyter.widget-view+json": {
       "model_id": "dab1eaa14805479a90465784f004426f",
       "version_major": 2,
       "version_minor": 0
      },
      "text/plain": [
       "Validation: 0it [00:00, ?it/s]"
      ]
     },
     "metadata": {},
     "output_type": "display_data"
    },
    {
     "name": "stderr",
     "output_type": "stream",
     "text": [
      "2023-11-25 06:28:44,663 [INFO]: clean_val_acc: 0.765820324420929\n",
      "2023-11-25 06:28:44,666 [INFO]: clean_val_loss: 0.8440621495246887\n",
      "2023-11-25 06:28:44,667 [INFO]: epoch: 67\n",
      "2023-11-25 06:28:44,697 [INFO]: clean_train_acc_epoch: 0.9371777772903442\n",
      "2023-11-25 06:28:44,698 [INFO]: clean_train_loss_epoch: 0.17723755538463593\n",
      "2023-11-25 06:28:44,699 [INFO]: epoch: 67\n",
      "2023-11-25 06:28:47,867 [INFO]: lr-SGD: 0.0040002922377202765\n",
      "2023-11-25 06:28:48,088 [INFO]: clean_train_acc_step: 0.9453125\n",
      "2023-11-25 06:28:48,090 [INFO]: clean_train_loss_step: 0.1733027845621109\n",
      "2023-11-25 06:28:48,091 [INFO]: epoch: 68\n"
     ]
    },
    {
     "data": {
      "application/vnd.jupyter.widget-view+json": {
       "model_id": "9c5e909d16a9494ea0242977df7f2ec5",
       "version_major": 2,
       "version_minor": 0
      },
      "text/plain": [
       "Validation: 0it [00:00, ?it/s]"
      ]
     },
     "metadata": {},
     "output_type": "display_data"
    },
    {
     "name": "stderr",
     "output_type": "stream",
     "text": [
      "2023-11-25 06:28:57,149 [INFO]: clean_val_acc: 0.7779141664505005\n",
      "2023-11-25 06:28:57,150 [INFO]: clean_val_loss: 0.7671611905097961\n",
      "2023-11-25 06:28:57,152 [INFO]: epoch: 68\n",
      "2023-11-25 06:28:57,178 [INFO]: clean_train_acc_epoch: 0.9410889148712158\n",
      "2023-11-25 06:28:57,179 [INFO]: clean_train_loss_epoch: 0.1711934208869934\n",
      "2023-11-25 06:28:57,180 [INFO]: epoch: 68\n",
      "2023-11-25 06:29:01,474 [INFO]: lr-SGD: 0.004000302063446773\n",
      "2023-11-25 06:29:01,690 [INFO]: clean_train_acc_step: 0.9365234375\n",
      "2023-11-25 06:29:01,691 [INFO]: clean_train_loss_step: 0.1820913851261139\n",
      "2023-11-25 06:29:01,692 [INFO]: epoch: 69\n"
     ]
    },
    {
     "data": {
      "application/vnd.jupyter.widget-view+json": {
       "model_id": "6349e753b96b4f9794c5025c427dc8c6",
       "version_major": 2,
       "version_minor": 0
      },
      "text/plain": [
       "Validation: 0it [00:00, ?it/s]"
      ]
     },
     "metadata": {},
     "output_type": "display_data"
    },
    {
     "name": "stderr",
     "output_type": "stream",
     "text": [
      "2023-11-25 06:29:09,438 [INFO]: clean_val_acc: 0.8108009099960327\n",
      "2023-11-25 06:29:09,439 [INFO]: clean_val_loss: 0.6620620489120483\n",
      "2023-11-25 06:29:09,440 [INFO]: epoch: 69\n",
      "2023-11-25 06:29:09,779 [INFO]: clean_train_acc_epoch: 0.938622236251831\n",
      "2023-11-25 06:29:09,781 [INFO]: clean_train_loss_epoch: 0.17351451516151428\n",
      "2023-11-25 06:29:09,782 [INFO]: epoch: 69\n",
      "2023-11-25 06:29:15,250 [INFO]: lr-SGD: 0.004000312051634994\n",
      "2023-11-25 06:29:15,470 [INFO]: clean_train_acc_step: 0.9482421875\n",
      "2023-11-25 06:29:15,472 [INFO]: clean_train_loss_step: 0.15225541591644287\n",
      "2023-11-25 06:29:15,473 [INFO]: epoch: 70\n"
     ]
    },
    {
     "data": {
      "application/vnd.jupyter.widget-view+json": {
       "model_id": "49d4d19f06e04e5ea5e347b2c0f8916c",
       "version_major": 2,
       "version_minor": 0
      },
      "text/plain": [
       "Validation: 0it [00:00, ?it/s]"
      ]
     },
     "metadata": {},
     "output_type": "display_data"
    },
    {
     "name": "stderr",
     "output_type": "stream",
     "text": [
      "2023-11-25 06:29:22,173 [INFO]: clean_val_acc: 0.8053460121154785\n",
      "2023-11-25 06:29:22,174 [INFO]: clean_val_loss: 0.7136406302452087\n",
      "2023-11-25 06:29:22,176 [INFO]: epoch: 70\n",
      "2023-11-25 06:29:22,206 [INFO]: clean_train_acc_epoch: 0.9413333535194397\n",
      "2023-11-25 06:29:22,207 [INFO]: clean_train_loss_epoch: 0.1659214347600937\n",
      "2023-11-25 06:29:22,209 [INFO]: epoch: 70\n",
      "2023-11-25 06:29:28,859 [INFO]: lr-SGD: 0.004000322202284884\n",
      "2023-11-25 06:29:29,074 [INFO]: clean_train_acc_step: 0.943359375\n",
      "2023-11-25 06:29:29,076 [INFO]: clean_train_loss_step: 0.14946921169757843\n",
      "2023-11-25 06:29:29,078 [INFO]: epoch: 71\n"
     ]
    },
    {
     "data": {
      "application/vnd.jupyter.widget-view+json": {
       "model_id": "70a5ece81b7940a9b3ca3d0978aeb714",
       "version_major": 2,
       "version_minor": 0
      },
      "text/plain": [
       "Validation: 0it [00:00, ?it/s]"
      ]
     },
     "metadata": {},
     "output_type": "display_data"
    },
    {
     "name": "stderr",
     "output_type": "stream",
     "text": [
      "2023-11-25 06:29:34,528 [INFO]: clean_val_acc: 0.8146553039550781\n",
      "2023-11-25 06:29:34,530 [INFO]: clean_val_loss: 0.6301183104515076\n",
      "2023-11-25 06:29:34,531 [INFO]: epoch: 71\n",
      "2023-11-25 06:29:34,902 [INFO]: clean_train_acc_epoch: 0.9427333474159241\n",
      "2023-11-25 06:29:34,905 [INFO]: clean_train_loss_epoch: 0.16254505515098572\n",
      "2023-11-25 06:29:34,906 [INFO]: epoch: 71\n",
      "2023-11-25 06:29:43,078 [INFO]: lr-SGD: 0.004000332515396443\n",
      "2023-11-25 06:29:43,298 [INFO]: clean_train_acc_step: 0.951171875\n",
      "2023-11-25 06:29:43,299 [INFO]: clean_train_loss_step: 0.14227576553821564\n",
      "2023-11-25 06:29:43,301 [INFO]: epoch: 72\n"
     ]
    },
    {
     "data": {
      "application/vnd.jupyter.widget-view+json": {
       "model_id": "95f87b04624c481da20107d690eb6931",
       "version_major": 2,
       "version_minor": 0
      },
      "text/plain": [
       "Validation: 0it [00:00, ?it/s]"
      ]
     },
     "metadata": {},
     "output_type": "display_data"
    },
    {
     "name": "stderr",
     "output_type": "stream",
     "text": [
      "2023-11-25 06:29:47,509 [INFO]: clean_val_acc: 0.8069742321968079\n",
      "2023-11-25 06:29:47,512 [INFO]: clean_val_loss: 0.6771016120910645\n",
      "2023-11-25 06:29:47,514 [INFO]: epoch: 72\n",
      "2023-11-25 06:29:47,544 [INFO]: clean_train_acc_epoch: 0.9437111020088196\n",
      "2023-11-25 06:29:47,546 [INFO]: clean_train_loss_epoch: 0.1595565378665924\n",
      "2023-11-25 06:29:47,548 [INFO]: epoch: 72\n",
      "2023-11-25 06:29:56,790 [INFO]: lr-SGD: 0.00400034299096963\n",
      "2023-11-25 06:29:57,005 [INFO]: clean_train_acc_step: 0.93359375\n",
      "2023-11-25 06:29:57,007 [INFO]: clean_train_loss_step: 0.16033531725406647\n",
      "2023-11-25 06:29:57,008 [INFO]: epoch: 73\n"
     ]
    },
    {
     "data": {
      "application/vnd.jupyter.widget-view+json": {
       "model_id": "7dd9afe24b154c9ea2d7dbb2c2884c08",
       "version_major": 2,
       "version_minor": 0
      },
      "text/plain": [
       "Validation: 0it [00:00, ?it/s]"
      ]
     },
     "metadata": {},
     "output_type": "display_data"
    },
    {
     "name": "stderr",
     "output_type": "stream",
     "text": [
      "2023-11-25 06:29:59,994 [INFO]: clean_val_acc: 0.8116599917411804\n",
      "2023-11-25 06:29:59,997 [INFO]: clean_val_loss: 0.6595209240913391\n",
      "2023-11-25 06:29:59,998 [INFO]: epoch: 73\n",
      "2023-11-25 06:30:00,037 [INFO]: clean_train_acc_epoch: 0.945288896560669\n",
      "2023-11-25 06:30:00,038 [INFO]: clean_train_loss_epoch: 0.15194259583950043\n",
      "2023-11-25 06:30:00,039 [INFO]: epoch: 73\n",
      "2023-11-25 06:30:10,505 [INFO]: lr-SGD: 0.004000353629004402\n",
      "2023-11-25 06:30:10,719 [INFO]: clean_train_acc_step: 0.9504132270812988\n",
      "2023-11-25 06:30:10,721 [INFO]: clean_train_loss_step: 0.13013321161270142\n",
      "2023-11-25 06:30:10,721 [INFO]: epoch: 74\n"
     ]
    },
    {
     "data": {
      "application/vnd.jupyter.widget-view+json": {
       "model_id": "e521fcb9cb604d1ab5baa24fa1611365",
       "version_major": 2,
       "version_minor": 0
      },
      "text/plain": [
       "Validation: 0it [00:00, ?it/s]"
      ]
     },
     "metadata": {},
     "output_type": "display_data"
    },
    {
     "name": "stderr",
     "output_type": "stream",
     "text": [
      "2023-11-25 06:30:12,538 [INFO]: clean_val_acc: 0.8134316205978394\n",
      "2023-11-25 06:30:12,540 [INFO]: clean_val_loss: 0.6628640294075012\n",
      "2023-11-25 06:30:12,541 [INFO]: epoch: 74\n",
      "2023-11-25 06:30:12,575 [INFO]: clean_train_acc_epoch: 0.9456666707992554\n",
      "2023-11-25 06:30:12,577 [INFO]: clean_train_loss_epoch: 0.15302154421806335\n",
      "2023-11-25 06:30:12,578 [INFO]: epoch: 74\n"
     ]
    },
    {
     "data": {
      "application/vnd.jupyter.widget-view+json": {
       "model_id": "623dd9de367441028b1734a4e92b3c75",
       "version_major": 2,
       "version_minor": 0
      },
      "text/plain": [
       "Validation: 0it [00:00, ?it/s]"
      ]
     },
     "metadata": {},
     "output_type": "display_data"
    },
    {
     "name": "stderr",
     "output_type": "stream",
     "text": [
      "2023-11-25 06:30:24,945 [INFO]: clean_val_acc: 0.8244608044624329\n",
      "2023-11-25 06:30:24,946 [INFO]: clean_val_loss: 0.5947043895721436\n",
      "2023-11-25 06:30:24,948 [INFO]: epoch: 75\n",
      "2023-11-25 06:30:25,307 [INFO]: clean_train_acc_epoch: 0.9459999799728394\n",
      "2023-11-25 06:30:25,308 [INFO]: clean_train_loss_epoch: 0.154902383685112\n",
      "2023-11-25 06:30:25,309 [INFO]: epoch: 75\n",
      "2023-11-25 06:30:28,173 [INFO]: lr-SGD: 0.004000364429500705\n",
      "2023-11-25 06:30:28,391 [INFO]: clean_train_acc_step: 0.95703125\n",
      "2023-11-25 06:30:28,393 [INFO]: clean_train_loss_step: 0.13738347589969635\n",
      "2023-11-25 06:30:28,394 [INFO]: epoch: 76\n"
     ]
    },
    {
     "data": {
      "application/vnd.jupyter.widget-view+json": {
       "model_id": "4edbf5728e994af98c2184923e16b3a7",
       "version_major": 2,
       "version_minor": 0
      },
      "text/plain": [
       "Validation: 0it [00:00, ?it/s]"
      ]
     },
     "metadata": {},
     "output_type": "display_data"
    },
    {
     "name": "stderr",
     "output_type": "stream",
     "text": [
      "2023-11-25 06:30:37,929 [INFO]: clean_val_acc: 0.8241478800773621\n",
      "2023-11-25 06:30:37,930 [INFO]: clean_val_loss: 0.6250602006912231\n",
      "2023-11-25 06:30:37,931 [INFO]: epoch: 76\n",
      "2023-11-25 06:30:38,294 [INFO]: clean_train_acc_epoch: 0.9448666572570801\n",
      "2023-11-25 06:30:38,295 [INFO]: clean_train_loss_epoch: 0.15419486165046692\n",
      "2023-11-25 06:30:38,298 [INFO]: epoch: 76\n",
      "2023-11-25 06:30:42,137 [INFO]: lr-SGD: 0.0040003753924585245\n",
      "2023-11-25 06:30:42,355 [INFO]: clean_train_acc_step: 0.95703125\n",
      "2023-11-25 06:30:42,356 [INFO]: clean_train_loss_step: 0.11927174031734467\n",
      "2023-11-25 06:30:42,357 [INFO]: epoch: 77\n"
     ]
    },
    {
     "data": {
      "application/vnd.jupyter.widget-view+json": {
       "model_id": "101e52ff7ae04d259d506d7e701dbdcd",
       "version_major": 2,
       "version_minor": 0
      },
      "text/plain": [
       "Validation: 0it [00:00, ?it/s]"
      ]
     },
     "metadata": {},
     "output_type": "display_data"
    },
    {
     "name": "stderr",
     "output_type": "stream",
     "text": [
      "2023-11-25 06:30:50,642 [INFO]: clean_val_acc: 0.7637496590614319\n",
      "2023-11-25 06:30:50,643 [INFO]: clean_val_loss: 0.9159483909606934\n",
      "2023-11-25 06:30:50,645 [INFO]: epoch: 77\n",
      "2023-11-25 06:30:50,673 [INFO]: clean_train_acc_epoch: 0.9469777941703796\n",
      "2023-11-25 06:30:50,674 [INFO]: clean_train_loss_epoch: 0.15199680626392365\n",
      "2023-11-25 06:30:50,675 [INFO]: epoch: 77\n",
      "2023-11-25 06:30:55,729 [INFO]: lr-SGD: 0.004000386517877805\n",
      "2023-11-25 06:30:55,945 [INFO]: clean_train_acc_step: 0.94921875\n",
      "2023-11-25 06:30:55,947 [INFO]: clean_train_loss_step: 0.14058361947536469\n",
      "2023-11-25 06:30:55,949 [INFO]: epoch: 78\n"
     ]
    },
    {
     "data": {
      "application/vnd.jupyter.widget-view+json": {
       "model_id": "403c0288c22546ad918f71f9aa8becec",
       "version_major": 2,
       "version_minor": 0
      },
      "text/plain": [
       "Validation: 0it [00:00, ?it/s]"
      ]
     },
     "metadata": {},
     "output_type": "display_data"
    },
    {
     "name": "stderr",
     "output_type": "stream",
     "text": [
      "2023-11-25 06:31:03,006 [INFO]: clean_val_acc: 0.809694766998291\n",
      "2023-11-25 06:31:03,008 [INFO]: clean_val_loss: 0.6694291830062866\n",
      "2023-11-25 06:31:03,009 [INFO]: epoch: 78\n",
      "2023-11-25 06:31:03,038 [INFO]: clean_train_acc_epoch: 0.9470666646957397\n",
      "2023-11-25 06:31:03,039 [INFO]: clean_train_loss_epoch: 0.14760708808898926\n",
      "2023-11-25 06:31:03,041 [INFO]: epoch: 78\n",
      "2023-11-25 06:31:09,982 [INFO]: lr-SGD: 0.004000397805758532\n",
      "2023-11-25 06:31:10,237 [INFO]: clean_train_acc_step: 0.9404296875\n",
      "2023-11-25 06:31:10,241 [INFO]: clean_train_loss_step: 0.17541438341140747\n",
      "2023-11-25 06:31:10,243 [INFO]: epoch: 79\n"
     ]
    },
    {
     "data": {
      "application/vnd.jupyter.widget-view+json": {
       "model_id": "5390fa14e9ad4ca2a3f9a6354908b027",
       "version_major": 2,
       "version_minor": 0
      },
      "text/plain": [
       "Validation: 0it [00:00, ?it/s]"
      ]
     },
     "metadata": {},
     "output_type": "display_data"
    },
    {
     "name": "stderr",
     "output_type": "stream",
     "text": [
      "2023-11-25 06:31:16,491 [INFO]: clean_val_acc: 0.8160484433174133\n",
      "2023-11-25 06:31:16,494 [INFO]: clean_val_loss: 0.6806254386901855\n",
      "2023-11-25 06:31:16,496 [INFO]: epoch: 79\n",
      "2023-11-25 06:31:16,525 [INFO]: clean_train_acc_epoch: 0.9506444334983826\n",
      "2023-11-25 06:31:16,527 [INFO]: clean_train_loss_epoch: 0.14373502135276794\n",
      "2023-11-25 06:31:16,528 [INFO]: epoch: 79\n",
      "2023-11-25 06:31:24,198 [INFO]: lr-SGD: 0.004000409256100665\n",
      "2023-11-25 06:31:24,414 [INFO]: clean_train_acc_step: 0.9560546875\n",
      "2023-11-25 06:31:24,416 [INFO]: clean_train_loss_step: 0.13265560567378998\n",
      "2023-11-25 06:31:24,417 [INFO]: epoch: 80\n"
     ]
    },
    {
     "data": {
      "application/vnd.jupyter.widget-view+json": {
       "model_id": "d8b7380894e04024961dff4af6c6fdf5",
       "version_major": 2,
       "version_minor": 0
      },
      "text/plain": [
       "Validation: 0it [00:00, ?it/s]"
      ]
     },
     "metadata": {},
     "output_type": "display_data"
    },
    {
     "name": "stderr",
     "output_type": "stream",
     "text": [
      "2023-11-25 06:31:29,016 [INFO]: clean_val_acc: 0.8070657849311829\n",
      "2023-11-25 06:31:29,017 [INFO]: clean_val_loss: 0.7412758469581604\n",
      "2023-11-25 06:31:29,019 [INFO]: epoch: 80\n",
      "2023-11-25 06:31:29,047 [INFO]: clean_train_acc_epoch: 0.9502888917922974\n",
      "2023-11-25 06:31:29,048 [INFO]: clean_train_loss_epoch: 0.14034698903560638\n",
      "2023-11-25 06:31:29,050 [INFO]: epoch: 80\n",
      "2023-11-25 06:31:37,792 [INFO]: lr-SGD: 0.004000420868904148\n",
      "2023-11-25 06:31:38,011 [INFO]: clean_train_acc_step: 0.9453125\n",
      "2023-11-25 06:31:38,013 [INFO]: clean_train_loss_step: 0.1445877104997635\n",
      "2023-11-25 06:31:38,014 [INFO]: epoch: 81\n"
     ]
    },
    {
     "data": {
      "application/vnd.jupyter.widget-view+json": {
       "model_id": "a9bd1afb19794f3187eb33d27bfb91c7",
       "version_major": 2,
       "version_minor": 0
      },
      "text/plain": [
       "Validation: 0it [00:00, ?it/s]"
      ]
     },
     "metadata": {},
     "output_type": "display_data"
    },
    {
     "name": "stderr",
     "output_type": "stream",
     "text": [
      "2023-11-25 06:31:41,449 [INFO]: clean_val_acc: 0.7976510524749756\n",
      "2023-11-25 06:31:41,450 [INFO]: clean_val_loss: 0.8326461911201477\n",
      "2023-11-25 06:31:41,451 [INFO]: epoch: 81\n",
      "2023-11-25 06:31:41,481 [INFO]: clean_train_acc_epoch: 0.9508222341537476\n",
      "2023-11-25 06:31:41,483 [INFO]: clean_train_loss_epoch: 0.1365882307291031\n",
      "2023-11-25 06:31:41,484 [INFO]: epoch: 81\n",
      "2023-11-25 06:31:51,614 [INFO]: lr-SGD: 0.0040004326441689525\n",
      "2023-11-25 06:31:51,829 [INFO]: clean_train_acc_step: 0.955078125\n",
      "2023-11-25 06:31:51,831 [INFO]: clean_train_loss_step: 0.13277198374271393\n",
      "2023-11-25 06:31:51,833 [INFO]: epoch: 82\n"
     ]
    },
    {
     "data": {
      "application/vnd.jupyter.widget-view+json": {
       "model_id": "66ed5d1b510849f7b36cd56107a30db8",
       "version_major": 2,
       "version_minor": 0
      },
      "text/plain": [
       "Validation: 0it [00:00, ?it/s]"
      ]
     },
     "metadata": {},
     "output_type": "display_data"
    },
    {
     "name": "stderr",
     "output_type": "stream",
     "text": [
      "2023-11-25 06:31:54,807 [INFO]: clean_val_acc: 0.8094735145568848\n",
      "2023-11-25 06:31:54,810 [INFO]: clean_val_loss: 0.7264631390571594\n",
      "2023-11-25 06:31:54,812 [INFO]: epoch: 82\n",
      "2023-11-25 06:31:54,857 [INFO]: clean_train_acc_epoch: 0.9520666599273682\n",
      "2023-11-25 06:31:54,859 [INFO]: clean_train_loss_epoch: 0.13348978757858276\n",
      "2023-11-25 06:31:54,861 [INFO]: epoch: 82\n"
     ]
    },
    {
     "data": {
      "application/vnd.jupyter.widget-view+json": {
       "model_id": "8ba9f97b5fbd4299aa7a437111fc07bb",
       "version_major": 2,
       "version_minor": 0
      },
      "text/plain": [
       "Validation: 0it [00:00, ?it/s]"
      ]
     },
     "metadata": {},
     "output_type": "display_data"
    },
    {
     "name": "stderr",
     "output_type": "stream",
     "text": [
      "2023-11-25 06:32:09,230 [INFO]: clean_val_acc: 0.8118293881416321\n",
      "2023-11-25 06:32:09,234 [INFO]: clean_val_loss: 0.7172583341598511\n",
      "2023-11-25 06:32:09,236 [INFO]: epoch: 83\n",
      "2023-11-25 06:32:09,286 [INFO]: clean_train_acc_epoch: 0.9532222151756287\n",
      "2023-11-25 06:32:09,289 [INFO]: clean_train_loss_epoch: 0.13213250041007996\n",
      "2023-11-25 06:32:09,291 [INFO]: epoch: 83\n",
      "2023-11-25 06:32:12,343 [INFO]: lr-SGD: 0.004000444581895038\n",
      "2023-11-25 06:32:12,575 [INFO]: clean_train_acc_step: 0.9345703125\n",
      "2023-11-25 06:32:12,577 [INFO]: clean_train_loss_step: 0.15582041442394257\n",
      "2023-11-25 06:32:12,579 [INFO]: epoch: 84\n"
     ]
    },
    {
     "data": {
      "application/vnd.jupyter.widget-view+json": {
       "model_id": "2278503e869d4765a47361013eb8b0ac",
       "version_major": 2,
       "version_minor": 0
      },
      "text/plain": [
       "Validation: 0it [00:00, ?it/s]"
      ]
     },
     "metadata": {},
     "output_type": "display_data"
    },
    {
     "name": "stderr",
     "output_type": "stream",
     "text": [
      "2023-11-25 06:32:22,508 [INFO]: clean_val_acc: 0.810045599937439\n",
      "2023-11-25 06:32:22,510 [INFO]: clean_val_loss: 0.7045843005180359\n",
      "2023-11-25 06:32:22,511 [INFO]: epoch: 84\n",
      "2023-11-25 06:32:22,537 [INFO]: clean_train_acc_epoch: 0.9535777568817139\n",
      "2023-11-25 06:32:22,538 [INFO]: clean_train_loss_epoch: 0.13051678240299225\n",
      "2023-11-25 06:32:22,539 [INFO]: epoch: 84\n",
      "2023-11-25 06:32:25,996 [INFO]: lr-SGD: 0.004000456682082362\n",
      "2023-11-25 06:32:26,218 [INFO]: clean_train_acc_step: 0.9443359375\n",
      "2023-11-25 06:32:26,219 [INFO]: clean_train_loss_step: 0.13995569944381714\n",
      "2023-11-25 06:32:26,221 [INFO]: epoch: 85\n"
     ]
    },
    {
     "data": {
      "application/vnd.jupyter.widget-view+json": {
       "model_id": "fb3dc3441fa6406f883348ae1ab6a03d",
       "version_major": 2,
       "version_minor": 0
      },
      "text/plain": [
       "Validation: 0it [00:00, ?it/s]"
      ]
     },
     "metadata": {},
     "output_type": "display_data"
    },
    {
     "name": "stderr",
     "output_type": "stream",
     "text": [
      "2023-11-25 06:32:34,817 [INFO]: clean_val_acc: 0.7878473997116089\n",
      "2023-11-25 06:32:34,819 [INFO]: clean_val_loss: 0.8421506881713867\n",
      "2023-11-25 06:32:34,820 [INFO]: epoch: 85\n",
      "2023-11-25 06:32:34,848 [INFO]: clean_train_acc_epoch: 0.9557333588600159\n",
      "2023-11-25 06:32:34,849 [INFO]: clean_train_loss_epoch: 0.12686868011951447\n",
      "2023-11-25 06:32:34,850 [INFO]: epoch: 85\n",
      "2023-11-25 06:32:39,447 [INFO]: lr-SGD: 0.004000468944730884\n",
      "2023-11-25 06:32:39,666 [INFO]: clean_train_acc_step: 0.9423828125\n",
      "2023-11-25 06:32:39,668 [INFO]: clean_train_loss_step: 0.133016899228096\n",
      "2023-11-25 06:32:39,669 [INFO]: epoch: 86\n"
     ]
    },
    {
     "data": {
      "application/vnd.jupyter.widget-view+json": {
       "model_id": "6c3019201dec43e684397fb301bd6a1a",
       "version_major": 2,
       "version_minor": 0
      },
      "text/plain": [
       "Validation: 0it [00:00, ?it/s]"
      ]
     },
     "metadata": {},
     "output_type": "display_data"
    },
    {
     "name": "stderr",
     "output_type": "stream",
     "text": [
      "2023-11-25 06:32:47,080 [INFO]: clean_val_acc: 0.7955821752548218\n",
      "2023-11-25 06:32:47,082 [INFO]: clean_val_loss: 0.8003262281417847\n",
      "2023-11-25 06:32:47,083 [INFO]: epoch: 86\n",
      "2023-11-25 06:32:47,111 [INFO]: clean_train_acc_epoch: 0.954288899898529\n",
      "2023-11-25 06:32:47,113 [INFO]: clean_train_loss_epoch: 0.1264922171831131\n",
      "2023-11-25 06:32:47,114 [INFO]: epoch: 86\n",
      "2023-11-25 06:32:53,118 [INFO]: lr-SGD: 0.004000481369840561\n",
      "2023-11-25 06:32:53,333 [INFO]: clean_train_acc_step: 0.94921875\n",
      "2023-11-25 06:32:53,335 [INFO]: clean_train_loss_step: 0.14361786842346191\n",
      "2023-11-25 06:32:53,336 [INFO]: epoch: 87\n"
     ]
    },
    {
     "data": {
      "application/vnd.jupyter.widget-view+json": {
       "model_id": "e72a0b6b3192497b82636fc956e2b18f",
       "version_major": 2,
       "version_minor": 0
      },
      "text/plain": [
       "Validation: 0it [00:00, ?it/s]"
      ]
     },
     "metadata": {},
     "output_type": "display_data"
    },
    {
     "name": "stderr",
     "output_type": "stream",
     "text": [
      "2023-11-25 06:32:59,503 [INFO]: clean_val_acc: 0.7677319645881653\n",
      "2023-11-25 06:32:59,506 [INFO]: clean_val_loss: 1.0026705265045166\n",
      "2023-11-25 06:32:59,507 [INFO]: epoch: 87\n",
      "2023-11-25 06:32:59,534 [INFO]: clean_train_acc_epoch: 0.9550666809082031\n",
      "2023-11-25 06:32:59,535 [INFO]: clean_train_loss_epoch: 0.12421595305204391\n",
      "2023-11-25 06:32:59,536 [INFO]: epoch: 87\n",
      "2023-11-25 06:33:06,641 [INFO]: lr-SGD: 0.004000493957411366\n",
      "2023-11-25 06:33:06,862 [INFO]: clean_train_acc_step: 0.9609375\n",
      "2023-11-25 06:33:06,863 [INFO]: clean_train_loss_step: 0.10701543092727661\n",
      "2023-11-25 06:33:06,865 [INFO]: epoch: 88\n"
     ]
    },
    {
     "data": {
      "application/vnd.jupyter.widget-view+json": {
       "model_id": "64d72e9c32bf4ae78eb9fcddf54291bf",
       "version_major": 2,
       "version_minor": 0
      },
      "text/plain": [
       "Validation: 0it [00:00, ?it/s]"
      ]
     },
     "metadata": {},
     "output_type": "display_data"
    },
    {
     "name": "stderr",
     "output_type": "stream",
     "text": [
      "2023-11-25 06:33:11,861 [INFO]: clean_val_acc: 0.8001503944396973\n",
      "2023-11-25 06:33:11,863 [INFO]: clean_val_loss: 0.8335731625556946\n",
      "2023-11-25 06:33:11,865 [INFO]: epoch: 88\n",
      "2023-11-25 06:33:11,893 [INFO]: clean_train_acc_epoch: 0.958133339881897\n",
      "2023-11-25 06:33:11,894 [INFO]: clean_train_loss_epoch: 0.11709094792604446\n",
      "2023-11-25 06:33:11,895 [INFO]: epoch: 88\n",
      "2023-11-25 06:33:20,169 [INFO]: lr-SGD: 0.004000506707443216\n",
      "2023-11-25 06:33:20,383 [INFO]: clean_train_acc_step: 0.9697265625\n",
      "2023-11-25 06:33:20,386 [INFO]: clean_train_loss_step: 0.0940512865781784\n",
      "2023-11-25 06:33:20,387 [INFO]: epoch: 89\n"
     ]
    },
    {
     "data": {
      "application/vnd.jupyter.widget-view+json": {
       "model_id": "920bdce1c28545eeb85b77636fdf821d",
       "version_major": 2,
       "version_minor": 0
      },
      "text/plain": [
       "Validation: 0it [00:00, ?it/s]"
      ]
     },
     "metadata": {},
     "output_type": "display_data"
    },
    {
     "name": "stderr",
     "output_type": "stream",
     "text": [
      "2023-11-25 06:33:24,269 [INFO]: clean_val_acc: 0.8134437799453735\n",
      "2023-11-25 06:33:24,272 [INFO]: clean_val_loss: 0.6731476187705994\n",
      "2023-11-25 06:33:24,274 [INFO]: epoch: 89\n",
      "2023-11-25 06:33:24,306 [INFO]: clean_train_acc_epoch: 0.9595555663108826\n",
      "2023-11-25 06:33:24,307 [INFO]: clean_train_loss_epoch: 0.11432478576898575\n",
      "2023-11-25 06:33:24,309 [INFO]: epoch: 89\n",
      "2023-11-25 06:33:33,833 [INFO]: lr-SGD: 0.00400051961993611\n",
      "2023-11-25 06:33:34,056 [INFO]: clean_train_acc_step: 0.9697265625\n",
      "2023-11-25 06:33:34,057 [INFO]: clean_train_loss_step: 0.08652706444263458\n",
      "2023-11-25 06:33:34,059 [INFO]: epoch: 90\n"
     ]
    },
    {
     "data": {
      "application/vnd.jupyter.widget-view+json": {
       "model_id": "678b729dab7743578571faaaf2c0106a",
       "version_major": 2,
       "version_minor": 0
      },
      "text/plain": [
       "Validation: 0it [00:00, ?it/s]"
      ]
     },
     "metadata": {},
     "output_type": "display_data"
    },
    {
     "name": "stderr",
     "output_type": "stream",
     "text": [
      "2023-11-25 06:33:36,716 [INFO]: clean_val_acc: 0.831906795501709\n",
      "2023-11-25 06:33:36,717 [INFO]: clean_val_loss: 0.6268957257270813\n",
      "2023-11-25 06:33:36,719 [INFO]: epoch: 90\n",
      "2023-11-25 06:33:37,075 [INFO]: clean_train_acc_epoch: 0.9613555669784546\n",
      "2023-11-25 06:33:37,077 [INFO]: clean_train_loss_epoch: 0.10844194889068604\n",
      "2023-11-25 06:33:37,078 [INFO]: epoch: 90\n"
     ]
    },
    {
     "data": {
      "application/vnd.jupyter.widget-view+json": {
       "model_id": "22ffee05af034164b137eed5d7c3e5a4",
       "version_major": 2,
       "version_minor": 0
      },
      "text/plain": [
       "Validation: 0it [00:00, ?it/s]"
      ]
     },
     "metadata": {},
     "output_type": "display_data"
    },
    {
     "name": "stderr",
     "output_type": "stream",
     "text": [
      "2023-11-25 06:33:49,302 [INFO]: clean_val_acc: 0.8275045156478882\n",
      "2023-11-25 06:33:49,304 [INFO]: clean_val_loss: 0.6621226072311401\n",
      "2023-11-25 06:33:49,306 [INFO]: epoch: 91\n",
      "2023-11-25 06:33:49,611 [INFO]: clean_train_acc_epoch: 0.9647777676582336\n",
      "2023-11-25 06:33:49,612 [INFO]: clean_train_loss_epoch: 0.0994613915681839\n",
      "2023-11-25 06:33:49,614 [INFO]: epoch: 91\n",
      "2023-11-25 06:33:51,462 [INFO]: lr-SGD: 0.004000532694889994\n",
      "2023-11-25 06:33:51,684 [INFO]: clean_train_acc_step: 0.978515625\n",
      "2023-11-25 06:33:51,685 [INFO]: clean_train_loss_step: 0.0721130520105362\n",
      "2023-11-25 06:33:51,686 [INFO]: epoch: 92\n"
     ]
    },
    {
     "data": {
      "application/vnd.jupyter.widget-view+json": {
       "model_id": "0deadd3820754dc3bced9cde91eb8332",
       "version_major": 2,
       "version_minor": 0
      },
      "text/plain": [
       "Validation: 0it [00:00, ?it/s]"
      ]
     },
     "metadata": {},
     "output_type": "display_data"
    },
    {
     "name": "stderr",
     "output_type": "stream",
     "text": [
      "2023-11-25 06:34:01,972 [INFO]: clean_val_acc: 0.8243812322616577\n",
      "2023-11-25 06:34:01,974 [INFO]: clean_val_loss: 0.7005289793014526\n",
      "2023-11-25 06:34:01,976 [INFO]: epoch: 92\n",
      "2023-11-25 06:34:02,003 [INFO]: clean_train_acc_epoch: 0.965844452381134\n",
      "2023-11-25 06:34:02,005 [INFO]: clean_train_loss_epoch: 0.09670518338680267\n",
      "2023-11-25 06:34:02,006 [INFO]: epoch: 92\n",
      "2023-11-25 06:34:05,071 [INFO]: lr-SGD: 0.004000545932304825\n",
      "2023-11-25 06:34:05,291 [INFO]: clean_train_acc_step: 0.9638671875\n",
      "2023-11-25 06:34:05,293 [INFO]: clean_train_loss_step: 0.09535781294107437\n",
      "2023-11-25 06:34:05,294 [INFO]: epoch: 93\n"
     ]
    },
    {
     "data": {
      "application/vnd.jupyter.widget-view+json": {
       "model_id": "10d02ba3276c4766afc5a72653dd6339",
       "version_major": 2,
       "version_minor": 0
      },
      "text/plain": [
       "Validation: 0it [00:00, ?it/s]"
      ]
     },
     "metadata": {},
     "output_type": "display_data"
    },
    {
     "name": "stderr",
     "output_type": "stream",
     "text": [
      "2023-11-25 06:34:14,314 [INFO]: clean_val_acc: 0.8111777305603027\n",
      "2023-11-25 06:34:14,316 [INFO]: clean_val_loss: 0.8375599980354309\n",
      "2023-11-25 06:34:14,318 [INFO]: epoch: 93\n",
      "2023-11-25 06:34:14,353 [INFO]: clean_train_acc_epoch: 0.965244472026825\n",
      "2023-11-25 06:34:14,354 [INFO]: clean_train_loss_epoch: 0.09941328316926956\n",
      "2023-11-25 06:34:14,356 [INFO]: epoch: 93\n",
      "2023-11-25 06:34:18,855 [INFO]: lr-SGD: 0.004000559332180534\n",
      "2023-11-25 06:34:19,071 [INFO]: clean_train_acc_step: 0.9609375\n",
      "2023-11-25 06:34:19,073 [INFO]: clean_train_loss_step: 0.1024056002497673\n",
      "2023-11-25 06:34:19,074 [INFO]: epoch: 94\n"
     ]
    },
    {
     "data": {
      "application/vnd.jupyter.widget-view+json": {
       "model_id": "4586a16dbda94a83919df74af4552a29",
       "version_major": 2,
       "version_minor": 0
      },
      "text/plain": [
       "Validation: 0it [00:00, ?it/s]"
      ]
     },
     "metadata": {},
     "output_type": "display_data"
    },
    {
     "name": "stderr",
     "output_type": "stream",
     "text": [
      "2023-11-25 06:34:26,993 [INFO]: clean_val_acc: 0.8243414759635925\n",
      "2023-11-25 06:34:26,994 [INFO]: clean_val_loss: 0.6849841475486755\n",
      "2023-11-25 06:34:26,997 [INFO]: epoch: 94\n",
      "2023-11-25 06:34:27,027 [INFO]: clean_train_acc_epoch: 0.9640889167785645\n",
      "2023-11-25 06:34:27,029 [INFO]: clean_train_loss_epoch: 0.10000590234994888\n",
      "2023-11-25 06:34:27,032 [INFO]: epoch: 94\n",
      "2023-11-25 06:34:32,768 [INFO]: lr-SGD: 0.004000572894517107\n",
      "2023-11-25 06:34:32,987 [INFO]: clean_train_acc_step: 0.9736328125\n",
      "2023-11-25 06:34:32,988 [INFO]: clean_train_loss_step: 0.0858391746878624\n",
      "2023-11-25 06:34:32,991 [INFO]: epoch: 95\n"
     ]
    },
    {
     "data": {
      "application/vnd.jupyter.widget-view+json": {
       "model_id": "555967901f344cf7b5dd68aa693a1293",
       "version_major": 2,
       "version_minor": 0
      },
      "text/plain": [
       "Validation: 0it [00:00, ?it/s]"
      ]
     },
     "metadata": {},
     "output_type": "display_data"
    },
    {
     "name": "stderr",
     "output_type": "stream",
     "text": [
      "2023-11-25 06:34:39,612 [INFO]: clean_val_acc: 0.833415687084198\n",
      "2023-11-25 06:34:39,615 [INFO]: clean_val_loss: 0.635962188243866\n",
      "2023-11-25 06:34:39,618 [INFO]: epoch: 95\n",
      "2023-11-25 06:34:39,954 [INFO]: clean_train_acc_epoch: 0.9648222327232361\n",
      "2023-11-25 06:34:39,957 [INFO]: clean_train_loss_epoch: 0.09818148612976074\n",
      "2023-11-25 06:34:39,958 [INFO]: epoch: 95\n",
      "2023-11-25 06:34:46,630 [INFO]: lr-SGD: 0.004000586619314489\n",
      "2023-11-25 06:34:46,843 [INFO]: clean_train_acc_step: 0.9794921875\n",
      "2023-11-25 06:34:46,845 [INFO]: clean_train_loss_step: 0.06608454138040543\n",
      "2023-11-25 06:34:46,846 [INFO]: epoch: 96\n"
     ]
    },
    {
     "data": {
      "application/vnd.jupyter.widget-view+json": {
       "model_id": "671bb8bfe4d242f9a873772a7d73779b",
       "version_major": 2,
       "version_minor": 0
      },
      "text/plain": [
       "Validation: 0it [00:00, ?it/s]"
      ]
     },
     "metadata": {},
     "output_type": "display_data"
    },
    {
     "name": "stderr",
     "output_type": "stream",
     "text": [
      "2023-11-25 06:34:52,281 [INFO]: clean_val_acc: 0.8264899253845215\n",
      "2023-11-25 06:34:52,283 [INFO]: clean_val_loss: 0.6939867734909058\n",
      "2023-11-25 06:34:52,284 [INFO]: epoch: 96\n",
      "2023-11-25 06:34:52,313 [INFO]: clean_train_acc_epoch: 0.9667555689811707\n",
      "2023-11-25 06:34:52,314 [INFO]: clean_train_loss_epoch: 0.09233687818050385\n",
      "2023-11-25 06:34:52,316 [INFO]: epoch: 96\n",
      "2023-11-25 06:35:00,074 [INFO]: lr-SGD: 0.004000600506572624\n",
      "2023-11-25 06:35:00,294 [INFO]: clean_train_acc_step: 0.9765625\n",
      "2023-11-25 06:35:00,296 [INFO]: clean_train_loss_step: 0.08333560824394226\n",
      "2023-11-25 06:35:00,306 [INFO]: epoch: 97\n"
     ]
    },
    {
     "data": {
      "application/vnd.jupyter.widget-view+json": {
       "model_id": "11e65d4c3ce340598cb4dbc0738c175a",
       "version_major": 2,
       "version_minor": 0
      },
      "text/plain": [
       "Validation: 0it [00:00, ?it/s]"
      ]
     },
     "metadata": {},
     "output_type": "display_data"
    },
    {
     "name": "stderr",
     "output_type": "stream",
     "text": [
      "2023-11-25 06:35:04,490 [INFO]: clean_val_acc: 0.8251503705978394\n",
      "2023-11-25 06:35:04,492 [INFO]: clean_val_loss: 0.6986088752746582\n",
      "2023-11-25 06:35:04,493 [INFO]: epoch: 97\n",
      "2023-11-25 06:35:04,525 [INFO]: clean_train_acc_epoch: 0.9672889113426208\n",
      "2023-11-25 06:35:04,526 [INFO]: clean_train_loss_epoch: 0.09117954969406128\n",
      "2023-11-25 06:35:04,527 [INFO]: epoch: 97\n",
      "2023-11-25 06:35:14,157 [INFO]: lr-SGD: 0.004000614556291471\n",
      "2023-11-25 06:35:14,373 [INFO]: clean_train_acc_step: 0.9697265625\n",
      "2023-11-25 06:35:14,375 [INFO]: clean_train_loss_step: 0.09464854001998901\n",
      "2023-11-25 06:35:14,377 [INFO]: epoch: 98\n"
     ]
    },
    {
     "data": {
      "application/vnd.jupyter.widget-view+json": {
       "model_id": "087368d596c347d1a3c024f37de1729b",
       "version_major": 2,
       "version_minor": 0
      },
      "text/plain": [
       "Validation: 0it [00:00, ?it/s]"
      ]
     },
     "metadata": {},
     "output_type": "display_data"
    },
    {
     "name": "stderr",
     "output_type": "stream",
     "text": [
      "2023-11-25 06:35:17,366 [INFO]: clean_val_acc: 0.8040583729743958\n",
      "2023-11-25 06:35:17,367 [INFO]: clean_val_loss: 0.8204617500305176\n",
      "2023-11-25 06:35:17,370 [INFO]: epoch: 98\n",
      "2023-11-25 06:35:17,399 [INFO]: clean_train_acc_epoch: 0.969355583190918\n",
      "2023-11-25 06:35:17,401 [INFO]: clean_train_loss_epoch: 0.08723713457584381\n",
      "2023-11-25 06:35:17,402 [INFO]: epoch: 98\n",
      "2023-11-25 06:35:28,154 [INFO]: lr-SGD: 0.0040006287684709735\n",
      "2023-11-25 06:35:28,362 [INFO]: clean_train_acc_step: 0.9710744023323059\n",
      "2023-11-25 06:35:28,363 [INFO]: clean_train_loss_step: 0.08123814314603806\n",
      "2023-11-25 06:35:28,365 [INFO]: epoch: 99\n"
     ]
    },
    {
     "data": {
      "application/vnd.jupyter.widget-view+json": {
       "model_id": "fff0751caa5742c7945aab0ed4945dd7",
       "version_major": 2,
       "version_minor": 0
      },
      "text/plain": [
       "Validation: 0it [00:00, ?it/s]"
      ]
     },
     "metadata": {},
     "output_type": "display_data"
    },
    {
     "name": "stderr",
     "output_type": "stream",
     "text": [
      "2023-11-25 06:35:30,714 [INFO]: clean_val_acc: 0.8138084411621094\n",
      "2023-11-25 06:35:30,717 [INFO]: clean_val_loss: 0.7817299962043762\n",
      "2023-11-25 06:35:30,718 [INFO]: epoch: 99\n",
      "2023-11-25 06:35:30,751 [INFO]: clean_train_acc_epoch: 0.9700888991355896\n",
      "2023-11-25 06:35:30,753 [INFO]: clean_train_loss_epoch: 0.08681992441415787\n",
      "2023-11-25 06:35:30,755 [INFO]: epoch: 99\n"
     ]
    },
    {
     "data": {
      "application/vnd.jupyter.widget-view+json": {
       "model_id": "ccea9023f32440a984ee2d8ebce51515",
       "version_major": 2,
       "version_minor": 0
      },
      "text/plain": [
       "Validation: 0it [00:00, ?it/s]"
      ]
     },
     "metadata": {},
     "output_type": "display_data"
    },
    {
     "name": "stderr",
     "output_type": "stream",
     "text": [
      "2023-11-25 06:35:44,317 [INFO]: clean_val_acc: 0.8080406188964844\n",
      "2023-11-25 06:35:44,319 [INFO]: clean_val_loss: 0.7940104603767395\n",
      "2023-11-25 06:35:44,321 [INFO]: epoch: 100\n",
      "2023-11-25 06:35:44,351 [INFO]: clean_train_acc_epoch: 0.9732221961021423\n",
      "2023-11-25 06:35:44,353 [INFO]: clean_train_loss_epoch: 0.07755212485790253\n",
      "2023-11-25 06:35:44,354 [INFO]: epoch: 100\n",
      "2023-11-25 06:35:47,540 [INFO]: lr-SGD: 0.0040006431431111045\n",
      "2023-11-25 06:35:47,755 [INFO]: clean_train_acc_step: 0.9833984375\n",
      "2023-11-25 06:35:47,756 [INFO]: clean_train_loss_step: 0.07213017344474792\n",
      "2023-11-25 06:35:47,759 [INFO]: epoch: 101\n"
     ]
    },
    {
     "data": {
      "application/vnd.jupyter.widget-view+json": {
       "model_id": "073635f7a3c945d2975fe39763bf01ab",
       "version_major": 2,
       "version_minor": 0
      },
      "text/plain": [
       "Validation: 0it [00:00, ?it/s]"
      ]
     },
     "metadata": {},
     "output_type": "display_data"
    },
    {
     "name": "stderr",
     "output_type": "stream",
     "text": [
      "2023-11-25 06:35:57,445 [INFO]: clean_val_acc: 0.8268165588378906\n",
      "2023-11-25 06:35:57,449 [INFO]: clean_val_loss: 0.6533463001251221\n",
      "2023-11-25 06:35:57,451 [INFO]: epoch: 101\n",
      "2023-11-25 06:35:57,504 [INFO]: clean_train_acc_epoch: 0.9714666604995728\n",
      "2023-11-25 06:35:57,506 [INFO]: clean_train_loss_epoch: 0.08237557113170624\n",
      "2023-11-25 06:35:57,510 [INFO]: epoch: 101\n",
      "2023-11-25 06:36:02,236 [INFO]: lr-SGD: 0.004000657680211794\n",
      "2023-11-25 06:36:02,483 [INFO]: clean_train_acc_step: 0.9736328125\n",
      "2023-11-25 06:36:02,486 [INFO]: clean_train_loss_step: 0.07647846639156342\n",
      "2023-11-25 06:36:02,489 [INFO]: epoch: 102\n"
     ]
    },
    {
     "data": {
      "application/vnd.jupyter.widget-view+json": {
       "model_id": "fc561a3da19c42c1ae73ee644d6563d2",
       "version_major": 2,
       "version_minor": 0
      },
      "text/plain": [
       "Validation: 0it [00:00, ?it/s]"
      ]
     },
     "metadata": {},
     "output_type": "display_data"
    },
    {
     "name": "stderr",
     "output_type": "stream",
     "text": [
      "2023-11-25 06:36:11,754 [INFO]: clean_val_acc: 0.8401998281478882\n",
      "2023-11-25 06:36:11,758 [INFO]: clean_val_loss: 0.6378979682922363\n",
      "2023-11-25 06:36:11,761 [INFO]: epoch: 102\n",
      "2023-11-25 06:36:12,388 [INFO]: clean_train_acc_epoch: 0.9725555777549744\n",
      "2023-11-25 06:36:12,391 [INFO]: clean_train_loss_epoch: 0.08135799318552017\n",
      "2023-11-25 06:36:12,393 [INFO]: epoch: 102\n",
      "2023-11-25 06:36:18,616 [INFO]: lr-SGD: 0.0040006723797730015\n",
      "2023-11-25 06:36:18,834 [INFO]: clean_train_acc_step: 0.9697265625\n",
      "2023-11-25 06:36:18,835 [INFO]: clean_train_loss_step: 0.08718790858983994\n",
      "2023-11-25 06:36:18,838 [INFO]: epoch: 103\n"
     ]
    },
    {
     "data": {
      "application/vnd.jupyter.widget-view+json": {
       "model_id": "ffc5f5f848554e8a9d14b50c94df05ce",
       "version_major": 2,
       "version_minor": 0
      },
      "text/plain": [
       "Validation: 0it [00:00, ?it/s]"
      ]
     },
     "metadata": {},
     "output_type": "display_data"
    },
    {
     "name": "stderr",
     "output_type": "stream",
     "text": [
      "2023-11-25 06:36:25,975 [INFO]: clean_val_acc: 0.8403173685073853\n",
      "2023-11-25 06:36:25,977 [INFO]: clean_val_loss: 0.640067458152771\n",
      "2023-11-25 06:36:25,978 [INFO]: epoch: 103\n",
      "2023-11-25 06:36:26,317 [INFO]: clean_train_acc_epoch: 0.9730222225189209\n",
      "2023-11-25 06:36:26,319 [INFO]: clean_train_loss_epoch: 0.07703367620706558\n",
      "2023-11-25 06:36:26,320 [INFO]: epoch: 103\n",
      "2023-11-25 06:36:32,501 [INFO]: lr-SGD: 0.00400068724179467\n",
      "2023-11-25 06:36:32,722 [INFO]: clean_train_acc_step: 0.97265625\n",
      "2023-11-25 06:36:32,723 [INFO]: clean_train_loss_step: 0.08175250142812729\n",
      "2023-11-25 06:36:32,725 [INFO]: epoch: 104\n"
     ]
    },
    {
     "data": {
      "application/vnd.jupyter.widget-view+json": {
       "model_id": "be6881c9b4894a0eb4467a3e881eba50",
       "version_major": 2,
       "version_minor": 0
      },
      "text/plain": [
       "Validation: 0it [00:00, ?it/s]"
      ]
     },
     "metadata": {},
     "output_type": "display_data"
    },
    {
     "name": "stderr",
     "output_type": "stream",
     "text": [
      "2023-11-25 06:36:38,540 [INFO]: clean_val_acc: 0.8221809267997742\n",
      "2023-11-25 06:36:38,542 [INFO]: clean_val_loss: 0.6933131217956543\n",
      "2023-11-25 06:36:38,543 [INFO]: epoch: 104\n",
      "2023-11-25 06:36:38,570 [INFO]: clean_train_acc_epoch: 0.9755111336708069\n",
      "2023-11-25 06:36:38,571 [INFO]: clean_train_loss_epoch: 0.07152990251779556\n",
      "2023-11-25 06:36:38,573 [INFO]: epoch: 104\n",
      "2023-11-25 06:36:46,114 [INFO]: lr-SGD: 0.004000702266276787\n",
      "2023-11-25 06:36:46,422 [INFO]: clean_train_acc_step: 0.9716796875\n",
      "2023-11-25 06:36:46,424 [INFO]: clean_train_loss_step: 0.07171749323606491\n",
      "2023-11-25 06:36:46,426 [INFO]: epoch: 105\n"
     ]
    },
    {
     "data": {
      "application/vnd.jupyter.widget-view+json": {
       "model_id": "a2120a28a29243f9be93eac232d141da",
       "version_major": 2,
       "version_minor": 0
      },
      "text/plain": [
       "Validation: 0it [00:00, ?it/s]"
      ]
     },
     "metadata": {},
     "output_type": "display_data"
    },
    {
     "name": "stderr",
     "output_type": "stream",
     "text": [
      "2023-11-25 06:36:51,085 [INFO]: clean_val_acc: 0.8227928280830383\n",
      "2023-11-25 06:36:51,088 [INFO]: clean_val_loss: 0.7287541031837463\n",
      "2023-11-25 06:36:51,090 [INFO]: epoch: 105\n",
      "2023-11-25 06:36:51,117 [INFO]: clean_train_acc_epoch: 0.9748666882514954\n",
      "2023-11-25 06:36:51,118 [INFO]: clean_train_loss_epoch: 0.07218087464570999\n",
      "2023-11-25 06:36:51,120 [INFO]: epoch: 105\n",
      "2023-11-25 06:36:59,910 [INFO]: lr-SGD: 0.004000717453219255\n",
      "2023-11-25 06:37:00,161 [INFO]: clean_train_acc_step: 0.9765625\n",
      "2023-11-25 06:37:00,163 [INFO]: clean_train_loss_step: 0.07323954254388809\n",
      "2023-11-25 06:37:00,166 [INFO]: epoch: 106\n"
     ]
    },
    {
     "data": {
      "application/vnd.jupyter.widget-view+json": {
       "model_id": "9c25da5c27d1416aa4e6424247d27172",
       "version_major": 2,
       "version_minor": 0
      },
      "text/plain": [
       "Validation: 0it [00:00, ?it/s]"
      ]
     },
     "metadata": {},
     "output_type": "display_data"
    },
    {
     "name": "stderr",
     "output_type": "stream",
     "text": [
      "2023-11-25 06:37:04,408 [INFO]: clean_val_acc: 0.8329750299453735\n",
      "2023-11-25 06:37:04,410 [INFO]: clean_val_loss: 0.7113310098648071\n",
      "2023-11-25 06:37:04,414 [INFO]: epoch: 106\n",
      "2023-11-25 06:37:04,462 [INFO]: clean_train_acc_epoch: 0.9752222299575806\n",
      "2023-11-25 06:37:04,466 [INFO]: clean_train_loss_epoch: 0.07120173424482346\n",
      "2023-11-25 06:37:04,469 [INFO]: epoch: 106\n",
      "2023-11-25 06:37:15,241 [INFO]: lr-SGD: 0.004000732802622017\n",
      "2023-11-25 06:37:15,473 [INFO]: clean_train_acc_step: 0.9755859375\n",
      "2023-11-25 06:37:15,476 [INFO]: clean_train_loss_step: 0.061938729137182236\n",
      "2023-11-25 06:37:15,478 [INFO]: epoch: 107\n"
     ]
    },
    {
     "data": {
      "application/vnd.jupyter.widget-view+json": {
       "model_id": "99463bf8a91d4667aea02cb8bbc143dc",
       "version_major": 2,
       "version_minor": 0
      },
      "text/plain": [
       "Validation: 0it [00:00, ?it/s]"
      ]
     },
     "metadata": {},
     "output_type": "display_data"
    },
    {
     "name": "stderr",
     "output_type": "stream",
     "text": [
      "2023-11-25 06:37:18,039 [INFO]: clean_val_acc: 0.8324529528617859\n",
      "2023-11-25 06:37:18,042 [INFO]: clean_val_loss: 0.6637487411499023\n",
      "2023-11-25 06:37:18,043 [INFO]: epoch: 107\n",
      "2023-11-25 06:37:18,084 [INFO]: clean_train_acc_epoch: 0.9774444699287415\n",
      "2023-11-25 06:37:18,086 [INFO]: clean_train_loss_epoch: 0.06330832839012146\n",
      "2023-11-25 06:37:18,086 [INFO]: epoch: 107\n"
     ]
    },
    {
     "data": {
      "application/vnd.jupyter.widget-view+json": {
       "model_id": "6fa40796627f45ab82f9ddc71cef6212",
       "version_major": 2,
       "version_minor": 0
      },
      "text/plain": [
       "Validation: 0it [00:00, ?it/s]"
      ]
     },
     "metadata": {},
     "output_type": "display_data"
    },
    {
     "name": "stderr",
     "output_type": "stream",
     "text": [
      "2023-11-25 06:37:30,549 [INFO]: clean_val_acc: 0.8401082158088684\n",
      "2023-11-25 06:37:30,551 [INFO]: clean_val_loss: 0.6515094637870789\n",
      "2023-11-25 06:37:30,553 [INFO]: epoch: 108\n",
      "2023-11-25 06:37:30,583 [INFO]: clean_train_acc_epoch: 0.9790889024734497\n",
      "2023-11-25 06:37:30,585 [INFO]: clean_train_loss_epoch: 0.06082088127732277\n",
      "2023-11-25 06:37:30,587 [INFO]: epoch: 108\n",
      "2023-11-25 06:37:33,061 [INFO]: lr-SGD: 0.004000748314485075\n",
      "2023-11-25 06:37:33,283 [INFO]: clean_train_acc_step: 0.9794921875\n",
      "2023-11-25 06:37:33,285 [INFO]: clean_train_loss_step: 0.06628306210041046\n",
      "2023-11-25 06:37:33,287 [INFO]: epoch: 109\n"
     ]
    },
    {
     "data": {
      "application/vnd.jupyter.widget-view+json": {
       "model_id": "21c35ce0cc454580a25e25428d9e7a3c",
       "version_major": 2,
       "version_minor": 0
      },
      "text/plain": [
       "Validation: 0it [00:00, ?it/s]"
      ]
     },
     "metadata": {},
     "output_type": "display_data"
    },
    {
     "name": "stderr",
     "output_type": "stream",
     "text": [
      "2023-11-25 06:37:43,302 [INFO]: clean_val_acc: 0.8480762243270874\n",
      "2023-11-25 06:37:43,304 [INFO]: clean_val_loss: 0.6182903051376343\n",
      "2023-11-25 06:37:43,306 [INFO]: epoch: 109\n",
      "2023-11-25 06:37:43,648 [INFO]: clean_train_acc_epoch: 0.9780666828155518\n",
      "2023-11-25 06:37:43,649 [INFO]: clean_train_loss_epoch: 0.06314650923013687\n",
      "2023-11-25 06:37:43,650 [INFO]: epoch: 109\n",
      "2023-11-25 06:37:47,178 [INFO]: lr-SGD: 0.004000763988808331\n",
      "2023-11-25 06:37:47,394 [INFO]: clean_train_acc_step: 0.974609375\n",
      "2023-11-25 06:37:47,396 [INFO]: clean_train_loss_step: 0.06760002672672272\n",
      "2023-11-25 06:37:47,398 [INFO]: epoch: 110\n"
     ]
    },
    {
     "data": {
      "application/vnd.jupyter.widget-view+json": {
       "model_id": "d2e8ba4e02974b928d01fb562bf4a213",
       "version_major": 2,
       "version_minor": 0
      },
      "text/plain": [
       "Validation: 0it [00:00, ?it/s]"
      ]
     },
     "metadata": {},
     "output_type": "display_data"
    },
    {
     "name": "stderr",
     "output_type": "stream",
     "text": [
      "2023-11-25 06:37:56,145 [INFO]: clean_val_acc: 0.8377385139465332\n",
      "2023-11-25 06:37:56,147 [INFO]: clean_val_loss: 0.6653985977172852\n",
      "2023-11-25 06:37:56,150 [INFO]: epoch: 110\n",
      "2023-11-25 06:37:56,179 [INFO]: clean_train_acc_epoch: 0.9768000245094299\n",
      "2023-11-25 06:37:56,181 [INFO]: clean_train_loss_epoch: 0.06710027903318405\n",
      "2023-11-25 06:37:56,182 [INFO]: epoch: 110\n",
      "2023-11-25 06:38:01,121 [INFO]: lr-SGD: 0.004000779825591744\n",
      "2023-11-25 06:38:01,359 [INFO]: clean_train_acc_step: 0.9833984375\n",
      "2023-11-25 06:38:01,360 [INFO]: clean_train_loss_step: 0.04849576950073242\n",
      "2023-11-25 06:38:01,361 [INFO]: epoch: 111\n"
     ]
    },
    {
     "data": {
      "application/vnd.jupyter.widget-view+json": {
       "model_id": "e06c20d2b4884f24be810e4135a44c60",
       "version_major": 2,
       "version_minor": 0
      },
      "text/plain": [
       "Validation: 0it [00:00, ?it/s]"
      ]
     },
     "metadata": {},
     "output_type": "display_data"
    },
    {
     "name": "stderr",
     "output_type": "stream",
     "text": [
      "2023-11-25 06:38:08,853 [INFO]: clean_val_acc: 0.8315542340278625\n",
      "2023-11-25 06:38:08,855 [INFO]: clean_val_loss: 0.7327734231948853\n",
      "2023-11-25 06:38:08,857 [INFO]: epoch: 111\n",
      "2023-11-25 06:38:08,887 [INFO]: clean_train_acc_epoch: 0.9784666895866394\n",
      "2023-11-25 06:38:08,890 [INFO]: clean_train_loss_epoch: 0.06105528399348259\n",
      "2023-11-25 06:38:08,892 [INFO]: epoch: 111\n",
      "2023-11-25 06:38:14,984 [INFO]: lr-SGD: 0.004000795824835257\n",
      "2023-11-25 06:38:15,201 [INFO]: clean_train_acc_step: 0.986328125\n",
      "2023-11-25 06:38:15,203 [INFO]: clean_train_loss_step: 0.05202837288379669\n",
      "2023-11-25 06:38:15,204 [INFO]: epoch: 112\n"
     ]
    },
    {
     "data": {
      "application/vnd.jupyter.widget-view+json": {
       "model_id": "c839c5c534de44dcbc61769ae77646e7",
       "version_major": 2,
       "version_minor": 0
      },
      "text/plain": [
       "Validation: 0it [00:00, ?it/s]"
      ]
     },
     "metadata": {},
     "output_type": "display_data"
    },
    {
     "name": "stderr",
     "output_type": "stream",
     "text": [
      "2023-11-25 06:38:21,928 [INFO]: clean_val_acc: 0.8486621975898743\n",
      "2023-11-25 06:38:21,930 [INFO]: clean_val_loss: 0.6445415616035461\n",
      "2023-11-25 06:38:21,932 [INFO]: epoch: 112\n",
      "2023-11-25 06:38:22,734 [INFO]: clean_train_acc_epoch: 0.9797555804252625\n",
      "2023-11-25 06:38:22,737 [INFO]: clean_train_loss_epoch: 0.0603405125439167\n",
      "2023-11-25 06:38:22,738 [INFO]: epoch: 112\n",
      "2023-11-25 06:38:30,028 [INFO]: lr-SGD: 0.00400081198653883\n",
      "2023-11-25 06:38:30,248 [INFO]: clean_train_acc_step: 0.9833984375\n",
      "2023-11-25 06:38:30,250 [INFO]: clean_train_loss_step: 0.054200179874897\n",
      "2023-11-25 06:38:30,251 [INFO]: epoch: 113\n"
     ]
    },
    {
     "data": {
      "application/vnd.jupyter.widget-view+json": {
       "model_id": "f9b760fe21b648fbb15ec811cb79ceb4",
       "version_major": 2,
       "version_minor": 0
      },
      "text/plain": [
       "Validation: 0it [00:00, ?it/s]"
      ]
     },
     "metadata": {},
     "output_type": "display_data"
    },
    {
     "name": "stderr",
     "output_type": "stream",
     "text": [
      "2023-11-25 06:38:35,795 [INFO]: clean_val_acc: 0.8281041979789734\n",
      "2023-11-25 06:38:35,799 [INFO]: clean_val_loss: 0.7352954745292664\n",
      "2023-11-25 06:38:35,801 [INFO]: epoch: 113\n",
      "2023-11-25 06:38:35,843 [INFO]: clean_train_acc_epoch: 0.9801333546638489\n",
      "2023-11-25 06:38:35,845 [INFO]: clean_train_loss_epoch: 0.05866413190960884\n",
      "2023-11-25 06:38:35,847 [INFO]: epoch: 113\n",
      "2023-11-25 06:38:45,104 [INFO]: lr-SGD: 0.004000828310702392\n",
      "2023-11-25 06:38:45,329 [INFO]: clean_train_acc_step: 0.9853515625\n",
      "2023-11-25 06:38:45,331 [INFO]: clean_train_loss_step: 0.055127937346696854\n",
      "2023-11-25 06:38:45,334 [INFO]: epoch: 114\n"
     ]
    },
    {
     "data": {
      "application/vnd.jupyter.widget-view+json": {
       "model_id": "f4a3bc55c09e4fa49f58d81d3a7c53bd",
       "version_major": 2,
       "version_minor": 0
      },
      "text/plain": [
       "Validation: 0it [00:00, ?it/s]"
      ]
     },
     "metadata": {},
     "output_type": "display_data"
    },
    {
     "name": "stderr",
     "output_type": "stream",
     "text": [
      "2023-11-25 06:38:50,069 [INFO]: clean_val_acc: 0.8413318395614624\n",
      "2023-11-25 06:38:50,073 [INFO]: clean_val_loss: 0.6860675811767578\n",
      "2023-11-25 06:38:50,074 [INFO]: epoch: 114\n",
      "2023-11-25 06:38:50,130 [INFO]: clean_train_acc_epoch: 0.9815555810928345\n",
      "2023-11-25 06:38:50,133 [INFO]: clean_train_loss_epoch: 0.0539887472987175\n",
      "2023-11-25 06:38:50,134 [INFO]: epoch: 114\n",
      "2023-11-25 06:39:00,520 [INFO]: lr-SGD: 0.004000844797325903\n",
      "2023-11-25 06:39:00,749 [INFO]: clean_train_acc_step: 0.9853515625\n",
      "2023-11-25 06:39:00,751 [INFO]: clean_train_loss_step: 0.03990520164370537\n",
      "2023-11-25 06:39:00,752 [INFO]: epoch: 115\n"
     ]
    },
    {
     "data": {
      "application/vnd.jupyter.widget-view+json": {
       "model_id": "d4809f6a45d94eadb376066b729e7e33",
       "version_major": 2,
       "version_minor": 0
      },
      "text/plain": [
       "Validation: 0it [00:00, ?it/s]"
      ]
     },
     "metadata": {},
     "output_type": "display_data"
    },
    {
     "name": "stderr",
     "output_type": "stream",
     "text": [
      "2023-11-25 06:39:03,343 [INFO]: clean_val_acc: 0.843025803565979\n",
      "2023-11-25 06:39:03,346 [INFO]: clean_val_loss: 0.658890426158905\n",
      "2023-11-25 06:39:03,347 [INFO]: epoch: 115\n",
      "2023-11-25 06:39:03,377 [INFO]: clean_train_acc_epoch: 0.9827777743339539\n",
      "2023-11-25 06:39:03,379 [INFO]: clean_train_loss_epoch: 0.05167858675122261\n",
      "2023-11-25 06:39:03,380 [INFO]: epoch: 115\n"
     ]
    },
    {
     "data": {
      "application/vnd.jupyter.widget-view+json": {
       "model_id": "a566ef5b99334d8eb34d57cabb8fd21e",
       "version_major": 2,
       "version_minor": 0
      },
      "text/plain": [
       "Validation: 0it [00:00, ?it/s]"
      ]
     },
     "metadata": {},
     "output_type": "display_data"
    },
    {
     "name": "stderr",
     "output_type": "stream",
     "text": [
      "2023-11-25 06:39:15,739 [INFO]: clean_val_acc: 0.8366443514823914\n",
      "2023-11-25 06:39:15,741 [INFO]: clean_val_loss: 0.7171826362609863\n",
      "2023-11-25 06:39:15,742 [INFO]: epoch: 116\n",
      "2023-11-25 06:39:15,772 [INFO]: clean_train_acc_epoch: 0.9822444319725037\n",
      "2023-11-25 06:39:15,773 [INFO]: clean_train_loss_epoch: 0.0524040050804615\n",
      "2023-11-25 06:39:15,776 [INFO]: epoch: 116\n",
      "2023-11-25 06:39:17,651 [INFO]: lr-SGD: 0.004000861446409293\n",
      "2023-11-25 06:39:17,876 [INFO]: clean_train_acc_step: 0.9794921875\n",
      "2023-11-25 06:39:17,877 [INFO]: clean_train_loss_step: 0.05838129669427872\n",
      "2023-11-25 06:39:17,878 [INFO]: epoch: 117\n"
     ]
    },
    {
     "data": {
      "application/vnd.jupyter.widget-view+json": {
       "model_id": "1910182974d04d4fa963781bb8058363",
       "version_major": 2,
       "version_minor": 0
      },
      "text/plain": [
       "Validation: 0it [00:00, ?it/s]"
      ]
     },
     "metadata": {},
     "output_type": "display_data"
    },
    {
     "name": "stderr",
     "output_type": "stream",
     "text": [
      "2023-11-25 06:39:28,231 [INFO]: clean_val_acc: 0.8524906039237976\n",
      "2023-11-25 06:39:28,234 [INFO]: clean_val_loss: 0.6466453671455383\n",
      "2023-11-25 06:39:28,235 [INFO]: epoch: 117\n",
      "2023-11-25 06:39:28,586 [INFO]: clean_train_acc_epoch: 0.9817777872085571\n",
      "2023-11-25 06:39:28,588 [INFO]: clean_train_loss_epoch: 0.051815301179885864\n",
      "2023-11-25 06:39:28,589 [INFO]: epoch: 117\n",
      "2023-11-25 06:39:31,822 [INFO]: lr-SGD: 0.004000878257952506\n",
      "2023-11-25 06:39:32,041 [INFO]: clean_train_acc_step: 0.9814453125\n",
      "2023-11-25 06:39:32,044 [INFO]: clean_train_loss_step: 0.04916110634803772\n",
      "2023-11-25 06:39:32,045 [INFO]: epoch: 118\n"
     ]
    },
    {
     "data": {
      "application/vnd.jupyter.widget-view+json": {
       "model_id": "f5bfba48afec43b9ab0f8658b71f3852",
       "version_major": 2,
       "version_minor": 0
      },
      "text/plain": [
       "Validation: 0it [00:00, ?it/s]"
      ]
     },
     "metadata": {},
     "output_type": "display_data"
    },
    {
     "name": "stderr",
     "output_type": "stream",
     "text": [
      "2023-11-25 06:39:41,137 [INFO]: clean_val_acc: 0.8325048685073853\n",
      "2023-11-25 06:39:41,138 [INFO]: clean_val_loss: 0.7949265241622925\n",
      "2023-11-25 06:39:41,140 [INFO]: epoch: 118\n",
      "2023-11-25 06:39:41,169 [INFO]: clean_train_acc_epoch: 0.9823111295700073\n",
      "2023-11-25 06:39:41,170 [INFO]: clean_train_loss_epoch: 0.05140873044729233\n",
      "2023-11-25 06:39:41,173 [INFO]: epoch: 118\n",
      "2023-11-25 06:39:45,479 [INFO]: lr-SGD: 0.004000895231955501\n",
      "2023-11-25 06:39:45,698 [INFO]: clean_train_acc_step: 0.9873046875\n",
      "2023-11-25 06:39:45,700 [INFO]: clean_train_loss_step: 0.03958207741379738\n",
      "2023-11-25 06:39:45,701 [INFO]: epoch: 119\n"
     ]
    },
    {
     "data": {
      "application/vnd.jupyter.widget-view+json": {
       "model_id": "0ebf71de848549008d92fcf498109e04",
       "version_major": 2,
       "version_minor": 0
      },
      "text/plain": [
       "Validation: 0it [00:00, ?it/s]"
      ]
     },
     "metadata": {},
     "output_type": "display_data"
    },
    {
     "name": "stderr",
     "output_type": "stream",
     "text": [
      "2023-11-25 06:39:53,553 [INFO]: clean_val_acc: 0.8366063833236694\n",
      "2023-11-25 06:39:53,554 [INFO]: clean_val_loss: 0.7324525713920593\n",
      "2023-11-25 06:39:53,555 [INFO]: epoch: 119\n",
      "2023-11-25 06:39:53,584 [INFO]: clean_train_acc_epoch: 0.983311116695404\n",
      "2023-11-25 06:39:53,585 [INFO]: clean_train_loss_epoch: 0.04913478344678879\n",
      "2023-11-25 06:39:53,586 [INFO]: epoch: 119\n",
      "2023-11-25 06:39:59,080 [INFO]: lr-SGD: 0.004000912368418208\n",
      "2023-11-25 06:39:59,302 [INFO]: clean_train_acc_step: 0.982421875\n",
      "2023-11-25 06:39:59,303 [INFO]: clean_train_loss_step: 0.050701651722192764\n",
      "2023-11-25 06:39:59,306 [INFO]: epoch: 120\n"
     ]
    },
    {
     "data": {
      "application/vnd.jupyter.widget-view+json": {
       "model_id": "7b11f228739142778c13e0e23ea43b2d",
       "version_major": 2,
       "version_minor": 0
      },
      "text/plain": [
       "Validation: 0it [00:00, ?it/s]"
      ]
     },
     "metadata": {},
     "output_type": "display_data"
    },
    {
     "name": "stderr",
     "output_type": "stream",
     "text": [
      "2023-11-25 06:40:06,121 [INFO]: clean_val_acc: 0.8496508598327637\n",
      "2023-11-25 06:40:06,122 [INFO]: clean_val_loss: 0.6555814146995544\n",
      "2023-11-25 06:40:06,123 [INFO]: epoch: 120\n",
      "2023-11-25 06:40:06,469 [INFO]: clean_train_acc_epoch: 0.9820444583892822\n",
      "2023-11-25 06:40:06,471 [INFO]: clean_train_loss_epoch: 0.05158259719610214\n",
      "2023-11-25 06:40:06,473 [INFO]: epoch: 120\n",
      "2023-11-25 06:40:13,116 [INFO]: lr-SGD: 0.004000929667340572\n",
      "2023-11-25 06:40:13,329 [INFO]: clean_train_acc_step: 0.9833984375\n",
      "2023-11-25 06:40:13,332 [INFO]: clean_train_loss_step: 0.04860688000917435\n",
      "2023-11-25 06:40:13,333 [INFO]: epoch: 121\n"
     ]
    },
    {
     "data": {
      "application/vnd.jupyter.widget-view+json": {
       "model_id": "a901589f441149d9b245b30e1c2e4cdc",
       "version_major": 2,
       "version_minor": 0
      },
      "text/plain": [
       "Validation: 0it [00:00, ?it/s]"
      ]
     },
     "metadata": {},
     "output_type": "display_data"
    },
    {
     "name": "stderr",
     "output_type": "stream",
     "text": [
      "2023-11-25 06:40:18,882 [INFO]: clean_val_acc: 0.8381550908088684\n",
      "2023-11-25 06:40:18,884 [INFO]: clean_val_loss: 0.7101436853408813\n",
      "2023-11-25 06:40:18,885 [INFO]: epoch: 121\n",
      "2023-11-25 06:40:18,915 [INFO]: clean_train_acc_epoch: 0.9836666584014893\n",
      "2023-11-25 06:40:18,916 [INFO]: clean_train_loss_epoch: 0.048815857619047165\n",
      "2023-11-25 06:40:18,918 [INFO]: epoch: 121\n",
      "2023-11-25 06:40:26,992 [INFO]: lr-SGD: 0.0040009471287225234\n",
      "2023-11-25 06:40:27,211 [INFO]: clean_train_acc_step: 0.9853515625\n",
      "2023-11-25 06:40:27,213 [INFO]: clean_train_loss_step: 0.039907507598400116\n",
      "2023-11-25 06:40:27,214 [INFO]: epoch: 122\n"
     ]
    },
    {
     "data": {
      "application/vnd.jupyter.widget-view+json": {
       "model_id": "d7222f9cf66444c0a419fd5da0dc513e",
       "version_major": 2,
       "version_minor": 0
      },
      "text/plain": [
       "Validation: 0it [00:00, ?it/s]"
      ]
     },
     "metadata": {},
     "output_type": "display_data"
    },
    {
     "name": "stderr",
     "output_type": "stream",
     "text": [
      "2023-11-25 06:40:31,501 [INFO]: clean_val_acc: 0.8381291627883911\n",
      "2023-11-25 06:40:31,503 [INFO]: clean_val_loss: 0.7125846147537231\n",
      "2023-11-25 06:40:31,505 [INFO]: epoch: 122\n",
      "2023-11-25 06:40:31,534 [INFO]: clean_train_acc_epoch: 0.9851111173629761\n",
      "2023-11-25 06:40:31,535 [INFO]: clean_train_loss_epoch: 0.04431266337633133\n",
      "2023-11-25 06:40:31,537 [INFO]: epoch: 122\n",
      "2023-11-25 06:40:40,848 [INFO]: lr-SGD: 0.004000964752564021\n",
      "2023-11-25 06:40:41,067 [INFO]: clean_train_acc_step: 0.986328125\n",
      "2023-11-25 06:40:41,068 [INFO]: clean_train_loss_step: 0.03272933140397072\n",
      "2023-11-25 06:40:41,070 [INFO]: epoch: 123\n"
     ]
    },
    {
     "data": {
      "application/vnd.jupyter.widget-view+json": {
       "model_id": "e2c59652660545099562bcf9b57a519c",
       "version_major": 2,
       "version_minor": 0
      },
      "text/plain": [
       "Validation: 0it [00:00, ?it/s]"
      ]
     },
     "metadata": {},
     "output_type": "display_data"
    },
    {
     "name": "stderr",
     "output_type": "stream",
     "text": [
      "2023-11-25 06:40:44,164 [INFO]: clean_val_acc: 0.8364111185073853\n",
      "2023-11-25 06:40:44,165 [INFO]: clean_val_loss: 0.7266095876693726\n",
      "2023-11-25 06:40:44,168 [INFO]: epoch: 123\n",
      "2023-11-25 06:40:44,202 [INFO]: clean_train_acc_epoch: 0.9854000210762024\n",
      "2023-11-25 06:40:44,203 [INFO]: clean_train_loss_epoch: 0.04469646140933037\n",
      "2023-11-25 06:40:44,205 [INFO]: epoch: 123\n",
      "2023-11-25 06:40:54,624 [INFO]: lr-SGD: 0.004000982538865008\n",
      "2023-11-25 06:40:54,833 [INFO]: clean_train_acc_step: 0.98037189245224\n",
      "2023-11-25 06:40:54,835 [INFO]: clean_train_loss_step: 0.05907873436808586\n",
      "2023-11-25 06:40:54,836 [INFO]: epoch: 124\n"
     ]
    },
    {
     "data": {
      "application/vnd.jupyter.widget-view+json": {
       "model_id": "2ece01423f9d493cbb3f09b308cffca7",
       "version_major": 2,
       "version_minor": 0
      },
      "text/plain": [
       "Validation: 0it [00:00, ?it/s]"
      ]
     },
     "metadata": {},
     "output_type": "display_data"
    },
    {
     "name": "stderr",
     "output_type": "stream",
     "text": [
      "2023-11-25 06:40:56,738 [INFO]: clean_val_acc: 0.8253957629203796\n",
      "2023-11-25 06:40:56,740 [INFO]: clean_val_loss: 0.8088509440422058\n",
      "2023-11-25 06:40:56,741 [INFO]: epoch: 124\n",
      "2023-11-25 06:40:56,777 [INFO]: clean_train_acc_epoch: 0.9844666719436646\n",
      "2023-11-25 06:40:56,779 [INFO]: clean_train_loss_epoch: 0.04689216613769531\n",
      "2023-11-25 06:40:56,780 [INFO]: epoch: 124\n"
     ]
    },
    {
     "data": {
      "application/vnd.jupyter.widget-view+json": {
       "model_id": "68e852007d484373ad17255fff13c24c",
       "version_major": 2,
       "version_minor": 0
      },
      "text/plain": [
       "Validation: 0it [00:00, ?it/s]"
      ]
     },
     "metadata": {},
     "output_type": "display_data"
    },
    {
     "name": "stderr",
     "output_type": "stream",
     "text": [
      "2023-11-25 06:41:09,194 [INFO]: clean_val_acc: 0.8429619073867798\n",
      "2023-11-25 06:41:09,197 [INFO]: clean_val_loss: 0.7505127191543579\n",
      "2023-11-25 06:41:09,198 [INFO]: epoch: 125\n",
      "2023-11-25 06:41:09,229 [INFO]: clean_train_acc_epoch: 0.9855999946594238\n",
      "2023-11-25 06:41:09,231 [INFO]: clean_train_loss_epoch: 0.043905988335609436\n",
      "2023-11-25 06:41:09,233 [INFO]: epoch: 125\n",
      "2023-11-25 06:41:11,891 [INFO]: lr-SGD: 0.004001000487625403\n",
      "2023-11-25 06:41:12,109 [INFO]: clean_train_acc_step: 0.9853515625\n",
      "2023-11-25 06:41:12,111 [INFO]: clean_train_loss_step: 0.046104222536087036\n",
      "2023-11-25 06:41:12,113 [INFO]: epoch: 126\n"
     ]
    },
    {
     "data": {
      "application/vnd.jupyter.widget-view+json": {
       "model_id": "d9d411c3a8ab4e38932a9e8604045563",
       "version_major": 2,
       "version_minor": 0
      },
      "text/plain": [
       "Validation: 0it [00:00, ?it/s]"
      ]
     },
     "metadata": {},
     "output_type": "display_data"
    },
    {
     "name": "stderr",
     "output_type": "stream",
     "text": [
      "2023-11-25 06:41:21,618 [INFO]: clean_val_acc: 0.8356696367263794\n",
      "2023-11-25 06:41:21,620 [INFO]: clean_val_loss: 0.7384410500526428\n",
      "2023-11-25 06:41:21,622 [INFO]: epoch: 126\n",
      "2023-11-25 06:41:21,652 [INFO]: clean_train_acc_epoch: 0.9859777688980103\n",
      "2023-11-25 06:41:21,654 [INFO]: clean_train_loss_epoch: 0.041993968188762665\n",
      "2023-11-25 06:41:21,655 [INFO]: epoch: 126\n",
      "2023-11-25 06:41:25,502 [INFO]: lr-SGD: 0.004001018598845149\n",
      "2023-11-25 06:41:25,726 [INFO]: clean_train_acc_step: 0.9912109375\n",
      "2023-11-25 06:41:25,727 [INFO]: clean_train_loss_step: 0.029788913205266\n",
      "2023-11-25 06:41:25,729 [INFO]: epoch: 127\n"
     ]
    },
    {
     "data": {
      "application/vnd.jupyter.widget-view+json": {
       "model_id": "0f891b77a3cf4a2885d1487122ee6b12",
       "version_major": 2,
       "version_minor": 0
      },
      "text/plain": [
       "Validation: 0it [00:00, ?it/s]"
      ]
     },
     "metadata": {},
     "output_type": "display_data"
    },
    {
     "name": "stderr",
     "output_type": "stream",
     "text": [
      "2023-11-25 06:41:33,945 [INFO]: clean_val_acc: 0.8416067361831665\n",
      "2023-11-25 06:41:33,946 [INFO]: clean_val_loss: 0.6851350665092468\n",
      "2023-11-25 06:41:33,947 [INFO]: epoch: 127\n",
      "2023-11-25 06:41:33,978 [INFO]: clean_train_acc_epoch: 0.9859777688980103\n",
      "2023-11-25 06:41:33,979 [INFO]: clean_train_loss_epoch: 0.0424700565636158\n",
      "2023-11-25 06:41:33,980 [INFO]: epoch: 127\n",
      "2023-11-25 06:41:39,293 [INFO]: lr-SGD: 0.004001036872524205\n",
      "2023-11-25 06:41:39,509 [INFO]: clean_train_acc_step: 0.986328125\n",
      "2023-11-25 06:41:39,510 [INFO]: clean_train_loss_step: 0.04781161621212959\n",
      "2023-11-25 06:41:39,511 [INFO]: epoch: 128\n"
     ]
    },
    {
     "data": {
      "application/vnd.jupyter.widget-view+json": {
       "model_id": "9d87a1f858194c6f884ca214f97b1378",
       "version_major": 2,
       "version_minor": 0
      },
      "text/plain": [
       "Validation: 0it [00:00, ?it/s]"
      ]
     },
     "metadata": {},
     "output_type": "display_data"
    },
    {
     "name": "stderr",
     "output_type": "stream",
     "text": [
      "2023-11-25 06:41:46,516 [INFO]: clean_val_acc: 0.8241859674453735\n",
      "2023-11-25 06:41:46,518 [INFO]: clean_val_loss: 0.8044848442077637\n",
      "2023-11-25 06:41:46,519 [INFO]: epoch: 128\n",
      "2023-11-25 06:41:46,547 [INFO]: clean_train_acc_epoch: 0.985622227191925\n",
      "2023-11-25 06:41:46,548 [INFO]: clean_train_loss_epoch: 0.04221668466925621\n",
      "2023-11-25 06:41:46,549 [INFO]: epoch: 128\n",
      "2023-11-25 06:41:53,044 [INFO]: lr-SGD: 0.004001055308662488\n",
      "2023-11-25 06:41:53,267 [INFO]: clean_train_acc_step: 0.98046875\n",
      "2023-11-25 06:41:53,268 [INFO]: clean_train_loss_step: 0.04851459339261055\n",
      "2023-11-25 06:41:53,270 [INFO]: epoch: 129\n"
     ]
    },
    {
     "data": {
      "application/vnd.jupyter.widget-view+json": {
       "model_id": "ca672bfe717841b0baeb948a827d1a02",
       "version_major": 2,
       "version_minor": 0
      },
      "text/plain": [
       "Validation: 0it [00:00, ?it/s]"
      ]
     },
     "metadata": {},
     "output_type": "display_data"
    },
    {
     "name": "stderr",
     "output_type": "stream",
     "text": [
      "2023-11-25 06:41:59,098 [INFO]: clean_val_acc: 0.8280645608901978\n",
      "2023-11-25 06:41:59,101 [INFO]: clean_val_loss: 0.8287220001220703\n",
      "2023-11-25 06:41:59,103 [INFO]: epoch: 129\n",
      "2023-11-25 06:41:59,133 [INFO]: clean_train_acc_epoch: 0.9865555763244629\n",
      "2023-11-25 06:41:59,134 [INFO]: clean_train_loss_epoch: 0.03988160938024521\n",
      "2023-11-25 06:41:59,135 [INFO]: epoch: 129\n",
      "2023-11-25 06:42:06,924 [INFO]: lr-SGD: 0.004001073907259942\n",
      "2023-11-25 06:42:07,138 [INFO]: clean_train_acc_step: 0.984375\n",
      "2023-11-25 06:42:07,141 [INFO]: clean_train_loss_step: 0.038862600922584534\n",
      "2023-11-25 06:42:07,142 [INFO]: epoch: 130\n"
     ]
    },
    {
     "data": {
      "application/vnd.jupyter.widget-view+json": {
       "model_id": "78a25b67ac6a4fb4b9385861bc38eff5",
       "version_major": 2,
       "version_minor": 0
      },
      "text/plain": [
       "Validation: 0it [00:00, ?it/s]"
      ]
     },
     "metadata": {},
     "output_type": "display_data"
    },
    {
     "name": "stderr",
     "output_type": "stream",
     "text": [
      "2023-11-25 06:42:11,753 [INFO]: clean_val_acc: 0.8460851907730103\n",
      "2023-11-25 06:42:11,754 [INFO]: clean_val_loss: 0.6896119117736816\n",
      "2023-11-25 06:42:11,755 [INFO]: epoch: 130\n",
      "2023-11-25 06:42:11,786 [INFO]: clean_train_acc_epoch: 0.9866666793823242\n",
      "2023-11-25 06:42:11,787 [INFO]: clean_train_loss_epoch: 0.038614656776189804\n",
      "2023-11-25 06:42:11,788 [INFO]: epoch: 130\n",
      "2023-11-25 06:42:20,564 [INFO]: lr-SGD: 0.004001092668316511\n",
      "2023-11-25 06:42:20,783 [INFO]: clean_train_acc_step: 0.9892578125\n",
      "2023-11-25 06:42:20,785 [INFO]: clean_train_loss_step: 0.03547627851366997\n",
      "2023-11-25 06:42:20,787 [INFO]: epoch: 131\n"
     ]
    },
    {
     "data": {
      "application/vnd.jupyter.widget-view+json": {
       "model_id": "065177466a034fee9f2bf30c34b4fb8f",
       "version_major": 2,
       "version_minor": 0
      },
      "text/plain": [
       "Validation: 0it [00:00, ?it/s]"
      ]
     },
     "metadata": {},
     "output_type": "display_data"
    },
    {
     "name": "stderr",
     "output_type": "stream",
     "text": [
      "2023-11-25 06:42:24,251 [INFO]: clean_val_acc: 0.8490130305290222\n",
      "2023-11-25 06:42:24,254 [INFO]: clean_val_loss: 0.6610485911369324\n",
      "2023-11-25 06:42:24,255 [INFO]: epoch: 131\n",
      "2023-11-25 06:42:24,286 [INFO]: clean_train_acc_epoch: 0.988444447517395\n",
      "2023-11-25 06:42:24,287 [INFO]: clean_train_loss_epoch: 0.03504073619842529\n",
      "2023-11-25 06:42:24,290 [INFO]: epoch: 131\n",
      "2023-11-25 06:42:34,213 [INFO]: lr-SGD: 0.004001111591832127\n",
      "2023-11-25 06:42:34,431 [INFO]: clean_train_acc_step: 0.9873046875\n",
      "2023-11-25 06:42:34,432 [INFO]: clean_train_loss_step: 0.03720477595925331\n",
      "2023-11-25 06:42:34,433 [INFO]: epoch: 132\n"
     ]
    },
    {
     "data": {
      "application/vnd.jupyter.widget-view+json": {
       "model_id": "b2195760d53c4ad0a94a5731d03f1548",
       "version_major": 2,
       "version_minor": 0
      },
      "text/plain": [
       "Validation: 0it [00:00, ?it/s]"
      ]
     },
     "metadata": {},
     "output_type": "display_data"
    },
    {
     "name": "stderr",
     "output_type": "stream",
     "text": [
      "2023-11-25 06:42:36,726 [INFO]: clean_val_acc: 0.8435978889465332\n",
      "2023-11-25 06:42:36,727 [INFO]: clean_val_loss: 0.7416388392448425\n",
      "2023-11-25 06:42:36,729 [INFO]: epoch: 132\n",
      "2023-11-25 06:42:36,757 [INFO]: clean_train_acc_epoch: 0.9882000088691711\n",
      "2023-11-25 06:42:36,759 [INFO]: clean_train_loss_epoch: 0.0352802537381649\n",
      "2023-11-25 06:42:36,761 [INFO]: epoch: 132\n"
     ]
    },
    {
     "data": {
      "application/vnd.jupyter.widget-view+json": {
       "model_id": "db0586de2f5249c6939d9dc49bedcab8",
       "version_major": 2,
       "version_minor": 0
      },
      "text/plain": [
       "Validation: 0it [00:00, ?it/s]"
      ]
     },
     "metadata": {},
     "output_type": "display_data"
    },
    {
     "name": "stderr",
     "output_type": "stream",
     "text": [
      "2023-11-25 06:42:49,118 [INFO]: clean_val_acc: 0.8327520489692688\n",
      "2023-11-25 06:42:49,120 [INFO]: clean_val_loss: 0.7602686882019043\n",
      "2023-11-25 06:42:49,122 [INFO]: epoch: 133\n",
      "2023-11-25 06:42:49,148 [INFO]: clean_train_acc_epoch: 0.9884889125823975\n",
      "2023-11-25 06:42:49,150 [INFO]: clean_train_loss_epoch: 0.03567555546760559\n",
      "2023-11-25 06:42:49,150 [INFO]: epoch: 133\n",
      "2023-11-25 06:42:51,486 [INFO]: lr-SGD: 0.004001130677806719\n",
      "2023-11-25 06:42:51,705 [INFO]: clean_train_acc_step: 0.986328125\n",
      "2023-11-25 06:42:51,706 [INFO]: clean_train_loss_step: 0.037400271743535995\n",
      "2023-11-25 06:42:51,707 [INFO]: epoch: 134\n"
     ]
    },
    {
     "data": {
      "application/vnd.jupyter.widget-view+json": {
       "model_id": "1257df11943645a1a09e7c5ad8e96d8a",
       "version_major": 2,
       "version_minor": 0
      },
      "text/plain": [
       "Validation: 0it [00:00, ?it/s]"
      ]
     },
     "metadata": {},
     "output_type": "display_data"
    },
    {
     "name": "stderr",
     "output_type": "stream",
     "text": [
      "2023-11-25 06:43:01,519 [INFO]: clean_val_acc: 0.8606523275375366\n",
      "2023-11-25 06:43:01,522 [INFO]: clean_val_loss: 0.6377346515655518\n",
      "2023-11-25 06:43:01,523 [INFO]: epoch: 134\n",
      "2023-11-25 06:43:01,853 [INFO]: clean_train_acc_epoch: 0.9894888997077942\n",
      "2023-11-25 06:43:01,854 [INFO]: clean_train_loss_epoch: 0.03144403174519539\n",
      "2023-11-25 06:43:01,855 [INFO]: epoch: 134\n",
      "2023-11-25 06:43:05,364 [INFO]: lr-SGD: 0.004001149926240233\n",
      "2023-11-25 06:43:05,583 [INFO]: clean_train_acc_step: 0.9892578125\n",
      "2023-11-25 06:43:05,585 [INFO]: clean_train_loss_step: 0.028910957276821136\n",
      "2023-11-25 06:43:05,586 [INFO]: epoch: 135\n"
     ]
    },
    {
     "data": {
      "application/vnd.jupyter.widget-view+json": {
       "model_id": "3cd86f82daae45809c7c48bb5c6c0739",
       "version_major": 2,
       "version_minor": 0
      },
      "text/plain": [
       "Validation: 0it [00:00, ?it/s]"
      ]
     },
     "metadata": {},
     "output_type": "display_data"
    },
    {
     "name": "stderr",
     "output_type": "stream",
     "text": [
      "2023-11-25 06:43:14,235 [INFO]: clean_val_acc: 0.8600162267684937\n",
      "2023-11-25 06:43:14,237 [INFO]: clean_val_loss: 0.627205491065979\n",
      "2023-11-25 06:43:14,239 [INFO]: epoch: 135\n",
      "2023-11-25 06:43:14,595 [INFO]: clean_train_acc_epoch: 0.9899555444717407\n",
      "2023-11-25 06:43:14,597 [INFO]: clean_train_loss_epoch: 0.031411539763212204\n",
      "2023-11-25 06:43:14,597 [INFO]: epoch: 135\n",
      "2023-11-25 06:43:19,516 [INFO]: lr-SGD: 0.004001169337132585\n",
      "2023-11-25 06:43:19,735 [INFO]: clean_train_acc_step: 0.994140625\n",
      "2023-11-25 06:43:19,737 [INFO]: clean_train_loss_step: 0.020107680931687355\n",
      "2023-11-25 06:43:19,738 [INFO]: epoch: 136\n"
     ]
    },
    {
     "data": {
      "application/vnd.jupyter.widget-view+json": {
       "model_id": "c3cb24f615f54d60bccd70d12897d9b8",
       "version_major": 2,
       "version_minor": 0
      },
      "text/plain": [
       "Validation: 0it [00:00, ?it/s]"
      ]
     },
     "metadata": {},
     "output_type": "display_data"
    },
    {
     "name": "stderr",
     "output_type": "stream",
     "text": [
      "2023-11-25 06:43:27,279 [INFO]: clean_val_acc: 0.851211667060852\n",
      "2023-11-25 06:43:27,281 [INFO]: clean_val_loss: 0.7127349972724915\n",
      "2023-11-25 06:43:27,283 [INFO]: epoch: 136\n",
      "2023-11-25 06:43:27,313 [INFO]: clean_train_acc_epoch: 0.9901555776596069\n",
      "2023-11-25 06:43:27,314 [INFO]: clean_train_loss_epoch: 0.030531322583556175\n",
      "2023-11-25 06:43:27,315 [INFO]: epoch: 136\n",
      "2023-11-25 06:43:33,206 [INFO]: lr-SGD: 0.004001188910483733\n",
      "2023-11-25 06:43:33,422 [INFO]: clean_train_acc_step: 0.984375\n",
      "2023-11-25 06:43:33,423 [INFO]: clean_train_loss_step: 0.04750604182481766\n",
      "2023-11-25 06:43:33,424 [INFO]: epoch: 137\n"
     ]
    },
    {
     "data": {
      "application/vnd.jupyter.widget-view+json": {
       "model_id": "2abdddfb2bed40ef8f6f9accb3714fc0",
       "version_major": 2,
       "version_minor": 0
      },
      "text/plain": [
       "Validation: 0it [00:00, ?it/s]"
      ]
     },
     "metadata": {},
     "output_type": "display_data"
    },
    {
     "name": "stderr",
     "output_type": "stream",
     "text": [
      "2023-11-25 06:43:39,817 [INFO]: clean_val_acc: 0.8500829935073853\n",
      "2023-11-25 06:43:39,821 [INFO]: clean_val_loss: 0.677958607673645\n",
      "2023-11-25 06:43:39,822 [INFO]: epoch: 137\n",
      "2023-11-25 06:43:39,852 [INFO]: clean_train_acc_epoch: 0.9894888997077942\n",
      "2023-11-25 06:43:39,854 [INFO]: clean_train_loss_epoch: 0.03224983066320419\n",
      "2023-11-25 06:43:39,856 [INFO]: epoch: 137\n",
      "2023-11-25 06:43:47,405 [INFO]: lr-SGD: 0.004001208646293608\n",
      "2023-11-25 06:43:47,634 [INFO]: clean_train_acc_step: 0.9873046875\n",
      "2023-11-25 06:43:47,637 [INFO]: clean_train_loss_step: 0.04169793426990509\n",
      "2023-11-25 06:43:47,639 [INFO]: epoch: 138\n"
     ]
    },
    {
     "data": {
      "application/vnd.jupyter.widget-view+json": {
       "model_id": "85b215de622e4a828430b9337baf7cee",
       "version_major": 2,
       "version_minor": 0
      },
      "text/plain": [
       "Validation: 0it [00:00, ?it/s]"
      ]
     },
     "metadata": {},
     "output_type": "display_data"
    },
    {
     "name": "stderr",
     "output_type": "stream",
     "text": [
      "2023-11-25 06:43:52,942 [INFO]: clean_val_acc: 0.842985987663269\n",
      "2023-11-25 06:43:52,944 [INFO]: clean_val_loss: 0.73546302318573\n",
      "2023-11-25 06:43:52,945 [INFO]: epoch: 138\n",
      "2023-11-25 06:43:52,981 [INFO]: clean_train_acc_epoch: 0.9896666407585144\n",
      "2023-11-25 06:43:52,982 [INFO]: clean_train_loss_epoch: 0.0319601409137249\n",
      "2023-11-25 06:43:52,983 [INFO]: epoch: 138\n",
      "2023-11-25 06:44:01,396 [INFO]: lr-SGD: 0.004001228544562127\n",
      "2023-11-25 06:44:01,632 [INFO]: clean_train_acc_step: 0.9873046875\n",
      "2023-11-25 06:44:01,634 [INFO]: clean_train_loss_step: 0.038663122802972794\n",
      "2023-11-25 06:44:01,635 [INFO]: epoch: 139\n"
     ]
    },
    {
     "data": {
      "application/vnd.jupyter.widget-view+json": {
       "model_id": "083ef73753d14150a368d845ce4ed0da",
       "version_major": 2,
       "version_minor": 0
      },
      "text/plain": [
       "Validation: 0it [00:00, ?it/s]"
      ]
     },
     "metadata": {},
     "output_type": "display_data"
    },
    {
     "name": "stderr",
     "output_type": "stream",
     "text": [
      "2023-11-25 06:44:05,782 [INFO]: clean_val_acc: 0.8597933053970337\n",
      "2023-11-25 06:44:05,785 [INFO]: clean_val_loss: 0.6449090242385864\n",
      "2023-11-25 06:44:05,786 [INFO]: epoch: 139\n",
      "2023-11-25 06:44:05,819 [INFO]: clean_train_acc_epoch: 0.9893333315849304\n",
      "2023-11-25 06:44:05,821 [INFO]: clean_train_loss_epoch: 0.032282233238220215\n",
      "2023-11-25 06:44:05,823 [INFO]: epoch: 139\n",
      "2023-11-25 06:44:15,475 [INFO]: lr-SGD: 0.004001248605289248\n",
      "2023-11-25 06:44:15,698 [INFO]: clean_train_acc_step: 0.9892578125\n",
      "2023-11-25 06:44:15,701 [INFO]: clean_train_loss_step: 0.028134211897850037\n",
      "2023-11-25 06:44:15,702 [INFO]: epoch: 140\n"
     ]
    },
    {
     "data": {
      "application/vnd.jupyter.widget-view+json": {
       "model_id": "f7a8d619cebb4c32967290e9adab5780",
       "version_major": 2,
       "version_minor": 0
      },
      "text/plain": [
       "Validation: 0it [00:00, ?it/s]"
      ]
     },
     "metadata": {},
     "output_type": "display_data"
    },
    {
     "name": "stderr",
     "output_type": "stream",
     "text": [
      "2023-11-25 06:44:18,391 [INFO]: clean_val_acc: 0.8531941175460815\n",
      "2023-11-25 06:44:18,394 [INFO]: clean_val_loss: 0.7055968046188354\n",
      "2023-11-25 06:44:18,395 [INFO]: epoch: 140\n",
      "2023-11-25 06:44:18,426 [INFO]: clean_train_acc_epoch: 0.9902666807174683\n",
      "2023-11-25 06:44:18,427 [INFO]: clean_train_loss_epoch: 0.030685845762491226\n",
      "2023-11-25 06:44:18,429 [INFO]: epoch: 140\n"
     ]
    },
    {
     "data": {
      "application/vnd.jupyter.widget-view+json": {
       "model_id": "eac4a1cda6ad402d91e7a1aeba8be7a5",
       "version_major": 2,
       "version_minor": 0
      },
      "text/plain": [
       "Validation: 0it [00:00, ?it/s]"
      ]
     },
     "metadata": {},
     "output_type": "display_data"
    },
    {
     "name": "stderr",
     "output_type": "stream",
     "text": [
      "2023-11-25 06:44:30,749 [INFO]: clean_val_acc: 0.8503284454345703\n",
      "2023-11-25 06:44:30,751 [INFO]: clean_val_loss: 0.6962220668792725\n",
      "2023-11-25 06:44:30,752 [INFO]: epoch: 141\n",
      "2023-11-25 06:44:30,781 [INFO]: clean_train_acc_epoch: 0.990244448184967\n",
      "2023-11-25 06:44:30,783 [INFO]: clean_train_loss_epoch: 0.03050360269844532\n",
      "2023-11-25 06:44:30,784 [INFO]: epoch: 141\n",
      "2023-11-25 06:44:32,628 [INFO]: lr-SGD: 0.00400126882847486\n",
      "2023-11-25 06:44:32,853 [INFO]: clean_train_acc_step: 0.9912109375\n",
      "2023-11-25 06:44:32,855 [INFO]: clean_train_loss_step: 0.023933088406920433\n",
      "2023-11-25 06:44:32,857 [INFO]: epoch: 142\n"
     ]
    },
    {
     "data": {
      "application/vnd.jupyter.widget-view+json": {
       "model_id": "d00da5c57f1542a98ec05e4a3b866a9a",
       "version_major": 2,
       "version_minor": 0
      },
      "text/plain": [
       "Validation: 0it [00:00, ?it/s]"
      ]
     },
     "metadata": {},
     "output_type": "display_data"
    },
    {
     "name": "stderr",
     "output_type": "stream",
     "text": [
      "2023-11-25 06:44:43,107 [INFO]: clean_val_acc: 0.8540911674499512\n",
      "2023-11-25 06:44:43,109 [INFO]: clean_val_loss: 0.6658202409744263\n",
      "2023-11-25 06:44:43,109 [INFO]: epoch: 142\n",
      "2023-11-25 06:44:43,138 [INFO]: clean_train_acc_epoch: 0.9894222021102905\n",
      "2023-11-25 06:44:43,138 [INFO]: clean_train_loss_epoch: 0.03230581432580948\n",
      "2023-11-25 06:44:43,139 [INFO]: epoch: 142\n",
      "2023-11-25 06:44:46,336 [INFO]: lr-SGD: 0.004001289214118936\n",
      "2023-11-25 06:44:46,556 [INFO]: clean_train_acc_step: 0.9931640625\n",
      "2023-11-25 06:44:46,557 [INFO]: clean_train_loss_step: 0.026064464822411537\n",
      "2023-11-25 06:44:46,558 [INFO]: epoch: 143\n"
     ]
    },
    {
     "data": {
      "application/vnd.jupyter.widget-view+json": {
       "model_id": "9bd80d7789cf40c4b2d5cf1f204726c7",
       "version_major": 2,
       "version_minor": 0
      },
      "text/plain": [
       "Validation: 0it [00:00, ?it/s]"
      ]
     },
     "metadata": {},
     "output_type": "display_data"
    },
    {
     "name": "stderr",
     "output_type": "stream",
     "text": [
      "2023-11-25 06:44:55,542 [INFO]: clean_val_acc: 0.8614473342895508\n",
      "2023-11-25 06:44:55,544 [INFO]: clean_val_loss: 0.6227980852127075\n",
      "2023-11-25 06:44:55,545 [INFO]: epoch: 143\n",
      "2023-11-25 06:44:55,870 [INFO]: clean_train_acc_epoch: 0.9895777702331543\n",
      "2023-11-25 06:44:55,871 [INFO]: clean_train_loss_epoch: 0.03182852640748024\n",
      "2023-11-25 06:44:55,873 [INFO]: epoch: 143\n",
      "2023-11-25 06:45:00,320 [INFO]: lr-SGD: 0.004001309762221392\n",
      "2023-11-25 06:45:00,534 [INFO]: clean_train_acc_step: 0.98828125\n",
      "2023-11-25 06:45:00,537 [INFO]: clean_train_loss_step: 0.02712269313633442\n",
      "2023-11-25 06:45:00,538 [INFO]: epoch: 144\n"
     ]
    },
    {
     "data": {
      "application/vnd.jupyter.widget-view+json": {
       "model_id": "fae5341ab64b4908872524ccc4a66508",
       "version_major": 2,
       "version_minor": 0
      },
      "text/plain": [
       "Validation: 0it [00:00, ?it/s]"
      ]
     },
     "metadata": {},
     "output_type": "display_data"
    },
    {
     "name": "stderr",
     "output_type": "stream",
     "text": [
      "2023-11-25 06:45:08,395 [INFO]: clean_val_acc: 0.8602098226547241\n",
      "2023-11-25 06:45:08,398 [INFO]: clean_val_loss: 0.6524178385734558\n",
      "2023-11-25 06:45:08,399 [INFO]: epoch: 144\n",
      "2023-11-25 06:45:08,427 [INFO]: clean_train_acc_epoch: 0.9907110929489136\n",
      "2023-11-25 06:45:08,429 [INFO]: clean_train_loss_epoch: 0.028042098507285118\n",
      "2023-11-25 06:45:08,430 [INFO]: epoch: 144\n",
      "2023-11-25 06:45:13,891 [INFO]: lr-SGD: 0.004001330472782172\n",
      "2023-11-25 06:45:14,116 [INFO]: clean_train_acc_step: 0.9912109375\n",
      "2023-11-25 06:45:14,119 [INFO]: clean_train_loss_step: 0.02919280342757702\n",
      "2023-11-25 06:45:14,120 [INFO]: epoch: 145\n"
     ]
    },
    {
     "data": {
      "application/vnd.jupyter.widget-view+json": {
       "model_id": "c75c1557b32f4684849b819ae8b3a263",
       "version_major": 2,
       "version_minor": 0
      },
      "text/plain": [
       "Validation: 0it [00:00, ?it/s]"
      ]
     },
     "metadata": {},
     "output_type": "display_data"
    },
    {
     "name": "stderr",
     "output_type": "stream",
     "text": [
      "2023-11-25 06:45:20,825 [INFO]: clean_val_acc: 0.8563433885574341\n",
      "2023-11-25 06:45:20,827 [INFO]: clean_val_loss: 0.6257284879684448\n",
      "2023-11-25 06:45:20,828 [INFO]: epoch: 145\n",
      "2023-11-25 06:45:20,856 [INFO]: clean_train_acc_epoch: 0.9911333322525024\n",
      "2023-11-25 06:45:20,857 [INFO]: clean_train_loss_epoch: 0.027233965694904327\n",
      "2023-11-25 06:45:20,858 [INFO]: epoch: 145\n",
      "2023-11-25 06:45:27,425 [INFO]: lr-SGD: 0.004001351345801166\n",
      "2023-11-25 06:45:27,640 [INFO]: clean_train_acc_step: 0.994140625\n",
      "2023-11-25 06:45:27,642 [INFO]: clean_train_loss_step: 0.01908218115568161\n",
      "2023-11-25 06:45:27,643 [INFO]: epoch: 146\n"
     ]
    },
    {
     "data": {
      "application/vnd.jupyter.widget-view+json": {
       "model_id": "976551dc53fc479ba5fa7799d8e9c1d7",
       "version_major": 2,
       "version_minor": 0
      },
      "text/plain": [
       "Validation: 0it [00:00, ?it/s]"
      ]
     },
     "metadata": {},
     "output_type": "display_data"
    },
    {
     "name": "stderr",
     "output_type": "stream",
     "text": [
      "2023-11-25 06:45:33,060 [INFO]: clean_val_acc: 0.8648713827133179\n",
      "2023-11-25 06:45:33,062 [INFO]: clean_val_loss: 0.6029378771781921\n",
      "2023-11-25 06:45:33,063 [INFO]: epoch: 146\n",
      "2023-11-25 06:45:33,362 [INFO]: clean_train_acc_epoch: 0.992222249507904\n",
      "2023-11-25 06:45:33,365 [INFO]: clean_train_loss_epoch: 0.024675386026501656\n",
      "2023-11-25 06:45:33,366 [INFO]: epoch: 146\n",
      "2023-11-25 06:45:42,250 [INFO]: lr-SGD: 0.004001372381278359\n",
      "2023-11-25 06:45:42,472 [INFO]: clean_train_acc_step: 0.9931640625\n",
      "2023-11-25 06:45:42,473 [INFO]: clean_train_loss_step: 0.020171834155917168\n",
      "2023-11-25 06:45:42,474 [INFO]: epoch: 147\n"
     ]
    },
    {
     "data": {
      "application/vnd.jupyter.widget-view+json": {
       "model_id": "2bbc9eb1546b43188adf5027b8a60663",
       "version_major": 2,
       "version_minor": 0
      },
      "text/plain": [
       "Validation: 0it [00:00, ?it/s]"
      ]
     },
     "metadata": {},
     "output_type": "display_data"
    },
    {
     "name": "stderr",
     "output_type": "stream",
     "text": [
      "2023-11-25 06:45:46,637 [INFO]: clean_val_acc: 0.8725266456604004\n",
      "2023-11-25 06:45:46,639 [INFO]: clean_val_loss: 0.5715216398239136\n",
      "2023-11-25 06:45:46,641 [INFO]: epoch: 147\n",
      "2023-11-25 06:45:46,981 [INFO]: clean_train_acc_epoch: 0.992555558681488\n",
      "2023-11-25 06:45:46,983 [INFO]: clean_train_loss_epoch: 0.025078363716602325\n",
      "2023-11-25 06:45:46,984 [INFO]: epoch: 147\n",
      "2023-11-25 06:45:56,201 [INFO]: lr-SGD: 0.004001393579213627\n",
      "2023-11-25 06:45:56,416 [INFO]: clean_train_acc_step: 0.98828125\n",
      "2023-11-25 06:45:56,417 [INFO]: clean_train_loss_step: 0.028725825250148773\n",
      "2023-11-25 06:45:56,418 [INFO]: epoch: 148\n"
     ]
    },
    {
     "data": {
      "application/vnd.jupyter.widget-view+json": {
       "model_id": "783a2dd076124e049f16ffeadf55b47c",
       "version_major": 2,
       "version_minor": 0
      },
      "text/plain": [
       "Validation: 0it [00:00, ?it/s]"
      ]
     },
     "metadata": {},
     "output_type": "display_data"
    },
    {
     "name": "stderr",
     "output_type": "stream",
     "text": [
      "2023-11-25 06:45:59,487 [INFO]: clean_val_acc: 0.8679825663566589\n",
      "2023-11-25 06:45:59,488 [INFO]: clean_val_loss: 0.6234322786331177\n",
      "2023-11-25 06:45:59,489 [INFO]: epoch: 148\n",
      "2023-11-25 06:45:59,847 [INFO]: clean_train_acc_epoch: 0.9922000169754028\n",
      "2023-11-25 06:45:59,849 [INFO]: clean_train_loss_epoch: 0.023956196382641792\n",
      "2023-11-25 06:45:59,850 [INFO]: epoch: 148\n",
      "2023-11-25 06:46:10,160 [INFO]: lr-SGD: 0.004001414939606943\n",
      "2023-11-25 06:46:10,368 [INFO]: clean_train_acc_step: 0.9917355179786682\n",
      "2023-11-25 06:46:10,369 [INFO]: clean_train_loss_step: 0.023777877911925316\n",
      "2023-11-25 06:46:10,371 [INFO]: epoch: 149\n"
     ]
    },
    {
     "data": {
      "application/vnd.jupyter.widget-view+json": {
       "model_id": "e83e75f4d5cd4cfd8e7169e5eed77c71",
       "version_major": 2,
       "version_minor": 0
      },
      "text/plain": [
       "Validation: 0it [00:00, ?it/s]"
      ]
     },
     "metadata": {},
     "output_type": "display_data"
    },
    {
     "name": "stderr",
     "output_type": "stream",
     "text": [
      "2023-11-25 06:46:12,146 [INFO]: clean_val_acc: 0.8548067212104797\n",
      "2023-11-25 06:46:12,148 [INFO]: clean_val_loss: 0.6949776411056519\n",
      "2023-11-25 06:46:12,149 [INFO]: epoch: 149\n",
      "2023-11-25 06:46:12,189 [INFO]: clean_train_acc_epoch: 0.9926000237464905\n",
      "2023-11-25 06:46:12,190 [INFO]: clean_train_loss_epoch: 0.023696238175034523\n",
      "2023-11-25 06:46:12,191 [INFO]: epoch: 149\n"
     ]
    },
    {
     "data": {
      "application/vnd.jupyter.widget-view+json": {
       "model_id": "0cd010507fca470dae6663dc863f1b9a",
       "version_major": 2,
       "version_minor": 0
      },
      "text/plain": [
       "Validation: 0it [00:00, ?it/s]"
      ]
     },
     "metadata": {},
     "output_type": "display_data"
    },
    {
     "name": "stderr",
     "output_type": "stream",
     "text": [
      "2023-11-25 06:46:26,251 [INFO]: clean_val_acc: 0.8689591288566589\n",
      "2023-11-25 06:46:26,255 [INFO]: clean_val_loss: 0.5888420939445496\n",
      "2023-11-25 06:46:26,257 [INFO]: epoch: 150\n",
      "2023-11-25 06:46:26,827 [INFO]: clean_train_acc_epoch: 0.9928444623947144\n",
      "2023-11-25 06:46:26,830 [INFO]: clean_train_loss_epoch: 0.022207584232091904\n",
      "2023-11-25 06:46:26,832 [INFO]: epoch: 150\n",
      "2023-11-25 06:46:30,227 [INFO]: lr-SGD: 0.004001436462458208\n",
      "2023-11-25 06:46:30,457 [INFO]: clean_train_acc_step: 0.9921875\n",
      "2023-11-25 06:46:30,459 [INFO]: clean_train_loss_step: 0.018240533769130707\n",
      "2023-11-25 06:46:30,462 [INFO]: epoch: 151\n"
     ]
    },
    {
     "data": {
      "application/vnd.jupyter.widget-view+json": {
       "model_id": "935b02e2a49846449537a3043881acf3",
       "version_major": 2,
       "version_minor": 0
      },
      "text/plain": [
       "Validation: 0it [00:00, ?it/s]"
      ]
     },
     "metadata": {},
     "output_type": "display_data"
    },
    {
     "name": "stderr",
     "output_type": "stream",
     "text": [
      "2023-11-25 06:46:40,044 [INFO]: clean_val_acc: 0.8705873489379883\n",
      "2023-11-25 06:46:40,047 [INFO]: clean_val_loss: 0.6136382818222046\n",
      "2023-11-25 06:46:40,049 [INFO]: epoch: 151\n",
      "2023-11-25 06:46:40,402 [INFO]: clean_train_acc_epoch: 0.9926000237464905\n",
      "2023-11-25 06:46:40,404 [INFO]: clean_train_loss_epoch: 0.02333579584956169\n",
      "2023-11-25 06:46:40,406 [INFO]: epoch: 151\n",
      "2023-11-25 06:46:44,328 [INFO]: lr-SGD: 0.004001458147767353\n",
      "2023-11-25 06:46:44,555 [INFO]: clean_train_acc_step: 0.9931640625\n",
      "2023-11-25 06:46:44,557 [INFO]: clean_train_loss_step: 0.023490991443395615\n",
      "2023-11-25 06:46:44,558 [INFO]: epoch: 152\n"
     ]
    },
    {
     "data": {
      "application/vnd.jupyter.widget-view+json": {
       "model_id": "236cf08e62ff432fb664f677c678a486",
       "version_major": 2,
       "version_minor": 0
      },
      "text/plain": [
       "Validation: 0it [00:00, ?it/s]"
      ]
     },
     "metadata": {},
     "output_type": "display_data"
    },
    {
     "name": "stderr",
     "output_type": "stream",
     "text": [
      "2023-11-25 06:46:52,818 [INFO]: clean_val_acc: 0.8590898513793945\n",
      "2023-11-25 06:46:52,820 [INFO]: clean_val_loss: 0.6425741910934448\n",
      "2023-11-25 06:46:52,822 [INFO]: epoch: 152\n",
      "2023-11-25 06:46:52,852 [INFO]: clean_train_acc_epoch: 0.9932888746261597\n",
      "2023-11-25 06:46:52,853 [INFO]: clean_train_loss_epoch: 0.023016514256596565\n",
      "2023-11-25 06:46:52,855 [INFO]: epoch: 152\n",
      "2023-11-25 06:46:57,991 [INFO]: lr-SGD: 0.004001479995534296\n",
      "2023-11-25 06:46:58,209 [INFO]: clean_train_acc_step: 0.9921875\n",
      "2023-11-25 06:46:58,210 [INFO]: clean_train_loss_step: 0.028782648965716362\n",
      "2023-11-25 06:46:58,213 [INFO]: epoch: 153\n"
     ]
    },
    {
     "data": {
      "application/vnd.jupyter.widget-view+json": {
       "model_id": "a09cfcfbaa194bdbb3c21b130a7f3346",
       "version_major": 2,
       "version_minor": 0
      },
      "text/plain": [
       "Validation: 0it [00:00, ?it/s]"
      ]
     },
     "metadata": {},
     "output_type": "display_data"
    },
    {
     "name": "stderr",
     "output_type": "stream",
     "text": [
      "2023-11-25 06:47:05,319 [INFO]: clean_val_acc: 0.8435322046279907\n",
      "2023-11-25 06:47:05,321 [INFO]: clean_val_loss: 0.7441067099571228\n",
      "2023-11-25 06:47:05,323 [INFO]: epoch: 153\n",
      "2023-11-25 06:47:05,352 [INFO]: clean_train_acc_epoch: 0.9929333329200745\n",
      "2023-11-25 06:47:05,353 [INFO]: clean_train_loss_epoch: 0.02337326481938362\n",
      "2023-11-25 06:47:05,354 [INFO]: epoch: 153\n",
      "2023-11-25 06:47:11,613 [INFO]: lr-SGD: 0.004001502005758981\n",
      "2023-11-25 06:47:11,833 [INFO]: clean_train_acc_step: 0.994140625\n",
      "2023-11-25 06:47:11,835 [INFO]: clean_train_loss_step: 0.020587150007486343\n",
      "2023-11-25 06:47:11,837 [INFO]: epoch: 154\n"
     ]
    },
    {
     "data": {
      "application/vnd.jupyter.widget-view+json": {
       "model_id": "ce19c6c9cbb443759857934bdd38c2af",
       "version_major": 2,
       "version_minor": 0
      },
      "text/plain": [
       "Validation: 0it [00:00, ?it/s]"
      ]
     },
     "metadata": {},
     "output_type": "display_data"
    },
    {
     "name": "stderr",
     "output_type": "stream",
     "text": [
      "2023-11-25 06:47:17,638 [INFO]: clean_val_acc: 0.8540531396865845\n",
      "2023-11-25 06:47:17,640 [INFO]: clean_val_loss: 0.6668696999549866\n",
      "2023-11-25 06:47:17,641 [INFO]: epoch: 154\n",
      "2023-11-25 06:47:17,674 [INFO]: clean_train_acc_epoch: 0.9945111274719238\n",
      "2023-11-25 06:47:17,676 [INFO]: clean_train_loss_epoch: 0.019983377307653427\n",
      "2023-11-25 06:47:17,677 [INFO]: epoch: 154\n",
      "2023-11-25 06:47:25,091 [INFO]: lr-SGD: 0.0040015241784413375\n",
      "2023-11-25 06:47:25,310 [INFO]: clean_train_acc_step: 0.99609375\n",
      "2023-11-25 06:47:25,312 [INFO]: clean_train_loss_step: 0.017712252214550972\n",
      "2023-11-25 06:47:25,313 [INFO]: epoch: 155\n"
     ]
    },
    {
     "data": {
      "application/vnd.jupyter.widget-view+json": {
       "model_id": "95e88b8bb73d405bbf878d30049af295",
       "version_major": 2,
       "version_minor": 0
      },
      "text/plain": [
       "Validation: 0it [00:00, ?it/s]"
      ]
     },
     "metadata": {},
     "output_type": "display_data"
    },
    {
     "name": "stderr",
     "output_type": "stream",
     "text": [
      "2023-11-25 06:47:29,990 [INFO]: clean_val_acc: 0.8642336130142212\n",
      "2023-11-25 06:47:29,991 [INFO]: clean_val_loss: 0.6256983876228333\n",
      "2023-11-25 06:47:29,994 [INFO]: epoch: 155\n",
      "2023-11-25 06:47:30,024 [INFO]: clean_train_acc_epoch: 0.9944444298744202\n",
      "2023-11-25 06:47:30,025 [INFO]: clean_train_loss_epoch: 0.018634682521224022\n",
      "2023-11-25 06:47:30,027 [INFO]: epoch: 155\n",
      "2023-11-25 06:47:38,678 [INFO]: lr-SGD: 0.0040015465135812694\n",
      "2023-11-25 06:47:38,901 [INFO]: clean_train_acc_step: 0.9931640625\n",
      "2023-11-25 06:47:38,902 [INFO]: clean_train_loss_step: 0.021477781236171722\n",
      "2023-11-25 06:47:38,903 [INFO]: epoch: 156\n"
     ]
    },
    {
     "data": {
      "application/vnd.jupyter.widget-view+json": {
       "model_id": "4523e86be0c34f968981f7f8e8337d79",
       "version_major": 2,
       "version_minor": 0
      },
      "text/plain": [
       "Validation: 0it [00:00, ?it/s]"
      ]
     },
     "metadata": {},
     "output_type": "display_data"
    },
    {
     "name": "stderr",
     "output_type": "stream",
     "text": [
      "2023-11-25 06:47:42,403 [INFO]: clean_val_acc: 0.8673585653305054\n",
      "2023-11-25 06:47:42,406 [INFO]: clean_val_loss: 0.6276624202728271\n",
      "2023-11-25 06:47:42,407 [INFO]: epoch: 156\n",
      "2023-11-25 06:47:42,435 [INFO]: clean_train_acc_epoch: 0.9943110942840576\n",
      "2023-11-25 06:47:42,437 [INFO]: clean_train_loss_epoch: 0.018313230946660042\n",
      "2023-11-25 06:47:42,439 [INFO]: epoch: 156\n",
      "2023-11-25 06:47:52,188 [INFO]: lr-SGD: 0.004001569011178707\n",
      "2023-11-25 06:47:52,406 [INFO]: clean_train_acc_step: 0.9931640625\n",
      "2023-11-25 06:47:52,408 [INFO]: clean_train_loss_step: 0.02268051914870739\n",
      "2023-11-25 06:47:52,409 [INFO]: epoch: 157\n"
     ]
    },
    {
     "data": {
      "application/vnd.jupyter.widget-view+json": {
       "model_id": "4bfe46c05aa042ffbad8bd51d52f1016",
       "version_major": 2,
       "version_minor": 0
      },
      "text/plain": [
       "Validation: 0it [00:00, ?it/s]"
      ]
     },
     "metadata": {},
     "output_type": "display_data"
    },
    {
     "name": "stderr",
     "output_type": "stream",
     "text": [
      "2023-11-25 06:47:54,627 [INFO]: clean_val_acc: 0.8672410845756531\n",
      "2023-11-25 06:47:54,629 [INFO]: clean_val_loss: 0.6178339719772339\n",
      "2023-11-25 06:47:54,631 [INFO]: epoch: 157\n",
      "2023-11-25 06:47:54,662 [INFO]: clean_train_acc_epoch: 0.994422197341919\n",
      "2023-11-25 06:47:54,663 [INFO]: clean_train_loss_epoch: 0.018963053822517395\n",
      "2023-11-25 06:47:54,665 [INFO]: epoch: 157\n"
     ]
    },
    {
     "data": {
      "application/vnd.jupyter.widget-view+json": {
       "model_id": "4fac7843c16a426a97fc3197d25df4b3",
       "version_major": 2,
       "version_minor": 0
      },
      "text/plain": [
       "Validation: 0it [00:00, ?it/s]"
      ]
     },
     "metadata": {},
     "output_type": "display_data"
    },
    {
     "name": "stderr",
     "output_type": "stream",
     "text": [
      "2023-11-25 06:48:06,916 [INFO]: clean_val_acc: 0.853387713432312\n",
      "2023-11-25 06:48:06,918 [INFO]: clean_val_loss: 0.6919023394584656\n",
      "2023-11-25 06:48:06,919 [INFO]: epoch: 158\n",
      "2023-11-25 06:48:06,953 [INFO]: clean_train_acc_epoch: 0.9933333396911621\n",
      "2023-11-25 06:48:06,956 [INFO]: clean_train_loss_epoch: 0.020134370774030685\n",
      "2023-11-25 06:48:06,958 [INFO]: epoch: 158\n",
      "2023-11-25 06:48:09,223 [INFO]: lr-SGD: 0.004001591671233595\n",
      "2023-11-25 06:48:09,444 [INFO]: clean_train_acc_step: 0.9951171875\n",
      "2023-11-25 06:48:09,446 [INFO]: clean_train_loss_step: 0.0212614256888628\n",
      "2023-11-25 06:48:09,447 [INFO]: epoch: 159\n"
     ]
    },
    {
     "data": {
      "application/vnd.jupyter.widget-view+json": {
       "model_id": "66869cd4a35348ebb22bf93806f90e64",
       "version_major": 2,
       "version_minor": 0
      },
      "text/plain": [
       "Validation: 0it [00:00, ?it/s]"
      ]
     },
     "metadata": {},
     "output_type": "display_data"
    },
    {
     "name": "stderr",
     "output_type": "stream",
     "text": [
      "2023-11-25 06:48:19,345 [INFO]: clean_val_acc: 0.8608753085136414\n",
      "2023-11-25 06:48:19,348 [INFO]: clean_val_loss: 0.6581083536148071\n",
      "2023-11-25 06:48:19,349 [INFO]: epoch: 159\n",
      "2023-11-25 06:48:19,379 [INFO]: clean_train_acc_epoch: 0.995199978351593\n",
      "2023-11-25 06:48:19,380 [INFO]: clean_train_loss_epoch: 0.01724560372531414\n",
      "2023-11-25 06:48:19,383 [INFO]: epoch: 159\n",
      "2023-11-25 06:48:23,043 [INFO]: lr-SGD: 0.0040016144937458226\n",
      "2023-11-25 06:48:23,264 [INFO]: clean_train_acc_step: 0.9951171875\n",
      "2023-11-25 06:48:23,266 [INFO]: clean_train_loss_step: 0.017375828698277473\n",
      "2023-11-25 06:48:23,267 [INFO]: epoch: 160\n"
     ]
    },
    {
     "data": {
      "application/vnd.jupyter.widget-view+json": {
       "model_id": "fdf9f5406f6e4f3d876f1f39afa1fe4b",
       "version_major": 2,
       "version_minor": 0
      },
      "text/plain": [
       "Validation: 0it [00:00, ?it/s]"
      ]
     },
     "metadata": {},
     "output_type": "display_data"
    },
    {
     "name": "stderr",
     "output_type": "stream",
     "text": [
      "2023-11-25 06:48:31,943 [INFO]: clean_val_acc: 0.8580752611160278\n",
      "2023-11-25 06:48:31,945 [INFO]: clean_val_loss: 0.6840929985046387\n",
      "2023-11-25 06:48:31,946 [INFO]: epoch: 160\n",
      "2023-11-25 06:48:31,976 [INFO]: clean_train_acc_epoch: 0.9953333139419556\n",
      "2023-11-25 06:48:31,978 [INFO]: clean_train_loss_epoch: 0.0167691670358181\n",
      "2023-11-25 06:48:31,979 [INFO]: epoch: 160\n",
      "2023-11-25 06:48:36,701 [INFO]: lr-SGD: 0.004001637478715334\n",
      "2023-11-25 06:48:36,924 [INFO]: clean_train_acc_step: 0.99609375\n",
      "2023-11-25 06:48:36,925 [INFO]: clean_train_loss_step: 0.016067204996943474\n",
      "2023-11-25 06:48:36,927 [INFO]: epoch: 161\n"
     ]
    },
    {
     "data": {
      "application/vnd.jupyter.widget-view+json": {
       "model_id": "6f09acc8c11545969a23c534830ee0c7",
       "version_major": 2,
       "version_minor": 0
      },
      "text/plain": [
       "Validation: 0it [00:00, ?it/s]"
      ]
     },
     "metadata": {},
     "output_type": "display_data"
    },
    {
     "name": "stderr",
     "output_type": "stream",
     "text": [
      "2023-11-25 06:48:44,463 [INFO]: clean_val_acc: 0.8622545003890991\n",
      "2023-11-25 06:48:44,465 [INFO]: clean_val_loss: 0.6264233589172363\n",
      "2023-11-25 06:48:44,466 [INFO]: epoch: 161\n",
      "2023-11-25 06:48:44,493 [INFO]: clean_train_acc_epoch: 0.9952222108840942\n",
      "2023-11-25 06:48:44,494 [INFO]: clean_train_loss_epoch: 0.016460517421364784\n",
      "2023-11-25 06:48:44,495 [INFO]: epoch: 161\n",
      "2023-11-25 06:48:50,478 [INFO]: lr-SGD: 0.004001660626142045\n",
      "2023-11-25 06:48:50,703 [INFO]: clean_train_acc_step: 0.9931640625\n",
      "2023-11-25 06:48:50,705 [INFO]: clean_train_loss_step: 0.019323820248246193\n",
      "2023-11-25 06:48:50,706 [INFO]: epoch: 162\n"
     ]
    },
    {
     "data": {
      "application/vnd.jupyter.widget-view+json": {
       "model_id": "f2b0f24b6d9e4a5f97428cae8f771b8e",
       "version_major": 2,
       "version_minor": 0
      },
      "text/plain": [
       "Validation: 0it [00:00, ?it/s]"
      ]
     },
     "metadata": {},
     "output_type": "display_data"
    },
    {
     "name": "stderr",
     "output_type": "stream",
     "text": [
      "2023-11-25 06:48:57,042 [INFO]: clean_val_acc: 0.8618379831314087\n",
      "2023-11-25 06:48:57,044 [INFO]: clean_val_loss: 0.6349602937698364\n",
      "2023-11-25 06:48:57,046 [INFO]: epoch: 162\n",
      "2023-11-25 06:48:57,072 [INFO]: clean_train_acc_epoch: 0.9945999979972839\n",
      "2023-11-25 06:48:57,073 [INFO]: clean_train_loss_epoch: 0.01670895516872406\n",
      "2023-11-25 06:48:57,074 [INFO]: epoch: 162\n",
      "2023-11-25 06:49:04,347 [INFO]: lr-SGD: 0.004001683936025888\n",
      "2023-11-25 06:49:04,566 [INFO]: clean_train_acc_step: 0.9921875\n",
      "2023-11-25 06:49:04,567 [INFO]: clean_train_loss_step: 0.019415585324168205\n",
      "2023-11-25 06:49:04,570 [INFO]: epoch: 163\n"
     ]
    },
    {
     "data": {
      "application/vnd.jupyter.widget-view+json": {
       "model_id": "cc501cf7747942bb9d38c65252f755b1",
       "version_major": 2,
       "version_minor": 0
      },
      "text/plain": [
       "Validation: 0it [00:00, ?it/s]"
      ]
     },
     "metadata": {},
     "output_type": "display_data"
    },
    {
     "name": "stderr",
     "output_type": "stream",
     "text": [
      "2023-11-25 06:49:09,689 [INFO]: clean_val_acc: 0.8576984405517578\n",
      "2023-11-25 06:49:09,691 [INFO]: clean_val_loss: 0.6354562044143677\n",
      "2023-11-25 06:49:09,692 [INFO]: epoch: 163\n",
      "2023-11-25 06:49:09,732 [INFO]: clean_train_acc_epoch: 0.9955111145973206\n",
      "2023-11-25 06:49:09,733 [INFO]: clean_train_loss_epoch: 0.0155435586348176\n",
      "2023-11-25 06:49:09,734 [INFO]: epoch: 163\n",
      "2023-11-25 06:49:18,143 [INFO]: lr-SGD: 0.004001707408366778\n",
      "2023-11-25 06:49:18,362 [INFO]: clean_train_acc_step: 0.9951171875\n",
      "2023-11-25 06:49:18,364 [INFO]: clean_train_loss_step: 0.02100735902786255\n",
      "2023-11-25 06:49:18,365 [INFO]: epoch: 164\n"
     ]
    },
    {
     "data": {
      "application/vnd.jupyter.widget-view+json": {
       "model_id": "f7780dc73cd7408eb1e1960c3d55a3cc",
       "version_major": 2,
       "version_minor": 0
      },
      "text/plain": [
       "Validation: 0it [00:00, ?it/s]"
      ]
     },
     "metadata": {},
     "output_type": "display_data"
    },
    {
     "name": "stderr",
     "output_type": "stream",
     "text": [
      "2023-11-25 06:49:22,223 [INFO]: clean_val_acc: 0.8547687530517578\n",
      "2023-11-25 06:49:22,225 [INFO]: clean_val_loss: 0.6786253452301025\n",
      "2023-11-25 06:49:22,227 [INFO]: epoch: 164\n",
      "2023-11-25 06:49:22,258 [INFO]: clean_train_acc_epoch: 0.9952889084815979\n",
      "2023-11-25 06:49:22,260 [INFO]: clean_train_loss_epoch: 0.017289934679865837\n",
      "2023-11-25 06:49:22,261 [INFO]: epoch: 164\n",
      "2023-11-25 06:49:31,979 [INFO]: lr-SGD: 0.004001731043164619\n",
      "2023-11-25 06:49:32,202 [INFO]: clean_train_acc_step: 0.9921875\n",
      "2023-11-25 06:49:32,202 [INFO]: clean_train_loss_step: 0.020062049850821495\n",
      "2023-11-25 06:49:32,204 [INFO]: epoch: 165\n"
     ]
    },
    {
     "data": {
      "application/vnd.jupyter.widget-view+json": {
       "model_id": "554eaa3264174f4dbc1ca64c9d522b88",
       "version_major": 2,
       "version_minor": 0
      },
      "text/plain": [
       "Validation: 0it [00:00, ?it/s]"
      ]
     },
     "metadata": {},
     "output_type": "display_data"
    },
    {
     "name": "stderr",
     "output_type": "stream",
     "text": [
      "2023-11-25 06:49:34,883 [INFO]: clean_val_acc: 0.867436408996582\n",
      "2023-11-25 06:49:34,886 [INFO]: clean_val_loss: 0.646984875202179\n",
      "2023-11-25 06:49:34,888 [INFO]: epoch: 165\n",
      "2023-11-25 06:49:34,921 [INFO]: clean_train_acc_epoch: 0.995044469833374\n",
      "2023-11-25 06:49:34,922 [INFO]: clean_train_loss_epoch: 0.01643766462802887\n",
      "2023-11-25 06:49:34,923 [INFO]: epoch: 165\n"
     ]
    },
    {
     "data": {
      "application/vnd.jupyter.widget-view+json": {
       "model_id": "bd04670084ef4c438865a4153d9a0707",
       "version_major": 2,
       "version_minor": 0
      },
      "text/plain": [
       "Validation: 0it [00:00, ?it/s]"
      ]
     },
     "metadata": {},
     "output_type": "display_data"
    },
    {
     "name": "stderr",
     "output_type": "stream",
     "text": [
      "2023-11-25 06:49:47,314 [INFO]: clean_val_acc: 0.8646761178970337\n",
      "2023-11-25 06:49:47,315 [INFO]: clean_val_loss: 0.6351929903030396\n",
      "2023-11-25 06:49:47,317 [INFO]: epoch: 166\n",
      "2023-11-25 06:49:47,347 [INFO]: clean_train_acc_epoch: 0.9956889152526855\n",
      "2023-11-25 06:49:47,348 [INFO]: clean_train_loss_epoch: 0.014985793270170689\n",
      "2023-11-25 06:49:47,349 [INFO]: epoch: 166\n",
      "2023-11-25 06:49:49,408 [INFO]: lr-SGD: 0.004001754840419355\n",
      "2023-11-25 06:49:49,630 [INFO]: clean_train_acc_step: 0.9970703125\n",
      "2023-11-25 06:49:49,633 [INFO]: clean_train_loss_step: 0.010102096945047379\n",
      "2023-11-25 06:49:49,634 [INFO]: epoch: 167\n"
     ]
    },
    {
     "data": {
      "application/vnd.jupyter.widget-view+json": {
       "model_id": "50515c47f5d44fa2ae9beec751238357",
       "version_major": 2,
       "version_minor": 0
      },
      "text/plain": [
       "Validation: 0it [00:00, ?it/s]"
      ]
     },
     "metadata": {},
     "output_type": "display_data"
    },
    {
     "name": "stderr",
     "output_type": "stream",
     "text": [
      "2023-11-25 06:49:59,880 [INFO]: clean_val_acc: 0.8689332008361816\n",
      "2023-11-25 06:49:59,881 [INFO]: clean_val_loss: 0.6367563009262085\n",
      "2023-11-25 06:49:59,883 [INFO]: epoch: 167\n",
      "2023-11-25 06:49:59,911 [INFO]: clean_train_acc_epoch: 0.9954222440719604\n",
      "2023-11-25 06:49:59,913 [INFO]: clean_train_loss_epoch: 0.015413007698953152\n",
      "2023-11-25 06:49:59,914 [INFO]: epoch: 167\n",
      "2023-11-25 06:50:03,078 [INFO]: lr-SGD: 0.00400177880013089\n",
      "2023-11-25 06:50:03,301 [INFO]: clean_train_acc_step: 0.9951171875\n",
      "2023-11-25 06:50:03,302 [INFO]: clean_train_loss_step: 0.019458208233118057\n",
      "2023-11-25 06:50:03,304 [INFO]: epoch: 168\n"
     ]
    },
    {
     "data": {
      "application/vnd.jupyter.widget-view+json": {
       "model_id": "e4b45e8b5d6c4278b0cd41e0e779b390",
       "version_major": 2,
       "version_minor": 0
      },
      "text/plain": [
       "Validation: 0it [00:00, ?it/s]"
      ]
     },
     "metadata": {},
     "output_type": "display_data"
    },
    {
     "name": "stderr",
     "output_type": "stream",
     "text": [
      "2023-11-25 06:50:12,379 [INFO]: clean_val_acc: 0.8653777837753296\n",
      "2023-11-25 06:50:12,381 [INFO]: clean_val_loss: 0.6392837166786194\n",
      "2023-11-25 06:50:12,383 [INFO]: epoch: 168\n",
      "2023-11-25 06:50:12,411 [INFO]: clean_train_acc_epoch: 0.9952666759490967\n",
      "2023-11-25 06:50:12,413 [INFO]: clean_train_loss_epoch: 0.014863305725157261\n",
      "2023-11-25 06:50:12,414 [INFO]: epoch: 168\n",
      "2023-11-25 06:50:16,767 [INFO]: lr-SGD: 0.0040018029222991525\n",
      "2023-11-25 06:50:16,986 [INFO]: clean_train_acc_step: 0.998046875\n",
      "2023-11-25 06:50:16,988 [INFO]: clean_train_loss_step: 0.011400803923606873\n",
      "2023-11-25 06:50:16,989 [INFO]: epoch: 169\n"
     ]
    },
    {
     "data": {
      "application/vnd.jupyter.widget-view+json": {
       "model_id": "db9c14d863114c1ba577e1e084aec75d",
       "version_major": 2,
       "version_minor": 0
      },
      "text/plain": [
       "Validation: 0it [00:00, ?it/s]"
      ]
     },
     "metadata": {},
     "output_type": "display_data"
    },
    {
     "name": "stderr",
     "output_type": "stream",
     "text": [
      "2023-11-25 06:50:24,805 [INFO]: clean_val_acc: 0.8732560276985168\n",
      "2023-11-25 06:50:24,807 [INFO]: clean_val_loss: 0.6021826863288879\n",
      "2023-11-25 06:50:24,809 [INFO]: epoch: 169\n",
      "2023-11-25 06:50:25,168 [INFO]: clean_train_acc_epoch: 0.9961333274841309\n",
      "2023-11-25 06:50:25,169 [INFO]: clean_train_loss_epoch: 0.01386203058063984\n",
      "2023-11-25 06:50:25,171 [INFO]: epoch: 169\n",
      "2023-11-25 06:50:30,713 [INFO]: lr-SGD: 0.0040018272069240746\n",
      "2023-11-25 06:50:30,935 [INFO]: clean_train_acc_step: 0.9951171875\n",
      "2023-11-25 06:50:30,937 [INFO]: clean_train_loss_step: 0.01590132527053356\n",
      "2023-11-25 06:50:30,938 [INFO]: epoch: 170\n"
     ]
    },
    {
     "data": {
      "application/vnd.jupyter.widget-view+json": {
       "model_id": "563b8af693e34061b1e79354f6c8899e",
       "version_major": 2,
       "version_minor": 0
      },
      "text/plain": [
       "Validation: 0it [00:00, ?it/s]"
      ]
     },
     "metadata": {},
     "output_type": "display_data"
    },
    {
     "name": "stderr",
     "output_type": "stream",
     "text": [
      "2023-11-25 06:50:37,569 [INFO]: clean_val_acc: 0.8620074391365051\n",
      "2023-11-25 06:50:37,571 [INFO]: clean_val_loss: 0.6472586393356323\n",
      "2023-11-25 06:50:37,572 [INFO]: epoch: 170\n",
      "2023-11-25 06:50:37,603 [INFO]: clean_train_acc_epoch: 0.995377779006958\n",
      "2023-11-25 06:50:37,605 [INFO]: clean_train_loss_epoch: 0.014906252734363079\n",
      "2023-11-25 06:50:37,607 [INFO]: epoch: 170\n",
      "2023-11-25 06:50:44,285 [INFO]: lr-SGD: 0.004001851654005531\n",
      "2023-11-25 06:50:44,508 [INFO]: clean_train_acc_step: 0.9931640625\n",
      "2023-11-25 06:50:44,509 [INFO]: clean_train_loss_step: 0.02004375495016575\n",
      "2023-11-25 06:50:44,510 [INFO]: epoch: 171\n"
     ]
    },
    {
     "data": {
      "application/vnd.jupyter.widget-view+json": {
       "model_id": "14bce3f8e06c4d988900210ff2e1416d",
       "version_major": 2,
       "version_minor": 0
      },
      "text/plain": [
       "Validation: 0it [00:00, ?it/s]"
      ]
     },
     "metadata": {},
     "output_type": "display_data"
    },
    {
     "name": "stderr",
     "output_type": "stream",
     "text": [
      "2023-11-25 06:50:49,979 [INFO]: clean_val_acc: 0.8625138401985168\n",
      "2023-11-25 06:50:49,981 [INFO]: clean_val_loss: 0.6661190390586853\n",
      "2023-11-25 06:50:49,982 [INFO]: epoch: 171\n",
      "2023-11-25 06:50:50,017 [INFO]: clean_train_acc_epoch: 0.9944888949394226\n",
      "2023-11-25 06:50:50,018 [INFO]: clean_train_loss_epoch: 0.017333421856164932\n",
      "2023-11-25 06:50:50,019 [INFO]: epoch: 171\n",
      "2023-11-25 06:50:57,980 [INFO]: lr-SGD: 0.004001876263543466\n",
      "2023-11-25 06:50:58,200 [INFO]: clean_train_acc_step: 0.9990234375\n",
      "2023-11-25 06:50:58,202 [INFO]: clean_train_loss_step: 0.011786931194365025\n",
      "2023-11-25 06:50:58,203 [INFO]: epoch: 172\n"
     ]
    },
    {
     "data": {
      "application/vnd.jupyter.widget-view+json": {
       "model_id": "a687c5568bed4d9ab23a055750c04f80",
       "version_major": 2,
       "version_minor": 0
      },
      "text/plain": [
       "Validation: 0it [00:00, ?it/s]"
      ]
     },
     "metadata": {},
     "output_type": "display_data"
    },
    {
     "name": "stderr",
     "output_type": "stream",
     "text": [
      "2023-11-25 06:51:02,520 [INFO]: clean_val_acc: 0.871537983417511\n",
      "2023-11-25 06:51:02,522 [INFO]: clean_val_loss: 0.6092448234558105\n",
      "2023-11-25 06:51:02,524 [INFO]: epoch: 172\n",
      "2023-11-25 06:51:02,557 [INFO]: clean_train_acc_epoch: 0.9957777857780457\n",
      "2023-11-25 06:51:02,558 [INFO]: clean_train_loss_epoch: 0.014887582510709763\n",
      "2023-11-25 06:51:02,560 [INFO]: epoch: 172\n",
      "2023-11-25 06:51:11,880 [INFO]: lr-SGD: 0.004001901035537797\n",
      "2023-11-25 06:51:12,096 [INFO]: clean_train_acc_step: 0.9990234375\n",
      "2023-11-25 06:51:12,097 [INFO]: clean_train_loss_step: 0.012395219877362251\n",
      "2023-11-25 06:51:12,099 [INFO]: epoch: 173\n"
     ]
    },
    {
     "data": {
      "application/vnd.jupyter.widget-view+json": {
       "model_id": "cd3bb460f69d4ecd8049d1e08f73557a",
       "version_major": 2,
       "version_minor": 0
      },
      "text/plain": [
       "Validation: 0it [00:00, ?it/s]"
      ]
     },
     "metadata": {},
     "output_type": "display_data"
    },
    {
     "name": "stderr",
     "output_type": "stream",
     "text": [
      "2023-11-25 06:51:15,183 [INFO]: clean_val_acc: 0.8721758127212524\n",
      "2023-11-25 06:51:15,185 [INFO]: clean_val_loss: 0.6162663102149963\n",
      "2023-11-25 06:51:15,186 [INFO]: epoch: 173\n",
      "2023-11-25 06:51:15,217 [INFO]: clean_train_acc_epoch: 0.9962666630744934\n",
      "2023-11-25 06:51:15,218 [INFO]: clean_train_loss_epoch: 0.013455481268465519\n",
      "2023-11-25 06:51:15,219 [INFO]: epoch: 173\n",
      "2023-11-25 06:51:25,553 [INFO]: lr-SGD: 0.00400192596998844\n",
      "2023-11-25 06:51:25,762 [INFO]: clean_train_acc_step: 0.9979338645935059\n",
      "2023-11-25 06:51:25,764 [INFO]: clean_train_loss_step: 0.007536234334111214\n",
      "2023-11-25 06:51:25,765 [INFO]: epoch: 174\n"
     ]
    },
    {
     "data": {
      "application/vnd.jupyter.widget-view+json": {
       "model_id": "51608f86c0064f6693c1cec0bf56322a",
       "version_major": 2,
       "version_minor": 0
      },
      "text/plain": [
       "Validation: 0it [00:00, ?it/s]"
      ]
     },
     "metadata": {},
     "output_type": "display_data"
    },
    {
     "name": "stderr",
     "output_type": "stream",
     "text": [
      "2023-11-25 06:51:27,602 [INFO]: clean_val_acc: 0.8755599856376648\n",
      "2023-11-25 06:51:27,603 [INFO]: clean_val_loss: 0.5906311273574829\n",
      "2023-11-25 06:51:27,605 [INFO]: epoch: 174\n",
      "2023-11-25 06:51:27,995 [INFO]: clean_train_acc_epoch: 0.9971110820770264\n",
      "2023-11-25 06:51:27,998 [INFO]: clean_train_loss_epoch: 0.011324445717036724\n",
      "2023-11-25 06:51:27,999 [INFO]: epoch: 174\n"
     ]
    },
    {
     "data": {
      "application/vnd.jupyter.widget-view+json": {
       "model_id": "1fb3815829e0485f8e56eeda0a38bcf2",
       "version_major": 2,
       "version_minor": 0
      },
      "text/plain": [
       "Validation: 0it [00:00, ?it/s]"
      ]
     },
     "metadata": {},
     "output_type": "display_data"
    },
    {
     "name": "stderr",
     "output_type": "stream",
     "text": [
      "2023-11-25 06:51:40,366 [INFO]: clean_val_acc: 0.8744659423828125\n",
      "2023-11-25 06:51:40,368 [INFO]: clean_val_loss: 0.6012789011001587\n",
      "2023-11-25 06:51:40,370 [INFO]: epoch: 175\n",
      "2023-11-25 06:51:40,709 [INFO]: clean_train_acc_epoch: 0.9965111017227173\n",
      "2023-11-25 06:51:40,710 [INFO]: clean_train_loss_epoch: 0.012053688988089561\n",
      "2023-11-25 06:51:40,713 [INFO]: epoch: 175\n",
      "2023-11-25 06:51:43,262 [INFO]: lr-SGD: 0.004001951066895312\n",
      "2023-11-25 06:51:43,479 [INFO]: clean_train_acc_step: 0.9990234375\n",
      "2023-11-25 06:51:43,481 [INFO]: clean_train_loss_step: 0.007503013126552105\n",
      "2023-11-25 06:51:43,482 [INFO]: epoch: 176\n"
     ]
    },
    {
     "data": {
      "application/vnd.jupyter.widget-view+json": {
       "model_id": "2891e411c2cc440691ada7aa2f2b58d8",
       "version_major": 2,
       "version_minor": 0
      },
      "text/plain": [
       "Validation: 0it [00:00, ?it/s]"
      ]
     },
     "metadata": {},
     "output_type": "display_data"
    },
    {
     "name": "stderr",
     "output_type": "stream",
     "text": [
      "2023-11-25 06:51:53,021 [INFO]: clean_val_acc: 0.8783860206604004\n",
      "2023-11-25 06:51:53,023 [INFO]: clean_val_loss: 0.6351033449172974\n",
      "2023-11-25 06:51:53,024 [INFO]: epoch: 176\n",
      "2023-11-25 06:51:53,366 [INFO]: clean_train_acc_epoch: 0.9957555532455444\n",
      "2023-11-25 06:51:53,369 [INFO]: clean_train_loss_epoch: 0.014171896502375603\n",
      "2023-11-25 06:51:53,371 [INFO]: epoch: 176\n",
      "2023-11-25 06:51:57,424 [INFO]: lr-SGD: 0.00400197632625833\n",
      "2023-11-25 06:51:57,646 [INFO]: clean_train_acc_step: 0.994140625\n",
      "2023-11-25 06:51:57,647 [INFO]: clean_train_loss_step: 0.013797844760119915\n",
      "2023-11-25 06:51:57,649 [INFO]: epoch: 177\n"
     ]
    },
    {
     "data": {
      "application/vnd.jupyter.widget-view+json": {
       "model_id": "790798d6e6fb4507b84e6a0550e082c4",
       "version_major": 2,
       "version_minor": 0
      },
      "text/plain": [
       "Validation: 0it [00:00, ?it/s]"
      ]
     },
     "metadata": {},
     "output_type": "display_data"
    },
    {
     "name": "stderr",
     "output_type": "stream",
     "text": [
      "2023-11-25 06:52:05,878 [INFO]: clean_val_acc: 0.8629442453384399\n",
      "2023-11-25 06:52:05,881 [INFO]: clean_val_loss: 0.6389307975769043\n",
      "2023-11-25 06:52:05,882 [INFO]: epoch: 177\n",
      "2023-11-25 06:52:05,914 [INFO]: clean_train_acc_epoch: 0.9960444569587708\n",
      "2023-11-25 06:52:05,915 [INFO]: clean_train_loss_epoch: 0.013312227092683315\n",
      "2023-11-25 06:52:05,916 [INFO]: epoch: 177\n",
      "2023-11-25 06:52:11,077 [INFO]: lr-SGD: 0.004002001748077397\n",
      "2023-11-25 06:52:11,294 [INFO]: clean_train_acc_step: 0.9970703125\n",
      "2023-11-25 06:52:11,296 [INFO]: clean_train_loss_step: 0.013414326123893261\n",
      "2023-11-25 06:52:11,296 [INFO]: epoch: 178\n"
     ]
    },
    {
     "data": {
      "application/vnd.jupyter.widget-view+json": {
       "model_id": "d54be0ca5326493096c421b463b7ca52",
       "version_major": 2,
       "version_minor": 0
      },
      "text/plain": [
       "Validation: 0it [00:00, ?it/s]"
      ]
     },
     "metadata": {},
     "output_type": "display_data"
    },
    {
     "name": "stderr",
     "output_type": "stream",
     "text": [
      "2023-11-25 06:52:18,347 [INFO]: clean_val_acc: 0.867877185344696\n",
      "2023-11-25 06:52:18,350 [INFO]: clean_val_loss: 0.65184485912323\n",
      "2023-11-25 06:52:18,351 [INFO]: epoch: 178\n",
      "2023-11-25 06:52:18,379 [INFO]: clean_train_acc_epoch: 0.9964444637298584\n",
      "2023-11-25 06:52:18,380 [INFO]: clean_train_loss_epoch: 0.012736314907670021\n",
      "2023-11-25 06:52:18,382 [INFO]: epoch: 178\n",
      "2023-11-25 06:52:24,868 [INFO]: lr-SGD: 0.004002027332352429\n",
      "2023-11-25 06:52:25,091 [INFO]: clean_train_acc_step: 0.9970703125\n",
      "2023-11-25 06:52:25,092 [INFO]: clean_train_loss_step: 0.011025795713067055\n",
      "2023-11-25 06:52:25,093 [INFO]: epoch: 179\n"
     ]
    },
    {
     "data": {
      "application/vnd.jupyter.widget-view+json": {
       "model_id": "b3b2a139d28840ae87f88e4e89718725",
       "version_major": 2,
       "version_minor": 0
      },
      "text/plain": [
       "Validation: 0it [00:00, ?it/s]"
      ]
     },
     "metadata": {},
     "output_type": "display_data"
    },
    {
     "name": "stderr",
     "output_type": "stream",
     "text": [
      "2023-11-25 06:52:31,033 [INFO]: clean_val_acc: 0.8715120553970337\n",
      "2023-11-25 06:52:31,035 [INFO]: clean_val_loss: 0.600766658782959\n",
      "2023-11-25 06:52:31,037 [INFO]: epoch: 179\n",
      "2023-11-25 06:52:31,068 [INFO]: clean_train_acc_epoch: 0.9967777729034424\n",
      "2023-11-25 06:52:31,069 [INFO]: clean_train_loss_epoch: 0.012341732159256935\n",
      "2023-11-25 06:52:31,070 [INFO]: epoch: 179\n",
      "2023-11-25 06:52:38,648 [INFO]: lr-SGD: 0.0040020530790833425\n",
      "2023-11-25 06:52:38,866 [INFO]: clean_train_acc_step: 0.99609375\n",
      "2023-11-25 06:52:38,868 [INFO]: clean_train_loss_step: 0.01422208547592163\n",
      "2023-11-25 06:52:38,870 [INFO]: epoch: 180\n"
     ]
    },
    {
     "data": {
      "application/vnd.jupyter.widget-view+json": {
       "model_id": "07b238dc848e474ab7177f12c8231cf4",
       "version_major": 2,
       "version_minor": 0
      },
      "text/plain": [
       "Validation: 0it [00:00, ?it/s]"
      ]
     },
     "metadata": {},
     "output_type": "display_data"
    },
    {
     "name": "stderr",
     "output_type": "stream",
     "text": [
      "2023-11-25 06:52:43,504 [INFO]: clean_val_acc: 0.8567478060722351\n",
      "2023-11-25 06:52:43,505 [INFO]: clean_val_loss: 0.6929358243942261\n",
      "2023-11-25 06:52:43,506 [INFO]: epoch: 180\n",
      "2023-11-25 06:52:43,537 [INFO]: clean_train_acc_epoch: 0.9968222379684448\n",
      "2023-11-25 06:52:43,538 [INFO]: clean_train_loss_epoch: 0.01152225024998188\n",
      "2023-11-25 06:52:43,539 [INFO]: epoch: 180\n",
      "2023-11-25 06:52:52,811 [INFO]: lr-SGD: 0.004002078988270055\n",
      "2023-11-25 06:52:53,037 [INFO]: clean_train_acc_step: 0.99609375\n",
      "2023-11-25 06:52:53,038 [INFO]: clean_train_loss_step: 0.014458325691521168\n",
      "2023-11-25 06:52:53,042 [INFO]: epoch: 181\n"
     ]
    },
    {
     "data": {
      "application/vnd.jupyter.widget-view+json": {
       "model_id": "196cfeb4fceb42f8a781e05a6aa430b6",
       "version_major": 2,
       "version_minor": 0
      },
      "text/plain": [
       "Validation: 0it [00:00, ?it/s]"
      ]
     },
     "metadata": {},
     "output_type": "display_data"
    },
    {
     "name": "stderr",
     "output_type": "stream",
     "text": [
      "2023-11-25 06:52:56,519 [INFO]: clean_val_acc: 0.8680483102798462\n",
      "2023-11-25 06:52:56,521 [INFO]: clean_val_loss: 0.6579848527908325\n",
      "2023-11-25 06:52:56,522 [INFO]: epoch: 181\n",
      "2023-11-25 06:52:56,550 [INFO]: clean_train_acc_epoch: 0.9964444637298584\n",
      "2023-11-25 06:52:56,552 [INFO]: clean_train_loss_epoch: 0.012210077606141567\n",
      "2023-11-25 06:52:56,554 [INFO]: epoch: 181\n",
      "2023-11-25 06:53:06,546 [INFO]: lr-SGD: 0.0040021050599124836\n",
      "2023-11-25 06:53:06,762 [INFO]: clean_train_acc_step: 0.99609375\n",
      "2023-11-25 06:53:06,764 [INFO]: clean_train_loss_step: 0.008415414951741695\n",
      "2023-11-25 06:53:06,765 [INFO]: epoch: 182\n"
     ]
    },
    {
     "data": {
      "application/vnd.jupyter.widget-view+json": {
       "model_id": "6bc8148f2a1b499c8cd8e1616eff93bf",
       "version_major": 2,
       "version_minor": 0
      },
      "text/plain": [
       "Validation: 0it [00:00, ?it/s]"
      ]
     },
     "metadata": {},
     "output_type": "display_data"
    },
    {
     "name": "stderr",
     "output_type": "stream",
     "text": [
      "2023-11-25 06:53:08,994 [INFO]: clean_val_acc: 0.8723053932189941\n",
      "2023-11-25 06:53:08,996 [INFO]: clean_val_loss: 0.6198986768722534\n",
      "2023-11-25 06:53:08,997 [INFO]: epoch: 182\n",
      "2023-11-25 06:53:09,028 [INFO]: clean_train_acc_epoch: 0.9970666766166687\n",
      "2023-11-25 06:53:09,029 [INFO]: clean_train_loss_epoch: 0.010423298925161362\n",
      "2023-11-25 06:53:09,031 [INFO]: epoch: 182\n"
     ]
    },
    {
     "data": {
      "application/vnd.jupyter.widget-view+json": {
       "model_id": "b9901db0503e45e99e43978920b57941",
       "version_major": 2,
       "version_minor": 0
      },
      "text/plain": [
       "Validation: 0it [00:00, ?it/s]"
      ]
     },
     "metadata": {},
     "output_type": "display_data"
    },
    {
     "name": "stderr",
     "output_type": "stream",
     "text": [
      "2023-11-25 06:53:21,427 [INFO]: clean_val_acc: 0.8693757057189941\n",
      "2023-11-25 06:53:21,430 [INFO]: clean_val_loss: 0.6369282603263855\n",
      "2023-11-25 06:53:21,431 [INFO]: epoch: 183\n",
      "2023-11-25 06:53:21,460 [INFO]: clean_train_acc_epoch: 0.997355580329895\n",
      "2023-11-25 06:53:21,461 [INFO]: clean_train_loss_epoch: 0.010801182128489017\n",
      "2023-11-25 06:53:21,464 [INFO]: epoch: 183\n",
      "2023-11-25 06:53:23,802 [INFO]: lr-SGD: 0.004002131294010516\n",
      "2023-11-25 06:53:24,025 [INFO]: clean_train_acc_step: 0.99609375\n",
      "2023-11-25 06:53:24,026 [INFO]: clean_train_loss_step: 0.010572933591902256\n",
      "2023-11-25 06:53:24,028 [INFO]: epoch: 184\n"
     ]
    },
    {
     "data": {
      "application/vnd.jupyter.widget-view+json": {
       "model_id": "6b6627979d12488ab78f82a5000f1401",
       "version_major": 2,
       "version_minor": 0
      },
      "text/plain": [
       "Validation: 0it [00:00, ?it/s]"
      ]
     },
     "metadata": {},
     "output_type": "display_data"
    },
    {
     "name": "stderr",
     "output_type": "stream",
     "text": [
      "2023-11-25 06:53:33,910 [INFO]: clean_val_acc: 0.8799346685409546\n",
      "2023-11-25 06:53:33,912 [INFO]: clean_val_loss: 0.5904513597488403\n",
      "2023-11-25 06:53:33,914 [INFO]: epoch: 184\n",
      "2023-11-25 06:53:34,272 [INFO]: clean_train_acc_epoch: 0.9975333213806152\n",
      "2023-11-25 06:53:34,274 [INFO]: clean_train_loss_epoch: 0.009416574612259865\n",
      "2023-11-25 06:53:34,275 [INFO]: epoch: 184\n",
      "2023-11-25 06:53:37,779 [INFO]: lr-SGD: 0.004002157690564084\n",
      "2023-11-25 06:53:37,995 [INFO]: clean_train_acc_step: 0.9951171875\n",
      "2023-11-25 06:53:37,997 [INFO]: clean_train_loss_step: 0.015695158392190933\n",
      "2023-11-25 06:53:37,999 [INFO]: epoch: 185\n"
     ]
    },
    {
     "data": {
      "application/vnd.jupyter.widget-view+json": {
       "model_id": "ba71c3dc5a82475194aeca4e26a5184f",
       "version_major": 2,
       "version_minor": 0
      },
      "text/plain": [
       "Validation: 0it [00:00, ?it/s]"
      ]
     },
     "metadata": {},
     "output_type": "display_data"
    },
    {
     "name": "stderr",
     "output_type": "stream",
     "text": [
      "2023-11-25 06:53:46,708 [INFO]: clean_val_acc: 0.8647539019584656\n",
      "2023-11-25 06:53:46,710 [INFO]: clean_val_loss: 0.6786802411079407\n",
      "2023-11-25 06:53:46,712 [INFO]: epoch: 185\n",
      "2023-11-25 06:53:46,744 [INFO]: clean_train_acc_epoch: 0.9973111152648926\n",
      "2023-11-25 06:53:46,745 [INFO]: clean_train_loss_epoch: 0.010735307820141315\n",
      "2023-11-25 06:53:46,747 [INFO]: epoch: 185\n",
      "2023-11-25 06:53:51,445 [INFO]: lr-SGD: 0.004002184249573104\n",
      "2023-11-25 06:53:51,671 [INFO]: clean_train_acc_step: 0.9990234375\n",
      "2023-11-25 06:53:51,673 [INFO]: clean_train_loss_step: 0.008911095559597015\n",
      "2023-11-25 06:53:51,675 [INFO]: epoch: 186\n"
     ]
    },
    {
     "data": {
      "application/vnd.jupyter.widget-view+json": {
       "model_id": "cf25484384634f098262883ae9439ec7",
       "version_major": 2,
       "version_minor": 0
      },
      "text/plain": [
       "Validation: 0it [00:00, ?it/s]"
      ]
     },
     "metadata": {},
     "output_type": "display_data"
    },
    {
     "name": "stderr",
     "output_type": "stream",
     "text": [
      "2023-11-25 06:53:59,189 [INFO]: clean_val_acc: 0.8740493655204773\n",
      "2023-11-25 06:53:59,191 [INFO]: clean_val_loss: 0.6159114837646484\n",
      "2023-11-25 06:53:59,193 [INFO]: epoch: 186\n",
      "2023-11-25 06:53:59,221 [INFO]: clean_train_acc_epoch: 0.9974666833877563\n",
      "2023-11-25 06:53:59,222 [INFO]: clean_train_loss_epoch: 0.009920025244355202\n",
      "2023-11-25 06:53:59,224 [INFO]: epoch: 186\n",
      "2023-11-25 06:54:05,405 [INFO]: lr-SGD: 0.004002210971037465\n",
      "2023-11-25 06:54:05,622 [INFO]: clean_train_acc_step: 0.9990234375\n",
      "2023-11-25 06:54:05,624 [INFO]: clean_train_loss_step: 0.007192199118435383\n",
      "2023-11-25 06:54:05,626 [INFO]: epoch: 187\n"
     ]
    },
    {
     "data": {
      "application/vnd.jupyter.widget-view+json": {
       "model_id": "80755e03bb1f40fc84ea37662d4598e1",
       "version_major": 2,
       "version_minor": 0
      },
      "text/plain": [
       "Validation: 0it [00:00, ?it/s]"
      ]
     },
     "metadata": {},
     "output_type": "display_data"
    },
    {
     "name": "stderr",
     "output_type": "stream",
     "text": [
      "2023-11-25 06:54:11,964 [INFO]: clean_val_acc: 0.873672604560852\n",
      "2023-11-25 06:54:11,967 [INFO]: clean_val_loss: 0.5892680883407593\n",
      "2023-11-25 06:54:11,969 [INFO]: epoch: 187\n",
      "2023-11-25 06:54:11,999 [INFO]: clean_train_acc_epoch: 0.9977999925613403\n",
      "2023-11-25 06:54:12,001 [INFO]: clean_train_loss_epoch: 0.008851973339915276\n",
      "2023-11-25 06:54:12,002 [INFO]: epoch: 187\n",
      "2023-11-25 06:54:19,184 [INFO]: lr-SGD: 0.004002237854957097\n",
      "2023-11-25 06:54:19,412 [INFO]: clean_train_acc_step: 1.0\n",
      "2023-11-25 06:54:19,414 [INFO]: clean_train_loss_step: 0.005041314288973808\n",
      "2023-11-25 06:54:19,415 [INFO]: epoch: 188\n"
     ]
    },
    {
     "data": {
      "application/vnd.jupyter.widget-view+json": {
       "model_id": "d88902d15bc3472689e1c2a82f8304df",
       "version_major": 2,
       "version_minor": 0
      },
      "text/plain": [
       "Validation: 0it [00:00, ?it/s]"
      ]
     },
     "metadata": {},
     "output_type": "display_data"
    },
    {
     "name": "stderr",
     "output_type": "stream",
     "text": [
      "2023-11-25 06:54:24,500 [INFO]: clean_val_acc: 0.8769271969795227\n",
      "2023-11-25 06:54:24,502 [INFO]: clean_val_loss: 0.6310000419616699\n",
      "2023-11-25 06:54:24,503 [INFO]: epoch: 188\n",
      "2023-11-25 06:54:24,533 [INFO]: clean_train_acc_epoch: 0.9980444312095642\n",
      "2023-11-25 06:54:24,534 [INFO]: clean_train_loss_epoch: 0.008072135038673878\n",
      "2023-11-25 06:54:24,535 [INFO]: epoch: 188\n",
      "2023-11-25 06:54:32,961 [INFO]: lr-SGD: 0.004002264901331876\n",
      "2023-11-25 06:54:33,178 [INFO]: clean_train_acc_step: 0.9990234375\n",
      "2023-11-25 06:54:33,180 [INFO]: clean_train_loss_step: 0.006554247345775366\n",
      "2023-11-25 06:54:33,181 [INFO]: epoch: 189\n"
     ]
    },
    {
     "data": {
      "application/vnd.jupyter.widget-view+json": {
       "model_id": "e37e116c80ce43bf9c7eb72566d208e2",
       "version_major": 2,
       "version_minor": 0
      },
      "text/plain": [
       "Validation: 0it [00:00, ?it/s]"
      ]
     },
     "metadata": {},
     "output_type": "display_data"
    },
    {
     "name": "stderr",
     "output_type": "stream",
     "text": [
      "2023-11-25 06:54:37,030 [INFO]: clean_val_acc: 0.8769271969795227\n",
      "2023-11-25 06:54:37,031 [INFO]: clean_val_loss: 0.5937793254852295\n",
      "2023-11-25 06:54:37,033 [INFO]: epoch: 189\n",
      "2023-11-25 06:54:37,068 [INFO]: clean_train_acc_epoch: 0.997688889503479\n",
      "2023-11-25 06:54:37,069 [INFO]: clean_train_loss_epoch: 0.008562236092984676\n",
      "2023-11-25 06:54:37,070 [INFO]: epoch: 189\n",
      "2023-11-25 06:54:46,575 [INFO]: lr-SGD: 0.004002292110161745\n",
      "2023-11-25 06:54:46,798 [INFO]: clean_train_acc_step: 0.9970703125\n",
      "2023-11-25 06:54:46,800 [INFO]: clean_train_loss_step: 0.007795932237058878\n",
      "2023-11-25 06:54:46,801 [INFO]: epoch: 190\n"
     ]
    },
    {
     "data": {
      "application/vnd.jupyter.widget-view+json": {
       "model_id": "46e1c30914a544d78ccd5c26b1b51cad",
       "version_major": 2,
       "version_minor": 0
      },
      "text/plain": [
       "Validation: 0it [00:00, ?it/s]"
      ]
     },
     "metadata": {},
     "output_type": "display_data"
    },
    {
     "name": "stderr",
     "output_type": "stream",
     "text": [
      "2023-11-25 06:54:49,476 [INFO]: clean_val_acc: 0.8739992380142212\n",
      "2023-11-25 06:54:49,478 [INFO]: clean_val_loss: 0.6007822751998901\n",
      "2023-11-25 06:54:49,480 [INFO]: epoch: 190\n",
      "2023-11-25 06:54:49,509 [INFO]: clean_train_acc_epoch: 0.9982222318649292\n",
      "2023-11-25 06:54:49,511 [INFO]: clean_train_loss_epoch: 0.007622786331921816\n",
      "2023-11-25 06:54:49,512 [INFO]: epoch: 190\n"
     ]
    },
    {
     "data": {
      "application/vnd.jupyter.widget-view+json": {
       "model_id": "63ea0955de15405f8c1e33bf5d2d5758",
       "version_major": 2,
       "version_minor": 0
      },
      "text/plain": [
       "Validation: 0it [00:00, ?it/s]"
      ]
     },
     "metadata": {},
     "output_type": "display_data"
    },
    {
     "name": "stderr",
     "output_type": "stream",
     "text": [
      "2023-11-25 06:55:01,821 [INFO]: clean_val_acc: 0.8813157081604004\n",
      "2023-11-25 06:55:01,823 [INFO]: clean_val_loss: 0.5846000909805298\n",
      "2023-11-25 06:55:01,825 [INFO]: epoch: 191\n",
      "2023-11-25 06:55:02,167 [INFO]: clean_train_acc_epoch: 0.9981777667999268\n",
      "2023-11-25 06:55:02,169 [INFO]: clean_train_loss_epoch: 0.007164506241679192\n",
      "2023-11-25 06:55:02,172 [INFO]: epoch: 191\n",
      "2023-11-25 06:55:03,990 [INFO]: lr-SGD: 0.004002319481446609\n",
      "2023-11-25 06:55:04,207 [INFO]: clean_train_acc_step: 0.9970703125\n",
      "2023-11-25 06:55:04,209 [INFO]: clean_train_loss_step: 0.008279440924525261\n",
      "2023-11-25 06:55:04,210 [INFO]: epoch: 192\n"
     ]
    },
    {
     "data": {
      "application/vnd.jupyter.widget-view+json": {
       "model_id": "f0155118e6894c878f87d6a41dcb852e",
       "version_major": 2,
       "version_minor": 0
      },
      "text/plain": [
       "Validation: 0it [00:00, ?it/s]"
      ]
     },
     "metadata": {},
     "output_type": "display_data"
    },
    {
     "name": "stderr",
     "output_type": "stream",
     "text": [
      "2023-11-25 06:55:14,517 [INFO]: clean_val_acc: 0.8770706057548523\n",
      "2023-11-25 06:55:14,519 [INFO]: clean_val_loss: 0.5831295847892761\n",
      "2023-11-25 06:55:14,521 [INFO]: epoch: 192\n",
      "2023-11-25 06:55:14,551 [INFO]: clean_train_acc_epoch: 0.9983999729156494\n",
      "2023-11-25 06:55:14,552 [INFO]: clean_train_loss_epoch: 0.007600562646985054\n",
      "2023-11-25 06:55:14,553 [INFO]: epoch: 192\n",
      "2023-11-25 06:55:17,736 [INFO]: lr-SGD: 0.004002347015186369\n",
      "2023-11-25 06:55:17,960 [INFO]: clean_train_acc_step: 0.9990234375\n",
      "2023-11-25 06:55:17,961 [INFO]: clean_train_loss_step: 0.005954789463430643\n",
      "2023-11-25 06:55:17,963 [INFO]: epoch: 193\n"
     ]
    },
    {
     "data": {
      "application/vnd.jupyter.widget-view+json": {
       "model_id": "47cb5c836d514d88b164cabbcdbbb710",
       "version_major": 2,
       "version_minor": 0
      },
      "text/plain": [
       "Validation: 0it [00:00, ?it/s]"
      ]
     },
     "metadata": {},
     "output_type": "display_data"
    },
    {
     "name": "stderr",
     "output_type": "stream",
     "text": [
      "2023-11-25 06:55:27,079 [INFO]: clean_val_acc: 0.8719528317451477\n",
      "2023-11-25 06:55:27,081 [INFO]: clean_val_loss: 0.6066503524780273\n",
      "2023-11-25 06:55:27,083 [INFO]: epoch: 193\n",
      "2023-11-25 06:55:27,115 [INFO]: clean_train_acc_epoch: 0.9983555674552917\n",
      "2023-11-25 06:55:27,116 [INFO]: clean_train_loss_epoch: 0.007008696906268597\n",
      "2023-11-25 06:55:27,117 [INFO]: epoch: 193\n",
      "2023-11-25 06:55:31,594 [INFO]: lr-SGD: 0.004002374711380902\n",
      "2023-11-25 06:55:31,811 [INFO]: clean_train_acc_step: 0.9990234375\n",
      "2023-11-25 06:55:31,813 [INFO]: clean_train_loss_step: 0.007982494309544563\n",
      "2023-11-25 06:55:31,814 [INFO]: epoch: 194\n"
     ]
    },
    {
     "data": {
      "application/vnd.jupyter.widget-view+json": {
       "model_id": "e461a7f7650d40d48f8dbbcdc8729a65",
       "version_major": 2,
       "version_minor": 0
      },
      "text/plain": [
       "Validation: 0it [00:00, ?it/s]"
      ]
     },
     "metadata": {},
     "output_type": "display_data"
    },
    {
     "name": "stderr",
     "output_type": "stream",
     "text": [
      "2023-11-25 06:55:39,759 [INFO]: clean_val_acc: 0.8793228268623352\n",
      "2023-11-25 06:55:39,761 [INFO]: clean_val_loss: 0.5692412257194519\n",
      "2023-11-25 06:55:39,763 [INFO]: epoch: 194\n",
      "2023-11-25 06:55:39,796 [INFO]: clean_train_acc_epoch: 0.9980000257492065\n",
      "2023-11-25 06:55:39,797 [INFO]: clean_train_loss_epoch: 0.007877915166318417\n",
      "2023-11-25 06:55:39,798 [INFO]: epoch: 194\n",
      "2023-11-25 06:55:45,335 [INFO]: lr-SGD: 0.004002402570030164\n",
      "2023-11-25 06:55:45,556 [INFO]: clean_train_acc_step: 0.9970703125\n",
      "2023-11-25 06:55:45,558 [INFO]: clean_train_loss_step: 0.007875517010688782\n",
      "2023-11-25 06:55:45,559 [INFO]: epoch: 195\n"
     ]
    },
    {
     "data": {
      "application/vnd.jupyter.widget-view+json": {
       "model_id": "b6b8b24200ec4f23b599269b82013f56",
       "version_major": 2,
       "version_minor": 0
      },
      "text/plain": [
       "Validation: 0it [00:00, ?it/s]"
      ]
     },
     "metadata": {},
     "output_type": "display_data"
    },
    {
     "name": "stderr",
     "output_type": "stream",
     "text": [
      "2023-11-25 06:55:52,191 [INFO]: clean_val_acc: 0.8826690912246704\n",
      "2023-11-25 06:55:52,193 [INFO]: clean_val_loss: 0.5799885988235474\n",
      "2023-11-25 06:55:52,194 [INFO]: epoch: 195\n",
      "2023-11-25 06:55:52,553 [INFO]: clean_train_acc_epoch: 0.9980888962745667\n",
      "2023-11-25 06:55:52,555 [INFO]: clean_train_loss_epoch: 0.007857280783355236\n",
      "2023-11-25 06:55:52,556 [INFO]: epoch: 195\n",
      "2023-11-25 06:55:59,164 [INFO]: lr-SGD: 0.004002430591134046\n",
      "2023-11-25 06:55:59,386 [INFO]: clean_train_acc_step: 0.998046875\n",
      "2023-11-25 06:55:59,387 [INFO]: clean_train_loss_step: 0.00796226505190134\n",
      "2023-11-25 06:55:59,391 [INFO]: epoch: 196\n"
     ]
    },
    {
     "data": {
      "application/vnd.jupyter.widget-view+json": {
       "model_id": "d6de6accf960408995274994999120cd",
       "version_major": 2,
       "version_minor": 0
      },
      "text/plain": [
       "Validation: 0it [00:00, ?it/s]"
      ]
     },
     "metadata": {},
     "output_type": "display_data"
    },
    {
     "name": "stderr",
     "output_type": "stream",
     "text": [
      "2023-11-25 06:56:04,937 [INFO]: clean_val_acc: 0.8747009038925171\n",
      "2023-11-25 06:56:04,939 [INFO]: clean_val_loss: 0.5838348865509033\n",
      "2023-11-25 06:56:04,941 [INFO]: epoch: 196\n",
      "2023-11-25 06:56:04,974 [INFO]: clean_train_acc_epoch: 0.9981777667999268\n",
      "2023-11-25 06:56:04,975 [INFO]: clean_train_loss_epoch: 0.0072126383893191814\n",
      "2023-11-25 06:56:04,976 [INFO]: epoch: 196\n",
      "2023-11-25 06:56:12,897 [INFO]: lr-SGD: 0.004002458774692422\n",
      "2023-11-25 06:56:13,121 [INFO]: clean_train_acc_step: 0.998046875\n",
      "2023-11-25 06:56:13,122 [INFO]: clean_train_loss_step: 0.006207221187651157\n",
      "2023-11-25 06:56:13,124 [INFO]: epoch: 197\n"
     ]
    },
    {
     "data": {
      "application/vnd.jupyter.widget-view+json": {
       "model_id": "9e263cd55a1743049dc8dd007b1d54eb",
       "version_major": 2,
       "version_minor": 0
      },
      "text/plain": [
       "Validation: 0it [00:00, ?it/s]"
      ]
     },
     "metadata": {},
     "output_type": "display_data"
    },
    {
     "name": "stderr",
     "output_type": "stream",
     "text": [
      "2023-11-25 06:56:17,357 [INFO]: clean_val_acc: 0.8756516575813293\n",
      "2023-11-25 06:56:17,359 [INFO]: clean_val_loss: 0.5883355140686035\n",
      "2023-11-25 06:56:17,361 [INFO]: epoch: 197\n",
      "2023-11-25 06:56:17,391 [INFO]: clean_train_acc_epoch: 0.9983333349227905\n",
      "2023-11-25 06:56:17,393 [INFO]: clean_train_loss_epoch: 0.007277166936546564\n",
      "2023-11-25 06:56:17,394 [INFO]: epoch: 197\n",
      "2023-11-25 06:56:26,445 [INFO]: lr-SGD: 0.004002487120705223\n",
      "2023-11-25 06:56:26,659 [INFO]: clean_train_acc_step: 1.0\n",
      "2023-11-25 06:56:26,662 [INFO]: clean_train_loss_step: 0.005604109261184931\n",
      "2023-11-25 06:56:26,663 [INFO]: epoch: 198\n"
     ]
    },
    {
     "data": {
      "application/vnd.jupyter.widget-view+json": {
       "model_id": "65aa241e2c0840b7a2ba9b3150fbab7b",
       "version_major": 2,
       "version_minor": 0
      },
      "text/plain": [
       "Validation: 0it [00:00, ?it/s]"
      ]
     },
     "metadata": {},
     "output_type": "display_data"
    },
    {
     "name": "stderr",
     "output_type": "stream",
     "text": [
      "2023-11-25 06:56:29,770 [INFO]: clean_val_acc: 0.8754165768623352\n",
      "2023-11-25 06:56:29,772 [INFO]: clean_val_loss: 0.5923770666122437\n",
      "2023-11-25 06:56:29,773 [INFO]: epoch: 198\n",
      "2023-11-25 06:56:29,803 [INFO]: clean_train_acc_epoch: 0.9985555410385132\n",
      "2023-11-25 06:56:29,804 [INFO]: clean_train_loss_epoch: 0.006210337392985821\n",
      "2023-11-25 06:56:29,805 [INFO]: epoch: 198\n",
      "2023-11-25 06:56:40,128 [INFO]: lr-SGD: 0.004002515629172365\n",
      "2023-11-25 06:56:40,338 [INFO]: clean_train_acc_step: 1.0\n",
      "2023-11-25 06:56:40,339 [INFO]: clean_train_loss_step: 0.003076084889471531\n",
      "2023-11-25 06:56:40,341 [INFO]: epoch: 199\n"
     ]
    },
    {
     "data": {
      "application/vnd.jupyter.widget-view+json": {
       "model_id": "aeec36bceb1642c99c3d71a543c9358a",
       "version_major": 2,
       "version_minor": 0
      },
      "text/plain": [
       "Validation: 0it [00:00, ?it/s]"
      ]
     },
     "metadata": {},
     "output_type": "display_data"
    },
    {
     "name": "stderr",
     "output_type": "stream",
     "text": [
      "2023-11-25 06:56:42,263 [INFO]: clean_val_acc: 0.879687488079071\n",
      "2023-11-25 06:56:42,264 [INFO]: clean_val_loss: 0.5957626104354858\n",
      "2023-11-25 06:56:42,264 [INFO]: epoch: 199\n",
      "2023-11-25 06:56:42,299 [INFO]: clean_train_acc_epoch: 0.9989333152770996\n",
      "2023-11-25 06:56:42,300 [INFO]: clean_train_loss_epoch: 0.005725202616304159\n",
      "2023-11-25 06:56:42,301 [INFO]: epoch: 199\n"
     ]
    },
    {
     "name": "stdout",
     "output_type": "stream",
     "text": [
      "Training is finished. It took 46.47969859043757 min.\n"
     ]
    }
   ],
   "source": [
    "# training\n",
    "trainer.fit(model)"
   ]
  },
  {
   "cell_type": "code",
   "execution_count": 10,
   "metadata": {
    "id": "a1lsMhyWY5XQ"
   },
   "outputs": [],
   "source": [
    "# results = trainer.tune(model=model, datamodule=model.train_dataloader()) # for tuning\n",
    "# results['lr_find'].plot(suggest=True)\n",
    "# trainer.save_checkpoint('model.ckpt') #save manually"
   ]
  },
  {
   "cell_type": "code",
   "execution_count": 11,
   "metadata": {
    "id": "ORNJvIbNY_U1"
   },
   "outputs": [
    {
     "name": "stdout",
     "output_type": "stream",
     "text": [
      "-----TEST ACC----------\n",
      "-----TEST ACC----------\n"
     ]
    },
    {
     "name": "stderr",
     "output_type": "stream",
     "text": [
      "/home/vru/workspace/ev/khpy3/lib/python3.10/site-packages/pytorch_lightning/trainer/connectors/checkpoint_connector.py:124: `.test(ckpt_path=None)` was called without a model. The best model of the previous `fit` call will be used. You can pass `.test(ckpt_path='best')` to use the best model or `.test(ckpt_path='last')` to use the last model. If you pass a value, this warning will be silenced.\n"
     ]
    },
    {
     "name": "stdout",
     "output_type": "stream",
     "text": [
      "Files already downloaded and verified\n",
      "Files already downloaded and verified\n",
      "Files already downloaded and verified\n",
      "Files already downloaded and verified\n"
     ]
    },
    {
     "name": "stderr",
     "output_type": "stream",
     "text": [
      "LOCAL_RANK: 0 - CUDA_VISIBLE_DEVICES: [2]\n",
      "2023-11-25 06:56:53,625 [INFO]: Hyperparameters:\n",
      "2023-11-25 06:56:53,629 [INFO]: cfg: {'defaults': ['_self_', {'override hydra/hydra_logging': 'disabled'}, {'override hydra/job_logging': 'disabled'}], 'hydra': {'output_subdir': None, 'run': {'dir': '.'}}, 'global_params': {'dataset': 'CIFAR10', 'architecture': 'ResNet', 'devices': 'auto'}, 'training_params': {'epoch': 200, 'batch_size': 1024, 'dataloader_workers': 32, 'type': 'normal', 'note': '', 'lr': 0.05}, 'adversarial_training_params': {'eps': 0.03, 'name': 'PGD'}}\n"
     ]
    },
    {
     "data": {
      "application/vnd.jupyter.widget-view+json": {
       "model_id": "be948db3811740de96d8684b911dda58",
       "version_major": 2,
       "version_minor": 0
      },
      "text/plain": [
       "Testing: 0it [00:00, ?it/s]"
      ]
     },
     "metadata": {},
     "output_type": "display_data"
    },
    {
     "name": "stderr",
     "output_type": "stream",
     "text": [
      "2023-11-25 07:03:42,934 [INFO]: test_clean_accuracy: 0.8744000196456909\n",
      "2023-11-25 07:03:42,937 [INFO]: test_adv-PGD-eps0.01_accuracy: 0.09740000218153\n",
      "2023-11-25 07:03:42,938 [INFO]: test_adv-PGD-eps0.03_accuracy: 0.0\n",
      "2023-11-25 07:03:42,939 [INFO]: test_adv-PGD-eps0.1_accuracy: 0.0\n",
      "2023-11-25 07:03:42,940 [INFO]: test_adv-PGD-eps0.2_accuracy: 0.0\n",
      "2023-11-25 07:03:42,941 [INFO]: test_adv-PGD-eps0.3_accuracy: 0.0\n",
      "2023-11-25 07:03:42,942 [INFO]: test_adv-PGD-eps0.5_accuracy: 0.0\n",
      "2023-11-25 07:03:42,945 [INFO]: test_adv-FGSM-eps0.01_accuracy: 0.2296999990940094\n",
      "2023-11-25 07:03:42,945 [INFO]: test_adv-FGSM-eps0.03_accuracy: 0.03060000017285347\n",
      "2023-11-25 07:03:42,946 [INFO]: test_adv-FGSM-eps0.1_accuracy: 0.049300000071525574\n",
      "2023-11-25 07:03:42,947 [INFO]: test_adv-FGSM-eps0.2_accuracy: 0.10570000112056732\n",
      "2023-11-25 07:03:42,949 [INFO]: test_adv-FGSM-eps0.3_accuracy: 0.10339999943971634\n",
      "2023-11-25 07:03:42,951 [INFO]: test_adv-FGSM-eps0.5_accuracy: 0.10000000149011612\n",
      "2023-11-25 07:03:42,952 [INFO]: epoch: 200\n"
     ]
    },
    {
     "name": "stdout",
     "output_type": "stream",
     "text": [
      "────────────────────────────────────────────────────────────────────────────────────────────────────────────────────────\n",
      "         Test metric                   DataLoader 0\n",
      "────────────────────────────────────────────────────────────────────────────────────────────────────────────────────────\n",
      "test_adv-FGSM-eps0.01_accuracy      0.2296999990940094\n",
      "test_adv-FGSM-eps0.03_accuracy     0.03060000017285347\n",
      "test_adv-FGSM-eps0.1_accuracy      0.049300000071525574\n",
      "test_adv-FGSM-eps0.2_accuracy      0.10570000112056732\n",
      "test_adv-FGSM-eps0.3_accuracy      0.10339999943971634\n",
      "test_adv-FGSM-eps0.5_accuracy      0.10000000149011612\n",
      "test_adv-PGD-eps0.01_accuracy        0.09740000218153\n",
      "test_adv-PGD-eps0.03_accuracy              0.0\n",
      " test_adv-PGD-eps0.1_accuracy              0.0\n",
      " test_adv-PGD-eps0.2_accuracy              0.0\n",
      " test_adv-PGD-eps0.3_accuracy              0.0\n",
      " test_adv-PGD-eps0.5_accuracy              0.0\n",
      "     test_clean_accuracy            0.8744000196456909\n",
      "────────────────────────────────────────────────────────────────────────────────────────────────────────────────────────\n",
      "[{'test_clean_accuracy': 0.8744000196456909, 'test_adv-PGD-eps0.01_accuracy': 0.09740000218153, 'test_adv-PGD-eps0.03_accuracy': 0.0, 'test_adv-PGD-eps0.1_accuracy': 0.0, 'test_adv-PGD-eps0.2_accuracy': 0.0, 'test_adv-PGD-eps0.3_accuracy': 0.0, 'test_adv-PGD-eps0.5_accuracy': 0.0, 'test_adv-FGSM-eps0.01_accuracy': 0.2296999990940094, 'test_adv-FGSM-eps0.03_accuracy': 0.03060000017285347, 'test_adv-FGSM-eps0.1_accuracy': 0.049300000071525574, 'test_adv-FGSM-eps0.2_accuracy': 0.10570000112056732, 'test_adv-FGSM-eps0.3_accuracy': 0.10339999943971634, 'test_adv-FGSM-eps0.5_accuracy': 0.10000000149011612}]\n"
     ]
    }
   ],
   "source": [
    "# Evaluating\n",
    "print('-----TEST ACC----------')\n",
    "# test_acc = trainer.test(ckpt_path='best')  #dataloaders=test_loader\n",
    "# best model is a model with best ones\n",
    "\n",
    "# print('-----VAL ACC----------')\n",
    "# val_acc = trainer.test(dataloaders=model.val_loader,ckpt_path='best')  #dataloaders=test_loader\n",
    "# print(val_acc)\n",
    "# print('-----Train ACC----------')\n",
    "# train_acc = trainer.test(dataloaders=model.train_loader,ckpt_path='best')  #dataloaders=test_loader\n",
    "# print(train_acc)\n",
    "print('-----TEST ACC----------')\n",
    "model.test_dataloader()\n",
    "test_acc = trainer.test(dataloaders=model.test_loader)  #dataloaders=test_loader\n",
    "print(test_acc)\n",
    "# every saved log is in lightning-Logs"
   ]
  },
  {
   "cell_type": "code",
   "execution_count": 13,
   "metadata": {
    "id": "LhEaZo36ZDMF"
   },
   "outputs": [
    {
     "name": "stdout",
     "output_type": "stream",
     "text": [
      "==========================\n",
      "Test accuracy 0.8744 (87.44%)\n"
     ]
    }
   ],
   "source": [
    "#check evaluation pointwise\n",
    "print('==========================')\n",
    "model.eval()\n",
    "test_dataloader = model.test_dataloader()\n",
    "acc = torchmetrics.Accuracy(task='multiclass', num_classes=10)\n",
    "lst_acc = []\n",
    "for batch in test_dataloader:\n",
    "    x,y = batch\n",
    "    with torch.inference_mode():\n",
    "        logits = model(x)\n",
    "    predicted = torch.argmax(logits, dim=1)\n",
    "    lst_acc.append(acc(predicted, y))\n",
    "\n",
    "test_acc = torch.Tensor(lst_acc).mean()\n",
    "print(f'Test accuracy {test_acc:.4f} ({test_acc*100:.2f}%)')"
   ]
  },
  {
   "cell_type": "code",
   "execution_count": null,
   "metadata": {
    "id": "TZ8bQFAQZJgB"
   },
   "outputs": [],
   "source": []
  },
  {
   "cell_type": "code",
   "execution_count": null,
   "metadata": {},
   "outputs": [],
   "source": []
  }
 ],
 "metadata": {
  "accelerator": "GPU",
  "colab": {
   "gpuType": "T4",
   "provenance": []
  },
  "kernelspec": {
   "display_name": "Python 3 (ipykernel)",
   "language": "python",
   "name": "python3"
  },
  "language_info": {
   "codemirror_mode": {
    "name": "ipython",
    "version": 3
   },
   "file_extension": ".py",
   "mimetype": "text/x-python",
   "name": "python",
   "nbconvert_exporter": "python",
   "pygments_lexer": "ipython3",
   "version": "3.10.12"
  },
  "widgets": {
   "application/vnd.jupyter.widget-state+json": {
    "0026e52d954344a4a7a607efce4c022c": {
     "model_module": "@jupyter-widgets/controls",
     "model_module_version": "1.5.0",
     "model_name": "DescriptionStyleModel",
     "state": {
      "_model_module": "@jupyter-widgets/controls",
      "_model_module_version": "1.5.0",
      "_model_name": "DescriptionStyleModel",
      "_view_count": null,
      "_view_module": "@jupyter-widgets/base",
      "_view_module_version": "1.2.0",
      "_view_name": "StyleView",
      "description_width": ""
     }
    },
    "007f26abf1354f87930bf722aff8bf87": {
     "model_module": "@jupyter-widgets/base",
     "model_module_version": "1.2.0",
     "model_name": "LayoutModel",
     "state": {
      "_model_module": "@jupyter-widgets/base",
      "_model_module_version": "1.2.0",
      "_model_name": "LayoutModel",
      "_view_count": null,
      "_view_module": "@jupyter-widgets/base",
      "_view_module_version": "1.2.0",
      "_view_name": "LayoutView",
      "align_content": null,
      "align_items": null,
      "align_self": null,
      "border": null,
      "bottom": null,
      "display": "inline-flex",
      "flex": null,
      "flex_flow": "row wrap",
      "grid_area": null,
      "grid_auto_columns": null,
      "grid_auto_flow": null,
      "grid_auto_rows": null,
      "grid_column": null,
      "grid_gap": null,
      "grid_row": null,
      "grid_template_areas": null,
      "grid_template_columns": null,
      "grid_template_rows": null,
      "height": null,
      "justify_content": null,
      "justify_items": null,
      "left": null,
      "margin": null,
      "max_height": null,
      "max_width": null,
      "min_height": null,
      "min_width": null,
      "object_fit": null,
      "object_position": null,
      "order": null,
      "overflow": null,
      "overflow_x": null,
      "overflow_y": null,
      "padding": null,
      "right": null,
      "top": null,
      "visibility": "hidden",
      "width": "100%"
     }
    },
    "00eb0b62b54d40998f9ca67be99face9": {
     "model_module": "@jupyter-widgets/base",
     "model_module_version": "1.2.0",
     "model_name": "LayoutModel",
     "state": {
      "_model_module": "@jupyter-widgets/base",
      "_model_module_version": "1.2.0",
      "_model_name": "LayoutModel",
      "_view_count": null,
      "_view_module": "@jupyter-widgets/base",
      "_view_module_version": "1.2.0",
      "_view_name": "LayoutView",
      "align_content": null,
      "align_items": null,
      "align_self": null,
      "border": null,
      "bottom": null,
      "display": null,
      "flex": "2",
      "flex_flow": null,
      "grid_area": null,
      "grid_auto_columns": null,
      "grid_auto_flow": null,
      "grid_auto_rows": null,
      "grid_column": null,
      "grid_gap": null,
      "grid_row": null,
      "grid_template_areas": null,
      "grid_template_columns": null,
      "grid_template_rows": null,
      "height": null,
      "justify_content": null,
      "justify_items": null,
      "left": null,
      "margin": null,
      "max_height": null,
      "max_width": null,
      "min_height": null,
      "min_width": null,
      "object_fit": null,
      "object_position": null,
      "order": null,
      "overflow": null,
      "overflow_x": null,
      "overflow_y": null,
      "padding": null,
      "right": null,
      "top": null,
      "visibility": null,
      "width": null
     }
    },
    "02872e0113a44679a5f25bbe766582fc": {
     "model_module": "@jupyter-widgets/controls",
     "model_module_version": "1.5.0",
     "model_name": "HBoxModel",
     "state": {
      "_dom_classes": [],
      "_model_module": "@jupyter-widgets/controls",
      "_model_module_version": "1.5.0",
      "_model_name": "HBoxModel",
      "_view_count": null,
      "_view_module": "@jupyter-widgets/controls",
      "_view_module_version": "1.5.0",
      "_view_name": "HBoxView",
      "box_style": "",
      "children": [
       "IPY_MODEL_78ea893118b345c8b2e527d26ede1b47",
       "IPY_MODEL_dd45daf6d0b34921a9745de16c4e5067",
       "IPY_MODEL_3ec7db261b9443b9a944ecf748c4d00d"
      ],
      "layout": "IPY_MODEL_cfc41089669d4ddf9d6d199e23825b84"
     }
    },
    "02cd023a22fa4921bcc76e73d25c412d": {
     "model_module": "@jupyter-widgets/controls",
     "model_module_version": "1.5.0",
     "model_name": "DescriptionStyleModel",
     "state": {
      "_model_module": "@jupyter-widgets/controls",
      "_model_module_version": "1.5.0",
      "_model_name": "DescriptionStyleModel",
      "_view_count": null,
      "_view_module": "@jupyter-widgets/base",
      "_view_module_version": "1.2.0",
      "_view_name": "StyleView",
      "description_width": ""
     }
    },
    "037cedb4fcb64c8ca8cf5e312acf1573": {
     "model_module": "@jupyter-widgets/base",
     "model_module_version": "1.2.0",
     "model_name": "LayoutModel",
     "state": {
      "_model_module": "@jupyter-widgets/base",
      "_model_module_version": "1.2.0",
      "_model_name": "LayoutModel",
      "_view_count": null,
      "_view_module": "@jupyter-widgets/base",
      "_view_module_version": "1.2.0",
      "_view_name": "LayoutView",
      "align_content": null,
      "align_items": null,
      "align_self": null,
      "border": null,
      "bottom": null,
      "display": null,
      "flex": null,
      "flex_flow": null,
      "grid_area": null,
      "grid_auto_columns": null,
      "grid_auto_flow": null,
      "grid_auto_rows": null,
      "grid_column": null,
      "grid_gap": null,
      "grid_row": null,
      "grid_template_areas": null,
      "grid_template_columns": null,
      "grid_template_rows": null,
      "height": null,
      "justify_content": null,
      "justify_items": null,
      "left": null,
      "margin": null,
      "max_height": null,
      "max_width": null,
      "min_height": null,
      "min_width": null,
      "object_fit": null,
      "object_position": null,
      "order": null,
      "overflow": null,
      "overflow_x": null,
      "overflow_y": null,
      "padding": null,
      "right": null,
      "top": null,
      "visibility": null,
      "width": null
     }
    },
    "047e167fcc9a4240bd08e326128f89ed": {
     "model_module": "@jupyter-widgets/controls",
     "model_module_version": "1.5.0",
     "model_name": "DescriptionStyleModel",
     "state": {
      "_model_module": "@jupyter-widgets/controls",
      "_model_module_version": "1.5.0",
      "_model_name": "DescriptionStyleModel",
      "_view_count": null,
      "_view_module": "@jupyter-widgets/base",
      "_view_module_version": "1.2.0",
      "_view_name": "StyleView",
      "description_width": ""
     }
    },
    "0483e15cde6c4cc0901d012c6d0f52e8": {
     "model_module": "@jupyter-widgets/controls",
     "model_module_version": "1.5.0",
     "model_name": "ProgressStyleModel",
     "state": {
      "_model_module": "@jupyter-widgets/controls",
      "_model_module_version": "1.5.0",
      "_model_name": "ProgressStyleModel",
      "_view_count": null,
      "_view_module": "@jupyter-widgets/base",
      "_view_module_version": "1.2.0",
      "_view_name": "StyleView",
      "bar_color": null,
      "description_width": ""
     }
    },
    "054d2e354d5a439da77b3508d52c466a": {
     "model_module": "@jupyter-widgets/base",
     "model_module_version": "1.2.0",
     "model_name": "LayoutModel",
     "state": {
      "_model_module": "@jupyter-widgets/base",
      "_model_module_version": "1.2.0",
      "_model_name": "LayoutModel",
      "_view_count": null,
      "_view_module": "@jupyter-widgets/base",
      "_view_module_version": "1.2.0",
      "_view_name": "LayoutView",
      "align_content": null,
      "align_items": null,
      "align_self": null,
      "border": null,
      "bottom": null,
      "display": null,
      "flex": "2",
      "flex_flow": null,
      "grid_area": null,
      "grid_auto_columns": null,
      "grid_auto_flow": null,
      "grid_auto_rows": null,
      "grid_column": null,
      "grid_gap": null,
      "grid_row": null,
      "grid_template_areas": null,
      "grid_template_columns": null,
      "grid_template_rows": null,
      "height": null,
      "justify_content": null,
      "justify_items": null,
      "left": null,
      "margin": null,
      "max_height": null,
      "max_width": null,
      "min_height": null,
      "min_width": null,
      "object_fit": null,
      "object_position": null,
      "order": null,
      "overflow": null,
      "overflow_x": null,
      "overflow_y": null,
      "padding": null,
      "right": null,
      "top": null,
      "visibility": null,
      "width": null
     }
    },
    "058c247b8f58484fbdbdb802db506d91": {
     "model_module": "@jupyter-widgets/base",
     "model_module_version": "1.2.0",
     "model_name": "LayoutModel",
     "state": {
      "_model_module": "@jupyter-widgets/base",
      "_model_module_version": "1.2.0",
      "_model_name": "LayoutModel",
      "_view_count": null,
      "_view_module": "@jupyter-widgets/base",
      "_view_module_version": "1.2.0",
      "_view_name": "LayoutView",
      "align_content": null,
      "align_items": null,
      "align_self": null,
      "border": null,
      "bottom": null,
      "display": null,
      "flex": null,
      "flex_flow": null,
      "grid_area": null,
      "grid_auto_columns": null,
      "grid_auto_flow": null,
      "grid_auto_rows": null,
      "grid_column": null,
      "grid_gap": null,
      "grid_row": null,
      "grid_template_areas": null,
      "grid_template_columns": null,
      "grid_template_rows": null,
      "height": null,
      "justify_content": null,
      "justify_items": null,
      "left": null,
      "margin": null,
      "max_height": null,
      "max_width": null,
      "min_height": null,
      "min_width": null,
      "object_fit": null,
      "object_position": null,
      "order": null,
      "overflow": null,
      "overflow_x": null,
      "overflow_y": null,
      "padding": null,
      "right": null,
      "top": null,
      "visibility": null,
      "width": null
     }
    },
    "05bc55504fd04279bd443494f0eff031": {
     "model_module": "@jupyter-widgets/controls",
     "model_module_version": "1.5.0",
     "model_name": "ProgressStyleModel",
     "state": {
      "_model_module": "@jupyter-widgets/controls",
      "_model_module_version": "1.5.0",
      "_model_name": "ProgressStyleModel",
      "_view_count": null,
      "_view_module": "@jupyter-widgets/base",
      "_view_module_version": "1.2.0",
      "_view_name": "StyleView",
      "bar_color": null,
      "description_width": ""
     }
    },
    "06567b661bcc4c3e835092934132b30c": {
     "model_module": "@jupyter-widgets/controls",
     "model_module_version": "1.5.0",
     "model_name": "DescriptionStyleModel",
     "state": {
      "_model_module": "@jupyter-widgets/controls",
      "_model_module_version": "1.5.0",
      "_model_name": "DescriptionStyleModel",
      "_view_count": null,
      "_view_module": "@jupyter-widgets/base",
      "_view_module_version": "1.2.0",
      "_view_name": "StyleView",
      "description_width": ""
     }
    },
    "06e612df7c9b4719a3425bd086f7d2de": {
     "model_module": "@jupyter-widgets/controls",
     "model_module_version": "1.5.0",
     "model_name": "HTMLModel",
     "state": {
      "_dom_classes": [],
      "_model_module": "@jupyter-widgets/controls",
      "_model_module_version": "1.5.0",
      "_model_name": "HTMLModel",
      "_view_count": null,
      "_view_module": "@jupyter-widgets/controls",
      "_view_module_version": "1.5.0",
      "_view_name": "HTMLView",
      "description": "",
      "description_tooltip": null,
      "layout": "IPY_MODEL_8a3d5e3ccac14401a7ea4ca101194e10",
      "placeholder": "​",
      "style": "IPY_MODEL_0026e52d954344a4a7a607efce4c022c",
      "value": " 5/5 [00:01&lt;00:00,  3.99it/s]"
     }
    },
    "0735efb868c14ef7bfaa4a5eddb257b4": {
     "model_module": "@jupyter-widgets/base",
     "model_module_version": "1.2.0",
     "model_name": "LayoutModel",
     "state": {
      "_model_module": "@jupyter-widgets/base",
      "_model_module_version": "1.2.0",
      "_model_name": "LayoutModel",
      "_view_count": null,
      "_view_module": "@jupyter-widgets/base",
      "_view_module_version": "1.2.0",
      "_view_name": "LayoutView",
      "align_content": null,
      "align_items": null,
      "align_self": null,
      "border": null,
      "bottom": null,
      "display": "inline-flex",
      "flex": null,
      "flex_flow": "row wrap",
      "grid_area": null,
      "grid_auto_columns": null,
      "grid_auto_flow": null,
      "grid_auto_rows": null,
      "grid_column": null,
      "grid_gap": null,
      "grid_row": null,
      "grid_template_areas": null,
      "grid_template_columns": null,
      "grid_template_rows": null,
      "height": null,
      "justify_content": null,
      "justify_items": null,
      "left": null,
      "margin": null,
      "max_height": null,
      "max_width": null,
      "min_height": null,
      "min_width": null,
      "object_fit": null,
      "object_position": null,
      "order": null,
      "overflow": null,
      "overflow_x": null,
      "overflow_y": null,
      "padding": null,
      "right": null,
      "top": null,
      "visibility": "hidden",
      "width": "100%"
     }
    },
    "079b5610cf60418d81fa1eab5dc7b45e": {
     "model_module": "@jupyter-widgets/base",
     "model_module_version": "1.2.0",
     "model_name": "LayoutModel",
     "state": {
      "_model_module": "@jupyter-widgets/base",
      "_model_module_version": "1.2.0",
      "_model_name": "LayoutModel",
      "_view_count": null,
      "_view_module": "@jupyter-widgets/base",
      "_view_module_version": "1.2.0",
      "_view_name": "LayoutView",
      "align_content": null,
      "align_items": null,
      "align_self": null,
      "border": null,
      "bottom": null,
      "display": "inline-flex",
      "flex": null,
      "flex_flow": "row wrap",
      "grid_area": null,
      "grid_auto_columns": null,
      "grid_auto_flow": null,
      "grid_auto_rows": null,
      "grid_column": null,
      "grid_gap": null,
      "grid_row": null,
      "grid_template_areas": null,
      "grid_template_columns": null,
      "grid_template_rows": null,
      "height": null,
      "justify_content": null,
      "justify_items": null,
      "left": null,
      "margin": null,
      "max_height": null,
      "max_width": null,
      "min_height": null,
      "min_width": null,
      "object_fit": null,
      "object_position": null,
      "order": null,
      "overflow": null,
      "overflow_x": null,
      "overflow_y": null,
      "padding": null,
      "right": null,
      "top": null,
      "visibility": "hidden",
      "width": "100%"
     }
    },
    "080fe54ee021457a9e07c59c44799dda": {
     "model_module": "@jupyter-widgets/controls",
     "model_module_version": "1.5.0",
     "model_name": "HBoxModel",
     "state": {
      "_dom_classes": [],
      "_model_module": "@jupyter-widgets/controls",
      "_model_module_version": "1.5.0",
      "_model_name": "HBoxModel",
      "_view_count": null,
      "_view_module": "@jupyter-widgets/controls",
      "_view_module_version": "1.5.0",
      "_view_name": "HBoxView",
      "box_style": "",
      "children": [
       "IPY_MODEL_2c5446c18af14103836cf63e884a12c3",
       "IPY_MODEL_b7e663349e9f4b0d8b54de3d77806560",
       "IPY_MODEL_4e64be8a20a7410fbbea478c3054b073"
      ],
      "layout": "IPY_MODEL_a105e07425c547ebba946df44f82b38c"
     }
    },
    "08ce38df82f24627a520f26e52e0aa9a": {
     "model_module": "@jupyter-widgets/controls",
     "model_module_version": "1.5.0",
     "model_name": "HTMLModel",
     "state": {
      "_dom_classes": [],
      "_model_module": "@jupyter-widgets/controls",
      "_model_module_version": "1.5.0",
      "_model_name": "HTMLModel",
      "_view_count": null,
      "_view_module": "@jupyter-widgets/controls",
      "_view_module_version": "1.5.0",
      "_view_name": "HTMLView",
      "description": "",
      "description_tooltip": null,
      "layout": "IPY_MODEL_3adeeb29bc484a45ba2d21e71c4ed8b0",
      "placeholder": "​",
      "style": "IPY_MODEL_b6dce6b5ebdc4328a38affb285913904",
      "value": " 5/5 [00:01&lt;00:00,  4.05it/s]"
     }
    },
    "09033db4eb6540c6a73c50b736ce8436": {
     "model_module": "@jupyter-widgets/controls",
     "model_module_version": "1.5.0",
     "model_name": "DescriptionStyleModel",
     "state": {
      "_model_module": "@jupyter-widgets/controls",
      "_model_module_version": "1.5.0",
      "_model_name": "DescriptionStyleModel",
      "_view_count": null,
      "_view_module": "@jupyter-widgets/base",
      "_view_module_version": "1.2.0",
      "_view_name": "StyleView",
      "description_width": ""
     }
    },
    "0984213b9c6640bcba1a06cceed06906": {
     "model_module": "@jupyter-widgets/base",
     "model_module_version": "1.2.0",
     "model_name": "LayoutModel",
     "state": {
      "_model_module": "@jupyter-widgets/base",
      "_model_module_version": "1.2.0",
      "_model_name": "LayoutModel",
      "_view_count": null,
      "_view_module": "@jupyter-widgets/base",
      "_view_module_version": "1.2.0",
      "_view_name": "LayoutView",
      "align_content": null,
      "align_items": null,
      "align_self": null,
      "border": null,
      "bottom": null,
      "display": null,
      "flex": null,
      "flex_flow": null,
      "grid_area": null,
      "grid_auto_columns": null,
      "grid_auto_flow": null,
      "grid_auto_rows": null,
      "grid_column": null,
      "grid_gap": null,
      "grid_row": null,
      "grid_template_areas": null,
      "grid_template_columns": null,
      "grid_template_rows": null,
      "height": null,
      "justify_content": null,
      "justify_items": null,
      "left": null,
      "margin": null,
      "max_height": null,
      "max_width": null,
      "min_height": null,
      "min_width": null,
      "object_fit": null,
      "object_position": null,
      "order": null,
      "overflow": null,
      "overflow_x": null,
      "overflow_y": null,
      "padding": null,
      "right": null,
      "top": null,
      "visibility": null,
      "width": null
     }
    },
    "09aee179224b421a82efa9e442aec8e5": {
     "model_module": "@jupyter-widgets/base",
     "model_module_version": "1.2.0",
     "model_name": "LayoutModel",
     "state": {
      "_model_module": "@jupyter-widgets/base",
      "_model_module_version": "1.2.0",
      "_model_name": "LayoutModel",
      "_view_count": null,
      "_view_module": "@jupyter-widgets/base",
      "_view_module_version": "1.2.0",
      "_view_name": "LayoutView",
      "align_content": null,
      "align_items": null,
      "align_self": null,
      "border": null,
      "bottom": null,
      "display": null,
      "flex": null,
      "flex_flow": null,
      "grid_area": null,
      "grid_auto_columns": null,
      "grid_auto_flow": null,
      "grid_auto_rows": null,
      "grid_column": null,
      "grid_gap": null,
      "grid_row": null,
      "grid_template_areas": null,
      "grid_template_columns": null,
      "grid_template_rows": null,
      "height": null,
      "justify_content": null,
      "justify_items": null,
      "left": null,
      "margin": null,
      "max_height": null,
      "max_width": null,
      "min_height": null,
      "min_width": null,
      "object_fit": null,
      "object_position": null,
      "order": null,
      "overflow": null,
      "overflow_x": null,
      "overflow_y": null,
      "padding": null,
      "right": null,
      "top": null,
      "visibility": null,
      "width": null
     }
    },
    "0a2313c4b0c44e4a9845f2b6e5421564": {
     "model_module": "@jupyter-widgets/controls",
     "model_module_version": "1.5.0",
     "model_name": "HTMLModel",
     "state": {
      "_dom_classes": [],
      "_model_module": "@jupyter-widgets/controls",
      "_model_module_version": "1.5.0",
      "_model_name": "HTMLModel",
      "_view_count": null,
      "_view_module": "@jupyter-widgets/controls",
      "_view_module_version": "1.5.0",
      "_view_name": "HTMLView",
      "description": "",
      "description_tooltip": null,
      "layout": "IPY_MODEL_160b0054af4441e786f83c7fd1f72908",
      "placeholder": "​",
      "style": "IPY_MODEL_af311951ba2f401a93c3e3dbcd1ae246",
      "value": "Sanity Checking DataLoader 0: 100%"
     }
    },
    "0a508efaca8148ac820c44544ca19f4c": {
     "model_module": "@jupyter-widgets/controls",
     "model_module_version": "1.5.0",
     "model_name": "HTMLModel",
     "state": {
      "_dom_classes": [],
      "_model_module": "@jupyter-widgets/controls",
      "_model_module_version": "1.5.0",
      "_model_name": "HTMLModel",
      "_view_count": null,
      "_view_module": "@jupyter-widgets/controls",
      "_view_module_version": "1.5.0",
      "_view_name": "HTMLView",
      "description": "",
      "description_tooltip": null,
      "layout": "IPY_MODEL_c07b0bb493054088876820432902df1c",
      "placeholder": "​",
      "style": "IPY_MODEL_51761f927a0843cea9e8d07bf0cc48cf",
      "value": "Validation DataLoader 0: 100%"
     }
    },
    "0a8860818e0447a28d2bcd64dae62ad3": {
     "model_module": "@jupyter-widgets/controls",
     "model_module_version": "1.5.0",
     "model_name": "HTMLModel",
     "state": {
      "_dom_classes": [],
      "_model_module": "@jupyter-widgets/controls",
      "_model_module_version": "1.5.0",
      "_model_name": "HTMLModel",
      "_view_count": null,
      "_view_module": "@jupyter-widgets/controls",
      "_view_module_version": "1.5.0",
      "_view_name": "HTMLView",
      "description": "",
      "description_tooltip": null,
      "layout": "IPY_MODEL_c8fce0d2ea164f4489364cfe6eccbdab",
      "placeholder": "​",
      "style": "IPY_MODEL_2396ce11f45546c3b5266f42536218a6",
      "value": "Validation DataLoader 0: 100%"
     }
    },
    "0b609d01881248e5a716fb1ebeb66bb2": {
     "model_module": "@jupyter-widgets/base",
     "model_module_version": "1.2.0",
     "model_name": "LayoutModel",
     "state": {
      "_model_module": "@jupyter-widgets/base",
      "_model_module_version": "1.2.0",
      "_model_name": "LayoutModel",
      "_view_count": null,
      "_view_module": "@jupyter-widgets/base",
      "_view_module_version": "1.2.0",
      "_view_name": "LayoutView",
      "align_content": null,
      "align_items": null,
      "align_self": null,
      "border": null,
      "bottom": null,
      "display": "inline-flex",
      "flex": null,
      "flex_flow": "row wrap",
      "grid_area": null,
      "grid_auto_columns": null,
      "grid_auto_flow": null,
      "grid_auto_rows": null,
      "grid_column": null,
      "grid_gap": null,
      "grid_row": null,
      "grid_template_areas": null,
      "grid_template_columns": null,
      "grid_template_rows": null,
      "height": null,
      "justify_content": null,
      "justify_items": null,
      "left": null,
      "margin": null,
      "max_height": null,
      "max_width": null,
      "min_height": null,
      "min_width": null,
      "object_fit": null,
      "object_position": null,
      "order": null,
      "overflow": null,
      "overflow_x": null,
      "overflow_y": null,
      "padding": null,
      "right": null,
      "top": null,
      "visibility": "hidden",
      "width": "100%"
     }
    },
    "0b8212def8d5439f91ff11cd4e063521": {
     "model_module": "@jupyter-widgets/base",
     "model_module_version": "1.2.0",
     "model_name": "LayoutModel",
     "state": {
      "_model_module": "@jupyter-widgets/base",
      "_model_module_version": "1.2.0",
      "_model_name": "LayoutModel",
      "_view_count": null,
      "_view_module": "@jupyter-widgets/base",
      "_view_module_version": "1.2.0",
      "_view_name": "LayoutView",
      "align_content": null,
      "align_items": null,
      "align_self": null,
      "border": null,
      "bottom": null,
      "display": null,
      "flex": null,
      "flex_flow": null,
      "grid_area": null,
      "grid_auto_columns": null,
      "grid_auto_flow": null,
      "grid_auto_rows": null,
      "grid_column": null,
      "grid_gap": null,
      "grid_row": null,
      "grid_template_areas": null,
      "grid_template_columns": null,
      "grid_template_rows": null,
      "height": null,
      "justify_content": null,
      "justify_items": null,
      "left": null,
      "margin": null,
      "max_height": null,
      "max_width": null,
      "min_height": null,
      "min_width": null,
      "object_fit": null,
      "object_position": null,
      "order": null,
      "overflow": null,
      "overflow_x": null,
      "overflow_y": null,
      "padding": null,
      "right": null,
      "top": null,
      "visibility": null,
      "width": null
     }
    },
    "0bf422696c7749e3936af5d7c80391d4": {
     "model_module": "@jupyter-widgets/base",
     "model_module_version": "1.2.0",
     "model_name": "LayoutModel",
     "state": {
      "_model_module": "@jupyter-widgets/base",
      "_model_module_version": "1.2.0",
      "_model_name": "LayoutModel",
      "_view_count": null,
      "_view_module": "@jupyter-widgets/base",
      "_view_module_version": "1.2.0",
      "_view_name": "LayoutView",
      "align_content": null,
      "align_items": null,
      "align_self": null,
      "border": null,
      "bottom": null,
      "display": null,
      "flex": null,
      "flex_flow": null,
      "grid_area": null,
      "grid_auto_columns": null,
      "grid_auto_flow": null,
      "grid_auto_rows": null,
      "grid_column": null,
      "grid_gap": null,
      "grid_row": null,
      "grid_template_areas": null,
      "grid_template_columns": null,
      "grid_template_rows": null,
      "height": null,
      "justify_content": null,
      "justify_items": null,
      "left": null,
      "margin": null,
      "max_height": null,
      "max_width": null,
      "min_height": null,
      "min_width": null,
      "object_fit": null,
      "object_position": null,
      "order": null,
      "overflow": null,
      "overflow_x": null,
      "overflow_y": null,
      "padding": null,
      "right": null,
      "top": null,
      "visibility": null,
      "width": null
     }
    },
    "0c18ad7b0c9c4027aaaa28cc3ac5f485": {
     "model_module": "@jupyter-widgets/base",
     "model_module_version": "1.2.0",
     "model_name": "LayoutModel",
     "state": {
      "_model_module": "@jupyter-widgets/base",
      "_model_module_version": "1.2.0",
      "_model_name": "LayoutModel",
      "_view_count": null,
      "_view_module": "@jupyter-widgets/base",
      "_view_module_version": "1.2.0",
      "_view_name": "LayoutView",
      "align_content": null,
      "align_items": null,
      "align_self": null,
      "border": null,
      "bottom": null,
      "display": "inline-flex",
      "flex": null,
      "flex_flow": "row wrap",
      "grid_area": null,
      "grid_auto_columns": null,
      "grid_auto_flow": null,
      "grid_auto_rows": null,
      "grid_column": null,
      "grid_gap": null,
      "grid_row": null,
      "grid_template_areas": null,
      "grid_template_columns": null,
      "grid_template_rows": null,
      "height": null,
      "justify_content": null,
      "justify_items": null,
      "left": null,
      "margin": null,
      "max_height": null,
      "max_width": null,
      "min_height": null,
      "min_width": null,
      "object_fit": null,
      "object_position": null,
      "order": null,
      "overflow": null,
      "overflow_x": null,
      "overflow_y": null,
      "padding": null,
      "right": null,
      "top": null,
      "visibility": "hidden",
      "width": "100%"
     }
    },
    "0c32b23f28694408af4783fa173045bf": {
     "model_module": "@jupyter-widgets/base",
     "model_module_version": "1.2.0",
     "model_name": "LayoutModel",
     "state": {
      "_model_module": "@jupyter-widgets/base",
      "_model_module_version": "1.2.0",
      "_model_name": "LayoutModel",
      "_view_count": null,
      "_view_module": "@jupyter-widgets/base",
      "_view_module_version": "1.2.0",
      "_view_name": "LayoutView",
      "align_content": null,
      "align_items": null,
      "align_self": null,
      "border": null,
      "bottom": null,
      "display": null,
      "flex": null,
      "flex_flow": null,
      "grid_area": null,
      "grid_auto_columns": null,
      "grid_auto_flow": null,
      "grid_auto_rows": null,
      "grid_column": null,
      "grid_gap": null,
      "grid_row": null,
      "grid_template_areas": null,
      "grid_template_columns": null,
      "grid_template_rows": null,
      "height": null,
      "justify_content": null,
      "justify_items": null,
      "left": null,
      "margin": null,
      "max_height": null,
      "max_width": null,
      "min_height": null,
      "min_width": null,
      "object_fit": null,
      "object_position": null,
      "order": null,
      "overflow": null,
      "overflow_x": null,
      "overflow_y": null,
      "padding": null,
      "right": null,
      "top": null,
      "visibility": null,
      "width": null
     }
    },
    "0c4ac60c42ea4fdcb7b18df286ff924d": {
     "model_module": "@jupyter-widgets/controls",
     "model_module_version": "1.5.0",
     "model_name": "HTMLModel",
     "state": {
      "_dom_classes": [],
      "_model_module": "@jupyter-widgets/controls",
      "_model_module_version": "1.5.0",
      "_model_name": "HTMLModel",
      "_view_count": null,
      "_view_module": "@jupyter-widgets/controls",
      "_view_module_version": "1.5.0",
      "_view_name": "HTMLView",
      "description": "",
      "description_tooltip": null,
      "layout": "IPY_MODEL_9c58f53da6ff4f54ac926dd8689c70ea",
      "placeholder": "​",
      "style": "IPY_MODEL_27295385e2b34b77844a98c05e4d8c37",
      "value": "Validation DataLoader 0: 100%"
     }
    },
    "0d484fa1b9674d40ac601d1456f36c43": {
     "model_module": "@jupyter-widgets/controls",
     "model_module_version": "1.5.0",
     "model_name": "FloatProgressModel",
     "state": {
      "_dom_classes": [],
      "_model_module": "@jupyter-widgets/controls",
      "_model_module_version": "1.5.0",
      "_model_name": "FloatProgressModel",
      "_view_count": null,
      "_view_module": "@jupyter-widgets/controls",
      "_view_module_version": "1.5.0",
      "_view_name": "ProgressView",
      "bar_style": "",
      "description": "",
      "description_tooltip": null,
      "layout": "IPY_MODEL_5973b91452c5418aa8de813354eefac8",
      "max": 5,
      "min": 0,
      "orientation": "horizontal",
      "style": "IPY_MODEL_3b7d2de2abf04e41b30e534fc4412ca4",
      "value": 5
     }
    },
    "0d69fdba92144c698aed1dca10ca08b5": {
     "model_module": "@jupyter-widgets/controls",
     "model_module_version": "1.5.0",
     "model_name": "ProgressStyleModel",
     "state": {
      "_model_module": "@jupyter-widgets/controls",
      "_model_module_version": "1.5.0",
      "_model_name": "ProgressStyleModel",
      "_view_count": null,
      "_view_module": "@jupyter-widgets/base",
      "_view_module_version": "1.2.0",
      "_view_name": "StyleView",
      "bar_color": null,
      "description_width": ""
     }
    },
    "0de62ef4c4954cceb3e1830289abc7d3": {
     "model_module": "@jupyter-widgets/base",
     "model_module_version": "1.2.0",
     "model_name": "LayoutModel",
     "state": {
      "_model_module": "@jupyter-widgets/base",
      "_model_module_version": "1.2.0",
      "_model_name": "LayoutModel",
      "_view_count": null,
      "_view_module": "@jupyter-widgets/base",
      "_view_module_version": "1.2.0",
      "_view_name": "LayoutView",
      "align_content": null,
      "align_items": null,
      "align_self": null,
      "border": null,
      "bottom": null,
      "display": null,
      "flex": "2",
      "flex_flow": null,
      "grid_area": null,
      "grid_auto_columns": null,
      "grid_auto_flow": null,
      "grid_auto_rows": null,
      "grid_column": null,
      "grid_gap": null,
      "grid_row": null,
      "grid_template_areas": null,
      "grid_template_columns": null,
      "grid_template_rows": null,
      "height": null,
      "justify_content": null,
      "justify_items": null,
      "left": null,
      "margin": null,
      "max_height": null,
      "max_width": null,
      "min_height": null,
      "min_width": null,
      "object_fit": null,
      "object_position": null,
      "order": null,
      "overflow": null,
      "overflow_x": null,
      "overflow_y": null,
      "padding": null,
      "right": null,
      "top": null,
      "visibility": null,
      "width": null
     }
    },
    "0ed40799f744427c9dd4bee3ef5e9c20": {
     "model_module": "@jupyter-widgets/controls",
     "model_module_version": "1.5.0",
     "model_name": "HTMLModel",
     "state": {
      "_dom_classes": [],
      "_model_module": "@jupyter-widgets/controls",
      "_model_module_version": "1.5.0",
      "_model_name": "HTMLModel",
      "_view_count": null,
      "_view_module": "@jupyter-widgets/controls",
      "_view_module_version": "1.5.0",
      "_view_name": "HTMLView",
      "description": "",
      "description_tooltip": null,
      "layout": "IPY_MODEL_0c32b23f28694408af4783fa173045bf",
      "placeholder": "​",
      "style": "IPY_MODEL_3e079da9e954457687bae442ff5d1034",
      "value": " 5/5 [00:01&lt;00:00,  4.04it/s]"
     }
    },
    "0f44254a8f54452ea7dd816f4114ad3d": {
     "model_module": "@jupyter-widgets/controls",
     "model_module_version": "1.5.0",
     "model_name": "ProgressStyleModel",
     "state": {
      "_model_module": "@jupyter-widgets/controls",
      "_model_module_version": "1.5.0",
      "_model_name": "ProgressStyleModel",
      "_view_count": null,
      "_view_module": "@jupyter-widgets/base",
      "_view_module_version": "1.2.0",
      "_view_name": "StyleView",
      "bar_color": null,
      "description_width": ""
     }
    },
    "0f9cc4f5e33c49f8b8d41d3b1465fa14": {
     "model_module": "@jupyter-widgets/controls",
     "model_module_version": "1.5.0",
     "model_name": "HBoxModel",
     "state": {
      "_dom_classes": [],
      "_model_module": "@jupyter-widgets/controls",
      "_model_module_version": "1.5.0",
      "_model_name": "HBoxModel",
      "_view_count": null,
      "_view_module": "@jupyter-widgets/controls",
      "_view_module_version": "1.5.0",
      "_view_name": "HBoxView",
      "box_style": "",
      "children": [
       "IPY_MODEL_0c4ac60c42ea4fdcb7b18df286ff924d",
       "IPY_MODEL_56cd3bd243864e459dba83a9d6214ab8",
       "IPY_MODEL_705336f7fd584aa6a3df900e4029934f"
      ],
      "layout": "IPY_MODEL_7d46ef0c5a76417fbec2b29bba3fa631"
     }
    },
    "0fbc9ba286f44f6facb2ebc36801416e": {
     "model_module": "@jupyter-widgets/base",
     "model_module_version": "1.2.0",
     "model_name": "LayoutModel",
     "state": {
      "_model_module": "@jupyter-widgets/base",
      "_model_module_version": "1.2.0",
      "_model_name": "LayoutModel",
      "_view_count": null,
      "_view_module": "@jupyter-widgets/base",
      "_view_module_version": "1.2.0",
      "_view_name": "LayoutView",
      "align_content": null,
      "align_items": null,
      "align_self": null,
      "border": null,
      "bottom": null,
      "display": "inline-flex",
      "flex": null,
      "flex_flow": "row wrap",
      "grid_area": null,
      "grid_auto_columns": null,
      "grid_auto_flow": null,
      "grid_auto_rows": null,
      "grid_column": null,
      "grid_gap": null,
      "grid_row": null,
      "grid_template_areas": null,
      "grid_template_columns": null,
      "grid_template_rows": null,
      "height": null,
      "justify_content": null,
      "justify_items": null,
      "left": null,
      "margin": null,
      "max_height": null,
      "max_width": null,
      "min_height": null,
      "min_width": null,
      "object_fit": null,
      "object_position": null,
      "order": null,
      "overflow": null,
      "overflow_x": null,
      "overflow_y": null,
      "padding": null,
      "right": null,
      "top": null,
      "visibility": "hidden",
      "width": "100%"
     }
    },
    "105f11418ff94cfda81a9cc08e1f6b94": {
     "model_module": "@jupyter-widgets/controls",
     "model_module_version": "1.5.0",
     "model_name": "HTMLModel",
     "state": {
      "_dom_classes": [],
      "_model_module": "@jupyter-widgets/controls",
      "_model_module_version": "1.5.0",
      "_model_name": "HTMLModel",
      "_view_count": null,
      "_view_module": "@jupyter-widgets/controls",
      "_view_module_version": "1.5.0",
      "_view_name": "HTMLView",
      "description": "",
      "description_tooltip": null,
      "layout": "IPY_MODEL_97ee019aabc14c46aff31793386da94a",
      "placeholder": "​",
      "style": "IPY_MODEL_7339266c19ef4dbf97479a72d9c3faf5",
      "value": "Validation DataLoader 0: 100%"
     }
    },
    "10b919d8fd3f4b1b85e922301711ce14": {
     "model_module": "@jupyter-widgets/base",
     "model_module_version": "1.2.0",
     "model_name": "LayoutModel",
     "state": {
      "_model_module": "@jupyter-widgets/base",
      "_model_module_version": "1.2.0",
      "_model_name": "LayoutModel",
      "_view_count": null,
      "_view_module": "@jupyter-widgets/base",
      "_view_module_version": "1.2.0",
      "_view_name": "LayoutView",
      "align_content": null,
      "align_items": null,
      "align_self": null,
      "border": null,
      "bottom": null,
      "display": "inline-flex",
      "flex": null,
      "flex_flow": "row wrap",
      "grid_area": null,
      "grid_auto_columns": null,
      "grid_auto_flow": null,
      "grid_auto_rows": null,
      "grid_column": null,
      "grid_gap": null,
      "grid_row": null,
      "grid_template_areas": null,
      "grid_template_columns": null,
      "grid_template_rows": null,
      "height": null,
      "justify_content": null,
      "justify_items": null,
      "left": null,
      "margin": null,
      "max_height": null,
      "max_width": null,
      "min_height": null,
      "min_width": null,
      "object_fit": null,
      "object_position": null,
      "order": null,
      "overflow": null,
      "overflow_x": null,
      "overflow_y": null,
      "padding": null,
      "right": null,
      "top": null,
      "visibility": "hidden",
      "width": "100%"
     }
    },
    "11023a329fd04648b20e2d74bd6494a0": {
     "model_module": "@jupyter-widgets/controls",
     "model_module_version": "1.5.0",
     "model_name": "HTMLModel",
     "state": {
      "_dom_classes": [],
      "_model_module": "@jupyter-widgets/controls",
      "_model_module_version": "1.5.0",
      "_model_name": "HTMLModel",
      "_view_count": null,
      "_view_module": "@jupyter-widgets/controls",
      "_view_module_version": "1.5.0",
      "_view_name": "HTMLView",
      "description": "",
      "description_tooltip": null,
      "layout": "IPY_MODEL_f300f0b26c164085a4f08ac676b7733d",
      "placeholder": "​",
      "style": "IPY_MODEL_63025e6b35f74b60a142fb50355d1755",
      "value": " 0/49 [00:00&lt;?, ?it/s, loss=1.84, v_num=None, clean_train_acc_step=0.293, clean_train_loss_step=1.850, clean_val_acc=0.453, clean_val_loss=1.540, clean_train_acc_epoch=0.305, clean_train_loss_epoch=1.840]"
     }
    },
    "11a9154c1d25432d96a56d3592d279b6": {
     "model_module": "@jupyter-widgets/controls",
     "model_module_version": "1.5.0",
     "model_name": "DescriptionStyleModel",
     "state": {
      "_model_module": "@jupyter-widgets/controls",
      "_model_module_version": "1.5.0",
      "_model_name": "DescriptionStyleModel",
      "_view_count": null,
      "_view_module": "@jupyter-widgets/base",
      "_view_module_version": "1.2.0",
      "_view_name": "StyleView",
      "description_width": ""
     }
    },
    "136f167903664cc1a305d6152567b3db": {
     "model_module": "@jupyter-widgets/base",
     "model_module_version": "1.2.0",
     "model_name": "LayoutModel",
     "state": {
      "_model_module": "@jupyter-widgets/base",
      "_model_module_version": "1.2.0",
      "_model_name": "LayoutModel",
      "_view_count": null,
      "_view_module": "@jupyter-widgets/base",
      "_view_module_version": "1.2.0",
      "_view_name": "LayoutView",
      "align_content": null,
      "align_items": null,
      "align_self": null,
      "border": null,
      "bottom": null,
      "display": null,
      "flex": null,
      "flex_flow": null,
      "grid_area": null,
      "grid_auto_columns": null,
      "grid_auto_flow": null,
      "grid_auto_rows": null,
      "grid_column": null,
      "grid_gap": null,
      "grid_row": null,
      "grid_template_areas": null,
      "grid_template_columns": null,
      "grid_template_rows": null,
      "height": null,
      "justify_content": null,
      "justify_items": null,
      "left": null,
      "margin": null,
      "max_height": null,
      "max_width": null,
      "min_height": null,
      "min_width": null,
      "object_fit": null,
      "object_position": null,
      "order": null,
      "overflow": null,
      "overflow_x": null,
      "overflow_y": null,
      "padding": null,
      "right": null,
      "top": null,
      "visibility": null,
      "width": null
     }
    },
    "139fd700e5dc40e88b8ba521c05d036c": {
     "model_module": "@jupyter-widgets/controls",
     "model_module_version": "1.5.0",
     "model_name": "HBoxModel",
     "state": {
      "_dom_classes": [],
      "_model_module": "@jupyter-widgets/controls",
      "_model_module_version": "1.5.0",
      "_model_name": "HBoxModel",
      "_view_count": null,
      "_view_module": "@jupyter-widgets/controls",
      "_view_module_version": "1.5.0",
      "_view_name": "HBoxView",
      "box_style": "",
      "children": [
       "IPY_MODEL_efb25c55e9264aa9abcfe476a1590df1",
       "IPY_MODEL_9c6e2a4202f84e92aceb77c3aea142bc",
       "IPY_MODEL_43b96daf9dfa4299b6497fac08963fc2"
      ],
      "layout": "IPY_MODEL_586038ca3d9d403e869452e5cf0bc9f7"
     }
    },
    "142bd771699f40ce82e76a71f0031e21": {
     "model_module": "@jupyter-widgets/base",
     "model_module_version": "1.2.0",
     "model_name": "LayoutModel",
     "state": {
      "_model_module": "@jupyter-widgets/base",
      "_model_module_version": "1.2.0",
      "_model_name": "LayoutModel",
      "_view_count": null,
      "_view_module": "@jupyter-widgets/base",
      "_view_module_version": "1.2.0",
      "_view_name": "LayoutView",
      "align_content": null,
      "align_items": null,
      "align_self": null,
      "border": null,
      "bottom": null,
      "display": "inline-flex",
      "flex": null,
      "flex_flow": "row wrap",
      "grid_area": null,
      "grid_auto_columns": null,
      "grid_auto_flow": null,
      "grid_auto_rows": null,
      "grid_column": null,
      "grid_gap": null,
      "grid_row": null,
      "grid_template_areas": null,
      "grid_template_columns": null,
      "grid_template_rows": null,
      "height": null,
      "justify_content": null,
      "justify_items": null,
      "left": null,
      "margin": null,
      "max_height": null,
      "max_width": null,
      "min_height": null,
      "min_width": null,
      "object_fit": null,
      "object_position": null,
      "order": null,
      "overflow": null,
      "overflow_x": null,
      "overflow_y": null,
      "padding": null,
      "right": null,
      "top": null,
      "visibility": "hidden",
      "width": "100%"
     }
    },
    "15d539ce0ead4c5d8b25af072575f878": {
     "model_module": "@jupyter-widgets/controls",
     "model_module_version": "1.5.0",
     "model_name": "ProgressStyleModel",
     "state": {
      "_model_module": "@jupyter-widgets/controls",
      "_model_module_version": "1.5.0",
      "_model_name": "ProgressStyleModel",
      "_view_count": null,
      "_view_module": "@jupyter-widgets/base",
      "_view_module_version": "1.2.0",
      "_view_name": "StyleView",
      "bar_color": null,
      "description_width": ""
     }
    },
    "160b0054af4441e786f83c7fd1f72908": {
     "model_module": "@jupyter-widgets/base",
     "model_module_version": "1.2.0",
     "model_name": "LayoutModel",
     "state": {
      "_model_module": "@jupyter-widgets/base",
      "_model_module_version": "1.2.0",
      "_model_name": "LayoutModel",
      "_view_count": null,
      "_view_module": "@jupyter-widgets/base",
      "_view_module_version": "1.2.0",
      "_view_name": "LayoutView",
      "align_content": null,
      "align_items": null,
      "align_self": null,
      "border": null,
      "bottom": null,
      "display": null,
      "flex": null,
      "flex_flow": null,
      "grid_area": null,
      "grid_auto_columns": null,
      "grid_auto_flow": null,
      "grid_auto_rows": null,
      "grid_column": null,
      "grid_gap": null,
      "grid_row": null,
      "grid_template_areas": null,
      "grid_template_columns": null,
      "grid_template_rows": null,
      "height": null,
      "justify_content": null,
      "justify_items": null,
      "left": null,
      "margin": null,
      "max_height": null,
      "max_width": null,
      "min_height": null,
      "min_width": null,
      "object_fit": null,
      "object_position": null,
      "order": null,
      "overflow": null,
      "overflow_x": null,
      "overflow_y": null,
      "padding": null,
      "right": null,
      "top": null,
      "visibility": null,
      "width": null
     }
    },
    "181090bd44064a4194903ac1f91ebde5": {
     "model_module": "@jupyter-widgets/controls",
     "model_module_version": "1.5.0",
     "model_name": "HTMLModel",
     "state": {
      "_dom_classes": [],
      "_model_module": "@jupyter-widgets/controls",
      "_model_module_version": "1.5.0",
      "_model_name": "HTMLModel",
      "_view_count": null,
      "_view_module": "@jupyter-widgets/controls",
      "_view_module_version": "1.5.0",
      "_view_name": "HTMLView",
      "description": "",
      "description_tooltip": null,
      "layout": "IPY_MODEL_8cb77b0f6d6944dfad76c65bbe29cd9c",
      "placeholder": "​",
      "style": "IPY_MODEL_e76f11b3e7ea4ec0b48e418ce5f18521",
      "value": "Validation DataLoader 0: 100%"
     }
    },
    "18515b3ea04f474abc1786a7481d2c06": {
     "model_module": "@jupyter-widgets/base",
     "model_module_version": "1.2.0",
     "model_name": "LayoutModel",
     "state": {
      "_model_module": "@jupyter-widgets/base",
      "_model_module_version": "1.2.0",
      "_model_name": "LayoutModel",
      "_view_count": null,
      "_view_module": "@jupyter-widgets/base",
      "_view_module_version": "1.2.0",
      "_view_name": "LayoutView",
      "align_content": null,
      "align_items": null,
      "align_self": null,
      "border": null,
      "bottom": null,
      "display": null,
      "flex": null,
      "flex_flow": null,
      "grid_area": null,
      "grid_auto_columns": null,
      "grid_auto_flow": null,
      "grid_auto_rows": null,
      "grid_column": null,
      "grid_gap": null,
      "grid_row": null,
      "grid_template_areas": null,
      "grid_template_columns": null,
      "grid_template_rows": null,
      "height": null,
      "justify_content": null,
      "justify_items": null,
      "left": null,
      "margin": null,
      "max_height": null,
      "max_width": null,
      "min_height": null,
      "min_width": null,
      "object_fit": null,
      "object_position": null,
      "order": null,
      "overflow": null,
      "overflow_x": null,
      "overflow_y": null,
      "padding": null,
      "right": null,
      "top": null,
      "visibility": null,
      "width": null
     }
    },
    "188df5f6e2ee4fedade20644d903b55f": {
     "model_module": "@jupyter-widgets/controls",
     "model_module_version": "1.5.0",
     "model_name": "DescriptionStyleModel",
     "state": {
      "_model_module": "@jupyter-widgets/controls",
      "_model_module_version": "1.5.0",
      "_model_name": "DescriptionStyleModel",
      "_view_count": null,
      "_view_module": "@jupyter-widgets/base",
      "_view_module_version": "1.2.0",
      "_view_name": "StyleView",
      "description_width": ""
     }
    },
    "1a2f585628f7451198dc18b9bde7c65d": {
     "model_module": "@jupyter-widgets/controls",
     "model_module_version": "1.5.0",
     "model_name": "ProgressStyleModel",
     "state": {
      "_model_module": "@jupyter-widgets/controls",
      "_model_module_version": "1.5.0",
      "_model_name": "ProgressStyleModel",
      "_view_count": null,
      "_view_module": "@jupyter-widgets/base",
      "_view_module_version": "1.2.0",
      "_view_name": "StyleView",
      "bar_color": null,
      "description_width": ""
     }
    },
    "1ab2ca7ae26c4448b8bf7721730f28b3": {
     "model_module": "@jupyter-widgets/base",
     "model_module_version": "1.2.0",
     "model_name": "LayoutModel",
     "state": {
      "_model_module": "@jupyter-widgets/base",
      "_model_module_version": "1.2.0",
      "_model_name": "LayoutModel",
      "_view_count": null,
      "_view_module": "@jupyter-widgets/base",
      "_view_module_version": "1.2.0",
      "_view_name": "LayoutView",
      "align_content": null,
      "align_items": null,
      "align_self": null,
      "border": null,
      "bottom": null,
      "display": null,
      "flex": null,
      "flex_flow": null,
      "grid_area": null,
      "grid_auto_columns": null,
      "grid_auto_flow": null,
      "grid_auto_rows": null,
      "grid_column": null,
      "grid_gap": null,
      "grid_row": null,
      "grid_template_areas": null,
      "grid_template_columns": null,
      "grid_template_rows": null,
      "height": null,
      "justify_content": null,
      "justify_items": null,
      "left": null,
      "margin": null,
      "max_height": null,
      "max_width": null,
      "min_height": null,
      "min_width": null,
      "object_fit": null,
      "object_position": null,
      "order": null,
      "overflow": null,
      "overflow_x": null,
      "overflow_y": null,
      "padding": null,
      "right": null,
      "top": null,
      "visibility": null,
      "width": null
     }
    },
    "1b2dc79d7d894e70b50fccd09f470324": {
     "model_module": "@jupyter-widgets/base",
     "model_module_version": "1.2.0",
     "model_name": "LayoutModel",
     "state": {
      "_model_module": "@jupyter-widgets/base",
      "_model_module_version": "1.2.0",
      "_model_name": "LayoutModel",
      "_view_count": null,
      "_view_module": "@jupyter-widgets/base",
      "_view_module_version": "1.2.0",
      "_view_name": "LayoutView",
      "align_content": null,
      "align_items": null,
      "align_self": null,
      "border": null,
      "bottom": null,
      "display": null,
      "flex": null,
      "flex_flow": null,
      "grid_area": null,
      "grid_auto_columns": null,
      "grid_auto_flow": null,
      "grid_auto_rows": null,
      "grid_column": null,
      "grid_gap": null,
      "grid_row": null,
      "grid_template_areas": null,
      "grid_template_columns": null,
      "grid_template_rows": null,
      "height": null,
      "justify_content": null,
      "justify_items": null,
      "left": null,
      "margin": null,
      "max_height": null,
      "max_width": null,
      "min_height": null,
      "min_width": null,
      "object_fit": null,
      "object_position": null,
      "order": null,
      "overflow": null,
      "overflow_x": null,
      "overflow_y": null,
      "padding": null,
      "right": null,
      "top": null,
      "visibility": null,
      "width": null
     }
    },
    "1d239b20a2e64e448520dbfd5d74b9de": {
     "model_module": "@jupyter-widgets/controls",
     "model_module_version": "1.5.0",
     "model_name": "ProgressStyleModel",
     "state": {
      "_model_module": "@jupyter-widgets/controls",
      "_model_module_version": "1.5.0",
      "_model_name": "ProgressStyleModel",
      "_view_count": null,
      "_view_module": "@jupyter-widgets/base",
      "_view_module_version": "1.2.0",
      "_view_name": "StyleView",
      "bar_color": null,
      "description_width": ""
     }
    },
    "1d44bb29153c4bec8f9c62935e248f8c": {
     "model_module": "@jupyter-widgets/controls",
     "model_module_version": "1.5.0",
     "model_name": "HBoxModel",
     "state": {
      "_dom_classes": [],
      "_model_module": "@jupyter-widgets/controls",
      "_model_module_version": "1.5.0",
      "_model_name": "HBoxModel",
      "_view_count": null,
      "_view_module": "@jupyter-widgets/controls",
      "_view_module_version": "1.5.0",
      "_view_name": "HBoxView",
      "box_style": "",
      "children": [
       "IPY_MODEL_9d8fa59c84cf4673accf7e69b22618a2",
       "IPY_MODEL_2f7104dc1f2f4ac092ce798bc7037f14",
       "IPY_MODEL_c40e792f6d984b1faf64d5f7b8ce9867"
      ],
      "layout": "IPY_MODEL_fae811e58a094e0d97a7117eca6e9ef9"
     }
    },
    "1d59c2bcb89b4af38e49e4d85723f4ac": {
     "model_module": "@jupyter-widgets/controls",
     "model_module_version": "1.5.0",
     "model_name": "DescriptionStyleModel",
     "state": {
      "_model_module": "@jupyter-widgets/controls",
      "_model_module_version": "1.5.0",
      "_model_name": "DescriptionStyleModel",
      "_view_count": null,
      "_view_module": "@jupyter-widgets/base",
      "_view_module_version": "1.2.0",
      "_view_name": "StyleView",
      "description_width": ""
     }
    },
    "1d5d2a96e2a34e38a2fa3783a9a7a293": {
     "model_module": "@jupyter-widgets/controls",
     "model_module_version": "1.5.0",
     "model_name": "HTMLModel",
     "state": {
      "_dom_classes": [],
      "_model_module": "@jupyter-widgets/controls",
      "_model_module_version": "1.5.0",
      "_model_name": "HTMLModel",
      "_view_count": null,
      "_view_module": "@jupyter-widgets/controls",
      "_view_module_version": "1.5.0",
      "_view_name": "HTMLView",
      "description": "",
      "description_tooltip": null,
      "layout": "IPY_MODEL_e6ca10a80e0847f9a9d2492a661549be",
      "placeholder": "​",
      "style": "IPY_MODEL_11a9154c1d25432d96a56d3592d279b6",
      "value": "Validation DataLoader 0: 100%"
     }
    },
    "1d63d9388c5f441f9b91df610afe13d9": {
     "model_module": "@jupyter-widgets/controls",
     "model_module_version": "1.5.0",
     "model_name": "DescriptionStyleModel",
     "state": {
      "_model_module": "@jupyter-widgets/controls",
      "_model_module_version": "1.5.0",
      "_model_name": "DescriptionStyleModel",
      "_view_count": null,
      "_view_module": "@jupyter-widgets/base",
      "_view_module_version": "1.2.0",
      "_view_name": "StyleView",
      "description_width": ""
     }
    },
    "1e4958b407e947c0ae64c0e18a92cb9f": {
     "model_module": "@jupyter-widgets/controls",
     "model_module_version": "1.5.0",
     "model_name": "FloatProgressModel",
     "state": {
      "_dom_classes": [],
      "_model_module": "@jupyter-widgets/controls",
      "_model_module_version": "1.5.0",
      "_model_name": "FloatProgressModel",
      "_view_count": null,
      "_view_module": "@jupyter-widgets/controls",
      "_view_module_version": "1.5.0",
      "_view_name": "ProgressView",
      "bar_style": "",
      "description": "",
      "description_tooltip": null,
      "layout": "IPY_MODEL_410cd921f20a4ebf82b094319b849103",
      "max": 5,
      "min": 0,
      "orientation": "horizontal",
      "style": "IPY_MODEL_97dea354c886408496cba61f679046c2",
      "value": 5
     }
    },
    "1e93f3363ea446a7b7beb06f622da049": {
     "model_module": "@jupyter-widgets/base",
     "model_module_version": "1.2.0",
     "model_name": "LayoutModel",
     "state": {
      "_model_module": "@jupyter-widgets/base",
      "_model_module_version": "1.2.0",
      "_model_name": "LayoutModel",
      "_view_count": null,
      "_view_module": "@jupyter-widgets/base",
      "_view_module_version": "1.2.0",
      "_view_name": "LayoutView",
      "align_content": null,
      "align_items": null,
      "align_self": null,
      "border": null,
      "bottom": null,
      "display": null,
      "flex": "2",
      "flex_flow": null,
      "grid_area": null,
      "grid_auto_columns": null,
      "grid_auto_flow": null,
      "grid_auto_rows": null,
      "grid_column": null,
      "grid_gap": null,
      "grid_row": null,
      "grid_template_areas": null,
      "grid_template_columns": null,
      "grid_template_rows": null,
      "height": null,
      "justify_content": null,
      "justify_items": null,
      "left": null,
      "margin": null,
      "max_height": null,
      "max_width": null,
      "min_height": null,
      "min_width": null,
      "object_fit": null,
      "object_position": null,
      "order": null,
      "overflow": null,
      "overflow_x": null,
      "overflow_y": null,
      "padding": null,
      "right": null,
      "top": null,
      "visibility": null,
      "width": null
     }
    },
    "1fd8a23bc21c4e68b8ba7863b393d8ce": {
     "model_module": "@jupyter-widgets/controls",
     "model_module_version": "1.5.0",
     "model_name": "HTMLModel",
     "state": {
      "_dom_classes": [],
      "_model_module": "@jupyter-widgets/controls",
      "_model_module_version": "1.5.0",
      "_model_name": "HTMLModel",
      "_view_count": null,
      "_view_module": "@jupyter-widgets/controls",
      "_view_module_version": "1.5.0",
      "_view_name": "HTMLView",
      "description": "",
      "description_tooltip": null,
      "layout": "IPY_MODEL_4a47fb4e036d42dea8723210038f5eea",
      "placeholder": "​",
      "style": "IPY_MODEL_f2acb4589d4840e8ba71664e09591848",
      "value": "Validation DataLoader 0: 100%"
     }
    },
    "1fe29e4fbbbe4d839f6ed1f1a92ffd7e": {
     "model_module": "@jupyter-widgets/controls",
     "model_module_version": "1.5.0",
     "model_name": "HTMLModel",
     "state": {
      "_dom_classes": [],
      "_model_module": "@jupyter-widgets/controls",
      "_model_module_version": "1.5.0",
      "_model_name": "HTMLModel",
      "_view_count": null,
      "_view_module": "@jupyter-widgets/controls",
      "_view_module_version": "1.5.0",
      "_view_name": "HTMLView",
      "description": "",
      "description_tooltip": null,
      "layout": "IPY_MODEL_68b259acfdac4dd89d68e000c80d396a",
      "placeholder": "​",
      "style": "IPY_MODEL_9785b7feb6704d3e8cc948ab27ac5bbd",
      "value": " 5/5 [00:01&lt;00:00,  4.00it/s]"
     }
    },
    "2161d6e0489c4c80a968935ef6b9ddaf": {
     "model_module": "@jupyter-widgets/controls",
     "model_module_version": "1.5.0",
     "model_name": "HTMLModel",
     "state": {
      "_dom_classes": [],
      "_model_module": "@jupyter-widgets/controls",
      "_model_module_version": "1.5.0",
      "_model_name": "HTMLModel",
      "_view_count": null,
      "_view_module": "@jupyter-widgets/controls",
      "_view_module_version": "1.5.0",
      "_view_name": "HTMLView",
      "description": "",
      "description_tooltip": null,
      "layout": "IPY_MODEL_c571891a213244fca42e501fe02f1436",
      "placeholder": "​",
      "style": "IPY_MODEL_5f1c39cff1364af28459fb3cf9c00db5",
      "value": " 5/5 [00:01&lt;00:00,  3.99it/s]"
     }
    },
    "21942ec409ba40ff91141a24a880ac12": {
     "model_module": "@jupyter-widgets/controls",
     "model_module_version": "1.5.0",
     "model_name": "DescriptionStyleModel",
     "state": {
      "_model_module": "@jupyter-widgets/controls",
      "_model_module_version": "1.5.0",
      "_model_name": "DescriptionStyleModel",
      "_view_count": null,
      "_view_module": "@jupyter-widgets/base",
      "_view_module_version": "1.2.0",
      "_view_name": "StyleView",
      "description_width": ""
     }
    },
    "21954171ea5a4a168f0caede02d5fff6": {
     "model_module": "@jupyter-widgets/base",
     "model_module_version": "1.2.0",
     "model_name": "LayoutModel",
     "state": {
      "_model_module": "@jupyter-widgets/base",
      "_model_module_version": "1.2.0",
      "_model_name": "LayoutModel",
      "_view_count": null,
      "_view_module": "@jupyter-widgets/base",
      "_view_module_version": "1.2.0",
      "_view_name": "LayoutView",
      "align_content": null,
      "align_items": null,
      "align_self": null,
      "border": null,
      "bottom": null,
      "display": null,
      "flex": "2",
      "flex_flow": null,
      "grid_area": null,
      "grid_auto_columns": null,
      "grid_auto_flow": null,
      "grid_auto_rows": null,
      "grid_column": null,
      "grid_gap": null,
      "grid_row": null,
      "grid_template_areas": null,
      "grid_template_columns": null,
      "grid_template_rows": null,
      "height": null,
      "justify_content": null,
      "justify_items": null,
      "left": null,
      "margin": null,
      "max_height": null,
      "max_width": null,
      "min_height": null,
      "min_width": null,
      "object_fit": null,
      "object_position": null,
      "order": null,
      "overflow": null,
      "overflow_x": null,
      "overflow_y": null,
      "padding": null,
      "right": null,
      "top": null,
      "visibility": null,
      "width": null
     }
    },
    "21ef7cf7ecba4a68bd2d2eaf57605e75": {
     "model_module": "@jupyter-widgets/controls",
     "model_module_version": "1.5.0",
     "model_name": "FloatProgressModel",
     "state": {
      "_dom_classes": [],
      "_model_module": "@jupyter-widgets/controls",
      "_model_module_version": "1.5.0",
      "_model_name": "FloatProgressModel",
      "_view_count": null,
      "_view_module": "@jupyter-widgets/controls",
      "_view_module_version": "1.5.0",
      "_view_name": "ProgressView",
      "bar_style": "",
      "description": "",
      "description_tooltip": null,
      "layout": "IPY_MODEL_8463b8d1a4364eee809f2434d0bbad0c",
      "max": 5,
      "min": 0,
      "orientation": "horizontal",
      "style": "IPY_MODEL_ab2ac2734dbe4d5b84b5be8254669e83",
      "value": 5
     }
    },
    "232e3e5ae07d4e13b407b3ded4e2e987": {
     "model_module": "@jupyter-widgets/controls",
     "model_module_version": "1.5.0",
     "model_name": "ProgressStyleModel",
     "state": {
      "_model_module": "@jupyter-widgets/controls",
      "_model_module_version": "1.5.0",
      "_model_name": "ProgressStyleModel",
      "_view_count": null,
      "_view_module": "@jupyter-widgets/base",
      "_view_module_version": "1.2.0",
      "_view_name": "StyleView",
      "bar_color": null,
      "description_width": ""
     }
    },
    "2396ce11f45546c3b5266f42536218a6": {
     "model_module": "@jupyter-widgets/controls",
     "model_module_version": "1.5.0",
     "model_name": "DescriptionStyleModel",
     "state": {
      "_model_module": "@jupyter-widgets/controls",
      "_model_module_version": "1.5.0",
      "_model_name": "DescriptionStyleModel",
      "_view_count": null,
      "_view_module": "@jupyter-widgets/base",
      "_view_module_version": "1.2.0",
      "_view_name": "StyleView",
      "description_width": ""
     }
    },
    "243888612949479fbc6c3e82ec29a788": {
     "model_module": "@jupyter-widgets/controls",
     "model_module_version": "1.5.0",
     "model_name": "ProgressStyleModel",
     "state": {
      "_model_module": "@jupyter-widgets/controls",
      "_model_module_version": "1.5.0",
      "_model_name": "ProgressStyleModel",
      "_view_count": null,
      "_view_module": "@jupyter-widgets/base",
      "_view_module_version": "1.2.0",
      "_view_name": "StyleView",
      "bar_color": null,
      "description_width": ""
     }
    },
    "24dc63d967df42f595083d1eadcef28b": {
     "model_module": "@jupyter-widgets/base",
     "model_module_version": "1.2.0",
     "model_name": "LayoutModel",
     "state": {
      "_model_module": "@jupyter-widgets/base",
      "_model_module_version": "1.2.0",
      "_model_name": "LayoutModel",
      "_view_count": null,
      "_view_module": "@jupyter-widgets/base",
      "_view_module_version": "1.2.0",
      "_view_name": "LayoutView",
      "align_content": null,
      "align_items": null,
      "align_self": null,
      "border": null,
      "bottom": null,
      "display": null,
      "flex": "2",
      "flex_flow": null,
      "grid_area": null,
      "grid_auto_columns": null,
      "grid_auto_flow": null,
      "grid_auto_rows": null,
      "grid_column": null,
      "grid_gap": null,
      "grid_row": null,
      "grid_template_areas": null,
      "grid_template_columns": null,
      "grid_template_rows": null,
      "height": null,
      "justify_content": null,
      "justify_items": null,
      "left": null,
      "margin": null,
      "max_height": null,
      "max_width": null,
      "min_height": null,
      "min_width": null,
      "object_fit": null,
      "object_position": null,
      "order": null,
      "overflow": null,
      "overflow_x": null,
      "overflow_y": null,
      "padding": null,
      "right": null,
      "top": null,
      "visibility": null,
      "width": null
     }
    },
    "24efeee2a24d4eccb5113e9355742d99": {
     "model_module": "@jupyter-widgets/base",
     "model_module_version": "1.2.0",
     "model_name": "LayoutModel",
     "state": {
      "_model_module": "@jupyter-widgets/base",
      "_model_module_version": "1.2.0",
      "_model_name": "LayoutModel",
      "_view_count": null,
      "_view_module": "@jupyter-widgets/base",
      "_view_module_version": "1.2.0",
      "_view_name": "LayoutView",
      "align_content": null,
      "align_items": null,
      "align_self": null,
      "border": null,
      "bottom": null,
      "display": "inline-flex",
      "flex": null,
      "flex_flow": "row wrap",
      "grid_area": null,
      "grid_auto_columns": null,
      "grid_auto_flow": null,
      "grid_auto_rows": null,
      "grid_column": null,
      "grid_gap": null,
      "grid_row": null,
      "grid_template_areas": null,
      "grid_template_columns": null,
      "grid_template_rows": null,
      "height": null,
      "justify_content": null,
      "justify_items": null,
      "left": null,
      "margin": null,
      "max_height": null,
      "max_width": null,
      "min_height": null,
      "min_width": null,
      "object_fit": null,
      "object_position": null,
      "order": null,
      "overflow": null,
      "overflow_x": null,
      "overflow_y": null,
      "padding": null,
      "right": null,
      "top": null,
      "visibility": "hidden",
      "width": "100%"
     }
    },
    "250b4fa1927d44cb81fb805a5204b1b0": {
     "model_module": "@jupyter-widgets/base",
     "model_module_version": "1.2.0",
     "model_name": "LayoutModel",
     "state": {
      "_model_module": "@jupyter-widgets/base",
      "_model_module_version": "1.2.0",
      "_model_name": "LayoutModel",
      "_view_count": null,
      "_view_module": "@jupyter-widgets/base",
      "_view_module_version": "1.2.0",
      "_view_name": "LayoutView",
      "align_content": null,
      "align_items": null,
      "align_self": null,
      "border": null,
      "bottom": null,
      "display": "inline-flex",
      "flex": null,
      "flex_flow": "row wrap",
      "grid_area": null,
      "grid_auto_columns": null,
      "grid_auto_flow": null,
      "grid_auto_rows": null,
      "grid_column": null,
      "grid_gap": null,
      "grid_row": null,
      "grid_template_areas": null,
      "grid_template_columns": null,
      "grid_template_rows": null,
      "height": null,
      "justify_content": null,
      "justify_items": null,
      "left": null,
      "margin": null,
      "max_height": null,
      "max_width": null,
      "min_height": null,
      "min_width": null,
      "object_fit": null,
      "object_position": null,
      "order": null,
      "overflow": null,
      "overflow_x": null,
      "overflow_y": null,
      "padding": null,
      "right": null,
      "top": null,
      "visibility": "hidden",
      "width": "100%"
     }
    },
    "25f3646687fe4d908b2fe116caf8ade9": {
     "model_module": "@jupyter-widgets/base",
     "model_module_version": "1.2.0",
     "model_name": "LayoutModel",
     "state": {
      "_model_module": "@jupyter-widgets/base",
      "_model_module_version": "1.2.0",
      "_model_name": "LayoutModel",
      "_view_count": null,
      "_view_module": "@jupyter-widgets/base",
      "_view_module_version": "1.2.0",
      "_view_name": "LayoutView",
      "align_content": null,
      "align_items": null,
      "align_self": null,
      "border": null,
      "bottom": null,
      "display": null,
      "flex": null,
      "flex_flow": null,
      "grid_area": null,
      "grid_auto_columns": null,
      "grid_auto_flow": null,
      "grid_auto_rows": null,
      "grid_column": null,
      "grid_gap": null,
      "grid_row": null,
      "grid_template_areas": null,
      "grid_template_columns": null,
      "grid_template_rows": null,
      "height": null,
      "justify_content": null,
      "justify_items": null,
      "left": null,
      "margin": null,
      "max_height": null,
      "max_width": null,
      "min_height": null,
      "min_width": null,
      "object_fit": null,
      "object_position": null,
      "order": null,
      "overflow": null,
      "overflow_x": null,
      "overflow_y": null,
      "padding": null,
      "right": null,
      "top": null,
      "visibility": null,
      "width": null
     }
    },
    "262a3f60a5254adebfed0c6cf6692638": {
     "model_module": "@jupyter-widgets/base",
     "model_module_version": "1.2.0",
     "model_name": "LayoutModel",
     "state": {
      "_model_module": "@jupyter-widgets/base",
      "_model_module_version": "1.2.0",
      "_model_name": "LayoutModel",
      "_view_count": null,
      "_view_module": "@jupyter-widgets/base",
      "_view_module_version": "1.2.0",
      "_view_name": "LayoutView",
      "align_content": null,
      "align_items": null,
      "align_self": null,
      "border": null,
      "bottom": null,
      "display": null,
      "flex": null,
      "flex_flow": null,
      "grid_area": null,
      "grid_auto_columns": null,
      "grid_auto_flow": null,
      "grid_auto_rows": null,
      "grid_column": null,
      "grid_gap": null,
      "grid_row": null,
      "grid_template_areas": null,
      "grid_template_columns": null,
      "grid_template_rows": null,
      "height": null,
      "justify_content": null,
      "justify_items": null,
      "left": null,
      "margin": null,
      "max_height": null,
      "max_width": null,
      "min_height": null,
      "min_width": null,
      "object_fit": null,
      "object_position": null,
      "order": null,
      "overflow": null,
      "overflow_x": null,
      "overflow_y": null,
      "padding": null,
      "right": null,
      "top": null,
      "visibility": null,
      "width": null
     }
    },
    "264265be1229421bbbb5ba6c7f2bffd1": {
     "model_module": "@jupyter-widgets/controls",
     "model_module_version": "1.5.0",
     "model_name": "HTMLModel",
     "state": {
      "_dom_classes": [],
      "_model_module": "@jupyter-widgets/controls",
      "_model_module_version": "1.5.0",
      "_model_name": "HTMLModel",
      "_view_count": null,
      "_view_module": "@jupyter-widgets/controls",
      "_view_module_version": "1.5.0",
      "_view_name": "HTMLView",
      "description": "",
      "description_tooltip": null,
      "layout": "IPY_MODEL_4fa82e0b2d654278a5304c75e1eca148",
      "placeholder": "​",
      "style": "IPY_MODEL_1d63d9388c5f441f9b91df610afe13d9",
      "value": "Validation DataLoader 0: 100%"
     }
    },
    "27295385e2b34b77844a98c05e4d8c37": {
     "model_module": "@jupyter-widgets/controls",
     "model_module_version": "1.5.0",
     "model_name": "DescriptionStyleModel",
     "state": {
      "_model_module": "@jupyter-widgets/controls",
      "_model_module_version": "1.5.0",
      "_model_name": "DescriptionStyleModel",
      "_view_count": null,
      "_view_module": "@jupyter-widgets/base",
      "_view_module_version": "1.2.0",
      "_view_name": "StyleView",
      "description_width": ""
     }
    },
    "2744923e6a6d405fa43cbd41fe97885c": {
     "model_module": "@jupyter-widgets/base",
     "model_module_version": "1.2.0",
     "model_name": "LayoutModel",
     "state": {
      "_model_module": "@jupyter-widgets/base",
      "_model_module_version": "1.2.0",
      "_model_name": "LayoutModel",
      "_view_count": null,
      "_view_module": "@jupyter-widgets/base",
      "_view_module_version": "1.2.0",
      "_view_name": "LayoutView",
      "align_content": null,
      "align_items": null,
      "align_self": null,
      "border": null,
      "bottom": null,
      "display": null,
      "flex": null,
      "flex_flow": null,
      "grid_area": null,
      "grid_auto_columns": null,
      "grid_auto_flow": null,
      "grid_auto_rows": null,
      "grid_column": null,
      "grid_gap": null,
      "grid_row": null,
      "grid_template_areas": null,
      "grid_template_columns": null,
      "grid_template_rows": null,
      "height": null,
      "justify_content": null,
      "justify_items": null,
      "left": null,
      "margin": null,
      "max_height": null,
      "max_width": null,
      "min_height": null,
      "min_width": null,
      "object_fit": null,
      "object_position": null,
      "order": null,
      "overflow": null,
      "overflow_x": null,
      "overflow_y": null,
      "padding": null,
      "right": null,
      "top": null,
      "visibility": null,
      "width": null
     }
    },
    "2775dacbcc5047699a456895d0247133": {
     "model_module": "@jupyter-widgets/base",
     "model_module_version": "1.2.0",
     "model_name": "LayoutModel",
     "state": {
      "_model_module": "@jupyter-widgets/base",
      "_model_module_version": "1.2.0",
      "_model_name": "LayoutModel",
      "_view_count": null,
      "_view_module": "@jupyter-widgets/base",
      "_view_module_version": "1.2.0",
      "_view_name": "LayoutView",
      "align_content": null,
      "align_items": null,
      "align_self": null,
      "border": null,
      "bottom": null,
      "display": "inline-flex",
      "flex": null,
      "flex_flow": "row wrap",
      "grid_area": null,
      "grid_auto_columns": null,
      "grid_auto_flow": null,
      "grid_auto_rows": null,
      "grid_column": null,
      "grid_gap": null,
      "grid_row": null,
      "grid_template_areas": null,
      "grid_template_columns": null,
      "grid_template_rows": null,
      "height": null,
      "justify_content": null,
      "justify_items": null,
      "left": null,
      "margin": null,
      "max_height": null,
      "max_width": null,
      "min_height": null,
      "min_width": null,
      "object_fit": null,
      "object_position": null,
      "order": null,
      "overflow": null,
      "overflow_x": null,
      "overflow_y": null,
      "padding": null,
      "right": null,
      "top": null,
      "visibility": "hidden",
      "width": "100%"
     }
    },
    "278a561711a04d508baac180aea024d7": {
     "model_module": "@jupyter-widgets/base",
     "model_module_version": "1.2.0",
     "model_name": "LayoutModel",
     "state": {
      "_model_module": "@jupyter-widgets/base",
      "_model_module_version": "1.2.0",
      "_model_name": "LayoutModel",
      "_view_count": null,
      "_view_module": "@jupyter-widgets/base",
      "_view_module_version": "1.2.0",
      "_view_name": "LayoutView",
      "align_content": null,
      "align_items": null,
      "align_self": null,
      "border": null,
      "bottom": null,
      "display": null,
      "flex": null,
      "flex_flow": null,
      "grid_area": null,
      "grid_auto_columns": null,
      "grid_auto_flow": null,
      "grid_auto_rows": null,
      "grid_column": null,
      "grid_gap": null,
      "grid_row": null,
      "grid_template_areas": null,
      "grid_template_columns": null,
      "grid_template_rows": null,
      "height": null,
      "justify_content": null,
      "justify_items": null,
      "left": null,
      "margin": null,
      "max_height": null,
      "max_width": null,
      "min_height": null,
      "min_width": null,
      "object_fit": null,
      "object_position": null,
      "order": null,
      "overflow": null,
      "overflow_x": null,
      "overflow_y": null,
      "padding": null,
      "right": null,
      "top": null,
      "visibility": null,
      "width": null
     }
    },
    "2837a28759a146ffa10dbfc5e09b1542": {
     "model_module": "@jupyter-widgets/base",
     "model_module_version": "1.2.0",
     "model_name": "LayoutModel",
     "state": {
      "_model_module": "@jupyter-widgets/base",
      "_model_module_version": "1.2.0",
      "_model_name": "LayoutModel",
      "_view_count": null,
      "_view_module": "@jupyter-widgets/base",
      "_view_module_version": "1.2.0",
      "_view_name": "LayoutView",
      "align_content": null,
      "align_items": null,
      "align_self": null,
      "border": null,
      "bottom": null,
      "display": null,
      "flex": "2",
      "flex_flow": null,
      "grid_area": null,
      "grid_auto_columns": null,
      "grid_auto_flow": null,
      "grid_auto_rows": null,
      "grid_column": null,
      "grid_gap": null,
      "grid_row": null,
      "grid_template_areas": null,
      "grid_template_columns": null,
      "grid_template_rows": null,
      "height": null,
      "justify_content": null,
      "justify_items": null,
      "left": null,
      "margin": null,
      "max_height": null,
      "max_width": null,
      "min_height": null,
      "min_width": null,
      "object_fit": null,
      "object_position": null,
      "order": null,
      "overflow": null,
      "overflow_x": null,
      "overflow_y": null,
      "padding": null,
      "right": null,
      "top": null,
      "visibility": null,
      "width": null
     }
    },
    "2847f48470cf45eba8223dcabe8f0251": {
     "model_module": "@jupyter-widgets/controls",
     "model_module_version": "1.5.0",
     "model_name": "HBoxModel",
     "state": {
      "_dom_classes": [],
      "_model_module": "@jupyter-widgets/controls",
      "_model_module_version": "1.5.0",
      "_model_name": "HBoxModel",
      "_view_count": null,
      "_view_module": "@jupyter-widgets/controls",
      "_view_module_version": "1.5.0",
      "_view_name": "HBoxView",
      "box_style": "",
      "children": [
       "IPY_MODEL_181090bd44064a4194903ac1f91ebde5",
       "IPY_MODEL_d8479f44c01b4b7b96ae82fec443df77",
       "IPY_MODEL_ed6b162990ea4937a5e013cd2ee4641f"
      ],
      "layout": "IPY_MODEL_142bd771699f40ce82e76a71f0031e21"
     }
    },
    "29b52eb7f7064e43a6b75a68defc56d9": {
     "model_module": "@jupyter-widgets/base",
     "model_module_version": "1.2.0",
     "model_name": "LayoutModel",
     "state": {
      "_model_module": "@jupyter-widgets/base",
      "_model_module_version": "1.2.0",
      "_model_name": "LayoutModel",
      "_view_count": null,
      "_view_module": "@jupyter-widgets/base",
      "_view_module_version": "1.2.0",
      "_view_name": "LayoutView",
      "align_content": null,
      "align_items": null,
      "align_self": null,
      "border": null,
      "bottom": null,
      "display": null,
      "flex": null,
      "flex_flow": null,
      "grid_area": null,
      "grid_auto_columns": null,
      "grid_auto_flow": null,
      "grid_auto_rows": null,
      "grid_column": null,
      "grid_gap": null,
      "grid_row": null,
      "grid_template_areas": null,
      "grid_template_columns": null,
      "grid_template_rows": null,
      "height": null,
      "justify_content": null,
      "justify_items": null,
      "left": null,
      "margin": null,
      "max_height": null,
      "max_width": null,
      "min_height": null,
      "min_width": null,
      "object_fit": null,
      "object_position": null,
      "order": null,
      "overflow": null,
      "overflow_x": null,
      "overflow_y": null,
      "padding": null,
      "right": null,
      "top": null,
      "visibility": null,
      "width": null
     }
    },
    "2beedea1ab4d43829db9aa35bf48fc95": {
     "model_module": "@jupyter-widgets/base",
     "model_module_version": "1.2.0",
     "model_name": "LayoutModel",
     "state": {
      "_model_module": "@jupyter-widgets/base",
      "_model_module_version": "1.2.0",
      "_model_name": "LayoutModel",
      "_view_count": null,
      "_view_module": "@jupyter-widgets/base",
      "_view_module_version": "1.2.0",
      "_view_name": "LayoutView",
      "align_content": null,
      "align_items": null,
      "align_self": null,
      "border": null,
      "bottom": null,
      "display": null,
      "flex": null,
      "flex_flow": null,
      "grid_area": null,
      "grid_auto_columns": null,
      "grid_auto_flow": null,
      "grid_auto_rows": null,
      "grid_column": null,
      "grid_gap": null,
      "grid_row": null,
      "grid_template_areas": null,
      "grid_template_columns": null,
      "grid_template_rows": null,
      "height": null,
      "justify_content": null,
      "justify_items": null,
      "left": null,
      "margin": null,
      "max_height": null,
      "max_width": null,
      "min_height": null,
      "min_width": null,
      "object_fit": null,
      "object_position": null,
      "order": null,
      "overflow": null,
      "overflow_x": null,
      "overflow_y": null,
      "padding": null,
      "right": null,
      "top": null,
      "visibility": null,
      "width": null
     }
    },
    "2c5446c18af14103836cf63e884a12c3": {
     "model_module": "@jupyter-widgets/controls",
     "model_module_version": "1.5.0",
     "model_name": "HTMLModel",
     "state": {
      "_dom_classes": [],
      "_model_module": "@jupyter-widgets/controls",
      "_model_module_version": "1.5.0",
      "_model_name": "HTMLModel",
      "_view_count": null,
      "_view_module": "@jupyter-widgets/controls",
      "_view_module_version": "1.5.0",
      "_view_name": "HTMLView",
      "description": "",
      "description_tooltip": null,
      "layout": "IPY_MODEL_5430fd7786294b2bae6780f59de97c55",
      "placeholder": "​",
      "style": "IPY_MODEL_f325755de3ef4efb8153bf254cf6bec4",
      "value": "Validation DataLoader 0: 100%"
     }
    },
    "2c9e24827b464e4883dce5e0a2c50953": {
     "model_module": "@jupyter-widgets/controls",
     "model_module_version": "1.5.0",
     "model_name": "HBoxModel",
     "state": {
      "_dom_classes": [],
      "_model_module": "@jupyter-widgets/controls",
      "_model_module_version": "1.5.0",
      "_model_name": "HBoxModel",
      "_view_count": null,
      "_view_module": "@jupyter-widgets/controls",
      "_view_module_version": "1.5.0",
      "_view_name": "HBoxView",
      "box_style": "",
      "children": [
       "IPY_MODEL_e8ae08bc35c046a2a7292a5c12487932",
       "IPY_MODEL_7466b26378f6410bb0a23de5a3b815d9",
       "IPY_MODEL_11023a329fd04648b20e2d74bd6494a0"
      ],
      "layout": "IPY_MODEL_8d9c8168dd6849a9a69c117be6b79fc7"
     }
    },
    "2cf095c88254427ebe89c4bdeeff0aec": {
     "model_module": "@jupyter-widgets/controls",
     "model_module_version": "1.5.0",
     "model_name": "HTMLModel",
     "state": {
      "_dom_classes": [],
      "_model_module": "@jupyter-widgets/controls",
      "_model_module_version": "1.5.0",
      "_model_name": "HTMLModel",
      "_view_count": null,
      "_view_module": "@jupyter-widgets/controls",
      "_view_module_version": "1.5.0",
      "_view_name": "HTMLView",
      "description": "",
      "description_tooltip": null,
      "layout": "IPY_MODEL_8a8c62bc988d4b6aa49cb990838b3042",
      "placeholder": "​",
      "style": "IPY_MODEL_e3e444211223414881d96f08b5a6d9b3",
      "value": "Validation DataLoader 0: 100%"
     }
    },
    "2d02af2f77004d85b1a1610c3f155a55": {
     "model_module": "@jupyter-widgets/controls",
     "model_module_version": "1.5.0",
     "model_name": "FloatProgressModel",
     "state": {
      "_dom_classes": [],
      "_model_module": "@jupyter-widgets/controls",
      "_model_module_version": "1.5.0",
      "_model_name": "FloatProgressModel",
      "_view_count": null,
      "_view_module": "@jupyter-widgets/controls",
      "_view_module_version": "1.5.0",
      "_view_name": "ProgressView",
      "bar_style": "",
      "description": "",
      "description_tooltip": null,
      "layout": "IPY_MODEL_2837a28759a146ffa10dbfc5e09b1542",
      "max": 5,
      "min": 0,
      "orientation": "horizontal",
      "style": "IPY_MODEL_1d239b20a2e64e448520dbfd5d74b9de",
      "value": 5
     }
    },
    "2d98f43066834e23b6256bfc87f74c93": {
     "model_module": "@jupyter-widgets/controls",
     "model_module_version": "1.5.0",
     "model_name": "FloatProgressModel",
     "state": {
      "_dom_classes": [],
      "_model_module": "@jupyter-widgets/controls",
      "_model_module_version": "1.5.0",
      "_model_name": "FloatProgressModel",
      "_view_count": null,
      "_view_module": "@jupyter-widgets/controls",
      "_view_module_version": "1.5.0",
      "_view_name": "ProgressView",
      "bar_style": "",
      "description": "",
      "description_tooltip": null,
      "layout": "IPY_MODEL_84332c7d4fdf46a3b6fb37e8e7e00c10",
      "max": 5,
      "min": 0,
      "orientation": "horizontal",
      "style": "IPY_MODEL_ebcc8461d22343c3aeb2ca69bb81bef9",
      "value": 5
     }
    },
    "2d9a20b13db74414bc4dd71da45926cd": {
     "model_module": "@jupyter-widgets/controls",
     "model_module_version": "1.5.0",
     "model_name": "ProgressStyleModel",
     "state": {
      "_model_module": "@jupyter-widgets/controls",
      "_model_module_version": "1.5.0",
      "_model_name": "ProgressStyleModel",
      "_view_count": null,
      "_view_module": "@jupyter-widgets/base",
      "_view_module_version": "1.2.0",
      "_view_name": "StyleView",
      "bar_color": null,
      "description_width": ""
     }
    },
    "2f59ebe7b846449787eb095b4d89dba6": {
     "model_module": "@jupyter-widgets/base",
     "model_module_version": "1.2.0",
     "model_name": "LayoutModel",
     "state": {
      "_model_module": "@jupyter-widgets/base",
      "_model_module_version": "1.2.0",
      "_model_name": "LayoutModel",
      "_view_count": null,
      "_view_module": "@jupyter-widgets/base",
      "_view_module_version": "1.2.0",
      "_view_name": "LayoutView",
      "align_content": null,
      "align_items": null,
      "align_self": null,
      "border": null,
      "bottom": null,
      "display": null,
      "flex": null,
      "flex_flow": null,
      "grid_area": null,
      "grid_auto_columns": null,
      "grid_auto_flow": null,
      "grid_auto_rows": null,
      "grid_column": null,
      "grid_gap": null,
      "grid_row": null,
      "grid_template_areas": null,
      "grid_template_columns": null,
      "grid_template_rows": null,
      "height": null,
      "justify_content": null,
      "justify_items": null,
      "left": null,
      "margin": null,
      "max_height": null,
      "max_width": null,
      "min_height": null,
      "min_width": null,
      "object_fit": null,
      "object_position": null,
      "order": null,
      "overflow": null,
      "overflow_x": null,
      "overflow_y": null,
      "padding": null,
      "right": null,
      "top": null,
      "visibility": null,
      "width": null
     }
    },
    "2f6adff66e7f4b3b9d162ab0a7ada470": {
     "model_module": "@jupyter-widgets/controls",
     "model_module_version": "1.5.0",
     "model_name": "DescriptionStyleModel",
     "state": {
      "_model_module": "@jupyter-widgets/controls",
      "_model_module_version": "1.5.0",
      "_model_name": "DescriptionStyleModel",
      "_view_count": null,
      "_view_module": "@jupyter-widgets/base",
      "_view_module_version": "1.2.0",
      "_view_name": "StyleView",
      "description_width": ""
     }
    },
    "2f7104dc1f2f4ac092ce798bc7037f14": {
     "model_module": "@jupyter-widgets/controls",
     "model_module_version": "1.5.0",
     "model_name": "FloatProgressModel",
     "state": {
      "_dom_classes": [],
      "_model_module": "@jupyter-widgets/controls",
      "_model_module_version": "1.5.0",
      "_model_name": "FloatProgressModel",
      "_view_count": null,
      "_view_module": "@jupyter-widgets/controls",
      "_view_module_version": "1.5.0",
      "_view_name": "ProgressView",
      "bar_style": "",
      "description": "",
      "description_tooltip": null,
      "layout": "IPY_MODEL_ed2a9fc7126140cabd1cbd63f1a2a4aa",
      "max": 5,
      "min": 0,
      "orientation": "horizontal",
      "style": "IPY_MODEL_64c29f538a314c90ac37a29c2e3cc6e8",
      "value": 5
     }
    },
    "304bdca2fcfa4dabbee323cfdf99aab5": {
     "model_module": "@jupyter-widgets/controls",
     "model_module_version": "1.5.0",
     "model_name": "DescriptionStyleModel",
     "state": {
      "_model_module": "@jupyter-widgets/controls",
      "_model_module_version": "1.5.0",
      "_model_name": "DescriptionStyleModel",
      "_view_count": null,
      "_view_module": "@jupyter-widgets/base",
      "_view_module_version": "1.2.0",
      "_view_name": "StyleView",
      "description_width": ""
     }
    },
    "307182085a1844a4b76fd24caec8311c": {
     "model_module": "@jupyter-widgets/controls",
     "model_module_version": "1.5.0",
     "model_name": "HTMLModel",
     "state": {
      "_dom_classes": [],
      "_model_module": "@jupyter-widgets/controls",
      "_model_module_version": "1.5.0",
      "_model_name": "HTMLModel",
      "_view_count": null,
      "_view_module": "@jupyter-widgets/controls",
      "_view_module_version": "1.5.0",
      "_view_name": "HTMLView",
      "description": "",
      "description_tooltip": null,
      "layout": "IPY_MODEL_25f3646687fe4d908b2fe116caf8ade9",
      "placeholder": "​",
      "style": "IPY_MODEL_f59f7cc379aa49519e0f5c5a30e694f6",
      "value": " 5/5 [00:01&lt;00:00,  4.01it/s]"
     }
    },
    "315d7c310a5f4f20b312c494240242b4": {
     "model_module": "@jupyter-widgets/base",
     "model_module_version": "1.2.0",
     "model_name": "LayoutModel",
     "state": {
      "_model_module": "@jupyter-widgets/base",
      "_model_module_version": "1.2.0",
      "_model_name": "LayoutModel",
      "_view_count": null,
      "_view_module": "@jupyter-widgets/base",
      "_view_module_version": "1.2.0",
      "_view_name": "LayoutView",
      "align_content": null,
      "align_items": null,
      "align_self": null,
      "border": null,
      "bottom": null,
      "display": null,
      "flex": null,
      "flex_flow": null,
      "grid_area": null,
      "grid_auto_columns": null,
      "grid_auto_flow": null,
      "grid_auto_rows": null,
      "grid_column": null,
      "grid_gap": null,
      "grid_row": null,
      "grid_template_areas": null,
      "grid_template_columns": null,
      "grid_template_rows": null,
      "height": null,
      "justify_content": null,
      "justify_items": null,
      "left": null,
      "margin": null,
      "max_height": null,
      "max_width": null,
      "min_height": null,
      "min_width": null,
      "object_fit": null,
      "object_position": null,
      "order": null,
      "overflow": null,
      "overflow_x": null,
      "overflow_y": null,
      "padding": null,
      "right": null,
      "top": null,
      "visibility": null,
      "width": null
     }
    },
    "31bfcb8929394ad0897b92662d0b16d1": {
     "model_module": "@jupyter-widgets/base",
     "model_module_version": "1.2.0",
     "model_name": "LayoutModel",
     "state": {
      "_model_module": "@jupyter-widgets/base",
      "_model_module_version": "1.2.0",
      "_model_name": "LayoutModel",
      "_view_count": null,
      "_view_module": "@jupyter-widgets/base",
      "_view_module_version": "1.2.0",
      "_view_name": "LayoutView",
      "align_content": null,
      "align_items": null,
      "align_self": null,
      "border": null,
      "bottom": null,
      "display": null,
      "flex": null,
      "flex_flow": null,
      "grid_area": null,
      "grid_auto_columns": null,
      "grid_auto_flow": null,
      "grid_auto_rows": null,
      "grid_column": null,
      "grid_gap": null,
      "grid_row": null,
      "grid_template_areas": null,
      "grid_template_columns": null,
      "grid_template_rows": null,
      "height": null,
      "justify_content": null,
      "justify_items": null,
      "left": null,
      "margin": null,
      "max_height": null,
      "max_width": null,
      "min_height": null,
      "min_width": null,
      "object_fit": null,
      "object_position": null,
      "order": null,
      "overflow": null,
      "overflow_x": null,
      "overflow_y": null,
      "padding": null,
      "right": null,
      "top": null,
      "visibility": null,
      "width": null
     }
    },
    "32128e779857430fa70b233e71295001": {
     "model_module": "@jupyter-widgets/controls",
     "model_module_version": "1.5.0",
     "model_name": "HTMLModel",
     "state": {
      "_dom_classes": [],
      "_model_module": "@jupyter-widgets/controls",
      "_model_module_version": "1.5.0",
      "_model_name": "HTMLModel",
      "_view_count": null,
      "_view_module": "@jupyter-widgets/controls",
      "_view_module_version": "1.5.0",
      "_view_name": "HTMLView",
      "description": "",
      "description_tooltip": null,
      "layout": "IPY_MODEL_7072d8e7f6b04dfdb2b006a12c97f94f",
      "placeholder": "​",
      "style": "IPY_MODEL_c90b1c4de8834f7a82e9a722da205028",
      "value": " 5/5 [00:01&lt;00:00,  4.01it/s]"
     }
    },
    "3269cbc45fd54206ac2a3506999d5845": {
     "model_module": "@jupyter-widgets/controls",
     "model_module_version": "1.5.0",
     "model_name": "DescriptionStyleModel",
     "state": {
      "_model_module": "@jupyter-widgets/controls",
      "_model_module_version": "1.5.0",
      "_model_name": "DescriptionStyleModel",
      "_view_count": null,
      "_view_module": "@jupyter-widgets/base",
      "_view_module_version": "1.2.0",
      "_view_name": "StyleView",
      "description_width": ""
     }
    },
    "3361520d307c42b6b24dfca31d3d8652": {
     "model_module": "@jupyter-widgets/controls",
     "model_module_version": "1.5.0",
     "model_name": "DescriptionStyleModel",
     "state": {
      "_model_module": "@jupyter-widgets/controls",
      "_model_module_version": "1.5.0",
      "_model_name": "DescriptionStyleModel",
      "_view_count": null,
      "_view_module": "@jupyter-widgets/base",
      "_view_module_version": "1.2.0",
      "_view_name": "StyleView",
      "description_width": ""
     }
    },
    "35b66df854204bee8a8c75a36a12472b": {
     "model_module": "@jupyter-widgets/controls",
     "model_module_version": "1.5.0",
     "model_name": "DescriptionStyleModel",
     "state": {
      "_model_module": "@jupyter-widgets/controls",
      "_model_module_version": "1.5.0",
      "_model_name": "DescriptionStyleModel",
      "_view_count": null,
      "_view_module": "@jupyter-widgets/base",
      "_view_module_version": "1.2.0",
      "_view_name": "StyleView",
      "description_width": ""
     }
    },
    "35e20acdb70c4dc1940dfd1f21b81e7f": {
     "model_module": "@jupyter-widgets/base",
     "model_module_version": "1.2.0",
     "model_name": "LayoutModel",
     "state": {
      "_model_module": "@jupyter-widgets/base",
      "_model_module_version": "1.2.0",
      "_model_name": "LayoutModel",
      "_view_count": null,
      "_view_module": "@jupyter-widgets/base",
      "_view_module_version": "1.2.0",
      "_view_name": "LayoutView",
      "align_content": null,
      "align_items": null,
      "align_self": null,
      "border": null,
      "bottom": null,
      "display": null,
      "flex": "2",
      "flex_flow": null,
      "grid_area": null,
      "grid_auto_columns": null,
      "grid_auto_flow": null,
      "grid_auto_rows": null,
      "grid_column": null,
      "grid_gap": null,
      "grid_row": null,
      "grid_template_areas": null,
      "grid_template_columns": null,
      "grid_template_rows": null,
      "height": null,
      "justify_content": null,
      "justify_items": null,
      "left": null,
      "margin": null,
      "max_height": null,
      "max_width": null,
      "min_height": null,
      "min_width": null,
      "object_fit": null,
      "object_position": null,
      "order": null,
      "overflow": null,
      "overflow_x": null,
      "overflow_y": null,
      "padding": null,
      "right": null,
      "top": null,
      "visibility": null,
      "width": null
     }
    },
    "367440c48a1b4ef6a38739d142170aa2": {
     "model_module": "@jupyter-widgets/controls",
     "model_module_version": "1.5.0",
     "model_name": "FloatProgressModel",
     "state": {
      "_dom_classes": [],
      "_model_module": "@jupyter-widgets/controls",
      "_model_module_version": "1.5.0",
      "_model_name": "FloatProgressModel",
      "_view_count": null,
      "_view_module": "@jupyter-widgets/controls",
      "_view_module_version": "1.5.0",
      "_view_name": "ProgressView",
      "bar_style": "",
      "description": "",
      "description_tooltip": null,
      "layout": "IPY_MODEL_bfde4ea9c007493ca59caae5382f36bb",
      "max": 5,
      "min": 0,
      "orientation": "horizontal",
      "style": "IPY_MODEL_976f94973aaa4be1ac50ca874db77306",
      "value": 5
     }
    },
    "369ac5264c1844e681dc4e2f99c91d6f": {
     "model_module": "@jupyter-widgets/controls",
     "model_module_version": "1.5.0",
     "model_name": "ProgressStyleModel",
     "state": {
      "_model_module": "@jupyter-widgets/controls",
      "_model_module_version": "1.5.0",
      "_model_name": "ProgressStyleModel",
      "_view_count": null,
      "_view_module": "@jupyter-widgets/base",
      "_view_module_version": "1.2.0",
      "_view_name": "StyleView",
      "bar_color": null,
      "description_width": ""
     }
    },
    "36b820e9364c4b878ab4323963483dfc": {
     "model_module": "@jupyter-widgets/controls",
     "model_module_version": "1.5.0",
     "model_name": "HBoxModel",
     "state": {
      "_dom_classes": [],
      "_model_module": "@jupyter-widgets/controls",
      "_model_module_version": "1.5.0",
      "_model_name": "HBoxModel",
      "_view_count": null,
      "_view_module": "@jupyter-widgets/controls",
      "_view_module_version": "1.5.0",
      "_view_name": "HBoxView",
      "box_style": "",
      "children": [
       "IPY_MODEL_74ddef69bd2040208e1fa8adccb0d127",
       "IPY_MODEL_b14c1d34676642e0a4e16a16155dc1cb",
       "IPY_MODEL_b813ab4dad184a85be0b140c5201ea7e"
      ],
      "layout": "IPY_MODEL_b7974f4a6663428d9f32983445757424"
     }
    },
    "36e90cd10ea74bc0ae94094206a710c6": {
     "model_module": "@jupyter-widgets/controls",
     "model_module_version": "1.5.0",
     "model_name": "HBoxModel",
     "state": {
      "_dom_classes": [],
      "_model_module": "@jupyter-widgets/controls",
      "_model_module_version": "1.5.0",
      "_model_name": "HBoxModel",
      "_view_count": null,
      "_view_module": "@jupyter-widgets/controls",
      "_view_module_version": "1.5.0",
      "_view_name": "HBoxView",
      "box_style": "",
      "children": [
       "IPY_MODEL_8bd93a2f76134f9eb0d250dafe74df26",
       "IPY_MODEL_9002d0eaca914fa8995cbd25749b1637",
       "IPY_MODEL_78aface7d9644dbca023155422e11158"
      ],
      "layout": "IPY_MODEL_a54977aa433f4e648da842134961ad0d"
     }
    },
    "37ae61c001ab4ad68bf855a42367dbac": {
     "model_module": "@jupyter-widgets/controls",
     "model_module_version": "1.5.0",
     "model_name": "DescriptionStyleModel",
     "state": {
      "_model_module": "@jupyter-widgets/controls",
      "_model_module_version": "1.5.0",
      "_model_name": "DescriptionStyleModel",
      "_view_count": null,
      "_view_module": "@jupyter-widgets/base",
      "_view_module_version": "1.2.0",
      "_view_name": "StyleView",
      "description_width": ""
     }
    },
    "37e47d9a4f4e4320823c3a05d7d5cf38": {
     "model_module": "@jupyter-widgets/controls",
     "model_module_version": "1.5.0",
     "model_name": "HTMLModel",
     "state": {
      "_dom_classes": [],
      "_model_module": "@jupyter-widgets/controls",
      "_model_module_version": "1.5.0",
      "_model_name": "HTMLModel",
      "_view_count": null,
      "_view_module": "@jupyter-widgets/controls",
      "_view_module_version": "1.5.0",
      "_view_name": "HTMLView",
      "description": "",
      "description_tooltip": null,
      "layout": "IPY_MODEL_6023cb32bfba4047a90c897efb4a6b7c",
      "placeholder": "​",
      "style": "IPY_MODEL_bb0cfebe559e48f5bcfc294a3b1d3fdf",
      "value": "Validation DataLoader 0: 100%"
     }
    },
    "3924d096251042cd80400c0cfb8aaed3": {
     "model_module": "@jupyter-widgets/controls",
     "model_module_version": "1.5.0",
     "model_name": "FloatProgressModel",
     "state": {
      "_dom_classes": [],
      "_model_module": "@jupyter-widgets/controls",
      "_model_module_version": "1.5.0",
      "_model_name": "FloatProgressModel",
      "_view_count": null,
      "_view_module": "@jupyter-widgets/controls",
      "_view_module_version": "1.5.0",
      "_view_name": "ProgressView",
      "bar_style": "",
      "description": "",
      "description_tooltip": null,
      "layout": "IPY_MODEL_b8da8869c9e34c509132dbf5dd647016",
      "max": 5,
      "min": 0,
      "orientation": "horizontal",
      "style": "IPY_MODEL_8b0705893062482ca766dc526da92ffb",
      "value": 5
     }
    },
    "396f886ed69b47208fccad9250d6681b": {
     "model_module": "@jupyter-widgets/controls",
     "model_module_version": "1.5.0",
     "model_name": "ProgressStyleModel",
     "state": {
      "_model_module": "@jupyter-widgets/controls",
      "_model_module_version": "1.5.0",
      "_model_name": "ProgressStyleModel",
      "_view_count": null,
      "_view_module": "@jupyter-widgets/base",
      "_view_module_version": "1.2.0",
      "_view_name": "StyleView",
      "bar_color": null,
      "description_width": ""
     }
    },
    "3a22dbf653514109835557f332c195f7": {
     "model_module": "@jupyter-widgets/controls",
     "model_module_version": "1.5.0",
     "model_name": "HBoxModel",
     "state": {
      "_dom_classes": [],
      "_model_module": "@jupyter-widgets/controls",
      "_model_module_version": "1.5.0",
      "_model_name": "HBoxModel",
      "_view_count": null,
      "_view_module": "@jupyter-widgets/controls",
      "_view_module_version": "1.5.0",
      "_view_name": "HBoxView",
      "box_style": "",
      "children": [
       "IPY_MODEL_9564e6c9866c445fa0af0cee834a518f",
       "IPY_MODEL_e9a2d4d0c6d64a0c8112449522d4ceec",
       "IPY_MODEL_61d541e877b2491e9ce2557877c38860"
      ],
      "layout": "IPY_MODEL_250b4fa1927d44cb81fb805a5204b1b0"
     }
    },
    "3a6b03a974fd47e2a2c3a724f425154c": {
     "model_module": "@jupyter-widgets/controls",
     "model_module_version": "1.5.0",
     "model_name": "FloatProgressModel",
     "state": {
      "_dom_classes": [],
      "_model_module": "@jupyter-widgets/controls",
      "_model_module_version": "1.5.0",
      "_model_name": "FloatProgressModel",
      "_view_count": null,
      "_view_module": "@jupyter-widgets/controls",
      "_view_module_version": "1.5.0",
      "_view_name": "ProgressView",
      "bar_style": "",
      "description": "",
      "description_tooltip": null,
      "layout": "IPY_MODEL_604c9a89b8ba41fab6d0025e92d2a4d3",
      "max": 5,
      "min": 0,
      "orientation": "horizontal",
      "style": "IPY_MODEL_a6bbfdfac328424b90c7da5fd2a9c69f",
      "value": 5
     }
    },
    "3adeeb29bc484a45ba2d21e71c4ed8b0": {
     "model_module": "@jupyter-widgets/base",
     "model_module_version": "1.2.0",
     "model_name": "LayoutModel",
     "state": {
      "_model_module": "@jupyter-widgets/base",
      "_model_module_version": "1.2.0",
      "_model_name": "LayoutModel",
      "_view_count": null,
      "_view_module": "@jupyter-widgets/base",
      "_view_module_version": "1.2.0",
      "_view_name": "LayoutView",
      "align_content": null,
      "align_items": null,
      "align_self": null,
      "border": null,
      "bottom": null,
      "display": null,
      "flex": null,
      "flex_flow": null,
      "grid_area": null,
      "grid_auto_columns": null,
      "grid_auto_flow": null,
      "grid_auto_rows": null,
      "grid_column": null,
      "grid_gap": null,
      "grid_row": null,
      "grid_template_areas": null,
      "grid_template_columns": null,
      "grid_template_rows": null,
      "height": null,
      "justify_content": null,
      "justify_items": null,
      "left": null,
      "margin": null,
      "max_height": null,
      "max_width": null,
      "min_height": null,
      "min_width": null,
      "object_fit": null,
      "object_position": null,
      "order": null,
      "overflow": null,
      "overflow_x": null,
      "overflow_y": null,
      "padding": null,
      "right": null,
      "top": null,
      "visibility": null,
      "width": null
     }
    },
    "3b7d2de2abf04e41b30e534fc4412ca4": {
     "model_module": "@jupyter-widgets/controls",
     "model_module_version": "1.5.0",
     "model_name": "ProgressStyleModel",
     "state": {
      "_model_module": "@jupyter-widgets/controls",
      "_model_module_version": "1.5.0",
      "_model_name": "ProgressStyleModel",
      "_view_count": null,
      "_view_module": "@jupyter-widgets/base",
      "_view_module_version": "1.2.0",
      "_view_name": "StyleView",
      "bar_color": null,
      "description_width": ""
     }
    },
    "3b9c243ad89945af8241f6efe1c3f380": {
     "model_module": "@jupyter-widgets/controls",
     "model_module_version": "1.5.0",
     "model_name": "DescriptionStyleModel",
     "state": {
      "_model_module": "@jupyter-widgets/controls",
      "_model_module_version": "1.5.0",
      "_model_name": "DescriptionStyleModel",
      "_view_count": null,
      "_view_module": "@jupyter-widgets/base",
      "_view_module_version": "1.2.0",
      "_view_name": "StyleView",
      "description_width": ""
     }
    },
    "3dc82a058ead468ebdd07434cd88b925": {
     "model_module": "@jupyter-widgets/base",
     "model_module_version": "1.2.0",
     "model_name": "LayoutModel",
     "state": {
      "_model_module": "@jupyter-widgets/base",
      "_model_module_version": "1.2.0",
      "_model_name": "LayoutModel",
      "_view_count": null,
      "_view_module": "@jupyter-widgets/base",
      "_view_module_version": "1.2.0",
      "_view_name": "LayoutView",
      "align_content": null,
      "align_items": null,
      "align_self": null,
      "border": null,
      "bottom": null,
      "display": "inline-flex",
      "flex": null,
      "flex_flow": "row wrap",
      "grid_area": null,
      "grid_auto_columns": null,
      "grid_auto_flow": null,
      "grid_auto_rows": null,
      "grid_column": null,
      "grid_gap": null,
      "grid_row": null,
      "grid_template_areas": null,
      "grid_template_columns": null,
      "grid_template_rows": null,
      "height": null,
      "justify_content": null,
      "justify_items": null,
      "left": null,
      "margin": null,
      "max_height": null,
      "max_width": null,
      "min_height": null,
      "min_width": null,
      "object_fit": null,
      "object_position": null,
      "order": null,
      "overflow": null,
      "overflow_x": null,
      "overflow_y": null,
      "padding": null,
      "right": null,
      "top": null,
      "visibility": "hidden",
      "width": "100%"
     }
    },
    "3e079da9e954457687bae442ff5d1034": {
     "model_module": "@jupyter-widgets/controls",
     "model_module_version": "1.5.0",
     "model_name": "DescriptionStyleModel",
     "state": {
      "_model_module": "@jupyter-widgets/controls",
      "_model_module_version": "1.5.0",
      "_model_name": "DescriptionStyleModel",
      "_view_count": null,
      "_view_module": "@jupyter-widgets/base",
      "_view_module_version": "1.2.0",
      "_view_name": "StyleView",
      "description_width": ""
     }
    },
    "3ec7db261b9443b9a944ecf748c4d00d": {
     "model_module": "@jupyter-widgets/controls",
     "model_module_version": "1.5.0",
     "model_name": "HTMLModel",
     "state": {
      "_dom_classes": [],
      "_model_module": "@jupyter-widgets/controls",
      "_model_module_version": "1.5.0",
      "_model_name": "HTMLModel",
      "_view_count": null,
      "_view_module": "@jupyter-widgets/controls",
      "_view_module_version": "1.5.0",
      "_view_name": "HTMLView",
      "description": "",
      "description_tooltip": null,
      "layout": "IPY_MODEL_504782d3e66248298365e98c96779552",
      "placeholder": "​",
      "style": "IPY_MODEL_5e7cd093b48d48b093f2593cf9951fc9",
      "value": " 5/5 [00:01&lt;00:00,  4.06it/s]"
     }
    },
    "3efe612df81c4faf8cdb7d30a53af7d8": {
     "model_module": "@jupyter-widgets/base",
     "model_module_version": "1.2.0",
     "model_name": "LayoutModel",
     "state": {
      "_model_module": "@jupyter-widgets/base",
      "_model_module_version": "1.2.0",
      "_model_name": "LayoutModel",
      "_view_count": null,
      "_view_module": "@jupyter-widgets/base",
      "_view_module_version": "1.2.0",
      "_view_name": "LayoutView",
      "align_content": null,
      "align_items": null,
      "align_self": null,
      "border": null,
      "bottom": null,
      "display": null,
      "flex": null,
      "flex_flow": null,
      "grid_area": null,
      "grid_auto_columns": null,
      "grid_auto_flow": null,
      "grid_auto_rows": null,
      "grid_column": null,
      "grid_gap": null,
      "grid_row": null,
      "grid_template_areas": null,
      "grid_template_columns": null,
      "grid_template_rows": null,
      "height": null,
      "justify_content": null,
      "justify_items": null,
      "left": null,
      "margin": null,
      "max_height": null,
      "max_width": null,
      "min_height": null,
      "min_width": null,
      "object_fit": null,
      "object_position": null,
      "order": null,
      "overflow": null,
      "overflow_x": null,
      "overflow_y": null,
      "padding": null,
      "right": null,
      "top": null,
      "visibility": null,
      "width": null
     }
    },
    "3f066440360a4d3eb597a0c087063a58": {
     "model_module": "@jupyter-widgets/controls",
     "model_module_version": "1.5.0",
     "model_name": "HTMLModel",
     "state": {
      "_dom_classes": [],
      "_model_module": "@jupyter-widgets/controls",
      "_model_module_version": "1.5.0",
      "_model_name": "HTMLModel",
      "_view_count": null,
      "_view_module": "@jupyter-widgets/controls",
      "_view_module_version": "1.5.0",
      "_view_name": "HTMLView",
      "description": "",
      "description_tooltip": null,
      "layout": "IPY_MODEL_4dc435d24d964f17bada936961d5a8e7",
      "placeholder": "​",
      "style": "IPY_MODEL_c86cc5bc4c954618aceb6926709f186c",
      "value": " 5/5 [00:01&lt;00:00,  4.11it/s]"
     }
    },
    "3f5a7b101980496e8c885c6bb9452db6": {
     "model_module": "@jupyter-widgets/controls",
     "model_module_version": "1.5.0",
     "model_name": "ProgressStyleModel",
     "state": {
      "_model_module": "@jupyter-widgets/controls",
      "_model_module_version": "1.5.0",
      "_model_name": "ProgressStyleModel",
      "_view_count": null,
      "_view_module": "@jupyter-widgets/base",
      "_view_module_version": "1.2.0",
      "_view_name": "StyleView",
      "bar_color": null,
      "description_width": ""
     }
    },
    "410cd921f20a4ebf82b094319b849103": {
     "model_module": "@jupyter-widgets/base",
     "model_module_version": "1.2.0",
     "model_name": "LayoutModel",
     "state": {
      "_model_module": "@jupyter-widgets/base",
      "_model_module_version": "1.2.0",
      "_model_name": "LayoutModel",
      "_view_count": null,
      "_view_module": "@jupyter-widgets/base",
      "_view_module_version": "1.2.0",
      "_view_name": "LayoutView",
      "align_content": null,
      "align_items": null,
      "align_self": null,
      "border": null,
      "bottom": null,
      "display": null,
      "flex": "2",
      "flex_flow": null,
      "grid_area": null,
      "grid_auto_columns": null,
      "grid_auto_flow": null,
      "grid_auto_rows": null,
      "grid_column": null,
      "grid_gap": null,
      "grid_row": null,
      "grid_template_areas": null,
      "grid_template_columns": null,
      "grid_template_rows": null,
      "height": null,
      "justify_content": null,
      "justify_items": null,
      "left": null,
      "margin": null,
      "max_height": null,
      "max_width": null,
      "min_height": null,
      "min_width": null,
      "object_fit": null,
      "object_position": null,
      "order": null,
      "overflow": null,
      "overflow_x": null,
      "overflow_y": null,
      "padding": null,
      "right": null,
      "top": null,
      "visibility": null,
      "width": null
     }
    },
    "41636b513d794b66b97953d870f7aa3b": {
     "model_module": "@jupyter-widgets/base",
     "model_module_version": "1.2.0",
     "model_name": "LayoutModel",
     "state": {
      "_model_module": "@jupyter-widgets/base",
      "_model_module_version": "1.2.0",
      "_model_name": "LayoutModel",
      "_view_count": null,
      "_view_module": "@jupyter-widgets/base",
      "_view_module_version": "1.2.0",
      "_view_name": "LayoutView",
      "align_content": null,
      "align_items": null,
      "align_self": null,
      "border": null,
      "bottom": null,
      "display": null,
      "flex": null,
      "flex_flow": null,
      "grid_area": null,
      "grid_auto_columns": null,
      "grid_auto_flow": null,
      "grid_auto_rows": null,
      "grid_column": null,
      "grid_gap": null,
      "grid_row": null,
      "grid_template_areas": null,
      "grid_template_columns": null,
      "grid_template_rows": null,
      "height": null,
      "justify_content": null,
      "justify_items": null,
      "left": null,
      "margin": null,
      "max_height": null,
      "max_width": null,
      "min_height": null,
      "min_width": null,
      "object_fit": null,
      "object_position": null,
      "order": null,
      "overflow": null,
      "overflow_x": null,
      "overflow_y": null,
      "padding": null,
      "right": null,
      "top": null,
      "visibility": null,
      "width": null
     }
    },
    "426f819681c04d0b82bb2343113291d5": {
     "model_module": "@jupyter-widgets/base",
     "model_module_version": "1.2.0",
     "model_name": "LayoutModel",
     "state": {
      "_model_module": "@jupyter-widgets/base",
      "_model_module_version": "1.2.0",
      "_model_name": "LayoutModel",
      "_view_count": null,
      "_view_module": "@jupyter-widgets/base",
      "_view_module_version": "1.2.0",
      "_view_name": "LayoutView",
      "align_content": null,
      "align_items": null,
      "align_self": null,
      "border": null,
      "bottom": null,
      "display": "inline-flex",
      "flex": null,
      "flex_flow": "row wrap",
      "grid_area": null,
      "grid_auto_columns": null,
      "grid_auto_flow": null,
      "grid_auto_rows": null,
      "grid_column": null,
      "grid_gap": null,
      "grid_row": null,
      "grid_template_areas": null,
      "grid_template_columns": null,
      "grid_template_rows": null,
      "height": null,
      "justify_content": null,
      "justify_items": null,
      "left": null,
      "margin": null,
      "max_height": null,
      "max_width": null,
      "min_height": null,
      "min_width": null,
      "object_fit": null,
      "object_position": null,
      "order": null,
      "overflow": null,
      "overflow_x": null,
      "overflow_y": null,
      "padding": null,
      "right": null,
      "top": null,
      "visibility": "hidden",
      "width": "100%"
     }
    },
    "42c8b11940b54caa92d9902bf1dc779f": {
     "model_module": "@jupyter-widgets/controls",
     "model_module_version": "1.5.0",
     "model_name": "HBoxModel",
     "state": {
      "_dom_classes": [],
      "_model_module": "@jupyter-widgets/controls",
      "_model_module_version": "1.5.0",
      "_model_name": "HBoxModel",
      "_view_count": null,
      "_view_module": "@jupyter-widgets/controls",
      "_view_module_version": "1.5.0",
      "_view_name": "HBoxView",
      "box_style": "",
      "children": [
       "IPY_MODEL_7fabbff5bcc7417c80845b9e415ea8f9",
       "IPY_MODEL_3924d096251042cd80400c0cfb8aaed3",
       "IPY_MODEL_c20ce437955e44ddba6f9cbfd0f9aac5"
      ],
      "layout": "IPY_MODEL_f8a0869905c74c9198274545c38ecf93"
     }
    },
    "42fccd221eb7493f91f211a1b55347fc": {
     "model_module": "@jupyter-widgets/base",
     "model_module_version": "1.2.0",
     "model_name": "LayoutModel",
     "state": {
      "_model_module": "@jupyter-widgets/base",
      "_model_module_version": "1.2.0",
      "_model_name": "LayoutModel",
      "_view_count": null,
      "_view_module": "@jupyter-widgets/base",
      "_view_module_version": "1.2.0",
      "_view_name": "LayoutView",
      "align_content": null,
      "align_items": null,
      "align_self": null,
      "border": null,
      "bottom": null,
      "display": null,
      "flex": null,
      "flex_flow": null,
      "grid_area": null,
      "grid_auto_columns": null,
      "grid_auto_flow": null,
      "grid_auto_rows": null,
      "grid_column": null,
      "grid_gap": null,
      "grid_row": null,
      "grid_template_areas": null,
      "grid_template_columns": null,
      "grid_template_rows": null,
      "height": null,
      "justify_content": null,
      "justify_items": null,
      "left": null,
      "margin": null,
      "max_height": null,
      "max_width": null,
      "min_height": null,
      "min_width": null,
      "object_fit": null,
      "object_position": null,
      "order": null,
      "overflow": null,
      "overflow_x": null,
      "overflow_y": null,
      "padding": null,
      "right": null,
      "top": null,
      "visibility": null,
      "width": null
     }
    },
    "432092c38d43424583880e68adf832d8": {
     "model_module": "@jupyter-widgets/base",
     "model_module_version": "1.2.0",
     "model_name": "LayoutModel",
     "state": {
      "_model_module": "@jupyter-widgets/base",
      "_model_module_version": "1.2.0",
      "_model_name": "LayoutModel",
      "_view_count": null,
      "_view_module": "@jupyter-widgets/base",
      "_view_module_version": "1.2.0",
      "_view_name": "LayoutView",
      "align_content": null,
      "align_items": null,
      "align_self": null,
      "border": null,
      "bottom": null,
      "display": null,
      "flex": null,
      "flex_flow": null,
      "grid_area": null,
      "grid_auto_columns": null,
      "grid_auto_flow": null,
      "grid_auto_rows": null,
      "grid_column": null,
      "grid_gap": null,
      "grid_row": null,
      "grid_template_areas": null,
      "grid_template_columns": null,
      "grid_template_rows": null,
      "height": null,
      "justify_content": null,
      "justify_items": null,
      "left": null,
      "margin": null,
      "max_height": null,
      "max_width": null,
      "min_height": null,
      "min_width": null,
      "object_fit": null,
      "object_position": null,
      "order": null,
      "overflow": null,
      "overflow_x": null,
      "overflow_y": null,
      "padding": null,
      "right": null,
      "top": null,
      "visibility": null,
      "width": null
     }
    },
    "4331232c250c44929a253fd43124e2a0": {
     "model_module": "@jupyter-widgets/controls",
     "model_module_version": "1.5.0",
     "model_name": "FloatProgressModel",
     "state": {
      "_dom_classes": [],
      "_model_module": "@jupyter-widgets/controls",
      "_model_module_version": "1.5.0",
      "_model_name": "FloatProgressModel",
      "_view_count": null,
      "_view_module": "@jupyter-widgets/controls",
      "_view_module_version": "1.5.0",
      "_view_name": "ProgressView",
      "bar_style": "",
      "description": "",
      "description_tooltip": null,
      "layout": "IPY_MODEL_5d39732b9cf443c5ac841040016944e8",
      "max": 5,
      "min": 0,
      "orientation": "horizontal",
      "style": "IPY_MODEL_1a2f585628f7451198dc18b9bde7c65d",
      "value": 5
     }
    },
    "435da79a1a584acea6830b4babb665b5": {
     "model_module": "@jupyter-widgets/base",
     "model_module_version": "1.2.0",
     "model_name": "LayoutModel",
     "state": {
      "_model_module": "@jupyter-widgets/base",
      "_model_module_version": "1.2.0",
      "_model_name": "LayoutModel",
      "_view_count": null,
      "_view_module": "@jupyter-widgets/base",
      "_view_module_version": "1.2.0",
      "_view_name": "LayoutView",
      "align_content": null,
      "align_items": null,
      "align_self": null,
      "border": null,
      "bottom": null,
      "display": null,
      "flex": null,
      "flex_flow": null,
      "grid_area": null,
      "grid_auto_columns": null,
      "grid_auto_flow": null,
      "grid_auto_rows": null,
      "grid_column": null,
      "grid_gap": null,
      "grid_row": null,
      "grid_template_areas": null,
      "grid_template_columns": null,
      "grid_template_rows": null,
      "height": null,
      "justify_content": null,
      "justify_items": null,
      "left": null,
      "margin": null,
      "max_height": null,
      "max_width": null,
      "min_height": null,
      "min_width": null,
      "object_fit": null,
      "object_position": null,
      "order": null,
      "overflow": null,
      "overflow_x": null,
      "overflow_y": null,
      "padding": null,
      "right": null,
      "top": null,
      "visibility": null,
      "width": null
     }
    },
    "43b96daf9dfa4299b6497fac08963fc2": {
     "model_module": "@jupyter-widgets/controls",
     "model_module_version": "1.5.0",
     "model_name": "HTMLModel",
     "state": {
      "_dom_classes": [],
      "_model_module": "@jupyter-widgets/controls",
      "_model_module_version": "1.5.0",
      "_model_name": "HTMLModel",
      "_view_count": null,
      "_view_module": "@jupyter-widgets/controls",
      "_view_module_version": "1.5.0",
      "_view_name": "HTMLView",
      "description": "",
      "description_tooltip": null,
      "layout": "IPY_MODEL_81f40352c0c6495f83ec023a98de7b33",
      "placeholder": "​",
      "style": "IPY_MODEL_788a9771aaf74b958656b18c6dc94dfc",
      "value": " 5/5 [00:01&lt;00:00,  4.00it/s]"
     }
    },
    "444d55e5b9754e7ab37bacc414d11a11": {
     "model_module": "@jupyter-widgets/base",
     "model_module_version": "1.2.0",
     "model_name": "LayoutModel",
     "state": {
      "_model_module": "@jupyter-widgets/base",
      "_model_module_version": "1.2.0",
      "_model_name": "LayoutModel",
      "_view_count": null,
      "_view_module": "@jupyter-widgets/base",
      "_view_module_version": "1.2.0",
      "_view_name": "LayoutView",
      "align_content": null,
      "align_items": null,
      "align_self": null,
      "border": null,
      "bottom": null,
      "display": "inline-flex",
      "flex": null,
      "flex_flow": "row wrap",
      "grid_area": null,
      "grid_auto_columns": null,
      "grid_auto_flow": null,
      "grid_auto_rows": null,
      "grid_column": null,
      "grid_gap": null,
      "grid_row": null,
      "grid_template_areas": null,
      "grid_template_columns": null,
      "grid_template_rows": null,
      "height": null,
      "justify_content": null,
      "justify_items": null,
      "left": null,
      "margin": null,
      "max_height": null,
      "max_width": null,
      "min_height": null,
      "min_width": null,
      "object_fit": null,
      "object_position": null,
      "order": null,
      "overflow": null,
      "overflow_x": null,
      "overflow_y": null,
      "padding": null,
      "right": null,
      "top": null,
      "visibility": "hidden",
      "width": "100%"
     }
    },
    "445832e3ff014572b85803a2733fd881": {
     "model_module": "@jupyter-widgets/controls",
     "model_module_version": "1.5.0",
     "model_name": "DescriptionStyleModel",
     "state": {
      "_model_module": "@jupyter-widgets/controls",
      "_model_module_version": "1.5.0",
      "_model_name": "DescriptionStyleModel",
      "_view_count": null,
      "_view_module": "@jupyter-widgets/base",
      "_view_module_version": "1.2.0",
      "_view_name": "StyleView",
      "description_width": ""
     }
    },
    "44a26326a0e34ddea68ecb1f559a1824": {
     "model_module": "@jupyter-widgets/base",
     "model_module_version": "1.2.0",
     "model_name": "LayoutModel",
     "state": {
      "_model_module": "@jupyter-widgets/base",
      "_model_module_version": "1.2.0",
      "_model_name": "LayoutModel",
      "_view_count": null,
      "_view_module": "@jupyter-widgets/base",
      "_view_module_version": "1.2.0",
      "_view_name": "LayoutView",
      "align_content": null,
      "align_items": null,
      "align_self": null,
      "border": null,
      "bottom": null,
      "display": null,
      "flex": null,
      "flex_flow": null,
      "grid_area": null,
      "grid_auto_columns": null,
      "grid_auto_flow": null,
      "grid_auto_rows": null,
      "grid_column": null,
      "grid_gap": null,
      "grid_row": null,
      "grid_template_areas": null,
      "grid_template_columns": null,
      "grid_template_rows": null,
      "height": null,
      "justify_content": null,
      "justify_items": null,
      "left": null,
      "margin": null,
      "max_height": null,
      "max_width": null,
      "min_height": null,
      "min_width": null,
      "object_fit": null,
      "object_position": null,
      "order": null,
      "overflow": null,
      "overflow_x": null,
      "overflow_y": null,
      "padding": null,
      "right": null,
      "top": null,
      "visibility": null,
      "width": null
     }
    },
    "44b01ff2dbfc4691bd98dc3a9fc12926": {
     "model_module": "@jupyter-widgets/controls",
     "model_module_version": "1.5.0",
     "model_name": "HTMLModel",
     "state": {
      "_dom_classes": [],
      "_model_module": "@jupyter-widgets/controls",
      "_model_module_version": "1.5.0",
      "_model_name": "HTMLModel",
      "_view_count": null,
      "_view_module": "@jupyter-widgets/controls",
      "_view_module_version": "1.5.0",
      "_view_name": "HTMLView",
      "description": "",
      "description_tooltip": null,
      "layout": "IPY_MODEL_6f4727c4dc5c496492b0e4fd78cd3335",
      "placeholder": "​",
      "style": "IPY_MODEL_37ae61c001ab4ad68bf855a42367dbac",
      "value": " 5/5 [00:01&lt;00:00,  4.04it/s]"
     }
    },
    "45051b0d7cb54d41900049d873dc2ca9": {
     "model_module": "@jupyter-widgets/controls",
     "model_module_version": "1.5.0",
     "model_name": "HTMLModel",
     "state": {
      "_dom_classes": [],
      "_model_module": "@jupyter-widgets/controls",
      "_model_module_version": "1.5.0",
      "_model_name": "HTMLModel",
      "_view_count": null,
      "_view_module": "@jupyter-widgets/controls",
      "_view_module_version": "1.5.0",
      "_view_name": "HTMLView",
      "description": "",
      "description_tooltip": null,
      "layout": "IPY_MODEL_1ab2ca7ae26c4448b8bf7721730f28b3",
      "placeholder": "​",
      "style": "IPY_MODEL_ac17ce2c53c243c092e1a97f000d6af3",
      "value": " 5/5 [00:01&lt;00:00,  4.07it/s]"
     }
    },
    "4514e06938e14fbebd16774f678ca54f": {
     "model_module": "@jupyter-widgets/controls",
     "model_module_version": "1.5.0",
     "model_name": "HBoxModel",
     "state": {
      "_dom_classes": [],
      "_model_module": "@jupyter-widgets/controls",
      "_model_module_version": "1.5.0",
      "_model_name": "HBoxModel",
      "_view_count": null,
      "_view_module": "@jupyter-widgets/controls",
      "_view_module_version": "1.5.0",
      "_view_name": "HBoxView",
      "box_style": "",
      "children": [
       "IPY_MODEL_a8e1077232e94744b98f2fd7b40cbeb4",
       "IPY_MODEL_e3e212dbea104caaa321f10edacde3e5",
       "IPY_MODEL_32128e779857430fa70b233e71295001"
      ],
      "layout": "IPY_MODEL_007f26abf1354f87930bf722aff8bf87"
     }
    },
    "46c84c6d971f46e68ba045bf8ace9033": {
     "model_module": "@jupyter-widgets/controls",
     "model_module_version": "1.5.0",
     "model_name": "DescriptionStyleModel",
     "state": {
      "_model_module": "@jupyter-widgets/controls",
      "_model_module_version": "1.5.0",
      "_model_name": "DescriptionStyleModel",
      "_view_count": null,
      "_view_module": "@jupyter-widgets/base",
      "_view_module_version": "1.2.0",
      "_view_name": "StyleView",
      "description_width": ""
     }
    },
    "46eab2d398774620ae15262cb56778d8": {
     "model_module": "@jupyter-widgets/controls",
     "model_module_version": "1.5.0",
     "model_name": "ProgressStyleModel",
     "state": {
      "_model_module": "@jupyter-widgets/controls",
      "_model_module_version": "1.5.0",
      "_model_name": "ProgressStyleModel",
      "_view_count": null,
      "_view_module": "@jupyter-widgets/base",
      "_view_module_version": "1.2.0",
      "_view_name": "StyleView",
      "bar_color": null,
      "description_width": ""
     }
    },
    "47964b01bc4644d9845295aa43e0f4b2": {
     "model_module": "@jupyter-widgets/controls",
     "model_module_version": "1.5.0",
     "model_name": "HTMLModel",
     "state": {
      "_dom_classes": [],
      "_model_module": "@jupyter-widgets/controls",
      "_model_module_version": "1.5.0",
      "_model_name": "HTMLModel",
      "_view_count": null,
      "_view_module": "@jupyter-widgets/controls",
      "_view_module_version": "1.5.0",
      "_view_name": "HTMLView",
      "description": "",
      "description_tooltip": null,
      "layout": "IPY_MODEL_fe967ffeedd24e1f89083bdd6bfb6ee7",
      "placeholder": "​",
      "style": "IPY_MODEL_ede39778212a4305bcf11fac1f52a897",
      "value": "Validation DataLoader 0: 100%"
     }
    },
    "47d6882af5e2453193b78f8db7d5ff47": {
     "model_module": "@jupyter-widgets/controls",
     "model_module_version": "1.5.0",
     "model_name": "FloatProgressModel",
     "state": {
      "_dom_classes": [],
      "_model_module": "@jupyter-widgets/controls",
      "_model_module_version": "1.5.0",
      "_model_name": "FloatProgressModel",
      "_view_count": null,
      "_view_module": "@jupyter-widgets/controls",
      "_view_module_version": "1.5.0",
      "_view_name": "ProgressView",
      "bar_style": "",
      "description": "",
      "description_tooltip": null,
      "layout": "IPY_MODEL_cca5cca3c5db4dc98cf0e53c8310b7c9",
      "max": 5,
      "min": 0,
      "orientation": "horizontal",
      "style": "IPY_MODEL_d9f7da1ab6464937a72ab924f003c38f",
      "value": 5
     }
    },
    "485ed2d693744f44a85883bb3a757295": {
     "model_module": "@jupyter-widgets/controls",
     "model_module_version": "1.5.0",
     "model_name": "HBoxModel",
     "state": {
      "_dom_classes": [],
      "_model_module": "@jupyter-widgets/controls",
      "_model_module_version": "1.5.0",
      "_model_name": "HBoxModel",
      "_view_count": null,
      "_view_module": "@jupyter-widgets/controls",
      "_view_module_version": "1.5.0",
      "_view_name": "HBoxView",
      "box_style": "",
      "children": [
       "IPY_MODEL_d3fea870e89a4c688064425bfed95079",
       "IPY_MODEL_7185a448c0e94a02a1614b7c0d19a393",
       "IPY_MODEL_60b194bbb0c74909a7d562c936e8e0f7"
      ],
      "layout": "IPY_MODEL_92b7dc5621a24349876f1c2e53a2cda4"
     }
    },
    "488d422f35e24f2fbb2db8f2c95131fb": {
     "model_module": "@jupyter-widgets/controls",
     "model_module_version": "1.5.0",
     "model_name": "HTMLModel",
     "state": {
      "_dom_classes": [],
      "_model_module": "@jupyter-widgets/controls",
      "_model_module_version": "1.5.0",
      "_model_name": "HTMLModel",
      "_view_count": null,
      "_view_module": "@jupyter-widgets/controls",
      "_view_module_version": "1.5.0",
      "_view_name": "HTMLView",
      "description": "",
      "description_tooltip": null,
      "layout": "IPY_MODEL_7a9de47127b541aa936c3d17f098f626",
      "placeholder": "​",
      "style": "IPY_MODEL_54cf1553d06f4593a43ee901c0d7e093",
      "value": "Validation DataLoader 0: 100%"
     }
    },
    "4984f4df68c64b198b31337079c3ab77": {
     "model_module": "@jupyter-widgets/controls",
     "model_module_version": "1.5.0",
     "model_name": "ProgressStyleModel",
     "state": {
      "_model_module": "@jupyter-widgets/controls",
      "_model_module_version": "1.5.0",
      "_model_name": "ProgressStyleModel",
      "_view_count": null,
      "_view_module": "@jupyter-widgets/base",
      "_view_module_version": "1.2.0",
      "_view_name": "StyleView",
      "bar_color": null,
      "description_width": ""
     }
    },
    "4a47fb4e036d42dea8723210038f5eea": {
     "model_module": "@jupyter-widgets/base",
     "model_module_version": "1.2.0",
     "model_name": "LayoutModel",
     "state": {
      "_model_module": "@jupyter-widgets/base",
      "_model_module_version": "1.2.0",
      "_model_name": "LayoutModel",
      "_view_count": null,
      "_view_module": "@jupyter-widgets/base",
      "_view_module_version": "1.2.0",
      "_view_name": "LayoutView",
      "align_content": null,
      "align_items": null,
      "align_self": null,
      "border": null,
      "bottom": null,
      "display": null,
      "flex": null,
      "flex_flow": null,
      "grid_area": null,
      "grid_auto_columns": null,
      "grid_auto_flow": null,
      "grid_auto_rows": null,
      "grid_column": null,
      "grid_gap": null,
      "grid_row": null,
      "grid_template_areas": null,
      "grid_template_columns": null,
      "grid_template_rows": null,
      "height": null,
      "justify_content": null,
      "justify_items": null,
      "left": null,
      "margin": null,
      "max_height": null,
      "max_width": null,
      "min_height": null,
      "min_width": null,
      "object_fit": null,
      "object_position": null,
      "order": null,
      "overflow": null,
      "overflow_x": null,
      "overflow_y": null,
      "padding": null,
      "right": null,
      "top": null,
      "visibility": null,
      "width": null
     }
    },
    "4c101adde46c47abac317f30860a3d77": {
     "model_module": "@jupyter-widgets/base",
     "model_module_version": "1.2.0",
     "model_name": "LayoutModel",
     "state": {
      "_model_module": "@jupyter-widgets/base",
      "_model_module_version": "1.2.0",
      "_model_name": "LayoutModel",
      "_view_count": null,
      "_view_module": "@jupyter-widgets/base",
      "_view_module_version": "1.2.0",
      "_view_name": "LayoutView",
      "align_content": null,
      "align_items": null,
      "align_self": null,
      "border": null,
      "bottom": null,
      "display": "inline-flex",
      "flex": null,
      "flex_flow": "row wrap",
      "grid_area": null,
      "grid_auto_columns": null,
      "grid_auto_flow": null,
      "grid_auto_rows": null,
      "grid_column": null,
      "grid_gap": null,
      "grid_row": null,
      "grid_template_areas": null,
      "grid_template_columns": null,
      "grid_template_rows": null,
      "height": null,
      "justify_content": null,
      "justify_items": null,
      "left": null,
      "margin": null,
      "max_height": null,
      "max_width": null,
      "min_height": null,
      "min_width": null,
      "object_fit": null,
      "object_position": null,
      "order": null,
      "overflow": null,
      "overflow_x": null,
      "overflow_y": null,
      "padding": null,
      "right": null,
      "top": null,
      "visibility": "hidden",
      "width": "100%"
     }
    },
    "4c5a911ef7924db7a628ddf10a3543a6": {
     "model_module": "@jupyter-widgets/controls",
     "model_module_version": "1.5.0",
     "model_name": "HTMLModel",
     "state": {
      "_dom_classes": [],
      "_model_module": "@jupyter-widgets/controls",
      "_model_module_version": "1.5.0",
      "_model_name": "HTMLModel",
      "_view_count": null,
      "_view_module": "@jupyter-widgets/controls",
      "_view_module_version": "1.5.0",
      "_view_name": "HTMLView",
      "description": "",
      "description_tooltip": null,
      "layout": "IPY_MODEL_cfd173b23e9d4a3b9e5cd91e7de132d7",
      "placeholder": "​",
      "style": "IPY_MODEL_9500732d231d4403a90176e3160080fd",
      "value": "Validation DataLoader 0: 100%"
     }
    },
    "4dc435d24d964f17bada936961d5a8e7": {
     "model_module": "@jupyter-widgets/base",
     "model_module_version": "1.2.0",
     "model_name": "LayoutModel",
     "state": {
      "_model_module": "@jupyter-widgets/base",
      "_model_module_version": "1.2.0",
      "_model_name": "LayoutModel",
      "_view_count": null,
      "_view_module": "@jupyter-widgets/base",
      "_view_module_version": "1.2.0",
      "_view_name": "LayoutView",
      "align_content": null,
      "align_items": null,
      "align_self": null,
      "border": null,
      "bottom": null,
      "display": null,
      "flex": null,
      "flex_flow": null,
      "grid_area": null,
      "grid_auto_columns": null,
      "grid_auto_flow": null,
      "grid_auto_rows": null,
      "grid_column": null,
      "grid_gap": null,
      "grid_row": null,
      "grid_template_areas": null,
      "grid_template_columns": null,
      "grid_template_rows": null,
      "height": null,
      "justify_content": null,
      "justify_items": null,
      "left": null,
      "margin": null,
      "max_height": null,
      "max_width": null,
      "min_height": null,
      "min_width": null,
      "object_fit": null,
      "object_position": null,
      "order": null,
      "overflow": null,
      "overflow_x": null,
      "overflow_y": null,
      "padding": null,
      "right": null,
      "top": null,
      "visibility": null,
      "width": null
     }
    },
    "4dddc35188764ae2bfd3778513eae444": {
     "model_module": "@jupyter-widgets/base",
     "model_module_version": "1.2.0",
     "model_name": "LayoutModel",
     "state": {
      "_model_module": "@jupyter-widgets/base",
      "_model_module_version": "1.2.0",
      "_model_name": "LayoutModel",
      "_view_count": null,
      "_view_module": "@jupyter-widgets/base",
      "_view_module_version": "1.2.0",
      "_view_name": "LayoutView",
      "align_content": null,
      "align_items": null,
      "align_self": null,
      "border": null,
      "bottom": null,
      "display": "inline-flex",
      "flex": null,
      "flex_flow": "row wrap",
      "grid_area": null,
      "grid_auto_columns": null,
      "grid_auto_flow": null,
      "grid_auto_rows": null,
      "grid_column": null,
      "grid_gap": null,
      "grid_row": null,
      "grid_template_areas": null,
      "grid_template_columns": null,
      "grid_template_rows": null,
      "height": null,
      "justify_content": null,
      "justify_items": null,
      "left": null,
      "margin": null,
      "max_height": null,
      "max_width": null,
      "min_height": null,
      "min_width": null,
      "object_fit": null,
      "object_position": null,
      "order": null,
      "overflow": null,
      "overflow_x": null,
      "overflow_y": null,
      "padding": null,
      "right": null,
      "top": null,
      "visibility": "hidden",
      "width": "100%"
     }
    },
    "4dec577cdc25459ab92cf86e44498418": {
     "model_module": "@jupyter-widgets/controls",
     "model_module_version": "1.5.0",
     "model_name": "DescriptionStyleModel",
     "state": {
      "_model_module": "@jupyter-widgets/controls",
      "_model_module_version": "1.5.0",
      "_model_name": "DescriptionStyleModel",
      "_view_count": null,
      "_view_module": "@jupyter-widgets/base",
      "_view_module_version": "1.2.0",
      "_view_name": "StyleView",
      "description_width": ""
     }
    },
    "4e092e00349b4191be0557c623e9a0b7": {
     "model_module": "@jupyter-widgets/base",
     "model_module_version": "1.2.0",
     "model_name": "LayoutModel",
     "state": {
      "_model_module": "@jupyter-widgets/base",
      "_model_module_version": "1.2.0",
      "_model_name": "LayoutModel",
      "_view_count": null,
      "_view_module": "@jupyter-widgets/base",
      "_view_module_version": "1.2.0",
      "_view_name": "LayoutView",
      "align_content": null,
      "align_items": null,
      "align_self": null,
      "border": null,
      "bottom": null,
      "display": null,
      "flex": null,
      "flex_flow": null,
      "grid_area": null,
      "grid_auto_columns": null,
      "grid_auto_flow": null,
      "grid_auto_rows": null,
      "grid_column": null,
      "grid_gap": null,
      "grid_row": null,
      "grid_template_areas": null,
      "grid_template_columns": null,
      "grid_template_rows": null,
      "height": null,
      "justify_content": null,
      "justify_items": null,
      "left": null,
      "margin": null,
      "max_height": null,
      "max_width": null,
      "min_height": null,
      "min_width": null,
      "object_fit": null,
      "object_position": null,
      "order": null,
      "overflow": null,
      "overflow_x": null,
      "overflow_y": null,
      "padding": null,
      "right": null,
      "top": null,
      "visibility": null,
      "width": null
     }
    },
    "4e64be8a20a7410fbbea478c3054b073": {
     "model_module": "@jupyter-widgets/controls",
     "model_module_version": "1.5.0",
     "model_name": "HTMLModel",
     "state": {
      "_dom_classes": [],
      "_model_module": "@jupyter-widgets/controls",
      "_model_module_version": "1.5.0",
      "_model_name": "HTMLModel",
      "_view_count": null,
      "_view_module": "@jupyter-widgets/controls",
      "_view_module_version": "1.5.0",
      "_view_name": "HTMLView",
      "description": "",
      "description_tooltip": null,
      "layout": "IPY_MODEL_ebec3ad832a74ba793d5396114414562",
      "placeholder": "​",
      "style": "IPY_MODEL_513478c0ef7848e19831549c916d7f6a",
      "value": " 5/5 [00:01&lt;00:00,  4.01it/s]"
     }
    },
    "4e6dda7579504a4ea3b19b64030b8e47": {
     "model_module": "@jupyter-widgets/controls",
     "model_module_version": "1.5.0",
     "model_name": "FloatProgressModel",
     "state": {
      "_dom_classes": [],
      "_model_module": "@jupyter-widgets/controls",
      "_model_module_version": "1.5.0",
      "_model_name": "FloatProgressModel",
      "_view_count": null,
      "_view_module": "@jupyter-widgets/controls",
      "_view_module_version": "1.5.0",
      "_view_name": "ProgressView",
      "bar_style": "",
      "description": "",
      "description_tooltip": null,
      "layout": "IPY_MODEL_866291b404004bc79f515b9a1eb989ee",
      "max": 5,
      "min": 0,
      "orientation": "horizontal",
      "style": "IPY_MODEL_0483e15cde6c4cc0901d012c6d0f52e8",
      "value": 5
     }
    },
    "4ead11aa65484f99931f89fa11385023": {
     "model_module": "@jupyter-widgets/controls",
     "model_module_version": "1.5.0",
     "model_name": "FloatProgressModel",
     "state": {
      "_dom_classes": [],
      "_model_module": "@jupyter-widgets/controls",
      "_model_module_version": "1.5.0",
      "_model_name": "FloatProgressModel",
      "_view_count": null,
      "_view_module": "@jupyter-widgets/controls",
      "_view_module_version": "1.5.0",
      "_view_name": "ProgressView",
      "bar_style": "",
      "description": "",
      "description_tooltip": null,
      "layout": "IPY_MODEL_21954171ea5a4a168f0caede02d5fff6",
      "max": 5,
      "min": 0,
      "orientation": "horizontal",
      "style": "IPY_MODEL_cb4eea16301346dd8575b38a11c9ad58",
      "value": 5
     }
    },
    "4fa82e0b2d654278a5304c75e1eca148": {
     "model_module": "@jupyter-widgets/base",
     "model_module_version": "1.2.0",
     "model_name": "LayoutModel",
     "state": {
      "_model_module": "@jupyter-widgets/base",
      "_model_module_version": "1.2.0",
      "_model_name": "LayoutModel",
      "_view_count": null,
      "_view_module": "@jupyter-widgets/base",
      "_view_module_version": "1.2.0",
      "_view_name": "LayoutView",
      "align_content": null,
      "align_items": null,
      "align_self": null,
      "border": null,
      "bottom": null,
      "display": null,
      "flex": null,
      "flex_flow": null,
      "grid_area": null,
      "grid_auto_columns": null,
      "grid_auto_flow": null,
      "grid_auto_rows": null,
      "grid_column": null,
      "grid_gap": null,
      "grid_row": null,
      "grid_template_areas": null,
      "grid_template_columns": null,
      "grid_template_rows": null,
      "height": null,
      "justify_content": null,
      "justify_items": null,
      "left": null,
      "margin": null,
      "max_height": null,
      "max_width": null,
      "min_height": null,
      "min_width": null,
      "object_fit": null,
      "object_position": null,
      "order": null,
      "overflow": null,
      "overflow_x": null,
      "overflow_y": null,
      "padding": null,
      "right": null,
      "top": null,
      "visibility": null,
      "width": null
     }
    },
    "504782d3e66248298365e98c96779552": {
     "model_module": "@jupyter-widgets/base",
     "model_module_version": "1.2.0",
     "model_name": "LayoutModel",
     "state": {
      "_model_module": "@jupyter-widgets/base",
      "_model_module_version": "1.2.0",
      "_model_name": "LayoutModel",
      "_view_count": null,
      "_view_module": "@jupyter-widgets/base",
      "_view_module_version": "1.2.0",
      "_view_name": "LayoutView",
      "align_content": null,
      "align_items": null,
      "align_self": null,
      "border": null,
      "bottom": null,
      "display": null,
      "flex": null,
      "flex_flow": null,
      "grid_area": null,
      "grid_auto_columns": null,
      "grid_auto_flow": null,
      "grid_auto_rows": null,
      "grid_column": null,
      "grid_gap": null,
      "grid_row": null,
      "grid_template_areas": null,
      "grid_template_columns": null,
      "grid_template_rows": null,
      "height": null,
      "justify_content": null,
      "justify_items": null,
      "left": null,
      "margin": null,
      "max_height": null,
      "max_width": null,
      "min_height": null,
      "min_width": null,
      "object_fit": null,
      "object_position": null,
      "order": null,
      "overflow": null,
      "overflow_x": null,
      "overflow_y": null,
      "padding": null,
      "right": null,
      "top": null,
      "visibility": null,
      "width": null
     }
    },
    "513478c0ef7848e19831549c916d7f6a": {
     "model_module": "@jupyter-widgets/controls",
     "model_module_version": "1.5.0",
     "model_name": "DescriptionStyleModel",
     "state": {
      "_model_module": "@jupyter-widgets/controls",
      "_model_module_version": "1.5.0",
      "_model_name": "DescriptionStyleModel",
      "_view_count": null,
      "_view_module": "@jupyter-widgets/base",
      "_view_module_version": "1.2.0",
      "_view_name": "StyleView",
      "description_width": ""
     }
    },
    "5138cff406aa42ea809b299c3587e47d": {
     "model_module": "@jupyter-widgets/controls",
     "model_module_version": "1.5.0",
     "model_name": "HBoxModel",
     "state": {
      "_dom_classes": [],
      "_model_module": "@jupyter-widgets/controls",
      "_model_module_version": "1.5.0",
      "_model_name": "HBoxModel",
      "_view_count": null,
      "_view_module": "@jupyter-widgets/controls",
      "_view_module_version": "1.5.0",
      "_view_name": "HBoxView",
      "box_style": "",
      "children": [
       "IPY_MODEL_47964b01bc4644d9845295aa43e0f4b2",
       "IPY_MODEL_5fb974108d3844869f5769fbc60ea809",
       "IPY_MODEL_0ed40799f744427c9dd4bee3ef5e9c20"
      ],
      "layout": "IPY_MODEL_426f819681c04d0b82bb2343113291d5"
     }
    },
    "51761f927a0843cea9e8d07bf0cc48cf": {
     "model_module": "@jupyter-widgets/controls",
     "model_module_version": "1.5.0",
     "model_name": "DescriptionStyleModel",
     "state": {
      "_model_module": "@jupyter-widgets/controls",
      "_model_module_version": "1.5.0",
      "_model_name": "DescriptionStyleModel",
      "_view_count": null,
      "_view_module": "@jupyter-widgets/base",
      "_view_module_version": "1.2.0",
      "_view_name": "StyleView",
      "description_width": ""
     }
    },
    "520bbbdadc4245e2ab5e4ff08aca94ba": {
     "model_module": "@jupyter-widgets/controls",
     "model_module_version": "1.5.0",
     "model_name": "DescriptionStyleModel",
     "state": {
      "_model_module": "@jupyter-widgets/controls",
      "_model_module_version": "1.5.0",
      "_model_name": "DescriptionStyleModel",
      "_view_count": null,
      "_view_module": "@jupyter-widgets/base",
      "_view_module_version": "1.2.0",
      "_view_name": "StyleView",
      "description_width": ""
     }
    },
    "5322e7357e054d778852908172f22940": {
     "model_module": "@jupyter-widgets/controls",
     "model_module_version": "1.5.0",
     "model_name": "HBoxModel",
     "state": {
      "_dom_classes": [],
      "_model_module": "@jupyter-widgets/controls",
      "_model_module_version": "1.5.0",
      "_model_name": "HBoxModel",
      "_view_count": null,
      "_view_module": "@jupyter-widgets/controls",
      "_view_module_version": "1.5.0",
      "_view_name": "HBoxView",
      "box_style": "",
      "children": [
       "IPY_MODEL_6331216d53ba4a2d82531f77de1c9d9d",
       "IPY_MODEL_9f3e88c495d9415d852e74da0f8ee9fb",
       "IPY_MODEL_ef7acba7ba8c46d59da947c182d91488"
      ],
      "layout": "IPY_MODEL_8c6f46e2352a48468670989d9e574cdc"
     }
    },
    "5430fd7786294b2bae6780f59de97c55": {
     "model_module": "@jupyter-widgets/base",
     "model_module_version": "1.2.0",
     "model_name": "LayoutModel",
     "state": {
      "_model_module": "@jupyter-widgets/base",
      "_model_module_version": "1.2.0",
      "_model_name": "LayoutModel",
      "_view_count": null,
      "_view_module": "@jupyter-widgets/base",
      "_view_module_version": "1.2.0",
      "_view_name": "LayoutView",
      "align_content": null,
      "align_items": null,
      "align_self": null,
      "border": null,
      "bottom": null,
      "display": null,
      "flex": null,
      "flex_flow": null,
      "grid_area": null,
      "grid_auto_columns": null,
      "grid_auto_flow": null,
      "grid_auto_rows": null,
      "grid_column": null,
      "grid_gap": null,
      "grid_row": null,
      "grid_template_areas": null,
      "grid_template_columns": null,
      "grid_template_rows": null,
      "height": null,
      "justify_content": null,
      "justify_items": null,
      "left": null,
      "margin": null,
      "max_height": null,
      "max_width": null,
      "min_height": null,
      "min_width": null,
      "object_fit": null,
      "object_position": null,
      "order": null,
      "overflow": null,
      "overflow_x": null,
      "overflow_y": null,
      "padding": null,
      "right": null,
      "top": null,
      "visibility": null,
      "width": null
     }
    },
    "54cf1553d06f4593a43ee901c0d7e093": {
     "model_module": "@jupyter-widgets/controls",
     "model_module_version": "1.5.0",
     "model_name": "DescriptionStyleModel",
     "state": {
      "_model_module": "@jupyter-widgets/controls",
      "_model_module_version": "1.5.0",
      "_model_name": "DescriptionStyleModel",
      "_view_count": null,
      "_view_module": "@jupyter-widgets/base",
      "_view_module_version": "1.2.0",
      "_view_name": "StyleView",
      "description_width": ""
     }
    },
    "56cd3bd243864e459dba83a9d6214ab8": {
     "model_module": "@jupyter-widgets/controls",
     "model_module_version": "1.5.0",
     "model_name": "FloatProgressModel",
     "state": {
      "_dom_classes": [],
      "_model_module": "@jupyter-widgets/controls",
      "_model_module_version": "1.5.0",
      "_model_name": "FloatProgressModel",
      "_view_count": null,
      "_view_module": "@jupyter-widgets/controls",
      "_view_module_version": "1.5.0",
      "_view_name": "ProgressView",
      "bar_style": "",
      "description": "",
      "description_tooltip": null,
      "layout": "IPY_MODEL_69e868c6533946cfbbf15dccdbc44001",
      "max": 5,
      "min": 0,
      "orientation": "horizontal",
      "style": "IPY_MODEL_d3626bfed1ac400b87d9e5e364fdc877",
      "value": 5
     }
    },
    "56d1301230e74eab85a0d0871ce81513": {
     "model_module": "@jupyter-widgets/base",
     "model_module_version": "1.2.0",
     "model_name": "LayoutModel",
     "state": {
      "_model_module": "@jupyter-widgets/base",
      "_model_module_version": "1.2.0",
      "_model_name": "LayoutModel",
      "_view_count": null,
      "_view_module": "@jupyter-widgets/base",
      "_view_module_version": "1.2.0",
      "_view_name": "LayoutView",
      "align_content": null,
      "align_items": null,
      "align_self": null,
      "border": null,
      "bottom": null,
      "display": null,
      "flex": null,
      "flex_flow": null,
      "grid_area": null,
      "grid_auto_columns": null,
      "grid_auto_flow": null,
      "grid_auto_rows": null,
      "grid_column": null,
      "grid_gap": null,
      "grid_row": null,
      "grid_template_areas": null,
      "grid_template_columns": null,
      "grid_template_rows": null,
      "height": null,
      "justify_content": null,
      "justify_items": null,
      "left": null,
      "margin": null,
      "max_height": null,
      "max_width": null,
      "min_height": null,
      "min_width": null,
      "object_fit": null,
      "object_position": null,
      "order": null,
      "overflow": null,
      "overflow_x": null,
      "overflow_y": null,
      "padding": null,
      "right": null,
      "top": null,
      "visibility": null,
      "width": null
     }
    },
    "56dacccf505d485698f343d9084709cf": {
     "model_module": "@jupyter-widgets/controls",
     "model_module_version": "1.5.0",
     "model_name": "FloatProgressModel",
     "state": {
      "_dom_classes": [],
      "_model_module": "@jupyter-widgets/controls",
      "_model_module_version": "1.5.0",
      "_model_name": "FloatProgressModel",
      "_view_count": null,
      "_view_module": "@jupyter-widgets/controls",
      "_view_module_version": "1.5.0",
      "_view_name": "ProgressView",
      "bar_style": "",
      "description": "",
      "description_tooltip": null,
      "layout": "IPY_MODEL_a3a407591b7a4c2e9b29642e7d4a709a",
      "max": 5,
      "min": 0,
      "orientation": "horizontal",
      "style": "IPY_MODEL_46eab2d398774620ae15262cb56778d8",
      "value": 5
     }
    },
    "56f01e9f72e1403c99cdd583e29867b4": {
     "model_module": "@jupyter-widgets/controls",
     "model_module_version": "1.5.0",
     "model_name": "HBoxModel",
     "state": {
      "_dom_classes": [],
      "_model_module": "@jupyter-widgets/controls",
      "_model_module_version": "1.5.0",
      "_model_name": "HBoxModel",
      "_view_count": null,
      "_view_module": "@jupyter-widgets/controls",
      "_view_module_version": "1.5.0",
      "_view_name": "HBoxView",
      "box_style": "",
      "children": [
       "IPY_MODEL_ffd642d9e6574d08b7b8730f7a679b4a",
       "IPY_MODEL_56dacccf505d485698f343d9084709cf",
       "IPY_MODEL_93ca0d69b1cc414f8b4701c55d5e8dc8"
      ],
      "layout": "IPY_MODEL_4dddc35188764ae2bfd3778513eae444"
     }
    },
    "5729f934cca3430da20bfdee16ffa94f": {
     "model_module": "@jupyter-widgets/base",
     "model_module_version": "1.2.0",
     "model_name": "LayoutModel",
     "state": {
      "_model_module": "@jupyter-widgets/base",
      "_model_module_version": "1.2.0",
      "_model_name": "LayoutModel",
      "_view_count": null,
      "_view_module": "@jupyter-widgets/base",
      "_view_module_version": "1.2.0",
      "_view_name": "LayoutView",
      "align_content": null,
      "align_items": null,
      "align_self": null,
      "border": null,
      "bottom": null,
      "display": null,
      "flex": null,
      "flex_flow": null,
      "grid_area": null,
      "grid_auto_columns": null,
      "grid_auto_flow": null,
      "grid_auto_rows": null,
      "grid_column": null,
      "grid_gap": null,
      "grid_row": null,
      "grid_template_areas": null,
      "grid_template_columns": null,
      "grid_template_rows": null,
      "height": null,
      "justify_content": null,
      "justify_items": null,
      "left": null,
      "margin": null,
      "max_height": null,
      "max_width": null,
      "min_height": null,
      "min_width": null,
      "object_fit": null,
      "object_position": null,
      "order": null,
      "overflow": null,
      "overflow_x": null,
      "overflow_y": null,
      "padding": null,
      "right": null,
      "top": null,
      "visibility": null,
      "width": null
     }
    },
    "583f637b81624117bcc4c1d423f70180": {
     "model_module": "@jupyter-widgets/base",
     "model_module_version": "1.2.0",
     "model_name": "LayoutModel",
     "state": {
      "_model_module": "@jupyter-widgets/base",
      "_model_module_version": "1.2.0",
      "_model_name": "LayoutModel",
      "_view_count": null,
      "_view_module": "@jupyter-widgets/base",
      "_view_module_version": "1.2.0",
      "_view_name": "LayoutView",
      "align_content": null,
      "align_items": null,
      "align_self": null,
      "border": null,
      "bottom": null,
      "display": null,
      "flex": null,
      "flex_flow": null,
      "grid_area": null,
      "grid_auto_columns": null,
      "grid_auto_flow": null,
      "grid_auto_rows": null,
      "grid_column": null,
      "grid_gap": null,
      "grid_row": null,
      "grid_template_areas": null,
      "grid_template_columns": null,
      "grid_template_rows": null,
      "height": null,
      "justify_content": null,
      "justify_items": null,
      "left": null,
      "margin": null,
      "max_height": null,
      "max_width": null,
      "min_height": null,
      "min_width": null,
      "object_fit": null,
      "object_position": null,
      "order": null,
      "overflow": null,
      "overflow_x": null,
      "overflow_y": null,
      "padding": null,
      "right": null,
      "top": null,
      "visibility": null,
      "width": null
     }
    },
    "586038ca3d9d403e869452e5cf0bc9f7": {
     "model_module": "@jupyter-widgets/base",
     "model_module_version": "1.2.0",
     "model_name": "LayoutModel",
     "state": {
      "_model_module": "@jupyter-widgets/base",
      "_model_module_version": "1.2.0",
      "_model_name": "LayoutModel",
      "_view_count": null,
      "_view_module": "@jupyter-widgets/base",
      "_view_module_version": "1.2.0",
      "_view_name": "LayoutView",
      "align_content": null,
      "align_items": null,
      "align_self": null,
      "border": null,
      "bottom": null,
      "display": "inline-flex",
      "flex": null,
      "flex_flow": "row wrap",
      "grid_area": null,
      "grid_auto_columns": null,
      "grid_auto_flow": null,
      "grid_auto_rows": null,
      "grid_column": null,
      "grid_gap": null,
      "grid_row": null,
      "grid_template_areas": null,
      "grid_template_columns": null,
      "grid_template_rows": null,
      "height": null,
      "justify_content": null,
      "justify_items": null,
      "left": null,
      "margin": null,
      "max_height": null,
      "max_width": null,
      "min_height": null,
      "min_width": null,
      "object_fit": null,
      "object_position": null,
      "order": null,
      "overflow": null,
      "overflow_x": null,
      "overflow_y": null,
      "padding": null,
      "right": null,
      "top": null,
      "visibility": "hidden",
      "width": "100%"
     }
    },
    "5973b91452c5418aa8de813354eefac8": {
     "model_module": "@jupyter-widgets/base",
     "model_module_version": "1.2.0",
     "model_name": "LayoutModel",
     "state": {
      "_model_module": "@jupyter-widgets/base",
      "_model_module_version": "1.2.0",
      "_model_name": "LayoutModel",
      "_view_count": null,
      "_view_module": "@jupyter-widgets/base",
      "_view_module_version": "1.2.0",
      "_view_name": "LayoutView",
      "align_content": null,
      "align_items": null,
      "align_self": null,
      "border": null,
      "bottom": null,
      "display": null,
      "flex": "2",
      "flex_flow": null,
      "grid_area": null,
      "grid_auto_columns": null,
      "grid_auto_flow": null,
      "grid_auto_rows": null,
      "grid_column": null,
      "grid_gap": null,
      "grid_row": null,
      "grid_template_areas": null,
      "grid_template_columns": null,
      "grid_template_rows": null,
      "height": null,
      "justify_content": null,
      "justify_items": null,
      "left": null,
      "margin": null,
      "max_height": null,
      "max_width": null,
      "min_height": null,
      "min_width": null,
      "object_fit": null,
      "object_position": null,
      "order": null,
      "overflow": null,
      "overflow_x": null,
      "overflow_y": null,
      "padding": null,
      "right": null,
      "top": null,
      "visibility": null,
      "width": null
     }
    },
    "59f5e01eb5b04fdb85c349de0c712d70": {
     "model_module": "@jupyter-widgets/controls",
     "model_module_version": "1.5.0",
     "model_name": "DescriptionStyleModel",
     "state": {
      "_model_module": "@jupyter-widgets/controls",
      "_model_module_version": "1.5.0",
      "_model_name": "DescriptionStyleModel",
      "_view_count": null,
      "_view_module": "@jupyter-widgets/base",
      "_view_module_version": "1.2.0",
      "_view_name": "StyleView",
      "description_width": ""
     }
    },
    "5bb6debaee234438b7dc6b7c02dd22d2": {
     "model_module": "@jupyter-widgets/base",
     "model_module_version": "1.2.0",
     "model_name": "LayoutModel",
     "state": {
      "_model_module": "@jupyter-widgets/base",
      "_model_module_version": "1.2.0",
      "_model_name": "LayoutModel",
      "_view_count": null,
      "_view_module": "@jupyter-widgets/base",
      "_view_module_version": "1.2.0",
      "_view_name": "LayoutView",
      "align_content": null,
      "align_items": null,
      "align_self": null,
      "border": null,
      "bottom": null,
      "display": "inline-flex",
      "flex": null,
      "flex_flow": "row wrap",
      "grid_area": null,
      "grid_auto_columns": null,
      "grid_auto_flow": null,
      "grid_auto_rows": null,
      "grid_column": null,
      "grid_gap": null,
      "grid_row": null,
      "grid_template_areas": null,
      "grid_template_columns": null,
      "grid_template_rows": null,
      "height": null,
      "justify_content": null,
      "justify_items": null,
      "left": null,
      "margin": null,
      "max_height": null,
      "max_width": null,
      "min_height": null,
      "min_width": null,
      "object_fit": null,
      "object_position": null,
      "order": null,
      "overflow": null,
      "overflow_x": null,
      "overflow_y": null,
      "padding": null,
      "right": null,
      "top": null,
      "visibility": "hidden",
      "width": "100%"
     }
    },
    "5c021060089045659f248646796fc038": {
     "model_module": "@jupyter-widgets/base",
     "model_module_version": "1.2.0",
     "model_name": "LayoutModel",
     "state": {
      "_model_module": "@jupyter-widgets/base",
      "_model_module_version": "1.2.0",
      "_model_name": "LayoutModel",
      "_view_count": null,
      "_view_module": "@jupyter-widgets/base",
      "_view_module_version": "1.2.0",
      "_view_name": "LayoutView",
      "align_content": null,
      "align_items": null,
      "align_self": null,
      "border": null,
      "bottom": null,
      "display": null,
      "flex": null,
      "flex_flow": null,
      "grid_area": null,
      "grid_auto_columns": null,
      "grid_auto_flow": null,
      "grid_auto_rows": null,
      "grid_column": null,
      "grid_gap": null,
      "grid_row": null,
      "grid_template_areas": null,
      "grid_template_columns": null,
      "grid_template_rows": null,
      "height": null,
      "justify_content": null,
      "justify_items": null,
      "left": null,
      "margin": null,
      "max_height": null,
      "max_width": null,
      "min_height": null,
      "min_width": null,
      "object_fit": null,
      "object_position": null,
      "order": null,
      "overflow": null,
      "overflow_x": null,
      "overflow_y": null,
      "padding": null,
      "right": null,
      "top": null,
      "visibility": null,
      "width": null
     }
    },
    "5c0654bdb08d4e61ad46c20184737417": {
     "model_module": "@jupyter-widgets/controls",
     "model_module_version": "1.5.0",
     "model_name": "DescriptionStyleModel",
     "state": {
      "_model_module": "@jupyter-widgets/controls",
      "_model_module_version": "1.5.0",
      "_model_name": "DescriptionStyleModel",
      "_view_count": null,
      "_view_module": "@jupyter-widgets/base",
      "_view_module_version": "1.2.0",
      "_view_name": "StyleView",
      "description_width": ""
     }
    },
    "5c6cd76c7034426d8cc9537c1123f419": {
     "model_module": "@jupyter-widgets/base",
     "model_module_version": "1.2.0",
     "model_name": "LayoutModel",
     "state": {
      "_model_module": "@jupyter-widgets/base",
      "_model_module_version": "1.2.0",
      "_model_name": "LayoutModel",
      "_view_count": null,
      "_view_module": "@jupyter-widgets/base",
      "_view_module_version": "1.2.0",
      "_view_name": "LayoutView",
      "align_content": null,
      "align_items": null,
      "align_self": null,
      "border": null,
      "bottom": null,
      "display": null,
      "flex": null,
      "flex_flow": null,
      "grid_area": null,
      "grid_auto_columns": null,
      "grid_auto_flow": null,
      "grid_auto_rows": null,
      "grid_column": null,
      "grid_gap": null,
      "grid_row": null,
      "grid_template_areas": null,
      "grid_template_columns": null,
      "grid_template_rows": null,
      "height": null,
      "justify_content": null,
      "justify_items": null,
      "left": null,
      "margin": null,
      "max_height": null,
      "max_width": null,
      "min_height": null,
      "min_width": null,
      "object_fit": null,
      "object_position": null,
      "order": null,
      "overflow": null,
      "overflow_x": null,
      "overflow_y": null,
      "padding": null,
      "right": null,
      "top": null,
      "visibility": null,
      "width": null
     }
    },
    "5c79d12a7f714252a58b426d2ba25ff5": {
     "model_module": "@jupyter-widgets/controls",
     "model_module_version": "1.5.0",
     "model_name": "ProgressStyleModel",
     "state": {
      "_model_module": "@jupyter-widgets/controls",
      "_model_module_version": "1.5.0",
      "_model_name": "ProgressStyleModel",
      "_view_count": null,
      "_view_module": "@jupyter-widgets/base",
      "_view_module_version": "1.2.0",
      "_view_name": "StyleView",
      "bar_color": null,
      "description_width": ""
     }
    },
    "5ca4caec5f1a4428862231e2f6eec8fe": {
     "model_module": "@jupyter-widgets/controls",
     "model_module_version": "1.5.0",
     "model_name": "FloatProgressModel",
     "state": {
      "_dom_classes": [],
      "_model_module": "@jupyter-widgets/controls",
      "_model_module_version": "1.5.0",
      "_model_name": "FloatProgressModel",
      "_view_count": null,
      "_view_module": "@jupyter-widgets/controls",
      "_view_module_version": "1.5.0",
      "_view_name": "ProgressView",
      "bar_style": "",
      "description": "",
      "description_tooltip": null,
      "layout": "IPY_MODEL_7f7bf836e30542fdb315458bc52f2d10",
      "max": 5,
      "min": 0,
      "orientation": "horizontal",
      "style": "IPY_MODEL_4984f4df68c64b198b31337079c3ab77",
      "value": 5
     }
    },
    "5d39732b9cf443c5ac841040016944e8": {
     "model_module": "@jupyter-widgets/base",
     "model_module_version": "1.2.0",
     "model_name": "LayoutModel",
     "state": {
      "_model_module": "@jupyter-widgets/base",
      "_model_module_version": "1.2.0",
      "_model_name": "LayoutModel",
      "_view_count": null,
      "_view_module": "@jupyter-widgets/base",
      "_view_module_version": "1.2.0",
      "_view_name": "LayoutView",
      "align_content": null,
      "align_items": null,
      "align_self": null,
      "border": null,
      "bottom": null,
      "display": null,
      "flex": "2",
      "flex_flow": null,
      "grid_area": null,
      "grid_auto_columns": null,
      "grid_auto_flow": null,
      "grid_auto_rows": null,
      "grid_column": null,
      "grid_gap": null,
      "grid_row": null,
      "grid_template_areas": null,
      "grid_template_columns": null,
      "grid_template_rows": null,
      "height": null,
      "justify_content": null,
      "justify_items": null,
      "left": null,
      "margin": null,
      "max_height": null,
      "max_width": null,
      "min_height": null,
      "min_width": null,
      "object_fit": null,
      "object_position": null,
      "order": null,
      "overflow": null,
      "overflow_x": null,
      "overflow_y": null,
      "padding": null,
      "right": null,
      "top": null,
      "visibility": null,
      "width": null
     }
    },
    "5d8da6bebd154986b5345cbbfe497445": {
     "model_module": "@jupyter-widgets/controls",
     "model_module_version": "1.5.0",
     "model_name": "HBoxModel",
     "state": {
      "_dom_classes": [],
      "_model_module": "@jupyter-widgets/controls",
      "_model_module_version": "1.5.0",
      "_model_name": "HBoxModel",
      "_view_count": null,
      "_view_module": "@jupyter-widgets/controls",
      "_view_module_version": "1.5.0",
      "_view_name": "HBoxView",
      "box_style": "",
      "children": [
       "IPY_MODEL_d727063354404501a8e015c1f62aeab9",
       "IPY_MODEL_b10448565e254741a676ad57f506bfae",
       "IPY_MODEL_8ab2bae0518746b98f78b5592a492c71"
      ],
      "layout": "IPY_MODEL_c90fc737e8bf442d84af58e92c43f23a"
     }
    },
    "5db005f71c964dafb6ecf7df649eaf88": {
     "model_module": "@jupyter-widgets/controls",
     "model_module_version": "1.5.0",
     "model_name": "HTMLModel",
     "state": {
      "_dom_classes": [],
      "_model_module": "@jupyter-widgets/controls",
      "_model_module_version": "1.5.0",
      "_model_name": "HTMLModel",
      "_view_count": null,
      "_view_module": "@jupyter-widgets/controls",
      "_view_module_version": "1.5.0",
      "_view_name": "HTMLView",
      "description": "",
      "description_tooltip": null,
      "layout": "IPY_MODEL_9a0f7629b33a4f35aa508b67a8fbcfad",
      "placeholder": "​",
      "style": "IPY_MODEL_09033db4eb6540c6a73c50b736ce8436",
      "value": "Validation DataLoader 0: 100%"
     }
    },
    "5e7cd093b48d48b093f2593cf9951fc9": {
     "model_module": "@jupyter-widgets/controls",
     "model_module_version": "1.5.0",
     "model_name": "DescriptionStyleModel",
     "state": {
      "_model_module": "@jupyter-widgets/controls",
      "_model_module_version": "1.5.0",
      "_model_name": "DescriptionStyleModel",
      "_view_count": null,
      "_view_module": "@jupyter-widgets/base",
      "_view_module_version": "1.2.0",
      "_view_name": "StyleView",
      "description_width": ""
     }
    },
    "5f1c39cff1364af28459fb3cf9c00db5": {
     "model_module": "@jupyter-widgets/controls",
     "model_module_version": "1.5.0",
     "model_name": "DescriptionStyleModel",
     "state": {
      "_model_module": "@jupyter-widgets/controls",
      "_model_module_version": "1.5.0",
      "_model_name": "DescriptionStyleModel",
      "_view_count": null,
      "_view_module": "@jupyter-widgets/base",
      "_view_module_version": "1.2.0",
      "_view_name": "StyleView",
      "description_width": ""
     }
    },
    "5f6a338373124c2ea5030f3ad260554f": {
     "model_module": "@jupyter-widgets/base",
     "model_module_version": "1.2.0",
     "model_name": "LayoutModel",
     "state": {
      "_model_module": "@jupyter-widgets/base",
      "_model_module_version": "1.2.0",
      "_model_name": "LayoutModel",
      "_view_count": null,
      "_view_module": "@jupyter-widgets/base",
      "_view_module_version": "1.2.0",
      "_view_name": "LayoutView",
      "align_content": null,
      "align_items": null,
      "align_self": null,
      "border": null,
      "bottom": null,
      "display": null,
      "flex": "2",
      "flex_flow": null,
      "grid_area": null,
      "grid_auto_columns": null,
      "grid_auto_flow": null,
      "grid_auto_rows": null,
      "grid_column": null,
      "grid_gap": null,
      "grid_row": null,
      "grid_template_areas": null,
      "grid_template_columns": null,
      "grid_template_rows": null,
      "height": null,
      "justify_content": null,
      "justify_items": null,
      "left": null,
      "margin": null,
      "max_height": null,
      "max_width": null,
      "min_height": null,
      "min_width": null,
      "object_fit": null,
      "object_position": null,
      "order": null,
      "overflow": null,
      "overflow_x": null,
      "overflow_y": null,
      "padding": null,
      "right": null,
      "top": null,
      "visibility": null,
      "width": null
     }
    },
    "5fb974108d3844869f5769fbc60ea809": {
     "model_module": "@jupyter-widgets/controls",
     "model_module_version": "1.5.0",
     "model_name": "FloatProgressModel",
     "state": {
      "_dom_classes": [],
      "_model_module": "@jupyter-widgets/controls",
      "_model_module_version": "1.5.0",
      "_model_name": "FloatProgressModel",
      "_view_count": null,
      "_view_module": "@jupyter-widgets/controls",
      "_view_module_version": "1.5.0",
      "_view_name": "ProgressView",
      "bar_style": "",
      "description": "",
      "description_tooltip": null,
      "layout": "IPY_MODEL_c4b97e0f183647069cf520b1b2c13c11",
      "max": 5,
      "min": 0,
      "orientation": "horizontal",
      "style": "IPY_MODEL_dbc7ee46311947c5b3539dc70867f657",
      "value": 5
     }
    },
    "6023cb32bfba4047a90c897efb4a6b7c": {
     "model_module": "@jupyter-widgets/base",
     "model_module_version": "1.2.0",
     "model_name": "LayoutModel",
     "state": {
      "_model_module": "@jupyter-widgets/base",
      "_model_module_version": "1.2.0",
      "_model_name": "LayoutModel",
      "_view_count": null,
      "_view_module": "@jupyter-widgets/base",
      "_view_module_version": "1.2.0",
      "_view_name": "LayoutView",
      "align_content": null,
      "align_items": null,
      "align_self": null,
      "border": null,
      "bottom": null,
      "display": null,
      "flex": null,
      "flex_flow": null,
      "grid_area": null,
      "grid_auto_columns": null,
      "grid_auto_flow": null,
      "grid_auto_rows": null,
      "grid_column": null,
      "grid_gap": null,
      "grid_row": null,
      "grid_template_areas": null,
      "grid_template_columns": null,
      "grid_template_rows": null,
      "height": null,
      "justify_content": null,
      "justify_items": null,
      "left": null,
      "margin": null,
      "max_height": null,
      "max_width": null,
      "min_height": null,
      "min_width": null,
      "object_fit": null,
      "object_position": null,
      "order": null,
      "overflow": null,
      "overflow_x": null,
      "overflow_y": null,
      "padding": null,
      "right": null,
      "top": null,
      "visibility": null,
      "width": null
     }
    },
    "60398f6c25514bb2b14e964ad96b51e7": {
     "model_module": "@jupyter-widgets/base",
     "model_module_version": "1.2.0",
     "model_name": "LayoutModel",
     "state": {
      "_model_module": "@jupyter-widgets/base",
      "_model_module_version": "1.2.0",
      "_model_name": "LayoutModel",
      "_view_count": null,
      "_view_module": "@jupyter-widgets/base",
      "_view_module_version": "1.2.0",
      "_view_name": "LayoutView",
      "align_content": null,
      "align_items": null,
      "align_self": null,
      "border": null,
      "bottom": null,
      "display": null,
      "flex": "2",
      "flex_flow": null,
      "grid_area": null,
      "grid_auto_columns": null,
      "grid_auto_flow": null,
      "grid_auto_rows": null,
      "grid_column": null,
      "grid_gap": null,
      "grid_row": null,
      "grid_template_areas": null,
      "grid_template_columns": null,
      "grid_template_rows": null,
      "height": null,
      "justify_content": null,
      "justify_items": null,
      "left": null,
      "margin": null,
      "max_height": null,
      "max_width": null,
      "min_height": null,
      "min_width": null,
      "object_fit": null,
      "object_position": null,
      "order": null,
      "overflow": null,
      "overflow_x": null,
      "overflow_y": null,
      "padding": null,
      "right": null,
      "top": null,
      "visibility": null,
      "width": null
     }
    },
    "604c9a89b8ba41fab6d0025e92d2a4d3": {
     "model_module": "@jupyter-widgets/base",
     "model_module_version": "1.2.0",
     "model_name": "LayoutModel",
     "state": {
      "_model_module": "@jupyter-widgets/base",
      "_model_module_version": "1.2.0",
      "_model_name": "LayoutModel",
      "_view_count": null,
      "_view_module": "@jupyter-widgets/base",
      "_view_module_version": "1.2.0",
      "_view_name": "LayoutView",
      "align_content": null,
      "align_items": null,
      "align_self": null,
      "border": null,
      "bottom": null,
      "display": null,
      "flex": "2",
      "flex_flow": null,
      "grid_area": null,
      "grid_auto_columns": null,
      "grid_auto_flow": null,
      "grid_auto_rows": null,
      "grid_column": null,
      "grid_gap": null,
      "grid_row": null,
      "grid_template_areas": null,
      "grid_template_columns": null,
      "grid_template_rows": null,
      "height": null,
      "justify_content": null,
      "justify_items": null,
      "left": null,
      "margin": null,
      "max_height": null,
      "max_width": null,
      "min_height": null,
      "min_width": null,
      "object_fit": null,
      "object_position": null,
      "order": null,
      "overflow": null,
      "overflow_x": null,
      "overflow_y": null,
      "padding": null,
      "right": null,
      "top": null,
      "visibility": null,
      "width": null
     }
    },
    "60b194bbb0c74909a7d562c936e8e0f7": {
     "model_module": "@jupyter-widgets/controls",
     "model_module_version": "1.5.0",
     "model_name": "HTMLModel",
     "state": {
      "_dom_classes": [],
      "_model_module": "@jupyter-widgets/controls",
      "_model_module_version": "1.5.0",
      "_model_name": "HTMLModel",
      "_view_count": null,
      "_view_module": "@jupyter-widgets/controls",
      "_view_module_version": "1.5.0",
      "_view_name": "HTMLView",
      "description": "",
      "description_tooltip": null,
      "layout": "IPY_MODEL_31bfcb8929394ad0897b92662d0b16d1",
      "placeholder": "​",
      "style": "IPY_MODEL_f3a3691ad6dd419e971616b875107033",
      "value": " 5/5 [00:01&lt;00:00,  4.06it/s]"
     }
    },
    "61203387f9e944029934dd106381e8fa": {
     "model_module": "@jupyter-widgets/base",
     "model_module_version": "1.2.0",
     "model_name": "LayoutModel",
     "state": {
      "_model_module": "@jupyter-widgets/base",
      "_model_module_version": "1.2.0",
      "_model_name": "LayoutModel",
      "_view_count": null,
      "_view_module": "@jupyter-widgets/base",
      "_view_module_version": "1.2.0",
      "_view_name": "LayoutView",
      "align_content": null,
      "align_items": null,
      "align_self": null,
      "border": null,
      "bottom": null,
      "display": null,
      "flex": null,
      "flex_flow": null,
      "grid_area": null,
      "grid_auto_columns": null,
      "grid_auto_flow": null,
      "grid_auto_rows": null,
      "grid_column": null,
      "grid_gap": null,
      "grid_row": null,
      "grid_template_areas": null,
      "grid_template_columns": null,
      "grid_template_rows": null,
      "height": null,
      "justify_content": null,
      "justify_items": null,
      "left": null,
      "margin": null,
      "max_height": null,
      "max_width": null,
      "min_height": null,
      "min_width": null,
      "object_fit": null,
      "object_position": null,
      "order": null,
      "overflow": null,
      "overflow_x": null,
      "overflow_y": null,
      "padding": null,
      "right": null,
      "top": null,
      "visibility": null,
      "width": null
     }
    },
    "616ef236701842c8aa0d5ce2a801d413": {
     "model_module": "@jupyter-widgets/controls",
     "model_module_version": "1.5.0",
     "model_name": "DescriptionStyleModel",
     "state": {
      "_model_module": "@jupyter-widgets/controls",
      "_model_module_version": "1.5.0",
      "_model_name": "DescriptionStyleModel",
      "_view_count": null,
      "_view_module": "@jupyter-widgets/base",
      "_view_module_version": "1.2.0",
      "_view_name": "StyleView",
      "description_width": ""
     }
    },
    "61d541e877b2491e9ce2557877c38860": {
     "model_module": "@jupyter-widgets/controls",
     "model_module_version": "1.5.0",
     "model_name": "HTMLModel",
     "state": {
      "_dom_classes": [],
      "_model_module": "@jupyter-widgets/controls",
      "_model_module_version": "1.5.0",
      "_model_name": "HTMLModel",
      "_view_count": null,
      "_view_module": "@jupyter-widgets/controls",
      "_view_module_version": "1.5.0",
      "_view_name": "HTMLView",
      "description": "",
      "description_tooltip": null,
      "layout": "IPY_MODEL_5c021060089045659f248646796fc038",
      "placeholder": "​",
      "style": "IPY_MODEL_616ef236701842c8aa0d5ce2a801d413",
      "value": " 5/5 [00:01&lt;00:00,  3.98it/s]"
     }
    },
    "63025e6b35f74b60a142fb50355d1755": {
     "model_module": "@jupyter-widgets/controls",
     "model_module_version": "1.5.0",
     "model_name": "DescriptionStyleModel",
     "state": {
      "_model_module": "@jupyter-widgets/controls",
      "_model_module_version": "1.5.0",
      "_model_name": "DescriptionStyleModel",
      "_view_count": null,
      "_view_module": "@jupyter-widgets/base",
      "_view_module_version": "1.2.0",
      "_view_name": "StyleView",
      "description_width": ""
     }
    },
    "6331216d53ba4a2d82531f77de1c9d9d": {
     "model_module": "@jupyter-widgets/controls",
     "model_module_version": "1.5.0",
     "model_name": "HTMLModel",
     "state": {
      "_dom_classes": [],
      "_model_module": "@jupyter-widgets/controls",
      "_model_module_version": "1.5.0",
      "_model_name": "HTMLModel",
      "_view_count": null,
      "_view_module": "@jupyter-widgets/controls",
      "_view_module_version": "1.5.0",
      "_view_name": "HTMLView",
      "description": "",
      "description_tooltip": null,
      "layout": "IPY_MODEL_44a26326a0e34ddea68ecb1f559a1824",
      "placeholder": "​",
      "style": "IPY_MODEL_047e167fcc9a4240bd08e326128f89ed",
      "value": "Validation DataLoader 0: 100%"
     }
    },
    "64c29f538a314c90ac37a29c2e3cc6e8": {
     "model_module": "@jupyter-widgets/controls",
     "model_module_version": "1.5.0",
     "model_name": "ProgressStyleModel",
     "state": {
      "_model_module": "@jupyter-widgets/controls",
      "_model_module_version": "1.5.0",
      "_model_name": "ProgressStyleModel",
      "_view_count": null,
      "_view_module": "@jupyter-widgets/base",
      "_view_module_version": "1.2.0",
      "_view_name": "StyleView",
      "bar_color": null,
      "description_width": ""
     }
    },
    "664a5cdb43294addb053d5298b4f5dee": {
     "model_module": "@jupyter-widgets/base",
     "model_module_version": "1.2.0",
     "model_name": "LayoutModel",
     "state": {
      "_model_module": "@jupyter-widgets/base",
      "_model_module_version": "1.2.0",
      "_model_name": "LayoutModel",
      "_view_count": null,
      "_view_module": "@jupyter-widgets/base",
      "_view_module_version": "1.2.0",
      "_view_name": "LayoutView",
      "align_content": null,
      "align_items": null,
      "align_self": null,
      "border": null,
      "bottom": null,
      "display": null,
      "flex": null,
      "flex_flow": null,
      "grid_area": null,
      "grid_auto_columns": null,
      "grid_auto_flow": null,
      "grid_auto_rows": null,
      "grid_column": null,
      "grid_gap": null,
      "grid_row": null,
      "grid_template_areas": null,
      "grid_template_columns": null,
      "grid_template_rows": null,
      "height": null,
      "justify_content": null,
      "justify_items": null,
      "left": null,
      "margin": null,
      "max_height": null,
      "max_width": null,
      "min_height": null,
      "min_width": null,
      "object_fit": null,
      "object_position": null,
      "order": null,
      "overflow": null,
      "overflow_x": null,
      "overflow_y": null,
      "padding": null,
      "right": null,
      "top": null,
      "visibility": null,
      "width": null
     }
    },
    "664d0b33100240048f3f5b7afaa8bf66": {
     "model_module": "@jupyter-widgets/base",
     "model_module_version": "1.2.0",
     "model_name": "LayoutModel",
     "state": {
      "_model_module": "@jupyter-widgets/base",
      "_model_module_version": "1.2.0",
      "_model_name": "LayoutModel",
      "_view_count": null,
      "_view_module": "@jupyter-widgets/base",
      "_view_module_version": "1.2.0",
      "_view_name": "LayoutView",
      "align_content": null,
      "align_items": null,
      "align_self": null,
      "border": null,
      "bottom": null,
      "display": null,
      "flex": null,
      "flex_flow": null,
      "grid_area": null,
      "grid_auto_columns": null,
      "grid_auto_flow": null,
      "grid_auto_rows": null,
      "grid_column": null,
      "grid_gap": null,
      "grid_row": null,
      "grid_template_areas": null,
      "grid_template_columns": null,
      "grid_template_rows": null,
      "height": null,
      "justify_content": null,
      "justify_items": null,
      "left": null,
      "margin": null,
      "max_height": null,
      "max_width": null,
      "min_height": null,
      "min_width": null,
      "object_fit": null,
      "object_position": null,
      "order": null,
      "overflow": null,
      "overflow_x": null,
      "overflow_y": null,
      "padding": null,
      "right": null,
      "top": null,
      "visibility": null,
      "width": null
     }
    },
    "68b259acfdac4dd89d68e000c80d396a": {
     "model_module": "@jupyter-widgets/base",
     "model_module_version": "1.2.0",
     "model_name": "LayoutModel",
     "state": {
      "_model_module": "@jupyter-widgets/base",
      "_model_module_version": "1.2.0",
      "_model_name": "LayoutModel",
      "_view_count": null,
      "_view_module": "@jupyter-widgets/base",
      "_view_module_version": "1.2.0",
      "_view_name": "LayoutView",
      "align_content": null,
      "align_items": null,
      "align_self": null,
      "border": null,
      "bottom": null,
      "display": null,
      "flex": null,
      "flex_flow": null,
      "grid_area": null,
      "grid_auto_columns": null,
      "grid_auto_flow": null,
      "grid_auto_rows": null,
      "grid_column": null,
      "grid_gap": null,
      "grid_row": null,
      "grid_template_areas": null,
      "grid_template_columns": null,
      "grid_template_rows": null,
      "height": null,
      "justify_content": null,
      "justify_items": null,
      "left": null,
      "margin": null,
      "max_height": null,
      "max_width": null,
      "min_height": null,
      "min_width": null,
      "object_fit": null,
      "object_position": null,
      "order": null,
      "overflow": null,
      "overflow_x": null,
      "overflow_y": null,
      "padding": null,
      "right": null,
      "top": null,
      "visibility": null,
      "width": null
     }
    },
    "68c61ca00cfa4a7b95b43d14abeebde0": {
     "model_module": "@jupyter-widgets/base",
     "model_module_version": "1.2.0",
     "model_name": "LayoutModel",
     "state": {
      "_model_module": "@jupyter-widgets/base",
      "_model_module_version": "1.2.0",
      "_model_name": "LayoutModel",
      "_view_count": null,
      "_view_module": "@jupyter-widgets/base",
      "_view_module_version": "1.2.0",
      "_view_name": "LayoutView",
      "align_content": null,
      "align_items": null,
      "align_self": null,
      "border": null,
      "bottom": null,
      "display": null,
      "flex": null,
      "flex_flow": null,
      "grid_area": null,
      "grid_auto_columns": null,
      "grid_auto_flow": null,
      "grid_auto_rows": null,
      "grid_column": null,
      "grid_gap": null,
      "grid_row": null,
      "grid_template_areas": null,
      "grid_template_columns": null,
      "grid_template_rows": null,
      "height": null,
      "justify_content": null,
      "justify_items": null,
      "left": null,
      "margin": null,
      "max_height": null,
      "max_width": null,
      "min_height": null,
      "min_width": null,
      "object_fit": null,
      "object_position": null,
      "order": null,
      "overflow": null,
      "overflow_x": null,
      "overflow_y": null,
      "padding": null,
      "right": null,
      "top": null,
      "visibility": null,
      "width": null
     }
    },
    "68dda685f65a4ebcbc3655b5810d4acf": {
     "model_module": "@jupyter-widgets/controls",
     "model_module_version": "1.5.0",
     "model_name": "HBoxModel",
     "state": {
      "_dom_classes": [],
      "_model_module": "@jupyter-widgets/controls",
      "_model_module_version": "1.5.0",
      "_model_name": "HBoxModel",
      "_view_count": null,
      "_view_module": "@jupyter-widgets/controls",
      "_view_module_version": "1.5.0",
      "_view_name": "HBoxView",
      "box_style": "",
      "children": [
       "IPY_MODEL_ebca2d4ab8fb46729b718f78edc3cf62",
       "IPY_MODEL_aef049213f944298b42e450d3e6c66e2",
       "IPY_MODEL_b6b8b25ebc2b4f8dabb56914d74a67c5"
      ],
      "layout": "IPY_MODEL_8740560e1e0f4e5487fe7b11cb488f57"
     }
    },
    "699d689b31af4e73bfd1b146ccb0bada": {
     "model_module": "@jupyter-widgets/base",
     "model_module_version": "1.2.0",
     "model_name": "LayoutModel",
     "state": {
      "_model_module": "@jupyter-widgets/base",
      "_model_module_version": "1.2.0",
      "_model_name": "LayoutModel",
      "_view_count": null,
      "_view_module": "@jupyter-widgets/base",
      "_view_module_version": "1.2.0",
      "_view_name": "LayoutView",
      "align_content": null,
      "align_items": null,
      "align_self": null,
      "border": null,
      "bottom": null,
      "display": null,
      "flex": null,
      "flex_flow": null,
      "grid_area": null,
      "grid_auto_columns": null,
      "grid_auto_flow": null,
      "grid_auto_rows": null,
      "grid_column": null,
      "grid_gap": null,
      "grid_row": null,
      "grid_template_areas": null,
      "grid_template_columns": null,
      "grid_template_rows": null,
      "height": null,
      "justify_content": null,
      "justify_items": null,
      "left": null,
      "margin": null,
      "max_height": null,
      "max_width": null,
      "min_height": null,
      "min_width": null,
      "object_fit": null,
      "object_position": null,
      "order": null,
      "overflow": null,
      "overflow_x": null,
      "overflow_y": null,
      "padding": null,
      "right": null,
      "top": null,
      "visibility": null,
      "width": null
     }
    },
    "69e868c6533946cfbbf15dccdbc44001": {
     "model_module": "@jupyter-widgets/base",
     "model_module_version": "1.2.0",
     "model_name": "LayoutModel",
     "state": {
      "_model_module": "@jupyter-widgets/base",
      "_model_module_version": "1.2.0",
      "_model_name": "LayoutModel",
      "_view_count": null,
      "_view_module": "@jupyter-widgets/base",
      "_view_module_version": "1.2.0",
      "_view_name": "LayoutView",
      "align_content": null,
      "align_items": null,
      "align_self": null,
      "border": null,
      "bottom": null,
      "display": null,
      "flex": "2",
      "flex_flow": null,
      "grid_area": null,
      "grid_auto_columns": null,
      "grid_auto_flow": null,
      "grid_auto_rows": null,
      "grid_column": null,
      "grid_gap": null,
      "grid_row": null,
      "grid_template_areas": null,
      "grid_template_columns": null,
      "grid_template_rows": null,
      "height": null,
      "justify_content": null,
      "justify_items": null,
      "left": null,
      "margin": null,
      "max_height": null,
      "max_width": null,
      "min_height": null,
      "min_width": null,
      "object_fit": null,
      "object_position": null,
      "order": null,
      "overflow": null,
      "overflow_x": null,
      "overflow_y": null,
      "padding": null,
      "right": null,
      "top": null,
      "visibility": null,
      "width": null
     }
    },
    "69f02855c4bb44fd9bb0f78e0c02d532": {
     "model_module": "@jupyter-widgets/base",
     "model_module_version": "1.2.0",
     "model_name": "LayoutModel",
     "state": {
      "_model_module": "@jupyter-widgets/base",
      "_model_module_version": "1.2.0",
      "_model_name": "LayoutModel",
      "_view_count": null,
      "_view_module": "@jupyter-widgets/base",
      "_view_module_version": "1.2.0",
      "_view_name": "LayoutView",
      "align_content": null,
      "align_items": null,
      "align_self": null,
      "border": null,
      "bottom": null,
      "display": "inline-flex",
      "flex": null,
      "flex_flow": "row wrap",
      "grid_area": null,
      "grid_auto_columns": null,
      "grid_auto_flow": null,
      "grid_auto_rows": null,
      "grid_column": null,
      "grid_gap": null,
      "grid_row": null,
      "grid_template_areas": null,
      "grid_template_columns": null,
      "grid_template_rows": null,
      "height": null,
      "justify_content": null,
      "justify_items": null,
      "left": null,
      "margin": null,
      "max_height": null,
      "max_width": null,
      "min_height": null,
      "min_width": null,
      "object_fit": null,
      "object_position": null,
      "order": null,
      "overflow": null,
      "overflow_x": null,
      "overflow_y": null,
      "padding": null,
      "right": null,
      "top": null,
      "visibility": "hidden",
      "width": "100%"
     }
    },
    "6a0b929ceb804a648c418c22174ba2a0": {
     "model_module": "@jupyter-widgets/controls",
     "model_module_version": "1.5.0",
     "model_name": "ProgressStyleModel",
     "state": {
      "_model_module": "@jupyter-widgets/controls",
      "_model_module_version": "1.5.0",
      "_model_name": "ProgressStyleModel",
      "_view_count": null,
      "_view_module": "@jupyter-widgets/base",
      "_view_module_version": "1.2.0",
      "_view_name": "StyleView",
      "bar_color": null,
      "description_width": ""
     }
    },
    "6aee4639683d4a579c4f2ba03991ec4e": {
     "model_module": "@jupyter-widgets/controls",
     "model_module_version": "1.5.0",
     "model_name": "HBoxModel",
     "state": {
      "_dom_classes": [],
      "_model_module": "@jupyter-widgets/controls",
      "_model_module_version": "1.5.0",
      "_model_name": "HBoxModel",
      "_view_count": null,
      "_view_module": "@jupyter-widgets/controls",
      "_view_module_version": "1.5.0",
      "_view_name": "HBoxView",
      "box_style": "",
      "children": [
       "IPY_MODEL_0a8860818e0447a28d2bcd64dae62ad3",
       "IPY_MODEL_5ca4caec5f1a4428862231e2f6eec8fe",
       "IPY_MODEL_dc91e8e8fb824f1599f0347e8e7f9b9d"
      ],
      "layout": "IPY_MODEL_b65aa2174ade49ad8dc45ba1bba6d6f3"
     }
    },
    "6c7e526bd68147279f4c21a75b399a27": {
     "model_module": "@jupyter-widgets/controls",
     "model_module_version": "1.5.0",
     "model_name": "FloatProgressModel",
     "state": {
      "_dom_classes": [],
      "_model_module": "@jupyter-widgets/controls",
      "_model_module_version": "1.5.0",
      "_model_name": "FloatProgressModel",
      "_view_count": null,
      "_view_module": "@jupyter-widgets/controls",
      "_view_module_version": "1.5.0",
      "_view_name": "ProgressView",
      "bar_style": "",
      "description": "",
      "description_tooltip": null,
      "layout": "IPY_MODEL_7265cc93aefb4097af73177224f6d5f0",
      "max": 5,
      "min": 0,
      "orientation": "horizontal",
      "style": "IPY_MODEL_232e3e5ae07d4e13b407b3ded4e2e987",
      "value": 5
     }
    },
    "6dda69ffd1374f5a93201337c8688cdd": {
     "model_module": "@jupyter-widgets/base",
     "model_module_version": "1.2.0",
     "model_name": "LayoutModel",
     "state": {
      "_model_module": "@jupyter-widgets/base",
      "_model_module_version": "1.2.0",
      "_model_name": "LayoutModel",
      "_view_count": null,
      "_view_module": "@jupyter-widgets/base",
      "_view_module_version": "1.2.0",
      "_view_name": "LayoutView",
      "align_content": null,
      "align_items": null,
      "align_self": null,
      "border": null,
      "bottom": null,
      "display": null,
      "flex": null,
      "flex_flow": null,
      "grid_area": null,
      "grid_auto_columns": null,
      "grid_auto_flow": null,
      "grid_auto_rows": null,
      "grid_column": null,
      "grid_gap": null,
      "grid_row": null,
      "grid_template_areas": null,
      "grid_template_columns": null,
      "grid_template_rows": null,
      "height": null,
      "justify_content": null,
      "justify_items": null,
      "left": null,
      "margin": null,
      "max_height": null,
      "max_width": null,
      "min_height": null,
      "min_width": null,
      "object_fit": null,
      "object_position": null,
      "order": null,
      "overflow": null,
      "overflow_x": null,
      "overflow_y": null,
      "padding": null,
      "right": null,
      "top": null,
      "visibility": null,
      "width": null
     }
    },
    "6e6018bfdc2d4c7dbfa974719e2e0095": {
     "model_module": "@jupyter-widgets/controls",
     "model_module_version": "1.5.0",
     "model_name": "DescriptionStyleModel",
     "state": {
      "_model_module": "@jupyter-widgets/controls",
      "_model_module_version": "1.5.0",
      "_model_name": "DescriptionStyleModel",
      "_view_count": null,
      "_view_module": "@jupyter-widgets/base",
      "_view_module_version": "1.2.0",
      "_view_name": "StyleView",
      "description_width": ""
     }
    },
    "6f4727c4dc5c496492b0e4fd78cd3335": {
     "model_module": "@jupyter-widgets/base",
     "model_module_version": "1.2.0",
     "model_name": "LayoutModel",
     "state": {
      "_model_module": "@jupyter-widgets/base",
      "_model_module_version": "1.2.0",
      "_model_name": "LayoutModel",
      "_view_count": null,
      "_view_module": "@jupyter-widgets/base",
      "_view_module_version": "1.2.0",
      "_view_name": "LayoutView",
      "align_content": null,
      "align_items": null,
      "align_self": null,
      "border": null,
      "bottom": null,
      "display": null,
      "flex": null,
      "flex_flow": null,
      "grid_area": null,
      "grid_auto_columns": null,
      "grid_auto_flow": null,
      "grid_auto_rows": null,
      "grid_column": null,
      "grid_gap": null,
      "grid_row": null,
      "grid_template_areas": null,
      "grid_template_columns": null,
      "grid_template_rows": null,
      "height": null,
      "justify_content": null,
      "justify_items": null,
      "left": null,
      "margin": null,
      "max_height": null,
      "max_width": null,
      "min_height": null,
      "min_width": null,
      "object_fit": null,
      "object_position": null,
      "order": null,
      "overflow": null,
      "overflow_x": null,
      "overflow_y": null,
      "padding": null,
      "right": null,
      "top": null,
      "visibility": null,
      "width": null
     }
    },
    "6f9d66a94f82442995b76d314d807657": {
     "model_module": "@jupyter-widgets/controls",
     "model_module_version": "1.5.0",
     "model_name": "HBoxModel",
     "state": {
      "_dom_classes": [],
      "_model_module": "@jupyter-widgets/controls",
      "_model_module_version": "1.5.0",
      "_model_name": "HBoxModel",
      "_view_count": null,
      "_view_module": "@jupyter-widgets/controls",
      "_view_module_version": "1.5.0",
      "_view_name": "HBoxView",
      "box_style": "",
      "children": [
       "IPY_MODEL_c6b820fbf04d4a3198652a47d389fdec",
       "IPY_MODEL_3a6b03a974fd47e2a2c3a724f425154c",
       "IPY_MODEL_cc84247d3d744f2e94d5008196c71d8c"
      ],
      "layout": "IPY_MODEL_fc836cff85604fac876b151df28943e9"
     }
    },
    "702ee5578b4b4d258c3a23a1b79fb52f": {
     "model_module": "@jupyter-widgets/controls",
     "model_module_version": "1.5.0",
     "model_name": "DescriptionStyleModel",
     "state": {
      "_model_module": "@jupyter-widgets/controls",
      "_model_module_version": "1.5.0",
      "_model_name": "DescriptionStyleModel",
      "_view_count": null,
      "_view_module": "@jupyter-widgets/base",
      "_view_module_version": "1.2.0",
      "_view_name": "StyleView",
      "description_width": ""
     }
    },
    "70412a4ce3f446b38e7f3408b85d1b02": {
     "model_module": "@jupyter-widgets/controls",
     "model_module_version": "1.5.0",
     "model_name": "HTMLModel",
     "state": {
      "_dom_classes": [],
      "_model_module": "@jupyter-widgets/controls",
      "_model_module_version": "1.5.0",
      "_model_name": "HTMLModel",
      "_view_count": null,
      "_view_module": "@jupyter-widgets/controls",
      "_view_module_version": "1.5.0",
      "_view_name": "HTMLView",
      "description": "",
      "description_tooltip": null,
      "layout": "IPY_MODEL_42fccd221eb7493f91f211a1b55347fc",
      "placeholder": "​",
      "style": "IPY_MODEL_3269cbc45fd54206ac2a3506999d5845",
      "value": " 5/5 [00:01&lt;00:00,  3.96it/s]"
     }
    },
    "705336f7fd584aa6a3df900e4029934f": {
     "model_module": "@jupyter-widgets/controls",
     "model_module_version": "1.5.0",
     "model_name": "HTMLModel",
     "state": {
      "_dom_classes": [],
      "_model_module": "@jupyter-widgets/controls",
      "_model_module_version": "1.5.0",
      "_model_name": "HTMLModel",
      "_view_count": null,
      "_view_module": "@jupyter-widgets/controls",
      "_view_module_version": "1.5.0",
      "_view_name": "HTMLView",
      "description": "",
      "description_tooltip": null,
      "layout": "IPY_MODEL_e2d9d2dabe034061a80258e22039b099",
      "placeholder": "​",
      "style": "IPY_MODEL_2f6adff66e7f4b3b9d162ab0a7ada470",
      "value": " 5/5 [00:01&lt;00:00,  4.06it/s]"
     }
    },
    "7072d8e7f6b04dfdb2b006a12c97f94f": {
     "model_module": "@jupyter-widgets/base",
     "model_module_version": "1.2.0",
     "model_name": "LayoutModel",
     "state": {
      "_model_module": "@jupyter-widgets/base",
      "_model_module_version": "1.2.0",
      "_model_name": "LayoutModel",
      "_view_count": null,
      "_view_module": "@jupyter-widgets/base",
      "_view_module_version": "1.2.0",
      "_view_name": "LayoutView",
      "align_content": null,
      "align_items": null,
      "align_self": null,
      "border": null,
      "bottom": null,
      "display": null,
      "flex": null,
      "flex_flow": null,
      "grid_area": null,
      "grid_auto_columns": null,
      "grid_auto_flow": null,
      "grid_auto_rows": null,
      "grid_column": null,
      "grid_gap": null,
      "grid_row": null,
      "grid_template_areas": null,
      "grid_template_columns": null,
      "grid_template_rows": null,
      "height": null,
      "justify_content": null,
      "justify_items": null,
      "left": null,
      "margin": null,
      "max_height": null,
      "max_width": null,
      "min_height": null,
      "min_width": null,
      "object_fit": null,
      "object_position": null,
      "order": null,
      "overflow": null,
      "overflow_x": null,
      "overflow_y": null,
      "padding": null,
      "right": null,
      "top": null,
      "visibility": null,
      "width": null
     }
    },
    "712ba0f8249c47d3a5eb5448a6781d07": {
     "model_module": "@jupyter-widgets/controls",
     "model_module_version": "1.5.0",
     "model_name": "HBoxModel",
     "state": {
      "_dom_classes": [],
      "_model_module": "@jupyter-widgets/controls",
      "_model_module_version": "1.5.0",
      "_model_name": "HBoxModel",
      "_view_count": null,
      "_view_module": "@jupyter-widgets/controls",
      "_view_module_version": "1.5.0",
      "_view_name": "HBoxView",
      "box_style": "",
      "children": [
       "IPY_MODEL_9e6157427ee6402597cc70beff7f9f90",
       "IPY_MODEL_2d98f43066834e23b6256bfc87f74c93",
       "IPY_MODEL_45051b0d7cb54d41900049d873dc2ca9"
      ],
      "layout": "IPY_MODEL_d261940076e34b0c92ac370a0eeadee4"
     }
    },
    "7185a448c0e94a02a1614b7c0d19a393": {
     "model_module": "@jupyter-widgets/controls",
     "model_module_version": "1.5.0",
     "model_name": "FloatProgressModel",
     "state": {
      "_dom_classes": [],
      "_model_module": "@jupyter-widgets/controls",
      "_model_module_version": "1.5.0",
      "_model_name": "FloatProgressModel",
      "_view_count": null,
      "_view_module": "@jupyter-widgets/controls",
      "_view_module_version": "1.5.0",
      "_view_name": "ProgressView",
      "bar_style": "",
      "description": "",
      "description_tooltip": null,
      "layout": "IPY_MODEL_bb90bd571a4747aa9066215717c9b5df",
      "max": 5,
      "min": 0,
      "orientation": "horizontal",
      "style": "IPY_MODEL_5c79d12a7f714252a58b426d2ba25ff5",
      "value": 5
     }
    },
    "7265cc93aefb4097af73177224f6d5f0": {
     "model_module": "@jupyter-widgets/base",
     "model_module_version": "1.2.0",
     "model_name": "LayoutModel",
     "state": {
      "_model_module": "@jupyter-widgets/base",
      "_model_module_version": "1.2.0",
      "_model_name": "LayoutModel",
      "_view_count": null,
      "_view_module": "@jupyter-widgets/base",
      "_view_module_version": "1.2.0",
      "_view_name": "LayoutView",
      "align_content": null,
      "align_items": null,
      "align_self": null,
      "border": null,
      "bottom": null,
      "display": null,
      "flex": "2",
      "flex_flow": null,
      "grid_area": null,
      "grid_auto_columns": null,
      "grid_auto_flow": null,
      "grid_auto_rows": null,
      "grid_column": null,
      "grid_gap": null,
      "grid_row": null,
      "grid_template_areas": null,
      "grid_template_columns": null,
      "grid_template_rows": null,
      "height": null,
      "justify_content": null,
      "justify_items": null,
      "left": null,
      "margin": null,
      "max_height": null,
      "max_width": null,
      "min_height": null,
      "min_width": null,
      "object_fit": null,
      "object_position": null,
      "order": null,
      "overflow": null,
      "overflow_x": null,
      "overflow_y": null,
      "padding": null,
      "right": null,
      "top": null,
      "visibility": null,
      "width": null
     }
    },
    "7339266c19ef4dbf97479a72d9c3faf5": {
     "model_module": "@jupyter-widgets/controls",
     "model_module_version": "1.5.0",
     "model_name": "DescriptionStyleModel",
     "state": {
      "_model_module": "@jupyter-widgets/controls",
      "_model_module_version": "1.5.0",
      "_model_name": "DescriptionStyleModel",
      "_view_count": null,
      "_view_module": "@jupyter-widgets/base",
      "_view_module_version": "1.2.0",
      "_view_name": "StyleView",
      "description_width": ""
     }
    },
    "73b8913d973d4984b8b6b7683ffdd745": {
     "model_module": "@jupyter-widgets/controls",
     "model_module_version": "1.5.0",
     "model_name": "DescriptionStyleModel",
     "state": {
      "_model_module": "@jupyter-widgets/controls",
      "_model_module_version": "1.5.0",
      "_model_name": "DescriptionStyleModel",
      "_view_count": null,
      "_view_module": "@jupyter-widgets/base",
      "_view_module_version": "1.2.0",
      "_view_name": "StyleView",
      "description_width": ""
     }
    },
    "7466b26378f6410bb0a23de5a3b815d9": {
     "model_module": "@jupyter-widgets/controls",
     "model_module_version": "1.5.0",
     "model_name": "FloatProgressModel",
     "state": {
      "_dom_classes": [],
      "_model_module": "@jupyter-widgets/controls",
      "_model_module_version": "1.5.0",
      "_model_name": "FloatProgressModel",
      "_view_count": null,
      "_view_module": "@jupyter-widgets/controls",
      "_view_module_version": "1.5.0",
      "_view_name": "ProgressView",
      "bar_style": "",
      "description": "",
      "description_tooltip": null,
      "layout": "IPY_MODEL_60398f6c25514bb2b14e964ad96b51e7",
      "max": 49,
      "min": 0,
      "orientation": "horizontal",
      "style": "IPY_MODEL_b72703a21af84b1cab0b93b52ef5fbdf",
      "value": 0
     }
    },
    "74ddef69bd2040208e1fa8adccb0d127": {
     "model_module": "@jupyter-widgets/controls",
     "model_module_version": "1.5.0",
     "model_name": "HTMLModel",
     "state": {
      "_dom_classes": [],
      "_model_module": "@jupyter-widgets/controls",
      "_model_module_version": "1.5.0",
      "_model_name": "HTMLModel",
      "_view_count": null,
      "_view_module": "@jupyter-widgets/controls",
      "_view_module_version": "1.5.0",
      "_view_name": "HTMLView",
      "description": "",
      "description_tooltip": null,
      "layout": "IPY_MODEL_68c61ca00cfa4a7b95b43d14abeebde0",
      "placeholder": "​",
      "style": "IPY_MODEL_e0ae429db29c46eaa80a08281a8feae8",
      "value": "Validation DataLoader 0: 100%"
     }
    },
    "7541addcbfa549ebaa7db0580b0fd32a": {
     "model_module": "@jupyter-widgets/controls",
     "model_module_version": "1.5.0",
     "model_name": "DescriptionStyleModel",
     "state": {
      "_model_module": "@jupyter-widgets/controls",
      "_model_module_version": "1.5.0",
      "_model_name": "DescriptionStyleModel",
      "_view_count": null,
      "_view_module": "@jupyter-widgets/base",
      "_view_module_version": "1.2.0",
      "_view_name": "StyleView",
      "description_width": ""
     }
    },
    "757af59d66dc4c06b8a105b262b903ba": {
     "model_module": "@jupyter-widgets/controls",
     "model_module_version": "1.5.0",
     "model_name": "HTMLModel",
     "state": {
      "_dom_classes": [],
      "_model_module": "@jupyter-widgets/controls",
      "_model_module_version": "1.5.0",
      "_model_name": "HTMLModel",
      "_view_count": null,
      "_view_module": "@jupyter-widgets/controls",
      "_view_module_version": "1.5.0",
      "_view_name": "HTMLView",
      "description": "",
      "description_tooltip": null,
      "layout": "IPY_MODEL_8e612bcacfc0473f9b32bf2193fdb548",
      "placeholder": "​",
      "style": "IPY_MODEL_cb6670d6ab34428d9d3c41103934271a",
      "value": " 5/5 [00:01&lt;00:00,  4.01it/s]"
     }
    },
    "7753d5ec99014c39817137f21035c35c": {
     "model_module": "@jupyter-widgets/controls",
     "model_module_version": "1.5.0",
     "model_name": "HTMLModel",
     "state": {
      "_dom_classes": [],
      "_model_module": "@jupyter-widgets/controls",
      "_model_module_version": "1.5.0",
      "_model_name": "HTMLModel",
      "_view_count": null,
      "_view_module": "@jupyter-widgets/controls",
      "_view_module_version": "1.5.0",
      "_view_name": "HTMLView",
      "description": "",
      "description_tooltip": null,
      "layout": "IPY_MODEL_432092c38d43424583880e68adf832d8",
      "placeholder": "​",
      "style": "IPY_MODEL_ab10f338efc0445cbaed3d48be57d491",
      "value": "Validation DataLoader 0: 100%"
     }
    },
    "788a9771aaf74b958656b18c6dc94dfc": {
     "model_module": "@jupyter-widgets/controls",
     "model_module_version": "1.5.0",
     "model_name": "DescriptionStyleModel",
     "state": {
      "_model_module": "@jupyter-widgets/controls",
      "_model_module_version": "1.5.0",
      "_model_name": "DescriptionStyleModel",
      "_view_count": null,
      "_view_module": "@jupyter-widgets/base",
      "_view_module_version": "1.2.0",
      "_view_name": "StyleView",
      "description_width": ""
     }
    },
    "78aface7d9644dbca023155422e11158": {
     "model_module": "@jupyter-widgets/controls",
     "model_module_version": "1.5.0",
     "model_name": "HTMLModel",
     "state": {
      "_dom_classes": [],
      "_model_module": "@jupyter-widgets/controls",
      "_model_module_version": "1.5.0",
      "_model_name": "HTMLModel",
      "_view_count": null,
      "_view_module": "@jupyter-widgets/controls",
      "_view_module_version": "1.5.0",
      "_view_name": "HTMLView",
      "description": "",
      "description_tooltip": null,
      "layout": "IPY_MODEL_b97c7e209b4742888e8ec75e2455a738",
      "placeholder": "​",
      "style": "IPY_MODEL_ee1aca3a2a0c481bb530c03c6fedb6f4",
      "value": " 5/5 [00:01&lt;00:00,  4.04it/s]"
     }
    },
    "78dda0bb6fdc4dbc968a3da00ad19931": {
     "model_module": "@jupyter-widgets/controls",
     "model_module_version": "1.5.0",
     "model_name": "DescriptionStyleModel",
     "state": {
      "_model_module": "@jupyter-widgets/controls",
      "_model_module_version": "1.5.0",
      "_model_name": "DescriptionStyleModel",
      "_view_count": null,
      "_view_module": "@jupyter-widgets/base",
      "_view_module_version": "1.2.0",
      "_view_name": "StyleView",
      "description_width": ""
     }
    },
    "78ea893118b345c8b2e527d26ede1b47": {
     "model_module": "@jupyter-widgets/controls",
     "model_module_version": "1.5.0",
     "model_name": "HTMLModel",
     "state": {
      "_dom_classes": [],
      "_model_module": "@jupyter-widgets/controls",
      "_model_module_version": "1.5.0",
      "_model_name": "HTMLModel",
      "_view_count": null,
      "_view_module": "@jupyter-widgets/controls",
      "_view_module_version": "1.5.0",
      "_view_name": "HTMLView",
      "description": "",
      "description_tooltip": null,
      "layout": "IPY_MODEL_41636b513d794b66b97953d870f7aa3b",
      "placeholder": "​",
      "style": "IPY_MODEL_9e4adf54330b42d9b7d8ab86855a5816",
      "value": "Validation DataLoader 0: 100%"
     }
    },
    "7a58d70f17cf42458869826bdafca282": {
     "model_module": "@jupyter-widgets/controls",
     "model_module_version": "1.5.0",
     "model_name": "DescriptionStyleModel",
     "state": {
      "_model_module": "@jupyter-widgets/controls",
      "_model_module_version": "1.5.0",
      "_model_name": "DescriptionStyleModel",
      "_view_count": null,
      "_view_module": "@jupyter-widgets/base",
      "_view_module_version": "1.2.0",
      "_view_name": "StyleView",
      "description_width": ""
     }
    },
    "7a5dd8fc8c9e4149ad1d7e3236a31f54": {
     "model_module": "@jupyter-widgets/controls",
     "model_module_version": "1.5.0",
     "model_name": "HTMLModel",
     "state": {
      "_dom_classes": [],
      "_model_module": "@jupyter-widgets/controls",
      "_model_module_version": "1.5.0",
      "_model_name": "HTMLModel",
      "_view_count": null,
      "_view_module": "@jupyter-widgets/controls",
      "_view_module_version": "1.5.0",
      "_view_name": "HTMLView",
      "description": "",
      "description_tooltip": null,
      "layout": "IPY_MODEL_0bf422696c7749e3936af5d7c80391d4",
      "placeholder": "​",
      "style": "IPY_MODEL_1d59c2bcb89b4af38e49e4d85723f4ac",
      "value": "Validation DataLoader 0: 100%"
     }
    },
    "7a9de47127b541aa936c3d17f098f626": {
     "model_module": "@jupyter-widgets/base",
     "model_module_version": "1.2.0",
     "model_name": "LayoutModel",
     "state": {
      "_model_module": "@jupyter-widgets/base",
      "_model_module_version": "1.2.0",
      "_model_name": "LayoutModel",
      "_view_count": null,
      "_view_module": "@jupyter-widgets/base",
      "_view_module_version": "1.2.0",
      "_view_name": "LayoutView",
      "align_content": null,
      "align_items": null,
      "align_self": null,
      "border": null,
      "bottom": null,
      "display": null,
      "flex": null,
      "flex_flow": null,
      "grid_area": null,
      "grid_auto_columns": null,
      "grid_auto_flow": null,
      "grid_auto_rows": null,
      "grid_column": null,
      "grid_gap": null,
      "grid_row": null,
      "grid_template_areas": null,
      "grid_template_columns": null,
      "grid_template_rows": null,
      "height": null,
      "justify_content": null,
      "justify_items": null,
      "left": null,
      "margin": null,
      "max_height": null,
      "max_width": null,
      "min_height": null,
      "min_width": null,
      "object_fit": null,
      "object_position": null,
      "order": null,
      "overflow": null,
      "overflow_x": null,
      "overflow_y": null,
      "padding": null,
      "right": null,
      "top": null,
      "visibility": null,
      "width": null
     }
    },
    "7ae0e06033ba4914aed751589cca5c2b": {
     "model_module": "@jupyter-widgets/controls",
     "model_module_version": "1.5.0",
     "model_name": "HTMLModel",
     "state": {
      "_dom_classes": [],
      "_model_module": "@jupyter-widgets/controls",
      "_model_module_version": "1.5.0",
      "_model_name": "HTMLModel",
      "_view_count": null,
      "_view_module": "@jupyter-widgets/controls",
      "_view_module_version": "1.5.0",
      "_view_name": "HTMLView",
      "description": "",
      "description_tooltip": null,
      "layout": "IPY_MODEL_8027525695e44dfbb657fa9412c05f3f",
      "placeholder": "​",
      "style": "IPY_MODEL_da7ce98946334e5b8b4925ec1af1e53f",
      "value": "Validation DataLoader 0: 100%"
     }
    },
    "7aff097a34044f05b59e50d629f8dce7": {
     "model_module": "@jupyter-widgets/base",
     "model_module_version": "1.2.0",
     "model_name": "LayoutModel",
     "state": {
      "_model_module": "@jupyter-widgets/base",
      "_model_module_version": "1.2.0",
      "_model_name": "LayoutModel",
      "_view_count": null,
      "_view_module": "@jupyter-widgets/base",
      "_view_module_version": "1.2.0",
      "_view_name": "LayoutView",
      "align_content": null,
      "align_items": null,
      "align_self": null,
      "border": null,
      "bottom": null,
      "display": null,
      "flex": "2",
      "flex_flow": null,
      "grid_area": null,
      "grid_auto_columns": null,
      "grid_auto_flow": null,
      "grid_auto_rows": null,
      "grid_column": null,
      "grid_gap": null,
      "grid_row": null,
      "grid_template_areas": null,
      "grid_template_columns": null,
      "grid_template_rows": null,
      "height": null,
      "justify_content": null,
      "justify_items": null,
      "left": null,
      "margin": null,
      "max_height": null,
      "max_width": null,
      "min_height": null,
      "min_width": null,
      "object_fit": null,
      "object_position": null,
      "order": null,
      "overflow": null,
      "overflow_x": null,
      "overflow_y": null,
      "padding": null,
      "right": null,
      "top": null,
      "visibility": null,
      "width": null
     }
    },
    "7b153e8f11f848959a85045a5d20cdb8": {
     "model_module": "@jupyter-widgets/base",
     "model_module_version": "1.2.0",
     "model_name": "LayoutModel",
     "state": {
      "_model_module": "@jupyter-widgets/base",
      "_model_module_version": "1.2.0",
      "_model_name": "LayoutModel",
      "_view_count": null,
      "_view_module": "@jupyter-widgets/base",
      "_view_module_version": "1.2.0",
      "_view_name": "LayoutView",
      "align_content": null,
      "align_items": null,
      "align_self": null,
      "border": null,
      "bottom": null,
      "display": null,
      "flex": null,
      "flex_flow": null,
      "grid_area": null,
      "grid_auto_columns": null,
      "grid_auto_flow": null,
      "grid_auto_rows": null,
      "grid_column": null,
      "grid_gap": null,
      "grid_row": null,
      "grid_template_areas": null,
      "grid_template_columns": null,
      "grid_template_rows": null,
      "height": null,
      "justify_content": null,
      "justify_items": null,
      "left": null,
      "margin": null,
      "max_height": null,
      "max_width": null,
      "min_height": null,
      "min_width": null,
      "object_fit": null,
      "object_position": null,
      "order": null,
      "overflow": null,
      "overflow_x": null,
      "overflow_y": null,
      "padding": null,
      "right": null,
      "top": null,
      "visibility": null,
      "width": null
     }
    },
    "7c771cee2d6049d0bb7bbe0ff5c15a10": {
     "model_module": "@jupyter-widgets/base",
     "model_module_version": "1.2.0",
     "model_name": "LayoutModel",
     "state": {
      "_model_module": "@jupyter-widgets/base",
      "_model_module_version": "1.2.0",
      "_model_name": "LayoutModel",
      "_view_count": null,
      "_view_module": "@jupyter-widgets/base",
      "_view_module_version": "1.2.0",
      "_view_name": "LayoutView",
      "align_content": null,
      "align_items": null,
      "align_self": null,
      "border": null,
      "bottom": null,
      "display": null,
      "flex": null,
      "flex_flow": null,
      "grid_area": null,
      "grid_auto_columns": null,
      "grid_auto_flow": null,
      "grid_auto_rows": null,
      "grid_column": null,
      "grid_gap": null,
      "grid_row": null,
      "grid_template_areas": null,
      "grid_template_columns": null,
      "grid_template_rows": null,
      "height": null,
      "justify_content": null,
      "justify_items": null,
      "left": null,
      "margin": null,
      "max_height": null,
      "max_width": null,
      "min_height": null,
      "min_width": null,
      "object_fit": null,
      "object_position": null,
      "order": null,
      "overflow": null,
      "overflow_x": null,
      "overflow_y": null,
      "padding": null,
      "right": null,
      "top": null,
      "visibility": null,
      "width": null
     }
    },
    "7cabd2a7872e4dc78ffb18cf031eabf2": {
     "model_module": "@jupyter-widgets/base",
     "model_module_version": "1.2.0",
     "model_name": "LayoutModel",
     "state": {
      "_model_module": "@jupyter-widgets/base",
      "_model_module_version": "1.2.0",
      "_model_name": "LayoutModel",
      "_view_count": null,
      "_view_module": "@jupyter-widgets/base",
      "_view_module_version": "1.2.0",
      "_view_name": "LayoutView",
      "align_content": null,
      "align_items": null,
      "align_self": null,
      "border": null,
      "bottom": null,
      "display": null,
      "flex": null,
      "flex_flow": null,
      "grid_area": null,
      "grid_auto_columns": null,
      "grid_auto_flow": null,
      "grid_auto_rows": null,
      "grid_column": null,
      "grid_gap": null,
      "grid_row": null,
      "grid_template_areas": null,
      "grid_template_columns": null,
      "grid_template_rows": null,
      "height": null,
      "justify_content": null,
      "justify_items": null,
      "left": null,
      "margin": null,
      "max_height": null,
      "max_width": null,
      "min_height": null,
      "min_width": null,
      "object_fit": null,
      "object_position": null,
      "order": null,
      "overflow": null,
      "overflow_x": null,
      "overflow_y": null,
      "padding": null,
      "right": null,
      "top": null,
      "visibility": null,
      "width": null
     }
    },
    "7cb2fb428f704c9ebf93b09dce8db5fb": {
     "model_module": "@jupyter-widgets/base",
     "model_module_version": "1.2.0",
     "model_name": "LayoutModel",
     "state": {
      "_model_module": "@jupyter-widgets/base",
      "_model_module_version": "1.2.0",
      "_model_name": "LayoutModel",
      "_view_count": null,
      "_view_module": "@jupyter-widgets/base",
      "_view_module_version": "1.2.0",
      "_view_name": "LayoutView",
      "align_content": null,
      "align_items": null,
      "align_self": null,
      "border": null,
      "bottom": null,
      "display": null,
      "flex": "2",
      "flex_flow": null,
      "grid_area": null,
      "grid_auto_columns": null,
      "grid_auto_flow": null,
      "grid_auto_rows": null,
      "grid_column": null,
      "grid_gap": null,
      "grid_row": null,
      "grid_template_areas": null,
      "grid_template_columns": null,
      "grid_template_rows": null,
      "height": null,
      "justify_content": null,
      "justify_items": null,
      "left": null,
      "margin": null,
      "max_height": null,
      "max_width": null,
      "min_height": null,
      "min_width": null,
      "object_fit": null,
      "object_position": null,
      "order": null,
      "overflow": null,
      "overflow_x": null,
      "overflow_y": null,
      "padding": null,
      "right": null,
      "top": null,
      "visibility": null,
      "width": null
     }
    },
    "7d46ef0c5a76417fbec2b29bba3fa631": {
     "model_module": "@jupyter-widgets/base",
     "model_module_version": "1.2.0",
     "model_name": "LayoutModel",
     "state": {
      "_model_module": "@jupyter-widgets/base",
      "_model_module_version": "1.2.0",
      "_model_name": "LayoutModel",
      "_view_count": null,
      "_view_module": "@jupyter-widgets/base",
      "_view_module_version": "1.2.0",
      "_view_name": "LayoutView",
      "align_content": null,
      "align_items": null,
      "align_self": null,
      "border": null,
      "bottom": null,
      "display": "inline-flex",
      "flex": null,
      "flex_flow": "row wrap",
      "grid_area": null,
      "grid_auto_columns": null,
      "grid_auto_flow": null,
      "grid_auto_rows": null,
      "grid_column": null,
      "grid_gap": null,
      "grid_row": null,
      "grid_template_areas": null,
      "grid_template_columns": null,
      "grid_template_rows": null,
      "height": null,
      "justify_content": null,
      "justify_items": null,
      "left": null,
      "margin": null,
      "max_height": null,
      "max_width": null,
      "min_height": null,
      "min_width": null,
      "object_fit": null,
      "object_position": null,
      "order": null,
      "overflow": null,
      "overflow_x": null,
      "overflow_y": null,
      "padding": null,
      "right": null,
      "top": null,
      "visibility": "hidden",
      "width": "100%"
     }
    },
    "7f7bf836e30542fdb315458bc52f2d10": {
     "model_module": "@jupyter-widgets/base",
     "model_module_version": "1.2.0",
     "model_name": "LayoutModel",
     "state": {
      "_model_module": "@jupyter-widgets/base",
      "_model_module_version": "1.2.0",
      "_model_name": "LayoutModel",
      "_view_count": null,
      "_view_module": "@jupyter-widgets/base",
      "_view_module_version": "1.2.0",
      "_view_name": "LayoutView",
      "align_content": null,
      "align_items": null,
      "align_self": null,
      "border": null,
      "bottom": null,
      "display": null,
      "flex": "2",
      "flex_flow": null,
      "grid_area": null,
      "grid_auto_columns": null,
      "grid_auto_flow": null,
      "grid_auto_rows": null,
      "grid_column": null,
      "grid_gap": null,
      "grid_row": null,
      "grid_template_areas": null,
      "grid_template_columns": null,
      "grid_template_rows": null,
      "height": null,
      "justify_content": null,
      "justify_items": null,
      "left": null,
      "margin": null,
      "max_height": null,
      "max_width": null,
      "min_height": null,
      "min_width": null,
      "object_fit": null,
      "object_position": null,
      "order": null,
      "overflow": null,
      "overflow_x": null,
      "overflow_y": null,
      "padding": null,
      "right": null,
      "top": null,
      "visibility": null,
      "width": null
     }
    },
    "7fabbff5bcc7417c80845b9e415ea8f9": {
     "model_module": "@jupyter-widgets/controls",
     "model_module_version": "1.5.0",
     "model_name": "HTMLModel",
     "state": {
      "_dom_classes": [],
      "_model_module": "@jupyter-widgets/controls",
      "_model_module_version": "1.5.0",
      "_model_name": "HTMLModel",
      "_view_count": null,
      "_view_module": "@jupyter-widgets/controls",
      "_view_module_version": "1.5.0",
      "_view_name": "HTMLView",
      "description": "",
      "description_tooltip": null,
      "layout": "IPY_MODEL_699d689b31af4e73bfd1b146ccb0bada",
      "placeholder": "​",
      "style": "IPY_MODEL_9b44d1d0e69f4a82b30d6935b058c218",
      "value": "Validation DataLoader 0: 100%"
     }
    },
    "8027525695e44dfbb657fa9412c05f3f": {
     "model_module": "@jupyter-widgets/base",
     "model_module_version": "1.2.0",
     "model_name": "LayoutModel",
     "state": {
      "_model_module": "@jupyter-widgets/base",
      "_model_module_version": "1.2.0",
      "_model_name": "LayoutModel",
      "_view_count": null,
      "_view_module": "@jupyter-widgets/base",
      "_view_module_version": "1.2.0",
      "_view_name": "LayoutView",
      "align_content": null,
      "align_items": null,
      "align_self": null,
      "border": null,
      "bottom": null,
      "display": null,
      "flex": null,
      "flex_flow": null,
      "grid_area": null,
      "grid_auto_columns": null,
      "grid_auto_flow": null,
      "grid_auto_rows": null,
      "grid_column": null,
      "grid_gap": null,
      "grid_row": null,
      "grid_template_areas": null,
      "grid_template_columns": null,
      "grid_template_rows": null,
      "height": null,
      "justify_content": null,
      "justify_items": null,
      "left": null,
      "margin": null,
      "max_height": null,
      "max_width": null,
      "min_height": null,
      "min_width": null,
      "object_fit": null,
      "object_position": null,
      "order": null,
      "overflow": null,
      "overflow_x": null,
      "overflow_y": null,
      "padding": null,
      "right": null,
      "top": null,
      "visibility": null,
      "width": null
     }
    },
    "8057ddac383445068fcf6290dd1e600a": {
     "model_module": "@jupyter-widgets/base",
     "model_module_version": "1.2.0",
     "model_name": "LayoutModel",
     "state": {
      "_model_module": "@jupyter-widgets/base",
      "_model_module_version": "1.2.0",
      "_model_name": "LayoutModel",
      "_view_count": null,
      "_view_module": "@jupyter-widgets/base",
      "_view_module_version": "1.2.0",
      "_view_name": "LayoutView",
      "align_content": null,
      "align_items": null,
      "align_self": null,
      "border": null,
      "bottom": null,
      "display": null,
      "flex": null,
      "flex_flow": null,
      "grid_area": null,
      "grid_auto_columns": null,
      "grid_auto_flow": null,
      "grid_auto_rows": null,
      "grid_column": null,
      "grid_gap": null,
      "grid_row": null,
      "grid_template_areas": null,
      "grid_template_columns": null,
      "grid_template_rows": null,
      "height": null,
      "justify_content": null,
      "justify_items": null,
      "left": null,
      "margin": null,
      "max_height": null,
      "max_width": null,
      "min_height": null,
      "min_width": null,
      "object_fit": null,
      "object_position": null,
      "order": null,
      "overflow": null,
      "overflow_x": null,
      "overflow_y": null,
      "padding": null,
      "right": null,
      "top": null,
      "visibility": null,
      "width": null
     }
    },
    "807f89e007ca47dcb02fa0a94cf7ea27": {
     "model_module": "@jupyter-widgets/controls",
     "model_module_version": "1.5.0",
     "model_name": "ProgressStyleModel",
     "state": {
      "_model_module": "@jupyter-widgets/controls",
      "_model_module_version": "1.5.0",
      "_model_name": "ProgressStyleModel",
      "_view_count": null,
      "_view_module": "@jupyter-widgets/base",
      "_view_module_version": "1.2.0",
      "_view_name": "StyleView",
      "bar_color": null,
      "description_width": ""
     }
    },
    "80ae35e65d5b4625affa6a65ee75c18d": {
     "model_module": "@jupyter-widgets/controls",
     "model_module_version": "1.5.0",
     "model_name": "ProgressStyleModel",
     "state": {
      "_model_module": "@jupyter-widgets/controls",
      "_model_module_version": "1.5.0",
      "_model_name": "ProgressStyleModel",
      "_view_count": null,
      "_view_module": "@jupyter-widgets/base",
      "_view_module_version": "1.2.0",
      "_view_name": "StyleView",
      "bar_color": null,
      "description_width": ""
     }
    },
    "81220a5f37544e5082af0cbf9bf7c20c": {
     "model_module": "@jupyter-widgets/controls",
     "model_module_version": "1.5.0",
     "model_name": "DescriptionStyleModel",
     "state": {
      "_model_module": "@jupyter-widgets/controls",
      "_model_module_version": "1.5.0",
      "_model_name": "DescriptionStyleModel",
      "_view_count": null,
      "_view_module": "@jupyter-widgets/base",
      "_view_module_version": "1.2.0",
      "_view_name": "StyleView",
      "description_width": ""
     }
    },
    "8144f52a8763445ea97d36636e1a9688": {
     "model_module": "@jupyter-widgets/controls",
     "model_module_version": "1.5.0",
     "model_name": "DescriptionStyleModel",
     "state": {
      "_model_module": "@jupyter-widgets/controls",
      "_model_module_version": "1.5.0",
      "_model_name": "DescriptionStyleModel",
      "_view_count": null,
      "_view_module": "@jupyter-widgets/base",
      "_view_module_version": "1.2.0",
      "_view_name": "StyleView",
      "description_width": ""
     }
    },
    "81e4a458744048848b57c5d4f5b650e9": {
     "model_module": "@jupyter-widgets/base",
     "model_module_version": "1.2.0",
     "model_name": "LayoutModel",
     "state": {
      "_model_module": "@jupyter-widgets/base",
      "_model_module_version": "1.2.0",
      "_model_name": "LayoutModel",
      "_view_count": null,
      "_view_module": "@jupyter-widgets/base",
      "_view_module_version": "1.2.0",
      "_view_name": "LayoutView",
      "align_content": null,
      "align_items": null,
      "align_self": null,
      "border": null,
      "bottom": null,
      "display": null,
      "flex": null,
      "flex_flow": null,
      "grid_area": null,
      "grid_auto_columns": null,
      "grid_auto_flow": null,
      "grid_auto_rows": null,
      "grid_column": null,
      "grid_gap": null,
      "grid_row": null,
      "grid_template_areas": null,
      "grid_template_columns": null,
      "grid_template_rows": null,
      "height": null,
      "justify_content": null,
      "justify_items": null,
      "left": null,
      "margin": null,
      "max_height": null,
      "max_width": null,
      "min_height": null,
      "min_width": null,
      "object_fit": null,
      "object_position": null,
      "order": null,
      "overflow": null,
      "overflow_x": null,
      "overflow_y": null,
      "padding": null,
      "right": null,
      "top": null,
      "visibility": null,
      "width": null
     }
    },
    "81f40352c0c6495f83ec023a98de7b33": {
     "model_module": "@jupyter-widgets/base",
     "model_module_version": "1.2.0",
     "model_name": "LayoutModel",
     "state": {
      "_model_module": "@jupyter-widgets/base",
      "_model_module_version": "1.2.0",
      "_model_name": "LayoutModel",
      "_view_count": null,
      "_view_module": "@jupyter-widgets/base",
      "_view_module_version": "1.2.0",
      "_view_name": "LayoutView",
      "align_content": null,
      "align_items": null,
      "align_self": null,
      "border": null,
      "bottom": null,
      "display": null,
      "flex": null,
      "flex_flow": null,
      "grid_area": null,
      "grid_auto_columns": null,
      "grid_auto_flow": null,
      "grid_auto_rows": null,
      "grid_column": null,
      "grid_gap": null,
      "grid_row": null,
      "grid_template_areas": null,
      "grid_template_columns": null,
      "grid_template_rows": null,
      "height": null,
      "justify_content": null,
      "justify_items": null,
      "left": null,
      "margin": null,
      "max_height": null,
      "max_width": null,
      "min_height": null,
      "min_width": null,
      "object_fit": null,
      "object_position": null,
      "order": null,
      "overflow": null,
      "overflow_x": null,
      "overflow_y": null,
      "padding": null,
      "right": null,
      "top": null,
      "visibility": null,
      "width": null
     }
    },
    "8271afe90f2b4018a4cdd5af4e4f3b32": {
     "model_module": "@jupyter-widgets/controls",
     "model_module_version": "1.5.0",
     "model_name": "DescriptionStyleModel",
     "state": {
      "_model_module": "@jupyter-widgets/controls",
      "_model_module_version": "1.5.0",
      "_model_name": "DescriptionStyleModel",
      "_view_count": null,
      "_view_module": "@jupyter-widgets/base",
      "_view_module_version": "1.2.0",
      "_view_name": "StyleView",
      "description_width": ""
     }
    },
    "840fe65eab434d3ba124dae1eee2a2da": {
     "model_module": "@jupyter-widgets/base",
     "model_module_version": "1.2.0",
     "model_name": "LayoutModel",
     "state": {
      "_model_module": "@jupyter-widgets/base",
      "_model_module_version": "1.2.0",
      "_model_name": "LayoutModel",
      "_view_count": null,
      "_view_module": "@jupyter-widgets/base",
      "_view_module_version": "1.2.0",
      "_view_name": "LayoutView",
      "align_content": null,
      "align_items": null,
      "align_self": null,
      "border": null,
      "bottom": null,
      "display": null,
      "flex": null,
      "flex_flow": null,
      "grid_area": null,
      "grid_auto_columns": null,
      "grid_auto_flow": null,
      "grid_auto_rows": null,
      "grid_column": null,
      "grid_gap": null,
      "grid_row": null,
      "grid_template_areas": null,
      "grid_template_columns": null,
      "grid_template_rows": null,
      "height": null,
      "justify_content": null,
      "justify_items": null,
      "left": null,
      "margin": null,
      "max_height": null,
      "max_width": null,
      "min_height": null,
      "min_width": null,
      "object_fit": null,
      "object_position": null,
      "order": null,
      "overflow": null,
      "overflow_x": null,
      "overflow_y": null,
      "padding": null,
      "right": null,
      "top": null,
      "visibility": null,
      "width": null
     }
    },
    "84332c7d4fdf46a3b6fb37e8e7e00c10": {
     "model_module": "@jupyter-widgets/base",
     "model_module_version": "1.2.0",
     "model_name": "LayoutModel",
     "state": {
      "_model_module": "@jupyter-widgets/base",
      "_model_module_version": "1.2.0",
      "_model_name": "LayoutModel",
      "_view_count": null,
      "_view_module": "@jupyter-widgets/base",
      "_view_module_version": "1.2.0",
      "_view_name": "LayoutView",
      "align_content": null,
      "align_items": null,
      "align_self": null,
      "border": null,
      "bottom": null,
      "display": null,
      "flex": "2",
      "flex_flow": null,
      "grid_area": null,
      "grid_auto_columns": null,
      "grid_auto_flow": null,
      "grid_auto_rows": null,
      "grid_column": null,
      "grid_gap": null,
      "grid_row": null,
      "grid_template_areas": null,
      "grid_template_columns": null,
      "grid_template_rows": null,
      "height": null,
      "justify_content": null,
      "justify_items": null,
      "left": null,
      "margin": null,
      "max_height": null,
      "max_width": null,
      "min_height": null,
      "min_width": null,
      "object_fit": null,
      "object_position": null,
      "order": null,
      "overflow": null,
      "overflow_x": null,
      "overflow_y": null,
      "padding": null,
      "right": null,
      "top": null,
      "visibility": null,
      "width": null
     }
    },
    "84462449f80e4fa6a1079fccf9517651": {
     "model_module": "@jupyter-widgets/base",
     "model_module_version": "1.2.0",
     "model_name": "LayoutModel",
     "state": {
      "_model_module": "@jupyter-widgets/base",
      "_model_module_version": "1.2.0",
      "_model_name": "LayoutModel",
      "_view_count": null,
      "_view_module": "@jupyter-widgets/base",
      "_view_module_version": "1.2.0",
      "_view_name": "LayoutView",
      "align_content": null,
      "align_items": null,
      "align_self": null,
      "border": null,
      "bottom": null,
      "display": null,
      "flex": null,
      "flex_flow": null,
      "grid_area": null,
      "grid_auto_columns": null,
      "grid_auto_flow": null,
      "grid_auto_rows": null,
      "grid_column": null,
      "grid_gap": null,
      "grid_row": null,
      "grid_template_areas": null,
      "grid_template_columns": null,
      "grid_template_rows": null,
      "height": null,
      "justify_content": null,
      "justify_items": null,
      "left": null,
      "margin": null,
      "max_height": null,
      "max_width": null,
      "min_height": null,
      "min_width": null,
      "object_fit": null,
      "object_position": null,
      "order": null,
      "overflow": null,
      "overflow_x": null,
      "overflow_y": null,
      "padding": null,
      "right": null,
      "top": null,
      "visibility": null,
      "width": null
     }
    },
    "84470516a4854c26bf716769ed416ec7": {
     "model_module": "@jupyter-widgets/base",
     "model_module_version": "1.2.0",
     "model_name": "LayoutModel",
     "state": {
      "_model_module": "@jupyter-widgets/base",
      "_model_module_version": "1.2.0",
      "_model_name": "LayoutModel",
      "_view_count": null,
      "_view_module": "@jupyter-widgets/base",
      "_view_module_version": "1.2.0",
      "_view_name": "LayoutView",
      "align_content": null,
      "align_items": null,
      "align_self": null,
      "border": null,
      "bottom": null,
      "display": null,
      "flex": "2",
      "flex_flow": null,
      "grid_area": null,
      "grid_auto_columns": null,
      "grid_auto_flow": null,
      "grid_auto_rows": null,
      "grid_column": null,
      "grid_gap": null,
      "grid_row": null,
      "grid_template_areas": null,
      "grid_template_columns": null,
      "grid_template_rows": null,
      "height": null,
      "justify_content": null,
      "justify_items": null,
      "left": null,
      "margin": null,
      "max_height": null,
      "max_width": null,
      "min_height": null,
      "min_width": null,
      "object_fit": null,
      "object_position": null,
      "order": null,
      "overflow": null,
      "overflow_x": null,
      "overflow_y": null,
      "padding": null,
      "right": null,
      "top": null,
      "visibility": null,
      "width": null
     }
    },
    "8463b8d1a4364eee809f2434d0bbad0c": {
     "model_module": "@jupyter-widgets/base",
     "model_module_version": "1.2.0",
     "model_name": "LayoutModel",
     "state": {
      "_model_module": "@jupyter-widgets/base",
      "_model_module_version": "1.2.0",
      "_model_name": "LayoutModel",
      "_view_count": null,
      "_view_module": "@jupyter-widgets/base",
      "_view_module_version": "1.2.0",
      "_view_name": "LayoutView",
      "align_content": null,
      "align_items": null,
      "align_self": null,
      "border": null,
      "bottom": null,
      "display": null,
      "flex": "2",
      "flex_flow": null,
      "grid_area": null,
      "grid_auto_columns": null,
      "grid_auto_flow": null,
      "grid_auto_rows": null,
      "grid_column": null,
      "grid_gap": null,
      "grid_row": null,
      "grid_template_areas": null,
      "grid_template_columns": null,
      "grid_template_rows": null,
      "height": null,
      "justify_content": null,
      "justify_items": null,
      "left": null,
      "margin": null,
      "max_height": null,
      "max_width": null,
      "min_height": null,
      "min_width": null,
      "object_fit": null,
      "object_position": null,
      "order": null,
      "overflow": null,
      "overflow_x": null,
      "overflow_y": null,
      "padding": null,
      "right": null,
      "top": null,
      "visibility": null,
      "width": null
     }
    },
    "851401d9f6124311ae66b45559d2cf82": {
     "model_module": "@jupyter-widgets/controls",
     "model_module_version": "1.5.0",
     "model_name": "FloatProgressModel",
     "state": {
      "_dom_classes": [],
      "_model_module": "@jupyter-widgets/controls",
      "_model_module_version": "1.5.0",
      "_model_name": "FloatProgressModel",
      "_view_count": null,
      "_view_module": "@jupyter-widgets/controls",
      "_view_module_version": "1.5.0",
      "_view_name": "ProgressView",
      "bar_style": "",
      "description": "",
      "description_tooltip": null,
      "layout": "IPY_MODEL_87f53ead0f344265b25d212ccb5bcc79",
      "max": 5,
      "min": 0,
      "orientation": "horizontal",
      "style": "IPY_MODEL_dfb6b0cd7d384c2aa28dc3b2a133e2be",
      "value": 5
     }
    },
    "866291b404004bc79f515b9a1eb989ee": {
     "model_module": "@jupyter-widgets/base",
     "model_module_version": "1.2.0",
     "model_name": "LayoutModel",
     "state": {
      "_model_module": "@jupyter-widgets/base",
      "_model_module_version": "1.2.0",
      "_model_name": "LayoutModel",
      "_view_count": null,
      "_view_module": "@jupyter-widgets/base",
      "_view_module_version": "1.2.0",
      "_view_name": "LayoutView",
      "align_content": null,
      "align_items": null,
      "align_self": null,
      "border": null,
      "bottom": null,
      "display": null,
      "flex": "2",
      "flex_flow": null,
      "grid_area": null,
      "grid_auto_columns": null,
      "grid_auto_flow": null,
      "grid_auto_rows": null,
      "grid_column": null,
      "grid_gap": null,
      "grid_row": null,
      "grid_template_areas": null,
      "grid_template_columns": null,
      "grid_template_rows": null,
      "height": null,
      "justify_content": null,
      "justify_items": null,
      "left": null,
      "margin": null,
      "max_height": null,
      "max_width": null,
      "min_height": null,
      "min_width": null,
      "object_fit": null,
      "object_position": null,
      "order": null,
      "overflow": null,
      "overflow_x": null,
      "overflow_y": null,
      "padding": null,
      "right": null,
      "top": null,
      "visibility": null,
      "width": null
     }
    },
    "86d41d7fe5724ba892008f61f53c6e13": {
     "model_module": "@jupyter-widgets/controls",
     "model_module_version": "1.5.0",
     "model_name": "DescriptionStyleModel",
     "state": {
      "_model_module": "@jupyter-widgets/controls",
      "_model_module_version": "1.5.0",
      "_model_name": "DescriptionStyleModel",
      "_view_count": null,
      "_view_module": "@jupyter-widgets/base",
      "_view_module_version": "1.2.0",
      "_view_name": "StyleView",
      "description_width": ""
     }
    },
    "8740560e1e0f4e5487fe7b11cb488f57": {
     "model_module": "@jupyter-widgets/base",
     "model_module_version": "1.2.0",
     "model_name": "LayoutModel",
     "state": {
      "_model_module": "@jupyter-widgets/base",
      "_model_module_version": "1.2.0",
      "_model_name": "LayoutModel",
      "_view_count": null,
      "_view_module": "@jupyter-widgets/base",
      "_view_module_version": "1.2.0",
      "_view_name": "LayoutView",
      "align_content": null,
      "align_items": null,
      "align_self": null,
      "border": null,
      "bottom": null,
      "display": "inline-flex",
      "flex": null,
      "flex_flow": "row wrap",
      "grid_area": null,
      "grid_auto_columns": null,
      "grid_auto_flow": null,
      "grid_auto_rows": null,
      "grid_column": null,
      "grid_gap": null,
      "grid_row": null,
      "grid_template_areas": null,
      "grid_template_columns": null,
      "grid_template_rows": null,
      "height": null,
      "justify_content": null,
      "justify_items": null,
      "left": null,
      "margin": null,
      "max_height": null,
      "max_width": null,
      "min_height": null,
      "min_width": null,
      "object_fit": null,
      "object_position": null,
      "order": null,
      "overflow": null,
      "overflow_x": null,
      "overflow_y": null,
      "padding": null,
      "right": null,
      "top": null,
      "visibility": "hidden",
      "width": "100%"
     }
    },
    "87e5eae2a9254fe4b09ff34259f25e5c": {
     "model_module": "@jupyter-widgets/controls",
     "model_module_version": "1.5.0",
     "model_name": "HBoxModel",
     "state": {
      "_dom_classes": [],
      "_model_module": "@jupyter-widgets/controls",
      "_model_module_version": "1.5.0",
      "_model_name": "HBoxModel",
      "_view_count": null,
      "_view_module": "@jupyter-widgets/controls",
      "_view_module_version": "1.5.0",
      "_view_name": "HBoxView",
      "box_style": "",
      "children": [
       "IPY_MODEL_ba9193183be041088b2f47784b5c6052",
       "IPY_MODEL_a30270af9fda48f7a4353fcf5954160e",
       "IPY_MODEL_06e612df7c9b4719a3425bd086f7d2de"
      ],
      "layout": "IPY_MODEL_96438d1cc2844f9eb504fe172ed2ec96"
     }
    },
    "87f53ead0f344265b25d212ccb5bcc79": {
     "model_module": "@jupyter-widgets/base",
     "model_module_version": "1.2.0",
     "model_name": "LayoutModel",
     "state": {
      "_model_module": "@jupyter-widgets/base",
      "_model_module_version": "1.2.0",
      "_model_name": "LayoutModel",
      "_view_count": null,
      "_view_module": "@jupyter-widgets/base",
      "_view_module_version": "1.2.0",
      "_view_name": "LayoutView",
      "align_content": null,
      "align_items": null,
      "align_self": null,
      "border": null,
      "bottom": null,
      "display": null,
      "flex": "2",
      "flex_flow": null,
      "grid_area": null,
      "grid_auto_columns": null,
      "grid_auto_flow": null,
      "grid_auto_rows": null,
      "grid_column": null,
      "grid_gap": null,
      "grid_row": null,
      "grid_template_areas": null,
      "grid_template_columns": null,
      "grid_template_rows": null,
      "height": null,
      "justify_content": null,
      "justify_items": null,
      "left": null,
      "margin": null,
      "max_height": null,
      "max_width": null,
      "min_height": null,
      "min_width": null,
      "object_fit": null,
      "object_position": null,
      "order": null,
      "overflow": null,
      "overflow_x": null,
      "overflow_y": null,
      "padding": null,
      "right": null,
      "top": null,
      "visibility": null,
      "width": null
     }
    },
    "89ea0c0995da40cd9977bb00776cbfca": {
     "model_module": "@jupyter-widgets/controls",
     "model_module_version": "1.5.0",
     "model_name": "HBoxModel",
     "state": {
      "_dom_classes": [],
      "_model_module": "@jupyter-widgets/controls",
      "_model_module_version": "1.5.0",
      "_model_name": "HBoxModel",
      "_view_count": null,
      "_view_module": "@jupyter-widgets/controls",
      "_view_module_version": "1.5.0",
      "_view_name": "HBoxView",
      "box_style": "",
      "children": [
       "IPY_MODEL_7a5dd8fc8c9e4149ad1d7e3236a31f54",
       "IPY_MODEL_47d6882af5e2453193b78f8db7d5ff47",
       "IPY_MODEL_44b01ff2dbfc4691bd98dc3a9fc12926"
      ],
      "layout": "IPY_MODEL_4c101adde46c47abac317f30860a3d77"
     }
    },
    "8a3d5e3ccac14401a7ea4ca101194e10": {
     "model_module": "@jupyter-widgets/base",
     "model_module_version": "1.2.0",
     "model_name": "LayoutModel",
     "state": {
      "_model_module": "@jupyter-widgets/base",
      "_model_module_version": "1.2.0",
      "_model_name": "LayoutModel",
      "_view_count": null,
      "_view_module": "@jupyter-widgets/base",
      "_view_module_version": "1.2.0",
      "_view_name": "LayoutView",
      "align_content": null,
      "align_items": null,
      "align_self": null,
      "border": null,
      "bottom": null,
      "display": null,
      "flex": null,
      "flex_flow": null,
      "grid_area": null,
      "grid_auto_columns": null,
      "grid_auto_flow": null,
      "grid_auto_rows": null,
      "grid_column": null,
      "grid_gap": null,
      "grid_row": null,
      "grid_template_areas": null,
      "grid_template_columns": null,
      "grid_template_rows": null,
      "height": null,
      "justify_content": null,
      "justify_items": null,
      "left": null,
      "margin": null,
      "max_height": null,
      "max_width": null,
      "min_height": null,
      "min_width": null,
      "object_fit": null,
      "object_position": null,
      "order": null,
      "overflow": null,
      "overflow_x": null,
      "overflow_y": null,
      "padding": null,
      "right": null,
      "top": null,
      "visibility": null,
      "width": null
     }
    },
    "8a40a94723414315a15614275eeba7f1": {
     "model_module": "@jupyter-widgets/controls",
     "model_module_version": "1.5.0",
     "model_name": "DescriptionStyleModel",
     "state": {
      "_model_module": "@jupyter-widgets/controls",
      "_model_module_version": "1.5.0",
      "_model_name": "DescriptionStyleModel",
      "_view_count": null,
      "_view_module": "@jupyter-widgets/base",
      "_view_module_version": "1.2.0",
      "_view_name": "StyleView",
      "description_width": ""
     }
    },
    "8a8c62bc988d4b6aa49cb990838b3042": {
     "model_module": "@jupyter-widgets/base",
     "model_module_version": "1.2.0",
     "model_name": "LayoutModel",
     "state": {
      "_model_module": "@jupyter-widgets/base",
      "_model_module_version": "1.2.0",
      "_model_name": "LayoutModel",
      "_view_count": null,
      "_view_module": "@jupyter-widgets/base",
      "_view_module_version": "1.2.0",
      "_view_name": "LayoutView",
      "align_content": null,
      "align_items": null,
      "align_self": null,
      "border": null,
      "bottom": null,
      "display": null,
      "flex": null,
      "flex_flow": null,
      "grid_area": null,
      "grid_auto_columns": null,
      "grid_auto_flow": null,
      "grid_auto_rows": null,
      "grid_column": null,
      "grid_gap": null,
      "grid_row": null,
      "grid_template_areas": null,
      "grid_template_columns": null,
      "grid_template_rows": null,
      "height": null,
      "justify_content": null,
      "justify_items": null,
      "left": null,
      "margin": null,
      "max_height": null,
      "max_width": null,
      "min_height": null,
      "min_width": null,
      "object_fit": null,
      "object_position": null,
      "order": null,
      "overflow": null,
      "overflow_x": null,
      "overflow_y": null,
      "padding": null,
      "right": null,
      "top": null,
      "visibility": null,
      "width": null
     }
    },
    "8ab2bae0518746b98f78b5592a492c71": {
     "model_module": "@jupyter-widgets/controls",
     "model_module_version": "1.5.0",
     "model_name": "HTMLModel",
     "state": {
      "_dom_classes": [],
      "_model_module": "@jupyter-widgets/controls",
      "_model_module_version": "1.5.0",
      "_model_name": "HTMLModel",
      "_view_count": null,
      "_view_module": "@jupyter-widgets/controls",
      "_view_module_version": "1.5.0",
      "_view_name": "HTMLView",
      "description": "",
      "description_tooltip": null,
      "layout": "IPY_MODEL_8057ddac383445068fcf6290dd1e600a",
      "placeholder": "​",
      "style": "IPY_MODEL_d4203403e1c94de2b71cc55f5ce24364",
      "value": " 5/5 [00:01&lt;00:00,  3.96it/s]"
     }
    },
    "8b0705893062482ca766dc526da92ffb": {
     "model_module": "@jupyter-widgets/controls",
     "model_module_version": "1.5.0",
     "model_name": "ProgressStyleModel",
     "state": {
      "_model_module": "@jupyter-widgets/controls",
      "_model_module_version": "1.5.0",
      "_model_name": "ProgressStyleModel",
      "_view_count": null,
      "_view_module": "@jupyter-widgets/base",
      "_view_module_version": "1.2.0",
      "_view_name": "StyleView",
      "bar_color": null,
      "description_width": ""
     }
    },
    "8b87b87273da4372a4f5f932c1f71b2b": {
     "model_module": "@jupyter-widgets/base",
     "model_module_version": "1.2.0",
     "model_name": "LayoutModel",
     "state": {
      "_model_module": "@jupyter-widgets/base",
      "_model_module_version": "1.2.0",
      "_model_name": "LayoutModel",
      "_view_count": null,
      "_view_module": "@jupyter-widgets/base",
      "_view_module_version": "1.2.0",
      "_view_name": "LayoutView",
      "align_content": null,
      "align_items": null,
      "align_self": null,
      "border": null,
      "bottom": null,
      "display": null,
      "flex": null,
      "flex_flow": null,
      "grid_area": null,
      "grid_auto_columns": null,
      "grid_auto_flow": null,
      "grid_auto_rows": null,
      "grid_column": null,
      "grid_gap": null,
      "grid_row": null,
      "grid_template_areas": null,
      "grid_template_columns": null,
      "grid_template_rows": null,
      "height": null,
      "justify_content": null,
      "justify_items": null,
      "left": null,
      "margin": null,
      "max_height": null,
      "max_width": null,
      "min_height": null,
      "min_width": null,
      "object_fit": null,
      "object_position": null,
      "order": null,
      "overflow": null,
      "overflow_x": null,
      "overflow_y": null,
      "padding": null,
      "right": null,
      "top": null,
      "visibility": null,
      "width": null
     }
    },
    "8bd93a2f76134f9eb0d250dafe74df26": {
     "model_module": "@jupyter-widgets/controls",
     "model_module_version": "1.5.0",
     "model_name": "HTMLModel",
     "state": {
      "_dom_classes": [],
      "_model_module": "@jupyter-widgets/controls",
      "_model_module_version": "1.5.0",
      "_model_name": "HTMLModel",
      "_view_count": null,
      "_view_module": "@jupyter-widgets/controls",
      "_view_module_version": "1.5.0",
      "_view_name": "HTMLView",
      "description": "",
      "description_tooltip": null,
      "layout": "IPY_MODEL_9abe613cd57045b18782cccbfe64db7e",
      "placeholder": "​",
      "style": "IPY_MODEL_ed53c23815874fcdbe92a669ef33b451",
      "value": "Validation DataLoader 0: 100%"
     }
    },
    "8be474dd03d4433186637812a1030291": {
     "model_module": "@jupyter-widgets/controls",
     "model_module_version": "1.5.0",
     "model_name": "DescriptionStyleModel",
     "state": {
      "_model_module": "@jupyter-widgets/controls",
      "_model_module_version": "1.5.0",
      "_model_name": "DescriptionStyleModel",
      "_view_count": null,
      "_view_module": "@jupyter-widgets/base",
      "_view_module_version": "1.2.0",
      "_view_name": "StyleView",
      "description_width": ""
     }
    },
    "8c6f46e2352a48468670989d9e574cdc": {
     "model_module": "@jupyter-widgets/base",
     "model_module_version": "1.2.0",
     "model_name": "LayoutModel",
     "state": {
      "_model_module": "@jupyter-widgets/base",
      "_model_module_version": "1.2.0",
      "_model_name": "LayoutModel",
      "_view_count": null,
      "_view_module": "@jupyter-widgets/base",
      "_view_module_version": "1.2.0",
      "_view_name": "LayoutView",
      "align_content": null,
      "align_items": null,
      "align_self": null,
      "border": null,
      "bottom": null,
      "display": "inline-flex",
      "flex": null,
      "flex_flow": "row wrap",
      "grid_area": null,
      "grid_auto_columns": null,
      "grid_auto_flow": null,
      "grid_auto_rows": null,
      "grid_column": null,
      "grid_gap": null,
      "grid_row": null,
      "grid_template_areas": null,
      "grid_template_columns": null,
      "grid_template_rows": null,
      "height": null,
      "justify_content": null,
      "justify_items": null,
      "left": null,
      "margin": null,
      "max_height": null,
      "max_width": null,
      "min_height": null,
      "min_width": null,
      "object_fit": null,
      "object_position": null,
      "order": null,
      "overflow": null,
      "overflow_x": null,
      "overflow_y": null,
      "padding": null,
      "right": null,
      "top": null,
      "visibility": "hidden",
      "width": "100%"
     }
    },
    "8cb77b0f6d6944dfad76c65bbe29cd9c": {
     "model_module": "@jupyter-widgets/base",
     "model_module_version": "1.2.0",
     "model_name": "LayoutModel",
     "state": {
      "_model_module": "@jupyter-widgets/base",
      "_model_module_version": "1.2.0",
      "_model_name": "LayoutModel",
      "_view_count": null,
      "_view_module": "@jupyter-widgets/base",
      "_view_module_version": "1.2.0",
      "_view_name": "LayoutView",
      "align_content": null,
      "align_items": null,
      "align_self": null,
      "border": null,
      "bottom": null,
      "display": null,
      "flex": null,
      "flex_flow": null,
      "grid_area": null,
      "grid_auto_columns": null,
      "grid_auto_flow": null,
      "grid_auto_rows": null,
      "grid_column": null,
      "grid_gap": null,
      "grid_row": null,
      "grid_template_areas": null,
      "grid_template_columns": null,
      "grid_template_rows": null,
      "height": null,
      "justify_content": null,
      "justify_items": null,
      "left": null,
      "margin": null,
      "max_height": null,
      "max_width": null,
      "min_height": null,
      "min_width": null,
      "object_fit": null,
      "object_position": null,
      "order": null,
      "overflow": null,
      "overflow_x": null,
      "overflow_y": null,
      "padding": null,
      "right": null,
      "top": null,
      "visibility": null,
      "width": null
     }
    },
    "8d1a6fce1d7e46b7a95f484e85327fd3": {
     "model_module": "@jupyter-widgets/controls",
     "model_module_version": "1.5.0",
     "model_name": "DescriptionStyleModel",
     "state": {
      "_model_module": "@jupyter-widgets/controls",
      "_model_module_version": "1.5.0",
      "_model_name": "DescriptionStyleModel",
      "_view_count": null,
      "_view_module": "@jupyter-widgets/base",
      "_view_module_version": "1.2.0",
      "_view_name": "StyleView",
      "description_width": ""
     }
    },
    "8d9c8168dd6849a9a69c117be6b79fc7": {
     "model_module": "@jupyter-widgets/base",
     "model_module_version": "1.2.0",
     "model_name": "LayoutModel",
     "state": {
      "_model_module": "@jupyter-widgets/base",
      "_model_module_version": "1.2.0",
      "_model_name": "LayoutModel",
      "_view_count": null,
      "_view_module": "@jupyter-widgets/base",
      "_view_module_version": "1.2.0",
      "_view_name": "LayoutView",
      "align_content": null,
      "align_items": null,
      "align_self": null,
      "border": null,
      "bottom": null,
      "display": "inline-flex",
      "flex": null,
      "flex_flow": "row wrap",
      "grid_area": null,
      "grid_auto_columns": null,
      "grid_auto_flow": null,
      "grid_auto_rows": null,
      "grid_column": null,
      "grid_gap": null,
      "grid_row": null,
      "grid_template_areas": null,
      "grid_template_columns": null,
      "grid_template_rows": null,
      "height": null,
      "justify_content": null,
      "justify_items": null,
      "left": null,
      "margin": null,
      "max_height": null,
      "max_width": null,
      "min_height": null,
      "min_width": null,
      "object_fit": null,
      "object_position": null,
      "order": null,
      "overflow": null,
      "overflow_x": null,
      "overflow_y": null,
      "padding": null,
      "right": null,
      "top": null,
      "visibility": null,
      "width": "100%"
     }
    },
    "8e1bcc23177c4f4585949ba840ccf267": {
     "model_module": "@jupyter-widgets/controls",
     "model_module_version": "1.5.0",
     "model_name": "HTMLModel",
     "state": {
      "_dom_classes": [],
      "_model_module": "@jupyter-widgets/controls",
      "_model_module_version": "1.5.0",
      "_model_name": "HTMLModel",
      "_view_count": null,
      "_view_module": "@jupyter-widgets/controls",
      "_view_module_version": "1.5.0",
      "_view_name": "HTMLView",
      "description": "",
      "description_tooltip": null,
      "layout": "IPY_MODEL_037cedb4fcb64c8ca8cf5e312acf1573",
      "placeholder": "​",
      "style": "IPY_MODEL_8144f52a8763445ea97d36636e1a9688",
      "value": "Validation DataLoader 0: 100%"
     }
    },
    "8e612bcacfc0473f9b32bf2193fdb548": {
     "model_module": "@jupyter-widgets/base",
     "model_module_version": "1.2.0",
     "model_name": "LayoutModel",
     "state": {
      "_model_module": "@jupyter-widgets/base",
      "_model_module_version": "1.2.0",
      "_model_name": "LayoutModel",
      "_view_count": null,
      "_view_module": "@jupyter-widgets/base",
      "_view_module_version": "1.2.0",
      "_view_name": "LayoutView",
      "align_content": null,
      "align_items": null,
      "align_self": null,
      "border": null,
      "bottom": null,
      "display": null,
      "flex": null,
      "flex_flow": null,
      "grid_area": null,
      "grid_auto_columns": null,
      "grid_auto_flow": null,
      "grid_auto_rows": null,
      "grid_column": null,
      "grid_gap": null,
      "grid_row": null,
      "grid_template_areas": null,
      "grid_template_columns": null,
      "grid_template_rows": null,
      "height": null,
      "justify_content": null,
      "justify_items": null,
      "left": null,
      "margin": null,
      "max_height": null,
      "max_width": null,
      "min_height": null,
      "min_width": null,
      "object_fit": null,
      "object_position": null,
      "order": null,
      "overflow": null,
      "overflow_x": null,
      "overflow_y": null,
      "padding": null,
      "right": null,
      "top": null,
      "visibility": null,
      "width": null
     }
    },
    "8fe8f2a8fa9b482e84e459379f07e0cc": {
     "model_module": "@jupyter-widgets/controls",
     "model_module_version": "1.5.0",
     "model_name": "HTMLModel",
     "state": {
      "_dom_classes": [],
      "_model_module": "@jupyter-widgets/controls",
      "_model_module_version": "1.5.0",
      "_model_name": "HTMLModel",
      "_view_count": null,
      "_view_module": "@jupyter-widgets/controls",
      "_view_module_version": "1.5.0",
      "_view_name": "HTMLView",
      "description": "",
      "description_tooltip": null,
      "layout": "IPY_MODEL_3efe612df81c4faf8cdb7d30a53af7d8",
      "placeholder": "​",
      "style": "IPY_MODEL_4dec577cdc25459ab92cf86e44498418",
      "value": "Validation DataLoader 0: 100%"
     }
    },
    "9002d0eaca914fa8995cbd25749b1637": {
     "model_module": "@jupyter-widgets/controls",
     "model_module_version": "1.5.0",
     "model_name": "FloatProgressModel",
     "state": {
      "_dom_classes": [],
      "_model_module": "@jupyter-widgets/controls",
      "_model_module_version": "1.5.0",
      "_model_name": "FloatProgressModel",
      "_view_count": null,
      "_view_module": "@jupyter-widgets/controls",
      "_view_module_version": "1.5.0",
      "_view_name": "ProgressView",
      "bar_style": "",
      "description": "",
      "description_tooltip": null,
      "layout": "IPY_MODEL_df97b6cafb904cf0a1e304d874b89fd9",
      "max": 5,
      "min": 0,
      "orientation": "horizontal",
      "style": "IPY_MODEL_05bc55504fd04279bd443494f0eff031",
      "value": 5
     }
    },
    "900ba8049d8043eda8f572fc1ef728ec": {
     "model_module": "@jupyter-widgets/controls",
     "model_module_version": "1.5.0",
     "model_name": "HTMLModel",
     "state": {
      "_dom_classes": [],
      "_model_module": "@jupyter-widgets/controls",
      "_model_module_version": "1.5.0",
      "_model_name": "HTMLModel",
      "_view_count": null,
      "_view_module": "@jupyter-widgets/controls",
      "_view_module_version": "1.5.0",
      "_view_name": "HTMLView",
      "description": "",
      "description_tooltip": null,
      "layout": "IPY_MODEL_664a5cdb43294addb053d5298b4f5dee",
      "placeholder": "​",
      "style": "IPY_MODEL_977fa88c9feb42b8ae011a01b8f5d21e",
      "value": " 5/5 [00:01&lt;00:00,  3.89it/s]"
     }
    },
    "902cd7a7fd834c28a33fab347a34cc53": {
     "model_module": "@jupyter-widgets/base",
     "model_module_version": "1.2.0",
     "model_name": "LayoutModel",
     "state": {
      "_model_module": "@jupyter-widgets/base",
      "_model_module_version": "1.2.0",
      "_model_name": "LayoutModel",
      "_view_count": null,
      "_view_module": "@jupyter-widgets/base",
      "_view_module_version": "1.2.0",
      "_view_name": "LayoutView",
      "align_content": null,
      "align_items": null,
      "align_self": null,
      "border": null,
      "bottom": null,
      "display": null,
      "flex": "2",
      "flex_flow": null,
      "grid_area": null,
      "grid_auto_columns": null,
      "grid_auto_flow": null,
      "grid_auto_rows": null,
      "grid_column": null,
      "grid_gap": null,
      "grid_row": null,
      "grid_template_areas": null,
      "grid_template_columns": null,
      "grid_template_rows": null,
      "height": null,
      "justify_content": null,
      "justify_items": null,
      "left": null,
      "margin": null,
      "max_height": null,
      "max_width": null,
      "min_height": null,
      "min_width": null,
      "object_fit": null,
      "object_position": null,
      "order": null,
      "overflow": null,
      "overflow_x": null,
      "overflow_y": null,
      "padding": null,
      "right": null,
      "top": null,
      "visibility": null,
      "width": null
     }
    },
    "9061bf230c0843c8943271e5e9290075": {
     "model_module": "@jupyter-widgets/controls",
     "model_module_version": "1.5.0",
     "model_name": "DescriptionStyleModel",
     "state": {
      "_model_module": "@jupyter-widgets/controls",
      "_model_module_version": "1.5.0",
      "_model_name": "DescriptionStyleModel",
      "_view_count": null,
      "_view_module": "@jupyter-widgets/base",
      "_view_module_version": "1.2.0",
      "_view_name": "StyleView",
      "description_width": ""
     }
    },
    "90818edd06ea411883188ab51a6a73c3": {
     "model_module": "@jupyter-widgets/controls",
     "model_module_version": "1.5.0",
     "model_name": "ProgressStyleModel",
     "state": {
      "_model_module": "@jupyter-widgets/controls",
      "_model_module_version": "1.5.0",
      "_model_name": "ProgressStyleModel",
      "_view_count": null,
      "_view_module": "@jupyter-widgets/base",
      "_view_module_version": "1.2.0",
      "_view_name": "StyleView",
      "bar_color": null,
      "description_width": ""
     }
    },
    "9165c1d7946c4abf8dbc0682a644edca": {
     "model_module": "@jupyter-widgets/base",
     "model_module_version": "1.2.0",
     "model_name": "LayoutModel",
     "state": {
      "_model_module": "@jupyter-widgets/base",
      "_model_module_version": "1.2.0",
      "_model_name": "LayoutModel",
      "_view_count": null,
      "_view_module": "@jupyter-widgets/base",
      "_view_module_version": "1.2.0",
      "_view_name": "LayoutView",
      "align_content": null,
      "align_items": null,
      "align_self": null,
      "border": null,
      "bottom": null,
      "display": null,
      "flex": "2",
      "flex_flow": null,
      "grid_area": null,
      "grid_auto_columns": null,
      "grid_auto_flow": null,
      "grid_auto_rows": null,
      "grid_column": null,
      "grid_gap": null,
      "grid_row": null,
      "grid_template_areas": null,
      "grid_template_columns": null,
      "grid_template_rows": null,
      "height": null,
      "justify_content": null,
      "justify_items": null,
      "left": null,
      "margin": null,
      "max_height": null,
      "max_width": null,
      "min_height": null,
      "min_width": null,
      "object_fit": null,
      "object_position": null,
      "order": null,
      "overflow": null,
      "overflow_x": null,
      "overflow_y": null,
      "padding": null,
      "right": null,
      "top": null,
      "visibility": null,
      "width": null
     }
    },
    "92b7dc5621a24349876f1c2e53a2cda4": {
     "model_module": "@jupyter-widgets/base",
     "model_module_version": "1.2.0",
     "model_name": "LayoutModel",
     "state": {
      "_model_module": "@jupyter-widgets/base",
      "_model_module_version": "1.2.0",
      "_model_name": "LayoutModel",
      "_view_count": null,
      "_view_module": "@jupyter-widgets/base",
      "_view_module_version": "1.2.0",
      "_view_name": "LayoutView",
      "align_content": null,
      "align_items": null,
      "align_self": null,
      "border": null,
      "bottom": null,
      "display": "inline-flex",
      "flex": null,
      "flex_flow": "row wrap",
      "grid_area": null,
      "grid_auto_columns": null,
      "grid_auto_flow": null,
      "grid_auto_rows": null,
      "grid_column": null,
      "grid_gap": null,
      "grid_row": null,
      "grid_template_areas": null,
      "grid_template_columns": null,
      "grid_template_rows": null,
      "height": null,
      "justify_content": null,
      "justify_items": null,
      "left": null,
      "margin": null,
      "max_height": null,
      "max_width": null,
      "min_height": null,
      "min_width": null,
      "object_fit": null,
      "object_position": null,
      "order": null,
      "overflow": null,
      "overflow_x": null,
      "overflow_y": null,
      "padding": null,
      "right": null,
      "top": null,
      "visibility": "hidden",
      "width": "100%"
     }
    },
    "93ca0d69b1cc414f8b4701c55d5e8dc8": {
     "model_module": "@jupyter-widgets/controls",
     "model_module_version": "1.5.0",
     "model_name": "HTMLModel",
     "state": {
      "_dom_classes": [],
      "_model_module": "@jupyter-widgets/controls",
      "_model_module_version": "1.5.0",
      "_model_name": "HTMLModel",
      "_view_count": null,
      "_view_module": "@jupyter-widgets/controls",
      "_view_module_version": "1.5.0",
      "_view_name": "HTMLView",
      "description": "",
      "description_tooltip": null,
      "layout": "IPY_MODEL_ba749fd3c2964638a216ed346fe49933",
      "placeholder": "​",
      "style": "IPY_MODEL_06567b661bcc4c3e835092934132b30c",
      "value": " 5/5 [00:01&lt;00:00,  4.02it/s]"
     }
    },
    "94345e776b5845a7a73429ac05050cd8": {
     "model_module": "@jupyter-widgets/controls",
     "model_module_version": "1.5.0",
     "model_name": "HTMLModel",
     "state": {
      "_dom_classes": [],
      "_model_module": "@jupyter-widgets/controls",
      "_model_module_version": "1.5.0",
      "_model_name": "HTMLModel",
      "_view_count": null,
      "_view_module": "@jupyter-widgets/controls",
      "_view_module_version": "1.5.0",
      "_view_name": "HTMLView",
      "description": "",
      "description_tooltip": null,
      "layout": "IPY_MODEL_fcb8995b63e045a39f70b49eb56ee8fe",
      "placeholder": "​",
      "style": "IPY_MODEL_ebf8df869acc4ac5822b77234bf1f441",
      "value": "Validation DataLoader 0: 100%"
     }
    },
    "9500732d231d4403a90176e3160080fd": {
     "model_module": "@jupyter-widgets/controls",
     "model_module_version": "1.5.0",
     "model_name": "DescriptionStyleModel",
     "state": {
      "_model_module": "@jupyter-widgets/controls",
      "_model_module_version": "1.5.0",
      "_model_name": "DescriptionStyleModel",
      "_view_count": null,
      "_view_module": "@jupyter-widgets/base",
      "_view_module_version": "1.2.0",
      "_view_name": "StyleView",
      "description_width": ""
     }
    },
    "9564e6c9866c445fa0af0cee834a518f": {
     "model_module": "@jupyter-widgets/controls",
     "model_module_version": "1.5.0",
     "model_name": "HTMLModel",
     "state": {
      "_dom_classes": [],
      "_model_module": "@jupyter-widgets/controls",
      "_model_module_version": "1.5.0",
      "_model_name": "HTMLModel",
      "_view_count": null,
      "_view_module": "@jupyter-widgets/controls",
      "_view_module_version": "1.5.0",
      "_view_name": "HTMLView",
      "description": "",
      "description_tooltip": null,
      "layout": "IPY_MODEL_84462449f80e4fa6a1079fccf9517651",
      "placeholder": "​",
      "style": "IPY_MODEL_3b9c243ad89945af8241f6efe1c3f380",
      "value": "Validation DataLoader 0: 100%"
     }
    },
    "96438d1cc2844f9eb504fe172ed2ec96": {
     "model_module": "@jupyter-widgets/base",
     "model_module_version": "1.2.0",
     "model_name": "LayoutModel",
     "state": {
      "_model_module": "@jupyter-widgets/base",
      "_model_module_version": "1.2.0",
      "_model_name": "LayoutModel",
      "_view_count": null,
      "_view_module": "@jupyter-widgets/base",
      "_view_module_version": "1.2.0",
      "_view_name": "LayoutView",
      "align_content": null,
      "align_items": null,
      "align_self": null,
      "border": null,
      "bottom": null,
      "display": "inline-flex",
      "flex": null,
      "flex_flow": "row wrap",
      "grid_area": null,
      "grid_auto_columns": null,
      "grid_auto_flow": null,
      "grid_auto_rows": null,
      "grid_column": null,
      "grid_gap": null,
      "grid_row": null,
      "grid_template_areas": null,
      "grid_template_columns": null,
      "grid_template_rows": null,
      "height": null,
      "justify_content": null,
      "justify_items": null,
      "left": null,
      "margin": null,
      "max_height": null,
      "max_width": null,
      "min_height": null,
      "min_width": null,
      "object_fit": null,
      "object_position": null,
      "order": null,
      "overflow": null,
      "overflow_x": null,
      "overflow_y": null,
      "padding": null,
      "right": null,
      "top": null,
      "visibility": "hidden",
      "width": "100%"
     }
    },
    "976f94973aaa4be1ac50ca874db77306": {
     "model_module": "@jupyter-widgets/controls",
     "model_module_version": "1.5.0",
     "model_name": "ProgressStyleModel",
     "state": {
      "_model_module": "@jupyter-widgets/controls",
      "_model_module_version": "1.5.0",
      "_model_name": "ProgressStyleModel",
      "_view_count": null,
      "_view_module": "@jupyter-widgets/base",
      "_view_module_version": "1.2.0",
      "_view_name": "StyleView",
      "bar_color": null,
      "description_width": ""
     }
    },
    "977fa88c9feb42b8ae011a01b8f5d21e": {
     "model_module": "@jupyter-widgets/controls",
     "model_module_version": "1.5.0",
     "model_name": "DescriptionStyleModel",
     "state": {
      "_model_module": "@jupyter-widgets/controls",
      "_model_module_version": "1.5.0",
      "_model_name": "DescriptionStyleModel",
      "_view_count": null,
      "_view_module": "@jupyter-widgets/base",
      "_view_module_version": "1.2.0",
      "_view_name": "StyleView",
      "description_width": ""
     }
    },
    "9785b7feb6704d3e8cc948ab27ac5bbd": {
     "model_module": "@jupyter-widgets/controls",
     "model_module_version": "1.5.0",
     "model_name": "DescriptionStyleModel",
     "state": {
      "_model_module": "@jupyter-widgets/controls",
      "_model_module_version": "1.5.0",
      "_model_name": "DescriptionStyleModel",
      "_view_count": null,
      "_view_module": "@jupyter-widgets/base",
      "_view_module_version": "1.2.0",
      "_view_name": "StyleView",
      "description_width": ""
     }
    },
    "979665aa10584ea485badcc4f6af4ef2": {
     "model_module": "@jupyter-widgets/controls",
     "model_module_version": "1.5.0",
     "model_name": "HBoxModel",
     "state": {
      "_dom_classes": [],
      "_model_module": "@jupyter-widgets/controls",
      "_model_module_version": "1.5.0",
      "_model_name": "HBoxModel",
      "_view_count": null,
      "_view_module": "@jupyter-widgets/controls",
      "_view_module_version": "1.5.0",
      "_view_name": "HBoxView",
      "box_style": "",
      "children": [
       "IPY_MODEL_fd2667a33b17440b85425ce823dffbf6",
       "IPY_MODEL_9cd72cd676e64573beb7fb22fcb93a96",
       "IPY_MODEL_900ba8049d8043eda8f572fc1ef728ec"
      ],
      "layout": "IPY_MODEL_5bb6debaee234438b7dc6b7c02dd22d2"
     }
    },
    "97dea354c886408496cba61f679046c2": {
     "model_module": "@jupyter-widgets/controls",
     "model_module_version": "1.5.0",
     "model_name": "ProgressStyleModel",
     "state": {
      "_model_module": "@jupyter-widgets/controls",
      "_model_module_version": "1.5.0",
      "_model_name": "ProgressStyleModel",
      "_view_count": null,
      "_view_module": "@jupyter-widgets/base",
      "_view_module_version": "1.2.0",
      "_view_name": "StyleView",
      "bar_color": null,
      "description_width": ""
     }
    },
    "97ee019aabc14c46aff31793386da94a": {
     "model_module": "@jupyter-widgets/base",
     "model_module_version": "1.2.0",
     "model_name": "LayoutModel",
     "state": {
      "_model_module": "@jupyter-widgets/base",
      "_model_module_version": "1.2.0",
      "_model_name": "LayoutModel",
      "_view_count": null,
      "_view_module": "@jupyter-widgets/base",
      "_view_module_version": "1.2.0",
      "_view_name": "LayoutView",
      "align_content": null,
      "align_items": null,
      "align_self": null,
      "border": null,
      "bottom": null,
      "display": null,
      "flex": null,
      "flex_flow": null,
      "grid_area": null,
      "grid_auto_columns": null,
      "grid_auto_flow": null,
      "grid_auto_rows": null,
      "grid_column": null,
      "grid_gap": null,
      "grid_row": null,
      "grid_template_areas": null,
      "grid_template_columns": null,
      "grid_template_rows": null,
      "height": null,
      "justify_content": null,
      "justify_items": null,
      "left": null,
      "margin": null,
      "max_height": null,
      "max_width": null,
      "min_height": null,
      "min_width": null,
      "object_fit": null,
      "object_position": null,
      "order": null,
      "overflow": null,
      "overflow_x": null,
      "overflow_y": null,
      "padding": null,
      "right": null,
      "top": null,
      "visibility": null,
      "width": null
     }
    },
    "9862f7a4450c4e1ba5fdf1099e9a912d": {
     "model_module": "@jupyter-widgets/controls",
     "model_module_version": "1.5.0",
     "model_name": "DescriptionStyleModel",
     "state": {
      "_model_module": "@jupyter-widgets/controls",
      "_model_module_version": "1.5.0",
      "_model_name": "DescriptionStyleModel",
      "_view_count": null,
      "_view_module": "@jupyter-widgets/base",
      "_view_module_version": "1.2.0",
      "_view_name": "StyleView",
      "description_width": ""
     }
    },
    "98d12d98b5aa40adbb2f186207f437cf": {
     "model_module": "@jupyter-widgets/controls",
     "model_module_version": "1.5.0",
     "model_name": "HTMLModel",
     "state": {
      "_dom_classes": [],
      "_model_module": "@jupyter-widgets/controls",
      "_model_module_version": "1.5.0",
      "_model_name": "HTMLModel",
      "_view_count": null,
      "_view_module": "@jupyter-widgets/controls",
      "_view_module_version": "1.5.0",
      "_view_name": "HTMLView",
      "description": "",
      "description_tooltip": null,
      "layout": "IPY_MODEL_262a3f60a5254adebfed0c6cf6692638",
      "placeholder": "​",
      "style": "IPY_MODEL_8271afe90f2b4018a4cdd5af4e4f3b32",
      "value": "Validation DataLoader 0: 100%"
     }
    },
    "9a0f7629b33a4f35aa508b67a8fbcfad": {
     "model_module": "@jupyter-widgets/base",
     "model_module_version": "1.2.0",
     "model_name": "LayoutModel",
     "state": {
      "_model_module": "@jupyter-widgets/base",
      "_model_module_version": "1.2.0",
      "_model_name": "LayoutModel",
      "_view_count": null,
      "_view_module": "@jupyter-widgets/base",
      "_view_module_version": "1.2.0",
      "_view_name": "LayoutView",
      "align_content": null,
      "align_items": null,
      "align_self": null,
      "border": null,
      "bottom": null,
      "display": null,
      "flex": null,
      "flex_flow": null,
      "grid_area": null,
      "grid_auto_columns": null,
      "grid_auto_flow": null,
      "grid_auto_rows": null,
      "grid_column": null,
      "grid_gap": null,
      "grid_row": null,
      "grid_template_areas": null,
      "grid_template_columns": null,
      "grid_template_rows": null,
      "height": null,
      "justify_content": null,
      "justify_items": null,
      "left": null,
      "margin": null,
      "max_height": null,
      "max_width": null,
      "min_height": null,
      "min_width": null,
      "object_fit": null,
      "object_position": null,
      "order": null,
      "overflow": null,
      "overflow_x": null,
      "overflow_y": null,
      "padding": null,
      "right": null,
      "top": null,
      "visibility": null,
      "width": null
     }
    },
    "9aa8a28ef53e404182fef0544659e59a": {
     "model_module": "@jupyter-widgets/base",
     "model_module_version": "1.2.0",
     "model_name": "LayoutModel",
     "state": {
      "_model_module": "@jupyter-widgets/base",
      "_model_module_version": "1.2.0",
      "_model_name": "LayoutModel",
      "_view_count": null,
      "_view_module": "@jupyter-widgets/base",
      "_view_module_version": "1.2.0",
      "_view_name": "LayoutView",
      "align_content": null,
      "align_items": null,
      "align_self": null,
      "border": null,
      "bottom": null,
      "display": null,
      "flex": "2",
      "flex_flow": null,
      "grid_area": null,
      "grid_auto_columns": null,
      "grid_auto_flow": null,
      "grid_auto_rows": null,
      "grid_column": null,
      "grid_gap": null,
      "grid_row": null,
      "grid_template_areas": null,
      "grid_template_columns": null,
      "grid_template_rows": null,
      "height": null,
      "justify_content": null,
      "justify_items": null,
      "left": null,
      "margin": null,
      "max_height": null,
      "max_width": null,
      "min_height": null,
      "min_width": null,
      "object_fit": null,
      "object_position": null,
      "order": null,
      "overflow": null,
      "overflow_x": null,
      "overflow_y": null,
      "padding": null,
      "right": null,
      "top": null,
      "visibility": null,
      "width": null
     }
    },
    "9abe613cd57045b18782cccbfe64db7e": {
     "model_module": "@jupyter-widgets/base",
     "model_module_version": "1.2.0",
     "model_name": "LayoutModel",
     "state": {
      "_model_module": "@jupyter-widgets/base",
      "_model_module_version": "1.2.0",
      "_model_name": "LayoutModel",
      "_view_count": null,
      "_view_module": "@jupyter-widgets/base",
      "_view_module_version": "1.2.0",
      "_view_name": "LayoutView",
      "align_content": null,
      "align_items": null,
      "align_self": null,
      "border": null,
      "bottom": null,
      "display": null,
      "flex": null,
      "flex_flow": null,
      "grid_area": null,
      "grid_auto_columns": null,
      "grid_auto_flow": null,
      "grid_auto_rows": null,
      "grid_column": null,
      "grid_gap": null,
      "grid_row": null,
      "grid_template_areas": null,
      "grid_template_columns": null,
      "grid_template_rows": null,
      "height": null,
      "justify_content": null,
      "justify_items": null,
      "left": null,
      "margin": null,
      "max_height": null,
      "max_width": null,
      "min_height": null,
      "min_width": null,
      "object_fit": null,
      "object_position": null,
      "order": null,
      "overflow": null,
      "overflow_x": null,
      "overflow_y": null,
      "padding": null,
      "right": null,
      "top": null,
      "visibility": null,
      "width": null
     }
    },
    "9b0bad44b7a24852be8c4f040a405e4e": {
     "model_module": "@jupyter-widgets/controls",
     "model_module_version": "1.5.0",
     "model_name": "ProgressStyleModel",
     "state": {
      "_model_module": "@jupyter-widgets/controls",
      "_model_module_version": "1.5.0",
      "_model_name": "ProgressStyleModel",
      "_view_count": null,
      "_view_module": "@jupyter-widgets/base",
      "_view_module_version": "1.2.0",
      "_view_name": "StyleView",
      "bar_color": null,
      "description_width": ""
     }
    },
    "9b44d1d0e69f4a82b30d6935b058c218": {
     "model_module": "@jupyter-widgets/controls",
     "model_module_version": "1.5.0",
     "model_name": "DescriptionStyleModel",
     "state": {
      "_model_module": "@jupyter-widgets/controls",
      "_model_module_version": "1.5.0",
      "_model_name": "DescriptionStyleModel",
      "_view_count": null,
      "_view_module": "@jupyter-widgets/base",
      "_view_module_version": "1.2.0",
      "_view_name": "StyleView",
      "description_width": ""
     }
    },
    "9b4d4d48f7c04d21a0a84838a45820a8": {
     "model_module": "@jupyter-widgets/base",
     "model_module_version": "1.2.0",
     "model_name": "LayoutModel",
     "state": {
      "_model_module": "@jupyter-widgets/base",
      "_model_module_version": "1.2.0",
      "_model_name": "LayoutModel",
      "_view_count": null,
      "_view_module": "@jupyter-widgets/base",
      "_view_module_version": "1.2.0",
      "_view_name": "LayoutView",
      "align_content": null,
      "align_items": null,
      "align_self": null,
      "border": null,
      "bottom": null,
      "display": null,
      "flex": null,
      "flex_flow": null,
      "grid_area": null,
      "grid_auto_columns": null,
      "grid_auto_flow": null,
      "grid_auto_rows": null,
      "grid_column": null,
      "grid_gap": null,
      "grid_row": null,
      "grid_template_areas": null,
      "grid_template_columns": null,
      "grid_template_rows": null,
      "height": null,
      "justify_content": null,
      "justify_items": null,
      "left": null,
      "margin": null,
      "max_height": null,
      "max_width": null,
      "min_height": null,
      "min_width": null,
      "object_fit": null,
      "object_position": null,
      "order": null,
      "overflow": null,
      "overflow_x": null,
      "overflow_y": null,
      "padding": null,
      "right": null,
      "top": null,
      "visibility": null,
      "width": null
     }
    },
    "9c0c4cf101d24abf9a1ccd4a1b9b934d": {
     "model_module": "@jupyter-widgets/controls",
     "model_module_version": "1.5.0",
     "model_name": "HBoxModel",
     "state": {
      "_dom_classes": [],
      "_model_module": "@jupyter-widgets/controls",
      "_model_module_version": "1.5.0",
      "_model_name": "HBoxModel",
      "_view_count": null,
      "_view_module": "@jupyter-widgets/controls",
      "_view_module_version": "1.5.0",
      "_view_name": "HBoxView",
      "box_style": "",
      "children": [
       "IPY_MODEL_e488a559d63a4129b5fe907c946daf7d",
       "IPY_MODEL_f9e9fd00891146e68a950c02a5207dde",
       "IPY_MODEL_1fe29e4fbbbe4d839f6ed1f1a92ffd7e"
      ],
      "layout": "IPY_MODEL_e5d32a28f44343cebdbfe27e74483c44"
     }
    },
    "9c58f53da6ff4f54ac926dd8689c70ea": {
     "model_module": "@jupyter-widgets/base",
     "model_module_version": "1.2.0",
     "model_name": "LayoutModel",
     "state": {
      "_model_module": "@jupyter-widgets/base",
      "_model_module_version": "1.2.0",
      "_model_name": "LayoutModel",
      "_view_count": null,
      "_view_module": "@jupyter-widgets/base",
      "_view_module_version": "1.2.0",
      "_view_name": "LayoutView",
      "align_content": null,
      "align_items": null,
      "align_self": null,
      "border": null,
      "bottom": null,
      "display": null,
      "flex": null,
      "flex_flow": null,
      "grid_area": null,
      "grid_auto_columns": null,
      "grid_auto_flow": null,
      "grid_auto_rows": null,
      "grid_column": null,
      "grid_gap": null,
      "grid_row": null,
      "grid_template_areas": null,
      "grid_template_columns": null,
      "grid_template_rows": null,
      "height": null,
      "justify_content": null,
      "justify_items": null,
      "left": null,
      "margin": null,
      "max_height": null,
      "max_width": null,
      "min_height": null,
      "min_width": null,
      "object_fit": null,
      "object_position": null,
      "order": null,
      "overflow": null,
      "overflow_x": null,
      "overflow_y": null,
      "padding": null,
      "right": null,
      "top": null,
      "visibility": null,
      "width": null
     }
    },
    "9c6e2a4202f84e92aceb77c3aea142bc": {
     "model_module": "@jupyter-widgets/controls",
     "model_module_version": "1.5.0",
     "model_name": "FloatProgressModel",
     "state": {
      "_dom_classes": [],
      "_model_module": "@jupyter-widgets/controls",
      "_model_module_version": "1.5.0",
      "_model_name": "FloatProgressModel",
      "_view_count": null,
      "_view_module": "@jupyter-widgets/controls",
      "_view_module_version": "1.5.0",
      "_view_name": "ProgressView",
      "bar_style": "",
      "description": "",
      "description_tooltip": null,
      "layout": "IPY_MODEL_24dc63d967df42f595083d1eadcef28b",
      "max": 5,
      "min": 0,
      "orientation": "horizontal",
      "style": "IPY_MODEL_bb0a19cf4f6a40638d7380c4f6d2e549",
      "value": 5
     }
    },
    "9c7d6c2429324a88afdc3e488468653d": {
     "model_module": "@jupyter-widgets/controls",
     "model_module_version": "1.5.0",
     "model_name": "HBoxModel",
     "state": {
      "_dom_classes": [],
      "_model_module": "@jupyter-widgets/controls",
      "_model_module_version": "1.5.0",
      "_model_name": "HBoxModel",
      "_view_count": null,
      "_view_module": "@jupyter-widgets/controls",
      "_view_module_version": "1.5.0",
      "_view_name": "HBoxView",
      "box_style": "",
      "children": [
       "IPY_MODEL_264265be1229421bbbb5ba6c7f2bffd1",
       "IPY_MODEL_cb5bedd005704beaa9bd77e34af15251",
       "IPY_MODEL_bfbce7155be8403db997b2add318172b"
      ],
      "layout": "IPY_MODEL_079b5610cf60418d81fa1eab5dc7b45e"
     }
    },
    "9cd72cd676e64573beb7fb22fcb93a96": {
     "model_module": "@jupyter-widgets/controls",
     "model_module_version": "1.5.0",
     "model_name": "FloatProgressModel",
     "state": {
      "_dom_classes": [],
      "_model_module": "@jupyter-widgets/controls",
      "_model_module_version": "1.5.0",
      "_model_name": "FloatProgressModel",
      "_view_count": null,
      "_view_module": "@jupyter-widgets/controls",
      "_view_module_version": "1.5.0",
      "_view_name": "ProgressView",
      "bar_style": "",
      "description": "",
      "description_tooltip": null,
      "layout": "IPY_MODEL_1e93f3363ea446a7b7beb06f622da049",
      "max": 5,
      "min": 0,
      "orientation": "horizontal",
      "style": "IPY_MODEL_f49ef09e48524f1c9454c7d1e30b325d",
      "value": 5
     }
    },
    "9d050693aefd465a8523d5820463ff8d": {
     "model_module": "@jupyter-widgets/controls",
     "model_module_version": "1.5.0",
     "model_name": "HBoxModel",
     "state": {
      "_dom_classes": [],
      "_model_module": "@jupyter-widgets/controls",
      "_model_module_version": "1.5.0",
      "_model_name": "HBoxModel",
      "_view_count": null,
      "_view_module": "@jupyter-widgets/controls",
      "_view_module_version": "1.5.0",
      "_view_name": "HBoxView",
      "box_style": "",
      "children": [
       "IPY_MODEL_d9c03f7b0f8546e4a5ba31462ae8f058",
       "IPY_MODEL_0d484fa1b9674d40ac601d1456f36c43",
       "IPY_MODEL_b32ec35b4cb44ccc9fed7d1f0bb7f310"
      ],
      "layout": "IPY_MODEL_10b919d8fd3f4b1b85e922301711ce14"
     }
    },
    "9d8fa59c84cf4673accf7e69b22618a2": {
     "model_module": "@jupyter-widgets/controls",
     "model_module_version": "1.5.0",
     "model_name": "HTMLModel",
     "state": {
      "_dom_classes": [],
      "_model_module": "@jupyter-widgets/controls",
      "_model_module_version": "1.5.0",
      "_model_name": "HTMLModel",
      "_view_count": null,
      "_view_module": "@jupyter-widgets/controls",
      "_view_module_version": "1.5.0",
      "_view_name": "HTMLView",
      "description": "",
      "description_tooltip": null,
      "layout": "IPY_MODEL_d08f9eb285034206b6980e106461c8dc",
      "placeholder": "​",
      "style": "IPY_MODEL_b3778578536d47398eec333301a1656d",
      "value": "Validation DataLoader 0: 100%"
     }
    },
    "9db930f240124c45af811c88577e8256": {
     "model_module": "@jupyter-widgets/controls",
     "model_module_version": "1.5.0",
     "model_name": "HBoxModel",
     "state": {
      "_dom_classes": [],
      "_model_module": "@jupyter-widgets/controls",
      "_model_module_version": "1.5.0",
      "_model_name": "HBoxModel",
      "_view_count": null,
      "_view_module": "@jupyter-widgets/controls",
      "_view_module_version": "1.5.0",
      "_view_name": "HBoxView",
      "box_style": "",
      "children": [
       "IPY_MODEL_b597bcca357f44859c2246b7671a6a04",
       "IPY_MODEL_be8353ec9005403f8742915614bae9ff",
       "IPY_MODEL_f5e0845a75914cb89d95b5ab6035b319"
      ],
      "layout": "IPY_MODEL_3dc82a058ead468ebdd07434cd88b925"
     }
    },
    "9e4adf54330b42d9b7d8ab86855a5816": {
     "model_module": "@jupyter-widgets/controls",
     "model_module_version": "1.5.0",
     "model_name": "DescriptionStyleModel",
     "state": {
      "_model_module": "@jupyter-widgets/controls",
      "_model_module_version": "1.5.0",
      "_model_name": "DescriptionStyleModel",
      "_view_count": null,
      "_view_module": "@jupyter-widgets/base",
      "_view_module_version": "1.2.0",
      "_view_name": "StyleView",
      "description_width": ""
     }
    },
    "9e6157427ee6402597cc70beff7f9f90": {
     "model_module": "@jupyter-widgets/controls",
     "model_module_version": "1.5.0",
     "model_name": "HTMLModel",
     "state": {
      "_dom_classes": [],
      "_model_module": "@jupyter-widgets/controls",
      "_model_module_version": "1.5.0",
      "_model_name": "HTMLModel",
      "_view_count": null,
      "_view_module": "@jupyter-widgets/controls",
      "_view_module_version": "1.5.0",
      "_view_name": "HTMLView",
      "description": "",
      "description_tooltip": null,
      "layout": "IPY_MODEL_eadd25346f584741a23cba5d2513aa39",
      "placeholder": "​",
      "style": "IPY_MODEL_3361520d307c42b6b24dfca31d3d8652",
      "value": "Validation DataLoader 0: 100%"
     }
    },
    "9f3e88c495d9415d852e74da0f8ee9fb": {
     "model_module": "@jupyter-widgets/controls",
     "model_module_version": "1.5.0",
     "model_name": "FloatProgressModel",
     "state": {
      "_dom_classes": [],
      "_model_module": "@jupyter-widgets/controls",
      "_model_module_version": "1.5.0",
      "_model_name": "FloatProgressModel",
      "_view_count": null,
      "_view_module": "@jupyter-widgets/controls",
      "_view_module_version": "1.5.0",
      "_view_name": "ProgressView",
      "bar_style": "",
      "description": "",
      "description_tooltip": null,
      "layout": "IPY_MODEL_b66d3347ec12413985a16258457169e1",
      "max": 5,
      "min": 0,
      "orientation": "horizontal",
      "style": "IPY_MODEL_6a0b929ceb804a648c418c22174ba2a0",
      "value": 5
     }
    },
    "9f41f7d773714bb89c61c6ab63e6d151": {
     "model_module": "@jupyter-widgets/controls",
     "model_module_version": "1.5.0",
     "model_name": "FloatProgressModel",
     "state": {
      "_dom_classes": [],
      "_model_module": "@jupyter-widgets/controls",
      "_model_module_version": "1.5.0",
      "_model_name": "FloatProgressModel",
      "_view_count": null,
      "_view_module": "@jupyter-widgets/controls",
      "_view_module_version": "1.5.0",
      "_view_name": "ProgressView",
      "bar_style": "",
      "description": "",
      "description_tooltip": null,
      "layout": "IPY_MODEL_bbce6064c48f43348db59440a007d158",
      "max": 5,
      "min": 0,
      "orientation": "horizontal",
      "style": "IPY_MODEL_0f44254a8f54452ea7dd816f4114ad3d",
      "value": 5
     }
    },
    "a105e07425c547ebba946df44f82b38c": {
     "model_module": "@jupyter-widgets/base",
     "model_module_version": "1.2.0",
     "model_name": "LayoutModel",
     "state": {
      "_model_module": "@jupyter-widgets/base",
      "_model_module_version": "1.2.0",
      "_model_name": "LayoutModel",
      "_view_count": null,
      "_view_module": "@jupyter-widgets/base",
      "_view_module_version": "1.2.0",
      "_view_name": "LayoutView",
      "align_content": null,
      "align_items": null,
      "align_self": null,
      "border": null,
      "bottom": null,
      "display": "inline-flex",
      "flex": null,
      "flex_flow": "row wrap",
      "grid_area": null,
      "grid_auto_columns": null,
      "grid_auto_flow": null,
      "grid_auto_rows": null,
      "grid_column": null,
      "grid_gap": null,
      "grid_row": null,
      "grid_template_areas": null,
      "grid_template_columns": null,
      "grid_template_rows": null,
      "height": null,
      "justify_content": null,
      "justify_items": null,
      "left": null,
      "margin": null,
      "max_height": null,
      "max_width": null,
      "min_height": null,
      "min_width": null,
      "object_fit": null,
      "object_position": null,
      "order": null,
      "overflow": null,
      "overflow_x": null,
      "overflow_y": null,
      "padding": null,
      "right": null,
      "top": null,
      "visibility": "hidden",
      "width": "100%"
     }
    },
    "a30270af9fda48f7a4353fcf5954160e": {
     "model_module": "@jupyter-widgets/controls",
     "model_module_version": "1.5.0",
     "model_name": "FloatProgressModel",
     "state": {
      "_dom_classes": [],
      "_model_module": "@jupyter-widgets/controls",
      "_model_module_version": "1.5.0",
      "_model_name": "FloatProgressModel",
      "_view_count": null,
      "_view_module": "@jupyter-widgets/controls",
      "_view_module_version": "1.5.0",
      "_view_name": "ProgressView",
      "bar_style": "",
      "description": "",
      "description_tooltip": null,
      "layout": "IPY_MODEL_7cb2fb428f704c9ebf93b09dce8db5fb",
      "max": 5,
      "min": 0,
      "orientation": "horizontal",
      "style": "IPY_MODEL_a4700e9444bd477d9e876b0fcc8890b1",
      "value": 5
     }
    },
    "a371022b96974e55a50d01c658daf414": {
     "model_module": "@jupyter-widgets/base",
     "model_module_version": "1.2.0",
     "model_name": "LayoutModel",
     "state": {
      "_model_module": "@jupyter-widgets/base",
      "_model_module_version": "1.2.0",
      "_model_name": "LayoutModel",
      "_view_count": null,
      "_view_module": "@jupyter-widgets/base",
      "_view_module_version": "1.2.0",
      "_view_name": "LayoutView",
      "align_content": null,
      "align_items": null,
      "align_self": null,
      "border": null,
      "bottom": null,
      "display": null,
      "flex": "2",
      "flex_flow": null,
      "grid_area": null,
      "grid_auto_columns": null,
      "grid_auto_flow": null,
      "grid_auto_rows": null,
      "grid_column": null,
      "grid_gap": null,
      "grid_row": null,
      "grid_template_areas": null,
      "grid_template_columns": null,
      "grid_template_rows": null,
      "height": null,
      "justify_content": null,
      "justify_items": null,
      "left": null,
      "margin": null,
      "max_height": null,
      "max_width": null,
      "min_height": null,
      "min_width": null,
      "object_fit": null,
      "object_position": null,
      "order": null,
      "overflow": null,
      "overflow_x": null,
      "overflow_y": null,
      "padding": null,
      "right": null,
      "top": null,
      "visibility": null,
      "width": null
     }
    },
    "a3a407591b7a4c2e9b29642e7d4a709a": {
     "model_module": "@jupyter-widgets/base",
     "model_module_version": "1.2.0",
     "model_name": "LayoutModel",
     "state": {
      "_model_module": "@jupyter-widgets/base",
      "_model_module_version": "1.2.0",
      "_model_name": "LayoutModel",
      "_view_count": null,
      "_view_module": "@jupyter-widgets/base",
      "_view_module_version": "1.2.0",
      "_view_name": "LayoutView",
      "align_content": null,
      "align_items": null,
      "align_self": null,
      "border": null,
      "bottom": null,
      "display": null,
      "flex": "2",
      "flex_flow": null,
      "grid_area": null,
      "grid_auto_columns": null,
      "grid_auto_flow": null,
      "grid_auto_rows": null,
      "grid_column": null,
      "grid_gap": null,
      "grid_row": null,
      "grid_template_areas": null,
      "grid_template_columns": null,
      "grid_template_rows": null,
      "height": null,
      "justify_content": null,
      "justify_items": null,
      "left": null,
      "margin": null,
      "max_height": null,
      "max_width": null,
      "min_height": null,
      "min_width": null,
      "object_fit": null,
      "object_position": null,
      "order": null,
      "overflow": null,
      "overflow_x": null,
      "overflow_y": null,
      "padding": null,
      "right": null,
      "top": null,
      "visibility": null,
      "width": null
     }
    },
    "a442a78280c74a4bb83ace986075192f": {
     "model_module": "@jupyter-widgets/controls",
     "model_module_version": "1.5.0",
     "model_name": "DescriptionStyleModel",
     "state": {
      "_model_module": "@jupyter-widgets/controls",
      "_model_module_version": "1.5.0",
      "_model_name": "DescriptionStyleModel",
      "_view_count": null,
      "_view_module": "@jupyter-widgets/base",
      "_view_module_version": "1.2.0",
      "_view_name": "StyleView",
      "description_width": ""
     }
    },
    "a4700e9444bd477d9e876b0fcc8890b1": {
     "model_module": "@jupyter-widgets/controls",
     "model_module_version": "1.5.0",
     "model_name": "ProgressStyleModel",
     "state": {
      "_model_module": "@jupyter-widgets/controls",
      "_model_module_version": "1.5.0",
      "_model_name": "ProgressStyleModel",
      "_view_count": null,
      "_view_module": "@jupyter-widgets/base",
      "_view_module_version": "1.2.0",
      "_view_name": "StyleView",
      "bar_color": null,
      "description_width": ""
     }
    },
    "a4c412113bf44b70a8328c25d454d492": {
     "model_module": "@jupyter-widgets/base",
     "model_module_version": "1.2.0",
     "model_name": "LayoutModel",
     "state": {
      "_model_module": "@jupyter-widgets/base",
      "_model_module_version": "1.2.0",
      "_model_name": "LayoutModel",
      "_view_count": null,
      "_view_module": "@jupyter-widgets/base",
      "_view_module_version": "1.2.0",
      "_view_name": "LayoutView",
      "align_content": null,
      "align_items": null,
      "align_self": null,
      "border": null,
      "bottom": null,
      "display": null,
      "flex": null,
      "flex_flow": null,
      "grid_area": null,
      "grid_auto_columns": null,
      "grid_auto_flow": null,
      "grid_auto_rows": null,
      "grid_column": null,
      "grid_gap": null,
      "grid_row": null,
      "grid_template_areas": null,
      "grid_template_columns": null,
      "grid_template_rows": null,
      "height": null,
      "justify_content": null,
      "justify_items": null,
      "left": null,
      "margin": null,
      "max_height": null,
      "max_width": null,
      "min_height": null,
      "min_width": null,
      "object_fit": null,
      "object_position": null,
      "order": null,
      "overflow": null,
      "overflow_x": null,
      "overflow_y": null,
      "padding": null,
      "right": null,
      "top": null,
      "visibility": null,
      "width": null
     }
    },
    "a54977aa433f4e648da842134961ad0d": {
     "model_module": "@jupyter-widgets/base",
     "model_module_version": "1.2.0",
     "model_name": "LayoutModel",
     "state": {
      "_model_module": "@jupyter-widgets/base",
      "_model_module_version": "1.2.0",
      "_model_name": "LayoutModel",
      "_view_count": null,
      "_view_module": "@jupyter-widgets/base",
      "_view_module_version": "1.2.0",
      "_view_name": "LayoutView",
      "align_content": null,
      "align_items": null,
      "align_self": null,
      "border": null,
      "bottom": null,
      "display": "inline-flex",
      "flex": null,
      "flex_flow": "row wrap",
      "grid_area": null,
      "grid_auto_columns": null,
      "grid_auto_flow": null,
      "grid_auto_rows": null,
      "grid_column": null,
      "grid_gap": null,
      "grid_row": null,
      "grid_template_areas": null,
      "grid_template_columns": null,
      "grid_template_rows": null,
      "height": null,
      "justify_content": null,
      "justify_items": null,
      "left": null,
      "margin": null,
      "max_height": null,
      "max_width": null,
      "min_height": null,
      "min_width": null,
      "object_fit": null,
      "object_position": null,
      "order": null,
      "overflow": null,
      "overflow_x": null,
      "overflow_y": null,
      "padding": null,
      "right": null,
      "top": null,
      "visibility": "hidden",
      "width": "100%"
     }
    },
    "a5ac1afaec944e2a9aa925e27d2ea68b": {
     "model_module": "@jupyter-widgets/base",
     "model_module_version": "1.2.0",
     "model_name": "LayoutModel",
     "state": {
      "_model_module": "@jupyter-widgets/base",
      "_model_module_version": "1.2.0",
      "_model_name": "LayoutModel",
      "_view_count": null,
      "_view_module": "@jupyter-widgets/base",
      "_view_module_version": "1.2.0",
      "_view_name": "LayoutView",
      "align_content": null,
      "align_items": null,
      "align_self": null,
      "border": null,
      "bottom": null,
      "display": "inline-flex",
      "flex": null,
      "flex_flow": "row wrap",
      "grid_area": null,
      "grid_auto_columns": null,
      "grid_auto_flow": null,
      "grid_auto_rows": null,
      "grid_column": null,
      "grid_gap": null,
      "grid_row": null,
      "grid_template_areas": null,
      "grid_template_columns": null,
      "grid_template_rows": null,
      "height": null,
      "justify_content": null,
      "justify_items": null,
      "left": null,
      "margin": null,
      "max_height": null,
      "max_width": null,
      "min_height": null,
      "min_width": null,
      "object_fit": null,
      "object_position": null,
      "order": null,
      "overflow": null,
      "overflow_x": null,
      "overflow_y": null,
      "padding": null,
      "right": null,
      "top": null,
      "visibility": "hidden",
      "width": "100%"
     }
    },
    "a5b8b3595db34b5a82141c7c8b88db97": {
     "model_module": "@jupyter-widgets/controls",
     "model_module_version": "1.5.0",
     "model_name": "HBoxModel",
     "state": {
      "_dom_classes": [],
      "_model_module": "@jupyter-widgets/controls",
      "_model_module_version": "1.5.0",
      "_model_name": "HBoxModel",
      "_view_count": null,
      "_view_module": "@jupyter-widgets/controls",
      "_view_module_version": "1.5.0",
      "_view_name": "HBoxView",
      "box_style": "",
      "children": [
       "IPY_MODEL_7ae0e06033ba4914aed751589cca5c2b",
       "IPY_MODEL_6c7e526bd68147279f4c21a75b399a27",
       "IPY_MODEL_ec4e2e08514f4996a23677f88c7613e8"
      ],
      "layout": "IPY_MODEL_24efeee2a24d4eccb5113e9355742d99"
     }
    },
    "a613e3362ed04989bf0f740f698c6891": {
     "model_module": "@jupyter-widgets/base",
     "model_module_version": "1.2.0",
     "model_name": "LayoutModel",
     "state": {
      "_model_module": "@jupyter-widgets/base",
      "_model_module_version": "1.2.0",
      "_model_name": "LayoutModel",
      "_view_count": null,
      "_view_module": "@jupyter-widgets/base",
      "_view_module_version": "1.2.0",
      "_view_name": "LayoutView",
      "align_content": null,
      "align_items": null,
      "align_self": null,
      "border": null,
      "bottom": null,
      "display": null,
      "flex": "2",
      "flex_flow": null,
      "grid_area": null,
      "grid_auto_columns": null,
      "grid_auto_flow": null,
      "grid_auto_rows": null,
      "grid_column": null,
      "grid_gap": null,
      "grid_row": null,
      "grid_template_areas": null,
      "grid_template_columns": null,
      "grid_template_rows": null,
      "height": null,
      "justify_content": null,
      "justify_items": null,
      "left": null,
      "margin": null,
      "max_height": null,
      "max_width": null,
      "min_height": null,
      "min_width": null,
      "object_fit": null,
      "object_position": null,
      "order": null,
      "overflow": null,
      "overflow_x": null,
      "overflow_y": null,
      "padding": null,
      "right": null,
      "top": null,
      "visibility": null,
      "width": null
     }
    },
    "a67d297f05024d95b8e904fe643ea570": {
     "model_module": "@jupyter-widgets/controls",
     "model_module_version": "1.5.0",
     "model_name": "HBoxModel",
     "state": {
      "_dom_classes": [],
      "_model_module": "@jupyter-widgets/controls",
      "_model_module_version": "1.5.0",
      "_model_name": "HBoxModel",
      "_view_count": null,
      "_view_module": "@jupyter-widgets/controls",
      "_view_module_version": "1.5.0",
      "_view_name": "HBoxView",
      "box_style": "",
      "children": [
       "IPY_MODEL_94345e776b5845a7a73429ac05050cd8",
       "IPY_MODEL_1e4958b407e947c0ae64c0e18a92cb9f",
       "IPY_MODEL_bb5b122185544003a6765ff89a4e29d9"
      ],
      "layout": "IPY_MODEL_0fbc9ba286f44f6facb2ebc36801416e"
     }
    },
    "a6bbfdfac328424b90c7da5fd2a9c69f": {
     "model_module": "@jupyter-widgets/controls",
     "model_module_version": "1.5.0",
     "model_name": "ProgressStyleModel",
     "state": {
      "_model_module": "@jupyter-widgets/controls",
      "_model_module_version": "1.5.0",
      "_model_name": "ProgressStyleModel",
      "_view_count": null,
      "_view_module": "@jupyter-widgets/base",
      "_view_module_version": "1.2.0",
      "_view_name": "StyleView",
      "bar_color": null,
      "description_width": ""
     }
    },
    "a6f32727bec14b29966e1961c3701653": {
     "model_module": "@jupyter-widgets/base",
     "model_module_version": "1.2.0",
     "model_name": "LayoutModel",
     "state": {
      "_model_module": "@jupyter-widgets/base",
      "_model_module_version": "1.2.0",
      "_model_name": "LayoutModel",
      "_view_count": null,
      "_view_module": "@jupyter-widgets/base",
      "_view_module_version": "1.2.0",
      "_view_name": "LayoutView",
      "align_content": null,
      "align_items": null,
      "align_self": null,
      "border": null,
      "bottom": null,
      "display": "inline-flex",
      "flex": null,
      "flex_flow": "row wrap",
      "grid_area": null,
      "grid_auto_columns": null,
      "grid_auto_flow": null,
      "grid_auto_rows": null,
      "grid_column": null,
      "grid_gap": null,
      "grid_row": null,
      "grid_template_areas": null,
      "grid_template_columns": null,
      "grid_template_rows": null,
      "height": null,
      "justify_content": null,
      "justify_items": null,
      "left": null,
      "margin": null,
      "max_height": null,
      "max_width": null,
      "min_height": null,
      "min_width": null,
      "object_fit": null,
      "object_position": null,
      "order": null,
      "overflow": null,
      "overflow_x": null,
      "overflow_y": null,
      "padding": null,
      "right": null,
      "top": null,
      "visibility": "hidden",
      "width": "100%"
     }
    },
    "a7034cdf101343ae9a71cccc1ce7bb2f": {
     "model_module": "@jupyter-widgets/controls",
     "model_module_version": "1.5.0",
     "model_name": "HBoxModel",
     "state": {
      "_dom_classes": [],
      "_model_module": "@jupyter-widgets/controls",
      "_model_module_version": "1.5.0",
      "_model_name": "HBoxModel",
      "_view_count": null,
      "_view_module": "@jupyter-widgets/controls",
      "_view_module_version": "1.5.0",
      "_view_name": "HBoxView",
      "box_style": "",
      "children": [
       "IPY_MODEL_2cf095c88254427ebe89c4bdeeff0aec",
       "IPY_MODEL_21ef7cf7ecba4a68bd2d2eaf57605e75",
       "IPY_MODEL_d1e3fceb1f524d75ae1105276796145f"
      ],
      "layout": "IPY_MODEL_2775dacbcc5047699a456895d0247133"
     }
    },
    "a8b53cbf045248b293ae9d12b08c4e67": {
     "model_module": "@jupyter-widgets/controls",
     "model_module_version": "1.5.0",
     "model_name": "DescriptionStyleModel",
     "state": {
      "_model_module": "@jupyter-widgets/controls",
      "_model_module_version": "1.5.0",
      "_model_name": "DescriptionStyleModel",
      "_view_count": null,
      "_view_module": "@jupyter-widgets/base",
      "_view_module_version": "1.2.0",
      "_view_name": "StyleView",
      "description_width": ""
     }
    },
    "a8e1077232e94744b98f2fd7b40cbeb4": {
     "model_module": "@jupyter-widgets/controls",
     "model_module_version": "1.5.0",
     "model_name": "HTMLModel",
     "state": {
      "_dom_classes": [],
      "_model_module": "@jupyter-widgets/controls",
      "_model_module_version": "1.5.0",
      "_model_name": "HTMLModel",
      "_view_count": null,
      "_view_module": "@jupyter-widgets/controls",
      "_view_module_version": "1.5.0",
      "_view_name": "HTMLView",
      "description": "",
      "description_tooltip": null,
      "layout": "IPY_MODEL_058c247b8f58484fbdbdb802db506d91",
      "placeholder": "​",
      "style": "IPY_MODEL_35b66df854204bee8a8c75a36a12472b",
      "value": "Validation DataLoader 0: 100%"
     }
    },
    "aa40217f94dd49ea9c7ea95770b15c7b": {
     "model_module": "@jupyter-widgets/base",
     "model_module_version": "1.2.0",
     "model_name": "LayoutModel",
     "state": {
      "_model_module": "@jupyter-widgets/base",
      "_model_module_version": "1.2.0",
      "_model_name": "LayoutModel",
      "_view_count": null,
      "_view_module": "@jupyter-widgets/base",
      "_view_module_version": "1.2.0",
      "_view_name": "LayoutView",
      "align_content": null,
      "align_items": null,
      "align_self": null,
      "border": null,
      "bottom": null,
      "display": null,
      "flex": null,
      "flex_flow": null,
      "grid_area": null,
      "grid_auto_columns": null,
      "grid_auto_flow": null,
      "grid_auto_rows": null,
      "grid_column": null,
      "grid_gap": null,
      "grid_row": null,
      "grid_template_areas": null,
      "grid_template_columns": null,
      "grid_template_rows": null,
      "height": null,
      "justify_content": null,
      "justify_items": null,
      "left": null,
      "margin": null,
      "max_height": null,
      "max_width": null,
      "min_height": null,
      "min_width": null,
      "object_fit": null,
      "object_position": null,
      "order": null,
      "overflow": null,
      "overflow_x": null,
      "overflow_y": null,
      "padding": null,
      "right": null,
      "top": null,
      "visibility": null,
      "width": null
     }
    },
    "ab10f338efc0445cbaed3d48be57d491": {
     "model_module": "@jupyter-widgets/controls",
     "model_module_version": "1.5.0",
     "model_name": "DescriptionStyleModel",
     "state": {
      "_model_module": "@jupyter-widgets/controls",
      "_model_module_version": "1.5.0",
      "_model_name": "DescriptionStyleModel",
      "_view_count": null,
      "_view_module": "@jupyter-widgets/base",
      "_view_module_version": "1.2.0",
      "_view_name": "StyleView",
      "description_width": ""
     }
    },
    "ab2ac2734dbe4d5b84b5be8254669e83": {
     "model_module": "@jupyter-widgets/controls",
     "model_module_version": "1.5.0",
     "model_name": "ProgressStyleModel",
     "state": {
      "_model_module": "@jupyter-widgets/controls",
      "_model_module_version": "1.5.0",
      "_model_name": "ProgressStyleModel",
      "_view_count": null,
      "_view_module": "@jupyter-widgets/base",
      "_view_module_version": "1.2.0",
      "_view_name": "StyleView",
      "bar_color": null,
      "description_width": ""
     }
    },
    "ab8f2de5f56342a79d08aecd5f26800e": {
     "model_module": "@jupyter-widgets/controls",
     "model_module_version": "1.5.0",
     "model_name": "FloatProgressModel",
     "state": {
      "_dom_classes": [],
      "_model_module": "@jupyter-widgets/controls",
      "_model_module_version": "1.5.0",
      "_model_name": "FloatProgressModel",
      "_view_count": null,
      "_view_module": "@jupyter-widgets/controls",
      "_view_module_version": "1.5.0",
      "_view_name": "ProgressView",
      "bar_style": "",
      "description": "",
      "description_tooltip": null,
      "layout": "IPY_MODEL_0de62ef4c4954cceb3e1830289abc7d3",
      "max": 5,
      "min": 0,
      "orientation": "horizontal",
      "style": "IPY_MODEL_9b0bad44b7a24852be8c4f040a405e4e",
      "value": 5
     }
    },
    "ac17ce2c53c243c092e1a97f000d6af3": {
     "model_module": "@jupyter-widgets/controls",
     "model_module_version": "1.5.0",
     "model_name": "DescriptionStyleModel",
     "state": {
      "_model_module": "@jupyter-widgets/controls",
      "_model_module_version": "1.5.0",
      "_model_name": "DescriptionStyleModel",
      "_view_count": null,
      "_view_module": "@jupyter-widgets/base",
      "_view_module_version": "1.2.0",
      "_view_name": "StyleView",
      "description_width": ""
     }
    },
    "ac42a0b1a5e94339a1c4ca35842162c1": {
     "model_module": "@jupyter-widgets/controls",
     "model_module_version": "1.5.0",
     "model_name": "HBoxModel",
     "state": {
      "_dom_classes": [],
      "_model_module": "@jupyter-widgets/controls",
      "_model_module_version": "1.5.0",
      "_model_name": "HBoxModel",
      "_view_count": null,
      "_view_module": "@jupyter-widgets/controls",
      "_view_module_version": "1.5.0",
      "_view_name": "HBoxView",
      "box_style": "",
      "children": [
       "IPY_MODEL_8e1bcc23177c4f4585949ba840ccf267",
       "IPY_MODEL_c6bb6f0afa1d438b9ec265da6071cf87",
       "IPY_MODEL_307182085a1844a4b76fd24caec8311c"
      ],
      "layout": "IPY_MODEL_b01dfc83a2cd4d7e85eddb534c750358"
     }
    },
    "ad5efa0e2cd24c60a4d6744efa4a46c5": {
     "model_module": "@jupyter-widgets/controls",
     "model_module_version": "1.5.0",
     "model_name": "HBoxModel",
     "state": {
      "_dom_classes": [],
      "_model_module": "@jupyter-widgets/controls",
      "_model_module_version": "1.5.0",
      "_model_name": "HBoxModel",
      "_view_count": null,
      "_view_module": "@jupyter-widgets/controls",
      "_view_module_version": "1.5.0",
      "_view_name": "HBoxView",
      "box_style": "",
      "children": [
       "IPY_MODEL_5db005f71c964dafb6ecf7df649eaf88",
       "IPY_MODEL_4e6dda7579504a4ea3b19b64030b8e47",
       "IPY_MODEL_2161d6e0489c4c80a968935ef6b9ddaf"
      ],
      "layout": "IPY_MODEL_69f02855c4bb44fd9bb0f78e0c02d532"
     }
    },
    "ad7d33ad6bab4723b64094248756582c": {
     "model_module": "@jupyter-widgets/controls",
     "model_module_version": "1.5.0",
     "model_name": "HTMLModel",
     "state": {
      "_dom_classes": [],
      "_model_module": "@jupyter-widgets/controls",
      "_model_module_version": "1.5.0",
      "_model_name": "HTMLModel",
      "_view_count": null,
      "_view_module": "@jupyter-widgets/controls",
      "_view_module_version": "1.5.0",
      "_view_name": "HTMLView",
      "description": "",
      "description_tooltip": null,
      "layout": "IPY_MODEL_2f59ebe7b846449787eb095b4d89dba6",
      "placeholder": "​",
      "style": "IPY_MODEL_5c0654bdb08d4e61ad46c20184737417",
      "value": " 5/5 [00:01&lt;00:00,  4.00it/s]"
     }
    },
    "aef049213f944298b42e450d3e6c66e2": {
     "model_module": "@jupyter-widgets/controls",
     "model_module_version": "1.5.0",
     "model_name": "FloatProgressModel",
     "state": {
      "_dom_classes": [],
      "_model_module": "@jupyter-widgets/controls",
      "_model_module_version": "1.5.0",
      "_model_name": "FloatProgressModel",
      "_view_count": null,
      "_view_module": "@jupyter-widgets/controls",
      "_view_module_version": "1.5.0",
      "_view_name": "ProgressView",
      "bar_style": "",
      "description": "",
      "description_tooltip": null,
      "layout": "IPY_MODEL_e888ce31da1647abbfe61d4855d5d725",
      "max": 5,
      "min": 0,
      "orientation": "horizontal",
      "style": "IPY_MODEL_15d539ce0ead4c5d8b25af072575f878",
      "value": 5
     }
    },
    "af11ec99c3904b8ba12f451a7c44a6ce": {
     "model_module": "@jupyter-widgets/base",
     "model_module_version": "1.2.0",
     "model_name": "LayoutModel",
     "state": {
      "_model_module": "@jupyter-widgets/base",
      "_model_module_version": "1.2.0",
      "_model_name": "LayoutModel",
      "_view_count": null,
      "_view_module": "@jupyter-widgets/base",
      "_view_module_version": "1.2.0",
      "_view_name": "LayoutView",
      "align_content": null,
      "align_items": null,
      "align_self": null,
      "border": null,
      "bottom": null,
      "display": null,
      "flex": null,
      "flex_flow": null,
      "grid_area": null,
      "grid_auto_columns": null,
      "grid_auto_flow": null,
      "grid_auto_rows": null,
      "grid_column": null,
      "grid_gap": null,
      "grid_row": null,
      "grid_template_areas": null,
      "grid_template_columns": null,
      "grid_template_rows": null,
      "height": null,
      "justify_content": null,
      "justify_items": null,
      "left": null,
      "margin": null,
      "max_height": null,
      "max_width": null,
      "min_height": null,
      "min_width": null,
      "object_fit": null,
      "object_position": null,
      "order": null,
      "overflow": null,
      "overflow_x": null,
      "overflow_y": null,
      "padding": null,
      "right": null,
      "top": null,
      "visibility": null,
      "width": null
     }
    },
    "af311951ba2f401a93c3e3dbcd1ae246": {
     "model_module": "@jupyter-widgets/controls",
     "model_module_version": "1.5.0",
     "model_name": "DescriptionStyleModel",
     "state": {
      "_model_module": "@jupyter-widgets/controls",
      "_model_module_version": "1.5.0",
      "_model_name": "DescriptionStyleModel",
      "_view_count": null,
      "_view_module": "@jupyter-widgets/base",
      "_view_module_version": "1.2.0",
      "_view_name": "StyleView",
      "description_width": ""
     }
    },
    "afb99fbd76a94fe5b7c3daf735c6a719": {
     "model_module": "@jupyter-widgets/base",
     "model_module_version": "1.2.0",
     "model_name": "LayoutModel",
     "state": {
      "_model_module": "@jupyter-widgets/base",
      "_model_module_version": "1.2.0",
      "_model_name": "LayoutModel",
      "_view_count": null,
      "_view_module": "@jupyter-widgets/base",
      "_view_module_version": "1.2.0",
      "_view_name": "LayoutView",
      "align_content": null,
      "align_items": null,
      "align_self": null,
      "border": null,
      "bottom": null,
      "display": "inline-flex",
      "flex": null,
      "flex_flow": "row wrap",
      "grid_area": null,
      "grid_auto_columns": null,
      "grid_auto_flow": null,
      "grid_auto_rows": null,
      "grid_column": null,
      "grid_gap": null,
      "grid_row": null,
      "grid_template_areas": null,
      "grid_template_columns": null,
      "grid_template_rows": null,
      "height": null,
      "justify_content": null,
      "justify_items": null,
      "left": null,
      "margin": null,
      "max_height": null,
      "max_width": null,
      "min_height": null,
      "min_width": null,
      "object_fit": null,
      "object_position": null,
      "order": null,
      "overflow": null,
      "overflow_x": null,
      "overflow_y": null,
      "padding": null,
      "right": null,
      "top": null,
      "visibility": "hidden",
      "width": "100%"
     }
    },
    "b01dfc83a2cd4d7e85eddb534c750358": {
     "model_module": "@jupyter-widgets/base",
     "model_module_version": "1.2.0",
     "model_name": "LayoutModel",
     "state": {
      "_model_module": "@jupyter-widgets/base",
      "_model_module_version": "1.2.0",
      "_model_name": "LayoutModel",
      "_view_count": null,
      "_view_module": "@jupyter-widgets/base",
      "_view_module_version": "1.2.0",
      "_view_name": "LayoutView",
      "align_content": null,
      "align_items": null,
      "align_self": null,
      "border": null,
      "bottom": null,
      "display": "inline-flex",
      "flex": null,
      "flex_flow": "row wrap",
      "grid_area": null,
      "grid_auto_columns": null,
      "grid_auto_flow": null,
      "grid_auto_rows": null,
      "grid_column": null,
      "grid_gap": null,
      "grid_row": null,
      "grid_template_areas": null,
      "grid_template_columns": null,
      "grid_template_rows": null,
      "height": null,
      "justify_content": null,
      "justify_items": null,
      "left": null,
      "margin": null,
      "max_height": null,
      "max_width": null,
      "min_height": null,
      "min_width": null,
      "object_fit": null,
      "object_position": null,
      "order": null,
      "overflow": null,
      "overflow_x": null,
      "overflow_y": null,
      "padding": null,
      "right": null,
      "top": null,
      "visibility": "hidden",
      "width": "100%"
     }
    },
    "b07774513ad3419f9635021e8defa6df": {
     "model_module": "@jupyter-widgets/controls",
     "model_module_version": "1.5.0",
     "model_name": "ProgressStyleModel",
     "state": {
      "_model_module": "@jupyter-widgets/controls",
      "_model_module_version": "1.5.0",
      "_model_name": "ProgressStyleModel",
      "_view_count": null,
      "_view_module": "@jupyter-widgets/base",
      "_view_module_version": "1.2.0",
      "_view_name": "StyleView",
      "bar_color": null,
      "description_width": ""
     }
    },
    "b10448565e254741a676ad57f506bfae": {
     "model_module": "@jupyter-widgets/controls",
     "model_module_version": "1.5.0",
     "model_name": "FloatProgressModel",
     "state": {
      "_dom_classes": [],
      "_model_module": "@jupyter-widgets/controls",
      "_model_module_version": "1.5.0",
      "_model_name": "FloatProgressModel",
      "_view_count": null,
      "_view_module": "@jupyter-widgets/controls",
      "_view_module_version": "1.5.0",
      "_view_name": "ProgressView",
      "bar_style": "",
      "description": "",
      "description_tooltip": null,
      "layout": "IPY_MODEL_bc98826c8c8e4934871ef2f100eb5223",
      "max": 5,
      "min": 0,
      "orientation": "horizontal",
      "style": "IPY_MODEL_de01e95e347a4b3096279fe6082ede2f",
      "value": 5
     }
    },
    "b14c1d34676642e0a4e16a16155dc1cb": {
     "model_module": "@jupyter-widgets/controls",
     "model_module_version": "1.5.0",
     "model_name": "FloatProgressModel",
     "state": {
      "_dom_classes": [],
      "_model_module": "@jupyter-widgets/controls",
      "_model_module_version": "1.5.0",
      "_model_name": "FloatProgressModel",
      "_view_count": null,
      "_view_module": "@jupyter-widgets/controls",
      "_view_module_version": "1.5.0",
      "_view_name": "ProgressView",
      "bar_style": "",
      "description": "",
      "description_tooltip": null,
      "layout": "IPY_MODEL_ea97d3e5c34946caaa6fe7ff899e8c02",
      "max": 5,
      "min": 0,
      "orientation": "horizontal",
      "style": "IPY_MODEL_90818edd06ea411883188ab51a6a73c3",
      "value": 5
     }
    },
    "b17e497194a54cf4b0aa34c2d0a3df58": {
     "model_module": "@jupyter-widgets/controls",
     "model_module_version": "1.5.0",
     "model_name": "FloatProgressModel",
     "state": {
      "_dom_classes": [],
      "_model_module": "@jupyter-widgets/controls",
      "_model_module_version": "1.5.0",
      "_model_name": "FloatProgressModel",
      "_view_count": null,
      "_view_module": "@jupyter-widgets/controls",
      "_view_module_version": "1.5.0",
      "_view_name": "ProgressView",
      "bar_style": "",
      "description": "",
      "description_tooltip": null,
      "layout": "IPY_MODEL_e715f30a031e4bc992b4629bfa82067d",
      "max": 5,
      "min": 0,
      "orientation": "horizontal",
      "style": "IPY_MODEL_d85cc207423c449ca34e40bdfba4247b",
      "value": 5
     }
    },
    "b1ea99cfe60a4b4ebf463c573f44ef49": {
     "model_module": "@jupyter-widgets/controls",
     "model_module_version": "1.5.0",
     "model_name": "DescriptionStyleModel",
     "state": {
      "_model_module": "@jupyter-widgets/controls",
      "_model_module_version": "1.5.0",
      "_model_name": "DescriptionStyleModel",
      "_view_count": null,
      "_view_module": "@jupyter-widgets/base",
      "_view_module_version": "1.2.0",
      "_view_name": "StyleView",
      "description_width": ""
     }
    },
    "b20f01117b0d4d178482e950b43f95e5": {
     "model_module": "@jupyter-widgets/controls",
     "model_module_version": "1.5.0",
     "model_name": "DescriptionStyleModel",
     "state": {
      "_model_module": "@jupyter-widgets/controls",
      "_model_module_version": "1.5.0",
      "_model_name": "DescriptionStyleModel",
      "_view_count": null,
      "_view_module": "@jupyter-widgets/base",
      "_view_module_version": "1.2.0",
      "_view_name": "StyleView",
      "description_width": ""
     }
    },
    "b32ec35b4cb44ccc9fed7d1f0bb7f310": {
     "model_module": "@jupyter-widgets/controls",
     "model_module_version": "1.5.0",
     "model_name": "HTMLModel",
     "state": {
      "_dom_classes": [],
      "_model_module": "@jupyter-widgets/controls",
      "_model_module_version": "1.5.0",
      "_model_name": "HTMLModel",
      "_view_count": null,
      "_view_module": "@jupyter-widgets/controls",
      "_view_module_version": "1.5.0",
      "_view_name": "HTMLView",
      "description": "",
      "description_tooltip": null,
      "layout": "IPY_MODEL_e1cb56d74633446a84d046b4da6e55be",
      "placeholder": "​",
      "style": "IPY_MODEL_d0e5790f12d24e08acd5f2f23319c754",
      "value": " 5/5 [00:01&lt;00:00,  3.99it/s]"
     }
    },
    "b3778578536d47398eec333301a1656d": {
     "model_module": "@jupyter-widgets/controls",
     "model_module_version": "1.5.0",
     "model_name": "DescriptionStyleModel",
     "state": {
      "_model_module": "@jupyter-widgets/controls",
      "_model_module_version": "1.5.0",
      "_model_name": "DescriptionStyleModel",
      "_view_count": null,
      "_view_module": "@jupyter-widgets/base",
      "_view_module_version": "1.2.0",
      "_view_name": "StyleView",
      "description_width": ""
     }
    },
    "b388d5f4aa5e46cfbe1c318567070537": {
     "model_module": "@jupyter-widgets/controls",
     "model_module_version": "1.5.0",
     "model_name": "DescriptionStyleModel",
     "state": {
      "_model_module": "@jupyter-widgets/controls",
      "_model_module_version": "1.5.0",
      "_model_name": "DescriptionStyleModel",
      "_view_count": null,
      "_view_module": "@jupyter-widgets/base",
      "_view_module_version": "1.2.0",
      "_view_name": "StyleView",
      "description_width": ""
     }
    },
    "b597bcca357f44859c2246b7671a6a04": {
     "model_module": "@jupyter-widgets/controls",
     "model_module_version": "1.5.0",
     "model_name": "HTMLModel",
     "state": {
      "_dom_classes": [],
      "_model_module": "@jupyter-widgets/controls",
      "_model_module_version": "1.5.0",
      "_model_name": "HTMLModel",
      "_view_count": null,
      "_view_module": "@jupyter-widgets/controls",
      "_view_module_version": "1.5.0",
      "_view_name": "HTMLView",
      "description": "",
      "description_tooltip": null,
      "layout": "IPY_MODEL_2744923e6a6d405fa43cbd41fe97885c",
      "placeholder": "​",
      "style": "IPY_MODEL_445832e3ff014572b85803a2733fd881",
      "value": "Validation DataLoader 0: 100%"
     }
    },
    "b65aa2174ade49ad8dc45ba1bba6d6f3": {
     "model_module": "@jupyter-widgets/base",
     "model_module_version": "1.2.0",
     "model_name": "LayoutModel",
     "state": {
      "_model_module": "@jupyter-widgets/base",
      "_model_module_version": "1.2.0",
      "_model_name": "LayoutModel",
      "_view_count": null,
      "_view_module": "@jupyter-widgets/base",
      "_view_module_version": "1.2.0",
      "_view_name": "LayoutView",
      "align_content": null,
      "align_items": null,
      "align_self": null,
      "border": null,
      "bottom": null,
      "display": "inline-flex",
      "flex": null,
      "flex_flow": "row wrap",
      "grid_area": null,
      "grid_auto_columns": null,
      "grid_auto_flow": null,
      "grid_auto_rows": null,
      "grid_column": null,
      "grid_gap": null,
      "grid_row": null,
      "grid_template_areas": null,
      "grid_template_columns": null,
      "grid_template_rows": null,
      "height": null,
      "justify_content": null,
      "justify_items": null,
      "left": null,
      "margin": null,
      "max_height": null,
      "max_width": null,
      "min_height": null,
      "min_width": null,
      "object_fit": null,
      "object_position": null,
      "order": null,
      "overflow": null,
      "overflow_x": null,
      "overflow_y": null,
      "padding": null,
      "right": null,
      "top": null,
      "visibility": "hidden",
      "width": "100%"
     }
    },
    "b66d3347ec12413985a16258457169e1": {
     "model_module": "@jupyter-widgets/base",
     "model_module_version": "1.2.0",
     "model_name": "LayoutModel",
     "state": {
      "_model_module": "@jupyter-widgets/base",
      "_model_module_version": "1.2.0",
      "_model_name": "LayoutModel",
      "_view_count": null,
      "_view_module": "@jupyter-widgets/base",
      "_view_module_version": "1.2.0",
      "_view_name": "LayoutView",
      "align_content": null,
      "align_items": null,
      "align_self": null,
      "border": null,
      "bottom": null,
      "display": null,
      "flex": "2",
      "flex_flow": null,
      "grid_area": null,
      "grid_auto_columns": null,
      "grid_auto_flow": null,
      "grid_auto_rows": null,
      "grid_column": null,
      "grid_gap": null,
      "grid_row": null,
      "grid_template_areas": null,
      "grid_template_columns": null,
      "grid_template_rows": null,
      "height": null,
      "justify_content": null,
      "justify_items": null,
      "left": null,
      "margin": null,
      "max_height": null,
      "max_width": null,
      "min_height": null,
      "min_width": null,
      "object_fit": null,
      "object_position": null,
      "order": null,
      "overflow": null,
      "overflow_x": null,
      "overflow_y": null,
      "padding": null,
      "right": null,
      "top": null,
      "visibility": null,
      "width": null
     }
    },
    "b6b8b25ebc2b4f8dabb56914d74a67c5": {
     "model_module": "@jupyter-widgets/controls",
     "model_module_version": "1.5.0",
     "model_name": "HTMLModel",
     "state": {
      "_dom_classes": [],
      "_model_module": "@jupyter-widgets/controls",
      "_model_module_version": "1.5.0",
      "_model_name": "HTMLModel",
      "_view_count": null,
      "_view_module": "@jupyter-widgets/controls",
      "_view_module_version": "1.5.0",
      "_view_name": "HTMLView",
      "description": "",
      "description_tooltip": null,
      "layout": "IPY_MODEL_d9cdaf093b2b4f268b49b46efc18b47c",
      "placeholder": "​",
      "style": "IPY_MODEL_8be474dd03d4433186637812a1030291",
      "value": " 5/5 [00:01&lt;00:00,  4.04it/s]"
     }
    },
    "b6dce6b5ebdc4328a38affb285913904": {
     "model_module": "@jupyter-widgets/controls",
     "model_module_version": "1.5.0",
     "model_name": "DescriptionStyleModel",
     "state": {
      "_model_module": "@jupyter-widgets/controls",
      "_model_module_version": "1.5.0",
      "_model_name": "DescriptionStyleModel",
      "_view_count": null,
      "_view_module": "@jupyter-widgets/base",
      "_view_module_version": "1.2.0",
      "_view_name": "StyleView",
      "description_width": ""
     }
    },
    "b72703a21af84b1cab0b93b52ef5fbdf": {
     "model_module": "@jupyter-widgets/controls",
     "model_module_version": "1.5.0",
     "model_name": "ProgressStyleModel",
     "state": {
      "_model_module": "@jupyter-widgets/controls",
      "_model_module_version": "1.5.0",
      "_model_name": "ProgressStyleModel",
      "_view_count": null,
      "_view_module": "@jupyter-widgets/base",
      "_view_module_version": "1.2.0",
      "_view_name": "StyleView",
      "bar_color": null,
      "description_width": ""
     }
    },
    "b7974f4a6663428d9f32983445757424": {
     "model_module": "@jupyter-widgets/base",
     "model_module_version": "1.2.0",
     "model_name": "LayoutModel",
     "state": {
      "_model_module": "@jupyter-widgets/base",
      "_model_module_version": "1.2.0",
      "_model_name": "LayoutModel",
      "_view_count": null,
      "_view_module": "@jupyter-widgets/base",
      "_view_module_version": "1.2.0",
      "_view_name": "LayoutView",
      "align_content": null,
      "align_items": null,
      "align_self": null,
      "border": null,
      "bottom": null,
      "display": "inline-flex",
      "flex": null,
      "flex_flow": "row wrap",
      "grid_area": null,
      "grid_auto_columns": null,
      "grid_auto_flow": null,
      "grid_auto_rows": null,
      "grid_column": null,
      "grid_gap": null,
      "grid_row": null,
      "grid_template_areas": null,
      "grid_template_columns": null,
      "grid_template_rows": null,
      "height": null,
      "justify_content": null,
      "justify_items": null,
      "left": null,
      "margin": null,
      "max_height": null,
      "max_width": null,
      "min_height": null,
      "min_width": null,
      "object_fit": null,
      "object_position": null,
      "order": null,
      "overflow": null,
      "overflow_x": null,
      "overflow_y": null,
      "padding": null,
      "right": null,
      "top": null,
      "visibility": "hidden",
      "width": "100%"
     }
    },
    "b7e663349e9f4b0d8b54de3d77806560": {
     "model_module": "@jupyter-widgets/controls",
     "model_module_version": "1.5.0",
     "model_name": "FloatProgressModel",
     "state": {
      "_dom_classes": [],
      "_model_module": "@jupyter-widgets/controls",
      "_model_module_version": "1.5.0",
      "_model_name": "FloatProgressModel",
      "_view_count": null,
      "_view_module": "@jupyter-widgets/controls",
      "_view_module_version": "1.5.0",
      "_view_name": "ProgressView",
      "bar_style": "",
      "description": "",
      "description_tooltip": null,
      "layout": "IPY_MODEL_bd2eb0458d0c4e3db8b1d7be5190c519",
      "max": 5,
      "min": 0,
      "orientation": "horizontal",
      "style": "IPY_MODEL_dad2db5397d14edb95fb72b317b99d4a",
      "value": 5
     }
    },
    "b813ab4dad184a85be0b140c5201ea7e": {
     "model_module": "@jupyter-widgets/controls",
     "model_module_version": "1.5.0",
     "model_name": "HTMLModel",
     "state": {
      "_dom_classes": [],
      "_model_module": "@jupyter-widgets/controls",
      "_model_module_version": "1.5.0",
      "_model_name": "HTMLModel",
      "_view_count": null,
      "_view_module": "@jupyter-widgets/controls",
      "_view_module_version": "1.5.0",
      "_view_name": "HTMLView",
      "description": "",
      "description_tooltip": null,
      "layout": "IPY_MODEL_81e4a458744048848b57c5d4f5b650e9",
      "placeholder": "​",
      "style": "IPY_MODEL_caeffeb004584087b864db288f546085",
      "value": " 5/5 [00:01&lt;00:00,  4.02it/s]"
     }
    },
    "b871a5ac74884f219b9abf2038594341": {
     "model_module": "@jupyter-widgets/controls",
     "model_module_version": "1.5.0",
     "model_name": "HBoxModel",
     "state": {
      "_dom_classes": [],
      "_model_module": "@jupyter-widgets/controls",
      "_model_module_version": "1.5.0",
      "_model_name": "HBoxModel",
      "_view_count": null,
      "_view_module": "@jupyter-widgets/controls",
      "_view_module_version": "1.5.0",
      "_view_name": "HBoxView",
      "box_style": "",
      "children": [
       "IPY_MODEL_488d422f35e24f2fbb2db8f2c95131fb",
       "IPY_MODEL_de97f0ea10e94cb88f1ffa6e6ce87193",
       "IPY_MODEL_fac39d94dcf84d4fbfe62754e59f9964"
      ],
      "layout": "IPY_MODEL_afb99fbd76a94fe5b7c3daf735c6a719"
     }
    },
    "b8da8869c9e34c509132dbf5dd647016": {
     "model_module": "@jupyter-widgets/base",
     "model_module_version": "1.2.0",
     "model_name": "LayoutModel",
     "state": {
      "_model_module": "@jupyter-widgets/base",
      "_model_module_version": "1.2.0",
      "_model_name": "LayoutModel",
      "_view_count": null,
      "_view_module": "@jupyter-widgets/base",
      "_view_module_version": "1.2.0",
      "_view_name": "LayoutView",
      "align_content": null,
      "align_items": null,
      "align_self": null,
      "border": null,
      "bottom": null,
      "display": null,
      "flex": "2",
      "flex_flow": null,
      "grid_area": null,
      "grid_auto_columns": null,
      "grid_auto_flow": null,
      "grid_auto_rows": null,
      "grid_column": null,
      "grid_gap": null,
      "grid_row": null,
      "grid_template_areas": null,
      "grid_template_columns": null,
      "grid_template_rows": null,
      "height": null,
      "justify_content": null,
      "justify_items": null,
      "left": null,
      "margin": null,
      "max_height": null,
      "max_width": null,
      "min_height": null,
      "min_width": null,
      "object_fit": null,
      "object_position": null,
      "order": null,
      "overflow": null,
      "overflow_x": null,
      "overflow_y": null,
      "padding": null,
      "right": null,
      "top": null,
      "visibility": null,
      "width": null
     }
    },
    "b97c7e209b4742888e8ec75e2455a738": {
     "model_module": "@jupyter-widgets/base",
     "model_module_version": "1.2.0",
     "model_name": "LayoutModel",
     "state": {
      "_model_module": "@jupyter-widgets/base",
      "_model_module_version": "1.2.0",
      "_model_name": "LayoutModel",
      "_view_count": null,
      "_view_module": "@jupyter-widgets/base",
      "_view_module_version": "1.2.0",
      "_view_name": "LayoutView",
      "align_content": null,
      "align_items": null,
      "align_self": null,
      "border": null,
      "bottom": null,
      "display": null,
      "flex": null,
      "flex_flow": null,
      "grid_area": null,
      "grid_auto_columns": null,
      "grid_auto_flow": null,
      "grid_auto_rows": null,
      "grid_column": null,
      "grid_gap": null,
      "grid_row": null,
      "grid_template_areas": null,
      "grid_template_columns": null,
      "grid_template_rows": null,
      "height": null,
      "justify_content": null,
      "justify_items": null,
      "left": null,
      "margin": null,
      "max_height": null,
      "max_width": null,
      "min_height": null,
      "min_width": null,
      "object_fit": null,
      "object_position": null,
      "order": null,
      "overflow": null,
      "overflow_x": null,
      "overflow_y": null,
      "padding": null,
      "right": null,
      "top": null,
      "visibility": null,
      "width": null
     }
    },
    "ba749fd3c2964638a216ed346fe49933": {
     "model_module": "@jupyter-widgets/base",
     "model_module_version": "1.2.0",
     "model_name": "LayoutModel",
     "state": {
      "_model_module": "@jupyter-widgets/base",
      "_model_module_version": "1.2.0",
      "_model_name": "LayoutModel",
      "_view_count": null,
      "_view_module": "@jupyter-widgets/base",
      "_view_module_version": "1.2.0",
      "_view_name": "LayoutView",
      "align_content": null,
      "align_items": null,
      "align_self": null,
      "border": null,
      "bottom": null,
      "display": null,
      "flex": null,
      "flex_flow": null,
      "grid_area": null,
      "grid_auto_columns": null,
      "grid_auto_flow": null,
      "grid_auto_rows": null,
      "grid_column": null,
      "grid_gap": null,
      "grid_row": null,
      "grid_template_areas": null,
      "grid_template_columns": null,
      "grid_template_rows": null,
      "height": null,
      "justify_content": null,
      "justify_items": null,
      "left": null,
      "margin": null,
      "max_height": null,
      "max_width": null,
      "min_height": null,
      "min_width": null,
      "object_fit": null,
      "object_position": null,
      "order": null,
      "overflow": null,
      "overflow_x": null,
      "overflow_y": null,
      "padding": null,
      "right": null,
      "top": null,
      "visibility": null,
      "width": null
     }
    },
    "ba907a3b8fcf433e8f21021a1d450ff7": {
     "model_module": "@jupyter-widgets/controls",
     "model_module_version": "1.5.0",
     "model_name": "HBoxModel",
     "state": {
      "_dom_classes": [],
      "_model_module": "@jupyter-widgets/controls",
      "_model_module_version": "1.5.0",
      "_model_name": "HBoxModel",
      "_view_count": null,
      "_view_module": "@jupyter-widgets/controls",
      "_view_module_version": "1.5.0",
      "_view_name": "HBoxView",
      "box_style": "",
      "children": [
       "IPY_MODEL_0a508efaca8148ac820c44544ca19f4c",
       "IPY_MODEL_4331232c250c44929a253fd43124e2a0",
       "IPY_MODEL_70412a4ce3f446b38e7f3408b85d1b02"
      ],
      "layout": "IPY_MODEL_e7ee4c62e32c48bcac40de4b37f9bc5b"
     }
    },
    "ba9193183be041088b2f47784b5c6052": {
     "model_module": "@jupyter-widgets/controls",
     "model_module_version": "1.5.0",
     "model_name": "HTMLModel",
     "state": {
      "_dom_classes": [],
      "_model_module": "@jupyter-widgets/controls",
      "_model_module_version": "1.5.0",
      "_model_name": "HTMLModel",
      "_view_count": null,
      "_view_module": "@jupyter-widgets/controls",
      "_view_module_version": "1.5.0",
      "_view_name": "HTMLView",
      "description": "",
      "description_tooltip": null,
      "layout": "IPY_MODEL_7c771cee2d6049d0bb7bbe0ff5c15a10",
      "placeholder": "​",
      "style": "IPY_MODEL_46c84c6d971f46e68ba045bf8ace9033",
      "value": "Validation DataLoader 0: 100%"
     }
    },
    "bb0a19cf4f6a40638d7380c4f6d2e549": {
     "model_module": "@jupyter-widgets/controls",
     "model_module_version": "1.5.0",
     "model_name": "ProgressStyleModel",
     "state": {
      "_model_module": "@jupyter-widgets/controls",
      "_model_module_version": "1.5.0",
      "_model_name": "ProgressStyleModel",
      "_view_count": null,
      "_view_module": "@jupyter-widgets/base",
      "_view_module_version": "1.2.0",
      "_view_name": "StyleView",
      "bar_color": null,
      "description_width": ""
     }
    },
    "bb0cfebe559e48f5bcfc294a3b1d3fdf": {
     "model_module": "@jupyter-widgets/controls",
     "model_module_version": "1.5.0",
     "model_name": "DescriptionStyleModel",
     "state": {
      "_model_module": "@jupyter-widgets/controls",
      "_model_module_version": "1.5.0",
      "_model_name": "DescriptionStyleModel",
      "_view_count": null,
      "_view_module": "@jupyter-widgets/base",
      "_view_module_version": "1.2.0",
      "_view_name": "StyleView",
      "description_width": ""
     }
    },
    "bb30180f88bd45d2930691fe952b53a6": {
     "model_module": "@jupyter-widgets/controls",
     "model_module_version": "1.5.0",
     "model_name": "HBoxModel",
     "state": {
      "_dom_classes": [],
      "_model_module": "@jupyter-widgets/controls",
      "_model_module_version": "1.5.0",
      "_model_name": "HBoxModel",
      "_view_count": null,
      "_view_module": "@jupyter-widgets/controls",
      "_view_module_version": "1.5.0",
      "_view_name": "HBoxView",
      "box_style": "",
      "children": [
       "IPY_MODEL_8fe8f2a8fa9b482e84e459379f07e0cc",
       "IPY_MODEL_4ead11aa65484f99931f89fa11385023",
       "IPY_MODEL_d6e5492a6fca4d51986cd8d254bb4f39"
      ],
      "layout": "IPY_MODEL_0c18ad7b0c9c4027aaaa28cc3ac5f485"
     }
    },
    "bb5b122185544003a6765ff89a4e29d9": {
     "model_module": "@jupyter-widgets/controls",
     "model_module_version": "1.5.0",
     "model_name": "HTMLModel",
     "state": {
      "_dom_classes": [],
      "_model_module": "@jupyter-widgets/controls",
      "_model_module_version": "1.5.0",
      "_model_name": "HTMLModel",
      "_view_count": null,
      "_view_module": "@jupyter-widgets/controls",
      "_view_module_version": "1.5.0",
      "_view_name": "HTMLView",
      "description": "",
      "description_tooltip": null,
      "layout": "IPY_MODEL_435da79a1a584acea6830b4babb665b5",
      "placeholder": "​",
      "style": "IPY_MODEL_188df5f6e2ee4fedade20644d903b55f",
      "value": " 5/5 [00:01&lt;00:00,  3.89it/s]"
     }
    },
    "bb90bd571a4747aa9066215717c9b5df": {
     "model_module": "@jupyter-widgets/base",
     "model_module_version": "1.2.0",
     "model_name": "LayoutModel",
     "state": {
      "_model_module": "@jupyter-widgets/base",
      "_model_module_version": "1.2.0",
      "_model_name": "LayoutModel",
      "_view_count": null,
      "_view_module": "@jupyter-widgets/base",
      "_view_module_version": "1.2.0",
      "_view_name": "LayoutView",
      "align_content": null,
      "align_items": null,
      "align_self": null,
      "border": null,
      "bottom": null,
      "display": null,
      "flex": "2",
      "flex_flow": null,
      "grid_area": null,
      "grid_auto_columns": null,
      "grid_auto_flow": null,
      "grid_auto_rows": null,
      "grid_column": null,
      "grid_gap": null,
      "grid_row": null,
      "grid_template_areas": null,
      "grid_template_columns": null,
      "grid_template_rows": null,
      "height": null,
      "justify_content": null,
      "justify_items": null,
      "left": null,
      "margin": null,
      "max_height": null,
      "max_width": null,
      "min_height": null,
      "min_width": null,
      "object_fit": null,
      "object_position": null,
      "order": null,
      "overflow": null,
      "overflow_x": null,
      "overflow_y": null,
      "padding": null,
      "right": null,
      "top": null,
      "visibility": null,
      "width": null
     }
    },
    "bb9172cc2df94e7aad119aa54545b995": {
     "model_module": "@jupyter-widgets/controls",
     "model_module_version": "1.5.0",
     "model_name": "ProgressStyleModel",
     "state": {
      "_model_module": "@jupyter-widgets/controls",
      "_model_module_version": "1.5.0",
      "_model_name": "ProgressStyleModel",
      "_view_count": null,
      "_view_module": "@jupyter-widgets/base",
      "_view_module_version": "1.2.0",
      "_view_name": "StyleView",
      "bar_color": null,
      "description_width": ""
     }
    },
    "bbce6064c48f43348db59440a007d158": {
     "model_module": "@jupyter-widgets/base",
     "model_module_version": "1.2.0",
     "model_name": "LayoutModel",
     "state": {
      "_model_module": "@jupyter-widgets/base",
      "_model_module_version": "1.2.0",
      "_model_name": "LayoutModel",
      "_view_count": null,
      "_view_module": "@jupyter-widgets/base",
      "_view_module_version": "1.2.0",
      "_view_name": "LayoutView",
      "align_content": null,
      "align_items": null,
      "align_self": null,
      "border": null,
      "bottom": null,
      "display": null,
      "flex": "2",
      "flex_flow": null,
      "grid_area": null,
      "grid_auto_columns": null,
      "grid_auto_flow": null,
      "grid_auto_rows": null,
      "grid_column": null,
      "grid_gap": null,
      "grid_row": null,
      "grid_template_areas": null,
      "grid_template_columns": null,
      "grid_template_rows": null,
      "height": null,
      "justify_content": null,
      "justify_items": null,
      "left": null,
      "margin": null,
      "max_height": null,
      "max_width": null,
      "min_height": null,
      "min_width": null,
      "object_fit": null,
      "object_position": null,
      "order": null,
      "overflow": null,
      "overflow_x": null,
      "overflow_y": null,
      "padding": null,
      "right": null,
      "top": null,
      "visibility": null,
      "width": null
     }
    },
    "bc98826c8c8e4934871ef2f100eb5223": {
     "model_module": "@jupyter-widgets/base",
     "model_module_version": "1.2.0",
     "model_name": "LayoutModel",
     "state": {
      "_model_module": "@jupyter-widgets/base",
      "_model_module_version": "1.2.0",
      "_model_name": "LayoutModel",
      "_view_count": null,
      "_view_module": "@jupyter-widgets/base",
      "_view_module_version": "1.2.0",
      "_view_name": "LayoutView",
      "align_content": null,
      "align_items": null,
      "align_self": null,
      "border": null,
      "bottom": null,
      "display": null,
      "flex": "2",
      "flex_flow": null,
      "grid_area": null,
      "grid_auto_columns": null,
      "grid_auto_flow": null,
      "grid_auto_rows": null,
      "grid_column": null,
      "grid_gap": null,
      "grid_row": null,
      "grid_template_areas": null,
      "grid_template_columns": null,
      "grid_template_rows": null,
      "height": null,
      "justify_content": null,
      "justify_items": null,
      "left": null,
      "margin": null,
      "max_height": null,
      "max_width": null,
      "min_height": null,
      "min_width": null,
      "object_fit": null,
      "object_position": null,
      "order": null,
      "overflow": null,
      "overflow_x": null,
      "overflow_y": null,
      "padding": null,
      "right": null,
      "top": null,
      "visibility": null,
      "width": null
     }
    },
    "bd2eb0458d0c4e3db8b1d7be5190c519": {
     "model_module": "@jupyter-widgets/base",
     "model_module_version": "1.2.0",
     "model_name": "LayoutModel",
     "state": {
      "_model_module": "@jupyter-widgets/base",
      "_model_module_version": "1.2.0",
      "_model_name": "LayoutModel",
      "_view_count": null,
      "_view_module": "@jupyter-widgets/base",
      "_view_module_version": "1.2.0",
      "_view_name": "LayoutView",
      "align_content": null,
      "align_items": null,
      "align_self": null,
      "border": null,
      "bottom": null,
      "display": null,
      "flex": "2",
      "flex_flow": null,
      "grid_area": null,
      "grid_auto_columns": null,
      "grid_auto_flow": null,
      "grid_auto_rows": null,
      "grid_column": null,
      "grid_gap": null,
      "grid_row": null,
      "grid_template_areas": null,
      "grid_template_columns": null,
      "grid_template_rows": null,
      "height": null,
      "justify_content": null,
      "justify_items": null,
      "left": null,
      "margin": null,
      "max_height": null,
      "max_width": null,
      "min_height": null,
      "min_width": null,
      "object_fit": null,
      "object_position": null,
      "order": null,
      "overflow": null,
      "overflow_x": null,
      "overflow_y": null,
      "padding": null,
      "right": null,
      "top": null,
      "visibility": null,
      "width": null
     }
    },
    "be8353ec9005403f8742915614bae9ff": {
     "model_module": "@jupyter-widgets/controls",
     "model_module_version": "1.5.0",
     "model_name": "FloatProgressModel",
     "state": {
      "_dom_classes": [],
      "_model_module": "@jupyter-widgets/controls",
      "_model_module_version": "1.5.0",
      "_model_name": "FloatProgressModel",
      "_view_count": null,
      "_view_module": "@jupyter-widgets/controls",
      "_view_module_version": "1.5.0",
      "_view_name": "ProgressView",
      "bar_style": "",
      "description": "",
      "description_tooltip": null,
      "layout": "IPY_MODEL_9aa8a28ef53e404182fef0544659e59a",
      "max": 5,
      "min": 0,
      "orientation": "horizontal",
      "style": "IPY_MODEL_bb9172cc2df94e7aad119aa54545b995",
      "value": 5
     }
    },
    "be9e26dcd2334ca1ada77ef2e23446b7": {
     "model_module": "@jupyter-widgets/controls",
     "model_module_version": "1.5.0",
     "model_name": "HTMLModel",
     "state": {
      "_dom_classes": [],
      "_model_module": "@jupyter-widgets/controls",
      "_model_module_version": "1.5.0",
      "_model_name": "HTMLModel",
      "_view_count": null,
      "_view_module": "@jupyter-widgets/controls",
      "_view_module_version": "1.5.0",
      "_view_name": "HTMLView",
      "description": "",
      "description_tooltip": null,
      "layout": "IPY_MODEL_af11ec99c3904b8ba12f451a7c44a6ce",
      "placeholder": "​",
      "style": "IPY_MODEL_702ee5578b4b4d258c3a23a1b79fb52f",
      "value": " 5/5 [00:01&lt;00:00,  4.10it/s]"
     }
    },
    "becd3594726149be975ce7d91df16d6f": {
     "model_module": "@jupyter-widgets/controls",
     "model_module_version": "1.5.0",
     "model_name": "ProgressStyleModel",
     "state": {
      "_model_module": "@jupyter-widgets/controls",
      "_model_module_version": "1.5.0",
      "_model_name": "ProgressStyleModel",
      "_view_count": null,
      "_view_module": "@jupyter-widgets/base",
      "_view_module_version": "1.2.0",
      "_view_name": "StyleView",
      "bar_color": null,
      "description_width": ""
     }
    },
    "bf087adcd65e4e7e87d2ab938c359c50": {
     "model_module": "@jupyter-widgets/controls",
     "model_module_version": "1.5.0",
     "model_name": "HBoxModel",
     "state": {
      "_dom_classes": [],
      "_model_module": "@jupyter-widgets/controls",
      "_model_module_version": "1.5.0",
      "_model_name": "HBoxModel",
      "_view_count": null,
      "_view_module": "@jupyter-widgets/controls",
      "_view_module_version": "1.5.0",
      "_view_name": "HBoxView",
      "box_style": "",
      "children": [
       "IPY_MODEL_4c5a911ef7924db7a628ddf10a3543a6",
       "IPY_MODEL_ab8f2de5f56342a79d08aecd5f26800e",
       "IPY_MODEL_757af59d66dc4c06b8a105b262b903ba"
      ],
      "layout": "IPY_MODEL_444d55e5b9754e7ab37bacc414d11a11"
     }
    },
    "bfbce7155be8403db997b2add318172b": {
     "model_module": "@jupyter-widgets/controls",
     "model_module_version": "1.5.0",
     "model_name": "HTMLModel",
     "state": {
      "_dom_classes": [],
      "_model_module": "@jupyter-widgets/controls",
      "_model_module_version": "1.5.0",
      "_model_name": "HTMLModel",
      "_view_count": null,
      "_view_module": "@jupyter-widgets/controls",
      "_view_module_version": "1.5.0",
      "_view_name": "HTMLView",
      "description": "",
      "description_tooltip": null,
      "layout": "IPY_MODEL_dd976c23758d4bc5b5da65ed23abe9cc",
      "placeholder": "​",
      "style": "IPY_MODEL_7a58d70f17cf42458869826bdafca282",
      "value": " 5/5 [00:01&lt;00:00,  3.97it/s]"
     }
    },
    "bfde4ea9c007493ca59caae5382f36bb": {
     "model_module": "@jupyter-widgets/base",
     "model_module_version": "1.2.0",
     "model_name": "LayoutModel",
     "state": {
      "_model_module": "@jupyter-widgets/base",
      "_model_module_version": "1.2.0",
      "_model_name": "LayoutModel",
      "_view_count": null,
      "_view_module": "@jupyter-widgets/base",
      "_view_module_version": "1.2.0",
      "_view_name": "LayoutView",
      "align_content": null,
      "align_items": null,
      "align_self": null,
      "border": null,
      "bottom": null,
      "display": null,
      "flex": "2",
      "flex_flow": null,
      "grid_area": null,
      "grid_auto_columns": null,
      "grid_auto_flow": null,
      "grid_auto_rows": null,
      "grid_column": null,
      "grid_gap": null,
      "grid_row": null,
      "grid_template_areas": null,
      "grid_template_columns": null,
      "grid_template_rows": null,
      "height": null,
      "justify_content": null,
      "justify_items": null,
      "left": null,
      "margin": null,
      "max_height": null,
      "max_width": null,
      "min_height": null,
      "min_width": null,
      "object_fit": null,
      "object_position": null,
      "order": null,
      "overflow": null,
      "overflow_x": null,
      "overflow_y": null,
      "padding": null,
      "right": null,
      "top": null,
      "visibility": null,
      "width": null
     }
    },
    "c07b0bb493054088876820432902df1c": {
     "model_module": "@jupyter-widgets/base",
     "model_module_version": "1.2.0",
     "model_name": "LayoutModel",
     "state": {
      "_model_module": "@jupyter-widgets/base",
      "_model_module_version": "1.2.0",
      "_model_name": "LayoutModel",
      "_view_count": null,
      "_view_module": "@jupyter-widgets/base",
      "_view_module_version": "1.2.0",
      "_view_name": "LayoutView",
      "align_content": null,
      "align_items": null,
      "align_self": null,
      "border": null,
      "bottom": null,
      "display": null,
      "flex": null,
      "flex_flow": null,
      "grid_area": null,
      "grid_auto_columns": null,
      "grid_auto_flow": null,
      "grid_auto_rows": null,
      "grid_column": null,
      "grid_gap": null,
      "grid_row": null,
      "grid_template_areas": null,
      "grid_template_columns": null,
      "grid_template_rows": null,
      "height": null,
      "justify_content": null,
      "justify_items": null,
      "left": null,
      "margin": null,
      "max_height": null,
      "max_width": null,
      "min_height": null,
      "min_width": null,
      "object_fit": null,
      "object_position": null,
      "order": null,
      "overflow": null,
      "overflow_x": null,
      "overflow_y": null,
      "padding": null,
      "right": null,
      "top": null,
      "visibility": null,
      "width": null
     }
    },
    "c20ce437955e44ddba6f9cbfd0f9aac5": {
     "model_module": "@jupyter-widgets/controls",
     "model_module_version": "1.5.0",
     "model_name": "HTMLModel",
     "state": {
      "_dom_classes": [],
      "_model_module": "@jupyter-widgets/controls",
      "_model_module_version": "1.5.0",
      "_model_name": "HTMLModel",
      "_view_count": null,
      "_view_module": "@jupyter-widgets/controls",
      "_view_module_version": "1.5.0",
      "_view_name": "HTMLView",
      "description": "",
      "description_tooltip": null,
      "layout": "IPY_MODEL_9b4d4d48f7c04d21a0a84838a45820a8",
      "placeholder": "​",
      "style": "IPY_MODEL_86d41d7fe5724ba892008f61f53c6e13",
      "value": " 5/5 [00:01&lt;00:00,  3.91it/s]"
     }
    },
    "c2b353191a90442a9bdc629fc3869739": {
     "model_module": "@jupyter-widgets/controls",
     "model_module_version": "1.5.0",
     "model_name": "FloatProgressModel",
     "state": {
      "_dom_classes": [],
      "_model_module": "@jupyter-widgets/controls",
      "_model_module_version": "1.5.0",
      "_model_name": "FloatProgressModel",
      "_view_count": null,
      "_view_module": "@jupyter-widgets/controls",
      "_view_module_version": "1.5.0",
      "_view_name": "ProgressView",
      "bar_style": "",
      "description": "",
      "description_tooltip": null,
      "layout": "IPY_MODEL_35e20acdb70c4dc1940dfd1f21b81e7f",
      "max": 5,
      "min": 0,
      "orientation": "horizontal",
      "style": "IPY_MODEL_b07774513ad3419f9635021e8defa6df",
      "value": 5
     }
    },
    "c3c4cf8304bd4a3a9221e32eb9742179": {
     "model_module": "@jupyter-widgets/controls",
     "model_module_version": "1.5.0",
     "model_name": "DescriptionStyleModel",
     "state": {
      "_model_module": "@jupyter-widgets/controls",
      "_model_module_version": "1.5.0",
      "_model_name": "DescriptionStyleModel",
      "_view_count": null,
      "_view_module": "@jupyter-widgets/base",
      "_view_module_version": "1.2.0",
      "_view_name": "StyleView",
      "description_width": ""
     }
    },
    "c40e792f6d984b1faf64d5f7b8ce9867": {
     "model_module": "@jupyter-widgets/controls",
     "model_module_version": "1.5.0",
     "model_name": "HTMLModel",
     "state": {
      "_dom_classes": [],
      "_model_module": "@jupyter-widgets/controls",
      "_model_module_version": "1.5.0",
      "_model_name": "HTMLModel",
      "_view_count": null,
      "_view_module": "@jupyter-widgets/controls",
      "_view_module_version": "1.5.0",
      "_view_name": "HTMLView",
      "description": "",
      "description_tooltip": null,
      "layout": "IPY_MODEL_61203387f9e944029934dd106381e8fa",
      "placeholder": "​",
      "style": "IPY_MODEL_21942ec409ba40ff91141a24a880ac12",
      "value": " 5/5 [00:01&lt;00:00,  3.93it/s]"
     }
    },
    "c40f78bf576c4357b7f83177d07993dc": {
     "model_module": "@jupyter-widgets/controls",
     "model_module_version": "1.5.0",
     "model_name": "DescriptionStyleModel",
     "state": {
      "_model_module": "@jupyter-widgets/controls",
      "_model_module_version": "1.5.0",
      "_model_name": "DescriptionStyleModel",
      "_view_count": null,
      "_view_module": "@jupyter-widgets/base",
      "_view_module_version": "1.2.0",
      "_view_name": "StyleView",
      "description_width": ""
     }
    },
    "c4b97e0f183647069cf520b1b2c13c11": {
     "model_module": "@jupyter-widgets/base",
     "model_module_version": "1.2.0",
     "model_name": "LayoutModel",
     "state": {
      "_model_module": "@jupyter-widgets/base",
      "_model_module_version": "1.2.0",
      "_model_name": "LayoutModel",
      "_view_count": null,
      "_view_module": "@jupyter-widgets/base",
      "_view_module_version": "1.2.0",
      "_view_name": "LayoutView",
      "align_content": null,
      "align_items": null,
      "align_self": null,
      "border": null,
      "bottom": null,
      "display": null,
      "flex": "2",
      "flex_flow": null,
      "grid_area": null,
      "grid_auto_columns": null,
      "grid_auto_flow": null,
      "grid_auto_rows": null,
      "grid_column": null,
      "grid_gap": null,
      "grid_row": null,
      "grid_template_areas": null,
      "grid_template_columns": null,
      "grid_template_rows": null,
      "height": null,
      "justify_content": null,
      "justify_items": null,
      "left": null,
      "margin": null,
      "max_height": null,
      "max_width": null,
      "min_height": null,
      "min_width": null,
      "object_fit": null,
      "object_position": null,
      "order": null,
      "overflow": null,
      "overflow_x": null,
      "overflow_y": null,
      "padding": null,
      "right": null,
      "top": null,
      "visibility": null,
      "width": null
     }
    },
    "c5405cd5460c4ebd8300dfc5ad8d0e1b": {
     "model_module": "@jupyter-widgets/base",
     "model_module_version": "1.2.0",
     "model_name": "LayoutModel",
     "state": {
      "_model_module": "@jupyter-widgets/base",
      "_model_module_version": "1.2.0",
      "_model_name": "LayoutModel",
      "_view_count": null,
      "_view_module": "@jupyter-widgets/base",
      "_view_module_version": "1.2.0",
      "_view_name": "LayoutView",
      "align_content": null,
      "align_items": null,
      "align_self": null,
      "border": null,
      "bottom": null,
      "display": "inline-flex",
      "flex": null,
      "flex_flow": "row wrap",
      "grid_area": null,
      "grid_auto_columns": null,
      "grid_auto_flow": null,
      "grid_auto_rows": null,
      "grid_column": null,
      "grid_gap": null,
      "grid_row": null,
      "grid_template_areas": null,
      "grid_template_columns": null,
      "grid_template_rows": null,
      "height": null,
      "justify_content": null,
      "justify_items": null,
      "left": null,
      "margin": null,
      "max_height": null,
      "max_width": null,
      "min_height": null,
      "min_width": null,
      "object_fit": null,
      "object_position": null,
      "order": null,
      "overflow": null,
      "overflow_x": null,
      "overflow_y": null,
      "padding": null,
      "right": null,
      "top": null,
      "visibility": "hidden",
      "width": "100%"
     }
    },
    "c571891a213244fca42e501fe02f1436": {
     "model_module": "@jupyter-widgets/base",
     "model_module_version": "1.2.0",
     "model_name": "LayoutModel",
     "state": {
      "_model_module": "@jupyter-widgets/base",
      "_model_module_version": "1.2.0",
      "_model_name": "LayoutModel",
      "_view_count": null,
      "_view_module": "@jupyter-widgets/base",
      "_view_module_version": "1.2.0",
      "_view_name": "LayoutView",
      "align_content": null,
      "align_items": null,
      "align_self": null,
      "border": null,
      "bottom": null,
      "display": null,
      "flex": null,
      "flex_flow": null,
      "grid_area": null,
      "grid_auto_columns": null,
      "grid_auto_flow": null,
      "grid_auto_rows": null,
      "grid_column": null,
      "grid_gap": null,
      "grid_row": null,
      "grid_template_areas": null,
      "grid_template_columns": null,
      "grid_template_rows": null,
      "height": null,
      "justify_content": null,
      "justify_items": null,
      "left": null,
      "margin": null,
      "max_height": null,
      "max_width": null,
      "min_height": null,
      "min_width": null,
      "object_fit": null,
      "object_position": null,
      "order": null,
      "overflow": null,
      "overflow_x": null,
      "overflow_y": null,
      "padding": null,
      "right": null,
      "top": null,
      "visibility": null,
      "width": null
     }
    },
    "c6b820fbf04d4a3198652a47d389fdec": {
     "model_module": "@jupyter-widgets/controls",
     "model_module_version": "1.5.0",
     "model_name": "HTMLModel",
     "state": {
      "_dom_classes": [],
      "_model_module": "@jupyter-widgets/controls",
      "_model_module_version": "1.5.0",
      "_model_name": "HTMLModel",
      "_view_count": null,
      "_view_module": "@jupyter-widgets/controls",
      "_view_module_version": "1.5.0",
      "_view_name": "HTMLView",
      "description": "",
      "description_tooltip": null,
      "layout": "IPY_MODEL_2beedea1ab4d43829db9aa35bf48fc95",
      "placeholder": "​",
      "style": "IPY_MODEL_520bbbdadc4245e2ab5e4ff08aca94ba",
      "value": "Validation DataLoader 0: 100%"
     }
    },
    "c6bb6f0afa1d438b9ec265da6071cf87": {
     "model_module": "@jupyter-widgets/controls",
     "model_module_version": "1.5.0",
     "model_name": "FloatProgressModel",
     "state": {
      "_dom_classes": [],
      "_model_module": "@jupyter-widgets/controls",
      "_model_module_version": "1.5.0",
      "_model_name": "FloatProgressModel",
      "_view_count": null,
      "_view_module": "@jupyter-widgets/controls",
      "_view_module_version": "1.5.0",
      "_view_name": "ProgressView",
      "bar_style": "",
      "description": "",
      "description_tooltip": null,
      "layout": "IPY_MODEL_00eb0b62b54d40998f9ca67be99face9",
      "max": 5,
      "min": 0,
      "orientation": "horizontal",
      "style": "IPY_MODEL_dcb19b4ae8e74aaaa67222183f3dde74",
      "value": 5
     }
    },
    "c86cc5bc4c954618aceb6926709f186c": {
     "model_module": "@jupyter-widgets/controls",
     "model_module_version": "1.5.0",
     "model_name": "DescriptionStyleModel",
     "state": {
      "_model_module": "@jupyter-widgets/controls",
      "_model_module_version": "1.5.0",
      "_model_name": "DescriptionStyleModel",
      "_view_count": null,
      "_view_module": "@jupyter-widgets/base",
      "_view_module_version": "1.2.0",
      "_view_name": "StyleView",
      "description_width": ""
     }
    },
    "c8fce0d2ea164f4489364cfe6eccbdab": {
     "model_module": "@jupyter-widgets/base",
     "model_module_version": "1.2.0",
     "model_name": "LayoutModel",
     "state": {
      "_model_module": "@jupyter-widgets/base",
      "_model_module_version": "1.2.0",
      "_model_name": "LayoutModel",
      "_view_count": null,
      "_view_module": "@jupyter-widgets/base",
      "_view_module_version": "1.2.0",
      "_view_name": "LayoutView",
      "align_content": null,
      "align_items": null,
      "align_self": null,
      "border": null,
      "bottom": null,
      "display": null,
      "flex": null,
      "flex_flow": null,
      "grid_area": null,
      "grid_auto_columns": null,
      "grid_auto_flow": null,
      "grid_auto_rows": null,
      "grid_column": null,
      "grid_gap": null,
      "grid_row": null,
      "grid_template_areas": null,
      "grid_template_columns": null,
      "grid_template_rows": null,
      "height": null,
      "justify_content": null,
      "justify_items": null,
      "left": null,
      "margin": null,
      "max_height": null,
      "max_width": null,
      "min_height": null,
      "min_width": null,
      "object_fit": null,
      "object_position": null,
      "order": null,
      "overflow": null,
      "overflow_x": null,
      "overflow_y": null,
      "padding": null,
      "right": null,
      "top": null,
      "visibility": null,
      "width": null
     }
    },
    "c90b1c4de8834f7a82e9a722da205028": {
     "model_module": "@jupyter-widgets/controls",
     "model_module_version": "1.5.0",
     "model_name": "DescriptionStyleModel",
     "state": {
      "_model_module": "@jupyter-widgets/controls",
      "_model_module_version": "1.5.0",
      "_model_name": "DescriptionStyleModel",
      "_view_count": null,
      "_view_module": "@jupyter-widgets/base",
      "_view_module_version": "1.2.0",
      "_view_name": "StyleView",
      "description_width": ""
     }
    },
    "c90fc737e8bf442d84af58e92c43f23a": {
     "model_module": "@jupyter-widgets/base",
     "model_module_version": "1.2.0",
     "model_name": "LayoutModel",
     "state": {
      "_model_module": "@jupyter-widgets/base",
      "_model_module_version": "1.2.0",
      "_model_name": "LayoutModel",
      "_view_count": null,
      "_view_module": "@jupyter-widgets/base",
      "_view_module_version": "1.2.0",
      "_view_name": "LayoutView",
      "align_content": null,
      "align_items": null,
      "align_self": null,
      "border": null,
      "bottom": null,
      "display": "inline-flex",
      "flex": null,
      "flex_flow": "row wrap",
      "grid_area": null,
      "grid_auto_columns": null,
      "grid_auto_flow": null,
      "grid_auto_rows": null,
      "grid_column": null,
      "grid_gap": null,
      "grid_row": null,
      "grid_template_areas": null,
      "grid_template_columns": null,
      "grid_template_rows": null,
      "height": null,
      "justify_content": null,
      "justify_items": null,
      "left": null,
      "margin": null,
      "max_height": null,
      "max_width": null,
      "min_height": null,
      "min_width": null,
      "object_fit": null,
      "object_position": null,
      "order": null,
      "overflow": null,
      "overflow_x": null,
      "overflow_y": null,
      "padding": null,
      "right": null,
      "top": null,
      "visibility": "hidden",
      "width": "100%"
     }
    },
    "cacc9f6639cf4f88bd752c688e443ca0": {
     "model_module": "@jupyter-widgets/controls",
     "model_module_version": "1.5.0",
     "model_name": "HTMLModel",
     "state": {
      "_dom_classes": [],
      "_model_module": "@jupyter-widgets/controls",
      "_model_module_version": "1.5.0",
      "_model_name": "HTMLModel",
      "_view_count": null,
      "_view_module": "@jupyter-widgets/controls",
      "_view_module_version": "1.5.0",
      "_view_name": "HTMLView",
      "description": "",
      "description_tooltip": null,
      "layout": "IPY_MODEL_7cabd2a7872e4dc78ffb18cf031eabf2",
      "placeholder": "​",
      "style": "IPY_MODEL_c40f78bf576c4357b7f83177d07993dc",
      "value": " 5/5 [00:01&lt;00:00,  3.99it/s]"
     }
    },
    "caeffeb004584087b864db288f546085": {
     "model_module": "@jupyter-widgets/controls",
     "model_module_version": "1.5.0",
     "model_name": "DescriptionStyleModel",
     "state": {
      "_model_module": "@jupyter-widgets/controls",
      "_model_module_version": "1.5.0",
      "_model_name": "DescriptionStyleModel",
      "_view_count": null,
      "_view_module": "@jupyter-widgets/base",
      "_view_module_version": "1.2.0",
      "_view_name": "StyleView",
      "description_width": ""
     }
    },
    "cb4eea16301346dd8575b38a11c9ad58": {
     "model_module": "@jupyter-widgets/controls",
     "model_module_version": "1.5.0",
     "model_name": "ProgressStyleModel",
     "state": {
      "_model_module": "@jupyter-widgets/controls",
      "_model_module_version": "1.5.0",
      "_model_name": "ProgressStyleModel",
      "_view_count": null,
      "_view_module": "@jupyter-widgets/base",
      "_view_module_version": "1.2.0",
      "_view_name": "StyleView",
      "bar_color": null,
      "description_width": ""
     }
    },
    "cb5bedd005704beaa9bd77e34af15251": {
     "model_module": "@jupyter-widgets/controls",
     "model_module_version": "1.5.0",
     "model_name": "FloatProgressModel",
     "state": {
      "_dom_classes": [],
      "_model_module": "@jupyter-widgets/controls",
      "_model_module_version": "1.5.0",
      "_model_name": "FloatProgressModel",
      "_view_count": null,
      "_view_module": "@jupyter-widgets/controls",
      "_view_module_version": "1.5.0",
      "_view_name": "ProgressView",
      "bar_style": "",
      "description": "",
      "description_tooltip": null,
      "layout": "IPY_MODEL_a613e3362ed04989bf0f740f698c6891",
      "max": 5,
      "min": 0,
      "orientation": "horizontal",
      "style": "IPY_MODEL_807f89e007ca47dcb02fa0a94cf7ea27",
      "value": 5
     }
    },
    "cb6670d6ab34428d9d3c41103934271a": {
     "model_module": "@jupyter-widgets/controls",
     "model_module_version": "1.5.0",
     "model_name": "DescriptionStyleModel",
     "state": {
      "_model_module": "@jupyter-widgets/controls",
      "_model_module_version": "1.5.0",
      "_model_name": "DescriptionStyleModel",
      "_view_count": null,
      "_view_module": "@jupyter-widgets/base",
      "_view_module_version": "1.2.0",
      "_view_name": "StyleView",
      "description_width": ""
     }
    },
    "cc84247d3d744f2e94d5008196c71d8c": {
     "model_module": "@jupyter-widgets/controls",
     "model_module_version": "1.5.0",
     "model_name": "HTMLModel",
     "state": {
      "_dom_classes": [],
      "_model_module": "@jupyter-widgets/controls",
      "_model_module_version": "1.5.0",
      "_model_name": "HTMLModel",
      "_view_count": null,
      "_view_module": "@jupyter-widgets/controls",
      "_view_module_version": "1.5.0",
      "_view_name": "HTMLView",
      "description": "",
      "description_tooltip": null,
      "layout": "IPY_MODEL_840fe65eab434d3ba124dae1eee2a2da",
      "placeholder": "​",
      "style": "IPY_MODEL_81220a5f37544e5082af0cbf9bf7c20c",
      "value": " 5/5 [00:01&lt;00:00,  4.04it/s]"
     }
    },
    "cca3361430d74b5c88dc75ccda81b1c7": {
     "model_module": "@jupyter-widgets/controls",
     "model_module_version": "1.5.0",
     "model_name": "DescriptionStyleModel",
     "state": {
      "_model_module": "@jupyter-widgets/controls",
      "_model_module_version": "1.5.0",
      "_model_name": "DescriptionStyleModel",
      "_view_count": null,
      "_view_module": "@jupyter-widgets/base",
      "_view_module_version": "1.2.0",
      "_view_name": "StyleView",
      "description_width": ""
     }
    },
    "cca5cca3c5db4dc98cf0e53c8310b7c9": {
     "model_module": "@jupyter-widgets/base",
     "model_module_version": "1.2.0",
     "model_name": "LayoutModel",
     "state": {
      "_model_module": "@jupyter-widgets/base",
      "_model_module_version": "1.2.0",
      "_model_name": "LayoutModel",
      "_view_count": null,
      "_view_module": "@jupyter-widgets/base",
      "_view_module_version": "1.2.0",
      "_view_name": "LayoutView",
      "align_content": null,
      "align_items": null,
      "align_self": null,
      "border": null,
      "bottom": null,
      "display": null,
      "flex": "2",
      "flex_flow": null,
      "grid_area": null,
      "grid_auto_columns": null,
      "grid_auto_flow": null,
      "grid_auto_rows": null,
      "grid_column": null,
      "grid_gap": null,
      "grid_row": null,
      "grid_template_areas": null,
      "grid_template_columns": null,
      "grid_template_rows": null,
      "height": null,
      "justify_content": null,
      "justify_items": null,
      "left": null,
      "margin": null,
      "max_height": null,
      "max_width": null,
      "min_height": null,
      "min_width": null,
      "object_fit": null,
      "object_position": null,
      "order": null,
      "overflow": null,
      "overflow_x": null,
      "overflow_y": null,
      "padding": null,
      "right": null,
      "top": null,
      "visibility": null,
      "width": null
     }
    },
    "ce66eff2940442a389ebaea26f96ff2a": {
     "model_module": "@jupyter-widgets/base",
     "model_module_version": "1.2.0",
     "model_name": "LayoutModel",
     "state": {
      "_model_module": "@jupyter-widgets/base",
      "_model_module_version": "1.2.0",
      "_model_name": "LayoutModel",
      "_view_count": null,
      "_view_module": "@jupyter-widgets/base",
      "_view_module_version": "1.2.0",
      "_view_name": "LayoutView",
      "align_content": null,
      "align_items": null,
      "align_self": null,
      "border": null,
      "bottom": null,
      "display": null,
      "flex": "2",
      "flex_flow": null,
      "grid_area": null,
      "grid_auto_columns": null,
      "grid_auto_flow": null,
      "grid_auto_rows": null,
      "grid_column": null,
      "grid_gap": null,
      "grid_row": null,
      "grid_template_areas": null,
      "grid_template_columns": null,
      "grid_template_rows": null,
      "height": null,
      "justify_content": null,
      "justify_items": null,
      "left": null,
      "margin": null,
      "max_height": null,
      "max_width": null,
      "min_height": null,
      "min_width": null,
      "object_fit": null,
      "object_position": null,
      "order": null,
      "overflow": null,
      "overflow_x": null,
      "overflow_y": null,
      "padding": null,
      "right": null,
      "top": null,
      "visibility": null,
      "width": null
     }
    },
    "cf6d3f9e43954d93be86186b5bc7249d": {
     "model_module": "@jupyter-widgets/controls",
     "model_module_version": "1.5.0",
     "model_name": "HBoxModel",
     "state": {
      "_dom_classes": [],
      "_model_module": "@jupyter-widgets/controls",
      "_model_module_version": "1.5.0",
      "_model_name": "HBoxModel",
      "_view_count": null,
      "_view_module": "@jupyter-widgets/controls",
      "_view_module_version": "1.5.0",
      "_view_name": "HBoxView",
      "box_style": "",
      "children": [
       "IPY_MODEL_e4e2612bf85b42e6b2bb4ae0f3dcb8a8",
       "IPY_MODEL_ecfa73ff58cf4b698dbad2c5376b07cc",
       "IPY_MODEL_be9e26dcd2334ca1ada77ef2e23446b7"
      ],
      "layout": "IPY_MODEL_ea60e48df6f54f1b94b1ececab0c2231"
     }
    },
    "cfc41089669d4ddf9d6d199e23825b84": {
     "model_module": "@jupyter-widgets/base",
     "model_module_version": "1.2.0",
     "model_name": "LayoutModel",
     "state": {
      "_model_module": "@jupyter-widgets/base",
      "_model_module_version": "1.2.0",
      "_model_name": "LayoutModel",
      "_view_count": null,
      "_view_module": "@jupyter-widgets/base",
      "_view_module_version": "1.2.0",
      "_view_name": "LayoutView",
      "align_content": null,
      "align_items": null,
      "align_self": null,
      "border": null,
      "bottom": null,
      "display": "inline-flex",
      "flex": null,
      "flex_flow": "row wrap",
      "grid_area": null,
      "grid_auto_columns": null,
      "grid_auto_flow": null,
      "grid_auto_rows": null,
      "grid_column": null,
      "grid_gap": null,
      "grid_row": null,
      "grid_template_areas": null,
      "grid_template_columns": null,
      "grid_template_rows": null,
      "height": null,
      "justify_content": null,
      "justify_items": null,
      "left": null,
      "margin": null,
      "max_height": null,
      "max_width": null,
      "min_height": null,
      "min_width": null,
      "object_fit": null,
      "object_position": null,
      "order": null,
      "overflow": null,
      "overflow_x": null,
      "overflow_y": null,
      "padding": null,
      "right": null,
      "top": null,
      "visibility": "hidden",
      "width": "100%"
     }
    },
    "cfd173b23e9d4a3b9e5cd91e7de132d7": {
     "model_module": "@jupyter-widgets/base",
     "model_module_version": "1.2.0",
     "model_name": "LayoutModel",
     "state": {
      "_model_module": "@jupyter-widgets/base",
      "_model_module_version": "1.2.0",
      "_model_name": "LayoutModel",
      "_view_count": null,
      "_view_module": "@jupyter-widgets/base",
      "_view_module_version": "1.2.0",
      "_view_name": "LayoutView",
      "align_content": null,
      "align_items": null,
      "align_self": null,
      "border": null,
      "bottom": null,
      "display": null,
      "flex": null,
      "flex_flow": null,
      "grid_area": null,
      "grid_auto_columns": null,
      "grid_auto_flow": null,
      "grid_auto_rows": null,
      "grid_column": null,
      "grid_gap": null,
      "grid_row": null,
      "grid_template_areas": null,
      "grid_template_columns": null,
      "grid_template_rows": null,
      "height": null,
      "justify_content": null,
      "justify_items": null,
      "left": null,
      "margin": null,
      "max_height": null,
      "max_width": null,
      "min_height": null,
      "min_width": null,
      "object_fit": null,
      "object_position": null,
      "order": null,
      "overflow": null,
      "overflow_x": null,
      "overflow_y": null,
      "padding": null,
      "right": null,
      "top": null,
      "visibility": null,
      "width": null
     }
    },
    "d08f9eb285034206b6980e106461c8dc": {
     "model_module": "@jupyter-widgets/base",
     "model_module_version": "1.2.0",
     "model_name": "LayoutModel",
     "state": {
      "_model_module": "@jupyter-widgets/base",
      "_model_module_version": "1.2.0",
      "_model_name": "LayoutModel",
      "_view_count": null,
      "_view_module": "@jupyter-widgets/base",
      "_view_module_version": "1.2.0",
      "_view_name": "LayoutView",
      "align_content": null,
      "align_items": null,
      "align_self": null,
      "border": null,
      "bottom": null,
      "display": null,
      "flex": null,
      "flex_flow": null,
      "grid_area": null,
      "grid_auto_columns": null,
      "grid_auto_flow": null,
      "grid_auto_rows": null,
      "grid_column": null,
      "grid_gap": null,
      "grid_row": null,
      "grid_template_areas": null,
      "grid_template_columns": null,
      "grid_template_rows": null,
      "height": null,
      "justify_content": null,
      "justify_items": null,
      "left": null,
      "margin": null,
      "max_height": null,
      "max_width": null,
      "min_height": null,
      "min_width": null,
      "object_fit": null,
      "object_position": null,
      "order": null,
      "overflow": null,
      "overflow_x": null,
      "overflow_y": null,
      "padding": null,
      "right": null,
      "top": null,
      "visibility": null,
      "width": null
     }
    },
    "d0e5790f12d24e08acd5f2f23319c754": {
     "model_module": "@jupyter-widgets/controls",
     "model_module_version": "1.5.0",
     "model_name": "DescriptionStyleModel",
     "state": {
      "_model_module": "@jupyter-widgets/controls",
      "_model_module_version": "1.5.0",
      "_model_name": "DescriptionStyleModel",
      "_view_count": null,
      "_view_module": "@jupyter-widgets/base",
      "_view_module_version": "1.2.0",
      "_view_name": "StyleView",
      "description_width": ""
     }
    },
    "d1a75db46ebd4e809bb1ddffca3e172f": {
     "model_module": "@jupyter-widgets/controls",
     "model_module_version": "1.5.0",
     "model_name": "HTMLModel",
     "state": {
      "_dom_classes": [],
      "_model_module": "@jupyter-widgets/controls",
      "_model_module_version": "1.5.0",
      "_model_name": "HTMLModel",
      "_view_count": null,
      "_view_module": "@jupyter-widgets/controls",
      "_view_module_version": "1.5.0",
      "_view_name": "HTMLView",
      "description": "",
      "description_tooltip": null,
      "layout": "IPY_MODEL_e135349c78f045938b297b03d76390b2",
      "placeholder": "​",
      "style": "IPY_MODEL_d32d2b49193f407d88b59765ab577366",
      "value": " 5/5 [00:01&lt;00:00,  4.00it/s]"
     }
    },
    "d1e3fceb1f524d75ae1105276796145f": {
     "model_module": "@jupyter-widgets/controls",
     "model_module_version": "1.5.0",
     "model_name": "HTMLModel",
     "state": {
      "_dom_classes": [],
      "_model_module": "@jupyter-widgets/controls",
      "_model_module_version": "1.5.0",
      "_model_name": "HTMLModel",
      "_view_count": null,
      "_view_module": "@jupyter-widgets/controls",
      "_view_module_version": "1.5.0",
      "_view_name": "HTMLView",
      "description": "",
      "description_tooltip": null,
      "layout": "IPY_MODEL_5c6cd76c7034426d8cc9537c1123f419",
      "placeholder": "​",
      "style": "IPY_MODEL_f1a24453e219448bac5850cd17271f6c",
      "value": " 5/5 [00:01&lt;00:00,  4.00it/s]"
     }
    },
    "d261940076e34b0c92ac370a0eeadee4": {
     "model_module": "@jupyter-widgets/base",
     "model_module_version": "1.2.0",
     "model_name": "LayoutModel",
     "state": {
      "_model_module": "@jupyter-widgets/base",
      "_model_module_version": "1.2.0",
      "_model_name": "LayoutModel",
      "_view_count": null,
      "_view_module": "@jupyter-widgets/base",
      "_view_module_version": "1.2.0",
      "_view_name": "LayoutView",
      "align_content": null,
      "align_items": null,
      "align_self": null,
      "border": null,
      "bottom": null,
      "display": "inline-flex",
      "flex": null,
      "flex_flow": "row wrap",
      "grid_area": null,
      "grid_auto_columns": null,
      "grid_auto_flow": null,
      "grid_auto_rows": null,
      "grid_column": null,
      "grid_gap": null,
      "grid_row": null,
      "grid_template_areas": null,
      "grid_template_columns": null,
      "grid_template_rows": null,
      "height": null,
      "justify_content": null,
      "justify_items": null,
      "left": null,
      "margin": null,
      "max_height": null,
      "max_width": null,
      "min_height": null,
      "min_width": null,
      "object_fit": null,
      "object_position": null,
      "order": null,
      "overflow": null,
      "overflow_x": null,
      "overflow_y": null,
      "padding": null,
      "right": null,
      "top": null,
      "visibility": "hidden",
      "width": "100%"
     }
    },
    "d32d2b49193f407d88b59765ab577366": {
     "model_module": "@jupyter-widgets/controls",
     "model_module_version": "1.5.0",
     "model_name": "DescriptionStyleModel",
     "state": {
      "_model_module": "@jupyter-widgets/controls",
      "_model_module_version": "1.5.0",
      "_model_name": "DescriptionStyleModel",
      "_view_count": null,
      "_view_module": "@jupyter-widgets/base",
      "_view_module_version": "1.2.0",
      "_view_name": "StyleView",
      "description_width": ""
     }
    },
    "d3626bfed1ac400b87d9e5e364fdc877": {
     "model_module": "@jupyter-widgets/controls",
     "model_module_version": "1.5.0",
     "model_name": "ProgressStyleModel",
     "state": {
      "_model_module": "@jupyter-widgets/controls",
      "_model_module_version": "1.5.0",
      "_model_name": "ProgressStyleModel",
      "_view_count": null,
      "_view_module": "@jupyter-widgets/base",
      "_view_module_version": "1.2.0",
      "_view_name": "StyleView",
      "bar_color": null,
      "description_width": ""
     }
    },
    "d3b6b5df07c0407b8a576f70751cfb2a": {
     "model_module": "@jupyter-widgets/controls",
     "model_module_version": "1.5.0",
     "model_name": "HBoxModel",
     "state": {
      "_dom_classes": [],
      "_model_module": "@jupyter-widgets/controls",
      "_model_module_version": "1.5.0",
      "_model_name": "HBoxModel",
      "_view_count": null,
      "_view_module": "@jupyter-widgets/controls",
      "_view_module_version": "1.5.0",
      "_view_name": "HBoxView",
      "box_style": "",
      "children": [
       "IPY_MODEL_105f11418ff94cfda81a9cc08e1f6b94",
       "IPY_MODEL_b17e497194a54cf4b0aa34c2d0a3df58",
       "IPY_MODEL_dc15cf3a75be48fa936eae6acbab7223"
      ],
      "layout": "IPY_MODEL_0735efb868c14ef7bfaa4a5eddb257b4"
     }
    },
    "d3fea870e89a4c688064425bfed95079": {
     "model_module": "@jupyter-widgets/controls",
     "model_module_version": "1.5.0",
     "model_name": "HTMLModel",
     "state": {
      "_dom_classes": [],
      "_model_module": "@jupyter-widgets/controls",
      "_model_module_version": "1.5.0",
      "_model_name": "HTMLModel",
      "_view_count": null,
      "_view_module": "@jupyter-widgets/controls",
      "_view_module_version": "1.5.0",
      "_view_name": "HTMLView",
      "description": "",
      "description_tooltip": null,
      "layout": "IPY_MODEL_dacdb6a6508c40beaddd33e3a44e6921",
      "placeholder": "​",
      "style": "IPY_MODEL_c3c4cf8304bd4a3a9221e32eb9742179",
      "value": "Validation DataLoader 0: 100%"
     }
    },
    "d4203403e1c94de2b71cc55f5ce24364": {
     "model_module": "@jupyter-widgets/controls",
     "model_module_version": "1.5.0",
     "model_name": "DescriptionStyleModel",
     "state": {
      "_model_module": "@jupyter-widgets/controls",
      "_model_module_version": "1.5.0",
      "_model_name": "DescriptionStyleModel",
      "_view_count": null,
      "_view_module": "@jupyter-widgets/base",
      "_view_module_version": "1.2.0",
      "_view_name": "StyleView",
      "description_width": ""
     }
    },
    "d4697f438c9f4a51bd41e716f5b0e50b": {
     "model_module": "@jupyter-widgets/controls",
     "model_module_version": "1.5.0",
     "model_name": "HBoxModel",
     "state": {
      "_dom_classes": [],
      "_model_module": "@jupyter-widgets/controls",
      "_model_module_version": "1.5.0",
      "_model_name": "HBoxModel",
      "_view_count": null,
      "_view_module": "@jupyter-widgets/controls",
      "_view_module_version": "1.5.0",
      "_view_name": "HBoxView",
      "box_style": "",
      "children": [
       "IPY_MODEL_98d12d98b5aa40adbb2f186207f437cf",
       "IPY_MODEL_851401d9f6124311ae66b45559d2cf82",
       "IPY_MODEL_08ce38df82f24627a520f26e52e0aa9a"
      ],
      "layout": "IPY_MODEL_c5405cd5460c4ebd8300dfc5ad8d0e1b"
     }
    },
    "d4ae996c7ee240fc8f2449e859443cab": {
     "model_module": "@jupyter-widgets/controls",
     "model_module_version": "1.5.0",
     "model_name": "DescriptionStyleModel",
     "state": {
      "_model_module": "@jupyter-widgets/controls",
      "_model_module_version": "1.5.0",
      "_model_name": "DescriptionStyleModel",
      "_view_count": null,
      "_view_module": "@jupyter-widgets/base",
      "_view_module_version": "1.2.0",
      "_view_name": "StyleView",
      "description_width": ""
     }
    },
    "d6027b7003f94360969e9400527c0655": {
     "model_module": "@jupyter-widgets/base",
     "model_module_version": "1.2.0",
     "model_name": "LayoutModel",
     "state": {
      "_model_module": "@jupyter-widgets/base",
      "_model_module_version": "1.2.0",
      "_model_name": "LayoutModel",
      "_view_count": null,
      "_view_module": "@jupyter-widgets/base",
      "_view_module_version": "1.2.0",
      "_view_name": "LayoutView",
      "align_content": null,
      "align_items": null,
      "align_self": null,
      "border": null,
      "bottom": null,
      "display": "inline-flex",
      "flex": null,
      "flex_flow": "row wrap",
      "grid_area": null,
      "grid_auto_columns": null,
      "grid_auto_flow": null,
      "grid_auto_rows": null,
      "grid_column": null,
      "grid_gap": null,
      "grid_row": null,
      "grid_template_areas": null,
      "grid_template_columns": null,
      "grid_template_rows": null,
      "height": null,
      "justify_content": null,
      "justify_items": null,
      "left": null,
      "margin": null,
      "max_height": null,
      "max_width": null,
      "min_height": null,
      "min_width": null,
      "object_fit": null,
      "object_position": null,
      "order": null,
      "overflow": null,
      "overflow_x": null,
      "overflow_y": null,
      "padding": null,
      "right": null,
      "top": null,
      "visibility": "hidden",
      "width": "100%"
     }
    },
    "d651a429c6544dc18278364150157687": {
     "model_module": "@jupyter-widgets/controls",
     "model_module_version": "1.5.0",
     "model_name": "HBoxModel",
     "state": {
      "_dom_classes": [],
      "_model_module": "@jupyter-widgets/controls",
      "_model_module_version": "1.5.0",
      "_model_name": "HBoxModel",
      "_view_count": null,
      "_view_module": "@jupyter-widgets/controls",
      "_view_module_version": "1.5.0",
      "_view_name": "HBoxView",
      "box_style": "",
      "children": [
       "IPY_MODEL_0a2313c4b0c44e4a9845f2b6e5421564",
       "IPY_MODEL_e5e366ab572c45229af71307c34e871d",
       "IPY_MODEL_f257d917d1534976bd61eeb01620285a"
      ],
      "layout": "IPY_MODEL_d8ebb2910ad8477ba4e30538cf5d2946"
     }
    },
    "d6e5492a6fca4d51986cd8d254bb4f39": {
     "model_module": "@jupyter-widgets/controls",
     "model_module_version": "1.5.0",
     "model_name": "HTMLModel",
     "state": {
      "_dom_classes": [],
      "_model_module": "@jupyter-widgets/controls",
      "_model_module_version": "1.5.0",
      "_model_name": "HTMLModel",
      "_view_count": null,
      "_view_module": "@jupyter-widgets/controls",
      "_view_module_version": "1.5.0",
      "_view_name": "HTMLView",
      "description": "",
      "description_tooltip": null,
      "layout": "IPY_MODEL_0984213b9c6640bcba1a06cceed06906",
      "placeholder": "​",
      "style": "IPY_MODEL_6e6018bfdc2d4c7dbfa974719e2e0095",
      "value": " 5/5 [00:01&lt;00:00,  3.95it/s]"
     }
    },
    "d727063354404501a8e015c1f62aeab9": {
     "model_module": "@jupyter-widgets/controls",
     "model_module_version": "1.5.0",
     "model_name": "HTMLModel",
     "state": {
      "_dom_classes": [],
      "_model_module": "@jupyter-widgets/controls",
      "_model_module_version": "1.5.0",
      "_model_name": "HTMLModel",
      "_view_count": null,
      "_view_module": "@jupyter-widgets/controls",
      "_view_module_version": "1.5.0",
      "_view_name": "HTMLView",
      "description": "",
      "description_tooltip": null,
      "layout": "IPY_MODEL_0b8212def8d5439f91ff11cd4e063521",
      "placeholder": "​",
      "style": "IPY_MODEL_304bdca2fcfa4dabbee323cfdf99aab5",
      "value": "Validation DataLoader 0: 100%"
     }
    },
    "d8479f44c01b4b7b96ae82fec443df77": {
     "model_module": "@jupyter-widgets/controls",
     "model_module_version": "1.5.0",
     "model_name": "FloatProgressModel",
     "state": {
      "_dom_classes": [],
      "_model_module": "@jupyter-widgets/controls",
      "_model_module_version": "1.5.0",
      "_model_name": "FloatProgressModel",
      "_view_count": null,
      "_view_module": "@jupyter-widgets/controls",
      "_view_module_version": "1.5.0",
      "_view_name": "ProgressView",
      "bar_style": "",
      "description": "",
      "description_tooltip": null,
      "layout": "IPY_MODEL_9165c1d7946c4abf8dbc0682a644edca",
      "max": 5,
      "min": 0,
      "orientation": "horizontal",
      "style": "IPY_MODEL_369ac5264c1844e681dc4e2f99c91d6f",
      "value": 5
     }
    },
    "d85cc207423c449ca34e40bdfba4247b": {
     "model_module": "@jupyter-widgets/controls",
     "model_module_version": "1.5.0",
     "model_name": "ProgressStyleModel",
     "state": {
      "_model_module": "@jupyter-widgets/controls",
      "_model_module_version": "1.5.0",
      "_model_name": "ProgressStyleModel",
      "_view_count": null,
      "_view_module": "@jupyter-widgets/base",
      "_view_module_version": "1.2.0",
      "_view_name": "StyleView",
      "bar_color": null,
      "description_width": ""
     }
    },
    "d8ebb2910ad8477ba4e30538cf5d2946": {
     "model_module": "@jupyter-widgets/base",
     "model_module_version": "1.2.0",
     "model_name": "LayoutModel",
     "state": {
      "_model_module": "@jupyter-widgets/base",
      "_model_module_version": "1.2.0",
      "_model_name": "LayoutModel",
      "_view_count": null,
      "_view_module": "@jupyter-widgets/base",
      "_view_module_version": "1.2.0",
      "_view_name": "LayoutView",
      "align_content": null,
      "align_items": null,
      "align_self": null,
      "border": null,
      "bottom": null,
      "display": "inline-flex",
      "flex": null,
      "flex_flow": "row wrap",
      "grid_area": null,
      "grid_auto_columns": null,
      "grid_auto_flow": null,
      "grid_auto_rows": null,
      "grid_column": null,
      "grid_gap": null,
      "grid_row": null,
      "grid_template_areas": null,
      "grid_template_columns": null,
      "grid_template_rows": null,
      "height": null,
      "justify_content": null,
      "justify_items": null,
      "left": null,
      "margin": null,
      "max_height": null,
      "max_width": null,
      "min_height": null,
      "min_width": null,
      "object_fit": null,
      "object_position": null,
      "order": null,
      "overflow": null,
      "overflow_x": null,
      "overflow_y": null,
      "padding": null,
      "right": null,
      "top": null,
      "visibility": "hidden",
      "width": "100%"
     }
    },
    "d9c03f7b0f8546e4a5ba31462ae8f058": {
     "model_module": "@jupyter-widgets/controls",
     "model_module_version": "1.5.0",
     "model_name": "HTMLModel",
     "state": {
      "_dom_classes": [],
      "_model_module": "@jupyter-widgets/controls",
      "_model_module_version": "1.5.0",
      "_model_name": "HTMLModel",
      "_view_count": null,
      "_view_module": "@jupyter-widgets/controls",
      "_view_module_version": "1.5.0",
      "_view_name": "HTMLView",
      "description": "",
      "description_tooltip": null,
      "layout": "IPY_MODEL_278a561711a04d508baac180aea024d7",
      "placeholder": "​",
      "style": "IPY_MODEL_78dda0bb6fdc4dbc968a3da00ad19931",
      "value": "Validation DataLoader 0: 100%"
     }
    },
    "d9cdaf093b2b4f268b49b46efc18b47c": {
     "model_module": "@jupyter-widgets/base",
     "model_module_version": "1.2.0",
     "model_name": "LayoutModel",
     "state": {
      "_model_module": "@jupyter-widgets/base",
      "_model_module_version": "1.2.0",
      "_model_name": "LayoutModel",
      "_view_count": null,
      "_view_module": "@jupyter-widgets/base",
      "_view_module_version": "1.2.0",
      "_view_name": "LayoutView",
      "align_content": null,
      "align_items": null,
      "align_self": null,
      "border": null,
      "bottom": null,
      "display": null,
      "flex": null,
      "flex_flow": null,
      "grid_area": null,
      "grid_auto_columns": null,
      "grid_auto_flow": null,
      "grid_auto_rows": null,
      "grid_column": null,
      "grid_gap": null,
      "grid_row": null,
      "grid_template_areas": null,
      "grid_template_columns": null,
      "grid_template_rows": null,
      "height": null,
      "justify_content": null,
      "justify_items": null,
      "left": null,
      "margin": null,
      "max_height": null,
      "max_width": null,
      "min_height": null,
      "min_width": null,
      "object_fit": null,
      "object_position": null,
      "order": null,
      "overflow": null,
      "overflow_x": null,
      "overflow_y": null,
      "padding": null,
      "right": null,
      "top": null,
      "visibility": null,
      "width": null
     }
    },
    "d9f7da1ab6464937a72ab924f003c38f": {
     "model_module": "@jupyter-widgets/controls",
     "model_module_version": "1.5.0",
     "model_name": "ProgressStyleModel",
     "state": {
      "_model_module": "@jupyter-widgets/controls",
      "_model_module_version": "1.5.0",
      "_model_name": "ProgressStyleModel",
      "_view_count": null,
      "_view_module": "@jupyter-widgets/base",
      "_view_module_version": "1.2.0",
      "_view_name": "StyleView",
      "bar_color": null,
      "description_width": ""
     }
    },
    "da7ce98946334e5b8b4925ec1af1e53f": {
     "model_module": "@jupyter-widgets/controls",
     "model_module_version": "1.5.0",
     "model_name": "DescriptionStyleModel",
     "state": {
      "_model_module": "@jupyter-widgets/controls",
      "_model_module_version": "1.5.0",
      "_model_name": "DescriptionStyleModel",
      "_view_count": null,
      "_view_module": "@jupyter-widgets/base",
      "_view_module_version": "1.2.0",
      "_view_name": "StyleView",
      "description_width": ""
     }
    },
    "dacdb6a6508c40beaddd33e3a44e6921": {
     "model_module": "@jupyter-widgets/base",
     "model_module_version": "1.2.0",
     "model_name": "LayoutModel",
     "state": {
      "_model_module": "@jupyter-widgets/base",
      "_model_module_version": "1.2.0",
      "_model_name": "LayoutModel",
      "_view_count": null,
      "_view_module": "@jupyter-widgets/base",
      "_view_module_version": "1.2.0",
      "_view_name": "LayoutView",
      "align_content": null,
      "align_items": null,
      "align_self": null,
      "border": null,
      "bottom": null,
      "display": null,
      "flex": null,
      "flex_flow": null,
      "grid_area": null,
      "grid_auto_columns": null,
      "grid_auto_flow": null,
      "grid_auto_rows": null,
      "grid_column": null,
      "grid_gap": null,
      "grid_row": null,
      "grid_template_areas": null,
      "grid_template_columns": null,
      "grid_template_rows": null,
      "height": null,
      "justify_content": null,
      "justify_items": null,
      "left": null,
      "margin": null,
      "max_height": null,
      "max_width": null,
      "min_height": null,
      "min_width": null,
      "object_fit": null,
      "object_position": null,
      "order": null,
      "overflow": null,
      "overflow_x": null,
      "overflow_y": null,
      "padding": null,
      "right": null,
      "top": null,
      "visibility": null,
      "width": null
     }
    },
    "dad2db5397d14edb95fb72b317b99d4a": {
     "model_module": "@jupyter-widgets/controls",
     "model_module_version": "1.5.0",
     "model_name": "ProgressStyleModel",
     "state": {
      "_model_module": "@jupyter-widgets/controls",
      "_model_module_version": "1.5.0",
      "_model_name": "ProgressStyleModel",
      "_view_count": null,
      "_view_module": "@jupyter-widgets/base",
      "_view_module_version": "1.2.0",
      "_view_name": "StyleView",
      "bar_color": null,
      "description_width": ""
     }
    },
    "db63f3e56d8b45f7937b7f8a46f86666": {
     "model_module": "@jupyter-widgets/controls",
     "model_module_version": "1.5.0",
     "model_name": "DescriptionStyleModel",
     "state": {
      "_model_module": "@jupyter-widgets/controls",
      "_model_module_version": "1.5.0",
      "_model_name": "DescriptionStyleModel",
      "_view_count": null,
      "_view_module": "@jupyter-widgets/base",
      "_view_module_version": "1.2.0",
      "_view_name": "StyleView",
      "description_width": ""
     }
    },
    "dbc7ee46311947c5b3539dc70867f657": {
     "model_module": "@jupyter-widgets/controls",
     "model_module_version": "1.5.0",
     "model_name": "ProgressStyleModel",
     "state": {
      "_model_module": "@jupyter-widgets/controls",
      "_model_module_version": "1.5.0",
      "_model_name": "ProgressStyleModel",
      "_view_count": null,
      "_view_module": "@jupyter-widgets/base",
      "_view_module_version": "1.2.0",
      "_view_name": "StyleView",
      "bar_color": null,
      "description_width": ""
     }
    },
    "dc15cf3a75be48fa936eae6acbab7223": {
     "model_module": "@jupyter-widgets/controls",
     "model_module_version": "1.5.0",
     "model_name": "HTMLModel",
     "state": {
      "_dom_classes": [],
      "_model_module": "@jupyter-widgets/controls",
      "_model_module_version": "1.5.0",
      "_model_name": "HTMLModel",
      "_view_count": null,
      "_view_module": "@jupyter-widgets/controls",
      "_view_module_version": "1.5.0",
      "_view_name": "HTMLView",
      "description": "",
      "description_tooltip": null,
      "layout": "IPY_MODEL_5729f934cca3430da20bfdee16ffa94f",
      "placeholder": "​",
      "style": "IPY_MODEL_59f5e01eb5b04fdb85c349de0c712d70",
      "value": " 5/5 [00:01&lt;00:00,  3.94it/s]"
     }
    },
    "dc91e8e8fb824f1599f0347e8e7f9b9d": {
     "model_module": "@jupyter-widgets/controls",
     "model_module_version": "1.5.0",
     "model_name": "HTMLModel",
     "state": {
      "_dom_classes": [],
      "_model_module": "@jupyter-widgets/controls",
      "_model_module_version": "1.5.0",
      "_model_name": "HTMLModel",
      "_view_count": null,
      "_view_module": "@jupyter-widgets/controls",
      "_view_module_version": "1.5.0",
      "_view_name": "HTMLView",
      "description": "",
      "description_tooltip": null,
      "layout": "IPY_MODEL_4e092e00349b4191be0557c623e9a0b7",
      "placeholder": "​",
      "style": "IPY_MODEL_a8b53cbf045248b293ae9d12b08c4e67",
      "value": " 5/5 [00:01&lt;00:00,  4.00it/s]"
     }
    },
    "dcb19b4ae8e74aaaa67222183f3dde74": {
     "model_module": "@jupyter-widgets/controls",
     "model_module_version": "1.5.0",
     "model_name": "ProgressStyleModel",
     "state": {
      "_model_module": "@jupyter-widgets/controls",
      "_model_module_version": "1.5.0",
      "_model_name": "ProgressStyleModel",
      "_view_count": null,
      "_view_module": "@jupyter-widgets/base",
      "_view_module_version": "1.2.0",
      "_view_name": "StyleView",
      "bar_color": null,
      "description_width": ""
     }
    },
    "dd45daf6d0b34921a9745de16c4e5067": {
     "model_module": "@jupyter-widgets/controls",
     "model_module_version": "1.5.0",
     "model_name": "FloatProgressModel",
     "state": {
      "_dom_classes": [],
      "_model_module": "@jupyter-widgets/controls",
      "_model_module_version": "1.5.0",
      "_model_name": "FloatProgressModel",
      "_view_count": null,
      "_view_module": "@jupyter-widgets/controls",
      "_view_module_version": "1.5.0",
      "_view_name": "ProgressView",
      "bar_style": "",
      "description": "",
      "description_tooltip": null,
      "layout": "IPY_MODEL_ce66eff2940442a389ebaea26f96ff2a",
      "max": 5,
      "min": 0,
      "orientation": "horizontal",
      "style": "IPY_MODEL_0d69fdba92144c698aed1dca10ca08b5",
      "value": 5
     }
    },
    "dd976c23758d4bc5b5da65ed23abe9cc": {
     "model_module": "@jupyter-widgets/base",
     "model_module_version": "1.2.0",
     "model_name": "LayoutModel",
     "state": {
      "_model_module": "@jupyter-widgets/base",
      "_model_module_version": "1.2.0",
      "_model_name": "LayoutModel",
      "_view_count": null,
      "_view_module": "@jupyter-widgets/base",
      "_view_module_version": "1.2.0",
      "_view_name": "LayoutView",
      "align_content": null,
      "align_items": null,
      "align_self": null,
      "border": null,
      "bottom": null,
      "display": null,
      "flex": null,
      "flex_flow": null,
      "grid_area": null,
      "grid_auto_columns": null,
      "grid_auto_flow": null,
      "grid_auto_rows": null,
      "grid_column": null,
      "grid_gap": null,
      "grid_row": null,
      "grid_template_areas": null,
      "grid_template_columns": null,
      "grid_template_rows": null,
      "height": null,
      "justify_content": null,
      "justify_items": null,
      "left": null,
      "margin": null,
      "max_height": null,
      "max_width": null,
      "min_height": null,
      "min_width": null,
      "object_fit": null,
      "object_position": null,
      "order": null,
      "overflow": null,
      "overflow_x": null,
      "overflow_y": null,
      "padding": null,
      "right": null,
      "top": null,
      "visibility": null,
      "width": null
     }
    },
    "de01e95e347a4b3096279fe6082ede2f": {
     "model_module": "@jupyter-widgets/controls",
     "model_module_version": "1.5.0",
     "model_name": "ProgressStyleModel",
     "state": {
      "_model_module": "@jupyter-widgets/controls",
      "_model_module_version": "1.5.0",
      "_model_name": "ProgressStyleModel",
      "_view_count": null,
      "_view_module": "@jupyter-widgets/base",
      "_view_module_version": "1.2.0",
      "_view_name": "StyleView",
      "bar_color": null,
      "description_width": ""
     }
    },
    "de97f0ea10e94cb88f1ffa6e6ce87193": {
     "model_module": "@jupyter-widgets/controls",
     "model_module_version": "1.5.0",
     "model_name": "FloatProgressModel",
     "state": {
      "_dom_classes": [],
      "_model_module": "@jupyter-widgets/controls",
      "_model_module_version": "1.5.0",
      "_model_name": "FloatProgressModel",
      "_view_count": null,
      "_view_module": "@jupyter-widgets/controls",
      "_view_module_version": "1.5.0",
      "_view_name": "ProgressView",
      "bar_style": "",
      "description": "",
      "description_tooltip": null,
      "layout": "IPY_MODEL_054d2e354d5a439da77b3508d52c466a",
      "max": 5,
      "min": 0,
      "orientation": "horizontal",
      "style": "IPY_MODEL_becd3594726149be975ce7d91df16d6f",
      "value": 5
     }
    },
    "df97b6cafb904cf0a1e304d874b89fd9": {
     "model_module": "@jupyter-widgets/base",
     "model_module_version": "1.2.0",
     "model_name": "LayoutModel",
     "state": {
      "_model_module": "@jupyter-widgets/base",
      "_model_module_version": "1.2.0",
      "_model_name": "LayoutModel",
      "_view_count": null,
      "_view_module": "@jupyter-widgets/base",
      "_view_module_version": "1.2.0",
      "_view_name": "LayoutView",
      "align_content": null,
      "align_items": null,
      "align_self": null,
      "border": null,
      "bottom": null,
      "display": null,
      "flex": "2",
      "flex_flow": null,
      "grid_area": null,
      "grid_auto_columns": null,
      "grid_auto_flow": null,
      "grid_auto_rows": null,
      "grid_column": null,
      "grid_gap": null,
      "grid_row": null,
      "grid_template_areas": null,
      "grid_template_columns": null,
      "grid_template_rows": null,
      "height": null,
      "justify_content": null,
      "justify_items": null,
      "left": null,
      "margin": null,
      "max_height": null,
      "max_width": null,
      "min_height": null,
      "min_width": null,
      "object_fit": null,
      "object_position": null,
      "order": null,
      "overflow": null,
      "overflow_x": null,
      "overflow_y": null,
      "padding": null,
      "right": null,
      "top": null,
      "visibility": null,
      "width": null
     }
    },
    "dfb6b0cd7d384c2aa28dc3b2a133e2be": {
     "model_module": "@jupyter-widgets/controls",
     "model_module_version": "1.5.0",
     "model_name": "ProgressStyleModel",
     "state": {
      "_model_module": "@jupyter-widgets/controls",
      "_model_module_version": "1.5.0",
      "_model_name": "ProgressStyleModel",
      "_view_count": null,
      "_view_module": "@jupyter-widgets/base",
      "_view_module_version": "1.2.0",
      "_view_name": "StyleView",
      "bar_color": null,
      "description_width": ""
     }
    },
    "e0ae429db29c46eaa80a08281a8feae8": {
     "model_module": "@jupyter-widgets/controls",
     "model_module_version": "1.5.0",
     "model_name": "DescriptionStyleModel",
     "state": {
      "_model_module": "@jupyter-widgets/controls",
      "_model_module_version": "1.5.0",
      "_model_name": "DescriptionStyleModel",
      "_view_count": null,
      "_view_module": "@jupyter-widgets/base",
      "_view_module_version": "1.2.0",
      "_view_name": "StyleView",
      "description_width": ""
     }
    },
    "e135349c78f045938b297b03d76390b2": {
     "model_module": "@jupyter-widgets/base",
     "model_module_version": "1.2.0",
     "model_name": "LayoutModel",
     "state": {
      "_model_module": "@jupyter-widgets/base",
      "_model_module_version": "1.2.0",
      "_model_name": "LayoutModel",
      "_view_count": null,
      "_view_module": "@jupyter-widgets/base",
      "_view_module_version": "1.2.0",
      "_view_name": "LayoutView",
      "align_content": null,
      "align_items": null,
      "align_self": null,
      "border": null,
      "bottom": null,
      "display": null,
      "flex": null,
      "flex_flow": null,
      "grid_area": null,
      "grid_auto_columns": null,
      "grid_auto_flow": null,
      "grid_auto_rows": null,
      "grid_column": null,
      "grid_gap": null,
      "grid_row": null,
      "grid_template_areas": null,
      "grid_template_columns": null,
      "grid_template_rows": null,
      "height": null,
      "justify_content": null,
      "justify_items": null,
      "left": null,
      "margin": null,
      "max_height": null,
      "max_width": null,
      "min_height": null,
      "min_width": null,
      "object_fit": null,
      "object_position": null,
      "order": null,
      "overflow": null,
      "overflow_x": null,
      "overflow_y": null,
      "padding": null,
      "right": null,
      "top": null,
      "visibility": null,
      "width": null
     }
    },
    "e1cb56d74633446a84d046b4da6e55be": {
     "model_module": "@jupyter-widgets/base",
     "model_module_version": "1.2.0",
     "model_name": "LayoutModel",
     "state": {
      "_model_module": "@jupyter-widgets/base",
      "_model_module_version": "1.2.0",
      "_model_name": "LayoutModel",
      "_view_count": null,
      "_view_module": "@jupyter-widgets/base",
      "_view_module_version": "1.2.0",
      "_view_name": "LayoutView",
      "align_content": null,
      "align_items": null,
      "align_self": null,
      "border": null,
      "bottom": null,
      "display": null,
      "flex": null,
      "flex_flow": null,
      "grid_area": null,
      "grid_auto_columns": null,
      "grid_auto_flow": null,
      "grid_auto_rows": null,
      "grid_column": null,
      "grid_gap": null,
      "grid_row": null,
      "grid_template_areas": null,
      "grid_template_columns": null,
      "grid_template_rows": null,
      "height": null,
      "justify_content": null,
      "justify_items": null,
      "left": null,
      "margin": null,
      "max_height": null,
      "max_width": null,
      "min_height": null,
      "min_width": null,
      "object_fit": null,
      "object_position": null,
      "order": null,
      "overflow": null,
      "overflow_x": null,
      "overflow_y": null,
      "padding": null,
      "right": null,
      "top": null,
      "visibility": null,
      "width": null
     }
    },
    "e2b5cc3a954942f38f5f2cbeed498f4b": {
     "model_module": "@jupyter-widgets/controls",
     "model_module_version": "1.5.0",
     "model_name": "HBoxModel",
     "state": {
      "_dom_classes": [],
      "_model_module": "@jupyter-widgets/controls",
      "_model_module_version": "1.5.0",
      "_model_name": "HBoxModel",
      "_view_count": null,
      "_view_module": "@jupyter-widgets/controls",
      "_view_module_version": "1.5.0",
      "_view_name": "HBoxView",
      "box_style": "",
      "children": [
       "IPY_MODEL_1d5d2a96e2a34e38a2fa3783a9a7a293",
       "IPY_MODEL_f89c03fb1a7145cbb20dbf9d453577a4",
       "IPY_MODEL_fc8dc3ef34354edf959d9e43b54f1aab"
      ],
      "layout": "IPY_MODEL_0b609d01881248e5a716fb1ebeb66bb2"
     }
    },
    "e2d9d2dabe034061a80258e22039b099": {
     "model_module": "@jupyter-widgets/base",
     "model_module_version": "1.2.0",
     "model_name": "LayoutModel",
     "state": {
      "_model_module": "@jupyter-widgets/base",
      "_model_module_version": "1.2.0",
      "_model_name": "LayoutModel",
      "_view_count": null,
      "_view_module": "@jupyter-widgets/base",
      "_view_module_version": "1.2.0",
      "_view_name": "LayoutView",
      "align_content": null,
      "align_items": null,
      "align_self": null,
      "border": null,
      "bottom": null,
      "display": null,
      "flex": null,
      "flex_flow": null,
      "grid_area": null,
      "grid_auto_columns": null,
      "grid_auto_flow": null,
      "grid_auto_rows": null,
      "grid_column": null,
      "grid_gap": null,
      "grid_row": null,
      "grid_template_areas": null,
      "grid_template_columns": null,
      "grid_template_rows": null,
      "height": null,
      "justify_content": null,
      "justify_items": null,
      "left": null,
      "margin": null,
      "max_height": null,
      "max_width": null,
      "min_height": null,
      "min_width": null,
      "object_fit": null,
      "object_position": null,
      "order": null,
      "overflow": null,
      "overflow_x": null,
      "overflow_y": null,
      "padding": null,
      "right": null,
      "top": null,
      "visibility": null,
      "width": null
     }
    },
    "e3e212dbea104caaa321f10edacde3e5": {
     "model_module": "@jupyter-widgets/controls",
     "model_module_version": "1.5.0",
     "model_name": "FloatProgressModel",
     "state": {
      "_dom_classes": [],
      "_model_module": "@jupyter-widgets/controls",
      "_model_module_version": "1.5.0",
      "_model_name": "FloatProgressModel",
      "_view_count": null,
      "_view_module": "@jupyter-widgets/controls",
      "_view_module_version": "1.5.0",
      "_view_name": "ProgressView",
      "bar_style": "",
      "description": "",
      "description_tooltip": null,
      "layout": "IPY_MODEL_902cd7a7fd834c28a33fab347a34cc53",
      "max": 5,
      "min": 0,
      "orientation": "horizontal",
      "style": "IPY_MODEL_396f886ed69b47208fccad9250d6681b",
      "value": 5
     }
    },
    "e3e444211223414881d96f08b5a6d9b3": {
     "model_module": "@jupyter-widgets/controls",
     "model_module_version": "1.5.0",
     "model_name": "DescriptionStyleModel",
     "state": {
      "_model_module": "@jupyter-widgets/controls",
      "_model_module_version": "1.5.0",
      "_model_name": "DescriptionStyleModel",
      "_view_count": null,
      "_view_module": "@jupyter-widgets/base",
      "_view_module_version": "1.2.0",
      "_view_name": "StyleView",
      "description_width": ""
     }
    },
    "e488a559d63a4129b5fe907c946daf7d": {
     "model_module": "@jupyter-widgets/controls",
     "model_module_version": "1.5.0",
     "model_name": "HTMLModel",
     "state": {
      "_dom_classes": [],
      "_model_module": "@jupyter-widgets/controls",
      "_model_module_version": "1.5.0",
      "_model_name": "HTMLModel",
      "_view_count": null,
      "_view_module": "@jupyter-widgets/controls",
      "_view_module_version": "1.5.0",
      "_view_name": "HTMLView",
      "description": "",
      "description_tooltip": null,
      "layout": "IPY_MODEL_1b2dc79d7d894e70b50fccd09f470324",
      "placeholder": "​",
      "style": "IPY_MODEL_db63f3e56d8b45f7937b7f8a46f86666",
      "value": "Validation DataLoader 0: 100%"
     }
    },
    "e4e2612bf85b42e6b2bb4ae0f3dcb8a8": {
     "model_module": "@jupyter-widgets/controls",
     "model_module_version": "1.5.0",
     "model_name": "HTMLModel",
     "state": {
      "_dom_classes": [],
      "_model_module": "@jupyter-widgets/controls",
      "_model_module_version": "1.5.0",
      "_model_name": "HTMLModel",
      "_view_count": null,
      "_view_module": "@jupyter-widgets/controls",
      "_view_module_version": "1.5.0",
      "_view_name": "HTMLView",
      "description": "",
      "description_tooltip": null,
      "layout": "IPY_MODEL_a4c412113bf44b70a8328c25d454d492",
      "placeholder": "​",
      "style": "IPY_MODEL_02cd023a22fa4921bcc76e73d25c412d",
      "value": "Validation DataLoader 0: 100%"
     }
    },
    "e5c70b4231754277839b684ddfbd4199": {
     "model_module": "@jupyter-widgets/base",
     "model_module_version": "1.2.0",
     "model_name": "LayoutModel",
     "state": {
      "_model_module": "@jupyter-widgets/base",
      "_model_module_version": "1.2.0",
      "_model_name": "LayoutModel",
      "_view_count": null,
      "_view_module": "@jupyter-widgets/base",
      "_view_module_version": "1.2.0",
      "_view_name": "LayoutView",
      "align_content": null,
      "align_items": null,
      "align_self": null,
      "border": null,
      "bottom": null,
      "display": null,
      "flex": "2",
      "flex_flow": null,
      "grid_area": null,
      "grid_auto_columns": null,
      "grid_auto_flow": null,
      "grid_auto_rows": null,
      "grid_column": null,
      "grid_gap": null,
      "grid_row": null,
      "grid_template_areas": null,
      "grid_template_columns": null,
      "grid_template_rows": null,
      "height": null,
      "justify_content": null,
      "justify_items": null,
      "left": null,
      "margin": null,
      "max_height": null,
      "max_width": null,
      "min_height": null,
      "min_width": null,
      "object_fit": null,
      "object_position": null,
      "order": null,
      "overflow": null,
      "overflow_x": null,
      "overflow_y": null,
      "padding": null,
      "right": null,
      "top": null,
      "visibility": null,
      "width": null
     }
    },
    "e5d32a28f44343cebdbfe27e74483c44": {
     "model_module": "@jupyter-widgets/base",
     "model_module_version": "1.2.0",
     "model_name": "LayoutModel",
     "state": {
      "_model_module": "@jupyter-widgets/base",
      "_model_module_version": "1.2.0",
      "_model_name": "LayoutModel",
      "_view_count": null,
      "_view_module": "@jupyter-widgets/base",
      "_view_module_version": "1.2.0",
      "_view_name": "LayoutView",
      "align_content": null,
      "align_items": null,
      "align_self": null,
      "border": null,
      "bottom": null,
      "display": "inline-flex",
      "flex": null,
      "flex_flow": "row wrap",
      "grid_area": null,
      "grid_auto_columns": null,
      "grid_auto_flow": null,
      "grid_auto_rows": null,
      "grid_column": null,
      "grid_gap": null,
      "grid_row": null,
      "grid_template_areas": null,
      "grid_template_columns": null,
      "grid_template_rows": null,
      "height": null,
      "justify_content": null,
      "justify_items": null,
      "left": null,
      "margin": null,
      "max_height": null,
      "max_width": null,
      "min_height": null,
      "min_width": null,
      "object_fit": null,
      "object_position": null,
      "order": null,
      "overflow": null,
      "overflow_x": null,
      "overflow_y": null,
      "padding": null,
      "right": null,
      "top": null,
      "visibility": "hidden",
      "width": "100%"
     }
    },
    "e5e366ab572c45229af71307c34e871d": {
     "model_module": "@jupyter-widgets/controls",
     "model_module_version": "1.5.0",
     "model_name": "FloatProgressModel",
     "state": {
      "_dom_classes": [],
      "_model_module": "@jupyter-widgets/controls",
      "_model_module_version": "1.5.0",
      "_model_name": "FloatProgressModel",
      "_view_count": null,
      "_view_module": "@jupyter-widgets/controls",
      "_view_module_version": "1.5.0",
      "_view_name": "ProgressView",
      "bar_style": "",
      "description": "",
      "description_tooltip": null,
      "layout": "IPY_MODEL_5f6a338373124c2ea5030f3ad260554f",
      "max": 2,
      "min": 0,
      "orientation": "horizontal",
      "style": "IPY_MODEL_3f5a7b101980496e8c885c6bb9452db6",
      "value": 2
     }
    },
    "e6ca10a80e0847f9a9d2492a661549be": {
     "model_module": "@jupyter-widgets/base",
     "model_module_version": "1.2.0",
     "model_name": "LayoutModel",
     "state": {
      "_model_module": "@jupyter-widgets/base",
      "_model_module_version": "1.2.0",
      "_model_name": "LayoutModel",
      "_view_count": null,
      "_view_module": "@jupyter-widgets/base",
      "_view_module_version": "1.2.0",
      "_view_name": "LayoutView",
      "align_content": null,
      "align_items": null,
      "align_self": null,
      "border": null,
      "bottom": null,
      "display": null,
      "flex": null,
      "flex_flow": null,
      "grid_area": null,
      "grid_auto_columns": null,
      "grid_auto_flow": null,
      "grid_auto_rows": null,
      "grid_column": null,
      "grid_gap": null,
      "grid_row": null,
      "grid_template_areas": null,
      "grid_template_columns": null,
      "grid_template_rows": null,
      "height": null,
      "justify_content": null,
      "justify_items": null,
      "left": null,
      "margin": null,
      "max_height": null,
      "max_width": null,
      "min_height": null,
      "min_width": null,
      "object_fit": null,
      "object_position": null,
      "order": null,
      "overflow": null,
      "overflow_x": null,
      "overflow_y": null,
      "padding": null,
      "right": null,
      "top": null,
      "visibility": null,
      "width": null
     }
    },
    "e715f30a031e4bc992b4629bfa82067d": {
     "model_module": "@jupyter-widgets/base",
     "model_module_version": "1.2.0",
     "model_name": "LayoutModel",
     "state": {
      "_model_module": "@jupyter-widgets/base",
      "_model_module_version": "1.2.0",
      "_model_name": "LayoutModel",
      "_view_count": null,
      "_view_module": "@jupyter-widgets/base",
      "_view_module_version": "1.2.0",
      "_view_name": "LayoutView",
      "align_content": null,
      "align_items": null,
      "align_self": null,
      "border": null,
      "bottom": null,
      "display": null,
      "flex": "2",
      "flex_flow": null,
      "grid_area": null,
      "grid_auto_columns": null,
      "grid_auto_flow": null,
      "grid_auto_rows": null,
      "grid_column": null,
      "grid_gap": null,
      "grid_row": null,
      "grid_template_areas": null,
      "grid_template_columns": null,
      "grid_template_rows": null,
      "height": null,
      "justify_content": null,
      "justify_items": null,
      "left": null,
      "margin": null,
      "max_height": null,
      "max_width": null,
      "min_height": null,
      "min_width": null,
      "object_fit": null,
      "object_position": null,
      "order": null,
      "overflow": null,
      "overflow_x": null,
      "overflow_y": null,
      "padding": null,
      "right": null,
      "top": null,
      "visibility": null,
      "width": null
     }
    },
    "e76f11b3e7ea4ec0b48e418ce5f18521": {
     "model_module": "@jupyter-widgets/controls",
     "model_module_version": "1.5.0",
     "model_name": "DescriptionStyleModel",
     "state": {
      "_model_module": "@jupyter-widgets/controls",
      "_model_module_version": "1.5.0",
      "_model_name": "DescriptionStyleModel",
      "_view_count": null,
      "_view_module": "@jupyter-widgets/base",
      "_view_module_version": "1.2.0",
      "_view_name": "StyleView",
      "description_width": ""
     }
    },
    "e7ee4c62e32c48bcac40de4b37f9bc5b": {
     "model_module": "@jupyter-widgets/base",
     "model_module_version": "1.2.0",
     "model_name": "LayoutModel",
     "state": {
      "_model_module": "@jupyter-widgets/base",
      "_model_module_version": "1.2.0",
      "_model_name": "LayoutModel",
      "_view_count": null,
      "_view_module": "@jupyter-widgets/base",
      "_view_module_version": "1.2.0",
      "_view_name": "LayoutView",
      "align_content": null,
      "align_items": null,
      "align_self": null,
      "border": null,
      "bottom": null,
      "display": "inline-flex",
      "flex": null,
      "flex_flow": "row wrap",
      "grid_area": null,
      "grid_auto_columns": null,
      "grid_auto_flow": null,
      "grid_auto_rows": null,
      "grid_column": null,
      "grid_gap": null,
      "grid_row": null,
      "grid_template_areas": null,
      "grid_template_columns": null,
      "grid_template_rows": null,
      "height": null,
      "justify_content": null,
      "justify_items": null,
      "left": null,
      "margin": null,
      "max_height": null,
      "max_width": null,
      "min_height": null,
      "min_width": null,
      "object_fit": null,
      "object_position": null,
      "order": null,
      "overflow": null,
      "overflow_x": null,
      "overflow_y": null,
      "padding": null,
      "right": null,
      "top": null,
      "visibility": "hidden",
      "width": "100%"
     }
    },
    "e888ce31da1647abbfe61d4855d5d725": {
     "model_module": "@jupyter-widgets/base",
     "model_module_version": "1.2.0",
     "model_name": "LayoutModel",
     "state": {
      "_model_module": "@jupyter-widgets/base",
      "_model_module_version": "1.2.0",
      "_model_name": "LayoutModel",
      "_view_count": null,
      "_view_module": "@jupyter-widgets/base",
      "_view_module_version": "1.2.0",
      "_view_name": "LayoutView",
      "align_content": null,
      "align_items": null,
      "align_self": null,
      "border": null,
      "bottom": null,
      "display": null,
      "flex": "2",
      "flex_flow": null,
      "grid_area": null,
      "grid_auto_columns": null,
      "grid_auto_flow": null,
      "grid_auto_rows": null,
      "grid_column": null,
      "grid_gap": null,
      "grid_row": null,
      "grid_template_areas": null,
      "grid_template_columns": null,
      "grid_template_rows": null,
      "height": null,
      "justify_content": null,
      "justify_items": null,
      "left": null,
      "margin": null,
      "max_height": null,
      "max_width": null,
      "min_height": null,
      "min_width": null,
      "object_fit": null,
      "object_position": null,
      "order": null,
      "overflow": null,
      "overflow_x": null,
      "overflow_y": null,
      "padding": null,
      "right": null,
      "top": null,
      "visibility": null,
      "width": null
     }
    },
    "e8ae08bc35c046a2a7292a5c12487932": {
     "model_module": "@jupyter-widgets/controls",
     "model_module_version": "1.5.0",
     "model_name": "HTMLModel",
     "state": {
      "_dom_classes": [],
      "_model_module": "@jupyter-widgets/controls",
      "_model_module_version": "1.5.0",
      "_model_name": "HTMLModel",
      "_view_count": null,
      "_view_module": "@jupyter-widgets/controls",
      "_view_module_version": "1.5.0",
      "_view_name": "HTMLView",
      "description": "",
      "description_tooltip": null,
      "layout": "IPY_MODEL_56d1301230e74eab85a0d0871ce81513",
      "placeholder": "​",
      "style": "IPY_MODEL_8d1a6fce1d7e46b7a95f484e85327fd3",
      "value": "Epoch 44:   0%"
     }
    },
    "e9a2d4d0c6d64a0c8112449522d4ceec": {
     "model_module": "@jupyter-widgets/controls",
     "model_module_version": "1.5.0",
     "model_name": "FloatProgressModel",
     "state": {
      "_dom_classes": [],
      "_model_module": "@jupyter-widgets/controls",
      "_model_module_version": "1.5.0",
      "_model_name": "FloatProgressModel",
      "_view_count": null,
      "_view_module": "@jupyter-widgets/controls",
      "_view_module_version": "1.5.0",
      "_view_name": "ProgressView",
      "bar_style": "",
      "description": "",
      "description_tooltip": null,
      "layout": "IPY_MODEL_84470516a4854c26bf716769ed416ec7",
      "max": 5,
      "min": 0,
      "orientation": "horizontal",
      "style": "IPY_MODEL_f7addeb82ddc44fc96259286bcead7fc",
      "value": 5
     }
    },
    "ea60e48df6f54f1b94b1ececab0c2231": {
     "model_module": "@jupyter-widgets/base",
     "model_module_version": "1.2.0",
     "model_name": "LayoutModel",
     "state": {
      "_model_module": "@jupyter-widgets/base",
      "_model_module_version": "1.2.0",
      "_model_name": "LayoutModel",
      "_view_count": null,
      "_view_module": "@jupyter-widgets/base",
      "_view_module_version": "1.2.0",
      "_view_name": "LayoutView",
      "align_content": null,
      "align_items": null,
      "align_self": null,
      "border": null,
      "bottom": null,
      "display": "inline-flex",
      "flex": null,
      "flex_flow": "row wrap",
      "grid_area": null,
      "grid_auto_columns": null,
      "grid_auto_flow": null,
      "grid_auto_rows": null,
      "grid_column": null,
      "grid_gap": null,
      "grid_row": null,
      "grid_template_areas": null,
      "grid_template_columns": null,
      "grid_template_rows": null,
      "height": null,
      "justify_content": null,
      "justify_items": null,
      "left": null,
      "margin": null,
      "max_height": null,
      "max_width": null,
      "min_height": null,
      "min_width": null,
      "object_fit": null,
      "object_position": null,
      "order": null,
      "overflow": null,
      "overflow_x": null,
      "overflow_y": null,
      "padding": null,
      "right": null,
      "top": null,
      "visibility": "hidden",
      "width": "100%"
     }
    },
    "ea97d3e5c34946caaa6fe7ff899e8c02": {
     "model_module": "@jupyter-widgets/base",
     "model_module_version": "1.2.0",
     "model_name": "LayoutModel",
     "state": {
      "_model_module": "@jupyter-widgets/base",
      "_model_module_version": "1.2.0",
      "_model_name": "LayoutModel",
      "_view_count": null,
      "_view_module": "@jupyter-widgets/base",
      "_view_module_version": "1.2.0",
      "_view_name": "LayoutView",
      "align_content": null,
      "align_items": null,
      "align_self": null,
      "border": null,
      "bottom": null,
      "display": null,
      "flex": "2",
      "flex_flow": null,
      "grid_area": null,
      "grid_auto_columns": null,
      "grid_auto_flow": null,
      "grid_auto_rows": null,
      "grid_column": null,
      "grid_gap": null,
      "grid_row": null,
      "grid_template_areas": null,
      "grid_template_columns": null,
      "grid_template_rows": null,
      "height": null,
      "justify_content": null,
      "justify_items": null,
      "left": null,
      "margin": null,
      "max_height": null,
      "max_width": null,
      "min_height": null,
      "min_width": null,
      "object_fit": null,
      "object_position": null,
      "order": null,
      "overflow": null,
      "overflow_x": null,
      "overflow_y": null,
      "padding": null,
      "right": null,
      "top": null,
      "visibility": null,
      "width": null
     }
    },
    "eadd25346f584741a23cba5d2513aa39": {
     "model_module": "@jupyter-widgets/base",
     "model_module_version": "1.2.0",
     "model_name": "LayoutModel",
     "state": {
      "_model_module": "@jupyter-widgets/base",
      "_model_module_version": "1.2.0",
      "_model_name": "LayoutModel",
      "_view_count": null,
      "_view_module": "@jupyter-widgets/base",
      "_view_module_version": "1.2.0",
      "_view_name": "LayoutView",
      "align_content": null,
      "align_items": null,
      "align_self": null,
      "border": null,
      "bottom": null,
      "display": null,
      "flex": null,
      "flex_flow": null,
      "grid_area": null,
      "grid_auto_columns": null,
      "grid_auto_flow": null,
      "grid_auto_rows": null,
      "grid_column": null,
      "grid_gap": null,
      "grid_row": null,
      "grid_template_areas": null,
      "grid_template_columns": null,
      "grid_template_rows": null,
      "height": null,
      "justify_content": null,
      "justify_items": null,
      "left": null,
      "margin": null,
      "max_height": null,
      "max_width": null,
      "min_height": null,
      "min_width": null,
      "object_fit": null,
      "object_position": null,
      "order": null,
      "overflow": null,
      "overflow_x": null,
      "overflow_y": null,
      "padding": null,
      "right": null,
      "top": null,
      "visibility": null,
      "width": null
     }
    },
    "eb3ee1bdf8fc47f6a161dd3c42d83d47": {
     "model_module": "@jupyter-widgets/controls",
     "model_module_version": "1.5.0",
     "model_name": "HTMLModel",
     "state": {
      "_dom_classes": [],
      "_model_module": "@jupyter-widgets/controls",
      "_model_module_version": "1.5.0",
      "_model_name": "HTMLModel",
      "_view_count": null,
      "_view_module": "@jupyter-widgets/controls",
      "_view_module_version": "1.5.0",
      "_view_name": "HTMLView",
      "description": "",
      "description_tooltip": null,
      "layout": "IPY_MODEL_136f167903664cc1a305d6152567b3db",
      "placeholder": "​",
      "style": "IPY_MODEL_9862f7a4450c4e1ba5fdf1099e9a912d",
      "value": "Validation DataLoader 0: 100%"
     }
    },
    "ebca2d4ab8fb46729b718f78edc3cf62": {
     "model_module": "@jupyter-widgets/controls",
     "model_module_version": "1.5.0",
     "model_name": "HTMLModel",
     "state": {
      "_dom_classes": [],
      "_model_module": "@jupyter-widgets/controls",
      "_model_module_version": "1.5.0",
      "_model_name": "HTMLModel",
      "_view_count": null,
      "_view_module": "@jupyter-widgets/controls",
      "_view_module_version": "1.5.0",
      "_view_name": "HTMLView",
      "description": "",
      "description_tooltip": null,
      "layout": "IPY_MODEL_18515b3ea04f474abc1786a7481d2c06",
      "placeholder": "​",
      "style": "IPY_MODEL_d4ae996c7ee240fc8f2449e859443cab",
      "value": "Validation DataLoader 0: 100%"
     }
    },
    "ebcc8461d22343c3aeb2ca69bb81bef9": {
     "model_module": "@jupyter-widgets/controls",
     "model_module_version": "1.5.0",
     "model_name": "ProgressStyleModel",
     "state": {
      "_model_module": "@jupyter-widgets/controls",
      "_model_module_version": "1.5.0",
      "_model_name": "ProgressStyleModel",
      "_view_count": null,
      "_view_module": "@jupyter-widgets/base",
      "_view_module_version": "1.2.0",
      "_view_name": "StyleView",
      "bar_color": null,
      "description_width": ""
     }
    },
    "ebec3ad832a74ba793d5396114414562": {
     "model_module": "@jupyter-widgets/base",
     "model_module_version": "1.2.0",
     "model_name": "LayoutModel",
     "state": {
      "_model_module": "@jupyter-widgets/base",
      "_model_module_version": "1.2.0",
      "_model_name": "LayoutModel",
      "_view_count": null,
      "_view_module": "@jupyter-widgets/base",
      "_view_module_version": "1.2.0",
      "_view_name": "LayoutView",
      "align_content": null,
      "align_items": null,
      "align_self": null,
      "border": null,
      "bottom": null,
      "display": null,
      "flex": null,
      "flex_flow": null,
      "grid_area": null,
      "grid_auto_columns": null,
      "grid_auto_flow": null,
      "grid_auto_rows": null,
      "grid_column": null,
      "grid_gap": null,
      "grid_row": null,
      "grid_template_areas": null,
      "grid_template_columns": null,
      "grid_template_rows": null,
      "height": null,
      "justify_content": null,
      "justify_items": null,
      "left": null,
      "margin": null,
      "max_height": null,
      "max_width": null,
      "min_height": null,
      "min_width": null,
      "object_fit": null,
      "object_position": null,
      "order": null,
      "overflow": null,
      "overflow_x": null,
      "overflow_y": null,
      "padding": null,
      "right": null,
      "top": null,
      "visibility": null,
      "width": null
     }
    },
    "ebf8df869acc4ac5822b77234bf1f441": {
     "model_module": "@jupyter-widgets/controls",
     "model_module_version": "1.5.0",
     "model_name": "DescriptionStyleModel",
     "state": {
      "_model_module": "@jupyter-widgets/controls",
      "_model_module_version": "1.5.0",
      "_model_name": "DescriptionStyleModel",
      "_view_count": null,
      "_view_module": "@jupyter-widgets/base",
      "_view_module_version": "1.2.0",
      "_view_name": "StyleView",
      "description_width": ""
     }
    },
    "ec4e2e08514f4996a23677f88c7613e8": {
     "model_module": "@jupyter-widgets/controls",
     "model_module_version": "1.5.0",
     "model_name": "HTMLModel",
     "state": {
      "_dom_classes": [],
      "_model_module": "@jupyter-widgets/controls",
      "_model_module_version": "1.5.0",
      "_model_name": "HTMLModel",
      "_view_count": null,
      "_view_module": "@jupyter-widgets/controls",
      "_view_module_version": "1.5.0",
      "_view_name": "HTMLView",
      "description": "",
      "description_tooltip": null,
      "layout": "IPY_MODEL_664d0b33100240048f3f5b7afaa8bf66",
      "placeholder": "​",
      "style": "IPY_MODEL_b1ea99cfe60a4b4ebf463c573f44ef49",
      "value": " 5/5 [00:01&lt;00:00,  3.92it/s]"
     }
    },
    "ecfa73ff58cf4b698dbad2c5376b07cc": {
     "model_module": "@jupyter-widgets/controls",
     "model_module_version": "1.5.0",
     "model_name": "FloatProgressModel",
     "state": {
      "_dom_classes": [],
      "_model_module": "@jupyter-widgets/controls",
      "_model_module_version": "1.5.0",
      "_model_name": "FloatProgressModel",
      "_view_count": null,
      "_view_module": "@jupyter-widgets/controls",
      "_view_module_version": "1.5.0",
      "_view_name": "ProgressView",
      "bar_style": "",
      "description": "",
      "description_tooltip": null,
      "layout": "IPY_MODEL_7aff097a34044f05b59e50d629f8dce7",
      "max": 5,
      "min": 0,
      "orientation": "horizontal",
      "style": "IPY_MODEL_243888612949479fbc6c3e82ec29a788",
      "value": 5
     }
    },
    "ed2a9fc7126140cabd1cbd63f1a2a4aa": {
     "model_module": "@jupyter-widgets/base",
     "model_module_version": "1.2.0",
     "model_name": "LayoutModel",
     "state": {
      "_model_module": "@jupyter-widgets/base",
      "_model_module_version": "1.2.0",
      "_model_name": "LayoutModel",
      "_view_count": null,
      "_view_module": "@jupyter-widgets/base",
      "_view_module_version": "1.2.0",
      "_view_name": "LayoutView",
      "align_content": null,
      "align_items": null,
      "align_self": null,
      "border": null,
      "bottom": null,
      "display": null,
      "flex": "2",
      "flex_flow": null,
      "grid_area": null,
      "grid_auto_columns": null,
      "grid_auto_flow": null,
      "grid_auto_rows": null,
      "grid_column": null,
      "grid_gap": null,
      "grid_row": null,
      "grid_template_areas": null,
      "grid_template_columns": null,
      "grid_template_rows": null,
      "height": null,
      "justify_content": null,
      "justify_items": null,
      "left": null,
      "margin": null,
      "max_height": null,
      "max_width": null,
      "min_height": null,
      "min_width": null,
      "object_fit": null,
      "object_position": null,
      "order": null,
      "overflow": null,
      "overflow_x": null,
      "overflow_y": null,
      "padding": null,
      "right": null,
      "top": null,
      "visibility": null,
      "width": null
     }
    },
    "ed53c23815874fcdbe92a669ef33b451": {
     "model_module": "@jupyter-widgets/controls",
     "model_module_version": "1.5.0",
     "model_name": "DescriptionStyleModel",
     "state": {
      "_model_module": "@jupyter-widgets/controls",
      "_model_module_version": "1.5.0",
      "_model_name": "DescriptionStyleModel",
      "_view_count": null,
      "_view_module": "@jupyter-widgets/base",
      "_view_module_version": "1.2.0",
      "_view_name": "StyleView",
      "description_width": ""
     }
    },
    "ed6b162990ea4937a5e013cd2ee4641f": {
     "model_module": "@jupyter-widgets/controls",
     "model_module_version": "1.5.0",
     "model_name": "HTMLModel",
     "state": {
      "_dom_classes": [],
      "_model_module": "@jupyter-widgets/controls",
      "_model_module_version": "1.5.0",
      "_model_name": "HTMLModel",
      "_view_count": null,
      "_view_module": "@jupyter-widgets/controls",
      "_view_module_version": "1.5.0",
      "_view_name": "HTMLView",
      "description": "",
      "description_tooltip": null,
      "layout": "IPY_MODEL_09aee179224b421a82efa9e442aec8e5",
      "placeholder": "​",
      "style": "IPY_MODEL_cca3361430d74b5c88dc75ccda81b1c7",
      "value": " 5/5 [00:01&lt;00:00,  3.92it/s]"
     }
    },
    "ede39778212a4305bcf11fac1f52a897": {
     "model_module": "@jupyter-widgets/controls",
     "model_module_version": "1.5.0",
     "model_name": "DescriptionStyleModel",
     "state": {
      "_model_module": "@jupyter-widgets/controls",
      "_model_module_version": "1.5.0",
      "_model_name": "DescriptionStyleModel",
      "_view_count": null,
      "_view_module": "@jupyter-widgets/base",
      "_view_module_version": "1.2.0",
      "_view_name": "StyleView",
      "description_width": ""
     }
    },
    "ee1aca3a2a0c481bb530c03c6fedb6f4": {
     "model_module": "@jupyter-widgets/controls",
     "model_module_version": "1.5.0",
     "model_name": "DescriptionStyleModel",
     "state": {
      "_model_module": "@jupyter-widgets/controls",
      "_model_module_version": "1.5.0",
      "_model_name": "DescriptionStyleModel",
      "_view_count": null,
      "_view_module": "@jupyter-widgets/base",
      "_view_module_version": "1.2.0",
      "_view_name": "StyleView",
      "description_width": ""
     }
    },
    "ef7acba7ba8c46d59da947c182d91488": {
     "model_module": "@jupyter-widgets/controls",
     "model_module_version": "1.5.0",
     "model_name": "HTMLModel",
     "state": {
      "_dom_classes": [],
      "_model_module": "@jupyter-widgets/controls",
      "_model_module_version": "1.5.0",
      "_model_name": "HTMLModel",
      "_view_count": null,
      "_view_module": "@jupyter-widgets/controls",
      "_view_module_version": "1.5.0",
      "_view_name": "HTMLView",
      "description": "",
      "description_tooltip": null,
      "layout": "IPY_MODEL_315d7c310a5f4f20b312c494240242b4",
      "placeholder": "​",
      "style": "IPY_MODEL_73b8913d973d4984b8b6b7683ffdd745",
      "value": " 5/5 [00:01&lt;00:00,  3.92it/s]"
     }
    },
    "efb25c55e9264aa9abcfe476a1590df1": {
     "model_module": "@jupyter-widgets/controls",
     "model_module_version": "1.5.0",
     "model_name": "HTMLModel",
     "state": {
      "_dom_classes": [],
      "_model_module": "@jupyter-widgets/controls",
      "_model_module_version": "1.5.0",
      "_model_name": "HTMLModel",
      "_view_count": null,
      "_view_module": "@jupyter-widgets/controls",
      "_view_module_version": "1.5.0",
      "_view_name": "HTMLView",
      "description": "",
      "description_tooltip": null,
      "layout": "IPY_MODEL_8b87b87273da4372a4f5f932c1f71b2b",
      "placeholder": "​",
      "style": "IPY_MODEL_b388d5f4aa5e46cfbe1c318567070537",
      "value": "Validation DataLoader 0: 100%"
     }
    },
    "efcfeabb4dad487eb1c6b35b911b8a41": {
     "model_module": "@jupyter-widgets/controls",
     "model_module_version": "1.5.0",
     "model_name": "HBoxModel",
     "state": {
      "_dom_classes": [],
      "_model_module": "@jupyter-widgets/controls",
      "_model_module_version": "1.5.0",
      "_model_name": "HBoxModel",
      "_view_count": null,
      "_view_module": "@jupyter-widgets/controls",
      "_view_module_version": "1.5.0",
      "_view_name": "HBoxView",
      "box_style": "",
      "children": [
       "IPY_MODEL_1fd8a23bc21c4e68b8ba7863b393d8ce",
       "IPY_MODEL_c2b353191a90442a9bdc629fc3869739",
       "IPY_MODEL_ad7d33ad6bab4723b64094248756582c"
      ],
      "layout": "IPY_MODEL_fa7e8af79c0e42fca678487abb38b44b"
     }
    },
    "f1a24453e219448bac5850cd17271f6c": {
     "model_module": "@jupyter-widgets/controls",
     "model_module_version": "1.5.0",
     "model_name": "DescriptionStyleModel",
     "state": {
      "_model_module": "@jupyter-widgets/controls",
      "_model_module_version": "1.5.0",
      "_model_name": "DescriptionStyleModel",
      "_view_count": null,
      "_view_module": "@jupyter-widgets/base",
      "_view_module_version": "1.2.0",
      "_view_name": "StyleView",
      "description_width": ""
     }
    },
    "f257d917d1534976bd61eeb01620285a": {
     "model_module": "@jupyter-widgets/controls",
     "model_module_version": "1.5.0",
     "model_name": "HTMLModel",
     "state": {
      "_dom_classes": [],
      "_model_module": "@jupyter-widgets/controls",
      "_model_module_version": "1.5.0",
      "_model_name": "HTMLModel",
      "_view_count": null,
      "_view_module": "@jupyter-widgets/controls",
      "_view_module_version": "1.5.0",
      "_view_name": "HTMLView",
      "description": "",
      "description_tooltip": null,
      "layout": "IPY_MODEL_583f637b81624117bcc4c1d423f70180",
      "placeholder": "​",
      "style": "IPY_MODEL_a442a78280c74a4bb83ace986075192f",
      "value": " 2/2 [00:06&lt;00:00,  3.30s/it]"
     }
    },
    "f28f148c85a2404bbc187b6a653cf65c": {
     "model_module": "@jupyter-widgets/controls",
     "model_module_version": "1.5.0",
     "model_name": "HBoxModel",
     "state": {
      "_dom_classes": [],
      "_model_module": "@jupyter-widgets/controls",
      "_model_module_version": "1.5.0",
      "_model_name": "HBoxModel",
      "_view_count": null,
      "_view_module": "@jupyter-widgets/controls",
      "_view_module_version": "1.5.0",
      "_view_name": "HBoxView",
      "box_style": "",
      "children": [
       "IPY_MODEL_7753d5ec99014c39817137f21035c35c",
       "IPY_MODEL_9f41f7d773714bb89c61c6ab63e6d151",
       "IPY_MODEL_3f066440360a4d3eb597a0c087063a58"
      ],
      "layout": "IPY_MODEL_d6027b7003f94360969e9400527c0655"
     }
    },
    "f2acb4589d4840e8ba71664e09591848": {
     "model_module": "@jupyter-widgets/controls",
     "model_module_version": "1.5.0",
     "model_name": "DescriptionStyleModel",
     "state": {
      "_model_module": "@jupyter-widgets/controls",
      "_model_module_version": "1.5.0",
      "_model_name": "DescriptionStyleModel",
      "_view_count": null,
      "_view_module": "@jupyter-widgets/base",
      "_view_module_version": "1.2.0",
      "_view_name": "StyleView",
      "description_width": ""
     }
    },
    "f300f0b26c164085a4f08ac676b7733d": {
     "model_module": "@jupyter-widgets/base",
     "model_module_version": "1.2.0",
     "model_name": "LayoutModel",
     "state": {
      "_model_module": "@jupyter-widgets/base",
      "_model_module_version": "1.2.0",
      "_model_name": "LayoutModel",
      "_view_count": null,
      "_view_module": "@jupyter-widgets/base",
      "_view_module_version": "1.2.0",
      "_view_name": "LayoutView",
      "align_content": null,
      "align_items": null,
      "align_self": null,
      "border": null,
      "bottom": null,
      "display": null,
      "flex": null,
      "flex_flow": null,
      "grid_area": null,
      "grid_auto_columns": null,
      "grid_auto_flow": null,
      "grid_auto_rows": null,
      "grid_column": null,
      "grid_gap": null,
      "grid_row": null,
      "grid_template_areas": null,
      "grid_template_columns": null,
      "grid_template_rows": null,
      "height": null,
      "justify_content": null,
      "justify_items": null,
      "left": null,
      "margin": null,
      "max_height": null,
      "max_width": null,
      "min_height": null,
      "min_width": null,
      "object_fit": null,
      "object_position": null,
      "order": null,
      "overflow": null,
      "overflow_x": null,
      "overflow_y": null,
      "padding": null,
      "right": null,
      "top": null,
      "visibility": null,
      "width": null
     }
    },
    "f325755de3ef4efb8153bf254cf6bec4": {
     "model_module": "@jupyter-widgets/controls",
     "model_module_version": "1.5.0",
     "model_name": "DescriptionStyleModel",
     "state": {
      "_model_module": "@jupyter-widgets/controls",
      "_model_module_version": "1.5.0",
      "_model_name": "DescriptionStyleModel",
      "_view_count": null,
      "_view_module": "@jupyter-widgets/base",
      "_view_module_version": "1.2.0",
      "_view_name": "StyleView",
      "description_width": ""
     }
    },
    "f3a3691ad6dd419e971616b875107033": {
     "model_module": "@jupyter-widgets/controls",
     "model_module_version": "1.5.0",
     "model_name": "DescriptionStyleModel",
     "state": {
      "_model_module": "@jupyter-widgets/controls",
      "_model_module_version": "1.5.0",
      "_model_name": "DescriptionStyleModel",
      "_view_count": null,
      "_view_module": "@jupyter-widgets/base",
      "_view_module_version": "1.2.0",
      "_view_name": "StyleView",
      "description_width": ""
     }
    },
    "f49ef09e48524f1c9454c7d1e30b325d": {
     "model_module": "@jupyter-widgets/controls",
     "model_module_version": "1.5.0",
     "model_name": "ProgressStyleModel",
     "state": {
      "_model_module": "@jupyter-widgets/controls",
      "_model_module_version": "1.5.0",
      "_model_name": "ProgressStyleModel",
      "_view_count": null,
      "_view_module": "@jupyter-widgets/base",
      "_view_module_version": "1.2.0",
      "_view_name": "StyleView",
      "bar_color": null,
      "description_width": ""
     }
    },
    "f59f7cc379aa49519e0f5c5a30e694f6": {
     "model_module": "@jupyter-widgets/controls",
     "model_module_version": "1.5.0",
     "model_name": "DescriptionStyleModel",
     "state": {
      "_model_module": "@jupyter-widgets/controls",
      "_model_module_version": "1.5.0",
      "_model_name": "DescriptionStyleModel",
      "_view_count": null,
      "_view_module": "@jupyter-widgets/base",
      "_view_module_version": "1.2.0",
      "_view_name": "StyleView",
      "description_width": ""
     }
    },
    "f5c7a06d3de84d79964dbd879322eec1": {
     "model_module": "@jupyter-widgets/base",
     "model_module_version": "1.2.0",
     "model_name": "LayoutModel",
     "state": {
      "_model_module": "@jupyter-widgets/base",
      "_model_module_version": "1.2.0",
      "_model_name": "LayoutModel",
      "_view_count": null,
      "_view_module": "@jupyter-widgets/base",
      "_view_module_version": "1.2.0",
      "_view_name": "LayoutView",
      "align_content": null,
      "align_items": null,
      "align_self": null,
      "border": null,
      "bottom": null,
      "display": null,
      "flex": null,
      "flex_flow": null,
      "grid_area": null,
      "grid_auto_columns": null,
      "grid_auto_flow": null,
      "grid_auto_rows": null,
      "grid_column": null,
      "grid_gap": null,
      "grid_row": null,
      "grid_template_areas": null,
      "grid_template_columns": null,
      "grid_template_rows": null,
      "height": null,
      "justify_content": null,
      "justify_items": null,
      "left": null,
      "margin": null,
      "max_height": null,
      "max_width": null,
      "min_height": null,
      "min_width": null,
      "object_fit": null,
      "object_position": null,
      "order": null,
      "overflow": null,
      "overflow_x": null,
      "overflow_y": null,
      "padding": null,
      "right": null,
      "top": null,
      "visibility": null,
      "width": null
     }
    },
    "f5e0845a75914cb89d95b5ab6035b319": {
     "model_module": "@jupyter-widgets/controls",
     "model_module_version": "1.5.0",
     "model_name": "HTMLModel",
     "state": {
      "_dom_classes": [],
      "_model_module": "@jupyter-widgets/controls",
      "_model_module_version": "1.5.0",
      "_model_name": "HTMLModel",
      "_view_count": null,
      "_view_module": "@jupyter-widgets/controls",
      "_view_module_version": "1.5.0",
      "_view_name": "HTMLView",
      "description": "",
      "description_tooltip": null,
      "layout": "IPY_MODEL_7b153e8f11f848959a85045a5d20cdb8",
      "placeholder": "​",
      "style": "IPY_MODEL_f6bf393447dc4037a27e2072c7a6663b",
      "value": " 5/5 [00:01&lt;00:00,  4.09it/s]"
     }
    },
    "f6bf393447dc4037a27e2072c7a6663b": {
     "model_module": "@jupyter-widgets/controls",
     "model_module_version": "1.5.0",
     "model_name": "DescriptionStyleModel",
     "state": {
      "_model_module": "@jupyter-widgets/controls",
      "_model_module_version": "1.5.0",
      "_model_name": "DescriptionStyleModel",
      "_view_count": null,
      "_view_module": "@jupyter-widgets/base",
      "_view_module_version": "1.2.0",
      "_view_name": "StyleView",
      "description_width": ""
     }
    },
    "f7addeb82ddc44fc96259286bcead7fc": {
     "model_module": "@jupyter-widgets/controls",
     "model_module_version": "1.5.0",
     "model_name": "ProgressStyleModel",
     "state": {
      "_model_module": "@jupyter-widgets/controls",
      "_model_module_version": "1.5.0",
      "_model_name": "ProgressStyleModel",
      "_view_count": null,
      "_view_module": "@jupyter-widgets/base",
      "_view_module_version": "1.2.0",
      "_view_name": "StyleView",
      "bar_color": null,
      "description_width": ""
     }
    },
    "f89c03fb1a7145cbb20dbf9d453577a4": {
     "model_module": "@jupyter-widgets/controls",
     "model_module_version": "1.5.0",
     "model_name": "FloatProgressModel",
     "state": {
      "_dom_classes": [],
      "_model_module": "@jupyter-widgets/controls",
      "_model_module_version": "1.5.0",
      "_model_name": "FloatProgressModel",
      "_view_count": null,
      "_view_module": "@jupyter-widgets/controls",
      "_view_module_version": "1.5.0",
      "_view_name": "ProgressView",
      "bar_style": "",
      "description": "",
      "description_tooltip": null,
      "layout": "IPY_MODEL_a371022b96974e55a50d01c658daf414",
      "max": 5,
      "min": 0,
      "orientation": "horizontal",
      "style": "IPY_MODEL_2d9a20b13db74414bc4dd71da45926cd",
      "value": 5
     }
    },
    "f8a0869905c74c9198274545c38ecf93": {
     "model_module": "@jupyter-widgets/base",
     "model_module_version": "1.2.0",
     "model_name": "LayoutModel",
     "state": {
      "_model_module": "@jupyter-widgets/base",
      "_model_module_version": "1.2.0",
      "_model_name": "LayoutModel",
      "_view_count": null,
      "_view_module": "@jupyter-widgets/base",
      "_view_module_version": "1.2.0",
      "_view_name": "LayoutView",
      "align_content": null,
      "align_items": null,
      "align_self": null,
      "border": null,
      "bottom": null,
      "display": "inline-flex",
      "flex": null,
      "flex_flow": "row wrap",
      "grid_area": null,
      "grid_auto_columns": null,
      "grid_auto_flow": null,
      "grid_auto_rows": null,
      "grid_column": null,
      "grid_gap": null,
      "grid_row": null,
      "grid_template_areas": null,
      "grid_template_columns": null,
      "grid_template_rows": null,
      "height": null,
      "justify_content": null,
      "justify_items": null,
      "left": null,
      "margin": null,
      "max_height": null,
      "max_width": null,
      "min_height": null,
      "min_width": null,
      "object_fit": null,
      "object_position": null,
      "order": null,
      "overflow": null,
      "overflow_x": null,
      "overflow_y": null,
      "padding": null,
      "right": null,
      "top": null,
      "visibility": "hidden",
      "width": "100%"
     }
    },
    "f9e9fd00891146e68a950c02a5207dde": {
     "model_module": "@jupyter-widgets/controls",
     "model_module_version": "1.5.0",
     "model_name": "FloatProgressModel",
     "state": {
      "_dom_classes": [],
      "_model_module": "@jupyter-widgets/controls",
      "_model_module_version": "1.5.0",
      "_model_name": "FloatProgressModel",
      "_view_count": null,
      "_view_module": "@jupyter-widgets/controls",
      "_view_module_version": "1.5.0",
      "_view_name": "ProgressView",
      "bar_style": "",
      "description": "",
      "description_tooltip": null,
      "layout": "IPY_MODEL_e5c70b4231754277839b684ddfbd4199",
      "max": 5,
      "min": 0,
      "orientation": "horizontal",
      "style": "IPY_MODEL_80ae35e65d5b4625affa6a65ee75c18d",
      "value": 5
     }
    },
    "fa7e8af79c0e42fca678487abb38b44b": {
     "model_module": "@jupyter-widgets/base",
     "model_module_version": "1.2.0",
     "model_name": "LayoutModel",
     "state": {
      "_model_module": "@jupyter-widgets/base",
      "_model_module_version": "1.2.0",
      "_model_name": "LayoutModel",
      "_view_count": null,
      "_view_module": "@jupyter-widgets/base",
      "_view_module_version": "1.2.0",
      "_view_name": "LayoutView",
      "align_content": null,
      "align_items": null,
      "align_self": null,
      "border": null,
      "bottom": null,
      "display": "inline-flex",
      "flex": null,
      "flex_flow": "row wrap",
      "grid_area": null,
      "grid_auto_columns": null,
      "grid_auto_flow": null,
      "grid_auto_rows": null,
      "grid_column": null,
      "grid_gap": null,
      "grid_row": null,
      "grid_template_areas": null,
      "grid_template_columns": null,
      "grid_template_rows": null,
      "height": null,
      "justify_content": null,
      "justify_items": null,
      "left": null,
      "margin": null,
      "max_height": null,
      "max_width": null,
      "min_height": null,
      "min_width": null,
      "object_fit": null,
      "object_position": null,
      "order": null,
      "overflow": null,
      "overflow_x": null,
      "overflow_y": null,
      "padding": null,
      "right": null,
      "top": null,
      "visibility": "hidden",
      "width": "100%"
     }
    },
    "fac39d94dcf84d4fbfe62754e59f9964": {
     "model_module": "@jupyter-widgets/controls",
     "model_module_version": "1.5.0",
     "model_name": "HTMLModel",
     "state": {
      "_dom_classes": [],
      "_model_module": "@jupyter-widgets/controls",
      "_model_module_version": "1.5.0",
      "_model_name": "HTMLModel",
      "_view_count": null,
      "_view_module": "@jupyter-widgets/controls",
      "_view_module_version": "1.5.0",
      "_view_name": "HTMLView",
      "description": "",
      "description_tooltip": null,
      "layout": "IPY_MODEL_aa40217f94dd49ea9c7ea95770b15c7b",
      "placeholder": "​",
      "style": "IPY_MODEL_7541addcbfa549ebaa7db0580b0fd32a",
      "value": " 5/5 [00:01&lt;00:00,  3.86it/s]"
     }
    },
    "fae811e58a094e0d97a7117eca6e9ef9": {
     "model_module": "@jupyter-widgets/base",
     "model_module_version": "1.2.0",
     "model_name": "LayoutModel",
     "state": {
      "_model_module": "@jupyter-widgets/base",
      "_model_module_version": "1.2.0",
      "_model_name": "LayoutModel",
      "_view_count": null,
      "_view_module": "@jupyter-widgets/base",
      "_view_module_version": "1.2.0",
      "_view_name": "LayoutView",
      "align_content": null,
      "align_items": null,
      "align_self": null,
      "border": null,
      "bottom": null,
      "display": "inline-flex",
      "flex": null,
      "flex_flow": "row wrap",
      "grid_area": null,
      "grid_auto_columns": null,
      "grid_auto_flow": null,
      "grid_auto_rows": null,
      "grid_column": null,
      "grid_gap": null,
      "grid_row": null,
      "grid_template_areas": null,
      "grid_template_columns": null,
      "grid_template_rows": null,
      "height": null,
      "justify_content": null,
      "justify_items": null,
      "left": null,
      "margin": null,
      "max_height": null,
      "max_width": null,
      "min_height": null,
      "min_width": null,
      "object_fit": null,
      "object_position": null,
      "order": null,
      "overflow": null,
      "overflow_x": null,
      "overflow_y": null,
      "padding": null,
      "right": null,
      "top": null,
      "visibility": "hidden",
      "width": "100%"
     }
    },
    "fc61f7d5541f4a5c8ec1a36820e18155": {
     "model_module": "@jupyter-widgets/controls",
     "model_module_version": "1.5.0",
     "model_name": "HBoxModel",
     "state": {
      "_dom_classes": [],
      "_model_module": "@jupyter-widgets/controls",
      "_model_module_version": "1.5.0",
      "_model_name": "HBoxModel",
      "_view_count": null,
      "_view_module": "@jupyter-widgets/controls",
      "_view_module_version": "1.5.0",
      "_view_name": "HBoxView",
      "box_style": "",
      "children": [
       "IPY_MODEL_eb3ee1bdf8fc47f6a161dd3c42d83d47",
       "IPY_MODEL_2d02af2f77004d85b1a1610c3f155a55",
       "IPY_MODEL_cacc9f6639cf4f88bd752c688e443ca0"
      ],
      "layout": "IPY_MODEL_a6f32727bec14b29966e1961c3701653"
     }
    },
    "fc836cff85604fac876b151df28943e9": {
     "model_module": "@jupyter-widgets/base",
     "model_module_version": "1.2.0",
     "model_name": "LayoutModel",
     "state": {
      "_model_module": "@jupyter-widgets/base",
      "_model_module_version": "1.2.0",
      "_model_name": "LayoutModel",
      "_view_count": null,
      "_view_module": "@jupyter-widgets/base",
      "_view_module_version": "1.2.0",
      "_view_name": "LayoutView",
      "align_content": null,
      "align_items": null,
      "align_self": null,
      "border": null,
      "bottom": null,
      "display": "inline-flex",
      "flex": null,
      "flex_flow": "row wrap",
      "grid_area": null,
      "grid_auto_columns": null,
      "grid_auto_flow": null,
      "grid_auto_rows": null,
      "grid_column": null,
      "grid_gap": null,
      "grid_row": null,
      "grid_template_areas": null,
      "grid_template_columns": null,
      "grid_template_rows": null,
      "height": null,
      "justify_content": null,
      "justify_items": null,
      "left": null,
      "margin": null,
      "max_height": null,
      "max_width": null,
      "min_height": null,
      "min_width": null,
      "object_fit": null,
      "object_position": null,
      "order": null,
      "overflow": null,
      "overflow_x": null,
      "overflow_y": null,
      "padding": null,
      "right": null,
      "top": null,
      "visibility": "hidden",
      "width": "100%"
     }
    },
    "fc8dc3ef34354edf959d9e43b54f1aab": {
     "model_module": "@jupyter-widgets/controls",
     "model_module_version": "1.5.0",
     "model_name": "HTMLModel",
     "state": {
      "_dom_classes": [],
      "_model_module": "@jupyter-widgets/controls",
      "_model_module_version": "1.5.0",
      "_model_name": "HTMLModel",
      "_view_count": null,
      "_view_module": "@jupyter-widgets/controls",
      "_view_module_version": "1.5.0",
      "_view_name": "HTMLView",
      "description": "",
      "description_tooltip": null,
      "layout": "IPY_MODEL_6dda69ffd1374f5a93201337c8688cdd",
      "placeholder": "​",
      "style": "IPY_MODEL_9061bf230c0843c8943271e5e9290075",
      "value": " 5/5 [00:01&lt;00:00,  3.99it/s]"
     }
    },
    "fcb8995b63e045a39f70b49eb56ee8fe": {
     "model_module": "@jupyter-widgets/base",
     "model_module_version": "1.2.0",
     "model_name": "LayoutModel",
     "state": {
      "_model_module": "@jupyter-widgets/base",
      "_model_module_version": "1.2.0",
      "_model_name": "LayoutModel",
      "_view_count": null,
      "_view_module": "@jupyter-widgets/base",
      "_view_module_version": "1.2.0",
      "_view_name": "LayoutView",
      "align_content": null,
      "align_items": null,
      "align_self": null,
      "border": null,
      "bottom": null,
      "display": null,
      "flex": null,
      "flex_flow": null,
      "grid_area": null,
      "grid_auto_columns": null,
      "grid_auto_flow": null,
      "grid_auto_rows": null,
      "grid_column": null,
      "grid_gap": null,
      "grid_row": null,
      "grid_template_areas": null,
      "grid_template_columns": null,
      "grid_template_rows": null,
      "height": null,
      "justify_content": null,
      "justify_items": null,
      "left": null,
      "margin": null,
      "max_height": null,
      "max_width": null,
      "min_height": null,
      "min_width": null,
      "object_fit": null,
      "object_position": null,
      "order": null,
      "overflow": null,
      "overflow_x": null,
      "overflow_y": null,
      "padding": null,
      "right": null,
      "top": null,
      "visibility": null,
      "width": null
     }
    },
    "fd2667a33b17440b85425ce823dffbf6": {
     "model_module": "@jupyter-widgets/controls",
     "model_module_version": "1.5.0",
     "model_name": "HTMLModel",
     "state": {
      "_dom_classes": [],
      "_model_module": "@jupyter-widgets/controls",
      "_model_module_version": "1.5.0",
      "_model_name": "HTMLModel",
      "_view_count": null,
      "_view_module": "@jupyter-widgets/controls",
      "_view_module_version": "1.5.0",
      "_view_name": "HTMLView",
      "description": "",
      "description_tooltip": null,
      "layout": "IPY_MODEL_29b52eb7f7064e43a6b75a68defc56d9",
      "placeholder": "​",
      "style": "IPY_MODEL_b20f01117b0d4d178482e950b43f95e5",
      "value": "Validation DataLoader 0: 100%"
     }
    },
    "fdff95febae14c56a5e6fce8ee2953a8": {
     "model_module": "@jupyter-widgets/controls",
     "model_module_version": "1.5.0",
     "model_name": "HBoxModel",
     "state": {
      "_dom_classes": [],
      "_model_module": "@jupyter-widgets/controls",
      "_model_module_version": "1.5.0",
      "_model_name": "HBoxModel",
      "_view_count": null,
      "_view_module": "@jupyter-widgets/controls",
      "_view_module_version": "1.5.0",
      "_view_name": "HBoxView",
      "box_style": "",
      "children": [
       "IPY_MODEL_37e47d9a4f4e4320823c3a05d7d5cf38",
       "IPY_MODEL_367440c48a1b4ef6a38739d142170aa2",
       "IPY_MODEL_d1a75db46ebd4e809bb1ddffca3e172f"
      ],
      "layout": "IPY_MODEL_a5ac1afaec944e2a9aa925e27d2ea68b"
     }
    },
    "fe967ffeedd24e1f89083bdd6bfb6ee7": {
     "model_module": "@jupyter-widgets/base",
     "model_module_version": "1.2.0",
     "model_name": "LayoutModel",
     "state": {
      "_model_module": "@jupyter-widgets/base",
      "_model_module_version": "1.2.0",
      "_model_name": "LayoutModel",
      "_view_count": null,
      "_view_module": "@jupyter-widgets/base",
      "_view_module_version": "1.2.0",
      "_view_name": "LayoutView",
      "align_content": null,
      "align_items": null,
      "align_self": null,
      "border": null,
      "bottom": null,
      "display": null,
      "flex": null,
      "flex_flow": null,
      "grid_area": null,
      "grid_auto_columns": null,
      "grid_auto_flow": null,
      "grid_auto_rows": null,
      "grid_column": null,
      "grid_gap": null,
      "grid_row": null,
      "grid_template_areas": null,
      "grid_template_columns": null,
      "grid_template_rows": null,
      "height": null,
      "justify_content": null,
      "justify_items": null,
      "left": null,
      "margin": null,
      "max_height": null,
      "max_width": null,
      "min_height": null,
      "min_width": null,
      "object_fit": null,
      "object_position": null,
      "order": null,
      "overflow": null,
      "overflow_x": null,
      "overflow_y": null,
      "padding": null,
      "right": null,
      "top": null,
      "visibility": null,
      "width": null
     }
    },
    "ffd642d9e6574d08b7b8730f7a679b4a": {
     "model_module": "@jupyter-widgets/controls",
     "model_module_version": "1.5.0",
     "model_name": "HTMLModel",
     "state": {
      "_dom_classes": [],
      "_model_module": "@jupyter-widgets/controls",
      "_model_module_version": "1.5.0",
      "_model_name": "HTMLModel",
      "_view_count": null,
      "_view_module": "@jupyter-widgets/controls",
      "_view_module_version": "1.5.0",
      "_view_name": "HTMLView",
      "description": "",
      "description_tooltip": null,
      "layout": "IPY_MODEL_f5c7a06d3de84d79964dbd879322eec1",
      "placeholder": "​",
      "style": "IPY_MODEL_8a40a94723414315a15614275eeba7f1",
      "value": "Validation DataLoader 0: 100%"
     }
    }
   }
  }
 },
 "nbformat": 4,
 "nbformat_minor": 4
}
