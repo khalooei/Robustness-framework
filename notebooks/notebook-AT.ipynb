{
 "cells": [
  {
   "cell_type": "code",
   "execution_count": 1,
   "metadata": {
    "colab": {
     "base_uri": "https://localhost:8080/"
    },
    "id": "i6_LijgtVYO_",
    "outputId": "3eedbe1a-8140-4461-a8a1-ba96861c0da3"
   },
   "outputs": [],
   "source": [
    "# !git clone https://github.com/khalooei/robustness-framework.git\n",
    "# %cd robustness-framework/"
   ]
  },
  {
   "cell_type": "code",
   "execution_count": 2,
   "metadata": {
    "colab": {
     "base_uri": "https://localhost:8080/",
     "height": 1000
    },
    "id": "b_B3Eq2CVujD",
    "outputId": "7f9991fd-f292-48a0-8aeb-d3fe5d438064",
    "scrolled": true
   },
   "outputs": [],
   "source": [
    "# !pip install lightning pytorch_lightning hydra-core lightning-bolts torchattacks torchmetrics mlxtend\n",
    "# !pip install git+https://github.com/fra31/auto-attack"
   ]
  },
  {
   "cell_type": "code",
   "execution_count": 3,
   "metadata": {
    "colab": {
     "base_uri": "https://localhost:8080/"
    },
    "id": "uGgpUzhuVZcp",
    "outputId": "599fc34a-0554-4e1c-abda-147a6665e560"
   },
   "outputs": [
    {
     "name": "stderr",
     "output_type": "stream",
     "text": [
      "/home/vru/workspace/ev/khpy3/lib/python3.10/site-packages/pl_bolts/models/self_supervised/amdim/amdim_module.py:34: UnderReviewWarning: The feature generate_power_seq is currently marked under review. The compatibility with other Lightning projects is not guaranteed and API may change at any time. The API and functionality may change without warning in future releases. More details: https://lightning-bolts.readthedocs.io/en/latest/stability.html\n",
      "  \"lr_options\": generate_power_seq(LEARNING_RATE_CIFAR, 11),\n",
      "/home/vru/workspace/ev/khpy3/lib/python3.10/site-packages/pl_bolts/models/self_supervised/amdim/amdim_module.py:92: UnderReviewWarning: The feature FeatureMapContrastiveTask is currently marked under review. The compatibility with other Lightning projects is not guaranteed and API may change at any time. The API and functionality may change without warning in future releases. More details: https://lightning-bolts.readthedocs.io/en/latest/stability.html\n",
      "  contrastive_task: Union[FeatureMapContrastiveTask] = FeatureMapContrastiveTask(\"01, 02, 11\"),\n",
      "/home/vru/workspace/ev/khpy3/lib/python3.10/site-packages/pl_bolts/losses/self_supervised_learning.py:228: UnderReviewWarning: The feature AmdimNCELoss is currently marked under review. The compatibility with other Lightning projects is not guaranteed and API may change at any time. The API and functionality may change without warning in future releases. More details: https://lightning-bolts.readthedocs.io/en/latest/stability.html\n",
      "  self.nce_loss = AmdimNCELoss(tclip)\n"
     ]
    }
   ],
   "source": [
    "from plmodel import *\n",
    "import omegaconf"
   ]
  },
  {
   "cell_type": "code",
   "execution_count": 4,
   "metadata": {
    "colab": {
     "base_uri": "https://localhost:8080/"
    },
    "id": "k3mg45SVXEYe",
    "outputId": "1d27aa56-928d-412a-dd20-b5715cb5ba34"
   },
   "outputs": [
    {
     "data": {
      "text/plain": [
       "{'dataset': 'CIFAR10', 'architecture': 'ResNet', 'devices': 'auto'}"
      ]
     },
     "execution_count": 4,
     "metadata": {},
     "output_type": "execute_result"
    }
   ],
   "source": [
    "cfg = omegaconf.OmegaConf.load('configs/training_cifar10.yaml')\n",
    "# cfg = omegaconf.OmegaConf.load('configs/training_mnist.yaml')\n",
    "\n",
    "cfg.global_params.devices='auto'  # you can modify it manually here\n",
    "cfg.training_params.epoch=200\n",
    "cfg.training_params.dataloader_workers=32\n",
    "cfg.global_params"
   ]
  },
  {
   "cell_type": "code",
   "execution_count": 5,
   "metadata": {
    "colab": {
     "base_uri": "https://localhost:8080/"
    },
    "id": "zt3iCdz9XQKn",
    "outputId": "3c0a1212-c7fe-45af-f4fa-051fbf275264"
   },
   "outputs": [
    {
     "name": "stdout",
     "output_type": "stream",
     "text": [
      "defaults:\n",
      "- _self_\n",
      "- override hydra/hydra_logging: disabled\n",
      "- override hydra/job_logging: disabled\n",
      "hydra:\n",
      "  output_subdir: null\n",
      "  run:\n",
      "    dir: .\n",
      "global_params:\n",
      "  dataset: CIFAR10\n",
      "  architecture: ResNet\n",
      "  devices: auto\n",
      "training_params:\n",
      "  epoch: 200\n",
      "  batch_size: 1024\n",
      "  dataloader_workers: 32\n",
      "  type: AT\n",
      "  note: ''\n",
      "  lr: 0.05\n",
      "adversarial_training_params:\n",
      "  eps: 0.03\n",
      "  name: PGD\n",
      "\n"
     ]
    }
   ],
   "source": [
    "print(OmegaConf.to_yaml(cfg))"
   ]
  },
  {
   "cell_type": "code",
   "execution_count": 6,
   "metadata": {
    "id": "MShdfUbkXak1"
   },
   "outputs": [],
   "source": [
    "# prepare name of current execution\n",
    "s_dir_name = f\"{cfg.global_params.dataset}-{cfg.global_params.architecture}-{cfg.training_params.type}_e{cfg.training_params.epoch}_note-{cfg.training_params.note}_\"\n",
    "if cfg.training_params.type == \"AT\":\n",
    "    s_dir_name+=f\"{cfg.adversarial_training_params.name}_eps{cfg.adversarial_training_params.eps}\"\n",
    "\n",
    "\n",
    "# configure logging on module level, redirect to file\n",
    "p = pathlib.Path(f'logs/{s_dir_name}')\n",
    "p.mkdir(parents=True, exist_ok=True)\n",
    "consolelogger = logging.getLogger(\"lightning.pytorch.core\")\n",
    "# consolelogger.addHandler(logging.FileHandler(f\"logs/{s_dir_name}/core.log\"))\n",
    "\n",
    "s_experiment_starting_time = f\"{time.strftime('%Y%m%d%H%M%S')}\""
   ]
  },
  {
   "cell_type": "code",
   "execution_count": 7,
   "metadata": {
    "id": "pwvCIEyHXk4-"
   },
   "outputs": [],
   "source": [
    "callbacks = [\n",
    "    # save_top_k -> save the best model   >>>  best model is max in val_acc\n",
    "    LearningRateMonitor(logging_interval=\"step\"),\n",
    "    ModelCheckpoint(save_top_k=2, mode=\"max\", monitor=\"clean_val_acc\"),  # saved best model based on Maximize the validation accuracy\n",
    "    CustomTimeCallback(),\n",
    "]"
   ]
  },
  {
   "cell_type": "code",
   "execution_count": 8,
   "metadata": {
    "colab": {
     "base_uri": "https://localhost:8080/"
    },
    "id": "XzC-jnhGVtUv",
    "outputId": "34cc1223-b4d8-47e8-9aaa-f84d07faf50c"
   },
   "outputs": [
    {
     "name": "stderr",
     "output_type": "stream",
     "text": [
      "/home/vru/workspace/ev/khpy3/lib/python3.10/site-packages/torchvision/models/_utils.py:208: UserWarning: The parameter 'pretrained' is deprecated since 0.13 and may be removed in the future, please use 'weights' instead.\n",
      "  warnings.warn(\n",
      "/home/vru/workspace/ev/khpy3/lib/python3.10/site-packages/torchvision/models/_utils.py:223: UserWarning: Arguments other than a weight enum or `None` for 'weights' are deprecated since 0.13 and may be removed in the future. The current behavior is equivalent to passing `weights=None`.\n",
      "  warnings.warn(msg)\n"
     ]
    }
   ],
   "source": [
    "# load model\n",
    "model = PLModel(cfg)"
   ]
  },
  {
   "cell_type": "code",
   "execution_count": 9,
   "metadata": {
    "id": "CNdQOMjkXUSz"
   },
   "outputs": [
    {
     "name": "stderr",
     "output_type": "stream",
     "text": [
      "/home/vru/workspace/ev/khpy3/lib/python3.10/site-packages/pytorch_lightning/trainer/connectors/accelerator_connector.py:478: Setting `Trainer(gpus=1)` is deprecated in v1.7 and will be removed in v2.0. Please use `Trainer(accelerator='gpu', devices=1)` instead.\n",
      "/home/vru/workspace/ev/khpy3/lib/python3.10/site-packages/pytorch_lightning/trainer/connectors/accelerator_connector.py:498: The flag `devices=auto` will be ignored, instead the device specific number 1 will be used\n"
     ]
    }
   ],
   "source": [
    "# Initiate our train/inference handler\n",
    "trainer = pl.Trainer(max_epochs=cfg.training_params.epoch,\n",
    "                    devices=cfg.global_params.devices,\n",
    "                    num_nodes=1,\n",
    "                    gpus=1,\n",
    "                    # strategy= \"ddp_notebook\", #ddp_notebook for jupyter and \"ddp\" for PC/server\n",
    "                    callbacks=callbacks,\n",
    "                    logger=[CSVLogger(save_dir=f'logs/{s_dir_name}/',version=s_experiment_starting_time),\n",
    "                            TensorBoardLogger(f'logs/{s_dir_name}/',version=s_experiment_starting_time),\n",
    "                            KhalooeiLoggingLogger(save_dir=f'logs/{s_dir_name}',version=s_experiment_starting_time),],\n",
    "                    accelerator='gpu', #reproducibility,\n",
    "                    deterministic=True, #reproducibility,\n",
    "                    inference_mode=False,\n",
    "                    # auto_lr_find = True # to find better lr\n",
    "                    )"
   ]
  },
  {
   "cell_type": "code",
   "execution_count": 10,
   "metadata": {
    "id": "nexca_sPY24c"
   },
   "outputs": [],
   "source": [
    "# tuning\n",
    "# from pytorch_lightning.tuner.tuning import Tuner\n",
    "# tuner = Tuner(trainer)\n",
    "# # lr_finder= tuner.lr_find(model, datamodule=model.train_dataloader())"
   ]
  },
  {
   "cell_type": "code",
   "execution_count": 11,
   "metadata": {
    "colab": {
     "base_uri": "https://localhost:8080/",
     "height": 1000,
     "referenced_widgets": [
      "d651a429c6544dc18278364150157687",
      "0a2313c4b0c44e4a9845f2b6e5421564",
      "e5e366ab572c45229af71307c34e871d",
      "f257d917d1534976bd61eeb01620285a",
      "d8ebb2910ad8477ba4e30538cf5d2946",
      "160b0054af4441e786f83c7fd1f72908",
      "af311951ba2f401a93c3e3dbcd1ae246",
      "5f6a338373124c2ea5030f3ad260554f",
      "3f5a7b101980496e8c885c6bb9452db6",
      "583f637b81624117bcc4c1d423f70180",
      "a442a78280c74a4bb83ace986075192f",
      "2c9e24827b464e4883dce5e0a2c50953",
      "e8ae08bc35c046a2a7292a5c12487932",
      "7466b26378f6410bb0a23de5a3b815d9",
      "11023a329fd04648b20e2d74bd6494a0",
      "8d9c8168dd6849a9a69c117be6b79fc7",
      "56d1301230e74eab85a0d0871ce81513",
      "8d1a6fce1d7e46b7a95f484e85327fd3",
      "60398f6c25514bb2b14e964ad96b51e7",
      "b72703a21af84b1cab0b93b52ef5fbdf",
      "f300f0b26c164085a4f08ac676b7733d",
      "63025e6b35f74b60a142fb50355d1755",
      "a7034cdf101343ae9a71cccc1ce7bb2f",
      "2cf095c88254427ebe89c4bdeeff0aec",
      "21ef7cf7ecba4a68bd2d2eaf57605e75",
      "d1e3fceb1f524d75ae1105276796145f",
      "2775dacbcc5047699a456895d0247133",
      "8a8c62bc988d4b6aa49cb990838b3042",
      "e3e444211223414881d96f08b5a6d9b3",
      "8463b8d1a4364eee809f2434d0bbad0c",
      "ab2ac2734dbe4d5b84b5be8254669e83",
      "5c6cd76c7034426d8cc9537c1123f419",
      "f1a24453e219448bac5850cd17271f6c",
      "d4697f438c9f4a51bd41e716f5b0e50b",
      "98d12d98b5aa40adbb2f186207f437cf",
      "851401d9f6124311ae66b45559d2cf82",
      "08ce38df82f24627a520f26e52e0aa9a",
      "c5405cd5460c4ebd8300dfc5ad8d0e1b",
      "262a3f60a5254adebfed0c6cf6692638",
      "8271afe90f2b4018a4cdd5af4e4f3b32",
      "87f53ead0f344265b25d212ccb5bcc79",
      "dfb6b0cd7d384c2aa28dc3b2a133e2be",
      "3adeeb29bc484a45ba2d21e71c4ed8b0",
      "b6dce6b5ebdc4328a38affb285913904",
      "485ed2d693744f44a85883bb3a757295",
      "d3fea870e89a4c688064425bfed95079",
      "7185a448c0e94a02a1614b7c0d19a393",
      "60b194bbb0c74909a7d562c936e8e0f7",
      "92b7dc5621a24349876f1c2e53a2cda4",
      "dacdb6a6508c40beaddd33e3a44e6921",
      "c3c4cf8304bd4a3a9221e32eb9742179",
      "bb90bd571a4747aa9066215717c9b5df",
      "5c79d12a7f714252a58b426d2ba25ff5",
      "31bfcb8929394ad0897b92662d0b16d1",
      "f3a3691ad6dd419e971616b875107033",
      "36b820e9364c4b878ab4323963483dfc",
      "74ddef69bd2040208e1fa8adccb0d127",
      "b14c1d34676642e0a4e16a16155dc1cb",
      "b813ab4dad184a85be0b140c5201ea7e",
      "b7974f4a6663428d9f32983445757424",
      "68c61ca00cfa4a7b95b43d14abeebde0",
      "e0ae429db29c46eaa80a08281a8feae8",
      "ea97d3e5c34946caaa6fe7ff899e8c02",
      "90818edd06ea411883188ab51a6a73c3",
      "81e4a458744048848b57c5d4f5b650e9",
      "caeffeb004584087b864db288f546085",
      "68dda685f65a4ebcbc3655b5810d4acf",
      "ebca2d4ab8fb46729b718f78edc3cf62",
      "aef049213f944298b42e450d3e6c66e2",
      "b6b8b25ebc2b4f8dabb56914d74a67c5",
      "8740560e1e0f4e5487fe7b11cb488f57",
      "18515b3ea04f474abc1786a7481d2c06",
      "d4ae996c7ee240fc8f2449e859443cab",
      "e888ce31da1647abbfe61d4855d5d725",
      "15d539ce0ead4c5d8b25af072575f878",
      "d9cdaf093b2b4f268b49b46efc18b47c",
      "8be474dd03d4433186637812a1030291",
      "bb30180f88bd45d2930691fe952b53a6",
      "8fe8f2a8fa9b482e84e459379f07e0cc",
      "4ead11aa65484f99931f89fa11385023",
      "d6e5492a6fca4d51986cd8d254bb4f39",
      "0c18ad7b0c9c4027aaaa28cc3ac5f485",
      "3efe612df81c4faf8cdb7d30a53af7d8",
      "4dec577cdc25459ab92cf86e44498418",
      "21954171ea5a4a168f0caede02d5fff6",
      "cb4eea16301346dd8575b38a11c9ad58",
      "0984213b9c6640bcba1a06cceed06906",
      "6e6018bfdc2d4c7dbfa974719e2e0095",
      "6f9d66a94f82442995b76d314d807657",
      "c6b820fbf04d4a3198652a47d389fdec",
      "3a6b03a974fd47e2a2c3a724f425154c",
      "cc84247d3d744f2e94d5008196c71d8c",
      "fc836cff85604fac876b151df28943e9",
      "2beedea1ab4d43829db9aa35bf48fc95",
      "520bbbdadc4245e2ab5e4ff08aca94ba",
      "604c9a89b8ba41fab6d0025e92d2a4d3",
      "a6bbfdfac328424b90c7da5fd2a9c69f",
      "840fe65eab434d3ba124dae1eee2a2da",
      "81220a5f37544e5082af0cbf9bf7c20c",
      "efcfeabb4dad487eb1c6b35b911b8a41",
      "1fd8a23bc21c4e68b8ba7863b393d8ce",
      "c2b353191a90442a9bdc629fc3869739",
      "ad7d33ad6bab4723b64094248756582c",
      "fa7e8af79c0e42fca678487abb38b44b",
      "4a47fb4e036d42dea8723210038f5eea",
      "f2acb4589d4840e8ba71664e09591848",
      "35e20acdb70c4dc1940dfd1f21b81e7f",
      "b07774513ad3419f9635021e8defa6df",
      "2f59ebe7b846449787eb095b4d89dba6",
      "5c0654bdb08d4e61ad46c20184737417",
      "2847f48470cf45eba8223dcabe8f0251",
      "181090bd44064a4194903ac1f91ebde5",
      "d8479f44c01b4b7b96ae82fec443df77",
      "ed6b162990ea4937a5e013cd2ee4641f",
      "142bd771699f40ce82e76a71f0031e21",
      "8cb77b0f6d6944dfad76c65bbe29cd9c",
      "e76f11b3e7ea4ec0b48e418ce5f18521",
      "9165c1d7946c4abf8dbc0682a644edca",
      "369ac5264c1844e681dc4e2f99c91d6f",
      "09aee179224b421a82efa9e442aec8e5",
      "cca3361430d74b5c88dc75ccda81b1c7",
      "a67d297f05024d95b8e904fe643ea570",
      "94345e776b5845a7a73429ac05050cd8",
      "1e4958b407e947c0ae64c0e18a92cb9f",
      "bb5b122185544003a6765ff89a4e29d9",
      "0fbc9ba286f44f6facb2ebc36801416e",
      "fcb8995b63e045a39f70b49eb56ee8fe",
      "ebf8df869acc4ac5822b77234bf1f441",
      "410cd921f20a4ebf82b094319b849103",
      "97dea354c886408496cba61f679046c2",
      "435da79a1a584acea6830b4babb665b5",
      "188df5f6e2ee4fedade20644d903b55f",
      "ba907a3b8fcf433e8f21021a1d450ff7",
      "0a508efaca8148ac820c44544ca19f4c",
      "4331232c250c44929a253fd43124e2a0",
      "70412a4ce3f446b38e7f3408b85d1b02",
      "e7ee4c62e32c48bcac40de4b37f9bc5b",
      "c07b0bb493054088876820432902df1c",
      "51761f927a0843cea9e8d07bf0cc48cf",
      "5d39732b9cf443c5ac841040016944e8",
      "1a2f585628f7451198dc18b9bde7c65d",
      "42fccd221eb7493f91f211a1b55347fc",
      "3269cbc45fd54206ac2a3506999d5845",
      "b871a5ac74884f219b9abf2038594341",
      "488d422f35e24f2fbb2db8f2c95131fb",
      "de97f0ea10e94cb88f1ffa6e6ce87193",
      "fac39d94dcf84d4fbfe62754e59f9964",
      "afb99fbd76a94fe5b7c3daf735c6a719",
      "7a9de47127b541aa936c3d17f098f626",
      "54cf1553d06f4593a43ee901c0d7e093",
      "054d2e354d5a439da77b3508d52c466a",
      "becd3594726149be975ce7d91df16d6f",
      "aa40217f94dd49ea9c7ea95770b15c7b",
      "7541addcbfa549ebaa7db0580b0fd32a",
      "36e90cd10ea74bc0ae94094206a710c6",
      "8bd93a2f76134f9eb0d250dafe74df26",
      "9002d0eaca914fa8995cbd25749b1637",
      "78aface7d9644dbca023155422e11158",
      "a54977aa433f4e648da842134961ad0d",
      "9abe613cd57045b18782cccbfe64db7e",
      "ed53c23815874fcdbe92a669ef33b451",
      "df97b6cafb904cf0a1e304d874b89fd9",
      "05bc55504fd04279bd443494f0eff031",
      "b97c7e209b4742888e8ec75e2455a738",
      "ee1aca3a2a0c481bb530c03c6fedb6f4",
      "9db930f240124c45af811c88577e8256",
      "b597bcca357f44859c2246b7671a6a04",
      "be8353ec9005403f8742915614bae9ff",
      "f5e0845a75914cb89d95b5ab6035b319",
      "3dc82a058ead468ebdd07434cd88b925",
      "2744923e6a6d405fa43cbd41fe97885c",
      "445832e3ff014572b85803a2733fd881",
      "9aa8a28ef53e404182fef0544659e59a",
      "bb9172cc2df94e7aad119aa54545b995",
      "7b153e8f11f848959a85045a5d20cdb8",
      "f6bf393447dc4037a27e2072c7a6663b",
      "89ea0c0995da40cd9977bb00776cbfca",
      "7a5dd8fc8c9e4149ad1d7e3236a31f54",
      "47d6882af5e2453193b78f8db7d5ff47",
      "44b01ff2dbfc4691bd98dc3a9fc12926",
      "4c101adde46c47abac317f30860a3d77",
      "0bf422696c7749e3936af5d7c80391d4",
      "1d59c2bcb89b4af38e49e4d85723f4ac",
      "cca5cca3c5db4dc98cf0e53c8310b7c9",
      "d9f7da1ab6464937a72ab924f003c38f",
      "6f4727c4dc5c496492b0e4fd78cd3335",
      "37ae61c001ab4ad68bf855a42367dbac",
      "1d44bb29153c4bec8f9c62935e248f8c",
      "9d8fa59c84cf4673accf7e69b22618a2",
      "2f7104dc1f2f4ac092ce798bc7037f14",
      "c40e792f6d984b1faf64d5f7b8ce9867",
      "fae811e58a094e0d97a7117eca6e9ef9",
      "d08f9eb285034206b6980e106461c8dc",
      "b3778578536d47398eec333301a1656d",
      "ed2a9fc7126140cabd1cbd63f1a2a4aa",
      "64c29f538a314c90ac37a29c2e3cc6e8",
      "61203387f9e944029934dd106381e8fa",
      "21942ec409ba40ff91141a24a880ac12",
      "ac42a0b1a5e94339a1c4ca35842162c1",
      "8e1bcc23177c4f4585949ba840ccf267",
      "c6bb6f0afa1d438b9ec265da6071cf87",
      "307182085a1844a4b76fd24caec8311c",
      "b01dfc83a2cd4d7e85eddb534c750358",
      "037cedb4fcb64c8ca8cf5e312acf1573",
      "8144f52a8763445ea97d36636e1a9688",
      "00eb0b62b54d40998f9ca67be99face9",
      "dcb19b4ae8e74aaaa67222183f3dde74",
      "25f3646687fe4d908b2fe116caf8ade9",
      "f59f7cc379aa49519e0f5c5a30e694f6",
      "9d050693aefd465a8523d5820463ff8d",
      "d9c03f7b0f8546e4a5ba31462ae8f058",
      "0d484fa1b9674d40ac601d1456f36c43",
      "b32ec35b4cb44ccc9fed7d1f0bb7f310",
      "10b919d8fd3f4b1b85e922301711ce14",
      "278a561711a04d508baac180aea024d7",
      "78dda0bb6fdc4dbc968a3da00ad19931",
      "5973b91452c5418aa8de813354eefac8",
      "3b7d2de2abf04e41b30e534fc4412ca4",
      "e1cb56d74633446a84d046b4da6e55be",
      "d0e5790f12d24e08acd5f2f23319c754",
      "e2b5cc3a954942f38f5f2cbeed498f4b",
      "1d5d2a96e2a34e38a2fa3783a9a7a293",
      "f89c03fb1a7145cbb20dbf9d453577a4",
      "fc8dc3ef34354edf959d9e43b54f1aab",
      "0b609d01881248e5a716fb1ebeb66bb2",
      "e6ca10a80e0847f9a9d2492a661549be",
      "11a9154c1d25432d96a56d3592d279b6",
      "a371022b96974e55a50d01c658daf414",
      "2d9a20b13db74414bc4dd71da45926cd",
      "6dda69ffd1374f5a93201337c8688cdd",
      "9061bf230c0843c8943271e5e9290075",
      "fc61f7d5541f4a5c8ec1a36820e18155",
      "eb3ee1bdf8fc47f6a161dd3c42d83d47",
      "2d02af2f77004d85b1a1610c3f155a55",
      "cacc9f6639cf4f88bd752c688e443ca0",
      "a6f32727bec14b29966e1961c3701653",
      "136f167903664cc1a305d6152567b3db",
      "9862f7a4450c4e1ba5fdf1099e9a912d",
      "2837a28759a146ffa10dbfc5e09b1542",
      "1d239b20a2e64e448520dbfd5d74b9de",
      "7cabd2a7872e4dc78ffb18cf031eabf2",
      "c40f78bf576c4357b7f83177d07993dc",
      "9c0c4cf101d24abf9a1ccd4a1b9b934d",
      "e488a559d63a4129b5fe907c946daf7d",
      "f9e9fd00891146e68a950c02a5207dde",
      "1fe29e4fbbbe4d839f6ed1f1a92ffd7e",
      "e5d32a28f44343cebdbfe27e74483c44",
      "1b2dc79d7d894e70b50fccd09f470324",
      "db63f3e56d8b45f7937b7f8a46f86666",
      "e5c70b4231754277839b684ddfbd4199",
      "80ae35e65d5b4625affa6a65ee75c18d",
      "68b259acfdac4dd89d68e000c80d396a",
      "9785b7feb6704d3e8cc948ab27ac5bbd",
      "d3b6b5df07c0407b8a576f70751cfb2a",
      "105f11418ff94cfda81a9cc08e1f6b94",
      "b17e497194a54cf4b0aa34c2d0a3df58",
      "dc15cf3a75be48fa936eae6acbab7223",
      "0735efb868c14ef7bfaa4a5eddb257b4",
      "97ee019aabc14c46aff31793386da94a",
      "7339266c19ef4dbf97479a72d9c3faf5",
      "e715f30a031e4bc992b4629bfa82067d",
      "d85cc207423c449ca34e40bdfba4247b",
      "5729f934cca3430da20bfdee16ffa94f",
      "59f5e01eb5b04fdb85c349de0c712d70",
      "4514e06938e14fbebd16774f678ca54f",
      "a8e1077232e94744b98f2fd7b40cbeb4",
      "e3e212dbea104caaa321f10edacde3e5",
      "32128e779857430fa70b233e71295001",
      "007f26abf1354f87930bf722aff8bf87",
      "058c247b8f58484fbdbdb802db506d91",
      "35b66df854204bee8a8c75a36a12472b",
      "902cd7a7fd834c28a33fab347a34cc53",
      "396f886ed69b47208fccad9250d6681b",
      "7072d8e7f6b04dfdb2b006a12c97f94f",
      "c90b1c4de8834f7a82e9a722da205028",
      "712ba0f8249c47d3a5eb5448a6781d07",
      "9e6157427ee6402597cc70beff7f9f90",
      "2d98f43066834e23b6256bfc87f74c93",
      "45051b0d7cb54d41900049d873dc2ca9",
      "d261940076e34b0c92ac370a0eeadee4",
      "eadd25346f584741a23cba5d2513aa39",
      "3361520d307c42b6b24dfca31d3d8652",
      "84332c7d4fdf46a3b6fb37e8e7e00c10",
      "ebcc8461d22343c3aeb2ca69bb81bef9",
      "1ab2ca7ae26c4448b8bf7721730f28b3",
      "ac17ce2c53c243c092e1a97f000d6af3",
      "6aee4639683d4a579c4f2ba03991ec4e",
      "0a8860818e0447a28d2bcd64dae62ad3",
      "5ca4caec5f1a4428862231e2f6eec8fe",
      "dc91e8e8fb824f1599f0347e8e7f9b9d",
      "b65aa2174ade49ad8dc45ba1bba6d6f3",
      "c8fce0d2ea164f4489364cfe6eccbdab",
      "2396ce11f45546c3b5266f42536218a6",
      "7f7bf836e30542fdb315458bc52f2d10",
      "4984f4df68c64b198b31337079c3ab77",
      "4e092e00349b4191be0557c623e9a0b7",
      "a8b53cbf045248b293ae9d12b08c4e67",
      "f28f148c85a2404bbc187b6a653cf65c",
      "7753d5ec99014c39817137f21035c35c",
      "9f41f7d773714bb89c61c6ab63e6d151",
      "3f066440360a4d3eb597a0c087063a58",
      "d6027b7003f94360969e9400527c0655",
      "432092c38d43424583880e68adf832d8",
      "ab10f338efc0445cbaed3d48be57d491",
      "bbce6064c48f43348db59440a007d158",
      "0f44254a8f54452ea7dd816f4114ad3d",
      "4dc435d24d964f17bada936961d5a8e7",
      "c86cc5bc4c954618aceb6926709f186c",
      "02872e0113a44679a5f25bbe766582fc",
      "78ea893118b345c8b2e527d26ede1b47",
      "dd45daf6d0b34921a9745de16c4e5067",
      "3ec7db261b9443b9a944ecf748c4d00d",
      "cfc41089669d4ddf9d6d199e23825b84",
      "41636b513d794b66b97953d870f7aa3b",
      "9e4adf54330b42d9b7d8ab86855a5816",
      "ce66eff2940442a389ebaea26f96ff2a",
      "0d69fdba92144c698aed1dca10ca08b5",
      "504782d3e66248298365e98c96779552",
      "5e7cd093b48d48b093f2593cf9951fc9",
      "080fe54ee021457a9e07c59c44799dda",
      "2c5446c18af14103836cf63e884a12c3",
      "b7e663349e9f4b0d8b54de3d77806560",
      "4e64be8a20a7410fbbea478c3054b073",
      "a105e07425c547ebba946df44f82b38c",
      "5430fd7786294b2bae6780f59de97c55",
      "f325755de3ef4efb8153bf254cf6bec4",
      "bd2eb0458d0c4e3db8b1d7be5190c519",
      "dad2db5397d14edb95fb72b317b99d4a",
      "ebec3ad832a74ba793d5396114414562",
      "513478c0ef7848e19831549c916d7f6a",
      "42c8b11940b54caa92d9902bf1dc779f",
      "7fabbff5bcc7417c80845b9e415ea8f9",
      "3924d096251042cd80400c0cfb8aaed3",
      "c20ce437955e44ddba6f9cbfd0f9aac5",
      "f8a0869905c74c9198274545c38ecf93",
      "699d689b31af4e73bfd1b146ccb0bada",
      "9b44d1d0e69f4a82b30d6935b058c218",
      "b8da8869c9e34c509132dbf5dd647016",
      "8b0705893062482ca766dc526da92ffb",
      "9b4d4d48f7c04d21a0a84838a45820a8",
      "86d41d7fe5724ba892008f61f53c6e13",
      "9c7d6c2429324a88afdc3e488468653d",
      "264265be1229421bbbb5ba6c7f2bffd1",
      "cb5bedd005704beaa9bd77e34af15251",
      "bfbce7155be8403db997b2add318172b",
      "079b5610cf60418d81fa1eab5dc7b45e",
      "4fa82e0b2d654278a5304c75e1eca148",
      "1d63d9388c5f441f9b91df610afe13d9",
      "a613e3362ed04989bf0f740f698c6891",
      "807f89e007ca47dcb02fa0a94cf7ea27",
      "dd976c23758d4bc5b5da65ed23abe9cc",
      "7a58d70f17cf42458869826bdafca282",
      "ad5efa0e2cd24c60a4d6744efa4a46c5",
      "5db005f71c964dafb6ecf7df649eaf88",
      "4e6dda7579504a4ea3b19b64030b8e47",
      "2161d6e0489c4c80a968935ef6b9ddaf",
      "69f02855c4bb44fd9bb0f78e0c02d532",
      "9a0f7629b33a4f35aa508b67a8fbcfad",
      "09033db4eb6540c6a73c50b736ce8436",
      "866291b404004bc79f515b9a1eb989ee",
      "0483e15cde6c4cc0901d012c6d0f52e8",
      "c571891a213244fca42e501fe02f1436",
      "5f1c39cff1364af28459fb3cf9c00db5",
      "0f9cc4f5e33c49f8b8d41d3b1465fa14",
      "0c4ac60c42ea4fdcb7b18df286ff924d",
      "56cd3bd243864e459dba83a9d6214ab8",
      "705336f7fd584aa6a3df900e4029934f",
      "7d46ef0c5a76417fbec2b29bba3fa631",
      "9c58f53da6ff4f54ac926dd8689c70ea",
      "27295385e2b34b77844a98c05e4d8c37",
      "69e868c6533946cfbbf15dccdbc44001",
      "d3626bfed1ac400b87d9e5e364fdc877",
      "e2d9d2dabe034061a80258e22039b099",
      "2f6adff66e7f4b3b9d162ab0a7ada470",
      "cf6d3f9e43954d93be86186b5bc7249d",
      "e4e2612bf85b42e6b2bb4ae0f3dcb8a8",
      "ecfa73ff58cf4b698dbad2c5376b07cc",
      "be9e26dcd2334ca1ada77ef2e23446b7",
      "ea60e48df6f54f1b94b1ececab0c2231",
      "a4c412113bf44b70a8328c25d454d492",
      "02cd023a22fa4921bcc76e73d25c412d",
      "7aff097a34044f05b59e50d629f8dce7",
      "243888612949479fbc6c3e82ec29a788",
      "af11ec99c3904b8ba12f451a7c44a6ce",
      "702ee5578b4b4d258c3a23a1b79fb52f",
      "56f01e9f72e1403c99cdd583e29867b4",
      "ffd642d9e6574d08b7b8730f7a679b4a",
      "56dacccf505d485698f343d9084709cf",
      "93ca0d69b1cc414f8b4701c55d5e8dc8",
      "4dddc35188764ae2bfd3778513eae444",
      "f5c7a06d3de84d79964dbd879322eec1",
      "8a40a94723414315a15614275eeba7f1",
      "a3a407591b7a4c2e9b29642e7d4a709a",
      "46eab2d398774620ae15262cb56778d8",
      "ba749fd3c2964638a216ed346fe49933",
      "06567b661bcc4c3e835092934132b30c",
      "a5b8b3595db34b5a82141c7c8b88db97",
      "7ae0e06033ba4914aed751589cca5c2b",
      "6c7e526bd68147279f4c21a75b399a27",
      "ec4e2e08514f4996a23677f88c7613e8",
      "24efeee2a24d4eccb5113e9355742d99",
      "8027525695e44dfbb657fa9412c05f3f",
      "da7ce98946334e5b8b4925ec1af1e53f",
      "7265cc93aefb4097af73177224f6d5f0",
      "232e3e5ae07d4e13b407b3ded4e2e987",
      "664d0b33100240048f3f5b7afaa8bf66",
      "b1ea99cfe60a4b4ebf463c573f44ef49",
      "5d8da6bebd154986b5345cbbfe497445",
      "d727063354404501a8e015c1f62aeab9",
      "b10448565e254741a676ad57f506bfae",
      "8ab2bae0518746b98f78b5592a492c71",
      "c90fc737e8bf442d84af58e92c43f23a",
      "0b8212def8d5439f91ff11cd4e063521",
      "304bdca2fcfa4dabbee323cfdf99aab5",
      "bc98826c8c8e4934871ef2f100eb5223",
      "de01e95e347a4b3096279fe6082ede2f",
      "8057ddac383445068fcf6290dd1e600a",
      "d4203403e1c94de2b71cc55f5ce24364",
      "979665aa10584ea485badcc4f6af4ef2",
      "fd2667a33b17440b85425ce823dffbf6",
      "9cd72cd676e64573beb7fb22fcb93a96",
      "900ba8049d8043eda8f572fc1ef728ec",
      "5bb6debaee234438b7dc6b7c02dd22d2",
      "29b52eb7f7064e43a6b75a68defc56d9",
      "b20f01117b0d4d178482e950b43f95e5",
      "1e93f3363ea446a7b7beb06f622da049",
      "f49ef09e48524f1c9454c7d1e30b325d",
      "664a5cdb43294addb053d5298b4f5dee",
      "977fa88c9feb42b8ae011a01b8f5d21e",
      "87e5eae2a9254fe4b09ff34259f25e5c",
      "ba9193183be041088b2f47784b5c6052",
      "a30270af9fda48f7a4353fcf5954160e",
      "06e612df7c9b4719a3425bd086f7d2de",
      "96438d1cc2844f9eb504fe172ed2ec96",
      "7c771cee2d6049d0bb7bbe0ff5c15a10",
      "46c84c6d971f46e68ba045bf8ace9033",
      "7cb2fb428f704c9ebf93b09dce8db5fb",
      "a4700e9444bd477d9e876b0fcc8890b1",
      "8a3d5e3ccac14401a7ea4ca101194e10",
      "0026e52d954344a4a7a607efce4c022c",
      "3a22dbf653514109835557f332c195f7",
      "9564e6c9866c445fa0af0cee834a518f",
      "e9a2d4d0c6d64a0c8112449522d4ceec",
      "61d541e877b2491e9ce2557877c38860",
      "250b4fa1927d44cb81fb805a5204b1b0",
      "84462449f80e4fa6a1079fccf9517651",
      "3b9c243ad89945af8241f6efe1c3f380",
      "84470516a4854c26bf716769ed416ec7",
      "f7addeb82ddc44fc96259286bcead7fc",
      "5c021060089045659f248646796fc038",
      "616ef236701842c8aa0d5ce2a801d413",
      "139fd700e5dc40e88b8ba521c05d036c",
      "efb25c55e9264aa9abcfe476a1590df1",
      "9c6e2a4202f84e92aceb77c3aea142bc",
      "43b96daf9dfa4299b6497fac08963fc2",
      "586038ca3d9d403e869452e5cf0bc9f7",
      "8b87b87273da4372a4f5f932c1f71b2b",
      "b388d5f4aa5e46cfbe1c318567070537",
      "24dc63d967df42f595083d1eadcef28b",
      "bb0a19cf4f6a40638d7380c4f6d2e549",
      "81f40352c0c6495f83ec023a98de7b33",
      "788a9771aaf74b958656b18c6dc94dfc",
      "fdff95febae14c56a5e6fce8ee2953a8",
      "37e47d9a4f4e4320823c3a05d7d5cf38",
      "367440c48a1b4ef6a38739d142170aa2",
      "d1a75db46ebd4e809bb1ddffca3e172f",
      "a5ac1afaec944e2a9aa925e27d2ea68b",
      "6023cb32bfba4047a90c897efb4a6b7c",
      "bb0cfebe559e48f5bcfc294a3b1d3fdf",
      "bfde4ea9c007493ca59caae5382f36bb",
      "976f94973aaa4be1ac50ca874db77306",
      "e135349c78f045938b297b03d76390b2",
      "d32d2b49193f407d88b59765ab577366",
      "5322e7357e054d778852908172f22940",
      "6331216d53ba4a2d82531f77de1c9d9d",
      "9f3e88c495d9415d852e74da0f8ee9fb",
      "ef7acba7ba8c46d59da947c182d91488",
      "8c6f46e2352a48468670989d9e574cdc",
      "44a26326a0e34ddea68ecb1f559a1824",
      "047e167fcc9a4240bd08e326128f89ed",
      "b66d3347ec12413985a16258457169e1",
      "6a0b929ceb804a648c418c22174ba2a0",
      "315d7c310a5f4f20b312c494240242b4",
      "73b8913d973d4984b8b6b7683ffdd745",
      "bf087adcd65e4e7e87d2ab938c359c50",
      "4c5a911ef7924db7a628ddf10a3543a6",
      "ab8f2de5f56342a79d08aecd5f26800e",
      "757af59d66dc4c06b8a105b262b903ba",
      "444d55e5b9754e7ab37bacc414d11a11",
      "cfd173b23e9d4a3b9e5cd91e7de132d7",
      "9500732d231d4403a90176e3160080fd",
      "0de62ef4c4954cceb3e1830289abc7d3",
      "9b0bad44b7a24852be8c4f040a405e4e",
      "8e612bcacfc0473f9b32bf2193fdb548",
      "cb6670d6ab34428d9d3c41103934271a",
      "5138cff406aa42ea809b299c3587e47d",
      "47964b01bc4644d9845295aa43e0f4b2",
      "5fb974108d3844869f5769fbc60ea809",
      "0ed40799f744427c9dd4bee3ef5e9c20",
      "426f819681c04d0b82bb2343113291d5",
      "fe967ffeedd24e1f89083bdd6bfb6ee7",
      "ede39778212a4305bcf11fac1f52a897",
      "c4b97e0f183647069cf520b1b2c13c11",
      "dbc7ee46311947c5b3539dc70867f657",
      "0c32b23f28694408af4783fa173045bf",
      "3e079da9e954457687bae442ff5d1034"
     ]
    },
    "id": "7qEKEUJTXsoe",
    "outputId": "d26abcce-32a2-45e1-c281-51aade06a6d3",
    "scrolled": true
   },
   "outputs": [
    {
     "name": "stdout",
     "output_type": "stream",
     "text": [
      "Files already downloaded and verified\n",
      "Files already downloaded and verified\n",
      "Files already downloaded and verified\n",
      "Files already downloaded and verified\n"
     ]
    },
    {
     "name": "stderr",
     "output_type": "stream",
     "text": [
      "LOCAL_RANK: 0 - CUDA_VISIBLE_DEVICES: [2]\n",
      "\n",
      "  | Name       | Type                | Params\n",
      "---------------------------------------------------\n",
      "0 | model      | _ResNet18_benchmark | 11.2 M\n",
      "1 | loss       | NLLLoss             | 0     \n",
      "2 | metric_acc | MulticlassAccuracy  | 0     \n",
      "3 | swa_model  | AveragedModel       | 11.2 M\n",
      "---------------------------------------------------\n",
      "22.3 M    Trainable params\n",
      "0         Non-trainable params\n",
      "22.3 M    Total params\n",
      "89.392    Total estimated model params size (MB)\n",
      "/home/vru/workspace/ev/khpy3/lib/python3.10/site-packages/lightning_fabric/loggers/csv_logs.py:183: Experiment logs directory logs/CIFAR10-ResNet-AT_e200_note-_PGD_eps0.03/lightning_logs/20231124212536 exists and is not empty. Previous log files in this directory will be deleted when the new ones are saved!\n",
      "2023-11-24 21:25:39,691 [INFO]: Hyperparameters:\n",
      "2023-11-24 21:25:39,693 [INFO]: cfg: {'defaults': ['_self_', {'override hydra/hydra_logging': 'disabled'}, {'override hydra/job_logging': 'disabled'}], 'hydra': {'output_subdir': None, 'run': {'dir': '.'}}, 'global_params': {'dataset': 'CIFAR10', 'architecture': 'ResNet', 'devices': 'auto'}, 'training_params': {'epoch': 200, 'batch_size': 1024, 'dataloader_workers': 32, 'type': 'AT', 'note': '', 'lr': 0.05}, 'adversarial_training_params': {'eps': 0.03, 'name': 'PGD'}}\n"
     ]
    },
    {
     "data": {
      "application/vnd.jupyter.widget-view+json": {
       "model_id": "",
       "version_major": 2,
       "version_minor": 0
      },
      "text/plain": [
       "Sanity Checking: 0it [00:00, ?it/s]"
      ]
     },
     "metadata": {},
     "output_type": "display_data"
    },
    {
     "name": "stdout",
     "output_type": "stream",
     "text": [
      "Training is starting ...\n"
     ]
    },
    {
     "name": "stderr",
     "output_type": "stream",
     "text": [
      "/home/vru/workspace/ev/khpy3/lib/python3.10/site-packages/pytorch_lightning/trainer/trainer.py:1609: The number of training batches (44) is smaller than the logging interval Trainer(log_every_n_steps=50). Set a lower value for log_every_n_steps if you want to see logs for the training epoch.\n"
     ]
    },
    {
     "data": {
      "application/vnd.jupyter.widget-view+json": {
       "model_id": "ce67ff904204471d868722ce00efed73",
       "version_major": 2,
       "version_minor": 0
      },
      "text/plain": [
       "Training: 0it [00:00, ?it/s]"
      ]
     },
     "metadata": {},
     "output_type": "display_data"
    },
    {
     "data": {
      "application/vnd.jupyter.widget-view+json": {
       "model_id": "",
       "version_major": 2,
       "version_minor": 0
      },
      "text/plain": [
       "Validation: 0it [00:00, ?it/s]"
      ]
     },
     "metadata": {},
     "output_type": "display_data"
    },
    {
     "name": "stderr",
     "output_type": "stream",
     "text": [
      "2023-11-24 21:26:51,772 [INFO]: clean_val_acc: 0.2740873694419861\n",
      "2023-11-24 21:26:51,774 [INFO]: clean_val_loss: 1.9769067764282227\n",
      "2023-11-24 21:26:51,775 [INFO]: epoch: 0\n",
      "2023-11-24 21:26:52,106 [INFO]: clean_train_acc_epoch: 0.13011111319065094\n",
      "2023-11-24 21:26:52,108 [INFO]: clean_train_loss_epoch: 2.2646141052246094\n",
      "2023-11-24 21:26:52,110 [INFO]: epoch: 0\n",
      "2023-11-24 21:27:01,293 [INFO]: lr-SGD: 0.004000000078014612\n",
      "2023-11-24 21:27:02,843 [INFO]: clean_train_acc_step: 0.16796875\n",
      "2023-11-24 21:27:02,846 [INFO]: clean_train_loss_step: 2.1894986629486084\n",
      "2023-11-24 21:27:02,847 [INFO]: epoch: 1\n"
     ]
    },
    {
     "data": {
      "application/vnd.jupyter.widget-view+json": {
       "model_id": "",
       "version_major": 2,
       "version_minor": 0
      },
      "text/plain": [
       "Validation: 0it [00:00, ?it/s]"
      ]
     },
     "metadata": {},
     "output_type": "display_data"
    },
    {
     "name": "stderr",
     "output_type": "stream",
     "text": [
      "2023-11-24 21:28:03,118 [INFO]: clean_val_acc: 0.2956339716911316\n",
      "2023-11-24 21:28:03,120 [INFO]: clean_val_loss: 1.9127525091171265\n",
      "2023-11-24 21:28:03,121 [INFO]: epoch: 1\n",
      "2023-11-24 21:28:03,425 [INFO]: clean_train_acc_epoch: 0.16806666553020477\n",
      "2023-11-24 21:28:03,426 [INFO]: clean_train_loss_epoch: 2.1635491847991943\n",
      "2023-11-24 21:28:03,428 [INFO]: epoch: 1\n",
      "2023-11-24 21:28:22,201 [INFO]: lr-SGD: 0.0040000003184594846\n",
      "2023-11-24 21:28:23,757 [INFO]: clean_train_acc_step: 0.1806640625\n",
      "2023-11-24 21:28:23,759 [INFO]: clean_train_loss_step: 2.1372604370117188\n",
      "2023-11-24 21:28:23,761 [INFO]: epoch: 2\n"
     ]
    },
    {
     "data": {
      "application/vnd.jupyter.widget-view+json": {
       "model_id": "",
       "version_major": 2,
       "version_minor": 0
      },
      "text/plain": [
       "Validation: 0it [00:00, ?it/s]"
      ]
     },
     "metadata": {},
     "output_type": "display_data"
    },
    {
     "name": "stderr",
     "output_type": "stream",
     "text": [
      "2023-11-24 21:29:14,801 [INFO]: clean_val_acc: 0.3047739267349243\n",
      "2023-11-24 21:29:14,802 [INFO]: clean_val_loss: 1.8962005376815796\n",
      "2023-11-24 21:29:14,805 [INFO]: epoch: 2\n",
      "2023-11-24 21:29:15,110 [INFO]: clean_train_acc_epoch: 0.17864444851875305\n",
      "2023-11-24 21:29:15,112 [INFO]: clean_train_loss_epoch: 2.1406164169311523\n",
      "2023-11-24 21:29:15,114 [INFO]: epoch: 2\n",
      "2023-11-24 21:29:42,864 [INFO]: lr-SGD: 0.004000000721367081\n",
      "2023-11-24 21:29:44,417 [INFO]: clean_train_acc_step: 0.1708984375\n",
      "2023-11-24 21:29:44,419 [INFO]: clean_train_loss_step: 2.17348051071167\n",
      "2023-11-24 21:29:44,421 [INFO]: epoch: 3\n"
     ]
    },
    {
     "data": {
      "application/vnd.jupyter.widget-view+json": {
       "model_id": "",
       "version_major": 2,
       "version_minor": 0
      },
      "text/plain": [
       "Validation: 0it [00:00, ?it/s]"
      ]
     },
     "metadata": {},
     "output_type": "display_data"
    },
    {
     "name": "stderr",
     "output_type": "stream",
     "text": [
      "2023-11-24 21:30:26,282 [INFO]: clean_val_acc: 0.2965448498725891\n",
      "2023-11-24 21:30:26,284 [INFO]: clean_val_loss: 1.894932508468628\n",
      "2023-11-24 21:30:26,285 [INFO]: epoch: 3\n",
      "2023-11-24 21:30:26,606 [INFO]: clean_train_acc_epoch: 0.1947111040353775\n",
      "2023-11-24 21:30:26,607 [INFO]: clean_train_loss_epoch: 2.1247334480285645\n",
      "2023-11-24 21:30:26,609 [INFO]: epoch: 3\n",
      "2023-11-24 21:31:03,786 [INFO]: lr-SGD: 0.004000001286737415\n",
      "2023-11-24 21:31:05,341 [INFO]: clean_train_acc_step: 0.201171875\n",
      "2023-11-24 21:31:05,342 [INFO]: clean_train_loss_step: 2.126931667327881\n",
      "2023-11-24 21:31:05,344 [INFO]: epoch: 4\n"
     ]
    },
    {
     "data": {
      "application/vnd.jupyter.widget-view+json": {
       "model_id": "",
       "version_major": 2,
       "version_minor": 0
      },
      "text/plain": [
       "Validation: 0it [00:00, ?it/s]"
      ]
     },
     "metadata": {},
     "output_type": "display_data"
    },
    {
     "name": "stderr",
     "output_type": "stream",
     "text": [
      "2023-11-24 21:31:37,932 [INFO]: clean_val_acc: 0.30662333965301514\n",
      "2023-11-24 21:31:37,934 [INFO]: clean_val_loss: 1.867814064025879\n",
      "2023-11-24 21:31:37,935 [INFO]: epoch: 4\n",
      "2023-11-24 21:31:38,280 [INFO]: clean_train_acc_epoch: 0.2111777812242508\n",
      "2023-11-24 21:31:38,283 [INFO]: clean_train_loss_epoch: 2.0949621200561523\n",
      "2023-11-24 21:31:38,285 [INFO]: epoch: 4\n",
      "2023-11-24 21:32:24,497 [INFO]: lr-SGD: 0.004000002014570514\n",
      "2023-11-24 21:32:26,049 [INFO]: clean_train_acc_step: 0.2255859375\n",
      "2023-11-24 21:32:26,050 [INFO]: clean_train_loss_step: 2.0783252716064453\n",
      "2023-11-24 21:32:26,051 [INFO]: epoch: 5\n"
     ]
    },
    {
     "data": {
      "application/vnd.jupyter.widget-view+json": {
       "model_id": "",
       "version_major": 2,
       "version_minor": 0
      },
      "text/plain": [
       "Validation: 0it [00:00, ?it/s]"
      ]
     },
     "metadata": {},
     "output_type": "display_data"
    },
    {
     "name": "stderr",
     "output_type": "stream",
     "text": [
      "2023-11-24 21:32:49,350 [INFO]: clean_val_acc: 0.3125743269920349\n",
      "2023-11-24 21:32:49,351 [INFO]: clean_val_loss: 1.8477199077606201\n",
      "2023-11-24 21:32:49,352 [INFO]: epoch: 5\n",
      "2023-11-24 21:32:49,669 [INFO]: clean_train_acc_epoch: 0.22075556218624115\n",
      "2023-11-24 21:32:49,671 [INFO]: clean_train_loss_epoch: 2.0734763145446777\n",
      "2023-11-24 21:32:49,672 [INFO]: epoch: 5\n",
      "2023-11-24 21:33:45,111 [INFO]: lr-SGD: 0.004000002904866337\n",
      "2023-11-24 21:33:46,667 [INFO]: clean_train_acc_step: 0.2294921875\n",
      "2023-11-24 21:33:46,669 [INFO]: clean_train_loss_step: 2.0520339012145996\n",
      "2023-11-24 21:33:46,671 [INFO]: epoch: 6\n"
     ]
    },
    {
     "data": {
      "application/vnd.jupyter.widget-view+json": {
       "model_id": "",
       "version_major": 2,
       "version_minor": 0
      },
      "text/plain": [
       "Validation: 0it [00:00, ?it/s]"
      ]
     },
     "metadata": {},
     "output_type": "display_data"
    },
    {
     "name": "stderr",
     "output_type": "stream",
     "text": [
      "2023-11-24 21:34:00,830 [INFO]: clean_val_acc: 0.32119226455688477\n",
      "2023-11-24 21:34:00,831 [INFO]: clean_val_loss: 1.8244110345840454\n",
      "2023-11-24 21:34:00,833 [INFO]: epoch: 6\n",
      "2023-11-24 21:34:01,162 [INFO]: clean_train_acc_epoch: 0.22966666519641876\n",
      "2023-11-24 21:34:01,165 [INFO]: clean_train_loss_epoch: 2.0535075664520264\n",
      "2023-11-24 21:34:01,167 [INFO]: epoch: 6\n",
      "2023-11-24 21:35:05,924 [INFO]: lr-SGD: 0.004000003957624884\n",
      "2023-11-24 21:35:07,476 [INFO]: clean_train_acc_step: 0.2421875\n",
      "2023-11-24 21:35:07,477 [INFO]: clean_train_loss_step: 2.02410888671875\n",
      "2023-11-24 21:35:07,479 [INFO]: epoch: 7\n"
     ]
    },
    {
     "data": {
      "application/vnd.jupyter.widget-view+json": {
       "model_id": "",
       "version_major": 2,
       "version_minor": 0
      },
      "text/plain": [
       "Validation: 0it [00:00, ?it/s]"
      ]
     },
     "metadata": {},
     "output_type": "display_data"
    },
    {
     "name": "stderr",
     "output_type": "stream",
     "text": [
      "2023-11-24 21:35:12,328 [INFO]: clean_val_acc: 0.3307487368583679\n",
      "2023-11-24 21:35:12,329 [INFO]: clean_val_loss: 1.8066202402114868\n",
      "2023-11-24 21:35:12,330 [INFO]: epoch: 7\n",
      "2023-11-24 21:35:12,662 [INFO]: clean_train_acc_epoch: 0.23577778041362762\n",
      "2023-11-24 21:35:12,664 [INFO]: clean_train_loss_epoch: 2.0412838459014893\n",
      "2023-11-24 21:35:12,666 [INFO]: epoch: 7\n"
     ]
    },
    {
     "data": {
      "application/vnd.jupyter.widget-view+json": {
       "model_id": "",
       "version_major": 2,
       "version_minor": 0
      },
      "text/plain": [
       "Validation: 0it [00:00, ?it/s]"
      ]
     },
     "metadata": {},
     "output_type": "display_data"
    },
    {
     "name": "stderr",
     "output_type": "stream",
     "text": [
      "2023-11-24 21:36:23,751 [INFO]: clean_val_acc: 0.32870572805404663\n",
      "2023-11-24 21:36:23,753 [INFO]: clean_val_loss: 1.7946968078613281\n",
      "2023-11-24 21:36:23,755 [INFO]: epoch: 8\n",
      "2023-11-24 21:36:24,088 [INFO]: clean_train_acc_epoch: 0.24151110649108887\n",
      "2023-11-24 21:36:24,090 [INFO]: clean_train_loss_epoch: 2.02856707572937\n",
      "2023-11-24 21:36:24,091 [INFO]: epoch: 8\n",
      "2023-11-24 21:36:30,499 [INFO]: lr-SGD: 0.004000005172846183\n",
      "2023-11-24 21:36:32,051 [INFO]: clean_train_acc_step: 0.255859375\n",
      "2023-11-24 21:36:32,053 [INFO]: clean_train_loss_step: 1.982635736465454\n",
      "2023-11-24 21:36:32,053 [INFO]: epoch: 9\n"
     ]
    },
    {
     "data": {
      "application/vnd.jupyter.widget-view+json": {
       "model_id": "",
       "version_major": 2,
       "version_minor": 0
      },
      "text/plain": [
       "Validation: 0it [00:00, ?it/s]"
      ]
     },
     "metadata": {},
     "output_type": "display_data"
    },
    {
     "name": "stderr",
     "output_type": "stream",
     "text": [
      "2023-11-24 21:37:35,366 [INFO]: clean_val_acc: 0.3455907702445984\n",
      "2023-11-24 21:37:35,368 [INFO]: clean_val_loss: 1.7797069549560547\n",
      "2023-11-24 21:37:35,369 [INFO]: epoch: 9\n",
      "2023-11-24 21:37:35,703 [INFO]: clean_train_acc_epoch: 0.24382221698760986\n",
      "2023-11-24 21:37:35,706 [INFO]: clean_train_loss_epoch: 2.0202112197875977\n",
      "2023-11-24 21:37:35,707 [INFO]: epoch: 9\n",
      "2023-11-24 21:37:51,264 [INFO]: lr-SGD: 0.004000006550530191\n",
      "2023-11-24 21:37:52,816 [INFO]: clean_train_acc_step: 0.2607421875\n",
      "2023-11-24 21:37:52,817 [INFO]: clean_train_loss_step: 1.9639863967895508\n",
      "2023-11-24 21:37:52,818 [INFO]: epoch: 10\n"
     ]
    },
    {
     "data": {
      "application/vnd.jupyter.widget-view+json": {
       "model_id": "",
       "version_major": 2,
       "version_minor": 0
      },
      "text/plain": [
       "Validation: 0it [00:00, ?it/s]"
      ]
     },
     "metadata": {},
     "output_type": "display_data"
    },
    {
     "name": "stderr",
     "output_type": "stream",
     "text": [
      "2023-11-24 21:38:46,899 [INFO]: clean_val_acc: 0.33888620138168335\n",
      "2023-11-24 21:38:46,900 [INFO]: clean_val_loss: 1.7695839405059814\n",
      "2023-11-24 21:38:46,902 [INFO]: epoch: 10\n",
      "2023-11-24 21:38:47,242 [INFO]: clean_train_acc_epoch: 0.24686667323112488\n",
      "2023-11-24 21:38:47,244 [INFO]: clean_train_loss_epoch: 2.0108535289764404\n",
      "2023-11-24 21:38:47,246 [INFO]: epoch: 10\n",
      "2023-11-24 21:39:12,149 [INFO]: lr-SGD: 0.0040000080906769375\n",
      "2023-11-24 21:39:13,713 [INFO]: clean_train_acc_step: 0.2646484375\n",
      "2023-11-24 21:39:13,714 [INFO]: clean_train_loss_step: 2.0153045654296875\n",
      "2023-11-24 21:39:13,715 [INFO]: epoch: 11\n"
     ]
    },
    {
     "data": {
      "application/vnd.jupyter.widget-view+json": {
       "model_id": "",
       "version_major": 2,
       "version_minor": 0
      },
      "text/plain": [
       "Validation: 0it [00:00, ?it/s]"
      ]
     },
     "metadata": {},
     "output_type": "display_data"
    },
    {
     "name": "stderr",
     "output_type": "stream",
     "text": [
      "2023-11-24 21:39:58,625 [INFO]: clean_val_acc: 0.3546909689903259\n",
      "2023-11-24 21:39:58,627 [INFO]: clean_val_loss: 1.7621181011199951\n",
      "2023-11-24 21:39:58,629 [INFO]: epoch: 11\n",
      "2023-11-24 21:39:58,962 [INFO]: clean_train_acc_epoch: 0.2466222196817398\n",
      "2023-11-24 21:39:58,964 [INFO]: clean_train_loss_epoch: 2.002488851547241\n",
      "2023-11-24 21:39:58,966 [INFO]: epoch: 11\n",
      "2023-11-24 21:40:33,095 [INFO]: lr-SGD: 0.00400000979328638\n",
      "2023-11-24 21:40:34,646 [INFO]: clean_train_acc_step: 0.240234375\n",
      "2023-11-24 21:40:34,648 [INFO]: clean_train_loss_step: 2.018226385116577\n",
      "2023-11-24 21:40:34,651 [INFO]: epoch: 12\n"
     ]
    },
    {
     "data": {
      "application/vnd.jupyter.widget-view+json": {
       "model_id": "",
       "version_major": 2,
       "version_minor": 0
      },
      "text/plain": [
       "Validation: 0it [00:00, ?it/s]"
      ]
     },
     "metadata": {},
     "output_type": "display_data"
    },
    {
     "name": "stderr",
     "output_type": "stream",
     "text": [
      "2023-11-24 21:41:10,365 [INFO]: clean_val_acc: 0.3587406575679779\n",
      "2023-11-24 21:41:10,367 [INFO]: clean_val_loss: 1.7481510639190674\n",
      "2023-11-24 21:41:10,368 [INFO]: epoch: 12\n",
      "2023-11-24 21:41:10,713 [INFO]: clean_train_acc_epoch: 0.25235554575920105\n",
      "2023-11-24 21:41:10,714 [INFO]: clean_train_loss_epoch: 1.9941133260726929\n",
      "2023-11-24 21:41:10,716 [INFO]: epoch: 12\n",
      "2023-11-24 21:41:53,973 [INFO]: lr-SGD: 0.004000011658358546\n",
      "2023-11-24 21:41:55,530 [INFO]: clean_train_acc_step: 0.244140625\n",
      "2023-11-24 21:41:55,532 [INFO]: clean_train_loss_step: 1.9923409223556519\n",
      "2023-11-24 21:41:55,533 [INFO]: epoch: 13\n"
     ]
    },
    {
     "data": {
      "application/vnd.jupyter.widget-view+json": {
       "model_id": "",
       "version_major": 2,
       "version_minor": 0
      },
      "text/plain": [
       "Validation: 0it [00:00, ?it/s]"
      ]
     },
     "metadata": {},
     "output_type": "display_data"
    },
    {
     "name": "stderr",
     "output_type": "stream",
     "text": [
      "2023-11-24 21:42:21,935 [INFO]: clean_val_acc: 0.35747718811035156\n",
      "2023-11-24 21:42:21,937 [INFO]: clean_val_loss: 1.7480623722076416\n",
      "2023-11-24 21:42:21,938 [INFO]: epoch: 13\n",
      "2023-11-24 21:42:22,265 [INFO]: clean_train_acc_epoch: 0.25564444065093994\n",
      "2023-11-24 21:42:22,267 [INFO]: clean_train_loss_epoch: 1.989430546760559\n",
      "2023-11-24 21:42:22,268 [INFO]: epoch: 13\n",
      "2023-11-24 21:43:14,957 [INFO]: lr-SGD: 0.004000013685893422\n",
      "2023-11-24 21:43:16,508 [INFO]: clean_train_acc_step: 0.26953125\n",
      "2023-11-24 21:43:16,509 [INFO]: clean_train_loss_step: 1.9396588802337646\n",
      "2023-11-24 21:43:16,511 [INFO]: epoch: 14\n"
     ]
    },
    {
     "data": {
      "application/vnd.jupyter.widget-view+json": {
       "model_id": "",
       "version_major": 2,
       "version_minor": 0
      },
      "text/plain": [
       "Validation: 0it [00:00, ?it/s]"
      ]
     },
     "metadata": {},
     "output_type": "display_data"
    },
    {
     "name": "stderr",
     "output_type": "stream",
     "text": [
      "2023-11-24 21:43:33,698 [INFO]: clean_val_acc: 0.36872580647468567\n",
      "2023-11-24 21:43:33,701 [INFO]: clean_val_loss: 1.7362419366836548\n",
      "2023-11-24 21:43:33,702 [INFO]: epoch: 14\n",
      "2023-11-24 21:43:34,054 [INFO]: clean_train_acc_epoch: 0.2575555443763733\n",
      "2023-11-24 21:43:34,056 [INFO]: clean_train_loss_epoch: 1.97951340675354\n",
      "2023-11-24 21:43:34,058 [INFO]: epoch: 14\n",
      "2023-11-24 21:44:35,797 [INFO]: lr-SGD: 0.00400001587589098\n",
      "2023-11-24 21:44:37,351 [INFO]: clean_train_acc_step: 0.2724609375\n",
      "2023-11-24 21:44:37,353 [INFO]: clean_train_loss_step: 1.9470854997634888\n",
      "2023-11-24 21:44:37,354 [INFO]: epoch: 15\n"
     ]
    },
    {
     "data": {
      "application/vnd.jupyter.widget-view+json": {
       "model_id": "",
       "version_major": 2,
       "version_minor": 0
      },
      "text/plain": [
       "Validation: 0it [00:00, ?it/s]"
      ]
     },
     "metadata": {},
     "output_type": "display_data"
    },
    {
     "name": "stderr",
     "output_type": "stream",
     "text": [
      "2023-11-24 21:44:45,256 [INFO]: clean_val_acc: 0.36535364389419556\n",
      "2023-11-24 21:44:45,258 [INFO]: clean_val_loss: 1.7289634943008423\n",
      "2023-11-24 21:44:45,259 [INFO]: epoch: 15\n",
      "2023-11-24 21:44:45,599 [INFO]: clean_train_acc_epoch: 0.2575555443763733\n",
      "2023-11-24 21:44:45,602 [INFO]: clean_train_loss_epoch: 1.974105715751648\n",
      "2023-11-24 21:44:45,604 [INFO]: epoch: 15\n"
     ]
    },
    {
     "data": {
      "application/vnd.jupyter.widget-view+json": {
       "model_id": "",
       "version_major": 2,
       "version_minor": 0
      },
      "text/plain": [
       "Validation: 0it [00:00, ?it/s]"
      ]
     },
     "metadata": {},
     "output_type": "display_data"
    },
    {
     "name": "stderr",
     "output_type": "stream",
     "text": [
      "2023-11-24 21:45:56,607 [INFO]: clean_val_acc: 0.3798707127571106\n",
      "2023-11-24 21:45:56,609 [INFO]: clean_val_loss: 1.7120033502578735\n",
      "2023-11-24 21:45:56,611 [INFO]: epoch: 16\n",
      "2023-11-24 21:45:56,951 [INFO]: clean_train_acc_epoch: 0.25982221961021423\n",
      "2023-11-24 21:45:56,953 [INFO]: clean_train_loss_epoch: 1.9669231176376343\n",
      "2023-11-24 21:45:56,954 [INFO]: epoch: 16\n",
      "2023-11-24 21:46:00,384 [INFO]: lr-SGD: 0.004000018228351249\n",
      "2023-11-24 21:46:01,938 [INFO]: clean_train_acc_step: 0.2529296875\n",
      "2023-11-24 21:46:01,941 [INFO]: clean_train_loss_step: 1.9644769430160522\n",
      "2023-11-24 21:46:01,942 [INFO]: epoch: 17\n"
     ]
    },
    {
     "data": {
      "application/vnd.jupyter.widget-view+json": {
       "model_id": "",
       "version_major": 2,
       "version_minor": 0
      },
      "text/plain": [
       "Validation: 0it [00:00, ?it/s]"
      ]
     },
     "metadata": {},
     "output_type": "display_data"
    },
    {
     "name": "stderr",
     "output_type": "stream",
     "text": [
      "2023-11-24 21:47:08,367 [INFO]: clean_val_acc: 0.38584762811660767\n",
      "2023-11-24 21:47:08,369 [INFO]: clean_val_loss: 1.7099876403808594\n",
      "2023-11-24 21:47:08,370 [INFO]: epoch: 17\n",
      "2023-11-24 21:47:08,712 [INFO]: clean_train_acc_epoch: 0.26242223381996155\n",
      "2023-11-24 21:47:08,714 [INFO]: clean_train_loss_epoch: 1.962158203125\n",
      "2023-11-24 21:47:08,715 [INFO]: epoch: 17\n",
      "2023-11-24 21:47:21,249 [INFO]: lr-SGD: 0.004000020743274185\n",
      "2023-11-24 21:47:22,803 [INFO]: clean_train_acc_step: 0.2578125\n",
      "2023-11-24 21:47:22,804 [INFO]: clean_train_loss_step: 1.959972858428955\n",
      "2023-11-24 21:47:22,804 [INFO]: epoch: 18\n"
     ]
    },
    {
     "data": {
      "application/vnd.jupyter.widget-view+json": {
       "model_id": "",
       "version_major": 2,
       "version_minor": 0
      },
      "text/plain": [
       "Validation: 0it [00:00, ?it/s]"
      ]
     },
     "metadata": {},
     "output_type": "display_data"
    },
    {
     "name": "stderr",
     "output_type": "stream",
     "text": [
      "2023-11-24 21:48:19,981 [INFO]: clean_val_acc: 0.3838288187980652\n",
      "2023-11-24 21:48:19,983 [INFO]: clean_val_loss: 1.7006257772445679\n",
      "2023-11-24 21:48:19,985 [INFO]: epoch: 18\n",
      "2023-11-24 21:48:20,334 [INFO]: clean_train_acc_epoch: 0.26346665620803833\n",
      "2023-11-24 21:48:20,336 [INFO]: clean_train_loss_epoch: 1.9555654525756836\n",
      "2023-11-24 21:48:20,337 [INFO]: epoch: 18\n",
      "2023-11-24 21:48:41,949 [INFO]: lr-SGD: 0.004000023420659804\n",
      "2023-11-24 21:48:43,500 [INFO]: clean_train_acc_step: 0.2841796875\n",
      "2023-11-24 21:48:43,502 [INFO]: clean_train_loss_step: 1.9487303495407104\n",
      "2023-11-24 21:48:43,503 [INFO]: epoch: 19\n"
     ]
    },
    {
     "data": {
      "application/vnd.jupyter.widget-view+json": {
       "model_id": "",
       "version_major": 2,
       "version_minor": 0
      },
      "text/plain": [
       "Validation: 0it [00:00, ?it/s]"
      ]
     },
     "metadata": {},
     "output_type": "display_data"
    },
    {
     "name": "stderr",
     "output_type": "stream",
     "text": [
      "2023-11-24 21:49:31,466 [INFO]: clean_val_acc: 0.39238280057907104\n",
      "2023-11-24 21:49:31,467 [INFO]: clean_val_loss: 1.6955468654632568\n",
      "2023-11-24 21:49:31,470 [INFO]: epoch: 19\n",
      "2023-11-24 21:49:31,809 [INFO]: clean_train_acc_epoch: 0.26460000872612\n",
      "2023-11-24 21:49:31,810 [INFO]: clean_train_loss_epoch: 1.9511559009552002\n",
      "2023-11-24 21:49:31,811 [INFO]: epoch: 19\n",
      "2023-11-24 21:50:02,851 [INFO]: lr-SGD: 0.004000026260508077\n",
      "2023-11-24 21:50:04,407 [INFO]: clean_train_acc_step: 0.2744140625\n",
      "2023-11-24 21:50:04,409 [INFO]: clean_train_loss_step: 1.9501399993896484\n",
      "2023-11-24 21:50:04,410 [INFO]: epoch: 20\n"
     ]
    },
    {
     "data": {
      "application/vnd.jupyter.widget-view+json": {
       "model_id": "",
       "version_major": 2,
       "version_minor": 0
      },
      "text/plain": [
       "Validation: 0it [00:00, ?it/s]"
      ]
     },
     "metadata": {},
     "output_type": "display_data"
    },
    {
     "name": "stderr",
     "output_type": "stream",
     "text": [
      "2023-11-24 21:50:43,183 [INFO]: clean_val_acc: 0.3980710804462433\n",
      "2023-11-24 21:50:43,186 [INFO]: clean_val_loss: 1.6819404363632202\n",
      "2023-11-24 21:50:43,187 [INFO]: epoch: 20\n",
      "2023-11-24 21:50:43,529 [INFO]: clean_train_acc_epoch: 0.26695555448532104\n",
      "2023-11-24 21:50:43,531 [INFO]: clean_train_loss_epoch: 1.9439860582351685\n",
      "2023-11-24 21:50:43,532 [INFO]: epoch: 20\n",
      "2023-11-24 21:51:23,906 [INFO]: lr-SGD: 0.004000029262819005\n",
      "2023-11-24 21:51:25,455 [INFO]: clean_train_acc_step: 0.2705078125\n",
      "2023-11-24 21:51:25,456 [INFO]: clean_train_loss_step: 1.8950462341308594\n",
      "2023-11-24 21:51:25,457 [INFO]: epoch: 21\n"
     ]
    },
    {
     "data": {
      "application/vnd.jupyter.widget-view+json": {
       "model_id": "",
       "version_major": 2,
       "version_minor": 0
      },
      "text/plain": [
       "Validation: 0it [00:00, ?it/s]"
      ]
     },
     "metadata": {},
     "output_type": "display_data"
    },
    {
     "name": "stderr",
     "output_type": "stream",
     "text": [
      "2023-11-24 21:51:54,959 [INFO]: clean_val_acc: 0.40059804916381836\n",
      "2023-11-24 21:51:54,961 [INFO]: clean_val_loss: 1.6769993305206299\n",
      "2023-11-24 21:51:54,962 [INFO]: epoch: 21\n",
      "2023-11-24 21:51:55,286 [INFO]: clean_train_acc_epoch: 0.269777774810791\n",
      "2023-11-24 21:51:55,287 [INFO]: clean_train_loss_epoch: 1.9391757249832153\n",
      "2023-11-24 21:51:55,289 [INFO]: epoch: 21\n",
      "2023-11-24 21:52:44,625 [INFO]: lr-SGD: 0.004000032427592587\n",
      "2023-11-24 21:52:46,180 [INFO]: clean_train_acc_step: 0.2998046875\n",
      "2023-11-24 21:52:46,182 [INFO]: clean_train_loss_step: 1.9165213108062744\n",
      "2023-11-24 21:52:46,184 [INFO]: epoch: 22\n"
     ]
    },
    {
     "data": {
      "application/vnd.jupyter.widget-view+json": {
       "model_id": "588a081345d343869afa58359924268e",
       "version_major": 2,
       "version_minor": 0
      },
      "text/plain": [
       "Validation: 0it [00:00, ?it/s]"
      ]
     },
     "metadata": {},
     "output_type": "display_data"
    },
    {
     "name": "stderr",
     "output_type": "stream",
     "text": [
      "2023-11-24 21:53:06,473 [INFO]: clean_val_acc: 0.4005064070224762\n",
      "2023-11-24 21:53:06,475 [INFO]: clean_val_loss: 1.669742226600647\n",
      "2023-11-24 21:53:06,477 [INFO]: epoch: 22\n",
      "2023-11-24 21:53:06,810 [INFO]: clean_train_acc_epoch: 0.2728888988494873\n",
      "2023-11-24 21:53:06,813 [INFO]: clean_train_loss_epoch: 1.9333935976028442\n",
      "2023-11-24 21:53:06,813 [INFO]: epoch: 22\n",
      "2023-11-24 21:54:05,381 [INFO]: lr-SGD: 0.00400003575482881\n",
      "2023-11-24 21:54:06,930 [INFO]: clean_train_acc_step: 0.234375\n",
      "2023-11-24 21:54:06,931 [INFO]: clean_train_loss_step: 1.971016764640808\n",
      "2023-11-24 21:54:06,933 [INFO]: epoch: 23\n"
     ]
    },
    {
     "data": {
      "application/vnd.jupyter.widget-view+json": {
       "model_id": "e4629e46661f46d6907cbeb09af773df",
       "version_major": 2,
       "version_minor": 0
      },
      "text/plain": [
       "Validation: 0it [00:00, ?it/s]"
      ]
     },
     "metadata": {},
     "output_type": "display_data"
    },
    {
     "name": "stderr",
     "output_type": "stream",
     "text": [
      "2023-11-24 21:54:17,973 [INFO]: clean_val_acc: 0.40701571106910706\n",
      "2023-11-24 21:54:17,974 [INFO]: clean_val_loss: 1.6628878116607666\n",
      "2023-11-24 21:54:17,975 [INFO]: epoch: 23\n",
      "2023-11-24 21:54:18,318 [INFO]: clean_train_acc_epoch: 0.27239999175071716\n",
      "2023-11-24 21:54:18,321 [INFO]: clean_train_loss_epoch: 1.9291354417800903\n",
      "2023-11-24 21:54:18,322 [INFO]: epoch: 23\n",
      "2023-11-24 21:55:26,164 [INFO]: lr-SGD: 0.004000039244527645\n",
      "2023-11-24 21:55:27,607 [INFO]: clean_train_acc_step: 0.2975206673145294\n",
      "2023-11-24 21:55:27,608 [INFO]: clean_train_loss_step: 1.872125267982483\n",
      "2023-11-24 21:55:27,610 [INFO]: epoch: 24\n"
     ]
    },
    {
     "data": {
      "application/vnd.jupyter.widget-view+json": {
       "model_id": "fbd139b256544727a72f95295f6f6da0",
       "version_major": 2,
       "version_minor": 0
      },
      "text/plain": [
       "Validation: 0it [00:00, ?it/s]"
      ]
     },
     "metadata": {},
     "output_type": "display_data"
    },
    {
     "name": "stderr",
     "output_type": "stream",
     "text": [
      "2023-11-24 21:55:29,571 [INFO]: clean_val_acc: 0.40715914964675903\n",
      "2023-11-24 21:55:29,572 [INFO]: clean_val_loss: 1.6551698446273804\n",
      "2023-11-24 21:55:29,574 [INFO]: epoch: 24\n",
      "2023-11-24 21:55:29,902 [INFO]: clean_train_acc_epoch: 0.27522221207618713\n",
      "2023-11-24 21:55:29,903 [INFO]: clean_train_loss_epoch: 1.9249029159545898\n",
      "2023-11-24 21:55:29,905 [INFO]: epoch: 24\n"
     ]
    },
    {
     "data": {
      "application/vnd.jupyter.widget-view+json": {
       "model_id": "5369b3a6db3d437b8102e446461f8b39",
       "version_major": 2,
       "version_minor": 0
      },
      "text/plain": [
       "Validation: 0it [00:00, ?it/s]"
      ]
     },
     "metadata": {},
     "output_type": "display_data"
    },
    {
     "name": "stderr",
     "output_type": "stream",
     "text": [
      "2023-11-24 21:56:41,104 [INFO]: clean_val_acc: 0.41296666860580444\n",
      "2023-11-24 21:56:41,105 [INFO]: clean_val_loss: 1.6477000713348389\n",
      "2023-11-24 21:56:41,106 [INFO]: epoch: 25\n",
      "2023-11-24 21:56:41,447 [INFO]: clean_train_acc_epoch: 0.2783111035823822\n",
      "2023-11-24 21:56:41,448 [INFO]: clean_train_loss_epoch: 1.9174554347991943\n",
      "2023-11-24 21:56:41,450 [INFO]: epoch: 25\n",
      "2023-11-24 21:56:50,756 [INFO]: lr-SGD: 0.004000042896689093\n",
      "2023-11-24 21:56:52,304 [INFO]: clean_train_acc_step: 0.2919921875\n",
      "2023-11-24 21:56:52,306 [INFO]: clean_train_loss_step: 1.9096378087997437\n",
      "2023-11-24 21:56:52,307 [INFO]: epoch: 26\n"
     ]
    },
    {
     "data": {
      "application/vnd.jupyter.widget-view+json": {
       "model_id": "c51ef721641e4b878479f05599fec971",
       "version_major": 2,
       "version_minor": 0
      },
      "text/plain": [
       "Validation: 0it [00:00, ?it/s]"
      ]
     },
     "metadata": {},
     "output_type": "display_data"
    },
    {
     "name": "stderr",
     "output_type": "stream",
     "text": [
      "2023-11-24 21:57:52,551 [INFO]: clean_val_acc: 0.4121318459510803\n",
      "2023-11-24 21:57:52,553 [INFO]: clean_val_loss: 1.641426682472229\n",
      "2023-11-24 21:57:52,554 [INFO]: epoch: 26\n",
      "2023-11-24 21:57:52,882 [INFO]: clean_train_acc_epoch: 0.27817776799201965\n",
      "2023-11-24 21:57:52,884 [INFO]: clean_train_loss_epoch: 1.9132180213928223\n",
      "2023-11-24 21:57:52,885 [INFO]: epoch: 26\n",
      "2023-11-24 21:58:11,533 [INFO]: lr-SGD: 0.0040000467113131405\n",
      "2023-11-24 21:58:13,090 [INFO]: clean_train_acc_step: 0.296875\n",
      "2023-11-24 21:58:13,091 [INFO]: clean_train_loss_step: 1.8933632373809814\n",
      "2023-11-24 21:58:13,093 [INFO]: epoch: 27\n"
     ]
    },
    {
     "data": {
      "application/vnd.jupyter.widget-view+json": {
       "model_id": "91215811828c435a9f5f5b2bc63b4626",
       "version_major": 2,
       "version_minor": 0
      },
      "text/plain": [
       "Validation: 0it [00:00, ?it/s]"
      ]
     },
     "metadata": {},
     "output_type": "display_data"
    },
    {
     "name": "stderr",
     "output_type": "stream",
     "text": [
      "2023-11-24 21:59:04,127 [INFO]: clean_val_acc: 0.41446352005004883\n",
      "2023-11-24 21:59:04,128 [INFO]: clean_val_loss: 1.6304705142974854\n",
      "2023-11-24 21:59:04,129 [INFO]: epoch: 27\n",
      "2023-11-24 21:59:04,473 [INFO]: clean_train_acc_epoch: 0.2802000045776367\n",
      "2023-11-24 21:59:04,475 [INFO]: clean_train_loss_epoch: 1.9090428352355957\n",
      "2023-11-24 21:59:04,476 [INFO]: epoch: 27\n",
      "2023-11-24 21:59:32,343 [INFO]: lr-SGD: 0.004000050688399773\n",
      "2023-11-24 21:59:33,895 [INFO]: clean_train_acc_step: 0.2451171875\n",
      "2023-11-24 21:59:33,897 [INFO]: clean_train_loss_step: 1.9768182039260864\n",
      "2023-11-24 21:59:33,899 [INFO]: epoch: 28\n"
     ]
    },
    {
     "data": {
      "application/vnd.jupyter.widget-view+json": {
       "model_id": "15aea2ef8eda47949b2df518124003f3",
       "version_major": 2,
       "version_minor": 0
      },
      "text/plain": [
       "Validation: 0it [00:00, ?it/s]"
      ]
     },
     "metadata": {},
     "output_type": "display_data"
    },
    {
     "name": "stderr",
     "output_type": "stream",
     "text": [
      "2023-11-24 22:00:15,697 [INFO]: clean_val_acc: 0.41942405700683594\n",
      "2023-11-24 22:00:15,699 [INFO]: clean_val_loss: 1.6283165216445923\n",
      "2023-11-24 22:00:15,701 [INFO]: epoch: 28\n",
      "2023-11-24 22:00:16,040 [INFO]: clean_train_acc_epoch: 0.2794666588306427\n",
      "2023-11-24 22:00:16,042 [INFO]: clean_train_loss_epoch: 1.9069744348526\n",
      "2023-11-24 22:00:16,044 [INFO]: epoch: 28\n",
      "2023-11-24 22:00:53,270 [INFO]: lr-SGD: 0.004000054827948976\n",
      "2023-11-24 22:00:54,826 [INFO]: clean_train_acc_step: 0.265625\n",
      "2023-11-24 22:00:54,826 [INFO]: clean_train_loss_step: 1.9480926990509033\n",
      "2023-11-24 22:00:54,827 [INFO]: epoch: 29\n"
     ]
    },
    {
     "data": {
      "application/vnd.jupyter.widget-view+json": {
       "model_id": "14d6f5d9de844d1091ecf5f4158c0ec5",
       "version_major": 2,
       "version_minor": 0
      },
      "text/plain": [
       "Validation: 0it [00:00, ?it/s]"
      ]
     },
     "metadata": {},
     "output_type": "display_data"
    },
    {
     "name": "stderr",
     "output_type": "stream",
     "text": [
      "2023-11-24 22:01:27,412 [INFO]: clean_val_acc: 0.42334240674972534\n",
      "2023-11-24 22:01:27,414 [INFO]: clean_val_loss: 1.619136095046997\n",
      "2023-11-24 22:01:27,415 [INFO]: epoch: 29\n",
      "2023-11-24 22:01:27,771 [INFO]: clean_train_acc_epoch: 0.2829333245754242\n",
      "2023-11-24 22:01:27,773 [INFO]: clean_train_loss_epoch: 1.9018442630767822\n",
      "2023-11-24 22:01:27,773 [INFO]: epoch: 29\n",
      "2023-11-24 22:02:13,973 [INFO]: lr-SGD: 0.004000059129960751\n",
      "2023-11-24 22:02:15,530 [INFO]: clean_train_acc_step: 0.3046875\n",
      "2023-11-24 22:02:15,532 [INFO]: clean_train_loss_step: 1.88161301612854\n",
      "2023-11-24 22:02:15,534 [INFO]: epoch: 30\n"
     ]
    },
    {
     "data": {
      "application/vnd.jupyter.widget-view+json": {
       "model_id": "113fe221a0934f22854826d5a3f66ffc",
       "version_major": 2,
       "version_minor": 0
      },
      "text/plain": [
       "Validation: 0it [00:00, ?it/s]"
      ]
     },
     "metadata": {},
     "output_type": "display_data"
    },
    {
     "name": "stderr",
     "output_type": "stream",
     "text": [
      "2023-11-24 22:02:38,863 [INFO]: clean_val_acc: 0.42864006757736206\n",
      "2023-11-24 22:02:38,865 [INFO]: clean_val_loss: 1.6130218505859375\n",
      "2023-11-24 22:02:38,866 [INFO]: epoch: 30\n",
      "2023-11-24 22:02:39,198 [INFO]: clean_train_acc_epoch: 0.28459998965263367\n",
      "2023-11-24 22:02:39,199 [INFO]: clean_train_loss_epoch: 1.895472526550293\n",
      "2023-11-24 22:02:39,200 [INFO]: epoch: 30\n",
      "2023-11-24 22:03:34,682 [INFO]: lr-SGD: 0.004000063594435055\n",
      "2023-11-24 22:03:36,236 [INFO]: clean_train_acc_step: 0.28515625\n",
      "2023-11-24 22:03:36,238 [INFO]: clean_train_loss_step: 1.8806971311569214\n",
      "2023-11-24 22:03:36,239 [INFO]: epoch: 31\n"
     ]
    },
    {
     "data": {
      "application/vnd.jupyter.widget-view+json": {
       "model_id": "89c3ac4f2dc34c5eb22ba12ead09659a",
       "version_major": 2,
       "version_minor": 0
      },
      "text/plain": [
       "Validation: 0it [00:00, ?it/s]"
      ]
     },
     "metadata": {},
     "output_type": "display_data"
    },
    {
     "name": "stderr",
     "output_type": "stream",
     "text": [
      "2023-11-24 22:03:50,372 [INFO]: clean_val_acc: 0.432805597782135\n",
      "2023-11-24 22:03:50,374 [INFO]: clean_val_loss: 1.6093614101409912\n",
      "2023-11-24 22:03:50,375 [INFO]: epoch: 31\n",
      "2023-11-24 22:03:50,710 [INFO]: clean_train_acc_epoch: 0.2860666811466217\n",
      "2023-11-24 22:03:50,712 [INFO]: clean_train_loss_epoch: 1.8918240070343018\n",
      "2023-11-24 22:03:50,713 [INFO]: epoch: 31\n",
      "2023-11-24 22:04:55,545 [INFO]: lr-SGD: 0.0040000682213718886\n",
      "2023-11-24 22:04:57,097 [INFO]: clean_train_acc_step: 0.3046875\n",
      "2023-11-24 22:04:57,099 [INFO]: clean_train_loss_step: 1.8638242483139038\n",
      "2023-11-24 22:04:57,102 [INFO]: epoch: 32\n"
     ]
    },
    {
     "data": {
      "application/vnd.jupyter.widget-view+json": {
       "model_id": "f353dd1a737f4b7a9285d7ea5562b3bc",
       "version_major": 2,
       "version_minor": 0
      },
      "text/plain": [
       "Validation: 0it [00:00, ?it/s]"
      ]
     },
     "metadata": {},
     "output_type": "display_data"
    },
    {
     "name": "stderr",
     "output_type": "stream",
     "text": [
      "2023-11-24 22:05:01,994 [INFO]: clean_val_acc: 0.4324823319911957\n",
      "2023-11-24 22:05:01,995 [INFO]: clean_val_loss: 1.5983667373657227\n",
      "2023-11-24 22:05:01,996 [INFO]: epoch: 32\n",
      "2023-11-24 22:05:02,330 [INFO]: clean_train_acc_epoch: 0.2863333225250244\n",
      "2023-11-24 22:05:02,332 [INFO]: clean_train_loss_epoch: 1.885405421257019\n",
      "2023-11-24 22:05:02,333 [INFO]: epoch: 32\n"
     ]
    },
    {
     "data": {
      "application/vnd.jupyter.widget-view+json": {
       "model_id": "dfc08b43e24f4fb7ba66d7c8fc922e85",
       "version_major": 2,
       "version_minor": 0
      },
      "text/plain": [
       "Validation: 0it [00:00, ?it/s]"
      ]
     },
     "metadata": {},
     "output_type": "display_data"
    },
    {
     "name": "stderr",
     "output_type": "stream",
     "text": [
      "2023-11-24 22:06:13,501 [INFO]: clean_val_acc: 0.4333137571811676\n",
      "2023-11-24 22:06:13,504 [INFO]: clean_val_loss: 1.5958009958267212\n",
      "2023-11-24 22:06:13,505 [INFO]: epoch: 33\n",
      "2023-11-24 22:06:13,859 [INFO]: clean_train_acc_epoch: 0.28797778487205505\n",
      "2023-11-24 22:06:13,861 [INFO]: clean_train_loss_epoch: 1.8854008913040161\n",
      "2023-11-24 22:06:13,863 [INFO]: epoch: 33\n",
      "2023-11-24 22:06:20,155 [INFO]: lr-SGD: 0.004000073010771252\n",
      "2023-11-24 22:06:21,708 [INFO]: clean_train_acc_step: 0.3154296875\n",
      "2023-11-24 22:06:21,709 [INFO]: clean_train_loss_step: 1.855046272277832\n",
      "2023-11-24 22:06:21,710 [INFO]: epoch: 34\n"
     ]
    },
    {
     "data": {
      "application/vnd.jupyter.widget-view+json": {
       "model_id": "a58757ceb5924664ae7b71366b719771",
       "version_major": 2,
       "version_minor": 0
      },
      "text/plain": [
       "Validation: 0it [00:00, ?it/s]"
      ]
     },
     "metadata": {},
     "output_type": "display_data"
    },
    {
     "name": "stderr",
     "output_type": "stream",
     "text": [
      "2023-11-24 22:07:25,040 [INFO]: clean_val_acc: 0.43504562973976135\n",
      "2023-11-24 22:07:25,042 [INFO]: clean_val_loss: 1.5884568691253662\n",
      "2023-11-24 22:07:25,044 [INFO]: epoch: 34\n",
      "2023-11-24 22:07:25,367 [INFO]: clean_train_acc_epoch: 0.2910444438457489\n",
      "2023-11-24 22:07:25,369 [INFO]: clean_train_loss_epoch: 1.878484845161438\n",
      "2023-11-24 22:07:25,370 [INFO]: epoch: 34\n",
      "2023-11-24 22:07:40,883 [INFO]: lr-SGD: 0.004000077962633089\n",
      "2023-11-24 22:07:42,432 [INFO]: clean_train_acc_step: 0.31640625\n",
      "2023-11-24 22:07:42,434 [INFO]: clean_train_loss_step: 1.8158122301101685\n",
      "2023-11-24 22:07:42,435 [INFO]: epoch: 35\n"
     ]
    },
    {
     "data": {
      "application/vnd.jupyter.widget-view+json": {
       "model_id": "ebb0ef49413d4dd7a542fb6252eb84a1",
       "version_major": 2,
       "version_minor": 0
      },
      "text/plain": [
       "Validation: 0it [00:00, ?it/s]"
      ]
     },
     "metadata": {},
     "output_type": "display_data"
    },
    {
     "name": "stderr",
     "output_type": "stream",
     "text": [
      "2023-11-24 22:08:36,547 [INFO]: clean_val_acc: 0.43987661600112915\n",
      "2023-11-24 22:08:36,549 [INFO]: clean_val_loss: 1.5849943161010742\n",
      "2023-11-24 22:08:36,550 [INFO]: epoch: 35\n",
      "2023-11-24 22:08:36,896 [INFO]: clean_train_acc_epoch: 0.2922222316265106\n",
      "2023-11-24 22:08:36,897 [INFO]: clean_train_loss_epoch: 1.875745177268982\n",
      "2023-11-24 22:08:36,899 [INFO]: epoch: 35\n",
      "2023-11-24 22:09:01,525 [INFO]: lr-SGD: 0.004000083076957414\n",
      "2023-11-24 22:09:03,085 [INFO]: clean_train_acc_step: 0.296875\n",
      "2023-11-24 22:09:03,086 [INFO]: clean_train_loss_step: 1.8940050601959229\n",
      "2023-11-24 22:09:03,087 [INFO]: epoch: 36\n"
     ]
    },
    {
     "data": {
      "application/vnd.jupyter.widget-view+json": {
       "model_id": "4007710fc2e8459f846575410c31e74c",
       "version_major": 2,
       "version_minor": 0
      },
      "text/plain": [
       "Validation: 0it [00:00, ?it/s]"
      ]
     },
     "metadata": {},
     "output_type": "display_data"
    },
    {
     "name": "stderr",
     "output_type": "stream",
     "text": [
      "2023-11-24 22:09:48,548 [INFO]: clean_val_acc: 0.4476493299007416\n",
      "2023-11-24 22:09:48,550 [INFO]: clean_val_loss: 1.5748907327651978\n",
      "2023-11-24 22:09:48,551 [INFO]: epoch: 36\n",
      "2023-11-24 22:09:48,887 [INFO]: clean_train_acc_epoch: 0.2940889000892639\n",
      "2023-11-24 22:09:48,889 [INFO]: clean_train_loss_epoch: 1.870443344116211\n",
      "2023-11-24 22:09:48,890 [INFO]: epoch: 36\n",
      "2023-11-24 22:10:22,727 [INFO]: lr-SGD: 0.004000088353744213\n",
      "2023-11-24 22:10:24,277 [INFO]: clean_train_acc_step: 0.2802734375\n",
      "2023-11-24 22:10:24,279 [INFO]: clean_train_loss_step: 1.9110606908798218\n",
      "2023-11-24 22:10:24,281 [INFO]: epoch: 37\n"
     ]
    },
    {
     "data": {
      "application/vnd.jupyter.widget-view+json": {
       "model_id": "019a1c3a1125493b998d1cfa1a701dee",
       "version_major": 2,
       "version_minor": 0
      },
      "text/plain": [
       "Validation: 0it [00:00, ?it/s]"
      ]
     },
     "metadata": {},
     "output_type": "display_data"
    },
    {
     "name": "stderr",
     "output_type": "stream",
     "text": [
      "2023-11-24 22:10:59,897 [INFO]: clean_val_acc: 0.4412956237792969\n",
      "2023-11-24 22:10:59,899 [INFO]: clean_val_loss: 1.5721056461334229\n",
      "2023-11-24 22:10:59,901 [INFO]: epoch: 37\n",
      "2023-11-24 22:11:00,228 [INFO]: clean_train_acc_epoch: 0.2952444553375244\n",
      "2023-11-24 22:11:00,230 [INFO]: clean_train_loss_epoch: 1.8660248517990112\n",
      "2023-11-24 22:11:00,234 [INFO]: epoch: 37\n",
      "2023-11-24 22:11:43,616 [INFO]: lr-SGD: 0.004000093792993445\n",
      "2023-11-24 22:11:45,172 [INFO]: clean_train_acc_step: 0.2890625\n",
      "2023-11-24 22:11:45,174 [INFO]: clean_train_loss_step: 1.8837707042694092\n",
      "2023-11-24 22:11:45,175 [INFO]: epoch: 38\n"
     ]
    },
    {
     "data": {
      "application/vnd.jupyter.widget-view+json": {
       "model_id": "5b7347806d234b17a00821cd9acf3887",
       "version_major": 2,
       "version_minor": 0
      },
      "text/plain": [
       "Validation: 0it [00:00, ?it/s]"
      ]
     },
     "metadata": {},
     "output_type": "display_data"
    },
    {
     "name": "stderr",
     "output_type": "stream",
     "text": [
      "2023-11-24 22:12:11,575 [INFO]: clean_val_acc: 0.44694414734840393\n",
      "2023-11-24 22:12:11,577 [INFO]: clean_val_loss: 1.5739891529083252\n",
      "2023-11-24 22:12:11,578 [INFO]: epoch: 38\n",
      "2023-11-24 22:12:11,925 [INFO]: clean_train_acc_epoch: 0.29535555839538574\n",
      "2023-11-24 22:12:11,927 [INFO]: clean_train_loss_epoch: 1.8624459505081177\n",
      "2023-11-24 22:12:11,929 [INFO]: epoch: 38\n",
      "2023-11-24 22:13:04,408 [INFO]: lr-SGD: 0.004000099394705109\n",
      "2023-11-24 22:13:05,960 [INFO]: clean_train_acc_step: 0.298828125\n",
      "2023-11-24 22:13:05,961 [INFO]: clean_train_loss_step: 1.8121384382247925\n",
      "2023-11-24 22:13:05,963 [INFO]: epoch: 39\n"
     ]
    },
    {
     "data": {
      "application/vnd.jupyter.widget-view+json": {
       "model_id": "fcce65af9fdd4064af5f5e2babf36664",
       "version_major": 2,
       "version_minor": 0
      },
      "text/plain": [
       "Validation: 0it [00:00, ?it/s]"
      ]
     },
     "metadata": {},
     "output_type": "display_data"
    },
    {
     "name": "stderr",
     "output_type": "stream",
     "text": [
      "2023-11-24 22:13:23,125 [INFO]: clean_val_acc: 0.44964224100112915\n",
      "2023-11-24 22:13:23,127 [INFO]: clean_val_loss: 1.5652697086334229\n",
      "2023-11-24 22:13:23,129 [INFO]: epoch: 39\n",
      "2023-11-24 22:13:23,469 [INFO]: clean_train_acc_epoch: 0.2985333204269409\n",
      "2023-11-24 22:13:23,471 [INFO]: clean_train_loss_epoch: 1.8581360578536987\n",
      "2023-11-24 22:13:23,471 [INFO]: epoch: 39\n",
      "2023-11-24 22:14:25,126 [INFO]: lr-SGD: 0.0040001051588791775\n",
      "2023-11-24 22:14:26,683 [INFO]: clean_train_acc_step: 0.3095703125\n",
      "2023-11-24 22:14:26,686 [INFO]: clean_train_loss_step: 1.8256678581237793\n",
      "2023-11-24 22:14:26,687 [INFO]: epoch: 40\n"
     ]
    },
    {
     "data": {
      "application/vnd.jupyter.widget-view+json": {
       "model_id": "d6545b338d6b4f47beae30e81b149d83",
       "version_major": 2,
       "version_minor": 0
      },
      "text/plain": [
       "Validation: 0it [00:00, ?it/s]"
      ]
     },
     "metadata": {},
     "output_type": "display_data"
    },
    {
     "name": "stderr",
     "output_type": "stream",
     "text": [
      "2023-11-24 22:14:34,597 [INFO]: clean_val_acc: 0.45211559534072876\n",
      "2023-11-24 22:14:34,599 [INFO]: clean_val_loss: 1.557618498802185\n",
      "2023-11-24 22:14:34,600 [INFO]: epoch: 40\n",
      "2023-11-24 22:14:34,943 [INFO]: clean_train_acc_epoch: 0.29731109738349915\n",
      "2023-11-24 22:14:34,945 [INFO]: clean_train_loss_epoch: 1.855577826499939\n",
      "2023-11-24 22:14:34,947 [INFO]: epoch: 40\n"
     ]
    },
    {
     "data": {
      "application/vnd.jupyter.widget-view+json": {
       "model_id": "1b4b2e284545405cb270bc5d7c2836e3",
       "version_major": 2,
       "version_minor": 0
      },
      "text/plain": [
       "Validation: 0it [00:00, ?it/s]"
      ]
     },
     "metadata": {},
     "output_type": "display_data"
    },
    {
     "name": "stderr",
     "output_type": "stream",
     "text": [
      "2023-11-24 22:15:46,168 [INFO]: clean_val_acc: 0.45431414246559143\n",
      "2023-11-24 22:15:46,170 [INFO]: clean_val_loss: 1.557283639907837\n",
      "2023-11-24 22:15:46,171 [INFO]: epoch: 41\n",
      "2023-11-24 22:15:46,500 [INFO]: clean_train_acc_epoch: 0.2996888756752014\n",
      "2023-11-24 22:15:46,501 [INFO]: clean_train_loss_epoch: 1.8500540256500244\n",
      "2023-11-24 22:15:46,502 [INFO]: epoch: 41\n",
      "2023-11-24 22:15:49,729 [INFO]: lr-SGD: 0.004000111085515637\n",
      "2023-11-24 22:15:51,279 [INFO]: clean_train_acc_step: 0.2978515625\n",
      "2023-11-24 22:15:51,281 [INFO]: clean_train_loss_step: 1.868436336517334\n",
      "2023-11-24 22:15:51,283 [INFO]: epoch: 42\n"
     ]
    },
    {
     "data": {
      "application/vnd.jupyter.widget-view+json": {
       "model_id": "ef95e70589554825a72488c037348cb7",
       "version_major": 2,
       "version_minor": 0
      },
      "text/plain": [
       "Validation: 0it [00:00, ?it/s]"
      ]
     },
     "metadata": {},
     "output_type": "display_data"
    },
    {
     "name": "stderr",
     "output_type": "stream",
     "text": [
      "2023-11-24 22:16:57,630 [INFO]: clean_val_acc: 0.4574132561683655\n",
      "2023-11-24 22:16:57,633 [INFO]: clean_val_loss: 1.5441745519638062\n",
      "2023-11-24 22:16:57,634 [INFO]: epoch: 42\n",
      "2023-11-24 22:16:57,973 [INFO]: clean_train_acc_epoch: 0.3025111258029938\n",
      "2023-11-24 22:16:57,975 [INFO]: clean_train_loss_epoch: 1.8465856313705444\n",
      "2023-11-24 22:16:57,976 [INFO]: epoch: 42\n",
      "2023-11-24 22:17:10,387 [INFO]: lr-SGD: 0.004000117174614459\n",
      "2023-11-24 22:17:11,942 [INFO]: clean_train_acc_step: 0.322265625\n",
      "2023-11-24 22:17:11,944 [INFO]: clean_train_loss_step: 1.8431377410888672\n",
      "2023-11-24 22:17:11,945 [INFO]: epoch: 43\n"
     ]
    },
    {
     "data": {
      "application/vnd.jupyter.widget-view+json": {
       "model_id": "5803811c2f2847679bf0f23139f98290",
       "version_major": 2,
       "version_minor": 0
      },
      "text/plain": [
       "Validation: 0it [00:00, ?it/s]"
      ]
     },
     "metadata": {},
     "output_type": "display_data"
    },
    {
     "name": "stderr",
     "output_type": "stream",
     "text": [
      "2023-11-24 22:18:09,044 [INFO]: clean_val_acc: 0.4611760079860687\n",
      "2023-11-24 22:18:09,046 [INFO]: clean_val_loss: 1.5397205352783203\n",
      "2023-11-24 22:18:09,047 [INFO]: epoch: 43\n",
      "2023-11-24 22:18:09,361 [INFO]: clean_train_acc_epoch: 0.3024444580078125\n",
      "2023-11-24 22:18:09,363 [INFO]: clean_train_loss_epoch: 1.842750906944275\n",
      "2023-11-24 22:18:09,365 [INFO]: epoch: 43\n",
      "2023-11-24 22:18:31,062 [INFO]: lr-SGD: 0.004000123426175645\n",
      "2023-11-24 22:18:32,617 [INFO]: clean_train_acc_step: 0.3095703125\n",
      "2023-11-24 22:18:32,619 [INFO]: clean_train_loss_step: 1.8275033235549927\n",
      "2023-11-24 22:18:32,620 [INFO]: epoch: 44\n"
     ]
    },
    {
     "data": {
      "application/vnd.jupyter.widget-view+json": {
       "model_id": "76a713fd926a4c599e9f78331c4f75c5",
       "version_major": 2,
       "version_minor": 0
      },
      "text/plain": [
       "Validation: 0it [00:00, ?it/s]"
      ]
     },
     "metadata": {},
     "output_type": "display_data"
    },
    {
     "name": "stderr",
     "output_type": "stream",
     "text": [
      "2023-11-24 22:19:20,535 [INFO]: clean_val_acc: 0.4606955051422119\n",
      "2023-11-24 22:19:20,537 [INFO]: clean_val_loss: 1.5378292798995972\n",
      "2023-11-24 22:19:20,538 [INFO]: epoch: 44\n",
      "2023-11-24 22:19:20,863 [INFO]: clean_train_acc_epoch: 0.30362221598625183\n",
      "2023-11-24 22:19:20,865 [INFO]: clean_train_loss_epoch: 1.8401986360549927\n",
      "2023-11-24 22:19:20,866 [INFO]: epoch: 44\n",
      "2023-11-24 22:19:51,955 [INFO]: lr-SGD: 0.0040001298401991375\n",
      "2023-11-24 22:19:53,511 [INFO]: clean_train_acc_step: 0.3212890625\n",
      "2023-11-24 22:19:53,514 [INFO]: clean_train_loss_step: 1.856221318244934\n",
      "2023-11-24 22:19:53,516 [INFO]: epoch: 45\n"
     ]
    },
    {
     "data": {
      "application/vnd.jupyter.widget-view+json": {
       "model_id": "c92cb35444f64930962362d42693b715",
       "version_major": 2,
       "version_minor": 0
      },
      "text/plain": [
       "Validation: 0it [00:00, ?it/s]"
      ]
     },
     "metadata": {},
     "output_type": "display_data"
    },
    {
     "name": "stderr",
     "output_type": "stream",
     "text": [
      "2023-11-24 22:20:32,210 [INFO]: clean_val_acc: 0.465251624584198\n",
      "2023-11-24 22:20:32,212 [INFO]: clean_val_loss: 1.5305238962173462\n",
      "2023-11-24 22:20:32,213 [INFO]: epoch: 45\n",
      "2023-11-24 22:20:32,555 [INFO]: clean_train_acc_epoch: 0.3071777820587158\n",
      "2023-11-24 22:20:32,557 [INFO]: clean_train_loss_epoch: 1.8353430032730103\n",
      "2023-11-24 22:20:32,558 [INFO]: epoch: 45\n",
      "2023-11-24 22:21:12,610 [INFO]: lr-SGD: 0.004000136416684952\n",
      "2023-11-24 22:21:14,161 [INFO]: clean_train_acc_step: 0.3076171875\n",
      "2023-11-24 22:21:14,163 [INFO]: clean_train_loss_step: 1.787996768951416\n",
      "2023-11-24 22:21:14,164 [INFO]: epoch: 46\n"
     ]
    },
    {
     "data": {
      "application/vnd.jupyter.widget-view+json": {
       "model_id": "c86263f281ac45379a37eeb4403d06d1",
       "version_major": 2,
       "version_minor": 0
      },
      "text/plain": [
       "Validation: 0it [00:00, ?it/s]"
      ]
     },
     "metadata": {},
     "output_type": "display_data"
    },
    {
     "name": "stderr",
     "output_type": "stream",
     "text": [
      "2023-11-24 22:21:43,645 [INFO]: clean_val_acc: 0.4665548801422119\n",
      "2023-11-24 22:21:43,646 [INFO]: clean_val_loss: 1.5274158716201782\n",
      "2023-11-24 22:21:43,647 [INFO]: epoch: 46\n",
      "2023-11-24 22:21:43,978 [INFO]: clean_train_acc_epoch: 0.3081333339214325\n",
      "2023-11-24 22:21:43,980 [INFO]: clean_train_loss_epoch: 1.8316888809204102\n",
      "2023-11-24 22:21:43,981 [INFO]: epoch: 46\n",
      "2023-11-24 22:22:33,337 [INFO]: lr-SGD: 0.004000143155633032\n",
      "2023-11-24 22:22:34,891 [INFO]: clean_train_acc_step: 0.326171875\n",
      "2023-11-24 22:22:34,892 [INFO]: clean_train_loss_step: 1.8109047412872314\n",
      "2023-11-24 22:22:34,895 [INFO]: epoch: 47\n"
     ]
    },
    {
     "data": {
      "application/vnd.jupyter.widget-view+json": {
       "model_id": "0957898733ef46fe87a0c4044968d9ef",
       "version_major": 2,
       "version_minor": 0
      },
      "text/plain": [
       "Validation: 0it [00:00, ?it/s]"
      ]
     },
     "metadata": {},
     "output_type": "display_data"
    },
    {
     "name": "stderr",
     "output_type": "stream",
     "text": [
      "2023-11-24 22:22:55,129 [INFO]: clean_val_acc: 0.4696643352508545\n",
      "2023-11-24 22:22:55,131 [INFO]: clean_val_loss: 1.5264627933502197\n",
      "2023-11-24 22:22:55,133 [INFO]: epoch: 47\n",
      "2023-11-24 22:22:55,459 [INFO]: clean_train_acc_epoch: 0.308555543422699\n",
      "2023-11-24 22:22:55,460 [INFO]: clean_train_loss_epoch: 1.8284944295883179\n",
      "2023-11-24 22:22:55,462 [INFO]: epoch: 47\n",
      "2023-11-24 22:23:54,224 [INFO]: lr-SGD: 0.004000150057043392\n",
      "2023-11-24 22:23:55,777 [INFO]: clean_train_acc_step: 0.27734375\n",
      "2023-11-24 22:23:55,779 [INFO]: clean_train_loss_step: 1.8701444864273071\n",
      "2023-11-24 22:23:55,780 [INFO]: epoch: 48\n"
     ]
    },
    {
     "data": {
      "application/vnd.jupyter.widget-view+json": {
       "model_id": "5b296037fc114fe6a468d9f04234891f",
       "version_major": 2,
       "version_minor": 0
      },
      "text/plain": [
       "Validation: 0it [00:00, ?it/s]"
      ]
     },
     "metadata": {},
     "output_type": "display_data"
    },
    {
     "name": "stderr",
     "output_type": "stream",
     "text": [
      "2023-11-24 22:24:06,800 [INFO]: clean_val_acc: 0.4700031280517578\n",
      "2023-11-24 22:24:06,802 [INFO]: clean_val_loss: 1.5107864141464233\n",
      "2023-11-24 22:24:06,805 [INFO]: epoch: 48\n",
      "2023-11-24 22:24:07,137 [INFO]: clean_train_acc_epoch: 0.31084445118904114\n",
      "2023-11-24 22:24:07,139 [INFO]: clean_train_loss_epoch: 1.8237758874893188\n",
      "2023-11-24 22:24:07,141 [INFO]: epoch: 48\n",
      "2023-11-24 22:25:14,879 [INFO]: lr-SGD: 0.004000157120915976\n",
      "2023-11-24 22:25:16,330 [INFO]: clean_train_acc_step: 0.31611570715904236\n",
      "2023-11-24 22:25:16,332 [INFO]: clean_train_loss_step: 1.7715952396392822\n",
      "2023-11-24 22:25:16,334 [INFO]: epoch: 49\n"
     ]
    },
    {
     "data": {
      "application/vnd.jupyter.widget-view+json": {
       "model_id": "ab3e12ef8abc4b3fb2795bc559106d47",
       "version_major": 2,
       "version_minor": 0
      },
      "text/plain": [
       "Validation: 0it [00:00, ?it/s]"
      ]
     },
     "metadata": {},
     "output_type": "display_data"
    },
    {
     "name": "stderr",
     "output_type": "stream",
     "text": [
      "2023-11-24 22:25:18,202 [INFO]: clean_val_acc: 0.4660847783088684\n",
      "2023-11-24 22:25:18,203 [INFO]: clean_val_loss: 1.5081008672714233\n",
      "2023-11-24 22:25:18,205 [INFO]: epoch: 49\n",
      "2023-11-24 22:25:18,239 [INFO]: clean_train_acc_epoch: 0.3085777759552002\n",
      "2023-11-24 22:25:18,240 [INFO]: clean_train_loss_epoch: 1.8220016956329346\n",
      "2023-11-24 22:25:18,241 [INFO]: epoch: 49\n"
     ]
    },
    {
     "data": {
      "application/vnd.jupyter.widget-view+json": {
       "model_id": "32d4d5f760344f13a847d53aead4f971",
       "version_major": 2,
       "version_minor": 0
      },
      "text/plain": [
       "Validation: 0it [00:00, ?it/s]"
      ]
     },
     "metadata": {},
     "output_type": "display_data"
    },
    {
     "name": "stderr",
     "output_type": "stream",
     "text": [
      "2023-11-24 22:26:29,327 [INFO]: clean_val_acc: 0.4709537625312805\n",
      "2023-11-24 22:26:29,329 [INFO]: clean_val_loss: 1.512333631515503\n",
      "2023-11-24 22:26:29,330 [INFO]: epoch: 50\n",
      "2023-11-24 22:26:29,649 [INFO]: clean_train_acc_epoch: 0.31217777729034424\n",
      "2023-11-24 22:26:29,651 [INFO]: clean_train_loss_epoch: 1.8169691562652588\n",
      "2023-11-24 22:26:29,652 [INFO]: epoch: 50\n",
      "2023-11-24 22:26:39,013 [INFO]: lr-SGD: 0.004000164347250784\n",
      "2023-11-24 22:26:40,565 [INFO]: clean_train_acc_step: 0.3125\n",
      "2023-11-24 22:26:40,567 [INFO]: clean_train_loss_step: 1.7995209693908691\n",
      "2023-11-24 22:26:40,568 [INFO]: epoch: 51\n"
     ]
    },
    {
     "data": {
      "application/vnd.jupyter.widget-view+json": {
       "model_id": "419c8a947d5649eab4552499f9046974",
       "version_major": 2,
       "version_minor": 0
      },
      "text/plain": [
       "Validation: 0it [00:00, ?it/s]"
      ]
     },
     "metadata": {},
     "output_type": "display_data"
    },
    {
     "name": "stderr",
     "output_type": "stream",
     "text": [
      "2023-11-24 22:27:40,807 [INFO]: clean_val_acc: 0.4787524342536926\n",
      "2023-11-24 22:27:40,809 [INFO]: clean_val_loss: 1.4943816661834717\n",
      "2023-11-24 22:27:40,810 [INFO]: epoch: 51\n",
      "2023-11-24 22:27:41,183 [INFO]: clean_train_acc_epoch: 0.3153555691242218\n",
      "2023-11-24 22:27:41,185 [INFO]: clean_train_loss_epoch: 1.813672423362732\n",
      "2023-11-24 22:27:41,187 [INFO]: epoch: 51\n",
      "2023-11-24 22:27:59,747 [INFO]: lr-SGD: 0.004000171736047761\n",
      "2023-11-24 22:28:01,305 [INFO]: clean_train_acc_step: 0.322265625\n",
      "2023-11-24 22:28:01,306 [INFO]: clean_train_loss_step: 1.7880525588989258\n",
      "2023-11-24 22:28:01,307 [INFO]: epoch: 52\n"
     ]
    },
    {
     "data": {
      "application/vnd.jupyter.widget-view+json": {
       "model_id": "bfe9d7172dce48b885e2767096a862a1",
       "version_major": 2,
       "version_minor": 0
      },
      "text/plain": [
       "Validation: 0it [00:00, ?it/s]"
      ]
     },
     "metadata": {},
     "output_type": "display_data"
    },
    {
     "name": "stderr",
     "output_type": "stream",
     "text": [
      "2023-11-24 22:28:52,342 [INFO]: clean_val_acc: 0.4734012186527252\n",
      "2023-11-24 22:28:52,343 [INFO]: clean_val_loss: 1.5030004978179932\n",
      "2023-11-24 22:28:52,346 [INFO]: epoch: 52\n",
      "2023-11-24 22:28:52,665 [INFO]: clean_train_acc_epoch: 0.31431111693382263\n",
      "2023-11-24 22:28:52,667 [INFO]: clean_train_loss_epoch: 1.8092119693756104\n",
      "2023-11-24 22:28:52,669 [INFO]: epoch: 52\n",
      "2023-11-24 22:29:20,525 [INFO]: lr-SGD: 0.004000179287306907\n",
      "2023-11-24 22:29:22,081 [INFO]: clean_train_acc_step: 0.2958984375\n",
      "2023-11-24 22:29:22,083 [INFO]: clean_train_loss_step: 1.8611762523651123\n",
      "2023-11-24 22:29:22,084 [INFO]: epoch: 53\n"
     ]
    },
    {
     "data": {
      "application/vnd.jupyter.widget-view+json": {
       "model_id": "1f6997ce190c401099e359da6baaf2d0",
       "version_major": 2,
       "version_minor": 0
      },
      "text/plain": [
       "Validation: 0it [00:00, ?it/s]"
      ]
     },
     "metadata": {},
     "output_type": "display_data"
    },
    {
     "name": "stderr",
     "output_type": "stream",
     "text": [
      "2023-11-24 22:30:03,861 [INFO]: clean_val_acc: 0.4834520220756531\n",
      "2023-11-24 22:30:03,864 [INFO]: clean_val_loss: 1.4980887174606323\n",
      "2023-11-24 22:30:03,865 [INFO]: epoch: 53\n",
      "2023-11-24 22:30:04,198 [INFO]: clean_train_acc_epoch: 0.31706666946411133\n",
      "2023-11-24 22:30:04,200 [INFO]: clean_train_loss_epoch: 1.8052133321762085\n",
      "2023-11-24 22:30:04,203 [INFO]: epoch: 53\n",
      "2023-11-24 22:30:41,438 [INFO]: lr-SGD: 0.004000187001028194\n",
      "2023-11-24 22:30:43,003 [INFO]: clean_train_acc_step: 0.306640625\n",
      "2023-11-24 22:30:43,005 [INFO]: clean_train_loss_step: 1.868565559387207\n",
      "2023-11-24 22:30:43,007 [INFO]: epoch: 54\n"
     ]
    },
    {
     "data": {
      "application/vnd.jupyter.widget-view+json": {
       "model_id": "3e2c47d275764f9dbb40b223578b7331",
       "version_major": 2,
       "version_minor": 0
      },
      "text/plain": [
       "Validation: 0it [00:00, ?it/s]"
      ]
     },
     "metadata": {},
     "output_type": "display_data"
    },
    {
     "name": "stderr",
     "output_type": "stream",
     "text": [
      "2023-11-24 22:31:15,611 [INFO]: clean_val_acc: 0.48204678297042847\n",
      "2023-11-24 22:31:15,613 [INFO]: clean_val_loss: 1.4765743017196655\n",
      "2023-11-24 22:31:15,613 [INFO]: epoch: 54\n",
      "2023-11-24 22:31:15,946 [INFO]: clean_train_acc_epoch: 0.32100000977516174\n",
      "2023-11-24 22:31:15,948 [INFO]: clean_train_loss_epoch: 1.7989397048950195\n",
      "2023-11-24 22:31:15,950 [INFO]: epoch: 54\n",
      "2023-11-24 22:32:02,266 [INFO]: lr-SGD: 0.004000194877211594\n",
      "2023-11-24 22:32:03,824 [INFO]: clean_train_acc_step: 0.34375\n",
      "2023-11-24 22:32:03,827 [INFO]: clean_train_loss_step: 1.7736202478408813\n",
      "2023-11-24 22:32:03,829 [INFO]: epoch: 55\n"
     ]
    },
    {
     "data": {
      "application/vnd.jupyter.widget-view+json": {
       "model_id": "c48dd58bffeb47aaba4c847e652205ab",
       "version_major": 2,
       "version_minor": 0
      },
      "text/plain": [
       "Validation: 0it [00:00, ?it/s]"
      ]
     },
     "metadata": {},
     "output_type": "display_data"
    },
    {
     "name": "stderr",
     "output_type": "stream",
     "text": [
      "2023-11-24 22:32:27,171 [INFO]: clean_val_acc: 0.4814729690551758\n",
      "2023-11-24 22:32:27,173 [INFO]: clean_val_loss: 1.4885203838348389\n",
      "2023-11-24 22:32:27,175 [INFO]: epoch: 55\n",
      "2023-11-24 22:32:27,203 [INFO]: clean_train_acc_epoch: 0.3179111182689667\n",
      "2023-11-24 22:32:27,205 [INFO]: clean_train_loss_epoch: 1.7989330291748047\n",
      "2023-11-24 22:32:27,206 [INFO]: epoch: 55\n",
      "2023-11-24 22:33:22,765 [INFO]: lr-SGD: 0.004000202915857065\n",
      "2023-11-24 22:33:24,323 [INFO]: clean_train_acc_step: 0.328125\n",
      "2023-11-24 22:33:24,326 [INFO]: clean_train_loss_step: 1.7775099277496338\n",
      "2023-11-24 22:33:24,327 [INFO]: epoch: 56\n"
     ]
    },
    {
     "data": {
      "application/vnd.jupyter.widget-view+json": {
       "model_id": "9f97da122cc4479cb4b11ccc5928cfaf",
       "version_major": 2,
       "version_minor": 0
      },
      "text/plain": [
       "Validation: 0it [00:00, ?it/s]"
      ]
     },
     "metadata": {},
     "output_type": "display_data"
    },
    {
     "name": "stderr",
     "output_type": "stream",
     "text": [
      "2023-11-24 22:33:38,462 [INFO]: clean_val_acc: 0.493608295917511\n",
      "2023-11-24 22:33:38,463 [INFO]: clean_val_loss: 1.4718515872955322\n",
      "2023-11-24 22:33:38,464 [INFO]: epoch: 56\n",
      "2023-11-24 22:33:38,813 [INFO]: clean_train_acc_epoch: 0.31993332505226135\n",
      "2023-11-24 22:33:38,814 [INFO]: clean_train_loss_epoch: 1.7960760593414307\n",
      "2023-11-24 22:33:38,816 [INFO]: epoch: 56\n",
      "2023-11-24 22:34:43,757 [INFO]: lr-SGD: 0.004000211116964608\n",
      "2023-11-24 22:34:45,313 [INFO]: clean_train_acc_step: 0.314453125\n",
      "2023-11-24 22:34:45,315 [INFO]: clean_train_loss_step: 1.7800517082214355\n",
      "2023-11-24 22:34:45,317 [INFO]: epoch: 57\n"
     ]
    },
    {
     "data": {
      "application/vnd.jupyter.widget-view+json": {
       "model_id": "11a138acbc064831b4734f196e6aaeea",
       "version_major": 2,
       "version_minor": 0
      },
      "text/plain": [
       "Validation: 0it [00:00, ?it/s]"
      ]
     },
     "metadata": {},
     "output_type": "display_data"
    },
    {
     "name": "stderr",
     "output_type": "stream",
     "text": [
      "2023-11-24 22:34:50,222 [INFO]: clean_val_acc: 0.48440438508987427\n",
      "2023-11-24 22:34:50,224 [INFO]: clean_val_loss: 1.4673755168914795\n",
      "2023-11-24 22:34:50,226 [INFO]: epoch: 57\n",
      "2023-11-24 22:34:50,563 [INFO]: clean_train_acc_epoch: 0.32111111283302307\n",
      "2023-11-24 22:34:50,565 [INFO]: clean_train_loss_epoch: 1.7901201248168945\n",
      "2023-11-24 22:34:50,566 [INFO]: epoch: 57\n"
     ]
    },
    {
     "data": {
      "application/vnd.jupyter.widget-view+json": {
       "model_id": "bedefdebdda74be096172c4be3cadbfb",
       "version_major": 2,
       "version_minor": 0
      },
      "text/plain": [
       "Validation: 0it [00:00, ?it/s]"
      ]
     },
     "metadata": {},
     "output_type": "display_data"
    },
    {
     "name": "stderr",
     "output_type": "stream",
     "text": [
      "2023-11-24 22:36:01,779 [INFO]: clean_val_acc: 0.48778867721557617\n",
      "2023-11-24 22:36:01,781 [INFO]: clean_val_loss: 1.4834668636322021\n",
      "2023-11-24 22:36:01,782 [INFO]: epoch: 58\n",
      "2023-11-24 22:36:02,095 [INFO]: clean_train_acc_epoch: 0.32264444231987\n",
      "2023-11-24 22:36:02,097 [INFO]: clean_train_loss_epoch: 1.7889593839645386\n",
      "2023-11-24 22:36:02,098 [INFO]: epoch: 58\n",
      "2023-11-24 22:36:08,590 [INFO]: lr-SGD: 0.004000219480534181\n",
      "2023-11-24 22:36:10,524 [INFO]: clean_train_acc_step: 0.3408203125\n",
      "2023-11-24 22:36:10,526 [INFO]: clean_train_loss_step: 1.7551445960998535\n",
      "2023-11-24 22:36:10,527 [INFO]: epoch: 59\n"
     ]
    },
    {
     "data": {
      "application/vnd.jupyter.widget-view+json": {
       "model_id": "61391cff1e524ffba39b5f00a28c5ef8",
       "version_major": 2,
       "version_minor": 0
      },
      "text/plain": [
       "Validation: 0it [00:00, ?it/s]"
      ]
     },
     "metadata": {},
     "output_type": "display_data"
    },
    {
     "name": "stderr",
     "output_type": "stream",
     "text": [
      "2023-11-24 22:37:13,803 [INFO]: clean_val_acc: 0.4950014054775238\n",
      "2023-11-24 22:37:13,805 [INFO]: clean_val_loss: 1.456128716468811\n",
      "2023-11-24 22:37:13,807 [INFO]: epoch: 59\n",
      "2023-11-24 22:37:14,151 [INFO]: clean_train_acc_epoch: 0.32464444637298584\n",
      "2023-11-24 22:37:14,153 [INFO]: clean_train_loss_epoch: 1.7836743593215942\n",
      "2023-11-24 22:37:14,154 [INFO]: epoch: 59\n",
      "2023-11-24 22:37:29,864 [INFO]: lr-SGD: 0.0040002280065657425\n",
      "2023-11-24 22:37:31,417 [INFO]: clean_train_acc_step: 0.3486328125\n",
      "2023-11-24 22:37:31,418 [INFO]: clean_train_loss_step: 1.7281012535095215\n",
      "2023-11-24 22:37:31,419 [INFO]: epoch: 60\n"
     ]
    },
    {
     "data": {
      "application/vnd.jupyter.widget-view+json": {
       "model_id": "dbae3a24821a4b9b816c41d495ef4b9a",
       "version_major": 2,
       "version_minor": 0
      },
      "text/plain": [
       "Validation: 0it [00:00, ?it/s]"
      ]
     },
     "metadata": {},
     "output_type": "display_data"
    },
    {
     "name": "stderr",
     "output_type": "stream",
     "text": [
      "2023-11-24 22:38:25,591 [INFO]: clean_val_acc: 0.4925280213356018\n",
      "2023-11-24 22:38:25,593 [INFO]: clean_val_loss: 1.4658520221710205\n",
      "2023-11-24 22:38:25,594 [INFO]: epoch: 60\n",
      "2023-11-24 22:38:25,624 [INFO]: clean_train_acc_epoch: 0.3230666518211365\n",
      "2023-11-24 22:38:25,626 [INFO]: clean_train_loss_epoch: 1.781601071357727\n",
      "2023-11-24 22:38:25,627 [INFO]: epoch: 60\n",
      "2023-11-24 22:38:50,322 [INFO]: lr-SGD: 0.004000236695059292\n",
      "2023-11-24 22:38:51,878 [INFO]: clean_train_acc_step: 0.3173828125\n",
      "2023-11-24 22:38:51,879 [INFO]: clean_train_loss_step: 1.8127042055130005\n",
      "2023-11-24 22:38:51,882 [INFO]: epoch: 61\n"
     ]
    },
    {
     "data": {
      "application/vnd.jupyter.widget-view+json": {
       "model_id": "fc896ccdfa2a411a9283e335e5963dc3",
       "version_major": 2,
       "version_minor": 0
      },
      "text/plain": [
       "Validation: 0it [00:00, ?it/s]"
      ]
     },
     "metadata": {},
     "output_type": "display_data"
    },
    {
     "name": "stderr",
     "output_type": "stream",
     "text": [
      "2023-11-24 22:39:36,744 [INFO]: clean_val_acc: 0.4975784718990326\n",
      "2023-11-24 22:39:36,746 [INFO]: clean_val_loss: 1.4622752666473389\n",
      "2023-11-24 22:39:36,749 [INFO]: epoch: 61\n",
      "2023-11-24 22:39:37,103 [INFO]: clean_train_acc_epoch: 0.32733333110809326\n",
      "2023-11-24 22:39:37,104 [INFO]: clean_train_loss_epoch: 1.7769538164138794\n",
      "2023-11-24 22:39:37,106 [INFO]: epoch: 61\n",
      "2023-11-24 22:40:11,133 [INFO]: lr-SGD: 0.0040002455460147746\n",
      "2023-11-24 22:40:12,686 [INFO]: clean_train_acc_step: 0.3095703125\n",
      "2023-11-24 22:40:12,688 [INFO]: clean_train_loss_step: 1.8114145994186401\n",
      "2023-11-24 22:40:12,690 [INFO]: epoch: 62\n"
     ]
    },
    {
     "data": {
      "application/vnd.jupyter.widget-view+json": {
       "model_id": "f27838276f6443999a125afbb2217e10",
       "version_major": 2,
       "version_minor": 0
      },
      "text/plain": [
       "Validation: 0it [00:00, ?it/s]"
      ]
     },
     "metadata": {},
     "output_type": "display_data"
    },
    {
     "name": "stderr",
     "output_type": "stream",
     "text": [
      "2023-11-24 22:40:48,323 [INFO]: clean_val_acc: 0.49794143438339233\n",
      "2023-11-24 22:40:48,325 [INFO]: clean_val_loss: 1.4406660795211792\n",
      "2023-11-24 22:40:48,327 [INFO]: epoch: 62\n",
      "2023-11-24 22:40:48,658 [INFO]: clean_train_acc_epoch: 0.32724443078041077\n",
      "2023-11-24 22:40:48,660 [INFO]: clean_train_loss_epoch: 1.7733854055404663\n",
      "2023-11-24 22:40:48,662 [INFO]: epoch: 62\n",
      "2023-11-24 22:41:32,151 [INFO]: lr-SGD: 0.004000254559432176\n",
      "2023-11-24 22:41:33,708 [INFO]: clean_train_acc_step: 0.3271484375\n",
      "2023-11-24 22:41:33,710 [INFO]: clean_train_loss_step: 1.7791552543640137\n",
      "2023-11-24 22:41:33,712 [INFO]: epoch: 63\n"
     ]
    },
    {
     "data": {
      "application/vnd.jupyter.widget-view+json": {
       "model_id": "af21e7f5c214473dab8ae5367db343a1",
       "version_major": 2,
       "version_minor": 0
      },
      "text/plain": [
       "Validation: 0it [00:00, ?it/s]"
      ]
     },
     "metadata": {},
     "output_type": "display_data"
    },
    {
     "name": "stderr",
     "output_type": "stream",
     "text": [
      "2023-11-24 22:42:00,187 [INFO]: clean_val_acc: 0.4936221241950989\n",
      "2023-11-24 22:42:00,190 [INFO]: clean_val_loss: 1.4564319849014282\n",
      "2023-11-24 22:42:00,191 [INFO]: epoch: 63\n",
      "2023-11-24 22:42:00,228 [INFO]: clean_train_acc_epoch: 0.33104443550109863\n",
      "2023-11-24 22:42:00,230 [INFO]: clean_train_loss_epoch: 1.7699813842773438\n",
      "2023-11-24 22:42:00,231 [INFO]: epoch: 63\n",
      "2023-11-24 22:42:52,791 [INFO]: lr-SGD: 0.0040002637353114545\n",
      "2023-11-24 22:42:54,343 [INFO]: clean_train_acc_step: 0.3330078125\n",
      "2023-11-24 22:42:54,345 [INFO]: clean_train_loss_step: 1.7264078855514526\n",
      "2023-11-24 22:42:54,347 [INFO]: epoch: 64\n"
     ]
    },
    {
     "data": {
      "application/vnd.jupyter.widget-view+json": {
       "model_id": "11e2376b02ef4693b030c3deed6c1105",
       "version_major": 2,
       "version_minor": 0
      },
      "text/plain": [
       "Validation: 0it [00:00, ?it/s]"
      ]
     },
     "metadata": {},
     "output_type": "display_data"
    },
    {
     "name": "stderr",
     "output_type": "stream",
     "text": [
      "2023-11-24 22:43:11,561 [INFO]: clean_val_acc: 0.5050262212753296\n",
      "2023-11-24 22:43:11,563 [INFO]: clean_val_loss: 1.438732624053955\n",
      "2023-11-24 22:43:11,564 [INFO]: epoch: 64\n",
      "2023-11-24 22:43:11,897 [INFO]: clean_train_acc_epoch: 0.3312888741493225\n",
      "2023-11-24 22:43:11,899 [INFO]: clean_train_loss_epoch: 1.7687989473342896\n",
      "2023-11-24 22:43:11,900 [INFO]: epoch: 64\n",
      "2023-11-24 22:44:13,815 [INFO]: lr-SGD: 0.0040002730736525965\n",
      "2023-11-24 22:44:15,372 [INFO]: clean_train_acc_step: 0.345703125\n",
      "2023-11-24 22:44:15,373 [INFO]: clean_train_loss_step: 1.7645679712295532\n",
      "2023-11-24 22:44:15,374 [INFO]: epoch: 65\n"
     ]
    },
    {
     "data": {
      "application/vnd.jupyter.widget-view+json": {
       "model_id": "02c7160687864f149bf3cd5ffc5f3d80",
       "version_major": 2,
       "version_minor": 0
      },
      "text/plain": [
       "Validation: 0it [00:00, ?it/s]"
      ]
     },
     "metadata": {},
     "output_type": "display_data"
    },
    {
     "name": "stderr",
     "output_type": "stream",
     "text": [
      "2023-11-24 22:44:23,266 [INFO]: clean_val_acc: 0.508071780204773\n",
      "2023-11-24 22:44:23,269 [INFO]: clean_val_loss: 1.4323394298553467\n",
      "2023-11-24 22:44:23,271 [INFO]: epoch: 65\n",
      "2023-11-24 22:44:23,602 [INFO]: clean_train_acc_epoch: 0.3292222321033478\n",
      "2023-11-24 22:44:23,604 [INFO]: clean_train_loss_epoch: 1.763809323310852\n",
      "2023-11-24 22:44:23,605 [INFO]: epoch: 65\n"
     ]
    },
    {
     "data": {
      "application/vnd.jupyter.widget-view+json": {
       "model_id": "7dbff88203a64376a1f9f34d54d182d0",
       "version_major": 2,
       "version_minor": 0
      },
      "text/plain": [
       "Validation: 0it [00:00, ?it/s]"
      ]
     },
     "metadata": {},
     "output_type": "display_data"
    },
    {
     "name": "stderr",
     "output_type": "stream",
     "text": [
      "2023-11-24 22:45:34,725 [INFO]: clean_val_acc: 0.5028519034385681\n",
      "2023-11-24 22:45:34,727 [INFO]: clean_val_loss: 1.4515812397003174\n",
      "2023-11-24 22:45:34,729 [INFO]: epoch: 66\n",
      "2023-11-24 22:45:34,755 [INFO]: clean_train_acc_epoch: 0.3333111107349396\n",
      "2023-11-24 22:45:34,756 [INFO]: clean_train_loss_epoch: 1.7612906694412231\n",
      "2023-11-24 22:45:34,758 [INFO]: epoch: 66\n",
      "2023-11-24 22:45:37,906 [INFO]: lr-SGD: 0.004000282574455533\n",
      "2023-11-24 22:45:39,461 [INFO]: clean_train_acc_step: 0.3359375\n",
      "2023-11-24 22:45:39,462 [INFO]: clean_train_loss_step: 1.7765097618103027\n",
      "2023-11-24 22:45:39,466 [INFO]: epoch: 67\n"
     ]
    },
    {
     "data": {
      "application/vnd.jupyter.widget-view+json": {
       "model_id": "c775392853964ddf87ff6e1064b90b4e",
       "version_major": 2,
       "version_minor": 0
      },
      "text/plain": [
       "Validation: 0it [00:00, ?it/s]"
      ]
     },
     "metadata": {},
     "output_type": "display_data"
    },
    {
     "name": "stderr",
     "output_type": "stream",
     "text": [
      "2023-11-24 22:46:45,881 [INFO]: clean_val_acc: 0.5162610411643982\n",
      "2023-11-24 22:46:45,882 [INFO]: clean_val_loss: 1.4156445264816284\n",
      "2023-11-24 22:46:45,884 [INFO]: epoch: 67\n",
      "2023-11-24 22:46:46,218 [INFO]: clean_train_acc_epoch: 0.3351333439350128\n",
      "2023-11-24 22:46:46,219 [INFO]: clean_train_loss_epoch: 1.7564953565597534\n",
      "2023-11-24 22:46:46,220 [INFO]: epoch: 67\n",
      "2023-11-24 22:46:58,667 [INFO]: lr-SGD: 0.0040002922377202765\n",
      "2023-11-24 22:47:00,224 [INFO]: clean_train_acc_step: 0.3515625\n",
      "2023-11-24 22:47:00,226 [INFO]: clean_train_loss_step: 1.7257617712020874\n",
      "2023-11-24 22:47:00,229 [INFO]: epoch: 68\n"
     ]
    },
    {
     "data": {
      "application/vnd.jupyter.widget-view+json": {
       "model_id": "e3cab074c9dd4d309e063588d69de6db",
       "version_major": 2,
       "version_minor": 0
      },
      "text/plain": [
       "Validation: 0it [00:00, ?it/s]"
      ]
     },
     "metadata": {},
     "output_type": "display_data"
    },
    {
     "name": "stderr",
     "output_type": "stream",
     "text": [
      "2023-11-24 22:47:57,401 [INFO]: clean_val_acc: 0.5061981081962585\n",
      "2023-11-24 22:47:57,402 [INFO]: clean_val_loss: 1.4248802661895752\n",
      "2023-11-24 22:47:57,404 [INFO]: epoch: 68\n",
      "2023-11-24 22:47:57,433 [INFO]: clean_train_acc_epoch: 0.33311110734939575\n",
      "2023-11-24 22:47:57,434 [INFO]: clean_train_loss_epoch: 1.752130389213562\n",
      "2023-11-24 22:47:57,437 [INFO]: epoch: 68\n",
      "2023-11-24 22:48:19,313 [INFO]: lr-SGD: 0.004000302063446773\n",
      "2023-11-24 22:48:20,866 [INFO]: clean_train_acc_step: 0.34375\n",
      "2023-11-24 22:48:20,868 [INFO]: clean_train_loss_step: 1.743353009223938\n",
      "2023-11-24 22:48:20,869 [INFO]: epoch: 69\n"
     ]
    },
    {
     "data": {
      "application/vnd.jupyter.widget-view+json": {
       "model_id": "f4b3e57f114040aa94fd7b4e66208fea",
       "version_major": 2,
       "version_minor": 0
      },
      "text/plain": [
       "Validation: 0it [00:00, ?it/s]"
      ]
     },
     "metadata": {},
     "output_type": "display_data"
    },
    {
     "name": "stderr",
     "output_type": "stream",
     "text": [
      "2023-11-24 22:49:08,913 [INFO]: clean_val_acc: 0.5118224620819092\n",
      "2023-11-24 22:49:08,915 [INFO]: clean_val_loss: 1.4260737895965576\n",
      "2023-11-24 22:49:08,916 [INFO]: epoch: 69\n",
      "2023-11-24 22:49:09,263 [INFO]: clean_train_acc_epoch: 0.33951109647750854\n",
      "2023-11-24 22:49:09,265 [INFO]: clean_train_loss_epoch: 1.7494221925735474\n",
      "2023-11-24 22:49:09,267 [INFO]: epoch: 69\n",
      "2023-11-24 22:49:40,184 [INFO]: lr-SGD: 0.004000312051634994\n",
      "2023-11-24 22:49:41,740 [INFO]: clean_train_acc_step: 0.3486328125\n",
      "2023-11-24 22:49:41,742 [INFO]: clean_train_loss_step: 1.7472532987594604\n",
      "2023-11-24 22:49:41,743 [INFO]: epoch: 70\n"
     ]
    },
    {
     "data": {
      "application/vnd.jupyter.widget-view+json": {
       "model_id": "9a163d6277a14255b149bcf9e771b7a2",
       "version_major": 2,
       "version_minor": 0
      },
      "text/plain": [
       "Validation: 0it [00:00, ?it/s]"
      ]
     },
     "metadata": {},
     "output_type": "display_data"
    },
    {
     "name": "stderr",
     "output_type": "stream",
     "text": [
      "2023-11-24 22:50:20,486 [INFO]: clean_val_acc: 0.5157684087753296\n",
      "2023-11-24 22:50:20,488 [INFO]: clean_val_loss: 1.4099267721176147\n",
      "2023-11-24 22:50:20,490 [INFO]: epoch: 70\n",
      "2023-11-24 22:50:20,835 [INFO]: clean_train_acc_epoch: 0.3357555568218231\n",
      "2023-11-24 22:50:20,837 [INFO]: clean_train_loss_epoch: 1.7479043006896973\n",
      "2023-11-24 22:50:20,838 [INFO]: epoch: 70\n",
      "2023-11-24 22:51:00,962 [INFO]: lr-SGD: 0.004000322202284884\n",
      "2023-11-24 22:51:02,519 [INFO]: clean_train_acc_step: 0.35546875\n",
      "2023-11-24 22:51:02,521 [INFO]: clean_train_loss_step: 1.6876983642578125\n",
      "2023-11-24 22:51:02,522 [INFO]: epoch: 71\n"
     ]
    },
    {
     "data": {
      "application/vnd.jupyter.widget-view+json": {
       "model_id": "6f82f25894164a84944ae0b1ee9e9967",
       "version_major": 2,
       "version_minor": 0
      },
      "text/plain": [
       "Validation: 0it [00:00, ?it/s]"
      ]
     },
     "metadata": {},
     "output_type": "display_data"
    },
    {
     "name": "stderr",
     "output_type": "stream",
     "text": [
      "2023-11-24 22:51:32,058 [INFO]: clean_val_acc: 0.5104811787605286\n",
      "2023-11-24 22:51:32,060 [INFO]: clean_val_loss: 1.4297053813934326\n",
      "2023-11-24 22:51:32,061 [INFO]: epoch: 71\n",
      "2023-11-24 22:51:32,086 [INFO]: clean_train_acc_epoch: 0.34006667137145996\n",
      "2023-11-24 22:51:32,088 [INFO]: clean_train_loss_epoch: 1.7445220947265625\n",
      "2023-11-24 22:51:32,089 [INFO]: epoch: 71\n",
      "2023-11-24 22:52:21,517 [INFO]: lr-SGD: 0.004000332515396443\n",
      "2023-11-24 22:52:23,077 [INFO]: clean_train_acc_step: 0.3525390625\n",
      "2023-11-24 22:52:23,079 [INFO]: clean_train_loss_step: 1.7248506546020508\n",
      "2023-11-24 22:52:23,080 [INFO]: epoch: 72\n"
     ]
    },
    {
     "data": {
      "application/vnd.jupyter.widget-view+json": {
       "model_id": "076ea34c35834af58bb9d98ddafaecb4",
       "version_major": 2,
       "version_minor": 0
      },
      "text/plain": [
       "Validation: 0it [00:00, ?it/s]"
      ]
     },
     "metadata": {},
     "output_type": "display_data"
    },
    {
     "name": "stderr",
     "output_type": "stream",
     "text": [
      "2023-11-24 22:52:43,336 [INFO]: clean_val_acc: 0.522993266582489\n",
      "2023-11-24 22:52:43,338 [INFO]: clean_val_loss: 1.4047812223434448\n",
      "2023-11-24 22:52:43,339 [INFO]: epoch: 72\n",
      "2023-11-24 22:52:43,680 [INFO]: clean_train_acc_epoch: 0.3427777886390686\n",
      "2023-11-24 22:52:43,682 [INFO]: clean_train_loss_epoch: 1.7387850284576416\n",
      "2023-11-24 22:52:43,683 [INFO]: epoch: 72\n",
      "2023-11-24 22:53:42,298 [INFO]: lr-SGD: 0.00400034299096963\n",
      "2023-11-24 22:53:43,849 [INFO]: clean_train_acc_step: 0.3125\n",
      "2023-11-24 22:53:43,851 [INFO]: clean_train_loss_step: 1.7795312404632568\n",
      "2023-11-24 22:53:43,852 [INFO]: epoch: 73\n"
     ]
    },
    {
     "data": {
      "application/vnd.jupyter.widget-view+json": {
       "model_id": "a9eb9e16e5354650b97c48d43025c488",
       "version_major": 2,
       "version_minor": 0
      },
      "text/plain": [
       "Validation: 0it [00:00, ?it/s]"
      ]
     },
     "metadata": {},
     "output_type": "display_data"
    },
    {
     "name": "stderr",
     "output_type": "stream",
     "text": [
      "2023-11-24 22:53:54,941 [INFO]: clean_val_acc: 0.5214826464653015\n",
      "2023-11-24 22:53:54,943 [INFO]: clean_val_loss: 1.397588849067688\n",
      "2023-11-24 22:53:54,944 [INFO]: epoch: 73\n",
      "2023-11-24 22:53:55,278 [INFO]: clean_train_acc_epoch: 0.34282222390174866\n",
      "2023-11-24 22:53:55,279 [INFO]: clean_train_loss_epoch: 1.7364681959152222\n",
      "2023-11-24 22:53:55,280 [INFO]: epoch: 73\n",
      "2023-11-24 22:55:03,086 [INFO]: lr-SGD: 0.004000353629004402\n",
      "2023-11-24 22:55:04,531 [INFO]: clean_train_acc_step: 0.3822314143180847\n",
      "2023-11-24 22:55:04,532 [INFO]: clean_train_loss_step: 1.661526083946228\n",
      "2023-11-24 22:55:04,533 [INFO]: epoch: 74\n"
     ]
    },
    {
     "data": {
      "application/vnd.jupyter.widget-view+json": {
       "model_id": "8fec39afbdfc437cb0741d7f2da185e2",
       "version_major": 2,
       "version_minor": 0
      },
      "text/plain": [
       "Validation: 0it [00:00, ?it/s]"
      ]
     },
     "metadata": {},
     "output_type": "display_data"
    },
    {
     "name": "stderr",
     "output_type": "stream",
     "text": [
      "2023-11-24 22:55:06,527 [INFO]: clean_val_acc: 0.5212994813919067\n",
      "2023-11-24 22:55:06,528 [INFO]: clean_val_loss: 1.4135949611663818\n",
      "2023-11-24 22:55:06,530 [INFO]: epoch: 74\n",
      "2023-11-24 22:55:06,564 [INFO]: clean_train_acc_epoch: 0.3427777886390686\n",
      "2023-11-24 22:55:06,566 [INFO]: clean_train_loss_epoch: 1.7325568199157715\n",
      "2023-11-24 22:55:06,567 [INFO]: epoch: 74\n"
     ]
    },
    {
     "data": {
      "application/vnd.jupyter.widget-view+json": {
       "model_id": "9d28a8747487420b9193f915b829e2f2",
       "version_major": 2,
       "version_minor": 0
      },
      "text/plain": [
       "Validation: 0it [00:00, ?it/s]"
      ]
     },
     "metadata": {},
     "output_type": "display_data"
    },
    {
     "name": "stderr",
     "output_type": "stream",
     "text": [
      "2023-11-24 22:56:17,866 [INFO]: clean_val_acc: 0.5253888964653015\n",
      "2023-11-24 22:56:17,868 [INFO]: clean_val_loss: 1.381532907485962\n",
      "2023-11-24 22:56:17,871 [INFO]: epoch: 75\n",
      "2023-11-24 22:56:18,201 [INFO]: clean_train_acc_epoch: 0.34548887610435486\n",
      "2023-11-24 22:56:18,202 [INFO]: clean_train_loss_epoch: 1.730460286140442\n",
      "2023-11-24 22:56:18,203 [INFO]: epoch: 75\n",
      "2023-11-24 22:56:27,634 [INFO]: lr-SGD: 0.004000364429500705\n",
      "2023-11-24 22:56:29,187 [INFO]: clean_train_acc_step: 0.3408203125\n",
      "2023-11-24 22:56:29,188 [INFO]: clean_train_loss_step: 1.7260596752166748\n",
      "2023-11-24 22:56:29,190 [INFO]: epoch: 76\n"
     ]
    },
    {
     "data": {
      "application/vnd.jupyter.widget-view+json": {
       "model_id": "6ced8453b846498cbfe563d01521df3f",
       "version_major": 2,
       "version_minor": 0
      },
      "text/plain": [
       "Validation: 0it [00:00, ?it/s]"
      ]
     },
     "metadata": {},
     "output_type": "display_data"
    },
    {
     "name": "stderr",
     "output_type": "stream",
     "text": [
      "2023-11-24 22:57:29,508 [INFO]: clean_val_acc: 0.5213789343833923\n",
      "2023-11-24 22:57:29,510 [INFO]: clean_val_loss: 1.3987948894500732\n",
      "2023-11-24 22:57:29,511 [INFO]: epoch: 76\n",
      "2023-11-24 22:57:29,541 [INFO]: clean_train_acc_epoch: 0.3458888828754425\n",
      "2023-11-24 22:57:29,543 [INFO]: clean_train_loss_epoch: 1.726089596748352\n",
      "2023-11-24 22:57:29,544 [INFO]: epoch: 76\n",
      "2023-11-24 22:57:48,165 [INFO]: lr-SGD: 0.0040003753924585245\n",
      "2023-11-24 22:57:49,723 [INFO]: clean_train_acc_step: 0.345703125\n",
      "2023-11-24 22:57:49,724 [INFO]: clean_train_loss_step: 1.6954402923583984\n",
      "2023-11-24 22:57:49,726 [INFO]: epoch: 77\n"
     ]
    },
    {
     "data": {
      "application/vnd.jupyter.widget-view+json": {
       "model_id": "b1546929697e4a8288269263ff0a6695",
       "version_major": 2,
       "version_minor": 0
      },
      "text/plain": [
       "Validation: 0it [00:00, ?it/s]"
      ]
     },
     "metadata": {},
     "output_type": "display_data"
    },
    {
     "name": "stderr",
     "output_type": "stream",
     "text": [
      "2023-11-24 22:58:40,764 [INFO]: clean_val_acc: 0.5304411053657532\n",
      "2023-11-24 22:58:40,766 [INFO]: clean_val_loss: 1.3867107629776\n",
      "2023-11-24 22:58:40,768 [INFO]: epoch: 77\n",
      "2023-11-24 22:58:41,103 [INFO]: clean_train_acc_epoch: 0.34691110253334045\n",
      "2023-11-24 22:58:41,105 [INFO]: clean_train_loss_epoch: 1.721616268157959\n",
      "2023-11-24 22:58:41,106 [INFO]: epoch: 77\n",
      "2023-11-24 22:59:09,173 [INFO]: lr-SGD: 0.004000386517877805\n",
      "2023-11-24 22:59:10,723 [INFO]: clean_train_acc_step: 0.314453125\n",
      "2023-11-24 22:59:10,725 [INFO]: clean_train_loss_step: 1.7855629920959473\n",
      "2023-11-24 22:59:10,726 [INFO]: epoch: 78\n"
     ]
    },
    {
     "data": {
      "application/vnd.jupyter.widget-view+json": {
       "model_id": "734e1afdd631492da17993b7e630c987",
       "version_major": 2,
       "version_minor": 0
      },
      "text/plain": [
       "Validation: 0it [00:00, ?it/s]"
      ]
     },
     "metadata": {},
     "output_type": "display_data"
    },
    {
     "name": "stderr",
     "output_type": "stream",
     "text": [
      "2023-11-24 22:59:52,494 [INFO]: clean_val_acc: 0.5398143529891968\n",
      "2023-11-24 22:59:52,497 [INFO]: clean_val_loss: 1.371800422668457\n",
      "2023-11-24 22:59:52,498 [INFO]: epoch: 78\n",
      "2023-11-24 22:59:52,825 [INFO]: clean_train_acc_epoch: 0.34664443135261536\n",
      "2023-11-24 22:59:52,827 [INFO]: clean_train_loss_epoch: 1.7202794551849365\n",
      "2023-11-24 22:59:52,829 [INFO]: epoch: 78\n",
      "2023-11-24 23:00:29,875 [INFO]: lr-SGD: 0.004000397805758532\n",
      "2023-11-24 23:00:31,432 [INFO]: clean_train_acc_step: 0.3349609375\n",
      "2023-11-24 23:00:31,433 [INFO]: clean_train_loss_step: 1.7814438343048096\n",
      "2023-11-24 23:00:31,436 [INFO]: epoch: 79\n"
     ]
    },
    {
     "data": {
      "application/vnd.jupyter.widget-view+json": {
       "model_id": "8d02ed6403964aa08e5a487fe152c62d",
       "version_major": 2,
       "version_minor": 0
      },
      "text/plain": [
       "Validation: 0it [00:00, ?it/s]"
      ]
     },
     "metadata": {},
     "output_type": "display_data"
    },
    {
     "name": "stderr",
     "output_type": "stream",
     "text": [
      "2023-11-24 23:01:04,016 [INFO]: clean_val_acc: 0.5316250920295715\n",
      "2023-11-24 23:01:04,018 [INFO]: clean_val_loss: 1.3908627033233643\n",
      "2023-11-24 23:01:04,019 [INFO]: epoch: 79\n",
      "2023-11-24 23:01:04,350 [INFO]: clean_train_acc_epoch: 0.35055556893348694\n",
      "2023-11-24 23:01:04,351 [INFO]: clean_train_loss_epoch: 1.7161802053451538\n",
      "2023-11-24 23:01:04,353 [INFO]: epoch: 79\n",
      "2023-11-24 23:01:50,632 [INFO]: lr-SGD: 0.004000409256100665\n",
      "2023-11-24 23:01:52,186 [INFO]: clean_train_acc_step: 0.369140625\n",
      "2023-11-24 23:01:52,188 [INFO]: clean_train_loss_step: 1.6861486434936523\n",
      "2023-11-24 23:01:52,189 [INFO]: epoch: 80\n"
     ]
    },
    {
     "data": {
      "application/vnd.jupyter.widget-view+json": {
       "model_id": "94fcb63323c04094accffa972dd3235b",
       "version_major": 2,
       "version_minor": 0
      },
      "text/plain": [
       "Validation: 0it [00:00, ?it/s]"
      ]
     },
     "metadata": {},
     "output_type": "display_data"
    },
    {
     "name": "stderr",
     "output_type": "stream",
     "text": [
      "2023-11-24 23:02:15,473 [INFO]: clean_val_acc: 0.5395671725273132\n",
      "2023-11-24 23:02:15,475 [INFO]: clean_val_loss: 1.3542238473892212\n",
      "2023-11-24 23:02:15,477 [INFO]: epoch: 80\n",
      "2023-11-24 23:02:15,802 [INFO]: clean_train_acc_epoch: 0.3505111038684845\n",
      "2023-11-24 23:02:15,805 [INFO]: clean_train_loss_epoch: 1.7117663621902466\n",
      "2023-11-24 23:02:15,806 [INFO]: epoch: 80\n",
      "2023-11-24 23:03:11,499 [INFO]: lr-SGD: 0.004000420868904148\n",
      "2023-11-24 23:03:13,059 [INFO]: clean_train_acc_step: 0.357421875\n",
      "2023-11-24 23:03:13,061 [INFO]: clean_train_loss_step: 1.692946434020996\n",
      "2023-11-24 23:03:13,062 [INFO]: epoch: 81\n"
     ]
    },
    {
     "data": {
      "application/vnd.jupyter.widget-view+json": {
       "model_id": "f24481b074984b54917d706db79dfb7a",
       "version_major": 2,
       "version_minor": 0
      },
      "text/plain": [
       "Validation: 0it [00:00, ?it/s]"
      ]
     },
     "metadata": {},
     "output_type": "display_data"
    },
    {
     "name": "stderr",
     "output_type": "stream",
     "text": [
      "2023-11-24 23:03:27,159 [INFO]: clean_val_acc: 0.5275235176086426\n",
      "2023-11-24 23:03:27,162 [INFO]: clean_val_loss: 1.3749053478240967\n",
      "2023-11-24 23:03:27,163 [INFO]: epoch: 81\n",
      "2023-11-24 23:03:27,192 [INFO]: clean_train_acc_epoch: 0.3536222279071808\n",
      "2023-11-24 23:03:27,194 [INFO]: clean_train_loss_epoch: 1.7079753875732422\n",
      "2023-11-24 23:03:27,195 [INFO]: epoch: 81\n",
      "2023-11-24 23:04:31,883 [INFO]: lr-SGD: 0.0040004326441689525\n",
      "2023-11-24 23:04:33,436 [INFO]: clean_train_acc_step: 0.359375\n",
      "2023-11-24 23:04:33,438 [INFO]: clean_train_loss_step: 1.672192096710205\n",
      "2023-11-24 23:04:33,438 [INFO]: epoch: 82\n"
     ]
    },
    {
     "data": {
      "application/vnd.jupyter.widget-view+json": {
       "model_id": "ac0ada6189f7407386de3a6600f75cf7",
       "version_major": 2,
       "version_minor": 0
      },
      "text/plain": [
       "Validation: 0it [00:00, ?it/s]"
      ]
     },
     "metadata": {},
     "output_type": "display_data"
    },
    {
     "name": "stderr",
     "output_type": "stream",
     "text": [
      "2023-11-24 23:04:38,234 [INFO]: clean_val_acc: 0.5371318459510803\n",
      "2023-11-24 23:04:38,236 [INFO]: clean_val_loss: 1.3629969358444214\n",
      "2023-11-24 23:04:38,238 [INFO]: epoch: 82\n",
      "2023-11-24 23:04:38,264 [INFO]: clean_train_acc_epoch: 0.35413333773612976\n",
      "2023-11-24 23:04:38,265 [INFO]: clean_train_loss_epoch: 1.7052899599075317\n",
      "2023-11-24 23:04:38,267 [INFO]: epoch: 82\n"
     ]
    },
    {
     "data": {
      "application/vnd.jupyter.widget-view+json": {
       "model_id": "966aaaad80884ec38cd83f8c8bd1890e",
       "version_major": 2,
       "version_minor": 0
      },
      "text/plain": [
       "Validation: 0it [00:00, ?it/s]"
      ]
     },
     "metadata": {},
     "output_type": "display_data"
    },
    {
     "name": "stderr",
     "output_type": "stream",
     "text": [
      "2023-11-24 23:05:49,749 [INFO]: clean_val_acc: 0.5337613821029663\n",
      "2023-11-24 23:05:49,751 [INFO]: clean_val_loss: 1.359572172164917\n",
      "2023-11-24 23:05:49,753 [INFO]: epoch: 83\n",
      "2023-11-24 23:05:49,778 [INFO]: clean_train_acc_epoch: 0.35502222180366516\n",
      "2023-11-24 23:05:49,780 [INFO]: clean_train_loss_epoch: 1.7011563777923584\n",
      "2023-11-24 23:05:49,781 [INFO]: epoch: 83\n",
      "2023-11-24 23:05:56,440 [INFO]: lr-SGD: 0.004000444581895038\n",
      "2023-11-24 23:05:57,998 [INFO]: clean_train_acc_step: 0.3759765625\n",
      "2023-11-24 23:05:58,000 [INFO]: clean_train_loss_step: 1.6595808267593384\n",
      "2023-11-24 23:05:58,001 [INFO]: epoch: 84\n"
     ]
    },
    {
     "data": {
      "application/vnd.jupyter.widget-view+json": {
       "model_id": "0277de482b6b40079c1231158b86d10b",
       "version_major": 2,
       "version_minor": 0
      },
      "text/plain": [
       "Validation: 0it [00:00, ?it/s]"
      ]
     },
     "metadata": {},
     "output_type": "display_data"
    },
    {
     "name": "stderr",
     "output_type": "stream",
     "text": [
      "2023-11-24 23:07:01,341 [INFO]: clean_val_acc: 0.531001091003418\n",
      "2023-11-24 23:07:01,342 [INFO]: clean_val_loss: 1.3825608491897583\n",
      "2023-11-24 23:07:01,343 [INFO]: epoch: 84\n",
      "2023-11-24 23:07:01,370 [INFO]: clean_train_acc_epoch: 0.35624444484710693\n",
      "2023-11-24 23:07:01,372 [INFO]: clean_train_loss_epoch: 1.699704885482788\n",
      "2023-11-24 23:07:01,373 [INFO]: epoch: 84\n",
      "2023-11-24 23:07:17,179 [INFO]: lr-SGD: 0.004000456682082362\n",
      "2023-11-24 23:07:18,730 [INFO]: clean_train_acc_step: 0.376953125\n",
      "2023-11-24 23:07:18,731 [INFO]: clean_train_loss_step: 1.6693751811981201\n",
      "2023-11-24 23:07:18,733 [INFO]: epoch: 85\n"
     ]
    },
    {
     "data": {
      "application/vnd.jupyter.widget-view+json": {
       "model_id": "098d0eed1ce34ee696465adaf4829f5e",
       "version_major": 2,
       "version_minor": 0
      },
      "text/plain": [
       "Validation: 0it [00:00, ?it/s]"
      ]
     },
     "metadata": {},
     "output_type": "display_data"
    },
    {
     "name": "stderr",
     "output_type": "stream",
     "text": [
      "2023-11-24 23:08:12,813 [INFO]: clean_val_acc: 0.5478602051734924\n",
      "2023-11-24 23:08:12,815 [INFO]: clean_val_loss: 1.3406559228897095\n",
      "2023-11-24 23:08:12,816 [INFO]: epoch: 85\n",
      "2023-11-24 23:08:13,147 [INFO]: clean_train_acc_epoch: 0.35715556144714355\n",
      "2023-11-24 23:08:13,149 [INFO]: clean_train_loss_epoch: 1.6961727142333984\n",
      "2023-11-24 23:08:13,151 [INFO]: epoch: 85\n",
      "2023-11-24 23:08:37,969 [INFO]: lr-SGD: 0.004000468944730884\n",
      "2023-11-24 23:08:39,529 [INFO]: clean_train_acc_step: 0.361328125\n",
      "2023-11-24 23:08:39,530 [INFO]: clean_train_loss_step: 1.7181590795516968\n",
      "2023-11-24 23:08:39,531 [INFO]: epoch: 86\n"
     ]
    },
    {
     "data": {
      "application/vnd.jupyter.widget-view+json": {
       "model_id": "f4857552bc394be4a8d66df70b9f7677",
       "version_major": 2,
       "version_minor": 0
      },
      "text/plain": [
       "Validation: 0it [00:00, ?it/s]"
      ]
     },
     "metadata": {},
     "output_type": "display_data"
    },
    {
     "name": "stderr",
     "output_type": "stream",
     "text": [
      "2023-11-24 23:09:24,447 [INFO]: clean_val_acc: 0.5403087139129639\n",
      "2023-11-24 23:09:24,449 [INFO]: clean_val_loss: 1.361919641494751\n",
      "2023-11-24 23:09:24,450 [INFO]: epoch: 86\n",
      "2023-11-24 23:09:24,781 [INFO]: clean_train_acc_epoch: 0.35695555806159973\n",
      "2023-11-24 23:09:24,783 [INFO]: clean_train_loss_epoch: 1.6937326192855835\n",
      "2023-11-24 23:09:24,784 [INFO]: epoch: 86\n",
      "2023-11-24 23:09:58,995 [INFO]: lr-SGD: 0.004000481369840561\n",
      "2023-11-24 23:10:00,549 [INFO]: clean_train_acc_step: 0.345703125\n",
      "2023-11-24 23:10:00,550 [INFO]: clean_train_loss_step: 1.7304997444152832\n",
      "2023-11-24 23:10:00,551 [INFO]: epoch: 87\n"
     ]
    },
    {
     "data": {
      "application/vnd.jupyter.widget-view+json": {
       "model_id": "dc0436f75af34500b93c5bceb00c73ce",
       "version_major": 2,
       "version_minor": 0
      },
      "text/plain": [
       "Validation: 0it [00:00, ?it/s]"
      ]
     },
     "metadata": {},
     "output_type": "display_data"
    },
    {
     "name": "stderr",
     "output_type": "stream",
     "text": [
      "2023-11-24 23:10:36,237 [INFO]: clean_val_acc: 0.5426005721092224\n",
      "2023-11-24 23:10:36,238 [INFO]: clean_val_loss: 1.34543776512146\n",
      "2023-11-24 23:10:36,238 [INFO]: epoch: 87\n",
      "2023-11-24 23:10:36,591 [INFO]: clean_train_acc_epoch: 0.3593111038208008\n",
      "2023-11-24 23:10:36,593 [INFO]: clean_train_loss_epoch: 1.6886625289916992\n",
      "2023-11-24 23:10:36,594 [INFO]: epoch: 87\n",
      "2023-11-24 23:11:19,889 [INFO]: lr-SGD: 0.004000493957411366\n",
      "2023-11-24 23:11:21,448 [INFO]: clean_train_acc_step: 0.3642578125\n",
      "2023-11-24 23:11:21,449 [INFO]: clean_train_loss_step: 1.6958028078079224\n",
      "2023-11-24 23:11:21,450 [INFO]: epoch: 88\n"
     ]
    },
    {
     "data": {
      "application/vnd.jupyter.widget-view+json": {
       "model_id": "39ba98ff36b946a58dd4ae19aebc20b3",
       "version_major": 2,
       "version_minor": 0
      },
      "text/plain": [
       "Validation: 0it [00:00, ?it/s]"
      ]
     },
     "metadata": {},
     "output_type": "display_data"
    },
    {
     "name": "stderr",
     "output_type": "stream",
     "text": [
      "2023-11-24 23:11:47,867 [INFO]: clean_val_acc: 0.5477426648139954\n",
      "2023-11-24 23:11:47,869 [INFO]: clean_val_loss: 1.3250747919082642\n",
      "2023-11-24 23:11:47,871 [INFO]: epoch: 88\n",
      "2023-11-24 23:11:48,206 [INFO]: clean_train_acc_epoch: 0.35757777094841003\n",
      "2023-11-24 23:11:48,207 [INFO]: clean_train_loss_epoch: 1.6866819858551025\n",
      "2023-11-24 23:11:48,209 [INFO]: epoch: 88\n",
      "2023-11-24 23:12:40,665 [INFO]: lr-SGD: 0.004000506707443216\n",
      "2023-11-24 23:12:42,222 [INFO]: clean_train_acc_step: 0.359375\n",
      "2023-11-24 23:12:42,223 [INFO]: clean_train_loss_step: 1.647228717803955\n",
      "2023-11-24 23:12:42,225 [INFO]: epoch: 89\n"
     ]
    },
    {
     "data": {
      "application/vnd.jupyter.widget-view+json": {
       "model_id": "f957599bc8024f268560f11effcca85c",
       "version_major": 2,
       "version_minor": 0
      },
      "text/plain": [
       "Validation: 0it [00:00, ?it/s]"
      ]
     },
     "metadata": {},
     "output_type": "display_data"
    },
    {
     "name": "stderr",
     "output_type": "stream",
     "text": [
      "2023-11-24 23:12:59,384 [INFO]: clean_val_acc: 0.541207492351532\n",
      "2023-11-24 23:12:59,386 [INFO]: clean_val_loss: 1.3628818988800049\n",
      "2023-11-24 23:12:59,388 [INFO]: epoch: 89\n",
      "2023-11-24 23:12:59,414 [INFO]: clean_train_acc_epoch: 0.36322221159935\n",
      "2023-11-24 23:12:59,415 [INFO]: clean_train_loss_epoch: 1.6836090087890625\n",
      "2023-11-24 23:12:59,417 [INFO]: epoch: 89\n",
      "2023-11-24 23:14:01,085 [INFO]: lr-SGD: 0.00400051961993611\n",
      "2023-11-24 23:14:02,643 [INFO]: clean_train_acc_step: 0.369140625\n",
      "2023-11-24 23:14:02,644 [INFO]: clean_train_loss_step: 1.6812782287597656\n",
      "2023-11-24 23:14:02,646 [INFO]: epoch: 90\n"
     ]
    },
    {
     "data": {
      "application/vnd.jupyter.widget-view+json": {
       "model_id": "75289f17b59746bba1423957343b390a",
       "version_major": 2,
       "version_minor": 0
      },
      "text/plain": [
       "Validation: 0it [00:00, ?it/s]"
      ]
     },
     "metadata": {},
     "output_type": "display_data"
    },
    {
     "name": "stderr",
     "output_type": "stream",
     "text": [
      "2023-11-24 23:14:10,673 [INFO]: clean_val_acc: 0.5462458729743958\n",
      "2023-11-24 23:14:10,674 [INFO]: clean_val_loss: 1.323330044746399\n",
      "2023-11-24 23:14:10,677 [INFO]: epoch: 90\n",
      "2023-11-24 23:14:10,701 [INFO]: clean_train_acc_epoch: 0.3626222312450409\n",
      "2023-11-24 23:14:10,703 [INFO]: clean_train_loss_epoch: 1.6823413372039795\n",
      "2023-11-24 23:14:10,704 [INFO]: epoch: 90\n"
     ]
    },
    {
     "data": {
      "application/vnd.jupyter.widget-view+json": {
       "model_id": "737aafb4166b47f3bb21c0acfa907714",
       "version_major": 2,
       "version_minor": 0
      },
      "text/plain": [
       "Validation: 0it [00:00, ?it/s]"
      ]
     },
     "metadata": {},
     "output_type": "display_data"
    },
    {
     "name": "stderr",
     "output_type": "stream",
     "text": [
      "2023-11-24 23:15:22,105 [INFO]: clean_val_acc: 0.5488229393959045\n",
      "2023-11-24 23:15:22,109 [INFO]: clean_val_loss: 1.3318264484405518\n",
      "2023-11-24 23:15:22,110 [INFO]: epoch: 91\n",
      "2023-11-24 23:15:22,436 [INFO]: clean_train_acc_epoch: 0.363444447517395\n",
      "2023-11-24 23:15:22,438 [INFO]: clean_train_loss_epoch: 1.676790475845337\n",
      "2023-11-24 23:15:22,439 [INFO]: epoch: 91\n",
      "2023-11-24 23:15:25,881 [INFO]: lr-SGD: 0.004000532694889994\n",
      "2023-11-24 23:15:27,434 [INFO]: clean_train_acc_step: 0.3486328125\n",
      "2023-11-24 23:15:27,436 [INFO]: clean_train_loss_step: 1.712222933769226\n",
      "2023-11-24 23:15:27,438 [INFO]: epoch: 92\n"
     ]
    },
    {
     "data": {
      "application/vnd.jupyter.widget-view+json": {
       "model_id": "488e289923bd4230a1866c2239305d7a",
       "version_major": 2,
       "version_minor": 0
      },
      "text/plain": [
       "Validation: 0it [00:00, ?it/s]"
      ]
     },
     "metadata": {},
     "output_type": "display_data"
    },
    {
     "name": "stderr",
     "output_type": "stream",
     "text": [
      "2023-11-24 23:16:33,837 [INFO]: clean_val_acc: 0.5551506876945496\n",
      "2023-11-24 23:16:33,839 [INFO]: clean_val_loss: 1.3265821933746338\n",
      "2023-11-24 23:16:33,841 [INFO]: epoch: 92\n",
      "2023-11-24 23:16:34,165 [INFO]: clean_train_acc_epoch: 0.36615556478500366\n",
      "2023-11-24 23:16:34,166 [INFO]: clean_train_loss_epoch: 1.67153000831604\n",
      "2023-11-24 23:16:34,168 [INFO]: epoch: 92\n",
      "2023-11-24 23:16:46,663 [INFO]: lr-SGD: 0.004000545932304825\n",
      "2023-11-24 23:16:48,221 [INFO]: clean_train_acc_step: 0.3935546875\n",
      "2023-11-24 23:16:48,223 [INFO]: clean_train_loss_step: 1.6571625471115112\n",
      "2023-11-24 23:16:48,224 [INFO]: epoch: 93\n"
     ]
    },
    {
     "data": {
      "application/vnd.jupyter.widget-view+json": {
       "model_id": "94983da5bd074d448c4fd4fb7d0d8d47",
       "version_major": 2,
       "version_minor": 0
      },
      "text/plain": [
       "Validation: 0it [00:00, ?it/s]"
      ]
     },
     "metadata": {},
     "output_type": "display_data"
    },
    {
     "name": "stderr",
     "output_type": "stream",
     "text": [
      "2023-11-24 23:17:45,424 [INFO]: clean_val_acc: 0.5529521703720093\n",
      "2023-11-24 23:17:45,426 [INFO]: clean_val_loss: 1.3130486011505127\n",
      "2023-11-24 23:17:45,427 [INFO]: epoch: 93\n",
      "2023-11-24 23:17:45,767 [INFO]: clean_train_acc_epoch: 0.36328887939453125\n",
      "2023-11-24 23:17:45,770 [INFO]: clean_train_loss_epoch: 1.6717699766159058\n",
      "2023-11-24 23:17:45,771 [INFO]: epoch: 93\n",
      "2023-11-24 23:18:07,706 [INFO]: lr-SGD: 0.004000559332180534\n",
      "2023-11-24 23:18:09,262 [INFO]: clean_train_acc_step: 0.3720703125\n",
      "2023-11-24 23:18:09,263 [INFO]: clean_train_loss_step: 1.6631132364273071\n",
      "2023-11-24 23:18:09,266 [INFO]: epoch: 94\n"
     ]
    },
    {
     "data": {
      "application/vnd.jupyter.widget-view+json": {
       "model_id": "5d2c019a872d4aea9579d2de58220d52",
       "version_major": 2,
       "version_minor": 0
      },
      "text/plain": [
       "Validation: 0it [00:00, ?it/s]"
      ]
     },
     "metadata": {},
     "output_type": "display_data"
    },
    {
     "name": "stderr",
     "output_type": "stream",
     "text": [
      "2023-11-24 23:18:57,270 [INFO]: clean_val_acc: 0.5570260286331177\n",
      "2023-11-24 23:18:57,271 [INFO]: clean_val_loss: 1.339766263961792\n",
      "2023-11-24 23:18:57,273 [INFO]: epoch: 94\n",
      "2023-11-24 23:18:57,627 [INFO]: clean_train_acc_epoch: 0.36731112003326416\n",
      "2023-11-24 23:18:57,629 [INFO]: clean_train_loss_epoch: 1.667079210281372\n",
      "2023-11-24 23:18:57,630 [INFO]: epoch: 94\n",
      "2023-11-24 23:19:28,667 [INFO]: lr-SGD: 0.004000572894517107\n",
      "2023-11-24 23:19:30,226 [INFO]: clean_train_acc_step: 0.3662109375\n",
      "2023-11-24 23:19:30,229 [INFO]: clean_train_loss_step: 1.6745164394378662\n",
      "2023-11-24 23:19:30,230 [INFO]: epoch: 95\n"
     ]
    },
    {
     "data": {
      "application/vnd.jupyter.widget-view+json": {
       "model_id": "d99a01e679fb4f6eac7370b8cac45240",
       "version_major": 2,
       "version_minor": 0
      },
      "text/plain": [
       "Validation: 0it [00:00, ?it/s]"
      ]
     },
     "metadata": {},
     "output_type": "display_data"
    },
    {
     "name": "stderr",
     "output_type": "stream",
     "text": [
      "2023-11-24 23:20:08,979 [INFO]: clean_val_acc: 0.5612174868583679\n",
      "2023-11-24 23:20:08,981 [INFO]: clean_val_loss: 1.294898271560669\n",
      "2023-11-24 23:20:08,982 [INFO]: epoch: 95\n",
      "2023-11-24 23:20:09,315 [INFO]: clean_train_acc_epoch: 0.36748889088630676\n",
      "2023-11-24 23:20:09,317 [INFO]: clean_train_loss_epoch: 1.6670082807540894\n",
      "2023-11-24 23:20:09,318 [INFO]: epoch: 95\n",
      "2023-11-24 23:20:49,723 [INFO]: lr-SGD: 0.004000586619314489\n",
      "2023-11-24 23:20:51,297 [INFO]: clean_train_acc_step: 0.4072265625\n",
      "2023-11-24 23:20:51,298 [INFO]: clean_train_loss_step: 1.6079806089401245\n",
      "2023-11-24 23:20:51,301 [INFO]: epoch: 96\n"
     ]
    },
    {
     "data": {
      "application/vnd.jupyter.widget-view+json": {
       "model_id": "4f12232d00ad4dd5969e2318d9c790f2",
       "version_major": 2,
       "version_minor": 0
      },
      "text/plain": [
       "Validation: 0it [00:00, ?it/s]"
      ]
     },
     "metadata": {},
     "output_type": "display_data"
    },
    {
     "name": "stderr",
     "output_type": "stream",
     "text": [
      "2023-11-24 23:21:20,843 [INFO]: clean_val_acc: 0.5538094639778137\n",
      "2023-11-24 23:21:20,845 [INFO]: clean_val_loss: 1.3165338039398193\n",
      "2023-11-24 23:21:20,846 [INFO]: epoch: 96\n",
      "2023-11-24 23:21:20,872 [INFO]: clean_train_acc_epoch: 0.37137776613235474\n",
      "2023-11-24 23:21:20,874 [INFO]: clean_train_loss_epoch: 1.6599454879760742\n",
      "2023-11-24 23:21:20,875 [INFO]: epoch: 96\n",
      "2023-11-24 23:22:10,224 [INFO]: lr-SGD: 0.004000600506572624\n",
      "2023-11-24 23:22:11,782 [INFO]: clean_train_acc_step: 0.39453125\n",
      "2023-11-24 23:22:11,785 [INFO]: clean_train_loss_step: 1.6447678804397583\n",
      "2023-11-24 23:22:11,786 [INFO]: epoch: 97\n"
     ]
    },
    {
     "data": {
      "application/vnd.jupyter.widget-view+json": {
       "model_id": "6f8990165592498c99b6520ce73cfe81",
       "version_major": 2,
       "version_minor": 0
      },
      "text/plain": [
       "Validation: 0it [00:00, ?it/s]"
      ]
     },
     "metadata": {},
     "output_type": "display_data"
    },
    {
     "name": "stderr",
     "output_type": "stream",
     "text": [
      "2023-11-24 23:22:32,124 [INFO]: clean_val_acc: 0.5586801767349243\n",
      "2023-11-24 23:22:32,126 [INFO]: clean_val_loss: 1.304470419883728\n",
      "2023-11-24 23:22:32,127 [INFO]: epoch: 97\n",
      "2023-11-24 23:22:32,455 [INFO]: clean_train_acc_epoch: 0.37093332409858704\n",
      "2023-11-24 23:22:32,457 [INFO]: clean_train_loss_epoch: 1.6595373153686523\n",
      "2023-11-24 23:22:32,458 [INFO]: epoch: 97\n",
      "2023-11-24 23:23:31,104 [INFO]: lr-SGD: 0.004000614556291471\n",
      "2023-11-24 23:23:32,660 [INFO]: clean_train_acc_step: 0.341796875\n",
      "2023-11-24 23:23:32,662 [INFO]: clean_train_loss_step: 1.7043888568878174\n",
      "2023-11-24 23:23:32,663 [INFO]: epoch: 98\n"
     ]
    },
    {
     "data": {
      "application/vnd.jupyter.widget-view+json": {
       "model_id": "6a950c537943458ab14fd61f9441a5c5",
       "version_major": 2,
       "version_minor": 0
      },
      "text/plain": [
       "Validation: 0it [00:00, ?it/s]"
      ]
     },
     "metadata": {},
     "output_type": "display_data"
    },
    {
     "name": "stderr",
     "output_type": "stream",
     "text": [
      "2023-11-24 23:23:43,667 [INFO]: clean_val_acc: 0.5565317273139954\n",
      "2023-11-24 23:23:43,669 [INFO]: clean_val_loss: 1.3044912815093994\n",
      "2023-11-24 23:23:43,671 [INFO]: epoch: 98\n",
      "2023-11-24 23:23:43,699 [INFO]: clean_train_acc_epoch: 0.3697555661201477\n",
      "2023-11-24 23:23:43,700 [INFO]: clean_train_loss_epoch: 1.6561869382858276\n",
      "2023-11-24 23:23:43,701 [INFO]: epoch: 98\n",
      "2023-11-24 23:24:51,695 [INFO]: lr-SGD: 0.0040006287684709735\n",
      "2023-11-24 23:24:53,145 [INFO]: clean_train_acc_step: 0.38429751992225647\n",
      "2023-11-24 23:24:53,146 [INFO]: clean_train_loss_step: 1.5812530517578125\n",
      "2023-11-24 23:24:53,147 [INFO]: epoch: 99\n"
     ]
    },
    {
     "data": {
      "application/vnd.jupyter.widget-view+json": {
       "model_id": "af693ea5501048929ee414805a392f66",
       "version_major": 2,
       "version_minor": 0
      },
      "text/plain": [
       "Validation: 0it [00:00, ?it/s]"
      ]
     },
     "metadata": {},
     "output_type": "display_data"
    },
    {
     "name": "stderr",
     "output_type": "stream",
     "text": [
      "2023-11-24 23:24:55,093 [INFO]: clean_val_acc: 0.5599039196968079\n",
      "2023-11-24 23:24:55,095 [INFO]: clean_val_loss: 1.3133796453475952\n",
      "2023-11-24 23:24:55,097 [INFO]: epoch: 99\n",
      "2023-11-24 23:24:55,445 [INFO]: clean_train_acc_epoch: 0.3718000054359436\n",
      "2023-11-24 23:24:55,446 [INFO]: clean_train_loss_epoch: 1.6528037786483765\n",
      "2023-11-24 23:24:55,447 [INFO]: epoch: 99\n"
     ]
    },
    {
     "data": {
      "application/vnd.jupyter.widget-view+json": {
       "model_id": "31bfe4803b2243139627f368ee1a524f",
       "version_major": 2,
       "version_minor": 0
      },
      "text/plain": [
       "Validation: 0it [00:00, ?it/s]"
      ]
     },
     "metadata": {},
     "output_type": "display_data"
    },
    {
     "name": "stderr",
     "output_type": "stream",
     "text": [
      "2023-11-24 23:26:06,829 [INFO]: clean_val_acc: 0.5632622241973877\n",
      "2023-11-24 23:26:06,831 [INFO]: clean_val_loss: 1.2951023578643799\n",
      "2023-11-24 23:26:06,832 [INFO]: epoch: 100\n",
      "2023-11-24 23:26:07,181 [INFO]: clean_train_acc_epoch: 0.37066665291786194\n",
      "2023-11-24 23:26:07,182 [INFO]: clean_train_loss_epoch: 1.6491169929504395\n",
      "2023-11-24 23:26:07,184 [INFO]: epoch: 100\n",
      "2023-11-24 23:26:16,572 [INFO]: lr-SGD: 0.0040006431431111045\n",
      "2023-11-24 23:26:18,122 [INFO]: clean_train_acc_step: 0.3544921875\n",
      "2023-11-24 23:26:18,124 [INFO]: clean_train_loss_step: 1.6602768898010254\n",
      "2023-11-24 23:26:18,126 [INFO]: epoch: 101\n"
     ]
    },
    {
     "data": {
      "application/vnd.jupyter.widget-view+json": {
       "model_id": "eea99e304ef543749987e3a4d48a91ad",
       "version_major": 2,
       "version_minor": 0
      },
      "text/plain": [
       "Validation: 0it [00:00, ?it/s]"
      ]
     },
     "metadata": {},
     "output_type": "display_data"
    },
    {
     "name": "stderr",
     "output_type": "stream",
     "text": [
      "2023-11-24 23:27:18,436 [INFO]: clean_val_acc: 0.5601769685745239\n",
      "2023-11-24 23:27:18,437 [INFO]: clean_val_loss: 1.3048806190490723\n",
      "2023-11-24 23:27:18,438 [INFO]: epoch: 101\n",
      "2023-11-24 23:27:18,461 [INFO]: clean_train_acc_epoch: 0.3723333477973938\n",
      "2023-11-24 23:27:18,462 [INFO]: clean_train_loss_epoch: 1.6464745998382568\n",
      "2023-11-24 23:27:18,464 [INFO]: epoch: 101\n",
      "2023-11-24 23:27:37,230 [INFO]: lr-SGD: 0.004000657680211794\n",
      "2023-11-24 23:27:38,786 [INFO]: clean_train_acc_step: 0.3916015625\n",
      "2023-11-24 23:27:38,787 [INFO]: clean_train_loss_step: 1.610735535621643\n",
      "2023-11-24 23:27:38,790 [INFO]: epoch: 102\n"
     ]
    },
    {
     "data": {
      "application/vnd.jupyter.widget-view+json": {
       "model_id": "2f154d7411c44c66a37d53ad52496b27",
       "version_major": 2,
       "version_minor": 0
      },
      "text/plain": [
       "Validation: 0it [00:00, ?it/s]"
      ]
     },
     "metadata": {},
     "output_type": "display_data"
    },
    {
     "name": "stderr",
     "output_type": "stream",
     "text": [
      "2023-11-24 23:28:29,873 [INFO]: clean_val_acc: 0.5682867765426636\n",
      "2023-11-24 23:28:29,875 [INFO]: clean_val_loss: 1.2884092330932617\n",
      "2023-11-24 23:28:29,876 [INFO]: epoch: 102\n",
      "2023-11-24 23:28:30,231 [INFO]: clean_train_acc_epoch: 0.37906667590141296\n",
      "2023-11-24 23:28:30,233 [INFO]: clean_train_loss_epoch: 1.6408356428146362\n",
      "2023-11-24 23:28:30,235 [INFO]: epoch: 102\n",
      "2023-11-24 23:28:58,234 [INFO]: lr-SGD: 0.0040006723797730015\n",
      "2023-11-24 23:28:59,785 [INFO]: clean_train_acc_step: 0.3486328125\n",
      "2023-11-24 23:28:59,786 [INFO]: clean_train_loss_step: 1.7054457664489746\n",
      "2023-11-24 23:28:59,789 [INFO]: epoch: 103\n"
     ]
    },
    {
     "data": {
      "application/vnd.jupyter.widget-view+json": {
       "model_id": "2c24588d6d0641a797b73f1fa0345df7",
       "version_major": 2,
       "version_minor": 0
      },
      "text/plain": [
       "Validation: 0it [00:00, ?it/s]"
      ]
     },
     "metadata": {},
     "output_type": "display_data"
    },
    {
     "name": "stderr",
     "output_type": "stream",
     "text": [
      "2023-11-24 23:29:41,575 [INFO]: clean_val_acc: 0.5656716823577881\n",
      "2023-11-24 23:29:41,577 [INFO]: clean_val_loss: 1.2777024507522583\n",
      "2023-11-24 23:29:41,578 [INFO]: epoch: 103\n",
      "2023-11-24 23:29:41,931 [INFO]: clean_train_acc_epoch: 0.37851110100746155\n",
      "2023-11-24 23:29:41,933 [INFO]: clean_train_loss_epoch: 1.639155387878418\n",
      "2023-11-24 23:29:41,934 [INFO]: epoch: 103\n",
      "2023-11-24 23:30:19,182 [INFO]: lr-SGD: 0.00400068724179467\n",
      "2023-11-24 23:30:20,738 [INFO]: clean_train_acc_step: 0.345703125\n",
      "2023-11-24 23:30:20,739 [INFO]: clean_train_loss_step: 1.7117574214935303\n",
      "2023-11-24 23:30:20,741 [INFO]: epoch: 104\n"
     ]
    },
    {
     "data": {
      "application/vnd.jupyter.widget-view+json": {
       "model_id": "28ab685f0dc74c368264c713eb8f35f1",
       "version_major": 2,
       "version_minor": 0
      },
      "text/plain": [
       "Validation: 0it [00:00, ?it/s]"
      ]
     },
     "metadata": {},
     "output_type": "display_data"
    },
    {
     "name": "stderr",
     "output_type": "stream",
     "text": [
      "2023-11-24 23:30:53,330 [INFO]: clean_val_acc: 0.5704628825187683\n",
      "2023-11-24 23:30:53,332 [INFO]: clean_val_loss: 1.2947139739990234\n",
      "2023-11-24 23:30:53,333 [INFO]: epoch: 104\n",
      "2023-11-24 23:30:53,700 [INFO]: clean_train_acc_epoch: 0.3766222298145294\n",
      "2023-11-24 23:30:53,701 [INFO]: clean_train_loss_epoch: 1.6363743543624878\n",
      "2023-11-24 23:30:53,702 [INFO]: epoch: 104\n",
      "2023-11-24 23:31:39,947 [INFO]: lr-SGD: 0.004000702266276787\n",
      "2023-11-24 23:31:41,500 [INFO]: clean_train_acc_step: 0.3984375\n",
      "2023-11-24 23:31:41,502 [INFO]: clean_train_loss_step: 1.6004533767700195\n",
      "2023-11-24 23:31:41,503 [INFO]: epoch: 105\n"
     ]
    },
    {
     "data": {
      "application/vnd.jupyter.widget-view+json": {
       "model_id": "382e96cfaa1146f3a4fc094cc97270f9",
       "version_major": 2,
       "version_minor": 0
      },
      "text/plain": [
       "Validation: 0it [00:00, ?it/s]"
      ]
     },
     "metadata": {},
     "output_type": "display_data"
    },
    {
     "name": "stderr",
     "output_type": "stream",
     "text": [
      "2023-11-24 23:32:04,878 [INFO]: clean_val_acc: 0.5724021792411804\n",
      "2023-11-24 23:32:04,880 [INFO]: clean_val_loss: 1.2609076499938965\n",
      "2023-11-24 23:32:04,881 [INFO]: epoch: 105\n",
      "2023-11-24 23:32:05,217 [INFO]: clean_train_acc_epoch: 0.37664443254470825\n",
      "2023-11-24 23:32:05,219 [INFO]: clean_train_loss_epoch: 1.6345791816711426\n",
      "2023-11-24 23:32:05,220 [INFO]: epoch: 105\n",
      "2023-11-24 23:33:00,812 [INFO]: lr-SGD: 0.004000717453219255\n",
      "2023-11-24 23:33:02,373 [INFO]: clean_train_acc_step: 0.384765625\n",
      "2023-11-24 23:33:02,375 [INFO]: clean_train_loss_step: 1.6133617162704468\n",
      "2023-11-24 23:33:02,377 [INFO]: epoch: 106\n"
     ]
    },
    {
     "data": {
      "application/vnd.jupyter.widget-view+json": {
       "model_id": "3462a2175db64907bca47483590fc69b",
       "version_major": 2,
       "version_minor": 0
      },
      "text/plain": [
       "Validation: 0it [00:00, ?it/s]"
      ]
     },
     "metadata": {},
     "output_type": "display_data"
    },
    {
     "name": "stderr",
     "output_type": "stream",
     "text": [
      "2023-11-24 23:33:16,470 [INFO]: clean_val_acc: 0.5650061964988708\n",
      "2023-11-24 23:33:16,473 [INFO]: clean_val_loss: 1.2923084497451782\n",
      "2023-11-24 23:33:16,474 [INFO]: epoch: 106\n",
      "2023-11-24 23:33:16,503 [INFO]: clean_train_acc_epoch: 0.38128888607025146\n",
      "2023-11-24 23:33:16,504 [INFO]: clean_train_loss_epoch: 1.6294492483139038\n",
      "2023-11-24 23:33:16,506 [INFO]: epoch: 106\n",
      "2023-11-24 23:34:21,428 [INFO]: lr-SGD: 0.004000732802622017\n",
      "2023-11-24 23:34:22,981 [INFO]: clean_train_acc_step: 0.3857421875\n",
      "2023-11-24 23:34:22,982 [INFO]: clean_train_loss_step: 1.6025813817977905\n",
      "2023-11-24 23:34:22,984 [INFO]: epoch: 107\n"
     ]
    },
    {
     "data": {
      "application/vnd.jupyter.widget-view+json": {
       "model_id": "3af76fdfebd840eeb5978d901f26dd02",
       "version_major": 2,
       "version_minor": 0
      },
      "text/plain": [
       "Validation: 0it [00:00, ?it/s]"
      ]
     },
     "metadata": {},
     "output_type": "display_data"
    },
    {
     "name": "stderr",
     "output_type": "stream",
     "text": [
      "2023-11-24 23:34:27,799 [INFO]: clean_val_acc: 0.5719856023788452\n",
      "2023-11-24 23:34:27,801 [INFO]: clean_val_loss: 1.257969856262207\n",
      "2023-11-24 23:34:27,803 [INFO]: epoch: 107\n",
      "2023-11-24 23:34:28,112 [INFO]: clean_train_acc_epoch: 0.3832888901233673\n",
      "2023-11-24 23:34:28,114 [INFO]: clean_train_loss_epoch: 1.6267857551574707\n",
      "2023-11-24 23:34:28,116 [INFO]: epoch: 107\n"
     ]
    },
    {
     "data": {
      "application/vnd.jupyter.widget-view+json": {
       "model_id": "6a6512839579482babb89a07199a919c",
       "version_major": 2,
       "version_minor": 0
      },
      "text/plain": [
       "Validation: 0it [00:00, ?it/s]"
      ]
     },
     "metadata": {},
     "output_type": "display_data"
    },
    {
     "name": "stderr",
     "output_type": "stream",
     "text": [
      "2023-11-24 23:35:39,429 [INFO]: clean_val_acc: 0.5702001452445984\n",
      "2023-11-24 23:35:39,430 [INFO]: clean_val_loss: 1.2662999629974365\n",
      "2023-11-24 23:35:39,432 [INFO]: epoch: 108\n",
      "2023-11-24 23:35:39,461 [INFO]: clean_train_acc_epoch: 0.38173332810401917\n",
      "2023-11-24 23:35:39,463 [INFO]: clean_train_loss_epoch: 1.6253668069839478\n",
      "2023-11-24 23:35:39,465 [INFO]: epoch: 108\n",
      "2023-11-24 23:35:45,864 [INFO]: lr-SGD: 0.004000748314485075\n",
      "2023-11-24 23:35:47,422 [INFO]: clean_train_acc_step: 0.390625\n",
      "2023-11-24 23:35:47,425 [INFO]: clean_train_loss_step: 1.584433913230896\n",
      "2023-11-24 23:35:47,426 [INFO]: epoch: 109\n"
     ]
    },
    {
     "data": {
      "application/vnd.jupyter.widget-view+json": {
       "model_id": "45eef4cea1174a0d87a0b604c02dce40",
       "version_major": 2,
       "version_minor": 0
      },
      "text/plain": [
       "Validation: 0it [00:00, ?it/s]"
      ]
     },
     "metadata": {},
     "output_type": "display_data"
    },
    {
     "name": "stderr",
     "output_type": "stream",
     "text": [
      "2023-11-24 23:36:50,802 [INFO]: clean_val_acc: 0.5731834173202515\n",
      "2023-11-24 23:36:50,804 [INFO]: clean_val_loss: 1.269765853881836\n",
      "2023-11-24 23:36:50,805 [INFO]: epoch: 109\n",
      "2023-11-24 23:36:51,150 [INFO]: clean_train_acc_epoch: 0.3839111030101776\n",
      "2023-11-24 23:36:51,153 [INFO]: clean_train_loss_epoch: 1.6225972175598145\n",
      "2023-11-24 23:36:51,155 [INFO]: epoch: 109\n",
      "2023-11-24 23:37:06,808 [INFO]: lr-SGD: 0.004000763988808331\n",
      "2023-11-24 23:37:08,358 [INFO]: clean_train_acc_step: 0.390625\n",
      "2023-11-24 23:37:08,360 [INFO]: clean_train_loss_step: 1.5882798433303833\n",
      "2023-11-24 23:37:08,361 [INFO]: epoch: 110\n"
     ]
    },
    {
     "data": {
      "application/vnd.jupyter.widget-view+json": {
       "model_id": "132d1e608a84488e9d5d836c8102eb9a",
       "version_major": 2,
       "version_minor": 0
      },
      "text/plain": [
       "Validation: 0it [00:00, ?it/s]"
      ]
     },
     "metadata": {},
     "output_type": "display_data"
    },
    {
     "name": "stderr",
     "output_type": "stream",
     "text": [
      "2023-11-24 23:38:02,452 [INFO]: clean_val_acc: 0.5870229601860046\n",
      "2023-11-24 23:38:02,453 [INFO]: clean_val_loss: 1.2409504652023315\n",
      "2023-11-24 23:38:02,454 [INFO]: epoch: 110\n",
      "2023-11-24 23:38:02,785 [INFO]: clean_train_acc_epoch: 0.38295555114746094\n",
      "2023-11-24 23:38:02,786 [INFO]: clean_train_loss_epoch: 1.618329644203186\n",
      "2023-11-24 23:38:02,787 [INFO]: epoch: 110\n",
      "2023-11-24 23:38:27,586 [INFO]: lr-SGD: 0.004000779825591744\n",
      "2023-11-24 23:38:29,143 [INFO]: clean_train_acc_step: 0.3779296875\n",
      "2023-11-24 23:38:29,146 [INFO]: clean_train_loss_step: 1.6366708278656006\n",
      "2023-11-24 23:38:29,147 [INFO]: epoch: 111\n"
     ]
    },
    {
     "data": {
      "application/vnd.jupyter.widget-view+json": {
       "model_id": "9fab82923ded4f8dadffa0842eabb0ba",
       "version_major": 2,
       "version_minor": 0
      },
      "text/plain": [
       "Validation: 0it [00:00, ?it/s]"
      ]
     },
     "metadata": {},
     "output_type": "display_data"
    },
    {
     "name": "stderr",
     "output_type": "stream",
     "text": [
      "2023-11-24 23:39:14,034 [INFO]: clean_val_acc: 0.5713996887207031\n",
      "2023-11-24 23:39:14,036 [INFO]: clean_val_loss: 1.2767207622528076\n",
      "2023-11-24 23:39:14,038 [INFO]: epoch: 111\n",
      "2023-11-24 23:39:14,064 [INFO]: clean_train_acc_epoch: 0.38653331995010376\n",
      "2023-11-24 23:39:14,066 [INFO]: clean_train_loss_epoch: 1.6137583255767822\n",
      "2023-11-24 23:39:14,067 [INFO]: epoch: 111\n",
      "2023-11-24 23:39:48,262 [INFO]: lr-SGD: 0.004000795824835257\n",
      "2023-11-24 23:39:49,814 [INFO]: clean_train_acc_step: 0.3662109375\n",
      "2023-11-24 23:39:49,817 [INFO]: clean_train_loss_step: 1.6611883640289307\n",
      "2023-11-24 23:39:49,818 [INFO]: epoch: 112\n"
     ]
    },
    {
     "data": {
      "application/vnd.jupyter.widget-view+json": {
       "model_id": "b2214ea56cf4447689c39d3b48b42230",
       "version_major": 2,
       "version_minor": 0
      },
      "text/plain": [
       "Validation: 0it [00:00, ?it/s]"
      ]
     },
     "metadata": {},
     "output_type": "display_data"
    },
    {
     "name": "stderr",
     "output_type": "stream",
     "text": [
      "2023-11-24 23:40:25,508 [INFO]: clean_val_acc: 0.5876209735870361\n",
      "2023-11-24 23:40:25,510 [INFO]: clean_val_loss: 1.2311592102050781\n",
      "2023-11-24 23:40:25,512 [INFO]: epoch: 112\n",
      "2023-11-24 23:40:25,879 [INFO]: clean_train_acc_epoch: 0.38760000467300415\n",
      "2023-11-24 23:40:25,880 [INFO]: clean_train_loss_epoch: 1.6119874715805054\n",
      "2023-11-24 23:40:25,882 [INFO]: epoch: 112\n",
      "2023-11-24 23:41:09,103 [INFO]: lr-SGD: 0.00400081198653883\n",
      "2023-11-24 23:41:10,664 [INFO]: clean_train_acc_step: 0.39453125\n",
      "2023-11-24 23:41:10,666 [INFO]: clean_train_loss_step: 1.6138099431991577\n",
      "2023-11-24 23:41:10,667 [INFO]: epoch: 113\n"
     ]
    },
    {
     "data": {
      "application/vnd.jupyter.widget-view+json": {
       "model_id": "d3c9575e644d448e9933e0f04e4a1335",
       "version_major": 2,
       "version_minor": 0
      },
      "text/plain": [
       "Validation: 0it [00:00, ?it/s]"
      ]
     },
     "metadata": {},
     "output_type": "display_data"
    },
    {
     "name": "stderr",
     "output_type": "stream",
     "text": [
      "2023-11-24 23:41:37,022 [INFO]: clean_val_acc: 0.5725456476211548\n",
      "2023-11-24 23:41:37,023 [INFO]: clean_val_loss: 1.2559974193572998\n",
      "2023-11-24 23:41:37,026 [INFO]: epoch: 113\n",
      "2023-11-24 23:41:37,058 [INFO]: clean_train_acc_epoch: 0.3886888921260834\n",
      "2023-11-24 23:41:37,058 [INFO]: clean_train_loss_epoch: 1.6057149171829224\n",
      "2023-11-24 23:41:37,060 [INFO]: epoch: 113\n",
      "2023-11-24 23:42:29,367 [INFO]: lr-SGD: 0.004000828310702392\n",
      "2023-11-24 23:42:30,921 [INFO]: clean_train_acc_step: 0.3876953125\n",
      "2023-11-24 23:42:30,923 [INFO]: clean_train_loss_step: 1.5705302953720093\n",
      "2023-11-24 23:42:30,925 [INFO]: epoch: 114\n"
     ]
    },
    {
     "data": {
      "application/vnd.jupyter.widget-view+json": {
       "model_id": "b88cdaa8c5ab40e295062a3a5402d311",
       "version_major": 2,
       "version_minor": 0
      },
      "text/plain": [
       "Validation: 0it [00:00, ?it/s]"
      ]
     },
     "metadata": {},
     "output_type": "display_data"
    },
    {
     "name": "stderr",
     "output_type": "stream",
     "text": [
      "2023-11-24 23:42:48,090 [INFO]: clean_val_acc: 0.5806692838668823\n",
      "2023-11-24 23:42:48,093 [INFO]: clean_val_loss: 1.2523276805877686\n",
      "2023-11-24 23:42:48,094 [INFO]: epoch: 114\n",
      "2023-11-24 23:42:48,120 [INFO]: clean_train_acc_epoch: 0.38877779245376587\n",
      "2023-11-24 23:42:48,121 [INFO]: clean_train_loss_epoch: 1.6058390140533447\n",
      "2023-11-24 23:42:48,122 [INFO]: epoch: 114\n",
      "2023-11-24 23:43:49,862 [INFO]: lr-SGD: 0.004000844797325903\n",
      "2023-11-24 23:43:51,421 [INFO]: clean_train_acc_step: 0.388671875\n",
      "2023-11-24 23:43:51,423 [INFO]: clean_train_loss_step: 1.6028861999511719\n",
      "2023-11-24 23:43:51,424 [INFO]: epoch: 115\n"
     ]
    },
    {
     "data": {
      "application/vnd.jupyter.widget-view+json": {
       "model_id": "1c0f8e106da24e8599764464af80a213",
       "version_major": 2,
       "version_minor": 0
      },
      "text/plain": [
       "Validation: 0it [00:00, ?it/s]"
      ]
     },
     "metadata": {},
     "output_type": "display_data"
    },
    {
     "name": "stderr",
     "output_type": "stream",
     "text": [
      "2023-11-24 23:43:59,301 [INFO]: clean_val_acc: 0.5843404531478882\n",
      "2023-11-24 23:43:59,303 [INFO]: clean_val_loss: 1.2352447509765625\n",
      "2023-11-24 23:43:59,305 [INFO]: epoch: 115\n",
      "2023-11-24 23:43:59,334 [INFO]: clean_train_acc_epoch: 0.38984444737434387\n",
      "2023-11-24 23:43:59,336 [INFO]: clean_train_loss_epoch: 1.6013001203536987\n",
      "2023-11-24 23:43:59,337 [INFO]: epoch: 115\n"
     ]
    },
    {
     "data": {
      "application/vnd.jupyter.widget-view+json": {
       "model_id": "4446f211ecbd4fe9b2f0ed25ade7b949",
       "version_major": 2,
       "version_minor": 0
      },
      "text/plain": [
       "Validation: 0it [00:00, ?it/s]"
      ]
     },
     "metadata": {},
     "output_type": "display_data"
    },
    {
     "name": "stderr",
     "output_type": "stream",
     "text": [
      "2023-11-24 23:45:10,482 [INFO]: clean_val_acc: 0.5825048685073853\n",
      "2023-11-24 23:45:10,484 [INFO]: clean_val_loss: 1.2567205429077148\n",
      "2023-11-24 23:45:10,485 [INFO]: epoch: 116\n",
      "2023-11-24 23:45:10,513 [INFO]: clean_train_acc_epoch: 0.391911119222641\n",
      "2023-11-24 23:45:10,514 [INFO]: clean_train_loss_epoch: 1.5987039804458618\n",
      "2023-11-24 23:45:10,516 [INFO]: epoch: 116\n",
      "2023-11-24 23:45:13,786 [INFO]: lr-SGD: 0.004000861446409293\n",
      "2023-11-24 23:45:15,337 [INFO]: clean_train_acc_step: 0.373046875\n",
      "2023-11-24 23:45:15,339 [INFO]: clean_train_loss_step: 1.6134752035140991\n",
      "2023-11-24 23:45:15,340 [INFO]: epoch: 117\n"
     ]
    },
    {
     "data": {
      "application/vnd.jupyter.widget-view+json": {
       "model_id": "9d27a986d4184ad584d9407dfa86f1aa",
       "version_major": 2,
       "version_minor": 0
      },
      "text/plain": [
       "Validation: 0it [00:00, ?it/s]"
      ]
     },
     "metadata": {},
     "output_type": "display_data"
    },
    {
     "name": "stderr",
     "output_type": "stream",
     "text": [
      "2023-11-24 23:46:21,721 [INFO]: clean_val_acc: 0.5892888903617859\n",
      "2023-11-24 23:46:21,722 [INFO]: clean_val_loss: 1.2282472848892212\n",
      "2023-11-24 23:46:21,725 [INFO]: epoch: 117\n",
      "2023-11-24 23:46:22,060 [INFO]: clean_train_acc_epoch: 0.39053332805633545\n",
      "2023-11-24 23:46:22,062 [INFO]: clean_train_loss_epoch: 1.5967117547988892\n",
      "2023-11-24 23:46:22,063 [INFO]: epoch: 117\n",
      "2023-11-24 23:46:34,642 [INFO]: lr-SGD: 0.004000878257952506\n",
      "2023-11-24 23:46:36,201 [INFO]: clean_train_acc_step: 0.408203125\n",
      "2023-11-24 23:46:36,203 [INFO]: clean_train_loss_step: 1.559356689453125\n",
      "2023-11-24 23:46:36,204 [INFO]: epoch: 118\n"
     ]
    },
    {
     "data": {
      "application/vnd.jupyter.widget-view+json": {
       "model_id": "f582cda2f10e4ae599a62bd7fe4fac9b",
       "version_major": 2,
       "version_minor": 0
      },
      "text/plain": [
       "Validation: 0it [00:00, ?it/s]"
      ]
     },
     "metadata": {},
     "output_type": "display_data"
    },
    {
     "name": "stderr",
     "output_type": "stream",
     "text": [
      "2023-11-24 23:47:33,337 [INFO]: clean_val_acc: 0.5886493921279907\n",
      "2023-11-24 23:47:33,339 [INFO]: clean_val_loss: 1.2304850816726685\n",
      "2023-11-24 23:47:33,340 [INFO]: epoch: 118\n",
      "2023-11-24 23:47:33,663 [INFO]: clean_train_acc_epoch: 0.3943111002445221\n",
      "2023-11-24 23:47:33,665 [INFO]: clean_train_loss_epoch: 1.5930739641189575\n",
      "2023-11-24 23:47:33,667 [INFO]: epoch: 118\n",
      "2023-11-24 23:47:55,330 [INFO]: lr-SGD: 0.004000895231955501\n",
      "2023-11-24 23:47:56,883 [INFO]: clean_train_acc_step: 0.4033203125\n",
      "2023-11-24 23:47:56,886 [INFO]: clean_train_loss_step: 1.5853393077850342\n",
      "2023-11-24 23:47:56,887 [INFO]: epoch: 119\n"
     ]
    },
    {
     "data": {
      "application/vnd.jupyter.widget-view+json": {
       "model_id": "3a3be283eb3449d09acac30d886ab284",
       "version_major": 2,
       "version_minor": 0
      },
      "text/plain": [
       "Validation: 0it [00:00, ?it/s]"
      ]
     },
     "metadata": {},
     "output_type": "display_data"
    },
    {
     "name": "stderr",
     "output_type": "stream",
     "text": [
      "2023-11-24 23:48:44,909 [INFO]: clean_val_acc: 0.5869192481040955\n",
      "2023-11-24 23:48:44,911 [INFO]: clean_val_loss: 1.2278341054916382\n",
      "2023-11-24 23:48:44,913 [INFO]: epoch: 119\n",
      "2023-11-24 23:48:44,942 [INFO]: clean_train_acc_epoch: 0.3948444426059723\n",
      "2023-11-24 23:48:44,943 [INFO]: clean_train_loss_epoch: 1.589077115058899\n",
      "2023-11-24 23:48:44,945 [INFO]: epoch: 119\n",
      "2023-11-24 23:49:15,864 [INFO]: lr-SGD: 0.004000912368418208\n",
      "2023-11-24 23:49:17,421 [INFO]: clean_train_acc_step: 0.41015625\n",
      "2023-11-24 23:49:17,422 [INFO]: clean_train_loss_step: 1.5751644372940063\n",
      "2023-11-24 23:49:17,423 [INFO]: epoch: 120\n"
     ]
    },
    {
     "data": {
      "application/vnd.jupyter.widget-view+json": {
       "model_id": "595837a3f1c8468199aa03f22c966134",
       "version_major": 2,
       "version_minor": 0
      },
      "text/plain": [
       "Validation: 0it [00:00, ?it/s]"
      ]
     },
     "metadata": {},
     "output_type": "display_data"
    },
    {
     "name": "stderr",
     "output_type": "stream",
     "text": [
      "2023-11-24 23:49:56,147 [INFO]: clean_val_acc: 0.5843024253845215\n",
      "2023-11-24 23:49:56,149 [INFO]: clean_val_loss: 1.223209023475647\n",
      "2023-11-24 23:49:56,150 [INFO]: epoch: 120\n",
      "2023-11-24 23:49:56,180 [INFO]: clean_train_acc_epoch: 0.39515554904937744\n",
      "2023-11-24 23:49:56,181 [INFO]: clean_train_loss_epoch: 1.5860614776611328\n",
      "2023-11-24 23:49:56,183 [INFO]: epoch: 120\n",
      "2023-11-24 23:50:36,554 [INFO]: lr-SGD: 0.004000929667340572\n",
      "2023-11-24 23:50:38,109 [INFO]: clean_train_acc_step: 0.40234375\n",
      "2023-11-24 23:50:38,110 [INFO]: clean_train_loss_step: 1.5382674932479858\n",
      "2023-11-24 23:50:38,111 [INFO]: epoch: 121\n"
     ]
    },
    {
     "data": {
      "application/vnd.jupyter.widget-view+json": {
       "model_id": "86b0fec575874f29b0691bacccdeaba3",
       "version_major": 2,
       "version_minor": 0
      },
      "text/plain": [
       "Validation: 0it [00:00, ?it/s]"
      ]
     },
     "metadata": {},
     "output_type": "display_data"
    },
    {
     "name": "stderr",
     "output_type": "stream",
     "text": [
      "2023-11-24 23:51:07,604 [INFO]: clean_val_acc: 0.5975819230079651\n",
      "2023-11-24 23:51:07,606 [INFO]: clean_val_loss: 1.2401691675186157\n",
      "2023-11-24 23:51:07,607 [INFO]: epoch: 121\n",
      "2023-11-24 23:51:07,930 [INFO]: clean_train_acc_epoch: 0.39800000190734863\n",
      "2023-11-24 23:51:07,931 [INFO]: clean_train_loss_epoch: 1.5813946723937988\n",
      "2023-11-24 23:51:07,934 [INFO]: epoch: 121\n",
      "2023-11-24 23:51:57,274 [INFO]: lr-SGD: 0.0040009471287225234\n",
      "2023-11-24 23:51:58,834 [INFO]: clean_train_acc_step: 0.4111328125\n",
      "2023-11-24 23:51:58,835 [INFO]: clean_train_loss_step: 1.5854233503341675\n",
      "2023-11-24 23:51:58,837 [INFO]: epoch: 122\n"
     ]
    },
    {
     "data": {
      "application/vnd.jupyter.widget-view+json": {
       "model_id": "b8b89a6ac25b4378ac870db7fcccfeed",
       "version_major": 2,
       "version_minor": 0
      },
      "text/plain": [
       "Validation: 0it [00:00, ?it/s]"
      ]
     },
     "metadata": {},
     "output_type": "display_data"
    },
    {
     "name": "stderr",
     "output_type": "stream",
     "text": [
      "2023-11-24 23:52:19,107 [INFO]: clean_val_acc: 0.5888844728469849\n",
      "2023-11-24 23:52:19,109 [INFO]: clean_val_loss: 1.2068053483963013\n",
      "2023-11-24 23:52:19,110 [INFO]: epoch: 122\n",
      "2023-11-24 23:52:19,137 [INFO]: clean_train_acc_epoch: 0.39782223105430603\n",
      "2023-11-24 23:52:19,138 [INFO]: clean_train_loss_epoch: 1.5828876495361328\n",
      "2023-11-24 23:52:19,138 [INFO]: epoch: 122\n",
      "2023-11-24 23:53:17,869 [INFO]: lr-SGD: 0.004000964752564021\n",
      "2023-11-24 23:53:19,422 [INFO]: clean_train_acc_step: 0.373046875\n",
      "2023-11-24 23:53:19,423 [INFO]: clean_train_loss_step: 1.6116085052490234\n",
      "2023-11-24 23:53:19,425 [INFO]: epoch: 123\n"
     ]
    },
    {
     "data": {
      "application/vnd.jupyter.widget-view+json": {
       "model_id": "6ccaba04cfc0487197fb01283da29923",
       "version_major": 2,
       "version_minor": 0
      },
      "text/plain": [
       "Validation: 0it [00:00, ?it/s]"
      ]
     },
     "metadata": {},
     "output_type": "display_data"
    },
    {
     "name": "stderr",
     "output_type": "stream",
     "text": [
      "2023-11-24 23:53:30,474 [INFO]: clean_val_acc: 0.5939885377883911\n",
      "2023-11-24 23:53:30,476 [INFO]: clean_val_loss: 1.2186620235443115\n",
      "2023-11-24 23:53:30,477 [INFO]: epoch: 123\n",
      "2023-11-24 23:53:30,821 [INFO]: clean_train_acc_epoch: 0.40095555782318115\n",
      "2023-11-24 23:53:30,822 [INFO]: clean_train_loss_epoch: 1.5751137733459473\n",
      "2023-11-24 23:53:30,823 [INFO]: epoch: 123\n",
      "2023-11-24 23:54:38,735 [INFO]: lr-SGD: 0.004000982538865008\n",
      "2023-11-24 23:54:40,185 [INFO]: clean_train_acc_step: 0.4318181872367859\n",
      "2023-11-24 23:54:40,187 [INFO]: clean_train_loss_step: 1.5281951427459717\n",
      "2023-11-24 23:54:40,188 [INFO]: epoch: 124\n"
     ]
    },
    {
     "data": {
      "application/vnd.jupyter.widget-view+json": {
       "model_id": "af58cc7c583b4a1582f6a05ba852b988",
       "version_major": 2,
       "version_minor": 0
      },
      "text/plain": [
       "Validation: 0it [00:00, ?it/s]"
      ]
     },
     "metadata": {},
     "output_type": "display_data"
    },
    {
     "name": "stderr",
     "output_type": "stream",
     "text": [
      "2023-11-24 23:54:42,129 [INFO]: clean_val_acc: 0.5971792340278625\n",
      "2023-11-24 23:54:42,130 [INFO]: clean_val_loss: 1.2113454341888428\n",
      "2023-11-24 23:54:42,132 [INFO]: epoch: 124\n",
      "2023-11-24 23:54:42,464 [INFO]: clean_train_acc_epoch: 0.3975333273410797\n",
      "2023-11-24 23:54:42,466 [INFO]: clean_train_loss_epoch: 1.5752650499343872\n",
      "2023-11-24 23:54:42,468 [INFO]: epoch: 124\n"
     ]
    },
    {
     "data": {
      "application/vnd.jupyter.widget-view+json": {
       "model_id": "223a17e689324489ad4f7933fa19f567",
       "version_major": 2,
       "version_minor": 0
      },
      "text/plain": [
       "Validation: 0it [00:00, ?it/s]"
      ]
     },
     "metadata": {},
     "output_type": "display_data"
    },
    {
     "name": "stderr",
     "output_type": "stream",
     "text": [
      "2023-11-24 23:55:53,561 [INFO]: clean_val_acc: 0.5860723257064819\n",
      "2023-11-24 23:55:53,563 [INFO]: clean_val_loss: 1.207021951675415\n",
      "2023-11-24 23:55:53,566 [INFO]: epoch: 125\n",
      "2023-11-24 23:55:53,596 [INFO]: clean_train_acc_epoch: 0.3996888995170593\n",
      "2023-11-24 23:55:53,597 [INFO]: clean_train_loss_epoch: 1.5718311071395874\n",
      "2023-11-24 23:55:53,599 [INFO]: epoch: 125\n",
      "2023-11-24 23:56:02,923 [INFO]: lr-SGD: 0.004001000487625403\n",
      "2023-11-24 23:56:04,476 [INFO]: clean_train_acc_step: 0.392578125\n",
      "2023-11-24 23:56:04,477 [INFO]: clean_train_loss_step: 1.5745339393615723\n",
      "2023-11-24 23:56:04,480 [INFO]: epoch: 126\n"
     ]
    },
    {
     "data": {
      "application/vnd.jupyter.widget-view+json": {
       "model_id": "f2a9da33a4954b5e89d37f056a91b158",
       "version_major": 2,
       "version_minor": 0
      },
      "text/plain": [
       "Validation: 0it [00:00, ?it/s]"
      ]
     },
     "metadata": {},
     "output_type": "display_data"
    },
    {
     "name": "stderr",
     "output_type": "stream",
     "text": [
      "2023-11-24 23:57:04,774 [INFO]: clean_val_acc: 0.595511257648468\n",
      "2023-11-24 23:57:04,776 [INFO]: clean_val_loss: 1.2108874320983887\n",
      "2023-11-24 23:57:04,779 [INFO]: epoch: 126\n",
      "2023-11-24 23:57:04,805 [INFO]: clean_train_acc_epoch: 0.4040888845920563\n",
      "2023-11-24 23:57:04,806 [INFO]: clean_train_loss_epoch: 1.5657784938812256\n",
      "2023-11-24 23:57:04,808 [INFO]: epoch: 126\n",
      "2023-11-24 23:57:23,487 [INFO]: lr-SGD: 0.004001018598845149\n",
      "2023-11-24 23:57:25,047 [INFO]: clean_train_acc_step: 0.412109375\n",
      "2023-11-24 23:57:25,049 [INFO]: clean_train_loss_step: 1.5186721086502075\n",
      "2023-11-24 23:57:25,051 [INFO]: epoch: 127\n"
     ]
    },
    {
     "data": {
      "application/vnd.jupyter.widget-view+json": {
       "model_id": "7bee33e844314730b94903fb217a5fd2",
       "version_major": 2,
       "version_minor": 0
      },
      "text/plain": [
       "Validation: 0it [00:00, ?it/s]"
      ]
     },
     "metadata": {},
     "output_type": "display_data"
    },
    {
     "name": "stderr",
     "output_type": "stream",
     "text": [
      "2023-11-24 23:58:16,112 [INFO]: clean_val_acc: 0.5950289964675903\n",
      "2023-11-24 23:58:16,114 [INFO]: clean_val_loss: 1.1934268474578857\n",
      "2023-11-24 23:58:16,115 [INFO]: epoch: 127\n",
      "2023-11-24 23:58:16,145 [INFO]: clean_train_acc_epoch: 0.4006222188472748\n",
      "2023-11-24 23:58:16,147 [INFO]: clean_train_loss_epoch: 1.5640822649002075\n",
      "2023-11-24 23:58:16,149 [INFO]: epoch: 127\n",
      "2023-11-24 23:58:43,968 [INFO]: lr-SGD: 0.004001036872524205\n",
      "2023-11-24 23:58:45,522 [INFO]: clean_train_acc_step: 0.375\n",
      "2023-11-24 23:58:45,523 [INFO]: clean_train_loss_step: 1.6339589357376099\n",
      "2023-11-24 23:58:45,524 [INFO]: epoch: 128\n"
     ]
    },
    {
     "data": {
      "application/vnd.jupyter.widget-view+json": {
       "model_id": "d6ee3a0563ce4e91bfacbb1d21705027",
       "version_major": 2,
       "version_minor": 0
      },
      "text/plain": [
       "Validation: 0it [00:00, ?it/s]"
      ]
     },
     "metadata": {},
     "output_type": "display_data"
    },
    {
     "name": "stderr",
     "output_type": "stream",
     "text": [
      "2023-11-24 23:59:27,321 [INFO]: clean_val_acc: 0.5994831919670105\n",
      "2023-11-24 23:59:27,322 [INFO]: clean_val_loss: 1.2173430919647217\n",
      "2023-11-24 23:59:27,324 [INFO]: epoch: 128\n",
      "2023-11-24 23:59:27,695 [INFO]: clean_train_acc_epoch: 0.4038222134113312\n",
      "2023-11-24 23:59:27,698 [INFO]: clean_train_loss_epoch: 1.5605788230895996\n",
      "2023-11-24 23:59:27,700 [INFO]: epoch: 128\n",
      "2023-11-25 00:00:04,961 [INFO]: lr-SGD: 0.004001055308662488\n",
      "2023-11-25 00:00:06,526 [INFO]: clean_train_acc_step: 0.3828125\n",
      "2023-11-25 00:00:06,527 [INFO]: clean_train_loss_step: 1.6230136156082153\n",
      "2023-11-25 00:00:06,529 [INFO]: epoch: 129\n"
     ]
    },
    {
     "data": {
      "application/vnd.jupyter.widget-view+json": {
       "model_id": "a3e907fc676c4822a702d27d910d09b0",
       "version_major": 2,
       "version_minor": 0
      },
      "text/plain": [
       "Validation: 0it [00:00, ?it/s]"
      ]
     },
     "metadata": {},
     "output_type": "display_data"
    },
    {
     "name": "stderr",
     "output_type": "stream",
     "text": [
      "2023-11-25 00:00:39,144 [INFO]: clean_val_acc: 0.6097413897514343\n",
      "2023-11-25 00:00:39,146 [INFO]: clean_val_loss: 1.1752164363861084\n",
      "2023-11-25 00:00:39,149 [INFO]: epoch: 129\n",
      "2023-11-25 00:00:39,472 [INFO]: clean_train_acc_epoch: 0.40566667914390564\n",
      "2023-11-25 00:00:39,475 [INFO]: clean_train_loss_epoch: 1.5597621202468872\n",
      "2023-11-25 00:00:39,476 [INFO]: epoch: 129\n",
      "2023-11-25 00:01:25,958 [INFO]: lr-SGD: 0.004001073907259942\n",
      "2023-11-25 00:01:27,510 [INFO]: clean_train_acc_step: 0.443359375\n",
      "2023-11-25 00:01:27,513 [INFO]: clean_train_loss_step: 1.533531665802002\n",
      "2023-11-25 00:01:27,514 [INFO]: epoch: 130\n"
     ]
    },
    {
     "data": {
      "application/vnd.jupyter.widget-view+json": {
       "model_id": "f0150ec7edea441db729f7b67384ce7e",
       "version_major": 2,
       "version_minor": 0
      },
      "text/plain": [
       "Validation: 0it [00:00, ?it/s]"
      ]
     },
     "metadata": {},
     "output_type": "display_data"
    },
    {
     "name": "stderr",
     "output_type": "stream",
     "text": [
      "2023-11-25 00:01:50,867 [INFO]: clean_val_acc: 0.5970478653907776\n",
      "2023-11-25 00:01:50,868 [INFO]: clean_val_loss: 1.201507568359375\n",
      "2023-11-25 00:01:50,870 [INFO]: epoch: 130\n",
      "2023-11-25 00:01:50,900 [INFO]: clean_train_acc_epoch: 0.40844443440437317\n",
      "2023-11-25 00:01:50,901 [INFO]: clean_train_loss_epoch: 1.5534591674804688\n",
      "2023-11-25 00:01:50,902 [INFO]: epoch: 130\n",
      "2023-11-25 00:02:46,519 [INFO]: lr-SGD: 0.004001092668316511\n",
      "2023-11-25 00:02:48,078 [INFO]: clean_train_acc_step: 0.40234375\n",
      "2023-11-25 00:02:48,079 [INFO]: clean_train_loss_step: 1.5568795204162598\n",
      "2023-11-25 00:02:48,080 [INFO]: epoch: 131\n"
     ]
    },
    {
     "data": {
      "application/vnd.jupyter.widget-view+json": {
       "model_id": "639c0ed2e4c14fb585530bc6119e016b",
       "version_major": 2,
       "version_minor": 0
      },
      "text/plain": [
       "Validation: 0it [00:00, ?it/s]"
      ]
     },
     "metadata": {},
     "output_type": "display_data"
    },
    {
     "name": "stderr",
     "output_type": "stream",
     "text": [
      "2023-11-25 00:03:02,241 [INFO]: clean_val_acc: 0.6078418493270874\n",
      "2023-11-25 00:03:02,243 [INFO]: clean_val_loss: 1.1882154941558838\n",
      "2023-11-25 00:03:02,245 [INFO]: epoch: 131\n",
      "2023-11-25 00:03:02,573 [INFO]: clean_train_acc_epoch: 0.4078444540500641\n",
      "2023-11-25 00:03:02,575 [INFO]: clean_train_loss_epoch: 1.5515360832214355\n",
      "2023-11-25 00:03:02,576 [INFO]: epoch: 131\n",
      "2023-11-25 00:04:08,153 [INFO]: lr-SGD: 0.004001111591832127\n",
      "2023-11-25 00:04:09,705 [INFO]: clean_train_acc_step: 0.4150390625\n",
      "2023-11-25 00:04:09,707 [INFO]: clean_train_loss_step: 1.5094335079193115\n",
      "2023-11-25 00:04:09,709 [INFO]: epoch: 132\n"
     ]
    },
    {
     "data": {
      "application/vnd.jupyter.widget-view+json": {
       "model_id": "da903d5f9c1242a99228aee56f93cf9a",
       "version_major": 2,
       "version_minor": 0
      },
      "text/plain": [
       "Validation: 0it [00:00, ?it/s]"
      ]
     },
     "metadata": {},
     "output_type": "display_data"
    },
    {
     "name": "stderr",
     "output_type": "stream",
     "text": [
      "2023-11-25 00:04:14,683 [INFO]: clean_val_acc: 0.6045475006103516\n",
      "2023-11-25 00:04:14,685 [INFO]: clean_val_loss: 1.1853344440460205\n",
      "2023-11-25 00:04:14,686 [INFO]: epoch: 132\n",
      "2023-11-25 00:04:14,712 [INFO]: clean_train_acc_epoch: 0.40664443373680115\n",
      "2023-11-25 00:04:14,714 [INFO]: clean_train_loss_epoch: 1.5500332117080688\n",
      "2023-11-25 00:04:14,715 [INFO]: epoch: 132\n"
     ]
    },
    {
     "data": {
      "application/vnd.jupyter.widget-view+json": {
       "model_id": "fd4723b05d83452ba6ebc921fa5f92f8",
       "version_major": 2,
       "version_minor": 0
      },
      "text/plain": [
       "Validation: 0it [00:00, ?it/s]"
      ]
     },
     "metadata": {},
     "output_type": "display_data"
    },
    {
     "name": "stderr",
     "output_type": "stream",
     "text": [
      "2023-11-25 00:05:25,918 [INFO]: clean_val_acc: 0.6109409332275391\n",
      "2023-11-25 00:05:25,921 [INFO]: clean_val_loss: 1.1937814950942993\n",
      "2023-11-25 00:05:25,922 [INFO]: epoch: 133\n",
      "2023-11-25 00:05:26,259 [INFO]: clean_train_acc_epoch: 0.41040000319480896\n",
      "2023-11-25 00:05:26,261 [INFO]: clean_train_loss_epoch: 1.5441234111785889\n",
      "2023-11-25 00:05:26,262 [INFO]: epoch: 133\n",
      "2023-11-25 00:05:32,562 [INFO]: lr-SGD: 0.004001130677806719\n",
      "2023-11-25 00:05:34,120 [INFO]: clean_train_acc_step: 0.4404296875\n",
      "2023-11-25 00:05:34,122 [INFO]: clean_train_loss_step: 1.4896302223205566\n",
      "2023-11-25 00:05:34,123 [INFO]: epoch: 134\n"
     ]
    },
    {
     "data": {
      "application/vnd.jupyter.widget-view+json": {
       "model_id": "acbfcd5ee09c4630879df2aca7c9c32a",
       "version_major": 2,
       "version_minor": 0
      },
      "text/plain": [
       "Validation: 0it [00:00, ?it/s]"
      ]
     },
     "metadata": {},
     "output_type": "display_data"
    },
    {
     "name": "stderr",
     "output_type": "stream",
     "text": [
      "2023-11-25 00:06:37,404 [INFO]: clean_val_acc: 0.6097933053970337\n",
      "2023-11-25 00:06:37,406 [INFO]: clean_val_loss: 1.1699213981628418\n",
      "2023-11-25 00:06:37,408 [INFO]: epoch: 134\n",
      "2023-11-25 00:06:37,737 [INFO]: clean_train_acc_epoch: 0.41155555844306946\n",
      "2023-11-25 00:06:37,738 [INFO]: clean_train_loss_epoch: 1.5418081283569336\n",
      "2023-11-25 00:06:37,740 [INFO]: epoch: 134\n",
      "2023-11-25 00:06:53,220 [INFO]: lr-SGD: 0.004001149926240233\n",
      "2023-11-25 00:06:54,771 [INFO]: clean_train_acc_step: 0.431640625\n",
      "2023-11-25 00:06:54,772 [INFO]: clean_train_loss_step: 1.500038981437683\n",
      "2023-11-25 00:06:54,773 [INFO]: epoch: 135\n"
     ]
    },
    {
     "data": {
      "application/vnd.jupyter.widget-view+json": {
       "model_id": "61507198284640a79267983461a53d4a",
       "version_major": 2,
       "version_minor": 0
      },
      "text/plain": [
       "Validation: 0it [00:00, ?it/s]"
      ]
     },
     "metadata": {},
     "output_type": "display_data"
    },
    {
     "name": "stderr",
     "output_type": "stream",
     "text": [
      "2023-11-25 00:07:48,914 [INFO]: clean_val_acc: 0.6071781516075134\n",
      "2023-11-25 00:07:48,915 [INFO]: clean_val_loss: 1.1879740953445435\n",
      "2023-11-25 00:07:48,918 [INFO]: epoch: 135\n",
      "2023-11-25 00:07:48,948 [INFO]: clean_train_acc_epoch: 0.41200000047683716\n",
      "2023-11-25 00:07:48,949 [INFO]: clean_train_loss_epoch: 1.5393340587615967\n",
      "2023-11-25 00:07:48,951 [INFO]: epoch: 135\n",
      "2023-11-25 00:08:13,679 [INFO]: lr-SGD: 0.004001169337132585\n",
      "2023-11-25 00:08:15,239 [INFO]: clean_train_acc_step: 0.4111328125\n",
      "2023-11-25 00:08:15,242 [INFO]: clean_train_loss_step: 1.555687427520752\n",
      "2023-11-25 00:08:15,243 [INFO]: epoch: 136\n"
     ]
    },
    {
     "data": {
      "application/vnd.jupyter.widget-view+json": {
       "model_id": "0463f4c0552346a899d481fe63ecece1",
       "version_major": 2,
       "version_minor": 0
      },
      "text/plain": [
       "Validation: 0it [00:00, ?it/s]"
      ]
     },
     "metadata": {},
     "output_type": "display_data"
    },
    {
     "name": "stderr",
     "output_type": "stream",
     "text": [
      "2023-11-25 00:09:00,134 [INFO]: clean_val_acc: 0.613021969795227\n",
      "2023-11-25 00:09:00,137 [INFO]: clean_val_loss: 1.154426097869873\n",
      "2023-11-25 00:09:00,138 [INFO]: epoch: 136\n",
      "2023-11-25 00:09:00,491 [INFO]: clean_train_acc_epoch: 0.41384443640708923\n",
      "2023-11-25 00:09:00,493 [INFO]: clean_train_loss_epoch: 1.5362622737884521\n",
      "2023-11-25 00:09:00,493 [INFO]: epoch: 136\n",
      "2023-11-25 00:09:34,667 [INFO]: lr-SGD: 0.004001188910483733\n",
      "2023-11-25 00:09:36,222 [INFO]: clean_train_acc_step: 0.39453125\n",
      "2023-11-25 00:09:36,224 [INFO]: clean_train_loss_step: 1.5909368991851807\n",
      "2023-11-25 00:09:36,225 [INFO]: epoch: 137\n"
     ]
    },
    {
     "data": {
      "application/vnd.jupyter.widget-view+json": {
       "model_id": "ca744021e4fa412c8d866f77c5ac127b",
       "version_major": 2,
       "version_minor": 0
      },
      "text/plain": [
       "Validation: 0it [00:00, ?it/s]"
      ]
     },
     "metadata": {},
     "output_type": "display_data"
    },
    {
     "name": "stderr",
     "output_type": "stream",
     "text": [
      "2023-11-25 00:10:11,862 [INFO]: clean_val_acc: 0.6119815111160278\n",
      "2023-11-25 00:10:11,864 [INFO]: clean_val_loss: 1.1858389377593994\n",
      "2023-11-25 00:10:11,867 [INFO]: epoch: 137\n",
      "2023-11-25 00:10:12,237 [INFO]: clean_train_acc_epoch: 0.41484445333480835\n",
      "2023-11-25 00:10:12,239 [INFO]: clean_train_loss_epoch: 1.5316787958145142\n",
      "2023-11-25 00:10:12,241 [INFO]: epoch: 137\n",
      "2023-11-25 00:10:55,517 [INFO]: lr-SGD: 0.004001208646293608\n",
      "2023-11-25 00:10:57,077 [INFO]: clean_train_acc_step: 0.4111328125\n",
      "2023-11-25 00:10:57,078 [INFO]: clean_train_loss_step: 1.5400276184082031\n",
      "2023-11-25 00:10:57,078 [INFO]: epoch: 138\n"
     ]
    },
    {
     "data": {
      "application/vnd.jupyter.widget-view+json": {
       "model_id": "2afcbe6e803c491b9f7067a8ffbaf6d8",
       "version_major": 2,
       "version_minor": 0
      },
      "text/plain": [
       "Validation: 0it [00:00, ?it/s]"
      ]
     },
     "metadata": {},
     "output_type": "display_data"
    },
    {
     "name": "stderr",
     "output_type": "stream",
     "text": [
      "2023-11-25 00:11:23,524 [INFO]: clean_val_acc: 0.6120972633361816\n",
      "2023-11-25 00:11:23,525 [INFO]: clean_val_loss: 1.1560038328170776\n",
      "2023-11-25 00:11:23,527 [INFO]: epoch: 138\n",
      "2023-11-25 00:11:23,867 [INFO]: clean_train_acc_epoch: 0.4159333407878876\n",
      "2023-11-25 00:11:23,869 [INFO]: clean_train_loss_epoch: 1.5294604301452637\n",
      "2023-11-25 00:11:23,870 [INFO]: epoch: 138\n",
      "2023-11-25 00:12:16,285 [INFO]: lr-SGD: 0.004001228544562127\n",
      "2023-11-25 00:12:17,835 [INFO]: clean_train_acc_step: 0.41796875\n",
      "2023-11-25 00:12:17,836 [INFO]: clean_train_loss_step: 1.4792776107788086\n",
      "2023-11-25 00:12:17,837 [INFO]: epoch: 139\n"
     ]
    },
    {
     "data": {
      "application/vnd.jupyter.widget-view+json": {
       "model_id": "91be9f3cdf9a40c68dcc922edf49be5a",
       "version_major": 2,
       "version_minor": 0
      },
      "text/plain": [
       "Validation: 0it [00:00, ?it/s]"
      ]
     },
     "metadata": {},
     "output_type": "display_data"
    },
    {
     "name": "stderr",
     "output_type": "stream",
     "text": [
      "2023-11-25 00:12:35,069 [INFO]: clean_val_acc: 0.6149232983589172\n",
      "2023-11-25 00:12:35,071 [INFO]: clean_val_loss: 1.1686937808990479\n",
      "2023-11-25 00:12:35,073 [INFO]: epoch: 139\n",
      "2023-11-25 00:12:35,399 [INFO]: clean_train_acc_epoch: 0.4177111089229584\n",
      "2023-11-25 00:12:35,400 [INFO]: clean_train_loss_epoch: 1.5220946073532104\n",
      "2023-11-25 00:12:35,401 [INFO]: epoch: 139\n",
      "2023-11-25 00:13:37,168 [INFO]: lr-SGD: 0.004001248605289248\n",
      "2023-11-25 00:13:38,726 [INFO]: clean_train_acc_step: 0.4091796875\n",
      "2023-11-25 00:13:38,728 [INFO]: clean_train_loss_step: 1.5243685245513916\n",
      "2023-11-25 00:13:38,729 [INFO]: epoch: 140\n"
     ]
    },
    {
     "data": {
      "application/vnd.jupyter.widget-view+json": {
       "model_id": "6ac8d2c4aaed4fda871ada004ec7ede1",
       "version_major": 2,
       "version_minor": 0
      },
      "text/plain": [
       "Validation: 0it [00:00, ?it/s]"
      ]
     },
     "metadata": {},
     "output_type": "display_data"
    },
    {
     "name": "stderr",
     "output_type": "stream",
     "text": [
      "2023-11-25 00:13:46,669 [INFO]: clean_val_acc: 0.6200014352798462\n",
      "2023-11-25 00:13:46,671 [INFO]: clean_val_loss: 1.1493754386901855\n",
      "2023-11-25 00:13:46,673 [INFO]: epoch: 140\n",
      "2023-11-25 00:13:47,023 [INFO]: clean_train_acc_epoch: 0.4192444384098053\n",
      "2023-11-25 00:13:47,026 [INFO]: clean_train_loss_epoch: 1.5226022005081177\n",
      "2023-11-25 00:13:47,027 [INFO]: epoch: 140\n"
     ]
    },
    {
     "data": {
      "application/vnd.jupyter.widget-view+json": {
       "model_id": "892a1d525b5142eba9e674ffcb85604a",
       "version_major": 2,
       "version_minor": 0
      },
      "text/plain": [
       "Validation: 0it [00:00, ?it/s]"
      ]
     },
     "metadata": {},
     "output_type": "display_data"
    },
    {
     "name": "stderr",
     "output_type": "stream",
     "text": [
      "2023-11-25 00:14:58,268 [INFO]: clean_val_acc: 0.613217294216156\n",
      "2023-11-25 00:14:58,270 [INFO]: clean_val_loss: 1.1586884260177612\n",
      "2023-11-25 00:14:58,271 [INFO]: epoch: 141\n",
      "2023-11-25 00:14:58,298 [INFO]: clean_train_acc_epoch: 0.4203111231327057\n",
      "2023-11-25 00:14:58,299 [INFO]: clean_train_loss_epoch: 1.5160194635391235\n",
      "2023-11-25 00:14:58,301 [INFO]: epoch: 141\n",
      "2023-11-25 00:15:01,516 [INFO]: lr-SGD: 0.00400126882847486\n",
      "2023-11-25 00:15:03,069 [INFO]: clean_train_acc_step: 0.4111328125\n",
      "2023-11-25 00:15:03,071 [INFO]: clean_train_loss_step: 1.5632469654083252\n",
      "2023-11-25 00:15:03,072 [INFO]: epoch: 142\n"
     ]
    },
    {
     "data": {
      "application/vnd.jupyter.widget-view+json": {
       "model_id": "f3e25d2e1e9040bcb1f8cb7c0a4aa58c",
       "version_major": 2,
       "version_minor": 0
      },
      "text/plain": [
       "Validation: 0it [00:00, ?it/s]"
      ]
     },
     "metadata": {},
     "output_type": "display_data"
    },
    {
     "name": "stderr",
     "output_type": "stream",
     "text": [
      "2023-11-25 00:16:09,554 [INFO]: clean_val_acc: 0.6204697489738464\n",
      "2023-11-25 00:16:09,556 [INFO]: clean_val_loss: 1.1560614109039307\n",
      "2023-11-25 00:16:09,559 [INFO]: epoch: 142\n",
      "2023-11-25 00:16:09,913 [INFO]: clean_train_acc_epoch: 0.42233332991600037\n",
      "2023-11-25 00:16:09,915 [INFO]: clean_train_loss_epoch: 1.5155720710754395\n",
      "2023-11-25 00:16:09,917 [INFO]: epoch: 142\n",
      "2023-11-25 00:16:22,530 [INFO]: lr-SGD: 0.004001289214118936\n",
      "2023-11-25 00:16:24,085 [INFO]: clean_train_acc_step: 0.443359375\n",
      "2023-11-25 00:16:24,086 [INFO]: clean_train_loss_step: 1.488427996635437\n",
      "2023-11-25 00:16:24,087 [INFO]: epoch: 143\n"
     ]
    },
    {
     "data": {
      "application/vnd.jupyter.widget-view+json": {
       "model_id": "ca42cbbf06cf4655a1e141c2cbb22c41",
       "version_major": 2,
       "version_minor": 0
      },
      "text/plain": [
       "Validation: 0it [00:00, ?it/s]"
      ]
     },
     "metadata": {},
     "output_type": "display_data"
    },
    {
     "name": "stderr",
     "output_type": "stream",
     "text": [
      "2023-11-25 00:17:21,284 [INFO]: clean_val_acc: 0.6149768233299255\n",
      "2023-11-25 00:17:21,287 [INFO]: clean_val_loss: 1.1409889459609985\n",
      "2023-11-25 00:17:21,288 [INFO]: epoch: 143\n",
      "2023-11-25 00:17:21,315 [INFO]: clean_train_acc_epoch: 0.42144444584846497\n",
      "2023-11-25 00:17:21,317 [INFO]: clean_train_loss_epoch: 1.51496422290802\n",
      "2023-11-25 00:17:21,318 [INFO]: epoch: 143\n",
      "2023-11-25 00:17:43,059 [INFO]: lr-SGD: 0.004001309762221392\n",
      "2023-11-25 00:17:44,613 [INFO]: clean_train_acc_step: 0.4296875\n",
      "2023-11-25 00:17:44,614 [INFO]: clean_train_loss_step: 1.51337730884552\n",
      "2023-11-25 00:17:44,617 [INFO]: epoch: 144\n"
     ]
    },
    {
     "data": {
      "application/vnd.jupyter.widget-view+json": {
       "model_id": "f44a6b8e46694215ba7740fc1538fb90",
       "version_major": 2,
       "version_minor": 0
      },
      "text/plain": [
       "Validation: 0it [00:00, ?it/s]"
      ]
     },
     "metadata": {},
     "output_type": "display_data"
    },
    {
     "name": "stderr",
     "output_type": "stream",
     "text": [
      "2023-11-25 00:18:32,504 [INFO]: clean_val_acc: 0.6209779977798462\n",
      "2023-11-25 00:18:32,505 [INFO]: clean_val_loss: 1.156602144241333\n",
      "2023-11-25 00:18:32,506 [INFO]: epoch: 144\n",
      "2023-11-25 00:18:32,858 [INFO]: clean_train_acc_epoch: 0.42426666617393494\n",
      "2023-11-25 00:18:32,860 [INFO]: clean_train_loss_epoch: 1.5086767673492432\n",
      "2023-11-25 00:18:32,862 [INFO]: epoch: 144\n",
      "2023-11-25 00:19:03,888 [INFO]: lr-SGD: 0.004001330472782172\n",
      "2023-11-25 00:19:05,457 [INFO]: clean_train_acc_step: 0.4384765625\n",
      "2023-11-25 00:19:05,458 [INFO]: clean_train_loss_step: 1.5002583265304565\n",
      "2023-11-25 00:19:05,460 [INFO]: epoch: 145\n"
     ]
    },
    {
     "data": {
      "application/vnd.jupyter.widget-view+json": {
       "model_id": "90ef2cd4bc8641f9a56873866347167e",
       "version_major": 2,
       "version_minor": 0
      },
      "text/plain": [
       "Validation: 0it [00:00, ?it/s]"
      ]
     },
     "metadata": {},
     "output_type": "display_data"
    },
    {
     "name": "stderr",
     "output_type": "stream",
     "text": [
      "2023-11-25 00:19:44,149 [INFO]: clean_val_acc: 0.6187257766723633\n",
      "2023-11-25 00:19:44,151 [INFO]: clean_val_loss: 1.1379733085632324\n",
      "2023-11-25 00:19:44,153 [INFO]: epoch: 145\n",
      "2023-11-25 00:19:44,182 [INFO]: clean_train_acc_epoch: 0.4228000044822693\n",
      "2023-11-25 00:19:44,183 [INFO]: clean_train_loss_epoch: 1.507920503616333\n",
      "2023-11-25 00:19:44,184 [INFO]: epoch: 145\n",
      "2023-11-25 00:20:24,359 [INFO]: lr-SGD: 0.004001351345801166\n",
      "2023-11-25 00:20:25,912 [INFO]: clean_train_acc_step: 0.44921875\n",
      "2023-11-25 00:20:25,914 [INFO]: clean_train_loss_step: 1.4681272506713867\n",
      "2023-11-25 00:20:25,915 [INFO]: epoch: 146\n"
     ]
    },
    {
     "data": {
      "application/vnd.jupyter.widget-view+json": {
       "model_id": "56c99f85b38543599c15c83b1304a45d",
       "version_major": 2,
       "version_minor": 0
      },
      "text/plain": [
       "Validation: 0it [00:00, ?it/s]"
      ]
     },
     "metadata": {},
     "output_type": "display_data"
    },
    {
     "name": "stderr",
     "output_type": "stream",
     "text": [
      "2023-11-25 00:20:55,435 [INFO]: clean_val_acc: 0.6173067688941956\n",
      "2023-11-25 00:20:55,438 [INFO]: clean_val_loss: 1.1475732326507568\n",
      "2023-11-25 00:20:55,439 [INFO]: epoch: 146\n",
      "2023-11-25 00:20:55,467 [INFO]: clean_train_acc_epoch: 0.4247777760028839\n",
      "2023-11-25 00:20:55,470 [INFO]: clean_train_loss_epoch: 1.5062772035598755\n",
      "2023-11-25 00:20:55,470 [INFO]: epoch: 146\n",
      "2023-11-25 00:21:45,028 [INFO]: lr-SGD: 0.004001372381278359\n",
      "2023-11-25 00:21:46,587 [INFO]: clean_train_acc_step: 0.4267578125\n",
      "2023-11-25 00:21:46,588 [INFO]: clean_train_loss_step: 1.4964375495910645\n",
      "2023-11-25 00:21:46,590 [INFO]: epoch: 147\n"
     ]
    },
    {
     "data": {
      "application/vnd.jupyter.widget-view+json": {
       "model_id": "c2a74a1e9d244675bb5ff1f698bd1467",
       "version_major": 2,
       "version_minor": 0
      },
      "text/plain": [
       "Validation: 0it [00:00, ?it/s]"
      ]
     },
     "metadata": {},
     "output_type": "display_data"
    },
    {
     "name": "stderr",
     "output_type": "stream",
     "text": [
      "2023-11-25 00:22:06,848 [INFO]: clean_val_acc: 0.6233096122741699\n",
      "2023-11-25 00:22:06,850 [INFO]: clean_val_loss: 1.1336065530776978\n",
      "2023-11-25 00:22:06,852 [INFO]: epoch: 147\n",
      "2023-11-25 00:22:07,174 [INFO]: clean_train_acc_epoch: 0.42482221126556396\n",
      "2023-11-25 00:22:07,175 [INFO]: clean_train_loss_epoch: 1.5027117729187012\n",
      "2023-11-25 00:22:07,178 [INFO]: epoch: 147\n",
      "2023-11-25 00:23:05,847 [INFO]: lr-SGD: 0.004001393579213627\n",
      "2023-11-25 00:23:07,402 [INFO]: clean_train_acc_step: 0.384765625\n",
      "2023-11-25 00:23:07,403 [INFO]: clean_train_loss_step: 1.536474347114563\n",
      "2023-11-25 00:23:07,405 [INFO]: epoch: 148\n"
     ]
    },
    {
     "data": {
      "application/vnd.jupyter.widget-view+json": {
       "model_id": "6179b5a75ecb493482dcc9369690a0f2",
       "version_major": 2,
       "version_minor": 0
      },
      "text/plain": [
       "Validation: 0it [00:00, ?it/s]"
      ]
     },
     "metadata": {},
     "output_type": "display_data"
    },
    {
     "name": "stderr",
     "output_type": "stream",
     "text": [
      "2023-11-25 00:23:18,425 [INFO]: clean_val_acc: 0.6207445859909058\n",
      "2023-11-25 00:23:18,427 [INFO]: clean_val_loss: 1.1426118612289429\n",
      "2023-11-25 00:23:18,429 [INFO]: epoch: 148\n",
      "2023-11-25 00:23:18,456 [INFO]: clean_train_acc_epoch: 0.42542222142219543\n",
      "2023-11-25 00:23:18,457 [INFO]: clean_train_loss_epoch: 1.4990185499191284\n",
      "2023-11-25 00:23:18,458 [INFO]: epoch: 148\n",
      "2023-11-25 00:24:26,324 [INFO]: lr-SGD: 0.004001414939606943\n",
      "2023-11-25 00:24:27,775 [INFO]: clean_train_acc_step: 0.45351240038871765\n",
      "2023-11-25 00:24:27,777 [INFO]: clean_train_loss_step: 1.4598852396011353\n",
      "2023-11-25 00:24:27,778 [INFO]: epoch: 149\n"
     ]
    },
    {
     "data": {
      "application/vnd.jupyter.widget-view+json": {
       "model_id": "5df4ef1141d2435cb643c3b647596321",
       "version_major": 2,
       "version_minor": 0
      },
      "text/plain": [
       "Validation: 0it [00:00, ?it/s]"
      ]
     },
     "metadata": {},
     "output_type": "display_data"
    },
    {
     "name": "stderr",
     "output_type": "stream",
     "text": [
      "2023-11-25 00:24:29,757 [INFO]: clean_val_acc: 0.6358855962753296\n",
      "2023-11-25 00:24:29,760 [INFO]: clean_val_loss: 1.119327187538147\n",
      "2023-11-25 00:24:29,762 [INFO]: epoch: 149\n",
      "2023-11-25 00:24:30,111 [INFO]: clean_train_acc_epoch: 0.4283111095428467\n",
      "2023-11-25 00:24:30,113 [INFO]: clean_train_loss_epoch: 1.4939740896224976\n",
      "2023-11-25 00:24:30,114 [INFO]: epoch: 149\n"
     ]
    },
    {
     "data": {
      "application/vnd.jupyter.widget-view+json": {
       "model_id": "ca70aa0953d242f48d98a90c39738f4c",
       "version_major": 2,
       "version_minor": 0
      },
      "text/plain": [
       "Validation: 0it [00:00, ?it/s]"
      ]
     },
     "metadata": {},
     "output_type": "display_data"
    },
    {
     "name": "stderr",
     "output_type": "stream",
     "text": [
      "2023-11-25 00:25:41,363 [INFO]: clean_val_acc: 0.6142197847366333\n",
      "2023-11-25 00:25:41,366 [INFO]: clean_val_loss: 1.13234543800354\n",
      "2023-11-25 00:25:41,367 [INFO]: epoch: 150\n",
      "2023-11-25 00:25:41,398 [INFO]: clean_train_acc_epoch: 0.4289777874946594\n",
      "2023-11-25 00:25:41,401 [INFO]: clean_train_loss_epoch: 1.4909446239471436\n",
      "2023-11-25 00:25:41,402 [INFO]: epoch: 150\n",
      "2023-11-25 00:25:50,714 [INFO]: lr-SGD: 0.004001436462458208\n",
      "2023-11-25 00:25:52,267 [INFO]: clean_train_acc_step: 0.4052734375\n",
      "2023-11-25 00:25:52,269 [INFO]: clean_train_loss_step: 1.5015637874603271\n",
      "2023-11-25 00:25:52,270 [INFO]: epoch: 151\n"
     ]
    },
    {
     "data": {
      "application/vnd.jupyter.widget-view+json": {
       "model_id": "ad14e56b196349f6835f89ebf397c02b",
       "version_major": 2,
       "version_minor": 0
      },
      "text/plain": [
       "Validation: 0it [00:00, ?it/s]"
      ]
     },
     "metadata": {},
     "output_type": "display_data"
    },
    {
     "name": "stderr",
     "output_type": "stream",
     "text": [
      "2023-11-25 00:26:52,474 [INFO]: clean_val_acc: 0.632280170917511\n",
      "2023-11-25 00:26:52,475 [INFO]: clean_val_loss: 1.1141395568847656\n",
      "2023-11-25 00:26:52,477 [INFO]: epoch: 151\n",
      "2023-11-25 00:26:52,822 [INFO]: clean_train_acc_epoch: 0.4310222268104553\n",
      "2023-11-25 00:26:52,824 [INFO]: clean_train_loss_epoch: 1.4869067668914795\n",
      "2023-11-25 00:26:52,825 [INFO]: epoch: 151\n",
      "2023-11-25 00:27:11,433 [INFO]: lr-SGD: 0.004001458147767353\n",
      "2023-11-25 00:27:12,994 [INFO]: clean_train_acc_step: 0.4609375\n",
      "2023-11-25 00:27:12,995 [INFO]: clean_train_loss_step: 1.4403018951416016\n",
      "2023-11-25 00:27:12,998 [INFO]: epoch: 152\n"
     ]
    },
    {
     "data": {
      "application/vnd.jupyter.widget-view+json": {
       "model_id": "030941a30c214363aa5fde9383f790ef",
       "version_major": 2,
       "version_minor": 0
      },
      "text/plain": [
       "Validation: 0it [00:00, ?it/s]"
      ]
     },
     "metadata": {},
     "output_type": "display_data"
    },
    {
     "name": "stderr",
     "output_type": "stream",
     "text": [
      "2023-11-25 00:28:04,049 [INFO]: clean_val_acc: 0.6220720410346985\n",
      "2023-11-25 00:28:04,051 [INFO]: clean_val_loss: 1.129638433456421\n",
      "2023-11-25 00:28:04,053 [INFO]: epoch: 152\n",
      "2023-11-25 00:28:04,081 [INFO]: clean_train_acc_epoch: 0.4310666620731354\n",
      "2023-11-25 00:28:04,082 [INFO]: clean_train_loss_epoch: 1.4856369495391846\n",
      "2023-11-25 00:28:04,084 [INFO]: epoch: 152\n",
      "2023-11-25 00:28:31,969 [INFO]: lr-SGD: 0.004001479995534296\n",
      "2023-11-25 00:28:33,522 [INFO]: clean_train_acc_step: 0.412109375\n",
      "2023-11-25 00:28:33,523 [INFO]: clean_train_loss_step: 1.5320720672607422\n",
      "2023-11-25 00:28:33,524 [INFO]: epoch: 153\n"
     ]
    },
    {
     "data": {
      "application/vnd.jupyter.widget-view+json": {
       "model_id": "5a083f8ef260472d981d07938c0eab99",
       "version_major": 2,
       "version_minor": 0
      },
      "text/plain": [
       "Validation: 0it [00:00, ?it/s]"
      ]
     },
     "metadata": {},
     "output_type": "display_data"
    },
    {
     "name": "stderr",
     "output_type": "stream",
     "text": [
      "2023-11-25 00:29:15,317 [INFO]: clean_val_acc: 0.6323579549789429\n",
      "2023-11-25 00:29:15,318 [INFO]: clean_val_loss: 1.1285006999969482\n",
      "2023-11-25 00:29:15,321 [INFO]: epoch: 153\n",
      "2023-11-25 00:29:15,646 [INFO]: clean_train_acc_epoch: 0.43346667289733887\n",
      "2023-11-25 00:29:15,648 [INFO]: clean_train_loss_epoch: 1.4828734397888184\n",
      "2023-11-25 00:29:15,650 [INFO]: epoch: 153\n",
      "2023-11-25 00:29:52,808 [INFO]: lr-SGD: 0.004001502005758981\n",
      "2023-11-25 00:29:56,056 [INFO]: clean_train_acc_step: 0.392578125\n",
      "2023-11-25 00:29:56,058 [INFO]: clean_train_loss_step: 1.5462626218795776\n",
      "2023-11-25 00:29:56,059 [INFO]: epoch: 154\n"
     ]
    },
    {
     "data": {
      "application/vnd.jupyter.widget-view+json": {
       "model_id": "7eb5653ac6ab472eaadfc763bb9de37b",
       "version_major": 2,
       "version_minor": 0
      },
      "text/plain": [
       "Validation: 0it [00:00, ?it/s]"
      ]
     },
     "metadata": {},
     "output_type": "display_data"
    },
    {
     "name": "stderr",
     "output_type": "stream",
     "text": [
      "2023-11-25 00:30:28,689 [INFO]: clean_val_acc: 0.6307815909385681\n",
      "2023-11-25 00:30:28,691 [INFO]: clean_val_loss: 1.117812156677246\n",
      "2023-11-25 00:30:28,694 [INFO]: epoch: 154\n",
      "2023-11-25 00:30:28,723 [INFO]: clean_train_acc_epoch: 0.431466668844223\n",
      "2023-11-25 00:30:28,725 [INFO]: clean_train_loss_epoch: 1.4786701202392578\n",
      "2023-11-25 00:30:28,727 [INFO]: epoch: 154\n",
      "2023-11-25 00:31:15,068 [INFO]: lr-SGD: 0.0040015241784413375\n",
      "2023-11-25 00:31:16,621 [INFO]: clean_train_acc_step: 0.447265625\n",
      "2023-11-25 00:31:16,623 [INFO]: clean_train_loss_step: 1.4561235904693604\n",
      "2023-11-25 00:31:16,626 [INFO]: epoch: 155\n"
     ]
    },
    {
     "data": {
      "application/vnd.jupyter.widget-view+json": {
       "model_id": "a783e08c27c848d982e5db1e0dbdec2d",
       "version_major": 2,
       "version_minor": 0
      },
      "text/plain": [
       "Validation: 0it [00:00, ?it/s]"
      ]
     },
     "metadata": {},
     "output_type": "display_data"
    },
    {
     "name": "stderr",
     "output_type": "stream",
     "text": [
      "2023-11-25 00:31:40,007 [INFO]: clean_val_acc: 0.6361708641052246\n",
      "2023-11-25 00:31:40,009 [INFO]: clean_val_loss: 1.1091759204864502\n",
      "2023-11-25 00:31:40,011 [INFO]: epoch: 155\n",
      "2023-11-25 00:31:40,339 [INFO]: clean_train_acc_epoch: 0.4354444444179535\n",
      "2023-11-25 00:31:40,341 [INFO]: clean_train_loss_epoch: 1.4747487306594849\n",
      "2023-11-25 00:31:40,342 [INFO]: epoch: 155\n",
      "2023-11-25 00:32:35,858 [INFO]: lr-SGD: 0.0040015465135812694\n",
      "2023-11-25 00:32:37,710 [INFO]: clean_train_acc_step: 0.443359375\n",
      "2023-11-25 00:32:37,711 [INFO]: clean_train_loss_step: 1.4488658905029297\n",
      "2023-11-25 00:32:37,713 [INFO]: epoch: 156\n"
     ]
    },
    {
     "data": {
      "application/vnd.jupyter.widget-view+json": {
       "model_id": "4fdb197e1d1841ab962d68f18aec5b82",
       "version_major": 2,
       "version_minor": 0
      },
      "text/plain": [
       "Validation: 0it [00:00, ?it/s]"
      ]
     },
     "metadata": {},
     "output_type": "display_data"
    },
    {
     "name": "stderr",
     "output_type": "stream",
     "text": [
      "2023-11-25 00:32:51,759 [INFO]: clean_val_acc: 0.6362365484237671\n",
      "2023-11-25 00:32:51,761 [INFO]: clean_val_loss: 1.1055679321289062\n",
      "2023-11-25 00:32:51,763 [INFO]: epoch: 156\n",
      "2023-11-25 00:32:52,091 [INFO]: clean_train_acc_epoch: 0.4363555610179901\n",
      "2023-11-25 00:32:52,093 [INFO]: clean_train_loss_epoch: 1.4699077606201172\n",
      "2023-11-25 00:32:52,094 [INFO]: epoch: 156\n",
      "2023-11-25 00:33:56,927 [INFO]: lr-SGD: 0.004001569011178707\n",
      "2023-11-25 00:33:58,481 [INFO]: clean_train_acc_step: 0.466796875\n",
      "2023-11-25 00:33:58,483 [INFO]: clean_train_loss_step: 1.427748203277588\n",
      "2023-11-25 00:33:58,485 [INFO]: epoch: 157\n"
     ]
    },
    {
     "data": {
      "application/vnd.jupyter.widget-view+json": {
       "model_id": "8ab17ab2dc1443c6837bc89b42e77182",
       "version_major": 2,
       "version_minor": 0
      },
      "text/plain": [
       "Validation: 0it [00:00, ?it/s]"
      ]
     },
     "metadata": {},
     "output_type": "display_data"
    },
    {
     "name": "stderr",
     "output_type": "stream",
     "text": [
      "2023-11-25 00:34:03,358 [INFO]: clean_val_acc: 0.6388810276985168\n",
      "2023-11-25 00:34:03,360 [INFO]: clean_val_loss: 1.1079285144805908\n",
      "2023-11-25 00:34:03,361 [INFO]: epoch: 157\n",
      "2023-11-25 00:34:03,694 [INFO]: clean_train_acc_epoch: 0.4368666708469391\n",
      "2023-11-25 00:34:03,696 [INFO]: clean_train_loss_epoch: 1.4685035943984985\n",
      "2023-11-25 00:34:03,698 [INFO]: epoch: 157\n"
     ]
    },
    {
     "data": {
      "application/vnd.jupyter.widget-view+json": {
       "model_id": "cc5785f3cb1e4bd98faeccc061af1585",
       "version_major": 2,
       "version_minor": 0
      },
      "text/plain": [
       "Validation: 0it [00:00, ?it/s]"
      ]
     },
     "metadata": {},
     "output_type": "display_data"
    },
    {
     "name": "stderr",
     "output_type": "stream",
     "text": [
      "2023-11-25 00:35:15,108 [INFO]: clean_val_acc: 0.642578125\n",
      "2023-11-25 00:35:15,110 [INFO]: clean_val_loss: 1.0911247730255127\n",
      "2023-11-25 00:35:15,111 [INFO]: epoch: 158\n",
      "2023-11-25 00:35:15,461 [INFO]: clean_train_acc_epoch: 0.4390888810157776\n",
      "2023-11-25 00:35:15,463 [INFO]: clean_train_loss_epoch: 1.4648489952087402\n",
      "2023-11-25 00:35:15,465 [INFO]: epoch: 158\n",
      "2023-11-25 00:35:21,922 [INFO]: lr-SGD: 0.004001591671233595\n",
      "2023-11-25 00:35:23,478 [INFO]: clean_train_acc_step: 0.466796875\n",
      "2023-11-25 00:35:23,481 [INFO]: clean_train_loss_step: 1.4141756296157837\n",
      "2023-11-25 00:35:23,483 [INFO]: epoch: 159\n"
     ]
    },
    {
     "data": {
      "application/vnd.jupyter.widget-view+json": {
       "model_id": "073fae6cae0940f9a3e5062891240a37",
       "version_major": 2,
       "version_minor": 0
      },
      "text/plain": [
       "Validation: 0it [00:00, ?it/s]"
      ]
     },
     "metadata": {},
     "output_type": "display_data"
    },
    {
     "name": "stderr",
     "output_type": "stream",
     "text": [
      "2023-11-25 00:36:26,854 [INFO]: clean_val_acc: 0.6417191028594971\n",
      "2023-11-25 00:36:26,856 [INFO]: clean_val_loss: 1.105208158493042\n",
      "2023-11-25 00:36:26,857 [INFO]: epoch: 159\n",
      "2023-11-25 00:36:27,206 [INFO]: clean_train_acc_epoch: 0.440155565738678\n",
      "2023-11-25 00:36:27,209 [INFO]: clean_train_loss_epoch: 1.4613133668899536\n",
      "2023-11-25 00:36:27,210 [INFO]: epoch: 159\n",
      "2023-11-25 00:36:42,893 [INFO]: lr-SGD: 0.0040016144937458226\n",
      "2023-11-25 00:36:44,444 [INFO]: clean_train_acc_step: 0.4609375\n",
      "2023-11-25 00:36:44,446 [INFO]: clean_train_loss_step: 1.437843680381775\n",
      "2023-11-25 00:36:44,448 [INFO]: epoch: 160\n"
     ]
    },
    {
     "data": {
      "application/vnd.jupyter.widget-view+json": {
       "model_id": "8914beeed2994097b5a4576f574022f7",
       "version_major": 2,
       "version_minor": 0
      },
      "text/plain": [
       "Validation: 0it [00:00, ?it/s]"
      ]
     },
     "metadata": {},
     "output_type": "display_data"
    },
    {
     "name": "stderr",
     "output_type": "stream",
     "text": [
      "2023-11-25 00:37:38,557 [INFO]: clean_val_acc: 0.6363817453384399\n",
      "2023-11-25 00:37:38,559 [INFO]: clean_val_loss: 1.0881112813949585\n",
      "2023-11-25 00:37:38,561 [INFO]: epoch: 160\n",
      "2023-11-25 00:37:38,593 [INFO]: clean_train_acc_epoch: 0.4410444498062134\n",
      "2023-11-25 00:37:38,595 [INFO]: clean_train_loss_epoch: 1.459090232849121\n",
      "2023-11-25 00:37:38,597 [INFO]: epoch: 160\n",
      "2023-11-25 00:38:03,402 [INFO]: lr-SGD: 0.004001637478715334\n",
      "2023-11-25 00:38:04,963 [INFO]: clean_train_acc_step: 0.4287109375\n",
      "2023-11-25 00:38:04,965 [INFO]: clean_train_loss_step: 1.4862730503082275\n",
      "2023-11-25 00:38:04,966 [INFO]: epoch: 161\n"
     ]
    },
    {
     "data": {
      "application/vnd.jupyter.widget-view+json": {
       "model_id": "8e22a04714354193be33c4b48b1a2f82",
       "version_major": 2,
       "version_minor": 0
      },
      "text/plain": [
       "Validation: 0it [00:00, ?it/s]"
      ]
     },
     "metadata": {},
     "output_type": "display_data"
    },
    {
     "name": "stderr",
     "output_type": "stream",
     "text": [
      "2023-11-25 00:38:49,913 [INFO]: clean_val_acc: 0.6364836692810059\n",
      "2023-11-25 00:38:49,915 [INFO]: clean_val_loss: 1.1074270009994507\n",
      "2023-11-25 00:38:49,917 [INFO]: epoch: 161\n",
      "2023-11-25 00:38:49,944 [INFO]: clean_train_acc_epoch: 0.4422000050544739\n",
      "2023-11-25 00:38:49,945 [INFO]: clean_train_loss_epoch: 1.4557815790176392\n",
      "2023-11-25 00:38:49,947 [INFO]: epoch: 161\n",
      "2023-11-25 00:39:23,922 [INFO]: lr-SGD: 0.004001660626142045\n",
      "2023-11-25 00:39:25,478 [INFO]: clean_train_acc_step: 0.4150390625\n",
      "2023-11-25 00:39:25,480 [INFO]: clean_train_loss_step: 1.48722243309021\n",
      "2023-11-25 00:39:25,481 [INFO]: epoch: 162\n"
     ]
    },
    {
     "data": {
      "application/vnd.jupyter.widget-view+json": {
       "model_id": "9272605018a74903a810163132c4913e",
       "version_major": 2,
       "version_minor": 0
      },
      "text/plain": [
       "Validation: 0it [00:00, ?it/s]"
      ]
     },
     "metadata": {},
     "output_type": "display_data"
    },
    {
     "name": "stderr",
     "output_type": "stream",
     "text": [
      "2023-11-25 00:40:01,134 [INFO]: clean_val_acc: 0.6416395902633667\n",
      "2023-11-25 00:40:01,136 [INFO]: clean_val_loss: 1.0804380178451538\n",
      "2023-11-25 00:40:01,138 [INFO]: epoch: 162\n",
      "2023-11-25 00:40:01,169 [INFO]: clean_train_acc_epoch: 0.443533331155777\n",
      "2023-11-25 00:40:01,170 [INFO]: clean_train_loss_epoch: 1.4511985778808594\n",
      "2023-11-25 00:40:01,173 [INFO]: epoch: 162\n",
      "2023-11-25 00:40:44,603 [INFO]: lr-SGD: 0.004001683936025888\n",
      "2023-11-25 00:40:46,164 [INFO]: clean_train_acc_step: 0.458984375\n",
      "2023-11-25 00:40:46,166 [INFO]: clean_train_loss_step: 1.4577045440673828\n",
      "2023-11-25 00:40:46,168 [INFO]: epoch: 163\n"
     ]
    },
    {
     "data": {
      "application/vnd.jupyter.widget-view+json": {
       "model_id": "0da4b0dd742e4284aa91f7c8d5ba8721",
       "version_major": 2,
       "version_minor": 0
      },
      "text/plain": [
       "Validation: 0it [00:00, ?it/s]"
      ]
     },
     "metadata": {},
     "output_type": "display_data"
    },
    {
     "name": "stderr",
     "output_type": "stream",
     "text": [
      "2023-11-25 00:41:12,505 [INFO]: clean_val_acc: 0.6469009518623352\n",
      "2023-11-25 00:41:12,507 [INFO]: clean_val_loss: 1.0826752185821533\n",
      "2023-11-25 00:41:12,508 [INFO]: epoch: 163\n",
      "2023-11-25 00:41:12,842 [INFO]: clean_train_acc_epoch: 0.44388890266418457\n",
      "2023-11-25 00:41:12,844 [INFO]: clean_train_loss_epoch: 1.4498287439346313\n",
      "2023-11-25 00:41:12,846 [INFO]: epoch: 163\n",
      "2023-11-25 00:42:05,233 [INFO]: lr-SGD: 0.004001707408366778\n",
      "2023-11-25 00:42:06,787 [INFO]: clean_train_acc_step: 0.458984375\n",
      "2023-11-25 00:42:06,789 [INFO]: clean_train_loss_step: 1.406425952911377\n",
      "2023-11-25 00:42:06,791 [INFO]: epoch: 164\n"
     ]
    },
    {
     "data": {
      "application/vnd.jupyter.widget-view+json": {
       "model_id": "bfbacbc3c00041aabfdd6c8211ab59b3",
       "version_major": 2,
       "version_minor": 0
      },
      "text/plain": [
       "Validation: 0it [00:00, ?it/s]"
      ]
     },
     "metadata": {},
     "output_type": "display_data"
    },
    {
     "name": "stderr",
     "output_type": "stream",
     "text": [
      "2023-11-25 00:42:23,984 [INFO]: clean_val_acc: 0.6396743655204773\n",
      "2023-11-25 00:42:23,986 [INFO]: clean_val_loss: 1.0854402780532837\n",
      "2023-11-25 00:42:23,987 [INFO]: epoch: 164\n",
      "2023-11-25 00:42:24,013 [INFO]: clean_train_acc_epoch: 0.44697776436805725\n",
      "2023-11-25 00:42:24,014 [INFO]: clean_train_loss_epoch: 1.4446475505828857\n",
      "2023-11-25 00:42:24,015 [INFO]: epoch: 164\n",
      "2023-11-25 00:43:25,646 [INFO]: lr-SGD: 0.004001731043164619\n",
      "2023-11-25 00:43:27,205 [INFO]: clean_train_acc_step: 0.439453125\n",
      "2023-11-25 00:43:27,206 [INFO]: clean_train_loss_step: 1.462944507598877\n",
      "2023-11-25 00:43:27,209 [INFO]: epoch: 165\n"
     ]
    },
    {
     "data": {
      "application/vnd.jupyter.widget-view+json": {
       "model_id": "7e6ff076626d4301969de0b55fcc6231",
       "version_major": 2,
       "version_minor": 0
      },
      "text/plain": [
       "Validation: 0it [00:00, ?it/s]"
      ]
     },
     "metadata": {},
     "output_type": "display_data"
    },
    {
     "name": "stderr",
     "output_type": "stream",
     "text": [
      "2023-11-25 00:43:35,117 [INFO]: clean_val_acc: 0.6498686075210571\n",
      "2023-11-25 00:43:35,119 [INFO]: clean_val_loss: 1.0837026834487915\n",
      "2023-11-25 00:43:35,120 [INFO]: epoch: 165\n",
      "2023-11-25 00:43:35,474 [INFO]: clean_train_acc_epoch: 0.4441555440425873\n",
      "2023-11-25 00:43:35,476 [INFO]: clean_train_loss_epoch: 1.441683053970337\n",
      "2023-11-25 00:43:35,478 [INFO]: epoch: 165\n"
     ]
    },
    {
     "data": {
      "application/vnd.jupyter.widget-view+json": {
       "model_id": "bd5c62dd0ea94fd2a7e0a76f1d92f8d7",
       "version_major": 2,
       "version_minor": 0
      },
      "text/plain": [
       "Validation: 0it [00:00, ?it/s]"
      ]
     },
     "metadata": {},
     "output_type": "display_data"
    },
    {
     "name": "stderr",
     "output_type": "stream",
     "text": [
      "2023-11-25 00:44:46,589 [INFO]: clean_val_acc: 0.6387496590614319\n",
      "2023-11-25 00:44:46,592 [INFO]: clean_val_loss: 1.079546570777893\n",
      "2023-11-25 00:44:46,593 [INFO]: epoch: 166\n",
      "2023-11-25 00:44:46,621 [INFO]: clean_train_acc_epoch: 0.4465111196041107\n",
      "2023-11-25 00:44:46,622 [INFO]: clean_train_loss_epoch: 1.4422307014465332\n",
      "2023-11-25 00:44:46,623 [INFO]: epoch: 166\n",
      "2023-11-25 00:44:49,769 [INFO]: lr-SGD: 0.004001754840419355\n",
      "2023-11-25 00:44:51,322 [INFO]: clean_train_acc_step: 0.4365234375\n",
      "2023-11-25 00:44:51,325 [INFO]: clean_train_loss_step: 1.4488393068313599\n",
      "2023-11-25 00:44:51,326 [INFO]: epoch: 167\n"
     ]
    },
    {
     "data": {
      "application/vnd.jupyter.widget-view+json": {
       "model_id": "af82cd3433ed41e785deeaaab5a2b62f",
       "version_major": 2,
       "version_minor": 0
      },
      "text/plain": [
       "Validation: 0it [00:00, ?it/s]"
      ]
     },
     "metadata": {},
     "output_type": "display_data"
    },
    {
     "name": "stderr",
     "output_type": "stream",
     "text": [
      "2023-11-25 00:45:57,759 [INFO]: clean_val_acc: 0.6490234136581421\n",
      "2023-11-25 00:45:57,761 [INFO]: clean_val_loss: 1.0855615139007568\n",
      "2023-11-25 00:45:57,763 [INFO]: epoch: 167\n",
      "2023-11-25 00:45:58,090 [INFO]: clean_train_acc_epoch: 0.44928887486457825\n",
      "2023-11-25 00:45:58,092 [INFO]: clean_train_loss_epoch: 1.4350624084472656\n",
      "2023-11-25 00:45:58,093 [INFO]: epoch: 167\n",
      "2023-11-25 00:46:10,598 [INFO]: lr-SGD: 0.00400177880013089\n",
      "2023-11-25 00:46:12,159 [INFO]: clean_train_acc_step: 0.4794921875\n",
      "2023-11-25 00:46:12,161 [INFO]: clean_train_loss_step: 1.4018595218658447\n",
      "2023-11-25 00:46:12,162 [INFO]: epoch: 168\n"
     ]
    },
    {
     "data": {
      "application/vnd.jupyter.widget-view+json": {
       "model_id": "957edf7bb1d649c9a4de15956504b3e5",
       "version_major": 2,
       "version_minor": 0
      },
      "text/plain": [
       "Validation: 0it [00:00, ?it/s]"
      ]
     },
     "metadata": {},
     "output_type": "display_data"
    },
    {
     "name": "stderr",
     "output_type": "stream",
     "text": [
      "2023-11-25 00:47:09,399 [INFO]: clean_val_acc: 0.6478636860847473\n",
      "2023-11-25 00:47:09,401 [INFO]: clean_val_loss: 1.070328712463379\n",
      "2023-11-25 00:47:09,403 [INFO]: epoch: 168\n",
      "2023-11-25 00:47:09,432 [INFO]: clean_train_acc_epoch: 0.45062223076820374\n",
      "2023-11-25 00:47:09,433 [INFO]: clean_train_loss_epoch: 1.431869387626648\n",
      "2023-11-25 00:47:09,434 [INFO]: epoch: 168\n",
      "2023-11-25 00:47:31,229 [INFO]: lr-SGD: 0.0040018029222991525\n",
      "2023-11-25 00:47:32,787 [INFO]: clean_train_acc_step: 0.4521484375\n",
      "2023-11-25 00:47:32,789 [INFO]: clean_train_loss_step: 1.429142951965332\n",
      "2023-11-25 00:47:32,791 [INFO]: epoch: 169\n"
     ]
    },
    {
     "data": {
      "application/vnd.jupyter.widget-view+json": {
       "model_id": "fca94752d4684edf80cfb844217ea3a2",
       "version_major": 2,
       "version_minor": 0
      },
      "text/plain": [
       "Validation: 0it [00:00, ?it/s]"
      ]
     },
     "metadata": {},
     "output_type": "display_data"
    },
    {
     "name": "stderr",
     "output_type": "stream",
     "text": [
      "2023-11-25 00:48:20,823 [INFO]: clean_val_acc: 0.6534758806228638\n",
      "2023-11-25 00:48:20,825 [INFO]: clean_val_loss: 1.0648294687271118\n",
      "2023-11-25 00:48:20,826 [INFO]: epoch: 169\n",
      "2023-11-25 00:48:21,158 [INFO]: clean_train_acc_epoch: 0.4534444510936737\n",
      "2023-11-25 00:48:21,159 [INFO]: clean_train_loss_epoch: 1.4279568195343018\n",
      "2023-11-25 00:48:21,161 [INFO]: epoch: 169\n",
      "2023-11-25 00:48:52,190 [INFO]: lr-SGD: 0.0040018272069240746\n",
      "2023-11-25 00:48:53,752 [INFO]: clean_train_acc_step: 0.455078125\n",
      "2023-11-25 00:48:53,754 [INFO]: clean_train_loss_step: 1.422644019126892\n",
      "2023-11-25 00:48:53,755 [INFO]: epoch: 170\n"
     ]
    },
    {
     "data": {
      "application/vnd.jupyter.widget-view+json": {
       "model_id": "99279f97818b4401ad38715758f53ac3",
       "version_major": 2,
       "version_minor": 0
      },
      "text/plain": [
       "Validation: 0it [00:00, ?it/s]"
      ]
     },
     "metadata": {},
     "output_type": "display_data"
    },
    {
     "name": "stderr",
     "output_type": "stream",
     "text": [
      "2023-11-25 00:49:32,498 [INFO]: clean_val_acc: 0.6476165056228638\n",
      "2023-11-25 00:49:32,501 [INFO]: clean_val_loss: 1.0754084587097168\n",
      "2023-11-25 00:49:32,502 [INFO]: epoch: 170\n",
      "2023-11-25 00:49:32,534 [INFO]: clean_train_acc_epoch: 0.4493555426597595\n",
      "2023-11-25 00:49:32,536 [INFO]: clean_train_loss_epoch: 1.4266654253005981\n",
      "2023-11-25 00:49:32,537 [INFO]: epoch: 170\n",
      "2023-11-25 00:50:12,925 [INFO]: lr-SGD: 0.004001851654005531\n",
      "2023-11-25 00:50:14,477 [INFO]: clean_train_acc_step: 0.4599609375\n",
      "2023-11-25 00:50:14,478 [INFO]: clean_train_loss_step: 1.383525013923645\n",
      "2023-11-25 00:50:14,479 [INFO]: epoch: 171\n"
     ]
    },
    {
     "data": {
      "application/vnd.jupyter.widget-view+json": {
       "model_id": "91e4eedfa0e347bfbca4f17897daea79",
       "version_major": 2,
       "version_minor": 0
      },
      "text/plain": [
       "Validation: 0it [00:00, ?it/s]"
      ]
     },
     "metadata": {},
     "output_type": "display_data"
    },
    {
     "name": "stderr",
     "output_type": "stream",
     "text": [
      "2023-11-25 00:50:43,995 [INFO]: clean_val_acc: 0.6510025262832642\n",
      "2023-11-25 00:50:43,997 [INFO]: clean_val_loss: 1.0683088302612305\n",
      "2023-11-25 00:50:43,998 [INFO]: epoch: 171\n",
      "2023-11-25 00:50:44,339 [INFO]: clean_train_acc_epoch: 0.4531555473804474\n",
      "2023-11-25 00:50:44,341 [INFO]: clean_train_loss_epoch: 1.421533465385437\n",
      "2023-11-25 00:50:44,342 [INFO]: epoch: 171\n",
      "2023-11-25 00:51:33,747 [INFO]: lr-SGD: 0.004001876263543466\n",
      "2023-11-25 00:51:35,307 [INFO]: clean_train_acc_step: 0.462890625\n",
      "2023-11-25 00:51:35,309 [INFO]: clean_train_loss_step: 1.424289345741272\n",
      "2023-11-25 00:51:35,311 [INFO]: epoch: 172\n"
     ]
    },
    {
     "data": {
      "application/vnd.jupyter.widget-view+json": {
       "model_id": "c4420dc0a03c4d899b3c533e0e48f9dd",
       "version_major": 2,
       "version_minor": 0
      },
      "text/plain": [
       "Validation: 0it [00:00, ?it/s]"
      ]
     },
     "metadata": {},
     "output_type": "display_data"
    },
    {
     "name": "stderr",
     "output_type": "stream",
     "text": [
      "2023-11-25 00:51:55,655 [INFO]: clean_val_acc: 0.6522521376609802\n",
      "2023-11-25 00:51:55,658 [INFO]: clean_val_loss: 1.0635961294174194\n",
      "2023-11-25 00:51:55,659 [INFO]: epoch: 172\n",
      "2023-11-25 00:51:55,997 [INFO]: clean_train_acc_epoch: 0.45213332772254944\n",
      "2023-11-25 00:51:55,999 [INFO]: clean_train_loss_epoch: 1.4224584102630615\n",
      "2023-11-25 00:51:56,001 [INFO]: epoch: 172\n",
      "2023-11-25 00:52:54,921 [INFO]: lr-SGD: 0.004001901035537797\n",
      "2023-11-25 00:52:56,475 [INFO]: clean_train_acc_step: 0.43359375\n",
      "2023-11-25 00:52:56,476 [INFO]: clean_train_loss_step: 1.441039800643921\n",
      "2023-11-25 00:52:56,479 [INFO]: epoch: 173\n"
     ]
    },
    {
     "data": {
      "application/vnd.jupyter.widget-view+json": {
       "model_id": "d6d81851825348cf9b48a049df3f575b",
       "version_major": 2,
       "version_minor": 0
      },
      "text/plain": [
       "Validation: 0it [00:00, ?it/s]"
      ]
     },
     "metadata": {},
     "output_type": "display_data"
    },
    {
     "name": "stderr",
     "output_type": "stream",
     "text": [
      "2023-11-25 00:53:07,529 [INFO]: clean_val_acc: 0.6548551321029663\n",
      "2023-11-25 00:53:07,531 [INFO]: clean_val_loss: 1.0588181018829346\n",
      "2023-11-25 00:53:07,533 [INFO]: epoch: 173\n",
      "2023-11-25 00:53:07,867 [INFO]: clean_train_acc_epoch: 0.4531555473804474\n",
      "2023-11-25 00:53:07,868 [INFO]: clean_train_loss_epoch: 1.4188605546951294\n",
      "2023-11-25 00:53:07,870 [INFO]: epoch: 173\n",
      "2023-11-25 00:54:15,787 [INFO]: lr-SGD: 0.00400192596998844\n",
      "2023-11-25 00:54:17,236 [INFO]: clean_train_acc_step: 0.48140496015548706\n",
      "2023-11-25 00:54:17,237 [INFO]: clean_train_loss_step: 1.3735517263412476\n",
      "2023-11-25 00:54:17,239 [INFO]: epoch: 174\n"
     ]
    },
    {
     "data": {
      "application/vnd.jupyter.widget-view+json": {
       "model_id": "79a0e909372a4a1898d75e4b68afc28d",
       "version_major": 2,
       "version_minor": 0
      },
      "text/plain": [
       "Validation: 0it [00:00, ?it/s]"
      ]
     },
     "metadata": {},
     "output_type": "display_data"
    },
    {
     "name": "stderr",
     "output_type": "stream",
     "text": [
      "2023-11-25 00:54:19,165 [INFO]: clean_val_acc: 0.6584745049476624\n",
      "2023-11-25 00:54:19,167 [INFO]: clean_val_loss: 1.05207097530365\n",
      "2023-11-25 00:54:19,169 [INFO]: epoch: 174\n",
      "2023-11-25 00:54:19,510 [INFO]: clean_train_acc_epoch: 0.4545111060142517\n",
      "2023-11-25 00:54:19,512 [INFO]: clean_train_loss_epoch: 1.415269136428833\n",
      "2023-11-25 00:54:19,513 [INFO]: epoch: 174\n"
     ]
    },
    {
     "data": {
      "application/vnd.jupyter.widget-view+json": {
       "model_id": "ae95bae4172541e098b0fae3bae2fab1",
       "version_major": 2,
       "version_minor": 0
      },
      "text/plain": [
       "Validation: 0it [00:00, ?it/s]"
      ]
     },
     "metadata": {},
     "output_type": "display_data"
    },
    {
     "name": "stderr",
     "output_type": "stream",
     "text": [
      "2023-11-25 00:55:30,905 [INFO]: clean_val_acc: 0.652694582939148\n",
      "2023-11-25 00:55:30,907 [INFO]: clean_val_loss: 1.0550405979156494\n",
      "2023-11-25 00:55:30,909 [INFO]: epoch: 175\n",
      "2023-11-25 00:55:30,940 [INFO]: clean_train_acc_epoch: 0.45497778058052063\n",
      "2023-11-25 00:55:30,941 [INFO]: clean_train_loss_epoch: 1.411487102508545\n",
      "2023-11-25 00:55:30,942 [INFO]: epoch: 175\n",
      "2023-11-25 00:55:40,323 [INFO]: lr-SGD: 0.004001951066895312\n",
      "2023-11-25 00:55:41,883 [INFO]: clean_train_acc_step: 0.453125\n",
      "2023-11-25 00:55:41,884 [INFO]: clean_train_loss_step: 1.4169484376907349\n",
      "2023-11-25 00:55:41,887 [INFO]: epoch: 176\n"
     ]
    },
    {
     "data": {
      "application/vnd.jupyter.widget-view+json": {
       "model_id": "83b6a46ef6464ade81c11979613c71fd",
       "version_major": 2,
       "version_minor": 0
      },
      "text/plain": [
       "Validation: 0it [00:00, ?it/s]"
      ]
     },
     "metadata": {},
     "output_type": "display_data"
    },
    {
     "name": "stderr",
     "output_type": "stream",
     "text": [
      "2023-11-25 00:56:42,194 [INFO]: clean_val_acc: 0.6558455228805542\n",
      "2023-11-25 00:56:42,197 [INFO]: clean_val_loss: 1.039140224456787\n",
      "2023-11-25 00:56:42,198 [INFO]: epoch: 176\n",
      "2023-11-25 00:56:42,533 [INFO]: clean_train_acc_epoch: 0.45704445242881775\n",
      "2023-11-25 00:56:42,535 [INFO]: clean_train_loss_epoch: 1.4069907665252686\n",
      "2023-11-25 00:56:42,536 [INFO]: epoch: 176\n",
      "2023-11-25 00:57:01,152 [INFO]: lr-SGD: 0.00400197632625833\n",
      "2023-11-25 00:57:02,715 [INFO]: clean_train_acc_step: 0.48828125\n",
      "2023-11-25 00:57:02,717 [INFO]: clean_train_loss_step: 1.3515623807907104\n",
      "2023-11-25 00:57:02,718 [INFO]: epoch: 177\n"
     ]
    },
    {
     "data": {
      "application/vnd.jupyter.widget-view+json": {
       "model_id": "1b554d65481445debc5c2b19203fef7c",
       "version_major": 2,
       "version_minor": 0
      },
      "text/plain": [
       "Validation: 0it [00:00, ?it/s]"
      ]
     },
     "metadata": {},
     "output_type": "display_data"
    },
    {
     "name": "stderr",
     "output_type": "stream",
     "text": [
      "2023-11-25 00:57:53,751 [INFO]: clean_val_acc: 0.6542432904243469\n",
      "2023-11-25 00:57:53,753 [INFO]: clean_val_loss: 1.0630861520767212\n",
      "2023-11-25 00:57:53,753 [INFO]: epoch: 177\n",
      "2023-11-25 00:57:53,778 [INFO]: clean_train_acc_epoch: 0.4594666659832001\n",
      "2023-11-25 00:57:53,779 [INFO]: clean_train_loss_epoch: 1.4051392078399658\n",
      "2023-11-25 00:57:53,780 [INFO]: epoch: 177\n",
      "2023-11-25 00:58:21,603 [INFO]: lr-SGD: 0.004002001748077397\n",
      "2023-11-25 00:58:23,156 [INFO]: clean_train_acc_step: 0.4208984375\n",
      "2023-11-25 00:58:23,158 [INFO]: clean_train_loss_step: 1.482431411743164\n",
      "2023-11-25 00:58:23,159 [INFO]: epoch: 178\n"
     ]
    },
    {
     "data": {
      "application/vnd.jupyter.widget-view+json": {
       "model_id": "6c0e6beeabe44c8ba87b3253ad9c85ba",
       "version_major": 2,
       "version_minor": 0
      },
      "text/plain": [
       "Validation: 0it [00:00, ?it/s]"
      ]
     },
     "metadata": {},
     "output_type": "display_data"
    },
    {
     "name": "stderr",
     "output_type": "stream",
     "text": [
      "2023-11-25 00:59:04,994 [INFO]: clean_val_acc: 0.6551023721694946\n",
      "2023-11-25 00:59:04,995 [INFO]: clean_val_loss: 1.055735468864441\n",
      "2023-11-25 00:59:04,997 [INFO]: epoch: 178\n",
      "2023-11-25 00:59:05,025 [INFO]: clean_train_acc_epoch: 0.4590222239494324\n",
      "2023-11-25 00:59:05,027 [INFO]: clean_train_loss_epoch: 1.4026567935943604\n",
      "2023-11-25 00:59:05,027 [INFO]: epoch: 178\n",
      "2023-11-25 00:59:42,160 [INFO]: lr-SGD: 0.004002027332352429\n",
      "2023-11-25 00:59:43,721 [INFO]: clean_train_acc_step: 0.4423828125\n",
      "2023-11-25 00:59:43,723 [INFO]: clean_train_loss_step: 1.4693912267684937\n",
      "2023-11-25 00:59:43,725 [INFO]: epoch: 179\n"
     ]
    },
    {
     "data": {
      "application/vnd.jupyter.widget-view+json": {
       "model_id": "783a98590d0d45afb6e5ea1216661270",
       "version_major": 2,
       "version_minor": 0
      },
      "text/plain": [
       "Validation: 0it [00:00, ?it/s]"
      ]
     },
     "metadata": {},
     "output_type": "display_data"
    },
    {
     "name": "stderr",
     "output_type": "stream",
     "text": [
      "2023-11-25 01:00:16,319 [INFO]: clean_val_acc: 0.6553891897201538\n",
      "2023-11-25 01:00:16,321 [INFO]: clean_val_loss: 1.0361073017120361\n",
      "2023-11-25 01:00:16,323 [INFO]: epoch: 179\n",
      "2023-11-25 01:00:16,351 [INFO]: clean_train_acc_epoch: 0.4611777663230896\n",
      "2023-11-25 01:00:16,352 [INFO]: clean_train_loss_epoch: 1.4021868705749512\n",
      "2023-11-25 01:00:16,353 [INFO]: epoch: 179\n",
      "2023-11-25 01:01:02,786 [INFO]: lr-SGD: 0.0040020530790833425\n",
      "2023-11-25 01:01:04,343 [INFO]: clean_train_acc_step: 0.4873046875\n",
      "2023-11-25 01:01:04,345 [INFO]: clean_train_loss_step: 1.3582004308700562\n",
      "2023-11-25 01:01:04,346 [INFO]: epoch: 180\n"
     ]
    },
    {
     "data": {
      "application/vnd.jupyter.widget-view+json": {
       "model_id": "0b6b36d9fddb400295fca8487f255002",
       "version_major": 2,
       "version_minor": 0
      },
      "text/plain": [
       "Validation: 0it [00:00, ?it/s]"
      ]
     },
     "metadata": {},
     "output_type": "display_data"
    },
    {
     "name": "stderr",
     "output_type": "stream",
     "text": [
      "2023-11-25 01:01:27,762 [INFO]: clean_val_acc: 0.6550124287605286\n",
      "2023-11-25 01:01:27,764 [INFO]: clean_val_loss: 1.050565481185913\n",
      "2023-11-25 01:01:27,765 [INFO]: epoch: 180\n",
      "2023-11-25 01:01:27,795 [INFO]: clean_train_acc_epoch: 0.46406665444374084\n",
      "2023-11-25 01:01:27,797 [INFO]: clean_train_loss_epoch: 1.3918083906173706\n",
      "2023-11-25 01:01:27,798 [INFO]: epoch: 180\n",
      "2023-11-25 01:02:23,279 [INFO]: lr-SGD: 0.004002078988270055\n",
      "2023-11-25 01:02:24,840 [INFO]: clean_train_acc_step: 0.4765625\n",
      "2023-11-25 01:02:24,842 [INFO]: clean_train_loss_step: 1.3682434558868408\n",
      "2023-11-25 01:02:24,843 [INFO]: epoch: 181\n"
     ]
    },
    {
     "data": {
      "application/vnd.jupyter.widget-view+json": {
       "model_id": "d5ffed59f9e1463795352fda8c6d0e25",
       "version_major": 2,
       "version_minor": 0
      },
      "text/plain": [
       "Validation: 0it [00:00, ?it/s]"
      ]
     },
     "metadata": {},
     "output_type": "display_data"
    },
    {
     "name": "stderr",
     "output_type": "stream",
     "text": [
      "2023-11-25 01:02:39,268 [INFO]: clean_val_acc: 0.6502851843833923\n",
      "2023-11-25 01:02:39,269 [INFO]: clean_val_loss: 1.0360976457595825\n",
      "2023-11-25 01:02:39,270 [INFO]: epoch: 181\n",
      "2023-11-25 01:02:39,299 [INFO]: clean_train_acc_epoch: 0.4626888930797577\n",
      "2023-11-25 01:02:39,300 [INFO]: clean_train_loss_epoch: 1.3910000324249268\n",
      "2023-11-25 01:02:39,301 [INFO]: epoch: 181\n",
      "2023-11-25 01:03:44,773 [INFO]: lr-SGD: 0.0040021050599124836\n",
      "2023-11-25 01:03:46,325 [INFO]: clean_train_acc_step: 0.484375\n",
      "2023-11-25 01:03:46,327 [INFO]: clean_train_loss_step: 1.3458555936813354\n",
      "2023-11-25 01:03:46,328 [INFO]: epoch: 182\n"
     ]
    },
    {
     "data": {
      "application/vnd.jupyter.widget-view+json": {
       "model_id": "64cb2f9e52c04a15872bb04b67f21c4c",
       "version_major": 2,
       "version_minor": 0
      },
      "text/plain": [
       "Validation: 0it [00:00, ?it/s]"
      ]
     },
     "metadata": {},
     "output_type": "display_data"
    },
    {
     "name": "stderr",
     "output_type": "stream",
     "text": [
      "2023-11-25 01:03:51,233 [INFO]: clean_val_acc: 0.6718974709510803\n",
      "2023-11-25 01:03:51,235 [INFO]: clean_val_loss: 1.0304099321365356\n",
      "2023-11-25 01:03:51,237 [INFO]: epoch: 182\n",
      "2023-11-25 01:03:51,569 [INFO]: clean_train_acc_epoch: 0.4639555513858795\n",
      "2023-11-25 01:03:51,571 [INFO]: clean_train_loss_epoch: 1.390097975730896\n",
      "2023-11-25 01:03:51,573 [INFO]: epoch: 182\n"
     ]
    },
    {
     "data": {
      "application/vnd.jupyter.widget-view+json": {
       "model_id": "126629a1b125420eb595794ed548f17b",
       "version_major": 2,
       "version_minor": 0
      },
      "text/plain": [
       "Validation: 0it [00:00, ?it/s]"
      ]
     },
     "metadata": {},
     "output_type": "display_data"
    },
    {
     "name": "stderr",
     "output_type": "stream",
     "text": [
      "2023-11-25 01:05:02,853 [INFO]: clean_val_acc: 0.6552319526672363\n",
      "2023-11-25 01:05:02,854 [INFO]: clean_val_loss: 1.0413955450057983\n",
      "2023-11-25 01:05:02,856 [INFO]: epoch: 183\n",
      "2023-11-25 01:05:02,886 [INFO]: clean_train_acc_epoch: 0.46364444494247437\n",
      "2023-11-25 01:05:02,889 [INFO]: clean_train_loss_epoch: 1.3836888074874878\n",
      "2023-11-25 01:05:02,890 [INFO]: epoch: 183\n",
      "2023-11-25 01:05:09,189 [INFO]: lr-SGD: 0.004002131294010516\n",
      "2023-11-25 01:05:10,746 [INFO]: clean_train_acc_step: 0.4794921875\n",
      "2023-11-25 01:05:10,747 [INFO]: clean_train_loss_step: 1.32936429977417\n",
      "2023-11-25 01:05:10,750 [INFO]: epoch: 184\n"
     ]
    },
    {
     "data": {
      "application/vnd.jupyter.widget-view+json": {
       "model_id": "3c4033a8dc4b47f88c8cb32f899aea87",
       "version_major": 2,
       "version_minor": 0
      },
      "text/plain": [
       "Validation: 0it [00:00, ?it/s]"
      ]
     },
     "metadata": {},
     "output_type": "display_data"
    },
    {
     "name": "stderr",
     "output_type": "stream",
     "text": [
      "2023-11-25 01:06:14,105 [INFO]: clean_val_acc: 0.6653484106063843\n",
      "2023-11-25 01:06:14,107 [INFO]: clean_val_loss: 1.0268681049346924\n",
      "2023-11-25 01:06:14,109 [INFO]: epoch: 184\n",
      "2023-11-25 01:06:14,450 [INFO]: clean_train_acc_epoch: 0.4684666693210602\n",
      "2023-11-25 01:06:14,452 [INFO]: clean_train_loss_epoch: 1.3855427503585815\n",
      "2023-11-25 01:06:14,453 [INFO]: epoch: 184\n",
      "2023-11-25 01:06:30,077 [INFO]: lr-SGD: 0.004002157690564084\n",
      "2023-11-25 01:06:31,629 [INFO]: clean_train_acc_step: 0.4736328125\n",
      "2023-11-25 01:06:31,631 [INFO]: clean_train_loss_step: 1.3654217720031738\n",
      "2023-11-25 01:06:31,632 [INFO]: epoch: 185\n"
     ]
    },
    {
     "data": {
      "application/vnd.jupyter.widget-view+json": {
       "model_id": "180908253eb94032bbc9f29fec1e11eb",
       "version_major": 2,
       "version_minor": 0
      },
      "text/plain": [
       "Validation: 0it [00:00, ?it/s]"
      ]
     },
     "metadata": {},
     "output_type": "display_data"
    },
    {
     "name": "stderr",
     "output_type": "stream",
     "text": [
      "2023-11-25 01:07:25,727 [INFO]: clean_val_acc: 0.6595945358276367\n",
      "2023-11-25 01:07:25,730 [INFO]: clean_val_loss: 1.0321171283721924\n",
      "2023-11-25 01:07:25,731 [INFO]: epoch: 185\n",
      "2023-11-25 01:07:25,762 [INFO]: clean_train_acc_epoch: 0.46548888087272644\n",
      "2023-11-25 01:07:25,763 [INFO]: clean_train_loss_epoch: 1.3801997900009155\n",
      "2023-11-25 01:07:25,765 [INFO]: epoch: 185\n",
      "2023-11-25 01:07:50,516 [INFO]: lr-SGD: 0.004002184249573104\n",
      "2023-11-25 01:07:52,076 [INFO]: clean_train_acc_step: 0.458984375\n",
      "2023-11-25 01:07:52,079 [INFO]: clean_train_loss_step: 1.4106169939041138\n",
      "2023-11-25 01:07:52,081 [INFO]: epoch: 186\n"
     ]
    },
    {
     "data": {
      "application/vnd.jupyter.widget-view+json": {
       "model_id": "906a5fd50266403abde7eb9080312725",
       "version_major": 2,
       "version_minor": 0
      },
      "text/plain": [
       "Validation: 0it [00:00, ?it/s]"
      ]
     },
     "metadata": {},
     "output_type": "display_data"
    },
    {
     "name": "stderr",
     "output_type": "stream",
     "text": [
      "2023-11-25 01:08:37,010 [INFO]: clean_val_acc: 0.6734461188316345\n",
      "2023-11-25 01:08:37,012 [INFO]: clean_val_loss: 1.0239148139953613\n",
      "2023-11-25 01:08:37,013 [INFO]: epoch: 186\n",
      "2023-11-25 01:08:37,333 [INFO]: clean_train_acc_epoch: 0.47022223472595215\n",
      "2023-11-25 01:08:37,335 [INFO]: clean_train_loss_epoch: 1.3744173049926758\n",
      "2023-11-25 01:08:37,337 [INFO]: epoch: 186\n",
      "2023-11-25 01:09:11,361 [INFO]: lr-SGD: 0.004002210971037465\n",
      "2023-11-25 01:09:12,915 [INFO]: clean_train_acc_step: 0.43359375\n",
      "2023-11-25 01:09:12,917 [INFO]: clean_train_loss_step: 1.426077961921692\n",
      "2023-11-25 01:09:12,919 [INFO]: epoch: 187\n"
     ]
    },
    {
     "data": {
      "application/vnd.jupyter.widget-view+json": {
       "model_id": "7fc83a8f21ca4cc994a02fb3763ea6ac",
       "version_major": 2,
       "version_minor": 0
      },
      "text/plain": [
       "Validation: 0it [00:00, ?it/s]"
      ]
     },
     "metadata": {},
     "output_type": "display_data"
    },
    {
     "name": "stderr",
     "output_type": "stream",
     "text": [
      "2023-11-25 01:09:48,605 [INFO]: clean_val_acc: 0.6715206503868103\n",
      "2023-11-25 01:09:48,606 [INFO]: clean_val_loss: 1.0109868049621582\n",
      "2023-11-25 01:09:48,609 [INFO]: epoch: 187\n",
      "2023-11-25 01:09:48,644 [INFO]: clean_train_acc_epoch: 0.4674888849258423\n",
      "2023-11-25 01:09:48,646 [INFO]: clean_train_loss_epoch: 1.3744843006134033\n",
      "2023-11-25 01:09:48,647 [INFO]: epoch: 187\n",
      "2023-11-25 01:10:32,130 [INFO]: lr-SGD: 0.004002237854957097\n",
      "2023-11-25 01:10:33,692 [INFO]: clean_train_acc_step: 0.4580078125\n",
      "2023-11-25 01:10:33,693 [INFO]: clean_train_loss_step: 1.389833927154541\n",
      "2023-11-25 01:10:33,694 [INFO]: epoch: 188\n"
     ]
    },
    {
     "data": {
      "application/vnd.jupyter.widget-view+json": {
       "model_id": "0e996bbc450040bcbc0c7088694e7d54",
       "version_major": 2,
       "version_minor": 0
      },
      "text/plain": [
       "Validation: 0it [00:00, ?it/s]"
      ]
     },
     "metadata": {},
     "output_type": "display_data"
    },
    {
     "name": "stderr",
     "output_type": "stream",
     "text": [
      "2023-11-25 01:11:00,138 [INFO]: clean_val_acc: 0.6664944291114807\n",
      "2023-11-25 01:11:00,141 [INFO]: clean_val_loss: 1.023238182067871\n",
      "2023-11-25 01:11:00,142 [INFO]: epoch: 188\n",
      "2023-11-25 01:11:00,170 [INFO]: clean_train_acc_epoch: 0.4703333377838135\n",
      "2023-11-25 01:11:00,172 [INFO]: clean_train_loss_epoch: 1.37065589427948\n",
      "2023-11-25 01:11:00,173 [INFO]: epoch: 188\n",
      "2023-11-25 01:11:52,706 [INFO]: lr-SGD: 0.004002264901331876\n",
      "2023-11-25 01:11:54,263 [INFO]: clean_train_acc_step: 0.4736328125\n",
      "2023-11-25 01:11:54,265 [INFO]: clean_train_loss_step: 1.3201920986175537\n",
      "2023-11-25 01:11:54,266 [INFO]: epoch: 189\n"
     ]
    },
    {
     "data": {
      "application/vnd.jupyter.widget-view+json": {
       "model_id": "0a5ce18988da4b49bfedc8a4b1d216a3",
       "version_major": 2,
       "version_minor": 0
      },
      "text/plain": [
       "Validation: 0it [00:00, ?it/s]"
      ]
     },
     "metadata": {},
     "output_type": "display_data"
    },
    {
     "name": "stderr",
     "output_type": "stream",
     "text": [
      "2023-11-25 01:12:11,511 [INFO]: clean_val_acc: 0.6650494337081909\n",
      "2023-11-25 01:12:11,513 [INFO]: clean_val_loss: 1.0143648386001587\n",
      "2023-11-25 01:12:11,515 [INFO]: epoch: 189\n",
      "2023-11-25 01:12:11,546 [INFO]: clean_train_acc_epoch: 0.4696222245693207\n",
      "2023-11-25 01:12:11,548 [INFO]: clean_train_loss_epoch: 1.3666355609893799\n",
      "2023-11-25 01:12:11,549 [INFO]: epoch: 189\n",
      "2023-11-25 01:13:13,186 [INFO]: lr-SGD: 0.004002292110161745\n",
      "2023-11-25 01:13:14,746 [INFO]: clean_train_acc_step: 0.4716796875\n",
      "2023-11-25 01:13:14,747 [INFO]: clean_train_loss_step: 1.368025302886963\n",
      "2023-11-25 01:13:14,749 [INFO]: epoch: 190\n"
     ]
    },
    {
     "data": {
      "application/vnd.jupyter.widget-view+json": {
       "model_id": "e17fef3fcb2841459eaec05e55471ab2",
       "version_major": 2,
       "version_minor": 0
      },
      "text/plain": [
       "Validation: 0it [00:00, ?it/s]"
      ]
     },
     "metadata": {},
     "output_type": "display_data"
    },
    {
     "name": "stderr",
     "output_type": "stream",
     "text": [
      "2023-11-25 01:13:22,662 [INFO]: clean_val_acc: 0.6732266545295715\n",
      "2023-11-25 01:13:22,664 [INFO]: clean_val_loss: 1.0088822841644287\n",
      "2023-11-25 01:13:22,665 [INFO]: epoch: 190\n",
      "2023-11-25 01:13:22,995 [INFO]: clean_train_acc_epoch: 0.47431111335754395\n",
      "2023-11-25 01:13:22,997 [INFO]: clean_train_loss_epoch: 1.3625009059906006\n",
      "2023-11-25 01:13:22,998 [INFO]: epoch: 190\n"
     ]
    },
    {
     "data": {
      "application/vnd.jupyter.widget-view+json": {
       "model_id": "fbe586f0ba7544998fcf559aed1be05b",
       "version_major": 2,
       "version_minor": 0
      },
      "text/plain": [
       "Validation: 0it [00:00, ?it/s]"
      ]
     },
     "metadata": {},
     "output_type": "display_data"
    },
    {
     "name": "stderr",
     "output_type": "stream",
     "text": [
      "2023-11-25 01:14:34,151 [INFO]: clean_val_acc: 0.6656233072280884\n",
      "2023-11-25 01:14:34,153 [INFO]: clean_val_loss: 1.0152883529663086\n",
      "2023-11-25 01:14:34,154 [INFO]: epoch: 191\n",
      "2023-11-25 01:14:34,185 [INFO]: clean_train_acc_epoch: 0.47360000014305115\n",
      "2023-11-25 01:14:34,186 [INFO]: clean_train_loss_epoch: 1.357386827468872\n",
      "2023-11-25 01:14:34,187 [INFO]: epoch: 191\n",
      "2023-11-25 01:14:37,416 [INFO]: lr-SGD: 0.004002319481446609\n",
      "2023-11-25 01:14:38,970 [INFO]: clean_train_acc_step: 0.4892578125\n",
      "2023-11-25 01:14:38,971 [INFO]: clean_train_loss_step: 1.3635145425796509\n",
      "2023-11-25 01:14:38,972 [INFO]: epoch: 192\n"
     ]
    },
    {
     "data": {
      "application/vnd.jupyter.widget-view+json": {
       "model_id": "d41cd70e828d4265807cb7eb08155889",
       "version_major": 2,
       "version_minor": 0
      },
      "text/plain": [
       "Validation: 0it [00:00, ?it/s]"
      ]
     },
     "metadata": {},
     "output_type": "display_data"
    },
    {
     "name": "stderr",
     "output_type": "stream",
     "text": [
      "2023-11-25 01:15:45,454 [INFO]: clean_val_acc: 0.6692944765090942\n",
      "2023-11-25 01:15:45,456 [INFO]: clean_val_loss: 1.0078848600387573\n",
      "2023-11-25 01:15:45,458 [INFO]: epoch: 192\n",
      "2023-11-25 01:15:45,487 [INFO]: clean_train_acc_epoch: 0.4748888909816742\n",
      "2023-11-25 01:15:45,489 [INFO]: clean_train_loss_epoch: 1.3538566827774048\n",
      "2023-11-25 01:15:45,489 [INFO]: epoch: 192\n",
      "2023-11-25 01:15:58,032 [INFO]: lr-SGD: 0.004002347015186369\n",
      "2023-11-25 01:15:59,594 [INFO]: clean_train_acc_step: 0.4951171875\n",
      "2023-11-25 01:15:59,595 [INFO]: clean_train_loss_step: 1.3240551948547363\n",
      "2023-11-25 01:15:59,597 [INFO]: epoch: 193\n"
     ]
    },
    {
     "data": {
      "application/vnd.jupyter.widget-view+json": {
       "model_id": "cf0ec54f7f52487e8834639b5f7ed8dc",
       "version_major": 2,
       "version_minor": 0
      },
      "text/plain": [
       "Validation: 0it [00:00, ?it/s]"
      ]
     },
     "metadata": {},
     "output_type": "display_data"
    },
    {
     "name": "stderr",
     "output_type": "stream",
     "text": [
      "2023-11-25 01:16:56,781 [INFO]: clean_val_acc: 0.6734858751296997\n",
      "2023-11-25 01:16:56,783 [INFO]: clean_val_loss: 1.0086040496826172\n",
      "2023-11-25 01:16:56,785 [INFO]: epoch: 193\n",
      "2023-11-25 01:16:57,139 [INFO]: clean_train_acc_epoch: 0.4780222177505493\n",
      "2023-11-25 01:16:57,141 [INFO]: clean_train_loss_epoch: 1.3507416248321533\n",
      "2023-11-25 01:16:57,143 [INFO]: epoch: 193\n",
      "2023-11-25 01:17:18,867 [INFO]: lr-SGD: 0.004002374711380902\n",
      "2023-11-25 01:17:20,416 [INFO]: clean_train_acc_step: 0.4833984375\n",
      "2023-11-25 01:17:20,418 [INFO]: clean_train_loss_step: 1.3368254899978638\n",
      "2023-11-25 01:17:20,419 [INFO]: epoch: 194\n"
     ]
    },
    {
     "data": {
      "application/vnd.jupyter.widget-view+json": {
       "model_id": "375691f80d4f4bdbb4697cb32780761e",
       "version_major": 2,
       "version_minor": 0
      },
      "text/plain": [
       "Validation: 0it [00:00, ?it/s]"
      ]
     },
     "metadata": {},
     "output_type": "display_data"
    },
    {
     "name": "stderr",
     "output_type": "stream",
     "text": [
      "2023-11-25 01:18:08,355 [INFO]: clean_val_acc: 0.6676403284072876\n",
      "2023-11-25 01:18:08,357 [INFO]: clean_val_loss: 1.011650800704956\n",
      "2023-11-25 01:18:08,357 [INFO]: epoch: 194\n",
      "2023-11-25 01:18:08,387 [INFO]: clean_train_acc_epoch: 0.4780888855457306\n",
      "2023-11-25 01:18:08,389 [INFO]: clean_train_loss_epoch: 1.3476343154907227\n",
      "2023-11-25 01:18:08,391 [INFO]: epoch: 194\n",
      "2023-11-25 01:18:39,215 [INFO]: lr-SGD: 0.004002402570030164\n",
      "2023-11-25 01:18:40,778 [INFO]: clean_train_acc_step: 0.4658203125\n",
      "2023-11-25 01:18:40,780 [INFO]: clean_train_loss_step: 1.342122197151184\n",
      "2023-11-25 01:18:40,782 [INFO]: epoch: 195\n"
     ]
    },
    {
     "data": {
      "application/vnd.jupyter.widget-view+json": {
       "model_id": "788e8e156fb142438cf7004601fe08f2",
       "version_major": 2,
       "version_minor": 0
      },
      "text/plain": [
       "Validation: 0it [00:00, ?it/s]"
      ]
     },
     "metadata": {},
     "output_type": "display_data"
    },
    {
     "name": "stderr",
     "output_type": "stream",
     "text": [
      "2023-11-25 01:19:19,482 [INFO]: clean_val_acc: 0.6721446514129639\n",
      "2023-11-25 01:19:19,484 [INFO]: clean_val_loss: 0.9977909922599792\n",
      "2023-11-25 01:19:19,485 [INFO]: epoch: 195\n",
      "2023-11-25 01:19:19,518 [INFO]: clean_train_acc_epoch: 0.4778222143650055\n",
      "2023-11-25 01:19:19,519 [INFO]: clean_train_loss_epoch: 1.3473913669586182\n",
      "2023-11-25 01:19:19,520 [INFO]: epoch: 195\n",
      "2023-11-25 01:19:59,813 [INFO]: lr-SGD: 0.004002430591134046\n",
      "2023-11-25 01:20:01,369 [INFO]: clean_train_acc_step: 0.5126953125\n",
      "2023-11-25 01:20:01,371 [INFO]: clean_train_loss_step: 1.2978909015655518\n",
      "2023-11-25 01:20:01,372 [INFO]: epoch: 196\n"
     ]
    },
    {
     "data": {
      "application/vnd.jupyter.widget-view+json": {
       "model_id": "d4e13ec275e1415a908a56e256376e05",
       "version_major": 2,
       "version_minor": 0
      },
      "text/plain": [
       "Validation: 0it [00:00, ?it/s]"
      ]
     },
     "metadata": {},
     "output_type": "display_data"
    },
    {
     "name": "stderr",
     "output_type": "stream",
     "text": [
      "2023-11-25 01:20:30,922 [INFO]: clean_val_acc: 0.6736294031143188\n",
      "2023-11-25 01:20:30,925 [INFO]: clean_val_loss: 0.9995541572570801\n",
      "2023-11-25 01:20:30,926 [INFO]: epoch: 196\n",
      "2023-11-25 01:20:31,265 [INFO]: clean_train_acc_epoch: 0.4808666706085205\n",
      "2023-11-25 01:20:31,267 [INFO]: clean_train_loss_epoch: 1.3439973592758179\n",
      "2023-11-25 01:20:31,269 [INFO]: epoch: 196\n",
      "2023-11-25 01:21:20,689 [INFO]: lr-SGD: 0.004002458774692422\n",
      "2023-11-25 01:21:22,255 [INFO]: clean_train_acc_step: 0.4912109375\n",
      "2023-11-25 01:21:22,257 [INFO]: clean_train_loss_step: 1.3236464262008667\n",
      "2023-11-25 01:21:22,258 [INFO]: epoch: 197\n"
     ]
    },
    {
     "data": {
      "application/vnd.jupyter.widget-view+json": {
       "model_id": "5b21d7f1831f4106a9bc800f69e522e3",
       "version_major": 2,
       "version_minor": 0
      },
      "text/plain": [
       "Validation: 0it [00:00, ?it/s]"
      ]
     },
     "metadata": {},
     "output_type": "display_data"
    },
    {
     "name": "stderr",
     "output_type": "stream",
     "text": [
      "2023-11-25 01:21:42,631 [INFO]: clean_val_acc: 0.6734081506729126\n",
      "2023-11-25 01:21:42,633 [INFO]: clean_val_loss: 1.000299334526062\n",
      "2023-11-25 01:21:42,634 [INFO]: epoch: 197\n",
      "2023-11-25 01:21:42,665 [INFO]: clean_train_acc_epoch: 0.4831555485725403\n",
      "2023-11-25 01:21:42,666 [INFO]: clean_train_loss_epoch: 1.3370519876480103\n",
      "2023-11-25 01:21:42,667 [INFO]: epoch: 197\n",
      "2023-11-25 01:22:41,564 [INFO]: lr-SGD: 0.004002487120705223\n",
      "2023-11-25 01:22:43,122 [INFO]: clean_train_acc_step: 0.45703125\n",
      "2023-11-25 01:22:43,124 [INFO]: clean_train_loss_step: 1.3868796825408936\n",
      "2023-11-25 01:22:43,126 [INFO]: epoch: 198\n"
     ]
    },
    {
     "data": {
      "application/vnd.jupyter.widget-view+json": {
       "model_id": "cc3549a2eb954a1ebed6dd35884de380",
       "version_major": 2,
       "version_minor": 0
      },
      "text/plain": [
       "Validation: 0it [00:00, ?it/s]"
      ]
     },
     "metadata": {},
     "output_type": "display_data"
    },
    {
     "name": "stderr",
     "output_type": "stream",
     "text": [
      "2023-11-25 01:22:54,223 [INFO]: clean_val_acc: 0.6762479543685913\n",
      "2023-11-25 01:22:54,225 [INFO]: clean_val_loss: 1.0007258653640747\n",
      "2023-11-25 01:22:54,226 [INFO]: epoch: 198\n",
      "2023-11-25 01:22:54,574 [INFO]: clean_train_acc_epoch: 0.4832444489002228\n",
      "2023-11-25 01:22:54,576 [INFO]: clean_train_loss_epoch: 1.3377783298492432\n",
      "2023-11-25 01:22:54,578 [INFO]: epoch: 198\n",
      "2023-11-25 01:24:02,537 [INFO]: lr-SGD: 0.004002515629172365\n",
      "2023-11-25 01:24:03,992 [INFO]: clean_train_acc_step: 0.51962810754776\n",
      "2023-11-25 01:24:03,994 [INFO]: clean_train_loss_step: 1.280637502670288\n",
      "2023-11-25 01:24:03,996 [INFO]: epoch: 199\n"
     ]
    },
    {
     "data": {
      "application/vnd.jupyter.widget-view+json": {
       "model_id": "aee923ff548445e7bf803c20a6663c44",
       "version_major": 2,
       "version_minor": 0
      },
      "text/plain": [
       "Validation: 0it [00:00, ?it/s]"
      ]
     },
     "metadata": {},
     "output_type": "display_data"
    },
    {
     "name": "stderr",
     "output_type": "stream",
     "text": [
      "2023-11-25 01:24:06,080 [INFO]: clean_val_acc: 0.6798396110534668\n",
      "2023-11-25 01:24:06,083 [INFO]: clean_val_loss: 0.9836820363998413\n",
      "2023-11-25 01:24:06,084 [INFO]: epoch: 199\n",
      "2023-11-25 01:24:06,443 [INFO]: clean_train_acc_epoch: 0.4861111044883728\n",
      "2023-11-25 01:24:06,445 [INFO]: clean_train_loss_epoch: 1.3291633129119873\n",
      "2023-11-25 01:24:06,446 [INFO]: epoch: 199\n"
     ]
    },
    {
     "name": "stdout",
     "output_type": "stream",
     "text": [
      "Training is finished. It took 238.41809724966686 min.\n"
     ]
    }
   ],
   "source": [
    "# training\n",
    "trainer.fit(model)"
   ]
  },
  {
   "cell_type": "code",
   "execution_count": 12,
   "metadata": {
    "id": "a1lsMhyWY5XQ"
   },
   "outputs": [],
   "source": [
    "# results = trainer.tune(model=model, datamodule=model.train_dataloader()) # for tuning\n",
    "# results['lr_find'].plot(suggest=True)\n",
    "# trainer.save_checkpoint('model.ckpt') #save manually"
   ]
  },
  {
   "cell_type": "code",
   "execution_count": 15,
   "metadata": {
    "id": "ORNJvIbNY_U1"
   },
   "outputs": [
    {
     "name": "stdout",
     "output_type": "stream",
     "text": [
      "-----TEST ACC----------\n",
      "-----TEST ACC----------\n",
      "Files already downloaded and verified\n",
      "Files already downloaded and verified\n",
      "Files already downloaded and verified\n",
      "Files already downloaded and verified\n"
     ]
    },
    {
     "name": "stderr",
     "output_type": "stream",
     "text": [
      "LOCAL_RANK: 0 - CUDA_VISIBLE_DEVICES: [2]\n",
      "2023-11-25 06:08:23,266 [INFO]: Hyperparameters:\n",
      "2023-11-25 06:08:23,268 [INFO]: cfg: {'defaults': ['_self_', {'override hydra/hydra_logging': 'disabled'}, {'override hydra/job_logging': 'disabled'}], 'hydra': {'output_subdir': None, 'run': {'dir': '.'}}, 'global_params': {'dataset': 'CIFAR10', 'architecture': 'ResNet', 'devices': 'auto'}, 'training_params': {'epoch': 200, 'batch_size': 1024, 'dataloader_workers': 32, 'type': 'AT', 'note': '', 'lr': 0.05}, 'adversarial_training_params': {'eps': 0.03, 'name': 'PGD'}}\n"
     ]
    },
    {
     "data": {
      "application/vnd.jupyter.widget-view+json": {
       "model_id": "1d77b5b101154c33b651b6c0c73d8dc4",
       "version_major": 2,
       "version_minor": 0
      },
      "text/plain": [
       "Testing: 0it [00:00, ?it/s]"
      ]
     },
     "metadata": {},
     "output_type": "display_data"
    },
    {
     "name": "stderr",
     "output_type": "stream",
     "text": [
      "2023-11-25 06:18:59,723 [INFO]: test_clean_accuracy: 0.6930999755859375\n",
      "2023-11-25 06:18:59,726 [INFO]: test_adv-PGD-eps0.01_accuracy: 0.5878999829292297\n",
      "2023-11-25 06:18:59,727 [INFO]: test_adv-PGD-eps0.03_accuracy: 0.3659999966621399\n",
      "2023-11-25 06:18:59,728 [INFO]: test_adv-PGD-eps0.1_accuracy: 0.01080000028014183\n",
      "2023-11-25 06:18:59,729 [INFO]: test_adv-PGD-eps0.2_accuracy: 0.0\n",
      "2023-11-25 06:18:59,731 [INFO]: test_adv-PGD-eps0.3_accuracy: 0.0\n",
      "2023-11-25 06:18:59,734 [INFO]: test_adv-PGD-eps0.5_accuracy: 0.0\n",
      "2023-11-25 06:18:59,736 [INFO]: test_adv-FGSM-eps0.01_accuracy: 0.590499997138977\n",
      "2023-11-25 06:18:59,737 [INFO]: test_adv-FGSM-eps0.03_accuracy: 0.40540000796318054\n",
      "2023-11-25 06:18:59,738 [INFO]: test_adv-FGSM-eps0.1_accuracy: 0.093299999833107\n",
      "2023-11-25 06:18:59,739 [INFO]: test_adv-FGSM-eps0.2_accuracy: 0.041600000113248825\n",
      "2023-11-25 06:18:59,740 [INFO]: test_adv-FGSM-eps0.3_accuracy: 0.05220000073313713\n",
      "2023-11-25 06:18:59,741 [INFO]: test_adv-FGSM-eps0.5_accuracy: 0.09399999678134918\n",
      "2023-11-25 06:18:59,742 [INFO]: epoch: 200\n"
     ]
    },
    {
     "name": "stdout",
     "output_type": "stream",
     "text": [
      "────────────────────────────────────────────────────────────────────────────────────────────────────────────────────────\n",
      "         Test metric                   DataLoader 0\n",
      "────────────────────────────────────────────────────────────────────────────────────────────────────────────────────────\n",
      "test_adv-FGSM-eps0.01_accuracy      0.590499997138977\n",
      "test_adv-FGSM-eps0.03_accuracy     0.40540000796318054\n",
      "test_adv-FGSM-eps0.1_accuracy       0.093299999833107\n",
      "test_adv-FGSM-eps0.2_accuracy      0.041600000113248825\n",
      "test_adv-FGSM-eps0.3_accuracy      0.05220000073313713\n",
      "test_adv-FGSM-eps0.5_accuracy      0.09399999678134918\n",
      "test_adv-PGD-eps0.01_accuracy       0.5878999829292297\n",
      "test_adv-PGD-eps0.03_accuracy       0.3659999966621399\n",
      " test_adv-PGD-eps0.1_accuracy      0.01080000028014183\n",
      " test_adv-PGD-eps0.2_accuracy              0.0\n",
      " test_adv-PGD-eps0.3_accuracy              0.0\n",
      " test_adv-PGD-eps0.5_accuracy              0.0\n",
      "     test_clean_accuracy            0.6930999755859375\n",
      "────────────────────────────────────────────────────────────────────────────────────────────────────────────────────────\n",
      "[{'test_clean_accuracy': 0.6930999755859375, 'test_adv-PGD-eps0.01_accuracy': 0.5878999829292297, 'test_adv-PGD-eps0.03_accuracy': 0.3659999966621399, 'test_adv-PGD-eps0.1_accuracy': 0.01080000028014183, 'test_adv-PGD-eps0.2_accuracy': 0.0, 'test_adv-PGD-eps0.3_accuracy': 0.0, 'test_adv-PGD-eps0.5_accuracy': 0.0, 'test_adv-FGSM-eps0.01_accuracy': 0.590499997138977, 'test_adv-FGSM-eps0.03_accuracy': 0.40540000796318054, 'test_adv-FGSM-eps0.1_accuracy': 0.093299999833107, 'test_adv-FGSM-eps0.2_accuracy': 0.041600000113248825, 'test_adv-FGSM-eps0.3_accuracy': 0.05220000073313713, 'test_adv-FGSM-eps0.5_accuracy': 0.09399999678134918}]\n"
     ]
    }
   ],
   "source": [
    "# Evaluating\n",
    "print('-----TEST ACC----------')\n",
    "# test_acc = trainer.test(ckpt_path='best')  #dataloaders=test_loader\n",
    "# best model is a model with best ones\n",
    "\n",
    "# print('-----VAL ACC----------')\n",
    "# val_acc = trainer.test(dataloaders=model.val_loader,ckpt_path='best')  #dataloaders=test_loader\n",
    "# print(val_acc)\n",
    "# print('-----Train ACC----------')\n",
    "# train_acc = trainer.test(dataloaders=model.train_loader,ckpt_path='best')  #dataloaders=test_loader\n",
    "# print(train_acc)\n",
    "print('-----TEST ACC----------')\n",
    "model.test_dataloader()\n",
    "test_acc = trainer.test(dataloaders=model.test_loader)  #dataloaders=test_loader\n",
    "print(test_acc)\n",
    "# every saved log is in lightning-Logs"
   ]
  },
  {
   "cell_type": "code",
   "execution_count": 16,
   "metadata": {
    "id": "LhEaZo36ZDMF"
   },
   "outputs": [
    {
     "name": "stdout",
     "output_type": "stream",
     "text": [
      "==========================\n",
      "Test accuracy 0.6929 (69.29%)\n"
     ]
    }
   ],
   "source": [
    "#check evaluation pointwise\n",
    "print('==========================')\n",
    "model.eval()\n",
    "test_dataloader = model.test_dataloader()\n",
    "acc = torchmetrics.Accuracy(task='multiclass', num_classes=10)\n",
    "lst_acc = []\n",
    "for batch in test_dataloader:\n",
    "    x,y = batch\n",
    "    with torch.inference_mode():\n",
    "        logits = model(x)\n",
    "    predicted = torch.argmax(logits, dim=1)\n",
    "    lst_acc.append(acc(predicted, y))\n",
    "\n",
    "test_acc = torch.Tensor(lst_acc).mean()\n",
    "print(f'Test accuracy {test_acc:.4f} ({test_acc*100:.2f}%)')"
   ]
  },
  {
   "cell_type": "code",
   "execution_count": null,
   "metadata": {
    "id": "TZ8bQFAQZJgB"
   },
   "outputs": [],
   "source": []
  },
  {
   "cell_type": "code",
   "execution_count": null,
   "metadata": {},
   "outputs": [],
   "source": []
  }
 ],
 "metadata": {
  "accelerator": "GPU",
  "colab": {
   "gpuType": "T4",
   "provenance": []
  },
  "kernelspec": {
   "display_name": "Python 3 (ipykernel)",
   "language": "python",
   "name": "python3"
  },
  "language_info": {
   "codemirror_mode": {
    "name": "ipython",
    "version": 3
   },
   "file_extension": ".py",
   "mimetype": "text/x-python",
   "name": "python",
   "nbconvert_exporter": "python",
   "pygments_lexer": "ipython3",
   "version": "3.10.12"
  },
  "widgets": {
   "application/vnd.jupyter.widget-state+json": {
    "0026e52d954344a4a7a607efce4c022c": {
     "model_module": "@jupyter-widgets/controls",
     "model_module_version": "1.5.0",
     "model_name": "DescriptionStyleModel",
     "state": {
      "_model_module": "@jupyter-widgets/controls",
      "_model_module_version": "1.5.0",
      "_model_name": "DescriptionStyleModel",
      "_view_count": null,
      "_view_module": "@jupyter-widgets/base",
      "_view_module_version": "1.2.0",
      "_view_name": "StyleView",
      "description_width": ""
     }
    },
    "007f26abf1354f87930bf722aff8bf87": {
     "model_module": "@jupyter-widgets/base",
     "model_module_version": "1.2.0",
     "model_name": "LayoutModel",
     "state": {
      "_model_module": "@jupyter-widgets/base",
      "_model_module_version": "1.2.0",
      "_model_name": "LayoutModel",
      "_view_count": null,
      "_view_module": "@jupyter-widgets/base",
      "_view_module_version": "1.2.0",
      "_view_name": "LayoutView",
      "align_content": null,
      "align_items": null,
      "align_self": null,
      "border": null,
      "bottom": null,
      "display": "inline-flex",
      "flex": null,
      "flex_flow": "row wrap",
      "grid_area": null,
      "grid_auto_columns": null,
      "grid_auto_flow": null,
      "grid_auto_rows": null,
      "grid_column": null,
      "grid_gap": null,
      "grid_row": null,
      "grid_template_areas": null,
      "grid_template_columns": null,
      "grid_template_rows": null,
      "height": null,
      "justify_content": null,
      "justify_items": null,
      "left": null,
      "margin": null,
      "max_height": null,
      "max_width": null,
      "min_height": null,
      "min_width": null,
      "object_fit": null,
      "object_position": null,
      "order": null,
      "overflow": null,
      "overflow_x": null,
      "overflow_y": null,
      "padding": null,
      "right": null,
      "top": null,
      "visibility": "hidden",
      "width": "100%"
     }
    },
    "00eb0b62b54d40998f9ca67be99face9": {
     "model_module": "@jupyter-widgets/base",
     "model_module_version": "1.2.0",
     "model_name": "LayoutModel",
     "state": {
      "_model_module": "@jupyter-widgets/base",
      "_model_module_version": "1.2.0",
      "_model_name": "LayoutModel",
      "_view_count": null,
      "_view_module": "@jupyter-widgets/base",
      "_view_module_version": "1.2.0",
      "_view_name": "LayoutView",
      "align_content": null,
      "align_items": null,
      "align_self": null,
      "border": null,
      "bottom": null,
      "display": null,
      "flex": "2",
      "flex_flow": null,
      "grid_area": null,
      "grid_auto_columns": null,
      "grid_auto_flow": null,
      "grid_auto_rows": null,
      "grid_column": null,
      "grid_gap": null,
      "grid_row": null,
      "grid_template_areas": null,
      "grid_template_columns": null,
      "grid_template_rows": null,
      "height": null,
      "justify_content": null,
      "justify_items": null,
      "left": null,
      "margin": null,
      "max_height": null,
      "max_width": null,
      "min_height": null,
      "min_width": null,
      "object_fit": null,
      "object_position": null,
      "order": null,
      "overflow": null,
      "overflow_x": null,
      "overflow_y": null,
      "padding": null,
      "right": null,
      "top": null,
      "visibility": null,
      "width": null
     }
    },
    "02872e0113a44679a5f25bbe766582fc": {
     "model_module": "@jupyter-widgets/controls",
     "model_module_version": "1.5.0",
     "model_name": "HBoxModel",
     "state": {
      "_dom_classes": [],
      "_model_module": "@jupyter-widgets/controls",
      "_model_module_version": "1.5.0",
      "_model_name": "HBoxModel",
      "_view_count": null,
      "_view_module": "@jupyter-widgets/controls",
      "_view_module_version": "1.5.0",
      "_view_name": "HBoxView",
      "box_style": "",
      "children": [
       "IPY_MODEL_78ea893118b345c8b2e527d26ede1b47",
       "IPY_MODEL_dd45daf6d0b34921a9745de16c4e5067",
       "IPY_MODEL_3ec7db261b9443b9a944ecf748c4d00d"
      ],
      "layout": "IPY_MODEL_cfc41089669d4ddf9d6d199e23825b84"
     }
    },
    "02cd023a22fa4921bcc76e73d25c412d": {
     "model_module": "@jupyter-widgets/controls",
     "model_module_version": "1.5.0",
     "model_name": "DescriptionStyleModel",
     "state": {
      "_model_module": "@jupyter-widgets/controls",
      "_model_module_version": "1.5.0",
      "_model_name": "DescriptionStyleModel",
      "_view_count": null,
      "_view_module": "@jupyter-widgets/base",
      "_view_module_version": "1.2.0",
      "_view_name": "StyleView",
      "description_width": ""
     }
    },
    "037cedb4fcb64c8ca8cf5e312acf1573": {
     "model_module": "@jupyter-widgets/base",
     "model_module_version": "1.2.0",
     "model_name": "LayoutModel",
     "state": {
      "_model_module": "@jupyter-widgets/base",
      "_model_module_version": "1.2.0",
      "_model_name": "LayoutModel",
      "_view_count": null,
      "_view_module": "@jupyter-widgets/base",
      "_view_module_version": "1.2.0",
      "_view_name": "LayoutView",
      "align_content": null,
      "align_items": null,
      "align_self": null,
      "border": null,
      "bottom": null,
      "display": null,
      "flex": null,
      "flex_flow": null,
      "grid_area": null,
      "grid_auto_columns": null,
      "grid_auto_flow": null,
      "grid_auto_rows": null,
      "grid_column": null,
      "grid_gap": null,
      "grid_row": null,
      "grid_template_areas": null,
      "grid_template_columns": null,
      "grid_template_rows": null,
      "height": null,
      "justify_content": null,
      "justify_items": null,
      "left": null,
      "margin": null,
      "max_height": null,
      "max_width": null,
      "min_height": null,
      "min_width": null,
      "object_fit": null,
      "object_position": null,
      "order": null,
      "overflow": null,
      "overflow_x": null,
      "overflow_y": null,
      "padding": null,
      "right": null,
      "top": null,
      "visibility": null,
      "width": null
     }
    },
    "047e167fcc9a4240bd08e326128f89ed": {
     "model_module": "@jupyter-widgets/controls",
     "model_module_version": "1.5.0",
     "model_name": "DescriptionStyleModel",
     "state": {
      "_model_module": "@jupyter-widgets/controls",
      "_model_module_version": "1.5.0",
      "_model_name": "DescriptionStyleModel",
      "_view_count": null,
      "_view_module": "@jupyter-widgets/base",
      "_view_module_version": "1.2.0",
      "_view_name": "StyleView",
      "description_width": ""
     }
    },
    "0483e15cde6c4cc0901d012c6d0f52e8": {
     "model_module": "@jupyter-widgets/controls",
     "model_module_version": "1.5.0",
     "model_name": "ProgressStyleModel",
     "state": {
      "_model_module": "@jupyter-widgets/controls",
      "_model_module_version": "1.5.0",
      "_model_name": "ProgressStyleModel",
      "_view_count": null,
      "_view_module": "@jupyter-widgets/base",
      "_view_module_version": "1.2.0",
      "_view_name": "StyleView",
      "bar_color": null,
      "description_width": ""
     }
    },
    "054d2e354d5a439da77b3508d52c466a": {
     "model_module": "@jupyter-widgets/base",
     "model_module_version": "1.2.0",
     "model_name": "LayoutModel",
     "state": {
      "_model_module": "@jupyter-widgets/base",
      "_model_module_version": "1.2.0",
      "_model_name": "LayoutModel",
      "_view_count": null,
      "_view_module": "@jupyter-widgets/base",
      "_view_module_version": "1.2.0",
      "_view_name": "LayoutView",
      "align_content": null,
      "align_items": null,
      "align_self": null,
      "border": null,
      "bottom": null,
      "display": null,
      "flex": "2",
      "flex_flow": null,
      "grid_area": null,
      "grid_auto_columns": null,
      "grid_auto_flow": null,
      "grid_auto_rows": null,
      "grid_column": null,
      "grid_gap": null,
      "grid_row": null,
      "grid_template_areas": null,
      "grid_template_columns": null,
      "grid_template_rows": null,
      "height": null,
      "justify_content": null,
      "justify_items": null,
      "left": null,
      "margin": null,
      "max_height": null,
      "max_width": null,
      "min_height": null,
      "min_width": null,
      "object_fit": null,
      "object_position": null,
      "order": null,
      "overflow": null,
      "overflow_x": null,
      "overflow_y": null,
      "padding": null,
      "right": null,
      "top": null,
      "visibility": null,
      "width": null
     }
    },
    "058c247b8f58484fbdbdb802db506d91": {
     "model_module": "@jupyter-widgets/base",
     "model_module_version": "1.2.0",
     "model_name": "LayoutModel",
     "state": {
      "_model_module": "@jupyter-widgets/base",
      "_model_module_version": "1.2.0",
      "_model_name": "LayoutModel",
      "_view_count": null,
      "_view_module": "@jupyter-widgets/base",
      "_view_module_version": "1.2.0",
      "_view_name": "LayoutView",
      "align_content": null,
      "align_items": null,
      "align_self": null,
      "border": null,
      "bottom": null,
      "display": null,
      "flex": null,
      "flex_flow": null,
      "grid_area": null,
      "grid_auto_columns": null,
      "grid_auto_flow": null,
      "grid_auto_rows": null,
      "grid_column": null,
      "grid_gap": null,
      "grid_row": null,
      "grid_template_areas": null,
      "grid_template_columns": null,
      "grid_template_rows": null,
      "height": null,
      "justify_content": null,
      "justify_items": null,
      "left": null,
      "margin": null,
      "max_height": null,
      "max_width": null,
      "min_height": null,
      "min_width": null,
      "object_fit": null,
      "object_position": null,
      "order": null,
      "overflow": null,
      "overflow_x": null,
      "overflow_y": null,
      "padding": null,
      "right": null,
      "top": null,
      "visibility": null,
      "width": null
     }
    },
    "05bc55504fd04279bd443494f0eff031": {
     "model_module": "@jupyter-widgets/controls",
     "model_module_version": "1.5.0",
     "model_name": "ProgressStyleModel",
     "state": {
      "_model_module": "@jupyter-widgets/controls",
      "_model_module_version": "1.5.0",
      "_model_name": "ProgressStyleModel",
      "_view_count": null,
      "_view_module": "@jupyter-widgets/base",
      "_view_module_version": "1.2.0",
      "_view_name": "StyleView",
      "bar_color": null,
      "description_width": ""
     }
    },
    "06567b661bcc4c3e835092934132b30c": {
     "model_module": "@jupyter-widgets/controls",
     "model_module_version": "1.5.0",
     "model_name": "DescriptionStyleModel",
     "state": {
      "_model_module": "@jupyter-widgets/controls",
      "_model_module_version": "1.5.0",
      "_model_name": "DescriptionStyleModel",
      "_view_count": null,
      "_view_module": "@jupyter-widgets/base",
      "_view_module_version": "1.2.0",
      "_view_name": "StyleView",
      "description_width": ""
     }
    },
    "06e612df7c9b4719a3425bd086f7d2de": {
     "model_module": "@jupyter-widgets/controls",
     "model_module_version": "1.5.0",
     "model_name": "HTMLModel",
     "state": {
      "_dom_classes": [],
      "_model_module": "@jupyter-widgets/controls",
      "_model_module_version": "1.5.0",
      "_model_name": "HTMLModel",
      "_view_count": null,
      "_view_module": "@jupyter-widgets/controls",
      "_view_module_version": "1.5.0",
      "_view_name": "HTMLView",
      "description": "",
      "description_tooltip": null,
      "layout": "IPY_MODEL_8a3d5e3ccac14401a7ea4ca101194e10",
      "placeholder": "​",
      "style": "IPY_MODEL_0026e52d954344a4a7a607efce4c022c",
      "value": " 5/5 [00:01&lt;00:00,  3.99it/s]"
     }
    },
    "0735efb868c14ef7bfaa4a5eddb257b4": {
     "model_module": "@jupyter-widgets/base",
     "model_module_version": "1.2.0",
     "model_name": "LayoutModel",
     "state": {
      "_model_module": "@jupyter-widgets/base",
      "_model_module_version": "1.2.0",
      "_model_name": "LayoutModel",
      "_view_count": null,
      "_view_module": "@jupyter-widgets/base",
      "_view_module_version": "1.2.0",
      "_view_name": "LayoutView",
      "align_content": null,
      "align_items": null,
      "align_self": null,
      "border": null,
      "bottom": null,
      "display": "inline-flex",
      "flex": null,
      "flex_flow": "row wrap",
      "grid_area": null,
      "grid_auto_columns": null,
      "grid_auto_flow": null,
      "grid_auto_rows": null,
      "grid_column": null,
      "grid_gap": null,
      "grid_row": null,
      "grid_template_areas": null,
      "grid_template_columns": null,
      "grid_template_rows": null,
      "height": null,
      "justify_content": null,
      "justify_items": null,
      "left": null,
      "margin": null,
      "max_height": null,
      "max_width": null,
      "min_height": null,
      "min_width": null,
      "object_fit": null,
      "object_position": null,
      "order": null,
      "overflow": null,
      "overflow_x": null,
      "overflow_y": null,
      "padding": null,
      "right": null,
      "top": null,
      "visibility": "hidden",
      "width": "100%"
     }
    },
    "079b5610cf60418d81fa1eab5dc7b45e": {
     "model_module": "@jupyter-widgets/base",
     "model_module_version": "1.2.0",
     "model_name": "LayoutModel",
     "state": {
      "_model_module": "@jupyter-widgets/base",
      "_model_module_version": "1.2.0",
      "_model_name": "LayoutModel",
      "_view_count": null,
      "_view_module": "@jupyter-widgets/base",
      "_view_module_version": "1.2.0",
      "_view_name": "LayoutView",
      "align_content": null,
      "align_items": null,
      "align_self": null,
      "border": null,
      "bottom": null,
      "display": "inline-flex",
      "flex": null,
      "flex_flow": "row wrap",
      "grid_area": null,
      "grid_auto_columns": null,
      "grid_auto_flow": null,
      "grid_auto_rows": null,
      "grid_column": null,
      "grid_gap": null,
      "grid_row": null,
      "grid_template_areas": null,
      "grid_template_columns": null,
      "grid_template_rows": null,
      "height": null,
      "justify_content": null,
      "justify_items": null,
      "left": null,
      "margin": null,
      "max_height": null,
      "max_width": null,
      "min_height": null,
      "min_width": null,
      "object_fit": null,
      "object_position": null,
      "order": null,
      "overflow": null,
      "overflow_x": null,
      "overflow_y": null,
      "padding": null,
      "right": null,
      "top": null,
      "visibility": "hidden",
      "width": "100%"
     }
    },
    "080fe54ee021457a9e07c59c44799dda": {
     "model_module": "@jupyter-widgets/controls",
     "model_module_version": "1.5.0",
     "model_name": "HBoxModel",
     "state": {
      "_dom_classes": [],
      "_model_module": "@jupyter-widgets/controls",
      "_model_module_version": "1.5.0",
      "_model_name": "HBoxModel",
      "_view_count": null,
      "_view_module": "@jupyter-widgets/controls",
      "_view_module_version": "1.5.0",
      "_view_name": "HBoxView",
      "box_style": "",
      "children": [
       "IPY_MODEL_2c5446c18af14103836cf63e884a12c3",
       "IPY_MODEL_b7e663349e9f4b0d8b54de3d77806560",
       "IPY_MODEL_4e64be8a20a7410fbbea478c3054b073"
      ],
      "layout": "IPY_MODEL_a105e07425c547ebba946df44f82b38c"
     }
    },
    "08ce38df82f24627a520f26e52e0aa9a": {
     "model_module": "@jupyter-widgets/controls",
     "model_module_version": "1.5.0",
     "model_name": "HTMLModel",
     "state": {
      "_dom_classes": [],
      "_model_module": "@jupyter-widgets/controls",
      "_model_module_version": "1.5.0",
      "_model_name": "HTMLModel",
      "_view_count": null,
      "_view_module": "@jupyter-widgets/controls",
      "_view_module_version": "1.5.0",
      "_view_name": "HTMLView",
      "description": "",
      "description_tooltip": null,
      "layout": "IPY_MODEL_3adeeb29bc484a45ba2d21e71c4ed8b0",
      "placeholder": "​",
      "style": "IPY_MODEL_b6dce6b5ebdc4328a38affb285913904",
      "value": " 5/5 [00:01&lt;00:00,  4.05it/s]"
     }
    },
    "09033db4eb6540c6a73c50b736ce8436": {
     "model_module": "@jupyter-widgets/controls",
     "model_module_version": "1.5.0",
     "model_name": "DescriptionStyleModel",
     "state": {
      "_model_module": "@jupyter-widgets/controls",
      "_model_module_version": "1.5.0",
      "_model_name": "DescriptionStyleModel",
      "_view_count": null,
      "_view_module": "@jupyter-widgets/base",
      "_view_module_version": "1.2.0",
      "_view_name": "StyleView",
      "description_width": ""
     }
    },
    "0984213b9c6640bcba1a06cceed06906": {
     "model_module": "@jupyter-widgets/base",
     "model_module_version": "1.2.0",
     "model_name": "LayoutModel",
     "state": {
      "_model_module": "@jupyter-widgets/base",
      "_model_module_version": "1.2.0",
      "_model_name": "LayoutModel",
      "_view_count": null,
      "_view_module": "@jupyter-widgets/base",
      "_view_module_version": "1.2.0",
      "_view_name": "LayoutView",
      "align_content": null,
      "align_items": null,
      "align_self": null,
      "border": null,
      "bottom": null,
      "display": null,
      "flex": null,
      "flex_flow": null,
      "grid_area": null,
      "grid_auto_columns": null,
      "grid_auto_flow": null,
      "grid_auto_rows": null,
      "grid_column": null,
      "grid_gap": null,
      "grid_row": null,
      "grid_template_areas": null,
      "grid_template_columns": null,
      "grid_template_rows": null,
      "height": null,
      "justify_content": null,
      "justify_items": null,
      "left": null,
      "margin": null,
      "max_height": null,
      "max_width": null,
      "min_height": null,
      "min_width": null,
      "object_fit": null,
      "object_position": null,
      "order": null,
      "overflow": null,
      "overflow_x": null,
      "overflow_y": null,
      "padding": null,
      "right": null,
      "top": null,
      "visibility": null,
      "width": null
     }
    },
    "09aee179224b421a82efa9e442aec8e5": {
     "model_module": "@jupyter-widgets/base",
     "model_module_version": "1.2.0",
     "model_name": "LayoutModel",
     "state": {
      "_model_module": "@jupyter-widgets/base",
      "_model_module_version": "1.2.0",
      "_model_name": "LayoutModel",
      "_view_count": null,
      "_view_module": "@jupyter-widgets/base",
      "_view_module_version": "1.2.0",
      "_view_name": "LayoutView",
      "align_content": null,
      "align_items": null,
      "align_self": null,
      "border": null,
      "bottom": null,
      "display": null,
      "flex": null,
      "flex_flow": null,
      "grid_area": null,
      "grid_auto_columns": null,
      "grid_auto_flow": null,
      "grid_auto_rows": null,
      "grid_column": null,
      "grid_gap": null,
      "grid_row": null,
      "grid_template_areas": null,
      "grid_template_columns": null,
      "grid_template_rows": null,
      "height": null,
      "justify_content": null,
      "justify_items": null,
      "left": null,
      "margin": null,
      "max_height": null,
      "max_width": null,
      "min_height": null,
      "min_width": null,
      "object_fit": null,
      "object_position": null,
      "order": null,
      "overflow": null,
      "overflow_x": null,
      "overflow_y": null,
      "padding": null,
      "right": null,
      "top": null,
      "visibility": null,
      "width": null
     }
    },
    "0a2313c4b0c44e4a9845f2b6e5421564": {
     "model_module": "@jupyter-widgets/controls",
     "model_module_version": "1.5.0",
     "model_name": "HTMLModel",
     "state": {
      "_dom_classes": [],
      "_model_module": "@jupyter-widgets/controls",
      "_model_module_version": "1.5.0",
      "_model_name": "HTMLModel",
      "_view_count": null,
      "_view_module": "@jupyter-widgets/controls",
      "_view_module_version": "1.5.0",
      "_view_name": "HTMLView",
      "description": "",
      "description_tooltip": null,
      "layout": "IPY_MODEL_160b0054af4441e786f83c7fd1f72908",
      "placeholder": "​",
      "style": "IPY_MODEL_af311951ba2f401a93c3e3dbcd1ae246",
      "value": "Sanity Checking DataLoader 0: 100%"
     }
    },
    "0a508efaca8148ac820c44544ca19f4c": {
     "model_module": "@jupyter-widgets/controls",
     "model_module_version": "1.5.0",
     "model_name": "HTMLModel",
     "state": {
      "_dom_classes": [],
      "_model_module": "@jupyter-widgets/controls",
      "_model_module_version": "1.5.0",
      "_model_name": "HTMLModel",
      "_view_count": null,
      "_view_module": "@jupyter-widgets/controls",
      "_view_module_version": "1.5.0",
      "_view_name": "HTMLView",
      "description": "",
      "description_tooltip": null,
      "layout": "IPY_MODEL_c07b0bb493054088876820432902df1c",
      "placeholder": "​",
      "style": "IPY_MODEL_51761f927a0843cea9e8d07bf0cc48cf",
      "value": "Validation DataLoader 0: 100%"
     }
    },
    "0a8860818e0447a28d2bcd64dae62ad3": {
     "model_module": "@jupyter-widgets/controls",
     "model_module_version": "1.5.0",
     "model_name": "HTMLModel",
     "state": {
      "_dom_classes": [],
      "_model_module": "@jupyter-widgets/controls",
      "_model_module_version": "1.5.0",
      "_model_name": "HTMLModel",
      "_view_count": null,
      "_view_module": "@jupyter-widgets/controls",
      "_view_module_version": "1.5.0",
      "_view_name": "HTMLView",
      "description": "",
      "description_tooltip": null,
      "layout": "IPY_MODEL_c8fce0d2ea164f4489364cfe6eccbdab",
      "placeholder": "​",
      "style": "IPY_MODEL_2396ce11f45546c3b5266f42536218a6",
      "value": "Validation DataLoader 0: 100%"
     }
    },
    "0b609d01881248e5a716fb1ebeb66bb2": {
     "model_module": "@jupyter-widgets/base",
     "model_module_version": "1.2.0",
     "model_name": "LayoutModel",
     "state": {
      "_model_module": "@jupyter-widgets/base",
      "_model_module_version": "1.2.0",
      "_model_name": "LayoutModel",
      "_view_count": null,
      "_view_module": "@jupyter-widgets/base",
      "_view_module_version": "1.2.0",
      "_view_name": "LayoutView",
      "align_content": null,
      "align_items": null,
      "align_self": null,
      "border": null,
      "bottom": null,
      "display": "inline-flex",
      "flex": null,
      "flex_flow": "row wrap",
      "grid_area": null,
      "grid_auto_columns": null,
      "grid_auto_flow": null,
      "grid_auto_rows": null,
      "grid_column": null,
      "grid_gap": null,
      "grid_row": null,
      "grid_template_areas": null,
      "grid_template_columns": null,
      "grid_template_rows": null,
      "height": null,
      "justify_content": null,
      "justify_items": null,
      "left": null,
      "margin": null,
      "max_height": null,
      "max_width": null,
      "min_height": null,
      "min_width": null,
      "object_fit": null,
      "object_position": null,
      "order": null,
      "overflow": null,
      "overflow_x": null,
      "overflow_y": null,
      "padding": null,
      "right": null,
      "top": null,
      "visibility": "hidden",
      "width": "100%"
     }
    },
    "0b8212def8d5439f91ff11cd4e063521": {
     "model_module": "@jupyter-widgets/base",
     "model_module_version": "1.2.0",
     "model_name": "LayoutModel",
     "state": {
      "_model_module": "@jupyter-widgets/base",
      "_model_module_version": "1.2.0",
      "_model_name": "LayoutModel",
      "_view_count": null,
      "_view_module": "@jupyter-widgets/base",
      "_view_module_version": "1.2.0",
      "_view_name": "LayoutView",
      "align_content": null,
      "align_items": null,
      "align_self": null,
      "border": null,
      "bottom": null,
      "display": null,
      "flex": null,
      "flex_flow": null,
      "grid_area": null,
      "grid_auto_columns": null,
      "grid_auto_flow": null,
      "grid_auto_rows": null,
      "grid_column": null,
      "grid_gap": null,
      "grid_row": null,
      "grid_template_areas": null,
      "grid_template_columns": null,
      "grid_template_rows": null,
      "height": null,
      "justify_content": null,
      "justify_items": null,
      "left": null,
      "margin": null,
      "max_height": null,
      "max_width": null,
      "min_height": null,
      "min_width": null,
      "object_fit": null,
      "object_position": null,
      "order": null,
      "overflow": null,
      "overflow_x": null,
      "overflow_y": null,
      "padding": null,
      "right": null,
      "top": null,
      "visibility": null,
      "width": null
     }
    },
    "0bf422696c7749e3936af5d7c80391d4": {
     "model_module": "@jupyter-widgets/base",
     "model_module_version": "1.2.0",
     "model_name": "LayoutModel",
     "state": {
      "_model_module": "@jupyter-widgets/base",
      "_model_module_version": "1.2.0",
      "_model_name": "LayoutModel",
      "_view_count": null,
      "_view_module": "@jupyter-widgets/base",
      "_view_module_version": "1.2.0",
      "_view_name": "LayoutView",
      "align_content": null,
      "align_items": null,
      "align_self": null,
      "border": null,
      "bottom": null,
      "display": null,
      "flex": null,
      "flex_flow": null,
      "grid_area": null,
      "grid_auto_columns": null,
      "grid_auto_flow": null,
      "grid_auto_rows": null,
      "grid_column": null,
      "grid_gap": null,
      "grid_row": null,
      "grid_template_areas": null,
      "grid_template_columns": null,
      "grid_template_rows": null,
      "height": null,
      "justify_content": null,
      "justify_items": null,
      "left": null,
      "margin": null,
      "max_height": null,
      "max_width": null,
      "min_height": null,
      "min_width": null,
      "object_fit": null,
      "object_position": null,
      "order": null,
      "overflow": null,
      "overflow_x": null,
      "overflow_y": null,
      "padding": null,
      "right": null,
      "top": null,
      "visibility": null,
      "width": null
     }
    },
    "0c18ad7b0c9c4027aaaa28cc3ac5f485": {
     "model_module": "@jupyter-widgets/base",
     "model_module_version": "1.2.0",
     "model_name": "LayoutModel",
     "state": {
      "_model_module": "@jupyter-widgets/base",
      "_model_module_version": "1.2.0",
      "_model_name": "LayoutModel",
      "_view_count": null,
      "_view_module": "@jupyter-widgets/base",
      "_view_module_version": "1.2.0",
      "_view_name": "LayoutView",
      "align_content": null,
      "align_items": null,
      "align_self": null,
      "border": null,
      "bottom": null,
      "display": "inline-flex",
      "flex": null,
      "flex_flow": "row wrap",
      "grid_area": null,
      "grid_auto_columns": null,
      "grid_auto_flow": null,
      "grid_auto_rows": null,
      "grid_column": null,
      "grid_gap": null,
      "grid_row": null,
      "grid_template_areas": null,
      "grid_template_columns": null,
      "grid_template_rows": null,
      "height": null,
      "justify_content": null,
      "justify_items": null,
      "left": null,
      "margin": null,
      "max_height": null,
      "max_width": null,
      "min_height": null,
      "min_width": null,
      "object_fit": null,
      "object_position": null,
      "order": null,
      "overflow": null,
      "overflow_x": null,
      "overflow_y": null,
      "padding": null,
      "right": null,
      "top": null,
      "visibility": "hidden",
      "width": "100%"
     }
    },
    "0c32b23f28694408af4783fa173045bf": {
     "model_module": "@jupyter-widgets/base",
     "model_module_version": "1.2.0",
     "model_name": "LayoutModel",
     "state": {
      "_model_module": "@jupyter-widgets/base",
      "_model_module_version": "1.2.0",
      "_model_name": "LayoutModel",
      "_view_count": null,
      "_view_module": "@jupyter-widgets/base",
      "_view_module_version": "1.2.0",
      "_view_name": "LayoutView",
      "align_content": null,
      "align_items": null,
      "align_self": null,
      "border": null,
      "bottom": null,
      "display": null,
      "flex": null,
      "flex_flow": null,
      "grid_area": null,
      "grid_auto_columns": null,
      "grid_auto_flow": null,
      "grid_auto_rows": null,
      "grid_column": null,
      "grid_gap": null,
      "grid_row": null,
      "grid_template_areas": null,
      "grid_template_columns": null,
      "grid_template_rows": null,
      "height": null,
      "justify_content": null,
      "justify_items": null,
      "left": null,
      "margin": null,
      "max_height": null,
      "max_width": null,
      "min_height": null,
      "min_width": null,
      "object_fit": null,
      "object_position": null,
      "order": null,
      "overflow": null,
      "overflow_x": null,
      "overflow_y": null,
      "padding": null,
      "right": null,
      "top": null,
      "visibility": null,
      "width": null
     }
    },
    "0c4ac60c42ea4fdcb7b18df286ff924d": {
     "model_module": "@jupyter-widgets/controls",
     "model_module_version": "1.5.0",
     "model_name": "HTMLModel",
     "state": {
      "_dom_classes": [],
      "_model_module": "@jupyter-widgets/controls",
      "_model_module_version": "1.5.0",
      "_model_name": "HTMLModel",
      "_view_count": null,
      "_view_module": "@jupyter-widgets/controls",
      "_view_module_version": "1.5.0",
      "_view_name": "HTMLView",
      "description": "",
      "description_tooltip": null,
      "layout": "IPY_MODEL_9c58f53da6ff4f54ac926dd8689c70ea",
      "placeholder": "​",
      "style": "IPY_MODEL_27295385e2b34b77844a98c05e4d8c37",
      "value": "Validation DataLoader 0: 100%"
     }
    },
    "0d484fa1b9674d40ac601d1456f36c43": {
     "model_module": "@jupyter-widgets/controls",
     "model_module_version": "1.5.0",
     "model_name": "FloatProgressModel",
     "state": {
      "_dom_classes": [],
      "_model_module": "@jupyter-widgets/controls",
      "_model_module_version": "1.5.0",
      "_model_name": "FloatProgressModel",
      "_view_count": null,
      "_view_module": "@jupyter-widgets/controls",
      "_view_module_version": "1.5.0",
      "_view_name": "ProgressView",
      "bar_style": "",
      "description": "",
      "description_tooltip": null,
      "layout": "IPY_MODEL_5973b91452c5418aa8de813354eefac8",
      "max": 5,
      "min": 0,
      "orientation": "horizontal",
      "style": "IPY_MODEL_3b7d2de2abf04e41b30e534fc4412ca4",
      "value": 5
     }
    },
    "0d69fdba92144c698aed1dca10ca08b5": {
     "model_module": "@jupyter-widgets/controls",
     "model_module_version": "1.5.0",
     "model_name": "ProgressStyleModel",
     "state": {
      "_model_module": "@jupyter-widgets/controls",
      "_model_module_version": "1.5.0",
      "_model_name": "ProgressStyleModel",
      "_view_count": null,
      "_view_module": "@jupyter-widgets/base",
      "_view_module_version": "1.2.0",
      "_view_name": "StyleView",
      "bar_color": null,
      "description_width": ""
     }
    },
    "0de62ef4c4954cceb3e1830289abc7d3": {
     "model_module": "@jupyter-widgets/base",
     "model_module_version": "1.2.0",
     "model_name": "LayoutModel",
     "state": {
      "_model_module": "@jupyter-widgets/base",
      "_model_module_version": "1.2.0",
      "_model_name": "LayoutModel",
      "_view_count": null,
      "_view_module": "@jupyter-widgets/base",
      "_view_module_version": "1.2.0",
      "_view_name": "LayoutView",
      "align_content": null,
      "align_items": null,
      "align_self": null,
      "border": null,
      "bottom": null,
      "display": null,
      "flex": "2",
      "flex_flow": null,
      "grid_area": null,
      "grid_auto_columns": null,
      "grid_auto_flow": null,
      "grid_auto_rows": null,
      "grid_column": null,
      "grid_gap": null,
      "grid_row": null,
      "grid_template_areas": null,
      "grid_template_columns": null,
      "grid_template_rows": null,
      "height": null,
      "justify_content": null,
      "justify_items": null,
      "left": null,
      "margin": null,
      "max_height": null,
      "max_width": null,
      "min_height": null,
      "min_width": null,
      "object_fit": null,
      "object_position": null,
      "order": null,
      "overflow": null,
      "overflow_x": null,
      "overflow_y": null,
      "padding": null,
      "right": null,
      "top": null,
      "visibility": null,
      "width": null
     }
    },
    "0ed40799f744427c9dd4bee3ef5e9c20": {
     "model_module": "@jupyter-widgets/controls",
     "model_module_version": "1.5.0",
     "model_name": "HTMLModel",
     "state": {
      "_dom_classes": [],
      "_model_module": "@jupyter-widgets/controls",
      "_model_module_version": "1.5.0",
      "_model_name": "HTMLModel",
      "_view_count": null,
      "_view_module": "@jupyter-widgets/controls",
      "_view_module_version": "1.5.0",
      "_view_name": "HTMLView",
      "description": "",
      "description_tooltip": null,
      "layout": "IPY_MODEL_0c32b23f28694408af4783fa173045bf",
      "placeholder": "​",
      "style": "IPY_MODEL_3e079da9e954457687bae442ff5d1034",
      "value": " 5/5 [00:01&lt;00:00,  4.04it/s]"
     }
    },
    "0f44254a8f54452ea7dd816f4114ad3d": {
     "model_module": "@jupyter-widgets/controls",
     "model_module_version": "1.5.0",
     "model_name": "ProgressStyleModel",
     "state": {
      "_model_module": "@jupyter-widgets/controls",
      "_model_module_version": "1.5.0",
      "_model_name": "ProgressStyleModel",
      "_view_count": null,
      "_view_module": "@jupyter-widgets/base",
      "_view_module_version": "1.2.0",
      "_view_name": "StyleView",
      "bar_color": null,
      "description_width": ""
     }
    },
    "0f9cc4f5e33c49f8b8d41d3b1465fa14": {
     "model_module": "@jupyter-widgets/controls",
     "model_module_version": "1.5.0",
     "model_name": "HBoxModel",
     "state": {
      "_dom_classes": [],
      "_model_module": "@jupyter-widgets/controls",
      "_model_module_version": "1.5.0",
      "_model_name": "HBoxModel",
      "_view_count": null,
      "_view_module": "@jupyter-widgets/controls",
      "_view_module_version": "1.5.0",
      "_view_name": "HBoxView",
      "box_style": "",
      "children": [
       "IPY_MODEL_0c4ac60c42ea4fdcb7b18df286ff924d",
       "IPY_MODEL_56cd3bd243864e459dba83a9d6214ab8",
       "IPY_MODEL_705336f7fd584aa6a3df900e4029934f"
      ],
      "layout": "IPY_MODEL_7d46ef0c5a76417fbec2b29bba3fa631"
     }
    },
    "0fbc9ba286f44f6facb2ebc36801416e": {
     "model_module": "@jupyter-widgets/base",
     "model_module_version": "1.2.0",
     "model_name": "LayoutModel",
     "state": {
      "_model_module": "@jupyter-widgets/base",
      "_model_module_version": "1.2.0",
      "_model_name": "LayoutModel",
      "_view_count": null,
      "_view_module": "@jupyter-widgets/base",
      "_view_module_version": "1.2.0",
      "_view_name": "LayoutView",
      "align_content": null,
      "align_items": null,
      "align_self": null,
      "border": null,
      "bottom": null,
      "display": "inline-flex",
      "flex": null,
      "flex_flow": "row wrap",
      "grid_area": null,
      "grid_auto_columns": null,
      "grid_auto_flow": null,
      "grid_auto_rows": null,
      "grid_column": null,
      "grid_gap": null,
      "grid_row": null,
      "grid_template_areas": null,
      "grid_template_columns": null,
      "grid_template_rows": null,
      "height": null,
      "justify_content": null,
      "justify_items": null,
      "left": null,
      "margin": null,
      "max_height": null,
      "max_width": null,
      "min_height": null,
      "min_width": null,
      "object_fit": null,
      "object_position": null,
      "order": null,
      "overflow": null,
      "overflow_x": null,
      "overflow_y": null,
      "padding": null,
      "right": null,
      "top": null,
      "visibility": "hidden",
      "width": "100%"
     }
    },
    "105f11418ff94cfda81a9cc08e1f6b94": {
     "model_module": "@jupyter-widgets/controls",
     "model_module_version": "1.5.0",
     "model_name": "HTMLModel",
     "state": {
      "_dom_classes": [],
      "_model_module": "@jupyter-widgets/controls",
      "_model_module_version": "1.5.0",
      "_model_name": "HTMLModel",
      "_view_count": null,
      "_view_module": "@jupyter-widgets/controls",
      "_view_module_version": "1.5.0",
      "_view_name": "HTMLView",
      "description": "",
      "description_tooltip": null,
      "layout": "IPY_MODEL_97ee019aabc14c46aff31793386da94a",
      "placeholder": "​",
      "style": "IPY_MODEL_7339266c19ef4dbf97479a72d9c3faf5",
      "value": "Validation DataLoader 0: 100%"
     }
    },
    "10b919d8fd3f4b1b85e922301711ce14": {
     "model_module": "@jupyter-widgets/base",
     "model_module_version": "1.2.0",
     "model_name": "LayoutModel",
     "state": {
      "_model_module": "@jupyter-widgets/base",
      "_model_module_version": "1.2.0",
      "_model_name": "LayoutModel",
      "_view_count": null,
      "_view_module": "@jupyter-widgets/base",
      "_view_module_version": "1.2.0",
      "_view_name": "LayoutView",
      "align_content": null,
      "align_items": null,
      "align_self": null,
      "border": null,
      "bottom": null,
      "display": "inline-flex",
      "flex": null,
      "flex_flow": "row wrap",
      "grid_area": null,
      "grid_auto_columns": null,
      "grid_auto_flow": null,
      "grid_auto_rows": null,
      "grid_column": null,
      "grid_gap": null,
      "grid_row": null,
      "grid_template_areas": null,
      "grid_template_columns": null,
      "grid_template_rows": null,
      "height": null,
      "justify_content": null,
      "justify_items": null,
      "left": null,
      "margin": null,
      "max_height": null,
      "max_width": null,
      "min_height": null,
      "min_width": null,
      "object_fit": null,
      "object_position": null,
      "order": null,
      "overflow": null,
      "overflow_x": null,
      "overflow_y": null,
      "padding": null,
      "right": null,
      "top": null,
      "visibility": "hidden",
      "width": "100%"
     }
    },
    "11023a329fd04648b20e2d74bd6494a0": {
     "model_module": "@jupyter-widgets/controls",
     "model_module_version": "1.5.0",
     "model_name": "HTMLModel",
     "state": {
      "_dom_classes": [],
      "_model_module": "@jupyter-widgets/controls",
      "_model_module_version": "1.5.0",
      "_model_name": "HTMLModel",
      "_view_count": null,
      "_view_module": "@jupyter-widgets/controls",
      "_view_module_version": "1.5.0",
      "_view_name": "HTMLView",
      "description": "",
      "description_tooltip": null,
      "layout": "IPY_MODEL_f300f0b26c164085a4f08ac676b7733d",
      "placeholder": "​",
      "style": "IPY_MODEL_63025e6b35f74b60a142fb50355d1755",
      "value": " 0/49 [00:00&lt;?, ?it/s, loss=1.84, v_num=None, clean_train_acc_step=0.293, clean_train_loss_step=1.850, clean_val_acc=0.453, clean_val_loss=1.540, clean_train_acc_epoch=0.305, clean_train_loss_epoch=1.840]"
     }
    },
    "11a9154c1d25432d96a56d3592d279b6": {
     "model_module": "@jupyter-widgets/controls",
     "model_module_version": "1.5.0",
     "model_name": "DescriptionStyleModel",
     "state": {
      "_model_module": "@jupyter-widgets/controls",
      "_model_module_version": "1.5.0",
      "_model_name": "DescriptionStyleModel",
      "_view_count": null,
      "_view_module": "@jupyter-widgets/base",
      "_view_module_version": "1.2.0",
      "_view_name": "StyleView",
      "description_width": ""
     }
    },
    "136f167903664cc1a305d6152567b3db": {
     "model_module": "@jupyter-widgets/base",
     "model_module_version": "1.2.0",
     "model_name": "LayoutModel",
     "state": {
      "_model_module": "@jupyter-widgets/base",
      "_model_module_version": "1.2.0",
      "_model_name": "LayoutModel",
      "_view_count": null,
      "_view_module": "@jupyter-widgets/base",
      "_view_module_version": "1.2.0",
      "_view_name": "LayoutView",
      "align_content": null,
      "align_items": null,
      "align_self": null,
      "border": null,
      "bottom": null,
      "display": null,
      "flex": null,
      "flex_flow": null,
      "grid_area": null,
      "grid_auto_columns": null,
      "grid_auto_flow": null,
      "grid_auto_rows": null,
      "grid_column": null,
      "grid_gap": null,
      "grid_row": null,
      "grid_template_areas": null,
      "grid_template_columns": null,
      "grid_template_rows": null,
      "height": null,
      "justify_content": null,
      "justify_items": null,
      "left": null,
      "margin": null,
      "max_height": null,
      "max_width": null,
      "min_height": null,
      "min_width": null,
      "object_fit": null,
      "object_position": null,
      "order": null,
      "overflow": null,
      "overflow_x": null,
      "overflow_y": null,
      "padding": null,
      "right": null,
      "top": null,
      "visibility": null,
      "width": null
     }
    },
    "139fd700e5dc40e88b8ba521c05d036c": {
     "model_module": "@jupyter-widgets/controls",
     "model_module_version": "1.5.0",
     "model_name": "HBoxModel",
     "state": {
      "_dom_classes": [],
      "_model_module": "@jupyter-widgets/controls",
      "_model_module_version": "1.5.0",
      "_model_name": "HBoxModel",
      "_view_count": null,
      "_view_module": "@jupyter-widgets/controls",
      "_view_module_version": "1.5.0",
      "_view_name": "HBoxView",
      "box_style": "",
      "children": [
       "IPY_MODEL_efb25c55e9264aa9abcfe476a1590df1",
       "IPY_MODEL_9c6e2a4202f84e92aceb77c3aea142bc",
       "IPY_MODEL_43b96daf9dfa4299b6497fac08963fc2"
      ],
      "layout": "IPY_MODEL_586038ca3d9d403e869452e5cf0bc9f7"
     }
    },
    "142bd771699f40ce82e76a71f0031e21": {
     "model_module": "@jupyter-widgets/base",
     "model_module_version": "1.2.0",
     "model_name": "LayoutModel",
     "state": {
      "_model_module": "@jupyter-widgets/base",
      "_model_module_version": "1.2.0",
      "_model_name": "LayoutModel",
      "_view_count": null,
      "_view_module": "@jupyter-widgets/base",
      "_view_module_version": "1.2.0",
      "_view_name": "LayoutView",
      "align_content": null,
      "align_items": null,
      "align_self": null,
      "border": null,
      "bottom": null,
      "display": "inline-flex",
      "flex": null,
      "flex_flow": "row wrap",
      "grid_area": null,
      "grid_auto_columns": null,
      "grid_auto_flow": null,
      "grid_auto_rows": null,
      "grid_column": null,
      "grid_gap": null,
      "grid_row": null,
      "grid_template_areas": null,
      "grid_template_columns": null,
      "grid_template_rows": null,
      "height": null,
      "justify_content": null,
      "justify_items": null,
      "left": null,
      "margin": null,
      "max_height": null,
      "max_width": null,
      "min_height": null,
      "min_width": null,
      "object_fit": null,
      "object_position": null,
      "order": null,
      "overflow": null,
      "overflow_x": null,
      "overflow_y": null,
      "padding": null,
      "right": null,
      "top": null,
      "visibility": "hidden",
      "width": "100%"
     }
    },
    "15d539ce0ead4c5d8b25af072575f878": {
     "model_module": "@jupyter-widgets/controls",
     "model_module_version": "1.5.0",
     "model_name": "ProgressStyleModel",
     "state": {
      "_model_module": "@jupyter-widgets/controls",
      "_model_module_version": "1.5.0",
      "_model_name": "ProgressStyleModel",
      "_view_count": null,
      "_view_module": "@jupyter-widgets/base",
      "_view_module_version": "1.2.0",
      "_view_name": "StyleView",
      "bar_color": null,
      "description_width": ""
     }
    },
    "160b0054af4441e786f83c7fd1f72908": {
     "model_module": "@jupyter-widgets/base",
     "model_module_version": "1.2.0",
     "model_name": "LayoutModel",
     "state": {
      "_model_module": "@jupyter-widgets/base",
      "_model_module_version": "1.2.0",
      "_model_name": "LayoutModel",
      "_view_count": null,
      "_view_module": "@jupyter-widgets/base",
      "_view_module_version": "1.2.0",
      "_view_name": "LayoutView",
      "align_content": null,
      "align_items": null,
      "align_self": null,
      "border": null,
      "bottom": null,
      "display": null,
      "flex": null,
      "flex_flow": null,
      "grid_area": null,
      "grid_auto_columns": null,
      "grid_auto_flow": null,
      "grid_auto_rows": null,
      "grid_column": null,
      "grid_gap": null,
      "grid_row": null,
      "grid_template_areas": null,
      "grid_template_columns": null,
      "grid_template_rows": null,
      "height": null,
      "justify_content": null,
      "justify_items": null,
      "left": null,
      "margin": null,
      "max_height": null,
      "max_width": null,
      "min_height": null,
      "min_width": null,
      "object_fit": null,
      "object_position": null,
      "order": null,
      "overflow": null,
      "overflow_x": null,
      "overflow_y": null,
      "padding": null,
      "right": null,
      "top": null,
      "visibility": null,
      "width": null
     }
    },
    "181090bd44064a4194903ac1f91ebde5": {
     "model_module": "@jupyter-widgets/controls",
     "model_module_version": "1.5.0",
     "model_name": "HTMLModel",
     "state": {
      "_dom_classes": [],
      "_model_module": "@jupyter-widgets/controls",
      "_model_module_version": "1.5.0",
      "_model_name": "HTMLModel",
      "_view_count": null,
      "_view_module": "@jupyter-widgets/controls",
      "_view_module_version": "1.5.0",
      "_view_name": "HTMLView",
      "description": "",
      "description_tooltip": null,
      "layout": "IPY_MODEL_8cb77b0f6d6944dfad76c65bbe29cd9c",
      "placeholder": "​",
      "style": "IPY_MODEL_e76f11b3e7ea4ec0b48e418ce5f18521",
      "value": "Validation DataLoader 0: 100%"
     }
    },
    "18515b3ea04f474abc1786a7481d2c06": {
     "model_module": "@jupyter-widgets/base",
     "model_module_version": "1.2.0",
     "model_name": "LayoutModel",
     "state": {
      "_model_module": "@jupyter-widgets/base",
      "_model_module_version": "1.2.0",
      "_model_name": "LayoutModel",
      "_view_count": null,
      "_view_module": "@jupyter-widgets/base",
      "_view_module_version": "1.2.0",
      "_view_name": "LayoutView",
      "align_content": null,
      "align_items": null,
      "align_self": null,
      "border": null,
      "bottom": null,
      "display": null,
      "flex": null,
      "flex_flow": null,
      "grid_area": null,
      "grid_auto_columns": null,
      "grid_auto_flow": null,
      "grid_auto_rows": null,
      "grid_column": null,
      "grid_gap": null,
      "grid_row": null,
      "grid_template_areas": null,
      "grid_template_columns": null,
      "grid_template_rows": null,
      "height": null,
      "justify_content": null,
      "justify_items": null,
      "left": null,
      "margin": null,
      "max_height": null,
      "max_width": null,
      "min_height": null,
      "min_width": null,
      "object_fit": null,
      "object_position": null,
      "order": null,
      "overflow": null,
      "overflow_x": null,
      "overflow_y": null,
      "padding": null,
      "right": null,
      "top": null,
      "visibility": null,
      "width": null
     }
    },
    "188df5f6e2ee4fedade20644d903b55f": {
     "model_module": "@jupyter-widgets/controls",
     "model_module_version": "1.5.0",
     "model_name": "DescriptionStyleModel",
     "state": {
      "_model_module": "@jupyter-widgets/controls",
      "_model_module_version": "1.5.0",
      "_model_name": "DescriptionStyleModel",
      "_view_count": null,
      "_view_module": "@jupyter-widgets/base",
      "_view_module_version": "1.2.0",
      "_view_name": "StyleView",
      "description_width": ""
     }
    },
    "1a2f585628f7451198dc18b9bde7c65d": {
     "model_module": "@jupyter-widgets/controls",
     "model_module_version": "1.5.0",
     "model_name": "ProgressStyleModel",
     "state": {
      "_model_module": "@jupyter-widgets/controls",
      "_model_module_version": "1.5.0",
      "_model_name": "ProgressStyleModel",
      "_view_count": null,
      "_view_module": "@jupyter-widgets/base",
      "_view_module_version": "1.2.0",
      "_view_name": "StyleView",
      "bar_color": null,
      "description_width": ""
     }
    },
    "1ab2ca7ae26c4448b8bf7721730f28b3": {
     "model_module": "@jupyter-widgets/base",
     "model_module_version": "1.2.0",
     "model_name": "LayoutModel",
     "state": {
      "_model_module": "@jupyter-widgets/base",
      "_model_module_version": "1.2.0",
      "_model_name": "LayoutModel",
      "_view_count": null,
      "_view_module": "@jupyter-widgets/base",
      "_view_module_version": "1.2.0",
      "_view_name": "LayoutView",
      "align_content": null,
      "align_items": null,
      "align_self": null,
      "border": null,
      "bottom": null,
      "display": null,
      "flex": null,
      "flex_flow": null,
      "grid_area": null,
      "grid_auto_columns": null,
      "grid_auto_flow": null,
      "grid_auto_rows": null,
      "grid_column": null,
      "grid_gap": null,
      "grid_row": null,
      "grid_template_areas": null,
      "grid_template_columns": null,
      "grid_template_rows": null,
      "height": null,
      "justify_content": null,
      "justify_items": null,
      "left": null,
      "margin": null,
      "max_height": null,
      "max_width": null,
      "min_height": null,
      "min_width": null,
      "object_fit": null,
      "object_position": null,
      "order": null,
      "overflow": null,
      "overflow_x": null,
      "overflow_y": null,
      "padding": null,
      "right": null,
      "top": null,
      "visibility": null,
      "width": null
     }
    },
    "1b2dc79d7d894e70b50fccd09f470324": {
     "model_module": "@jupyter-widgets/base",
     "model_module_version": "1.2.0",
     "model_name": "LayoutModel",
     "state": {
      "_model_module": "@jupyter-widgets/base",
      "_model_module_version": "1.2.0",
      "_model_name": "LayoutModel",
      "_view_count": null,
      "_view_module": "@jupyter-widgets/base",
      "_view_module_version": "1.2.0",
      "_view_name": "LayoutView",
      "align_content": null,
      "align_items": null,
      "align_self": null,
      "border": null,
      "bottom": null,
      "display": null,
      "flex": null,
      "flex_flow": null,
      "grid_area": null,
      "grid_auto_columns": null,
      "grid_auto_flow": null,
      "grid_auto_rows": null,
      "grid_column": null,
      "grid_gap": null,
      "grid_row": null,
      "grid_template_areas": null,
      "grid_template_columns": null,
      "grid_template_rows": null,
      "height": null,
      "justify_content": null,
      "justify_items": null,
      "left": null,
      "margin": null,
      "max_height": null,
      "max_width": null,
      "min_height": null,
      "min_width": null,
      "object_fit": null,
      "object_position": null,
      "order": null,
      "overflow": null,
      "overflow_x": null,
      "overflow_y": null,
      "padding": null,
      "right": null,
      "top": null,
      "visibility": null,
      "width": null
     }
    },
    "1d239b20a2e64e448520dbfd5d74b9de": {
     "model_module": "@jupyter-widgets/controls",
     "model_module_version": "1.5.0",
     "model_name": "ProgressStyleModel",
     "state": {
      "_model_module": "@jupyter-widgets/controls",
      "_model_module_version": "1.5.0",
      "_model_name": "ProgressStyleModel",
      "_view_count": null,
      "_view_module": "@jupyter-widgets/base",
      "_view_module_version": "1.2.0",
      "_view_name": "StyleView",
      "bar_color": null,
      "description_width": ""
     }
    },
    "1d44bb29153c4bec8f9c62935e248f8c": {
     "model_module": "@jupyter-widgets/controls",
     "model_module_version": "1.5.0",
     "model_name": "HBoxModel",
     "state": {
      "_dom_classes": [],
      "_model_module": "@jupyter-widgets/controls",
      "_model_module_version": "1.5.0",
      "_model_name": "HBoxModel",
      "_view_count": null,
      "_view_module": "@jupyter-widgets/controls",
      "_view_module_version": "1.5.0",
      "_view_name": "HBoxView",
      "box_style": "",
      "children": [
       "IPY_MODEL_9d8fa59c84cf4673accf7e69b22618a2",
       "IPY_MODEL_2f7104dc1f2f4ac092ce798bc7037f14",
       "IPY_MODEL_c40e792f6d984b1faf64d5f7b8ce9867"
      ],
      "layout": "IPY_MODEL_fae811e58a094e0d97a7117eca6e9ef9"
     }
    },
    "1d59c2bcb89b4af38e49e4d85723f4ac": {
     "model_module": "@jupyter-widgets/controls",
     "model_module_version": "1.5.0",
     "model_name": "DescriptionStyleModel",
     "state": {
      "_model_module": "@jupyter-widgets/controls",
      "_model_module_version": "1.5.0",
      "_model_name": "DescriptionStyleModel",
      "_view_count": null,
      "_view_module": "@jupyter-widgets/base",
      "_view_module_version": "1.2.0",
      "_view_name": "StyleView",
      "description_width": ""
     }
    },
    "1d5d2a96e2a34e38a2fa3783a9a7a293": {
     "model_module": "@jupyter-widgets/controls",
     "model_module_version": "1.5.0",
     "model_name": "HTMLModel",
     "state": {
      "_dom_classes": [],
      "_model_module": "@jupyter-widgets/controls",
      "_model_module_version": "1.5.0",
      "_model_name": "HTMLModel",
      "_view_count": null,
      "_view_module": "@jupyter-widgets/controls",
      "_view_module_version": "1.5.0",
      "_view_name": "HTMLView",
      "description": "",
      "description_tooltip": null,
      "layout": "IPY_MODEL_e6ca10a80e0847f9a9d2492a661549be",
      "placeholder": "​",
      "style": "IPY_MODEL_11a9154c1d25432d96a56d3592d279b6",
      "value": "Validation DataLoader 0: 100%"
     }
    },
    "1d63d9388c5f441f9b91df610afe13d9": {
     "model_module": "@jupyter-widgets/controls",
     "model_module_version": "1.5.0",
     "model_name": "DescriptionStyleModel",
     "state": {
      "_model_module": "@jupyter-widgets/controls",
      "_model_module_version": "1.5.0",
      "_model_name": "DescriptionStyleModel",
      "_view_count": null,
      "_view_module": "@jupyter-widgets/base",
      "_view_module_version": "1.2.0",
      "_view_name": "StyleView",
      "description_width": ""
     }
    },
    "1e4958b407e947c0ae64c0e18a92cb9f": {
     "model_module": "@jupyter-widgets/controls",
     "model_module_version": "1.5.0",
     "model_name": "FloatProgressModel",
     "state": {
      "_dom_classes": [],
      "_model_module": "@jupyter-widgets/controls",
      "_model_module_version": "1.5.0",
      "_model_name": "FloatProgressModel",
      "_view_count": null,
      "_view_module": "@jupyter-widgets/controls",
      "_view_module_version": "1.5.0",
      "_view_name": "ProgressView",
      "bar_style": "",
      "description": "",
      "description_tooltip": null,
      "layout": "IPY_MODEL_410cd921f20a4ebf82b094319b849103",
      "max": 5,
      "min": 0,
      "orientation": "horizontal",
      "style": "IPY_MODEL_97dea354c886408496cba61f679046c2",
      "value": 5
     }
    },
    "1e93f3363ea446a7b7beb06f622da049": {
     "model_module": "@jupyter-widgets/base",
     "model_module_version": "1.2.0",
     "model_name": "LayoutModel",
     "state": {
      "_model_module": "@jupyter-widgets/base",
      "_model_module_version": "1.2.0",
      "_model_name": "LayoutModel",
      "_view_count": null,
      "_view_module": "@jupyter-widgets/base",
      "_view_module_version": "1.2.0",
      "_view_name": "LayoutView",
      "align_content": null,
      "align_items": null,
      "align_self": null,
      "border": null,
      "bottom": null,
      "display": null,
      "flex": "2",
      "flex_flow": null,
      "grid_area": null,
      "grid_auto_columns": null,
      "grid_auto_flow": null,
      "grid_auto_rows": null,
      "grid_column": null,
      "grid_gap": null,
      "grid_row": null,
      "grid_template_areas": null,
      "grid_template_columns": null,
      "grid_template_rows": null,
      "height": null,
      "justify_content": null,
      "justify_items": null,
      "left": null,
      "margin": null,
      "max_height": null,
      "max_width": null,
      "min_height": null,
      "min_width": null,
      "object_fit": null,
      "object_position": null,
      "order": null,
      "overflow": null,
      "overflow_x": null,
      "overflow_y": null,
      "padding": null,
      "right": null,
      "top": null,
      "visibility": null,
      "width": null
     }
    },
    "1fd8a23bc21c4e68b8ba7863b393d8ce": {
     "model_module": "@jupyter-widgets/controls",
     "model_module_version": "1.5.0",
     "model_name": "HTMLModel",
     "state": {
      "_dom_classes": [],
      "_model_module": "@jupyter-widgets/controls",
      "_model_module_version": "1.5.0",
      "_model_name": "HTMLModel",
      "_view_count": null,
      "_view_module": "@jupyter-widgets/controls",
      "_view_module_version": "1.5.0",
      "_view_name": "HTMLView",
      "description": "",
      "description_tooltip": null,
      "layout": "IPY_MODEL_4a47fb4e036d42dea8723210038f5eea",
      "placeholder": "​",
      "style": "IPY_MODEL_f2acb4589d4840e8ba71664e09591848",
      "value": "Validation DataLoader 0: 100%"
     }
    },
    "1fe29e4fbbbe4d839f6ed1f1a92ffd7e": {
     "model_module": "@jupyter-widgets/controls",
     "model_module_version": "1.5.0",
     "model_name": "HTMLModel",
     "state": {
      "_dom_classes": [],
      "_model_module": "@jupyter-widgets/controls",
      "_model_module_version": "1.5.0",
      "_model_name": "HTMLModel",
      "_view_count": null,
      "_view_module": "@jupyter-widgets/controls",
      "_view_module_version": "1.5.0",
      "_view_name": "HTMLView",
      "description": "",
      "description_tooltip": null,
      "layout": "IPY_MODEL_68b259acfdac4dd89d68e000c80d396a",
      "placeholder": "​",
      "style": "IPY_MODEL_9785b7feb6704d3e8cc948ab27ac5bbd",
      "value": " 5/5 [00:01&lt;00:00,  4.00it/s]"
     }
    },
    "2161d6e0489c4c80a968935ef6b9ddaf": {
     "model_module": "@jupyter-widgets/controls",
     "model_module_version": "1.5.0",
     "model_name": "HTMLModel",
     "state": {
      "_dom_classes": [],
      "_model_module": "@jupyter-widgets/controls",
      "_model_module_version": "1.5.0",
      "_model_name": "HTMLModel",
      "_view_count": null,
      "_view_module": "@jupyter-widgets/controls",
      "_view_module_version": "1.5.0",
      "_view_name": "HTMLView",
      "description": "",
      "description_tooltip": null,
      "layout": "IPY_MODEL_c571891a213244fca42e501fe02f1436",
      "placeholder": "​",
      "style": "IPY_MODEL_5f1c39cff1364af28459fb3cf9c00db5",
      "value": " 5/5 [00:01&lt;00:00,  3.99it/s]"
     }
    },
    "21942ec409ba40ff91141a24a880ac12": {
     "model_module": "@jupyter-widgets/controls",
     "model_module_version": "1.5.0",
     "model_name": "DescriptionStyleModel",
     "state": {
      "_model_module": "@jupyter-widgets/controls",
      "_model_module_version": "1.5.0",
      "_model_name": "DescriptionStyleModel",
      "_view_count": null,
      "_view_module": "@jupyter-widgets/base",
      "_view_module_version": "1.2.0",
      "_view_name": "StyleView",
      "description_width": ""
     }
    },
    "21954171ea5a4a168f0caede02d5fff6": {
     "model_module": "@jupyter-widgets/base",
     "model_module_version": "1.2.0",
     "model_name": "LayoutModel",
     "state": {
      "_model_module": "@jupyter-widgets/base",
      "_model_module_version": "1.2.0",
      "_model_name": "LayoutModel",
      "_view_count": null,
      "_view_module": "@jupyter-widgets/base",
      "_view_module_version": "1.2.0",
      "_view_name": "LayoutView",
      "align_content": null,
      "align_items": null,
      "align_self": null,
      "border": null,
      "bottom": null,
      "display": null,
      "flex": "2",
      "flex_flow": null,
      "grid_area": null,
      "grid_auto_columns": null,
      "grid_auto_flow": null,
      "grid_auto_rows": null,
      "grid_column": null,
      "grid_gap": null,
      "grid_row": null,
      "grid_template_areas": null,
      "grid_template_columns": null,
      "grid_template_rows": null,
      "height": null,
      "justify_content": null,
      "justify_items": null,
      "left": null,
      "margin": null,
      "max_height": null,
      "max_width": null,
      "min_height": null,
      "min_width": null,
      "object_fit": null,
      "object_position": null,
      "order": null,
      "overflow": null,
      "overflow_x": null,
      "overflow_y": null,
      "padding": null,
      "right": null,
      "top": null,
      "visibility": null,
      "width": null
     }
    },
    "21ef7cf7ecba4a68bd2d2eaf57605e75": {
     "model_module": "@jupyter-widgets/controls",
     "model_module_version": "1.5.0",
     "model_name": "FloatProgressModel",
     "state": {
      "_dom_classes": [],
      "_model_module": "@jupyter-widgets/controls",
      "_model_module_version": "1.5.0",
      "_model_name": "FloatProgressModel",
      "_view_count": null,
      "_view_module": "@jupyter-widgets/controls",
      "_view_module_version": "1.5.0",
      "_view_name": "ProgressView",
      "bar_style": "",
      "description": "",
      "description_tooltip": null,
      "layout": "IPY_MODEL_8463b8d1a4364eee809f2434d0bbad0c",
      "max": 5,
      "min": 0,
      "orientation": "horizontal",
      "style": "IPY_MODEL_ab2ac2734dbe4d5b84b5be8254669e83",
      "value": 5
     }
    },
    "232e3e5ae07d4e13b407b3ded4e2e987": {
     "model_module": "@jupyter-widgets/controls",
     "model_module_version": "1.5.0",
     "model_name": "ProgressStyleModel",
     "state": {
      "_model_module": "@jupyter-widgets/controls",
      "_model_module_version": "1.5.0",
      "_model_name": "ProgressStyleModel",
      "_view_count": null,
      "_view_module": "@jupyter-widgets/base",
      "_view_module_version": "1.2.0",
      "_view_name": "StyleView",
      "bar_color": null,
      "description_width": ""
     }
    },
    "2396ce11f45546c3b5266f42536218a6": {
     "model_module": "@jupyter-widgets/controls",
     "model_module_version": "1.5.0",
     "model_name": "DescriptionStyleModel",
     "state": {
      "_model_module": "@jupyter-widgets/controls",
      "_model_module_version": "1.5.0",
      "_model_name": "DescriptionStyleModel",
      "_view_count": null,
      "_view_module": "@jupyter-widgets/base",
      "_view_module_version": "1.2.0",
      "_view_name": "StyleView",
      "description_width": ""
     }
    },
    "243888612949479fbc6c3e82ec29a788": {
     "model_module": "@jupyter-widgets/controls",
     "model_module_version": "1.5.0",
     "model_name": "ProgressStyleModel",
     "state": {
      "_model_module": "@jupyter-widgets/controls",
      "_model_module_version": "1.5.0",
      "_model_name": "ProgressStyleModel",
      "_view_count": null,
      "_view_module": "@jupyter-widgets/base",
      "_view_module_version": "1.2.0",
      "_view_name": "StyleView",
      "bar_color": null,
      "description_width": ""
     }
    },
    "24dc63d967df42f595083d1eadcef28b": {
     "model_module": "@jupyter-widgets/base",
     "model_module_version": "1.2.0",
     "model_name": "LayoutModel",
     "state": {
      "_model_module": "@jupyter-widgets/base",
      "_model_module_version": "1.2.0",
      "_model_name": "LayoutModel",
      "_view_count": null,
      "_view_module": "@jupyter-widgets/base",
      "_view_module_version": "1.2.0",
      "_view_name": "LayoutView",
      "align_content": null,
      "align_items": null,
      "align_self": null,
      "border": null,
      "bottom": null,
      "display": null,
      "flex": "2",
      "flex_flow": null,
      "grid_area": null,
      "grid_auto_columns": null,
      "grid_auto_flow": null,
      "grid_auto_rows": null,
      "grid_column": null,
      "grid_gap": null,
      "grid_row": null,
      "grid_template_areas": null,
      "grid_template_columns": null,
      "grid_template_rows": null,
      "height": null,
      "justify_content": null,
      "justify_items": null,
      "left": null,
      "margin": null,
      "max_height": null,
      "max_width": null,
      "min_height": null,
      "min_width": null,
      "object_fit": null,
      "object_position": null,
      "order": null,
      "overflow": null,
      "overflow_x": null,
      "overflow_y": null,
      "padding": null,
      "right": null,
      "top": null,
      "visibility": null,
      "width": null
     }
    },
    "24efeee2a24d4eccb5113e9355742d99": {
     "model_module": "@jupyter-widgets/base",
     "model_module_version": "1.2.0",
     "model_name": "LayoutModel",
     "state": {
      "_model_module": "@jupyter-widgets/base",
      "_model_module_version": "1.2.0",
      "_model_name": "LayoutModel",
      "_view_count": null,
      "_view_module": "@jupyter-widgets/base",
      "_view_module_version": "1.2.0",
      "_view_name": "LayoutView",
      "align_content": null,
      "align_items": null,
      "align_self": null,
      "border": null,
      "bottom": null,
      "display": "inline-flex",
      "flex": null,
      "flex_flow": "row wrap",
      "grid_area": null,
      "grid_auto_columns": null,
      "grid_auto_flow": null,
      "grid_auto_rows": null,
      "grid_column": null,
      "grid_gap": null,
      "grid_row": null,
      "grid_template_areas": null,
      "grid_template_columns": null,
      "grid_template_rows": null,
      "height": null,
      "justify_content": null,
      "justify_items": null,
      "left": null,
      "margin": null,
      "max_height": null,
      "max_width": null,
      "min_height": null,
      "min_width": null,
      "object_fit": null,
      "object_position": null,
      "order": null,
      "overflow": null,
      "overflow_x": null,
      "overflow_y": null,
      "padding": null,
      "right": null,
      "top": null,
      "visibility": "hidden",
      "width": "100%"
     }
    },
    "250b4fa1927d44cb81fb805a5204b1b0": {
     "model_module": "@jupyter-widgets/base",
     "model_module_version": "1.2.0",
     "model_name": "LayoutModel",
     "state": {
      "_model_module": "@jupyter-widgets/base",
      "_model_module_version": "1.2.0",
      "_model_name": "LayoutModel",
      "_view_count": null,
      "_view_module": "@jupyter-widgets/base",
      "_view_module_version": "1.2.0",
      "_view_name": "LayoutView",
      "align_content": null,
      "align_items": null,
      "align_self": null,
      "border": null,
      "bottom": null,
      "display": "inline-flex",
      "flex": null,
      "flex_flow": "row wrap",
      "grid_area": null,
      "grid_auto_columns": null,
      "grid_auto_flow": null,
      "grid_auto_rows": null,
      "grid_column": null,
      "grid_gap": null,
      "grid_row": null,
      "grid_template_areas": null,
      "grid_template_columns": null,
      "grid_template_rows": null,
      "height": null,
      "justify_content": null,
      "justify_items": null,
      "left": null,
      "margin": null,
      "max_height": null,
      "max_width": null,
      "min_height": null,
      "min_width": null,
      "object_fit": null,
      "object_position": null,
      "order": null,
      "overflow": null,
      "overflow_x": null,
      "overflow_y": null,
      "padding": null,
      "right": null,
      "top": null,
      "visibility": "hidden",
      "width": "100%"
     }
    },
    "25f3646687fe4d908b2fe116caf8ade9": {
     "model_module": "@jupyter-widgets/base",
     "model_module_version": "1.2.0",
     "model_name": "LayoutModel",
     "state": {
      "_model_module": "@jupyter-widgets/base",
      "_model_module_version": "1.2.0",
      "_model_name": "LayoutModel",
      "_view_count": null,
      "_view_module": "@jupyter-widgets/base",
      "_view_module_version": "1.2.0",
      "_view_name": "LayoutView",
      "align_content": null,
      "align_items": null,
      "align_self": null,
      "border": null,
      "bottom": null,
      "display": null,
      "flex": null,
      "flex_flow": null,
      "grid_area": null,
      "grid_auto_columns": null,
      "grid_auto_flow": null,
      "grid_auto_rows": null,
      "grid_column": null,
      "grid_gap": null,
      "grid_row": null,
      "grid_template_areas": null,
      "grid_template_columns": null,
      "grid_template_rows": null,
      "height": null,
      "justify_content": null,
      "justify_items": null,
      "left": null,
      "margin": null,
      "max_height": null,
      "max_width": null,
      "min_height": null,
      "min_width": null,
      "object_fit": null,
      "object_position": null,
      "order": null,
      "overflow": null,
      "overflow_x": null,
      "overflow_y": null,
      "padding": null,
      "right": null,
      "top": null,
      "visibility": null,
      "width": null
     }
    },
    "262a3f60a5254adebfed0c6cf6692638": {
     "model_module": "@jupyter-widgets/base",
     "model_module_version": "1.2.0",
     "model_name": "LayoutModel",
     "state": {
      "_model_module": "@jupyter-widgets/base",
      "_model_module_version": "1.2.0",
      "_model_name": "LayoutModel",
      "_view_count": null,
      "_view_module": "@jupyter-widgets/base",
      "_view_module_version": "1.2.0",
      "_view_name": "LayoutView",
      "align_content": null,
      "align_items": null,
      "align_self": null,
      "border": null,
      "bottom": null,
      "display": null,
      "flex": null,
      "flex_flow": null,
      "grid_area": null,
      "grid_auto_columns": null,
      "grid_auto_flow": null,
      "grid_auto_rows": null,
      "grid_column": null,
      "grid_gap": null,
      "grid_row": null,
      "grid_template_areas": null,
      "grid_template_columns": null,
      "grid_template_rows": null,
      "height": null,
      "justify_content": null,
      "justify_items": null,
      "left": null,
      "margin": null,
      "max_height": null,
      "max_width": null,
      "min_height": null,
      "min_width": null,
      "object_fit": null,
      "object_position": null,
      "order": null,
      "overflow": null,
      "overflow_x": null,
      "overflow_y": null,
      "padding": null,
      "right": null,
      "top": null,
      "visibility": null,
      "width": null
     }
    },
    "264265be1229421bbbb5ba6c7f2bffd1": {
     "model_module": "@jupyter-widgets/controls",
     "model_module_version": "1.5.0",
     "model_name": "HTMLModel",
     "state": {
      "_dom_classes": [],
      "_model_module": "@jupyter-widgets/controls",
      "_model_module_version": "1.5.0",
      "_model_name": "HTMLModel",
      "_view_count": null,
      "_view_module": "@jupyter-widgets/controls",
      "_view_module_version": "1.5.0",
      "_view_name": "HTMLView",
      "description": "",
      "description_tooltip": null,
      "layout": "IPY_MODEL_4fa82e0b2d654278a5304c75e1eca148",
      "placeholder": "​",
      "style": "IPY_MODEL_1d63d9388c5f441f9b91df610afe13d9",
      "value": "Validation DataLoader 0: 100%"
     }
    },
    "27295385e2b34b77844a98c05e4d8c37": {
     "model_module": "@jupyter-widgets/controls",
     "model_module_version": "1.5.0",
     "model_name": "DescriptionStyleModel",
     "state": {
      "_model_module": "@jupyter-widgets/controls",
      "_model_module_version": "1.5.0",
      "_model_name": "DescriptionStyleModel",
      "_view_count": null,
      "_view_module": "@jupyter-widgets/base",
      "_view_module_version": "1.2.0",
      "_view_name": "StyleView",
      "description_width": ""
     }
    },
    "2744923e6a6d405fa43cbd41fe97885c": {
     "model_module": "@jupyter-widgets/base",
     "model_module_version": "1.2.0",
     "model_name": "LayoutModel",
     "state": {
      "_model_module": "@jupyter-widgets/base",
      "_model_module_version": "1.2.0",
      "_model_name": "LayoutModel",
      "_view_count": null,
      "_view_module": "@jupyter-widgets/base",
      "_view_module_version": "1.2.0",
      "_view_name": "LayoutView",
      "align_content": null,
      "align_items": null,
      "align_self": null,
      "border": null,
      "bottom": null,
      "display": null,
      "flex": null,
      "flex_flow": null,
      "grid_area": null,
      "grid_auto_columns": null,
      "grid_auto_flow": null,
      "grid_auto_rows": null,
      "grid_column": null,
      "grid_gap": null,
      "grid_row": null,
      "grid_template_areas": null,
      "grid_template_columns": null,
      "grid_template_rows": null,
      "height": null,
      "justify_content": null,
      "justify_items": null,
      "left": null,
      "margin": null,
      "max_height": null,
      "max_width": null,
      "min_height": null,
      "min_width": null,
      "object_fit": null,
      "object_position": null,
      "order": null,
      "overflow": null,
      "overflow_x": null,
      "overflow_y": null,
      "padding": null,
      "right": null,
      "top": null,
      "visibility": null,
      "width": null
     }
    },
    "2775dacbcc5047699a456895d0247133": {
     "model_module": "@jupyter-widgets/base",
     "model_module_version": "1.2.0",
     "model_name": "LayoutModel",
     "state": {
      "_model_module": "@jupyter-widgets/base",
      "_model_module_version": "1.2.0",
      "_model_name": "LayoutModel",
      "_view_count": null,
      "_view_module": "@jupyter-widgets/base",
      "_view_module_version": "1.2.0",
      "_view_name": "LayoutView",
      "align_content": null,
      "align_items": null,
      "align_self": null,
      "border": null,
      "bottom": null,
      "display": "inline-flex",
      "flex": null,
      "flex_flow": "row wrap",
      "grid_area": null,
      "grid_auto_columns": null,
      "grid_auto_flow": null,
      "grid_auto_rows": null,
      "grid_column": null,
      "grid_gap": null,
      "grid_row": null,
      "grid_template_areas": null,
      "grid_template_columns": null,
      "grid_template_rows": null,
      "height": null,
      "justify_content": null,
      "justify_items": null,
      "left": null,
      "margin": null,
      "max_height": null,
      "max_width": null,
      "min_height": null,
      "min_width": null,
      "object_fit": null,
      "object_position": null,
      "order": null,
      "overflow": null,
      "overflow_x": null,
      "overflow_y": null,
      "padding": null,
      "right": null,
      "top": null,
      "visibility": "hidden",
      "width": "100%"
     }
    },
    "278a561711a04d508baac180aea024d7": {
     "model_module": "@jupyter-widgets/base",
     "model_module_version": "1.2.0",
     "model_name": "LayoutModel",
     "state": {
      "_model_module": "@jupyter-widgets/base",
      "_model_module_version": "1.2.0",
      "_model_name": "LayoutModel",
      "_view_count": null,
      "_view_module": "@jupyter-widgets/base",
      "_view_module_version": "1.2.0",
      "_view_name": "LayoutView",
      "align_content": null,
      "align_items": null,
      "align_self": null,
      "border": null,
      "bottom": null,
      "display": null,
      "flex": null,
      "flex_flow": null,
      "grid_area": null,
      "grid_auto_columns": null,
      "grid_auto_flow": null,
      "grid_auto_rows": null,
      "grid_column": null,
      "grid_gap": null,
      "grid_row": null,
      "grid_template_areas": null,
      "grid_template_columns": null,
      "grid_template_rows": null,
      "height": null,
      "justify_content": null,
      "justify_items": null,
      "left": null,
      "margin": null,
      "max_height": null,
      "max_width": null,
      "min_height": null,
      "min_width": null,
      "object_fit": null,
      "object_position": null,
      "order": null,
      "overflow": null,
      "overflow_x": null,
      "overflow_y": null,
      "padding": null,
      "right": null,
      "top": null,
      "visibility": null,
      "width": null
     }
    },
    "2837a28759a146ffa10dbfc5e09b1542": {
     "model_module": "@jupyter-widgets/base",
     "model_module_version": "1.2.0",
     "model_name": "LayoutModel",
     "state": {
      "_model_module": "@jupyter-widgets/base",
      "_model_module_version": "1.2.0",
      "_model_name": "LayoutModel",
      "_view_count": null,
      "_view_module": "@jupyter-widgets/base",
      "_view_module_version": "1.2.0",
      "_view_name": "LayoutView",
      "align_content": null,
      "align_items": null,
      "align_self": null,
      "border": null,
      "bottom": null,
      "display": null,
      "flex": "2",
      "flex_flow": null,
      "grid_area": null,
      "grid_auto_columns": null,
      "grid_auto_flow": null,
      "grid_auto_rows": null,
      "grid_column": null,
      "grid_gap": null,
      "grid_row": null,
      "grid_template_areas": null,
      "grid_template_columns": null,
      "grid_template_rows": null,
      "height": null,
      "justify_content": null,
      "justify_items": null,
      "left": null,
      "margin": null,
      "max_height": null,
      "max_width": null,
      "min_height": null,
      "min_width": null,
      "object_fit": null,
      "object_position": null,
      "order": null,
      "overflow": null,
      "overflow_x": null,
      "overflow_y": null,
      "padding": null,
      "right": null,
      "top": null,
      "visibility": null,
      "width": null
     }
    },
    "2847f48470cf45eba8223dcabe8f0251": {
     "model_module": "@jupyter-widgets/controls",
     "model_module_version": "1.5.0",
     "model_name": "HBoxModel",
     "state": {
      "_dom_classes": [],
      "_model_module": "@jupyter-widgets/controls",
      "_model_module_version": "1.5.0",
      "_model_name": "HBoxModel",
      "_view_count": null,
      "_view_module": "@jupyter-widgets/controls",
      "_view_module_version": "1.5.0",
      "_view_name": "HBoxView",
      "box_style": "",
      "children": [
       "IPY_MODEL_181090bd44064a4194903ac1f91ebde5",
       "IPY_MODEL_d8479f44c01b4b7b96ae82fec443df77",
       "IPY_MODEL_ed6b162990ea4937a5e013cd2ee4641f"
      ],
      "layout": "IPY_MODEL_142bd771699f40ce82e76a71f0031e21"
     }
    },
    "29b52eb7f7064e43a6b75a68defc56d9": {
     "model_module": "@jupyter-widgets/base",
     "model_module_version": "1.2.0",
     "model_name": "LayoutModel",
     "state": {
      "_model_module": "@jupyter-widgets/base",
      "_model_module_version": "1.2.0",
      "_model_name": "LayoutModel",
      "_view_count": null,
      "_view_module": "@jupyter-widgets/base",
      "_view_module_version": "1.2.0",
      "_view_name": "LayoutView",
      "align_content": null,
      "align_items": null,
      "align_self": null,
      "border": null,
      "bottom": null,
      "display": null,
      "flex": null,
      "flex_flow": null,
      "grid_area": null,
      "grid_auto_columns": null,
      "grid_auto_flow": null,
      "grid_auto_rows": null,
      "grid_column": null,
      "grid_gap": null,
      "grid_row": null,
      "grid_template_areas": null,
      "grid_template_columns": null,
      "grid_template_rows": null,
      "height": null,
      "justify_content": null,
      "justify_items": null,
      "left": null,
      "margin": null,
      "max_height": null,
      "max_width": null,
      "min_height": null,
      "min_width": null,
      "object_fit": null,
      "object_position": null,
      "order": null,
      "overflow": null,
      "overflow_x": null,
      "overflow_y": null,
      "padding": null,
      "right": null,
      "top": null,
      "visibility": null,
      "width": null
     }
    },
    "2beedea1ab4d43829db9aa35bf48fc95": {
     "model_module": "@jupyter-widgets/base",
     "model_module_version": "1.2.0",
     "model_name": "LayoutModel",
     "state": {
      "_model_module": "@jupyter-widgets/base",
      "_model_module_version": "1.2.0",
      "_model_name": "LayoutModel",
      "_view_count": null,
      "_view_module": "@jupyter-widgets/base",
      "_view_module_version": "1.2.0",
      "_view_name": "LayoutView",
      "align_content": null,
      "align_items": null,
      "align_self": null,
      "border": null,
      "bottom": null,
      "display": null,
      "flex": null,
      "flex_flow": null,
      "grid_area": null,
      "grid_auto_columns": null,
      "grid_auto_flow": null,
      "grid_auto_rows": null,
      "grid_column": null,
      "grid_gap": null,
      "grid_row": null,
      "grid_template_areas": null,
      "grid_template_columns": null,
      "grid_template_rows": null,
      "height": null,
      "justify_content": null,
      "justify_items": null,
      "left": null,
      "margin": null,
      "max_height": null,
      "max_width": null,
      "min_height": null,
      "min_width": null,
      "object_fit": null,
      "object_position": null,
      "order": null,
      "overflow": null,
      "overflow_x": null,
      "overflow_y": null,
      "padding": null,
      "right": null,
      "top": null,
      "visibility": null,
      "width": null
     }
    },
    "2c5446c18af14103836cf63e884a12c3": {
     "model_module": "@jupyter-widgets/controls",
     "model_module_version": "1.5.0",
     "model_name": "HTMLModel",
     "state": {
      "_dom_classes": [],
      "_model_module": "@jupyter-widgets/controls",
      "_model_module_version": "1.5.0",
      "_model_name": "HTMLModel",
      "_view_count": null,
      "_view_module": "@jupyter-widgets/controls",
      "_view_module_version": "1.5.0",
      "_view_name": "HTMLView",
      "description": "",
      "description_tooltip": null,
      "layout": "IPY_MODEL_5430fd7786294b2bae6780f59de97c55",
      "placeholder": "​",
      "style": "IPY_MODEL_f325755de3ef4efb8153bf254cf6bec4",
      "value": "Validation DataLoader 0: 100%"
     }
    },
    "2c9e24827b464e4883dce5e0a2c50953": {
     "model_module": "@jupyter-widgets/controls",
     "model_module_version": "1.5.0",
     "model_name": "HBoxModel",
     "state": {
      "_dom_classes": [],
      "_model_module": "@jupyter-widgets/controls",
      "_model_module_version": "1.5.0",
      "_model_name": "HBoxModel",
      "_view_count": null,
      "_view_module": "@jupyter-widgets/controls",
      "_view_module_version": "1.5.0",
      "_view_name": "HBoxView",
      "box_style": "",
      "children": [
       "IPY_MODEL_e8ae08bc35c046a2a7292a5c12487932",
       "IPY_MODEL_7466b26378f6410bb0a23de5a3b815d9",
       "IPY_MODEL_11023a329fd04648b20e2d74bd6494a0"
      ],
      "layout": "IPY_MODEL_8d9c8168dd6849a9a69c117be6b79fc7"
     }
    },
    "2cf095c88254427ebe89c4bdeeff0aec": {
     "model_module": "@jupyter-widgets/controls",
     "model_module_version": "1.5.0",
     "model_name": "HTMLModel",
     "state": {
      "_dom_classes": [],
      "_model_module": "@jupyter-widgets/controls",
      "_model_module_version": "1.5.0",
      "_model_name": "HTMLModel",
      "_view_count": null,
      "_view_module": "@jupyter-widgets/controls",
      "_view_module_version": "1.5.0",
      "_view_name": "HTMLView",
      "description": "",
      "description_tooltip": null,
      "layout": "IPY_MODEL_8a8c62bc988d4b6aa49cb990838b3042",
      "placeholder": "​",
      "style": "IPY_MODEL_e3e444211223414881d96f08b5a6d9b3",
      "value": "Validation DataLoader 0: 100%"
     }
    },
    "2d02af2f77004d85b1a1610c3f155a55": {
     "model_module": "@jupyter-widgets/controls",
     "model_module_version": "1.5.0",
     "model_name": "FloatProgressModel",
     "state": {
      "_dom_classes": [],
      "_model_module": "@jupyter-widgets/controls",
      "_model_module_version": "1.5.0",
      "_model_name": "FloatProgressModel",
      "_view_count": null,
      "_view_module": "@jupyter-widgets/controls",
      "_view_module_version": "1.5.0",
      "_view_name": "ProgressView",
      "bar_style": "",
      "description": "",
      "description_tooltip": null,
      "layout": "IPY_MODEL_2837a28759a146ffa10dbfc5e09b1542",
      "max": 5,
      "min": 0,
      "orientation": "horizontal",
      "style": "IPY_MODEL_1d239b20a2e64e448520dbfd5d74b9de",
      "value": 5
     }
    },
    "2d98f43066834e23b6256bfc87f74c93": {
     "model_module": "@jupyter-widgets/controls",
     "model_module_version": "1.5.0",
     "model_name": "FloatProgressModel",
     "state": {
      "_dom_classes": [],
      "_model_module": "@jupyter-widgets/controls",
      "_model_module_version": "1.5.0",
      "_model_name": "FloatProgressModel",
      "_view_count": null,
      "_view_module": "@jupyter-widgets/controls",
      "_view_module_version": "1.5.0",
      "_view_name": "ProgressView",
      "bar_style": "",
      "description": "",
      "description_tooltip": null,
      "layout": "IPY_MODEL_84332c7d4fdf46a3b6fb37e8e7e00c10",
      "max": 5,
      "min": 0,
      "orientation": "horizontal",
      "style": "IPY_MODEL_ebcc8461d22343c3aeb2ca69bb81bef9",
      "value": 5
     }
    },
    "2d9a20b13db74414bc4dd71da45926cd": {
     "model_module": "@jupyter-widgets/controls",
     "model_module_version": "1.5.0",
     "model_name": "ProgressStyleModel",
     "state": {
      "_model_module": "@jupyter-widgets/controls",
      "_model_module_version": "1.5.0",
      "_model_name": "ProgressStyleModel",
      "_view_count": null,
      "_view_module": "@jupyter-widgets/base",
      "_view_module_version": "1.2.0",
      "_view_name": "StyleView",
      "bar_color": null,
      "description_width": ""
     }
    },
    "2f59ebe7b846449787eb095b4d89dba6": {
     "model_module": "@jupyter-widgets/base",
     "model_module_version": "1.2.0",
     "model_name": "LayoutModel",
     "state": {
      "_model_module": "@jupyter-widgets/base",
      "_model_module_version": "1.2.0",
      "_model_name": "LayoutModel",
      "_view_count": null,
      "_view_module": "@jupyter-widgets/base",
      "_view_module_version": "1.2.0",
      "_view_name": "LayoutView",
      "align_content": null,
      "align_items": null,
      "align_self": null,
      "border": null,
      "bottom": null,
      "display": null,
      "flex": null,
      "flex_flow": null,
      "grid_area": null,
      "grid_auto_columns": null,
      "grid_auto_flow": null,
      "grid_auto_rows": null,
      "grid_column": null,
      "grid_gap": null,
      "grid_row": null,
      "grid_template_areas": null,
      "grid_template_columns": null,
      "grid_template_rows": null,
      "height": null,
      "justify_content": null,
      "justify_items": null,
      "left": null,
      "margin": null,
      "max_height": null,
      "max_width": null,
      "min_height": null,
      "min_width": null,
      "object_fit": null,
      "object_position": null,
      "order": null,
      "overflow": null,
      "overflow_x": null,
      "overflow_y": null,
      "padding": null,
      "right": null,
      "top": null,
      "visibility": null,
      "width": null
     }
    },
    "2f6adff66e7f4b3b9d162ab0a7ada470": {
     "model_module": "@jupyter-widgets/controls",
     "model_module_version": "1.5.0",
     "model_name": "DescriptionStyleModel",
     "state": {
      "_model_module": "@jupyter-widgets/controls",
      "_model_module_version": "1.5.0",
      "_model_name": "DescriptionStyleModel",
      "_view_count": null,
      "_view_module": "@jupyter-widgets/base",
      "_view_module_version": "1.2.0",
      "_view_name": "StyleView",
      "description_width": ""
     }
    },
    "2f7104dc1f2f4ac092ce798bc7037f14": {
     "model_module": "@jupyter-widgets/controls",
     "model_module_version": "1.5.0",
     "model_name": "FloatProgressModel",
     "state": {
      "_dom_classes": [],
      "_model_module": "@jupyter-widgets/controls",
      "_model_module_version": "1.5.0",
      "_model_name": "FloatProgressModel",
      "_view_count": null,
      "_view_module": "@jupyter-widgets/controls",
      "_view_module_version": "1.5.0",
      "_view_name": "ProgressView",
      "bar_style": "",
      "description": "",
      "description_tooltip": null,
      "layout": "IPY_MODEL_ed2a9fc7126140cabd1cbd63f1a2a4aa",
      "max": 5,
      "min": 0,
      "orientation": "horizontal",
      "style": "IPY_MODEL_64c29f538a314c90ac37a29c2e3cc6e8",
      "value": 5
     }
    },
    "304bdca2fcfa4dabbee323cfdf99aab5": {
     "model_module": "@jupyter-widgets/controls",
     "model_module_version": "1.5.0",
     "model_name": "DescriptionStyleModel",
     "state": {
      "_model_module": "@jupyter-widgets/controls",
      "_model_module_version": "1.5.0",
      "_model_name": "DescriptionStyleModel",
      "_view_count": null,
      "_view_module": "@jupyter-widgets/base",
      "_view_module_version": "1.2.0",
      "_view_name": "StyleView",
      "description_width": ""
     }
    },
    "307182085a1844a4b76fd24caec8311c": {
     "model_module": "@jupyter-widgets/controls",
     "model_module_version": "1.5.0",
     "model_name": "HTMLModel",
     "state": {
      "_dom_classes": [],
      "_model_module": "@jupyter-widgets/controls",
      "_model_module_version": "1.5.0",
      "_model_name": "HTMLModel",
      "_view_count": null,
      "_view_module": "@jupyter-widgets/controls",
      "_view_module_version": "1.5.0",
      "_view_name": "HTMLView",
      "description": "",
      "description_tooltip": null,
      "layout": "IPY_MODEL_25f3646687fe4d908b2fe116caf8ade9",
      "placeholder": "​",
      "style": "IPY_MODEL_f59f7cc379aa49519e0f5c5a30e694f6",
      "value": " 5/5 [00:01&lt;00:00,  4.01it/s]"
     }
    },
    "315d7c310a5f4f20b312c494240242b4": {
     "model_module": "@jupyter-widgets/base",
     "model_module_version": "1.2.0",
     "model_name": "LayoutModel",
     "state": {
      "_model_module": "@jupyter-widgets/base",
      "_model_module_version": "1.2.0",
      "_model_name": "LayoutModel",
      "_view_count": null,
      "_view_module": "@jupyter-widgets/base",
      "_view_module_version": "1.2.0",
      "_view_name": "LayoutView",
      "align_content": null,
      "align_items": null,
      "align_self": null,
      "border": null,
      "bottom": null,
      "display": null,
      "flex": null,
      "flex_flow": null,
      "grid_area": null,
      "grid_auto_columns": null,
      "grid_auto_flow": null,
      "grid_auto_rows": null,
      "grid_column": null,
      "grid_gap": null,
      "grid_row": null,
      "grid_template_areas": null,
      "grid_template_columns": null,
      "grid_template_rows": null,
      "height": null,
      "justify_content": null,
      "justify_items": null,
      "left": null,
      "margin": null,
      "max_height": null,
      "max_width": null,
      "min_height": null,
      "min_width": null,
      "object_fit": null,
      "object_position": null,
      "order": null,
      "overflow": null,
      "overflow_x": null,
      "overflow_y": null,
      "padding": null,
      "right": null,
      "top": null,
      "visibility": null,
      "width": null
     }
    },
    "31bfcb8929394ad0897b92662d0b16d1": {
     "model_module": "@jupyter-widgets/base",
     "model_module_version": "1.2.0",
     "model_name": "LayoutModel",
     "state": {
      "_model_module": "@jupyter-widgets/base",
      "_model_module_version": "1.2.0",
      "_model_name": "LayoutModel",
      "_view_count": null,
      "_view_module": "@jupyter-widgets/base",
      "_view_module_version": "1.2.0",
      "_view_name": "LayoutView",
      "align_content": null,
      "align_items": null,
      "align_self": null,
      "border": null,
      "bottom": null,
      "display": null,
      "flex": null,
      "flex_flow": null,
      "grid_area": null,
      "grid_auto_columns": null,
      "grid_auto_flow": null,
      "grid_auto_rows": null,
      "grid_column": null,
      "grid_gap": null,
      "grid_row": null,
      "grid_template_areas": null,
      "grid_template_columns": null,
      "grid_template_rows": null,
      "height": null,
      "justify_content": null,
      "justify_items": null,
      "left": null,
      "margin": null,
      "max_height": null,
      "max_width": null,
      "min_height": null,
      "min_width": null,
      "object_fit": null,
      "object_position": null,
      "order": null,
      "overflow": null,
      "overflow_x": null,
      "overflow_y": null,
      "padding": null,
      "right": null,
      "top": null,
      "visibility": null,
      "width": null
     }
    },
    "32128e779857430fa70b233e71295001": {
     "model_module": "@jupyter-widgets/controls",
     "model_module_version": "1.5.0",
     "model_name": "HTMLModel",
     "state": {
      "_dom_classes": [],
      "_model_module": "@jupyter-widgets/controls",
      "_model_module_version": "1.5.0",
      "_model_name": "HTMLModel",
      "_view_count": null,
      "_view_module": "@jupyter-widgets/controls",
      "_view_module_version": "1.5.0",
      "_view_name": "HTMLView",
      "description": "",
      "description_tooltip": null,
      "layout": "IPY_MODEL_7072d8e7f6b04dfdb2b006a12c97f94f",
      "placeholder": "​",
      "style": "IPY_MODEL_c90b1c4de8834f7a82e9a722da205028",
      "value": " 5/5 [00:01&lt;00:00,  4.01it/s]"
     }
    },
    "3269cbc45fd54206ac2a3506999d5845": {
     "model_module": "@jupyter-widgets/controls",
     "model_module_version": "1.5.0",
     "model_name": "DescriptionStyleModel",
     "state": {
      "_model_module": "@jupyter-widgets/controls",
      "_model_module_version": "1.5.0",
      "_model_name": "DescriptionStyleModel",
      "_view_count": null,
      "_view_module": "@jupyter-widgets/base",
      "_view_module_version": "1.2.0",
      "_view_name": "StyleView",
      "description_width": ""
     }
    },
    "3361520d307c42b6b24dfca31d3d8652": {
     "model_module": "@jupyter-widgets/controls",
     "model_module_version": "1.5.0",
     "model_name": "DescriptionStyleModel",
     "state": {
      "_model_module": "@jupyter-widgets/controls",
      "_model_module_version": "1.5.0",
      "_model_name": "DescriptionStyleModel",
      "_view_count": null,
      "_view_module": "@jupyter-widgets/base",
      "_view_module_version": "1.2.0",
      "_view_name": "StyleView",
      "description_width": ""
     }
    },
    "35b66df854204bee8a8c75a36a12472b": {
     "model_module": "@jupyter-widgets/controls",
     "model_module_version": "1.5.0",
     "model_name": "DescriptionStyleModel",
     "state": {
      "_model_module": "@jupyter-widgets/controls",
      "_model_module_version": "1.5.0",
      "_model_name": "DescriptionStyleModel",
      "_view_count": null,
      "_view_module": "@jupyter-widgets/base",
      "_view_module_version": "1.2.0",
      "_view_name": "StyleView",
      "description_width": ""
     }
    },
    "35e20acdb70c4dc1940dfd1f21b81e7f": {
     "model_module": "@jupyter-widgets/base",
     "model_module_version": "1.2.0",
     "model_name": "LayoutModel",
     "state": {
      "_model_module": "@jupyter-widgets/base",
      "_model_module_version": "1.2.0",
      "_model_name": "LayoutModel",
      "_view_count": null,
      "_view_module": "@jupyter-widgets/base",
      "_view_module_version": "1.2.0",
      "_view_name": "LayoutView",
      "align_content": null,
      "align_items": null,
      "align_self": null,
      "border": null,
      "bottom": null,
      "display": null,
      "flex": "2",
      "flex_flow": null,
      "grid_area": null,
      "grid_auto_columns": null,
      "grid_auto_flow": null,
      "grid_auto_rows": null,
      "grid_column": null,
      "grid_gap": null,
      "grid_row": null,
      "grid_template_areas": null,
      "grid_template_columns": null,
      "grid_template_rows": null,
      "height": null,
      "justify_content": null,
      "justify_items": null,
      "left": null,
      "margin": null,
      "max_height": null,
      "max_width": null,
      "min_height": null,
      "min_width": null,
      "object_fit": null,
      "object_position": null,
      "order": null,
      "overflow": null,
      "overflow_x": null,
      "overflow_y": null,
      "padding": null,
      "right": null,
      "top": null,
      "visibility": null,
      "width": null
     }
    },
    "367440c48a1b4ef6a38739d142170aa2": {
     "model_module": "@jupyter-widgets/controls",
     "model_module_version": "1.5.0",
     "model_name": "FloatProgressModel",
     "state": {
      "_dom_classes": [],
      "_model_module": "@jupyter-widgets/controls",
      "_model_module_version": "1.5.0",
      "_model_name": "FloatProgressModel",
      "_view_count": null,
      "_view_module": "@jupyter-widgets/controls",
      "_view_module_version": "1.5.0",
      "_view_name": "ProgressView",
      "bar_style": "",
      "description": "",
      "description_tooltip": null,
      "layout": "IPY_MODEL_bfde4ea9c007493ca59caae5382f36bb",
      "max": 5,
      "min": 0,
      "orientation": "horizontal",
      "style": "IPY_MODEL_976f94973aaa4be1ac50ca874db77306",
      "value": 5
     }
    },
    "369ac5264c1844e681dc4e2f99c91d6f": {
     "model_module": "@jupyter-widgets/controls",
     "model_module_version": "1.5.0",
     "model_name": "ProgressStyleModel",
     "state": {
      "_model_module": "@jupyter-widgets/controls",
      "_model_module_version": "1.5.0",
      "_model_name": "ProgressStyleModel",
      "_view_count": null,
      "_view_module": "@jupyter-widgets/base",
      "_view_module_version": "1.2.0",
      "_view_name": "StyleView",
      "bar_color": null,
      "description_width": ""
     }
    },
    "36b820e9364c4b878ab4323963483dfc": {
     "model_module": "@jupyter-widgets/controls",
     "model_module_version": "1.5.0",
     "model_name": "HBoxModel",
     "state": {
      "_dom_classes": [],
      "_model_module": "@jupyter-widgets/controls",
      "_model_module_version": "1.5.0",
      "_model_name": "HBoxModel",
      "_view_count": null,
      "_view_module": "@jupyter-widgets/controls",
      "_view_module_version": "1.5.0",
      "_view_name": "HBoxView",
      "box_style": "",
      "children": [
       "IPY_MODEL_74ddef69bd2040208e1fa8adccb0d127",
       "IPY_MODEL_b14c1d34676642e0a4e16a16155dc1cb",
       "IPY_MODEL_b813ab4dad184a85be0b140c5201ea7e"
      ],
      "layout": "IPY_MODEL_b7974f4a6663428d9f32983445757424"
     }
    },
    "36e90cd10ea74bc0ae94094206a710c6": {
     "model_module": "@jupyter-widgets/controls",
     "model_module_version": "1.5.0",
     "model_name": "HBoxModel",
     "state": {
      "_dom_classes": [],
      "_model_module": "@jupyter-widgets/controls",
      "_model_module_version": "1.5.0",
      "_model_name": "HBoxModel",
      "_view_count": null,
      "_view_module": "@jupyter-widgets/controls",
      "_view_module_version": "1.5.0",
      "_view_name": "HBoxView",
      "box_style": "",
      "children": [
       "IPY_MODEL_8bd93a2f76134f9eb0d250dafe74df26",
       "IPY_MODEL_9002d0eaca914fa8995cbd25749b1637",
       "IPY_MODEL_78aface7d9644dbca023155422e11158"
      ],
      "layout": "IPY_MODEL_a54977aa433f4e648da842134961ad0d"
     }
    },
    "37ae61c001ab4ad68bf855a42367dbac": {
     "model_module": "@jupyter-widgets/controls",
     "model_module_version": "1.5.0",
     "model_name": "DescriptionStyleModel",
     "state": {
      "_model_module": "@jupyter-widgets/controls",
      "_model_module_version": "1.5.0",
      "_model_name": "DescriptionStyleModel",
      "_view_count": null,
      "_view_module": "@jupyter-widgets/base",
      "_view_module_version": "1.2.0",
      "_view_name": "StyleView",
      "description_width": ""
     }
    },
    "37e47d9a4f4e4320823c3a05d7d5cf38": {
     "model_module": "@jupyter-widgets/controls",
     "model_module_version": "1.5.0",
     "model_name": "HTMLModel",
     "state": {
      "_dom_classes": [],
      "_model_module": "@jupyter-widgets/controls",
      "_model_module_version": "1.5.0",
      "_model_name": "HTMLModel",
      "_view_count": null,
      "_view_module": "@jupyter-widgets/controls",
      "_view_module_version": "1.5.0",
      "_view_name": "HTMLView",
      "description": "",
      "description_tooltip": null,
      "layout": "IPY_MODEL_6023cb32bfba4047a90c897efb4a6b7c",
      "placeholder": "​",
      "style": "IPY_MODEL_bb0cfebe559e48f5bcfc294a3b1d3fdf",
      "value": "Validation DataLoader 0: 100%"
     }
    },
    "3924d096251042cd80400c0cfb8aaed3": {
     "model_module": "@jupyter-widgets/controls",
     "model_module_version": "1.5.0",
     "model_name": "FloatProgressModel",
     "state": {
      "_dom_classes": [],
      "_model_module": "@jupyter-widgets/controls",
      "_model_module_version": "1.5.0",
      "_model_name": "FloatProgressModel",
      "_view_count": null,
      "_view_module": "@jupyter-widgets/controls",
      "_view_module_version": "1.5.0",
      "_view_name": "ProgressView",
      "bar_style": "",
      "description": "",
      "description_tooltip": null,
      "layout": "IPY_MODEL_b8da8869c9e34c509132dbf5dd647016",
      "max": 5,
      "min": 0,
      "orientation": "horizontal",
      "style": "IPY_MODEL_8b0705893062482ca766dc526da92ffb",
      "value": 5
     }
    },
    "396f886ed69b47208fccad9250d6681b": {
     "model_module": "@jupyter-widgets/controls",
     "model_module_version": "1.5.0",
     "model_name": "ProgressStyleModel",
     "state": {
      "_model_module": "@jupyter-widgets/controls",
      "_model_module_version": "1.5.0",
      "_model_name": "ProgressStyleModel",
      "_view_count": null,
      "_view_module": "@jupyter-widgets/base",
      "_view_module_version": "1.2.0",
      "_view_name": "StyleView",
      "bar_color": null,
      "description_width": ""
     }
    },
    "3a22dbf653514109835557f332c195f7": {
     "model_module": "@jupyter-widgets/controls",
     "model_module_version": "1.5.0",
     "model_name": "HBoxModel",
     "state": {
      "_dom_classes": [],
      "_model_module": "@jupyter-widgets/controls",
      "_model_module_version": "1.5.0",
      "_model_name": "HBoxModel",
      "_view_count": null,
      "_view_module": "@jupyter-widgets/controls",
      "_view_module_version": "1.5.0",
      "_view_name": "HBoxView",
      "box_style": "",
      "children": [
       "IPY_MODEL_9564e6c9866c445fa0af0cee834a518f",
       "IPY_MODEL_e9a2d4d0c6d64a0c8112449522d4ceec",
       "IPY_MODEL_61d541e877b2491e9ce2557877c38860"
      ],
      "layout": "IPY_MODEL_250b4fa1927d44cb81fb805a5204b1b0"
     }
    },
    "3a6b03a974fd47e2a2c3a724f425154c": {
     "model_module": "@jupyter-widgets/controls",
     "model_module_version": "1.5.0",
     "model_name": "FloatProgressModel",
     "state": {
      "_dom_classes": [],
      "_model_module": "@jupyter-widgets/controls",
      "_model_module_version": "1.5.0",
      "_model_name": "FloatProgressModel",
      "_view_count": null,
      "_view_module": "@jupyter-widgets/controls",
      "_view_module_version": "1.5.0",
      "_view_name": "ProgressView",
      "bar_style": "",
      "description": "",
      "description_tooltip": null,
      "layout": "IPY_MODEL_604c9a89b8ba41fab6d0025e92d2a4d3",
      "max": 5,
      "min": 0,
      "orientation": "horizontal",
      "style": "IPY_MODEL_a6bbfdfac328424b90c7da5fd2a9c69f",
      "value": 5
     }
    },
    "3adeeb29bc484a45ba2d21e71c4ed8b0": {
     "model_module": "@jupyter-widgets/base",
     "model_module_version": "1.2.0",
     "model_name": "LayoutModel",
     "state": {
      "_model_module": "@jupyter-widgets/base",
      "_model_module_version": "1.2.0",
      "_model_name": "LayoutModel",
      "_view_count": null,
      "_view_module": "@jupyter-widgets/base",
      "_view_module_version": "1.2.0",
      "_view_name": "LayoutView",
      "align_content": null,
      "align_items": null,
      "align_self": null,
      "border": null,
      "bottom": null,
      "display": null,
      "flex": null,
      "flex_flow": null,
      "grid_area": null,
      "grid_auto_columns": null,
      "grid_auto_flow": null,
      "grid_auto_rows": null,
      "grid_column": null,
      "grid_gap": null,
      "grid_row": null,
      "grid_template_areas": null,
      "grid_template_columns": null,
      "grid_template_rows": null,
      "height": null,
      "justify_content": null,
      "justify_items": null,
      "left": null,
      "margin": null,
      "max_height": null,
      "max_width": null,
      "min_height": null,
      "min_width": null,
      "object_fit": null,
      "object_position": null,
      "order": null,
      "overflow": null,
      "overflow_x": null,
      "overflow_y": null,
      "padding": null,
      "right": null,
      "top": null,
      "visibility": null,
      "width": null
     }
    },
    "3b7d2de2abf04e41b30e534fc4412ca4": {
     "model_module": "@jupyter-widgets/controls",
     "model_module_version": "1.5.0",
     "model_name": "ProgressStyleModel",
     "state": {
      "_model_module": "@jupyter-widgets/controls",
      "_model_module_version": "1.5.0",
      "_model_name": "ProgressStyleModel",
      "_view_count": null,
      "_view_module": "@jupyter-widgets/base",
      "_view_module_version": "1.2.0",
      "_view_name": "StyleView",
      "bar_color": null,
      "description_width": ""
     }
    },
    "3b9c243ad89945af8241f6efe1c3f380": {
     "model_module": "@jupyter-widgets/controls",
     "model_module_version": "1.5.0",
     "model_name": "DescriptionStyleModel",
     "state": {
      "_model_module": "@jupyter-widgets/controls",
      "_model_module_version": "1.5.0",
      "_model_name": "DescriptionStyleModel",
      "_view_count": null,
      "_view_module": "@jupyter-widgets/base",
      "_view_module_version": "1.2.0",
      "_view_name": "StyleView",
      "description_width": ""
     }
    },
    "3dc82a058ead468ebdd07434cd88b925": {
     "model_module": "@jupyter-widgets/base",
     "model_module_version": "1.2.0",
     "model_name": "LayoutModel",
     "state": {
      "_model_module": "@jupyter-widgets/base",
      "_model_module_version": "1.2.0",
      "_model_name": "LayoutModel",
      "_view_count": null,
      "_view_module": "@jupyter-widgets/base",
      "_view_module_version": "1.2.0",
      "_view_name": "LayoutView",
      "align_content": null,
      "align_items": null,
      "align_self": null,
      "border": null,
      "bottom": null,
      "display": "inline-flex",
      "flex": null,
      "flex_flow": "row wrap",
      "grid_area": null,
      "grid_auto_columns": null,
      "grid_auto_flow": null,
      "grid_auto_rows": null,
      "grid_column": null,
      "grid_gap": null,
      "grid_row": null,
      "grid_template_areas": null,
      "grid_template_columns": null,
      "grid_template_rows": null,
      "height": null,
      "justify_content": null,
      "justify_items": null,
      "left": null,
      "margin": null,
      "max_height": null,
      "max_width": null,
      "min_height": null,
      "min_width": null,
      "object_fit": null,
      "object_position": null,
      "order": null,
      "overflow": null,
      "overflow_x": null,
      "overflow_y": null,
      "padding": null,
      "right": null,
      "top": null,
      "visibility": "hidden",
      "width": "100%"
     }
    },
    "3e079da9e954457687bae442ff5d1034": {
     "model_module": "@jupyter-widgets/controls",
     "model_module_version": "1.5.0",
     "model_name": "DescriptionStyleModel",
     "state": {
      "_model_module": "@jupyter-widgets/controls",
      "_model_module_version": "1.5.0",
      "_model_name": "DescriptionStyleModel",
      "_view_count": null,
      "_view_module": "@jupyter-widgets/base",
      "_view_module_version": "1.2.0",
      "_view_name": "StyleView",
      "description_width": ""
     }
    },
    "3ec7db261b9443b9a944ecf748c4d00d": {
     "model_module": "@jupyter-widgets/controls",
     "model_module_version": "1.5.0",
     "model_name": "HTMLModel",
     "state": {
      "_dom_classes": [],
      "_model_module": "@jupyter-widgets/controls",
      "_model_module_version": "1.5.0",
      "_model_name": "HTMLModel",
      "_view_count": null,
      "_view_module": "@jupyter-widgets/controls",
      "_view_module_version": "1.5.0",
      "_view_name": "HTMLView",
      "description": "",
      "description_tooltip": null,
      "layout": "IPY_MODEL_504782d3e66248298365e98c96779552",
      "placeholder": "​",
      "style": "IPY_MODEL_5e7cd093b48d48b093f2593cf9951fc9",
      "value": " 5/5 [00:01&lt;00:00,  4.06it/s]"
     }
    },
    "3efe612df81c4faf8cdb7d30a53af7d8": {
     "model_module": "@jupyter-widgets/base",
     "model_module_version": "1.2.0",
     "model_name": "LayoutModel",
     "state": {
      "_model_module": "@jupyter-widgets/base",
      "_model_module_version": "1.2.0",
      "_model_name": "LayoutModel",
      "_view_count": null,
      "_view_module": "@jupyter-widgets/base",
      "_view_module_version": "1.2.0",
      "_view_name": "LayoutView",
      "align_content": null,
      "align_items": null,
      "align_self": null,
      "border": null,
      "bottom": null,
      "display": null,
      "flex": null,
      "flex_flow": null,
      "grid_area": null,
      "grid_auto_columns": null,
      "grid_auto_flow": null,
      "grid_auto_rows": null,
      "grid_column": null,
      "grid_gap": null,
      "grid_row": null,
      "grid_template_areas": null,
      "grid_template_columns": null,
      "grid_template_rows": null,
      "height": null,
      "justify_content": null,
      "justify_items": null,
      "left": null,
      "margin": null,
      "max_height": null,
      "max_width": null,
      "min_height": null,
      "min_width": null,
      "object_fit": null,
      "object_position": null,
      "order": null,
      "overflow": null,
      "overflow_x": null,
      "overflow_y": null,
      "padding": null,
      "right": null,
      "top": null,
      "visibility": null,
      "width": null
     }
    },
    "3f066440360a4d3eb597a0c087063a58": {
     "model_module": "@jupyter-widgets/controls",
     "model_module_version": "1.5.0",
     "model_name": "HTMLModel",
     "state": {
      "_dom_classes": [],
      "_model_module": "@jupyter-widgets/controls",
      "_model_module_version": "1.5.0",
      "_model_name": "HTMLModel",
      "_view_count": null,
      "_view_module": "@jupyter-widgets/controls",
      "_view_module_version": "1.5.0",
      "_view_name": "HTMLView",
      "description": "",
      "description_tooltip": null,
      "layout": "IPY_MODEL_4dc435d24d964f17bada936961d5a8e7",
      "placeholder": "​",
      "style": "IPY_MODEL_c86cc5bc4c954618aceb6926709f186c",
      "value": " 5/5 [00:01&lt;00:00,  4.11it/s]"
     }
    },
    "3f5a7b101980496e8c885c6bb9452db6": {
     "model_module": "@jupyter-widgets/controls",
     "model_module_version": "1.5.0",
     "model_name": "ProgressStyleModel",
     "state": {
      "_model_module": "@jupyter-widgets/controls",
      "_model_module_version": "1.5.0",
      "_model_name": "ProgressStyleModel",
      "_view_count": null,
      "_view_module": "@jupyter-widgets/base",
      "_view_module_version": "1.2.0",
      "_view_name": "StyleView",
      "bar_color": null,
      "description_width": ""
     }
    },
    "410cd921f20a4ebf82b094319b849103": {
     "model_module": "@jupyter-widgets/base",
     "model_module_version": "1.2.0",
     "model_name": "LayoutModel",
     "state": {
      "_model_module": "@jupyter-widgets/base",
      "_model_module_version": "1.2.0",
      "_model_name": "LayoutModel",
      "_view_count": null,
      "_view_module": "@jupyter-widgets/base",
      "_view_module_version": "1.2.0",
      "_view_name": "LayoutView",
      "align_content": null,
      "align_items": null,
      "align_self": null,
      "border": null,
      "bottom": null,
      "display": null,
      "flex": "2",
      "flex_flow": null,
      "grid_area": null,
      "grid_auto_columns": null,
      "grid_auto_flow": null,
      "grid_auto_rows": null,
      "grid_column": null,
      "grid_gap": null,
      "grid_row": null,
      "grid_template_areas": null,
      "grid_template_columns": null,
      "grid_template_rows": null,
      "height": null,
      "justify_content": null,
      "justify_items": null,
      "left": null,
      "margin": null,
      "max_height": null,
      "max_width": null,
      "min_height": null,
      "min_width": null,
      "object_fit": null,
      "object_position": null,
      "order": null,
      "overflow": null,
      "overflow_x": null,
      "overflow_y": null,
      "padding": null,
      "right": null,
      "top": null,
      "visibility": null,
      "width": null
     }
    },
    "41636b513d794b66b97953d870f7aa3b": {
     "model_module": "@jupyter-widgets/base",
     "model_module_version": "1.2.0",
     "model_name": "LayoutModel",
     "state": {
      "_model_module": "@jupyter-widgets/base",
      "_model_module_version": "1.2.0",
      "_model_name": "LayoutModel",
      "_view_count": null,
      "_view_module": "@jupyter-widgets/base",
      "_view_module_version": "1.2.0",
      "_view_name": "LayoutView",
      "align_content": null,
      "align_items": null,
      "align_self": null,
      "border": null,
      "bottom": null,
      "display": null,
      "flex": null,
      "flex_flow": null,
      "grid_area": null,
      "grid_auto_columns": null,
      "grid_auto_flow": null,
      "grid_auto_rows": null,
      "grid_column": null,
      "grid_gap": null,
      "grid_row": null,
      "grid_template_areas": null,
      "grid_template_columns": null,
      "grid_template_rows": null,
      "height": null,
      "justify_content": null,
      "justify_items": null,
      "left": null,
      "margin": null,
      "max_height": null,
      "max_width": null,
      "min_height": null,
      "min_width": null,
      "object_fit": null,
      "object_position": null,
      "order": null,
      "overflow": null,
      "overflow_x": null,
      "overflow_y": null,
      "padding": null,
      "right": null,
      "top": null,
      "visibility": null,
      "width": null
     }
    },
    "426f819681c04d0b82bb2343113291d5": {
     "model_module": "@jupyter-widgets/base",
     "model_module_version": "1.2.0",
     "model_name": "LayoutModel",
     "state": {
      "_model_module": "@jupyter-widgets/base",
      "_model_module_version": "1.2.0",
      "_model_name": "LayoutModel",
      "_view_count": null,
      "_view_module": "@jupyter-widgets/base",
      "_view_module_version": "1.2.0",
      "_view_name": "LayoutView",
      "align_content": null,
      "align_items": null,
      "align_self": null,
      "border": null,
      "bottom": null,
      "display": "inline-flex",
      "flex": null,
      "flex_flow": "row wrap",
      "grid_area": null,
      "grid_auto_columns": null,
      "grid_auto_flow": null,
      "grid_auto_rows": null,
      "grid_column": null,
      "grid_gap": null,
      "grid_row": null,
      "grid_template_areas": null,
      "grid_template_columns": null,
      "grid_template_rows": null,
      "height": null,
      "justify_content": null,
      "justify_items": null,
      "left": null,
      "margin": null,
      "max_height": null,
      "max_width": null,
      "min_height": null,
      "min_width": null,
      "object_fit": null,
      "object_position": null,
      "order": null,
      "overflow": null,
      "overflow_x": null,
      "overflow_y": null,
      "padding": null,
      "right": null,
      "top": null,
      "visibility": "hidden",
      "width": "100%"
     }
    },
    "42c8b11940b54caa92d9902bf1dc779f": {
     "model_module": "@jupyter-widgets/controls",
     "model_module_version": "1.5.0",
     "model_name": "HBoxModel",
     "state": {
      "_dom_classes": [],
      "_model_module": "@jupyter-widgets/controls",
      "_model_module_version": "1.5.0",
      "_model_name": "HBoxModel",
      "_view_count": null,
      "_view_module": "@jupyter-widgets/controls",
      "_view_module_version": "1.5.0",
      "_view_name": "HBoxView",
      "box_style": "",
      "children": [
       "IPY_MODEL_7fabbff5bcc7417c80845b9e415ea8f9",
       "IPY_MODEL_3924d096251042cd80400c0cfb8aaed3",
       "IPY_MODEL_c20ce437955e44ddba6f9cbfd0f9aac5"
      ],
      "layout": "IPY_MODEL_f8a0869905c74c9198274545c38ecf93"
     }
    },
    "42fccd221eb7493f91f211a1b55347fc": {
     "model_module": "@jupyter-widgets/base",
     "model_module_version": "1.2.0",
     "model_name": "LayoutModel",
     "state": {
      "_model_module": "@jupyter-widgets/base",
      "_model_module_version": "1.2.0",
      "_model_name": "LayoutModel",
      "_view_count": null,
      "_view_module": "@jupyter-widgets/base",
      "_view_module_version": "1.2.0",
      "_view_name": "LayoutView",
      "align_content": null,
      "align_items": null,
      "align_self": null,
      "border": null,
      "bottom": null,
      "display": null,
      "flex": null,
      "flex_flow": null,
      "grid_area": null,
      "grid_auto_columns": null,
      "grid_auto_flow": null,
      "grid_auto_rows": null,
      "grid_column": null,
      "grid_gap": null,
      "grid_row": null,
      "grid_template_areas": null,
      "grid_template_columns": null,
      "grid_template_rows": null,
      "height": null,
      "justify_content": null,
      "justify_items": null,
      "left": null,
      "margin": null,
      "max_height": null,
      "max_width": null,
      "min_height": null,
      "min_width": null,
      "object_fit": null,
      "object_position": null,
      "order": null,
      "overflow": null,
      "overflow_x": null,
      "overflow_y": null,
      "padding": null,
      "right": null,
      "top": null,
      "visibility": null,
      "width": null
     }
    },
    "432092c38d43424583880e68adf832d8": {
     "model_module": "@jupyter-widgets/base",
     "model_module_version": "1.2.0",
     "model_name": "LayoutModel",
     "state": {
      "_model_module": "@jupyter-widgets/base",
      "_model_module_version": "1.2.0",
      "_model_name": "LayoutModel",
      "_view_count": null,
      "_view_module": "@jupyter-widgets/base",
      "_view_module_version": "1.2.0",
      "_view_name": "LayoutView",
      "align_content": null,
      "align_items": null,
      "align_self": null,
      "border": null,
      "bottom": null,
      "display": null,
      "flex": null,
      "flex_flow": null,
      "grid_area": null,
      "grid_auto_columns": null,
      "grid_auto_flow": null,
      "grid_auto_rows": null,
      "grid_column": null,
      "grid_gap": null,
      "grid_row": null,
      "grid_template_areas": null,
      "grid_template_columns": null,
      "grid_template_rows": null,
      "height": null,
      "justify_content": null,
      "justify_items": null,
      "left": null,
      "margin": null,
      "max_height": null,
      "max_width": null,
      "min_height": null,
      "min_width": null,
      "object_fit": null,
      "object_position": null,
      "order": null,
      "overflow": null,
      "overflow_x": null,
      "overflow_y": null,
      "padding": null,
      "right": null,
      "top": null,
      "visibility": null,
      "width": null
     }
    },
    "4331232c250c44929a253fd43124e2a0": {
     "model_module": "@jupyter-widgets/controls",
     "model_module_version": "1.5.0",
     "model_name": "FloatProgressModel",
     "state": {
      "_dom_classes": [],
      "_model_module": "@jupyter-widgets/controls",
      "_model_module_version": "1.5.0",
      "_model_name": "FloatProgressModel",
      "_view_count": null,
      "_view_module": "@jupyter-widgets/controls",
      "_view_module_version": "1.5.0",
      "_view_name": "ProgressView",
      "bar_style": "",
      "description": "",
      "description_tooltip": null,
      "layout": "IPY_MODEL_5d39732b9cf443c5ac841040016944e8",
      "max": 5,
      "min": 0,
      "orientation": "horizontal",
      "style": "IPY_MODEL_1a2f585628f7451198dc18b9bde7c65d",
      "value": 5
     }
    },
    "435da79a1a584acea6830b4babb665b5": {
     "model_module": "@jupyter-widgets/base",
     "model_module_version": "1.2.0",
     "model_name": "LayoutModel",
     "state": {
      "_model_module": "@jupyter-widgets/base",
      "_model_module_version": "1.2.0",
      "_model_name": "LayoutModel",
      "_view_count": null,
      "_view_module": "@jupyter-widgets/base",
      "_view_module_version": "1.2.0",
      "_view_name": "LayoutView",
      "align_content": null,
      "align_items": null,
      "align_self": null,
      "border": null,
      "bottom": null,
      "display": null,
      "flex": null,
      "flex_flow": null,
      "grid_area": null,
      "grid_auto_columns": null,
      "grid_auto_flow": null,
      "grid_auto_rows": null,
      "grid_column": null,
      "grid_gap": null,
      "grid_row": null,
      "grid_template_areas": null,
      "grid_template_columns": null,
      "grid_template_rows": null,
      "height": null,
      "justify_content": null,
      "justify_items": null,
      "left": null,
      "margin": null,
      "max_height": null,
      "max_width": null,
      "min_height": null,
      "min_width": null,
      "object_fit": null,
      "object_position": null,
      "order": null,
      "overflow": null,
      "overflow_x": null,
      "overflow_y": null,
      "padding": null,
      "right": null,
      "top": null,
      "visibility": null,
      "width": null
     }
    },
    "43b96daf9dfa4299b6497fac08963fc2": {
     "model_module": "@jupyter-widgets/controls",
     "model_module_version": "1.5.0",
     "model_name": "HTMLModel",
     "state": {
      "_dom_classes": [],
      "_model_module": "@jupyter-widgets/controls",
      "_model_module_version": "1.5.0",
      "_model_name": "HTMLModel",
      "_view_count": null,
      "_view_module": "@jupyter-widgets/controls",
      "_view_module_version": "1.5.0",
      "_view_name": "HTMLView",
      "description": "",
      "description_tooltip": null,
      "layout": "IPY_MODEL_81f40352c0c6495f83ec023a98de7b33",
      "placeholder": "​",
      "style": "IPY_MODEL_788a9771aaf74b958656b18c6dc94dfc",
      "value": " 5/5 [00:01&lt;00:00,  4.00it/s]"
     }
    },
    "444d55e5b9754e7ab37bacc414d11a11": {
     "model_module": "@jupyter-widgets/base",
     "model_module_version": "1.2.0",
     "model_name": "LayoutModel",
     "state": {
      "_model_module": "@jupyter-widgets/base",
      "_model_module_version": "1.2.0",
      "_model_name": "LayoutModel",
      "_view_count": null,
      "_view_module": "@jupyter-widgets/base",
      "_view_module_version": "1.2.0",
      "_view_name": "LayoutView",
      "align_content": null,
      "align_items": null,
      "align_self": null,
      "border": null,
      "bottom": null,
      "display": "inline-flex",
      "flex": null,
      "flex_flow": "row wrap",
      "grid_area": null,
      "grid_auto_columns": null,
      "grid_auto_flow": null,
      "grid_auto_rows": null,
      "grid_column": null,
      "grid_gap": null,
      "grid_row": null,
      "grid_template_areas": null,
      "grid_template_columns": null,
      "grid_template_rows": null,
      "height": null,
      "justify_content": null,
      "justify_items": null,
      "left": null,
      "margin": null,
      "max_height": null,
      "max_width": null,
      "min_height": null,
      "min_width": null,
      "object_fit": null,
      "object_position": null,
      "order": null,
      "overflow": null,
      "overflow_x": null,
      "overflow_y": null,
      "padding": null,
      "right": null,
      "top": null,
      "visibility": "hidden",
      "width": "100%"
     }
    },
    "445832e3ff014572b85803a2733fd881": {
     "model_module": "@jupyter-widgets/controls",
     "model_module_version": "1.5.0",
     "model_name": "DescriptionStyleModel",
     "state": {
      "_model_module": "@jupyter-widgets/controls",
      "_model_module_version": "1.5.0",
      "_model_name": "DescriptionStyleModel",
      "_view_count": null,
      "_view_module": "@jupyter-widgets/base",
      "_view_module_version": "1.2.0",
      "_view_name": "StyleView",
      "description_width": ""
     }
    },
    "44a26326a0e34ddea68ecb1f559a1824": {
     "model_module": "@jupyter-widgets/base",
     "model_module_version": "1.2.0",
     "model_name": "LayoutModel",
     "state": {
      "_model_module": "@jupyter-widgets/base",
      "_model_module_version": "1.2.0",
      "_model_name": "LayoutModel",
      "_view_count": null,
      "_view_module": "@jupyter-widgets/base",
      "_view_module_version": "1.2.0",
      "_view_name": "LayoutView",
      "align_content": null,
      "align_items": null,
      "align_self": null,
      "border": null,
      "bottom": null,
      "display": null,
      "flex": null,
      "flex_flow": null,
      "grid_area": null,
      "grid_auto_columns": null,
      "grid_auto_flow": null,
      "grid_auto_rows": null,
      "grid_column": null,
      "grid_gap": null,
      "grid_row": null,
      "grid_template_areas": null,
      "grid_template_columns": null,
      "grid_template_rows": null,
      "height": null,
      "justify_content": null,
      "justify_items": null,
      "left": null,
      "margin": null,
      "max_height": null,
      "max_width": null,
      "min_height": null,
      "min_width": null,
      "object_fit": null,
      "object_position": null,
      "order": null,
      "overflow": null,
      "overflow_x": null,
      "overflow_y": null,
      "padding": null,
      "right": null,
      "top": null,
      "visibility": null,
      "width": null
     }
    },
    "44b01ff2dbfc4691bd98dc3a9fc12926": {
     "model_module": "@jupyter-widgets/controls",
     "model_module_version": "1.5.0",
     "model_name": "HTMLModel",
     "state": {
      "_dom_classes": [],
      "_model_module": "@jupyter-widgets/controls",
      "_model_module_version": "1.5.0",
      "_model_name": "HTMLModel",
      "_view_count": null,
      "_view_module": "@jupyter-widgets/controls",
      "_view_module_version": "1.5.0",
      "_view_name": "HTMLView",
      "description": "",
      "description_tooltip": null,
      "layout": "IPY_MODEL_6f4727c4dc5c496492b0e4fd78cd3335",
      "placeholder": "​",
      "style": "IPY_MODEL_37ae61c001ab4ad68bf855a42367dbac",
      "value": " 5/5 [00:01&lt;00:00,  4.04it/s]"
     }
    },
    "45051b0d7cb54d41900049d873dc2ca9": {
     "model_module": "@jupyter-widgets/controls",
     "model_module_version": "1.5.0",
     "model_name": "HTMLModel",
     "state": {
      "_dom_classes": [],
      "_model_module": "@jupyter-widgets/controls",
      "_model_module_version": "1.5.0",
      "_model_name": "HTMLModel",
      "_view_count": null,
      "_view_module": "@jupyter-widgets/controls",
      "_view_module_version": "1.5.0",
      "_view_name": "HTMLView",
      "description": "",
      "description_tooltip": null,
      "layout": "IPY_MODEL_1ab2ca7ae26c4448b8bf7721730f28b3",
      "placeholder": "​",
      "style": "IPY_MODEL_ac17ce2c53c243c092e1a97f000d6af3",
      "value": " 5/5 [00:01&lt;00:00,  4.07it/s]"
     }
    },
    "4514e06938e14fbebd16774f678ca54f": {
     "model_module": "@jupyter-widgets/controls",
     "model_module_version": "1.5.0",
     "model_name": "HBoxModel",
     "state": {
      "_dom_classes": [],
      "_model_module": "@jupyter-widgets/controls",
      "_model_module_version": "1.5.0",
      "_model_name": "HBoxModel",
      "_view_count": null,
      "_view_module": "@jupyter-widgets/controls",
      "_view_module_version": "1.5.0",
      "_view_name": "HBoxView",
      "box_style": "",
      "children": [
       "IPY_MODEL_a8e1077232e94744b98f2fd7b40cbeb4",
       "IPY_MODEL_e3e212dbea104caaa321f10edacde3e5",
       "IPY_MODEL_32128e779857430fa70b233e71295001"
      ],
      "layout": "IPY_MODEL_007f26abf1354f87930bf722aff8bf87"
     }
    },
    "46c84c6d971f46e68ba045bf8ace9033": {
     "model_module": "@jupyter-widgets/controls",
     "model_module_version": "1.5.0",
     "model_name": "DescriptionStyleModel",
     "state": {
      "_model_module": "@jupyter-widgets/controls",
      "_model_module_version": "1.5.0",
      "_model_name": "DescriptionStyleModel",
      "_view_count": null,
      "_view_module": "@jupyter-widgets/base",
      "_view_module_version": "1.2.0",
      "_view_name": "StyleView",
      "description_width": ""
     }
    },
    "46eab2d398774620ae15262cb56778d8": {
     "model_module": "@jupyter-widgets/controls",
     "model_module_version": "1.5.0",
     "model_name": "ProgressStyleModel",
     "state": {
      "_model_module": "@jupyter-widgets/controls",
      "_model_module_version": "1.5.0",
      "_model_name": "ProgressStyleModel",
      "_view_count": null,
      "_view_module": "@jupyter-widgets/base",
      "_view_module_version": "1.2.0",
      "_view_name": "StyleView",
      "bar_color": null,
      "description_width": ""
     }
    },
    "47964b01bc4644d9845295aa43e0f4b2": {
     "model_module": "@jupyter-widgets/controls",
     "model_module_version": "1.5.0",
     "model_name": "HTMLModel",
     "state": {
      "_dom_classes": [],
      "_model_module": "@jupyter-widgets/controls",
      "_model_module_version": "1.5.0",
      "_model_name": "HTMLModel",
      "_view_count": null,
      "_view_module": "@jupyter-widgets/controls",
      "_view_module_version": "1.5.0",
      "_view_name": "HTMLView",
      "description": "",
      "description_tooltip": null,
      "layout": "IPY_MODEL_fe967ffeedd24e1f89083bdd6bfb6ee7",
      "placeholder": "​",
      "style": "IPY_MODEL_ede39778212a4305bcf11fac1f52a897",
      "value": "Validation DataLoader 0: 100%"
     }
    },
    "47d6882af5e2453193b78f8db7d5ff47": {
     "model_module": "@jupyter-widgets/controls",
     "model_module_version": "1.5.0",
     "model_name": "FloatProgressModel",
     "state": {
      "_dom_classes": [],
      "_model_module": "@jupyter-widgets/controls",
      "_model_module_version": "1.5.0",
      "_model_name": "FloatProgressModel",
      "_view_count": null,
      "_view_module": "@jupyter-widgets/controls",
      "_view_module_version": "1.5.0",
      "_view_name": "ProgressView",
      "bar_style": "",
      "description": "",
      "description_tooltip": null,
      "layout": "IPY_MODEL_cca5cca3c5db4dc98cf0e53c8310b7c9",
      "max": 5,
      "min": 0,
      "orientation": "horizontal",
      "style": "IPY_MODEL_d9f7da1ab6464937a72ab924f003c38f",
      "value": 5
     }
    },
    "485ed2d693744f44a85883bb3a757295": {
     "model_module": "@jupyter-widgets/controls",
     "model_module_version": "1.5.0",
     "model_name": "HBoxModel",
     "state": {
      "_dom_classes": [],
      "_model_module": "@jupyter-widgets/controls",
      "_model_module_version": "1.5.0",
      "_model_name": "HBoxModel",
      "_view_count": null,
      "_view_module": "@jupyter-widgets/controls",
      "_view_module_version": "1.5.0",
      "_view_name": "HBoxView",
      "box_style": "",
      "children": [
       "IPY_MODEL_d3fea870e89a4c688064425bfed95079",
       "IPY_MODEL_7185a448c0e94a02a1614b7c0d19a393",
       "IPY_MODEL_60b194bbb0c74909a7d562c936e8e0f7"
      ],
      "layout": "IPY_MODEL_92b7dc5621a24349876f1c2e53a2cda4"
     }
    },
    "488d422f35e24f2fbb2db8f2c95131fb": {
     "model_module": "@jupyter-widgets/controls",
     "model_module_version": "1.5.0",
     "model_name": "HTMLModel",
     "state": {
      "_dom_classes": [],
      "_model_module": "@jupyter-widgets/controls",
      "_model_module_version": "1.5.0",
      "_model_name": "HTMLModel",
      "_view_count": null,
      "_view_module": "@jupyter-widgets/controls",
      "_view_module_version": "1.5.0",
      "_view_name": "HTMLView",
      "description": "",
      "description_tooltip": null,
      "layout": "IPY_MODEL_7a9de47127b541aa936c3d17f098f626",
      "placeholder": "​",
      "style": "IPY_MODEL_54cf1553d06f4593a43ee901c0d7e093",
      "value": "Validation DataLoader 0: 100%"
     }
    },
    "4984f4df68c64b198b31337079c3ab77": {
     "model_module": "@jupyter-widgets/controls",
     "model_module_version": "1.5.0",
     "model_name": "ProgressStyleModel",
     "state": {
      "_model_module": "@jupyter-widgets/controls",
      "_model_module_version": "1.5.0",
      "_model_name": "ProgressStyleModel",
      "_view_count": null,
      "_view_module": "@jupyter-widgets/base",
      "_view_module_version": "1.2.0",
      "_view_name": "StyleView",
      "bar_color": null,
      "description_width": ""
     }
    },
    "4a47fb4e036d42dea8723210038f5eea": {
     "model_module": "@jupyter-widgets/base",
     "model_module_version": "1.2.0",
     "model_name": "LayoutModel",
     "state": {
      "_model_module": "@jupyter-widgets/base",
      "_model_module_version": "1.2.0",
      "_model_name": "LayoutModel",
      "_view_count": null,
      "_view_module": "@jupyter-widgets/base",
      "_view_module_version": "1.2.0",
      "_view_name": "LayoutView",
      "align_content": null,
      "align_items": null,
      "align_self": null,
      "border": null,
      "bottom": null,
      "display": null,
      "flex": null,
      "flex_flow": null,
      "grid_area": null,
      "grid_auto_columns": null,
      "grid_auto_flow": null,
      "grid_auto_rows": null,
      "grid_column": null,
      "grid_gap": null,
      "grid_row": null,
      "grid_template_areas": null,
      "grid_template_columns": null,
      "grid_template_rows": null,
      "height": null,
      "justify_content": null,
      "justify_items": null,
      "left": null,
      "margin": null,
      "max_height": null,
      "max_width": null,
      "min_height": null,
      "min_width": null,
      "object_fit": null,
      "object_position": null,
      "order": null,
      "overflow": null,
      "overflow_x": null,
      "overflow_y": null,
      "padding": null,
      "right": null,
      "top": null,
      "visibility": null,
      "width": null
     }
    },
    "4c101adde46c47abac317f30860a3d77": {
     "model_module": "@jupyter-widgets/base",
     "model_module_version": "1.2.0",
     "model_name": "LayoutModel",
     "state": {
      "_model_module": "@jupyter-widgets/base",
      "_model_module_version": "1.2.0",
      "_model_name": "LayoutModel",
      "_view_count": null,
      "_view_module": "@jupyter-widgets/base",
      "_view_module_version": "1.2.0",
      "_view_name": "LayoutView",
      "align_content": null,
      "align_items": null,
      "align_self": null,
      "border": null,
      "bottom": null,
      "display": "inline-flex",
      "flex": null,
      "flex_flow": "row wrap",
      "grid_area": null,
      "grid_auto_columns": null,
      "grid_auto_flow": null,
      "grid_auto_rows": null,
      "grid_column": null,
      "grid_gap": null,
      "grid_row": null,
      "grid_template_areas": null,
      "grid_template_columns": null,
      "grid_template_rows": null,
      "height": null,
      "justify_content": null,
      "justify_items": null,
      "left": null,
      "margin": null,
      "max_height": null,
      "max_width": null,
      "min_height": null,
      "min_width": null,
      "object_fit": null,
      "object_position": null,
      "order": null,
      "overflow": null,
      "overflow_x": null,
      "overflow_y": null,
      "padding": null,
      "right": null,
      "top": null,
      "visibility": "hidden",
      "width": "100%"
     }
    },
    "4c5a911ef7924db7a628ddf10a3543a6": {
     "model_module": "@jupyter-widgets/controls",
     "model_module_version": "1.5.0",
     "model_name": "HTMLModel",
     "state": {
      "_dom_classes": [],
      "_model_module": "@jupyter-widgets/controls",
      "_model_module_version": "1.5.0",
      "_model_name": "HTMLModel",
      "_view_count": null,
      "_view_module": "@jupyter-widgets/controls",
      "_view_module_version": "1.5.0",
      "_view_name": "HTMLView",
      "description": "",
      "description_tooltip": null,
      "layout": "IPY_MODEL_cfd173b23e9d4a3b9e5cd91e7de132d7",
      "placeholder": "​",
      "style": "IPY_MODEL_9500732d231d4403a90176e3160080fd",
      "value": "Validation DataLoader 0: 100%"
     }
    },
    "4dc435d24d964f17bada936961d5a8e7": {
     "model_module": "@jupyter-widgets/base",
     "model_module_version": "1.2.0",
     "model_name": "LayoutModel",
     "state": {
      "_model_module": "@jupyter-widgets/base",
      "_model_module_version": "1.2.0",
      "_model_name": "LayoutModel",
      "_view_count": null,
      "_view_module": "@jupyter-widgets/base",
      "_view_module_version": "1.2.0",
      "_view_name": "LayoutView",
      "align_content": null,
      "align_items": null,
      "align_self": null,
      "border": null,
      "bottom": null,
      "display": null,
      "flex": null,
      "flex_flow": null,
      "grid_area": null,
      "grid_auto_columns": null,
      "grid_auto_flow": null,
      "grid_auto_rows": null,
      "grid_column": null,
      "grid_gap": null,
      "grid_row": null,
      "grid_template_areas": null,
      "grid_template_columns": null,
      "grid_template_rows": null,
      "height": null,
      "justify_content": null,
      "justify_items": null,
      "left": null,
      "margin": null,
      "max_height": null,
      "max_width": null,
      "min_height": null,
      "min_width": null,
      "object_fit": null,
      "object_position": null,
      "order": null,
      "overflow": null,
      "overflow_x": null,
      "overflow_y": null,
      "padding": null,
      "right": null,
      "top": null,
      "visibility": null,
      "width": null
     }
    },
    "4dddc35188764ae2bfd3778513eae444": {
     "model_module": "@jupyter-widgets/base",
     "model_module_version": "1.2.0",
     "model_name": "LayoutModel",
     "state": {
      "_model_module": "@jupyter-widgets/base",
      "_model_module_version": "1.2.0",
      "_model_name": "LayoutModel",
      "_view_count": null,
      "_view_module": "@jupyter-widgets/base",
      "_view_module_version": "1.2.0",
      "_view_name": "LayoutView",
      "align_content": null,
      "align_items": null,
      "align_self": null,
      "border": null,
      "bottom": null,
      "display": "inline-flex",
      "flex": null,
      "flex_flow": "row wrap",
      "grid_area": null,
      "grid_auto_columns": null,
      "grid_auto_flow": null,
      "grid_auto_rows": null,
      "grid_column": null,
      "grid_gap": null,
      "grid_row": null,
      "grid_template_areas": null,
      "grid_template_columns": null,
      "grid_template_rows": null,
      "height": null,
      "justify_content": null,
      "justify_items": null,
      "left": null,
      "margin": null,
      "max_height": null,
      "max_width": null,
      "min_height": null,
      "min_width": null,
      "object_fit": null,
      "object_position": null,
      "order": null,
      "overflow": null,
      "overflow_x": null,
      "overflow_y": null,
      "padding": null,
      "right": null,
      "top": null,
      "visibility": "hidden",
      "width": "100%"
     }
    },
    "4dec577cdc25459ab92cf86e44498418": {
     "model_module": "@jupyter-widgets/controls",
     "model_module_version": "1.5.0",
     "model_name": "DescriptionStyleModel",
     "state": {
      "_model_module": "@jupyter-widgets/controls",
      "_model_module_version": "1.5.0",
      "_model_name": "DescriptionStyleModel",
      "_view_count": null,
      "_view_module": "@jupyter-widgets/base",
      "_view_module_version": "1.2.0",
      "_view_name": "StyleView",
      "description_width": ""
     }
    },
    "4e092e00349b4191be0557c623e9a0b7": {
     "model_module": "@jupyter-widgets/base",
     "model_module_version": "1.2.0",
     "model_name": "LayoutModel",
     "state": {
      "_model_module": "@jupyter-widgets/base",
      "_model_module_version": "1.2.0",
      "_model_name": "LayoutModel",
      "_view_count": null,
      "_view_module": "@jupyter-widgets/base",
      "_view_module_version": "1.2.0",
      "_view_name": "LayoutView",
      "align_content": null,
      "align_items": null,
      "align_self": null,
      "border": null,
      "bottom": null,
      "display": null,
      "flex": null,
      "flex_flow": null,
      "grid_area": null,
      "grid_auto_columns": null,
      "grid_auto_flow": null,
      "grid_auto_rows": null,
      "grid_column": null,
      "grid_gap": null,
      "grid_row": null,
      "grid_template_areas": null,
      "grid_template_columns": null,
      "grid_template_rows": null,
      "height": null,
      "justify_content": null,
      "justify_items": null,
      "left": null,
      "margin": null,
      "max_height": null,
      "max_width": null,
      "min_height": null,
      "min_width": null,
      "object_fit": null,
      "object_position": null,
      "order": null,
      "overflow": null,
      "overflow_x": null,
      "overflow_y": null,
      "padding": null,
      "right": null,
      "top": null,
      "visibility": null,
      "width": null
     }
    },
    "4e64be8a20a7410fbbea478c3054b073": {
     "model_module": "@jupyter-widgets/controls",
     "model_module_version": "1.5.0",
     "model_name": "HTMLModel",
     "state": {
      "_dom_classes": [],
      "_model_module": "@jupyter-widgets/controls",
      "_model_module_version": "1.5.0",
      "_model_name": "HTMLModel",
      "_view_count": null,
      "_view_module": "@jupyter-widgets/controls",
      "_view_module_version": "1.5.0",
      "_view_name": "HTMLView",
      "description": "",
      "description_tooltip": null,
      "layout": "IPY_MODEL_ebec3ad832a74ba793d5396114414562",
      "placeholder": "​",
      "style": "IPY_MODEL_513478c0ef7848e19831549c916d7f6a",
      "value": " 5/5 [00:01&lt;00:00,  4.01it/s]"
     }
    },
    "4e6dda7579504a4ea3b19b64030b8e47": {
     "model_module": "@jupyter-widgets/controls",
     "model_module_version": "1.5.0",
     "model_name": "FloatProgressModel",
     "state": {
      "_dom_classes": [],
      "_model_module": "@jupyter-widgets/controls",
      "_model_module_version": "1.5.0",
      "_model_name": "FloatProgressModel",
      "_view_count": null,
      "_view_module": "@jupyter-widgets/controls",
      "_view_module_version": "1.5.0",
      "_view_name": "ProgressView",
      "bar_style": "",
      "description": "",
      "description_tooltip": null,
      "layout": "IPY_MODEL_866291b404004bc79f515b9a1eb989ee",
      "max": 5,
      "min": 0,
      "orientation": "horizontal",
      "style": "IPY_MODEL_0483e15cde6c4cc0901d012c6d0f52e8",
      "value": 5
     }
    },
    "4ead11aa65484f99931f89fa11385023": {
     "model_module": "@jupyter-widgets/controls",
     "model_module_version": "1.5.0",
     "model_name": "FloatProgressModel",
     "state": {
      "_dom_classes": [],
      "_model_module": "@jupyter-widgets/controls",
      "_model_module_version": "1.5.0",
      "_model_name": "FloatProgressModel",
      "_view_count": null,
      "_view_module": "@jupyter-widgets/controls",
      "_view_module_version": "1.5.0",
      "_view_name": "ProgressView",
      "bar_style": "",
      "description": "",
      "description_tooltip": null,
      "layout": "IPY_MODEL_21954171ea5a4a168f0caede02d5fff6",
      "max": 5,
      "min": 0,
      "orientation": "horizontal",
      "style": "IPY_MODEL_cb4eea16301346dd8575b38a11c9ad58",
      "value": 5
     }
    },
    "4fa82e0b2d654278a5304c75e1eca148": {
     "model_module": "@jupyter-widgets/base",
     "model_module_version": "1.2.0",
     "model_name": "LayoutModel",
     "state": {
      "_model_module": "@jupyter-widgets/base",
      "_model_module_version": "1.2.0",
      "_model_name": "LayoutModel",
      "_view_count": null,
      "_view_module": "@jupyter-widgets/base",
      "_view_module_version": "1.2.0",
      "_view_name": "LayoutView",
      "align_content": null,
      "align_items": null,
      "align_self": null,
      "border": null,
      "bottom": null,
      "display": null,
      "flex": null,
      "flex_flow": null,
      "grid_area": null,
      "grid_auto_columns": null,
      "grid_auto_flow": null,
      "grid_auto_rows": null,
      "grid_column": null,
      "grid_gap": null,
      "grid_row": null,
      "grid_template_areas": null,
      "grid_template_columns": null,
      "grid_template_rows": null,
      "height": null,
      "justify_content": null,
      "justify_items": null,
      "left": null,
      "margin": null,
      "max_height": null,
      "max_width": null,
      "min_height": null,
      "min_width": null,
      "object_fit": null,
      "object_position": null,
      "order": null,
      "overflow": null,
      "overflow_x": null,
      "overflow_y": null,
      "padding": null,
      "right": null,
      "top": null,
      "visibility": null,
      "width": null
     }
    },
    "504782d3e66248298365e98c96779552": {
     "model_module": "@jupyter-widgets/base",
     "model_module_version": "1.2.0",
     "model_name": "LayoutModel",
     "state": {
      "_model_module": "@jupyter-widgets/base",
      "_model_module_version": "1.2.0",
      "_model_name": "LayoutModel",
      "_view_count": null,
      "_view_module": "@jupyter-widgets/base",
      "_view_module_version": "1.2.0",
      "_view_name": "LayoutView",
      "align_content": null,
      "align_items": null,
      "align_self": null,
      "border": null,
      "bottom": null,
      "display": null,
      "flex": null,
      "flex_flow": null,
      "grid_area": null,
      "grid_auto_columns": null,
      "grid_auto_flow": null,
      "grid_auto_rows": null,
      "grid_column": null,
      "grid_gap": null,
      "grid_row": null,
      "grid_template_areas": null,
      "grid_template_columns": null,
      "grid_template_rows": null,
      "height": null,
      "justify_content": null,
      "justify_items": null,
      "left": null,
      "margin": null,
      "max_height": null,
      "max_width": null,
      "min_height": null,
      "min_width": null,
      "object_fit": null,
      "object_position": null,
      "order": null,
      "overflow": null,
      "overflow_x": null,
      "overflow_y": null,
      "padding": null,
      "right": null,
      "top": null,
      "visibility": null,
      "width": null
     }
    },
    "513478c0ef7848e19831549c916d7f6a": {
     "model_module": "@jupyter-widgets/controls",
     "model_module_version": "1.5.0",
     "model_name": "DescriptionStyleModel",
     "state": {
      "_model_module": "@jupyter-widgets/controls",
      "_model_module_version": "1.5.0",
      "_model_name": "DescriptionStyleModel",
      "_view_count": null,
      "_view_module": "@jupyter-widgets/base",
      "_view_module_version": "1.2.0",
      "_view_name": "StyleView",
      "description_width": ""
     }
    },
    "5138cff406aa42ea809b299c3587e47d": {
     "model_module": "@jupyter-widgets/controls",
     "model_module_version": "1.5.0",
     "model_name": "HBoxModel",
     "state": {
      "_dom_classes": [],
      "_model_module": "@jupyter-widgets/controls",
      "_model_module_version": "1.5.0",
      "_model_name": "HBoxModel",
      "_view_count": null,
      "_view_module": "@jupyter-widgets/controls",
      "_view_module_version": "1.5.0",
      "_view_name": "HBoxView",
      "box_style": "",
      "children": [
       "IPY_MODEL_47964b01bc4644d9845295aa43e0f4b2",
       "IPY_MODEL_5fb974108d3844869f5769fbc60ea809",
       "IPY_MODEL_0ed40799f744427c9dd4bee3ef5e9c20"
      ],
      "layout": "IPY_MODEL_426f819681c04d0b82bb2343113291d5"
     }
    },
    "51761f927a0843cea9e8d07bf0cc48cf": {
     "model_module": "@jupyter-widgets/controls",
     "model_module_version": "1.5.0",
     "model_name": "DescriptionStyleModel",
     "state": {
      "_model_module": "@jupyter-widgets/controls",
      "_model_module_version": "1.5.0",
      "_model_name": "DescriptionStyleModel",
      "_view_count": null,
      "_view_module": "@jupyter-widgets/base",
      "_view_module_version": "1.2.0",
      "_view_name": "StyleView",
      "description_width": ""
     }
    },
    "520bbbdadc4245e2ab5e4ff08aca94ba": {
     "model_module": "@jupyter-widgets/controls",
     "model_module_version": "1.5.0",
     "model_name": "DescriptionStyleModel",
     "state": {
      "_model_module": "@jupyter-widgets/controls",
      "_model_module_version": "1.5.0",
      "_model_name": "DescriptionStyleModel",
      "_view_count": null,
      "_view_module": "@jupyter-widgets/base",
      "_view_module_version": "1.2.0",
      "_view_name": "StyleView",
      "description_width": ""
     }
    },
    "5322e7357e054d778852908172f22940": {
     "model_module": "@jupyter-widgets/controls",
     "model_module_version": "1.5.0",
     "model_name": "HBoxModel",
     "state": {
      "_dom_classes": [],
      "_model_module": "@jupyter-widgets/controls",
      "_model_module_version": "1.5.0",
      "_model_name": "HBoxModel",
      "_view_count": null,
      "_view_module": "@jupyter-widgets/controls",
      "_view_module_version": "1.5.0",
      "_view_name": "HBoxView",
      "box_style": "",
      "children": [
       "IPY_MODEL_6331216d53ba4a2d82531f77de1c9d9d",
       "IPY_MODEL_9f3e88c495d9415d852e74da0f8ee9fb",
       "IPY_MODEL_ef7acba7ba8c46d59da947c182d91488"
      ],
      "layout": "IPY_MODEL_8c6f46e2352a48468670989d9e574cdc"
     }
    },
    "5430fd7786294b2bae6780f59de97c55": {
     "model_module": "@jupyter-widgets/base",
     "model_module_version": "1.2.0",
     "model_name": "LayoutModel",
     "state": {
      "_model_module": "@jupyter-widgets/base",
      "_model_module_version": "1.2.0",
      "_model_name": "LayoutModel",
      "_view_count": null,
      "_view_module": "@jupyter-widgets/base",
      "_view_module_version": "1.2.0",
      "_view_name": "LayoutView",
      "align_content": null,
      "align_items": null,
      "align_self": null,
      "border": null,
      "bottom": null,
      "display": null,
      "flex": null,
      "flex_flow": null,
      "grid_area": null,
      "grid_auto_columns": null,
      "grid_auto_flow": null,
      "grid_auto_rows": null,
      "grid_column": null,
      "grid_gap": null,
      "grid_row": null,
      "grid_template_areas": null,
      "grid_template_columns": null,
      "grid_template_rows": null,
      "height": null,
      "justify_content": null,
      "justify_items": null,
      "left": null,
      "margin": null,
      "max_height": null,
      "max_width": null,
      "min_height": null,
      "min_width": null,
      "object_fit": null,
      "object_position": null,
      "order": null,
      "overflow": null,
      "overflow_x": null,
      "overflow_y": null,
      "padding": null,
      "right": null,
      "top": null,
      "visibility": null,
      "width": null
     }
    },
    "54cf1553d06f4593a43ee901c0d7e093": {
     "model_module": "@jupyter-widgets/controls",
     "model_module_version": "1.5.0",
     "model_name": "DescriptionStyleModel",
     "state": {
      "_model_module": "@jupyter-widgets/controls",
      "_model_module_version": "1.5.0",
      "_model_name": "DescriptionStyleModel",
      "_view_count": null,
      "_view_module": "@jupyter-widgets/base",
      "_view_module_version": "1.2.0",
      "_view_name": "StyleView",
      "description_width": ""
     }
    },
    "56cd3bd243864e459dba83a9d6214ab8": {
     "model_module": "@jupyter-widgets/controls",
     "model_module_version": "1.5.0",
     "model_name": "FloatProgressModel",
     "state": {
      "_dom_classes": [],
      "_model_module": "@jupyter-widgets/controls",
      "_model_module_version": "1.5.0",
      "_model_name": "FloatProgressModel",
      "_view_count": null,
      "_view_module": "@jupyter-widgets/controls",
      "_view_module_version": "1.5.0",
      "_view_name": "ProgressView",
      "bar_style": "",
      "description": "",
      "description_tooltip": null,
      "layout": "IPY_MODEL_69e868c6533946cfbbf15dccdbc44001",
      "max": 5,
      "min": 0,
      "orientation": "horizontal",
      "style": "IPY_MODEL_d3626bfed1ac400b87d9e5e364fdc877",
      "value": 5
     }
    },
    "56d1301230e74eab85a0d0871ce81513": {
     "model_module": "@jupyter-widgets/base",
     "model_module_version": "1.2.0",
     "model_name": "LayoutModel",
     "state": {
      "_model_module": "@jupyter-widgets/base",
      "_model_module_version": "1.2.0",
      "_model_name": "LayoutModel",
      "_view_count": null,
      "_view_module": "@jupyter-widgets/base",
      "_view_module_version": "1.2.0",
      "_view_name": "LayoutView",
      "align_content": null,
      "align_items": null,
      "align_self": null,
      "border": null,
      "bottom": null,
      "display": null,
      "flex": null,
      "flex_flow": null,
      "grid_area": null,
      "grid_auto_columns": null,
      "grid_auto_flow": null,
      "grid_auto_rows": null,
      "grid_column": null,
      "grid_gap": null,
      "grid_row": null,
      "grid_template_areas": null,
      "grid_template_columns": null,
      "grid_template_rows": null,
      "height": null,
      "justify_content": null,
      "justify_items": null,
      "left": null,
      "margin": null,
      "max_height": null,
      "max_width": null,
      "min_height": null,
      "min_width": null,
      "object_fit": null,
      "object_position": null,
      "order": null,
      "overflow": null,
      "overflow_x": null,
      "overflow_y": null,
      "padding": null,
      "right": null,
      "top": null,
      "visibility": null,
      "width": null
     }
    },
    "56dacccf505d485698f343d9084709cf": {
     "model_module": "@jupyter-widgets/controls",
     "model_module_version": "1.5.0",
     "model_name": "FloatProgressModel",
     "state": {
      "_dom_classes": [],
      "_model_module": "@jupyter-widgets/controls",
      "_model_module_version": "1.5.0",
      "_model_name": "FloatProgressModel",
      "_view_count": null,
      "_view_module": "@jupyter-widgets/controls",
      "_view_module_version": "1.5.0",
      "_view_name": "ProgressView",
      "bar_style": "",
      "description": "",
      "description_tooltip": null,
      "layout": "IPY_MODEL_a3a407591b7a4c2e9b29642e7d4a709a",
      "max": 5,
      "min": 0,
      "orientation": "horizontal",
      "style": "IPY_MODEL_46eab2d398774620ae15262cb56778d8",
      "value": 5
     }
    },
    "56f01e9f72e1403c99cdd583e29867b4": {
     "model_module": "@jupyter-widgets/controls",
     "model_module_version": "1.5.0",
     "model_name": "HBoxModel",
     "state": {
      "_dom_classes": [],
      "_model_module": "@jupyter-widgets/controls",
      "_model_module_version": "1.5.0",
      "_model_name": "HBoxModel",
      "_view_count": null,
      "_view_module": "@jupyter-widgets/controls",
      "_view_module_version": "1.5.0",
      "_view_name": "HBoxView",
      "box_style": "",
      "children": [
       "IPY_MODEL_ffd642d9e6574d08b7b8730f7a679b4a",
       "IPY_MODEL_56dacccf505d485698f343d9084709cf",
       "IPY_MODEL_93ca0d69b1cc414f8b4701c55d5e8dc8"
      ],
      "layout": "IPY_MODEL_4dddc35188764ae2bfd3778513eae444"
     }
    },
    "5729f934cca3430da20bfdee16ffa94f": {
     "model_module": "@jupyter-widgets/base",
     "model_module_version": "1.2.0",
     "model_name": "LayoutModel",
     "state": {
      "_model_module": "@jupyter-widgets/base",
      "_model_module_version": "1.2.0",
      "_model_name": "LayoutModel",
      "_view_count": null,
      "_view_module": "@jupyter-widgets/base",
      "_view_module_version": "1.2.0",
      "_view_name": "LayoutView",
      "align_content": null,
      "align_items": null,
      "align_self": null,
      "border": null,
      "bottom": null,
      "display": null,
      "flex": null,
      "flex_flow": null,
      "grid_area": null,
      "grid_auto_columns": null,
      "grid_auto_flow": null,
      "grid_auto_rows": null,
      "grid_column": null,
      "grid_gap": null,
      "grid_row": null,
      "grid_template_areas": null,
      "grid_template_columns": null,
      "grid_template_rows": null,
      "height": null,
      "justify_content": null,
      "justify_items": null,
      "left": null,
      "margin": null,
      "max_height": null,
      "max_width": null,
      "min_height": null,
      "min_width": null,
      "object_fit": null,
      "object_position": null,
      "order": null,
      "overflow": null,
      "overflow_x": null,
      "overflow_y": null,
      "padding": null,
      "right": null,
      "top": null,
      "visibility": null,
      "width": null
     }
    },
    "583f637b81624117bcc4c1d423f70180": {
     "model_module": "@jupyter-widgets/base",
     "model_module_version": "1.2.0",
     "model_name": "LayoutModel",
     "state": {
      "_model_module": "@jupyter-widgets/base",
      "_model_module_version": "1.2.0",
      "_model_name": "LayoutModel",
      "_view_count": null,
      "_view_module": "@jupyter-widgets/base",
      "_view_module_version": "1.2.0",
      "_view_name": "LayoutView",
      "align_content": null,
      "align_items": null,
      "align_self": null,
      "border": null,
      "bottom": null,
      "display": null,
      "flex": null,
      "flex_flow": null,
      "grid_area": null,
      "grid_auto_columns": null,
      "grid_auto_flow": null,
      "grid_auto_rows": null,
      "grid_column": null,
      "grid_gap": null,
      "grid_row": null,
      "grid_template_areas": null,
      "grid_template_columns": null,
      "grid_template_rows": null,
      "height": null,
      "justify_content": null,
      "justify_items": null,
      "left": null,
      "margin": null,
      "max_height": null,
      "max_width": null,
      "min_height": null,
      "min_width": null,
      "object_fit": null,
      "object_position": null,
      "order": null,
      "overflow": null,
      "overflow_x": null,
      "overflow_y": null,
      "padding": null,
      "right": null,
      "top": null,
      "visibility": null,
      "width": null
     }
    },
    "586038ca3d9d403e869452e5cf0bc9f7": {
     "model_module": "@jupyter-widgets/base",
     "model_module_version": "1.2.0",
     "model_name": "LayoutModel",
     "state": {
      "_model_module": "@jupyter-widgets/base",
      "_model_module_version": "1.2.0",
      "_model_name": "LayoutModel",
      "_view_count": null,
      "_view_module": "@jupyter-widgets/base",
      "_view_module_version": "1.2.0",
      "_view_name": "LayoutView",
      "align_content": null,
      "align_items": null,
      "align_self": null,
      "border": null,
      "bottom": null,
      "display": "inline-flex",
      "flex": null,
      "flex_flow": "row wrap",
      "grid_area": null,
      "grid_auto_columns": null,
      "grid_auto_flow": null,
      "grid_auto_rows": null,
      "grid_column": null,
      "grid_gap": null,
      "grid_row": null,
      "grid_template_areas": null,
      "grid_template_columns": null,
      "grid_template_rows": null,
      "height": null,
      "justify_content": null,
      "justify_items": null,
      "left": null,
      "margin": null,
      "max_height": null,
      "max_width": null,
      "min_height": null,
      "min_width": null,
      "object_fit": null,
      "object_position": null,
      "order": null,
      "overflow": null,
      "overflow_x": null,
      "overflow_y": null,
      "padding": null,
      "right": null,
      "top": null,
      "visibility": "hidden",
      "width": "100%"
     }
    },
    "5973b91452c5418aa8de813354eefac8": {
     "model_module": "@jupyter-widgets/base",
     "model_module_version": "1.2.0",
     "model_name": "LayoutModel",
     "state": {
      "_model_module": "@jupyter-widgets/base",
      "_model_module_version": "1.2.0",
      "_model_name": "LayoutModel",
      "_view_count": null,
      "_view_module": "@jupyter-widgets/base",
      "_view_module_version": "1.2.0",
      "_view_name": "LayoutView",
      "align_content": null,
      "align_items": null,
      "align_self": null,
      "border": null,
      "bottom": null,
      "display": null,
      "flex": "2",
      "flex_flow": null,
      "grid_area": null,
      "grid_auto_columns": null,
      "grid_auto_flow": null,
      "grid_auto_rows": null,
      "grid_column": null,
      "grid_gap": null,
      "grid_row": null,
      "grid_template_areas": null,
      "grid_template_columns": null,
      "grid_template_rows": null,
      "height": null,
      "justify_content": null,
      "justify_items": null,
      "left": null,
      "margin": null,
      "max_height": null,
      "max_width": null,
      "min_height": null,
      "min_width": null,
      "object_fit": null,
      "object_position": null,
      "order": null,
      "overflow": null,
      "overflow_x": null,
      "overflow_y": null,
      "padding": null,
      "right": null,
      "top": null,
      "visibility": null,
      "width": null
     }
    },
    "59f5e01eb5b04fdb85c349de0c712d70": {
     "model_module": "@jupyter-widgets/controls",
     "model_module_version": "1.5.0",
     "model_name": "DescriptionStyleModel",
     "state": {
      "_model_module": "@jupyter-widgets/controls",
      "_model_module_version": "1.5.0",
      "_model_name": "DescriptionStyleModel",
      "_view_count": null,
      "_view_module": "@jupyter-widgets/base",
      "_view_module_version": "1.2.0",
      "_view_name": "StyleView",
      "description_width": ""
     }
    },
    "5bb6debaee234438b7dc6b7c02dd22d2": {
     "model_module": "@jupyter-widgets/base",
     "model_module_version": "1.2.0",
     "model_name": "LayoutModel",
     "state": {
      "_model_module": "@jupyter-widgets/base",
      "_model_module_version": "1.2.0",
      "_model_name": "LayoutModel",
      "_view_count": null,
      "_view_module": "@jupyter-widgets/base",
      "_view_module_version": "1.2.0",
      "_view_name": "LayoutView",
      "align_content": null,
      "align_items": null,
      "align_self": null,
      "border": null,
      "bottom": null,
      "display": "inline-flex",
      "flex": null,
      "flex_flow": "row wrap",
      "grid_area": null,
      "grid_auto_columns": null,
      "grid_auto_flow": null,
      "grid_auto_rows": null,
      "grid_column": null,
      "grid_gap": null,
      "grid_row": null,
      "grid_template_areas": null,
      "grid_template_columns": null,
      "grid_template_rows": null,
      "height": null,
      "justify_content": null,
      "justify_items": null,
      "left": null,
      "margin": null,
      "max_height": null,
      "max_width": null,
      "min_height": null,
      "min_width": null,
      "object_fit": null,
      "object_position": null,
      "order": null,
      "overflow": null,
      "overflow_x": null,
      "overflow_y": null,
      "padding": null,
      "right": null,
      "top": null,
      "visibility": "hidden",
      "width": "100%"
     }
    },
    "5c021060089045659f248646796fc038": {
     "model_module": "@jupyter-widgets/base",
     "model_module_version": "1.2.0",
     "model_name": "LayoutModel",
     "state": {
      "_model_module": "@jupyter-widgets/base",
      "_model_module_version": "1.2.0",
      "_model_name": "LayoutModel",
      "_view_count": null,
      "_view_module": "@jupyter-widgets/base",
      "_view_module_version": "1.2.0",
      "_view_name": "LayoutView",
      "align_content": null,
      "align_items": null,
      "align_self": null,
      "border": null,
      "bottom": null,
      "display": null,
      "flex": null,
      "flex_flow": null,
      "grid_area": null,
      "grid_auto_columns": null,
      "grid_auto_flow": null,
      "grid_auto_rows": null,
      "grid_column": null,
      "grid_gap": null,
      "grid_row": null,
      "grid_template_areas": null,
      "grid_template_columns": null,
      "grid_template_rows": null,
      "height": null,
      "justify_content": null,
      "justify_items": null,
      "left": null,
      "margin": null,
      "max_height": null,
      "max_width": null,
      "min_height": null,
      "min_width": null,
      "object_fit": null,
      "object_position": null,
      "order": null,
      "overflow": null,
      "overflow_x": null,
      "overflow_y": null,
      "padding": null,
      "right": null,
      "top": null,
      "visibility": null,
      "width": null
     }
    },
    "5c0654bdb08d4e61ad46c20184737417": {
     "model_module": "@jupyter-widgets/controls",
     "model_module_version": "1.5.0",
     "model_name": "DescriptionStyleModel",
     "state": {
      "_model_module": "@jupyter-widgets/controls",
      "_model_module_version": "1.5.0",
      "_model_name": "DescriptionStyleModel",
      "_view_count": null,
      "_view_module": "@jupyter-widgets/base",
      "_view_module_version": "1.2.0",
      "_view_name": "StyleView",
      "description_width": ""
     }
    },
    "5c6cd76c7034426d8cc9537c1123f419": {
     "model_module": "@jupyter-widgets/base",
     "model_module_version": "1.2.0",
     "model_name": "LayoutModel",
     "state": {
      "_model_module": "@jupyter-widgets/base",
      "_model_module_version": "1.2.0",
      "_model_name": "LayoutModel",
      "_view_count": null,
      "_view_module": "@jupyter-widgets/base",
      "_view_module_version": "1.2.0",
      "_view_name": "LayoutView",
      "align_content": null,
      "align_items": null,
      "align_self": null,
      "border": null,
      "bottom": null,
      "display": null,
      "flex": null,
      "flex_flow": null,
      "grid_area": null,
      "grid_auto_columns": null,
      "grid_auto_flow": null,
      "grid_auto_rows": null,
      "grid_column": null,
      "grid_gap": null,
      "grid_row": null,
      "grid_template_areas": null,
      "grid_template_columns": null,
      "grid_template_rows": null,
      "height": null,
      "justify_content": null,
      "justify_items": null,
      "left": null,
      "margin": null,
      "max_height": null,
      "max_width": null,
      "min_height": null,
      "min_width": null,
      "object_fit": null,
      "object_position": null,
      "order": null,
      "overflow": null,
      "overflow_x": null,
      "overflow_y": null,
      "padding": null,
      "right": null,
      "top": null,
      "visibility": null,
      "width": null
     }
    },
    "5c79d12a7f714252a58b426d2ba25ff5": {
     "model_module": "@jupyter-widgets/controls",
     "model_module_version": "1.5.0",
     "model_name": "ProgressStyleModel",
     "state": {
      "_model_module": "@jupyter-widgets/controls",
      "_model_module_version": "1.5.0",
      "_model_name": "ProgressStyleModel",
      "_view_count": null,
      "_view_module": "@jupyter-widgets/base",
      "_view_module_version": "1.2.0",
      "_view_name": "StyleView",
      "bar_color": null,
      "description_width": ""
     }
    },
    "5ca4caec5f1a4428862231e2f6eec8fe": {
     "model_module": "@jupyter-widgets/controls",
     "model_module_version": "1.5.0",
     "model_name": "FloatProgressModel",
     "state": {
      "_dom_classes": [],
      "_model_module": "@jupyter-widgets/controls",
      "_model_module_version": "1.5.0",
      "_model_name": "FloatProgressModel",
      "_view_count": null,
      "_view_module": "@jupyter-widgets/controls",
      "_view_module_version": "1.5.0",
      "_view_name": "ProgressView",
      "bar_style": "",
      "description": "",
      "description_tooltip": null,
      "layout": "IPY_MODEL_7f7bf836e30542fdb315458bc52f2d10",
      "max": 5,
      "min": 0,
      "orientation": "horizontal",
      "style": "IPY_MODEL_4984f4df68c64b198b31337079c3ab77",
      "value": 5
     }
    },
    "5d39732b9cf443c5ac841040016944e8": {
     "model_module": "@jupyter-widgets/base",
     "model_module_version": "1.2.0",
     "model_name": "LayoutModel",
     "state": {
      "_model_module": "@jupyter-widgets/base",
      "_model_module_version": "1.2.0",
      "_model_name": "LayoutModel",
      "_view_count": null,
      "_view_module": "@jupyter-widgets/base",
      "_view_module_version": "1.2.0",
      "_view_name": "LayoutView",
      "align_content": null,
      "align_items": null,
      "align_self": null,
      "border": null,
      "bottom": null,
      "display": null,
      "flex": "2",
      "flex_flow": null,
      "grid_area": null,
      "grid_auto_columns": null,
      "grid_auto_flow": null,
      "grid_auto_rows": null,
      "grid_column": null,
      "grid_gap": null,
      "grid_row": null,
      "grid_template_areas": null,
      "grid_template_columns": null,
      "grid_template_rows": null,
      "height": null,
      "justify_content": null,
      "justify_items": null,
      "left": null,
      "margin": null,
      "max_height": null,
      "max_width": null,
      "min_height": null,
      "min_width": null,
      "object_fit": null,
      "object_position": null,
      "order": null,
      "overflow": null,
      "overflow_x": null,
      "overflow_y": null,
      "padding": null,
      "right": null,
      "top": null,
      "visibility": null,
      "width": null
     }
    },
    "5d8da6bebd154986b5345cbbfe497445": {
     "model_module": "@jupyter-widgets/controls",
     "model_module_version": "1.5.0",
     "model_name": "HBoxModel",
     "state": {
      "_dom_classes": [],
      "_model_module": "@jupyter-widgets/controls",
      "_model_module_version": "1.5.0",
      "_model_name": "HBoxModel",
      "_view_count": null,
      "_view_module": "@jupyter-widgets/controls",
      "_view_module_version": "1.5.0",
      "_view_name": "HBoxView",
      "box_style": "",
      "children": [
       "IPY_MODEL_d727063354404501a8e015c1f62aeab9",
       "IPY_MODEL_b10448565e254741a676ad57f506bfae",
       "IPY_MODEL_8ab2bae0518746b98f78b5592a492c71"
      ],
      "layout": "IPY_MODEL_c90fc737e8bf442d84af58e92c43f23a"
     }
    },
    "5db005f71c964dafb6ecf7df649eaf88": {
     "model_module": "@jupyter-widgets/controls",
     "model_module_version": "1.5.0",
     "model_name": "HTMLModel",
     "state": {
      "_dom_classes": [],
      "_model_module": "@jupyter-widgets/controls",
      "_model_module_version": "1.5.0",
      "_model_name": "HTMLModel",
      "_view_count": null,
      "_view_module": "@jupyter-widgets/controls",
      "_view_module_version": "1.5.0",
      "_view_name": "HTMLView",
      "description": "",
      "description_tooltip": null,
      "layout": "IPY_MODEL_9a0f7629b33a4f35aa508b67a8fbcfad",
      "placeholder": "​",
      "style": "IPY_MODEL_09033db4eb6540c6a73c50b736ce8436",
      "value": "Validation DataLoader 0: 100%"
     }
    },
    "5e7cd093b48d48b093f2593cf9951fc9": {
     "model_module": "@jupyter-widgets/controls",
     "model_module_version": "1.5.0",
     "model_name": "DescriptionStyleModel",
     "state": {
      "_model_module": "@jupyter-widgets/controls",
      "_model_module_version": "1.5.0",
      "_model_name": "DescriptionStyleModel",
      "_view_count": null,
      "_view_module": "@jupyter-widgets/base",
      "_view_module_version": "1.2.0",
      "_view_name": "StyleView",
      "description_width": ""
     }
    },
    "5f1c39cff1364af28459fb3cf9c00db5": {
     "model_module": "@jupyter-widgets/controls",
     "model_module_version": "1.5.0",
     "model_name": "DescriptionStyleModel",
     "state": {
      "_model_module": "@jupyter-widgets/controls",
      "_model_module_version": "1.5.0",
      "_model_name": "DescriptionStyleModel",
      "_view_count": null,
      "_view_module": "@jupyter-widgets/base",
      "_view_module_version": "1.2.0",
      "_view_name": "StyleView",
      "description_width": ""
     }
    },
    "5f6a338373124c2ea5030f3ad260554f": {
     "model_module": "@jupyter-widgets/base",
     "model_module_version": "1.2.0",
     "model_name": "LayoutModel",
     "state": {
      "_model_module": "@jupyter-widgets/base",
      "_model_module_version": "1.2.0",
      "_model_name": "LayoutModel",
      "_view_count": null,
      "_view_module": "@jupyter-widgets/base",
      "_view_module_version": "1.2.0",
      "_view_name": "LayoutView",
      "align_content": null,
      "align_items": null,
      "align_self": null,
      "border": null,
      "bottom": null,
      "display": null,
      "flex": "2",
      "flex_flow": null,
      "grid_area": null,
      "grid_auto_columns": null,
      "grid_auto_flow": null,
      "grid_auto_rows": null,
      "grid_column": null,
      "grid_gap": null,
      "grid_row": null,
      "grid_template_areas": null,
      "grid_template_columns": null,
      "grid_template_rows": null,
      "height": null,
      "justify_content": null,
      "justify_items": null,
      "left": null,
      "margin": null,
      "max_height": null,
      "max_width": null,
      "min_height": null,
      "min_width": null,
      "object_fit": null,
      "object_position": null,
      "order": null,
      "overflow": null,
      "overflow_x": null,
      "overflow_y": null,
      "padding": null,
      "right": null,
      "top": null,
      "visibility": null,
      "width": null
     }
    },
    "5fb974108d3844869f5769fbc60ea809": {
     "model_module": "@jupyter-widgets/controls",
     "model_module_version": "1.5.0",
     "model_name": "FloatProgressModel",
     "state": {
      "_dom_classes": [],
      "_model_module": "@jupyter-widgets/controls",
      "_model_module_version": "1.5.0",
      "_model_name": "FloatProgressModel",
      "_view_count": null,
      "_view_module": "@jupyter-widgets/controls",
      "_view_module_version": "1.5.0",
      "_view_name": "ProgressView",
      "bar_style": "",
      "description": "",
      "description_tooltip": null,
      "layout": "IPY_MODEL_c4b97e0f183647069cf520b1b2c13c11",
      "max": 5,
      "min": 0,
      "orientation": "horizontal",
      "style": "IPY_MODEL_dbc7ee46311947c5b3539dc70867f657",
      "value": 5
     }
    },
    "6023cb32bfba4047a90c897efb4a6b7c": {
     "model_module": "@jupyter-widgets/base",
     "model_module_version": "1.2.0",
     "model_name": "LayoutModel",
     "state": {
      "_model_module": "@jupyter-widgets/base",
      "_model_module_version": "1.2.0",
      "_model_name": "LayoutModel",
      "_view_count": null,
      "_view_module": "@jupyter-widgets/base",
      "_view_module_version": "1.2.0",
      "_view_name": "LayoutView",
      "align_content": null,
      "align_items": null,
      "align_self": null,
      "border": null,
      "bottom": null,
      "display": null,
      "flex": null,
      "flex_flow": null,
      "grid_area": null,
      "grid_auto_columns": null,
      "grid_auto_flow": null,
      "grid_auto_rows": null,
      "grid_column": null,
      "grid_gap": null,
      "grid_row": null,
      "grid_template_areas": null,
      "grid_template_columns": null,
      "grid_template_rows": null,
      "height": null,
      "justify_content": null,
      "justify_items": null,
      "left": null,
      "margin": null,
      "max_height": null,
      "max_width": null,
      "min_height": null,
      "min_width": null,
      "object_fit": null,
      "object_position": null,
      "order": null,
      "overflow": null,
      "overflow_x": null,
      "overflow_y": null,
      "padding": null,
      "right": null,
      "top": null,
      "visibility": null,
      "width": null
     }
    },
    "60398f6c25514bb2b14e964ad96b51e7": {
     "model_module": "@jupyter-widgets/base",
     "model_module_version": "1.2.0",
     "model_name": "LayoutModel",
     "state": {
      "_model_module": "@jupyter-widgets/base",
      "_model_module_version": "1.2.0",
      "_model_name": "LayoutModel",
      "_view_count": null,
      "_view_module": "@jupyter-widgets/base",
      "_view_module_version": "1.2.0",
      "_view_name": "LayoutView",
      "align_content": null,
      "align_items": null,
      "align_self": null,
      "border": null,
      "bottom": null,
      "display": null,
      "flex": "2",
      "flex_flow": null,
      "grid_area": null,
      "grid_auto_columns": null,
      "grid_auto_flow": null,
      "grid_auto_rows": null,
      "grid_column": null,
      "grid_gap": null,
      "grid_row": null,
      "grid_template_areas": null,
      "grid_template_columns": null,
      "grid_template_rows": null,
      "height": null,
      "justify_content": null,
      "justify_items": null,
      "left": null,
      "margin": null,
      "max_height": null,
      "max_width": null,
      "min_height": null,
      "min_width": null,
      "object_fit": null,
      "object_position": null,
      "order": null,
      "overflow": null,
      "overflow_x": null,
      "overflow_y": null,
      "padding": null,
      "right": null,
      "top": null,
      "visibility": null,
      "width": null
     }
    },
    "604c9a89b8ba41fab6d0025e92d2a4d3": {
     "model_module": "@jupyter-widgets/base",
     "model_module_version": "1.2.0",
     "model_name": "LayoutModel",
     "state": {
      "_model_module": "@jupyter-widgets/base",
      "_model_module_version": "1.2.0",
      "_model_name": "LayoutModel",
      "_view_count": null,
      "_view_module": "@jupyter-widgets/base",
      "_view_module_version": "1.2.0",
      "_view_name": "LayoutView",
      "align_content": null,
      "align_items": null,
      "align_self": null,
      "border": null,
      "bottom": null,
      "display": null,
      "flex": "2",
      "flex_flow": null,
      "grid_area": null,
      "grid_auto_columns": null,
      "grid_auto_flow": null,
      "grid_auto_rows": null,
      "grid_column": null,
      "grid_gap": null,
      "grid_row": null,
      "grid_template_areas": null,
      "grid_template_columns": null,
      "grid_template_rows": null,
      "height": null,
      "justify_content": null,
      "justify_items": null,
      "left": null,
      "margin": null,
      "max_height": null,
      "max_width": null,
      "min_height": null,
      "min_width": null,
      "object_fit": null,
      "object_position": null,
      "order": null,
      "overflow": null,
      "overflow_x": null,
      "overflow_y": null,
      "padding": null,
      "right": null,
      "top": null,
      "visibility": null,
      "width": null
     }
    },
    "60b194bbb0c74909a7d562c936e8e0f7": {
     "model_module": "@jupyter-widgets/controls",
     "model_module_version": "1.5.0",
     "model_name": "HTMLModel",
     "state": {
      "_dom_classes": [],
      "_model_module": "@jupyter-widgets/controls",
      "_model_module_version": "1.5.0",
      "_model_name": "HTMLModel",
      "_view_count": null,
      "_view_module": "@jupyter-widgets/controls",
      "_view_module_version": "1.5.0",
      "_view_name": "HTMLView",
      "description": "",
      "description_tooltip": null,
      "layout": "IPY_MODEL_31bfcb8929394ad0897b92662d0b16d1",
      "placeholder": "​",
      "style": "IPY_MODEL_f3a3691ad6dd419e971616b875107033",
      "value": " 5/5 [00:01&lt;00:00,  4.06it/s]"
     }
    },
    "61203387f9e944029934dd106381e8fa": {
     "model_module": "@jupyter-widgets/base",
     "model_module_version": "1.2.0",
     "model_name": "LayoutModel",
     "state": {
      "_model_module": "@jupyter-widgets/base",
      "_model_module_version": "1.2.0",
      "_model_name": "LayoutModel",
      "_view_count": null,
      "_view_module": "@jupyter-widgets/base",
      "_view_module_version": "1.2.0",
      "_view_name": "LayoutView",
      "align_content": null,
      "align_items": null,
      "align_self": null,
      "border": null,
      "bottom": null,
      "display": null,
      "flex": null,
      "flex_flow": null,
      "grid_area": null,
      "grid_auto_columns": null,
      "grid_auto_flow": null,
      "grid_auto_rows": null,
      "grid_column": null,
      "grid_gap": null,
      "grid_row": null,
      "grid_template_areas": null,
      "grid_template_columns": null,
      "grid_template_rows": null,
      "height": null,
      "justify_content": null,
      "justify_items": null,
      "left": null,
      "margin": null,
      "max_height": null,
      "max_width": null,
      "min_height": null,
      "min_width": null,
      "object_fit": null,
      "object_position": null,
      "order": null,
      "overflow": null,
      "overflow_x": null,
      "overflow_y": null,
      "padding": null,
      "right": null,
      "top": null,
      "visibility": null,
      "width": null
     }
    },
    "616ef236701842c8aa0d5ce2a801d413": {
     "model_module": "@jupyter-widgets/controls",
     "model_module_version": "1.5.0",
     "model_name": "DescriptionStyleModel",
     "state": {
      "_model_module": "@jupyter-widgets/controls",
      "_model_module_version": "1.5.0",
      "_model_name": "DescriptionStyleModel",
      "_view_count": null,
      "_view_module": "@jupyter-widgets/base",
      "_view_module_version": "1.2.0",
      "_view_name": "StyleView",
      "description_width": ""
     }
    },
    "61d541e877b2491e9ce2557877c38860": {
     "model_module": "@jupyter-widgets/controls",
     "model_module_version": "1.5.0",
     "model_name": "HTMLModel",
     "state": {
      "_dom_classes": [],
      "_model_module": "@jupyter-widgets/controls",
      "_model_module_version": "1.5.0",
      "_model_name": "HTMLModel",
      "_view_count": null,
      "_view_module": "@jupyter-widgets/controls",
      "_view_module_version": "1.5.0",
      "_view_name": "HTMLView",
      "description": "",
      "description_tooltip": null,
      "layout": "IPY_MODEL_5c021060089045659f248646796fc038",
      "placeholder": "​",
      "style": "IPY_MODEL_616ef236701842c8aa0d5ce2a801d413",
      "value": " 5/5 [00:01&lt;00:00,  3.98it/s]"
     }
    },
    "63025e6b35f74b60a142fb50355d1755": {
     "model_module": "@jupyter-widgets/controls",
     "model_module_version": "1.5.0",
     "model_name": "DescriptionStyleModel",
     "state": {
      "_model_module": "@jupyter-widgets/controls",
      "_model_module_version": "1.5.0",
      "_model_name": "DescriptionStyleModel",
      "_view_count": null,
      "_view_module": "@jupyter-widgets/base",
      "_view_module_version": "1.2.0",
      "_view_name": "StyleView",
      "description_width": ""
     }
    },
    "6331216d53ba4a2d82531f77de1c9d9d": {
     "model_module": "@jupyter-widgets/controls",
     "model_module_version": "1.5.0",
     "model_name": "HTMLModel",
     "state": {
      "_dom_classes": [],
      "_model_module": "@jupyter-widgets/controls",
      "_model_module_version": "1.5.0",
      "_model_name": "HTMLModel",
      "_view_count": null,
      "_view_module": "@jupyter-widgets/controls",
      "_view_module_version": "1.5.0",
      "_view_name": "HTMLView",
      "description": "",
      "description_tooltip": null,
      "layout": "IPY_MODEL_44a26326a0e34ddea68ecb1f559a1824",
      "placeholder": "​",
      "style": "IPY_MODEL_047e167fcc9a4240bd08e326128f89ed",
      "value": "Validation DataLoader 0: 100%"
     }
    },
    "64c29f538a314c90ac37a29c2e3cc6e8": {
     "model_module": "@jupyter-widgets/controls",
     "model_module_version": "1.5.0",
     "model_name": "ProgressStyleModel",
     "state": {
      "_model_module": "@jupyter-widgets/controls",
      "_model_module_version": "1.5.0",
      "_model_name": "ProgressStyleModel",
      "_view_count": null,
      "_view_module": "@jupyter-widgets/base",
      "_view_module_version": "1.2.0",
      "_view_name": "StyleView",
      "bar_color": null,
      "description_width": ""
     }
    },
    "664a5cdb43294addb053d5298b4f5dee": {
     "model_module": "@jupyter-widgets/base",
     "model_module_version": "1.2.0",
     "model_name": "LayoutModel",
     "state": {
      "_model_module": "@jupyter-widgets/base",
      "_model_module_version": "1.2.0",
      "_model_name": "LayoutModel",
      "_view_count": null,
      "_view_module": "@jupyter-widgets/base",
      "_view_module_version": "1.2.0",
      "_view_name": "LayoutView",
      "align_content": null,
      "align_items": null,
      "align_self": null,
      "border": null,
      "bottom": null,
      "display": null,
      "flex": null,
      "flex_flow": null,
      "grid_area": null,
      "grid_auto_columns": null,
      "grid_auto_flow": null,
      "grid_auto_rows": null,
      "grid_column": null,
      "grid_gap": null,
      "grid_row": null,
      "grid_template_areas": null,
      "grid_template_columns": null,
      "grid_template_rows": null,
      "height": null,
      "justify_content": null,
      "justify_items": null,
      "left": null,
      "margin": null,
      "max_height": null,
      "max_width": null,
      "min_height": null,
      "min_width": null,
      "object_fit": null,
      "object_position": null,
      "order": null,
      "overflow": null,
      "overflow_x": null,
      "overflow_y": null,
      "padding": null,
      "right": null,
      "top": null,
      "visibility": null,
      "width": null
     }
    },
    "664d0b33100240048f3f5b7afaa8bf66": {
     "model_module": "@jupyter-widgets/base",
     "model_module_version": "1.2.0",
     "model_name": "LayoutModel",
     "state": {
      "_model_module": "@jupyter-widgets/base",
      "_model_module_version": "1.2.0",
      "_model_name": "LayoutModel",
      "_view_count": null,
      "_view_module": "@jupyter-widgets/base",
      "_view_module_version": "1.2.0",
      "_view_name": "LayoutView",
      "align_content": null,
      "align_items": null,
      "align_self": null,
      "border": null,
      "bottom": null,
      "display": null,
      "flex": null,
      "flex_flow": null,
      "grid_area": null,
      "grid_auto_columns": null,
      "grid_auto_flow": null,
      "grid_auto_rows": null,
      "grid_column": null,
      "grid_gap": null,
      "grid_row": null,
      "grid_template_areas": null,
      "grid_template_columns": null,
      "grid_template_rows": null,
      "height": null,
      "justify_content": null,
      "justify_items": null,
      "left": null,
      "margin": null,
      "max_height": null,
      "max_width": null,
      "min_height": null,
      "min_width": null,
      "object_fit": null,
      "object_position": null,
      "order": null,
      "overflow": null,
      "overflow_x": null,
      "overflow_y": null,
      "padding": null,
      "right": null,
      "top": null,
      "visibility": null,
      "width": null
     }
    },
    "68b259acfdac4dd89d68e000c80d396a": {
     "model_module": "@jupyter-widgets/base",
     "model_module_version": "1.2.0",
     "model_name": "LayoutModel",
     "state": {
      "_model_module": "@jupyter-widgets/base",
      "_model_module_version": "1.2.0",
      "_model_name": "LayoutModel",
      "_view_count": null,
      "_view_module": "@jupyter-widgets/base",
      "_view_module_version": "1.2.0",
      "_view_name": "LayoutView",
      "align_content": null,
      "align_items": null,
      "align_self": null,
      "border": null,
      "bottom": null,
      "display": null,
      "flex": null,
      "flex_flow": null,
      "grid_area": null,
      "grid_auto_columns": null,
      "grid_auto_flow": null,
      "grid_auto_rows": null,
      "grid_column": null,
      "grid_gap": null,
      "grid_row": null,
      "grid_template_areas": null,
      "grid_template_columns": null,
      "grid_template_rows": null,
      "height": null,
      "justify_content": null,
      "justify_items": null,
      "left": null,
      "margin": null,
      "max_height": null,
      "max_width": null,
      "min_height": null,
      "min_width": null,
      "object_fit": null,
      "object_position": null,
      "order": null,
      "overflow": null,
      "overflow_x": null,
      "overflow_y": null,
      "padding": null,
      "right": null,
      "top": null,
      "visibility": null,
      "width": null
     }
    },
    "68c61ca00cfa4a7b95b43d14abeebde0": {
     "model_module": "@jupyter-widgets/base",
     "model_module_version": "1.2.0",
     "model_name": "LayoutModel",
     "state": {
      "_model_module": "@jupyter-widgets/base",
      "_model_module_version": "1.2.0",
      "_model_name": "LayoutModel",
      "_view_count": null,
      "_view_module": "@jupyter-widgets/base",
      "_view_module_version": "1.2.0",
      "_view_name": "LayoutView",
      "align_content": null,
      "align_items": null,
      "align_self": null,
      "border": null,
      "bottom": null,
      "display": null,
      "flex": null,
      "flex_flow": null,
      "grid_area": null,
      "grid_auto_columns": null,
      "grid_auto_flow": null,
      "grid_auto_rows": null,
      "grid_column": null,
      "grid_gap": null,
      "grid_row": null,
      "grid_template_areas": null,
      "grid_template_columns": null,
      "grid_template_rows": null,
      "height": null,
      "justify_content": null,
      "justify_items": null,
      "left": null,
      "margin": null,
      "max_height": null,
      "max_width": null,
      "min_height": null,
      "min_width": null,
      "object_fit": null,
      "object_position": null,
      "order": null,
      "overflow": null,
      "overflow_x": null,
      "overflow_y": null,
      "padding": null,
      "right": null,
      "top": null,
      "visibility": null,
      "width": null
     }
    },
    "68dda685f65a4ebcbc3655b5810d4acf": {
     "model_module": "@jupyter-widgets/controls",
     "model_module_version": "1.5.0",
     "model_name": "HBoxModel",
     "state": {
      "_dom_classes": [],
      "_model_module": "@jupyter-widgets/controls",
      "_model_module_version": "1.5.0",
      "_model_name": "HBoxModel",
      "_view_count": null,
      "_view_module": "@jupyter-widgets/controls",
      "_view_module_version": "1.5.0",
      "_view_name": "HBoxView",
      "box_style": "",
      "children": [
       "IPY_MODEL_ebca2d4ab8fb46729b718f78edc3cf62",
       "IPY_MODEL_aef049213f944298b42e450d3e6c66e2",
       "IPY_MODEL_b6b8b25ebc2b4f8dabb56914d74a67c5"
      ],
      "layout": "IPY_MODEL_8740560e1e0f4e5487fe7b11cb488f57"
     }
    },
    "699d689b31af4e73bfd1b146ccb0bada": {
     "model_module": "@jupyter-widgets/base",
     "model_module_version": "1.2.0",
     "model_name": "LayoutModel",
     "state": {
      "_model_module": "@jupyter-widgets/base",
      "_model_module_version": "1.2.0",
      "_model_name": "LayoutModel",
      "_view_count": null,
      "_view_module": "@jupyter-widgets/base",
      "_view_module_version": "1.2.0",
      "_view_name": "LayoutView",
      "align_content": null,
      "align_items": null,
      "align_self": null,
      "border": null,
      "bottom": null,
      "display": null,
      "flex": null,
      "flex_flow": null,
      "grid_area": null,
      "grid_auto_columns": null,
      "grid_auto_flow": null,
      "grid_auto_rows": null,
      "grid_column": null,
      "grid_gap": null,
      "grid_row": null,
      "grid_template_areas": null,
      "grid_template_columns": null,
      "grid_template_rows": null,
      "height": null,
      "justify_content": null,
      "justify_items": null,
      "left": null,
      "margin": null,
      "max_height": null,
      "max_width": null,
      "min_height": null,
      "min_width": null,
      "object_fit": null,
      "object_position": null,
      "order": null,
      "overflow": null,
      "overflow_x": null,
      "overflow_y": null,
      "padding": null,
      "right": null,
      "top": null,
      "visibility": null,
      "width": null
     }
    },
    "69e868c6533946cfbbf15dccdbc44001": {
     "model_module": "@jupyter-widgets/base",
     "model_module_version": "1.2.0",
     "model_name": "LayoutModel",
     "state": {
      "_model_module": "@jupyter-widgets/base",
      "_model_module_version": "1.2.0",
      "_model_name": "LayoutModel",
      "_view_count": null,
      "_view_module": "@jupyter-widgets/base",
      "_view_module_version": "1.2.0",
      "_view_name": "LayoutView",
      "align_content": null,
      "align_items": null,
      "align_self": null,
      "border": null,
      "bottom": null,
      "display": null,
      "flex": "2",
      "flex_flow": null,
      "grid_area": null,
      "grid_auto_columns": null,
      "grid_auto_flow": null,
      "grid_auto_rows": null,
      "grid_column": null,
      "grid_gap": null,
      "grid_row": null,
      "grid_template_areas": null,
      "grid_template_columns": null,
      "grid_template_rows": null,
      "height": null,
      "justify_content": null,
      "justify_items": null,
      "left": null,
      "margin": null,
      "max_height": null,
      "max_width": null,
      "min_height": null,
      "min_width": null,
      "object_fit": null,
      "object_position": null,
      "order": null,
      "overflow": null,
      "overflow_x": null,
      "overflow_y": null,
      "padding": null,
      "right": null,
      "top": null,
      "visibility": null,
      "width": null
     }
    },
    "69f02855c4bb44fd9bb0f78e0c02d532": {
     "model_module": "@jupyter-widgets/base",
     "model_module_version": "1.2.0",
     "model_name": "LayoutModel",
     "state": {
      "_model_module": "@jupyter-widgets/base",
      "_model_module_version": "1.2.0",
      "_model_name": "LayoutModel",
      "_view_count": null,
      "_view_module": "@jupyter-widgets/base",
      "_view_module_version": "1.2.0",
      "_view_name": "LayoutView",
      "align_content": null,
      "align_items": null,
      "align_self": null,
      "border": null,
      "bottom": null,
      "display": "inline-flex",
      "flex": null,
      "flex_flow": "row wrap",
      "grid_area": null,
      "grid_auto_columns": null,
      "grid_auto_flow": null,
      "grid_auto_rows": null,
      "grid_column": null,
      "grid_gap": null,
      "grid_row": null,
      "grid_template_areas": null,
      "grid_template_columns": null,
      "grid_template_rows": null,
      "height": null,
      "justify_content": null,
      "justify_items": null,
      "left": null,
      "margin": null,
      "max_height": null,
      "max_width": null,
      "min_height": null,
      "min_width": null,
      "object_fit": null,
      "object_position": null,
      "order": null,
      "overflow": null,
      "overflow_x": null,
      "overflow_y": null,
      "padding": null,
      "right": null,
      "top": null,
      "visibility": "hidden",
      "width": "100%"
     }
    },
    "6a0b929ceb804a648c418c22174ba2a0": {
     "model_module": "@jupyter-widgets/controls",
     "model_module_version": "1.5.0",
     "model_name": "ProgressStyleModel",
     "state": {
      "_model_module": "@jupyter-widgets/controls",
      "_model_module_version": "1.5.0",
      "_model_name": "ProgressStyleModel",
      "_view_count": null,
      "_view_module": "@jupyter-widgets/base",
      "_view_module_version": "1.2.0",
      "_view_name": "StyleView",
      "bar_color": null,
      "description_width": ""
     }
    },
    "6aee4639683d4a579c4f2ba03991ec4e": {
     "model_module": "@jupyter-widgets/controls",
     "model_module_version": "1.5.0",
     "model_name": "HBoxModel",
     "state": {
      "_dom_classes": [],
      "_model_module": "@jupyter-widgets/controls",
      "_model_module_version": "1.5.0",
      "_model_name": "HBoxModel",
      "_view_count": null,
      "_view_module": "@jupyter-widgets/controls",
      "_view_module_version": "1.5.0",
      "_view_name": "HBoxView",
      "box_style": "",
      "children": [
       "IPY_MODEL_0a8860818e0447a28d2bcd64dae62ad3",
       "IPY_MODEL_5ca4caec5f1a4428862231e2f6eec8fe",
       "IPY_MODEL_dc91e8e8fb824f1599f0347e8e7f9b9d"
      ],
      "layout": "IPY_MODEL_b65aa2174ade49ad8dc45ba1bba6d6f3"
     }
    },
    "6c7e526bd68147279f4c21a75b399a27": {
     "model_module": "@jupyter-widgets/controls",
     "model_module_version": "1.5.0",
     "model_name": "FloatProgressModel",
     "state": {
      "_dom_classes": [],
      "_model_module": "@jupyter-widgets/controls",
      "_model_module_version": "1.5.0",
      "_model_name": "FloatProgressModel",
      "_view_count": null,
      "_view_module": "@jupyter-widgets/controls",
      "_view_module_version": "1.5.0",
      "_view_name": "ProgressView",
      "bar_style": "",
      "description": "",
      "description_tooltip": null,
      "layout": "IPY_MODEL_7265cc93aefb4097af73177224f6d5f0",
      "max": 5,
      "min": 0,
      "orientation": "horizontal",
      "style": "IPY_MODEL_232e3e5ae07d4e13b407b3ded4e2e987",
      "value": 5
     }
    },
    "6dda69ffd1374f5a93201337c8688cdd": {
     "model_module": "@jupyter-widgets/base",
     "model_module_version": "1.2.0",
     "model_name": "LayoutModel",
     "state": {
      "_model_module": "@jupyter-widgets/base",
      "_model_module_version": "1.2.0",
      "_model_name": "LayoutModel",
      "_view_count": null,
      "_view_module": "@jupyter-widgets/base",
      "_view_module_version": "1.2.0",
      "_view_name": "LayoutView",
      "align_content": null,
      "align_items": null,
      "align_self": null,
      "border": null,
      "bottom": null,
      "display": null,
      "flex": null,
      "flex_flow": null,
      "grid_area": null,
      "grid_auto_columns": null,
      "grid_auto_flow": null,
      "grid_auto_rows": null,
      "grid_column": null,
      "grid_gap": null,
      "grid_row": null,
      "grid_template_areas": null,
      "grid_template_columns": null,
      "grid_template_rows": null,
      "height": null,
      "justify_content": null,
      "justify_items": null,
      "left": null,
      "margin": null,
      "max_height": null,
      "max_width": null,
      "min_height": null,
      "min_width": null,
      "object_fit": null,
      "object_position": null,
      "order": null,
      "overflow": null,
      "overflow_x": null,
      "overflow_y": null,
      "padding": null,
      "right": null,
      "top": null,
      "visibility": null,
      "width": null
     }
    },
    "6e6018bfdc2d4c7dbfa974719e2e0095": {
     "model_module": "@jupyter-widgets/controls",
     "model_module_version": "1.5.0",
     "model_name": "DescriptionStyleModel",
     "state": {
      "_model_module": "@jupyter-widgets/controls",
      "_model_module_version": "1.5.0",
      "_model_name": "DescriptionStyleModel",
      "_view_count": null,
      "_view_module": "@jupyter-widgets/base",
      "_view_module_version": "1.2.0",
      "_view_name": "StyleView",
      "description_width": ""
     }
    },
    "6f4727c4dc5c496492b0e4fd78cd3335": {
     "model_module": "@jupyter-widgets/base",
     "model_module_version": "1.2.0",
     "model_name": "LayoutModel",
     "state": {
      "_model_module": "@jupyter-widgets/base",
      "_model_module_version": "1.2.0",
      "_model_name": "LayoutModel",
      "_view_count": null,
      "_view_module": "@jupyter-widgets/base",
      "_view_module_version": "1.2.0",
      "_view_name": "LayoutView",
      "align_content": null,
      "align_items": null,
      "align_self": null,
      "border": null,
      "bottom": null,
      "display": null,
      "flex": null,
      "flex_flow": null,
      "grid_area": null,
      "grid_auto_columns": null,
      "grid_auto_flow": null,
      "grid_auto_rows": null,
      "grid_column": null,
      "grid_gap": null,
      "grid_row": null,
      "grid_template_areas": null,
      "grid_template_columns": null,
      "grid_template_rows": null,
      "height": null,
      "justify_content": null,
      "justify_items": null,
      "left": null,
      "margin": null,
      "max_height": null,
      "max_width": null,
      "min_height": null,
      "min_width": null,
      "object_fit": null,
      "object_position": null,
      "order": null,
      "overflow": null,
      "overflow_x": null,
      "overflow_y": null,
      "padding": null,
      "right": null,
      "top": null,
      "visibility": null,
      "width": null
     }
    },
    "6f9d66a94f82442995b76d314d807657": {
     "model_module": "@jupyter-widgets/controls",
     "model_module_version": "1.5.0",
     "model_name": "HBoxModel",
     "state": {
      "_dom_classes": [],
      "_model_module": "@jupyter-widgets/controls",
      "_model_module_version": "1.5.0",
      "_model_name": "HBoxModel",
      "_view_count": null,
      "_view_module": "@jupyter-widgets/controls",
      "_view_module_version": "1.5.0",
      "_view_name": "HBoxView",
      "box_style": "",
      "children": [
       "IPY_MODEL_c6b820fbf04d4a3198652a47d389fdec",
       "IPY_MODEL_3a6b03a974fd47e2a2c3a724f425154c",
       "IPY_MODEL_cc84247d3d744f2e94d5008196c71d8c"
      ],
      "layout": "IPY_MODEL_fc836cff85604fac876b151df28943e9"
     }
    },
    "702ee5578b4b4d258c3a23a1b79fb52f": {
     "model_module": "@jupyter-widgets/controls",
     "model_module_version": "1.5.0",
     "model_name": "DescriptionStyleModel",
     "state": {
      "_model_module": "@jupyter-widgets/controls",
      "_model_module_version": "1.5.0",
      "_model_name": "DescriptionStyleModel",
      "_view_count": null,
      "_view_module": "@jupyter-widgets/base",
      "_view_module_version": "1.2.0",
      "_view_name": "StyleView",
      "description_width": ""
     }
    },
    "70412a4ce3f446b38e7f3408b85d1b02": {
     "model_module": "@jupyter-widgets/controls",
     "model_module_version": "1.5.0",
     "model_name": "HTMLModel",
     "state": {
      "_dom_classes": [],
      "_model_module": "@jupyter-widgets/controls",
      "_model_module_version": "1.5.0",
      "_model_name": "HTMLModel",
      "_view_count": null,
      "_view_module": "@jupyter-widgets/controls",
      "_view_module_version": "1.5.0",
      "_view_name": "HTMLView",
      "description": "",
      "description_tooltip": null,
      "layout": "IPY_MODEL_42fccd221eb7493f91f211a1b55347fc",
      "placeholder": "​",
      "style": "IPY_MODEL_3269cbc45fd54206ac2a3506999d5845",
      "value": " 5/5 [00:01&lt;00:00,  3.96it/s]"
     }
    },
    "705336f7fd584aa6a3df900e4029934f": {
     "model_module": "@jupyter-widgets/controls",
     "model_module_version": "1.5.0",
     "model_name": "HTMLModel",
     "state": {
      "_dom_classes": [],
      "_model_module": "@jupyter-widgets/controls",
      "_model_module_version": "1.5.0",
      "_model_name": "HTMLModel",
      "_view_count": null,
      "_view_module": "@jupyter-widgets/controls",
      "_view_module_version": "1.5.0",
      "_view_name": "HTMLView",
      "description": "",
      "description_tooltip": null,
      "layout": "IPY_MODEL_e2d9d2dabe034061a80258e22039b099",
      "placeholder": "​",
      "style": "IPY_MODEL_2f6adff66e7f4b3b9d162ab0a7ada470",
      "value": " 5/5 [00:01&lt;00:00,  4.06it/s]"
     }
    },
    "7072d8e7f6b04dfdb2b006a12c97f94f": {
     "model_module": "@jupyter-widgets/base",
     "model_module_version": "1.2.0",
     "model_name": "LayoutModel",
     "state": {
      "_model_module": "@jupyter-widgets/base",
      "_model_module_version": "1.2.0",
      "_model_name": "LayoutModel",
      "_view_count": null,
      "_view_module": "@jupyter-widgets/base",
      "_view_module_version": "1.2.0",
      "_view_name": "LayoutView",
      "align_content": null,
      "align_items": null,
      "align_self": null,
      "border": null,
      "bottom": null,
      "display": null,
      "flex": null,
      "flex_flow": null,
      "grid_area": null,
      "grid_auto_columns": null,
      "grid_auto_flow": null,
      "grid_auto_rows": null,
      "grid_column": null,
      "grid_gap": null,
      "grid_row": null,
      "grid_template_areas": null,
      "grid_template_columns": null,
      "grid_template_rows": null,
      "height": null,
      "justify_content": null,
      "justify_items": null,
      "left": null,
      "margin": null,
      "max_height": null,
      "max_width": null,
      "min_height": null,
      "min_width": null,
      "object_fit": null,
      "object_position": null,
      "order": null,
      "overflow": null,
      "overflow_x": null,
      "overflow_y": null,
      "padding": null,
      "right": null,
      "top": null,
      "visibility": null,
      "width": null
     }
    },
    "712ba0f8249c47d3a5eb5448a6781d07": {
     "model_module": "@jupyter-widgets/controls",
     "model_module_version": "1.5.0",
     "model_name": "HBoxModel",
     "state": {
      "_dom_classes": [],
      "_model_module": "@jupyter-widgets/controls",
      "_model_module_version": "1.5.0",
      "_model_name": "HBoxModel",
      "_view_count": null,
      "_view_module": "@jupyter-widgets/controls",
      "_view_module_version": "1.5.0",
      "_view_name": "HBoxView",
      "box_style": "",
      "children": [
       "IPY_MODEL_9e6157427ee6402597cc70beff7f9f90",
       "IPY_MODEL_2d98f43066834e23b6256bfc87f74c93",
       "IPY_MODEL_45051b0d7cb54d41900049d873dc2ca9"
      ],
      "layout": "IPY_MODEL_d261940076e34b0c92ac370a0eeadee4"
     }
    },
    "7185a448c0e94a02a1614b7c0d19a393": {
     "model_module": "@jupyter-widgets/controls",
     "model_module_version": "1.5.0",
     "model_name": "FloatProgressModel",
     "state": {
      "_dom_classes": [],
      "_model_module": "@jupyter-widgets/controls",
      "_model_module_version": "1.5.0",
      "_model_name": "FloatProgressModel",
      "_view_count": null,
      "_view_module": "@jupyter-widgets/controls",
      "_view_module_version": "1.5.0",
      "_view_name": "ProgressView",
      "bar_style": "",
      "description": "",
      "description_tooltip": null,
      "layout": "IPY_MODEL_bb90bd571a4747aa9066215717c9b5df",
      "max": 5,
      "min": 0,
      "orientation": "horizontal",
      "style": "IPY_MODEL_5c79d12a7f714252a58b426d2ba25ff5",
      "value": 5
     }
    },
    "7265cc93aefb4097af73177224f6d5f0": {
     "model_module": "@jupyter-widgets/base",
     "model_module_version": "1.2.0",
     "model_name": "LayoutModel",
     "state": {
      "_model_module": "@jupyter-widgets/base",
      "_model_module_version": "1.2.0",
      "_model_name": "LayoutModel",
      "_view_count": null,
      "_view_module": "@jupyter-widgets/base",
      "_view_module_version": "1.2.0",
      "_view_name": "LayoutView",
      "align_content": null,
      "align_items": null,
      "align_self": null,
      "border": null,
      "bottom": null,
      "display": null,
      "flex": "2",
      "flex_flow": null,
      "grid_area": null,
      "grid_auto_columns": null,
      "grid_auto_flow": null,
      "grid_auto_rows": null,
      "grid_column": null,
      "grid_gap": null,
      "grid_row": null,
      "grid_template_areas": null,
      "grid_template_columns": null,
      "grid_template_rows": null,
      "height": null,
      "justify_content": null,
      "justify_items": null,
      "left": null,
      "margin": null,
      "max_height": null,
      "max_width": null,
      "min_height": null,
      "min_width": null,
      "object_fit": null,
      "object_position": null,
      "order": null,
      "overflow": null,
      "overflow_x": null,
      "overflow_y": null,
      "padding": null,
      "right": null,
      "top": null,
      "visibility": null,
      "width": null
     }
    },
    "7339266c19ef4dbf97479a72d9c3faf5": {
     "model_module": "@jupyter-widgets/controls",
     "model_module_version": "1.5.0",
     "model_name": "DescriptionStyleModel",
     "state": {
      "_model_module": "@jupyter-widgets/controls",
      "_model_module_version": "1.5.0",
      "_model_name": "DescriptionStyleModel",
      "_view_count": null,
      "_view_module": "@jupyter-widgets/base",
      "_view_module_version": "1.2.0",
      "_view_name": "StyleView",
      "description_width": ""
     }
    },
    "73b8913d973d4984b8b6b7683ffdd745": {
     "model_module": "@jupyter-widgets/controls",
     "model_module_version": "1.5.0",
     "model_name": "DescriptionStyleModel",
     "state": {
      "_model_module": "@jupyter-widgets/controls",
      "_model_module_version": "1.5.0",
      "_model_name": "DescriptionStyleModel",
      "_view_count": null,
      "_view_module": "@jupyter-widgets/base",
      "_view_module_version": "1.2.0",
      "_view_name": "StyleView",
      "description_width": ""
     }
    },
    "7466b26378f6410bb0a23de5a3b815d9": {
     "model_module": "@jupyter-widgets/controls",
     "model_module_version": "1.5.0",
     "model_name": "FloatProgressModel",
     "state": {
      "_dom_classes": [],
      "_model_module": "@jupyter-widgets/controls",
      "_model_module_version": "1.5.0",
      "_model_name": "FloatProgressModel",
      "_view_count": null,
      "_view_module": "@jupyter-widgets/controls",
      "_view_module_version": "1.5.0",
      "_view_name": "ProgressView",
      "bar_style": "",
      "description": "",
      "description_tooltip": null,
      "layout": "IPY_MODEL_60398f6c25514bb2b14e964ad96b51e7",
      "max": 49,
      "min": 0,
      "orientation": "horizontal",
      "style": "IPY_MODEL_b72703a21af84b1cab0b93b52ef5fbdf",
      "value": 0
     }
    },
    "74ddef69bd2040208e1fa8adccb0d127": {
     "model_module": "@jupyter-widgets/controls",
     "model_module_version": "1.5.0",
     "model_name": "HTMLModel",
     "state": {
      "_dom_classes": [],
      "_model_module": "@jupyter-widgets/controls",
      "_model_module_version": "1.5.0",
      "_model_name": "HTMLModel",
      "_view_count": null,
      "_view_module": "@jupyter-widgets/controls",
      "_view_module_version": "1.5.0",
      "_view_name": "HTMLView",
      "description": "",
      "description_tooltip": null,
      "layout": "IPY_MODEL_68c61ca00cfa4a7b95b43d14abeebde0",
      "placeholder": "​",
      "style": "IPY_MODEL_e0ae429db29c46eaa80a08281a8feae8",
      "value": "Validation DataLoader 0: 100%"
     }
    },
    "7541addcbfa549ebaa7db0580b0fd32a": {
     "model_module": "@jupyter-widgets/controls",
     "model_module_version": "1.5.0",
     "model_name": "DescriptionStyleModel",
     "state": {
      "_model_module": "@jupyter-widgets/controls",
      "_model_module_version": "1.5.0",
      "_model_name": "DescriptionStyleModel",
      "_view_count": null,
      "_view_module": "@jupyter-widgets/base",
      "_view_module_version": "1.2.0",
      "_view_name": "StyleView",
      "description_width": ""
     }
    },
    "757af59d66dc4c06b8a105b262b903ba": {
     "model_module": "@jupyter-widgets/controls",
     "model_module_version": "1.5.0",
     "model_name": "HTMLModel",
     "state": {
      "_dom_classes": [],
      "_model_module": "@jupyter-widgets/controls",
      "_model_module_version": "1.5.0",
      "_model_name": "HTMLModel",
      "_view_count": null,
      "_view_module": "@jupyter-widgets/controls",
      "_view_module_version": "1.5.0",
      "_view_name": "HTMLView",
      "description": "",
      "description_tooltip": null,
      "layout": "IPY_MODEL_8e612bcacfc0473f9b32bf2193fdb548",
      "placeholder": "​",
      "style": "IPY_MODEL_cb6670d6ab34428d9d3c41103934271a",
      "value": " 5/5 [00:01&lt;00:00,  4.01it/s]"
     }
    },
    "7753d5ec99014c39817137f21035c35c": {
     "model_module": "@jupyter-widgets/controls",
     "model_module_version": "1.5.0",
     "model_name": "HTMLModel",
     "state": {
      "_dom_classes": [],
      "_model_module": "@jupyter-widgets/controls",
      "_model_module_version": "1.5.0",
      "_model_name": "HTMLModel",
      "_view_count": null,
      "_view_module": "@jupyter-widgets/controls",
      "_view_module_version": "1.5.0",
      "_view_name": "HTMLView",
      "description": "",
      "description_tooltip": null,
      "layout": "IPY_MODEL_432092c38d43424583880e68adf832d8",
      "placeholder": "​",
      "style": "IPY_MODEL_ab10f338efc0445cbaed3d48be57d491",
      "value": "Validation DataLoader 0: 100%"
     }
    },
    "788a9771aaf74b958656b18c6dc94dfc": {
     "model_module": "@jupyter-widgets/controls",
     "model_module_version": "1.5.0",
     "model_name": "DescriptionStyleModel",
     "state": {
      "_model_module": "@jupyter-widgets/controls",
      "_model_module_version": "1.5.0",
      "_model_name": "DescriptionStyleModel",
      "_view_count": null,
      "_view_module": "@jupyter-widgets/base",
      "_view_module_version": "1.2.0",
      "_view_name": "StyleView",
      "description_width": ""
     }
    },
    "78aface7d9644dbca023155422e11158": {
     "model_module": "@jupyter-widgets/controls",
     "model_module_version": "1.5.0",
     "model_name": "HTMLModel",
     "state": {
      "_dom_classes": [],
      "_model_module": "@jupyter-widgets/controls",
      "_model_module_version": "1.5.0",
      "_model_name": "HTMLModel",
      "_view_count": null,
      "_view_module": "@jupyter-widgets/controls",
      "_view_module_version": "1.5.0",
      "_view_name": "HTMLView",
      "description": "",
      "description_tooltip": null,
      "layout": "IPY_MODEL_b97c7e209b4742888e8ec75e2455a738",
      "placeholder": "​",
      "style": "IPY_MODEL_ee1aca3a2a0c481bb530c03c6fedb6f4",
      "value": " 5/5 [00:01&lt;00:00,  4.04it/s]"
     }
    },
    "78dda0bb6fdc4dbc968a3da00ad19931": {
     "model_module": "@jupyter-widgets/controls",
     "model_module_version": "1.5.0",
     "model_name": "DescriptionStyleModel",
     "state": {
      "_model_module": "@jupyter-widgets/controls",
      "_model_module_version": "1.5.0",
      "_model_name": "DescriptionStyleModel",
      "_view_count": null,
      "_view_module": "@jupyter-widgets/base",
      "_view_module_version": "1.2.0",
      "_view_name": "StyleView",
      "description_width": ""
     }
    },
    "78ea893118b345c8b2e527d26ede1b47": {
     "model_module": "@jupyter-widgets/controls",
     "model_module_version": "1.5.0",
     "model_name": "HTMLModel",
     "state": {
      "_dom_classes": [],
      "_model_module": "@jupyter-widgets/controls",
      "_model_module_version": "1.5.0",
      "_model_name": "HTMLModel",
      "_view_count": null,
      "_view_module": "@jupyter-widgets/controls",
      "_view_module_version": "1.5.0",
      "_view_name": "HTMLView",
      "description": "",
      "description_tooltip": null,
      "layout": "IPY_MODEL_41636b513d794b66b97953d870f7aa3b",
      "placeholder": "​",
      "style": "IPY_MODEL_9e4adf54330b42d9b7d8ab86855a5816",
      "value": "Validation DataLoader 0: 100%"
     }
    },
    "7a58d70f17cf42458869826bdafca282": {
     "model_module": "@jupyter-widgets/controls",
     "model_module_version": "1.5.0",
     "model_name": "DescriptionStyleModel",
     "state": {
      "_model_module": "@jupyter-widgets/controls",
      "_model_module_version": "1.5.0",
      "_model_name": "DescriptionStyleModel",
      "_view_count": null,
      "_view_module": "@jupyter-widgets/base",
      "_view_module_version": "1.2.0",
      "_view_name": "StyleView",
      "description_width": ""
     }
    },
    "7a5dd8fc8c9e4149ad1d7e3236a31f54": {
     "model_module": "@jupyter-widgets/controls",
     "model_module_version": "1.5.0",
     "model_name": "HTMLModel",
     "state": {
      "_dom_classes": [],
      "_model_module": "@jupyter-widgets/controls",
      "_model_module_version": "1.5.0",
      "_model_name": "HTMLModel",
      "_view_count": null,
      "_view_module": "@jupyter-widgets/controls",
      "_view_module_version": "1.5.0",
      "_view_name": "HTMLView",
      "description": "",
      "description_tooltip": null,
      "layout": "IPY_MODEL_0bf422696c7749e3936af5d7c80391d4",
      "placeholder": "​",
      "style": "IPY_MODEL_1d59c2bcb89b4af38e49e4d85723f4ac",
      "value": "Validation DataLoader 0: 100%"
     }
    },
    "7a9de47127b541aa936c3d17f098f626": {
     "model_module": "@jupyter-widgets/base",
     "model_module_version": "1.2.0",
     "model_name": "LayoutModel",
     "state": {
      "_model_module": "@jupyter-widgets/base",
      "_model_module_version": "1.2.0",
      "_model_name": "LayoutModel",
      "_view_count": null,
      "_view_module": "@jupyter-widgets/base",
      "_view_module_version": "1.2.0",
      "_view_name": "LayoutView",
      "align_content": null,
      "align_items": null,
      "align_self": null,
      "border": null,
      "bottom": null,
      "display": null,
      "flex": null,
      "flex_flow": null,
      "grid_area": null,
      "grid_auto_columns": null,
      "grid_auto_flow": null,
      "grid_auto_rows": null,
      "grid_column": null,
      "grid_gap": null,
      "grid_row": null,
      "grid_template_areas": null,
      "grid_template_columns": null,
      "grid_template_rows": null,
      "height": null,
      "justify_content": null,
      "justify_items": null,
      "left": null,
      "margin": null,
      "max_height": null,
      "max_width": null,
      "min_height": null,
      "min_width": null,
      "object_fit": null,
      "object_position": null,
      "order": null,
      "overflow": null,
      "overflow_x": null,
      "overflow_y": null,
      "padding": null,
      "right": null,
      "top": null,
      "visibility": null,
      "width": null
     }
    },
    "7ae0e06033ba4914aed751589cca5c2b": {
     "model_module": "@jupyter-widgets/controls",
     "model_module_version": "1.5.0",
     "model_name": "HTMLModel",
     "state": {
      "_dom_classes": [],
      "_model_module": "@jupyter-widgets/controls",
      "_model_module_version": "1.5.0",
      "_model_name": "HTMLModel",
      "_view_count": null,
      "_view_module": "@jupyter-widgets/controls",
      "_view_module_version": "1.5.0",
      "_view_name": "HTMLView",
      "description": "",
      "description_tooltip": null,
      "layout": "IPY_MODEL_8027525695e44dfbb657fa9412c05f3f",
      "placeholder": "​",
      "style": "IPY_MODEL_da7ce98946334e5b8b4925ec1af1e53f",
      "value": "Validation DataLoader 0: 100%"
     }
    },
    "7aff097a34044f05b59e50d629f8dce7": {
     "model_module": "@jupyter-widgets/base",
     "model_module_version": "1.2.0",
     "model_name": "LayoutModel",
     "state": {
      "_model_module": "@jupyter-widgets/base",
      "_model_module_version": "1.2.0",
      "_model_name": "LayoutModel",
      "_view_count": null,
      "_view_module": "@jupyter-widgets/base",
      "_view_module_version": "1.2.0",
      "_view_name": "LayoutView",
      "align_content": null,
      "align_items": null,
      "align_self": null,
      "border": null,
      "bottom": null,
      "display": null,
      "flex": "2",
      "flex_flow": null,
      "grid_area": null,
      "grid_auto_columns": null,
      "grid_auto_flow": null,
      "grid_auto_rows": null,
      "grid_column": null,
      "grid_gap": null,
      "grid_row": null,
      "grid_template_areas": null,
      "grid_template_columns": null,
      "grid_template_rows": null,
      "height": null,
      "justify_content": null,
      "justify_items": null,
      "left": null,
      "margin": null,
      "max_height": null,
      "max_width": null,
      "min_height": null,
      "min_width": null,
      "object_fit": null,
      "object_position": null,
      "order": null,
      "overflow": null,
      "overflow_x": null,
      "overflow_y": null,
      "padding": null,
      "right": null,
      "top": null,
      "visibility": null,
      "width": null
     }
    },
    "7b153e8f11f848959a85045a5d20cdb8": {
     "model_module": "@jupyter-widgets/base",
     "model_module_version": "1.2.0",
     "model_name": "LayoutModel",
     "state": {
      "_model_module": "@jupyter-widgets/base",
      "_model_module_version": "1.2.0",
      "_model_name": "LayoutModel",
      "_view_count": null,
      "_view_module": "@jupyter-widgets/base",
      "_view_module_version": "1.2.0",
      "_view_name": "LayoutView",
      "align_content": null,
      "align_items": null,
      "align_self": null,
      "border": null,
      "bottom": null,
      "display": null,
      "flex": null,
      "flex_flow": null,
      "grid_area": null,
      "grid_auto_columns": null,
      "grid_auto_flow": null,
      "grid_auto_rows": null,
      "grid_column": null,
      "grid_gap": null,
      "grid_row": null,
      "grid_template_areas": null,
      "grid_template_columns": null,
      "grid_template_rows": null,
      "height": null,
      "justify_content": null,
      "justify_items": null,
      "left": null,
      "margin": null,
      "max_height": null,
      "max_width": null,
      "min_height": null,
      "min_width": null,
      "object_fit": null,
      "object_position": null,
      "order": null,
      "overflow": null,
      "overflow_x": null,
      "overflow_y": null,
      "padding": null,
      "right": null,
      "top": null,
      "visibility": null,
      "width": null
     }
    },
    "7c771cee2d6049d0bb7bbe0ff5c15a10": {
     "model_module": "@jupyter-widgets/base",
     "model_module_version": "1.2.0",
     "model_name": "LayoutModel",
     "state": {
      "_model_module": "@jupyter-widgets/base",
      "_model_module_version": "1.2.0",
      "_model_name": "LayoutModel",
      "_view_count": null,
      "_view_module": "@jupyter-widgets/base",
      "_view_module_version": "1.2.0",
      "_view_name": "LayoutView",
      "align_content": null,
      "align_items": null,
      "align_self": null,
      "border": null,
      "bottom": null,
      "display": null,
      "flex": null,
      "flex_flow": null,
      "grid_area": null,
      "grid_auto_columns": null,
      "grid_auto_flow": null,
      "grid_auto_rows": null,
      "grid_column": null,
      "grid_gap": null,
      "grid_row": null,
      "grid_template_areas": null,
      "grid_template_columns": null,
      "grid_template_rows": null,
      "height": null,
      "justify_content": null,
      "justify_items": null,
      "left": null,
      "margin": null,
      "max_height": null,
      "max_width": null,
      "min_height": null,
      "min_width": null,
      "object_fit": null,
      "object_position": null,
      "order": null,
      "overflow": null,
      "overflow_x": null,
      "overflow_y": null,
      "padding": null,
      "right": null,
      "top": null,
      "visibility": null,
      "width": null
     }
    },
    "7cabd2a7872e4dc78ffb18cf031eabf2": {
     "model_module": "@jupyter-widgets/base",
     "model_module_version": "1.2.0",
     "model_name": "LayoutModel",
     "state": {
      "_model_module": "@jupyter-widgets/base",
      "_model_module_version": "1.2.0",
      "_model_name": "LayoutModel",
      "_view_count": null,
      "_view_module": "@jupyter-widgets/base",
      "_view_module_version": "1.2.0",
      "_view_name": "LayoutView",
      "align_content": null,
      "align_items": null,
      "align_self": null,
      "border": null,
      "bottom": null,
      "display": null,
      "flex": null,
      "flex_flow": null,
      "grid_area": null,
      "grid_auto_columns": null,
      "grid_auto_flow": null,
      "grid_auto_rows": null,
      "grid_column": null,
      "grid_gap": null,
      "grid_row": null,
      "grid_template_areas": null,
      "grid_template_columns": null,
      "grid_template_rows": null,
      "height": null,
      "justify_content": null,
      "justify_items": null,
      "left": null,
      "margin": null,
      "max_height": null,
      "max_width": null,
      "min_height": null,
      "min_width": null,
      "object_fit": null,
      "object_position": null,
      "order": null,
      "overflow": null,
      "overflow_x": null,
      "overflow_y": null,
      "padding": null,
      "right": null,
      "top": null,
      "visibility": null,
      "width": null
     }
    },
    "7cb2fb428f704c9ebf93b09dce8db5fb": {
     "model_module": "@jupyter-widgets/base",
     "model_module_version": "1.2.0",
     "model_name": "LayoutModel",
     "state": {
      "_model_module": "@jupyter-widgets/base",
      "_model_module_version": "1.2.0",
      "_model_name": "LayoutModel",
      "_view_count": null,
      "_view_module": "@jupyter-widgets/base",
      "_view_module_version": "1.2.0",
      "_view_name": "LayoutView",
      "align_content": null,
      "align_items": null,
      "align_self": null,
      "border": null,
      "bottom": null,
      "display": null,
      "flex": "2",
      "flex_flow": null,
      "grid_area": null,
      "grid_auto_columns": null,
      "grid_auto_flow": null,
      "grid_auto_rows": null,
      "grid_column": null,
      "grid_gap": null,
      "grid_row": null,
      "grid_template_areas": null,
      "grid_template_columns": null,
      "grid_template_rows": null,
      "height": null,
      "justify_content": null,
      "justify_items": null,
      "left": null,
      "margin": null,
      "max_height": null,
      "max_width": null,
      "min_height": null,
      "min_width": null,
      "object_fit": null,
      "object_position": null,
      "order": null,
      "overflow": null,
      "overflow_x": null,
      "overflow_y": null,
      "padding": null,
      "right": null,
      "top": null,
      "visibility": null,
      "width": null
     }
    },
    "7d46ef0c5a76417fbec2b29bba3fa631": {
     "model_module": "@jupyter-widgets/base",
     "model_module_version": "1.2.0",
     "model_name": "LayoutModel",
     "state": {
      "_model_module": "@jupyter-widgets/base",
      "_model_module_version": "1.2.0",
      "_model_name": "LayoutModel",
      "_view_count": null,
      "_view_module": "@jupyter-widgets/base",
      "_view_module_version": "1.2.0",
      "_view_name": "LayoutView",
      "align_content": null,
      "align_items": null,
      "align_self": null,
      "border": null,
      "bottom": null,
      "display": "inline-flex",
      "flex": null,
      "flex_flow": "row wrap",
      "grid_area": null,
      "grid_auto_columns": null,
      "grid_auto_flow": null,
      "grid_auto_rows": null,
      "grid_column": null,
      "grid_gap": null,
      "grid_row": null,
      "grid_template_areas": null,
      "grid_template_columns": null,
      "grid_template_rows": null,
      "height": null,
      "justify_content": null,
      "justify_items": null,
      "left": null,
      "margin": null,
      "max_height": null,
      "max_width": null,
      "min_height": null,
      "min_width": null,
      "object_fit": null,
      "object_position": null,
      "order": null,
      "overflow": null,
      "overflow_x": null,
      "overflow_y": null,
      "padding": null,
      "right": null,
      "top": null,
      "visibility": "hidden",
      "width": "100%"
     }
    },
    "7f7bf836e30542fdb315458bc52f2d10": {
     "model_module": "@jupyter-widgets/base",
     "model_module_version": "1.2.0",
     "model_name": "LayoutModel",
     "state": {
      "_model_module": "@jupyter-widgets/base",
      "_model_module_version": "1.2.0",
      "_model_name": "LayoutModel",
      "_view_count": null,
      "_view_module": "@jupyter-widgets/base",
      "_view_module_version": "1.2.0",
      "_view_name": "LayoutView",
      "align_content": null,
      "align_items": null,
      "align_self": null,
      "border": null,
      "bottom": null,
      "display": null,
      "flex": "2",
      "flex_flow": null,
      "grid_area": null,
      "grid_auto_columns": null,
      "grid_auto_flow": null,
      "grid_auto_rows": null,
      "grid_column": null,
      "grid_gap": null,
      "grid_row": null,
      "grid_template_areas": null,
      "grid_template_columns": null,
      "grid_template_rows": null,
      "height": null,
      "justify_content": null,
      "justify_items": null,
      "left": null,
      "margin": null,
      "max_height": null,
      "max_width": null,
      "min_height": null,
      "min_width": null,
      "object_fit": null,
      "object_position": null,
      "order": null,
      "overflow": null,
      "overflow_x": null,
      "overflow_y": null,
      "padding": null,
      "right": null,
      "top": null,
      "visibility": null,
      "width": null
     }
    },
    "7fabbff5bcc7417c80845b9e415ea8f9": {
     "model_module": "@jupyter-widgets/controls",
     "model_module_version": "1.5.0",
     "model_name": "HTMLModel",
     "state": {
      "_dom_classes": [],
      "_model_module": "@jupyter-widgets/controls",
      "_model_module_version": "1.5.0",
      "_model_name": "HTMLModel",
      "_view_count": null,
      "_view_module": "@jupyter-widgets/controls",
      "_view_module_version": "1.5.0",
      "_view_name": "HTMLView",
      "description": "",
      "description_tooltip": null,
      "layout": "IPY_MODEL_699d689b31af4e73bfd1b146ccb0bada",
      "placeholder": "​",
      "style": "IPY_MODEL_9b44d1d0e69f4a82b30d6935b058c218",
      "value": "Validation DataLoader 0: 100%"
     }
    },
    "8027525695e44dfbb657fa9412c05f3f": {
     "model_module": "@jupyter-widgets/base",
     "model_module_version": "1.2.0",
     "model_name": "LayoutModel",
     "state": {
      "_model_module": "@jupyter-widgets/base",
      "_model_module_version": "1.2.0",
      "_model_name": "LayoutModel",
      "_view_count": null,
      "_view_module": "@jupyter-widgets/base",
      "_view_module_version": "1.2.0",
      "_view_name": "LayoutView",
      "align_content": null,
      "align_items": null,
      "align_self": null,
      "border": null,
      "bottom": null,
      "display": null,
      "flex": null,
      "flex_flow": null,
      "grid_area": null,
      "grid_auto_columns": null,
      "grid_auto_flow": null,
      "grid_auto_rows": null,
      "grid_column": null,
      "grid_gap": null,
      "grid_row": null,
      "grid_template_areas": null,
      "grid_template_columns": null,
      "grid_template_rows": null,
      "height": null,
      "justify_content": null,
      "justify_items": null,
      "left": null,
      "margin": null,
      "max_height": null,
      "max_width": null,
      "min_height": null,
      "min_width": null,
      "object_fit": null,
      "object_position": null,
      "order": null,
      "overflow": null,
      "overflow_x": null,
      "overflow_y": null,
      "padding": null,
      "right": null,
      "top": null,
      "visibility": null,
      "width": null
     }
    },
    "8057ddac383445068fcf6290dd1e600a": {
     "model_module": "@jupyter-widgets/base",
     "model_module_version": "1.2.0",
     "model_name": "LayoutModel",
     "state": {
      "_model_module": "@jupyter-widgets/base",
      "_model_module_version": "1.2.0",
      "_model_name": "LayoutModel",
      "_view_count": null,
      "_view_module": "@jupyter-widgets/base",
      "_view_module_version": "1.2.0",
      "_view_name": "LayoutView",
      "align_content": null,
      "align_items": null,
      "align_self": null,
      "border": null,
      "bottom": null,
      "display": null,
      "flex": null,
      "flex_flow": null,
      "grid_area": null,
      "grid_auto_columns": null,
      "grid_auto_flow": null,
      "grid_auto_rows": null,
      "grid_column": null,
      "grid_gap": null,
      "grid_row": null,
      "grid_template_areas": null,
      "grid_template_columns": null,
      "grid_template_rows": null,
      "height": null,
      "justify_content": null,
      "justify_items": null,
      "left": null,
      "margin": null,
      "max_height": null,
      "max_width": null,
      "min_height": null,
      "min_width": null,
      "object_fit": null,
      "object_position": null,
      "order": null,
      "overflow": null,
      "overflow_x": null,
      "overflow_y": null,
      "padding": null,
      "right": null,
      "top": null,
      "visibility": null,
      "width": null
     }
    },
    "807f89e007ca47dcb02fa0a94cf7ea27": {
     "model_module": "@jupyter-widgets/controls",
     "model_module_version": "1.5.0",
     "model_name": "ProgressStyleModel",
     "state": {
      "_model_module": "@jupyter-widgets/controls",
      "_model_module_version": "1.5.0",
      "_model_name": "ProgressStyleModel",
      "_view_count": null,
      "_view_module": "@jupyter-widgets/base",
      "_view_module_version": "1.2.0",
      "_view_name": "StyleView",
      "bar_color": null,
      "description_width": ""
     }
    },
    "80ae35e65d5b4625affa6a65ee75c18d": {
     "model_module": "@jupyter-widgets/controls",
     "model_module_version": "1.5.0",
     "model_name": "ProgressStyleModel",
     "state": {
      "_model_module": "@jupyter-widgets/controls",
      "_model_module_version": "1.5.0",
      "_model_name": "ProgressStyleModel",
      "_view_count": null,
      "_view_module": "@jupyter-widgets/base",
      "_view_module_version": "1.2.0",
      "_view_name": "StyleView",
      "bar_color": null,
      "description_width": ""
     }
    },
    "81220a5f37544e5082af0cbf9bf7c20c": {
     "model_module": "@jupyter-widgets/controls",
     "model_module_version": "1.5.0",
     "model_name": "DescriptionStyleModel",
     "state": {
      "_model_module": "@jupyter-widgets/controls",
      "_model_module_version": "1.5.0",
      "_model_name": "DescriptionStyleModel",
      "_view_count": null,
      "_view_module": "@jupyter-widgets/base",
      "_view_module_version": "1.2.0",
      "_view_name": "StyleView",
      "description_width": ""
     }
    },
    "8144f52a8763445ea97d36636e1a9688": {
     "model_module": "@jupyter-widgets/controls",
     "model_module_version": "1.5.0",
     "model_name": "DescriptionStyleModel",
     "state": {
      "_model_module": "@jupyter-widgets/controls",
      "_model_module_version": "1.5.0",
      "_model_name": "DescriptionStyleModel",
      "_view_count": null,
      "_view_module": "@jupyter-widgets/base",
      "_view_module_version": "1.2.0",
      "_view_name": "StyleView",
      "description_width": ""
     }
    },
    "81e4a458744048848b57c5d4f5b650e9": {
     "model_module": "@jupyter-widgets/base",
     "model_module_version": "1.2.0",
     "model_name": "LayoutModel",
     "state": {
      "_model_module": "@jupyter-widgets/base",
      "_model_module_version": "1.2.0",
      "_model_name": "LayoutModel",
      "_view_count": null,
      "_view_module": "@jupyter-widgets/base",
      "_view_module_version": "1.2.0",
      "_view_name": "LayoutView",
      "align_content": null,
      "align_items": null,
      "align_self": null,
      "border": null,
      "bottom": null,
      "display": null,
      "flex": null,
      "flex_flow": null,
      "grid_area": null,
      "grid_auto_columns": null,
      "grid_auto_flow": null,
      "grid_auto_rows": null,
      "grid_column": null,
      "grid_gap": null,
      "grid_row": null,
      "grid_template_areas": null,
      "grid_template_columns": null,
      "grid_template_rows": null,
      "height": null,
      "justify_content": null,
      "justify_items": null,
      "left": null,
      "margin": null,
      "max_height": null,
      "max_width": null,
      "min_height": null,
      "min_width": null,
      "object_fit": null,
      "object_position": null,
      "order": null,
      "overflow": null,
      "overflow_x": null,
      "overflow_y": null,
      "padding": null,
      "right": null,
      "top": null,
      "visibility": null,
      "width": null
     }
    },
    "81f40352c0c6495f83ec023a98de7b33": {
     "model_module": "@jupyter-widgets/base",
     "model_module_version": "1.2.0",
     "model_name": "LayoutModel",
     "state": {
      "_model_module": "@jupyter-widgets/base",
      "_model_module_version": "1.2.0",
      "_model_name": "LayoutModel",
      "_view_count": null,
      "_view_module": "@jupyter-widgets/base",
      "_view_module_version": "1.2.0",
      "_view_name": "LayoutView",
      "align_content": null,
      "align_items": null,
      "align_self": null,
      "border": null,
      "bottom": null,
      "display": null,
      "flex": null,
      "flex_flow": null,
      "grid_area": null,
      "grid_auto_columns": null,
      "grid_auto_flow": null,
      "grid_auto_rows": null,
      "grid_column": null,
      "grid_gap": null,
      "grid_row": null,
      "grid_template_areas": null,
      "grid_template_columns": null,
      "grid_template_rows": null,
      "height": null,
      "justify_content": null,
      "justify_items": null,
      "left": null,
      "margin": null,
      "max_height": null,
      "max_width": null,
      "min_height": null,
      "min_width": null,
      "object_fit": null,
      "object_position": null,
      "order": null,
      "overflow": null,
      "overflow_x": null,
      "overflow_y": null,
      "padding": null,
      "right": null,
      "top": null,
      "visibility": null,
      "width": null
     }
    },
    "8271afe90f2b4018a4cdd5af4e4f3b32": {
     "model_module": "@jupyter-widgets/controls",
     "model_module_version": "1.5.0",
     "model_name": "DescriptionStyleModel",
     "state": {
      "_model_module": "@jupyter-widgets/controls",
      "_model_module_version": "1.5.0",
      "_model_name": "DescriptionStyleModel",
      "_view_count": null,
      "_view_module": "@jupyter-widgets/base",
      "_view_module_version": "1.2.0",
      "_view_name": "StyleView",
      "description_width": ""
     }
    },
    "840fe65eab434d3ba124dae1eee2a2da": {
     "model_module": "@jupyter-widgets/base",
     "model_module_version": "1.2.0",
     "model_name": "LayoutModel",
     "state": {
      "_model_module": "@jupyter-widgets/base",
      "_model_module_version": "1.2.0",
      "_model_name": "LayoutModel",
      "_view_count": null,
      "_view_module": "@jupyter-widgets/base",
      "_view_module_version": "1.2.0",
      "_view_name": "LayoutView",
      "align_content": null,
      "align_items": null,
      "align_self": null,
      "border": null,
      "bottom": null,
      "display": null,
      "flex": null,
      "flex_flow": null,
      "grid_area": null,
      "grid_auto_columns": null,
      "grid_auto_flow": null,
      "grid_auto_rows": null,
      "grid_column": null,
      "grid_gap": null,
      "grid_row": null,
      "grid_template_areas": null,
      "grid_template_columns": null,
      "grid_template_rows": null,
      "height": null,
      "justify_content": null,
      "justify_items": null,
      "left": null,
      "margin": null,
      "max_height": null,
      "max_width": null,
      "min_height": null,
      "min_width": null,
      "object_fit": null,
      "object_position": null,
      "order": null,
      "overflow": null,
      "overflow_x": null,
      "overflow_y": null,
      "padding": null,
      "right": null,
      "top": null,
      "visibility": null,
      "width": null
     }
    },
    "84332c7d4fdf46a3b6fb37e8e7e00c10": {
     "model_module": "@jupyter-widgets/base",
     "model_module_version": "1.2.0",
     "model_name": "LayoutModel",
     "state": {
      "_model_module": "@jupyter-widgets/base",
      "_model_module_version": "1.2.0",
      "_model_name": "LayoutModel",
      "_view_count": null,
      "_view_module": "@jupyter-widgets/base",
      "_view_module_version": "1.2.0",
      "_view_name": "LayoutView",
      "align_content": null,
      "align_items": null,
      "align_self": null,
      "border": null,
      "bottom": null,
      "display": null,
      "flex": "2",
      "flex_flow": null,
      "grid_area": null,
      "grid_auto_columns": null,
      "grid_auto_flow": null,
      "grid_auto_rows": null,
      "grid_column": null,
      "grid_gap": null,
      "grid_row": null,
      "grid_template_areas": null,
      "grid_template_columns": null,
      "grid_template_rows": null,
      "height": null,
      "justify_content": null,
      "justify_items": null,
      "left": null,
      "margin": null,
      "max_height": null,
      "max_width": null,
      "min_height": null,
      "min_width": null,
      "object_fit": null,
      "object_position": null,
      "order": null,
      "overflow": null,
      "overflow_x": null,
      "overflow_y": null,
      "padding": null,
      "right": null,
      "top": null,
      "visibility": null,
      "width": null
     }
    },
    "84462449f80e4fa6a1079fccf9517651": {
     "model_module": "@jupyter-widgets/base",
     "model_module_version": "1.2.0",
     "model_name": "LayoutModel",
     "state": {
      "_model_module": "@jupyter-widgets/base",
      "_model_module_version": "1.2.0",
      "_model_name": "LayoutModel",
      "_view_count": null,
      "_view_module": "@jupyter-widgets/base",
      "_view_module_version": "1.2.0",
      "_view_name": "LayoutView",
      "align_content": null,
      "align_items": null,
      "align_self": null,
      "border": null,
      "bottom": null,
      "display": null,
      "flex": null,
      "flex_flow": null,
      "grid_area": null,
      "grid_auto_columns": null,
      "grid_auto_flow": null,
      "grid_auto_rows": null,
      "grid_column": null,
      "grid_gap": null,
      "grid_row": null,
      "grid_template_areas": null,
      "grid_template_columns": null,
      "grid_template_rows": null,
      "height": null,
      "justify_content": null,
      "justify_items": null,
      "left": null,
      "margin": null,
      "max_height": null,
      "max_width": null,
      "min_height": null,
      "min_width": null,
      "object_fit": null,
      "object_position": null,
      "order": null,
      "overflow": null,
      "overflow_x": null,
      "overflow_y": null,
      "padding": null,
      "right": null,
      "top": null,
      "visibility": null,
      "width": null
     }
    },
    "84470516a4854c26bf716769ed416ec7": {
     "model_module": "@jupyter-widgets/base",
     "model_module_version": "1.2.0",
     "model_name": "LayoutModel",
     "state": {
      "_model_module": "@jupyter-widgets/base",
      "_model_module_version": "1.2.0",
      "_model_name": "LayoutModel",
      "_view_count": null,
      "_view_module": "@jupyter-widgets/base",
      "_view_module_version": "1.2.0",
      "_view_name": "LayoutView",
      "align_content": null,
      "align_items": null,
      "align_self": null,
      "border": null,
      "bottom": null,
      "display": null,
      "flex": "2",
      "flex_flow": null,
      "grid_area": null,
      "grid_auto_columns": null,
      "grid_auto_flow": null,
      "grid_auto_rows": null,
      "grid_column": null,
      "grid_gap": null,
      "grid_row": null,
      "grid_template_areas": null,
      "grid_template_columns": null,
      "grid_template_rows": null,
      "height": null,
      "justify_content": null,
      "justify_items": null,
      "left": null,
      "margin": null,
      "max_height": null,
      "max_width": null,
      "min_height": null,
      "min_width": null,
      "object_fit": null,
      "object_position": null,
      "order": null,
      "overflow": null,
      "overflow_x": null,
      "overflow_y": null,
      "padding": null,
      "right": null,
      "top": null,
      "visibility": null,
      "width": null
     }
    },
    "8463b8d1a4364eee809f2434d0bbad0c": {
     "model_module": "@jupyter-widgets/base",
     "model_module_version": "1.2.0",
     "model_name": "LayoutModel",
     "state": {
      "_model_module": "@jupyter-widgets/base",
      "_model_module_version": "1.2.0",
      "_model_name": "LayoutModel",
      "_view_count": null,
      "_view_module": "@jupyter-widgets/base",
      "_view_module_version": "1.2.0",
      "_view_name": "LayoutView",
      "align_content": null,
      "align_items": null,
      "align_self": null,
      "border": null,
      "bottom": null,
      "display": null,
      "flex": "2",
      "flex_flow": null,
      "grid_area": null,
      "grid_auto_columns": null,
      "grid_auto_flow": null,
      "grid_auto_rows": null,
      "grid_column": null,
      "grid_gap": null,
      "grid_row": null,
      "grid_template_areas": null,
      "grid_template_columns": null,
      "grid_template_rows": null,
      "height": null,
      "justify_content": null,
      "justify_items": null,
      "left": null,
      "margin": null,
      "max_height": null,
      "max_width": null,
      "min_height": null,
      "min_width": null,
      "object_fit": null,
      "object_position": null,
      "order": null,
      "overflow": null,
      "overflow_x": null,
      "overflow_y": null,
      "padding": null,
      "right": null,
      "top": null,
      "visibility": null,
      "width": null
     }
    },
    "851401d9f6124311ae66b45559d2cf82": {
     "model_module": "@jupyter-widgets/controls",
     "model_module_version": "1.5.0",
     "model_name": "FloatProgressModel",
     "state": {
      "_dom_classes": [],
      "_model_module": "@jupyter-widgets/controls",
      "_model_module_version": "1.5.0",
      "_model_name": "FloatProgressModel",
      "_view_count": null,
      "_view_module": "@jupyter-widgets/controls",
      "_view_module_version": "1.5.0",
      "_view_name": "ProgressView",
      "bar_style": "",
      "description": "",
      "description_tooltip": null,
      "layout": "IPY_MODEL_87f53ead0f344265b25d212ccb5bcc79",
      "max": 5,
      "min": 0,
      "orientation": "horizontal",
      "style": "IPY_MODEL_dfb6b0cd7d384c2aa28dc3b2a133e2be",
      "value": 5
     }
    },
    "866291b404004bc79f515b9a1eb989ee": {
     "model_module": "@jupyter-widgets/base",
     "model_module_version": "1.2.0",
     "model_name": "LayoutModel",
     "state": {
      "_model_module": "@jupyter-widgets/base",
      "_model_module_version": "1.2.0",
      "_model_name": "LayoutModel",
      "_view_count": null,
      "_view_module": "@jupyter-widgets/base",
      "_view_module_version": "1.2.0",
      "_view_name": "LayoutView",
      "align_content": null,
      "align_items": null,
      "align_self": null,
      "border": null,
      "bottom": null,
      "display": null,
      "flex": "2",
      "flex_flow": null,
      "grid_area": null,
      "grid_auto_columns": null,
      "grid_auto_flow": null,
      "grid_auto_rows": null,
      "grid_column": null,
      "grid_gap": null,
      "grid_row": null,
      "grid_template_areas": null,
      "grid_template_columns": null,
      "grid_template_rows": null,
      "height": null,
      "justify_content": null,
      "justify_items": null,
      "left": null,
      "margin": null,
      "max_height": null,
      "max_width": null,
      "min_height": null,
      "min_width": null,
      "object_fit": null,
      "object_position": null,
      "order": null,
      "overflow": null,
      "overflow_x": null,
      "overflow_y": null,
      "padding": null,
      "right": null,
      "top": null,
      "visibility": null,
      "width": null
     }
    },
    "86d41d7fe5724ba892008f61f53c6e13": {
     "model_module": "@jupyter-widgets/controls",
     "model_module_version": "1.5.0",
     "model_name": "DescriptionStyleModel",
     "state": {
      "_model_module": "@jupyter-widgets/controls",
      "_model_module_version": "1.5.0",
      "_model_name": "DescriptionStyleModel",
      "_view_count": null,
      "_view_module": "@jupyter-widgets/base",
      "_view_module_version": "1.2.0",
      "_view_name": "StyleView",
      "description_width": ""
     }
    },
    "8740560e1e0f4e5487fe7b11cb488f57": {
     "model_module": "@jupyter-widgets/base",
     "model_module_version": "1.2.0",
     "model_name": "LayoutModel",
     "state": {
      "_model_module": "@jupyter-widgets/base",
      "_model_module_version": "1.2.0",
      "_model_name": "LayoutModel",
      "_view_count": null,
      "_view_module": "@jupyter-widgets/base",
      "_view_module_version": "1.2.0",
      "_view_name": "LayoutView",
      "align_content": null,
      "align_items": null,
      "align_self": null,
      "border": null,
      "bottom": null,
      "display": "inline-flex",
      "flex": null,
      "flex_flow": "row wrap",
      "grid_area": null,
      "grid_auto_columns": null,
      "grid_auto_flow": null,
      "grid_auto_rows": null,
      "grid_column": null,
      "grid_gap": null,
      "grid_row": null,
      "grid_template_areas": null,
      "grid_template_columns": null,
      "grid_template_rows": null,
      "height": null,
      "justify_content": null,
      "justify_items": null,
      "left": null,
      "margin": null,
      "max_height": null,
      "max_width": null,
      "min_height": null,
      "min_width": null,
      "object_fit": null,
      "object_position": null,
      "order": null,
      "overflow": null,
      "overflow_x": null,
      "overflow_y": null,
      "padding": null,
      "right": null,
      "top": null,
      "visibility": "hidden",
      "width": "100%"
     }
    },
    "87e5eae2a9254fe4b09ff34259f25e5c": {
     "model_module": "@jupyter-widgets/controls",
     "model_module_version": "1.5.0",
     "model_name": "HBoxModel",
     "state": {
      "_dom_classes": [],
      "_model_module": "@jupyter-widgets/controls",
      "_model_module_version": "1.5.0",
      "_model_name": "HBoxModel",
      "_view_count": null,
      "_view_module": "@jupyter-widgets/controls",
      "_view_module_version": "1.5.0",
      "_view_name": "HBoxView",
      "box_style": "",
      "children": [
       "IPY_MODEL_ba9193183be041088b2f47784b5c6052",
       "IPY_MODEL_a30270af9fda48f7a4353fcf5954160e",
       "IPY_MODEL_06e612df7c9b4719a3425bd086f7d2de"
      ],
      "layout": "IPY_MODEL_96438d1cc2844f9eb504fe172ed2ec96"
     }
    },
    "87f53ead0f344265b25d212ccb5bcc79": {
     "model_module": "@jupyter-widgets/base",
     "model_module_version": "1.2.0",
     "model_name": "LayoutModel",
     "state": {
      "_model_module": "@jupyter-widgets/base",
      "_model_module_version": "1.2.0",
      "_model_name": "LayoutModel",
      "_view_count": null,
      "_view_module": "@jupyter-widgets/base",
      "_view_module_version": "1.2.0",
      "_view_name": "LayoutView",
      "align_content": null,
      "align_items": null,
      "align_self": null,
      "border": null,
      "bottom": null,
      "display": null,
      "flex": "2",
      "flex_flow": null,
      "grid_area": null,
      "grid_auto_columns": null,
      "grid_auto_flow": null,
      "grid_auto_rows": null,
      "grid_column": null,
      "grid_gap": null,
      "grid_row": null,
      "grid_template_areas": null,
      "grid_template_columns": null,
      "grid_template_rows": null,
      "height": null,
      "justify_content": null,
      "justify_items": null,
      "left": null,
      "margin": null,
      "max_height": null,
      "max_width": null,
      "min_height": null,
      "min_width": null,
      "object_fit": null,
      "object_position": null,
      "order": null,
      "overflow": null,
      "overflow_x": null,
      "overflow_y": null,
      "padding": null,
      "right": null,
      "top": null,
      "visibility": null,
      "width": null
     }
    },
    "89ea0c0995da40cd9977bb00776cbfca": {
     "model_module": "@jupyter-widgets/controls",
     "model_module_version": "1.5.0",
     "model_name": "HBoxModel",
     "state": {
      "_dom_classes": [],
      "_model_module": "@jupyter-widgets/controls",
      "_model_module_version": "1.5.0",
      "_model_name": "HBoxModel",
      "_view_count": null,
      "_view_module": "@jupyter-widgets/controls",
      "_view_module_version": "1.5.0",
      "_view_name": "HBoxView",
      "box_style": "",
      "children": [
       "IPY_MODEL_7a5dd8fc8c9e4149ad1d7e3236a31f54",
       "IPY_MODEL_47d6882af5e2453193b78f8db7d5ff47",
       "IPY_MODEL_44b01ff2dbfc4691bd98dc3a9fc12926"
      ],
      "layout": "IPY_MODEL_4c101adde46c47abac317f30860a3d77"
     }
    },
    "8a3d5e3ccac14401a7ea4ca101194e10": {
     "model_module": "@jupyter-widgets/base",
     "model_module_version": "1.2.0",
     "model_name": "LayoutModel",
     "state": {
      "_model_module": "@jupyter-widgets/base",
      "_model_module_version": "1.2.0",
      "_model_name": "LayoutModel",
      "_view_count": null,
      "_view_module": "@jupyter-widgets/base",
      "_view_module_version": "1.2.0",
      "_view_name": "LayoutView",
      "align_content": null,
      "align_items": null,
      "align_self": null,
      "border": null,
      "bottom": null,
      "display": null,
      "flex": null,
      "flex_flow": null,
      "grid_area": null,
      "grid_auto_columns": null,
      "grid_auto_flow": null,
      "grid_auto_rows": null,
      "grid_column": null,
      "grid_gap": null,
      "grid_row": null,
      "grid_template_areas": null,
      "grid_template_columns": null,
      "grid_template_rows": null,
      "height": null,
      "justify_content": null,
      "justify_items": null,
      "left": null,
      "margin": null,
      "max_height": null,
      "max_width": null,
      "min_height": null,
      "min_width": null,
      "object_fit": null,
      "object_position": null,
      "order": null,
      "overflow": null,
      "overflow_x": null,
      "overflow_y": null,
      "padding": null,
      "right": null,
      "top": null,
      "visibility": null,
      "width": null
     }
    },
    "8a40a94723414315a15614275eeba7f1": {
     "model_module": "@jupyter-widgets/controls",
     "model_module_version": "1.5.0",
     "model_name": "DescriptionStyleModel",
     "state": {
      "_model_module": "@jupyter-widgets/controls",
      "_model_module_version": "1.5.0",
      "_model_name": "DescriptionStyleModel",
      "_view_count": null,
      "_view_module": "@jupyter-widgets/base",
      "_view_module_version": "1.2.0",
      "_view_name": "StyleView",
      "description_width": ""
     }
    },
    "8a8c62bc988d4b6aa49cb990838b3042": {
     "model_module": "@jupyter-widgets/base",
     "model_module_version": "1.2.0",
     "model_name": "LayoutModel",
     "state": {
      "_model_module": "@jupyter-widgets/base",
      "_model_module_version": "1.2.0",
      "_model_name": "LayoutModel",
      "_view_count": null,
      "_view_module": "@jupyter-widgets/base",
      "_view_module_version": "1.2.0",
      "_view_name": "LayoutView",
      "align_content": null,
      "align_items": null,
      "align_self": null,
      "border": null,
      "bottom": null,
      "display": null,
      "flex": null,
      "flex_flow": null,
      "grid_area": null,
      "grid_auto_columns": null,
      "grid_auto_flow": null,
      "grid_auto_rows": null,
      "grid_column": null,
      "grid_gap": null,
      "grid_row": null,
      "grid_template_areas": null,
      "grid_template_columns": null,
      "grid_template_rows": null,
      "height": null,
      "justify_content": null,
      "justify_items": null,
      "left": null,
      "margin": null,
      "max_height": null,
      "max_width": null,
      "min_height": null,
      "min_width": null,
      "object_fit": null,
      "object_position": null,
      "order": null,
      "overflow": null,
      "overflow_x": null,
      "overflow_y": null,
      "padding": null,
      "right": null,
      "top": null,
      "visibility": null,
      "width": null
     }
    },
    "8ab2bae0518746b98f78b5592a492c71": {
     "model_module": "@jupyter-widgets/controls",
     "model_module_version": "1.5.0",
     "model_name": "HTMLModel",
     "state": {
      "_dom_classes": [],
      "_model_module": "@jupyter-widgets/controls",
      "_model_module_version": "1.5.0",
      "_model_name": "HTMLModel",
      "_view_count": null,
      "_view_module": "@jupyter-widgets/controls",
      "_view_module_version": "1.5.0",
      "_view_name": "HTMLView",
      "description": "",
      "description_tooltip": null,
      "layout": "IPY_MODEL_8057ddac383445068fcf6290dd1e600a",
      "placeholder": "​",
      "style": "IPY_MODEL_d4203403e1c94de2b71cc55f5ce24364",
      "value": " 5/5 [00:01&lt;00:00,  3.96it/s]"
     }
    },
    "8b0705893062482ca766dc526da92ffb": {
     "model_module": "@jupyter-widgets/controls",
     "model_module_version": "1.5.0",
     "model_name": "ProgressStyleModel",
     "state": {
      "_model_module": "@jupyter-widgets/controls",
      "_model_module_version": "1.5.0",
      "_model_name": "ProgressStyleModel",
      "_view_count": null,
      "_view_module": "@jupyter-widgets/base",
      "_view_module_version": "1.2.0",
      "_view_name": "StyleView",
      "bar_color": null,
      "description_width": ""
     }
    },
    "8b87b87273da4372a4f5f932c1f71b2b": {
     "model_module": "@jupyter-widgets/base",
     "model_module_version": "1.2.0",
     "model_name": "LayoutModel",
     "state": {
      "_model_module": "@jupyter-widgets/base",
      "_model_module_version": "1.2.0",
      "_model_name": "LayoutModel",
      "_view_count": null,
      "_view_module": "@jupyter-widgets/base",
      "_view_module_version": "1.2.0",
      "_view_name": "LayoutView",
      "align_content": null,
      "align_items": null,
      "align_self": null,
      "border": null,
      "bottom": null,
      "display": null,
      "flex": null,
      "flex_flow": null,
      "grid_area": null,
      "grid_auto_columns": null,
      "grid_auto_flow": null,
      "grid_auto_rows": null,
      "grid_column": null,
      "grid_gap": null,
      "grid_row": null,
      "grid_template_areas": null,
      "grid_template_columns": null,
      "grid_template_rows": null,
      "height": null,
      "justify_content": null,
      "justify_items": null,
      "left": null,
      "margin": null,
      "max_height": null,
      "max_width": null,
      "min_height": null,
      "min_width": null,
      "object_fit": null,
      "object_position": null,
      "order": null,
      "overflow": null,
      "overflow_x": null,
      "overflow_y": null,
      "padding": null,
      "right": null,
      "top": null,
      "visibility": null,
      "width": null
     }
    },
    "8bd93a2f76134f9eb0d250dafe74df26": {
     "model_module": "@jupyter-widgets/controls",
     "model_module_version": "1.5.0",
     "model_name": "HTMLModel",
     "state": {
      "_dom_classes": [],
      "_model_module": "@jupyter-widgets/controls",
      "_model_module_version": "1.5.0",
      "_model_name": "HTMLModel",
      "_view_count": null,
      "_view_module": "@jupyter-widgets/controls",
      "_view_module_version": "1.5.0",
      "_view_name": "HTMLView",
      "description": "",
      "description_tooltip": null,
      "layout": "IPY_MODEL_9abe613cd57045b18782cccbfe64db7e",
      "placeholder": "​",
      "style": "IPY_MODEL_ed53c23815874fcdbe92a669ef33b451",
      "value": "Validation DataLoader 0: 100%"
     }
    },
    "8be474dd03d4433186637812a1030291": {
     "model_module": "@jupyter-widgets/controls",
     "model_module_version": "1.5.0",
     "model_name": "DescriptionStyleModel",
     "state": {
      "_model_module": "@jupyter-widgets/controls",
      "_model_module_version": "1.5.0",
      "_model_name": "DescriptionStyleModel",
      "_view_count": null,
      "_view_module": "@jupyter-widgets/base",
      "_view_module_version": "1.2.0",
      "_view_name": "StyleView",
      "description_width": ""
     }
    },
    "8c6f46e2352a48468670989d9e574cdc": {
     "model_module": "@jupyter-widgets/base",
     "model_module_version": "1.2.0",
     "model_name": "LayoutModel",
     "state": {
      "_model_module": "@jupyter-widgets/base",
      "_model_module_version": "1.2.0",
      "_model_name": "LayoutModel",
      "_view_count": null,
      "_view_module": "@jupyter-widgets/base",
      "_view_module_version": "1.2.0",
      "_view_name": "LayoutView",
      "align_content": null,
      "align_items": null,
      "align_self": null,
      "border": null,
      "bottom": null,
      "display": "inline-flex",
      "flex": null,
      "flex_flow": "row wrap",
      "grid_area": null,
      "grid_auto_columns": null,
      "grid_auto_flow": null,
      "grid_auto_rows": null,
      "grid_column": null,
      "grid_gap": null,
      "grid_row": null,
      "grid_template_areas": null,
      "grid_template_columns": null,
      "grid_template_rows": null,
      "height": null,
      "justify_content": null,
      "justify_items": null,
      "left": null,
      "margin": null,
      "max_height": null,
      "max_width": null,
      "min_height": null,
      "min_width": null,
      "object_fit": null,
      "object_position": null,
      "order": null,
      "overflow": null,
      "overflow_x": null,
      "overflow_y": null,
      "padding": null,
      "right": null,
      "top": null,
      "visibility": "hidden",
      "width": "100%"
     }
    },
    "8cb77b0f6d6944dfad76c65bbe29cd9c": {
     "model_module": "@jupyter-widgets/base",
     "model_module_version": "1.2.0",
     "model_name": "LayoutModel",
     "state": {
      "_model_module": "@jupyter-widgets/base",
      "_model_module_version": "1.2.0",
      "_model_name": "LayoutModel",
      "_view_count": null,
      "_view_module": "@jupyter-widgets/base",
      "_view_module_version": "1.2.0",
      "_view_name": "LayoutView",
      "align_content": null,
      "align_items": null,
      "align_self": null,
      "border": null,
      "bottom": null,
      "display": null,
      "flex": null,
      "flex_flow": null,
      "grid_area": null,
      "grid_auto_columns": null,
      "grid_auto_flow": null,
      "grid_auto_rows": null,
      "grid_column": null,
      "grid_gap": null,
      "grid_row": null,
      "grid_template_areas": null,
      "grid_template_columns": null,
      "grid_template_rows": null,
      "height": null,
      "justify_content": null,
      "justify_items": null,
      "left": null,
      "margin": null,
      "max_height": null,
      "max_width": null,
      "min_height": null,
      "min_width": null,
      "object_fit": null,
      "object_position": null,
      "order": null,
      "overflow": null,
      "overflow_x": null,
      "overflow_y": null,
      "padding": null,
      "right": null,
      "top": null,
      "visibility": null,
      "width": null
     }
    },
    "8d1a6fce1d7e46b7a95f484e85327fd3": {
     "model_module": "@jupyter-widgets/controls",
     "model_module_version": "1.5.0",
     "model_name": "DescriptionStyleModel",
     "state": {
      "_model_module": "@jupyter-widgets/controls",
      "_model_module_version": "1.5.0",
      "_model_name": "DescriptionStyleModel",
      "_view_count": null,
      "_view_module": "@jupyter-widgets/base",
      "_view_module_version": "1.2.0",
      "_view_name": "StyleView",
      "description_width": ""
     }
    },
    "8d9c8168dd6849a9a69c117be6b79fc7": {
     "model_module": "@jupyter-widgets/base",
     "model_module_version": "1.2.0",
     "model_name": "LayoutModel",
     "state": {
      "_model_module": "@jupyter-widgets/base",
      "_model_module_version": "1.2.0",
      "_model_name": "LayoutModel",
      "_view_count": null,
      "_view_module": "@jupyter-widgets/base",
      "_view_module_version": "1.2.0",
      "_view_name": "LayoutView",
      "align_content": null,
      "align_items": null,
      "align_self": null,
      "border": null,
      "bottom": null,
      "display": "inline-flex",
      "flex": null,
      "flex_flow": "row wrap",
      "grid_area": null,
      "grid_auto_columns": null,
      "grid_auto_flow": null,
      "grid_auto_rows": null,
      "grid_column": null,
      "grid_gap": null,
      "grid_row": null,
      "grid_template_areas": null,
      "grid_template_columns": null,
      "grid_template_rows": null,
      "height": null,
      "justify_content": null,
      "justify_items": null,
      "left": null,
      "margin": null,
      "max_height": null,
      "max_width": null,
      "min_height": null,
      "min_width": null,
      "object_fit": null,
      "object_position": null,
      "order": null,
      "overflow": null,
      "overflow_x": null,
      "overflow_y": null,
      "padding": null,
      "right": null,
      "top": null,
      "visibility": null,
      "width": "100%"
     }
    },
    "8e1bcc23177c4f4585949ba840ccf267": {
     "model_module": "@jupyter-widgets/controls",
     "model_module_version": "1.5.0",
     "model_name": "HTMLModel",
     "state": {
      "_dom_classes": [],
      "_model_module": "@jupyter-widgets/controls",
      "_model_module_version": "1.5.0",
      "_model_name": "HTMLModel",
      "_view_count": null,
      "_view_module": "@jupyter-widgets/controls",
      "_view_module_version": "1.5.0",
      "_view_name": "HTMLView",
      "description": "",
      "description_tooltip": null,
      "layout": "IPY_MODEL_037cedb4fcb64c8ca8cf5e312acf1573",
      "placeholder": "​",
      "style": "IPY_MODEL_8144f52a8763445ea97d36636e1a9688",
      "value": "Validation DataLoader 0: 100%"
     }
    },
    "8e612bcacfc0473f9b32bf2193fdb548": {
     "model_module": "@jupyter-widgets/base",
     "model_module_version": "1.2.0",
     "model_name": "LayoutModel",
     "state": {
      "_model_module": "@jupyter-widgets/base",
      "_model_module_version": "1.2.0",
      "_model_name": "LayoutModel",
      "_view_count": null,
      "_view_module": "@jupyter-widgets/base",
      "_view_module_version": "1.2.0",
      "_view_name": "LayoutView",
      "align_content": null,
      "align_items": null,
      "align_self": null,
      "border": null,
      "bottom": null,
      "display": null,
      "flex": null,
      "flex_flow": null,
      "grid_area": null,
      "grid_auto_columns": null,
      "grid_auto_flow": null,
      "grid_auto_rows": null,
      "grid_column": null,
      "grid_gap": null,
      "grid_row": null,
      "grid_template_areas": null,
      "grid_template_columns": null,
      "grid_template_rows": null,
      "height": null,
      "justify_content": null,
      "justify_items": null,
      "left": null,
      "margin": null,
      "max_height": null,
      "max_width": null,
      "min_height": null,
      "min_width": null,
      "object_fit": null,
      "object_position": null,
      "order": null,
      "overflow": null,
      "overflow_x": null,
      "overflow_y": null,
      "padding": null,
      "right": null,
      "top": null,
      "visibility": null,
      "width": null
     }
    },
    "8fe8f2a8fa9b482e84e459379f07e0cc": {
     "model_module": "@jupyter-widgets/controls",
     "model_module_version": "1.5.0",
     "model_name": "HTMLModel",
     "state": {
      "_dom_classes": [],
      "_model_module": "@jupyter-widgets/controls",
      "_model_module_version": "1.5.0",
      "_model_name": "HTMLModel",
      "_view_count": null,
      "_view_module": "@jupyter-widgets/controls",
      "_view_module_version": "1.5.0",
      "_view_name": "HTMLView",
      "description": "",
      "description_tooltip": null,
      "layout": "IPY_MODEL_3efe612df81c4faf8cdb7d30a53af7d8",
      "placeholder": "​",
      "style": "IPY_MODEL_4dec577cdc25459ab92cf86e44498418",
      "value": "Validation DataLoader 0: 100%"
     }
    },
    "9002d0eaca914fa8995cbd25749b1637": {
     "model_module": "@jupyter-widgets/controls",
     "model_module_version": "1.5.0",
     "model_name": "FloatProgressModel",
     "state": {
      "_dom_classes": [],
      "_model_module": "@jupyter-widgets/controls",
      "_model_module_version": "1.5.0",
      "_model_name": "FloatProgressModel",
      "_view_count": null,
      "_view_module": "@jupyter-widgets/controls",
      "_view_module_version": "1.5.0",
      "_view_name": "ProgressView",
      "bar_style": "",
      "description": "",
      "description_tooltip": null,
      "layout": "IPY_MODEL_df97b6cafb904cf0a1e304d874b89fd9",
      "max": 5,
      "min": 0,
      "orientation": "horizontal",
      "style": "IPY_MODEL_05bc55504fd04279bd443494f0eff031",
      "value": 5
     }
    },
    "900ba8049d8043eda8f572fc1ef728ec": {
     "model_module": "@jupyter-widgets/controls",
     "model_module_version": "1.5.0",
     "model_name": "HTMLModel",
     "state": {
      "_dom_classes": [],
      "_model_module": "@jupyter-widgets/controls",
      "_model_module_version": "1.5.0",
      "_model_name": "HTMLModel",
      "_view_count": null,
      "_view_module": "@jupyter-widgets/controls",
      "_view_module_version": "1.5.0",
      "_view_name": "HTMLView",
      "description": "",
      "description_tooltip": null,
      "layout": "IPY_MODEL_664a5cdb43294addb053d5298b4f5dee",
      "placeholder": "​",
      "style": "IPY_MODEL_977fa88c9feb42b8ae011a01b8f5d21e",
      "value": " 5/5 [00:01&lt;00:00,  3.89it/s]"
     }
    },
    "902cd7a7fd834c28a33fab347a34cc53": {
     "model_module": "@jupyter-widgets/base",
     "model_module_version": "1.2.0",
     "model_name": "LayoutModel",
     "state": {
      "_model_module": "@jupyter-widgets/base",
      "_model_module_version": "1.2.0",
      "_model_name": "LayoutModel",
      "_view_count": null,
      "_view_module": "@jupyter-widgets/base",
      "_view_module_version": "1.2.0",
      "_view_name": "LayoutView",
      "align_content": null,
      "align_items": null,
      "align_self": null,
      "border": null,
      "bottom": null,
      "display": null,
      "flex": "2",
      "flex_flow": null,
      "grid_area": null,
      "grid_auto_columns": null,
      "grid_auto_flow": null,
      "grid_auto_rows": null,
      "grid_column": null,
      "grid_gap": null,
      "grid_row": null,
      "grid_template_areas": null,
      "grid_template_columns": null,
      "grid_template_rows": null,
      "height": null,
      "justify_content": null,
      "justify_items": null,
      "left": null,
      "margin": null,
      "max_height": null,
      "max_width": null,
      "min_height": null,
      "min_width": null,
      "object_fit": null,
      "object_position": null,
      "order": null,
      "overflow": null,
      "overflow_x": null,
      "overflow_y": null,
      "padding": null,
      "right": null,
      "top": null,
      "visibility": null,
      "width": null
     }
    },
    "9061bf230c0843c8943271e5e9290075": {
     "model_module": "@jupyter-widgets/controls",
     "model_module_version": "1.5.0",
     "model_name": "DescriptionStyleModel",
     "state": {
      "_model_module": "@jupyter-widgets/controls",
      "_model_module_version": "1.5.0",
      "_model_name": "DescriptionStyleModel",
      "_view_count": null,
      "_view_module": "@jupyter-widgets/base",
      "_view_module_version": "1.2.0",
      "_view_name": "StyleView",
      "description_width": ""
     }
    },
    "90818edd06ea411883188ab51a6a73c3": {
     "model_module": "@jupyter-widgets/controls",
     "model_module_version": "1.5.0",
     "model_name": "ProgressStyleModel",
     "state": {
      "_model_module": "@jupyter-widgets/controls",
      "_model_module_version": "1.5.0",
      "_model_name": "ProgressStyleModel",
      "_view_count": null,
      "_view_module": "@jupyter-widgets/base",
      "_view_module_version": "1.2.0",
      "_view_name": "StyleView",
      "bar_color": null,
      "description_width": ""
     }
    },
    "9165c1d7946c4abf8dbc0682a644edca": {
     "model_module": "@jupyter-widgets/base",
     "model_module_version": "1.2.0",
     "model_name": "LayoutModel",
     "state": {
      "_model_module": "@jupyter-widgets/base",
      "_model_module_version": "1.2.0",
      "_model_name": "LayoutModel",
      "_view_count": null,
      "_view_module": "@jupyter-widgets/base",
      "_view_module_version": "1.2.0",
      "_view_name": "LayoutView",
      "align_content": null,
      "align_items": null,
      "align_self": null,
      "border": null,
      "bottom": null,
      "display": null,
      "flex": "2",
      "flex_flow": null,
      "grid_area": null,
      "grid_auto_columns": null,
      "grid_auto_flow": null,
      "grid_auto_rows": null,
      "grid_column": null,
      "grid_gap": null,
      "grid_row": null,
      "grid_template_areas": null,
      "grid_template_columns": null,
      "grid_template_rows": null,
      "height": null,
      "justify_content": null,
      "justify_items": null,
      "left": null,
      "margin": null,
      "max_height": null,
      "max_width": null,
      "min_height": null,
      "min_width": null,
      "object_fit": null,
      "object_position": null,
      "order": null,
      "overflow": null,
      "overflow_x": null,
      "overflow_y": null,
      "padding": null,
      "right": null,
      "top": null,
      "visibility": null,
      "width": null
     }
    },
    "92b7dc5621a24349876f1c2e53a2cda4": {
     "model_module": "@jupyter-widgets/base",
     "model_module_version": "1.2.0",
     "model_name": "LayoutModel",
     "state": {
      "_model_module": "@jupyter-widgets/base",
      "_model_module_version": "1.2.0",
      "_model_name": "LayoutModel",
      "_view_count": null,
      "_view_module": "@jupyter-widgets/base",
      "_view_module_version": "1.2.0",
      "_view_name": "LayoutView",
      "align_content": null,
      "align_items": null,
      "align_self": null,
      "border": null,
      "bottom": null,
      "display": "inline-flex",
      "flex": null,
      "flex_flow": "row wrap",
      "grid_area": null,
      "grid_auto_columns": null,
      "grid_auto_flow": null,
      "grid_auto_rows": null,
      "grid_column": null,
      "grid_gap": null,
      "grid_row": null,
      "grid_template_areas": null,
      "grid_template_columns": null,
      "grid_template_rows": null,
      "height": null,
      "justify_content": null,
      "justify_items": null,
      "left": null,
      "margin": null,
      "max_height": null,
      "max_width": null,
      "min_height": null,
      "min_width": null,
      "object_fit": null,
      "object_position": null,
      "order": null,
      "overflow": null,
      "overflow_x": null,
      "overflow_y": null,
      "padding": null,
      "right": null,
      "top": null,
      "visibility": "hidden",
      "width": "100%"
     }
    },
    "93ca0d69b1cc414f8b4701c55d5e8dc8": {
     "model_module": "@jupyter-widgets/controls",
     "model_module_version": "1.5.0",
     "model_name": "HTMLModel",
     "state": {
      "_dom_classes": [],
      "_model_module": "@jupyter-widgets/controls",
      "_model_module_version": "1.5.0",
      "_model_name": "HTMLModel",
      "_view_count": null,
      "_view_module": "@jupyter-widgets/controls",
      "_view_module_version": "1.5.0",
      "_view_name": "HTMLView",
      "description": "",
      "description_tooltip": null,
      "layout": "IPY_MODEL_ba749fd3c2964638a216ed346fe49933",
      "placeholder": "​",
      "style": "IPY_MODEL_06567b661bcc4c3e835092934132b30c",
      "value": " 5/5 [00:01&lt;00:00,  4.02it/s]"
     }
    },
    "94345e776b5845a7a73429ac05050cd8": {
     "model_module": "@jupyter-widgets/controls",
     "model_module_version": "1.5.0",
     "model_name": "HTMLModel",
     "state": {
      "_dom_classes": [],
      "_model_module": "@jupyter-widgets/controls",
      "_model_module_version": "1.5.0",
      "_model_name": "HTMLModel",
      "_view_count": null,
      "_view_module": "@jupyter-widgets/controls",
      "_view_module_version": "1.5.0",
      "_view_name": "HTMLView",
      "description": "",
      "description_tooltip": null,
      "layout": "IPY_MODEL_fcb8995b63e045a39f70b49eb56ee8fe",
      "placeholder": "​",
      "style": "IPY_MODEL_ebf8df869acc4ac5822b77234bf1f441",
      "value": "Validation DataLoader 0: 100%"
     }
    },
    "9500732d231d4403a90176e3160080fd": {
     "model_module": "@jupyter-widgets/controls",
     "model_module_version": "1.5.0",
     "model_name": "DescriptionStyleModel",
     "state": {
      "_model_module": "@jupyter-widgets/controls",
      "_model_module_version": "1.5.0",
      "_model_name": "DescriptionStyleModel",
      "_view_count": null,
      "_view_module": "@jupyter-widgets/base",
      "_view_module_version": "1.2.0",
      "_view_name": "StyleView",
      "description_width": ""
     }
    },
    "9564e6c9866c445fa0af0cee834a518f": {
     "model_module": "@jupyter-widgets/controls",
     "model_module_version": "1.5.0",
     "model_name": "HTMLModel",
     "state": {
      "_dom_classes": [],
      "_model_module": "@jupyter-widgets/controls",
      "_model_module_version": "1.5.0",
      "_model_name": "HTMLModel",
      "_view_count": null,
      "_view_module": "@jupyter-widgets/controls",
      "_view_module_version": "1.5.0",
      "_view_name": "HTMLView",
      "description": "",
      "description_tooltip": null,
      "layout": "IPY_MODEL_84462449f80e4fa6a1079fccf9517651",
      "placeholder": "​",
      "style": "IPY_MODEL_3b9c243ad89945af8241f6efe1c3f380",
      "value": "Validation DataLoader 0: 100%"
     }
    },
    "96438d1cc2844f9eb504fe172ed2ec96": {
     "model_module": "@jupyter-widgets/base",
     "model_module_version": "1.2.0",
     "model_name": "LayoutModel",
     "state": {
      "_model_module": "@jupyter-widgets/base",
      "_model_module_version": "1.2.0",
      "_model_name": "LayoutModel",
      "_view_count": null,
      "_view_module": "@jupyter-widgets/base",
      "_view_module_version": "1.2.0",
      "_view_name": "LayoutView",
      "align_content": null,
      "align_items": null,
      "align_self": null,
      "border": null,
      "bottom": null,
      "display": "inline-flex",
      "flex": null,
      "flex_flow": "row wrap",
      "grid_area": null,
      "grid_auto_columns": null,
      "grid_auto_flow": null,
      "grid_auto_rows": null,
      "grid_column": null,
      "grid_gap": null,
      "grid_row": null,
      "grid_template_areas": null,
      "grid_template_columns": null,
      "grid_template_rows": null,
      "height": null,
      "justify_content": null,
      "justify_items": null,
      "left": null,
      "margin": null,
      "max_height": null,
      "max_width": null,
      "min_height": null,
      "min_width": null,
      "object_fit": null,
      "object_position": null,
      "order": null,
      "overflow": null,
      "overflow_x": null,
      "overflow_y": null,
      "padding": null,
      "right": null,
      "top": null,
      "visibility": "hidden",
      "width": "100%"
     }
    },
    "976f94973aaa4be1ac50ca874db77306": {
     "model_module": "@jupyter-widgets/controls",
     "model_module_version": "1.5.0",
     "model_name": "ProgressStyleModel",
     "state": {
      "_model_module": "@jupyter-widgets/controls",
      "_model_module_version": "1.5.0",
      "_model_name": "ProgressStyleModel",
      "_view_count": null,
      "_view_module": "@jupyter-widgets/base",
      "_view_module_version": "1.2.0",
      "_view_name": "StyleView",
      "bar_color": null,
      "description_width": ""
     }
    },
    "977fa88c9feb42b8ae011a01b8f5d21e": {
     "model_module": "@jupyter-widgets/controls",
     "model_module_version": "1.5.0",
     "model_name": "DescriptionStyleModel",
     "state": {
      "_model_module": "@jupyter-widgets/controls",
      "_model_module_version": "1.5.0",
      "_model_name": "DescriptionStyleModel",
      "_view_count": null,
      "_view_module": "@jupyter-widgets/base",
      "_view_module_version": "1.2.0",
      "_view_name": "StyleView",
      "description_width": ""
     }
    },
    "9785b7feb6704d3e8cc948ab27ac5bbd": {
     "model_module": "@jupyter-widgets/controls",
     "model_module_version": "1.5.0",
     "model_name": "DescriptionStyleModel",
     "state": {
      "_model_module": "@jupyter-widgets/controls",
      "_model_module_version": "1.5.0",
      "_model_name": "DescriptionStyleModel",
      "_view_count": null,
      "_view_module": "@jupyter-widgets/base",
      "_view_module_version": "1.2.0",
      "_view_name": "StyleView",
      "description_width": ""
     }
    },
    "979665aa10584ea485badcc4f6af4ef2": {
     "model_module": "@jupyter-widgets/controls",
     "model_module_version": "1.5.0",
     "model_name": "HBoxModel",
     "state": {
      "_dom_classes": [],
      "_model_module": "@jupyter-widgets/controls",
      "_model_module_version": "1.5.0",
      "_model_name": "HBoxModel",
      "_view_count": null,
      "_view_module": "@jupyter-widgets/controls",
      "_view_module_version": "1.5.0",
      "_view_name": "HBoxView",
      "box_style": "",
      "children": [
       "IPY_MODEL_fd2667a33b17440b85425ce823dffbf6",
       "IPY_MODEL_9cd72cd676e64573beb7fb22fcb93a96",
       "IPY_MODEL_900ba8049d8043eda8f572fc1ef728ec"
      ],
      "layout": "IPY_MODEL_5bb6debaee234438b7dc6b7c02dd22d2"
     }
    },
    "97dea354c886408496cba61f679046c2": {
     "model_module": "@jupyter-widgets/controls",
     "model_module_version": "1.5.0",
     "model_name": "ProgressStyleModel",
     "state": {
      "_model_module": "@jupyter-widgets/controls",
      "_model_module_version": "1.5.0",
      "_model_name": "ProgressStyleModel",
      "_view_count": null,
      "_view_module": "@jupyter-widgets/base",
      "_view_module_version": "1.2.0",
      "_view_name": "StyleView",
      "bar_color": null,
      "description_width": ""
     }
    },
    "97ee019aabc14c46aff31793386da94a": {
     "model_module": "@jupyter-widgets/base",
     "model_module_version": "1.2.0",
     "model_name": "LayoutModel",
     "state": {
      "_model_module": "@jupyter-widgets/base",
      "_model_module_version": "1.2.0",
      "_model_name": "LayoutModel",
      "_view_count": null,
      "_view_module": "@jupyter-widgets/base",
      "_view_module_version": "1.2.0",
      "_view_name": "LayoutView",
      "align_content": null,
      "align_items": null,
      "align_self": null,
      "border": null,
      "bottom": null,
      "display": null,
      "flex": null,
      "flex_flow": null,
      "grid_area": null,
      "grid_auto_columns": null,
      "grid_auto_flow": null,
      "grid_auto_rows": null,
      "grid_column": null,
      "grid_gap": null,
      "grid_row": null,
      "grid_template_areas": null,
      "grid_template_columns": null,
      "grid_template_rows": null,
      "height": null,
      "justify_content": null,
      "justify_items": null,
      "left": null,
      "margin": null,
      "max_height": null,
      "max_width": null,
      "min_height": null,
      "min_width": null,
      "object_fit": null,
      "object_position": null,
      "order": null,
      "overflow": null,
      "overflow_x": null,
      "overflow_y": null,
      "padding": null,
      "right": null,
      "top": null,
      "visibility": null,
      "width": null
     }
    },
    "9862f7a4450c4e1ba5fdf1099e9a912d": {
     "model_module": "@jupyter-widgets/controls",
     "model_module_version": "1.5.0",
     "model_name": "DescriptionStyleModel",
     "state": {
      "_model_module": "@jupyter-widgets/controls",
      "_model_module_version": "1.5.0",
      "_model_name": "DescriptionStyleModel",
      "_view_count": null,
      "_view_module": "@jupyter-widgets/base",
      "_view_module_version": "1.2.0",
      "_view_name": "StyleView",
      "description_width": ""
     }
    },
    "98d12d98b5aa40adbb2f186207f437cf": {
     "model_module": "@jupyter-widgets/controls",
     "model_module_version": "1.5.0",
     "model_name": "HTMLModel",
     "state": {
      "_dom_classes": [],
      "_model_module": "@jupyter-widgets/controls",
      "_model_module_version": "1.5.0",
      "_model_name": "HTMLModel",
      "_view_count": null,
      "_view_module": "@jupyter-widgets/controls",
      "_view_module_version": "1.5.0",
      "_view_name": "HTMLView",
      "description": "",
      "description_tooltip": null,
      "layout": "IPY_MODEL_262a3f60a5254adebfed0c6cf6692638",
      "placeholder": "​",
      "style": "IPY_MODEL_8271afe90f2b4018a4cdd5af4e4f3b32",
      "value": "Validation DataLoader 0: 100%"
     }
    },
    "9a0f7629b33a4f35aa508b67a8fbcfad": {
     "model_module": "@jupyter-widgets/base",
     "model_module_version": "1.2.0",
     "model_name": "LayoutModel",
     "state": {
      "_model_module": "@jupyter-widgets/base",
      "_model_module_version": "1.2.0",
      "_model_name": "LayoutModel",
      "_view_count": null,
      "_view_module": "@jupyter-widgets/base",
      "_view_module_version": "1.2.0",
      "_view_name": "LayoutView",
      "align_content": null,
      "align_items": null,
      "align_self": null,
      "border": null,
      "bottom": null,
      "display": null,
      "flex": null,
      "flex_flow": null,
      "grid_area": null,
      "grid_auto_columns": null,
      "grid_auto_flow": null,
      "grid_auto_rows": null,
      "grid_column": null,
      "grid_gap": null,
      "grid_row": null,
      "grid_template_areas": null,
      "grid_template_columns": null,
      "grid_template_rows": null,
      "height": null,
      "justify_content": null,
      "justify_items": null,
      "left": null,
      "margin": null,
      "max_height": null,
      "max_width": null,
      "min_height": null,
      "min_width": null,
      "object_fit": null,
      "object_position": null,
      "order": null,
      "overflow": null,
      "overflow_x": null,
      "overflow_y": null,
      "padding": null,
      "right": null,
      "top": null,
      "visibility": null,
      "width": null
     }
    },
    "9aa8a28ef53e404182fef0544659e59a": {
     "model_module": "@jupyter-widgets/base",
     "model_module_version": "1.2.0",
     "model_name": "LayoutModel",
     "state": {
      "_model_module": "@jupyter-widgets/base",
      "_model_module_version": "1.2.0",
      "_model_name": "LayoutModel",
      "_view_count": null,
      "_view_module": "@jupyter-widgets/base",
      "_view_module_version": "1.2.0",
      "_view_name": "LayoutView",
      "align_content": null,
      "align_items": null,
      "align_self": null,
      "border": null,
      "bottom": null,
      "display": null,
      "flex": "2",
      "flex_flow": null,
      "grid_area": null,
      "grid_auto_columns": null,
      "grid_auto_flow": null,
      "grid_auto_rows": null,
      "grid_column": null,
      "grid_gap": null,
      "grid_row": null,
      "grid_template_areas": null,
      "grid_template_columns": null,
      "grid_template_rows": null,
      "height": null,
      "justify_content": null,
      "justify_items": null,
      "left": null,
      "margin": null,
      "max_height": null,
      "max_width": null,
      "min_height": null,
      "min_width": null,
      "object_fit": null,
      "object_position": null,
      "order": null,
      "overflow": null,
      "overflow_x": null,
      "overflow_y": null,
      "padding": null,
      "right": null,
      "top": null,
      "visibility": null,
      "width": null
     }
    },
    "9abe613cd57045b18782cccbfe64db7e": {
     "model_module": "@jupyter-widgets/base",
     "model_module_version": "1.2.0",
     "model_name": "LayoutModel",
     "state": {
      "_model_module": "@jupyter-widgets/base",
      "_model_module_version": "1.2.0",
      "_model_name": "LayoutModel",
      "_view_count": null,
      "_view_module": "@jupyter-widgets/base",
      "_view_module_version": "1.2.0",
      "_view_name": "LayoutView",
      "align_content": null,
      "align_items": null,
      "align_self": null,
      "border": null,
      "bottom": null,
      "display": null,
      "flex": null,
      "flex_flow": null,
      "grid_area": null,
      "grid_auto_columns": null,
      "grid_auto_flow": null,
      "grid_auto_rows": null,
      "grid_column": null,
      "grid_gap": null,
      "grid_row": null,
      "grid_template_areas": null,
      "grid_template_columns": null,
      "grid_template_rows": null,
      "height": null,
      "justify_content": null,
      "justify_items": null,
      "left": null,
      "margin": null,
      "max_height": null,
      "max_width": null,
      "min_height": null,
      "min_width": null,
      "object_fit": null,
      "object_position": null,
      "order": null,
      "overflow": null,
      "overflow_x": null,
      "overflow_y": null,
      "padding": null,
      "right": null,
      "top": null,
      "visibility": null,
      "width": null
     }
    },
    "9b0bad44b7a24852be8c4f040a405e4e": {
     "model_module": "@jupyter-widgets/controls",
     "model_module_version": "1.5.0",
     "model_name": "ProgressStyleModel",
     "state": {
      "_model_module": "@jupyter-widgets/controls",
      "_model_module_version": "1.5.0",
      "_model_name": "ProgressStyleModel",
      "_view_count": null,
      "_view_module": "@jupyter-widgets/base",
      "_view_module_version": "1.2.0",
      "_view_name": "StyleView",
      "bar_color": null,
      "description_width": ""
     }
    },
    "9b44d1d0e69f4a82b30d6935b058c218": {
     "model_module": "@jupyter-widgets/controls",
     "model_module_version": "1.5.0",
     "model_name": "DescriptionStyleModel",
     "state": {
      "_model_module": "@jupyter-widgets/controls",
      "_model_module_version": "1.5.0",
      "_model_name": "DescriptionStyleModel",
      "_view_count": null,
      "_view_module": "@jupyter-widgets/base",
      "_view_module_version": "1.2.0",
      "_view_name": "StyleView",
      "description_width": ""
     }
    },
    "9b4d4d48f7c04d21a0a84838a45820a8": {
     "model_module": "@jupyter-widgets/base",
     "model_module_version": "1.2.0",
     "model_name": "LayoutModel",
     "state": {
      "_model_module": "@jupyter-widgets/base",
      "_model_module_version": "1.2.0",
      "_model_name": "LayoutModel",
      "_view_count": null,
      "_view_module": "@jupyter-widgets/base",
      "_view_module_version": "1.2.0",
      "_view_name": "LayoutView",
      "align_content": null,
      "align_items": null,
      "align_self": null,
      "border": null,
      "bottom": null,
      "display": null,
      "flex": null,
      "flex_flow": null,
      "grid_area": null,
      "grid_auto_columns": null,
      "grid_auto_flow": null,
      "grid_auto_rows": null,
      "grid_column": null,
      "grid_gap": null,
      "grid_row": null,
      "grid_template_areas": null,
      "grid_template_columns": null,
      "grid_template_rows": null,
      "height": null,
      "justify_content": null,
      "justify_items": null,
      "left": null,
      "margin": null,
      "max_height": null,
      "max_width": null,
      "min_height": null,
      "min_width": null,
      "object_fit": null,
      "object_position": null,
      "order": null,
      "overflow": null,
      "overflow_x": null,
      "overflow_y": null,
      "padding": null,
      "right": null,
      "top": null,
      "visibility": null,
      "width": null
     }
    },
    "9c0c4cf101d24abf9a1ccd4a1b9b934d": {
     "model_module": "@jupyter-widgets/controls",
     "model_module_version": "1.5.0",
     "model_name": "HBoxModel",
     "state": {
      "_dom_classes": [],
      "_model_module": "@jupyter-widgets/controls",
      "_model_module_version": "1.5.0",
      "_model_name": "HBoxModel",
      "_view_count": null,
      "_view_module": "@jupyter-widgets/controls",
      "_view_module_version": "1.5.0",
      "_view_name": "HBoxView",
      "box_style": "",
      "children": [
       "IPY_MODEL_e488a559d63a4129b5fe907c946daf7d",
       "IPY_MODEL_f9e9fd00891146e68a950c02a5207dde",
       "IPY_MODEL_1fe29e4fbbbe4d839f6ed1f1a92ffd7e"
      ],
      "layout": "IPY_MODEL_e5d32a28f44343cebdbfe27e74483c44"
     }
    },
    "9c58f53da6ff4f54ac926dd8689c70ea": {
     "model_module": "@jupyter-widgets/base",
     "model_module_version": "1.2.0",
     "model_name": "LayoutModel",
     "state": {
      "_model_module": "@jupyter-widgets/base",
      "_model_module_version": "1.2.0",
      "_model_name": "LayoutModel",
      "_view_count": null,
      "_view_module": "@jupyter-widgets/base",
      "_view_module_version": "1.2.0",
      "_view_name": "LayoutView",
      "align_content": null,
      "align_items": null,
      "align_self": null,
      "border": null,
      "bottom": null,
      "display": null,
      "flex": null,
      "flex_flow": null,
      "grid_area": null,
      "grid_auto_columns": null,
      "grid_auto_flow": null,
      "grid_auto_rows": null,
      "grid_column": null,
      "grid_gap": null,
      "grid_row": null,
      "grid_template_areas": null,
      "grid_template_columns": null,
      "grid_template_rows": null,
      "height": null,
      "justify_content": null,
      "justify_items": null,
      "left": null,
      "margin": null,
      "max_height": null,
      "max_width": null,
      "min_height": null,
      "min_width": null,
      "object_fit": null,
      "object_position": null,
      "order": null,
      "overflow": null,
      "overflow_x": null,
      "overflow_y": null,
      "padding": null,
      "right": null,
      "top": null,
      "visibility": null,
      "width": null
     }
    },
    "9c6e2a4202f84e92aceb77c3aea142bc": {
     "model_module": "@jupyter-widgets/controls",
     "model_module_version": "1.5.0",
     "model_name": "FloatProgressModel",
     "state": {
      "_dom_classes": [],
      "_model_module": "@jupyter-widgets/controls",
      "_model_module_version": "1.5.0",
      "_model_name": "FloatProgressModel",
      "_view_count": null,
      "_view_module": "@jupyter-widgets/controls",
      "_view_module_version": "1.5.0",
      "_view_name": "ProgressView",
      "bar_style": "",
      "description": "",
      "description_tooltip": null,
      "layout": "IPY_MODEL_24dc63d967df42f595083d1eadcef28b",
      "max": 5,
      "min": 0,
      "orientation": "horizontal",
      "style": "IPY_MODEL_bb0a19cf4f6a40638d7380c4f6d2e549",
      "value": 5
     }
    },
    "9c7d6c2429324a88afdc3e488468653d": {
     "model_module": "@jupyter-widgets/controls",
     "model_module_version": "1.5.0",
     "model_name": "HBoxModel",
     "state": {
      "_dom_classes": [],
      "_model_module": "@jupyter-widgets/controls",
      "_model_module_version": "1.5.0",
      "_model_name": "HBoxModel",
      "_view_count": null,
      "_view_module": "@jupyter-widgets/controls",
      "_view_module_version": "1.5.0",
      "_view_name": "HBoxView",
      "box_style": "",
      "children": [
       "IPY_MODEL_264265be1229421bbbb5ba6c7f2bffd1",
       "IPY_MODEL_cb5bedd005704beaa9bd77e34af15251",
       "IPY_MODEL_bfbce7155be8403db997b2add318172b"
      ],
      "layout": "IPY_MODEL_079b5610cf60418d81fa1eab5dc7b45e"
     }
    },
    "9cd72cd676e64573beb7fb22fcb93a96": {
     "model_module": "@jupyter-widgets/controls",
     "model_module_version": "1.5.0",
     "model_name": "FloatProgressModel",
     "state": {
      "_dom_classes": [],
      "_model_module": "@jupyter-widgets/controls",
      "_model_module_version": "1.5.0",
      "_model_name": "FloatProgressModel",
      "_view_count": null,
      "_view_module": "@jupyter-widgets/controls",
      "_view_module_version": "1.5.0",
      "_view_name": "ProgressView",
      "bar_style": "",
      "description": "",
      "description_tooltip": null,
      "layout": "IPY_MODEL_1e93f3363ea446a7b7beb06f622da049",
      "max": 5,
      "min": 0,
      "orientation": "horizontal",
      "style": "IPY_MODEL_f49ef09e48524f1c9454c7d1e30b325d",
      "value": 5
     }
    },
    "9d050693aefd465a8523d5820463ff8d": {
     "model_module": "@jupyter-widgets/controls",
     "model_module_version": "1.5.0",
     "model_name": "HBoxModel",
     "state": {
      "_dom_classes": [],
      "_model_module": "@jupyter-widgets/controls",
      "_model_module_version": "1.5.0",
      "_model_name": "HBoxModel",
      "_view_count": null,
      "_view_module": "@jupyter-widgets/controls",
      "_view_module_version": "1.5.0",
      "_view_name": "HBoxView",
      "box_style": "",
      "children": [
       "IPY_MODEL_d9c03f7b0f8546e4a5ba31462ae8f058",
       "IPY_MODEL_0d484fa1b9674d40ac601d1456f36c43",
       "IPY_MODEL_b32ec35b4cb44ccc9fed7d1f0bb7f310"
      ],
      "layout": "IPY_MODEL_10b919d8fd3f4b1b85e922301711ce14"
     }
    },
    "9d8fa59c84cf4673accf7e69b22618a2": {
     "model_module": "@jupyter-widgets/controls",
     "model_module_version": "1.5.0",
     "model_name": "HTMLModel",
     "state": {
      "_dom_classes": [],
      "_model_module": "@jupyter-widgets/controls",
      "_model_module_version": "1.5.0",
      "_model_name": "HTMLModel",
      "_view_count": null,
      "_view_module": "@jupyter-widgets/controls",
      "_view_module_version": "1.5.0",
      "_view_name": "HTMLView",
      "description": "",
      "description_tooltip": null,
      "layout": "IPY_MODEL_d08f9eb285034206b6980e106461c8dc",
      "placeholder": "​",
      "style": "IPY_MODEL_b3778578536d47398eec333301a1656d",
      "value": "Validation DataLoader 0: 100%"
     }
    },
    "9db930f240124c45af811c88577e8256": {
     "model_module": "@jupyter-widgets/controls",
     "model_module_version": "1.5.0",
     "model_name": "HBoxModel",
     "state": {
      "_dom_classes": [],
      "_model_module": "@jupyter-widgets/controls",
      "_model_module_version": "1.5.0",
      "_model_name": "HBoxModel",
      "_view_count": null,
      "_view_module": "@jupyter-widgets/controls",
      "_view_module_version": "1.5.0",
      "_view_name": "HBoxView",
      "box_style": "",
      "children": [
       "IPY_MODEL_b597bcca357f44859c2246b7671a6a04",
       "IPY_MODEL_be8353ec9005403f8742915614bae9ff",
       "IPY_MODEL_f5e0845a75914cb89d95b5ab6035b319"
      ],
      "layout": "IPY_MODEL_3dc82a058ead468ebdd07434cd88b925"
     }
    },
    "9e4adf54330b42d9b7d8ab86855a5816": {
     "model_module": "@jupyter-widgets/controls",
     "model_module_version": "1.5.0",
     "model_name": "DescriptionStyleModel",
     "state": {
      "_model_module": "@jupyter-widgets/controls",
      "_model_module_version": "1.5.0",
      "_model_name": "DescriptionStyleModel",
      "_view_count": null,
      "_view_module": "@jupyter-widgets/base",
      "_view_module_version": "1.2.0",
      "_view_name": "StyleView",
      "description_width": ""
     }
    },
    "9e6157427ee6402597cc70beff7f9f90": {
     "model_module": "@jupyter-widgets/controls",
     "model_module_version": "1.5.0",
     "model_name": "HTMLModel",
     "state": {
      "_dom_classes": [],
      "_model_module": "@jupyter-widgets/controls",
      "_model_module_version": "1.5.0",
      "_model_name": "HTMLModel",
      "_view_count": null,
      "_view_module": "@jupyter-widgets/controls",
      "_view_module_version": "1.5.0",
      "_view_name": "HTMLView",
      "description": "",
      "description_tooltip": null,
      "layout": "IPY_MODEL_eadd25346f584741a23cba5d2513aa39",
      "placeholder": "​",
      "style": "IPY_MODEL_3361520d307c42b6b24dfca31d3d8652",
      "value": "Validation DataLoader 0: 100%"
     }
    },
    "9f3e88c495d9415d852e74da0f8ee9fb": {
     "model_module": "@jupyter-widgets/controls",
     "model_module_version": "1.5.0",
     "model_name": "FloatProgressModel",
     "state": {
      "_dom_classes": [],
      "_model_module": "@jupyter-widgets/controls",
      "_model_module_version": "1.5.0",
      "_model_name": "FloatProgressModel",
      "_view_count": null,
      "_view_module": "@jupyter-widgets/controls",
      "_view_module_version": "1.5.0",
      "_view_name": "ProgressView",
      "bar_style": "",
      "description": "",
      "description_tooltip": null,
      "layout": "IPY_MODEL_b66d3347ec12413985a16258457169e1",
      "max": 5,
      "min": 0,
      "orientation": "horizontal",
      "style": "IPY_MODEL_6a0b929ceb804a648c418c22174ba2a0",
      "value": 5
     }
    },
    "9f41f7d773714bb89c61c6ab63e6d151": {
     "model_module": "@jupyter-widgets/controls",
     "model_module_version": "1.5.0",
     "model_name": "FloatProgressModel",
     "state": {
      "_dom_classes": [],
      "_model_module": "@jupyter-widgets/controls",
      "_model_module_version": "1.5.0",
      "_model_name": "FloatProgressModel",
      "_view_count": null,
      "_view_module": "@jupyter-widgets/controls",
      "_view_module_version": "1.5.0",
      "_view_name": "ProgressView",
      "bar_style": "",
      "description": "",
      "description_tooltip": null,
      "layout": "IPY_MODEL_bbce6064c48f43348db59440a007d158",
      "max": 5,
      "min": 0,
      "orientation": "horizontal",
      "style": "IPY_MODEL_0f44254a8f54452ea7dd816f4114ad3d",
      "value": 5
     }
    },
    "a105e07425c547ebba946df44f82b38c": {
     "model_module": "@jupyter-widgets/base",
     "model_module_version": "1.2.0",
     "model_name": "LayoutModel",
     "state": {
      "_model_module": "@jupyter-widgets/base",
      "_model_module_version": "1.2.0",
      "_model_name": "LayoutModel",
      "_view_count": null,
      "_view_module": "@jupyter-widgets/base",
      "_view_module_version": "1.2.0",
      "_view_name": "LayoutView",
      "align_content": null,
      "align_items": null,
      "align_self": null,
      "border": null,
      "bottom": null,
      "display": "inline-flex",
      "flex": null,
      "flex_flow": "row wrap",
      "grid_area": null,
      "grid_auto_columns": null,
      "grid_auto_flow": null,
      "grid_auto_rows": null,
      "grid_column": null,
      "grid_gap": null,
      "grid_row": null,
      "grid_template_areas": null,
      "grid_template_columns": null,
      "grid_template_rows": null,
      "height": null,
      "justify_content": null,
      "justify_items": null,
      "left": null,
      "margin": null,
      "max_height": null,
      "max_width": null,
      "min_height": null,
      "min_width": null,
      "object_fit": null,
      "object_position": null,
      "order": null,
      "overflow": null,
      "overflow_x": null,
      "overflow_y": null,
      "padding": null,
      "right": null,
      "top": null,
      "visibility": "hidden",
      "width": "100%"
     }
    },
    "a30270af9fda48f7a4353fcf5954160e": {
     "model_module": "@jupyter-widgets/controls",
     "model_module_version": "1.5.0",
     "model_name": "FloatProgressModel",
     "state": {
      "_dom_classes": [],
      "_model_module": "@jupyter-widgets/controls",
      "_model_module_version": "1.5.0",
      "_model_name": "FloatProgressModel",
      "_view_count": null,
      "_view_module": "@jupyter-widgets/controls",
      "_view_module_version": "1.5.0",
      "_view_name": "ProgressView",
      "bar_style": "",
      "description": "",
      "description_tooltip": null,
      "layout": "IPY_MODEL_7cb2fb428f704c9ebf93b09dce8db5fb",
      "max": 5,
      "min": 0,
      "orientation": "horizontal",
      "style": "IPY_MODEL_a4700e9444bd477d9e876b0fcc8890b1",
      "value": 5
     }
    },
    "a371022b96974e55a50d01c658daf414": {
     "model_module": "@jupyter-widgets/base",
     "model_module_version": "1.2.0",
     "model_name": "LayoutModel",
     "state": {
      "_model_module": "@jupyter-widgets/base",
      "_model_module_version": "1.2.0",
      "_model_name": "LayoutModel",
      "_view_count": null,
      "_view_module": "@jupyter-widgets/base",
      "_view_module_version": "1.2.0",
      "_view_name": "LayoutView",
      "align_content": null,
      "align_items": null,
      "align_self": null,
      "border": null,
      "bottom": null,
      "display": null,
      "flex": "2",
      "flex_flow": null,
      "grid_area": null,
      "grid_auto_columns": null,
      "grid_auto_flow": null,
      "grid_auto_rows": null,
      "grid_column": null,
      "grid_gap": null,
      "grid_row": null,
      "grid_template_areas": null,
      "grid_template_columns": null,
      "grid_template_rows": null,
      "height": null,
      "justify_content": null,
      "justify_items": null,
      "left": null,
      "margin": null,
      "max_height": null,
      "max_width": null,
      "min_height": null,
      "min_width": null,
      "object_fit": null,
      "object_position": null,
      "order": null,
      "overflow": null,
      "overflow_x": null,
      "overflow_y": null,
      "padding": null,
      "right": null,
      "top": null,
      "visibility": null,
      "width": null
     }
    },
    "a3a407591b7a4c2e9b29642e7d4a709a": {
     "model_module": "@jupyter-widgets/base",
     "model_module_version": "1.2.0",
     "model_name": "LayoutModel",
     "state": {
      "_model_module": "@jupyter-widgets/base",
      "_model_module_version": "1.2.0",
      "_model_name": "LayoutModel",
      "_view_count": null,
      "_view_module": "@jupyter-widgets/base",
      "_view_module_version": "1.2.0",
      "_view_name": "LayoutView",
      "align_content": null,
      "align_items": null,
      "align_self": null,
      "border": null,
      "bottom": null,
      "display": null,
      "flex": "2",
      "flex_flow": null,
      "grid_area": null,
      "grid_auto_columns": null,
      "grid_auto_flow": null,
      "grid_auto_rows": null,
      "grid_column": null,
      "grid_gap": null,
      "grid_row": null,
      "grid_template_areas": null,
      "grid_template_columns": null,
      "grid_template_rows": null,
      "height": null,
      "justify_content": null,
      "justify_items": null,
      "left": null,
      "margin": null,
      "max_height": null,
      "max_width": null,
      "min_height": null,
      "min_width": null,
      "object_fit": null,
      "object_position": null,
      "order": null,
      "overflow": null,
      "overflow_x": null,
      "overflow_y": null,
      "padding": null,
      "right": null,
      "top": null,
      "visibility": null,
      "width": null
     }
    },
    "a442a78280c74a4bb83ace986075192f": {
     "model_module": "@jupyter-widgets/controls",
     "model_module_version": "1.5.0",
     "model_name": "DescriptionStyleModel",
     "state": {
      "_model_module": "@jupyter-widgets/controls",
      "_model_module_version": "1.5.0",
      "_model_name": "DescriptionStyleModel",
      "_view_count": null,
      "_view_module": "@jupyter-widgets/base",
      "_view_module_version": "1.2.0",
      "_view_name": "StyleView",
      "description_width": ""
     }
    },
    "a4700e9444bd477d9e876b0fcc8890b1": {
     "model_module": "@jupyter-widgets/controls",
     "model_module_version": "1.5.0",
     "model_name": "ProgressStyleModel",
     "state": {
      "_model_module": "@jupyter-widgets/controls",
      "_model_module_version": "1.5.0",
      "_model_name": "ProgressStyleModel",
      "_view_count": null,
      "_view_module": "@jupyter-widgets/base",
      "_view_module_version": "1.2.0",
      "_view_name": "StyleView",
      "bar_color": null,
      "description_width": ""
     }
    },
    "a4c412113bf44b70a8328c25d454d492": {
     "model_module": "@jupyter-widgets/base",
     "model_module_version": "1.2.0",
     "model_name": "LayoutModel",
     "state": {
      "_model_module": "@jupyter-widgets/base",
      "_model_module_version": "1.2.0",
      "_model_name": "LayoutModel",
      "_view_count": null,
      "_view_module": "@jupyter-widgets/base",
      "_view_module_version": "1.2.0",
      "_view_name": "LayoutView",
      "align_content": null,
      "align_items": null,
      "align_self": null,
      "border": null,
      "bottom": null,
      "display": null,
      "flex": null,
      "flex_flow": null,
      "grid_area": null,
      "grid_auto_columns": null,
      "grid_auto_flow": null,
      "grid_auto_rows": null,
      "grid_column": null,
      "grid_gap": null,
      "grid_row": null,
      "grid_template_areas": null,
      "grid_template_columns": null,
      "grid_template_rows": null,
      "height": null,
      "justify_content": null,
      "justify_items": null,
      "left": null,
      "margin": null,
      "max_height": null,
      "max_width": null,
      "min_height": null,
      "min_width": null,
      "object_fit": null,
      "object_position": null,
      "order": null,
      "overflow": null,
      "overflow_x": null,
      "overflow_y": null,
      "padding": null,
      "right": null,
      "top": null,
      "visibility": null,
      "width": null
     }
    },
    "a54977aa433f4e648da842134961ad0d": {
     "model_module": "@jupyter-widgets/base",
     "model_module_version": "1.2.0",
     "model_name": "LayoutModel",
     "state": {
      "_model_module": "@jupyter-widgets/base",
      "_model_module_version": "1.2.0",
      "_model_name": "LayoutModel",
      "_view_count": null,
      "_view_module": "@jupyter-widgets/base",
      "_view_module_version": "1.2.0",
      "_view_name": "LayoutView",
      "align_content": null,
      "align_items": null,
      "align_self": null,
      "border": null,
      "bottom": null,
      "display": "inline-flex",
      "flex": null,
      "flex_flow": "row wrap",
      "grid_area": null,
      "grid_auto_columns": null,
      "grid_auto_flow": null,
      "grid_auto_rows": null,
      "grid_column": null,
      "grid_gap": null,
      "grid_row": null,
      "grid_template_areas": null,
      "grid_template_columns": null,
      "grid_template_rows": null,
      "height": null,
      "justify_content": null,
      "justify_items": null,
      "left": null,
      "margin": null,
      "max_height": null,
      "max_width": null,
      "min_height": null,
      "min_width": null,
      "object_fit": null,
      "object_position": null,
      "order": null,
      "overflow": null,
      "overflow_x": null,
      "overflow_y": null,
      "padding": null,
      "right": null,
      "top": null,
      "visibility": "hidden",
      "width": "100%"
     }
    },
    "a5ac1afaec944e2a9aa925e27d2ea68b": {
     "model_module": "@jupyter-widgets/base",
     "model_module_version": "1.2.0",
     "model_name": "LayoutModel",
     "state": {
      "_model_module": "@jupyter-widgets/base",
      "_model_module_version": "1.2.0",
      "_model_name": "LayoutModel",
      "_view_count": null,
      "_view_module": "@jupyter-widgets/base",
      "_view_module_version": "1.2.0",
      "_view_name": "LayoutView",
      "align_content": null,
      "align_items": null,
      "align_self": null,
      "border": null,
      "bottom": null,
      "display": "inline-flex",
      "flex": null,
      "flex_flow": "row wrap",
      "grid_area": null,
      "grid_auto_columns": null,
      "grid_auto_flow": null,
      "grid_auto_rows": null,
      "grid_column": null,
      "grid_gap": null,
      "grid_row": null,
      "grid_template_areas": null,
      "grid_template_columns": null,
      "grid_template_rows": null,
      "height": null,
      "justify_content": null,
      "justify_items": null,
      "left": null,
      "margin": null,
      "max_height": null,
      "max_width": null,
      "min_height": null,
      "min_width": null,
      "object_fit": null,
      "object_position": null,
      "order": null,
      "overflow": null,
      "overflow_x": null,
      "overflow_y": null,
      "padding": null,
      "right": null,
      "top": null,
      "visibility": "hidden",
      "width": "100%"
     }
    },
    "a5b8b3595db34b5a82141c7c8b88db97": {
     "model_module": "@jupyter-widgets/controls",
     "model_module_version": "1.5.0",
     "model_name": "HBoxModel",
     "state": {
      "_dom_classes": [],
      "_model_module": "@jupyter-widgets/controls",
      "_model_module_version": "1.5.0",
      "_model_name": "HBoxModel",
      "_view_count": null,
      "_view_module": "@jupyter-widgets/controls",
      "_view_module_version": "1.5.0",
      "_view_name": "HBoxView",
      "box_style": "",
      "children": [
       "IPY_MODEL_7ae0e06033ba4914aed751589cca5c2b",
       "IPY_MODEL_6c7e526bd68147279f4c21a75b399a27",
       "IPY_MODEL_ec4e2e08514f4996a23677f88c7613e8"
      ],
      "layout": "IPY_MODEL_24efeee2a24d4eccb5113e9355742d99"
     }
    },
    "a613e3362ed04989bf0f740f698c6891": {
     "model_module": "@jupyter-widgets/base",
     "model_module_version": "1.2.0",
     "model_name": "LayoutModel",
     "state": {
      "_model_module": "@jupyter-widgets/base",
      "_model_module_version": "1.2.0",
      "_model_name": "LayoutModel",
      "_view_count": null,
      "_view_module": "@jupyter-widgets/base",
      "_view_module_version": "1.2.0",
      "_view_name": "LayoutView",
      "align_content": null,
      "align_items": null,
      "align_self": null,
      "border": null,
      "bottom": null,
      "display": null,
      "flex": "2",
      "flex_flow": null,
      "grid_area": null,
      "grid_auto_columns": null,
      "grid_auto_flow": null,
      "grid_auto_rows": null,
      "grid_column": null,
      "grid_gap": null,
      "grid_row": null,
      "grid_template_areas": null,
      "grid_template_columns": null,
      "grid_template_rows": null,
      "height": null,
      "justify_content": null,
      "justify_items": null,
      "left": null,
      "margin": null,
      "max_height": null,
      "max_width": null,
      "min_height": null,
      "min_width": null,
      "object_fit": null,
      "object_position": null,
      "order": null,
      "overflow": null,
      "overflow_x": null,
      "overflow_y": null,
      "padding": null,
      "right": null,
      "top": null,
      "visibility": null,
      "width": null
     }
    },
    "a67d297f05024d95b8e904fe643ea570": {
     "model_module": "@jupyter-widgets/controls",
     "model_module_version": "1.5.0",
     "model_name": "HBoxModel",
     "state": {
      "_dom_classes": [],
      "_model_module": "@jupyter-widgets/controls",
      "_model_module_version": "1.5.0",
      "_model_name": "HBoxModel",
      "_view_count": null,
      "_view_module": "@jupyter-widgets/controls",
      "_view_module_version": "1.5.0",
      "_view_name": "HBoxView",
      "box_style": "",
      "children": [
       "IPY_MODEL_94345e776b5845a7a73429ac05050cd8",
       "IPY_MODEL_1e4958b407e947c0ae64c0e18a92cb9f",
       "IPY_MODEL_bb5b122185544003a6765ff89a4e29d9"
      ],
      "layout": "IPY_MODEL_0fbc9ba286f44f6facb2ebc36801416e"
     }
    },
    "a6bbfdfac328424b90c7da5fd2a9c69f": {
     "model_module": "@jupyter-widgets/controls",
     "model_module_version": "1.5.0",
     "model_name": "ProgressStyleModel",
     "state": {
      "_model_module": "@jupyter-widgets/controls",
      "_model_module_version": "1.5.0",
      "_model_name": "ProgressStyleModel",
      "_view_count": null,
      "_view_module": "@jupyter-widgets/base",
      "_view_module_version": "1.2.0",
      "_view_name": "StyleView",
      "bar_color": null,
      "description_width": ""
     }
    },
    "a6f32727bec14b29966e1961c3701653": {
     "model_module": "@jupyter-widgets/base",
     "model_module_version": "1.2.0",
     "model_name": "LayoutModel",
     "state": {
      "_model_module": "@jupyter-widgets/base",
      "_model_module_version": "1.2.0",
      "_model_name": "LayoutModel",
      "_view_count": null,
      "_view_module": "@jupyter-widgets/base",
      "_view_module_version": "1.2.0",
      "_view_name": "LayoutView",
      "align_content": null,
      "align_items": null,
      "align_self": null,
      "border": null,
      "bottom": null,
      "display": "inline-flex",
      "flex": null,
      "flex_flow": "row wrap",
      "grid_area": null,
      "grid_auto_columns": null,
      "grid_auto_flow": null,
      "grid_auto_rows": null,
      "grid_column": null,
      "grid_gap": null,
      "grid_row": null,
      "grid_template_areas": null,
      "grid_template_columns": null,
      "grid_template_rows": null,
      "height": null,
      "justify_content": null,
      "justify_items": null,
      "left": null,
      "margin": null,
      "max_height": null,
      "max_width": null,
      "min_height": null,
      "min_width": null,
      "object_fit": null,
      "object_position": null,
      "order": null,
      "overflow": null,
      "overflow_x": null,
      "overflow_y": null,
      "padding": null,
      "right": null,
      "top": null,
      "visibility": "hidden",
      "width": "100%"
     }
    },
    "a7034cdf101343ae9a71cccc1ce7bb2f": {
     "model_module": "@jupyter-widgets/controls",
     "model_module_version": "1.5.0",
     "model_name": "HBoxModel",
     "state": {
      "_dom_classes": [],
      "_model_module": "@jupyter-widgets/controls",
      "_model_module_version": "1.5.0",
      "_model_name": "HBoxModel",
      "_view_count": null,
      "_view_module": "@jupyter-widgets/controls",
      "_view_module_version": "1.5.0",
      "_view_name": "HBoxView",
      "box_style": "",
      "children": [
       "IPY_MODEL_2cf095c88254427ebe89c4bdeeff0aec",
       "IPY_MODEL_21ef7cf7ecba4a68bd2d2eaf57605e75",
       "IPY_MODEL_d1e3fceb1f524d75ae1105276796145f"
      ],
      "layout": "IPY_MODEL_2775dacbcc5047699a456895d0247133"
     }
    },
    "a8b53cbf045248b293ae9d12b08c4e67": {
     "model_module": "@jupyter-widgets/controls",
     "model_module_version": "1.5.0",
     "model_name": "DescriptionStyleModel",
     "state": {
      "_model_module": "@jupyter-widgets/controls",
      "_model_module_version": "1.5.0",
      "_model_name": "DescriptionStyleModel",
      "_view_count": null,
      "_view_module": "@jupyter-widgets/base",
      "_view_module_version": "1.2.0",
      "_view_name": "StyleView",
      "description_width": ""
     }
    },
    "a8e1077232e94744b98f2fd7b40cbeb4": {
     "model_module": "@jupyter-widgets/controls",
     "model_module_version": "1.5.0",
     "model_name": "HTMLModel",
     "state": {
      "_dom_classes": [],
      "_model_module": "@jupyter-widgets/controls",
      "_model_module_version": "1.5.0",
      "_model_name": "HTMLModel",
      "_view_count": null,
      "_view_module": "@jupyter-widgets/controls",
      "_view_module_version": "1.5.0",
      "_view_name": "HTMLView",
      "description": "",
      "description_tooltip": null,
      "layout": "IPY_MODEL_058c247b8f58484fbdbdb802db506d91",
      "placeholder": "​",
      "style": "IPY_MODEL_35b66df854204bee8a8c75a36a12472b",
      "value": "Validation DataLoader 0: 100%"
     }
    },
    "aa40217f94dd49ea9c7ea95770b15c7b": {
     "model_module": "@jupyter-widgets/base",
     "model_module_version": "1.2.0",
     "model_name": "LayoutModel",
     "state": {
      "_model_module": "@jupyter-widgets/base",
      "_model_module_version": "1.2.0",
      "_model_name": "LayoutModel",
      "_view_count": null,
      "_view_module": "@jupyter-widgets/base",
      "_view_module_version": "1.2.0",
      "_view_name": "LayoutView",
      "align_content": null,
      "align_items": null,
      "align_self": null,
      "border": null,
      "bottom": null,
      "display": null,
      "flex": null,
      "flex_flow": null,
      "grid_area": null,
      "grid_auto_columns": null,
      "grid_auto_flow": null,
      "grid_auto_rows": null,
      "grid_column": null,
      "grid_gap": null,
      "grid_row": null,
      "grid_template_areas": null,
      "grid_template_columns": null,
      "grid_template_rows": null,
      "height": null,
      "justify_content": null,
      "justify_items": null,
      "left": null,
      "margin": null,
      "max_height": null,
      "max_width": null,
      "min_height": null,
      "min_width": null,
      "object_fit": null,
      "object_position": null,
      "order": null,
      "overflow": null,
      "overflow_x": null,
      "overflow_y": null,
      "padding": null,
      "right": null,
      "top": null,
      "visibility": null,
      "width": null
     }
    },
    "ab10f338efc0445cbaed3d48be57d491": {
     "model_module": "@jupyter-widgets/controls",
     "model_module_version": "1.5.0",
     "model_name": "DescriptionStyleModel",
     "state": {
      "_model_module": "@jupyter-widgets/controls",
      "_model_module_version": "1.5.0",
      "_model_name": "DescriptionStyleModel",
      "_view_count": null,
      "_view_module": "@jupyter-widgets/base",
      "_view_module_version": "1.2.0",
      "_view_name": "StyleView",
      "description_width": ""
     }
    },
    "ab2ac2734dbe4d5b84b5be8254669e83": {
     "model_module": "@jupyter-widgets/controls",
     "model_module_version": "1.5.0",
     "model_name": "ProgressStyleModel",
     "state": {
      "_model_module": "@jupyter-widgets/controls",
      "_model_module_version": "1.5.0",
      "_model_name": "ProgressStyleModel",
      "_view_count": null,
      "_view_module": "@jupyter-widgets/base",
      "_view_module_version": "1.2.0",
      "_view_name": "StyleView",
      "bar_color": null,
      "description_width": ""
     }
    },
    "ab8f2de5f56342a79d08aecd5f26800e": {
     "model_module": "@jupyter-widgets/controls",
     "model_module_version": "1.5.0",
     "model_name": "FloatProgressModel",
     "state": {
      "_dom_classes": [],
      "_model_module": "@jupyter-widgets/controls",
      "_model_module_version": "1.5.0",
      "_model_name": "FloatProgressModel",
      "_view_count": null,
      "_view_module": "@jupyter-widgets/controls",
      "_view_module_version": "1.5.0",
      "_view_name": "ProgressView",
      "bar_style": "",
      "description": "",
      "description_tooltip": null,
      "layout": "IPY_MODEL_0de62ef4c4954cceb3e1830289abc7d3",
      "max": 5,
      "min": 0,
      "orientation": "horizontal",
      "style": "IPY_MODEL_9b0bad44b7a24852be8c4f040a405e4e",
      "value": 5
     }
    },
    "ac17ce2c53c243c092e1a97f000d6af3": {
     "model_module": "@jupyter-widgets/controls",
     "model_module_version": "1.5.0",
     "model_name": "DescriptionStyleModel",
     "state": {
      "_model_module": "@jupyter-widgets/controls",
      "_model_module_version": "1.5.0",
      "_model_name": "DescriptionStyleModel",
      "_view_count": null,
      "_view_module": "@jupyter-widgets/base",
      "_view_module_version": "1.2.0",
      "_view_name": "StyleView",
      "description_width": ""
     }
    },
    "ac42a0b1a5e94339a1c4ca35842162c1": {
     "model_module": "@jupyter-widgets/controls",
     "model_module_version": "1.5.0",
     "model_name": "HBoxModel",
     "state": {
      "_dom_classes": [],
      "_model_module": "@jupyter-widgets/controls",
      "_model_module_version": "1.5.0",
      "_model_name": "HBoxModel",
      "_view_count": null,
      "_view_module": "@jupyter-widgets/controls",
      "_view_module_version": "1.5.0",
      "_view_name": "HBoxView",
      "box_style": "",
      "children": [
       "IPY_MODEL_8e1bcc23177c4f4585949ba840ccf267",
       "IPY_MODEL_c6bb6f0afa1d438b9ec265da6071cf87",
       "IPY_MODEL_307182085a1844a4b76fd24caec8311c"
      ],
      "layout": "IPY_MODEL_b01dfc83a2cd4d7e85eddb534c750358"
     }
    },
    "ad5efa0e2cd24c60a4d6744efa4a46c5": {
     "model_module": "@jupyter-widgets/controls",
     "model_module_version": "1.5.0",
     "model_name": "HBoxModel",
     "state": {
      "_dom_classes": [],
      "_model_module": "@jupyter-widgets/controls",
      "_model_module_version": "1.5.0",
      "_model_name": "HBoxModel",
      "_view_count": null,
      "_view_module": "@jupyter-widgets/controls",
      "_view_module_version": "1.5.0",
      "_view_name": "HBoxView",
      "box_style": "",
      "children": [
       "IPY_MODEL_5db005f71c964dafb6ecf7df649eaf88",
       "IPY_MODEL_4e6dda7579504a4ea3b19b64030b8e47",
       "IPY_MODEL_2161d6e0489c4c80a968935ef6b9ddaf"
      ],
      "layout": "IPY_MODEL_69f02855c4bb44fd9bb0f78e0c02d532"
     }
    },
    "ad7d33ad6bab4723b64094248756582c": {
     "model_module": "@jupyter-widgets/controls",
     "model_module_version": "1.5.0",
     "model_name": "HTMLModel",
     "state": {
      "_dom_classes": [],
      "_model_module": "@jupyter-widgets/controls",
      "_model_module_version": "1.5.0",
      "_model_name": "HTMLModel",
      "_view_count": null,
      "_view_module": "@jupyter-widgets/controls",
      "_view_module_version": "1.5.0",
      "_view_name": "HTMLView",
      "description": "",
      "description_tooltip": null,
      "layout": "IPY_MODEL_2f59ebe7b846449787eb095b4d89dba6",
      "placeholder": "​",
      "style": "IPY_MODEL_5c0654bdb08d4e61ad46c20184737417",
      "value": " 5/5 [00:01&lt;00:00,  4.00it/s]"
     }
    },
    "aef049213f944298b42e450d3e6c66e2": {
     "model_module": "@jupyter-widgets/controls",
     "model_module_version": "1.5.0",
     "model_name": "FloatProgressModel",
     "state": {
      "_dom_classes": [],
      "_model_module": "@jupyter-widgets/controls",
      "_model_module_version": "1.5.0",
      "_model_name": "FloatProgressModel",
      "_view_count": null,
      "_view_module": "@jupyter-widgets/controls",
      "_view_module_version": "1.5.0",
      "_view_name": "ProgressView",
      "bar_style": "",
      "description": "",
      "description_tooltip": null,
      "layout": "IPY_MODEL_e888ce31da1647abbfe61d4855d5d725",
      "max": 5,
      "min": 0,
      "orientation": "horizontal",
      "style": "IPY_MODEL_15d539ce0ead4c5d8b25af072575f878",
      "value": 5
     }
    },
    "af11ec99c3904b8ba12f451a7c44a6ce": {
     "model_module": "@jupyter-widgets/base",
     "model_module_version": "1.2.0",
     "model_name": "LayoutModel",
     "state": {
      "_model_module": "@jupyter-widgets/base",
      "_model_module_version": "1.2.0",
      "_model_name": "LayoutModel",
      "_view_count": null,
      "_view_module": "@jupyter-widgets/base",
      "_view_module_version": "1.2.0",
      "_view_name": "LayoutView",
      "align_content": null,
      "align_items": null,
      "align_self": null,
      "border": null,
      "bottom": null,
      "display": null,
      "flex": null,
      "flex_flow": null,
      "grid_area": null,
      "grid_auto_columns": null,
      "grid_auto_flow": null,
      "grid_auto_rows": null,
      "grid_column": null,
      "grid_gap": null,
      "grid_row": null,
      "grid_template_areas": null,
      "grid_template_columns": null,
      "grid_template_rows": null,
      "height": null,
      "justify_content": null,
      "justify_items": null,
      "left": null,
      "margin": null,
      "max_height": null,
      "max_width": null,
      "min_height": null,
      "min_width": null,
      "object_fit": null,
      "object_position": null,
      "order": null,
      "overflow": null,
      "overflow_x": null,
      "overflow_y": null,
      "padding": null,
      "right": null,
      "top": null,
      "visibility": null,
      "width": null
     }
    },
    "af311951ba2f401a93c3e3dbcd1ae246": {
     "model_module": "@jupyter-widgets/controls",
     "model_module_version": "1.5.0",
     "model_name": "DescriptionStyleModel",
     "state": {
      "_model_module": "@jupyter-widgets/controls",
      "_model_module_version": "1.5.0",
      "_model_name": "DescriptionStyleModel",
      "_view_count": null,
      "_view_module": "@jupyter-widgets/base",
      "_view_module_version": "1.2.0",
      "_view_name": "StyleView",
      "description_width": ""
     }
    },
    "afb99fbd76a94fe5b7c3daf735c6a719": {
     "model_module": "@jupyter-widgets/base",
     "model_module_version": "1.2.0",
     "model_name": "LayoutModel",
     "state": {
      "_model_module": "@jupyter-widgets/base",
      "_model_module_version": "1.2.0",
      "_model_name": "LayoutModel",
      "_view_count": null,
      "_view_module": "@jupyter-widgets/base",
      "_view_module_version": "1.2.0",
      "_view_name": "LayoutView",
      "align_content": null,
      "align_items": null,
      "align_self": null,
      "border": null,
      "bottom": null,
      "display": "inline-flex",
      "flex": null,
      "flex_flow": "row wrap",
      "grid_area": null,
      "grid_auto_columns": null,
      "grid_auto_flow": null,
      "grid_auto_rows": null,
      "grid_column": null,
      "grid_gap": null,
      "grid_row": null,
      "grid_template_areas": null,
      "grid_template_columns": null,
      "grid_template_rows": null,
      "height": null,
      "justify_content": null,
      "justify_items": null,
      "left": null,
      "margin": null,
      "max_height": null,
      "max_width": null,
      "min_height": null,
      "min_width": null,
      "object_fit": null,
      "object_position": null,
      "order": null,
      "overflow": null,
      "overflow_x": null,
      "overflow_y": null,
      "padding": null,
      "right": null,
      "top": null,
      "visibility": "hidden",
      "width": "100%"
     }
    },
    "b01dfc83a2cd4d7e85eddb534c750358": {
     "model_module": "@jupyter-widgets/base",
     "model_module_version": "1.2.0",
     "model_name": "LayoutModel",
     "state": {
      "_model_module": "@jupyter-widgets/base",
      "_model_module_version": "1.2.0",
      "_model_name": "LayoutModel",
      "_view_count": null,
      "_view_module": "@jupyter-widgets/base",
      "_view_module_version": "1.2.0",
      "_view_name": "LayoutView",
      "align_content": null,
      "align_items": null,
      "align_self": null,
      "border": null,
      "bottom": null,
      "display": "inline-flex",
      "flex": null,
      "flex_flow": "row wrap",
      "grid_area": null,
      "grid_auto_columns": null,
      "grid_auto_flow": null,
      "grid_auto_rows": null,
      "grid_column": null,
      "grid_gap": null,
      "grid_row": null,
      "grid_template_areas": null,
      "grid_template_columns": null,
      "grid_template_rows": null,
      "height": null,
      "justify_content": null,
      "justify_items": null,
      "left": null,
      "margin": null,
      "max_height": null,
      "max_width": null,
      "min_height": null,
      "min_width": null,
      "object_fit": null,
      "object_position": null,
      "order": null,
      "overflow": null,
      "overflow_x": null,
      "overflow_y": null,
      "padding": null,
      "right": null,
      "top": null,
      "visibility": "hidden",
      "width": "100%"
     }
    },
    "b07774513ad3419f9635021e8defa6df": {
     "model_module": "@jupyter-widgets/controls",
     "model_module_version": "1.5.0",
     "model_name": "ProgressStyleModel",
     "state": {
      "_model_module": "@jupyter-widgets/controls",
      "_model_module_version": "1.5.0",
      "_model_name": "ProgressStyleModel",
      "_view_count": null,
      "_view_module": "@jupyter-widgets/base",
      "_view_module_version": "1.2.0",
      "_view_name": "StyleView",
      "bar_color": null,
      "description_width": ""
     }
    },
    "b10448565e254741a676ad57f506bfae": {
     "model_module": "@jupyter-widgets/controls",
     "model_module_version": "1.5.0",
     "model_name": "FloatProgressModel",
     "state": {
      "_dom_classes": [],
      "_model_module": "@jupyter-widgets/controls",
      "_model_module_version": "1.5.0",
      "_model_name": "FloatProgressModel",
      "_view_count": null,
      "_view_module": "@jupyter-widgets/controls",
      "_view_module_version": "1.5.0",
      "_view_name": "ProgressView",
      "bar_style": "",
      "description": "",
      "description_tooltip": null,
      "layout": "IPY_MODEL_bc98826c8c8e4934871ef2f100eb5223",
      "max": 5,
      "min": 0,
      "orientation": "horizontal",
      "style": "IPY_MODEL_de01e95e347a4b3096279fe6082ede2f",
      "value": 5
     }
    },
    "b14c1d34676642e0a4e16a16155dc1cb": {
     "model_module": "@jupyter-widgets/controls",
     "model_module_version": "1.5.0",
     "model_name": "FloatProgressModel",
     "state": {
      "_dom_classes": [],
      "_model_module": "@jupyter-widgets/controls",
      "_model_module_version": "1.5.0",
      "_model_name": "FloatProgressModel",
      "_view_count": null,
      "_view_module": "@jupyter-widgets/controls",
      "_view_module_version": "1.5.0",
      "_view_name": "ProgressView",
      "bar_style": "",
      "description": "",
      "description_tooltip": null,
      "layout": "IPY_MODEL_ea97d3e5c34946caaa6fe7ff899e8c02",
      "max": 5,
      "min": 0,
      "orientation": "horizontal",
      "style": "IPY_MODEL_90818edd06ea411883188ab51a6a73c3",
      "value": 5
     }
    },
    "b17e497194a54cf4b0aa34c2d0a3df58": {
     "model_module": "@jupyter-widgets/controls",
     "model_module_version": "1.5.0",
     "model_name": "FloatProgressModel",
     "state": {
      "_dom_classes": [],
      "_model_module": "@jupyter-widgets/controls",
      "_model_module_version": "1.5.0",
      "_model_name": "FloatProgressModel",
      "_view_count": null,
      "_view_module": "@jupyter-widgets/controls",
      "_view_module_version": "1.5.0",
      "_view_name": "ProgressView",
      "bar_style": "",
      "description": "",
      "description_tooltip": null,
      "layout": "IPY_MODEL_e715f30a031e4bc992b4629bfa82067d",
      "max": 5,
      "min": 0,
      "orientation": "horizontal",
      "style": "IPY_MODEL_d85cc207423c449ca34e40bdfba4247b",
      "value": 5
     }
    },
    "b1ea99cfe60a4b4ebf463c573f44ef49": {
     "model_module": "@jupyter-widgets/controls",
     "model_module_version": "1.5.0",
     "model_name": "DescriptionStyleModel",
     "state": {
      "_model_module": "@jupyter-widgets/controls",
      "_model_module_version": "1.5.0",
      "_model_name": "DescriptionStyleModel",
      "_view_count": null,
      "_view_module": "@jupyter-widgets/base",
      "_view_module_version": "1.2.0",
      "_view_name": "StyleView",
      "description_width": ""
     }
    },
    "b20f01117b0d4d178482e950b43f95e5": {
     "model_module": "@jupyter-widgets/controls",
     "model_module_version": "1.5.0",
     "model_name": "DescriptionStyleModel",
     "state": {
      "_model_module": "@jupyter-widgets/controls",
      "_model_module_version": "1.5.0",
      "_model_name": "DescriptionStyleModel",
      "_view_count": null,
      "_view_module": "@jupyter-widgets/base",
      "_view_module_version": "1.2.0",
      "_view_name": "StyleView",
      "description_width": ""
     }
    },
    "b32ec35b4cb44ccc9fed7d1f0bb7f310": {
     "model_module": "@jupyter-widgets/controls",
     "model_module_version": "1.5.0",
     "model_name": "HTMLModel",
     "state": {
      "_dom_classes": [],
      "_model_module": "@jupyter-widgets/controls",
      "_model_module_version": "1.5.0",
      "_model_name": "HTMLModel",
      "_view_count": null,
      "_view_module": "@jupyter-widgets/controls",
      "_view_module_version": "1.5.0",
      "_view_name": "HTMLView",
      "description": "",
      "description_tooltip": null,
      "layout": "IPY_MODEL_e1cb56d74633446a84d046b4da6e55be",
      "placeholder": "​",
      "style": "IPY_MODEL_d0e5790f12d24e08acd5f2f23319c754",
      "value": " 5/5 [00:01&lt;00:00,  3.99it/s]"
     }
    },
    "b3778578536d47398eec333301a1656d": {
     "model_module": "@jupyter-widgets/controls",
     "model_module_version": "1.5.0",
     "model_name": "DescriptionStyleModel",
     "state": {
      "_model_module": "@jupyter-widgets/controls",
      "_model_module_version": "1.5.0",
      "_model_name": "DescriptionStyleModel",
      "_view_count": null,
      "_view_module": "@jupyter-widgets/base",
      "_view_module_version": "1.2.0",
      "_view_name": "StyleView",
      "description_width": ""
     }
    },
    "b388d5f4aa5e46cfbe1c318567070537": {
     "model_module": "@jupyter-widgets/controls",
     "model_module_version": "1.5.0",
     "model_name": "DescriptionStyleModel",
     "state": {
      "_model_module": "@jupyter-widgets/controls",
      "_model_module_version": "1.5.0",
      "_model_name": "DescriptionStyleModel",
      "_view_count": null,
      "_view_module": "@jupyter-widgets/base",
      "_view_module_version": "1.2.0",
      "_view_name": "StyleView",
      "description_width": ""
     }
    },
    "b597bcca357f44859c2246b7671a6a04": {
     "model_module": "@jupyter-widgets/controls",
     "model_module_version": "1.5.0",
     "model_name": "HTMLModel",
     "state": {
      "_dom_classes": [],
      "_model_module": "@jupyter-widgets/controls",
      "_model_module_version": "1.5.0",
      "_model_name": "HTMLModel",
      "_view_count": null,
      "_view_module": "@jupyter-widgets/controls",
      "_view_module_version": "1.5.0",
      "_view_name": "HTMLView",
      "description": "",
      "description_tooltip": null,
      "layout": "IPY_MODEL_2744923e6a6d405fa43cbd41fe97885c",
      "placeholder": "​",
      "style": "IPY_MODEL_445832e3ff014572b85803a2733fd881",
      "value": "Validation DataLoader 0: 100%"
     }
    },
    "b65aa2174ade49ad8dc45ba1bba6d6f3": {
     "model_module": "@jupyter-widgets/base",
     "model_module_version": "1.2.0",
     "model_name": "LayoutModel",
     "state": {
      "_model_module": "@jupyter-widgets/base",
      "_model_module_version": "1.2.0",
      "_model_name": "LayoutModel",
      "_view_count": null,
      "_view_module": "@jupyter-widgets/base",
      "_view_module_version": "1.2.0",
      "_view_name": "LayoutView",
      "align_content": null,
      "align_items": null,
      "align_self": null,
      "border": null,
      "bottom": null,
      "display": "inline-flex",
      "flex": null,
      "flex_flow": "row wrap",
      "grid_area": null,
      "grid_auto_columns": null,
      "grid_auto_flow": null,
      "grid_auto_rows": null,
      "grid_column": null,
      "grid_gap": null,
      "grid_row": null,
      "grid_template_areas": null,
      "grid_template_columns": null,
      "grid_template_rows": null,
      "height": null,
      "justify_content": null,
      "justify_items": null,
      "left": null,
      "margin": null,
      "max_height": null,
      "max_width": null,
      "min_height": null,
      "min_width": null,
      "object_fit": null,
      "object_position": null,
      "order": null,
      "overflow": null,
      "overflow_x": null,
      "overflow_y": null,
      "padding": null,
      "right": null,
      "top": null,
      "visibility": "hidden",
      "width": "100%"
     }
    },
    "b66d3347ec12413985a16258457169e1": {
     "model_module": "@jupyter-widgets/base",
     "model_module_version": "1.2.0",
     "model_name": "LayoutModel",
     "state": {
      "_model_module": "@jupyter-widgets/base",
      "_model_module_version": "1.2.0",
      "_model_name": "LayoutModel",
      "_view_count": null,
      "_view_module": "@jupyter-widgets/base",
      "_view_module_version": "1.2.0",
      "_view_name": "LayoutView",
      "align_content": null,
      "align_items": null,
      "align_self": null,
      "border": null,
      "bottom": null,
      "display": null,
      "flex": "2",
      "flex_flow": null,
      "grid_area": null,
      "grid_auto_columns": null,
      "grid_auto_flow": null,
      "grid_auto_rows": null,
      "grid_column": null,
      "grid_gap": null,
      "grid_row": null,
      "grid_template_areas": null,
      "grid_template_columns": null,
      "grid_template_rows": null,
      "height": null,
      "justify_content": null,
      "justify_items": null,
      "left": null,
      "margin": null,
      "max_height": null,
      "max_width": null,
      "min_height": null,
      "min_width": null,
      "object_fit": null,
      "object_position": null,
      "order": null,
      "overflow": null,
      "overflow_x": null,
      "overflow_y": null,
      "padding": null,
      "right": null,
      "top": null,
      "visibility": null,
      "width": null
     }
    },
    "b6b8b25ebc2b4f8dabb56914d74a67c5": {
     "model_module": "@jupyter-widgets/controls",
     "model_module_version": "1.5.0",
     "model_name": "HTMLModel",
     "state": {
      "_dom_classes": [],
      "_model_module": "@jupyter-widgets/controls",
      "_model_module_version": "1.5.0",
      "_model_name": "HTMLModel",
      "_view_count": null,
      "_view_module": "@jupyter-widgets/controls",
      "_view_module_version": "1.5.0",
      "_view_name": "HTMLView",
      "description": "",
      "description_tooltip": null,
      "layout": "IPY_MODEL_d9cdaf093b2b4f268b49b46efc18b47c",
      "placeholder": "​",
      "style": "IPY_MODEL_8be474dd03d4433186637812a1030291",
      "value": " 5/5 [00:01&lt;00:00,  4.04it/s]"
     }
    },
    "b6dce6b5ebdc4328a38affb285913904": {
     "model_module": "@jupyter-widgets/controls",
     "model_module_version": "1.5.0",
     "model_name": "DescriptionStyleModel",
     "state": {
      "_model_module": "@jupyter-widgets/controls",
      "_model_module_version": "1.5.0",
      "_model_name": "DescriptionStyleModel",
      "_view_count": null,
      "_view_module": "@jupyter-widgets/base",
      "_view_module_version": "1.2.0",
      "_view_name": "StyleView",
      "description_width": ""
     }
    },
    "b72703a21af84b1cab0b93b52ef5fbdf": {
     "model_module": "@jupyter-widgets/controls",
     "model_module_version": "1.5.0",
     "model_name": "ProgressStyleModel",
     "state": {
      "_model_module": "@jupyter-widgets/controls",
      "_model_module_version": "1.5.0",
      "_model_name": "ProgressStyleModel",
      "_view_count": null,
      "_view_module": "@jupyter-widgets/base",
      "_view_module_version": "1.2.0",
      "_view_name": "StyleView",
      "bar_color": null,
      "description_width": ""
     }
    },
    "b7974f4a6663428d9f32983445757424": {
     "model_module": "@jupyter-widgets/base",
     "model_module_version": "1.2.0",
     "model_name": "LayoutModel",
     "state": {
      "_model_module": "@jupyter-widgets/base",
      "_model_module_version": "1.2.0",
      "_model_name": "LayoutModel",
      "_view_count": null,
      "_view_module": "@jupyter-widgets/base",
      "_view_module_version": "1.2.0",
      "_view_name": "LayoutView",
      "align_content": null,
      "align_items": null,
      "align_self": null,
      "border": null,
      "bottom": null,
      "display": "inline-flex",
      "flex": null,
      "flex_flow": "row wrap",
      "grid_area": null,
      "grid_auto_columns": null,
      "grid_auto_flow": null,
      "grid_auto_rows": null,
      "grid_column": null,
      "grid_gap": null,
      "grid_row": null,
      "grid_template_areas": null,
      "grid_template_columns": null,
      "grid_template_rows": null,
      "height": null,
      "justify_content": null,
      "justify_items": null,
      "left": null,
      "margin": null,
      "max_height": null,
      "max_width": null,
      "min_height": null,
      "min_width": null,
      "object_fit": null,
      "object_position": null,
      "order": null,
      "overflow": null,
      "overflow_x": null,
      "overflow_y": null,
      "padding": null,
      "right": null,
      "top": null,
      "visibility": "hidden",
      "width": "100%"
     }
    },
    "b7e663349e9f4b0d8b54de3d77806560": {
     "model_module": "@jupyter-widgets/controls",
     "model_module_version": "1.5.0",
     "model_name": "FloatProgressModel",
     "state": {
      "_dom_classes": [],
      "_model_module": "@jupyter-widgets/controls",
      "_model_module_version": "1.5.0",
      "_model_name": "FloatProgressModel",
      "_view_count": null,
      "_view_module": "@jupyter-widgets/controls",
      "_view_module_version": "1.5.0",
      "_view_name": "ProgressView",
      "bar_style": "",
      "description": "",
      "description_tooltip": null,
      "layout": "IPY_MODEL_bd2eb0458d0c4e3db8b1d7be5190c519",
      "max": 5,
      "min": 0,
      "orientation": "horizontal",
      "style": "IPY_MODEL_dad2db5397d14edb95fb72b317b99d4a",
      "value": 5
     }
    },
    "b813ab4dad184a85be0b140c5201ea7e": {
     "model_module": "@jupyter-widgets/controls",
     "model_module_version": "1.5.0",
     "model_name": "HTMLModel",
     "state": {
      "_dom_classes": [],
      "_model_module": "@jupyter-widgets/controls",
      "_model_module_version": "1.5.0",
      "_model_name": "HTMLModel",
      "_view_count": null,
      "_view_module": "@jupyter-widgets/controls",
      "_view_module_version": "1.5.0",
      "_view_name": "HTMLView",
      "description": "",
      "description_tooltip": null,
      "layout": "IPY_MODEL_81e4a458744048848b57c5d4f5b650e9",
      "placeholder": "​",
      "style": "IPY_MODEL_caeffeb004584087b864db288f546085",
      "value": " 5/5 [00:01&lt;00:00,  4.02it/s]"
     }
    },
    "b871a5ac74884f219b9abf2038594341": {
     "model_module": "@jupyter-widgets/controls",
     "model_module_version": "1.5.0",
     "model_name": "HBoxModel",
     "state": {
      "_dom_classes": [],
      "_model_module": "@jupyter-widgets/controls",
      "_model_module_version": "1.5.0",
      "_model_name": "HBoxModel",
      "_view_count": null,
      "_view_module": "@jupyter-widgets/controls",
      "_view_module_version": "1.5.0",
      "_view_name": "HBoxView",
      "box_style": "",
      "children": [
       "IPY_MODEL_488d422f35e24f2fbb2db8f2c95131fb",
       "IPY_MODEL_de97f0ea10e94cb88f1ffa6e6ce87193",
       "IPY_MODEL_fac39d94dcf84d4fbfe62754e59f9964"
      ],
      "layout": "IPY_MODEL_afb99fbd76a94fe5b7c3daf735c6a719"
     }
    },
    "b8da8869c9e34c509132dbf5dd647016": {
     "model_module": "@jupyter-widgets/base",
     "model_module_version": "1.2.0",
     "model_name": "LayoutModel",
     "state": {
      "_model_module": "@jupyter-widgets/base",
      "_model_module_version": "1.2.0",
      "_model_name": "LayoutModel",
      "_view_count": null,
      "_view_module": "@jupyter-widgets/base",
      "_view_module_version": "1.2.0",
      "_view_name": "LayoutView",
      "align_content": null,
      "align_items": null,
      "align_self": null,
      "border": null,
      "bottom": null,
      "display": null,
      "flex": "2",
      "flex_flow": null,
      "grid_area": null,
      "grid_auto_columns": null,
      "grid_auto_flow": null,
      "grid_auto_rows": null,
      "grid_column": null,
      "grid_gap": null,
      "grid_row": null,
      "grid_template_areas": null,
      "grid_template_columns": null,
      "grid_template_rows": null,
      "height": null,
      "justify_content": null,
      "justify_items": null,
      "left": null,
      "margin": null,
      "max_height": null,
      "max_width": null,
      "min_height": null,
      "min_width": null,
      "object_fit": null,
      "object_position": null,
      "order": null,
      "overflow": null,
      "overflow_x": null,
      "overflow_y": null,
      "padding": null,
      "right": null,
      "top": null,
      "visibility": null,
      "width": null
     }
    },
    "b97c7e209b4742888e8ec75e2455a738": {
     "model_module": "@jupyter-widgets/base",
     "model_module_version": "1.2.0",
     "model_name": "LayoutModel",
     "state": {
      "_model_module": "@jupyter-widgets/base",
      "_model_module_version": "1.2.0",
      "_model_name": "LayoutModel",
      "_view_count": null,
      "_view_module": "@jupyter-widgets/base",
      "_view_module_version": "1.2.0",
      "_view_name": "LayoutView",
      "align_content": null,
      "align_items": null,
      "align_self": null,
      "border": null,
      "bottom": null,
      "display": null,
      "flex": null,
      "flex_flow": null,
      "grid_area": null,
      "grid_auto_columns": null,
      "grid_auto_flow": null,
      "grid_auto_rows": null,
      "grid_column": null,
      "grid_gap": null,
      "grid_row": null,
      "grid_template_areas": null,
      "grid_template_columns": null,
      "grid_template_rows": null,
      "height": null,
      "justify_content": null,
      "justify_items": null,
      "left": null,
      "margin": null,
      "max_height": null,
      "max_width": null,
      "min_height": null,
      "min_width": null,
      "object_fit": null,
      "object_position": null,
      "order": null,
      "overflow": null,
      "overflow_x": null,
      "overflow_y": null,
      "padding": null,
      "right": null,
      "top": null,
      "visibility": null,
      "width": null
     }
    },
    "ba749fd3c2964638a216ed346fe49933": {
     "model_module": "@jupyter-widgets/base",
     "model_module_version": "1.2.0",
     "model_name": "LayoutModel",
     "state": {
      "_model_module": "@jupyter-widgets/base",
      "_model_module_version": "1.2.0",
      "_model_name": "LayoutModel",
      "_view_count": null,
      "_view_module": "@jupyter-widgets/base",
      "_view_module_version": "1.2.0",
      "_view_name": "LayoutView",
      "align_content": null,
      "align_items": null,
      "align_self": null,
      "border": null,
      "bottom": null,
      "display": null,
      "flex": null,
      "flex_flow": null,
      "grid_area": null,
      "grid_auto_columns": null,
      "grid_auto_flow": null,
      "grid_auto_rows": null,
      "grid_column": null,
      "grid_gap": null,
      "grid_row": null,
      "grid_template_areas": null,
      "grid_template_columns": null,
      "grid_template_rows": null,
      "height": null,
      "justify_content": null,
      "justify_items": null,
      "left": null,
      "margin": null,
      "max_height": null,
      "max_width": null,
      "min_height": null,
      "min_width": null,
      "object_fit": null,
      "object_position": null,
      "order": null,
      "overflow": null,
      "overflow_x": null,
      "overflow_y": null,
      "padding": null,
      "right": null,
      "top": null,
      "visibility": null,
      "width": null
     }
    },
    "ba907a3b8fcf433e8f21021a1d450ff7": {
     "model_module": "@jupyter-widgets/controls",
     "model_module_version": "1.5.0",
     "model_name": "HBoxModel",
     "state": {
      "_dom_classes": [],
      "_model_module": "@jupyter-widgets/controls",
      "_model_module_version": "1.5.0",
      "_model_name": "HBoxModel",
      "_view_count": null,
      "_view_module": "@jupyter-widgets/controls",
      "_view_module_version": "1.5.0",
      "_view_name": "HBoxView",
      "box_style": "",
      "children": [
       "IPY_MODEL_0a508efaca8148ac820c44544ca19f4c",
       "IPY_MODEL_4331232c250c44929a253fd43124e2a0",
       "IPY_MODEL_70412a4ce3f446b38e7f3408b85d1b02"
      ],
      "layout": "IPY_MODEL_e7ee4c62e32c48bcac40de4b37f9bc5b"
     }
    },
    "ba9193183be041088b2f47784b5c6052": {
     "model_module": "@jupyter-widgets/controls",
     "model_module_version": "1.5.0",
     "model_name": "HTMLModel",
     "state": {
      "_dom_classes": [],
      "_model_module": "@jupyter-widgets/controls",
      "_model_module_version": "1.5.0",
      "_model_name": "HTMLModel",
      "_view_count": null,
      "_view_module": "@jupyter-widgets/controls",
      "_view_module_version": "1.5.0",
      "_view_name": "HTMLView",
      "description": "",
      "description_tooltip": null,
      "layout": "IPY_MODEL_7c771cee2d6049d0bb7bbe0ff5c15a10",
      "placeholder": "​",
      "style": "IPY_MODEL_46c84c6d971f46e68ba045bf8ace9033",
      "value": "Validation DataLoader 0: 100%"
     }
    },
    "bb0a19cf4f6a40638d7380c4f6d2e549": {
     "model_module": "@jupyter-widgets/controls",
     "model_module_version": "1.5.0",
     "model_name": "ProgressStyleModel",
     "state": {
      "_model_module": "@jupyter-widgets/controls",
      "_model_module_version": "1.5.0",
      "_model_name": "ProgressStyleModel",
      "_view_count": null,
      "_view_module": "@jupyter-widgets/base",
      "_view_module_version": "1.2.0",
      "_view_name": "StyleView",
      "bar_color": null,
      "description_width": ""
     }
    },
    "bb0cfebe559e48f5bcfc294a3b1d3fdf": {
     "model_module": "@jupyter-widgets/controls",
     "model_module_version": "1.5.0",
     "model_name": "DescriptionStyleModel",
     "state": {
      "_model_module": "@jupyter-widgets/controls",
      "_model_module_version": "1.5.0",
      "_model_name": "DescriptionStyleModel",
      "_view_count": null,
      "_view_module": "@jupyter-widgets/base",
      "_view_module_version": "1.2.0",
      "_view_name": "StyleView",
      "description_width": ""
     }
    },
    "bb30180f88bd45d2930691fe952b53a6": {
     "model_module": "@jupyter-widgets/controls",
     "model_module_version": "1.5.0",
     "model_name": "HBoxModel",
     "state": {
      "_dom_classes": [],
      "_model_module": "@jupyter-widgets/controls",
      "_model_module_version": "1.5.0",
      "_model_name": "HBoxModel",
      "_view_count": null,
      "_view_module": "@jupyter-widgets/controls",
      "_view_module_version": "1.5.0",
      "_view_name": "HBoxView",
      "box_style": "",
      "children": [
       "IPY_MODEL_8fe8f2a8fa9b482e84e459379f07e0cc",
       "IPY_MODEL_4ead11aa65484f99931f89fa11385023",
       "IPY_MODEL_d6e5492a6fca4d51986cd8d254bb4f39"
      ],
      "layout": "IPY_MODEL_0c18ad7b0c9c4027aaaa28cc3ac5f485"
     }
    },
    "bb5b122185544003a6765ff89a4e29d9": {
     "model_module": "@jupyter-widgets/controls",
     "model_module_version": "1.5.0",
     "model_name": "HTMLModel",
     "state": {
      "_dom_classes": [],
      "_model_module": "@jupyter-widgets/controls",
      "_model_module_version": "1.5.0",
      "_model_name": "HTMLModel",
      "_view_count": null,
      "_view_module": "@jupyter-widgets/controls",
      "_view_module_version": "1.5.0",
      "_view_name": "HTMLView",
      "description": "",
      "description_tooltip": null,
      "layout": "IPY_MODEL_435da79a1a584acea6830b4babb665b5",
      "placeholder": "​",
      "style": "IPY_MODEL_188df5f6e2ee4fedade20644d903b55f",
      "value": " 5/5 [00:01&lt;00:00,  3.89it/s]"
     }
    },
    "bb90bd571a4747aa9066215717c9b5df": {
     "model_module": "@jupyter-widgets/base",
     "model_module_version": "1.2.0",
     "model_name": "LayoutModel",
     "state": {
      "_model_module": "@jupyter-widgets/base",
      "_model_module_version": "1.2.0",
      "_model_name": "LayoutModel",
      "_view_count": null,
      "_view_module": "@jupyter-widgets/base",
      "_view_module_version": "1.2.0",
      "_view_name": "LayoutView",
      "align_content": null,
      "align_items": null,
      "align_self": null,
      "border": null,
      "bottom": null,
      "display": null,
      "flex": "2",
      "flex_flow": null,
      "grid_area": null,
      "grid_auto_columns": null,
      "grid_auto_flow": null,
      "grid_auto_rows": null,
      "grid_column": null,
      "grid_gap": null,
      "grid_row": null,
      "grid_template_areas": null,
      "grid_template_columns": null,
      "grid_template_rows": null,
      "height": null,
      "justify_content": null,
      "justify_items": null,
      "left": null,
      "margin": null,
      "max_height": null,
      "max_width": null,
      "min_height": null,
      "min_width": null,
      "object_fit": null,
      "object_position": null,
      "order": null,
      "overflow": null,
      "overflow_x": null,
      "overflow_y": null,
      "padding": null,
      "right": null,
      "top": null,
      "visibility": null,
      "width": null
     }
    },
    "bb9172cc2df94e7aad119aa54545b995": {
     "model_module": "@jupyter-widgets/controls",
     "model_module_version": "1.5.0",
     "model_name": "ProgressStyleModel",
     "state": {
      "_model_module": "@jupyter-widgets/controls",
      "_model_module_version": "1.5.0",
      "_model_name": "ProgressStyleModel",
      "_view_count": null,
      "_view_module": "@jupyter-widgets/base",
      "_view_module_version": "1.2.0",
      "_view_name": "StyleView",
      "bar_color": null,
      "description_width": ""
     }
    },
    "bbce6064c48f43348db59440a007d158": {
     "model_module": "@jupyter-widgets/base",
     "model_module_version": "1.2.0",
     "model_name": "LayoutModel",
     "state": {
      "_model_module": "@jupyter-widgets/base",
      "_model_module_version": "1.2.0",
      "_model_name": "LayoutModel",
      "_view_count": null,
      "_view_module": "@jupyter-widgets/base",
      "_view_module_version": "1.2.0",
      "_view_name": "LayoutView",
      "align_content": null,
      "align_items": null,
      "align_self": null,
      "border": null,
      "bottom": null,
      "display": null,
      "flex": "2",
      "flex_flow": null,
      "grid_area": null,
      "grid_auto_columns": null,
      "grid_auto_flow": null,
      "grid_auto_rows": null,
      "grid_column": null,
      "grid_gap": null,
      "grid_row": null,
      "grid_template_areas": null,
      "grid_template_columns": null,
      "grid_template_rows": null,
      "height": null,
      "justify_content": null,
      "justify_items": null,
      "left": null,
      "margin": null,
      "max_height": null,
      "max_width": null,
      "min_height": null,
      "min_width": null,
      "object_fit": null,
      "object_position": null,
      "order": null,
      "overflow": null,
      "overflow_x": null,
      "overflow_y": null,
      "padding": null,
      "right": null,
      "top": null,
      "visibility": null,
      "width": null
     }
    },
    "bc98826c8c8e4934871ef2f100eb5223": {
     "model_module": "@jupyter-widgets/base",
     "model_module_version": "1.2.0",
     "model_name": "LayoutModel",
     "state": {
      "_model_module": "@jupyter-widgets/base",
      "_model_module_version": "1.2.0",
      "_model_name": "LayoutModel",
      "_view_count": null,
      "_view_module": "@jupyter-widgets/base",
      "_view_module_version": "1.2.0",
      "_view_name": "LayoutView",
      "align_content": null,
      "align_items": null,
      "align_self": null,
      "border": null,
      "bottom": null,
      "display": null,
      "flex": "2",
      "flex_flow": null,
      "grid_area": null,
      "grid_auto_columns": null,
      "grid_auto_flow": null,
      "grid_auto_rows": null,
      "grid_column": null,
      "grid_gap": null,
      "grid_row": null,
      "grid_template_areas": null,
      "grid_template_columns": null,
      "grid_template_rows": null,
      "height": null,
      "justify_content": null,
      "justify_items": null,
      "left": null,
      "margin": null,
      "max_height": null,
      "max_width": null,
      "min_height": null,
      "min_width": null,
      "object_fit": null,
      "object_position": null,
      "order": null,
      "overflow": null,
      "overflow_x": null,
      "overflow_y": null,
      "padding": null,
      "right": null,
      "top": null,
      "visibility": null,
      "width": null
     }
    },
    "bd2eb0458d0c4e3db8b1d7be5190c519": {
     "model_module": "@jupyter-widgets/base",
     "model_module_version": "1.2.0",
     "model_name": "LayoutModel",
     "state": {
      "_model_module": "@jupyter-widgets/base",
      "_model_module_version": "1.2.0",
      "_model_name": "LayoutModel",
      "_view_count": null,
      "_view_module": "@jupyter-widgets/base",
      "_view_module_version": "1.2.0",
      "_view_name": "LayoutView",
      "align_content": null,
      "align_items": null,
      "align_self": null,
      "border": null,
      "bottom": null,
      "display": null,
      "flex": "2",
      "flex_flow": null,
      "grid_area": null,
      "grid_auto_columns": null,
      "grid_auto_flow": null,
      "grid_auto_rows": null,
      "grid_column": null,
      "grid_gap": null,
      "grid_row": null,
      "grid_template_areas": null,
      "grid_template_columns": null,
      "grid_template_rows": null,
      "height": null,
      "justify_content": null,
      "justify_items": null,
      "left": null,
      "margin": null,
      "max_height": null,
      "max_width": null,
      "min_height": null,
      "min_width": null,
      "object_fit": null,
      "object_position": null,
      "order": null,
      "overflow": null,
      "overflow_x": null,
      "overflow_y": null,
      "padding": null,
      "right": null,
      "top": null,
      "visibility": null,
      "width": null
     }
    },
    "be8353ec9005403f8742915614bae9ff": {
     "model_module": "@jupyter-widgets/controls",
     "model_module_version": "1.5.0",
     "model_name": "FloatProgressModel",
     "state": {
      "_dom_classes": [],
      "_model_module": "@jupyter-widgets/controls",
      "_model_module_version": "1.5.0",
      "_model_name": "FloatProgressModel",
      "_view_count": null,
      "_view_module": "@jupyter-widgets/controls",
      "_view_module_version": "1.5.0",
      "_view_name": "ProgressView",
      "bar_style": "",
      "description": "",
      "description_tooltip": null,
      "layout": "IPY_MODEL_9aa8a28ef53e404182fef0544659e59a",
      "max": 5,
      "min": 0,
      "orientation": "horizontal",
      "style": "IPY_MODEL_bb9172cc2df94e7aad119aa54545b995",
      "value": 5
     }
    },
    "be9e26dcd2334ca1ada77ef2e23446b7": {
     "model_module": "@jupyter-widgets/controls",
     "model_module_version": "1.5.0",
     "model_name": "HTMLModel",
     "state": {
      "_dom_classes": [],
      "_model_module": "@jupyter-widgets/controls",
      "_model_module_version": "1.5.0",
      "_model_name": "HTMLModel",
      "_view_count": null,
      "_view_module": "@jupyter-widgets/controls",
      "_view_module_version": "1.5.0",
      "_view_name": "HTMLView",
      "description": "",
      "description_tooltip": null,
      "layout": "IPY_MODEL_af11ec99c3904b8ba12f451a7c44a6ce",
      "placeholder": "​",
      "style": "IPY_MODEL_702ee5578b4b4d258c3a23a1b79fb52f",
      "value": " 5/5 [00:01&lt;00:00,  4.10it/s]"
     }
    },
    "becd3594726149be975ce7d91df16d6f": {
     "model_module": "@jupyter-widgets/controls",
     "model_module_version": "1.5.0",
     "model_name": "ProgressStyleModel",
     "state": {
      "_model_module": "@jupyter-widgets/controls",
      "_model_module_version": "1.5.0",
      "_model_name": "ProgressStyleModel",
      "_view_count": null,
      "_view_module": "@jupyter-widgets/base",
      "_view_module_version": "1.2.0",
      "_view_name": "StyleView",
      "bar_color": null,
      "description_width": ""
     }
    },
    "bf087adcd65e4e7e87d2ab938c359c50": {
     "model_module": "@jupyter-widgets/controls",
     "model_module_version": "1.5.0",
     "model_name": "HBoxModel",
     "state": {
      "_dom_classes": [],
      "_model_module": "@jupyter-widgets/controls",
      "_model_module_version": "1.5.0",
      "_model_name": "HBoxModel",
      "_view_count": null,
      "_view_module": "@jupyter-widgets/controls",
      "_view_module_version": "1.5.0",
      "_view_name": "HBoxView",
      "box_style": "",
      "children": [
       "IPY_MODEL_4c5a911ef7924db7a628ddf10a3543a6",
       "IPY_MODEL_ab8f2de5f56342a79d08aecd5f26800e",
       "IPY_MODEL_757af59d66dc4c06b8a105b262b903ba"
      ],
      "layout": "IPY_MODEL_444d55e5b9754e7ab37bacc414d11a11"
     }
    },
    "bfbce7155be8403db997b2add318172b": {
     "model_module": "@jupyter-widgets/controls",
     "model_module_version": "1.5.0",
     "model_name": "HTMLModel",
     "state": {
      "_dom_classes": [],
      "_model_module": "@jupyter-widgets/controls",
      "_model_module_version": "1.5.0",
      "_model_name": "HTMLModel",
      "_view_count": null,
      "_view_module": "@jupyter-widgets/controls",
      "_view_module_version": "1.5.0",
      "_view_name": "HTMLView",
      "description": "",
      "description_tooltip": null,
      "layout": "IPY_MODEL_dd976c23758d4bc5b5da65ed23abe9cc",
      "placeholder": "​",
      "style": "IPY_MODEL_7a58d70f17cf42458869826bdafca282",
      "value": " 5/5 [00:01&lt;00:00,  3.97it/s]"
     }
    },
    "bfde4ea9c007493ca59caae5382f36bb": {
     "model_module": "@jupyter-widgets/base",
     "model_module_version": "1.2.0",
     "model_name": "LayoutModel",
     "state": {
      "_model_module": "@jupyter-widgets/base",
      "_model_module_version": "1.2.0",
      "_model_name": "LayoutModel",
      "_view_count": null,
      "_view_module": "@jupyter-widgets/base",
      "_view_module_version": "1.2.0",
      "_view_name": "LayoutView",
      "align_content": null,
      "align_items": null,
      "align_self": null,
      "border": null,
      "bottom": null,
      "display": null,
      "flex": "2",
      "flex_flow": null,
      "grid_area": null,
      "grid_auto_columns": null,
      "grid_auto_flow": null,
      "grid_auto_rows": null,
      "grid_column": null,
      "grid_gap": null,
      "grid_row": null,
      "grid_template_areas": null,
      "grid_template_columns": null,
      "grid_template_rows": null,
      "height": null,
      "justify_content": null,
      "justify_items": null,
      "left": null,
      "margin": null,
      "max_height": null,
      "max_width": null,
      "min_height": null,
      "min_width": null,
      "object_fit": null,
      "object_position": null,
      "order": null,
      "overflow": null,
      "overflow_x": null,
      "overflow_y": null,
      "padding": null,
      "right": null,
      "top": null,
      "visibility": null,
      "width": null
     }
    },
    "c07b0bb493054088876820432902df1c": {
     "model_module": "@jupyter-widgets/base",
     "model_module_version": "1.2.0",
     "model_name": "LayoutModel",
     "state": {
      "_model_module": "@jupyter-widgets/base",
      "_model_module_version": "1.2.0",
      "_model_name": "LayoutModel",
      "_view_count": null,
      "_view_module": "@jupyter-widgets/base",
      "_view_module_version": "1.2.0",
      "_view_name": "LayoutView",
      "align_content": null,
      "align_items": null,
      "align_self": null,
      "border": null,
      "bottom": null,
      "display": null,
      "flex": null,
      "flex_flow": null,
      "grid_area": null,
      "grid_auto_columns": null,
      "grid_auto_flow": null,
      "grid_auto_rows": null,
      "grid_column": null,
      "grid_gap": null,
      "grid_row": null,
      "grid_template_areas": null,
      "grid_template_columns": null,
      "grid_template_rows": null,
      "height": null,
      "justify_content": null,
      "justify_items": null,
      "left": null,
      "margin": null,
      "max_height": null,
      "max_width": null,
      "min_height": null,
      "min_width": null,
      "object_fit": null,
      "object_position": null,
      "order": null,
      "overflow": null,
      "overflow_x": null,
      "overflow_y": null,
      "padding": null,
      "right": null,
      "top": null,
      "visibility": null,
      "width": null
     }
    },
    "c20ce437955e44ddba6f9cbfd0f9aac5": {
     "model_module": "@jupyter-widgets/controls",
     "model_module_version": "1.5.0",
     "model_name": "HTMLModel",
     "state": {
      "_dom_classes": [],
      "_model_module": "@jupyter-widgets/controls",
      "_model_module_version": "1.5.0",
      "_model_name": "HTMLModel",
      "_view_count": null,
      "_view_module": "@jupyter-widgets/controls",
      "_view_module_version": "1.5.0",
      "_view_name": "HTMLView",
      "description": "",
      "description_tooltip": null,
      "layout": "IPY_MODEL_9b4d4d48f7c04d21a0a84838a45820a8",
      "placeholder": "​",
      "style": "IPY_MODEL_86d41d7fe5724ba892008f61f53c6e13",
      "value": " 5/5 [00:01&lt;00:00,  3.91it/s]"
     }
    },
    "c2b353191a90442a9bdc629fc3869739": {
     "model_module": "@jupyter-widgets/controls",
     "model_module_version": "1.5.0",
     "model_name": "FloatProgressModel",
     "state": {
      "_dom_classes": [],
      "_model_module": "@jupyter-widgets/controls",
      "_model_module_version": "1.5.0",
      "_model_name": "FloatProgressModel",
      "_view_count": null,
      "_view_module": "@jupyter-widgets/controls",
      "_view_module_version": "1.5.0",
      "_view_name": "ProgressView",
      "bar_style": "",
      "description": "",
      "description_tooltip": null,
      "layout": "IPY_MODEL_35e20acdb70c4dc1940dfd1f21b81e7f",
      "max": 5,
      "min": 0,
      "orientation": "horizontal",
      "style": "IPY_MODEL_b07774513ad3419f9635021e8defa6df",
      "value": 5
     }
    },
    "c3c4cf8304bd4a3a9221e32eb9742179": {
     "model_module": "@jupyter-widgets/controls",
     "model_module_version": "1.5.0",
     "model_name": "DescriptionStyleModel",
     "state": {
      "_model_module": "@jupyter-widgets/controls",
      "_model_module_version": "1.5.0",
      "_model_name": "DescriptionStyleModel",
      "_view_count": null,
      "_view_module": "@jupyter-widgets/base",
      "_view_module_version": "1.2.0",
      "_view_name": "StyleView",
      "description_width": ""
     }
    },
    "c40e792f6d984b1faf64d5f7b8ce9867": {
     "model_module": "@jupyter-widgets/controls",
     "model_module_version": "1.5.0",
     "model_name": "HTMLModel",
     "state": {
      "_dom_classes": [],
      "_model_module": "@jupyter-widgets/controls",
      "_model_module_version": "1.5.0",
      "_model_name": "HTMLModel",
      "_view_count": null,
      "_view_module": "@jupyter-widgets/controls",
      "_view_module_version": "1.5.0",
      "_view_name": "HTMLView",
      "description": "",
      "description_tooltip": null,
      "layout": "IPY_MODEL_61203387f9e944029934dd106381e8fa",
      "placeholder": "​",
      "style": "IPY_MODEL_21942ec409ba40ff91141a24a880ac12",
      "value": " 5/5 [00:01&lt;00:00,  3.93it/s]"
     }
    },
    "c40f78bf576c4357b7f83177d07993dc": {
     "model_module": "@jupyter-widgets/controls",
     "model_module_version": "1.5.0",
     "model_name": "DescriptionStyleModel",
     "state": {
      "_model_module": "@jupyter-widgets/controls",
      "_model_module_version": "1.5.0",
      "_model_name": "DescriptionStyleModel",
      "_view_count": null,
      "_view_module": "@jupyter-widgets/base",
      "_view_module_version": "1.2.0",
      "_view_name": "StyleView",
      "description_width": ""
     }
    },
    "c4b97e0f183647069cf520b1b2c13c11": {
     "model_module": "@jupyter-widgets/base",
     "model_module_version": "1.2.0",
     "model_name": "LayoutModel",
     "state": {
      "_model_module": "@jupyter-widgets/base",
      "_model_module_version": "1.2.0",
      "_model_name": "LayoutModel",
      "_view_count": null,
      "_view_module": "@jupyter-widgets/base",
      "_view_module_version": "1.2.0",
      "_view_name": "LayoutView",
      "align_content": null,
      "align_items": null,
      "align_self": null,
      "border": null,
      "bottom": null,
      "display": null,
      "flex": "2",
      "flex_flow": null,
      "grid_area": null,
      "grid_auto_columns": null,
      "grid_auto_flow": null,
      "grid_auto_rows": null,
      "grid_column": null,
      "grid_gap": null,
      "grid_row": null,
      "grid_template_areas": null,
      "grid_template_columns": null,
      "grid_template_rows": null,
      "height": null,
      "justify_content": null,
      "justify_items": null,
      "left": null,
      "margin": null,
      "max_height": null,
      "max_width": null,
      "min_height": null,
      "min_width": null,
      "object_fit": null,
      "object_position": null,
      "order": null,
      "overflow": null,
      "overflow_x": null,
      "overflow_y": null,
      "padding": null,
      "right": null,
      "top": null,
      "visibility": null,
      "width": null
     }
    },
    "c5405cd5460c4ebd8300dfc5ad8d0e1b": {
     "model_module": "@jupyter-widgets/base",
     "model_module_version": "1.2.0",
     "model_name": "LayoutModel",
     "state": {
      "_model_module": "@jupyter-widgets/base",
      "_model_module_version": "1.2.0",
      "_model_name": "LayoutModel",
      "_view_count": null,
      "_view_module": "@jupyter-widgets/base",
      "_view_module_version": "1.2.0",
      "_view_name": "LayoutView",
      "align_content": null,
      "align_items": null,
      "align_self": null,
      "border": null,
      "bottom": null,
      "display": "inline-flex",
      "flex": null,
      "flex_flow": "row wrap",
      "grid_area": null,
      "grid_auto_columns": null,
      "grid_auto_flow": null,
      "grid_auto_rows": null,
      "grid_column": null,
      "grid_gap": null,
      "grid_row": null,
      "grid_template_areas": null,
      "grid_template_columns": null,
      "grid_template_rows": null,
      "height": null,
      "justify_content": null,
      "justify_items": null,
      "left": null,
      "margin": null,
      "max_height": null,
      "max_width": null,
      "min_height": null,
      "min_width": null,
      "object_fit": null,
      "object_position": null,
      "order": null,
      "overflow": null,
      "overflow_x": null,
      "overflow_y": null,
      "padding": null,
      "right": null,
      "top": null,
      "visibility": "hidden",
      "width": "100%"
     }
    },
    "c571891a213244fca42e501fe02f1436": {
     "model_module": "@jupyter-widgets/base",
     "model_module_version": "1.2.0",
     "model_name": "LayoutModel",
     "state": {
      "_model_module": "@jupyter-widgets/base",
      "_model_module_version": "1.2.0",
      "_model_name": "LayoutModel",
      "_view_count": null,
      "_view_module": "@jupyter-widgets/base",
      "_view_module_version": "1.2.0",
      "_view_name": "LayoutView",
      "align_content": null,
      "align_items": null,
      "align_self": null,
      "border": null,
      "bottom": null,
      "display": null,
      "flex": null,
      "flex_flow": null,
      "grid_area": null,
      "grid_auto_columns": null,
      "grid_auto_flow": null,
      "grid_auto_rows": null,
      "grid_column": null,
      "grid_gap": null,
      "grid_row": null,
      "grid_template_areas": null,
      "grid_template_columns": null,
      "grid_template_rows": null,
      "height": null,
      "justify_content": null,
      "justify_items": null,
      "left": null,
      "margin": null,
      "max_height": null,
      "max_width": null,
      "min_height": null,
      "min_width": null,
      "object_fit": null,
      "object_position": null,
      "order": null,
      "overflow": null,
      "overflow_x": null,
      "overflow_y": null,
      "padding": null,
      "right": null,
      "top": null,
      "visibility": null,
      "width": null
     }
    },
    "c6b820fbf04d4a3198652a47d389fdec": {
     "model_module": "@jupyter-widgets/controls",
     "model_module_version": "1.5.0",
     "model_name": "HTMLModel",
     "state": {
      "_dom_classes": [],
      "_model_module": "@jupyter-widgets/controls",
      "_model_module_version": "1.5.0",
      "_model_name": "HTMLModel",
      "_view_count": null,
      "_view_module": "@jupyter-widgets/controls",
      "_view_module_version": "1.5.0",
      "_view_name": "HTMLView",
      "description": "",
      "description_tooltip": null,
      "layout": "IPY_MODEL_2beedea1ab4d43829db9aa35bf48fc95",
      "placeholder": "​",
      "style": "IPY_MODEL_520bbbdadc4245e2ab5e4ff08aca94ba",
      "value": "Validation DataLoader 0: 100%"
     }
    },
    "c6bb6f0afa1d438b9ec265da6071cf87": {
     "model_module": "@jupyter-widgets/controls",
     "model_module_version": "1.5.0",
     "model_name": "FloatProgressModel",
     "state": {
      "_dom_classes": [],
      "_model_module": "@jupyter-widgets/controls",
      "_model_module_version": "1.5.0",
      "_model_name": "FloatProgressModel",
      "_view_count": null,
      "_view_module": "@jupyter-widgets/controls",
      "_view_module_version": "1.5.0",
      "_view_name": "ProgressView",
      "bar_style": "",
      "description": "",
      "description_tooltip": null,
      "layout": "IPY_MODEL_00eb0b62b54d40998f9ca67be99face9",
      "max": 5,
      "min": 0,
      "orientation": "horizontal",
      "style": "IPY_MODEL_dcb19b4ae8e74aaaa67222183f3dde74",
      "value": 5
     }
    },
    "c86cc5bc4c954618aceb6926709f186c": {
     "model_module": "@jupyter-widgets/controls",
     "model_module_version": "1.5.0",
     "model_name": "DescriptionStyleModel",
     "state": {
      "_model_module": "@jupyter-widgets/controls",
      "_model_module_version": "1.5.0",
      "_model_name": "DescriptionStyleModel",
      "_view_count": null,
      "_view_module": "@jupyter-widgets/base",
      "_view_module_version": "1.2.0",
      "_view_name": "StyleView",
      "description_width": ""
     }
    },
    "c8fce0d2ea164f4489364cfe6eccbdab": {
     "model_module": "@jupyter-widgets/base",
     "model_module_version": "1.2.0",
     "model_name": "LayoutModel",
     "state": {
      "_model_module": "@jupyter-widgets/base",
      "_model_module_version": "1.2.0",
      "_model_name": "LayoutModel",
      "_view_count": null,
      "_view_module": "@jupyter-widgets/base",
      "_view_module_version": "1.2.0",
      "_view_name": "LayoutView",
      "align_content": null,
      "align_items": null,
      "align_self": null,
      "border": null,
      "bottom": null,
      "display": null,
      "flex": null,
      "flex_flow": null,
      "grid_area": null,
      "grid_auto_columns": null,
      "grid_auto_flow": null,
      "grid_auto_rows": null,
      "grid_column": null,
      "grid_gap": null,
      "grid_row": null,
      "grid_template_areas": null,
      "grid_template_columns": null,
      "grid_template_rows": null,
      "height": null,
      "justify_content": null,
      "justify_items": null,
      "left": null,
      "margin": null,
      "max_height": null,
      "max_width": null,
      "min_height": null,
      "min_width": null,
      "object_fit": null,
      "object_position": null,
      "order": null,
      "overflow": null,
      "overflow_x": null,
      "overflow_y": null,
      "padding": null,
      "right": null,
      "top": null,
      "visibility": null,
      "width": null
     }
    },
    "c90b1c4de8834f7a82e9a722da205028": {
     "model_module": "@jupyter-widgets/controls",
     "model_module_version": "1.5.0",
     "model_name": "DescriptionStyleModel",
     "state": {
      "_model_module": "@jupyter-widgets/controls",
      "_model_module_version": "1.5.0",
      "_model_name": "DescriptionStyleModel",
      "_view_count": null,
      "_view_module": "@jupyter-widgets/base",
      "_view_module_version": "1.2.0",
      "_view_name": "StyleView",
      "description_width": ""
     }
    },
    "c90fc737e8bf442d84af58e92c43f23a": {
     "model_module": "@jupyter-widgets/base",
     "model_module_version": "1.2.0",
     "model_name": "LayoutModel",
     "state": {
      "_model_module": "@jupyter-widgets/base",
      "_model_module_version": "1.2.0",
      "_model_name": "LayoutModel",
      "_view_count": null,
      "_view_module": "@jupyter-widgets/base",
      "_view_module_version": "1.2.0",
      "_view_name": "LayoutView",
      "align_content": null,
      "align_items": null,
      "align_self": null,
      "border": null,
      "bottom": null,
      "display": "inline-flex",
      "flex": null,
      "flex_flow": "row wrap",
      "grid_area": null,
      "grid_auto_columns": null,
      "grid_auto_flow": null,
      "grid_auto_rows": null,
      "grid_column": null,
      "grid_gap": null,
      "grid_row": null,
      "grid_template_areas": null,
      "grid_template_columns": null,
      "grid_template_rows": null,
      "height": null,
      "justify_content": null,
      "justify_items": null,
      "left": null,
      "margin": null,
      "max_height": null,
      "max_width": null,
      "min_height": null,
      "min_width": null,
      "object_fit": null,
      "object_position": null,
      "order": null,
      "overflow": null,
      "overflow_x": null,
      "overflow_y": null,
      "padding": null,
      "right": null,
      "top": null,
      "visibility": "hidden",
      "width": "100%"
     }
    },
    "cacc9f6639cf4f88bd752c688e443ca0": {
     "model_module": "@jupyter-widgets/controls",
     "model_module_version": "1.5.0",
     "model_name": "HTMLModel",
     "state": {
      "_dom_classes": [],
      "_model_module": "@jupyter-widgets/controls",
      "_model_module_version": "1.5.0",
      "_model_name": "HTMLModel",
      "_view_count": null,
      "_view_module": "@jupyter-widgets/controls",
      "_view_module_version": "1.5.0",
      "_view_name": "HTMLView",
      "description": "",
      "description_tooltip": null,
      "layout": "IPY_MODEL_7cabd2a7872e4dc78ffb18cf031eabf2",
      "placeholder": "​",
      "style": "IPY_MODEL_c40f78bf576c4357b7f83177d07993dc",
      "value": " 5/5 [00:01&lt;00:00,  3.99it/s]"
     }
    },
    "caeffeb004584087b864db288f546085": {
     "model_module": "@jupyter-widgets/controls",
     "model_module_version": "1.5.0",
     "model_name": "DescriptionStyleModel",
     "state": {
      "_model_module": "@jupyter-widgets/controls",
      "_model_module_version": "1.5.0",
      "_model_name": "DescriptionStyleModel",
      "_view_count": null,
      "_view_module": "@jupyter-widgets/base",
      "_view_module_version": "1.2.0",
      "_view_name": "StyleView",
      "description_width": ""
     }
    },
    "cb4eea16301346dd8575b38a11c9ad58": {
     "model_module": "@jupyter-widgets/controls",
     "model_module_version": "1.5.0",
     "model_name": "ProgressStyleModel",
     "state": {
      "_model_module": "@jupyter-widgets/controls",
      "_model_module_version": "1.5.0",
      "_model_name": "ProgressStyleModel",
      "_view_count": null,
      "_view_module": "@jupyter-widgets/base",
      "_view_module_version": "1.2.0",
      "_view_name": "StyleView",
      "bar_color": null,
      "description_width": ""
     }
    },
    "cb5bedd005704beaa9bd77e34af15251": {
     "model_module": "@jupyter-widgets/controls",
     "model_module_version": "1.5.0",
     "model_name": "FloatProgressModel",
     "state": {
      "_dom_classes": [],
      "_model_module": "@jupyter-widgets/controls",
      "_model_module_version": "1.5.0",
      "_model_name": "FloatProgressModel",
      "_view_count": null,
      "_view_module": "@jupyter-widgets/controls",
      "_view_module_version": "1.5.0",
      "_view_name": "ProgressView",
      "bar_style": "",
      "description": "",
      "description_tooltip": null,
      "layout": "IPY_MODEL_a613e3362ed04989bf0f740f698c6891",
      "max": 5,
      "min": 0,
      "orientation": "horizontal",
      "style": "IPY_MODEL_807f89e007ca47dcb02fa0a94cf7ea27",
      "value": 5
     }
    },
    "cb6670d6ab34428d9d3c41103934271a": {
     "model_module": "@jupyter-widgets/controls",
     "model_module_version": "1.5.0",
     "model_name": "DescriptionStyleModel",
     "state": {
      "_model_module": "@jupyter-widgets/controls",
      "_model_module_version": "1.5.0",
      "_model_name": "DescriptionStyleModel",
      "_view_count": null,
      "_view_module": "@jupyter-widgets/base",
      "_view_module_version": "1.2.0",
      "_view_name": "StyleView",
      "description_width": ""
     }
    },
    "cc84247d3d744f2e94d5008196c71d8c": {
     "model_module": "@jupyter-widgets/controls",
     "model_module_version": "1.5.0",
     "model_name": "HTMLModel",
     "state": {
      "_dom_classes": [],
      "_model_module": "@jupyter-widgets/controls",
      "_model_module_version": "1.5.0",
      "_model_name": "HTMLModel",
      "_view_count": null,
      "_view_module": "@jupyter-widgets/controls",
      "_view_module_version": "1.5.0",
      "_view_name": "HTMLView",
      "description": "",
      "description_tooltip": null,
      "layout": "IPY_MODEL_840fe65eab434d3ba124dae1eee2a2da",
      "placeholder": "​",
      "style": "IPY_MODEL_81220a5f37544e5082af0cbf9bf7c20c",
      "value": " 5/5 [00:01&lt;00:00,  4.04it/s]"
     }
    },
    "cca3361430d74b5c88dc75ccda81b1c7": {
     "model_module": "@jupyter-widgets/controls",
     "model_module_version": "1.5.0",
     "model_name": "DescriptionStyleModel",
     "state": {
      "_model_module": "@jupyter-widgets/controls",
      "_model_module_version": "1.5.0",
      "_model_name": "DescriptionStyleModel",
      "_view_count": null,
      "_view_module": "@jupyter-widgets/base",
      "_view_module_version": "1.2.0",
      "_view_name": "StyleView",
      "description_width": ""
     }
    },
    "cca5cca3c5db4dc98cf0e53c8310b7c9": {
     "model_module": "@jupyter-widgets/base",
     "model_module_version": "1.2.0",
     "model_name": "LayoutModel",
     "state": {
      "_model_module": "@jupyter-widgets/base",
      "_model_module_version": "1.2.0",
      "_model_name": "LayoutModel",
      "_view_count": null,
      "_view_module": "@jupyter-widgets/base",
      "_view_module_version": "1.2.0",
      "_view_name": "LayoutView",
      "align_content": null,
      "align_items": null,
      "align_self": null,
      "border": null,
      "bottom": null,
      "display": null,
      "flex": "2",
      "flex_flow": null,
      "grid_area": null,
      "grid_auto_columns": null,
      "grid_auto_flow": null,
      "grid_auto_rows": null,
      "grid_column": null,
      "grid_gap": null,
      "grid_row": null,
      "grid_template_areas": null,
      "grid_template_columns": null,
      "grid_template_rows": null,
      "height": null,
      "justify_content": null,
      "justify_items": null,
      "left": null,
      "margin": null,
      "max_height": null,
      "max_width": null,
      "min_height": null,
      "min_width": null,
      "object_fit": null,
      "object_position": null,
      "order": null,
      "overflow": null,
      "overflow_x": null,
      "overflow_y": null,
      "padding": null,
      "right": null,
      "top": null,
      "visibility": null,
      "width": null
     }
    },
    "ce66eff2940442a389ebaea26f96ff2a": {
     "model_module": "@jupyter-widgets/base",
     "model_module_version": "1.2.0",
     "model_name": "LayoutModel",
     "state": {
      "_model_module": "@jupyter-widgets/base",
      "_model_module_version": "1.2.0",
      "_model_name": "LayoutModel",
      "_view_count": null,
      "_view_module": "@jupyter-widgets/base",
      "_view_module_version": "1.2.0",
      "_view_name": "LayoutView",
      "align_content": null,
      "align_items": null,
      "align_self": null,
      "border": null,
      "bottom": null,
      "display": null,
      "flex": "2",
      "flex_flow": null,
      "grid_area": null,
      "grid_auto_columns": null,
      "grid_auto_flow": null,
      "grid_auto_rows": null,
      "grid_column": null,
      "grid_gap": null,
      "grid_row": null,
      "grid_template_areas": null,
      "grid_template_columns": null,
      "grid_template_rows": null,
      "height": null,
      "justify_content": null,
      "justify_items": null,
      "left": null,
      "margin": null,
      "max_height": null,
      "max_width": null,
      "min_height": null,
      "min_width": null,
      "object_fit": null,
      "object_position": null,
      "order": null,
      "overflow": null,
      "overflow_x": null,
      "overflow_y": null,
      "padding": null,
      "right": null,
      "top": null,
      "visibility": null,
      "width": null
     }
    },
    "cf6d3f9e43954d93be86186b5bc7249d": {
     "model_module": "@jupyter-widgets/controls",
     "model_module_version": "1.5.0",
     "model_name": "HBoxModel",
     "state": {
      "_dom_classes": [],
      "_model_module": "@jupyter-widgets/controls",
      "_model_module_version": "1.5.0",
      "_model_name": "HBoxModel",
      "_view_count": null,
      "_view_module": "@jupyter-widgets/controls",
      "_view_module_version": "1.5.0",
      "_view_name": "HBoxView",
      "box_style": "",
      "children": [
       "IPY_MODEL_e4e2612bf85b42e6b2bb4ae0f3dcb8a8",
       "IPY_MODEL_ecfa73ff58cf4b698dbad2c5376b07cc",
       "IPY_MODEL_be9e26dcd2334ca1ada77ef2e23446b7"
      ],
      "layout": "IPY_MODEL_ea60e48df6f54f1b94b1ececab0c2231"
     }
    },
    "cfc41089669d4ddf9d6d199e23825b84": {
     "model_module": "@jupyter-widgets/base",
     "model_module_version": "1.2.0",
     "model_name": "LayoutModel",
     "state": {
      "_model_module": "@jupyter-widgets/base",
      "_model_module_version": "1.2.0",
      "_model_name": "LayoutModel",
      "_view_count": null,
      "_view_module": "@jupyter-widgets/base",
      "_view_module_version": "1.2.0",
      "_view_name": "LayoutView",
      "align_content": null,
      "align_items": null,
      "align_self": null,
      "border": null,
      "bottom": null,
      "display": "inline-flex",
      "flex": null,
      "flex_flow": "row wrap",
      "grid_area": null,
      "grid_auto_columns": null,
      "grid_auto_flow": null,
      "grid_auto_rows": null,
      "grid_column": null,
      "grid_gap": null,
      "grid_row": null,
      "grid_template_areas": null,
      "grid_template_columns": null,
      "grid_template_rows": null,
      "height": null,
      "justify_content": null,
      "justify_items": null,
      "left": null,
      "margin": null,
      "max_height": null,
      "max_width": null,
      "min_height": null,
      "min_width": null,
      "object_fit": null,
      "object_position": null,
      "order": null,
      "overflow": null,
      "overflow_x": null,
      "overflow_y": null,
      "padding": null,
      "right": null,
      "top": null,
      "visibility": "hidden",
      "width": "100%"
     }
    },
    "cfd173b23e9d4a3b9e5cd91e7de132d7": {
     "model_module": "@jupyter-widgets/base",
     "model_module_version": "1.2.0",
     "model_name": "LayoutModel",
     "state": {
      "_model_module": "@jupyter-widgets/base",
      "_model_module_version": "1.2.0",
      "_model_name": "LayoutModel",
      "_view_count": null,
      "_view_module": "@jupyter-widgets/base",
      "_view_module_version": "1.2.0",
      "_view_name": "LayoutView",
      "align_content": null,
      "align_items": null,
      "align_self": null,
      "border": null,
      "bottom": null,
      "display": null,
      "flex": null,
      "flex_flow": null,
      "grid_area": null,
      "grid_auto_columns": null,
      "grid_auto_flow": null,
      "grid_auto_rows": null,
      "grid_column": null,
      "grid_gap": null,
      "grid_row": null,
      "grid_template_areas": null,
      "grid_template_columns": null,
      "grid_template_rows": null,
      "height": null,
      "justify_content": null,
      "justify_items": null,
      "left": null,
      "margin": null,
      "max_height": null,
      "max_width": null,
      "min_height": null,
      "min_width": null,
      "object_fit": null,
      "object_position": null,
      "order": null,
      "overflow": null,
      "overflow_x": null,
      "overflow_y": null,
      "padding": null,
      "right": null,
      "top": null,
      "visibility": null,
      "width": null
     }
    },
    "d08f9eb285034206b6980e106461c8dc": {
     "model_module": "@jupyter-widgets/base",
     "model_module_version": "1.2.0",
     "model_name": "LayoutModel",
     "state": {
      "_model_module": "@jupyter-widgets/base",
      "_model_module_version": "1.2.0",
      "_model_name": "LayoutModel",
      "_view_count": null,
      "_view_module": "@jupyter-widgets/base",
      "_view_module_version": "1.2.0",
      "_view_name": "LayoutView",
      "align_content": null,
      "align_items": null,
      "align_self": null,
      "border": null,
      "bottom": null,
      "display": null,
      "flex": null,
      "flex_flow": null,
      "grid_area": null,
      "grid_auto_columns": null,
      "grid_auto_flow": null,
      "grid_auto_rows": null,
      "grid_column": null,
      "grid_gap": null,
      "grid_row": null,
      "grid_template_areas": null,
      "grid_template_columns": null,
      "grid_template_rows": null,
      "height": null,
      "justify_content": null,
      "justify_items": null,
      "left": null,
      "margin": null,
      "max_height": null,
      "max_width": null,
      "min_height": null,
      "min_width": null,
      "object_fit": null,
      "object_position": null,
      "order": null,
      "overflow": null,
      "overflow_x": null,
      "overflow_y": null,
      "padding": null,
      "right": null,
      "top": null,
      "visibility": null,
      "width": null
     }
    },
    "d0e5790f12d24e08acd5f2f23319c754": {
     "model_module": "@jupyter-widgets/controls",
     "model_module_version": "1.5.0",
     "model_name": "DescriptionStyleModel",
     "state": {
      "_model_module": "@jupyter-widgets/controls",
      "_model_module_version": "1.5.0",
      "_model_name": "DescriptionStyleModel",
      "_view_count": null,
      "_view_module": "@jupyter-widgets/base",
      "_view_module_version": "1.2.0",
      "_view_name": "StyleView",
      "description_width": ""
     }
    },
    "d1a75db46ebd4e809bb1ddffca3e172f": {
     "model_module": "@jupyter-widgets/controls",
     "model_module_version": "1.5.0",
     "model_name": "HTMLModel",
     "state": {
      "_dom_classes": [],
      "_model_module": "@jupyter-widgets/controls",
      "_model_module_version": "1.5.0",
      "_model_name": "HTMLModel",
      "_view_count": null,
      "_view_module": "@jupyter-widgets/controls",
      "_view_module_version": "1.5.0",
      "_view_name": "HTMLView",
      "description": "",
      "description_tooltip": null,
      "layout": "IPY_MODEL_e135349c78f045938b297b03d76390b2",
      "placeholder": "​",
      "style": "IPY_MODEL_d32d2b49193f407d88b59765ab577366",
      "value": " 5/5 [00:01&lt;00:00,  4.00it/s]"
     }
    },
    "d1e3fceb1f524d75ae1105276796145f": {
     "model_module": "@jupyter-widgets/controls",
     "model_module_version": "1.5.0",
     "model_name": "HTMLModel",
     "state": {
      "_dom_classes": [],
      "_model_module": "@jupyter-widgets/controls",
      "_model_module_version": "1.5.0",
      "_model_name": "HTMLModel",
      "_view_count": null,
      "_view_module": "@jupyter-widgets/controls",
      "_view_module_version": "1.5.0",
      "_view_name": "HTMLView",
      "description": "",
      "description_tooltip": null,
      "layout": "IPY_MODEL_5c6cd76c7034426d8cc9537c1123f419",
      "placeholder": "​",
      "style": "IPY_MODEL_f1a24453e219448bac5850cd17271f6c",
      "value": " 5/5 [00:01&lt;00:00,  4.00it/s]"
     }
    },
    "d261940076e34b0c92ac370a0eeadee4": {
     "model_module": "@jupyter-widgets/base",
     "model_module_version": "1.2.0",
     "model_name": "LayoutModel",
     "state": {
      "_model_module": "@jupyter-widgets/base",
      "_model_module_version": "1.2.0",
      "_model_name": "LayoutModel",
      "_view_count": null,
      "_view_module": "@jupyter-widgets/base",
      "_view_module_version": "1.2.0",
      "_view_name": "LayoutView",
      "align_content": null,
      "align_items": null,
      "align_self": null,
      "border": null,
      "bottom": null,
      "display": "inline-flex",
      "flex": null,
      "flex_flow": "row wrap",
      "grid_area": null,
      "grid_auto_columns": null,
      "grid_auto_flow": null,
      "grid_auto_rows": null,
      "grid_column": null,
      "grid_gap": null,
      "grid_row": null,
      "grid_template_areas": null,
      "grid_template_columns": null,
      "grid_template_rows": null,
      "height": null,
      "justify_content": null,
      "justify_items": null,
      "left": null,
      "margin": null,
      "max_height": null,
      "max_width": null,
      "min_height": null,
      "min_width": null,
      "object_fit": null,
      "object_position": null,
      "order": null,
      "overflow": null,
      "overflow_x": null,
      "overflow_y": null,
      "padding": null,
      "right": null,
      "top": null,
      "visibility": "hidden",
      "width": "100%"
     }
    },
    "d32d2b49193f407d88b59765ab577366": {
     "model_module": "@jupyter-widgets/controls",
     "model_module_version": "1.5.0",
     "model_name": "DescriptionStyleModel",
     "state": {
      "_model_module": "@jupyter-widgets/controls",
      "_model_module_version": "1.5.0",
      "_model_name": "DescriptionStyleModel",
      "_view_count": null,
      "_view_module": "@jupyter-widgets/base",
      "_view_module_version": "1.2.0",
      "_view_name": "StyleView",
      "description_width": ""
     }
    },
    "d3626bfed1ac400b87d9e5e364fdc877": {
     "model_module": "@jupyter-widgets/controls",
     "model_module_version": "1.5.0",
     "model_name": "ProgressStyleModel",
     "state": {
      "_model_module": "@jupyter-widgets/controls",
      "_model_module_version": "1.5.0",
      "_model_name": "ProgressStyleModel",
      "_view_count": null,
      "_view_module": "@jupyter-widgets/base",
      "_view_module_version": "1.2.0",
      "_view_name": "StyleView",
      "bar_color": null,
      "description_width": ""
     }
    },
    "d3b6b5df07c0407b8a576f70751cfb2a": {
     "model_module": "@jupyter-widgets/controls",
     "model_module_version": "1.5.0",
     "model_name": "HBoxModel",
     "state": {
      "_dom_classes": [],
      "_model_module": "@jupyter-widgets/controls",
      "_model_module_version": "1.5.0",
      "_model_name": "HBoxModel",
      "_view_count": null,
      "_view_module": "@jupyter-widgets/controls",
      "_view_module_version": "1.5.0",
      "_view_name": "HBoxView",
      "box_style": "",
      "children": [
       "IPY_MODEL_105f11418ff94cfda81a9cc08e1f6b94",
       "IPY_MODEL_b17e497194a54cf4b0aa34c2d0a3df58",
       "IPY_MODEL_dc15cf3a75be48fa936eae6acbab7223"
      ],
      "layout": "IPY_MODEL_0735efb868c14ef7bfaa4a5eddb257b4"
     }
    },
    "d3fea870e89a4c688064425bfed95079": {
     "model_module": "@jupyter-widgets/controls",
     "model_module_version": "1.5.0",
     "model_name": "HTMLModel",
     "state": {
      "_dom_classes": [],
      "_model_module": "@jupyter-widgets/controls",
      "_model_module_version": "1.5.0",
      "_model_name": "HTMLModel",
      "_view_count": null,
      "_view_module": "@jupyter-widgets/controls",
      "_view_module_version": "1.5.0",
      "_view_name": "HTMLView",
      "description": "",
      "description_tooltip": null,
      "layout": "IPY_MODEL_dacdb6a6508c40beaddd33e3a44e6921",
      "placeholder": "​",
      "style": "IPY_MODEL_c3c4cf8304bd4a3a9221e32eb9742179",
      "value": "Validation DataLoader 0: 100%"
     }
    },
    "d4203403e1c94de2b71cc55f5ce24364": {
     "model_module": "@jupyter-widgets/controls",
     "model_module_version": "1.5.0",
     "model_name": "DescriptionStyleModel",
     "state": {
      "_model_module": "@jupyter-widgets/controls",
      "_model_module_version": "1.5.0",
      "_model_name": "DescriptionStyleModel",
      "_view_count": null,
      "_view_module": "@jupyter-widgets/base",
      "_view_module_version": "1.2.0",
      "_view_name": "StyleView",
      "description_width": ""
     }
    },
    "d4697f438c9f4a51bd41e716f5b0e50b": {
     "model_module": "@jupyter-widgets/controls",
     "model_module_version": "1.5.0",
     "model_name": "HBoxModel",
     "state": {
      "_dom_classes": [],
      "_model_module": "@jupyter-widgets/controls",
      "_model_module_version": "1.5.0",
      "_model_name": "HBoxModel",
      "_view_count": null,
      "_view_module": "@jupyter-widgets/controls",
      "_view_module_version": "1.5.0",
      "_view_name": "HBoxView",
      "box_style": "",
      "children": [
       "IPY_MODEL_98d12d98b5aa40adbb2f186207f437cf",
       "IPY_MODEL_851401d9f6124311ae66b45559d2cf82",
       "IPY_MODEL_08ce38df82f24627a520f26e52e0aa9a"
      ],
      "layout": "IPY_MODEL_c5405cd5460c4ebd8300dfc5ad8d0e1b"
     }
    },
    "d4ae996c7ee240fc8f2449e859443cab": {
     "model_module": "@jupyter-widgets/controls",
     "model_module_version": "1.5.0",
     "model_name": "DescriptionStyleModel",
     "state": {
      "_model_module": "@jupyter-widgets/controls",
      "_model_module_version": "1.5.0",
      "_model_name": "DescriptionStyleModel",
      "_view_count": null,
      "_view_module": "@jupyter-widgets/base",
      "_view_module_version": "1.2.0",
      "_view_name": "StyleView",
      "description_width": ""
     }
    },
    "d6027b7003f94360969e9400527c0655": {
     "model_module": "@jupyter-widgets/base",
     "model_module_version": "1.2.0",
     "model_name": "LayoutModel",
     "state": {
      "_model_module": "@jupyter-widgets/base",
      "_model_module_version": "1.2.0",
      "_model_name": "LayoutModel",
      "_view_count": null,
      "_view_module": "@jupyter-widgets/base",
      "_view_module_version": "1.2.0",
      "_view_name": "LayoutView",
      "align_content": null,
      "align_items": null,
      "align_self": null,
      "border": null,
      "bottom": null,
      "display": "inline-flex",
      "flex": null,
      "flex_flow": "row wrap",
      "grid_area": null,
      "grid_auto_columns": null,
      "grid_auto_flow": null,
      "grid_auto_rows": null,
      "grid_column": null,
      "grid_gap": null,
      "grid_row": null,
      "grid_template_areas": null,
      "grid_template_columns": null,
      "grid_template_rows": null,
      "height": null,
      "justify_content": null,
      "justify_items": null,
      "left": null,
      "margin": null,
      "max_height": null,
      "max_width": null,
      "min_height": null,
      "min_width": null,
      "object_fit": null,
      "object_position": null,
      "order": null,
      "overflow": null,
      "overflow_x": null,
      "overflow_y": null,
      "padding": null,
      "right": null,
      "top": null,
      "visibility": "hidden",
      "width": "100%"
     }
    },
    "d651a429c6544dc18278364150157687": {
     "model_module": "@jupyter-widgets/controls",
     "model_module_version": "1.5.0",
     "model_name": "HBoxModel",
     "state": {
      "_dom_classes": [],
      "_model_module": "@jupyter-widgets/controls",
      "_model_module_version": "1.5.0",
      "_model_name": "HBoxModel",
      "_view_count": null,
      "_view_module": "@jupyter-widgets/controls",
      "_view_module_version": "1.5.0",
      "_view_name": "HBoxView",
      "box_style": "",
      "children": [
       "IPY_MODEL_0a2313c4b0c44e4a9845f2b6e5421564",
       "IPY_MODEL_e5e366ab572c45229af71307c34e871d",
       "IPY_MODEL_f257d917d1534976bd61eeb01620285a"
      ],
      "layout": "IPY_MODEL_d8ebb2910ad8477ba4e30538cf5d2946"
     }
    },
    "d6e5492a6fca4d51986cd8d254bb4f39": {
     "model_module": "@jupyter-widgets/controls",
     "model_module_version": "1.5.0",
     "model_name": "HTMLModel",
     "state": {
      "_dom_classes": [],
      "_model_module": "@jupyter-widgets/controls",
      "_model_module_version": "1.5.0",
      "_model_name": "HTMLModel",
      "_view_count": null,
      "_view_module": "@jupyter-widgets/controls",
      "_view_module_version": "1.5.0",
      "_view_name": "HTMLView",
      "description": "",
      "description_tooltip": null,
      "layout": "IPY_MODEL_0984213b9c6640bcba1a06cceed06906",
      "placeholder": "​",
      "style": "IPY_MODEL_6e6018bfdc2d4c7dbfa974719e2e0095",
      "value": " 5/5 [00:01&lt;00:00,  3.95it/s]"
     }
    },
    "d727063354404501a8e015c1f62aeab9": {
     "model_module": "@jupyter-widgets/controls",
     "model_module_version": "1.5.0",
     "model_name": "HTMLModel",
     "state": {
      "_dom_classes": [],
      "_model_module": "@jupyter-widgets/controls",
      "_model_module_version": "1.5.0",
      "_model_name": "HTMLModel",
      "_view_count": null,
      "_view_module": "@jupyter-widgets/controls",
      "_view_module_version": "1.5.0",
      "_view_name": "HTMLView",
      "description": "",
      "description_tooltip": null,
      "layout": "IPY_MODEL_0b8212def8d5439f91ff11cd4e063521",
      "placeholder": "​",
      "style": "IPY_MODEL_304bdca2fcfa4dabbee323cfdf99aab5",
      "value": "Validation DataLoader 0: 100%"
     }
    },
    "d8479f44c01b4b7b96ae82fec443df77": {
     "model_module": "@jupyter-widgets/controls",
     "model_module_version": "1.5.0",
     "model_name": "FloatProgressModel",
     "state": {
      "_dom_classes": [],
      "_model_module": "@jupyter-widgets/controls",
      "_model_module_version": "1.5.0",
      "_model_name": "FloatProgressModel",
      "_view_count": null,
      "_view_module": "@jupyter-widgets/controls",
      "_view_module_version": "1.5.0",
      "_view_name": "ProgressView",
      "bar_style": "",
      "description": "",
      "description_tooltip": null,
      "layout": "IPY_MODEL_9165c1d7946c4abf8dbc0682a644edca",
      "max": 5,
      "min": 0,
      "orientation": "horizontal",
      "style": "IPY_MODEL_369ac5264c1844e681dc4e2f99c91d6f",
      "value": 5
     }
    },
    "d85cc207423c449ca34e40bdfba4247b": {
     "model_module": "@jupyter-widgets/controls",
     "model_module_version": "1.5.0",
     "model_name": "ProgressStyleModel",
     "state": {
      "_model_module": "@jupyter-widgets/controls",
      "_model_module_version": "1.5.0",
      "_model_name": "ProgressStyleModel",
      "_view_count": null,
      "_view_module": "@jupyter-widgets/base",
      "_view_module_version": "1.2.0",
      "_view_name": "StyleView",
      "bar_color": null,
      "description_width": ""
     }
    },
    "d8ebb2910ad8477ba4e30538cf5d2946": {
     "model_module": "@jupyter-widgets/base",
     "model_module_version": "1.2.0",
     "model_name": "LayoutModel",
     "state": {
      "_model_module": "@jupyter-widgets/base",
      "_model_module_version": "1.2.0",
      "_model_name": "LayoutModel",
      "_view_count": null,
      "_view_module": "@jupyter-widgets/base",
      "_view_module_version": "1.2.0",
      "_view_name": "LayoutView",
      "align_content": null,
      "align_items": null,
      "align_self": null,
      "border": null,
      "bottom": null,
      "display": "inline-flex",
      "flex": null,
      "flex_flow": "row wrap",
      "grid_area": null,
      "grid_auto_columns": null,
      "grid_auto_flow": null,
      "grid_auto_rows": null,
      "grid_column": null,
      "grid_gap": null,
      "grid_row": null,
      "grid_template_areas": null,
      "grid_template_columns": null,
      "grid_template_rows": null,
      "height": null,
      "justify_content": null,
      "justify_items": null,
      "left": null,
      "margin": null,
      "max_height": null,
      "max_width": null,
      "min_height": null,
      "min_width": null,
      "object_fit": null,
      "object_position": null,
      "order": null,
      "overflow": null,
      "overflow_x": null,
      "overflow_y": null,
      "padding": null,
      "right": null,
      "top": null,
      "visibility": "hidden",
      "width": "100%"
     }
    },
    "d9c03f7b0f8546e4a5ba31462ae8f058": {
     "model_module": "@jupyter-widgets/controls",
     "model_module_version": "1.5.0",
     "model_name": "HTMLModel",
     "state": {
      "_dom_classes": [],
      "_model_module": "@jupyter-widgets/controls",
      "_model_module_version": "1.5.0",
      "_model_name": "HTMLModel",
      "_view_count": null,
      "_view_module": "@jupyter-widgets/controls",
      "_view_module_version": "1.5.0",
      "_view_name": "HTMLView",
      "description": "",
      "description_tooltip": null,
      "layout": "IPY_MODEL_278a561711a04d508baac180aea024d7",
      "placeholder": "​",
      "style": "IPY_MODEL_78dda0bb6fdc4dbc968a3da00ad19931",
      "value": "Validation DataLoader 0: 100%"
     }
    },
    "d9cdaf093b2b4f268b49b46efc18b47c": {
     "model_module": "@jupyter-widgets/base",
     "model_module_version": "1.2.0",
     "model_name": "LayoutModel",
     "state": {
      "_model_module": "@jupyter-widgets/base",
      "_model_module_version": "1.2.0",
      "_model_name": "LayoutModel",
      "_view_count": null,
      "_view_module": "@jupyter-widgets/base",
      "_view_module_version": "1.2.0",
      "_view_name": "LayoutView",
      "align_content": null,
      "align_items": null,
      "align_self": null,
      "border": null,
      "bottom": null,
      "display": null,
      "flex": null,
      "flex_flow": null,
      "grid_area": null,
      "grid_auto_columns": null,
      "grid_auto_flow": null,
      "grid_auto_rows": null,
      "grid_column": null,
      "grid_gap": null,
      "grid_row": null,
      "grid_template_areas": null,
      "grid_template_columns": null,
      "grid_template_rows": null,
      "height": null,
      "justify_content": null,
      "justify_items": null,
      "left": null,
      "margin": null,
      "max_height": null,
      "max_width": null,
      "min_height": null,
      "min_width": null,
      "object_fit": null,
      "object_position": null,
      "order": null,
      "overflow": null,
      "overflow_x": null,
      "overflow_y": null,
      "padding": null,
      "right": null,
      "top": null,
      "visibility": null,
      "width": null
     }
    },
    "d9f7da1ab6464937a72ab924f003c38f": {
     "model_module": "@jupyter-widgets/controls",
     "model_module_version": "1.5.0",
     "model_name": "ProgressStyleModel",
     "state": {
      "_model_module": "@jupyter-widgets/controls",
      "_model_module_version": "1.5.0",
      "_model_name": "ProgressStyleModel",
      "_view_count": null,
      "_view_module": "@jupyter-widgets/base",
      "_view_module_version": "1.2.0",
      "_view_name": "StyleView",
      "bar_color": null,
      "description_width": ""
     }
    },
    "da7ce98946334e5b8b4925ec1af1e53f": {
     "model_module": "@jupyter-widgets/controls",
     "model_module_version": "1.5.0",
     "model_name": "DescriptionStyleModel",
     "state": {
      "_model_module": "@jupyter-widgets/controls",
      "_model_module_version": "1.5.0",
      "_model_name": "DescriptionStyleModel",
      "_view_count": null,
      "_view_module": "@jupyter-widgets/base",
      "_view_module_version": "1.2.0",
      "_view_name": "StyleView",
      "description_width": ""
     }
    },
    "dacdb6a6508c40beaddd33e3a44e6921": {
     "model_module": "@jupyter-widgets/base",
     "model_module_version": "1.2.0",
     "model_name": "LayoutModel",
     "state": {
      "_model_module": "@jupyter-widgets/base",
      "_model_module_version": "1.2.0",
      "_model_name": "LayoutModel",
      "_view_count": null,
      "_view_module": "@jupyter-widgets/base",
      "_view_module_version": "1.2.0",
      "_view_name": "LayoutView",
      "align_content": null,
      "align_items": null,
      "align_self": null,
      "border": null,
      "bottom": null,
      "display": null,
      "flex": null,
      "flex_flow": null,
      "grid_area": null,
      "grid_auto_columns": null,
      "grid_auto_flow": null,
      "grid_auto_rows": null,
      "grid_column": null,
      "grid_gap": null,
      "grid_row": null,
      "grid_template_areas": null,
      "grid_template_columns": null,
      "grid_template_rows": null,
      "height": null,
      "justify_content": null,
      "justify_items": null,
      "left": null,
      "margin": null,
      "max_height": null,
      "max_width": null,
      "min_height": null,
      "min_width": null,
      "object_fit": null,
      "object_position": null,
      "order": null,
      "overflow": null,
      "overflow_x": null,
      "overflow_y": null,
      "padding": null,
      "right": null,
      "top": null,
      "visibility": null,
      "width": null
     }
    },
    "dad2db5397d14edb95fb72b317b99d4a": {
     "model_module": "@jupyter-widgets/controls",
     "model_module_version": "1.5.0",
     "model_name": "ProgressStyleModel",
     "state": {
      "_model_module": "@jupyter-widgets/controls",
      "_model_module_version": "1.5.0",
      "_model_name": "ProgressStyleModel",
      "_view_count": null,
      "_view_module": "@jupyter-widgets/base",
      "_view_module_version": "1.2.0",
      "_view_name": "StyleView",
      "bar_color": null,
      "description_width": ""
     }
    },
    "db63f3e56d8b45f7937b7f8a46f86666": {
     "model_module": "@jupyter-widgets/controls",
     "model_module_version": "1.5.0",
     "model_name": "DescriptionStyleModel",
     "state": {
      "_model_module": "@jupyter-widgets/controls",
      "_model_module_version": "1.5.0",
      "_model_name": "DescriptionStyleModel",
      "_view_count": null,
      "_view_module": "@jupyter-widgets/base",
      "_view_module_version": "1.2.0",
      "_view_name": "StyleView",
      "description_width": ""
     }
    },
    "dbc7ee46311947c5b3539dc70867f657": {
     "model_module": "@jupyter-widgets/controls",
     "model_module_version": "1.5.0",
     "model_name": "ProgressStyleModel",
     "state": {
      "_model_module": "@jupyter-widgets/controls",
      "_model_module_version": "1.5.0",
      "_model_name": "ProgressStyleModel",
      "_view_count": null,
      "_view_module": "@jupyter-widgets/base",
      "_view_module_version": "1.2.0",
      "_view_name": "StyleView",
      "bar_color": null,
      "description_width": ""
     }
    },
    "dc15cf3a75be48fa936eae6acbab7223": {
     "model_module": "@jupyter-widgets/controls",
     "model_module_version": "1.5.0",
     "model_name": "HTMLModel",
     "state": {
      "_dom_classes": [],
      "_model_module": "@jupyter-widgets/controls",
      "_model_module_version": "1.5.0",
      "_model_name": "HTMLModel",
      "_view_count": null,
      "_view_module": "@jupyter-widgets/controls",
      "_view_module_version": "1.5.0",
      "_view_name": "HTMLView",
      "description": "",
      "description_tooltip": null,
      "layout": "IPY_MODEL_5729f934cca3430da20bfdee16ffa94f",
      "placeholder": "​",
      "style": "IPY_MODEL_59f5e01eb5b04fdb85c349de0c712d70",
      "value": " 5/5 [00:01&lt;00:00,  3.94it/s]"
     }
    },
    "dc91e8e8fb824f1599f0347e8e7f9b9d": {
     "model_module": "@jupyter-widgets/controls",
     "model_module_version": "1.5.0",
     "model_name": "HTMLModel",
     "state": {
      "_dom_classes": [],
      "_model_module": "@jupyter-widgets/controls",
      "_model_module_version": "1.5.0",
      "_model_name": "HTMLModel",
      "_view_count": null,
      "_view_module": "@jupyter-widgets/controls",
      "_view_module_version": "1.5.0",
      "_view_name": "HTMLView",
      "description": "",
      "description_tooltip": null,
      "layout": "IPY_MODEL_4e092e00349b4191be0557c623e9a0b7",
      "placeholder": "​",
      "style": "IPY_MODEL_a8b53cbf045248b293ae9d12b08c4e67",
      "value": " 5/5 [00:01&lt;00:00,  4.00it/s]"
     }
    },
    "dcb19b4ae8e74aaaa67222183f3dde74": {
     "model_module": "@jupyter-widgets/controls",
     "model_module_version": "1.5.0",
     "model_name": "ProgressStyleModel",
     "state": {
      "_model_module": "@jupyter-widgets/controls",
      "_model_module_version": "1.5.0",
      "_model_name": "ProgressStyleModel",
      "_view_count": null,
      "_view_module": "@jupyter-widgets/base",
      "_view_module_version": "1.2.0",
      "_view_name": "StyleView",
      "bar_color": null,
      "description_width": ""
     }
    },
    "dd45daf6d0b34921a9745de16c4e5067": {
     "model_module": "@jupyter-widgets/controls",
     "model_module_version": "1.5.0",
     "model_name": "FloatProgressModel",
     "state": {
      "_dom_classes": [],
      "_model_module": "@jupyter-widgets/controls",
      "_model_module_version": "1.5.0",
      "_model_name": "FloatProgressModel",
      "_view_count": null,
      "_view_module": "@jupyter-widgets/controls",
      "_view_module_version": "1.5.0",
      "_view_name": "ProgressView",
      "bar_style": "",
      "description": "",
      "description_tooltip": null,
      "layout": "IPY_MODEL_ce66eff2940442a389ebaea26f96ff2a",
      "max": 5,
      "min": 0,
      "orientation": "horizontal",
      "style": "IPY_MODEL_0d69fdba92144c698aed1dca10ca08b5",
      "value": 5
     }
    },
    "dd976c23758d4bc5b5da65ed23abe9cc": {
     "model_module": "@jupyter-widgets/base",
     "model_module_version": "1.2.0",
     "model_name": "LayoutModel",
     "state": {
      "_model_module": "@jupyter-widgets/base",
      "_model_module_version": "1.2.0",
      "_model_name": "LayoutModel",
      "_view_count": null,
      "_view_module": "@jupyter-widgets/base",
      "_view_module_version": "1.2.0",
      "_view_name": "LayoutView",
      "align_content": null,
      "align_items": null,
      "align_self": null,
      "border": null,
      "bottom": null,
      "display": null,
      "flex": null,
      "flex_flow": null,
      "grid_area": null,
      "grid_auto_columns": null,
      "grid_auto_flow": null,
      "grid_auto_rows": null,
      "grid_column": null,
      "grid_gap": null,
      "grid_row": null,
      "grid_template_areas": null,
      "grid_template_columns": null,
      "grid_template_rows": null,
      "height": null,
      "justify_content": null,
      "justify_items": null,
      "left": null,
      "margin": null,
      "max_height": null,
      "max_width": null,
      "min_height": null,
      "min_width": null,
      "object_fit": null,
      "object_position": null,
      "order": null,
      "overflow": null,
      "overflow_x": null,
      "overflow_y": null,
      "padding": null,
      "right": null,
      "top": null,
      "visibility": null,
      "width": null
     }
    },
    "de01e95e347a4b3096279fe6082ede2f": {
     "model_module": "@jupyter-widgets/controls",
     "model_module_version": "1.5.0",
     "model_name": "ProgressStyleModel",
     "state": {
      "_model_module": "@jupyter-widgets/controls",
      "_model_module_version": "1.5.0",
      "_model_name": "ProgressStyleModel",
      "_view_count": null,
      "_view_module": "@jupyter-widgets/base",
      "_view_module_version": "1.2.0",
      "_view_name": "StyleView",
      "bar_color": null,
      "description_width": ""
     }
    },
    "de97f0ea10e94cb88f1ffa6e6ce87193": {
     "model_module": "@jupyter-widgets/controls",
     "model_module_version": "1.5.0",
     "model_name": "FloatProgressModel",
     "state": {
      "_dom_classes": [],
      "_model_module": "@jupyter-widgets/controls",
      "_model_module_version": "1.5.0",
      "_model_name": "FloatProgressModel",
      "_view_count": null,
      "_view_module": "@jupyter-widgets/controls",
      "_view_module_version": "1.5.0",
      "_view_name": "ProgressView",
      "bar_style": "",
      "description": "",
      "description_tooltip": null,
      "layout": "IPY_MODEL_054d2e354d5a439da77b3508d52c466a",
      "max": 5,
      "min": 0,
      "orientation": "horizontal",
      "style": "IPY_MODEL_becd3594726149be975ce7d91df16d6f",
      "value": 5
     }
    },
    "df97b6cafb904cf0a1e304d874b89fd9": {
     "model_module": "@jupyter-widgets/base",
     "model_module_version": "1.2.0",
     "model_name": "LayoutModel",
     "state": {
      "_model_module": "@jupyter-widgets/base",
      "_model_module_version": "1.2.0",
      "_model_name": "LayoutModel",
      "_view_count": null,
      "_view_module": "@jupyter-widgets/base",
      "_view_module_version": "1.2.0",
      "_view_name": "LayoutView",
      "align_content": null,
      "align_items": null,
      "align_self": null,
      "border": null,
      "bottom": null,
      "display": null,
      "flex": "2",
      "flex_flow": null,
      "grid_area": null,
      "grid_auto_columns": null,
      "grid_auto_flow": null,
      "grid_auto_rows": null,
      "grid_column": null,
      "grid_gap": null,
      "grid_row": null,
      "grid_template_areas": null,
      "grid_template_columns": null,
      "grid_template_rows": null,
      "height": null,
      "justify_content": null,
      "justify_items": null,
      "left": null,
      "margin": null,
      "max_height": null,
      "max_width": null,
      "min_height": null,
      "min_width": null,
      "object_fit": null,
      "object_position": null,
      "order": null,
      "overflow": null,
      "overflow_x": null,
      "overflow_y": null,
      "padding": null,
      "right": null,
      "top": null,
      "visibility": null,
      "width": null
     }
    },
    "dfb6b0cd7d384c2aa28dc3b2a133e2be": {
     "model_module": "@jupyter-widgets/controls",
     "model_module_version": "1.5.0",
     "model_name": "ProgressStyleModel",
     "state": {
      "_model_module": "@jupyter-widgets/controls",
      "_model_module_version": "1.5.0",
      "_model_name": "ProgressStyleModel",
      "_view_count": null,
      "_view_module": "@jupyter-widgets/base",
      "_view_module_version": "1.2.0",
      "_view_name": "StyleView",
      "bar_color": null,
      "description_width": ""
     }
    },
    "e0ae429db29c46eaa80a08281a8feae8": {
     "model_module": "@jupyter-widgets/controls",
     "model_module_version": "1.5.0",
     "model_name": "DescriptionStyleModel",
     "state": {
      "_model_module": "@jupyter-widgets/controls",
      "_model_module_version": "1.5.0",
      "_model_name": "DescriptionStyleModel",
      "_view_count": null,
      "_view_module": "@jupyter-widgets/base",
      "_view_module_version": "1.2.0",
      "_view_name": "StyleView",
      "description_width": ""
     }
    },
    "e135349c78f045938b297b03d76390b2": {
     "model_module": "@jupyter-widgets/base",
     "model_module_version": "1.2.0",
     "model_name": "LayoutModel",
     "state": {
      "_model_module": "@jupyter-widgets/base",
      "_model_module_version": "1.2.0",
      "_model_name": "LayoutModel",
      "_view_count": null,
      "_view_module": "@jupyter-widgets/base",
      "_view_module_version": "1.2.0",
      "_view_name": "LayoutView",
      "align_content": null,
      "align_items": null,
      "align_self": null,
      "border": null,
      "bottom": null,
      "display": null,
      "flex": null,
      "flex_flow": null,
      "grid_area": null,
      "grid_auto_columns": null,
      "grid_auto_flow": null,
      "grid_auto_rows": null,
      "grid_column": null,
      "grid_gap": null,
      "grid_row": null,
      "grid_template_areas": null,
      "grid_template_columns": null,
      "grid_template_rows": null,
      "height": null,
      "justify_content": null,
      "justify_items": null,
      "left": null,
      "margin": null,
      "max_height": null,
      "max_width": null,
      "min_height": null,
      "min_width": null,
      "object_fit": null,
      "object_position": null,
      "order": null,
      "overflow": null,
      "overflow_x": null,
      "overflow_y": null,
      "padding": null,
      "right": null,
      "top": null,
      "visibility": null,
      "width": null
     }
    },
    "e1cb56d74633446a84d046b4da6e55be": {
     "model_module": "@jupyter-widgets/base",
     "model_module_version": "1.2.0",
     "model_name": "LayoutModel",
     "state": {
      "_model_module": "@jupyter-widgets/base",
      "_model_module_version": "1.2.0",
      "_model_name": "LayoutModel",
      "_view_count": null,
      "_view_module": "@jupyter-widgets/base",
      "_view_module_version": "1.2.0",
      "_view_name": "LayoutView",
      "align_content": null,
      "align_items": null,
      "align_self": null,
      "border": null,
      "bottom": null,
      "display": null,
      "flex": null,
      "flex_flow": null,
      "grid_area": null,
      "grid_auto_columns": null,
      "grid_auto_flow": null,
      "grid_auto_rows": null,
      "grid_column": null,
      "grid_gap": null,
      "grid_row": null,
      "grid_template_areas": null,
      "grid_template_columns": null,
      "grid_template_rows": null,
      "height": null,
      "justify_content": null,
      "justify_items": null,
      "left": null,
      "margin": null,
      "max_height": null,
      "max_width": null,
      "min_height": null,
      "min_width": null,
      "object_fit": null,
      "object_position": null,
      "order": null,
      "overflow": null,
      "overflow_x": null,
      "overflow_y": null,
      "padding": null,
      "right": null,
      "top": null,
      "visibility": null,
      "width": null
     }
    },
    "e2b5cc3a954942f38f5f2cbeed498f4b": {
     "model_module": "@jupyter-widgets/controls",
     "model_module_version": "1.5.0",
     "model_name": "HBoxModel",
     "state": {
      "_dom_classes": [],
      "_model_module": "@jupyter-widgets/controls",
      "_model_module_version": "1.5.0",
      "_model_name": "HBoxModel",
      "_view_count": null,
      "_view_module": "@jupyter-widgets/controls",
      "_view_module_version": "1.5.0",
      "_view_name": "HBoxView",
      "box_style": "",
      "children": [
       "IPY_MODEL_1d5d2a96e2a34e38a2fa3783a9a7a293",
       "IPY_MODEL_f89c03fb1a7145cbb20dbf9d453577a4",
       "IPY_MODEL_fc8dc3ef34354edf959d9e43b54f1aab"
      ],
      "layout": "IPY_MODEL_0b609d01881248e5a716fb1ebeb66bb2"
     }
    },
    "e2d9d2dabe034061a80258e22039b099": {
     "model_module": "@jupyter-widgets/base",
     "model_module_version": "1.2.0",
     "model_name": "LayoutModel",
     "state": {
      "_model_module": "@jupyter-widgets/base",
      "_model_module_version": "1.2.0",
      "_model_name": "LayoutModel",
      "_view_count": null,
      "_view_module": "@jupyter-widgets/base",
      "_view_module_version": "1.2.0",
      "_view_name": "LayoutView",
      "align_content": null,
      "align_items": null,
      "align_self": null,
      "border": null,
      "bottom": null,
      "display": null,
      "flex": null,
      "flex_flow": null,
      "grid_area": null,
      "grid_auto_columns": null,
      "grid_auto_flow": null,
      "grid_auto_rows": null,
      "grid_column": null,
      "grid_gap": null,
      "grid_row": null,
      "grid_template_areas": null,
      "grid_template_columns": null,
      "grid_template_rows": null,
      "height": null,
      "justify_content": null,
      "justify_items": null,
      "left": null,
      "margin": null,
      "max_height": null,
      "max_width": null,
      "min_height": null,
      "min_width": null,
      "object_fit": null,
      "object_position": null,
      "order": null,
      "overflow": null,
      "overflow_x": null,
      "overflow_y": null,
      "padding": null,
      "right": null,
      "top": null,
      "visibility": null,
      "width": null
     }
    },
    "e3e212dbea104caaa321f10edacde3e5": {
     "model_module": "@jupyter-widgets/controls",
     "model_module_version": "1.5.0",
     "model_name": "FloatProgressModel",
     "state": {
      "_dom_classes": [],
      "_model_module": "@jupyter-widgets/controls",
      "_model_module_version": "1.5.0",
      "_model_name": "FloatProgressModel",
      "_view_count": null,
      "_view_module": "@jupyter-widgets/controls",
      "_view_module_version": "1.5.0",
      "_view_name": "ProgressView",
      "bar_style": "",
      "description": "",
      "description_tooltip": null,
      "layout": "IPY_MODEL_902cd7a7fd834c28a33fab347a34cc53",
      "max": 5,
      "min": 0,
      "orientation": "horizontal",
      "style": "IPY_MODEL_396f886ed69b47208fccad9250d6681b",
      "value": 5
     }
    },
    "e3e444211223414881d96f08b5a6d9b3": {
     "model_module": "@jupyter-widgets/controls",
     "model_module_version": "1.5.0",
     "model_name": "DescriptionStyleModel",
     "state": {
      "_model_module": "@jupyter-widgets/controls",
      "_model_module_version": "1.5.0",
      "_model_name": "DescriptionStyleModel",
      "_view_count": null,
      "_view_module": "@jupyter-widgets/base",
      "_view_module_version": "1.2.0",
      "_view_name": "StyleView",
      "description_width": ""
     }
    },
    "e488a559d63a4129b5fe907c946daf7d": {
     "model_module": "@jupyter-widgets/controls",
     "model_module_version": "1.5.0",
     "model_name": "HTMLModel",
     "state": {
      "_dom_classes": [],
      "_model_module": "@jupyter-widgets/controls",
      "_model_module_version": "1.5.0",
      "_model_name": "HTMLModel",
      "_view_count": null,
      "_view_module": "@jupyter-widgets/controls",
      "_view_module_version": "1.5.0",
      "_view_name": "HTMLView",
      "description": "",
      "description_tooltip": null,
      "layout": "IPY_MODEL_1b2dc79d7d894e70b50fccd09f470324",
      "placeholder": "​",
      "style": "IPY_MODEL_db63f3e56d8b45f7937b7f8a46f86666",
      "value": "Validation DataLoader 0: 100%"
     }
    },
    "e4e2612bf85b42e6b2bb4ae0f3dcb8a8": {
     "model_module": "@jupyter-widgets/controls",
     "model_module_version": "1.5.0",
     "model_name": "HTMLModel",
     "state": {
      "_dom_classes": [],
      "_model_module": "@jupyter-widgets/controls",
      "_model_module_version": "1.5.0",
      "_model_name": "HTMLModel",
      "_view_count": null,
      "_view_module": "@jupyter-widgets/controls",
      "_view_module_version": "1.5.0",
      "_view_name": "HTMLView",
      "description": "",
      "description_tooltip": null,
      "layout": "IPY_MODEL_a4c412113bf44b70a8328c25d454d492",
      "placeholder": "​",
      "style": "IPY_MODEL_02cd023a22fa4921bcc76e73d25c412d",
      "value": "Validation DataLoader 0: 100%"
     }
    },
    "e5c70b4231754277839b684ddfbd4199": {
     "model_module": "@jupyter-widgets/base",
     "model_module_version": "1.2.0",
     "model_name": "LayoutModel",
     "state": {
      "_model_module": "@jupyter-widgets/base",
      "_model_module_version": "1.2.0",
      "_model_name": "LayoutModel",
      "_view_count": null,
      "_view_module": "@jupyter-widgets/base",
      "_view_module_version": "1.2.0",
      "_view_name": "LayoutView",
      "align_content": null,
      "align_items": null,
      "align_self": null,
      "border": null,
      "bottom": null,
      "display": null,
      "flex": "2",
      "flex_flow": null,
      "grid_area": null,
      "grid_auto_columns": null,
      "grid_auto_flow": null,
      "grid_auto_rows": null,
      "grid_column": null,
      "grid_gap": null,
      "grid_row": null,
      "grid_template_areas": null,
      "grid_template_columns": null,
      "grid_template_rows": null,
      "height": null,
      "justify_content": null,
      "justify_items": null,
      "left": null,
      "margin": null,
      "max_height": null,
      "max_width": null,
      "min_height": null,
      "min_width": null,
      "object_fit": null,
      "object_position": null,
      "order": null,
      "overflow": null,
      "overflow_x": null,
      "overflow_y": null,
      "padding": null,
      "right": null,
      "top": null,
      "visibility": null,
      "width": null
     }
    },
    "e5d32a28f44343cebdbfe27e74483c44": {
     "model_module": "@jupyter-widgets/base",
     "model_module_version": "1.2.0",
     "model_name": "LayoutModel",
     "state": {
      "_model_module": "@jupyter-widgets/base",
      "_model_module_version": "1.2.0",
      "_model_name": "LayoutModel",
      "_view_count": null,
      "_view_module": "@jupyter-widgets/base",
      "_view_module_version": "1.2.0",
      "_view_name": "LayoutView",
      "align_content": null,
      "align_items": null,
      "align_self": null,
      "border": null,
      "bottom": null,
      "display": "inline-flex",
      "flex": null,
      "flex_flow": "row wrap",
      "grid_area": null,
      "grid_auto_columns": null,
      "grid_auto_flow": null,
      "grid_auto_rows": null,
      "grid_column": null,
      "grid_gap": null,
      "grid_row": null,
      "grid_template_areas": null,
      "grid_template_columns": null,
      "grid_template_rows": null,
      "height": null,
      "justify_content": null,
      "justify_items": null,
      "left": null,
      "margin": null,
      "max_height": null,
      "max_width": null,
      "min_height": null,
      "min_width": null,
      "object_fit": null,
      "object_position": null,
      "order": null,
      "overflow": null,
      "overflow_x": null,
      "overflow_y": null,
      "padding": null,
      "right": null,
      "top": null,
      "visibility": "hidden",
      "width": "100%"
     }
    },
    "e5e366ab572c45229af71307c34e871d": {
     "model_module": "@jupyter-widgets/controls",
     "model_module_version": "1.5.0",
     "model_name": "FloatProgressModel",
     "state": {
      "_dom_classes": [],
      "_model_module": "@jupyter-widgets/controls",
      "_model_module_version": "1.5.0",
      "_model_name": "FloatProgressModel",
      "_view_count": null,
      "_view_module": "@jupyter-widgets/controls",
      "_view_module_version": "1.5.0",
      "_view_name": "ProgressView",
      "bar_style": "",
      "description": "",
      "description_tooltip": null,
      "layout": "IPY_MODEL_5f6a338373124c2ea5030f3ad260554f",
      "max": 2,
      "min": 0,
      "orientation": "horizontal",
      "style": "IPY_MODEL_3f5a7b101980496e8c885c6bb9452db6",
      "value": 2
     }
    },
    "e6ca10a80e0847f9a9d2492a661549be": {
     "model_module": "@jupyter-widgets/base",
     "model_module_version": "1.2.0",
     "model_name": "LayoutModel",
     "state": {
      "_model_module": "@jupyter-widgets/base",
      "_model_module_version": "1.2.0",
      "_model_name": "LayoutModel",
      "_view_count": null,
      "_view_module": "@jupyter-widgets/base",
      "_view_module_version": "1.2.0",
      "_view_name": "LayoutView",
      "align_content": null,
      "align_items": null,
      "align_self": null,
      "border": null,
      "bottom": null,
      "display": null,
      "flex": null,
      "flex_flow": null,
      "grid_area": null,
      "grid_auto_columns": null,
      "grid_auto_flow": null,
      "grid_auto_rows": null,
      "grid_column": null,
      "grid_gap": null,
      "grid_row": null,
      "grid_template_areas": null,
      "grid_template_columns": null,
      "grid_template_rows": null,
      "height": null,
      "justify_content": null,
      "justify_items": null,
      "left": null,
      "margin": null,
      "max_height": null,
      "max_width": null,
      "min_height": null,
      "min_width": null,
      "object_fit": null,
      "object_position": null,
      "order": null,
      "overflow": null,
      "overflow_x": null,
      "overflow_y": null,
      "padding": null,
      "right": null,
      "top": null,
      "visibility": null,
      "width": null
     }
    },
    "e715f30a031e4bc992b4629bfa82067d": {
     "model_module": "@jupyter-widgets/base",
     "model_module_version": "1.2.0",
     "model_name": "LayoutModel",
     "state": {
      "_model_module": "@jupyter-widgets/base",
      "_model_module_version": "1.2.0",
      "_model_name": "LayoutModel",
      "_view_count": null,
      "_view_module": "@jupyter-widgets/base",
      "_view_module_version": "1.2.0",
      "_view_name": "LayoutView",
      "align_content": null,
      "align_items": null,
      "align_self": null,
      "border": null,
      "bottom": null,
      "display": null,
      "flex": "2",
      "flex_flow": null,
      "grid_area": null,
      "grid_auto_columns": null,
      "grid_auto_flow": null,
      "grid_auto_rows": null,
      "grid_column": null,
      "grid_gap": null,
      "grid_row": null,
      "grid_template_areas": null,
      "grid_template_columns": null,
      "grid_template_rows": null,
      "height": null,
      "justify_content": null,
      "justify_items": null,
      "left": null,
      "margin": null,
      "max_height": null,
      "max_width": null,
      "min_height": null,
      "min_width": null,
      "object_fit": null,
      "object_position": null,
      "order": null,
      "overflow": null,
      "overflow_x": null,
      "overflow_y": null,
      "padding": null,
      "right": null,
      "top": null,
      "visibility": null,
      "width": null
     }
    },
    "e76f11b3e7ea4ec0b48e418ce5f18521": {
     "model_module": "@jupyter-widgets/controls",
     "model_module_version": "1.5.0",
     "model_name": "DescriptionStyleModel",
     "state": {
      "_model_module": "@jupyter-widgets/controls",
      "_model_module_version": "1.5.0",
      "_model_name": "DescriptionStyleModel",
      "_view_count": null,
      "_view_module": "@jupyter-widgets/base",
      "_view_module_version": "1.2.0",
      "_view_name": "StyleView",
      "description_width": ""
     }
    },
    "e7ee4c62e32c48bcac40de4b37f9bc5b": {
     "model_module": "@jupyter-widgets/base",
     "model_module_version": "1.2.0",
     "model_name": "LayoutModel",
     "state": {
      "_model_module": "@jupyter-widgets/base",
      "_model_module_version": "1.2.0",
      "_model_name": "LayoutModel",
      "_view_count": null,
      "_view_module": "@jupyter-widgets/base",
      "_view_module_version": "1.2.0",
      "_view_name": "LayoutView",
      "align_content": null,
      "align_items": null,
      "align_self": null,
      "border": null,
      "bottom": null,
      "display": "inline-flex",
      "flex": null,
      "flex_flow": "row wrap",
      "grid_area": null,
      "grid_auto_columns": null,
      "grid_auto_flow": null,
      "grid_auto_rows": null,
      "grid_column": null,
      "grid_gap": null,
      "grid_row": null,
      "grid_template_areas": null,
      "grid_template_columns": null,
      "grid_template_rows": null,
      "height": null,
      "justify_content": null,
      "justify_items": null,
      "left": null,
      "margin": null,
      "max_height": null,
      "max_width": null,
      "min_height": null,
      "min_width": null,
      "object_fit": null,
      "object_position": null,
      "order": null,
      "overflow": null,
      "overflow_x": null,
      "overflow_y": null,
      "padding": null,
      "right": null,
      "top": null,
      "visibility": "hidden",
      "width": "100%"
     }
    },
    "e888ce31da1647abbfe61d4855d5d725": {
     "model_module": "@jupyter-widgets/base",
     "model_module_version": "1.2.0",
     "model_name": "LayoutModel",
     "state": {
      "_model_module": "@jupyter-widgets/base",
      "_model_module_version": "1.2.0",
      "_model_name": "LayoutModel",
      "_view_count": null,
      "_view_module": "@jupyter-widgets/base",
      "_view_module_version": "1.2.0",
      "_view_name": "LayoutView",
      "align_content": null,
      "align_items": null,
      "align_self": null,
      "border": null,
      "bottom": null,
      "display": null,
      "flex": "2",
      "flex_flow": null,
      "grid_area": null,
      "grid_auto_columns": null,
      "grid_auto_flow": null,
      "grid_auto_rows": null,
      "grid_column": null,
      "grid_gap": null,
      "grid_row": null,
      "grid_template_areas": null,
      "grid_template_columns": null,
      "grid_template_rows": null,
      "height": null,
      "justify_content": null,
      "justify_items": null,
      "left": null,
      "margin": null,
      "max_height": null,
      "max_width": null,
      "min_height": null,
      "min_width": null,
      "object_fit": null,
      "object_position": null,
      "order": null,
      "overflow": null,
      "overflow_x": null,
      "overflow_y": null,
      "padding": null,
      "right": null,
      "top": null,
      "visibility": null,
      "width": null
     }
    },
    "e8ae08bc35c046a2a7292a5c12487932": {
     "model_module": "@jupyter-widgets/controls",
     "model_module_version": "1.5.0",
     "model_name": "HTMLModel",
     "state": {
      "_dom_classes": [],
      "_model_module": "@jupyter-widgets/controls",
      "_model_module_version": "1.5.0",
      "_model_name": "HTMLModel",
      "_view_count": null,
      "_view_module": "@jupyter-widgets/controls",
      "_view_module_version": "1.5.0",
      "_view_name": "HTMLView",
      "description": "",
      "description_tooltip": null,
      "layout": "IPY_MODEL_56d1301230e74eab85a0d0871ce81513",
      "placeholder": "​",
      "style": "IPY_MODEL_8d1a6fce1d7e46b7a95f484e85327fd3",
      "value": "Epoch 44:   0%"
     }
    },
    "e9a2d4d0c6d64a0c8112449522d4ceec": {
     "model_module": "@jupyter-widgets/controls",
     "model_module_version": "1.5.0",
     "model_name": "FloatProgressModel",
     "state": {
      "_dom_classes": [],
      "_model_module": "@jupyter-widgets/controls",
      "_model_module_version": "1.5.0",
      "_model_name": "FloatProgressModel",
      "_view_count": null,
      "_view_module": "@jupyter-widgets/controls",
      "_view_module_version": "1.5.0",
      "_view_name": "ProgressView",
      "bar_style": "",
      "description": "",
      "description_tooltip": null,
      "layout": "IPY_MODEL_84470516a4854c26bf716769ed416ec7",
      "max": 5,
      "min": 0,
      "orientation": "horizontal",
      "style": "IPY_MODEL_f7addeb82ddc44fc96259286bcead7fc",
      "value": 5
     }
    },
    "ea60e48df6f54f1b94b1ececab0c2231": {
     "model_module": "@jupyter-widgets/base",
     "model_module_version": "1.2.0",
     "model_name": "LayoutModel",
     "state": {
      "_model_module": "@jupyter-widgets/base",
      "_model_module_version": "1.2.0",
      "_model_name": "LayoutModel",
      "_view_count": null,
      "_view_module": "@jupyter-widgets/base",
      "_view_module_version": "1.2.0",
      "_view_name": "LayoutView",
      "align_content": null,
      "align_items": null,
      "align_self": null,
      "border": null,
      "bottom": null,
      "display": "inline-flex",
      "flex": null,
      "flex_flow": "row wrap",
      "grid_area": null,
      "grid_auto_columns": null,
      "grid_auto_flow": null,
      "grid_auto_rows": null,
      "grid_column": null,
      "grid_gap": null,
      "grid_row": null,
      "grid_template_areas": null,
      "grid_template_columns": null,
      "grid_template_rows": null,
      "height": null,
      "justify_content": null,
      "justify_items": null,
      "left": null,
      "margin": null,
      "max_height": null,
      "max_width": null,
      "min_height": null,
      "min_width": null,
      "object_fit": null,
      "object_position": null,
      "order": null,
      "overflow": null,
      "overflow_x": null,
      "overflow_y": null,
      "padding": null,
      "right": null,
      "top": null,
      "visibility": "hidden",
      "width": "100%"
     }
    },
    "ea97d3e5c34946caaa6fe7ff899e8c02": {
     "model_module": "@jupyter-widgets/base",
     "model_module_version": "1.2.0",
     "model_name": "LayoutModel",
     "state": {
      "_model_module": "@jupyter-widgets/base",
      "_model_module_version": "1.2.0",
      "_model_name": "LayoutModel",
      "_view_count": null,
      "_view_module": "@jupyter-widgets/base",
      "_view_module_version": "1.2.0",
      "_view_name": "LayoutView",
      "align_content": null,
      "align_items": null,
      "align_self": null,
      "border": null,
      "bottom": null,
      "display": null,
      "flex": "2",
      "flex_flow": null,
      "grid_area": null,
      "grid_auto_columns": null,
      "grid_auto_flow": null,
      "grid_auto_rows": null,
      "grid_column": null,
      "grid_gap": null,
      "grid_row": null,
      "grid_template_areas": null,
      "grid_template_columns": null,
      "grid_template_rows": null,
      "height": null,
      "justify_content": null,
      "justify_items": null,
      "left": null,
      "margin": null,
      "max_height": null,
      "max_width": null,
      "min_height": null,
      "min_width": null,
      "object_fit": null,
      "object_position": null,
      "order": null,
      "overflow": null,
      "overflow_x": null,
      "overflow_y": null,
      "padding": null,
      "right": null,
      "top": null,
      "visibility": null,
      "width": null
     }
    },
    "eadd25346f584741a23cba5d2513aa39": {
     "model_module": "@jupyter-widgets/base",
     "model_module_version": "1.2.0",
     "model_name": "LayoutModel",
     "state": {
      "_model_module": "@jupyter-widgets/base",
      "_model_module_version": "1.2.0",
      "_model_name": "LayoutModel",
      "_view_count": null,
      "_view_module": "@jupyter-widgets/base",
      "_view_module_version": "1.2.0",
      "_view_name": "LayoutView",
      "align_content": null,
      "align_items": null,
      "align_self": null,
      "border": null,
      "bottom": null,
      "display": null,
      "flex": null,
      "flex_flow": null,
      "grid_area": null,
      "grid_auto_columns": null,
      "grid_auto_flow": null,
      "grid_auto_rows": null,
      "grid_column": null,
      "grid_gap": null,
      "grid_row": null,
      "grid_template_areas": null,
      "grid_template_columns": null,
      "grid_template_rows": null,
      "height": null,
      "justify_content": null,
      "justify_items": null,
      "left": null,
      "margin": null,
      "max_height": null,
      "max_width": null,
      "min_height": null,
      "min_width": null,
      "object_fit": null,
      "object_position": null,
      "order": null,
      "overflow": null,
      "overflow_x": null,
      "overflow_y": null,
      "padding": null,
      "right": null,
      "top": null,
      "visibility": null,
      "width": null
     }
    },
    "eb3ee1bdf8fc47f6a161dd3c42d83d47": {
     "model_module": "@jupyter-widgets/controls",
     "model_module_version": "1.5.0",
     "model_name": "HTMLModel",
     "state": {
      "_dom_classes": [],
      "_model_module": "@jupyter-widgets/controls",
      "_model_module_version": "1.5.0",
      "_model_name": "HTMLModel",
      "_view_count": null,
      "_view_module": "@jupyter-widgets/controls",
      "_view_module_version": "1.5.0",
      "_view_name": "HTMLView",
      "description": "",
      "description_tooltip": null,
      "layout": "IPY_MODEL_136f167903664cc1a305d6152567b3db",
      "placeholder": "​",
      "style": "IPY_MODEL_9862f7a4450c4e1ba5fdf1099e9a912d",
      "value": "Validation DataLoader 0: 100%"
     }
    },
    "ebca2d4ab8fb46729b718f78edc3cf62": {
     "model_module": "@jupyter-widgets/controls",
     "model_module_version": "1.5.0",
     "model_name": "HTMLModel",
     "state": {
      "_dom_classes": [],
      "_model_module": "@jupyter-widgets/controls",
      "_model_module_version": "1.5.0",
      "_model_name": "HTMLModel",
      "_view_count": null,
      "_view_module": "@jupyter-widgets/controls",
      "_view_module_version": "1.5.0",
      "_view_name": "HTMLView",
      "description": "",
      "description_tooltip": null,
      "layout": "IPY_MODEL_18515b3ea04f474abc1786a7481d2c06",
      "placeholder": "​",
      "style": "IPY_MODEL_d4ae996c7ee240fc8f2449e859443cab",
      "value": "Validation DataLoader 0: 100%"
     }
    },
    "ebcc8461d22343c3aeb2ca69bb81bef9": {
     "model_module": "@jupyter-widgets/controls",
     "model_module_version": "1.5.0",
     "model_name": "ProgressStyleModel",
     "state": {
      "_model_module": "@jupyter-widgets/controls",
      "_model_module_version": "1.5.0",
      "_model_name": "ProgressStyleModel",
      "_view_count": null,
      "_view_module": "@jupyter-widgets/base",
      "_view_module_version": "1.2.0",
      "_view_name": "StyleView",
      "bar_color": null,
      "description_width": ""
     }
    },
    "ebec3ad832a74ba793d5396114414562": {
     "model_module": "@jupyter-widgets/base",
     "model_module_version": "1.2.0",
     "model_name": "LayoutModel",
     "state": {
      "_model_module": "@jupyter-widgets/base",
      "_model_module_version": "1.2.0",
      "_model_name": "LayoutModel",
      "_view_count": null,
      "_view_module": "@jupyter-widgets/base",
      "_view_module_version": "1.2.0",
      "_view_name": "LayoutView",
      "align_content": null,
      "align_items": null,
      "align_self": null,
      "border": null,
      "bottom": null,
      "display": null,
      "flex": null,
      "flex_flow": null,
      "grid_area": null,
      "grid_auto_columns": null,
      "grid_auto_flow": null,
      "grid_auto_rows": null,
      "grid_column": null,
      "grid_gap": null,
      "grid_row": null,
      "grid_template_areas": null,
      "grid_template_columns": null,
      "grid_template_rows": null,
      "height": null,
      "justify_content": null,
      "justify_items": null,
      "left": null,
      "margin": null,
      "max_height": null,
      "max_width": null,
      "min_height": null,
      "min_width": null,
      "object_fit": null,
      "object_position": null,
      "order": null,
      "overflow": null,
      "overflow_x": null,
      "overflow_y": null,
      "padding": null,
      "right": null,
      "top": null,
      "visibility": null,
      "width": null
     }
    },
    "ebf8df869acc4ac5822b77234bf1f441": {
     "model_module": "@jupyter-widgets/controls",
     "model_module_version": "1.5.0",
     "model_name": "DescriptionStyleModel",
     "state": {
      "_model_module": "@jupyter-widgets/controls",
      "_model_module_version": "1.5.0",
      "_model_name": "DescriptionStyleModel",
      "_view_count": null,
      "_view_module": "@jupyter-widgets/base",
      "_view_module_version": "1.2.0",
      "_view_name": "StyleView",
      "description_width": ""
     }
    },
    "ec4e2e08514f4996a23677f88c7613e8": {
     "model_module": "@jupyter-widgets/controls",
     "model_module_version": "1.5.0",
     "model_name": "HTMLModel",
     "state": {
      "_dom_classes": [],
      "_model_module": "@jupyter-widgets/controls",
      "_model_module_version": "1.5.0",
      "_model_name": "HTMLModel",
      "_view_count": null,
      "_view_module": "@jupyter-widgets/controls",
      "_view_module_version": "1.5.0",
      "_view_name": "HTMLView",
      "description": "",
      "description_tooltip": null,
      "layout": "IPY_MODEL_664d0b33100240048f3f5b7afaa8bf66",
      "placeholder": "​",
      "style": "IPY_MODEL_b1ea99cfe60a4b4ebf463c573f44ef49",
      "value": " 5/5 [00:01&lt;00:00,  3.92it/s]"
     }
    },
    "ecfa73ff58cf4b698dbad2c5376b07cc": {
     "model_module": "@jupyter-widgets/controls",
     "model_module_version": "1.5.0",
     "model_name": "FloatProgressModel",
     "state": {
      "_dom_classes": [],
      "_model_module": "@jupyter-widgets/controls",
      "_model_module_version": "1.5.0",
      "_model_name": "FloatProgressModel",
      "_view_count": null,
      "_view_module": "@jupyter-widgets/controls",
      "_view_module_version": "1.5.0",
      "_view_name": "ProgressView",
      "bar_style": "",
      "description": "",
      "description_tooltip": null,
      "layout": "IPY_MODEL_7aff097a34044f05b59e50d629f8dce7",
      "max": 5,
      "min": 0,
      "orientation": "horizontal",
      "style": "IPY_MODEL_243888612949479fbc6c3e82ec29a788",
      "value": 5
     }
    },
    "ed2a9fc7126140cabd1cbd63f1a2a4aa": {
     "model_module": "@jupyter-widgets/base",
     "model_module_version": "1.2.0",
     "model_name": "LayoutModel",
     "state": {
      "_model_module": "@jupyter-widgets/base",
      "_model_module_version": "1.2.0",
      "_model_name": "LayoutModel",
      "_view_count": null,
      "_view_module": "@jupyter-widgets/base",
      "_view_module_version": "1.2.0",
      "_view_name": "LayoutView",
      "align_content": null,
      "align_items": null,
      "align_self": null,
      "border": null,
      "bottom": null,
      "display": null,
      "flex": "2",
      "flex_flow": null,
      "grid_area": null,
      "grid_auto_columns": null,
      "grid_auto_flow": null,
      "grid_auto_rows": null,
      "grid_column": null,
      "grid_gap": null,
      "grid_row": null,
      "grid_template_areas": null,
      "grid_template_columns": null,
      "grid_template_rows": null,
      "height": null,
      "justify_content": null,
      "justify_items": null,
      "left": null,
      "margin": null,
      "max_height": null,
      "max_width": null,
      "min_height": null,
      "min_width": null,
      "object_fit": null,
      "object_position": null,
      "order": null,
      "overflow": null,
      "overflow_x": null,
      "overflow_y": null,
      "padding": null,
      "right": null,
      "top": null,
      "visibility": null,
      "width": null
     }
    },
    "ed53c23815874fcdbe92a669ef33b451": {
     "model_module": "@jupyter-widgets/controls",
     "model_module_version": "1.5.0",
     "model_name": "DescriptionStyleModel",
     "state": {
      "_model_module": "@jupyter-widgets/controls",
      "_model_module_version": "1.5.0",
      "_model_name": "DescriptionStyleModel",
      "_view_count": null,
      "_view_module": "@jupyter-widgets/base",
      "_view_module_version": "1.2.0",
      "_view_name": "StyleView",
      "description_width": ""
     }
    },
    "ed6b162990ea4937a5e013cd2ee4641f": {
     "model_module": "@jupyter-widgets/controls",
     "model_module_version": "1.5.0",
     "model_name": "HTMLModel",
     "state": {
      "_dom_classes": [],
      "_model_module": "@jupyter-widgets/controls",
      "_model_module_version": "1.5.0",
      "_model_name": "HTMLModel",
      "_view_count": null,
      "_view_module": "@jupyter-widgets/controls",
      "_view_module_version": "1.5.0",
      "_view_name": "HTMLView",
      "description": "",
      "description_tooltip": null,
      "layout": "IPY_MODEL_09aee179224b421a82efa9e442aec8e5",
      "placeholder": "​",
      "style": "IPY_MODEL_cca3361430d74b5c88dc75ccda81b1c7",
      "value": " 5/5 [00:01&lt;00:00,  3.92it/s]"
     }
    },
    "ede39778212a4305bcf11fac1f52a897": {
     "model_module": "@jupyter-widgets/controls",
     "model_module_version": "1.5.0",
     "model_name": "DescriptionStyleModel",
     "state": {
      "_model_module": "@jupyter-widgets/controls",
      "_model_module_version": "1.5.0",
      "_model_name": "DescriptionStyleModel",
      "_view_count": null,
      "_view_module": "@jupyter-widgets/base",
      "_view_module_version": "1.2.0",
      "_view_name": "StyleView",
      "description_width": ""
     }
    },
    "ee1aca3a2a0c481bb530c03c6fedb6f4": {
     "model_module": "@jupyter-widgets/controls",
     "model_module_version": "1.5.0",
     "model_name": "DescriptionStyleModel",
     "state": {
      "_model_module": "@jupyter-widgets/controls",
      "_model_module_version": "1.5.0",
      "_model_name": "DescriptionStyleModel",
      "_view_count": null,
      "_view_module": "@jupyter-widgets/base",
      "_view_module_version": "1.2.0",
      "_view_name": "StyleView",
      "description_width": ""
     }
    },
    "ef7acba7ba8c46d59da947c182d91488": {
     "model_module": "@jupyter-widgets/controls",
     "model_module_version": "1.5.0",
     "model_name": "HTMLModel",
     "state": {
      "_dom_classes": [],
      "_model_module": "@jupyter-widgets/controls",
      "_model_module_version": "1.5.0",
      "_model_name": "HTMLModel",
      "_view_count": null,
      "_view_module": "@jupyter-widgets/controls",
      "_view_module_version": "1.5.0",
      "_view_name": "HTMLView",
      "description": "",
      "description_tooltip": null,
      "layout": "IPY_MODEL_315d7c310a5f4f20b312c494240242b4",
      "placeholder": "​",
      "style": "IPY_MODEL_73b8913d973d4984b8b6b7683ffdd745",
      "value": " 5/5 [00:01&lt;00:00,  3.92it/s]"
     }
    },
    "efb25c55e9264aa9abcfe476a1590df1": {
     "model_module": "@jupyter-widgets/controls",
     "model_module_version": "1.5.0",
     "model_name": "HTMLModel",
     "state": {
      "_dom_classes": [],
      "_model_module": "@jupyter-widgets/controls",
      "_model_module_version": "1.5.0",
      "_model_name": "HTMLModel",
      "_view_count": null,
      "_view_module": "@jupyter-widgets/controls",
      "_view_module_version": "1.5.0",
      "_view_name": "HTMLView",
      "description": "",
      "description_tooltip": null,
      "layout": "IPY_MODEL_8b87b87273da4372a4f5f932c1f71b2b",
      "placeholder": "​",
      "style": "IPY_MODEL_b388d5f4aa5e46cfbe1c318567070537",
      "value": "Validation DataLoader 0: 100%"
     }
    },
    "efcfeabb4dad487eb1c6b35b911b8a41": {
     "model_module": "@jupyter-widgets/controls",
     "model_module_version": "1.5.0",
     "model_name": "HBoxModel",
     "state": {
      "_dom_classes": [],
      "_model_module": "@jupyter-widgets/controls",
      "_model_module_version": "1.5.0",
      "_model_name": "HBoxModel",
      "_view_count": null,
      "_view_module": "@jupyter-widgets/controls",
      "_view_module_version": "1.5.0",
      "_view_name": "HBoxView",
      "box_style": "",
      "children": [
       "IPY_MODEL_1fd8a23bc21c4e68b8ba7863b393d8ce",
       "IPY_MODEL_c2b353191a90442a9bdc629fc3869739",
       "IPY_MODEL_ad7d33ad6bab4723b64094248756582c"
      ],
      "layout": "IPY_MODEL_fa7e8af79c0e42fca678487abb38b44b"
     }
    },
    "f1a24453e219448bac5850cd17271f6c": {
     "model_module": "@jupyter-widgets/controls",
     "model_module_version": "1.5.0",
     "model_name": "DescriptionStyleModel",
     "state": {
      "_model_module": "@jupyter-widgets/controls",
      "_model_module_version": "1.5.0",
      "_model_name": "DescriptionStyleModel",
      "_view_count": null,
      "_view_module": "@jupyter-widgets/base",
      "_view_module_version": "1.2.0",
      "_view_name": "StyleView",
      "description_width": ""
     }
    },
    "f257d917d1534976bd61eeb01620285a": {
     "model_module": "@jupyter-widgets/controls",
     "model_module_version": "1.5.0",
     "model_name": "HTMLModel",
     "state": {
      "_dom_classes": [],
      "_model_module": "@jupyter-widgets/controls",
      "_model_module_version": "1.5.0",
      "_model_name": "HTMLModel",
      "_view_count": null,
      "_view_module": "@jupyter-widgets/controls",
      "_view_module_version": "1.5.0",
      "_view_name": "HTMLView",
      "description": "",
      "description_tooltip": null,
      "layout": "IPY_MODEL_583f637b81624117bcc4c1d423f70180",
      "placeholder": "​",
      "style": "IPY_MODEL_a442a78280c74a4bb83ace986075192f",
      "value": " 2/2 [00:06&lt;00:00,  3.30s/it]"
     }
    },
    "f28f148c85a2404bbc187b6a653cf65c": {
     "model_module": "@jupyter-widgets/controls",
     "model_module_version": "1.5.0",
     "model_name": "HBoxModel",
     "state": {
      "_dom_classes": [],
      "_model_module": "@jupyter-widgets/controls",
      "_model_module_version": "1.5.0",
      "_model_name": "HBoxModel",
      "_view_count": null,
      "_view_module": "@jupyter-widgets/controls",
      "_view_module_version": "1.5.0",
      "_view_name": "HBoxView",
      "box_style": "",
      "children": [
       "IPY_MODEL_7753d5ec99014c39817137f21035c35c",
       "IPY_MODEL_9f41f7d773714bb89c61c6ab63e6d151",
       "IPY_MODEL_3f066440360a4d3eb597a0c087063a58"
      ],
      "layout": "IPY_MODEL_d6027b7003f94360969e9400527c0655"
     }
    },
    "f2acb4589d4840e8ba71664e09591848": {
     "model_module": "@jupyter-widgets/controls",
     "model_module_version": "1.5.0",
     "model_name": "DescriptionStyleModel",
     "state": {
      "_model_module": "@jupyter-widgets/controls",
      "_model_module_version": "1.5.0",
      "_model_name": "DescriptionStyleModel",
      "_view_count": null,
      "_view_module": "@jupyter-widgets/base",
      "_view_module_version": "1.2.0",
      "_view_name": "StyleView",
      "description_width": ""
     }
    },
    "f300f0b26c164085a4f08ac676b7733d": {
     "model_module": "@jupyter-widgets/base",
     "model_module_version": "1.2.0",
     "model_name": "LayoutModel",
     "state": {
      "_model_module": "@jupyter-widgets/base",
      "_model_module_version": "1.2.0",
      "_model_name": "LayoutModel",
      "_view_count": null,
      "_view_module": "@jupyter-widgets/base",
      "_view_module_version": "1.2.0",
      "_view_name": "LayoutView",
      "align_content": null,
      "align_items": null,
      "align_self": null,
      "border": null,
      "bottom": null,
      "display": null,
      "flex": null,
      "flex_flow": null,
      "grid_area": null,
      "grid_auto_columns": null,
      "grid_auto_flow": null,
      "grid_auto_rows": null,
      "grid_column": null,
      "grid_gap": null,
      "grid_row": null,
      "grid_template_areas": null,
      "grid_template_columns": null,
      "grid_template_rows": null,
      "height": null,
      "justify_content": null,
      "justify_items": null,
      "left": null,
      "margin": null,
      "max_height": null,
      "max_width": null,
      "min_height": null,
      "min_width": null,
      "object_fit": null,
      "object_position": null,
      "order": null,
      "overflow": null,
      "overflow_x": null,
      "overflow_y": null,
      "padding": null,
      "right": null,
      "top": null,
      "visibility": null,
      "width": null
     }
    },
    "f325755de3ef4efb8153bf254cf6bec4": {
     "model_module": "@jupyter-widgets/controls",
     "model_module_version": "1.5.0",
     "model_name": "DescriptionStyleModel",
     "state": {
      "_model_module": "@jupyter-widgets/controls",
      "_model_module_version": "1.5.0",
      "_model_name": "DescriptionStyleModel",
      "_view_count": null,
      "_view_module": "@jupyter-widgets/base",
      "_view_module_version": "1.2.0",
      "_view_name": "StyleView",
      "description_width": ""
     }
    },
    "f3a3691ad6dd419e971616b875107033": {
     "model_module": "@jupyter-widgets/controls",
     "model_module_version": "1.5.0",
     "model_name": "DescriptionStyleModel",
     "state": {
      "_model_module": "@jupyter-widgets/controls",
      "_model_module_version": "1.5.0",
      "_model_name": "DescriptionStyleModel",
      "_view_count": null,
      "_view_module": "@jupyter-widgets/base",
      "_view_module_version": "1.2.0",
      "_view_name": "StyleView",
      "description_width": ""
     }
    },
    "f49ef09e48524f1c9454c7d1e30b325d": {
     "model_module": "@jupyter-widgets/controls",
     "model_module_version": "1.5.0",
     "model_name": "ProgressStyleModel",
     "state": {
      "_model_module": "@jupyter-widgets/controls",
      "_model_module_version": "1.5.0",
      "_model_name": "ProgressStyleModel",
      "_view_count": null,
      "_view_module": "@jupyter-widgets/base",
      "_view_module_version": "1.2.0",
      "_view_name": "StyleView",
      "bar_color": null,
      "description_width": ""
     }
    },
    "f59f7cc379aa49519e0f5c5a30e694f6": {
     "model_module": "@jupyter-widgets/controls",
     "model_module_version": "1.5.0",
     "model_name": "DescriptionStyleModel",
     "state": {
      "_model_module": "@jupyter-widgets/controls",
      "_model_module_version": "1.5.0",
      "_model_name": "DescriptionStyleModel",
      "_view_count": null,
      "_view_module": "@jupyter-widgets/base",
      "_view_module_version": "1.2.0",
      "_view_name": "StyleView",
      "description_width": ""
     }
    },
    "f5c7a06d3de84d79964dbd879322eec1": {
     "model_module": "@jupyter-widgets/base",
     "model_module_version": "1.2.0",
     "model_name": "LayoutModel",
     "state": {
      "_model_module": "@jupyter-widgets/base",
      "_model_module_version": "1.2.0",
      "_model_name": "LayoutModel",
      "_view_count": null,
      "_view_module": "@jupyter-widgets/base",
      "_view_module_version": "1.2.0",
      "_view_name": "LayoutView",
      "align_content": null,
      "align_items": null,
      "align_self": null,
      "border": null,
      "bottom": null,
      "display": null,
      "flex": null,
      "flex_flow": null,
      "grid_area": null,
      "grid_auto_columns": null,
      "grid_auto_flow": null,
      "grid_auto_rows": null,
      "grid_column": null,
      "grid_gap": null,
      "grid_row": null,
      "grid_template_areas": null,
      "grid_template_columns": null,
      "grid_template_rows": null,
      "height": null,
      "justify_content": null,
      "justify_items": null,
      "left": null,
      "margin": null,
      "max_height": null,
      "max_width": null,
      "min_height": null,
      "min_width": null,
      "object_fit": null,
      "object_position": null,
      "order": null,
      "overflow": null,
      "overflow_x": null,
      "overflow_y": null,
      "padding": null,
      "right": null,
      "top": null,
      "visibility": null,
      "width": null
     }
    },
    "f5e0845a75914cb89d95b5ab6035b319": {
     "model_module": "@jupyter-widgets/controls",
     "model_module_version": "1.5.0",
     "model_name": "HTMLModel",
     "state": {
      "_dom_classes": [],
      "_model_module": "@jupyter-widgets/controls",
      "_model_module_version": "1.5.0",
      "_model_name": "HTMLModel",
      "_view_count": null,
      "_view_module": "@jupyter-widgets/controls",
      "_view_module_version": "1.5.0",
      "_view_name": "HTMLView",
      "description": "",
      "description_tooltip": null,
      "layout": "IPY_MODEL_7b153e8f11f848959a85045a5d20cdb8",
      "placeholder": "​",
      "style": "IPY_MODEL_f6bf393447dc4037a27e2072c7a6663b",
      "value": " 5/5 [00:01&lt;00:00,  4.09it/s]"
     }
    },
    "f6bf393447dc4037a27e2072c7a6663b": {
     "model_module": "@jupyter-widgets/controls",
     "model_module_version": "1.5.0",
     "model_name": "DescriptionStyleModel",
     "state": {
      "_model_module": "@jupyter-widgets/controls",
      "_model_module_version": "1.5.0",
      "_model_name": "DescriptionStyleModel",
      "_view_count": null,
      "_view_module": "@jupyter-widgets/base",
      "_view_module_version": "1.2.0",
      "_view_name": "StyleView",
      "description_width": ""
     }
    },
    "f7addeb82ddc44fc96259286bcead7fc": {
     "model_module": "@jupyter-widgets/controls",
     "model_module_version": "1.5.0",
     "model_name": "ProgressStyleModel",
     "state": {
      "_model_module": "@jupyter-widgets/controls",
      "_model_module_version": "1.5.0",
      "_model_name": "ProgressStyleModel",
      "_view_count": null,
      "_view_module": "@jupyter-widgets/base",
      "_view_module_version": "1.2.0",
      "_view_name": "StyleView",
      "bar_color": null,
      "description_width": ""
     }
    },
    "f89c03fb1a7145cbb20dbf9d453577a4": {
     "model_module": "@jupyter-widgets/controls",
     "model_module_version": "1.5.0",
     "model_name": "FloatProgressModel",
     "state": {
      "_dom_classes": [],
      "_model_module": "@jupyter-widgets/controls",
      "_model_module_version": "1.5.0",
      "_model_name": "FloatProgressModel",
      "_view_count": null,
      "_view_module": "@jupyter-widgets/controls",
      "_view_module_version": "1.5.0",
      "_view_name": "ProgressView",
      "bar_style": "",
      "description": "",
      "description_tooltip": null,
      "layout": "IPY_MODEL_a371022b96974e55a50d01c658daf414",
      "max": 5,
      "min": 0,
      "orientation": "horizontal",
      "style": "IPY_MODEL_2d9a20b13db74414bc4dd71da45926cd",
      "value": 5
     }
    },
    "f8a0869905c74c9198274545c38ecf93": {
     "model_module": "@jupyter-widgets/base",
     "model_module_version": "1.2.0",
     "model_name": "LayoutModel",
     "state": {
      "_model_module": "@jupyter-widgets/base",
      "_model_module_version": "1.2.0",
      "_model_name": "LayoutModel",
      "_view_count": null,
      "_view_module": "@jupyter-widgets/base",
      "_view_module_version": "1.2.0",
      "_view_name": "LayoutView",
      "align_content": null,
      "align_items": null,
      "align_self": null,
      "border": null,
      "bottom": null,
      "display": "inline-flex",
      "flex": null,
      "flex_flow": "row wrap",
      "grid_area": null,
      "grid_auto_columns": null,
      "grid_auto_flow": null,
      "grid_auto_rows": null,
      "grid_column": null,
      "grid_gap": null,
      "grid_row": null,
      "grid_template_areas": null,
      "grid_template_columns": null,
      "grid_template_rows": null,
      "height": null,
      "justify_content": null,
      "justify_items": null,
      "left": null,
      "margin": null,
      "max_height": null,
      "max_width": null,
      "min_height": null,
      "min_width": null,
      "object_fit": null,
      "object_position": null,
      "order": null,
      "overflow": null,
      "overflow_x": null,
      "overflow_y": null,
      "padding": null,
      "right": null,
      "top": null,
      "visibility": "hidden",
      "width": "100%"
     }
    },
    "f9e9fd00891146e68a950c02a5207dde": {
     "model_module": "@jupyter-widgets/controls",
     "model_module_version": "1.5.0",
     "model_name": "FloatProgressModel",
     "state": {
      "_dom_classes": [],
      "_model_module": "@jupyter-widgets/controls",
      "_model_module_version": "1.5.0",
      "_model_name": "FloatProgressModel",
      "_view_count": null,
      "_view_module": "@jupyter-widgets/controls",
      "_view_module_version": "1.5.0",
      "_view_name": "ProgressView",
      "bar_style": "",
      "description": "",
      "description_tooltip": null,
      "layout": "IPY_MODEL_e5c70b4231754277839b684ddfbd4199",
      "max": 5,
      "min": 0,
      "orientation": "horizontal",
      "style": "IPY_MODEL_80ae35e65d5b4625affa6a65ee75c18d",
      "value": 5
     }
    },
    "fa7e8af79c0e42fca678487abb38b44b": {
     "model_module": "@jupyter-widgets/base",
     "model_module_version": "1.2.0",
     "model_name": "LayoutModel",
     "state": {
      "_model_module": "@jupyter-widgets/base",
      "_model_module_version": "1.2.0",
      "_model_name": "LayoutModel",
      "_view_count": null,
      "_view_module": "@jupyter-widgets/base",
      "_view_module_version": "1.2.0",
      "_view_name": "LayoutView",
      "align_content": null,
      "align_items": null,
      "align_self": null,
      "border": null,
      "bottom": null,
      "display": "inline-flex",
      "flex": null,
      "flex_flow": "row wrap",
      "grid_area": null,
      "grid_auto_columns": null,
      "grid_auto_flow": null,
      "grid_auto_rows": null,
      "grid_column": null,
      "grid_gap": null,
      "grid_row": null,
      "grid_template_areas": null,
      "grid_template_columns": null,
      "grid_template_rows": null,
      "height": null,
      "justify_content": null,
      "justify_items": null,
      "left": null,
      "margin": null,
      "max_height": null,
      "max_width": null,
      "min_height": null,
      "min_width": null,
      "object_fit": null,
      "object_position": null,
      "order": null,
      "overflow": null,
      "overflow_x": null,
      "overflow_y": null,
      "padding": null,
      "right": null,
      "top": null,
      "visibility": "hidden",
      "width": "100%"
     }
    },
    "fac39d94dcf84d4fbfe62754e59f9964": {
     "model_module": "@jupyter-widgets/controls",
     "model_module_version": "1.5.0",
     "model_name": "HTMLModel",
     "state": {
      "_dom_classes": [],
      "_model_module": "@jupyter-widgets/controls",
      "_model_module_version": "1.5.0",
      "_model_name": "HTMLModel",
      "_view_count": null,
      "_view_module": "@jupyter-widgets/controls",
      "_view_module_version": "1.5.0",
      "_view_name": "HTMLView",
      "description": "",
      "description_tooltip": null,
      "layout": "IPY_MODEL_aa40217f94dd49ea9c7ea95770b15c7b",
      "placeholder": "​",
      "style": "IPY_MODEL_7541addcbfa549ebaa7db0580b0fd32a",
      "value": " 5/5 [00:01&lt;00:00,  3.86it/s]"
     }
    },
    "fae811e58a094e0d97a7117eca6e9ef9": {
     "model_module": "@jupyter-widgets/base",
     "model_module_version": "1.2.0",
     "model_name": "LayoutModel",
     "state": {
      "_model_module": "@jupyter-widgets/base",
      "_model_module_version": "1.2.0",
      "_model_name": "LayoutModel",
      "_view_count": null,
      "_view_module": "@jupyter-widgets/base",
      "_view_module_version": "1.2.0",
      "_view_name": "LayoutView",
      "align_content": null,
      "align_items": null,
      "align_self": null,
      "border": null,
      "bottom": null,
      "display": "inline-flex",
      "flex": null,
      "flex_flow": "row wrap",
      "grid_area": null,
      "grid_auto_columns": null,
      "grid_auto_flow": null,
      "grid_auto_rows": null,
      "grid_column": null,
      "grid_gap": null,
      "grid_row": null,
      "grid_template_areas": null,
      "grid_template_columns": null,
      "grid_template_rows": null,
      "height": null,
      "justify_content": null,
      "justify_items": null,
      "left": null,
      "margin": null,
      "max_height": null,
      "max_width": null,
      "min_height": null,
      "min_width": null,
      "object_fit": null,
      "object_position": null,
      "order": null,
      "overflow": null,
      "overflow_x": null,
      "overflow_y": null,
      "padding": null,
      "right": null,
      "top": null,
      "visibility": "hidden",
      "width": "100%"
     }
    },
    "fc61f7d5541f4a5c8ec1a36820e18155": {
     "model_module": "@jupyter-widgets/controls",
     "model_module_version": "1.5.0",
     "model_name": "HBoxModel",
     "state": {
      "_dom_classes": [],
      "_model_module": "@jupyter-widgets/controls",
      "_model_module_version": "1.5.0",
      "_model_name": "HBoxModel",
      "_view_count": null,
      "_view_module": "@jupyter-widgets/controls",
      "_view_module_version": "1.5.0",
      "_view_name": "HBoxView",
      "box_style": "",
      "children": [
       "IPY_MODEL_eb3ee1bdf8fc47f6a161dd3c42d83d47",
       "IPY_MODEL_2d02af2f77004d85b1a1610c3f155a55",
       "IPY_MODEL_cacc9f6639cf4f88bd752c688e443ca0"
      ],
      "layout": "IPY_MODEL_a6f32727bec14b29966e1961c3701653"
     }
    },
    "fc836cff85604fac876b151df28943e9": {
     "model_module": "@jupyter-widgets/base",
     "model_module_version": "1.2.0",
     "model_name": "LayoutModel",
     "state": {
      "_model_module": "@jupyter-widgets/base",
      "_model_module_version": "1.2.0",
      "_model_name": "LayoutModel",
      "_view_count": null,
      "_view_module": "@jupyter-widgets/base",
      "_view_module_version": "1.2.0",
      "_view_name": "LayoutView",
      "align_content": null,
      "align_items": null,
      "align_self": null,
      "border": null,
      "bottom": null,
      "display": "inline-flex",
      "flex": null,
      "flex_flow": "row wrap",
      "grid_area": null,
      "grid_auto_columns": null,
      "grid_auto_flow": null,
      "grid_auto_rows": null,
      "grid_column": null,
      "grid_gap": null,
      "grid_row": null,
      "grid_template_areas": null,
      "grid_template_columns": null,
      "grid_template_rows": null,
      "height": null,
      "justify_content": null,
      "justify_items": null,
      "left": null,
      "margin": null,
      "max_height": null,
      "max_width": null,
      "min_height": null,
      "min_width": null,
      "object_fit": null,
      "object_position": null,
      "order": null,
      "overflow": null,
      "overflow_x": null,
      "overflow_y": null,
      "padding": null,
      "right": null,
      "top": null,
      "visibility": "hidden",
      "width": "100%"
     }
    },
    "fc8dc3ef34354edf959d9e43b54f1aab": {
     "model_module": "@jupyter-widgets/controls",
     "model_module_version": "1.5.0",
     "model_name": "HTMLModel",
     "state": {
      "_dom_classes": [],
      "_model_module": "@jupyter-widgets/controls",
      "_model_module_version": "1.5.0",
      "_model_name": "HTMLModel",
      "_view_count": null,
      "_view_module": "@jupyter-widgets/controls",
      "_view_module_version": "1.5.0",
      "_view_name": "HTMLView",
      "description": "",
      "description_tooltip": null,
      "layout": "IPY_MODEL_6dda69ffd1374f5a93201337c8688cdd",
      "placeholder": "​",
      "style": "IPY_MODEL_9061bf230c0843c8943271e5e9290075",
      "value": " 5/5 [00:01&lt;00:00,  3.99it/s]"
     }
    },
    "fcb8995b63e045a39f70b49eb56ee8fe": {
     "model_module": "@jupyter-widgets/base",
     "model_module_version": "1.2.0",
     "model_name": "LayoutModel",
     "state": {
      "_model_module": "@jupyter-widgets/base",
      "_model_module_version": "1.2.0",
      "_model_name": "LayoutModel",
      "_view_count": null,
      "_view_module": "@jupyter-widgets/base",
      "_view_module_version": "1.2.0",
      "_view_name": "LayoutView",
      "align_content": null,
      "align_items": null,
      "align_self": null,
      "border": null,
      "bottom": null,
      "display": null,
      "flex": null,
      "flex_flow": null,
      "grid_area": null,
      "grid_auto_columns": null,
      "grid_auto_flow": null,
      "grid_auto_rows": null,
      "grid_column": null,
      "grid_gap": null,
      "grid_row": null,
      "grid_template_areas": null,
      "grid_template_columns": null,
      "grid_template_rows": null,
      "height": null,
      "justify_content": null,
      "justify_items": null,
      "left": null,
      "margin": null,
      "max_height": null,
      "max_width": null,
      "min_height": null,
      "min_width": null,
      "object_fit": null,
      "object_position": null,
      "order": null,
      "overflow": null,
      "overflow_x": null,
      "overflow_y": null,
      "padding": null,
      "right": null,
      "top": null,
      "visibility": null,
      "width": null
     }
    },
    "fd2667a33b17440b85425ce823dffbf6": {
     "model_module": "@jupyter-widgets/controls",
     "model_module_version": "1.5.0",
     "model_name": "HTMLModel",
     "state": {
      "_dom_classes": [],
      "_model_module": "@jupyter-widgets/controls",
      "_model_module_version": "1.5.0",
      "_model_name": "HTMLModel",
      "_view_count": null,
      "_view_module": "@jupyter-widgets/controls",
      "_view_module_version": "1.5.0",
      "_view_name": "HTMLView",
      "description": "",
      "description_tooltip": null,
      "layout": "IPY_MODEL_29b52eb7f7064e43a6b75a68defc56d9",
      "placeholder": "​",
      "style": "IPY_MODEL_b20f01117b0d4d178482e950b43f95e5",
      "value": "Validation DataLoader 0: 100%"
     }
    },
    "fdff95febae14c56a5e6fce8ee2953a8": {
     "model_module": "@jupyter-widgets/controls",
     "model_module_version": "1.5.0",
     "model_name": "HBoxModel",
     "state": {
      "_dom_classes": [],
      "_model_module": "@jupyter-widgets/controls",
      "_model_module_version": "1.5.0",
      "_model_name": "HBoxModel",
      "_view_count": null,
      "_view_module": "@jupyter-widgets/controls",
      "_view_module_version": "1.5.0",
      "_view_name": "HBoxView",
      "box_style": "",
      "children": [
       "IPY_MODEL_37e47d9a4f4e4320823c3a05d7d5cf38",
       "IPY_MODEL_367440c48a1b4ef6a38739d142170aa2",
       "IPY_MODEL_d1a75db46ebd4e809bb1ddffca3e172f"
      ],
      "layout": "IPY_MODEL_a5ac1afaec944e2a9aa925e27d2ea68b"
     }
    },
    "fe967ffeedd24e1f89083bdd6bfb6ee7": {
     "model_module": "@jupyter-widgets/base",
     "model_module_version": "1.2.0",
     "model_name": "LayoutModel",
     "state": {
      "_model_module": "@jupyter-widgets/base",
      "_model_module_version": "1.2.0",
      "_model_name": "LayoutModel",
      "_view_count": null,
      "_view_module": "@jupyter-widgets/base",
      "_view_module_version": "1.2.0",
      "_view_name": "LayoutView",
      "align_content": null,
      "align_items": null,
      "align_self": null,
      "border": null,
      "bottom": null,
      "display": null,
      "flex": null,
      "flex_flow": null,
      "grid_area": null,
      "grid_auto_columns": null,
      "grid_auto_flow": null,
      "grid_auto_rows": null,
      "grid_column": null,
      "grid_gap": null,
      "grid_row": null,
      "grid_template_areas": null,
      "grid_template_columns": null,
      "grid_template_rows": null,
      "height": null,
      "justify_content": null,
      "justify_items": null,
      "left": null,
      "margin": null,
      "max_height": null,
      "max_width": null,
      "min_height": null,
      "min_width": null,
      "object_fit": null,
      "object_position": null,
      "order": null,
      "overflow": null,
      "overflow_x": null,
      "overflow_y": null,
      "padding": null,
      "right": null,
      "top": null,
      "visibility": null,
      "width": null
     }
    },
    "ffd642d9e6574d08b7b8730f7a679b4a": {
     "model_module": "@jupyter-widgets/controls",
     "model_module_version": "1.5.0",
     "model_name": "HTMLModel",
     "state": {
      "_dom_classes": [],
      "_model_module": "@jupyter-widgets/controls",
      "_model_module_version": "1.5.0",
      "_model_name": "HTMLModel",
      "_view_count": null,
      "_view_module": "@jupyter-widgets/controls",
      "_view_module_version": "1.5.0",
      "_view_name": "HTMLView",
      "description": "",
      "description_tooltip": null,
      "layout": "IPY_MODEL_f5c7a06d3de84d79964dbd879322eec1",
      "placeholder": "​",
      "style": "IPY_MODEL_8a40a94723414315a15614275eeba7f1",
      "value": "Validation DataLoader 0: 100%"
     }
    }
   }
  }
 },
 "nbformat": 4,
 "nbformat_minor": 4
}
